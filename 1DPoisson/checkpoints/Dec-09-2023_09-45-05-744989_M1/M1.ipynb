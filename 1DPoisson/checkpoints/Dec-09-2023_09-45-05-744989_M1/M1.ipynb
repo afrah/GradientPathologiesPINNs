{
  "cells": [
    {
      "cell_type": "code",
      "execution_count": null,
      "metadata": {
        "colab": {
          "base_uri": "https://localhost:8080/"
        },
        "id": "OybZJApDYGsi",
        "outputId": "dc7cdffa-8613-42ee-86cc-0bc5000b2998"
      },
      "outputs": [],
      "source": [
        "# # Switch to tensorflow 1.x\n",
        "# %tensorflow_version 1.x"
      ]
    },
    {
      "cell_type": "code",
      "execution_count": 1,
      "metadata": {
        "id": "7WkCgnRiYQSY"
      },
      "outputs": [],
      "source": [
        "import tensorflow as tf\n",
        "from Compute_Jacobian import jacobian # Please download 'Compute_Jacobian.py' in the repository \n",
        "import numpy as np\n",
        "import timeit\n",
        "from scipy.interpolate import griddata\n",
        "import seaborn as sns\n",
        "import matplotlib.pyplot as plt\n",
        "import pandas as pd\n",
        "import os\n",
        "\n",
        "os.environ[\"KMP_WARNINGS\"] = \"FALSE\" \n",
        "import timeit\n",
        "\n",
        "import sys\n",
        "\n",
        "import scipy\n",
        "import scipy.io\n",
        "import time\n",
        "import logging\n",
        "\n",
        "import os.path\n",
        "import shutil\n",
        "from datetime import datetime\n",
        "import pickle\n"
      ]
    },
    {
      "cell_type": "code",
      "execution_count": 2,
      "metadata": {
        "id": "-y7cHTcJfBTR"
      },
      "outputs": [],
      "source": [
        "class Sampler:\n",
        "    # Initialize the class\n",
        "    def __init__(self, dim, coords, func, name=None):\n",
        "        self.dim = dim\n",
        "        self.coords = coords\n",
        "        self.func = func\n",
        "        self.name = name\n",
        "\n",
        "    def sample(self, N):\n",
        "        x = self.coords[0:1, :] + (self.coords[1:2, :] - self.coords[0:1, :]) * np.random.rand(N, self.dim)\n",
        "        y = self.func(x)\n",
        "        return x, y"
      ]
    },
    {
      "cell_type": "code",
      "execution_count": 3,
      "metadata": {
        "id": "SDqDWN3nfSAg"
      },
      "outputs": [],
      "source": [
        "class PINN:\n",
        "    def __init__(self, layers, X_u, Y_u, X_r, Y_r ,mode ,  sess):\n",
        "\n",
        "\n",
        "        self.mode = mode\n",
        "\n",
        "        self.dirname, logpath = self.make_output_dir()\n",
        "        self.logger = self.get_logger(logpath)     \n",
        "\n",
        "        self.mu_X, self.sigma_X = X_r.mean(0), X_r.std(0)\n",
        "        self.mu_x, self.sigma_x = self.mu_X[0], self.sigma_X[0]\n",
        "\n",
        "        # Normalize\n",
        "        self.X_u = (X_u - self.mu_X) / self.sigma_X\n",
        "        self.Y_u = Y_u\n",
        "        self.X_r = (X_r - self.mu_X) / self.sigma_X\n",
        "        self.Y_r = Y_r\n",
        "\n",
        "        # Initialize network weights and biases\n",
        "        self.layers = layers\n",
        "        self.weights, self.biases = self.initialize_NN(layers)\n",
        "            \n",
        "        # Define the size of the Kernel\n",
        "        self.kernel_size = X_u.shape[0]\n",
        "        # Define Tensorflow session\n",
        "        self.sess = sess# tf.Session(config=tf.ConfigProto(log_device_placement=False))\n",
        "\n",
        "        # Define placeholders and computational graph\n",
        "        self.x_u_tf = tf.placeholder(tf.float32, shape=(None, 1))\n",
        "        self.u_tf = tf.placeholder(tf.float32, shape=(None, 1))\n",
        "\n",
        "        self.x_bc_tf = tf.placeholder(tf.float32, shape=(None, 1))\n",
        "        self.u_bc_tf = tf.placeholder(tf.float32, shape=(None, 1))\n",
        "\n",
        "        self.x_r_tf = tf.placeholder(tf.float32, shape=(None, 1))\n",
        "        self.r_tf = tf.placeholder(tf.float32, shape=(None, 1))\n",
        "        \n",
        "        self.x_u_ntk_tf = tf.placeholder(tf.float32, shape=(self.kernel_size, 1))\n",
        "        self.x_r_ntk_tf = tf.placeholder(tf.float32, shape=(self.kernel_size, 1))\n",
        "\n",
        "\n",
        "        # Evaluate predictions\n",
        "        self.u_bc_pred = self.net_u(self.x_bc_tf)\n",
        "\n",
        "        self.u_pred = self.net_u(self.x_u_tf)\n",
        "        self.r_pred = self.net_r(self.x_r_tf)\n",
        "        \n",
        "        self.u_ntk_pred = self.net_u(self.x_u_ntk_tf)\n",
        "        self.r_ntk_pred = self.net_r(self.x_r_ntk_tf)\n",
        "     \n",
        "        # Boundary loss\n",
        "        self.loss_bcs = tf.reduce_mean(tf.square(self.u_bc_pred - self.u_bc_tf))\n",
        "\n",
        "        # Residual loss        \n",
        "        self.loss_res =  tf.reduce_mean(tf.square(self.r_tf - self.r_pred))\n",
        "        \n",
        "        # Total loss\n",
        "        self.loss = self.loss_res + 100 * self.loss_bcs\n",
        "\n",
        "        # Define optimizer with learning rate schedule\n",
        "        self.global_step = tf.Variable(0, trainable=False)\n",
        "        starter_learning_rate = 1e-5\n",
        "        self.learning_rate = tf.train.exponential_decay(starter_learning_rate, self.global_step, 1000, 0.9, staircase=False)\n",
        "        # Passing global_step to minimize() will increment it at each step.\n",
        "        # To compute NTK, it is better to use SGD optimizer\n",
        "        # since the corresponding gradient flow is not exactly same.\n",
        "        # self.train_op = tf.train.GradientDescentOptimizer(starter_learning_rate).minimize(self.loss)\n",
        "        self.train_op = tf.train.AdamOptimizer(self.learning_rate).minimize(self.loss, global_step=self.global_step)\n",
        "\n",
        "\n",
        "        \n",
        "        # Compute the Jacobian for weights and biases in each hidden layer  \n",
        "        self.J_u = self.compute_jacobian(self.u_ntk_pred) \n",
        "        self.J_r = self.compute_jacobian(self.r_ntk_pred)\n",
        "        \n",
        "        # The empirical NTK = J J^T, compute NTK of PINNs \n",
        "        self.K_uu = self.compute_ntk(self.J_u, self.x_u_ntk_tf, self.J_u, self.x_u_ntk_tf)\n",
        "        self.K_ur = self.compute_ntk(self.J_u, self.x_u_ntk_tf, self.J_r, self.x_r_ntk_tf)\n",
        "        self.K_rr = self.compute_ntk(self.J_r, self.x_r_ntk_tf, self.J_r, self.x_r_ntk_tf)\n",
        "        \n",
        "        # Logger\n",
        "        # Loss logger\n",
        "        self.loss_bcs_log = []\n",
        "        self.loss_res_log = []\n",
        "\n",
        "        # NTK logger \n",
        "        self.K_uu_log = []\n",
        "        self.K_rr_log = []\n",
        "        self.K_ur_log = []\n",
        "        \n",
        "        # Weights logger \n",
        "        self.weights_log = []\n",
        "        self.biases_log = []\n",
        "       # Gradients Storage\n",
        "\n",
        "\n",
        "\n",
        "        # Generate dicts for gradients storage\n",
        "        self.dict_gradients_res_layers = self.generate_grad_dict()\n",
        "        self.dict_gradients_bc_layers = self.generate_grad_dict()\n",
        "\n",
        "        self.grad_res = []\n",
        "        self.grad_bc = []\n",
        "        self.grad_bc_list = []\n",
        "\n",
        "        for i in range(len(self.layers) - 1):\n",
        "            self.grad_res.append(tf.gradients(self.loss_res, self.weights[i])[0])\n",
        "            self.grad_bc.append(tf.gradients(self.loss_bcs, self.weights[i])[0])\n",
        "\n",
        "        for i in range(len(self.layers) - 1):\n",
        "            self.grad_bc_list.append(tf.reduce_max(tf.abs(self.grad_res[i])) / tf.reduce_mean(tf.abs(self.grad_bc[i])))\n",
        "\n",
        "        self.adaptive_constant_bc = tf.reduce_max(tf.stack(self.grad_bc_list))\n",
        "\n",
        "        self.loss_tensor_list = [self.loss ,  self.loss_res,  self.loss_bcs] \n",
        "        self.loss_list = [\"total loss\" , \"loss_res\" , \"loss_bcs\"] \n",
        "\n",
        "        self.epoch_loss = dict.fromkeys(self.loss_list, 0)\n",
        "        self.loss_history = dict((loss, []) for loss in self.loss_list)\n",
        "        \n",
        "\n",
        "        # Initialize Tensorflow variables\n",
        "        init = tf.global_variables_initializer()\n",
        "\n",
        "        self.sess.run(init)\n",
        "        \n",
        "\n",
        "###############################################################################################################\n",
        "\n",
        "    def generate_grad_dict(self):\n",
        "        num = len(self.layers) - 1\n",
        "        grad_dict = {}\n",
        "        for i in range(num):\n",
        "            grad_dict['layer_{}'.format(i + 1)] = []\n",
        "        return grad_dict\n",
        "\n",
        "    # Xavier initialization\n",
        "    def xavier_init(self, size):\n",
        "        in_dim = size[0]\n",
        "        out_dim = size[1]\n",
        "        xavier_stddev = 1. / np.sqrt((in_dim + out_dim) / 2.)\n",
        "        return tf.Variable(tf.random.normal([in_dim, out_dim], dtype=tf.float32) * xavier_stddev,\n",
        "                           dtype=tf.float32)\n",
        "    \n",
        "    # NTK initialization\n",
        "    def NTK_init(self, size):\n",
        "        in_dim = size[0]\n",
        "        out_dim = size[1]\n",
        "        std = 1. / np.sqrt(in_dim)\n",
        "        return tf.Variable(tf.random.normal([in_dim, out_dim], dtype=tf.float32) * std,\n",
        "                           dtype=tf.float32)\n",
        "\n",
        "     # Initialize network weights and biases using Xavier initialization\n",
        "    def initialize_NN(self, layers):\n",
        "        weights = []\n",
        "        biases = []\n",
        "        num_layers = len(layers)\n",
        "        for l in range(0, num_layers - 1):\n",
        "            W = self.NTK_init(size=[layers[l], layers[l + 1]])\n",
        "            b = tf.Variable(tf.random.normal([1, layers[l + 1]], dtype=tf.float32), dtype=tf.float32)\n",
        "            weights.append(W)\n",
        "            biases.append(b)\n",
        "        return weights, biases\n",
        "\n",
        "    # Evaluates the forward pass\n",
        "    def forward_pass(self, H):\n",
        "        num_layers = len(self.layers)\n",
        "        for l in range(0, num_layers - 2):\n",
        "            W = self.weights[l]\n",
        "            b = self.biases[l]\n",
        "            H = tf.nn.tanh(tf.add(tf.matmul(H, W), b))\n",
        "        W = self.weights[-1]\n",
        "        b = self.biases[-1]\n",
        "        H = tf.add(tf.matmul(H, W), b)\n",
        "        return H\n",
        "\n",
        "    # Evaluates the PDE solution\n",
        "    def net_u(self, x):\n",
        "        u = self.forward_pass(x)\n",
        "        return u\n",
        "\n",
        "    # Forward pass for the residual\n",
        "    def net_r(self, x):\n",
        "        u = self.net_u(x)\n",
        "\n",
        "        u_x = tf.gradients(u, x)[0] / self.sigma_x\n",
        "        u_xx = tf.gradients(u_x, x)[0] / self.sigma_x\n",
        "\n",
        "        res_u = u_xx\n",
        "        return res_u\n",
        "    \n",
        "    # Compute Jacobian for each weights and biases in each layer and retrun a list \n",
        "    def compute_jacobian(self, f):\n",
        "        J_list =[]\n",
        "        L = len(self.weights)    \n",
        "        for i in range(L):\n",
        "            J_w = jacobian(f, self.weights[i])\n",
        "            J_list.append(J_w)\n",
        "     \n",
        "        for i in range(L):\n",
        "            J_b = jacobian(f, self.biases[i])\n",
        "            J_list.append(J_b)\n",
        "        return J_list\n",
        "    \n",
        "    # Compute the empirical NTK = J J^T\n",
        "    def compute_ntk(self, J1_list, x1, J2_list, x2):\n",
        "        D = x1.shape[0]\n",
        "        N = len(J1_list)\n",
        "        \n",
        "        Ker = tf.zeros((D,D))\n",
        "        for k in range(N):\n",
        "            J1 = tf.reshape(J1_list[k], shape=(D,-1))\n",
        "            J2 = tf.reshape(J2_list[k], shape=(D,-1))\n",
        "            \n",
        "            K = tf.matmul(J1, tf.transpose(J2))\n",
        "            Ker = Ker + K\n",
        "        return Ker\n",
        "            \n",
        "    # Trains the model by minimizing the MSE loss\n",
        "    def trainmb(self, nIter=10000, batch_size=128, log_NTK=True, log_weights=True):\n",
        "\n",
        "\n",
        "        itValues = [1,100,1000,39999]\n",
        "        start_time = timeit.default_timer()\n",
        "        for it in range(nIter):\n",
        "            # Fetch boundary mini-batches\n",
        "            # Define a dictionary for associating placeholders with data\n",
        "            tf_dict = {self.x_bc_tf: self.X_u, self.u_bc_tf: self.Y_u,\n",
        "                       self.x_u_tf: self.X_u, self.x_r_tf: self.X_r,\n",
        "                       self.r_tf: self.Y_r\n",
        "                       }\n",
        "        \n",
        "            # Run the Tensorflow session to minimize the loss\n",
        "            _, batch_losses = self.sess.run([self.train_op, self.loss_tensor_list] ,tf_dict)\n",
        "\n",
        "            # self.print\n",
        "            if it % 100 == 0:\n",
        "                elapsed = timeit.default_timer() - start_time\n",
        "                loss_value = self.sess.run(self.loss, tf_dict)\n",
        "                loss_bcs_value, loss_res_value = self.sess.run([self.loss_bcs, self.loss_res], tf_dict)\n",
        "                self.loss_bcs_log.append(loss_bcs_value)\n",
        "                self.loss_res_log.append(loss_res_value)\n",
        "\n",
        "                self.print('It: %d, Loss: %.3e, Loss_bcs: %.3e, Loss_res: %.3e ,Time: %.2f' %  (it, loss_value, loss_bcs_value, loss_res_value, elapsed))\n",
        "                \n",
        "            if log_NTK:\n",
        "                # provide x, x' for NTK\n",
        "                if it % 100 == 0:\n",
        "\n",
        "                    adaptive_constant_bc = self.sess.run([self.adaptive_constant_bc],  tf_dict)\n",
        "                    print(adaptive_constant_bc[0])\n",
        "                   \n",
        "                    self.print(\"Compute NTK...\")\n",
        "                    tf_dict2 = {self.x_u_ntk_tf: self.X_u, \n",
        "                               self.x_r_ntk_tf: self.X_r\n",
        "                               }\n",
        "                    K_uu_value, K_ur_value, K_rr_value = self.sess.run([self.K_uu,  self.K_ur,  self.K_rr], tf_dict2)\n",
        "                    self.K_uu_log.append(K_uu_value)\n",
        "                    self.K_ur_log.append(K_ur_value)\n",
        "                    self.K_rr_log.append(K_rr_value)\n",
        "            start_time = timeit.default_timer()\n",
        "\n",
        "            if it in itValues:\n",
        "                    self.plot_layerLoss(tf_dict , it)\n",
        "                    self.print(\"Gradients information stored ...\")\n",
        "\n",
        "            sys.stdout.flush()\n",
        "            self.assign_batch_losses(batch_losses)\n",
        "            for key in self.loss_history:\n",
        "                self.loss_history[key].append(self.epoch_loss[key])\n",
        "            \n",
        "    # Evaluates predictions at test points\n",
        "    def predict_u(self, X_star):\n",
        "        X_star = (X_star - self.mu_X) / self.sigma_X\n",
        "        tf_dict = {self.x_u_tf: X_star}\n",
        "        u_star = self.sess.run(self.u_pred, tf_dict)\n",
        "        return u_star\n",
        "\n",
        "    # Evaluates predictions at test points\n",
        "    def predict_r(self, X_star):\n",
        "        X_star = (X_star - self.mu_X) / self.sigma_X\n",
        "        tf_dict = {self.x_r_tf: X_star}\n",
        "        r_star = self.sess.run(self.r_pred, tf_dict)\n",
        "        return r_star\n",
        " ############################################################\n",
        "\n",
        "    def assign_batch_losses(self, batch_losses):\n",
        "        for loss_values, key in zip(batch_losses, self.epoch_loss):\n",
        "            self.epoch_loss[key] = loss_values\n",
        "\n",
        "  ############################################################\n",
        "###################################################################################################################\n",
        "\n",
        "\n",
        "    def plot_layerLoss(self , tf_dict , epoch):\n",
        "        ## Gradients #\n",
        "        num_layers = len(self.layers)\n",
        "        for i in range(num_layers - 1):\n",
        "            grad_res, grad_bc  = self.sess.run([ self.grad_res[i],self.grad_bc[i]], feed_dict=tf_dict)\n",
        "\n",
        "            # save gradients of loss_r and loss_u\n",
        "            self.dict_gradients_res_layers['layer_' + str(i + 1)].append(grad_res.flatten())\n",
        "            self.dict_gradients_bc_layers['layer_' + str(i + 1)].append(grad_bc.flatten())\n",
        "\n",
        "        num_hidden_layers = num_layers -1\n",
        "        cnt = 1\n",
        "        fig = plt.figure(4, figsize=(13, 4))\n",
        "        for j in range(num_hidden_layers):\n",
        "            ax = plt.subplot(1, num_hidden_layers, cnt)\n",
        "            ax.set_title('Layer {}'.format(j + 1))\n",
        "            ax.set_yscale('symlog')\n",
        "            gradients_res = self.dict_gradients_res_layers['layer_' + str(j + 1)][-1]\n",
        "            gradients_bc = self.dict_gradients_bc_layers['layer_' + str(j + 1)][-1]\n",
        "\n",
        "            sns.distplot(gradients_res, hist=False,kde_kws={\"shade\": False},norm_hist=True,  label=r'$\\nabla_\\theta \\mathcal{L}_r$')\n",
        "\n",
        "            sns.distplot(gradients_bc, hist=False,kde_kws={\"shade\": False},norm_hist=True,   label=r'$\\nabla_\\theta \\mathcal{L}_{u_{bc}}$')\n",
        "\n",
        "            #ax.get_legend().remove()\n",
        "            ax.set_xlim([-1.0, 1.0])\n",
        "            #ax.set_ylim([0, 150])\n",
        "            cnt += 1\n",
        "        handles, labels = ax.get_legend_handles_labels()\n",
        "\n",
        "        fig.legend(handles, labels, loc=\"center\",  bbox_to_anchor=(0.5, -0.03),borderaxespad=0,bbox_transform=fig.transFigure, ncol=2)\n",
        "        text = 'layerLoss_epoch' + str(epoch) +'.png'\n",
        "        plt.savefig(os.path.join(self.dirname,text) , bbox_inches='tight')\n",
        "        plt.close(\"all\")\n",
        "\n",
        "    # #########################\n",
        "    # def make_output_dir(self):\n",
        "        \n",
        "    #     if not os.path.exists(\"/okyanus/users/afarea/PINN/Adaptive_PINN/IB_PINN/checkpoints\"):\n",
        "    #         os.mkdir(\"/okyanus/users/afarea/PINN/Adaptive_PINN/IB_PINN/checkpoints\")\n",
        "    #     dirname = os.path.join(\"/okyanus/users/afarea/PINN/Adaptive_PINN/IB_PINN/checkpoints\", datetime.now().strftime(\"%b-%d-%Y_%H-%M-%S-%f_\") + self.mode)\n",
        "    #     os.mkdir(dirname)\n",
        "    #     text = 'output.log'\n",
        "    #     logpath = os.path.join(dirname, text)\n",
        "    #     shutil.copyfile('/okyanus/users/afarea/PINN/Adaptive_PINN/IB_PINN/M2.py', os.path.join(dirname, 'M2.py'))\n",
        "\n",
        "    #     return dirname, logpath\n",
        "    \n",
        "    # # ###########################################################\n",
        "    def make_output_dir(self):\n",
        "        \n",
        "        if not os.path.exists(\"checkpoints\"):\n",
        "            os.mkdir(\"checkpoints\")\n",
        "        dirname = os.path.join(\"checkpoints\", datetime.now().strftime(\"%b-%d-%Y_%H-%M-%S-%f_\") + self.mode)\n",
        "        os.mkdir(dirname)\n",
        "        text = 'output.log'\n",
        "        logpath = os.path.join(dirname, text)\n",
        "        shutil.copyfile('M1.ipynb', os.path.join(dirname, 'M1.ipynb'))\n",
        "        return dirname, logpath\n",
        "    \n",
        "\n",
        "    def get_logger(self, logpath):\n",
        "        logger = logging.getLogger(__name__)\n",
        "        logger.setLevel(logging.DEBUG)\n",
        "        sh = logging.StreamHandler()\n",
        "        sh.setLevel(logging.DEBUG)        \n",
        "        sh.setFormatter(logging.Formatter('%(message)s'))\n",
        "        fh = logging.FileHandler(logpath)\n",
        "        logger.addHandler(sh)\n",
        "        logger.addHandler(fh)\n",
        "        return logger\n",
        "    \n",
        "    def print(self, *args):\n",
        "        for word in args:\n",
        "            if len(args) == 1:\n",
        "                self.logger.info(word)\n",
        "            elif word != args[-1]:\n",
        "                for handler in self.logger.handlers:\n",
        "                    handler.terminator = \"\"\n",
        "                if type(word) == float or type(word) == np.float64 or type(word) == np.float32: \n",
        "                    self.logger.info(\"%.4e\" % (word))\n",
        "                else:\n",
        "                    self.logger.info(word)\n",
        "            else:\n",
        "                for handler in self.logger.handlers:\n",
        "                    handler.terminator = \"\\n\"\n",
        "                if type(word) == float or type(word) == np.float64 or type(word) == np.float32:\n",
        "                    self.logger.info(\"%.4e\" % (word))\n",
        "                else:\n",
        "                    self.logger.info(word)\n",
        "\n",
        "\n",
        "    def plot_loss_history(self , path):\n",
        "\n",
        "        fig, ax = plt.subplots()\n",
        "        fig.set_size_inches([15,8])\n",
        "        for key in self.loss_history:\n",
        "            self.print(\"Final loss %s: %e\" % (key, self.loss_history[key][-1]))\n",
        "            ax.semilogy(self.loss_history[key], label=key)\n",
        "        ax.set_xlabel(\"epochs\", fontsize=15)\n",
        "        ax.set_ylabel(\"loss\", fontsize=15)\n",
        "        ax.tick_params(labelsize=15)\n",
        "        ax.legend()\n",
        "        plt.savefig(path)\n",
        "        #plt.show()\n",
        "       #######################\n",
        "    def save_NN(self):\n",
        "\n",
        "        uv_weights = self.sess.run(self.weights)\n",
        "        uv_biases = self.sess.run(self.biases)\n",
        "\n",
        "        with open(os.path.join(self.dirname,'model.pickle'), 'wb') as f:\n",
        "            pickle.dump([uv_weights, uv_biases], f)\n",
        "            self.print(\"Save uv NN parameters successfully in %s ...\" , self.dirname)\n",
        "\n",
        "        # with open(os.path.join(self.dirname,'loss_history_BFS.pickle'), 'wb') as f:\n",
        "        #     pickle.dump(self.loss_rec, f)\n",
        "        with open(os.path.join(self.dirname,'loss_history_BFS.png'), 'wb') as f:\n",
        "            self.plot_loss_history(f)\n",
        "\n",
        "        return self.dirname\n",
        "    \n",
        "    def plot_ntk(self):\n",
        "        # Create empty lists for storing the eigenvalues of NTK\n",
        "        lambda_K_log = []\n",
        "        lambda_K_uu_log = []\n",
        "        lambda_K_ur_log = []\n",
        "        lambda_K_rr_log = []\n",
        "\n",
        "        # Restore the NTK\n",
        "        K_uu_list = self.K_uu_log\n",
        "        K_ur_list = self.K_ur_log\n",
        "        K_rr_list = self.K_rr_log\n",
        "        K_list = []\n",
        "            \n",
        "        for k in range(len(K_uu_list)):\n",
        "            K_uu = K_uu_list[k]\n",
        "            K_ur = K_ur_list[k]\n",
        "            K_rr = K_rr_list[k]\n",
        "            \n",
        "            K = np.concatenate([np.concatenate([K_uu, K_ur], axis = 1), np.concatenate([K_ur.T, K_rr], axis = 1)], axis = 0)\n",
        "            K_list.append(K)\n",
        "\n",
        "            # Compute eigenvalues\n",
        "            lambda_K, _ = np.linalg.eig(K)\n",
        "            lambda_K_uu, _ = np.linalg.eig(K_uu)\n",
        "            lambda_K_rr, _ = np.linalg.eig(K_rr)\n",
        "            \n",
        "            # Sort in descresing order\n",
        "            lambda_K = np.sort(np.real(lambda_K))[::-1]\n",
        "            lambda_K_uu = np.sort(np.real(lambda_K_uu))[::-1]\n",
        "            lambda_K_rr = np.sort(np.real(lambda_K_rr))[::-1]\n",
        "            \n",
        "            # Store eigenvalues\n",
        "            lambda_K_log.append(lambda_K)\n",
        "            lambda_K_uu_log.append(lambda_K_uu)\n",
        "            lambda_K_rr_log.append(lambda_K_rr)\n",
        "        fig = plt.figure(figsize=(18, 5))\n",
        "        plt.subplot(1,3,1)\n",
        "        for i in range(1, len(lambda_K_log), 10):\n",
        "            plt.plot(lambda_K_log[i], '--')\n",
        "        plt.xscale('log')\n",
        "        plt.yscale('log')\n",
        "        plt.title(r'Eigenvalues of ${K}$')\n",
        "        plt.tight_layout()\n",
        "\n",
        "        plt.subplot(1,3,2)\n",
        "        for i in range(1, len(lambda_K_uu_log), 10):\n",
        "            plt.plot(lambda_K_uu_log[i], '--')\n",
        "        plt.xscale('log')\n",
        "        plt.yscale('log')\n",
        "        plt.title(r'Eigenvalues of ${K}_{uu}$')\n",
        "        plt.tight_layout()\n",
        "\n",
        "        plt.subplot(1,3,3)\n",
        "        for i in range(1, len(lambda_K_log), 10):\n",
        "            plt.plot(lambda_K_rr_log[i], '--')\n",
        "        plt.xscale('log')\n",
        "        plt.yscale('log')\n",
        "        plt.title(r'Eigenvalues of ${K}_{rr}$')\n",
        "        plt.tight_layout()\n",
        "        plt.savefig(os.path.join(self.dirname,\"ntk.png\"))\n",
        "        plt.close(\"all\")\n",
        "\n",
        "    def plt_prediction(self , X_star , u_star , u_pred):\n",
        "        fig = plt.figure(figsize=(12, 5))\n",
        "        plt.subplot(1,2,1)\n",
        "        plt.plot(X_star, u_star, label='Exact')\n",
        "        plt.plot(X_star, u_pred, '--', label='Predicted')\n",
        "        plt.xlabel('$x$')\n",
        "        plt.ylabel('$y$')\n",
        "        plt.legend(loc='upper right')\n",
        "\n",
        "        plt.subplot(1,2,2)\n",
        "        plt.plot(X_star, np.abs(u_star - u_pred), label='Error')\n",
        "        plt.yscale('log')\n",
        "        plt.xlabel('$x$')\n",
        "        plt.ylabel('Point-wise error')\n",
        "        plt.tight_layout()\n",
        "        plt.savefig(os.path.join(self.dirname,\"prediction.png\"))\n",
        "        plt.close(\"all\")\n"
      ]
    },
    {
      "cell_type": "code",
      "execution_count": null,
      "metadata": {},
      "outputs": [],
      "source": []
    },
    {
      "cell_type": "code",
      "execution_count": 4,
      "metadata": {
        "id": "FN1jEdRwY90i"
      },
      "outputs": [],
      "source": [
        "# Define solution and its Laplace\n",
        "a = 4\n",
        "\n",
        "def u(x, a):\n",
        "  return np.sin(np.pi * a * x)\n",
        "\n",
        "def u_xx(x, a):\n",
        "  return -(np.pi * a)**2 * np.sin(np.pi * a * x)"
      ]
    },
    {
      "cell_type": "code",
      "execution_count": 5,
      "metadata": {},
      "outputs": [],
      "source": [
        "#test_method(mtd , layers,  X_u, Y_u, X_r, Y_r ,  X_star , u_star , r_star  , nIter ,batch_size , bcbatch_size , ubatch_size)\n",
        "def test_method(method , layers,  X_u, Y_u, X_r, Y_r , X_star , u_star , r_star , nIter ,mbbatch_size , bcbatch_size , ubatch_size , mode):\n",
        "\n",
        "\n",
        "    gpu_options = tf.GPUOptions(visible_device_list=\"0\")\n",
        "    tf.reset_default_graph()\n",
        "    with tf.Session(config=tf.ConfigProto(gpu_options=gpu_options,allow_soft_placement=False, log_device_placement=False)) as sess:\n",
        "        # sess.run(init)\n",
        "\n",
        "        model = PINN(layers, X_u, Y_u, X_r, Y_r , mode , sess)    \n",
        "\n",
        "        # Train model\n",
        "        start_time = time.time()\n",
        "\n",
        "        if method ==\"full_batch\":\n",
        "            print(\"full_batch method is used\")\n",
        "            model.train(nIter  , bcbatch_size , ubatch_size  )\n",
        "        elif method ==\"mini_batch\":\n",
        "            print(\"mini_batch method is used\")\n",
        "            model.trainmb(nIter, mbbatch_size)\n",
        "        else:\n",
        "            print(\"unknown method!\")\n",
        "        elapsed = time.time() - start_time\n",
        "\n",
        "        # Predictions\n",
        "        u_pred = model.predict_u(X_star)\n",
        "        r_pred = model.predict_r(X_star)\n",
        "        # Predictions\n",
        "\n",
        "        sess.close()   \n",
        "\n",
        "    error_u = np.linalg.norm(u_star - u_pred, 2) / np.linalg.norm(u_star, 2)\n",
        "    error_r = np.linalg.norm(r_star - r_pred, 2) / np.linalg.norm(r_star, 2)\n",
        "\n",
        "    print('elapsed: {:.2e}'.format(elapsed))\n",
        "\n",
        "    print('Relative L2 error_u: {:.2e}'.format(error_u))\n",
        "    print('Relative L2 error_r: {:.2e}'.format(error_r))\n",
        "\n",
        "\n",
        "    return [elapsed, error_u , error_r ]\n",
        "\n"
      ]
    },
    {
      "cell_type": "code",
      "execution_count": 6,
      "metadata": {},
      "outputs": [
        {
          "name": "stdout",
          "output_type": "stream",
          "text": [
            "Method:  mini_batch\n",
            "Epoch:  1\n",
            "WARNING:tensorflow:From /tmp/ipykernel_31592/657240385.py:52: The name tf.GPUOptions is deprecated. Please use tf.compat.v1.GPUOptions instead.\n",
            "\n",
            "WARNING:tensorflow:From /tmp/ipykernel_31592/657240385.py:53: The name tf.reset_default_graph is deprecated. Please use tf.compat.v1.reset_default_graph instead.\n",
            "\n",
            "WARNING:tensorflow:From /tmp/ipykernel_31592/657240385.py:54: The name tf.Session is deprecated. Please use tf.compat.v1.Session instead.\n",
            "\n",
            "WARNING:tensorflow:From /tmp/ipykernel_31592/657240385.py:54: The name tf.ConfigProto is deprecated. Please use tf.compat.v1.ConfigProto instead.\n",
            "\n",
            "WARNING:tensorflow:From /tmp/ipykernel_31592/178492843.py:29: The name tf.placeholder is deprecated. Please use tf.compat.v1.placeholder instead.\n",
            "\n",
            "WARNING:tensorflow:From /tmp/ipykernel_31592/178492843.py:63: The name tf.train.exponential_decay is deprecated. Please use tf.compat.v1.train.exponential_decay instead.\n",
            "\n",
            "WARNING:tensorflow:From /tmp/ipykernel_31592/178492843.py:68: The name tf.train.AdamOptimizer is deprecated. Please use tf.compat.v1.train.AdamOptimizer instead.\n",
            "\n"
          ]
        },
        {
          "name": "stderr",
          "output_type": "stream",
          "text": [
            "2023-12-09 00:49:01.299688: I tensorflow/core/platform/cpu_feature_guard.cc:145] This TensorFlow binary is optimized with Intel(R) MKL-DNN to use the following CPU instructions in performance critical operations:  SSE4.1 SSE4.2 AVX AVX2 FMA\n",
            "To enable them in non-MKL-DNN operations, rebuild TensorFlow with the appropriate compiler flags.\n",
            "2023-12-09 00:49:01.322018: I tensorflow/core/platform/profile_utils/cpu_utils.cc:94] CPU Frequency: 2899885000 Hz\n",
            "2023-12-09 00:49:01.322510: I tensorflow/compiler/xla/service/service.cc:168] XLA service 0x56436e5c9bc0 initialized for platform Host (this does not guarantee that XLA will be used). Devices:\n",
            "2023-12-09 00:49:01.322523: I tensorflow/compiler/xla/service/service.cc:176]   StreamExecutor device (0): Host, Default Version\n",
            "2023-12-09 00:49:01.323164: I tensorflow/core/common_runtime/process_util.cc:115] Creating new thread pool with default inter op setting: 2. Tune using inter_op_parallelism_threads for best performance.\n"
          ]
        },
        {
          "name": "stdout",
          "output_type": "stream",
          "text": [
            "WARNING:tensorflow:From /tmp/ipykernel_31592/178492843.py:123: The name tf.global_variables_initializer is deprecated. Please use tf.compat.v1.global_variables_initializer instead.\n",
            "\n",
            "mini_batch method is used\n"
          ]
        },
        {
          "name": "stderr",
          "output_type": "stream",
          "text": [
            "It: 0, Loss: 1.237e+04, Loss_bcs: 4.156e+00, Loss_res: 1.196e+04 ,Time: 0.34\n",
            "Compute NTK...\n"
          ]
        },
        {
          "name": "stdout",
          "output_type": "stream",
          "text": [
            "5480.671\n"
          ]
        },
        {
          "name": "stderr",
          "output_type": "stream",
          "text": [
            "/home/afrah2/anaconda3/envs/twoPhase/lib/python3.7/site-packages/seaborn/distributions.py:2619: FutureWarning: `distplot` is a deprecated function and will be removed in a future version. Please adapt your code to use either `displot` (a figure-level function with similar flexibility) or `kdeplot` (an axes-level function for kernel density plots).\n",
            "  warnings.warn(msg, FutureWarning)\n",
            "/home/afrah2/anaconda3/envs/twoPhase/lib/python3.7/site-packages/seaborn/distributions.py:2619: FutureWarning: `distplot` is a deprecated function and will be removed in a future version. Please adapt your code to use either `displot` (a figure-level function with similar flexibility) or `kdeplot` (an axes-level function for kernel density plots).\n",
            "  warnings.warn(msg, FutureWarning)\n",
            "/home/afrah2/anaconda3/envs/twoPhase/lib/python3.7/site-packages/seaborn/distributions.py:2619: FutureWarning: `distplot` is a deprecated function and will be removed in a future version. Please adapt your code to use either `displot` (a figure-level function with similar flexibility) or `kdeplot` (an axes-level function for kernel density plots).\n",
            "  warnings.warn(msg, FutureWarning)\n",
            "/home/afrah2/anaconda3/envs/twoPhase/lib/python3.7/site-packages/seaborn/distributions.py:2619: FutureWarning: `distplot` is a deprecated function and will be removed in a future version. Please adapt your code to use either `displot` (a figure-level function with similar flexibility) or `kdeplot` (an axes-level function for kernel density plots).\n",
            "  warnings.warn(msg, FutureWarning)\n",
            "Gradients information stored ...\n",
            "It: 100, Loss: 1.211e+04, Loss_bcs: 3.571e+00, Loss_res: 1.175e+04 ,Time: 0.00\n",
            "Compute NTK...\n",
            "/home/afrah2/anaconda3/envs/twoPhase/lib/python3.7/site-packages/seaborn/distributions.py:2619: FutureWarning: `distplot` is a deprecated function and will be removed in a future version. Please adapt your code to use either `displot` (a figure-level function with similar flexibility) or `kdeplot` (an axes-level function for kernel density plots).\n",
            "  warnings.warn(msg, FutureWarning)\n",
            "/home/afrah2/anaconda3/envs/twoPhase/lib/python3.7/site-packages/seaborn/distributions.py:2619: FutureWarning: `distplot` is a deprecated function and will be removed in a future version. Please adapt your code to use either `displot` (a figure-level function with similar flexibility) or `kdeplot` (an axes-level function for kernel density plots).\n",
            "  warnings.warn(msg, FutureWarning)\n",
            "/home/afrah2/anaconda3/envs/twoPhase/lib/python3.7/site-packages/seaborn/distributions.py:2619: FutureWarning: `distplot` is a deprecated function and will be removed in a future version. Please adapt your code to use either `displot` (a figure-level function with similar flexibility) or `kdeplot` (an axes-level function for kernel density plots).\n",
            "  warnings.warn(msg, FutureWarning)\n",
            "/home/afrah2/anaconda3/envs/twoPhase/lib/python3.7/site-packages/seaborn/distributions.py:2619: FutureWarning: `distplot` is a deprecated function and will be removed in a future version. Please adapt your code to use either `displot` (a figure-level function with similar flexibility) or `kdeplot` (an axes-level function for kernel density plots).\n",
            "  warnings.warn(msg, FutureWarning)\n"
          ]
        },
        {
          "name": "stdout",
          "output_type": "stream",
          "text": [
            "5850.436\n"
          ]
        },
        {
          "name": "stderr",
          "output_type": "stream",
          "text": [
            "Gradients information stored ...\n",
            "It: 200, Loss: 1.186e+04, Loss_bcs: 3.064e+00, Loss_res: 1.155e+04 ,Time: 0.00\n",
            "Compute NTK...\n"
          ]
        },
        {
          "name": "stdout",
          "output_type": "stream",
          "text": [
            "6244.0405\n"
          ]
        },
        {
          "name": "stderr",
          "output_type": "stream",
          "text": [
            "It: 300, Loss: 1.162e+04, Loss_bcs: 2.624e+00, Loss_res: 1.136e+04 ,Time: 0.00\n",
            "Compute NTK...\n"
          ]
        },
        {
          "name": "stdout",
          "output_type": "stream",
          "text": [
            "6771.3643\n"
          ]
        },
        {
          "name": "stderr",
          "output_type": "stream",
          "text": [
            "It: 400, Loss: 1.139e+04, Loss_bcs: 2.245e+00, Loss_res: 1.117e+04 ,Time: 0.00\n",
            "Compute NTK...\n"
          ]
        },
        {
          "name": "stdout",
          "output_type": "stream",
          "text": [
            "7344.762\n"
          ]
        },
        {
          "name": "stderr",
          "output_type": "stream",
          "text": [
            "It: 500, Loss: 1.117e+04, Loss_bcs: 1.918e+00, Loss_res: 1.098e+04 ,Time: 0.00\n",
            "Compute NTK...\n"
          ]
        },
        {
          "name": "stdout",
          "output_type": "stream",
          "text": [
            "7952.1187\n"
          ]
        },
        {
          "name": "stderr",
          "output_type": "stream",
          "text": [
            "It: 600, Loss: 1.096e+04, Loss_bcs: 1.638e+00, Loss_res: 1.080e+04 ,Time: 0.00\n",
            "Compute NTK...\n"
          ]
        },
        {
          "name": "stdout",
          "output_type": "stream",
          "text": [
            "8591.395\n"
          ]
        },
        {
          "name": "stderr",
          "output_type": "stream",
          "text": [
            "It: 700, Loss: 1.076e+04, Loss_bcs: 1.400e+00, Loss_res: 1.062e+04 ,Time: 0.00\n",
            "Compute NTK...\n"
          ]
        },
        {
          "name": "stdout",
          "output_type": "stream",
          "text": [
            "9196.676\n"
          ]
        },
        {
          "name": "stderr",
          "output_type": "stream",
          "text": [
            "It: 800, Loss: 1.057e+04, Loss_bcs: 1.197e+00, Loss_res: 1.045e+04 ,Time: 0.00\n",
            "Compute NTK...\n"
          ]
        },
        {
          "name": "stdout",
          "output_type": "stream",
          "text": [
            "9720.394\n"
          ]
        },
        {
          "name": "stderr",
          "output_type": "stream",
          "text": [
            "It: 900, Loss: 1.038e+04, Loss_bcs: 1.026e+00, Loss_res: 1.028e+04 ,Time: 0.00\n",
            "Compute NTK...\n"
          ]
        },
        {
          "name": "stdout",
          "output_type": "stream",
          "text": [
            "10211.592\n"
          ]
        },
        {
          "name": "stderr",
          "output_type": "stream",
          "text": [
            "It: 1000, Loss: 1.021e+04, Loss_bcs: 8.823e-01, Loss_res: 1.012e+04 ,Time: 0.00\n",
            "Compute NTK...\n"
          ]
        },
        {
          "name": "stdout",
          "output_type": "stream",
          "text": [
            "10666.778\n"
          ]
        },
        {
          "name": "stderr",
          "output_type": "stream",
          "text": [
            "/home/afrah2/anaconda3/envs/twoPhase/lib/python3.7/site-packages/seaborn/distributions.py:2619: FutureWarning: `distplot` is a deprecated function and will be removed in a future version. Please adapt your code to use either `displot` (a figure-level function with similar flexibility) or `kdeplot` (an axes-level function for kernel density plots).\n",
            "  warnings.warn(msg, FutureWarning)\n",
            "/home/afrah2/anaconda3/envs/twoPhase/lib/python3.7/site-packages/seaborn/distributions.py:2619: FutureWarning: `distplot` is a deprecated function and will be removed in a future version. Please adapt your code to use either `displot` (a figure-level function with similar flexibility) or `kdeplot` (an axes-level function for kernel density plots).\n",
            "  warnings.warn(msg, FutureWarning)\n",
            "/home/afrah2/anaconda3/envs/twoPhase/lib/python3.7/site-packages/seaborn/distributions.py:2619: FutureWarning: `distplot` is a deprecated function and will be removed in a future version. Please adapt your code to use either `displot` (a figure-level function with similar flexibility) or `kdeplot` (an axes-level function for kernel density plots).\n",
            "  warnings.warn(msg, FutureWarning)\n",
            "/home/afrah2/anaconda3/envs/twoPhase/lib/python3.7/site-packages/seaborn/distributions.py:2619: FutureWarning: `distplot` is a deprecated function and will be removed in a future version. Please adapt your code to use either `displot` (a figure-level function with similar flexibility) or `kdeplot` (an axes-level function for kernel density plots).\n",
            "  warnings.warn(msg, FutureWarning)\n",
            "Gradients information stored ...\n",
            "It: 1100, Loss: 1.003e+04, Loss_bcs: 7.626e-01, Loss_res: 9.956e+03 ,Time: 0.00\n",
            "Compute NTK...\n"
          ]
        },
        {
          "name": "stdout",
          "output_type": "stream",
          "text": [
            "11046.202\n"
          ]
        },
        {
          "name": "stderr",
          "output_type": "stream",
          "text": [
            "It: 1200, Loss: 9.865e+03, Loss_bcs: 6.636e-01, Loss_res: 9.799e+03 ,Time: 0.00\n",
            "Compute NTK...\n"
          ]
        },
        {
          "name": "stdout",
          "output_type": "stream",
          "text": [
            "11345.791\n"
          ]
        },
        {
          "name": "stderr",
          "output_type": "stream",
          "text": [
            "It: 1300, Loss: 9.704e+03, Loss_bcs: 5.824e-01, Loss_res: 9.645e+03 ,Time: 0.00\n",
            "Compute NTK...\n"
          ]
        },
        {
          "name": "stdout",
          "output_type": "stream",
          "text": [
            "11533.211\n"
          ]
        },
        {
          "name": "stderr",
          "output_type": "stream",
          "text": [
            "It: 1400, Loss: 9.547e+03, Loss_bcs: 5.166e-01, Loss_res: 9.495e+03 ,Time: 0.00\n",
            "Compute NTK...\n"
          ]
        },
        {
          "name": "stdout",
          "output_type": "stream",
          "text": [
            "11622.06\n"
          ]
        },
        {
          "name": "stderr",
          "output_type": "stream",
          "text": [
            "It: 1500, Loss: 9.395e+03, Loss_bcs: 4.639e-01, Loss_res: 9.348e+03 ,Time: 0.00\n",
            "Compute NTK...\n"
          ]
        },
        {
          "name": "stdout",
          "output_type": "stream",
          "text": [
            "11651.26\n"
          ]
        },
        {
          "name": "stderr",
          "output_type": "stream",
          "text": [
            "It: 1600, Loss: 9.247e+03, Loss_bcs: 4.223e-01, Loss_res: 9.204e+03 ,Time: 0.00\n",
            "Compute NTK...\n"
          ]
        },
        {
          "name": "stdout",
          "output_type": "stream",
          "text": [
            "11590.125\n"
          ]
        },
        {
          "name": "stderr",
          "output_type": "stream",
          "text": [
            "It: 1700, Loss: 9.103e+03, Loss_bcs: 3.901e-01, Loss_res: 9.064e+03 ,Time: 0.00\n",
            "Compute NTK...\n"
          ]
        },
        {
          "name": "stdout",
          "output_type": "stream",
          "text": [
            "11385.417\n"
          ]
        },
        {
          "name": "stderr",
          "output_type": "stream",
          "text": [
            "It: 1800, Loss: 8.962e+03, Loss_bcs: 3.658e-01, Loss_res: 8.926e+03 ,Time: 0.00\n",
            "Compute NTK...\n"
          ]
        },
        {
          "name": "stdout",
          "output_type": "stream",
          "text": [
            "11053.296\n"
          ]
        },
        {
          "name": "stderr",
          "output_type": "stream",
          "text": [
            "It: 1900, Loss: 8.826e+03, Loss_bcs: 3.481e-01, Loss_res: 8.791e+03 ,Time: 0.00\n",
            "Compute NTK...\n"
          ]
        },
        {
          "name": "stdout",
          "output_type": "stream",
          "text": [
            "10471.875\n"
          ]
        },
        {
          "name": "stderr",
          "output_type": "stream",
          "text": [
            "It: 2000, Loss: 8.692e+03, Loss_bcs: 3.357e-01, Loss_res: 8.659e+03 ,Time: 0.00\n",
            "Compute NTK...\n"
          ]
        },
        {
          "name": "stdout",
          "output_type": "stream",
          "text": [
            "9919.81\n"
          ]
        },
        {
          "name": "stderr",
          "output_type": "stream",
          "text": [
            "It: 2100, Loss: 8.562e+03, Loss_bcs: 3.277e-01, Loss_res: 8.529e+03 ,Time: 0.00\n",
            "Compute NTK...\n"
          ]
        },
        {
          "name": "stdout",
          "output_type": "stream",
          "text": [
            "9443.101\n"
          ]
        },
        {
          "name": "stderr",
          "output_type": "stream",
          "text": [
            "It: 2200, Loss: 8.434e+03, Loss_bcs: 3.231e-01, Loss_res: 8.402e+03 ,Time: 0.00\n",
            "Compute NTK...\n"
          ]
        },
        {
          "name": "stdout",
          "output_type": "stream",
          "text": [
            "9027.545\n"
          ]
        },
        {
          "name": "stderr",
          "output_type": "stream",
          "text": [
            "It: 2300, Loss: 8.310e+03, Loss_bcs: 3.213e-01, Loss_res: 8.278e+03 ,Time: 0.00\n",
            "Compute NTK...\n"
          ]
        },
        {
          "name": "stdout",
          "output_type": "stream",
          "text": [
            "8662.061\n"
          ]
        },
        {
          "name": "stderr",
          "output_type": "stream",
          "text": [
            "It: 2400, Loss: 8.188e+03, Loss_bcs: 3.214e-01, Loss_res: 8.156e+03 ,Time: 0.00\n",
            "Compute NTK...\n"
          ]
        },
        {
          "name": "stdout",
          "output_type": "stream",
          "text": [
            "8337.59\n"
          ]
        },
        {
          "name": "stderr",
          "output_type": "stream",
          "text": [
            "It: 2500, Loss: 8.068e+03, Loss_bcs: 3.232e-01, Loss_res: 8.036e+03 ,Time: 0.00\n",
            "Compute NTK...\n"
          ]
        },
        {
          "name": "stdout",
          "output_type": "stream",
          "text": [
            "8045.5176\n"
          ]
        },
        {
          "name": "stderr",
          "output_type": "stream",
          "text": [
            "It: 2600, Loss: 7.951e+03, Loss_bcs: 3.260e-01, Loss_res: 7.919e+03 ,Time: 0.00\n",
            "Compute NTK...\n"
          ]
        },
        {
          "name": "stdout",
          "output_type": "stream",
          "text": [
            "7780.4214\n"
          ]
        },
        {
          "name": "stderr",
          "output_type": "stream",
          "text": [
            "It: 2700, Loss: 7.837e+03, Loss_bcs: 3.296e-01, Loss_res: 7.804e+03 ,Time: 0.00\n",
            "Compute NTK...\n"
          ]
        },
        {
          "name": "stdout",
          "output_type": "stream",
          "text": [
            "7539.989\n"
          ]
        },
        {
          "name": "stderr",
          "output_type": "stream",
          "text": [
            "It: 2800, Loss: 7.724e+03, Loss_bcs: 3.337e-01, Loss_res: 7.691e+03 ,Time: 0.00\n",
            "Compute NTK...\n"
          ]
        },
        {
          "name": "stdout",
          "output_type": "stream",
          "text": [
            "7319.424\n"
          ]
        },
        {
          "name": "stderr",
          "output_type": "stream",
          "text": [
            "It: 2900, Loss: 7.614e+03, Loss_bcs: 3.381e-01, Loss_res: 7.580e+03 ,Time: 0.00\n",
            "Compute NTK...\n"
          ]
        },
        {
          "name": "stdout",
          "output_type": "stream",
          "text": [
            "7116.4663\n"
          ]
        },
        {
          "name": "stderr",
          "output_type": "stream",
          "text": [
            "It: 3000, Loss: 7.505e+03, Loss_bcs: 3.427e-01, Loss_res: 7.471e+03 ,Time: 0.00\n",
            "Compute NTK...\n"
          ]
        },
        {
          "name": "stdout",
          "output_type": "stream",
          "text": [
            "6933.6694\n"
          ]
        },
        {
          "name": "stderr",
          "output_type": "stream",
          "text": [
            "It: 3100, Loss: 7.399e+03, Loss_bcs: 3.474e-01, Loss_res: 7.364e+03 ,Time: 0.00\n",
            "Compute NTK...\n"
          ]
        },
        {
          "name": "stdout",
          "output_type": "stream",
          "text": [
            "6802.083\n"
          ]
        },
        {
          "name": "stderr",
          "output_type": "stream",
          "text": [
            "It: 3200, Loss: 7.294e+03, Loss_bcs: 3.520e-01, Loss_res: 7.259e+03 ,Time: 0.00\n",
            "Compute NTK...\n"
          ]
        },
        {
          "name": "stdout",
          "output_type": "stream",
          "text": [
            "6679.491\n"
          ]
        },
        {
          "name": "stderr",
          "output_type": "stream",
          "text": [
            "It: 3300, Loss: 7.192e+03, Loss_bcs: 3.567e-01, Loss_res: 7.156e+03 ,Time: 0.00\n",
            "Compute NTK...\n"
          ]
        },
        {
          "name": "stdout",
          "output_type": "stream",
          "text": [
            "6564.25\n"
          ]
        },
        {
          "name": "stderr",
          "output_type": "stream",
          "text": [
            "It: 3400, Loss: 7.091e+03, Loss_bcs: 3.612e-01, Loss_res: 7.055e+03 ,Time: 0.00\n",
            "Compute NTK...\n"
          ]
        },
        {
          "name": "stdout",
          "output_type": "stream",
          "text": [
            "6455.398\n"
          ]
        },
        {
          "name": "stderr",
          "output_type": "stream",
          "text": [
            "It: 3500, Loss: 6.992e+03, Loss_bcs: 3.656e-01, Loss_res: 6.955e+03 ,Time: 0.00\n",
            "Compute NTK...\n"
          ]
        },
        {
          "name": "stdout",
          "output_type": "stream",
          "text": [
            "6352.337\n"
          ]
        },
        {
          "name": "stderr",
          "output_type": "stream",
          "text": [
            "It: 3600, Loss: 6.894e+03, Loss_bcs: 3.699e-01, Loss_res: 6.858e+03 ,Time: 0.00\n",
            "Compute NTK...\n"
          ]
        },
        {
          "name": "stdout",
          "output_type": "stream",
          "text": [
            "6254.4517\n"
          ]
        },
        {
          "name": "stderr",
          "output_type": "stream",
          "text": [
            "It: 3700, Loss: 6.799e+03, Loss_bcs: 3.740e-01, Loss_res: 6.762e+03 ,Time: 0.00\n",
            "Compute NTK...\n"
          ]
        },
        {
          "name": "stdout",
          "output_type": "stream",
          "text": [
            "6161.0977\n"
          ]
        },
        {
          "name": "stderr",
          "output_type": "stream",
          "text": [
            "It: 3800, Loss: 6.705e+03, Loss_bcs: 3.780e-01, Loss_res: 6.667e+03 ,Time: 0.00\n",
            "Compute NTK...\n"
          ]
        },
        {
          "name": "stdout",
          "output_type": "stream",
          "text": [
            "6071.628\n"
          ]
        },
        {
          "name": "stderr",
          "output_type": "stream",
          "text": [
            "It: 3900, Loss: 6.613e+03, Loss_bcs: 3.819e-01, Loss_res: 6.575e+03 ,Time: 0.00\n",
            "Compute NTK...\n"
          ]
        },
        {
          "name": "stdout",
          "output_type": "stream",
          "text": [
            "5985.865\n"
          ]
        },
        {
          "name": "stderr",
          "output_type": "stream",
          "text": [
            "It: 4000, Loss: 6.522e+03, Loss_bcs: 3.856e-01, Loss_res: 6.484e+03 ,Time: 0.00\n",
            "Compute NTK...\n"
          ]
        },
        {
          "name": "stdout",
          "output_type": "stream",
          "text": [
            "5903.2964\n"
          ]
        },
        {
          "name": "stderr",
          "output_type": "stream",
          "text": [
            "It: 4100, Loss: 6.433e+03, Loss_bcs: 3.891e-01, Loss_res: 6.394e+03 ,Time: 0.00\n",
            "Compute NTK...\n"
          ]
        },
        {
          "name": "stdout",
          "output_type": "stream",
          "text": [
            "5823.934\n"
          ]
        },
        {
          "name": "stderr",
          "output_type": "stream",
          "text": [
            "It: 4200, Loss: 6.346e+03, Loss_bcs: 3.924e-01, Loss_res: 6.306e+03 ,Time: 0.00\n",
            "Compute NTK...\n"
          ]
        },
        {
          "name": "stdout",
          "output_type": "stream",
          "text": [
            "5747.3\n"
          ]
        },
        {
          "name": "stderr",
          "output_type": "stream",
          "text": [
            "It: 4300, Loss: 6.260e+03, Loss_bcs: 3.955e-01, Loss_res: 6.220e+03 ,Time: 0.00\n",
            "Compute NTK...\n"
          ]
        },
        {
          "name": "stdout",
          "output_type": "stream",
          "text": [
            "5672.298\n"
          ]
        },
        {
          "name": "stderr",
          "output_type": "stream",
          "text": [
            "It: 4400, Loss: 6.175e+03, Loss_bcs: 3.985e-01, Loss_res: 6.135e+03 ,Time: 0.00\n",
            "Compute NTK...\n"
          ]
        },
        {
          "name": "stdout",
          "output_type": "stream",
          "text": [
            "5599.7617\n"
          ]
        },
        {
          "name": "stderr",
          "output_type": "stream",
          "text": [
            "It: 4500, Loss: 6.092e+03, Loss_bcs: 4.014e-01, Loss_res: 6.052e+03 ,Time: 0.00\n",
            "Compute NTK...\n"
          ]
        },
        {
          "name": "stdout",
          "output_type": "stream",
          "text": [
            "5528.8223\n"
          ]
        },
        {
          "name": "stderr",
          "output_type": "stream",
          "text": [
            "It: 4600, Loss: 6.011e+03, Loss_bcs: 4.040e-01, Loss_res: 5.970e+03 ,Time: 0.00\n",
            "Compute NTK...\n"
          ]
        },
        {
          "name": "stdout",
          "output_type": "stream",
          "text": [
            "5459.9683\n"
          ]
        },
        {
          "name": "stderr",
          "output_type": "stream",
          "text": [
            "It: 4700, Loss: 5.930e+03, Loss_bcs: 4.066e-01, Loss_res: 5.890e+03 ,Time: 0.00\n",
            "Compute NTK...\n"
          ]
        },
        {
          "name": "stdout",
          "output_type": "stream",
          "text": [
            "5393.0073\n"
          ]
        },
        {
          "name": "stderr",
          "output_type": "stream",
          "text": [
            "It: 4800, Loss: 5.852e+03, Loss_bcs: 4.091e-01, Loss_res: 5.811e+03 ,Time: 0.00\n",
            "Compute NTK...\n"
          ]
        },
        {
          "name": "stdout",
          "output_type": "stream",
          "text": [
            "5327.808\n"
          ]
        },
        {
          "name": "stderr",
          "output_type": "stream",
          "text": [
            "It: 4900, Loss: 5.774e+03, Loss_bcs: 4.114e-01, Loss_res: 5.733e+03 ,Time: 0.00\n",
            "Compute NTK...\n"
          ]
        },
        {
          "name": "stdout",
          "output_type": "stream",
          "text": [
            "5264.3203\n"
          ]
        },
        {
          "name": "stderr",
          "output_type": "stream",
          "text": [
            "It: 5000, Loss: 5.698e+03, Loss_bcs: 4.137e-01, Loss_res: 5.657e+03 ,Time: 0.00\n",
            "Compute NTK...\n"
          ]
        },
        {
          "name": "stdout",
          "output_type": "stream",
          "text": [
            "5202.032\n"
          ]
        },
        {
          "name": "stderr",
          "output_type": "stream",
          "text": [
            "It: 5100, Loss: 5.623e+03, Loss_bcs: 4.159e-01, Loss_res: 5.582e+03 ,Time: 0.00\n",
            "Compute NTK...\n"
          ]
        },
        {
          "name": "stdout",
          "output_type": "stream",
          "text": [
            "5141.207\n"
          ]
        },
        {
          "name": "stderr",
          "output_type": "stream",
          "text": [
            "It: 5200, Loss: 5.550e+03, Loss_bcs: 4.181e-01, Loss_res: 5.508e+03 ,Time: 0.00\n",
            "Compute NTK...\n"
          ]
        },
        {
          "name": "stdout",
          "output_type": "stream",
          "text": [
            "5081.5723\n"
          ]
        },
        {
          "name": "stderr",
          "output_type": "stream",
          "text": [
            "It: 5300, Loss: 5.478e+03, Loss_bcs: 4.201e-01, Loss_res: 5.436e+03 ,Time: 0.00\n",
            "Compute NTK...\n"
          ]
        },
        {
          "name": "stdout",
          "output_type": "stream",
          "text": [
            "5023.1562\n"
          ]
        },
        {
          "name": "stderr",
          "output_type": "stream",
          "text": [
            "It: 5400, Loss: 5.407e+03, Loss_bcs: 4.222e-01, Loss_res: 5.365e+03 ,Time: 0.00\n",
            "Compute NTK...\n"
          ]
        },
        {
          "name": "stdout",
          "output_type": "stream",
          "text": [
            "4966.0244\n"
          ]
        },
        {
          "name": "stderr",
          "output_type": "stream",
          "text": [
            "It: 5500, Loss: 5.338e+03, Loss_bcs: 4.241e-01, Loss_res: 5.295e+03 ,Time: 0.00\n",
            "Compute NTK...\n"
          ]
        },
        {
          "name": "stdout",
          "output_type": "stream",
          "text": [
            "4909.785\n"
          ]
        },
        {
          "name": "stderr",
          "output_type": "stream",
          "text": [
            "It: 5600, Loss: 5.269e+03, Loss_bcs: 4.260e-01, Loss_res: 5.227e+03 ,Time: 0.00\n",
            "Compute NTK...\n"
          ]
        },
        {
          "name": "stdout",
          "output_type": "stream",
          "text": [
            "4854.4785\n"
          ]
        },
        {
          "name": "stderr",
          "output_type": "stream",
          "text": [
            "It: 5700, Loss: 5.202e+03, Loss_bcs: 4.277e-01, Loss_res: 5.159e+03 ,Time: 0.00\n",
            "Compute NTK...\n"
          ]
        },
        {
          "name": "stdout",
          "output_type": "stream",
          "text": [
            "4800.3857\n"
          ]
        },
        {
          "name": "stderr",
          "output_type": "stream",
          "text": [
            "It: 5800, Loss: 5.136e+03, Loss_bcs: 4.294e-01, Loss_res: 5.093e+03 ,Time: 0.00\n",
            "Compute NTK...\n"
          ]
        },
        {
          "name": "stdout",
          "output_type": "stream",
          "text": [
            "4747.6\n"
          ]
        },
        {
          "name": "stderr",
          "output_type": "stream",
          "text": [
            "It: 5900, Loss: 5.072e+03, Loss_bcs: 4.310e-01, Loss_res: 5.028e+03 ,Time: 0.00\n",
            "Compute NTK...\n"
          ]
        },
        {
          "name": "stdout",
          "output_type": "stream",
          "text": [
            "4696.2056\n"
          ]
        },
        {
          "name": "stderr",
          "output_type": "stream",
          "text": [
            "It: 6000, Loss: 5.008e+03, Loss_bcs: 4.325e-01, Loss_res: 4.965e+03 ,Time: 0.00\n",
            "Compute NTK...\n"
          ]
        },
        {
          "name": "stdout",
          "output_type": "stream",
          "text": [
            "4645.687\n"
          ]
        },
        {
          "name": "stderr",
          "output_type": "stream",
          "text": [
            "It: 6100, Loss: 4.945e+03, Loss_bcs: 4.339e-01, Loss_res: 4.902e+03 ,Time: 0.00\n",
            "Compute NTK...\n"
          ]
        },
        {
          "name": "stdout",
          "output_type": "stream",
          "text": [
            "4596.531\n"
          ]
        },
        {
          "name": "stderr",
          "output_type": "stream",
          "text": [
            "It: 6200, Loss: 4.884e+03, Loss_bcs: 4.352e-01, Loss_res: 4.841e+03 ,Time: 0.00\n",
            "Compute NTK...\n"
          ]
        },
        {
          "name": "stdout",
          "output_type": "stream",
          "text": [
            "4548.612\n"
          ]
        },
        {
          "name": "stderr",
          "output_type": "stream",
          "text": [
            "It: 6300, Loss: 4.824e+03, Loss_bcs: 4.363e-01, Loss_res: 4.780e+03 ,Time: 0.00\n",
            "Compute NTK...\n"
          ]
        },
        {
          "name": "stdout",
          "output_type": "stream",
          "text": [
            "4501.962\n"
          ]
        },
        {
          "name": "stderr",
          "output_type": "stream",
          "text": [
            "It: 6400, Loss: 4.765e+03, Loss_bcs: 4.373e-01, Loss_res: 4.721e+03 ,Time: 0.00\n",
            "Compute NTK...\n"
          ]
        },
        {
          "name": "stdout",
          "output_type": "stream",
          "text": [
            "4456.231\n"
          ]
        },
        {
          "name": "stderr",
          "output_type": "stream",
          "text": [
            "It: 6500, Loss: 4.707e+03, Loss_bcs: 4.383e-01, Loss_res: 4.663e+03 ,Time: 0.00\n",
            "Compute NTK...\n"
          ]
        },
        {
          "name": "stdout",
          "output_type": "stream",
          "text": [
            "4411.0947\n"
          ]
        },
        {
          "name": "stderr",
          "output_type": "stream",
          "text": [
            "It: 6600, Loss: 4.650e+03, Loss_bcs: 4.390e-01, Loss_res: 4.606e+03 ,Time: 0.00\n",
            "Compute NTK...\n"
          ]
        },
        {
          "name": "stdout",
          "output_type": "stream",
          "text": [
            "4367.284\n"
          ]
        },
        {
          "name": "stderr",
          "output_type": "stream",
          "text": [
            "It: 6700, Loss: 4.594e+03, Loss_bcs: 4.397e-01, Loss_res: 4.550e+03 ,Time: 0.00\n",
            "Compute NTK...\n"
          ]
        },
        {
          "name": "stdout",
          "output_type": "stream",
          "text": [
            "4324.6826\n"
          ]
        },
        {
          "name": "stderr",
          "output_type": "stream",
          "text": [
            "It: 6800, Loss: 4.539e+03, Loss_bcs: 4.403e-01, Loss_res: 4.495e+03 ,Time: 0.00\n",
            "Compute NTK...\n"
          ]
        },
        {
          "name": "stdout",
          "output_type": "stream",
          "text": [
            "4283.222\n"
          ]
        },
        {
          "name": "stderr",
          "output_type": "stream",
          "text": [
            "It: 6900, Loss: 4.485e+03, Loss_bcs: 4.407e-01, Loss_res: 4.441e+03 ,Time: 0.00\n",
            "Compute NTK...\n"
          ]
        },
        {
          "name": "stdout",
          "output_type": "stream",
          "text": [
            "4242.8384\n"
          ]
        },
        {
          "name": "stderr",
          "output_type": "stream",
          "text": [
            "It: 7000, Loss: 4.432e+03, Loss_bcs: 4.410e-01, Loss_res: 4.388e+03 ,Time: 0.00\n",
            "Compute NTK...\n"
          ]
        },
        {
          "name": "stdout",
          "output_type": "stream",
          "text": [
            "4203.499\n"
          ]
        },
        {
          "name": "stderr",
          "output_type": "stream",
          "text": [
            "It: 7100, Loss: 4.380e+03, Loss_bcs: 4.413e-01, Loss_res: 4.335e+03 ,Time: 0.00\n",
            "Compute NTK...\n"
          ]
        },
        {
          "name": "stdout",
          "output_type": "stream",
          "text": [
            "4165.207\n"
          ]
        },
        {
          "name": "stderr",
          "output_type": "stream",
          "text": [
            "It: 7200, Loss: 4.328e+03, Loss_bcs: 4.415e-01, Loss_res: 4.284e+03 ,Time: 0.00\n",
            "Compute NTK...\n"
          ]
        },
        {
          "name": "stdout",
          "output_type": "stream",
          "text": [
            "4127.7334\n"
          ]
        },
        {
          "name": "stderr",
          "output_type": "stream",
          "text": [
            "It: 7300, Loss: 4.278e+03, Loss_bcs: 4.415e-01, Loss_res: 4.234e+03 ,Time: 0.00\n",
            "Compute NTK...\n"
          ]
        },
        {
          "name": "stdout",
          "output_type": "stream",
          "text": [
            "4090.9524\n"
          ]
        },
        {
          "name": "stderr",
          "output_type": "stream",
          "text": [
            "It: 7400, Loss: 4.229e+03, Loss_bcs: 4.416e-01, Loss_res: 4.185e+03 ,Time: 0.00\n",
            "Compute NTK...\n"
          ]
        },
        {
          "name": "stdout",
          "output_type": "stream",
          "text": [
            "4054.8484\n"
          ]
        },
        {
          "name": "stderr",
          "output_type": "stream",
          "text": [
            "It: 7500, Loss: 4.181e+03, Loss_bcs: 4.416e-01, Loss_res: 4.136e+03 ,Time: 0.00\n",
            "Compute NTK...\n"
          ]
        },
        {
          "name": "stdout",
          "output_type": "stream",
          "text": [
            "4019.5444\n"
          ]
        },
        {
          "name": "stderr",
          "output_type": "stream",
          "text": [
            "It: 7600, Loss: 4.133e+03, Loss_bcs: 4.415e-01, Loss_res: 4.089e+03 ,Time: 0.00\n",
            "Compute NTK...\n"
          ]
        },
        {
          "name": "stdout",
          "output_type": "stream",
          "text": [
            "3984.91\n"
          ]
        },
        {
          "name": "stderr",
          "output_type": "stream",
          "text": [
            "It: 7700, Loss: 4.086e+03, Loss_bcs: 4.414e-01, Loss_res: 4.042e+03 ,Time: 0.00\n",
            "Compute NTK...\n"
          ]
        },
        {
          "name": "stdout",
          "output_type": "stream",
          "text": [
            "3950.9214\n"
          ]
        },
        {
          "name": "stderr",
          "output_type": "stream",
          "text": [
            "It: 7800, Loss: 4.041e+03, Loss_bcs: 4.412e-01, Loss_res: 3.997e+03 ,Time: 0.00\n",
            "Compute NTK...\n"
          ]
        },
        {
          "name": "stdout",
          "output_type": "stream",
          "text": [
            "3917.6038\n"
          ]
        },
        {
          "name": "stderr",
          "output_type": "stream",
          "text": [
            "It: 7900, Loss: 3.996e+03, Loss_bcs: 4.410e-01, Loss_res: 3.952e+03 ,Time: 0.00\n",
            "Compute NTK...\n"
          ]
        },
        {
          "name": "stdout",
          "output_type": "stream",
          "text": [
            "3884.8274\n"
          ]
        },
        {
          "name": "stderr",
          "output_type": "stream",
          "text": [
            "It: 8000, Loss: 3.952e+03, Loss_bcs: 4.408e-01, Loss_res: 3.907e+03 ,Time: 0.00\n",
            "Compute NTK...\n"
          ]
        },
        {
          "name": "stdout",
          "output_type": "stream",
          "text": [
            "3852.6787\n"
          ]
        },
        {
          "name": "stderr",
          "output_type": "stream",
          "text": [
            "It: 8100, Loss: 3.908e+03, Loss_bcs: 4.406e-01, Loss_res: 3.864e+03 ,Time: 0.00\n",
            "Compute NTK...\n"
          ]
        },
        {
          "name": "stdout",
          "output_type": "stream",
          "text": [
            "3821.0864\n"
          ]
        },
        {
          "name": "stderr",
          "output_type": "stream",
          "text": [
            "It: 8200, Loss: 3.866e+03, Loss_bcs: 4.403e-01, Loss_res: 3.822e+03 ,Time: 0.00\n",
            "Compute NTK...\n"
          ]
        },
        {
          "name": "stdout",
          "output_type": "stream",
          "text": [
            "3789.949\n"
          ]
        },
        {
          "name": "stderr",
          "output_type": "stream",
          "text": [
            "It: 8300, Loss: 3.824e+03, Loss_bcs: 4.399e-01, Loss_res: 3.780e+03 ,Time: 0.00\n",
            "Compute NTK...\n"
          ]
        },
        {
          "name": "stdout",
          "output_type": "stream",
          "text": [
            "3759.3613\n"
          ]
        },
        {
          "name": "stderr",
          "output_type": "stream",
          "text": [
            "It: 8400, Loss: 3.783e+03, Loss_bcs: 4.396e-01, Loss_res: 3.739e+03 ,Time: 0.00\n",
            "Compute NTK...\n"
          ]
        },
        {
          "name": "stdout",
          "output_type": "stream",
          "text": [
            "3729.2905\n"
          ]
        },
        {
          "name": "stderr",
          "output_type": "stream",
          "text": [
            "It: 8500, Loss: 3.743e+03, Loss_bcs: 4.392e-01, Loss_res: 3.699e+03 ,Time: 0.00\n",
            "Compute NTK...\n"
          ]
        },
        {
          "name": "stdout",
          "output_type": "stream",
          "text": [
            "3699.7551\n"
          ]
        },
        {
          "name": "stderr",
          "output_type": "stream",
          "text": [
            "It: 8600, Loss: 3.703e+03, Loss_bcs: 4.388e-01, Loss_res: 3.659e+03 ,Time: 0.00\n",
            "Compute NTK...\n"
          ]
        },
        {
          "name": "stdout",
          "output_type": "stream",
          "text": [
            "3670.7556\n"
          ]
        },
        {
          "name": "stderr",
          "output_type": "stream",
          "text": [
            "It: 8700, Loss: 3.664e+03, Loss_bcs: 4.384e-01, Loss_res: 3.620e+03 ,Time: 0.00\n",
            "Compute NTK...\n"
          ]
        },
        {
          "name": "stdout",
          "output_type": "stream",
          "text": [
            "3642.0593\n"
          ]
        },
        {
          "name": "stderr",
          "output_type": "stream",
          "text": [
            "It: 8800, Loss: 3.626e+03, Loss_bcs: 4.379e-01, Loss_res: 3.582e+03 ,Time: 0.00\n",
            "Compute NTK...\n"
          ]
        },
        {
          "name": "stdout",
          "output_type": "stream",
          "text": [
            "3613.7844\n"
          ]
        },
        {
          "name": "stderr",
          "output_type": "stream",
          "text": [
            "It: 8900, Loss: 3.589e+03, Loss_bcs: 4.374e-01, Loss_res: 3.545e+03 ,Time: 0.00\n",
            "Compute NTK...\n"
          ]
        },
        {
          "name": "stdout",
          "output_type": "stream",
          "text": [
            "3585.9778\n"
          ]
        },
        {
          "name": "stderr",
          "output_type": "stream",
          "text": [
            "It: 9000, Loss: 3.552e+03, Loss_bcs: 4.369e-01, Loss_res: 3.508e+03 ,Time: 0.00\n",
            "Compute NTK...\n"
          ]
        },
        {
          "name": "stdout",
          "output_type": "stream",
          "text": [
            "3558.499\n"
          ]
        },
        {
          "name": "stderr",
          "output_type": "stream",
          "text": [
            "It: 9100, Loss: 3.516e+03, Loss_bcs: 4.364e-01, Loss_res: 3.472e+03 ,Time: 0.00\n",
            "Compute NTK...\n"
          ]
        },
        {
          "name": "stdout",
          "output_type": "stream",
          "text": [
            "3531.5024\n"
          ]
        },
        {
          "name": "stderr",
          "output_type": "stream",
          "text": [
            "It: 9200, Loss: 3.480e+03, Loss_bcs: 4.358e-01, Loss_res: 3.437e+03 ,Time: 0.00\n",
            "Compute NTK...\n"
          ]
        },
        {
          "name": "stdout",
          "output_type": "stream",
          "text": [
            "3504.931\n"
          ]
        },
        {
          "name": "stderr",
          "output_type": "stream",
          "text": [
            "It: 9300, Loss: 3.445e+03, Loss_bcs: 4.353e-01, Loss_res: 3.402e+03 ,Time: 0.00\n",
            "Compute NTK...\n"
          ]
        },
        {
          "name": "stdout",
          "output_type": "stream",
          "text": [
            "3478.4246\n"
          ]
        },
        {
          "name": "stderr",
          "output_type": "stream",
          "text": [
            "It: 9400, Loss: 3.411e+03, Loss_bcs: 4.347e-01, Loss_res: 3.368e+03 ,Time: 0.00\n",
            "Compute NTK...\n"
          ]
        },
        {
          "name": "stdout",
          "output_type": "stream",
          "text": [
            "3452.2773\n"
          ]
        },
        {
          "name": "stderr",
          "output_type": "stream",
          "text": [
            "It: 9500, Loss: 3.378e+03, Loss_bcs: 4.340e-01, Loss_res: 3.334e+03 ,Time: 0.00\n",
            "Compute NTK...\n"
          ]
        },
        {
          "name": "stdout",
          "output_type": "stream",
          "text": [
            "3426.5024\n"
          ]
        },
        {
          "name": "stderr",
          "output_type": "stream",
          "text": [
            "It: 9600, Loss: 3.345e+03, Loss_bcs: 4.334e-01, Loss_res: 3.301e+03 ,Time: 0.00\n",
            "Compute NTK...\n"
          ]
        },
        {
          "name": "stdout",
          "output_type": "stream",
          "text": [
            "3400.9731\n"
          ]
        },
        {
          "name": "stderr",
          "output_type": "stream",
          "text": [
            "It: 9700, Loss: 3.312e+03, Loss_bcs: 4.327e-01, Loss_res: 3.269e+03 ,Time: 0.00\n",
            "Compute NTK...\n"
          ]
        },
        {
          "name": "stdout",
          "output_type": "stream",
          "text": [
            "3375.8333\n"
          ]
        },
        {
          "name": "stderr",
          "output_type": "stream",
          "text": [
            "It: 9800, Loss: 3.281e+03, Loss_bcs: 4.321e-01, Loss_res: 3.238e+03 ,Time: 0.00\n",
            "Compute NTK...\n"
          ]
        },
        {
          "name": "stdout",
          "output_type": "stream",
          "text": [
            "3351.0862\n"
          ]
        },
        {
          "name": "stderr",
          "output_type": "stream",
          "text": [
            "It: 9900, Loss: 3.250e+03, Loss_bcs: 4.314e-01, Loss_res: 3.206e+03 ,Time: 0.00\n",
            "Compute NTK...\n"
          ]
        },
        {
          "name": "stdout",
          "output_type": "stream",
          "text": [
            "3326.6667\n"
          ]
        },
        {
          "name": "stderr",
          "output_type": "stream",
          "text": [
            "It: 10000, Loss: 3.219e+03, Loss_bcs: 4.307e-01, Loss_res: 3.176e+03 ,Time: 0.00\n",
            "Compute NTK...\n"
          ]
        },
        {
          "name": "stdout",
          "output_type": "stream",
          "text": [
            "3302.6174\n"
          ]
        },
        {
          "name": "stderr",
          "output_type": "stream",
          "text": [
            "It: 10100, Loss: 3.189e+03, Loss_bcs: 4.299e-01, Loss_res: 3.146e+03 ,Time: 0.00\n",
            "Compute NTK...\n"
          ]
        },
        {
          "name": "stdout",
          "output_type": "stream",
          "text": [
            "3278.8953\n"
          ]
        },
        {
          "name": "stderr",
          "output_type": "stream",
          "text": [
            "It: 10200, Loss: 3.159e+03, Loss_bcs: 4.292e-01, Loss_res: 3.116e+03 ,Time: 0.00\n",
            "Compute NTK...\n"
          ]
        },
        {
          "name": "stdout",
          "output_type": "stream",
          "text": [
            "3255.4521\n"
          ]
        },
        {
          "name": "stderr",
          "output_type": "stream",
          "text": [
            "It: 10300, Loss: 3.130e+03, Loss_bcs: 4.285e-01, Loss_res: 3.088e+03 ,Time: 0.00\n",
            "Compute NTK...\n"
          ]
        },
        {
          "name": "stdout",
          "output_type": "stream",
          "text": [
            "3232.3245\n"
          ]
        },
        {
          "name": "stderr",
          "output_type": "stream",
          "text": [
            "It: 10400, Loss: 3.102e+03, Loss_bcs: 4.277e-01, Loss_res: 3.059e+03 ,Time: 0.00\n",
            "Compute NTK...\n"
          ]
        },
        {
          "name": "stdout",
          "output_type": "stream",
          "text": [
            "3209.5325\n"
          ]
        },
        {
          "name": "stderr",
          "output_type": "stream",
          "text": [
            "It: 10500, Loss: 3.074e+03, Loss_bcs: 4.270e-01, Loss_res: 3.031e+03 ,Time: 0.00\n",
            "Compute NTK...\n"
          ]
        },
        {
          "name": "stdout",
          "output_type": "stream",
          "text": [
            "3187.1047\n"
          ]
        },
        {
          "name": "stderr",
          "output_type": "stream",
          "text": [
            "It: 10600, Loss: 3.047e+03, Loss_bcs: 4.262e-01, Loss_res: 3.004e+03 ,Time: 0.00\n",
            "Compute NTK...\n"
          ]
        },
        {
          "name": "stdout",
          "output_type": "stream",
          "text": [
            "3164.9558\n"
          ]
        },
        {
          "name": "stderr",
          "output_type": "stream",
          "text": [
            "It: 10700, Loss: 3.020e+03, Loss_bcs: 4.255e-01, Loss_res: 2.977e+03 ,Time: 0.00\n",
            "Compute NTK...\n"
          ]
        },
        {
          "name": "stdout",
          "output_type": "stream",
          "text": [
            "3143.1382\n"
          ]
        },
        {
          "name": "stderr",
          "output_type": "stream",
          "text": [
            "It: 10800, Loss: 2.993e+03, Loss_bcs: 4.247e-01, Loss_res: 2.951e+03 ,Time: 0.00\n",
            "Compute NTK...\n"
          ]
        },
        {
          "name": "stdout",
          "output_type": "stream",
          "text": [
            "3121.6543\n"
          ]
        },
        {
          "name": "stderr",
          "output_type": "stream",
          "text": [
            "It: 10900, Loss: 2.967e+03, Loss_bcs: 4.239e-01, Loss_res: 2.925e+03 ,Time: 0.00\n",
            "Compute NTK...\n"
          ]
        },
        {
          "name": "stdout",
          "output_type": "stream",
          "text": [
            "3100.4885\n"
          ]
        },
        {
          "name": "stderr",
          "output_type": "stream",
          "text": [
            "It: 11000, Loss: 2.942e+03, Loss_bcs: 4.231e-01, Loss_res: 2.899e+03 ,Time: 0.00\n",
            "Compute NTK...\n"
          ]
        },
        {
          "name": "stdout",
          "output_type": "stream",
          "text": [
            "3079.4421\n"
          ]
        },
        {
          "name": "stderr",
          "output_type": "stream",
          "text": [
            "It: 11100, Loss: 2.917e+03, Loss_bcs: 4.223e-01, Loss_res: 2.874e+03 ,Time: 0.00\n",
            "Compute NTK...\n"
          ]
        },
        {
          "name": "stdout",
          "output_type": "stream",
          "text": [
            "3058.6365\n"
          ]
        },
        {
          "name": "stderr",
          "output_type": "stream",
          "text": [
            "It: 11200, Loss: 2.892e+03, Loss_bcs: 4.215e-01, Loss_res: 2.850e+03 ,Time: 0.00\n",
            "Compute NTK...\n"
          ]
        },
        {
          "name": "stdout",
          "output_type": "stream",
          "text": [
            "3038.1313\n"
          ]
        },
        {
          "name": "stderr",
          "output_type": "stream",
          "text": [
            "It: 11300, Loss: 2.868e+03, Loss_bcs: 4.207e-01, Loss_res: 2.826e+03 ,Time: 0.00\n",
            "Compute NTK...\n"
          ]
        },
        {
          "name": "stdout",
          "output_type": "stream",
          "text": [
            "3017.865\n"
          ]
        },
        {
          "name": "stderr",
          "output_type": "stream",
          "text": [
            "It: 11400, Loss: 2.844e+03, Loss_bcs: 4.199e-01, Loss_res: 2.802e+03 ,Time: 0.00\n",
            "Compute NTK...\n"
          ]
        },
        {
          "name": "stdout",
          "output_type": "stream",
          "text": [
            "2997.849\n"
          ]
        },
        {
          "name": "stderr",
          "output_type": "stream",
          "text": [
            "It: 11500, Loss: 2.821e+03, Loss_bcs: 4.191e-01, Loss_res: 2.779e+03 ,Time: 0.00\n",
            "Compute NTK...\n"
          ]
        },
        {
          "name": "stdout",
          "output_type": "stream",
          "text": [
            "2978.1133\n"
          ]
        },
        {
          "name": "stderr",
          "output_type": "stream",
          "text": [
            "It: 11600, Loss: 2.798e+03, Loss_bcs: 4.183e-01, Loss_res: 2.756e+03 ,Time: 0.00\n",
            "Compute NTK...\n"
          ]
        },
        {
          "name": "stdout",
          "output_type": "stream",
          "text": [
            "2958.6396\n"
          ]
        },
        {
          "name": "stderr",
          "output_type": "stream",
          "text": [
            "It: 11700, Loss: 2.775e+03, Loss_bcs: 4.176e-01, Loss_res: 2.734e+03 ,Time: 0.00\n",
            "Compute NTK...\n"
          ]
        },
        {
          "name": "stdout",
          "output_type": "stream",
          "text": [
            "2939.389\n"
          ]
        },
        {
          "name": "stderr",
          "output_type": "stream",
          "text": [
            "It: 11800, Loss: 2.753e+03, Loss_bcs: 4.168e-01, Loss_res: 2.712e+03 ,Time: 0.00\n",
            "Compute NTK...\n"
          ]
        },
        {
          "name": "stdout",
          "output_type": "stream",
          "text": [
            "2920.3438\n"
          ]
        },
        {
          "name": "stderr",
          "output_type": "stream",
          "text": [
            "It: 11900, Loss: 2.732e+03, Loss_bcs: 4.160e-01, Loss_res: 2.690e+03 ,Time: 0.00\n",
            "Compute NTK...\n"
          ]
        },
        {
          "name": "stdout",
          "output_type": "stream",
          "text": [
            "2901.5354\n"
          ]
        },
        {
          "name": "stderr",
          "output_type": "stream",
          "text": [
            "It: 12000, Loss: 2.710e+03, Loss_bcs: 4.153e-01, Loss_res: 2.669e+03 ,Time: 0.00\n",
            "Compute NTK...\n"
          ]
        },
        {
          "name": "stdout",
          "output_type": "stream",
          "text": [
            "2882.9402\n"
          ]
        },
        {
          "name": "stderr",
          "output_type": "stream",
          "text": [
            "It: 12100, Loss: 2.690e+03, Loss_bcs: 4.145e-01, Loss_res: 2.648e+03 ,Time: 0.00\n",
            "Compute NTK...\n"
          ]
        },
        {
          "name": "stdout",
          "output_type": "stream",
          "text": [
            "2864.5273\n"
          ]
        },
        {
          "name": "stderr",
          "output_type": "stream",
          "text": [
            "It: 12200, Loss: 2.669e+03, Loss_bcs: 4.138e-01, Loss_res: 2.628e+03 ,Time: 0.00\n",
            "Compute NTK...\n"
          ]
        },
        {
          "name": "stdout",
          "output_type": "stream",
          "text": [
            "2846.2888\n"
          ]
        },
        {
          "name": "stderr",
          "output_type": "stream",
          "text": [
            "It: 12300, Loss: 2.649e+03, Loss_bcs: 4.131e-01, Loss_res: 2.608e+03 ,Time: 0.00\n",
            "Compute NTK...\n"
          ]
        },
        {
          "name": "stdout",
          "output_type": "stream",
          "text": [
            "2828.2705\n"
          ]
        },
        {
          "name": "stderr",
          "output_type": "stream",
          "text": [
            "It: 12400, Loss: 2.629e+03, Loss_bcs: 4.124e-01, Loss_res: 2.588e+03 ,Time: 0.00\n",
            "Compute NTK...\n"
          ]
        },
        {
          "name": "stdout",
          "output_type": "stream",
          "text": [
            "2810.4375\n"
          ]
        },
        {
          "name": "stderr",
          "output_type": "stream",
          "text": [
            "It: 12500, Loss: 2.610e+03, Loss_bcs: 4.117e-01, Loss_res: 2.568e+03 ,Time: 0.00\n",
            "Compute NTK...\n"
          ]
        },
        {
          "name": "stdout",
          "output_type": "stream",
          "text": [
            "2792.7607\n"
          ]
        },
        {
          "name": "stderr",
          "output_type": "stream",
          "text": [
            "It: 12600, Loss: 2.590e+03, Loss_bcs: 4.110e-01, Loss_res: 2.549e+03 ,Time: 0.00\n",
            "Compute NTK...\n"
          ]
        },
        {
          "name": "stdout",
          "output_type": "stream",
          "text": [
            "2775.2378\n"
          ]
        },
        {
          "name": "stderr",
          "output_type": "stream",
          "text": [
            "It: 12700, Loss: 2.572e+03, Loss_bcs: 4.103e-01, Loss_res: 2.531e+03 ,Time: 0.00\n",
            "Compute NTK...\n"
          ]
        },
        {
          "name": "stdout",
          "output_type": "stream",
          "text": [
            "2757.939\n"
          ]
        },
        {
          "name": "stderr",
          "output_type": "stream",
          "text": [
            "It: 12800, Loss: 2.553e+03, Loss_bcs: 4.097e-01, Loss_res: 2.512e+03 ,Time: 0.00\n",
            "Compute NTK...\n"
          ]
        },
        {
          "name": "stdout",
          "output_type": "stream",
          "text": [
            "2740.8604\n"
          ]
        },
        {
          "name": "stderr",
          "output_type": "stream",
          "text": [
            "It: 12900, Loss: 2.535e+03, Loss_bcs: 4.090e-01, Loss_res: 2.494e+03 ,Time: 0.00\n",
            "Compute NTK...\n"
          ]
        },
        {
          "name": "stdout",
          "output_type": "stream",
          "text": [
            "2723.9993\n"
          ]
        },
        {
          "name": "stderr",
          "output_type": "stream",
          "text": [
            "It: 13000, Loss: 2.517e+03, Loss_bcs: 4.083e-01, Loss_res: 2.476e+03 ,Time: 0.00\n",
            "Compute NTK...\n"
          ]
        },
        {
          "name": "stdout",
          "output_type": "stream",
          "text": [
            "2707.313\n"
          ]
        },
        {
          "name": "stderr",
          "output_type": "stream",
          "text": [
            "It: 13100, Loss: 2.500e+03, Loss_bcs: 4.076e-01, Loss_res: 2.459e+03 ,Time: 0.00\n",
            "Compute NTK...\n"
          ]
        },
        {
          "name": "stdout",
          "output_type": "stream",
          "text": [
            "2690.865\n"
          ]
        },
        {
          "name": "stderr",
          "output_type": "stream",
          "text": [
            "It: 13200, Loss: 2.483e+03, Loss_bcs: 4.069e-01, Loss_res: 2.442e+03 ,Time: 0.00\n",
            "Compute NTK...\n"
          ]
        },
        {
          "name": "stdout",
          "output_type": "stream",
          "text": [
            "2674.6929\n"
          ]
        },
        {
          "name": "stderr",
          "output_type": "stream",
          "text": [
            "It: 13300, Loss: 2.466e+03, Loss_bcs: 4.062e-01, Loss_res: 2.425e+03 ,Time: 0.00\n",
            "Compute NTK...\n"
          ]
        },
        {
          "name": "stdout",
          "output_type": "stream",
          "text": [
            "2658.7688\n"
          ]
        },
        {
          "name": "stderr",
          "output_type": "stream",
          "text": [
            "It: 13400, Loss: 2.449e+03, Loss_bcs: 4.055e-01, Loss_res: 2.408e+03 ,Time: 0.00\n",
            "Compute NTK...\n"
          ]
        },
        {
          "name": "stdout",
          "output_type": "stream",
          "text": [
            "2643.1099\n"
          ]
        },
        {
          "name": "stderr",
          "output_type": "stream",
          "text": [
            "It: 13500, Loss: 2.433e+03, Loss_bcs: 4.048e-01, Loss_res: 2.392e+03 ,Time: 0.00\n",
            "Compute NTK...\n"
          ]
        },
        {
          "name": "stdout",
          "output_type": "stream",
          "text": [
            "2627.6873\n"
          ]
        },
        {
          "name": "stderr",
          "output_type": "stream",
          "text": [
            "It: 13600, Loss: 2.417e+03, Loss_bcs: 4.040e-01, Loss_res: 2.376e+03 ,Time: 0.00\n",
            "Compute NTK...\n"
          ]
        },
        {
          "name": "stdout",
          "output_type": "stream",
          "text": [
            "2612.5513\n"
          ]
        },
        {
          "name": "stderr",
          "output_type": "stream",
          "text": [
            "It: 13700, Loss: 2.401e+03, Loss_bcs: 4.032e-01, Loss_res: 2.361e+03 ,Time: 0.00\n",
            "Compute NTK...\n"
          ]
        },
        {
          "name": "stdout",
          "output_type": "stream",
          "text": [
            "2597.6855\n"
          ]
        },
        {
          "name": "stderr",
          "output_type": "stream",
          "text": [
            "It: 13800, Loss: 2.385e+03, Loss_bcs: 4.024e-01, Loss_res: 2.345e+03 ,Time: 0.00\n",
            "Compute NTK...\n"
          ]
        },
        {
          "name": "stdout",
          "output_type": "stream",
          "text": [
            "2583.0835\n"
          ]
        },
        {
          "name": "stderr",
          "output_type": "stream",
          "text": [
            "It: 13900, Loss: 2.370e+03, Loss_bcs: 4.016e-01, Loss_res: 2.330e+03 ,Time: 0.00\n",
            "Compute NTK...\n"
          ]
        },
        {
          "name": "stdout",
          "output_type": "stream",
          "text": [
            "2568.7522\n"
          ]
        },
        {
          "name": "stderr",
          "output_type": "stream",
          "text": [
            "It: 14000, Loss: 2.355e+03, Loss_bcs: 4.008e-01, Loss_res: 2.315e+03 ,Time: 0.00\n",
            "Compute NTK...\n"
          ]
        },
        {
          "name": "stdout",
          "output_type": "stream",
          "text": [
            "2554.6577\n"
          ]
        },
        {
          "name": "stderr",
          "output_type": "stream",
          "text": [
            "It: 14100, Loss: 2.341e+03, Loss_bcs: 3.999e-01, Loss_res: 2.301e+03 ,Time: 0.00\n",
            "Compute NTK...\n"
          ]
        },
        {
          "name": "stdout",
          "output_type": "stream",
          "text": [
            "2540.7832\n"
          ]
        },
        {
          "name": "stderr",
          "output_type": "stream",
          "text": [
            "It: 14200, Loss: 2.326e+03, Loss_bcs: 3.990e-01, Loss_res: 2.286e+03 ,Time: 0.00\n",
            "Compute NTK...\n"
          ]
        },
        {
          "name": "stdout",
          "output_type": "stream",
          "text": [
            "2527.1516\n"
          ]
        },
        {
          "name": "stderr",
          "output_type": "stream",
          "text": [
            "It: 14300, Loss: 2.312e+03, Loss_bcs: 3.981e-01, Loss_res: 2.272e+03 ,Time: 0.00\n",
            "Compute NTK...\n"
          ]
        },
        {
          "name": "stdout",
          "output_type": "stream",
          "text": [
            "2513.771\n"
          ]
        },
        {
          "name": "stderr",
          "output_type": "stream",
          "text": [
            "It: 14400, Loss: 2.298e+03, Loss_bcs: 3.972e-01, Loss_res: 2.258e+03 ,Time: 0.00\n",
            "Compute NTK...\n"
          ]
        },
        {
          "name": "stdout",
          "output_type": "stream",
          "text": [
            "2500.6545\n"
          ]
        },
        {
          "name": "stderr",
          "output_type": "stream",
          "text": [
            "It: 14500, Loss: 2.284e+03, Loss_bcs: 3.963e-01, Loss_res: 2.245e+03 ,Time: 0.00\n",
            "Compute NTK...\n"
          ]
        },
        {
          "name": "stdout",
          "output_type": "stream",
          "text": [
            "2487.7725\n"
          ]
        },
        {
          "name": "stderr",
          "output_type": "stream",
          "text": [
            "It: 14600, Loss: 2.271e+03, Loss_bcs: 3.953e-01, Loss_res: 2.231e+03 ,Time: 0.00\n",
            "Compute NTK...\n"
          ]
        },
        {
          "name": "stdout",
          "output_type": "stream",
          "text": [
            "2475.1477\n"
          ]
        },
        {
          "name": "stderr",
          "output_type": "stream",
          "text": [
            "It: 14700, Loss: 2.257e+03, Loss_bcs: 3.943e-01, Loss_res: 2.218e+03 ,Time: 0.00\n",
            "Compute NTK...\n"
          ]
        },
        {
          "name": "stdout",
          "output_type": "stream",
          "text": [
            "2462.7908\n"
          ]
        },
        {
          "name": "stderr",
          "output_type": "stream",
          "text": [
            "It: 14800, Loss: 2.244e+03, Loss_bcs: 3.933e-01, Loss_res: 2.205e+03 ,Time: 0.00\n",
            "Compute NTK...\n"
          ]
        },
        {
          "name": "stdout",
          "output_type": "stream",
          "text": [
            "2450.6653\n"
          ]
        },
        {
          "name": "stderr",
          "output_type": "stream",
          "text": [
            "It: 14900, Loss: 2.232e+03, Loss_bcs: 3.923e-01, Loss_res: 2.192e+03 ,Time: 0.00\n",
            "Compute NTK...\n"
          ]
        },
        {
          "name": "stdout",
          "output_type": "stream",
          "text": [
            "2438.777\n"
          ]
        },
        {
          "name": "stderr",
          "output_type": "stream",
          "text": [
            "It: 15000, Loss: 2.219e+03, Loss_bcs: 3.913e-01, Loss_res: 2.180e+03 ,Time: 0.00\n",
            "Compute NTK...\n"
          ]
        },
        {
          "name": "stdout",
          "output_type": "stream",
          "text": [
            "2427.0605\n"
          ]
        },
        {
          "name": "stderr",
          "output_type": "stream",
          "text": [
            "It: 15100, Loss: 2.206e+03, Loss_bcs: 3.903e-01, Loss_res: 2.167e+03 ,Time: 0.00\n",
            "Compute NTK...\n"
          ]
        },
        {
          "name": "stdout",
          "output_type": "stream",
          "text": [
            "2415.517\n"
          ]
        },
        {
          "name": "stderr",
          "output_type": "stream",
          "text": [
            "It: 15200, Loss: 2.194e+03, Loss_bcs: 3.892e-01, Loss_res: 2.155e+03 ,Time: 0.00\n",
            "Compute NTK...\n"
          ]
        },
        {
          "name": "stdout",
          "output_type": "stream",
          "text": [
            "2404.1868\n"
          ]
        },
        {
          "name": "stderr",
          "output_type": "stream",
          "text": [
            "It: 15300, Loss: 2.182e+03, Loss_bcs: 3.882e-01, Loss_res: 2.143e+03 ,Time: 0.00\n",
            "Compute NTK...\n"
          ]
        },
        {
          "name": "stdout",
          "output_type": "stream",
          "text": [
            "2393.0537\n"
          ]
        },
        {
          "name": "stderr",
          "output_type": "stream",
          "text": [
            "It: 15400, Loss: 2.170e+03, Loss_bcs: 3.871e-01, Loss_res: 2.132e+03 ,Time: 0.00\n",
            "Compute NTK...\n"
          ]
        },
        {
          "name": "stdout",
          "output_type": "stream",
          "text": [
            "2382.0732\n"
          ]
        },
        {
          "name": "stderr",
          "output_type": "stream",
          "text": [
            "It: 15500, Loss: 2.159e+03, Loss_bcs: 3.861e-01, Loss_res: 2.120e+03 ,Time: 0.00\n",
            "Compute NTK...\n"
          ]
        },
        {
          "name": "stdout",
          "output_type": "stream",
          "text": [
            "2371.2434\n"
          ]
        },
        {
          "name": "stderr",
          "output_type": "stream",
          "text": [
            "It: 15600, Loss: 2.147e+03, Loss_bcs: 3.851e-01, Loss_res: 2.109e+03 ,Time: 0.00\n",
            "Compute NTK...\n"
          ]
        },
        {
          "name": "stdout",
          "output_type": "stream",
          "text": [
            "2360.5393\n"
          ]
        },
        {
          "name": "stderr",
          "output_type": "stream",
          "text": [
            "It: 15700, Loss: 2.136e+03, Loss_bcs: 3.841e-01, Loss_res: 2.098e+03 ,Time: 0.00\n",
            "Compute NTK...\n"
          ]
        },
        {
          "name": "stdout",
          "output_type": "stream",
          "text": [
            "2349.9355\n"
          ]
        },
        {
          "name": "stderr",
          "output_type": "stream",
          "text": [
            "It: 15800, Loss: 2.125e+03, Loss_bcs: 3.830e-01, Loss_res: 2.087e+03 ,Time: 0.00\n",
            "Compute NTK...\n"
          ]
        },
        {
          "name": "stdout",
          "output_type": "stream",
          "text": [
            "2339.4468\n"
          ]
        },
        {
          "name": "stderr",
          "output_type": "stream",
          "text": [
            "It: 15900, Loss: 2.114e+03, Loss_bcs: 3.820e-01, Loss_res: 2.076e+03 ,Time: 0.00\n",
            "Compute NTK...\n"
          ]
        },
        {
          "name": "stdout",
          "output_type": "stream",
          "text": [
            "2329.074\n"
          ]
        },
        {
          "name": "stderr",
          "output_type": "stream",
          "text": [
            "It: 16000, Loss: 2.104e+03, Loss_bcs: 3.810e-01, Loss_res: 2.065e+03 ,Time: 0.00\n",
            "Compute NTK...\n"
          ]
        },
        {
          "name": "stdout",
          "output_type": "stream",
          "text": [
            "2318.7808\n"
          ]
        },
        {
          "name": "stderr",
          "output_type": "stream",
          "text": [
            "It: 16100, Loss: 2.093e+03, Loss_bcs: 3.801e-01, Loss_res: 2.055e+03 ,Time: 0.00\n",
            "Compute NTK...\n"
          ]
        },
        {
          "name": "stdout",
          "output_type": "stream",
          "text": [
            "2308.5408\n"
          ]
        },
        {
          "name": "stderr",
          "output_type": "stream",
          "text": [
            "It: 16200, Loss: 2.083e+03, Loss_bcs: 3.791e-01, Loss_res: 2.045e+03 ,Time: 0.00\n",
            "Compute NTK...\n"
          ]
        },
        {
          "name": "stdout",
          "output_type": "stream",
          "text": [
            "2298.3557\n"
          ]
        },
        {
          "name": "stderr",
          "output_type": "stream",
          "text": [
            "It: 16300, Loss: 2.072e+03, Loss_bcs: 3.782e-01, Loss_res: 2.035e+03 ,Time: 0.00\n",
            "Compute NTK...\n"
          ]
        },
        {
          "name": "stdout",
          "output_type": "stream",
          "text": [
            "2288.1824\n"
          ]
        },
        {
          "name": "stderr",
          "output_type": "stream",
          "text": [
            "It: 16400, Loss: 2.062e+03, Loss_bcs: 3.773e-01, Loss_res: 2.025e+03 ,Time: 0.00\n",
            "Compute NTK...\n"
          ]
        },
        {
          "name": "stdout",
          "output_type": "stream",
          "text": [
            "2278.1018\n"
          ]
        },
        {
          "name": "stderr",
          "output_type": "stream",
          "text": [
            "It: 16500, Loss: 2.053e+03, Loss_bcs: 3.764e-01, Loss_res: 2.015e+03 ,Time: 0.00\n",
            "Compute NTK...\n"
          ]
        },
        {
          "name": "stdout",
          "output_type": "stream",
          "text": [
            "2268.0754\n"
          ]
        },
        {
          "name": "stderr",
          "output_type": "stream",
          "text": [
            "It: 16600, Loss: 2.043e+03, Loss_bcs: 3.756e-01, Loss_res: 2.005e+03 ,Time: 0.00\n",
            "Compute NTK...\n"
          ]
        },
        {
          "name": "stdout",
          "output_type": "stream",
          "text": [
            "2258.1042\n"
          ]
        },
        {
          "name": "stderr",
          "output_type": "stream",
          "text": [
            "It: 16700, Loss: 2.033e+03, Loss_bcs: 3.747e-01, Loss_res: 1.996e+03 ,Time: 0.00\n",
            "Compute NTK...\n"
          ]
        },
        {
          "name": "stdout",
          "output_type": "stream",
          "text": [
            "2248.1692\n"
          ]
        },
        {
          "name": "stderr",
          "output_type": "stream",
          "text": [
            "It: 16800, Loss: 2.024e+03, Loss_bcs: 3.739e-01, Loss_res: 1.987e+03 ,Time: 0.00\n",
            "Compute NTK...\n"
          ]
        },
        {
          "name": "stdout",
          "output_type": "stream",
          "text": [
            "2238.2708\n"
          ]
        },
        {
          "name": "stderr",
          "output_type": "stream",
          "text": [
            "It: 16900, Loss: 2.015e+03, Loss_bcs: 3.731e-01, Loss_res: 1.977e+03 ,Time: 0.00\n",
            "Compute NTK...\n"
          ]
        },
        {
          "name": "stdout",
          "output_type": "stream",
          "text": [
            "2229.7925\n"
          ]
        },
        {
          "name": "stderr",
          "output_type": "stream",
          "text": [
            "It: 17000, Loss: 2.006e+03, Loss_bcs: 3.723e-01, Loss_res: 1.968e+03 ,Time: 0.00\n",
            "Compute NTK...\n"
          ]
        },
        {
          "name": "stdout",
          "output_type": "stream",
          "text": [
            "2227.6807\n"
          ]
        },
        {
          "name": "stderr",
          "output_type": "stream",
          "text": [
            "It: 17100, Loss: 1.997e+03, Loss_bcs: 3.715e-01, Loss_res: 1.959e+03 ,Time: 0.00\n",
            "Compute NTK...\n"
          ]
        },
        {
          "name": "stdout",
          "output_type": "stream",
          "text": [
            "2225.5588\n"
          ]
        },
        {
          "name": "stderr",
          "output_type": "stream",
          "text": [
            "It: 17200, Loss: 1.988e+03, Loss_bcs: 3.708e-01, Loss_res: 1.951e+03 ,Time: 0.00\n",
            "Compute NTK...\n"
          ]
        },
        {
          "name": "stdout",
          "output_type": "stream",
          "text": [
            "2223.4097\n"
          ]
        },
        {
          "name": "stderr",
          "output_type": "stream",
          "text": [
            "It: 17300, Loss: 1.979e+03, Loss_bcs: 3.700e-01, Loss_res: 1.942e+03 ,Time: 0.00\n",
            "Compute NTK...\n"
          ]
        },
        {
          "name": "stdout",
          "output_type": "stream",
          "text": [
            "2221.2507\n"
          ]
        },
        {
          "name": "stderr",
          "output_type": "stream",
          "text": [
            "It: 17400, Loss: 1.971e+03, Loss_bcs: 3.693e-01, Loss_res: 1.934e+03 ,Time: 0.00\n",
            "Compute NTK...\n"
          ]
        },
        {
          "name": "stdout",
          "output_type": "stream",
          "text": [
            "2219.0637\n"
          ]
        },
        {
          "name": "stderr",
          "output_type": "stream",
          "text": [
            "It: 17500, Loss: 1.962e+03, Loss_bcs: 3.685e-01, Loss_res: 1.925e+03 ,Time: 0.00\n",
            "Compute NTK...\n"
          ]
        },
        {
          "name": "stdout",
          "output_type": "stream",
          "text": [
            "2216.8408\n"
          ]
        },
        {
          "name": "stderr",
          "output_type": "stream",
          "text": [
            "It: 17600, Loss: 1.954e+03, Loss_bcs: 3.678e-01, Loss_res: 1.917e+03 ,Time: 0.00\n",
            "Compute NTK...\n"
          ]
        },
        {
          "name": "stdout",
          "output_type": "stream",
          "text": [
            "2214.584\n"
          ]
        },
        {
          "name": "stderr",
          "output_type": "stream",
          "text": [
            "It: 17700, Loss: 1.946e+03, Loss_bcs: 3.671e-01, Loss_res: 1.909e+03 ,Time: 0.00\n",
            "Compute NTK...\n"
          ]
        },
        {
          "name": "stdout",
          "output_type": "stream",
          "text": [
            "2212.3218\n"
          ]
        },
        {
          "name": "stderr",
          "output_type": "stream",
          "text": [
            "It: 17800, Loss: 1.938e+03, Loss_bcs: 3.664e-01, Loss_res: 1.901e+03 ,Time: 0.00\n",
            "Compute NTK...\n"
          ]
        },
        {
          "name": "stdout",
          "output_type": "stream",
          "text": [
            "2210.0608\n"
          ]
        },
        {
          "name": "stderr",
          "output_type": "stream",
          "text": [
            "It: 17900, Loss: 1.930e+03, Loss_bcs: 3.657e-01, Loss_res: 1.893e+03 ,Time: 0.00\n",
            "Compute NTK...\n"
          ]
        },
        {
          "name": "stdout",
          "output_type": "stream",
          "text": [
            "2207.7947\n"
          ]
        },
        {
          "name": "stderr",
          "output_type": "stream",
          "text": [
            "It: 18000, Loss: 1.922e+03, Loss_bcs: 3.651e-01, Loss_res: 1.885e+03 ,Time: 0.00\n",
            "Compute NTK...\n"
          ]
        },
        {
          "name": "stdout",
          "output_type": "stream",
          "text": [
            "2205.5195\n"
          ]
        },
        {
          "name": "stderr",
          "output_type": "stream",
          "text": [
            "It: 18100, Loss: 1.914e+03, Loss_bcs: 3.644e-01, Loss_res: 1.878e+03 ,Time: 0.00\n",
            "Compute NTK...\n"
          ]
        },
        {
          "name": "stdout",
          "output_type": "stream",
          "text": [
            "2203.2324\n"
          ]
        },
        {
          "name": "stderr",
          "output_type": "stream",
          "text": [
            "It: 18200, Loss: 1.907e+03, Loss_bcs: 3.638e-01, Loss_res: 1.870e+03 ,Time: 0.00\n",
            "Compute NTK...\n"
          ]
        },
        {
          "name": "stdout",
          "output_type": "stream",
          "text": [
            "2200.9336\n"
          ]
        },
        {
          "name": "stderr",
          "output_type": "stream",
          "text": [
            "It: 18300, Loss: 1.899e+03, Loss_bcs: 3.631e-01, Loss_res: 1.863e+03 ,Time: 0.00\n",
            "Compute NTK...\n"
          ]
        },
        {
          "name": "stdout",
          "output_type": "stream",
          "text": [
            "2198.6245\n"
          ]
        },
        {
          "name": "stderr",
          "output_type": "stream",
          "text": [
            "It: 18400, Loss: 1.892e+03, Loss_bcs: 3.625e-01, Loss_res: 1.856e+03 ,Time: 0.00\n",
            "Compute NTK...\n"
          ]
        },
        {
          "name": "stdout",
          "output_type": "stream",
          "text": [
            "2196.2976\n"
          ]
        },
        {
          "name": "stderr",
          "output_type": "stream",
          "text": [
            "It: 18500, Loss: 1.885e+03, Loss_bcs: 3.619e-01, Loss_res: 1.849e+03 ,Time: 0.00\n",
            "Compute NTK...\n"
          ]
        },
        {
          "name": "stdout",
          "output_type": "stream",
          "text": [
            "2194.0017\n"
          ]
        },
        {
          "name": "stderr",
          "output_type": "stream",
          "text": [
            "It: 18600, Loss: 1.878e+03, Loss_bcs: 3.613e-01, Loss_res: 1.841e+03 ,Time: 0.00\n",
            "Compute NTK...\n"
          ]
        },
        {
          "name": "stdout",
          "output_type": "stream",
          "text": [
            "2191.7588\n"
          ]
        },
        {
          "name": "stderr",
          "output_type": "stream",
          "text": [
            "It: 18700, Loss: 1.871e+03, Loss_bcs: 3.606e-01, Loss_res: 1.834e+03 ,Time: 0.00\n",
            "Compute NTK...\n"
          ]
        },
        {
          "name": "stdout",
          "output_type": "stream",
          "text": [
            "2189.5486\n"
          ]
        },
        {
          "name": "stderr",
          "output_type": "stream",
          "text": [
            "It: 18800, Loss: 1.864e+03, Loss_bcs: 3.600e-01, Loss_res: 1.828e+03 ,Time: 0.00\n",
            "Compute NTK...\n"
          ]
        },
        {
          "name": "stdout",
          "output_type": "stream",
          "text": [
            "2187.3452\n"
          ]
        },
        {
          "name": "stderr",
          "output_type": "stream",
          "text": [
            "It: 18900, Loss: 1.857e+03, Loss_bcs: 3.594e-01, Loss_res: 1.821e+03 ,Time: 0.00\n",
            "Compute NTK...\n"
          ]
        },
        {
          "name": "stdout",
          "output_type": "stream",
          "text": [
            "2185.1497\n"
          ]
        },
        {
          "name": "stderr",
          "output_type": "stream",
          "text": [
            "It: 19000, Loss: 1.850e+03, Loss_bcs: 3.588e-01, Loss_res: 1.814e+03 ,Time: 0.00\n",
            "Compute NTK...\n"
          ]
        },
        {
          "name": "stdout",
          "output_type": "stream",
          "text": [
            "2182.9644\n"
          ]
        },
        {
          "name": "stderr",
          "output_type": "stream",
          "text": [
            "It: 19100, Loss: 1.844e+03, Loss_bcs: 3.582e-01, Loss_res: 1.808e+03 ,Time: 0.00\n",
            "Compute NTK...\n"
          ]
        },
        {
          "name": "stdout",
          "output_type": "stream",
          "text": [
            "2180.7856\n"
          ]
        },
        {
          "name": "stderr",
          "output_type": "stream",
          "text": [
            "It: 19200, Loss: 1.837e+03, Loss_bcs: 3.577e-01, Loss_res: 1.801e+03 ,Time: 0.00\n",
            "Compute NTK...\n"
          ]
        },
        {
          "name": "stdout",
          "output_type": "stream",
          "text": [
            "2178.6042\n"
          ]
        },
        {
          "name": "stderr",
          "output_type": "stream",
          "text": [
            "It: 19300, Loss: 1.831e+03, Loss_bcs: 3.571e-01, Loss_res: 1.795e+03 ,Time: 0.00\n",
            "Compute NTK...\n"
          ]
        },
        {
          "name": "stdout",
          "output_type": "stream",
          "text": [
            "2176.442\n"
          ]
        },
        {
          "name": "stderr",
          "output_type": "stream",
          "text": [
            "It: 19400, Loss: 1.824e+03, Loss_bcs: 3.565e-01, Loss_res: 1.789e+03 ,Time: 0.00\n",
            "Compute NTK...\n"
          ]
        },
        {
          "name": "stdout",
          "output_type": "stream",
          "text": [
            "2174.3145\n"
          ]
        },
        {
          "name": "stderr",
          "output_type": "stream",
          "text": [
            "It: 19500, Loss: 1.818e+03, Loss_bcs: 3.560e-01, Loss_res: 1.782e+03 ,Time: 0.00\n",
            "Compute NTK...\n"
          ]
        },
        {
          "name": "stdout",
          "output_type": "stream",
          "text": [
            "2172.238\n"
          ]
        },
        {
          "name": "stderr",
          "output_type": "stream",
          "text": [
            "It: 19600, Loss: 1.812e+03, Loss_bcs: 3.554e-01, Loss_res: 1.776e+03 ,Time: 0.00\n",
            "Compute NTK...\n"
          ]
        },
        {
          "name": "stdout",
          "output_type": "stream",
          "text": [
            "2170.1858\n"
          ]
        },
        {
          "name": "stderr",
          "output_type": "stream",
          "text": [
            "It: 19700, Loss: 1.806e+03, Loss_bcs: 3.548e-01, Loss_res: 1.770e+03 ,Time: 0.00\n",
            "Compute NTK...\n"
          ]
        },
        {
          "name": "stdout",
          "output_type": "stream",
          "text": [
            "2168.1514\n"
          ]
        },
        {
          "name": "stderr",
          "output_type": "stream",
          "text": [
            "It: 19800, Loss: 1.800e+03, Loss_bcs: 3.543e-01, Loss_res: 1.764e+03 ,Time: 0.00\n",
            "Compute NTK...\n"
          ]
        },
        {
          "name": "stdout",
          "output_type": "stream",
          "text": [
            "2166.1309\n"
          ]
        },
        {
          "name": "stderr",
          "output_type": "stream",
          "text": [
            "It: 19900, Loss: 1.794e+03, Loss_bcs: 3.538e-01, Loss_res: 1.759e+03 ,Time: 0.00\n",
            "Compute NTK...\n"
          ]
        },
        {
          "name": "stdout",
          "output_type": "stream",
          "text": [
            "2164.137\n"
          ]
        },
        {
          "name": "stderr",
          "output_type": "stream",
          "text": [
            "It: 20000, Loss: 1.788e+03, Loss_bcs: 3.532e-01, Loss_res: 1.753e+03 ,Time: 0.00\n",
            "Compute NTK...\n"
          ]
        },
        {
          "name": "stdout",
          "output_type": "stream",
          "text": [
            "2162.152\n"
          ]
        },
        {
          "name": "stderr",
          "output_type": "stream",
          "text": [
            "It: 20100, Loss: 1.782e+03, Loss_bcs: 3.527e-01, Loss_res: 1.747e+03 ,Time: 0.00\n",
            "Compute NTK...\n"
          ]
        },
        {
          "name": "stdout",
          "output_type": "stream",
          "text": [
            "2160.169\n"
          ]
        },
        {
          "name": "stderr",
          "output_type": "stream",
          "text": [
            "It: 20200, Loss: 1.777e+03, Loss_bcs: 3.522e-01, Loss_res: 1.742e+03 ,Time: 0.00\n",
            "Compute NTK...\n"
          ]
        },
        {
          "name": "stdout",
          "output_type": "stream",
          "text": [
            "2158.2188\n"
          ]
        },
        {
          "name": "stderr",
          "output_type": "stream",
          "text": [
            "It: 20300, Loss: 1.771e+03, Loss_bcs: 3.516e-01, Loss_res: 1.736e+03 ,Time: 0.00\n",
            "Compute NTK...\n"
          ]
        },
        {
          "name": "stdout",
          "output_type": "stream",
          "text": [
            "2156.3274\n"
          ]
        },
        {
          "name": "stderr",
          "output_type": "stream",
          "text": [
            "It: 20400, Loss: 1.766e+03, Loss_bcs: 3.511e-01, Loss_res: 1.731e+03 ,Time: 0.00\n",
            "Compute NTK...\n"
          ]
        },
        {
          "name": "stdout",
          "output_type": "stream",
          "text": [
            "2154.4958\n"
          ]
        },
        {
          "name": "stderr",
          "output_type": "stream",
          "text": [
            "It: 20500, Loss: 1.760e+03, Loss_bcs: 3.505e-01, Loss_res: 1.725e+03 ,Time: 0.00\n",
            "Compute NTK...\n"
          ]
        },
        {
          "name": "stdout",
          "output_type": "stream",
          "text": [
            "2152.7202\n"
          ]
        },
        {
          "name": "stderr",
          "output_type": "stream",
          "text": [
            "It: 20600, Loss: 1.755e+03, Loss_bcs: 3.500e-01, Loss_res: 1.720e+03 ,Time: 0.00\n",
            "Compute NTK...\n"
          ]
        },
        {
          "name": "stdout",
          "output_type": "stream",
          "text": [
            "2150.9841\n"
          ]
        },
        {
          "name": "stderr",
          "output_type": "stream",
          "text": [
            "It: 20700, Loss: 1.750e+03, Loss_bcs: 3.494e-01, Loss_res: 1.715e+03 ,Time: 0.00\n",
            "Compute NTK...\n"
          ]
        },
        {
          "name": "stdout",
          "output_type": "stream",
          "text": [
            "2149.2559\n"
          ]
        },
        {
          "name": "stderr",
          "output_type": "stream",
          "text": [
            "It: 20800, Loss: 1.745e+03, Loss_bcs: 3.489e-01, Loss_res: 1.710e+03 ,Time: 0.00\n",
            "Compute NTK...\n"
          ]
        },
        {
          "name": "stdout",
          "output_type": "stream",
          "text": [
            "2147.561\n"
          ]
        },
        {
          "name": "stderr",
          "output_type": "stream",
          "text": [
            "It: 20900, Loss: 1.739e+03, Loss_bcs: 3.484e-01, Loss_res: 1.705e+03 ,Time: 0.00\n",
            "Compute NTK...\n"
          ]
        },
        {
          "name": "stdout",
          "output_type": "stream",
          "text": [
            "2145.8816\n"
          ]
        },
        {
          "name": "stderr",
          "output_type": "stream",
          "text": [
            "It: 21000, Loss: 1.734e+03, Loss_bcs: 3.478e-01, Loss_res: 1.700e+03 ,Time: 0.00\n",
            "Compute NTK...\n"
          ]
        },
        {
          "name": "stdout",
          "output_type": "stream",
          "text": [
            "2144.2126\n"
          ]
        },
        {
          "name": "stderr",
          "output_type": "stream",
          "text": [
            "It: 21100, Loss: 1.729e+03, Loss_bcs: 3.473e-01, Loss_res: 1.695e+03 ,Time: 0.00\n",
            "Compute NTK...\n"
          ]
        },
        {
          "name": "stdout",
          "output_type": "stream",
          "text": [
            "2142.5566\n"
          ]
        },
        {
          "name": "stderr",
          "output_type": "stream",
          "text": [
            "It: 21200, Loss: 1.724e+03, Loss_bcs: 3.468e-01, Loss_res: 1.690e+03 ,Time: 0.00\n",
            "Compute NTK...\n"
          ]
        },
        {
          "name": "stdout",
          "output_type": "stream",
          "text": [
            "2140.9246\n"
          ]
        },
        {
          "name": "stderr",
          "output_type": "stream",
          "text": [
            "It: 21300, Loss: 1.720e+03, Loss_bcs: 3.463e-01, Loss_res: 1.685e+03 ,Time: 0.00\n",
            "Compute NTK...\n"
          ]
        },
        {
          "name": "stdout",
          "output_type": "stream",
          "text": [
            "2139.305\n"
          ]
        },
        {
          "name": "stderr",
          "output_type": "stream",
          "text": [
            "It: 21400, Loss: 1.715e+03, Loss_bcs: 3.457e-01, Loss_res: 1.680e+03 ,Time: 0.00\n",
            "Compute NTK...\n"
          ]
        },
        {
          "name": "stdout",
          "output_type": "stream",
          "text": [
            "2137.7463\n"
          ]
        },
        {
          "name": "stderr",
          "output_type": "stream",
          "text": [
            "It: 21500, Loss: 1.710e+03, Loss_bcs: 3.452e-01, Loss_res: 1.676e+03 ,Time: 0.00\n",
            "Compute NTK...\n"
          ]
        },
        {
          "name": "stdout",
          "output_type": "stream",
          "text": [
            "2136.2512\n"
          ]
        },
        {
          "name": "stderr",
          "output_type": "stream",
          "text": [
            "It: 21600, Loss: 1.705e+03, Loss_bcs: 3.447e-01, Loss_res: 1.671e+03 ,Time: 0.00\n",
            "Compute NTK...\n"
          ]
        },
        {
          "name": "stdout",
          "output_type": "stream",
          "text": [
            "2134.8074\n"
          ]
        },
        {
          "name": "stderr",
          "output_type": "stream",
          "text": [
            "It: 21700, Loss: 1.701e+03, Loss_bcs: 3.441e-01, Loss_res: 1.666e+03 ,Time: 0.00\n",
            "Compute NTK...\n"
          ]
        },
        {
          "name": "stdout",
          "output_type": "stream",
          "text": [
            "2133.404\n"
          ]
        },
        {
          "name": "stderr",
          "output_type": "stream",
          "text": [
            "It: 21800, Loss: 1.696e+03, Loss_bcs: 3.436e-01, Loss_res: 1.662e+03 ,Time: 0.00\n",
            "Compute NTK...\n"
          ]
        },
        {
          "name": "stdout",
          "output_type": "stream",
          "text": [
            "2132.0447\n"
          ]
        },
        {
          "name": "stderr",
          "output_type": "stream",
          "text": [
            "It: 21900, Loss: 1.692e+03, Loss_bcs: 3.430e-01, Loss_res: 1.657e+03 ,Time: 0.00\n",
            "Compute NTK...\n"
          ]
        },
        {
          "name": "stdout",
          "output_type": "stream",
          "text": [
            "2130.7158\n"
          ]
        },
        {
          "name": "stderr",
          "output_type": "stream",
          "text": [
            "It: 22000, Loss: 1.687e+03, Loss_bcs: 3.425e-01, Loss_res: 1.653e+03 ,Time: 0.00\n",
            "Compute NTK...\n"
          ]
        },
        {
          "name": "stdout",
          "output_type": "stream",
          "text": [
            "2129.419\n"
          ]
        },
        {
          "name": "stderr",
          "output_type": "stream",
          "text": [
            "It: 22100, Loss: 1.683e+03, Loss_bcs: 3.419e-01, Loss_res: 1.649e+03 ,Time: 0.00\n",
            "Compute NTK...\n"
          ]
        },
        {
          "name": "stdout",
          "output_type": "stream",
          "text": [
            "2128.1897\n"
          ]
        },
        {
          "name": "stderr",
          "output_type": "stream",
          "text": [
            "It: 22200, Loss: 1.679e+03, Loss_bcs: 3.414e-01, Loss_res: 1.645e+03 ,Time: 0.00\n",
            "Compute NTK...\n"
          ]
        },
        {
          "name": "stdout",
          "output_type": "stream",
          "text": [
            "2126.9844\n"
          ]
        },
        {
          "name": "stderr",
          "output_type": "stream",
          "text": [
            "It: 22300, Loss: 1.674e+03, Loss_bcs: 3.408e-01, Loss_res: 1.640e+03 ,Time: 0.00\n",
            "Compute NTK...\n"
          ]
        },
        {
          "name": "stdout",
          "output_type": "stream",
          "text": [
            "2125.8433\n"
          ]
        },
        {
          "name": "stderr",
          "output_type": "stream",
          "text": [
            "It: 22400, Loss: 1.670e+03, Loss_bcs: 3.402e-01, Loss_res: 1.636e+03 ,Time: 0.00\n",
            "Compute NTK...\n"
          ]
        },
        {
          "name": "stdout",
          "output_type": "stream",
          "text": [
            "2124.783\n"
          ]
        },
        {
          "name": "stderr",
          "output_type": "stream",
          "text": [
            "It: 22500, Loss: 1.666e+03, Loss_bcs: 3.396e-01, Loss_res: 1.632e+03 ,Time: 0.00\n",
            "Compute NTK...\n"
          ]
        },
        {
          "name": "stdout",
          "output_type": "stream",
          "text": [
            "2123.7817\n"
          ]
        },
        {
          "name": "stderr",
          "output_type": "stream",
          "text": [
            "It: 22600, Loss: 1.662e+03, Loss_bcs: 3.390e-01, Loss_res: 1.628e+03 ,Time: 0.00\n",
            "Compute NTK...\n"
          ]
        },
        {
          "name": "stdout",
          "output_type": "stream",
          "text": [
            "2122.8604\n"
          ]
        },
        {
          "name": "stderr",
          "output_type": "stream",
          "text": [
            "It: 22700, Loss: 1.658e+03, Loss_bcs: 3.384e-01, Loss_res: 1.624e+03 ,Time: 0.00\n",
            "Compute NTK...\n"
          ]
        },
        {
          "name": "stdout",
          "output_type": "stream",
          "text": [
            "2122.006\n"
          ]
        },
        {
          "name": "stderr",
          "output_type": "stream",
          "text": [
            "It: 22800, Loss: 1.654e+03, Loss_bcs: 3.378e-01, Loss_res: 1.620e+03 ,Time: 0.00\n",
            "Compute NTK...\n"
          ]
        },
        {
          "name": "stdout",
          "output_type": "stream",
          "text": [
            "2121.2017\n"
          ]
        },
        {
          "name": "stderr",
          "output_type": "stream",
          "text": [
            "It: 22900, Loss: 1.650e+03, Loss_bcs: 3.372e-01, Loss_res: 1.616e+03 ,Time: 0.00\n",
            "Compute NTK...\n"
          ]
        },
        {
          "name": "stdout",
          "output_type": "stream",
          "text": [
            "2120.4324\n"
          ]
        },
        {
          "name": "stderr",
          "output_type": "stream",
          "text": [
            "It: 23000, Loss: 1.646e+03, Loss_bcs: 3.365e-01, Loss_res: 1.612e+03 ,Time: 0.00\n",
            "Compute NTK...\n"
          ]
        },
        {
          "name": "stdout",
          "output_type": "stream",
          "text": [
            "2119.6733\n"
          ]
        },
        {
          "name": "stderr",
          "output_type": "stream",
          "text": [
            "It: 23100, Loss: 1.642e+03, Loss_bcs: 3.359e-01, Loss_res: 1.609e+03 ,Time: 0.00\n",
            "Compute NTK...\n"
          ]
        },
        {
          "name": "stdout",
          "output_type": "stream",
          "text": [
            "2118.926\n"
          ]
        },
        {
          "name": "stderr",
          "output_type": "stream",
          "text": [
            "It: 23200, Loss: 1.638e+03, Loss_bcs: 3.353e-01, Loss_res: 1.605e+03 ,Time: 0.00\n",
            "Compute NTK...\n"
          ]
        },
        {
          "name": "stdout",
          "output_type": "stream",
          "text": [
            "2118.1821\n"
          ]
        },
        {
          "name": "stderr",
          "output_type": "stream",
          "text": [
            "It: 23300, Loss: 1.635e+03, Loss_bcs: 3.348e-01, Loss_res: 1.601e+03 ,Time: 0.00\n",
            "Compute NTK...\n"
          ]
        },
        {
          "name": "stdout",
          "output_type": "stream",
          "text": [
            "2117.437\n"
          ]
        },
        {
          "name": "stderr",
          "output_type": "stream",
          "text": [
            "It: 23400, Loss: 1.631e+03, Loss_bcs: 3.342e-01, Loss_res: 1.597e+03 ,Time: 0.00\n",
            "Compute NTK...\n"
          ]
        },
        {
          "name": "stdout",
          "output_type": "stream",
          "text": [
            "2116.6792\n"
          ]
        },
        {
          "name": "stderr",
          "output_type": "stream",
          "text": [
            "It: 23500, Loss: 1.627e+03, Loss_bcs: 3.336e-01, Loss_res: 1.594e+03 ,Time: 0.00\n",
            "Compute NTK...\n"
          ]
        },
        {
          "name": "stdout",
          "output_type": "stream",
          "text": [
            "2115.9067\n"
          ]
        },
        {
          "name": "stderr",
          "output_type": "stream",
          "text": [
            "It: 23600, Loss: 1.624e+03, Loss_bcs: 3.331e-01, Loss_res: 1.590e+03 ,Time: 0.00\n",
            "Compute NTK...\n"
          ]
        },
        {
          "name": "stdout",
          "output_type": "stream",
          "text": [
            "2115.1335\n"
          ]
        },
        {
          "name": "stderr",
          "output_type": "stream",
          "text": [
            "It: 23700, Loss: 1.620e+03, Loss_bcs: 3.325e-01, Loss_res: 1.587e+03 ,Time: 0.00\n",
            "Compute NTK...\n"
          ]
        },
        {
          "name": "stdout",
          "output_type": "stream",
          "text": [
            "2114.3484\n"
          ]
        },
        {
          "name": "stderr",
          "output_type": "stream",
          "text": [
            "It: 23800, Loss: 1.617e+03, Loss_bcs: 3.320e-01, Loss_res: 1.583e+03 ,Time: 0.00\n",
            "Compute NTK...\n"
          ]
        },
        {
          "name": "stdout",
          "output_type": "stream",
          "text": [
            "2113.5962\n"
          ]
        },
        {
          "name": "stderr",
          "output_type": "stream",
          "text": [
            "It: 23900, Loss: 1.613e+03, Loss_bcs: 3.315e-01, Loss_res: 1.580e+03 ,Time: 0.00\n",
            "Compute NTK...\n"
          ]
        },
        {
          "name": "stdout",
          "output_type": "stream",
          "text": [
            "2112.8364\n"
          ]
        },
        {
          "name": "stderr",
          "output_type": "stream",
          "text": [
            "It: 24000, Loss: 1.610e+03, Loss_bcs: 3.309e-01, Loss_res: 1.577e+03 ,Time: 0.00\n",
            "Compute NTK...\n"
          ]
        },
        {
          "name": "stdout",
          "output_type": "stream",
          "text": [
            "2112.1016\n"
          ]
        },
        {
          "name": "stderr",
          "output_type": "stream",
          "text": [
            "It: 24100, Loss: 1.606e+03, Loss_bcs: 3.304e-01, Loss_res: 1.573e+03 ,Time: 0.00\n",
            "Compute NTK...\n"
          ]
        },
        {
          "name": "stdout",
          "output_type": "stream",
          "text": [
            "2111.3818\n"
          ]
        },
        {
          "name": "stderr",
          "output_type": "stream",
          "text": [
            "It: 24200, Loss: 1.603e+03, Loss_bcs: 3.299e-01, Loss_res: 1.570e+03 ,Time: 0.00\n",
            "Compute NTK...\n"
          ]
        },
        {
          "name": "stdout",
          "output_type": "stream",
          "text": [
            "2110.6804\n"
          ]
        },
        {
          "name": "stderr",
          "output_type": "stream",
          "text": [
            "It: 24300, Loss: 1.600e+03, Loss_bcs: 3.294e-01, Loss_res: 1.567e+03 ,Time: 0.00\n",
            "Compute NTK...\n"
          ]
        },
        {
          "name": "stdout",
          "output_type": "stream",
          "text": [
            "2109.9697\n"
          ]
        },
        {
          "name": "stderr",
          "output_type": "stream",
          "text": [
            "It: 24400, Loss: 1.596e+03, Loss_bcs: 3.289e-01, Loss_res: 1.563e+03 ,Time: 0.00\n",
            "Compute NTK...\n"
          ]
        },
        {
          "name": "stdout",
          "output_type": "stream",
          "text": [
            "2109.2412\n"
          ]
        },
        {
          "name": "stderr",
          "output_type": "stream",
          "text": [
            "It: 24500, Loss: 1.593e+03, Loss_bcs: 3.284e-01, Loss_res: 1.560e+03 ,Time: 0.00\n",
            "Compute NTK...\n"
          ]
        },
        {
          "name": "stdout",
          "output_type": "stream",
          "text": [
            "2108.528\n"
          ]
        },
        {
          "name": "stderr",
          "output_type": "stream",
          "text": [
            "It: 24600, Loss: 1.590e+03, Loss_bcs: 3.279e-01, Loss_res: 1.557e+03 ,Time: 0.00\n",
            "Compute NTK...\n"
          ]
        },
        {
          "name": "stdout",
          "output_type": "stream",
          "text": [
            "2107.8286\n"
          ]
        },
        {
          "name": "stderr",
          "output_type": "stream",
          "text": [
            "It: 24700, Loss: 1.587e+03, Loss_bcs: 3.274e-01, Loss_res: 1.554e+03 ,Time: 0.00\n",
            "Compute NTK...\n"
          ]
        },
        {
          "name": "stdout",
          "output_type": "stream",
          "text": [
            "2107.1292\n"
          ]
        },
        {
          "name": "stderr",
          "output_type": "stream",
          "text": [
            "It: 24800, Loss: 1.584e+03, Loss_bcs: 3.269e-01, Loss_res: 1.551e+03 ,Time: 0.00\n",
            "Compute NTK...\n"
          ]
        },
        {
          "name": "stdout",
          "output_type": "stream",
          "text": [
            "2106.4226\n"
          ]
        },
        {
          "name": "stderr",
          "output_type": "stream",
          "text": [
            "It: 24900, Loss: 1.581e+03, Loss_bcs: 3.264e-01, Loss_res: 1.548e+03 ,Time: 0.00\n",
            "Compute NTK...\n"
          ]
        },
        {
          "name": "stdout",
          "output_type": "stream",
          "text": [
            "2105.7173\n"
          ]
        },
        {
          "name": "stderr",
          "output_type": "stream",
          "text": [
            "It: 25000, Loss: 1.578e+03, Loss_bcs: 3.260e-01, Loss_res: 1.545e+03 ,Time: 0.00\n",
            "Compute NTK...\n"
          ]
        },
        {
          "name": "stdout",
          "output_type": "stream",
          "text": [
            "2104.9946\n"
          ]
        },
        {
          "name": "stderr",
          "output_type": "stream",
          "text": [
            "It: 25100, Loss: 1.575e+03, Loss_bcs: 3.255e-01, Loss_res: 1.542e+03 ,Time: 0.00\n",
            "Compute NTK...\n"
          ]
        },
        {
          "name": "stdout",
          "output_type": "stream",
          "text": [
            "2104.304\n"
          ]
        },
        {
          "name": "stderr",
          "output_type": "stream",
          "text": [
            "It: 25200, Loss: 1.572e+03, Loss_bcs: 3.250e-01, Loss_res: 1.539e+03 ,Time: 0.00\n",
            "Compute NTK...\n"
          ]
        },
        {
          "name": "stdout",
          "output_type": "stream",
          "text": [
            "2103.6216\n"
          ]
        },
        {
          "name": "stderr",
          "output_type": "stream",
          "text": [
            "It: 25300, Loss: 1.569e+03, Loss_bcs: 3.246e-01, Loss_res: 1.536e+03 ,Time: 0.00\n",
            "Compute NTK...\n"
          ]
        },
        {
          "name": "stdout",
          "output_type": "stream",
          "text": [
            "2102.9856\n"
          ]
        },
        {
          "name": "stderr",
          "output_type": "stream",
          "text": [
            "It: 25400, Loss: 1.566e+03, Loss_bcs: 3.241e-01, Loss_res: 1.533e+03 ,Time: 0.00\n",
            "Compute NTK...\n"
          ]
        },
        {
          "name": "stdout",
          "output_type": "stream",
          "text": [
            "2102.3652\n"
          ]
        },
        {
          "name": "stderr",
          "output_type": "stream",
          "text": [
            "It: 25500, Loss: 1.563e+03, Loss_bcs: 3.236e-01, Loss_res: 1.530e+03 ,Time: 0.00\n",
            "Compute NTK...\n"
          ]
        },
        {
          "name": "stdout",
          "output_type": "stream",
          "text": [
            "2101.7725\n"
          ]
        },
        {
          "name": "stderr",
          "output_type": "stream",
          "text": [
            "It: 25600, Loss: 1.560e+03, Loss_bcs: 3.231e-01, Loss_res: 1.528e+03 ,Time: 0.00\n",
            "Compute NTK...\n"
          ]
        },
        {
          "name": "stdout",
          "output_type": "stream",
          "text": [
            "2101.183\n"
          ]
        },
        {
          "name": "stderr",
          "output_type": "stream",
          "text": [
            "It: 25700, Loss: 1.557e+03, Loss_bcs: 3.227e-01, Loss_res: 1.525e+03 ,Time: 0.00\n",
            "Compute NTK...\n"
          ]
        },
        {
          "name": "stdout",
          "output_type": "stream",
          "text": [
            "2100.6384\n"
          ]
        },
        {
          "name": "stderr",
          "output_type": "stream",
          "text": [
            "It: 25800, Loss: 1.554e+03, Loss_bcs: 3.222e-01, Loss_res: 1.522e+03 ,Time: 0.00\n",
            "Compute NTK...\n"
          ]
        },
        {
          "name": "stdout",
          "output_type": "stream",
          "text": [
            "2100.1382\n"
          ]
        },
        {
          "name": "stderr",
          "output_type": "stream",
          "text": [
            "It: 25900, Loss: 1.552e+03, Loss_bcs: 3.217e-01, Loss_res: 1.520e+03 ,Time: 0.00\n",
            "Compute NTK...\n"
          ]
        },
        {
          "name": "stdout",
          "output_type": "stream",
          "text": [
            "2099.6514\n"
          ]
        },
        {
          "name": "stderr",
          "output_type": "stream",
          "text": [
            "It: 26000, Loss: 1.549e+03, Loss_bcs: 3.213e-01, Loss_res: 1.517e+03 ,Time: 0.00\n",
            "Compute NTK...\n"
          ]
        },
        {
          "name": "stdout",
          "output_type": "stream",
          "text": [
            "2099.1545\n"
          ]
        },
        {
          "name": "stderr",
          "output_type": "stream",
          "text": [
            "It: 26100, Loss: 1.546e+03, Loss_bcs: 3.208e-01, Loss_res: 1.514e+03 ,Time: 0.00\n",
            "Compute NTK...\n"
          ]
        },
        {
          "name": "stdout",
          "output_type": "stream",
          "text": [
            "2098.656\n"
          ]
        },
        {
          "name": "stderr",
          "output_type": "stream",
          "text": [
            "It: 26200, Loss: 1.544e+03, Loss_bcs: 3.203e-01, Loss_res: 1.512e+03 ,Time: 0.00\n",
            "Compute NTK...\n"
          ]
        },
        {
          "name": "stdout",
          "output_type": "stream",
          "text": [
            "2098.1917\n"
          ]
        },
        {
          "name": "stderr",
          "output_type": "stream",
          "text": [
            "It: 26300, Loss: 1.541e+03, Loss_bcs: 3.199e-01, Loss_res: 1.509e+03 ,Time: 0.00\n",
            "Compute NTK...\n"
          ]
        },
        {
          "name": "stdout",
          "output_type": "stream",
          "text": [
            "2097.7532\n"
          ]
        },
        {
          "name": "stderr",
          "output_type": "stream",
          "text": [
            "It: 26400, Loss: 1.539e+03, Loss_bcs: 3.194e-01, Loss_res: 1.507e+03 ,Time: 0.00\n",
            "Compute NTK...\n"
          ]
        },
        {
          "name": "stdout",
          "output_type": "stream",
          "text": [
            "2097.3064\n"
          ]
        },
        {
          "name": "stderr",
          "output_type": "stream",
          "text": [
            "It: 26500, Loss: 1.536e+03, Loss_bcs: 3.190e-01, Loss_res: 1.504e+03 ,Time: 0.01\n",
            "Compute NTK...\n"
          ]
        },
        {
          "name": "stdout",
          "output_type": "stream",
          "text": [
            "2096.8372\n"
          ]
        },
        {
          "name": "stderr",
          "output_type": "stream",
          "text": [
            "It: 26600, Loss: 1.534e+03, Loss_bcs: 3.186e-01, Loss_res: 1.502e+03 ,Time: 0.00\n",
            "Compute NTK...\n"
          ]
        },
        {
          "name": "stdout",
          "output_type": "stream",
          "text": [
            "2096.3748\n"
          ]
        },
        {
          "name": "stderr",
          "output_type": "stream",
          "text": [
            "It: 26700, Loss: 1.531e+03, Loss_bcs: 3.181e-01, Loss_res: 1.499e+03 ,Time: 0.00\n",
            "Compute NTK...\n"
          ]
        },
        {
          "name": "stdout",
          "output_type": "stream",
          "text": [
            "2095.8923\n"
          ]
        },
        {
          "name": "stderr",
          "output_type": "stream",
          "text": [
            "It: 26800, Loss: 1.529e+03, Loss_bcs: 3.177e-01, Loss_res: 1.497e+03 ,Time: 0.00\n",
            "Compute NTK...\n"
          ]
        },
        {
          "name": "stdout",
          "output_type": "stream",
          "text": [
            "2095.4329\n"
          ]
        },
        {
          "name": "stderr",
          "output_type": "stream",
          "text": [
            "It: 26900, Loss: 1.526e+03, Loss_bcs: 3.173e-01, Loss_res: 1.494e+03 ,Time: 0.00\n",
            "Compute NTK...\n"
          ]
        },
        {
          "name": "stdout",
          "output_type": "stream",
          "text": [
            "2096.1511\n"
          ]
        },
        {
          "name": "stderr",
          "output_type": "stream",
          "text": [
            "It: 27000, Loss: 1.524e+03, Loss_bcs: 3.169e-01, Loss_res: 1.492e+03 ,Time: 0.00\n",
            "Compute NTK...\n"
          ]
        },
        {
          "name": "stdout",
          "output_type": "stream",
          "text": [
            "2097.3833\n"
          ]
        },
        {
          "name": "stderr",
          "output_type": "stream",
          "text": [
            "It: 27100, Loss: 1.521e+03, Loss_bcs: 3.165e-01, Loss_res: 1.490e+03 ,Time: 0.00\n",
            "Compute NTK...\n"
          ]
        },
        {
          "name": "stdout",
          "output_type": "stream",
          "text": [
            "2098.6204\n"
          ]
        },
        {
          "name": "stderr",
          "output_type": "stream",
          "text": [
            "It: 27200, Loss: 1.519e+03, Loss_bcs: 3.161e-01, Loss_res: 1.487e+03 ,Time: 0.00\n",
            "Compute NTK...\n"
          ]
        },
        {
          "name": "stdout",
          "output_type": "stream",
          "text": [
            "2099.8418\n"
          ]
        },
        {
          "name": "stderr",
          "output_type": "stream",
          "text": [
            "It: 27300, Loss: 1.517e+03, Loss_bcs: 3.157e-01, Loss_res: 1.485e+03 ,Time: 0.00\n",
            "Compute NTK...\n"
          ]
        },
        {
          "name": "stdout",
          "output_type": "stream",
          "text": [
            "2101.0566\n"
          ]
        },
        {
          "name": "stderr",
          "output_type": "stream",
          "text": [
            "It: 27400, Loss: 1.515e+03, Loss_bcs: 3.153e-01, Loss_res: 1.483e+03 ,Time: 0.00\n",
            "Compute NTK...\n"
          ]
        },
        {
          "name": "stdout",
          "output_type": "stream",
          "text": [
            "2102.2444\n"
          ]
        },
        {
          "name": "stderr",
          "output_type": "stream",
          "text": [
            "It: 27500, Loss: 1.512e+03, Loss_bcs: 3.149e-01, Loss_res: 1.481e+03 ,Time: 0.00\n",
            "Compute NTK...\n"
          ]
        },
        {
          "name": "stdout",
          "output_type": "stream",
          "text": [
            "2103.4143\n"
          ]
        },
        {
          "name": "stderr",
          "output_type": "stream",
          "text": [
            "It: 27600, Loss: 1.510e+03, Loss_bcs: 3.145e-01, Loss_res: 1.479e+03 ,Time: 0.00\n",
            "Compute NTK...\n"
          ]
        },
        {
          "name": "stdout",
          "output_type": "stream",
          "text": [
            "2104.5913\n"
          ]
        },
        {
          "name": "stderr",
          "output_type": "stream",
          "text": [
            "It: 27700, Loss: 1.508e+03, Loss_bcs: 3.140e-01, Loss_res: 1.476e+03 ,Time: 0.00\n",
            "Compute NTK...\n"
          ]
        },
        {
          "name": "stdout",
          "output_type": "stream",
          "text": [
            "2105.7786\n"
          ]
        },
        {
          "name": "stderr",
          "output_type": "stream",
          "text": [
            "It: 27800, Loss: 1.506e+03, Loss_bcs: 3.136e-01, Loss_res: 1.474e+03 ,Time: 0.00\n",
            "Compute NTK...\n"
          ]
        },
        {
          "name": "stdout",
          "output_type": "stream",
          "text": [
            "2106.9958\n"
          ]
        },
        {
          "name": "stderr",
          "output_type": "stream",
          "text": [
            "It: 27900, Loss: 1.504e+03, Loss_bcs: 3.132e-01, Loss_res: 1.472e+03 ,Time: 0.00\n",
            "Compute NTK...\n"
          ]
        },
        {
          "name": "stdout",
          "output_type": "stream",
          "text": [
            "2108.2249\n"
          ]
        },
        {
          "name": "stderr",
          "output_type": "stream",
          "text": [
            "It: 28000, Loss: 1.501e+03, Loss_bcs: 3.128e-01, Loss_res: 1.470e+03 ,Time: 0.00\n",
            "Compute NTK...\n"
          ]
        },
        {
          "name": "stdout",
          "output_type": "stream",
          "text": [
            "2109.4434\n"
          ]
        },
        {
          "name": "stderr",
          "output_type": "stream",
          "text": [
            "It: 28100, Loss: 1.499e+03, Loss_bcs: 3.124e-01, Loss_res: 1.468e+03 ,Time: 0.00\n",
            "Compute NTK...\n"
          ]
        },
        {
          "name": "stdout",
          "output_type": "stream",
          "text": [
            "2110.6743\n"
          ]
        },
        {
          "name": "stderr",
          "output_type": "stream",
          "text": [
            "It: 28200, Loss: 1.497e+03, Loss_bcs: 3.120e-01, Loss_res: 1.466e+03 ,Time: 0.00\n",
            "Compute NTK...\n"
          ]
        },
        {
          "name": "stdout",
          "output_type": "stream",
          "text": [
            "2111.91\n"
          ]
        },
        {
          "name": "stderr",
          "output_type": "stream",
          "text": [
            "It: 28300, Loss: 1.495e+03, Loss_bcs: 3.116e-01, Loss_res: 1.464e+03 ,Time: 0.00\n",
            "Compute NTK...\n"
          ]
        },
        {
          "name": "stdout",
          "output_type": "stream",
          "text": [
            "2113.1853\n"
          ]
        },
        {
          "name": "stderr",
          "output_type": "stream",
          "text": [
            "It: 28400, Loss: 1.493e+03, Loss_bcs: 3.112e-01, Loss_res: 1.462e+03 ,Time: 0.00\n",
            "Compute NTK...\n"
          ]
        },
        {
          "name": "stdout",
          "output_type": "stream",
          "text": [
            "2114.4333\n"
          ]
        },
        {
          "name": "stderr",
          "output_type": "stream",
          "text": [
            "It: 28500, Loss: 1.491e+03, Loss_bcs: 3.108e-01, Loss_res: 1.460e+03 ,Time: 0.00\n",
            "Compute NTK...\n"
          ]
        },
        {
          "name": "stdout",
          "output_type": "stream",
          "text": [
            "2115.6646\n"
          ]
        },
        {
          "name": "stderr",
          "output_type": "stream",
          "text": [
            "It: 28600, Loss: 1.489e+03, Loss_bcs: 3.104e-01, Loss_res: 1.458e+03 ,Time: 0.00\n",
            "Compute NTK...\n"
          ]
        },
        {
          "name": "stdout",
          "output_type": "stream",
          "text": [
            "2116.9219\n"
          ]
        },
        {
          "name": "stderr",
          "output_type": "stream",
          "text": [
            "It: 28700, Loss: 1.487e+03, Loss_bcs: 3.100e-01, Loss_res: 1.456e+03 ,Time: 0.00\n",
            "Compute NTK...\n"
          ]
        },
        {
          "name": "stdout",
          "output_type": "stream",
          "text": [
            "2118.1345\n"
          ]
        },
        {
          "name": "stderr",
          "output_type": "stream",
          "text": [
            "It: 28800, Loss: 1.485e+03, Loss_bcs: 3.096e-01, Loss_res: 1.454e+03 ,Time: 0.00\n",
            "Compute NTK...\n"
          ]
        },
        {
          "name": "stdout",
          "output_type": "stream",
          "text": [
            "2119.3347\n"
          ]
        },
        {
          "name": "stderr",
          "output_type": "stream",
          "text": [
            "It: 28900, Loss: 1.484e+03, Loss_bcs: 3.092e-01, Loss_res: 1.453e+03 ,Time: 0.00\n",
            "Compute NTK...\n"
          ]
        },
        {
          "name": "stdout",
          "output_type": "stream",
          "text": [
            "2120.5793\n"
          ]
        },
        {
          "name": "stderr",
          "output_type": "stream",
          "text": [
            "It: 29000, Loss: 1.482e+03, Loss_bcs: 3.088e-01, Loss_res: 1.451e+03 ,Time: 0.00\n",
            "Compute NTK...\n"
          ]
        },
        {
          "name": "stdout",
          "output_type": "stream",
          "text": [
            "2121.812\n"
          ]
        },
        {
          "name": "stderr",
          "output_type": "stream",
          "text": [
            "It: 29100, Loss: 1.480e+03, Loss_bcs: 3.084e-01, Loss_res: 1.449e+03 ,Time: 0.00\n",
            "Compute NTK...\n"
          ]
        },
        {
          "name": "stdout",
          "output_type": "stream",
          "text": [
            "2123.0264\n"
          ]
        },
        {
          "name": "stderr",
          "output_type": "stream",
          "text": [
            "It: 29200, Loss: 1.478e+03, Loss_bcs: 3.079e-01, Loss_res: 1.447e+03 ,Time: 0.00\n",
            "Compute NTK...\n"
          ]
        },
        {
          "name": "stdout",
          "output_type": "stream",
          "text": [
            "2124.2852\n"
          ]
        },
        {
          "name": "stderr",
          "output_type": "stream",
          "text": [
            "It: 29300, Loss: 1.476e+03, Loss_bcs: 3.075e-01, Loss_res: 1.445e+03 ,Time: 0.00\n",
            "Compute NTK...\n"
          ]
        },
        {
          "name": "stdout",
          "output_type": "stream",
          "text": [
            "2125.5132\n"
          ]
        },
        {
          "name": "stderr",
          "output_type": "stream",
          "text": [
            "It: 29400, Loss: 1.474e+03, Loss_bcs: 3.071e-01, Loss_res: 1.444e+03 ,Time: 0.00\n",
            "Compute NTK...\n"
          ]
        },
        {
          "name": "stdout",
          "output_type": "stream",
          "text": [
            "2126.7312\n"
          ]
        },
        {
          "name": "stderr",
          "output_type": "stream",
          "text": [
            "It: 29500, Loss: 1.472e+03, Loss_bcs: 3.067e-01, Loss_res: 1.442e+03 ,Time: 0.00\n",
            "Compute NTK...\n"
          ]
        },
        {
          "name": "stdout",
          "output_type": "stream",
          "text": [
            "2127.9895\n"
          ]
        },
        {
          "name": "stderr",
          "output_type": "stream",
          "text": [
            "It: 29600, Loss: 1.471e+03, Loss_bcs: 3.063e-01, Loss_res: 1.440e+03 ,Time: 0.00\n",
            "Compute NTK...\n"
          ]
        },
        {
          "name": "stdout",
          "output_type": "stream",
          "text": [
            "2129.2253\n"
          ]
        },
        {
          "name": "stderr",
          "output_type": "stream",
          "text": [
            "It: 29700, Loss: 1.469e+03, Loss_bcs: 3.059e-01, Loss_res: 1.438e+03 ,Time: 0.00\n",
            "Compute NTK...\n"
          ]
        },
        {
          "name": "stdout",
          "output_type": "stream",
          "text": [
            "2130.4204\n"
          ]
        },
        {
          "name": "stderr",
          "output_type": "stream",
          "text": [
            "It: 29800, Loss: 1.467e+03, Loss_bcs: 3.055e-01, Loss_res: 1.437e+03 ,Time: 0.00\n",
            "Compute NTK...\n"
          ]
        },
        {
          "name": "stdout",
          "output_type": "stream",
          "text": [
            "2131.6074\n"
          ]
        },
        {
          "name": "stderr",
          "output_type": "stream",
          "text": [
            "It: 29900, Loss: 1.465e+03, Loss_bcs: 3.051e-01, Loss_res: 1.435e+03 ,Time: 0.00\n",
            "Compute NTK...\n"
          ]
        },
        {
          "name": "stdout",
          "output_type": "stream",
          "text": [
            "2132.799\n"
          ]
        },
        {
          "name": "stderr",
          "output_type": "stream",
          "text": [
            "It: 30000, Loss: 1.464e+03, Loss_bcs: 3.047e-01, Loss_res: 1.433e+03 ,Time: 0.00\n",
            "Compute NTK...\n"
          ]
        },
        {
          "name": "stdout",
          "output_type": "stream",
          "text": [
            "2133.9336\n"
          ]
        },
        {
          "name": "stderr",
          "output_type": "stream",
          "text": [
            "It: 30100, Loss: 1.462e+03, Loss_bcs: 3.043e-01, Loss_res: 1.432e+03 ,Time: 0.00\n",
            "Compute NTK...\n"
          ]
        },
        {
          "name": "stdout",
          "output_type": "stream",
          "text": [
            "2135.0967\n"
          ]
        },
        {
          "name": "stderr",
          "output_type": "stream",
          "text": [
            "It: 30200, Loss: 1.460e+03, Loss_bcs: 3.038e-01, Loss_res: 1.430e+03 ,Time: 0.00\n",
            "Compute NTK...\n"
          ]
        },
        {
          "name": "stdout",
          "output_type": "stream",
          "text": [
            "2136.3372\n"
          ]
        },
        {
          "name": "stderr",
          "output_type": "stream",
          "text": [
            "It: 30300, Loss: 1.459e+03, Loss_bcs: 3.034e-01, Loss_res: 1.428e+03 ,Time: 0.00\n",
            "Compute NTK...\n"
          ]
        },
        {
          "name": "stdout",
          "output_type": "stream",
          "text": [
            "2137.5496\n"
          ]
        },
        {
          "name": "stderr",
          "output_type": "stream",
          "text": [
            "It: 30400, Loss: 1.457e+03, Loss_bcs: 3.031e-01, Loss_res: 1.427e+03 ,Time: 0.00\n",
            "Compute NTK...\n"
          ]
        },
        {
          "name": "stdout",
          "output_type": "stream",
          "text": [
            "2138.6982\n"
          ]
        },
        {
          "name": "stderr",
          "output_type": "stream",
          "text": [
            "It: 30500, Loss: 1.456e+03, Loss_bcs: 3.027e-01, Loss_res: 1.425e+03 ,Time: 0.00\n",
            "Compute NTK...\n"
          ]
        },
        {
          "name": "stdout",
          "output_type": "stream",
          "text": [
            "2139.8826\n"
          ]
        },
        {
          "name": "stderr",
          "output_type": "stream",
          "text": [
            "It: 30600, Loss: 1.454e+03, Loss_bcs: 3.023e-01, Loss_res: 1.424e+03 ,Time: 0.00\n",
            "Compute NTK...\n"
          ]
        },
        {
          "name": "stdout",
          "output_type": "stream",
          "text": [
            "2141.036\n"
          ]
        },
        {
          "name": "stderr",
          "output_type": "stream",
          "text": [
            "It: 30700, Loss: 1.452e+03, Loss_bcs: 3.019e-01, Loss_res: 1.422e+03 ,Time: 0.00\n",
            "Compute NTK...\n"
          ]
        },
        {
          "name": "stdout",
          "output_type": "stream",
          "text": [
            "2142.1418\n"
          ]
        },
        {
          "name": "stderr",
          "output_type": "stream",
          "text": [
            "It: 30800, Loss: 1.451e+03, Loss_bcs: 3.015e-01, Loss_res: 1.421e+03 ,Time: 0.00\n",
            "Compute NTK...\n"
          ]
        },
        {
          "name": "stdout",
          "output_type": "stream",
          "text": [
            "2143.2139\n"
          ]
        },
        {
          "name": "stderr",
          "output_type": "stream",
          "text": [
            "It: 30900, Loss: 1.449e+03, Loss_bcs: 3.011e-01, Loss_res: 1.419e+03 ,Time: 0.00\n",
            "Compute NTK...\n"
          ]
        },
        {
          "name": "stdout",
          "output_type": "stream",
          "text": [
            "2144.3726\n"
          ]
        },
        {
          "name": "stderr",
          "output_type": "stream",
          "text": [
            "It: 31000, Loss: 1.448e+03, Loss_bcs: 3.007e-01, Loss_res: 1.418e+03 ,Time: 0.00\n",
            "Compute NTK...\n"
          ]
        },
        {
          "name": "stdout",
          "output_type": "stream",
          "text": [
            "2145.4521\n"
          ]
        },
        {
          "name": "stderr",
          "output_type": "stream",
          "text": [
            "It: 31100, Loss: 1.446e+03, Loss_bcs: 3.004e-01, Loss_res: 1.416e+03 ,Time: 0.00\n",
            "Compute NTK...\n"
          ]
        },
        {
          "name": "stdout",
          "output_type": "stream",
          "text": [
            "2146.467\n"
          ]
        },
        {
          "name": "stderr",
          "output_type": "stream",
          "text": [
            "It: 31200, Loss: 1.445e+03, Loss_bcs: 3.000e-01, Loss_res: 1.415e+03 ,Time: 0.00\n",
            "Compute NTK...\n"
          ]
        },
        {
          "name": "stdout",
          "output_type": "stream",
          "text": [
            "2147.4526\n"
          ]
        },
        {
          "name": "stderr",
          "output_type": "stream",
          "text": [
            "It: 31300, Loss: 1.444e+03, Loss_bcs: 2.997e-01, Loss_res: 1.414e+03 ,Time: 0.00\n",
            "Compute NTK...\n"
          ]
        },
        {
          "name": "stdout",
          "output_type": "stream",
          "text": [
            "2148.4648\n"
          ]
        },
        {
          "name": "stderr",
          "output_type": "stream",
          "text": [
            "It: 31400, Loss: 1.442e+03, Loss_bcs: 2.993e-01, Loss_res: 1.412e+03 ,Time: 0.00\n",
            "Compute NTK...\n"
          ]
        },
        {
          "name": "stdout",
          "output_type": "stream",
          "text": [
            "2149.41\n"
          ]
        },
        {
          "name": "stderr",
          "output_type": "stream",
          "text": [
            "It: 31500, Loss: 1.441e+03, Loss_bcs: 2.990e-01, Loss_res: 1.411e+03 ,Time: 0.00\n",
            "Compute NTK...\n"
          ]
        },
        {
          "name": "stdout",
          "output_type": "stream",
          "text": [
            "2150.2795\n"
          ]
        },
        {
          "name": "stderr",
          "output_type": "stream",
          "text": [
            "It: 31600, Loss: 1.439e+03, Loss_bcs: 2.987e-01, Loss_res: 1.409e+03 ,Time: 0.00\n",
            "Compute NTK...\n"
          ]
        },
        {
          "name": "stdout",
          "output_type": "stream",
          "text": [
            "2151.169\n"
          ]
        },
        {
          "name": "stderr",
          "output_type": "stream",
          "text": [
            "It: 31700, Loss: 1.438e+03, Loss_bcs: 2.983e-01, Loss_res: 1.408e+03 ,Time: 0.00\n",
            "Compute NTK...\n"
          ]
        },
        {
          "name": "stdout",
          "output_type": "stream",
          "text": [
            "2152.1465\n"
          ]
        },
        {
          "name": "stderr",
          "output_type": "stream",
          "text": [
            "It: 31800, Loss: 1.437e+03, Loss_bcs: 2.980e-01, Loss_res: 1.407e+03 ,Time: 0.00\n",
            "Compute NTK...\n"
          ]
        },
        {
          "name": "stdout",
          "output_type": "stream",
          "text": [
            "2153.1516\n"
          ]
        },
        {
          "name": "stderr",
          "output_type": "stream",
          "text": [
            "It: 31900, Loss: 1.435e+03, Loss_bcs: 2.977e-01, Loss_res: 1.405e+03 ,Time: 0.00\n",
            "Compute NTK...\n"
          ]
        },
        {
          "name": "stdout",
          "output_type": "stream",
          "text": [
            "2154.0999\n"
          ]
        },
        {
          "name": "stderr",
          "output_type": "stream",
          "text": [
            "It: 32000, Loss: 1.434e+03, Loss_bcs: 2.974e-01, Loss_res: 1.404e+03 ,Time: 0.00\n",
            "Compute NTK...\n"
          ]
        },
        {
          "name": "stdout",
          "output_type": "stream",
          "text": [
            "2155.0378\n"
          ]
        },
        {
          "name": "stderr",
          "output_type": "stream",
          "text": [
            "It: 32100, Loss: 1.433e+03, Loss_bcs: 2.971e-01, Loss_res: 1.403e+03 ,Time: 0.00\n",
            "Compute NTK...\n"
          ]
        },
        {
          "name": "stdout",
          "output_type": "stream",
          "text": [
            "2156.0059\n"
          ]
        },
        {
          "name": "stderr",
          "output_type": "stream",
          "text": [
            "It: 32200, Loss: 1.431e+03, Loss_bcs: 2.968e-01, Loss_res: 1.402e+03 ,Time: 0.00\n",
            "Compute NTK...\n"
          ]
        },
        {
          "name": "stdout",
          "output_type": "stream",
          "text": [
            "2156.8992\n"
          ]
        },
        {
          "name": "stderr",
          "output_type": "stream",
          "text": [
            "It: 32300, Loss: 1.430e+03, Loss_bcs: 2.965e-01, Loss_res: 1.400e+03 ,Time: 0.00\n",
            "Compute NTK...\n"
          ]
        },
        {
          "name": "stdout",
          "output_type": "stream",
          "text": [
            "2157.767\n"
          ]
        },
        {
          "name": "stderr",
          "output_type": "stream",
          "text": [
            "It: 32400, Loss: 1.429e+03, Loss_bcs: 2.962e-01, Loss_res: 1.399e+03 ,Time: 0.00\n",
            "Compute NTK...\n"
          ]
        },
        {
          "name": "stdout",
          "output_type": "stream",
          "text": [
            "2158.588\n"
          ]
        },
        {
          "name": "stderr",
          "output_type": "stream",
          "text": [
            "It: 32500, Loss: 1.427e+03, Loss_bcs: 2.959e-01, Loss_res: 1.398e+03 ,Time: 0.00\n",
            "Compute NTK...\n"
          ]
        },
        {
          "name": "stdout",
          "output_type": "stream",
          "text": [
            "2159.5032\n"
          ]
        },
        {
          "name": "stderr",
          "output_type": "stream",
          "text": [
            "It: 32600, Loss: 1.426e+03, Loss_bcs: 2.956e-01, Loss_res: 1.397e+03 ,Time: 0.00\n",
            "Compute NTK...\n"
          ]
        },
        {
          "name": "stdout",
          "output_type": "stream",
          "text": [
            "2160.3447\n"
          ]
        },
        {
          "name": "stderr",
          "output_type": "stream",
          "text": [
            "It: 32700, Loss: 1.425e+03, Loss_bcs: 2.953e-01, Loss_res: 1.395e+03 ,Time: 0.00\n",
            "Compute NTK...\n"
          ]
        },
        {
          "name": "stdout",
          "output_type": "stream",
          "text": [
            "2161.1675\n"
          ]
        },
        {
          "name": "stderr",
          "output_type": "stream",
          "text": [
            "It: 32800, Loss: 1.424e+03, Loss_bcs: 2.951e-01, Loss_res: 1.394e+03 ,Time: 0.00\n",
            "Compute NTK...\n"
          ]
        },
        {
          "name": "stdout",
          "output_type": "stream",
          "text": [
            "2161.9084\n"
          ]
        },
        {
          "name": "stderr",
          "output_type": "stream",
          "text": [
            "It: 32900, Loss: 1.422e+03, Loss_bcs: 2.948e-01, Loss_res: 1.393e+03 ,Time: 0.00\n",
            "Compute NTK...\n"
          ]
        },
        {
          "name": "stdout",
          "output_type": "stream",
          "text": [
            "2162.6892\n"
          ]
        },
        {
          "name": "stderr",
          "output_type": "stream",
          "text": [
            "It: 33000, Loss: 1.421e+03, Loss_bcs: 2.946e-01, Loss_res: 1.392e+03 ,Time: 0.00\n",
            "Compute NTK...\n"
          ]
        },
        {
          "name": "stdout",
          "output_type": "stream",
          "text": [
            "2163.4426\n"
          ]
        },
        {
          "name": "stderr",
          "output_type": "stream",
          "text": [
            "It: 33100, Loss: 1.420e+03, Loss_bcs: 2.943e-01, Loss_res: 1.391e+03 ,Time: 0.00\n",
            "Compute NTK...\n"
          ]
        },
        {
          "name": "stdout",
          "output_type": "stream",
          "text": [
            "2164.1536\n"
          ]
        },
        {
          "name": "stderr",
          "output_type": "stream",
          "text": [
            "It: 33200, Loss: 1.419e+03, Loss_bcs: 2.940e-01, Loss_res: 1.389e+03 ,Time: 0.00\n",
            "Compute NTK...\n"
          ]
        },
        {
          "name": "stdout",
          "output_type": "stream",
          "text": [
            "2164.8523\n"
          ]
        },
        {
          "name": "stderr",
          "output_type": "stream",
          "text": [
            "It: 33300, Loss: 1.418e+03, Loss_bcs: 2.938e-01, Loss_res: 1.388e+03 ,Time: 0.00\n",
            "Compute NTK...\n"
          ]
        },
        {
          "name": "stdout",
          "output_type": "stream",
          "text": [
            "2165.5056\n"
          ]
        },
        {
          "name": "stderr",
          "output_type": "stream",
          "text": [
            "It: 33400, Loss: 1.417e+03, Loss_bcs: 2.935e-01, Loss_res: 1.387e+03 ,Time: 0.00\n",
            "Compute NTK...\n"
          ]
        },
        {
          "name": "stdout",
          "output_type": "stream",
          "text": [
            "2166.302\n"
          ]
        },
        {
          "name": "stderr",
          "output_type": "stream",
          "text": [
            "It: 33500, Loss: 1.415e+03, Loss_bcs: 2.933e-01, Loss_res: 1.386e+03 ,Time: 0.00\n",
            "Compute NTK...\n"
          ]
        },
        {
          "name": "stdout",
          "output_type": "stream",
          "text": [
            "2167.078\n"
          ]
        },
        {
          "name": "stderr",
          "output_type": "stream",
          "text": [
            "It: 33600, Loss: 1.414e+03, Loss_bcs: 2.930e-01, Loss_res: 1.385e+03 ,Time: 0.00\n",
            "Compute NTK...\n"
          ]
        },
        {
          "name": "stdout",
          "output_type": "stream",
          "text": [
            "2167.847\n"
          ]
        },
        {
          "name": "stderr",
          "output_type": "stream",
          "text": [
            "It: 33700, Loss: 1.413e+03, Loss_bcs: 2.928e-01, Loss_res: 1.384e+03 ,Time: 0.00\n",
            "Compute NTK...\n"
          ]
        },
        {
          "name": "stdout",
          "output_type": "stream",
          "text": [
            "2168.5835\n"
          ]
        },
        {
          "name": "stderr",
          "output_type": "stream",
          "text": [
            "It: 33800, Loss: 1.412e+03, Loss_bcs: 2.926e-01, Loss_res: 1.383e+03 ,Time: 0.00\n",
            "Compute NTK...\n"
          ]
        },
        {
          "name": "stdout",
          "output_type": "stream",
          "text": [
            "2169.2668\n"
          ]
        },
        {
          "name": "stderr",
          "output_type": "stream",
          "text": [
            "It: 33900, Loss: 1.411e+03, Loss_bcs: 2.923e-01, Loss_res: 1.382e+03 ,Time: 0.00\n",
            "Compute NTK...\n"
          ]
        },
        {
          "name": "stdout",
          "output_type": "stream",
          "text": [
            "2170.0305\n"
          ]
        },
        {
          "name": "stderr",
          "output_type": "stream",
          "text": [
            "It: 34000, Loss: 1.410e+03, Loss_bcs: 2.921e-01, Loss_res: 1.381e+03 ,Time: 0.00\n",
            "Compute NTK...\n"
          ]
        },
        {
          "name": "stdout",
          "output_type": "stream",
          "text": [
            "2170.7268\n"
          ]
        },
        {
          "name": "stderr",
          "output_type": "stream",
          "text": [
            "It: 34100, Loss: 1.409e+03, Loss_bcs: 2.918e-01, Loss_res: 1.380e+03 ,Time: 0.00\n",
            "Compute NTK...\n"
          ]
        },
        {
          "name": "stdout",
          "output_type": "stream",
          "text": [
            "2171.4248\n"
          ]
        },
        {
          "name": "stderr",
          "output_type": "stream",
          "text": [
            "It: 34200, Loss: 1.408e+03, Loss_bcs: 2.916e-01, Loss_res: 1.379e+03 ,Time: 0.00\n",
            "Compute NTK...\n"
          ]
        },
        {
          "name": "stdout",
          "output_type": "stream",
          "text": [
            "2172.1304\n"
          ]
        },
        {
          "name": "stderr",
          "output_type": "stream",
          "text": [
            "It: 34300, Loss: 1.407e+03, Loss_bcs: 2.914e-01, Loss_res: 1.378e+03 ,Time: 0.00\n",
            "Compute NTK...\n"
          ]
        },
        {
          "name": "stdout",
          "output_type": "stream",
          "text": [
            "2172.7788\n"
          ]
        },
        {
          "name": "stderr",
          "output_type": "stream",
          "text": [
            "It: 34400, Loss: 1.406e+03, Loss_bcs: 2.911e-01, Loss_res: 1.377e+03 ,Time: 0.00\n",
            "Compute NTK...\n"
          ]
        },
        {
          "name": "stdout",
          "output_type": "stream",
          "text": [
            "2173.522\n"
          ]
        },
        {
          "name": "stderr",
          "output_type": "stream",
          "text": [
            "It: 34500, Loss: 1.405e+03, Loss_bcs: 2.909e-01, Loss_res: 1.376e+03 ,Time: 0.00\n",
            "Compute NTK...\n"
          ]
        },
        {
          "name": "stdout",
          "output_type": "stream",
          "text": [
            "2174.2544\n"
          ]
        },
        {
          "name": "stderr",
          "output_type": "stream",
          "text": [
            "It: 34600, Loss: 1.404e+03, Loss_bcs: 2.906e-01, Loss_res: 1.375e+03 ,Time: 0.00\n",
            "Compute NTK...\n"
          ]
        },
        {
          "name": "stdout",
          "output_type": "stream",
          "text": [
            "2174.97\n"
          ]
        },
        {
          "name": "stderr",
          "output_type": "stream",
          "text": [
            "It: 34700, Loss: 1.403e+03, Loss_bcs: 2.904e-01, Loss_res: 1.374e+03 ,Time: 0.00\n",
            "Compute NTK...\n"
          ]
        },
        {
          "name": "stdout",
          "output_type": "stream",
          "text": [
            "2175.7056\n"
          ]
        },
        {
          "name": "stderr",
          "output_type": "stream",
          "text": [
            "It: 34800, Loss: 1.402e+03, Loss_bcs: 2.902e-01, Loss_res: 1.373e+03 ,Time: 0.00\n",
            "Compute NTK...\n"
          ]
        },
        {
          "name": "stdout",
          "output_type": "stream",
          "text": [
            "2176.3577\n"
          ]
        },
        {
          "name": "stderr",
          "output_type": "stream",
          "text": [
            "It: 34900, Loss: 1.401e+03, Loss_bcs: 2.899e-01, Loss_res: 1.372e+03 ,Time: 0.00\n",
            "Compute NTK...\n"
          ]
        },
        {
          "name": "stdout",
          "output_type": "stream",
          "text": [
            "2177.0103\n"
          ]
        },
        {
          "name": "stderr",
          "output_type": "stream",
          "text": [
            "It: 35000, Loss: 1.400e+03, Loss_bcs: 2.897e-01, Loss_res: 1.371e+03 ,Time: 0.01\n",
            "Compute NTK...\n"
          ]
        },
        {
          "name": "stdout",
          "output_type": "stream",
          "text": [
            "2177.7126\n"
          ]
        },
        {
          "name": "stderr",
          "output_type": "stream",
          "text": [
            "It: 35100, Loss: 1.399e+03, Loss_bcs: 2.895e-01, Loss_res: 1.370e+03 ,Time: 0.00\n",
            "Compute NTK...\n"
          ]
        },
        {
          "name": "stdout",
          "output_type": "stream",
          "text": [
            "2178.3506\n"
          ]
        },
        {
          "name": "stderr",
          "output_type": "stream",
          "text": [
            "It: 35200, Loss: 1.398e+03, Loss_bcs: 2.893e-01, Loss_res: 1.369e+03 ,Time: 0.00\n",
            "Compute NTK...\n"
          ]
        },
        {
          "name": "stdout",
          "output_type": "stream",
          "text": [
            "2178.994\n"
          ]
        },
        {
          "name": "stderr",
          "output_type": "stream",
          "text": [
            "It: 35300, Loss: 1.397e+03, Loss_bcs: 2.890e-01, Loss_res: 1.368e+03 ,Time: 0.00\n",
            "Compute NTK...\n"
          ]
        },
        {
          "name": "stdout",
          "output_type": "stream",
          "text": [
            "2179.6685\n"
          ]
        },
        {
          "name": "stderr",
          "output_type": "stream",
          "text": [
            "It: 35400, Loss: 1.396e+03, Loss_bcs: 2.888e-01, Loss_res: 1.368e+03 ,Time: 0.00\n",
            "Compute NTK...\n"
          ]
        },
        {
          "name": "stdout",
          "output_type": "stream",
          "text": [
            "2180.2163\n"
          ]
        },
        {
          "name": "stderr",
          "output_type": "stream",
          "text": [
            "It: 35500, Loss: 1.396e+03, Loss_bcs: 2.886e-01, Loss_res: 1.367e+03 ,Time: 0.00\n",
            "Compute NTK...\n"
          ]
        },
        {
          "name": "stdout",
          "output_type": "stream",
          "text": [
            "2180.8079\n"
          ]
        },
        {
          "name": "stderr",
          "output_type": "stream",
          "text": [
            "It: 35600, Loss: 1.395e+03, Loss_bcs: 2.884e-01, Loss_res: 1.366e+03 ,Time: 0.00\n",
            "Compute NTK...\n"
          ]
        },
        {
          "name": "stdout",
          "output_type": "stream",
          "text": [
            "2181.5015\n"
          ]
        },
        {
          "name": "stderr",
          "output_type": "stream",
          "text": [
            "It: 35700, Loss: 1.394e+03, Loss_bcs: 2.881e-01, Loss_res: 1.365e+03 ,Time: 0.00\n",
            "Compute NTK...\n"
          ]
        },
        {
          "name": "stdout",
          "output_type": "stream",
          "text": [
            "2182.1475\n"
          ]
        },
        {
          "name": "stderr",
          "output_type": "stream",
          "text": [
            "It: 35800, Loss: 1.393e+03, Loss_bcs: 2.879e-01, Loss_res: 1.364e+03 ,Time: 0.00\n",
            "Compute NTK...\n"
          ]
        },
        {
          "name": "stdout",
          "output_type": "stream",
          "text": [
            "2182.7979\n"
          ]
        },
        {
          "name": "stderr",
          "output_type": "stream",
          "text": [
            "It: 35900, Loss: 1.392e+03, Loss_bcs: 2.877e-01, Loss_res: 1.363e+03 ,Time: 0.00\n",
            "Compute NTK...\n"
          ]
        },
        {
          "name": "stdout",
          "output_type": "stream",
          "text": [
            "2183.496\n"
          ]
        },
        {
          "name": "stderr",
          "output_type": "stream",
          "text": [
            "It: 36000, Loss: 1.391e+03, Loss_bcs: 2.875e-01, Loss_res: 1.362e+03 ,Time: 0.00\n",
            "Compute NTK...\n"
          ]
        },
        {
          "name": "stdout",
          "output_type": "stream",
          "text": [
            "2184.0796\n"
          ]
        },
        {
          "name": "stderr",
          "output_type": "stream",
          "text": [
            "It: 36100, Loss: 1.390e+03, Loss_bcs: 2.873e-01, Loss_res: 1.362e+03 ,Time: 0.00\n",
            "Compute NTK...\n"
          ]
        },
        {
          "name": "stdout",
          "output_type": "stream",
          "text": [
            "2184.6482\n"
          ]
        },
        {
          "name": "stderr",
          "output_type": "stream",
          "text": [
            "It: 36200, Loss: 1.389e+03, Loss_bcs: 2.871e-01, Loss_res: 1.361e+03 ,Time: 0.00\n",
            "Compute NTK...\n"
          ]
        },
        {
          "name": "stdout",
          "output_type": "stream",
          "text": [
            "2185.287\n"
          ]
        },
        {
          "name": "stderr",
          "output_type": "stream",
          "text": [
            "It: 36300, Loss: 1.389e+03, Loss_bcs: 2.868e-01, Loss_res: 1.360e+03 ,Time: 0.00\n",
            "Compute NTK...\n"
          ]
        },
        {
          "name": "stdout",
          "output_type": "stream",
          "text": [
            "2185.8528\n"
          ]
        },
        {
          "name": "stderr",
          "output_type": "stream",
          "text": [
            "It: 36400, Loss: 1.388e+03, Loss_bcs: 2.866e-01, Loss_res: 1.359e+03 ,Time: 0.00\n",
            "Compute NTK...\n"
          ]
        },
        {
          "name": "stdout",
          "output_type": "stream",
          "text": [
            "2186.432\n"
          ]
        },
        {
          "name": "stderr",
          "output_type": "stream",
          "text": [
            "It: 36500, Loss: 1.387e+03, Loss_bcs: 2.864e-01, Loss_res: 1.358e+03 ,Time: 0.00\n",
            "Compute NTK...\n"
          ]
        },
        {
          "name": "stdout",
          "output_type": "stream",
          "text": [
            "2187.0212\n"
          ]
        },
        {
          "name": "stderr",
          "output_type": "stream",
          "text": [
            "It: 36600, Loss: 1.386e+03, Loss_bcs: 2.862e-01, Loss_res: 1.357e+03 ,Time: 0.00\n",
            "Compute NTK...\n"
          ]
        },
        {
          "name": "stdout",
          "output_type": "stream",
          "text": [
            "2187.5706\n"
          ]
        },
        {
          "name": "stderr",
          "output_type": "stream",
          "text": [
            "It: 36700, Loss: 1.385e+03, Loss_bcs: 2.860e-01, Loss_res: 1.357e+03 ,Time: 0.00\n",
            "Compute NTK...\n"
          ]
        },
        {
          "name": "stdout",
          "output_type": "stream",
          "text": [
            "2188.0815\n"
          ]
        },
        {
          "name": "stderr",
          "output_type": "stream",
          "text": [
            "It: 36800, Loss: 1.384e+03, Loss_bcs: 2.858e-01, Loss_res: 1.356e+03 ,Time: 0.00\n",
            "Compute NTK...\n"
          ]
        },
        {
          "name": "stdout",
          "output_type": "stream",
          "text": [
            "2188.6343\n"
          ]
        },
        {
          "name": "stderr",
          "output_type": "stream",
          "text": [
            "It: 36900, Loss: 1.384e+03, Loss_bcs: 2.856e-01, Loss_res: 1.355e+03 ,Time: 0.00\n",
            "Compute NTK...\n"
          ]
        },
        {
          "name": "stdout",
          "output_type": "stream",
          "text": [
            "2189.2163\n"
          ]
        },
        {
          "name": "stderr",
          "output_type": "stream",
          "text": [
            "It: 37000, Loss: 1.383e+03, Loss_bcs: 2.854e-01, Loss_res: 1.354e+03 ,Time: 0.00\n",
            "Compute NTK...\n"
          ]
        },
        {
          "name": "stdout",
          "output_type": "stream",
          "text": [
            "2189.7483\n"
          ]
        },
        {
          "name": "stderr",
          "output_type": "stream",
          "text": [
            "It: 37100, Loss: 1.382e+03, Loss_bcs: 2.852e-01, Loss_res: 1.354e+03 ,Time: 0.00\n",
            "Compute NTK...\n"
          ]
        },
        {
          "name": "stdout",
          "output_type": "stream",
          "text": [
            "2190.2644\n"
          ]
        },
        {
          "name": "stderr",
          "output_type": "stream",
          "text": [
            "It: 37200, Loss: 1.381e+03, Loss_bcs: 2.850e-01, Loss_res: 1.353e+03 ,Time: 0.00\n",
            "Compute NTK...\n"
          ]
        },
        {
          "name": "stdout",
          "output_type": "stream",
          "text": [
            "2190.8083\n"
          ]
        },
        {
          "name": "stderr",
          "output_type": "stream",
          "text": [
            "It: 37300, Loss: 1.381e+03, Loss_bcs: 2.849e-01, Loss_res: 1.352e+03 ,Time: 0.00\n",
            "Compute NTK...\n"
          ]
        },
        {
          "name": "stdout",
          "output_type": "stream",
          "text": [
            "2191.293\n"
          ]
        },
        {
          "name": "stderr",
          "output_type": "stream",
          "text": [
            "It: 37400, Loss: 1.380e+03, Loss_bcs: 2.847e-01, Loss_res: 1.351e+03 ,Time: 0.00\n",
            "Compute NTK...\n"
          ]
        },
        {
          "name": "stdout",
          "output_type": "stream",
          "text": [
            "2191.7134\n"
          ]
        },
        {
          "name": "stderr",
          "output_type": "stream",
          "text": [
            "It: 37500, Loss: 1.379e+03, Loss_bcs: 2.845e-01, Loss_res: 1.351e+03 ,Time: 0.00\n",
            "Compute NTK...\n"
          ]
        },
        {
          "name": "stdout",
          "output_type": "stream",
          "text": [
            "2192.1067\n"
          ]
        },
        {
          "name": "stderr",
          "output_type": "stream",
          "text": [
            "It: 37600, Loss: 1.378e+03, Loss_bcs: 2.844e-01, Loss_res: 1.350e+03 ,Time: 0.00\n",
            "Compute NTK...\n"
          ]
        },
        {
          "name": "stdout",
          "output_type": "stream",
          "text": [
            "2192.553\n"
          ]
        },
        {
          "name": "stderr",
          "output_type": "stream",
          "text": [
            "It: 37700, Loss: 1.378e+03, Loss_bcs: 2.842e-01, Loss_res: 1.349e+03 ,Time: 0.00\n",
            "Compute NTK...\n"
          ]
        },
        {
          "name": "stdout",
          "output_type": "stream",
          "text": [
            "2192.9338\n"
          ]
        },
        {
          "name": "stderr",
          "output_type": "stream",
          "text": [
            "It: 37800, Loss: 1.377e+03, Loss_bcs: 2.840e-01, Loss_res: 1.349e+03 ,Time: 0.00\n",
            "Compute NTK...\n"
          ]
        },
        {
          "name": "stdout",
          "output_type": "stream",
          "text": [
            "2193.3445\n"
          ]
        },
        {
          "name": "stderr",
          "output_type": "stream",
          "text": [
            "It: 37900, Loss: 1.376e+03, Loss_bcs: 2.839e-01, Loss_res: 1.348e+03 ,Time: 0.00\n",
            "Compute NTK...\n"
          ]
        },
        {
          "name": "stdout",
          "output_type": "stream",
          "text": [
            "2193.712\n"
          ]
        },
        {
          "name": "stderr",
          "output_type": "stream",
          "text": [
            "It: 38000, Loss: 1.375e+03, Loss_bcs: 2.837e-01, Loss_res: 1.347e+03 ,Time: 0.00\n",
            "Compute NTK...\n"
          ]
        },
        {
          "name": "stdout",
          "output_type": "stream",
          "text": [
            "2194.1238\n"
          ]
        },
        {
          "name": "stderr",
          "output_type": "stream",
          "text": [
            "It: 38100, Loss: 1.375e+03, Loss_bcs: 2.836e-01, Loss_res: 1.346e+03 ,Time: 0.00\n",
            "Compute NTK...\n"
          ]
        },
        {
          "name": "stdout",
          "output_type": "stream",
          "text": [
            "2194.4497\n"
          ]
        },
        {
          "name": "stderr",
          "output_type": "stream",
          "text": [
            "It: 38200, Loss: 1.374e+03, Loss_bcs: 2.834e-01, Loss_res: 1.346e+03 ,Time: 0.00\n",
            "Compute NTK...\n"
          ]
        },
        {
          "name": "stdout",
          "output_type": "stream",
          "text": [
            "2194.8374\n"
          ]
        },
        {
          "name": "stderr",
          "output_type": "stream",
          "text": [
            "It: 38300, Loss: 1.373e+03, Loss_bcs: 2.832e-01, Loss_res: 1.345e+03 ,Time: 0.00\n",
            "Compute NTK...\n"
          ]
        },
        {
          "name": "stdout",
          "output_type": "stream",
          "text": [
            "2195.2761\n"
          ]
        },
        {
          "name": "stderr",
          "output_type": "stream",
          "text": [
            "It: 38400, Loss: 1.373e+03, Loss_bcs: 2.831e-01, Loss_res: 1.344e+03 ,Time: 0.00\n",
            "Compute NTK...\n"
          ]
        },
        {
          "name": "stdout",
          "output_type": "stream",
          "text": [
            "2195.7607\n"
          ]
        },
        {
          "name": "stderr",
          "output_type": "stream",
          "text": [
            "It: 38500, Loss: 1.372e+03, Loss_bcs: 2.829e-01, Loss_res: 1.344e+03 ,Time: 0.00\n",
            "Compute NTK...\n"
          ]
        },
        {
          "name": "stdout",
          "output_type": "stream",
          "text": [
            "2196.199\n"
          ]
        },
        {
          "name": "stderr",
          "output_type": "stream",
          "text": [
            "It: 38600, Loss: 1.372e+03, Loss_bcs: 2.828e-01, Loss_res: 1.343e+03 ,Time: 0.00\n",
            "Compute NTK...\n"
          ]
        },
        {
          "name": "stdout",
          "output_type": "stream",
          "text": [
            "2196.6787\n"
          ]
        },
        {
          "name": "stderr",
          "output_type": "stream",
          "text": [
            "It: 38700, Loss: 1.371e+03, Loss_bcs: 2.826e-01, Loss_res: 1.343e+03 ,Time: 0.00\n",
            "Compute NTK...\n"
          ]
        },
        {
          "name": "stdout",
          "output_type": "stream",
          "text": [
            "2197.1077\n"
          ]
        },
        {
          "name": "stderr",
          "output_type": "stream",
          "text": [
            "It: 38800, Loss: 1.370e+03, Loss_bcs: 2.824e-01, Loss_res: 1.342e+03 ,Time: 0.00\n",
            "Compute NTK...\n"
          ]
        },
        {
          "name": "stdout",
          "output_type": "stream",
          "text": [
            "2197.5864\n"
          ]
        },
        {
          "name": "stderr",
          "output_type": "stream",
          "text": [
            "It: 38900, Loss: 1.370e+03, Loss_bcs: 2.823e-01, Loss_res: 1.341e+03 ,Time: 0.00\n",
            "Compute NTK...\n"
          ]
        },
        {
          "name": "stdout",
          "output_type": "stream",
          "text": [
            "2197.9802\n"
          ]
        },
        {
          "name": "stderr",
          "output_type": "stream",
          "text": [
            "It: 39000, Loss: 1.369e+03, Loss_bcs: 2.822e-01, Loss_res: 1.341e+03 ,Time: 0.00\n",
            "Compute NTK...\n"
          ]
        },
        {
          "name": "stdout",
          "output_type": "stream",
          "text": [
            "2198.3777\n"
          ]
        },
        {
          "name": "stderr",
          "output_type": "stream",
          "text": [
            "It: 39100, Loss: 1.368e+03, Loss_bcs: 2.820e-01, Loss_res: 1.340e+03 ,Time: 0.00\n",
            "Compute NTK...\n"
          ]
        },
        {
          "name": "stdout",
          "output_type": "stream",
          "text": [
            "2198.7268\n"
          ]
        },
        {
          "name": "stderr",
          "output_type": "stream",
          "text": [
            "It: 39200, Loss: 1.368e+03, Loss_bcs: 2.819e-01, Loss_res: 1.340e+03 ,Time: 0.00\n",
            "Compute NTK...\n"
          ]
        },
        {
          "name": "stdout",
          "output_type": "stream",
          "text": [
            "2199.1096\n"
          ]
        },
        {
          "name": "stderr",
          "output_type": "stream",
          "text": [
            "It: 39300, Loss: 1.367e+03, Loss_bcs: 2.818e-01, Loss_res: 1.339e+03 ,Time: 0.00\n",
            "Compute NTK...\n"
          ]
        },
        {
          "name": "stdout",
          "output_type": "stream",
          "text": [
            "2199.4304\n"
          ]
        },
        {
          "name": "stderr",
          "output_type": "stream",
          "text": [
            "It: 39400, Loss: 1.367e+03, Loss_bcs: 2.816e-01, Loss_res: 1.338e+03 ,Time: 0.00\n",
            "Compute NTK...\n"
          ]
        },
        {
          "name": "stdout",
          "output_type": "stream",
          "text": [
            "2199.789\n"
          ]
        },
        {
          "name": "stderr",
          "output_type": "stream",
          "text": [
            "It: 39500, Loss: 1.366e+03, Loss_bcs: 2.815e-01, Loss_res: 1.338e+03 ,Time: 0.00\n",
            "Compute NTK...\n"
          ]
        },
        {
          "name": "stdout",
          "output_type": "stream",
          "text": [
            "2200.1514\n"
          ]
        },
        {
          "name": "stderr",
          "output_type": "stream",
          "text": [
            "It: 39600, Loss: 1.365e+03, Loss_bcs: 2.814e-01, Loss_res: 1.337e+03 ,Time: 0.00\n",
            "Compute NTK...\n"
          ]
        },
        {
          "name": "stdout",
          "output_type": "stream",
          "text": [
            "2200.5002\n"
          ]
        },
        {
          "name": "stderr",
          "output_type": "stream",
          "text": [
            "It: 39700, Loss: 1.365e+03, Loss_bcs: 2.812e-01, Loss_res: 1.337e+03 ,Time: 0.00\n",
            "Compute NTK...\n"
          ]
        },
        {
          "name": "stdout",
          "output_type": "stream",
          "text": [
            "2200.8796\n"
          ]
        },
        {
          "name": "stderr",
          "output_type": "stream",
          "text": [
            "It: 39800, Loss: 1.364e+03, Loss_bcs: 2.811e-01, Loss_res: 1.336e+03 ,Time: 0.00\n",
            "Compute NTK...\n"
          ]
        },
        {
          "name": "stdout",
          "output_type": "stream",
          "text": [
            "2201.1787\n"
          ]
        },
        {
          "name": "stderr",
          "output_type": "stream",
          "text": [
            "It: 39900, Loss: 1.364e+03, Loss_bcs: 2.810e-01, Loss_res: 1.336e+03 ,Time: 0.00\n",
            "Compute NTK...\n"
          ]
        },
        {
          "name": "stdout",
          "output_type": "stream",
          "text": [
            "2201.5076\n"
          ]
        },
        {
          "name": "stderr",
          "output_type": "stream",
          "text": [
            "/home/afrah2/anaconda3/envs/twoPhase/lib/python3.7/site-packages/seaborn/distributions.py:2619: FutureWarning: `distplot` is a deprecated function and will be removed in a future version. Please adapt your code to use either `displot` (a figure-level function with similar flexibility) or `kdeplot` (an axes-level function for kernel density plots).\n",
            "  warnings.warn(msg, FutureWarning)\n",
            "/home/afrah2/anaconda3/envs/twoPhase/lib/python3.7/site-packages/seaborn/distributions.py:2619: FutureWarning: `distplot` is a deprecated function and will be removed in a future version. Please adapt your code to use either `displot` (a figure-level function with similar flexibility) or `kdeplot` (an axes-level function for kernel density plots).\n",
            "  warnings.warn(msg, FutureWarning)\n",
            "/home/afrah2/anaconda3/envs/twoPhase/lib/python3.7/site-packages/seaborn/distributions.py:2619: FutureWarning: `distplot` is a deprecated function and will be removed in a future version. Please adapt your code to use either `displot` (a figure-level function with similar flexibility) or `kdeplot` (an axes-level function for kernel density plots).\n",
            "  warnings.warn(msg, FutureWarning)\n",
            "/home/afrah2/anaconda3/envs/twoPhase/lib/python3.7/site-packages/seaborn/distributions.py:2619: FutureWarning: `distplot` is a deprecated function and will be removed in a future version. Please adapt your code to use either `displot` (a figure-level function with similar flexibility) or `kdeplot` (an axes-level function for kernel density plots).\n",
            "  warnings.warn(msg, FutureWarning)\n",
            "Gradients information stored ...\n",
            "It: 40000, Loss: 1.363e+03, Loss_bcs: 2.809e-01, Loss_res: 1.335e+03 ,Time: 0.27\n",
            "Compute NTK...\n"
          ]
        },
        {
          "name": "stdout",
          "output_type": "stream",
          "text": [
            "2201.8237\n"
          ]
        },
        {
          "name": "stderr",
          "output_type": "stream",
          "text": [
            "Save uv NN parameters successfully in %s ...checkpoints/Dec-09-2023_00-49-01-323452_M1\n",
            "Final loss total loss: 1.363210e+03\n",
            "Final loss loss_res: 1.335124e+03\n",
            "Final loss loss_bcs: 2.808593e-01\n"
          ]
        },
        {
          "name": "stdout",
          "output_type": "stream",
          "text": [
            "elapsed: 8.59e+01\n",
            "Relative L2 error_u: 2.99e-01\n",
            "Relative L2 error_r: 3.25e-01\n",
            "elapsed: 8.59e+01\n",
            "Relative L2 error_u: 2.99e-01\n",
            "Relative L2 error_v: 3.25e-01\n",
            "\n",
            "\n",
            "Method:  mini_batch\n",
            "\n",
            "average of time_list: 85.85294604301453\n",
            "average of error_u_list: 0.29913568285665126\n",
            "average of error_v_list: 0.3252694236939831\n"
          ]
        },
        {
          "ename": "TypeError",
          "evalue": "join() argument must be str or bytes, not 'dict'",
          "output_type": "error",
          "traceback": [
            "\u001b[0;31m---------------------------------------------------------------------------\u001b[0m",
            "\u001b[0;31mTypeError\u001b[0m                                 Traceback (most recent call last)",
            "\u001b[0;32m/tmp/ipykernel_31592/657240385.py\u001b[0m in \u001b[0;36m<module>\u001b[0;34m\u001b[0m\n\u001b[1;32m    105\u001b[0m     \u001b[0;31m# scipy.io.savemat(\"M2_result_\"+str(iterations)+\"_\"+mtd+\".mat\" , {'time_list':np.array(time_list),'error_u_list':np.array(error_u_list),'error_f_list':np.array(error_f_list)})\u001b[0m\u001b[0;34m\u001b[0m\u001b[0;34m\u001b[0m\u001b[0;34m\u001b[0m\u001b[0m\n\u001b[1;32m    106\u001b[0m \u001b[0;34m\u001b[0m\u001b[0m\n\u001b[0;32m--> 107\u001b[0;31m     \u001b[0mscipy\u001b[0m\u001b[0;34m.\u001b[0m\u001b[0mio\u001b[0m\u001b[0;34m.\u001b[0m\u001b[0msavemat\u001b[0m\u001b[0;34m(\u001b[0m\u001b[0mos\u001b[0m\u001b[0;34m.\u001b[0m\u001b[0mpath\u001b[0m\u001b[0;34m.\u001b[0m\u001b[0mjoin\u001b[0m\u001b[0;34m(\u001b[0m\u001b[0mmodel\u001b[0m\u001b[0;34m.\u001b[0m\u001b[0mdirname\u001b[0m\u001b[0;34m,\u001b[0m\u001b[0;34m\"\"\u001b[0m\u001b[0;34m+\u001b[0m\u001b[0mmtd\u001b[0m\u001b[0;34m+\u001b[0m\u001b[0;34m\"_model\"\u001b[0m\u001b[0;34m+\u001b[0m\u001b[0mmode\u001b[0m\u001b[0;34m+\u001b[0m\u001b[0;34m\"_mb\"\u001b[0m\u001b[0;34m+\u001b[0m\u001b[0mstr\u001b[0m\u001b[0;34m(\u001b[0m\u001b[0mmbbatch_size\u001b[0m\u001b[0;34m)\u001b[0m\u001b[0;34m+\u001b[0m\u001b[0;34m\"_fb\"\u001b[0m\u001b[0;34m+\u001b[0m\u001b[0mstr\u001b[0m\u001b[0;34m(\u001b[0m\u001b[0mubatch_size\u001b[0m\u001b[0;34m)\u001b[0m\u001b[0;34m+\u001b[0m\u001b[0;34m\"_bc\"\u001b[0m\u001b[0;34m+\u001b[0m\u001b[0mstr\u001b[0m\u001b[0;34m(\u001b[0m\u001b[0mbcbatch_size\u001b[0m\u001b[0;34m)\u001b[0m\u001b[0;34m+\u001b[0m\u001b[0;34m\"_n\"\u001b[0m\u001b[0;34m+\u001b[0m\u001b[0mstr\u001b[0m\u001b[0;34m(\u001b[0m\u001b[0miterations\u001b[0m\u001b[0;34m)\u001b[0m\u001b[0;34m+\u001b[0m\u001b[0;34m\"_nIter\"\u001b[0m\u001b[0;34m+\u001b[0m\u001b[0mstr\u001b[0m\u001b[0;34m(\u001b[0m\u001b[0mnIter\u001b[0m\u001b[0;34m)\u001b[0m\u001b[0;34m+\u001b[0m\u001b[0;34m\".mat\"\u001b[0m \u001b[0;34m,\u001b[0m \u001b[0mresult_dict\u001b[0m\u001b[0;34m)\u001b[0m\u001b[0;34m)\u001b[0m\u001b[0;34m\u001b[0m\u001b[0;34m\u001b[0m\u001b[0m\n\u001b[0m\u001b[1;32m    108\u001b[0m \u001b[0;34m\u001b[0m\u001b[0m\n\u001b[1;32m    109\u001b[0m \u001b[0;34m\u001b[0m\u001b[0m\n",
            "\u001b[0;32m~/anaconda3/envs/twoPhase/lib/python3.7/posixpath.py\u001b[0m in \u001b[0;36mjoin\u001b[0;34m(a, *p)\u001b[0m\n\u001b[1;32m     92\u001b[0m                 \u001b[0mpath\u001b[0m \u001b[0;34m+=\u001b[0m \u001b[0msep\u001b[0m \u001b[0;34m+\u001b[0m \u001b[0mb\u001b[0m\u001b[0;34m\u001b[0m\u001b[0;34m\u001b[0m\u001b[0m\n\u001b[1;32m     93\u001b[0m     \u001b[0;32mexcept\u001b[0m \u001b[0;34m(\u001b[0m\u001b[0mTypeError\u001b[0m\u001b[0;34m,\u001b[0m \u001b[0mAttributeError\u001b[0m\u001b[0;34m,\u001b[0m \u001b[0mBytesWarning\u001b[0m\u001b[0;34m)\u001b[0m\u001b[0;34m:\u001b[0m\u001b[0;34m\u001b[0m\u001b[0;34m\u001b[0m\u001b[0m\n\u001b[0;32m---> 94\u001b[0;31m         \u001b[0mgenericpath\u001b[0m\u001b[0;34m.\u001b[0m\u001b[0m_check_arg_types\u001b[0m\u001b[0;34m(\u001b[0m\u001b[0;34m'join'\u001b[0m\u001b[0;34m,\u001b[0m \u001b[0ma\u001b[0m\u001b[0;34m,\u001b[0m \u001b[0;34m*\u001b[0m\u001b[0mp\u001b[0m\u001b[0;34m)\u001b[0m\u001b[0;34m\u001b[0m\u001b[0;34m\u001b[0m\u001b[0m\n\u001b[0m\u001b[1;32m     95\u001b[0m         \u001b[0;32mraise\u001b[0m\u001b[0;34m\u001b[0m\u001b[0;34m\u001b[0m\u001b[0m\n\u001b[1;32m     96\u001b[0m     \u001b[0;32mreturn\u001b[0m \u001b[0mpath\u001b[0m\u001b[0;34m\u001b[0m\u001b[0;34m\u001b[0m\u001b[0m\n",
            "\u001b[0;32m~/anaconda3/envs/twoPhase/lib/python3.7/genericpath.py\u001b[0m in \u001b[0;36m_check_arg_types\u001b[0;34m(funcname, *args)\u001b[0m\n\u001b[1;32m    151\u001b[0m         \u001b[0;32melse\u001b[0m\u001b[0;34m:\u001b[0m\u001b[0;34m\u001b[0m\u001b[0;34m\u001b[0m\u001b[0m\n\u001b[1;32m    152\u001b[0m             raise TypeError('%s() argument must be str or bytes, not %r' %\n\u001b[0;32m--> 153\u001b[0;31m                             (funcname, s.__class__.__name__)) from None\n\u001b[0m\u001b[1;32m    154\u001b[0m     \u001b[0;32mif\u001b[0m \u001b[0mhasstr\u001b[0m \u001b[0;32mand\u001b[0m \u001b[0mhasbytes\u001b[0m\u001b[0;34m:\u001b[0m\u001b[0;34m\u001b[0m\u001b[0;34m\u001b[0m\u001b[0m\n\u001b[1;32m    155\u001b[0m         \u001b[0;32mraise\u001b[0m \u001b[0mTypeError\u001b[0m\u001b[0;34m(\u001b[0m\u001b[0;34m\"Can't mix strings and bytes in path components\"\u001b[0m\u001b[0;34m)\u001b[0m \u001b[0;32mfrom\u001b[0m \u001b[0;32mNone\u001b[0m\u001b[0;34m\u001b[0m\u001b[0;34m\u001b[0m\u001b[0m\n",
            "\u001b[0;31mTypeError\u001b[0m: join() argument must be str or bytes, not 'dict'"
          ]
        }
      ],
      "source": [
        "# Define computional domain\n",
        "bc1_coords = np.array([[0.0], [0.0]])\n",
        "bc2_coords = np.array([[1.0], [1.0]])\n",
        "dom_coords = np.array([[0.0], [1.0]])\n",
        "\n",
        "# Training data on u(x) -- Dirichlet boundary conditions\n",
        "\n",
        "nn  = 100\n",
        "\n",
        "X_bc1 = dom_coords[0, 0] * np.ones((nn // 2, 1))\n",
        "X_bc2 = dom_coords[1, 0] * np.ones((nn // 2, 1))\n",
        "X_u = np.vstack([X_bc1, X_bc2])\n",
        "Y_u = u(X_u, a)\n",
        "\n",
        "X_r = np.linspace(dom_coords[0, 0], dom_coords[1, 0], nn)[:, None]\n",
        "Y_r = u_xx(X_r, a)\n",
        "\n",
        "nn = 1000\n",
        "X_star = np.linspace(dom_coords[0, 0], dom_coords[1, 0], nn)[:, None]\n",
        "u_star = u(X_star, a)\n",
        "r_star = u_xx(X_star, a)\n",
        "\n",
        "nIter =40001\n",
        "bcbatch_size = 500\n",
        "ubatch_size = 5000\n",
        "mbbatch_size = 128\n",
        "\n",
        "\n",
        "\n",
        "# Define model\n",
        "mode = 'M1'\n",
        "layers = [1, 500, 1]\n",
        "\n",
        "\n",
        "\n",
        "iterations = 1\n",
        "methods = [ \"mini_batch\"]\n",
        "\n",
        "result_dict =  dict((mtd, []) for mtd in methods)\n",
        "\n",
        "for mtd in methods:\n",
        "    print(\"Method: \", mtd)\n",
        "    time_list = []\n",
        "    error_u_list = []\n",
        "    error_r_list = []\n",
        "    \n",
        "    for index in range(iterations):\n",
        "\n",
        "        print(\"Epoch: \", str(index+1))\n",
        "\n",
        "        # Create residual sampler\n",
        "        gpu_options = tf.GPUOptions(visible_device_list=\"0\")\n",
        "        tf.reset_default_graph()\n",
        "        with tf.Session(config=tf.ConfigProto(gpu_options=gpu_options,allow_soft_placement=False, log_device_placement=False)) as sess:\n",
        "\n",
        "            model = PINN(layers, X_u, Y_u, X_r, Y_r , mode , sess)    \n",
        "\n",
        "            # Train model\n",
        "            start_time = time.time()\n",
        "\n",
        "            if mtd ==\"full_batch\":\n",
        "                print(\"full_batch method is used\")\n",
        "                model.train(nIter  , bcbatch_size , ubatch_size  )\n",
        "            elif mtd ==\"mini_batch\":\n",
        "                print(\"mini_batch method is used\")\n",
        "                model.trainmb(nIter, mbbatch_size)\n",
        "            else:\n",
        "                print(\"unknown method!\")\n",
        "            elapsed = time.time() - start_time\n",
        "\n",
        "            # Predictions\n",
        "            u_pred = model.predict_u(X_star)\n",
        "            r_pred = model.predict_r(X_star)\n",
        "            # Predictions\n",
        "            model.save_NN()\n",
        "            model.plot_ntk()\n",
        " \n",
        "\n",
        "            error_u = np.linalg.norm(u_star - u_pred, 2) / np.linalg.norm(u_star, 2)\n",
        "            error_r = np.linalg.norm(r_star - r_pred, 2) / np.linalg.norm(r_star, 2)\n",
        "\n",
        "            model.print('elapsed: {:.2e}'.format(elapsed))\n",
        "\n",
        "            model.print('Relative L2 error_u: {:.2e}'.format(error_u))\n",
        "            model.print('Relative L2 error_r: {:.2e}'.format(error_r))\n",
        "\n",
        "\n",
        "            model.print('elapsed: {:.2e}'.format(elapsed))\n",
        "            model.print('Relative L2 error_u: {:.2e}'.format(error_u))\n",
        "            model.print('Relative L2 error_v: {:.2e}'.format(error_r))\n",
        "\n",
        "            model.plt_prediction( X_star , u_star , u_pred)\n",
        "            sess.close()  \n",
        "            \n",
        "        time_list.append(elapsed)\n",
        "        error_u_list.append(error_u)\n",
        "        error_r_list.append(error_r)\n",
        "\n",
        "    print(\"\\n\\nMethod: \", mtd)\n",
        "    print(\"\\naverage of time_list:\" , sum(time_list) / len(time_list) )\n",
        "    print(\"average of error_u_list:\" , sum(error_u_list) / len(error_u_list) )\n",
        "    print(\"average of error_v_list:\" , sum(error_r_list) / len(error_r_list) )\n",
        "\n",
        "    result_dict[mtd] = [time_list ,error_u_list ,error_r_list ]\n",
        "    # scipy.io.savemat(\"M2_result_\"+str(iterations)+\"_\"+mtd+\".mat\" , {'time_list':np.array(time_list),'error_u_list':np.array(error_u_list),'error_f_list':np.array(error_f_list)})\n",
        "\n",
        "    scipy.io.savemat(os.path.join(model.dirname,\"\"+mtd+\"_model\"+mode+\"_mb\"+str(mbbatch_size)+\"_fb\"+str(ubatch_size)+\"_bc\"+str(bcbatch_size)+\"_n\"+str(iterations)+\"_nIter\"+str(nIter)+\".mat\" , result_dict))\n",
        "\n",
        "\n"
      ]
    },
    {
      "cell_type": "code",
      "execution_count": null,
      "metadata": {},
      "outputs": [],
      "source": [
        "# Define model\n",
        "layers = [1, 512, 1]  \n",
        "# layers = [1, 512, 512, 512, 1]  \n"
      ]
    },
    {
      "cell_type": "code",
      "execution_count": null,
      "metadata": {
        "colab": {
          "base_uri": "https://localhost:8080/",
          "height": 369
        },
        "id": "Fw807UNzhu5z",
        "outputId": "929ae89c-3e10-4c56-e349-051441e8ab32"
      },
      "outputs": [],
      "source": [
        "loss_bcs = model.loss_bcs_log\n",
        "loss_res = model.loss_res_log\n",
        "\n",
        "fig = plt.figure(figsize=(6,5))\n",
        "plt.plot(loss_res, label='$\\mathcal{L}_{r}$')\n",
        "plt.plot(loss_bcs, label='$\\mathcal{L}_{b}$')\n",
        "plt.yscale('log')\n",
        "plt.xlabel('iterations')\n",
        "plt.ylabel('Loss')\n",
        "plt.legend()\n",
        "plt.tight_layout()\n",
        "plt.show()"
      ]
    },
    {
      "cell_type": "markdown",
      "metadata": {
        "id": "TFLIBq5xjZ3v"
      },
      "source": [
        "**Model Prediction**"
      ]
    },
    {
      "cell_type": "code",
      "execution_count": null,
      "metadata": {
        "colab": {
          "base_uri": "https://localhost:8080/"
        },
        "id": "To0PDN17cc0v",
        "outputId": "7284b31e-f2fe-41ab-93a9-4c2c91f94cde"
      },
      "outputs": [],
      "source": []
    },
    {
      "cell_type": "code",
      "execution_count": null,
      "metadata": {
        "colab": {
          "base_uri": "https://localhost:8080/",
          "height": 369
        },
        "id": "K428lOuXhdc8",
        "outputId": "b1e23055-178c-400c-8972-f3e7987e0892"
      },
      "outputs": [],
      "source": []
    },
    {
      "cell_type": "markdown",
      "metadata": {
        "id": "9EYdfKGLj6h0"
      },
      "source": [
        "**NTK Eigenvalues**"
      ]
    },
    {
      "cell_type": "code",
      "execution_count": null,
      "metadata": {
        "id": "e3dByeQjhBYj"
      },
      "outputs": [],
      "source": []
    },
    {
      "cell_type": "code",
      "execution_count": null,
      "metadata": {
        "colab": {
          "base_uri": "https://localhost:8080/",
          "height": 369
        },
        "id": "vSn3Q_1IhisN",
        "outputId": "4c713f42-11b2-4de9-8698-085eb54c164d"
      },
      "outputs": [],
      "source": []
    },
    {
      "cell_type": "markdown",
      "metadata": {
        "id": "pIS5UH81kOxT"
      },
      "source": [
        "**Change of NTK**"
      ]
    },
    {
      "cell_type": "code",
      "execution_count": null,
      "metadata": {
        "id": "wF4Q_iZshQ-0"
      },
      "outputs": [],
      "source": [
        "# Change of the NTK\n",
        "NTK_change_list = []\n",
        "K0 = K_list[0]\n",
        "for K in K_list:\n",
        "    diff = np.linalg.norm(K - K0) / np.linalg.norm(K0) \n",
        "    NTK_change_list.append(diff)"
      ]
    },
    {
      "cell_type": "code",
      "execution_count": null,
      "metadata": {
        "colab": {
          "base_uri": "https://localhost:8080/",
          "height": 338
        },
        "id": "E-_gPGpCkF4n",
        "outputId": "9893e038-907d-4425-bb6e-8ecdb2ad497d"
      },
      "outputs": [],
      "source": [
        "fig = plt.figure(figsize=(6,5))\n",
        "plt.plot(NTK_change_list)"
      ]
    },
    {
      "cell_type": "markdown",
      "metadata": {
        "id": "Mg0ZGHbAkW6N"
      },
      "source": [
        "\n",
        "**Change of NN Params**"
      ]
    },
    {
      "cell_type": "code",
      "execution_count": null,
      "metadata": {
        "id": "LLGv9JUuioVZ"
      },
      "outputs": [],
      "source": [
        "# Change of the weights and biases\n",
        "def compute_weights_diff(weights_1, weights_2):\n",
        "    weights = []\n",
        "    N = len(weights_1)\n",
        "    for k in range(N):\n",
        "        weight = weights_1[k] - weights_2[k]\n",
        "        weights.append(weight)\n",
        "    return weights\n",
        "\n",
        "def compute_weights_norm(weights, biases):\n",
        "    norm = 0\n",
        "    for w in weights:\n",
        "        norm = norm + np.sum(np.square(w))\n",
        "    for b in biases:\n",
        "        norm = norm + np.sum(np.square(b))\n",
        "    norm = np.sqrt(norm)\n",
        "    return norm\n",
        "\n",
        "# Restore the list weights and biases\n",
        "weights_log = model.weights_log\n",
        "biases_log = model.biases_log\n",
        "\n",
        "weights_0 = weights_log[0]\n",
        "biases_0 = biases_log[0]\n",
        "\n",
        "# Norm of the weights at initialization\n",
        "weights_init_norm = compute_weights_norm(weights_0, biases_0)\n",
        "\n",
        "weights_change_list = []\n",
        "\n",
        "N = len(weights_log)\n",
        "for k in range(N):\n",
        "    weights_diff = compute_weights_diff(weights_log[k], weights_log[0])\n",
        "    biases_diff = compute_weights_diff(biases_log[k], biases_log[0])\n",
        "    \n",
        "    weights_diff_norm = compute_weights_norm(weights_diff, biases_diff)\n",
        "    weights_change = weights_diff_norm / weights_init_norm\n",
        "    weights_change_list.append(weights_change)"
      ]
    },
    {
      "cell_type": "code",
      "execution_count": null,
      "metadata": {
        "colab": {
          "base_uri": "https://localhost:8080/",
          "height": 338
        },
        "id": "5NLsAxgzi4KH",
        "outputId": "74d92bf9-0dde-438e-e9b3-a551904f4e2f"
      },
      "outputs": [],
      "source": [
        "fig = plt.figure(figsize=(6,5))\n",
        "plt.plot(weights_change_list)"
      ]
    },
    {
      "cell_type": "code",
      "execution_count": null,
      "metadata": {
        "id": "MYbzkhfMjJ8k"
      },
      "outputs": [],
      "source": []
    }
  ],
  "metadata": {
    "accelerator": "GPU",
    "colab": {
      "name": "PINNsNTK_Poisson.ipynb",
      "provenance": []
    },
    "kernelspec": {
      "display_name": "Python 3",
      "name": "python3"
    },
    "language_info": {
      "codemirror_mode": {
        "name": "ipython",
        "version": 3
      },
      "file_extension": ".py",
      "mimetype": "text/x-python",
      "name": "python",
      "nbconvert_exporter": "python",
      "pygments_lexer": "ipython3",
      "version": "3.7.13"
    }
  },
  "nbformat": 4,
  "nbformat_minor": 0
}
