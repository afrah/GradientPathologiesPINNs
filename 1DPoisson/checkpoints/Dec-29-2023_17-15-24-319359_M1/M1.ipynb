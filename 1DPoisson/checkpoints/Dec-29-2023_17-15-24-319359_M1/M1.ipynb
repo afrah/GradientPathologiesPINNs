{
  "cells": [
    {
      "cell_type": "code",
      "execution_count": null,
      "metadata": {
        "colab": {
          "base_uri": "https://localhost:8080/"
        },
        "id": "OybZJApDYGsi",
        "outputId": "dc7cdffa-8613-42ee-86cc-0bc5000b2998"
      },
      "outputs": [],
      "source": [
        "# # Switch to tensorflow 1.x\n",
        "# %tensorflow_version 1.x"
      ]
    },
    {
      "cell_type": "code",
      "execution_count": 1,
      "metadata": {
        "id": "7WkCgnRiYQSY"
      },
      "outputs": [],
      "source": [
        "import tensorflow as tf\n",
        "from Compute_Jacobian import jacobian # Please download 'Compute_Jacobian.py' in the repository \n",
        "import numpy as np\n",
        "import timeit\n",
        "from scipy.interpolate import griddata\n",
        "import seaborn as sns\n",
        "import matplotlib.pyplot as plt\n",
        "import pandas as pd\n",
        "import os\n",
        "\n",
        "os.environ[\"KMP_WARNINGS\"] = \"FALSE\" \n",
        "import timeit\n",
        "\n",
        "import sys\n",
        "\n",
        "import scipy\n",
        "import scipy.io\n",
        "import time\n",
        "import logging\n",
        "\n",
        "import os.path\n",
        "import shutil\n",
        "from datetime import datetime\n",
        "import pickle\n"
      ]
    },
    {
      "cell_type": "code",
      "execution_count": 2,
      "metadata": {
        "id": "-y7cHTcJfBTR"
      },
      "outputs": [],
      "source": [
        "class Sampler:\n",
        "    # Initialize the class\n",
        "    def __init__(self, dim, coords, func, name=None):\n",
        "        self.dim = dim\n",
        "        self.coords = coords\n",
        "        self.func = func\n",
        "        self.name = name\n",
        "\n",
        "    def sample(self, N):\n",
        "        x = self.coords[0:1, :] + (self.coords[1:2, :] - self.coords[0:1, :]) * np.random.rand(N, self.dim)\n",
        "        y = self.func(x)\n",
        "        return x, y"
      ]
    },
    {
      "cell_type": "code",
      "execution_count": 3,
      "metadata": {
        "id": "SDqDWN3nfSAg"
      },
      "outputs": [],
      "source": [
        "class PINN:\n",
        "    def __init__(self, layers, X_u, Y_u, X_r, Y_r ,mode ,  sess):\n",
        "\n",
        "\n",
        "        self.mode = mode\n",
        "\n",
        "        self.dirname, logpath = self.make_output_dir()\n",
        "        self.logger = self.get_logger(logpath)     \n",
        "\n",
        "        self.mu_X, self.sigma_X = X_r.mean(0), X_r.std(0)\n",
        "        self.mu_x, self.sigma_x = self.mu_X[0], self.sigma_X[0]\n",
        "\n",
        "        # Normalize\n",
        "        self.X_u = (X_u - self.mu_X) / self.sigma_X\n",
        "        self.Y_u = Y_u\n",
        "        self.X_r = (X_r - self.mu_X) / self.sigma_X\n",
        "        self.Y_r = Y_r\n",
        "\n",
        "        # Initialize network weights and biases\n",
        "        self.layers = layers\n",
        "        self.weights, self.biases = self.initialize_NN(layers)\n",
        "            \n",
        "        # Define the size of the Kernel\n",
        "        self.kernel_size = X_u.shape[0]\n",
        "        # Define Tensorflow session\n",
        "        self.sess = sess# tf.Session(config=tf.ConfigProto(log_device_placement=False))\n",
        "\n",
        "        self.lam_bc =  np.array(1.0)\n",
        "        # self.lam_bc_tf = tf.placeholder(tf.float32, shape=self.lam_bc.shape)\n",
        "        self.lam_bc_tf = tf.placeholder(tf.float32, shape=self.lam_bc.shape)\n",
        "\n",
        "        # Define placeholders and computational graph\n",
        "        self.x_u_tf = tf.placeholder(tf.float32, shape=(None, 1))\n",
        "        self.u_tf = tf.placeholder(tf.float32, shape=(None, 1))\n",
        "\n",
        "        self.x_bc_tf = tf.placeholder(tf.float32, shape=(None, 1))\n",
        "        self.u_bc_tf = tf.placeholder(tf.float32, shape=(None, 1))\n",
        "\n",
        "        self.x_r_tf = tf.placeholder(tf.float32, shape=(None, 1))\n",
        "        self.r_tf = tf.placeholder(tf.float32, shape=(None, 1))\n",
        "        \n",
        "        self.x_u_ntk_tf = tf.placeholder(tf.float32, shape=(self.kernel_size, 1))\n",
        "        self.x_r_ntk_tf = tf.placeholder(tf.float32, shape=(self.kernel_size, 1))\n",
        "\n",
        "\n",
        "        # Evaluate predictions\n",
        "        self.u_bc_pred = self.net_u(self.x_bc_tf)\n",
        "\n",
        "        self.u_pred = self.net_u(self.x_u_tf)\n",
        "        self.r_pred = self.net_r(self.x_r_tf)\n",
        "        \n",
        "        self.u_ntk_pred = self.net_u(self.x_u_ntk_tf)\n",
        "        self.r_ntk_pred = self.net_r(self.x_r_ntk_tf)\n",
        "     \n",
        "        # Boundary loss\n",
        "        self.loss_bcs = tf.reduce_mean(tf.square(self.u_bc_pred - self.u_bc_tf))\n",
        "\n",
        "        # Residual loss        \n",
        "        self.loss_res =  tf.reduce_mean(tf.square(self.r_tf - self.r_pred))\n",
        "        \n",
        "        # Total loss\n",
        "        self.loss = self.loss_res + self.lam_bc_tf  * self.loss_bcs\n",
        "\n",
        "        # Define optimizer with learning rate schedule\n",
        "        self.global_step = tf.Variable(0, trainable=False)\n",
        "        starter_learning_rate = 1e-5\n",
        "        self.learning_rate = tf.train.exponential_decay(starter_learning_rate, self.global_step, 1000, 0.9, staircase=False)\n",
        "        # Passing global_step to minimize() will increment it at each step.\n",
        "        # To compute NTK, it is better to use SGD optimizer\n",
        "        # since the corresponding gradient flow is not exactly same.\n",
        "        # self.train_op = tf.train.GradientDescentOptimizer(starter_learning_rate).minimize(self.loss)\n",
        "        self.train_op = tf.train.AdamOptimizer(self.learning_rate).minimize(self.loss, global_step=self.global_step)\n",
        "\n",
        "\n",
        "        \n",
        "        # Compute the Jacobian for weights and biases in each hidden layer  \n",
        "        self.J_u = self.compute_jacobian(self.u_ntk_pred) \n",
        "        self.J_r = self.compute_jacobian(self.r_ntk_pred)\n",
        "        \n",
        "        # The empirical NTK = J J^T, compute NTK of PINNs \n",
        "        self.K_uu = self.compute_ntk(self.J_u, self.x_u_ntk_tf, self.J_u, self.x_u_ntk_tf)\n",
        "        self.K_ur = self.compute_ntk(self.J_u, self.x_u_ntk_tf, self.J_r, self.x_r_ntk_tf)\n",
        "        self.K_rr = self.compute_ntk(self.J_r, self.x_r_ntk_tf, self.J_r, self.x_r_ntk_tf)\n",
        "        \n",
        "        # Logger\n",
        "        # Loss logger\n",
        "        self.loss_bcs_log = []\n",
        "        self.loss_res_log = []\n",
        "\n",
        "        # NTK logger \n",
        "        self.K_uu_log = []\n",
        "        self.K_rr_log = []\n",
        "        self.K_ur_log = []\n",
        "        \n",
        "        # Weights logger \n",
        "        self.weights_log = []\n",
        "        self.biases_log = []\n",
        "       # Gradients Storage\n",
        "\n",
        "\n",
        "\n",
        "        # Generate dicts for gradients storage\n",
        "        self.dict_gradients_res_layers = self.generate_grad_dict()\n",
        "        self.dict_gradients_bc_layers = self.generate_grad_dict()\n",
        "\n",
        "        self.grad_res = []\n",
        "        self.grad_bc = []\n",
        "        self.grad_bc_list = []\n",
        "\n",
        "        for i in range(len(self.layers) - 1):\n",
        "            self.grad_res.append(tf.gradients(self.loss_res, self.weights[i])[0])\n",
        "            self.grad_bc.append(tf.gradients(self.loss_bcs, self.weights[i])[0])\n",
        "\n",
        "\n",
        "        self.adaptive_constant_bcs_log = []\n",
        "        self.adaptive_constant_res_log = []\n",
        "\n",
        "        self.mean_grad_res_list = []\n",
        "        self.mean_grad_bcs_list = []\n",
        "    \n",
        "        self.mean_grad_res_list_log = []\n",
        "        self.mean_grad_bcs_list_log = []\n",
        "\n",
        "        for i in range(len(self.layers) - 1):\n",
        "            self.mean_grad_res_list.append(tf.math.reduce_mean(tf.abs(self.grad_res[i]))) \n",
        "            self.mean_grad_bcs_list.append(tf.math.reduce_mean(tf.abs(self.grad_bc[i])))\n",
        "        \n",
        "        self.mean_grad_res = tf.math.reduce_mean(tf.stack(self.mean_grad_res_list))\n",
        "        self.mean_grad_bcs = tf.math.reduce_mean(tf.stack(self.mean_grad_bcs_list))\n",
        "    \n",
        "\n",
        "        for i in range(len(self.layers) - 1):\n",
        "            self.grad_bc_list.append(tf.reduce_max(tf.abs(self.grad_res[i])) / tf.reduce_mean(tf.abs(self.grad_bc[i])))\n",
        "\n",
        "        self.adaptive_constant_bc = tf.reduce_mean(tf.stack(self.grad_bc_list))\n",
        "\n",
        "        self.loss_tensor_list = [self.loss ,  self.loss_res,  self.loss_bcs] \n",
        "        self.loss_list = [\"total loss\" , \"loss_res\" , \"loss_bcs\"] \n",
        "\n",
        "        self.epoch_loss = dict.fromkeys(self.loss_list, 0)\n",
        "        self.loss_history = dict((loss, []) for loss in self.loss_list)\n",
        "        \n",
        "\n",
        "        # Initialize Tensorflow variables\n",
        "        init = tf.global_variables_initializer()\n",
        "\n",
        "        self.sess.run(init)\n",
        "        \n",
        "\n",
        "###############################################################################################################\n",
        "\n",
        "    def generate_grad_dict(self):\n",
        "        num = len(self.layers) - 1\n",
        "        grad_dict = {}\n",
        "        for i in range(num):\n",
        "            grad_dict['layer_{}'.format(i + 1)] = []\n",
        "        return grad_dict\n",
        "\n",
        "    # Xavier initialization\n",
        "    def xavier_init(self, size):\n",
        "        in_dim = size[0]\n",
        "        out_dim = size[1]\n",
        "        xavier_stddev = 1. / np.sqrt((in_dim + out_dim) / 2.)\n",
        "        return tf.Variable(tf.random.normal([in_dim, out_dim], dtype=tf.float32) * xavier_stddev,\n",
        "                           dtype=tf.float32)\n",
        "    \n",
        "    # NTK initialization\n",
        "    def NTK_init(self, size):\n",
        "        in_dim = size[0]\n",
        "        out_dim = size[1]\n",
        "        std = 1. / np.sqrt(in_dim)\n",
        "        return tf.Variable(tf.random.normal([in_dim, out_dim], dtype=tf.float32) * std,\n",
        "                           dtype=tf.float32)\n",
        "\n",
        "     # Initialize network weights and biases using Xavier initialization\n",
        "    def initialize_NN(self, layers):\n",
        "        weights = []\n",
        "        biases = []\n",
        "        num_layers = len(layers)\n",
        "        for l in range(0, num_layers - 1):\n",
        "            W = self.NTK_init(size=[layers[l], layers[l + 1]])\n",
        "            b = tf.Variable(tf.random.normal([1, layers[l + 1]], dtype=tf.float32), dtype=tf.float32)\n",
        "            weights.append(W)\n",
        "            biases.append(b)\n",
        "        return weights, biases\n",
        "\n",
        "    # Evaluates the forward pass\n",
        "    def forward_pass(self, H):\n",
        "        num_layers = len(self.layers)\n",
        "        for l in range(0, num_layers - 2):\n",
        "            W = self.weights[l]\n",
        "            b = self.biases[l]\n",
        "            H = tf.nn.tanh(tf.add(tf.matmul(H, W), b))\n",
        "        W = self.weights[-1]\n",
        "        b = self.biases[-1]\n",
        "        H = tf.add(tf.matmul(H, W), b)\n",
        "        return H\n",
        "\n",
        "    # Evaluates the PDE solution\n",
        "    def net_u(self, x):\n",
        "        u = self.forward_pass(x)\n",
        "        return u\n",
        "\n",
        "    # Forward pass for the residual\n",
        "    def net_r(self, x):\n",
        "        u = self.net_u(x)\n",
        "\n",
        "        u_x = tf.gradients(u, x)[0] / self.sigma_x\n",
        "        u_xx = tf.gradients(u_x, x)[0] / self.sigma_x\n",
        "\n",
        "        res_u = u_xx\n",
        "        return res_u\n",
        "    \n",
        "    # Compute Jacobian for each weights and biases in each layer and retrun a list \n",
        "    def compute_jacobian(self, f):\n",
        "        J_list =[]\n",
        "        L = len(self.weights)    \n",
        "        for i in range(L):\n",
        "            J_w = jacobian(f, self.weights[i])\n",
        "            J_list.append(J_w)\n",
        "     \n",
        "        for i in range(L):\n",
        "            J_b = jacobian(f, self.biases[i])\n",
        "            J_list.append(J_b)\n",
        "        return J_list\n",
        "    \n",
        "    # Compute the empirical NTK = J J^T\n",
        "    def compute_ntk(self, J1_list, x1, J2_list, x2):\n",
        "        D = x1.shape[0]\n",
        "        N = len(J1_list)\n",
        "        \n",
        "        Ker = tf.zeros((D,D))\n",
        "        for k in range(N):\n",
        "            J1 = tf.reshape(J1_list[k], shape=(D,-1))\n",
        "            J2 = tf.reshape(J2_list[k], shape=(D,-1))\n",
        "            \n",
        "            K = tf.matmul(J1, tf.transpose(J2))\n",
        "            Ker = Ker + K\n",
        "        return Ker\n",
        "            \n",
        "    # Trains the model by minimizing the MSE loss\n",
        "    def trainmb(self, nIter=10000, batch_size=128, log_NTK=True, log_weights=True):\n",
        "\n",
        "\n",
        "        itValues = [1,100,1000,39999]\n",
        "        start_time = timeit.default_timer()\n",
        "        for it in range(nIter):\n",
        "            # Fetch boundary mini-batches\n",
        "            # Define a dictionary for associating placeholders with data\n",
        "            tf_dict = {self.x_bc_tf: self.X_u, self.u_bc_tf: self.Y_u,\n",
        "                       self.x_u_tf: self.X_u, self.x_r_tf: self.X_r,\n",
        "                       self.r_tf: self.Y_r,\n",
        "                       self.lam_bc_tf : self.lam_bc\n",
        "                       }\n",
        "        \n",
        "            # Run the Tensorflow session to minimize the loss\n",
        "\n",
        "            # print(self.lam_bc_tf.shape)\n",
        "            _, batch_losses = self.sess.run([self.train_op, self.loss_tensor_list] ,tf_dict)\n",
        "\n",
        "            # self.print\n",
        "            if it % 100 == 0:\n",
        "                elapsed = timeit.default_timer() - start_time\n",
        "                [loss ,  loss_res,  loss_bcs]  = batch_losses\n",
        "\n",
        "\n",
        "                self.print('It: %d, Loss: %.3e, Loss_bcs: %.3e, Loss_res: %.3e ,Time: %.2f' %  (it, loss, loss_bcs, loss_res, elapsed))\n",
        "                \n",
        "            if log_NTK:\n",
        "                # provide x, x' for NTK\n",
        "                if it % 100 == 0:\n",
        "\n",
        "                    adaptive_constant_bc = self.sess.run([self.adaptive_constant_bc],  tf_dict)\n",
        "                    self.lam_bc = adaptive_constant_bc[0]\n",
        "                    print(\" adaptive_constant_bc: \" ,  self.lam_bc)    \n",
        "                    mean_grad_bcs , mean_grad_res = self.sess.run([self.mean_grad_bcs , self.mean_grad_res],  tf_dict)\n",
        "                    self.mean_grad_bcs_list_log.append(mean_grad_bcs)\n",
        "                    self.mean_grad_res_list_log.append(mean_grad_res)\n",
        "\n",
        "                    self.print(\"Compute NTK...\")\n",
        "                    tf_dict2 = {self.x_u_ntk_tf: self.X_u, \n",
        "                               self.x_r_ntk_tf: self.X_r\n",
        "                               }\n",
        "                    K_uu_value, K_ur_value, K_rr_value = self.sess.run([self.K_uu,  self.K_ur,  self.K_rr], tf_dict2)\n",
        "                    self.K_uu_log.append(K_uu_value)\n",
        "                    self.K_ur_log.append(K_ur_value)\n",
        "                    self.K_rr_log.append(K_rr_value)\n",
        "            start_time = timeit.default_timer()\n",
        "\n",
        "            if it in itValues:\n",
        "                    self.plot_layerLoss(tf_dict , it)\n",
        "                    self.print(\"Gradients information stored ...\")\n",
        "\n",
        "            sys.stdout.flush()\n",
        "            self.assign_batch_losses(batch_losses)\n",
        "            for key in self.loss_history:\n",
        "                self.loss_history[key].append(self.epoch_loss[key])\n",
        "            \n",
        "    # Evaluates predictions at test points\n",
        "    def predict_u(self, X_star):\n",
        "        X_star = (X_star - self.mu_X) / self.sigma_X\n",
        "        tf_dict = {self.x_u_tf: X_star}\n",
        "        u_star = self.sess.run(self.u_pred, tf_dict)\n",
        "        return u_star\n",
        "\n",
        "    # Evaluates predictions at test points\n",
        "    def predict_r(self, X_star):\n",
        "        X_star = (X_star - self.mu_X) / self.sigma_X\n",
        "        tf_dict = {self.x_r_tf: X_star}\n",
        "        r_star = self.sess.run(self.r_pred, tf_dict)\n",
        "        return r_star\n",
        " ############################################################\n",
        "\n",
        "    def assign_batch_losses(self, batch_losses):\n",
        "        for loss_values, key in zip(batch_losses, self.epoch_loss):\n",
        "            self.epoch_loss[key] = loss_values\n",
        "\n",
        "  ############################################################\n",
        "###################################################################################################################\n",
        "\n",
        "\n",
        "    def plot_layerLoss(self , tf_dict , epoch):\n",
        "        ## Gradients #\n",
        "        num_layers = len(self.layers)\n",
        "        for i in range(num_layers - 1):\n",
        "            grad_res, grad_bc  = self.sess.run([ self.grad_res[i],self.grad_bc[i]], feed_dict=tf_dict)\n",
        "\n",
        "            # save gradients of loss_r and loss_u\n",
        "            self.dict_gradients_res_layers['layer_' + str(i + 1)].append(grad_res.flatten())\n",
        "            self.dict_gradients_bc_layers['layer_' + str(i + 1)].append(grad_bc.flatten())\n",
        "\n",
        "        num_hidden_layers = num_layers -1\n",
        "        cnt = 1\n",
        "        fig = plt.figure(4, figsize=(13, 4))\n",
        "        for j in range(num_hidden_layers):\n",
        "            ax = plt.subplot(1, num_hidden_layers, cnt)\n",
        "            ax.set_title('Layer {}'.format(j + 1))\n",
        "            ax.set_yscale('symlog')\n",
        "            gradients_res = self.dict_gradients_res_layers['layer_' + str(j + 1)][-1]\n",
        "            gradients_bc = self.dict_gradients_bc_layers['layer_' + str(j + 1)][-1]\n",
        "\n",
        "            sns.distplot(gradients_res, hist=False,kde_kws={\"shade\": False},norm_hist=True,  label=r'$\\nabla_\\theta \\mathcal{L}_r$')\n",
        "\n",
        "            sns.distplot(gradients_bc, hist=False,kde_kws={\"shade\": False},norm_hist=True,   label=r'$\\nabla_\\theta \\mathcal{L}_{u_{bc}}$')\n",
        "\n",
        "            #ax.get_legend().remove()\n",
        "            ax.set_xlim([-1.0, 1.0])\n",
        "            #ax.set_ylim([0, 150])\n",
        "            cnt += 1\n",
        "        handles, labels = ax.get_legend_handles_labels()\n",
        "\n",
        "        fig.legend(handles, labels, loc=\"center\",  bbox_to_anchor=(0.5, -0.03),borderaxespad=0,bbox_transform=fig.transFigure, ncol=2)\n",
        "        text = 'layerLoss_epoch' + str(epoch) +'.png'\n",
        "        plt.savefig(os.path.join(self.dirname,text) , bbox_inches='tight')\n",
        "        plt.close(\"all\")\n",
        "\n",
        "    # #########################\n",
        "    # def make_output_dir(self):\n",
        "        \n",
        "    #     if not os.path.exists(\"/okyanus/users/afarea/PINN/Adaptive_PINN/IB_PINN/checkpoints\"):\n",
        "    #         os.mkdir(\"/okyanus/users/afarea/PINN/Adaptive_PINN/IB_PINN/checkpoints\")\n",
        "    #     dirname = os.path.join(\"/okyanus/users/afarea/PINN/Adaptive_PINN/IB_PINN/checkpoints\", datetime.now().strftime(\"%b-%d-%Y_%H-%M-%S-%f_\") + self.mode)\n",
        "    #     os.mkdir(dirname)\n",
        "    #     text = 'output.log'\n",
        "    #     logpath = os.path.join(dirname, text)\n",
        "    #     shutil.copyfile('/okyanus/users/afarea/PINN/Adaptive_PINN/IB_PINN/M2.py', os.path.join(dirname, 'M2.py'))\n",
        "\n",
        "    #     return dirname, logpath\n",
        "    \n",
        "    # # ###########################################################\n",
        "    def make_output_dir(self):\n",
        "        \n",
        "        if not os.path.exists(\"checkpoints\"):\n",
        "            os.mkdir(\"checkpoints\")\n",
        "        dirname = os.path.join(\"checkpoints\", datetime.now().strftime(\"%b-%d-%Y_%H-%M-%S-%f_\") + self.mode)\n",
        "        os.mkdir(dirname)\n",
        "        text = 'output.log'\n",
        "        logpath = os.path.join(dirname, text)\n",
        "        shutil.copyfile('M1.ipynb', os.path.join(dirname, 'M1.ipynb'))\n",
        "        return dirname, logpath\n",
        "    \n",
        "\n",
        "    def get_logger(self, logpath):\n",
        "        logger = logging.getLogger(__name__)\n",
        "        logger.setLevel(logging.DEBUG)\n",
        "        sh = logging.StreamHandler()\n",
        "        sh.setLevel(logging.DEBUG)        \n",
        "        sh.setFormatter(logging.Formatter('%(message)s'))\n",
        "        fh = logging.FileHandler(logpath)\n",
        "        logger.addHandler(sh)\n",
        "        logger.addHandler(fh)\n",
        "        return logger\n",
        "    \n",
        "    def print(self, *args):\n",
        "        for word in args:\n",
        "            if len(args) == 1:\n",
        "                self.logger.info(word)\n",
        "            elif word != args[-1]:\n",
        "                for handler in self.logger.handlers:\n",
        "                    handler.terminator = \"\"\n",
        "                if type(word) == float or type(word) == np.float64 or type(word) == np.float32: \n",
        "                    self.logger.info(\"%.4e\" % (word))\n",
        "                else:\n",
        "                    self.logger.info(word)\n",
        "            else:\n",
        "                for handler in self.logger.handlers:\n",
        "                    handler.terminator = \"\\n\"\n",
        "                if type(word) == float or type(word) == np.float64 or type(word) == np.float32:\n",
        "                    self.logger.info(\"%.4e\" % (word))\n",
        "                else:\n",
        "                    self.logger.info(word)\n",
        "\n",
        "\n",
        "    def plot_loss_history(self , path):\n",
        "\n",
        "        fig, ax = plt.subplots()\n",
        "        fig.set_size_inches([15,8])\n",
        "        for key in self.loss_history:\n",
        "            self.print(\"Final loss %s: %e\" % (key, self.loss_history[key][-1]))\n",
        "            ax.semilogy(self.loss_history[key], label=key)\n",
        "        ax.set_xlabel(\"epochs\", fontsize=15)\n",
        "        ax.set_ylabel(\"loss\", fontsize=15)\n",
        "        ax.tick_params(labelsize=15)\n",
        "        ax.legend()\n",
        "        plt.savefig(path)\n",
        "        #plt.show()\n",
        "       #######################\n",
        "    def save_NN(self):\n",
        "\n",
        "        uv_weights = self.sess.run(self.weights)\n",
        "        uv_biases = self.sess.run(self.biases)\n",
        "\n",
        "        with open(os.path.join(self.dirname,'model.pickle'), 'wb') as f:\n",
        "            pickle.dump([uv_weights, uv_biases], f)\n",
        "            self.print(\"Save uv NN parameters successfully in %s ...\" , self.dirname)\n",
        "\n",
        "        # with open(os.path.join(self.dirname,'loss_history_BFS.pickle'), 'wb') as f:\n",
        "        #     pickle.dump(self.loss_rec, f)\n",
        "        with open(os.path.join(self.dirname,'loss_history_BFS.png'), 'wb') as f:\n",
        "            self.plot_loss_history(f)\n",
        "\n",
        "        return self.dirname\n",
        "    \n",
        "    def plot_ntk(self):\n",
        "        # Create empty lists for storing the eigenvalues of NTK\n",
        "        lambda_K_log = []\n",
        "        lambda_K_uu_log = []\n",
        "        lambda_K_ur_log = []\n",
        "        lambda_K_rr_log = []\n",
        "\n",
        "        # Restore the NTK\n",
        "        K_uu_list = self.K_uu_log\n",
        "        K_ur_list = self.K_ur_log\n",
        "        K_rr_list = self.K_rr_log\n",
        "        K_list = []\n",
        "            \n",
        "        for k in range(len(K_uu_list)):\n",
        "            K_uu = K_uu_list[k]\n",
        "            K_ur = K_ur_list[k]\n",
        "            K_rr = K_rr_list[k]\n",
        "            \n",
        "            K = np.concatenate([np.concatenate([K_uu, K_ur], axis = 1), np.concatenate([K_ur.T, K_rr], axis = 1)], axis = 0)\n",
        "            K_list.append(K)\n",
        "\n",
        "            # Compute eigenvalues\n",
        "            lambda_K, _ = np.linalg.eig(K)\n",
        "            lambda_K_uu, _ = np.linalg.eig(K_uu)\n",
        "            lambda_K_rr, _ = np.linalg.eig(K_rr)\n",
        "            \n",
        "            # Sort in descresing order\n",
        "            lambda_K = np.sort(np.real(lambda_K))[::-1]\n",
        "            lambda_K_uu = np.sort(np.real(lambda_K_uu))[::-1]\n",
        "            lambda_K_rr = np.sort(np.real(lambda_K_rr))[::-1]\n",
        "            \n",
        "            # Store eigenvalues\n",
        "            lambda_K_log.append(lambda_K)\n",
        "            lambda_K_uu_log.append(lambda_K_uu)\n",
        "            lambda_K_rr_log.append(lambda_K_rr)\n",
        "        fig = plt.figure(figsize=(18, 5))\n",
        "        plt.subplot(1,3,1)\n",
        "        for i in range(1, len(lambda_K_log), 10):\n",
        "            plt.plot(lambda_K_log[i], '--')\n",
        "        plt.xscale('log')\n",
        "        plt.yscale('log')\n",
        "        plt.title(r'Eigenvalues of ${K}$')\n",
        "        plt.tight_layout()\n",
        "\n",
        "        plt.subplot(1,3,2)\n",
        "        for i in range(1, len(lambda_K_uu_log), 10):\n",
        "            plt.plot(lambda_K_uu_log[i], '--')\n",
        "        plt.xscale('log')\n",
        "        plt.yscale('log')\n",
        "        plt.title(r'Eigenvalues of ${K}_{uu}$')\n",
        "        plt.tight_layout()\n",
        "\n",
        "        plt.subplot(1,3,3)\n",
        "        for i in range(1, len(lambda_K_log), 10):\n",
        "            plt.plot(lambda_K_rr_log[i], '--')\n",
        "        plt.xscale('log')\n",
        "        plt.yscale('log')\n",
        "        plt.title(r'Eigenvalues of ${K}_{rr}$')\n",
        "        plt.tight_layout()\n",
        "        plt.savefig(os.path.join(self.dirname,\"ntk.png\"))\n",
        "        plt.close(\"all\")\n",
        "\n",
        "    def plt_prediction(self , X_star , u_star , u_pred):\n",
        "        fig = plt.figure(figsize=(12, 5))\n",
        "        plt.subplot(1,2,1)\n",
        "        plt.plot(X_star, u_star, label='Exact')\n",
        "        plt.plot(X_star, u_pred, '--', label='Predicted')\n",
        "        plt.xlabel('$x$')\n",
        "        plt.ylabel('$y$')\n",
        "        plt.legend(loc='upper right')\n",
        "\n",
        "        plt.subplot(1,2,2)\n",
        "        plt.plot(X_star, np.abs(u_star - u_pred), label='Error')\n",
        "        plt.yscale('log')\n",
        "        plt.xlabel('$x$')\n",
        "        plt.ylabel('Point-wise error')\n",
        "        plt.tight_layout()\n",
        "        plt.savefig(os.path.join(self.dirname,\"prediction.png\"))\n",
        "        plt.close(\"all\")\n",
        "\n",
        "\n",
        "\n",
        "    def plot_grad(self):\n",
        "\n",
        "        fig, ax = plt.subplots()\n",
        "        fig.set_size_inches([15,8])\n",
        "        ax.semilogy(self.mean_grad_res_list_log, label=r'$\\bar{\\nabla_\\theta \\mathcal{L}_{u_{phy}}}$')\n",
        "        ax.semilogy(self.mean_grad_bcs_list_log, label=r'$\\bar{\\nabla_\\theta \\mathcal{L}_{u_{bc}}}$')\n",
        "\n",
        "        ax.set_xlabel(\"epochs\", fontsize=15)\n",
        "        ax.set_ylabel(\"loss\", fontsize=15)\n",
        "        ax.tick_params(labelsize=15)\n",
        "        ax.legend()\n",
        "        path = os.path.join(self.dirname,'grad_history.png')\n",
        "        plt.savefig(path)"
      ]
    },
    {
      "cell_type": "code",
      "execution_count": null,
      "metadata": {},
      "outputs": [],
      "source": []
    },
    {
      "cell_type": "code",
      "execution_count": 4,
      "metadata": {
        "id": "FN1jEdRwY90i"
      },
      "outputs": [],
      "source": [
        "# Define solution and its Laplace\n",
        "a = 4\n",
        "\n",
        "def u(x, a):\n",
        "  return np.sin(np.pi * a * x)\n",
        "\n",
        "def u_xx(x, a):\n",
        "  return -(np.pi * a)**2 * np.sin(np.pi * a * x)"
      ]
    },
    {
      "cell_type": "code",
      "execution_count": 5,
      "metadata": {},
      "outputs": [],
      "source": [
        "#test_method(mtd , layers,  X_u, Y_u, X_r, Y_r ,  X_star , u_star , r_star  , nIter ,batch_size , bcbatch_size , ubatch_size)\n",
        "def test_method(method , layers,  X_u, Y_u, X_r, Y_r , X_star , u_star , r_star , nIter ,mbbatch_size , bcbatch_size , ubatch_size , mode):\n",
        "\n",
        "\n",
        "    gpu_options = tf.GPUOptions(visible_device_list=\"0\")\n",
        "    tf.reset_default_graph()\n",
        "    with tf.Session(config=tf.ConfigProto(gpu_options=gpu_options,allow_soft_placement=False, log_device_placement=False)) as sess:\n",
        "        # sess.run(init)\n",
        "\n",
        "        model = PINN(layers, X_u, Y_u, X_r, Y_r , mode , sess)    \n",
        "\n",
        "        # Train model\n",
        "        start_time = time.time()\n",
        "\n",
        "        if method ==\"full_batch\":\n",
        "            print(\"full_batch method is used\")\n",
        "            model.train(nIter  , bcbatch_size , ubatch_size  )\n",
        "        elif method ==\"mini_batch\":\n",
        "            print(\"mini_batch method is used\")\n",
        "            model.trainmb(nIter, mbbatch_size)\n",
        "        else:\n",
        "            print(\"unknown method!\")\n",
        "        elapsed = time.time() - start_time\n",
        "\n",
        "        # Predictions\n",
        "        u_pred = model.predict_u(X_star)\n",
        "        r_pred = model.predict_r(X_star)\n",
        "        # Predictions\n",
        "\n",
        "        sess.close()   \n",
        "\n",
        "    error_u = np.linalg.norm(u_star - u_pred, 2) / np.linalg.norm(u_star, 2)\n",
        "    error_r = np.linalg.norm(r_star - r_pred, 2) / np.linalg.norm(r_star, 2)\n",
        "\n",
        "    print('elapsed: {:.2e}'.format(elapsed))\n",
        "\n",
        "    print('Relative L2 error_u: {:.2e}'.format(error_u))\n",
        "    print('Relative L2 error_r: {:.2e}'.format(error_r))\n",
        "\n",
        "\n",
        "    return [elapsed, error_u , error_r ]\n",
        "\n"
      ]
    },
    {
      "cell_type": "code",
      "execution_count": 6,
      "metadata": {},
      "outputs": [
        {
          "name": "stdout",
          "output_type": "stream",
          "text": [
            "Method:  mini_batch\n",
            "Epoch:  1\n",
            "WARNING:tensorflow:From /tmp/ipykernel_15895/3935232679.py:52: The name tf.GPUOptions is deprecated. Please use tf.compat.v1.GPUOptions instead.\n",
            "\n",
            "WARNING:tensorflow:From /tmp/ipykernel_15895/3935232679.py:53: The name tf.reset_default_graph is deprecated. Please use tf.compat.v1.reset_default_graph instead.\n",
            "\n",
            "WARNING:tensorflow:From /tmp/ipykernel_15895/3935232679.py:54: The name tf.Session is deprecated. Please use tf.compat.v1.Session instead.\n",
            "\n",
            "WARNING:tensorflow:From /tmp/ipykernel_15895/3935232679.py:54: The name tf.ConfigProto is deprecated. Please use tf.compat.v1.ConfigProto instead.\n",
            "\n",
            "WARNING:tensorflow:From /tmp/ipykernel_15895/412739734.py:30: The name tf.placeholder is deprecated. Please use tf.compat.v1.placeholder instead.\n",
            "\n",
            "WARNING:tensorflow:From /tmp/ipykernel_15895/412739734.py:67: The name tf.train.exponential_decay is deprecated. Please use tf.compat.v1.train.exponential_decay instead.\n",
            "\n",
            "WARNING:tensorflow:From /tmp/ipykernel_15895/412739734.py:72: The name tf.train.AdamOptimizer is deprecated. Please use tf.compat.v1.train.AdamOptimizer instead.\n",
            "\n"
          ]
        },
        {
          "name": "stderr",
          "output_type": "stream",
          "text": [
            "2023-12-10 14:54:51.909406: I tensorflow/core/platform/cpu_feature_guard.cc:145] This TensorFlow binary is optimized with Intel(R) MKL-DNN to use the following CPU instructions in performance critical operations:  SSE4.1 SSE4.2 AVX AVX2 FMA\n",
            "To enable them in non-MKL-DNN operations, rebuild TensorFlow with the appropriate compiler flags.\n",
            "2023-12-10 14:54:51.930732: I tensorflow/core/platform/profile_utils/cpu_utils.cc:94] CPU Frequency: 2899885000 Hz\n",
            "2023-12-10 14:54:51.931389: I tensorflow/compiler/xla/service/service.cc:168] XLA service 0x55f7c7d7af60 initialized for platform Host (this does not guarantee that XLA will be used). Devices:\n",
            "2023-12-10 14:54:51.931406: I tensorflow/compiler/xla/service/service.cc:176]   StreamExecutor device (0): Host, Default Version\n",
            "2023-12-10 14:54:51.932403: I tensorflow/core/common_runtime/process_util.cc:115] Creating new thread pool with default inter op setting: 2. Tune using inter_op_parallelism_threads for best performance.\n"
          ]
        },
        {
          "name": "stdout",
          "output_type": "stream",
          "text": [
            "WARNING:tensorflow:From /tmp/ipykernel_15895/412739734.py:145: The name tf.global_variables_initializer is deprecated. Please use tf.compat.v1.global_variables_initializer instead.\n",
            "\n",
            "mini_batch method is used\n"
          ]
        },
        {
          "name": "stderr",
          "output_type": "stream",
          "text": [
            "It: 0, Loss: 1.256e+04, Loss_bcs: 7.122e-01, Loss_res: 1.256e+04 ,Time: 0.34\n"
          ]
        },
        {
          "name": "stdout",
          "output_type": "stream",
          "text": [
            " adaptive_constant_bc:  8271.02\n"
          ]
        },
        {
          "name": "stderr",
          "output_type": "stream",
          "text": [
            "Compute NTK...\n",
            "/home/afrah2/anaconda3/envs/twoPhase/lib/python3.7/site-packages/seaborn/distributions.py:2619: FutureWarning: `distplot` is a deprecated function and will be removed in a future version. Please adapt your code to use either `displot` (a figure-level function with similar flexibility) or `kdeplot` (an axes-level function for kernel density plots).\n",
            "  warnings.warn(msg, FutureWarning)\n",
            "/home/afrah2/anaconda3/envs/twoPhase/lib/python3.7/site-packages/seaborn/distributions.py:2619: FutureWarning: `distplot` is a deprecated function and will be removed in a future version. Please adapt your code to use either `displot` (a figure-level function with similar flexibility) or `kdeplot` (an axes-level function for kernel density plots).\n",
            "  warnings.warn(msg, FutureWarning)\n",
            "/home/afrah2/anaconda3/envs/twoPhase/lib/python3.7/site-packages/seaborn/distributions.py:2619: FutureWarning: `distplot` is a deprecated function and will be removed in a future version. Please adapt your code to use either `displot` (a figure-level function with similar flexibility) or `kdeplot` (an axes-level function for kernel density plots).\n",
            "  warnings.warn(msg, FutureWarning)\n",
            "/home/afrah2/anaconda3/envs/twoPhase/lib/python3.7/site-packages/seaborn/distributions.py:2619: FutureWarning: `distplot` is a deprecated function and will be removed in a future version. Please adapt your code to use either `displot` (a figure-level function with similar flexibility) or `kdeplot` (an axes-level function for kernel density plots).\n",
            "  warnings.warn(msg, FutureWarning)\n",
            "Gradients information stored ...\n",
            "It: 100, Loss: 1.512e+04, Loss_bcs: 3.145e-01, Loss_res: 1.252e+04 ,Time: 0.00\n",
            "Compute NTK...\n",
            "/home/afrah2/anaconda3/envs/twoPhase/lib/python3.7/site-packages/seaborn/distributions.py:2619: FutureWarning: `distplot` is a deprecated function and will be removed in a future version. Please adapt your code to use either `displot` (a figure-level function with similar flexibility) or `kdeplot` (an axes-level function for kernel density plots).\n",
            "  warnings.warn(msg, FutureWarning)\n",
            "/home/afrah2/anaconda3/envs/twoPhase/lib/python3.7/site-packages/seaborn/distributions.py:2619: FutureWarning: `distplot` is a deprecated function and will be removed in a future version. Please adapt your code to use either `displot` (a figure-level function with similar flexibility) or `kdeplot` (an axes-level function for kernel density plots).\n",
            "  warnings.warn(msg, FutureWarning)\n",
            "/home/afrah2/anaconda3/envs/twoPhase/lib/python3.7/site-packages/seaborn/distributions.py:2619: FutureWarning: `distplot` is a deprecated function and will be removed in a future version. Please adapt your code to use either `displot` (a figure-level function with similar flexibility) or `kdeplot` (an axes-level function for kernel density plots).\n",
            "  warnings.warn(msg, FutureWarning)\n",
            "/home/afrah2/anaconda3/envs/twoPhase/lib/python3.7/site-packages/seaborn/distributions.py:2619: FutureWarning: `distplot` is a deprecated function and will be removed in a future version. Please adapt your code to use either `displot` (a figure-level function with similar flexibility) or `kdeplot` (an axes-level function for kernel density plots).\n",
            "  warnings.warn(msg, FutureWarning)\n"
          ]
        },
        {
          "name": "stdout",
          "output_type": "stream",
          "text": [
            " adaptive_constant_bc:  12354.171\n"
          ]
        },
        {
          "name": "stderr",
          "output_type": "stream",
          "text": [
            "Gradients information stored ...\n",
            "It: 200, Loss: 1.352e+04, Loss_bcs: 8.335e-02, Loss_res: 1.249e+04 ,Time: 0.00\n",
            "Compute NTK...\n"
          ]
        },
        {
          "name": "stdout",
          "output_type": "stream",
          "text": [
            " adaptive_constant_bc:  23812.861\n"
          ]
        },
        {
          "name": "stderr",
          "output_type": "stream",
          "text": [
            "It: 300, Loss: 1.257e+04, Loss_bcs: 4.672e-03, Loss_res: 1.246e+04 ,Time: 0.00\n",
            "Compute NTK...\n"
          ]
        },
        {
          "name": "stdout",
          "output_type": "stream",
          "text": [
            " adaptive_constant_bc:  100592.84\n"
          ]
        },
        {
          "name": "stderr",
          "output_type": "stream",
          "text": [
            "It: 400, Loss: 1.241e+04, Loss_bcs: 5.223e-07, Loss_res: 1.241e+04 ,Time: 0.00\n",
            "Compute NTK...\n"
          ]
        },
        {
          "name": "stdout",
          "output_type": "stream",
          "text": [
            " adaptive_constant_bc:  9344399.0\n"
          ]
        },
        {
          "name": "stderr",
          "output_type": "stream",
          "text": [
            "It: 500, Loss: 1.235e+04, Loss_bcs: 9.468e-13, Loss_res: 1.235e+04 ,Time: 0.00\n",
            "Compute NTK...\n"
          ]
        },
        {
          "name": "stdout",
          "output_type": "stream",
          "text": [
            " adaptive_constant_bc:  4036877000.0\n"
          ]
        },
        {
          "name": "stderr",
          "output_type": "stream",
          "text": [
            "It: 600, Loss: 1.235e+04, Loss_bcs: 4.248e-10, Loss_res: 1.235e+04 ,Time: 0.00\n",
            "Compute NTK...\n"
          ]
        },
        {
          "name": "stdout",
          "output_type": "stream",
          "text": [
            " adaptive_constant_bc:  382712200.0\n"
          ]
        },
        {
          "name": "stderr",
          "output_type": "stream",
          "text": [
            "It: 700, Loss: 1.235e+04, Loss_bcs: 1.599e-13, Loss_res: 1.235e+04 ,Time: 0.00\n",
            "Compute NTK...\n"
          ]
        },
        {
          "name": "stdout",
          "output_type": "stream",
          "text": [
            " adaptive_constant_bc:  39807250000.0\n"
          ]
        },
        {
          "name": "stderr",
          "output_type": "stream",
          "text": [
            "It: 800, Loss: 1.236e+04, Loss_bcs: 2.332e-10, Loss_res: 1.235e+04 ,Time: 0.00\n",
            "Compute NTK...\n"
          ]
        },
        {
          "name": "stdout",
          "output_type": "stream",
          "text": [
            " adaptive_constant_bc:  1443038200.0\n"
          ]
        },
        {
          "name": "stderr",
          "output_type": "stream",
          "text": [
            "It: 900, Loss: 1.235e+04, Loss_bcs: 2.416e-13, Loss_res: 1.235e+04 ,Time: 0.00\n",
            "Compute NTK...\n"
          ]
        },
        {
          "name": "stdout",
          "output_type": "stream",
          "text": [
            " adaptive_constant_bc:  17185935000.0\n"
          ]
        },
        {
          "name": "stderr",
          "output_type": "stream",
          "text": [
            "It: 1000, Loss: 1.235e+04, Loss_bcs: 5.151e-14, Loss_res: 1.235e+04 ,Time: 0.00\n",
            "Compute NTK...\n"
          ]
        },
        {
          "name": "stdout",
          "output_type": "stream",
          "text": [
            " adaptive_constant_bc:  62029623000.0\n"
          ]
        },
        {
          "name": "stderr",
          "output_type": "stream",
          "text": [
            "/home/afrah2/anaconda3/envs/twoPhase/lib/python3.7/site-packages/seaborn/distributions.py:2619: FutureWarning: `distplot` is a deprecated function and will be removed in a future version. Please adapt your code to use either `displot` (a figure-level function with similar flexibility) or `kdeplot` (an axes-level function for kernel density plots).\n",
            "  warnings.warn(msg, FutureWarning)\n",
            "/home/afrah2/anaconda3/envs/twoPhase/lib/python3.7/site-packages/seaborn/distributions.py:2619: FutureWarning: `distplot` is a deprecated function and will be removed in a future version. Please adapt your code to use either `displot` (a figure-level function with similar flexibility) or `kdeplot` (an axes-level function for kernel density plots).\n",
            "  warnings.warn(msg, FutureWarning)\n",
            "/home/afrah2/anaconda3/envs/twoPhase/lib/python3.7/site-packages/seaborn/distributions.py:2619: FutureWarning: `distplot` is a deprecated function and will be removed in a future version. Please adapt your code to use either `displot` (a figure-level function with similar flexibility) or `kdeplot` (an axes-level function for kernel density plots).\n",
            "  warnings.warn(msg, FutureWarning)\n",
            "/home/afrah2/anaconda3/envs/twoPhase/lib/python3.7/site-packages/seaborn/distributions.py:2619: FutureWarning: `distplot` is a deprecated function and will be removed in a future version. Please adapt your code to use either `displot` (a figure-level function with similar flexibility) or `kdeplot` (an axes-level function for kernel density plots).\n",
            "  warnings.warn(msg, FutureWarning)\n",
            "Gradients information stored ...\n",
            "It: 1100, Loss: 1.235e+04, Loss_bcs: 2.283e-12, Loss_res: 1.234e+04 ,Time: 0.00\n",
            "Compute NTK...\n"
          ]
        },
        {
          "name": "stdout",
          "output_type": "stream",
          "text": [
            " adaptive_constant_bc:  9500529000.0\n"
          ]
        },
        {
          "name": "stderr",
          "output_type": "stream",
          "text": [
            "It: 1200, Loss: 1.234e+04, Loss_bcs: 3.020e-14, Loss_res: 1.234e+04 ,Time: 0.00\n"
          ]
        },
        {
          "name": "stdout",
          "output_type": "stream",
          "text": [
            " adaptive_constant_bc:  50667184000.0\n"
          ]
        },
        {
          "name": "stderr",
          "output_type": "stream",
          "text": [
            "Compute NTK...\n",
            "It: 1300, Loss: 1.234e+04, Loss_bcs: 3.642e-13, Loss_res: 1.234e+04 ,Time: 0.00\n",
            "Compute NTK...\n"
          ]
        },
        {
          "name": "stdout",
          "output_type": "stream",
          "text": [
            " adaptive_constant_bc:  18095661000.0\n"
          ]
        },
        {
          "name": "stderr",
          "output_type": "stream",
          "text": [
            "It: 1400, Loss: 1.234e+04, Loss_bcs: 3.020e-14, Loss_res: 1.234e+04 ,Time: 0.00\n",
            "Compute NTK...\n"
          ]
        },
        {
          "name": "stdout",
          "output_type": "stream",
          "text": [
            " adaptive_constant_bc:  127418425000.0\n"
          ]
        },
        {
          "name": "stderr",
          "output_type": "stream",
          "text": [
            "It: 1500, Loss: 1.236e+04, Loss_bcs: 1.291e-10, Loss_res: 1.234e+04 ,Time: 0.00\n",
            "Compute NTK...\n"
          ]
        },
        {
          "name": "stdout",
          "output_type": "stream",
          "text": [
            " adaptive_constant_bc:  771221700.0\n"
          ]
        },
        {
          "name": "stderr",
          "output_type": "stream",
          "text": [
            "It: 1600, Loss: 1.234e+04, Loss_bcs: 2.176e-12, Loss_res: 1.234e+04 ,Time: 0.00\n",
            "Compute NTK...\n"
          ]
        },
        {
          "name": "stdout",
          "output_type": "stream",
          "text": [
            " adaptive_constant_bc:  8892071000.0\n"
          ]
        },
        {
          "name": "stderr",
          "output_type": "stream",
          "text": [
            "It: 1700, Loss: 1.234e+04, Loss_bcs: 1.776e-15, Loss_res: 1.234e+04 ,Time: 0.00\n",
            "Compute NTK...\n"
          ]
        },
        {
          "name": "stdout",
          "output_type": "stream",
          "text": [
            " adaptive_constant_bc:  111841090000.0\n"
          ]
        },
        {
          "name": "stderr",
          "output_type": "stream",
          "text": [
            "It: 1800, Loss: 1.234e+04, Loss_bcs: 1.599e-14, Loss_res: 1.234e+04 ,Time: 0.00\n",
            "Compute NTK...\n"
          ]
        },
        {
          "name": "stdout",
          "output_type": "stream",
          "text": [
            " adaptive_constant_bc:  17157769000.0\n"
          ]
        },
        {
          "name": "stderr",
          "output_type": "stream",
          "text": [
            "It: 1900, Loss: 1.234e+04, Loss_bcs: 3.553e-15, Loss_res: 1.234e+04 ,Time: 0.00\n",
            "Compute NTK...\n"
          ]
        },
        {
          "name": "stdout",
          "output_type": "stream",
          "text": [
            " adaptive_constant_bc:  111800115000.0\n"
          ]
        },
        {
          "name": "stderr",
          "output_type": "stream",
          "text": [
            "It: 2000, Loss: 1.234e+04, Loss_bcs: 4.619e-14, Loss_res: 1.234e+04 ,Time: 0.00\n",
            "Compute NTK...\n"
          ]
        },
        {
          "name": "stdout",
          "output_type": "stream",
          "text": [
            " adaptive_constant_bc:  22355857000.0\n"
          ]
        },
        {
          "name": "stderr",
          "output_type": "stream",
          "text": [
            "It: 2100, Loss: 1.234e+04, Loss_bcs: 8.882e-15, Loss_res: 1.234e+04 ,Time: 0.00\n",
            "Compute NTK...\n"
          ]
        },
        {
          "name": "stdout",
          "output_type": "stream",
          "text": [
            " adaptive_constant_bc:  202356150000.0\n"
          ]
        },
        {
          "name": "stderr",
          "output_type": "stream",
          "text": [
            "It: 2200, Loss: 3.181e+04, Loss_bcs: 9.623e-08, Loss_res: 1.234e+04 ,Time: 0.00\n",
            "Compute NTK...\n"
          ]
        },
        {
          "name": "stdout",
          "output_type": "stream",
          "text": [
            " adaptive_constant_bc:  18785016.0\n"
          ]
        },
        {
          "name": "stderr",
          "output_type": "stream",
          "text": [
            "It: 2300, Loss: 1.281e+04, Loss_bcs: 2.476e-05, Loss_res: 1.234e+04 ,Time: 0.00\n",
            "Compute NTK...\n"
          ]
        },
        {
          "name": "stdout",
          "output_type": "stream",
          "text": [
            " adaptive_constant_bc:  1343357.1\n"
          ]
        },
        {
          "name": "stderr",
          "output_type": "stream",
          "text": [
            "It: 2400, Loss: 1.237e+04, Loss_bcs: 2.233e-05, Loss_res: 1.234e+04 ,Time: 0.00\n",
            "Compute NTK...\n"
          ]
        },
        {
          "name": "stdout",
          "output_type": "stream",
          "text": [
            " adaptive_constant_bc:  1410176.5\n"
          ]
        },
        {
          "name": "stderr",
          "output_type": "stream",
          "text": [
            "It: 2500, Loss: 1.237e+04, Loss_bcs: 2.127e-05, Loss_res: 1.234e+04 ,Time: 0.00\n",
            "Compute NTK...\n"
          ]
        },
        {
          "name": "stdout",
          "output_type": "stream",
          "text": [
            " adaptive_constant_bc:  1444834.2\n"
          ]
        },
        {
          "name": "stderr",
          "output_type": "stream",
          "text": [
            "It: 2600, Loss: 1.237e+04, Loss_bcs: 2.018e-05, Loss_res: 1.234e+04 ,Time: 0.00\n",
            "Compute NTK...\n"
          ]
        },
        {
          "name": "stdout",
          "output_type": "stream",
          "text": [
            " adaptive_constant_bc:  1483139.6\n"
          ]
        },
        {
          "name": "stderr",
          "output_type": "stream",
          "text": [
            "It: 2700, Loss: 1.237e+04, Loss_bcs: 1.909e-05, Loss_res: 1.234e+04 ,Time: 0.00\n",
            "Compute NTK...\n"
          ]
        },
        {
          "name": "stdout",
          "output_type": "stream",
          "text": [
            " adaptive_constant_bc:  1524573.0\n"
          ]
        },
        {
          "name": "stderr",
          "output_type": "stream",
          "text": [
            "It: 2800, Loss: 1.237e+04, Loss_bcs: 1.800e-05, Loss_res: 1.234e+04 ,Time: 0.00\n",
            "Compute NTK...\n"
          ]
        },
        {
          "name": "stdout",
          "output_type": "stream",
          "text": [
            " adaptive_constant_bc:  1569659.9\n"
          ]
        },
        {
          "name": "stderr",
          "output_type": "stream",
          "text": [
            "It: 2900, Loss: 1.237e+04, Loss_bcs: 1.688e-05, Loss_res: 1.234e+04 ,Time: 0.00\n",
            "Compute NTK...\n"
          ]
        },
        {
          "name": "stdout",
          "output_type": "stream",
          "text": [
            " adaptive_constant_bc:  1620636.4\n"
          ]
        },
        {
          "name": "stderr",
          "output_type": "stream",
          "text": [
            "It: 3000, Loss: 1.236e+04, Loss_bcs: 1.577e-05, Loss_res: 1.234e+04 ,Time: 0.00\n",
            "Compute NTK...\n"
          ]
        },
        {
          "name": "stdout",
          "output_type": "stream",
          "text": [
            " adaptive_constant_bc:  1676755.0\n"
          ]
        },
        {
          "name": "stderr",
          "output_type": "stream",
          "text": [
            "It: 3100, Loss: 1.236e+04, Loss_bcs: 1.465e-05, Loss_res: 1.234e+04 ,Time: 0.00\n",
            "Compute NTK...\n"
          ]
        },
        {
          "name": "stdout",
          "output_type": "stream",
          "text": [
            " adaptive_constant_bc:  1739085.6\n"
          ]
        },
        {
          "name": "stderr",
          "output_type": "stream",
          "text": [
            "It: 3200, Loss: 1.236e+04, Loss_bcs: 1.354e-05, Loss_res: 1.234e+04 ,Time: 0.00\n",
            "Compute NTK...\n"
          ]
        },
        {
          "name": "stdout",
          "output_type": "stream",
          "text": [
            " adaptive_constant_bc:  1808760.5\n"
          ]
        },
        {
          "name": "stderr",
          "output_type": "stream",
          "text": [
            "It: 3300, Loss: 1.236e+04, Loss_bcs: 1.239e-05, Loss_res: 1.234e+04 ,Time: 0.00\n",
            "Compute NTK...\n"
          ]
        },
        {
          "name": "stdout",
          "output_type": "stream",
          "text": [
            " adaptive_constant_bc:  1890192.0\n"
          ]
        },
        {
          "name": "stderr",
          "output_type": "stream",
          "text": [
            "It: 3400, Loss: 1.236e+04, Loss_bcs: 1.123e-05, Loss_res: 1.234e+04 ,Time: 0.00\n",
            "Compute NTK...\n"
          ]
        },
        {
          "name": "stdout",
          "output_type": "stream",
          "text": [
            " adaptive_constant_bc:  1985407.2\n"
          ]
        },
        {
          "name": "stderr",
          "output_type": "stream",
          "text": [
            "It: 3500, Loss: 1.236e+04, Loss_bcs: 1.009e-05, Loss_res: 1.234e+04 ,Time: 0.00\n",
            "Compute NTK...\n"
          ]
        },
        {
          "name": "stdout",
          "output_type": "stream",
          "text": [
            " adaptive_constant_bc:  2094261.5\n"
          ]
        },
        {
          "name": "stderr",
          "output_type": "stream",
          "text": [
            "It: 3600, Loss: 1.235e+04, Loss_bcs: 8.968e-06, Loss_res: 1.234e+04 ,Time: 0.00\n",
            "Compute NTK...\n"
          ]
        },
        {
          "name": "stdout",
          "output_type": "stream",
          "text": [
            " adaptive_constant_bc:  2221447.5\n"
          ]
        },
        {
          "name": "stderr",
          "output_type": "stream",
          "text": [
            "It: 3700, Loss: 1.235e+04, Loss_bcs: 7.874e-06, Loss_res: 1.234e+04 ,Time: 0.00\n",
            "Compute NTK...\n"
          ]
        },
        {
          "name": "stdout",
          "output_type": "stream",
          "text": [
            " adaptive_constant_bc:  2370445.0\n"
          ]
        },
        {
          "name": "stderr",
          "output_type": "stream",
          "text": [
            "It: 3800, Loss: 1.235e+04, Loss_bcs: 6.809e-06, Loss_res: 1.234e+04 ,Time: 0.00\n",
            "Compute NTK...\n"
          ]
        },
        {
          "name": "stdout",
          "output_type": "stream",
          "text": [
            " adaptive_constant_bc:  2548810.0\n"
          ]
        },
        {
          "name": "stderr",
          "output_type": "stream",
          "text": [
            "It: 3900, Loss: 1.235e+04, Loss_bcs: 5.797e-06, Loss_res: 1.233e+04 ,Time: 0.00\n",
            "Compute NTK...\n"
          ]
        },
        {
          "name": "stdout",
          "output_type": "stream",
          "text": [
            " adaptive_constant_bc:  2762196.5\n"
          ]
        },
        {
          "name": "stderr",
          "output_type": "stream",
          "text": [
            "It: 4000, Loss: 1.235e+04, Loss_bcs: 4.851e-06, Loss_res: 1.233e+04 ,Time: 0.00\n"
          ]
        },
        {
          "name": "stdout",
          "output_type": "stream",
          "text": [
            " adaptive_constant_bc:  3019377.5\n"
          ]
        },
        {
          "name": "stderr",
          "output_type": "stream",
          "text": [
            "Compute NTK...\n",
            "It: 4100, Loss: 1.235e+04, Loss_bcs: 3.969e-06, Loss_res: 1.233e+04 ,Time: 0.00\n",
            "Compute NTK...\n"
          ]
        },
        {
          "name": "stdout",
          "output_type": "stream",
          "text": [
            " adaptive_constant_bc:  3338170.2\n"
          ]
        },
        {
          "name": "stderr",
          "output_type": "stream",
          "text": [
            "It: 4200, Loss: 1.234e+04, Loss_bcs: 3.155e-06, Loss_res: 1.233e+04 ,Time: 0.00\n",
            "Compute NTK...\n"
          ]
        },
        {
          "name": "stdout",
          "output_type": "stream",
          "text": [
            " adaptive_constant_bc:  3743625.5\n"
          ]
        },
        {
          "name": "stderr",
          "output_type": "stream",
          "text": [
            "It: 4300, Loss: 1.234e+04, Loss_bcs: 2.422e-06, Loss_res: 1.233e+04 ,Time: 0.00\n",
            "Compute NTK...\n"
          ]
        },
        {
          "name": "stdout",
          "output_type": "stream",
          "text": [
            " adaptive_constant_bc:  4273100.5\n"
          ]
        },
        {
          "name": "stderr",
          "output_type": "stream",
          "text": [
            "It: 4400, Loss: 1.234e+04, Loss_bcs: 1.769e-06, Loss_res: 1.233e+04 ,Time: 0.00\n",
            "Compute NTK...\n"
          ]
        },
        {
          "name": "stdout",
          "output_type": "stream",
          "text": [
            " adaptive_constant_bc:  5000015.0\n"
          ]
        },
        {
          "name": "stderr",
          "output_type": "stream",
          "text": [
            "It: 4500, Loss: 1.234e+04, Loss_bcs: 1.208e-06, Loss_res: 1.233e+04 ,Time: 0.00\n",
            "Compute NTK...\n"
          ]
        },
        {
          "name": "stdout",
          "output_type": "stream",
          "text": [
            " adaptive_constant_bc:  6051120.0\n"
          ]
        },
        {
          "name": "stderr",
          "output_type": "stream",
          "text": [
            "It: 4600, Loss: 1.234e+04, Loss_bcs: 7.479e-07, Loss_res: 1.233e+04 ,Time: 0.00\n",
            "Compute NTK...\n"
          ]
        },
        {
          "name": "stdout",
          "output_type": "stream",
          "text": [
            " adaptive_constant_bc:  7694322.0\n"
          ]
        },
        {
          "name": "stderr",
          "output_type": "stream",
          "text": [
            "It: 4700, Loss: 1.233e+04, Loss_bcs: 3.946e-07, Loss_res: 1.233e+04 ,Time: 0.00\n",
            "Compute NTK...\n"
          ]
        },
        {
          "name": "stdout",
          "output_type": "stream",
          "text": [
            " adaptive_constant_bc:  10600347.0\n"
          ]
        },
        {
          "name": "stderr",
          "output_type": "stream",
          "text": [
            "It: 4800, Loss: 1.233e+04, Loss_bcs: 1.552e-07, Loss_res: 1.233e+04 ,Time: 0.00\n",
            "Compute NTK...\n"
          ]
        },
        {
          "name": "stdout",
          "output_type": "stream",
          "text": [
            " adaptive_constant_bc:  16922198.0\n"
          ]
        },
        {
          "name": "stderr",
          "output_type": "stream",
          "text": [
            "It: 4900, Loss: 1.233e+04, Loss_bcs: 3.112e-08, Loss_res: 1.233e+04 ,Time: 0.00\n",
            "Compute NTK...\n"
          ]
        },
        {
          "name": "stdout",
          "output_type": "stream",
          "text": [
            " adaptive_constant_bc:  37915988.0\n"
          ]
        },
        {
          "name": "stderr",
          "output_type": "stream",
          "text": [
            "It: 5000, Loss: 1.233e+04, Loss_bcs: 5.507e-10, Loss_res: 1.233e+04 ,Time: 0.00\n",
            "Compute NTK...\n"
          ]
        },
        {
          "name": "stdout",
          "output_type": "stream",
          "text": [
            " adaptive_constant_bc:  290472160.0\n"
          ]
        },
        {
          "name": "stderr",
          "output_type": "stream",
          "text": [
            "It: 5100, Loss: 1.233e+04, Loss_bcs: 1.030e-13, Loss_res: 1.233e+04 ,Time: 0.00\n",
            "Compute NTK...\n"
          ]
        },
        {
          "name": "stdout",
          "output_type": "stream",
          "text": [
            " adaptive_constant_bc:  19478972000.0\n"
          ]
        },
        {
          "name": "stderr",
          "output_type": "stream",
          "text": [
            "It: 5200, Loss: 1.233e+04, Loss_bcs: 1.776e-14, Loss_res: 1.233e+04 ,Time: 0.00\n",
            "Compute NTK...\n"
          ]
        },
        {
          "name": "stdout",
          "output_type": "stream",
          "text": [
            " adaptive_constant_bc:  43824130000.0\n"
          ]
        },
        {
          "name": "stderr",
          "output_type": "stream",
          "text": [
            "It: 5300, Loss: 1.233e+04, Loss_bcs: 3.553e-15, Loss_res: 1.233e+04 ,Time: 0.00\n",
            "Compute NTK...\n"
          ]
        },
        {
          "name": "stdout",
          "output_type": "stream",
          "text": [
            " adaptive_constant_bc:  100658330000.0\n"
          ]
        },
        {
          "name": "stderr",
          "output_type": "stream",
          "text": [
            "It: 5400, Loss: 1.235e+04, Loss_bcs: 2.285e-10, Loss_res: 1.233e+04 ,Time: 0.00\n",
            "Compute NTK...\n"
          ]
        },
        {
          "name": "stdout",
          "output_type": "stream",
          "text": [
            " adaptive_constant_bc:  11356522000.0\n"
          ]
        },
        {
          "name": "stderr",
          "output_type": "stream",
          "text": [
            "It: 5500, Loss: 1.233e+04, Loss_bcs: 1.776e-14, Loss_res: 1.233e+04 ,Time: 0.00\n",
            "Compute NTK...\n"
          ]
        },
        {
          "name": "stdout",
          "output_type": "stream",
          "text": [
            " adaptive_constant_bc:  111072805000.0\n"
          ]
        },
        {
          "name": "stderr",
          "output_type": "stream",
          "text": [
            "It: 5600, Loss: 1.233e+04, Loss_bcs: 6.573e-14, Loss_res: 1.233e+04 ,Time: 0.00\n",
            "Compute NTK...\n"
          ]
        },
        {
          "name": "stdout",
          "output_type": "stream",
          "text": [
            " adaptive_constant_bc:  27337865000.0\n"
          ]
        },
        {
          "name": "stderr",
          "output_type": "stream",
          "text": [
            "It: 5700, Loss: 1.233e+04, Loss_bcs: 1.776e-15, Loss_res: 1.233e+04 ,Time: 0.00\n",
            "Compute NTK...\n"
          ]
        },
        {
          "name": "stdout",
          "output_type": "stream",
          "text": [
            " adaptive_constant_bc:  216460500000.0\n"
          ]
        },
        {
          "name": "stderr",
          "output_type": "stream",
          "text": [
            "It: 5800, Loss: 1.233e+04, Loss_bcs: 6.638e-12, Loss_res: 1.233e+04 ,Time: 0.00\n",
            "Compute NTK...\n"
          ]
        },
        {
          "name": "stdout",
          "output_type": "stream",
          "text": [
            " adaptive_constant_bc:  2773758200.0\n"
          ]
        },
        {
          "name": "stderr",
          "output_type": "stream",
          "text": [
            "It: 5900, Loss: 1.233e+04, Loss_bcs: 3.553e-15, Loss_res: 1.233e+04 ,Time: 0.00\n",
            "Compute NTK...\n"
          ]
        },
        {
          "name": "stdout",
          "output_type": "stream",
          "text": [
            " adaptive_constant_bc:  111011100000.0\n"
          ]
        },
        {
          "name": "stderr",
          "output_type": "stream",
          "text": [
            "It: 6000, Loss: 1.232e+04, Loss_bcs: 1.599e-14, Loss_res: 1.232e+04 ,Time: 0.00\n",
            "Compute NTK...\n"
          ]
        },
        {
          "name": "stdout",
          "output_type": "stream",
          "text": [
            " adaptive_constant_bc:  226377900000.0\n"
          ]
        },
        {
          "name": "stderr",
          "output_type": "stream",
          "text": [
            "It: 6100, Loss: 1.232e+04, Loss_bcs: 5.151e-14, Loss_res: 1.232e+04 ,Time: 0.00\n",
            "Compute NTK...\n"
          ]
        },
        {
          "name": "stdout",
          "output_type": "stream",
          "text": [
            " adaptive_constant_bc:  53226400000.0\n"
          ]
        },
        {
          "name": "stderr",
          "output_type": "stream",
          "text": [
            "It: 6200, Loss: 1.232e+04, Loss_bcs: 1.776e-14, Loss_res: 1.232e+04 ,Time: 0.00\n",
            "Compute NTK...\n"
          ]
        },
        {
          "name": "stdout",
          "output_type": "stream",
          "text": [
            " adaptive_constant_bc:  53219380000.0\n"
          ]
        },
        {
          "name": "stderr",
          "output_type": "stream",
          "text": [
            "It: 6300, Loss: 1.232e+04, Loss_bcs: 1.776e-14, Loss_res: 1.232e+04 ,Time: 0.00\n"
          ]
        },
        {
          "name": "stdout",
          "output_type": "stream",
          "text": [
            " adaptive_constant_bc:  110950090000.0\n"
          ]
        },
        {
          "name": "stderr",
          "output_type": "stream",
          "text": [
            "Compute NTK...\n",
            "It: 6400, Loss: 1.232e+04, Loss_bcs: 1.776e-14, Loss_res: 1.232e+04 ,Time: 0.00\n",
            "Compute NTK...\n"
          ]
        },
        {
          "name": "stdout",
          "output_type": "stream",
          "text": [
            " adaptive_constant_bc:  24175602000.0\n"
          ]
        },
        {
          "name": "stderr",
          "output_type": "stream",
          "text": [
            "It: 6500, Loss: 1.232e+04, Loss_bcs: 3.553e-15, Loss_res: 1.232e+04 ,Time: 0.00\n",
            "Compute NTK...\n"
          ]
        },
        {
          "name": "stdout",
          "output_type": "stream",
          "text": [
            " adaptive_constant_bc:  110919655000.0\n"
          ]
        },
        {
          "name": "stderr",
          "output_type": "stream",
          "text": [
            "It: 6600, Loss: 1.232e+04, Loss_bcs: 3.553e-15, Loss_res: 1.232e+04 ,Time: 0.00\n",
            "Compute NTK...\n"
          ]
        },
        {
          "name": "stdout",
          "output_type": "stream",
          "text": [
            " adaptive_constant_bc:  44455680000.0\n"
          ]
        },
        {
          "name": "stderr",
          "output_type": "stream",
          "text": [
            "It: 6700, Loss: 1.232e+04, Loss_bcs: 4.441e-14, Loss_res: 1.232e+04 ,Time: 0.00\n",
            "Compute NTK...\n"
          ]
        },
        {
          "name": "stdout",
          "output_type": "stream",
          "text": [
            " adaptive_constant_bc:  36097750000.0\n"
          ]
        },
        {
          "name": "stderr",
          "output_type": "stream",
          "text": [
            "It: 6800, Loss: 1.232e+04, Loss_bcs: 1.776e-14, Loss_res: 1.232e+04 ,Time: 0.00\n",
            "Compute NTK...\n"
          ]
        },
        {
          "name": "stdout",
          "output_type": "stream",
          "text": [
            " adaptive_constant_bc:  126442960000.0\n"
          ]
        },
        {
          "name": "stderr",
          "output_type": "stream",
          "text": [
            "It: 6900, Loss: 1.232e+04, Loss_bcs: 6.040e-14, Loss_res: 1.232e+04 ,Time: 0.00\n",
            "Compute NTK...\n"
          ]
        },
        {
          "name": "stdout",
          "output_type": "stream",
          "text": [
            " adaptive_constant_bc:  53170323000.0\n"
          ]
        },
        {
          "name": "stderr",
          "output_type": "stream",
          "text": [
            "It: 7000, Loss: 1.232e+04, Loss_bcs: 1.776e-15, Loss_res: 1.232e+04 ,Time: 0.00\n",
            "Compute NTK...\n"
          ]
        },
        {
          "name": "stdout",
          "output_type": "stream",
          "text": [
            " adaptive_constant_bc:  110843510000.0\n"
          ]
        },
        {
          "name": "stderr",
          "output_type": "stream",
          "text": [
            "It: 7100, Loss: 1.232e+04, Loss_bcs: 1.776e-14, Loss_res: 1.232e+04 ,Time: 0.00\n",
            "Compute NTK...\n"
          ]
        },
        {
          "name": "stdout",
          "output_type": "stream",
          "text": [
            " adaptive_constant_bc:  43720573000.0\n"
          ]
        },
        {
          "name": "stderr",
          "output_type": "stream",
          "text": [
            "It: 7200, Loss: 1.232e+04, Loss_bcs: 3.553e-15, Loss_res: 1.232e+04 ,Time: 0.00\n",
            "Compute NTK...\n"
          ]
        },
        {
          "name": "stdout",
          "output_type": "stream",
          "text": [
            " adaptive_constant_bc:  216103420000.0\n"
          ]
        },
        {
          "name": "stderr",
          "output_type": "stream",
          "text": [
            "It: 7300, Loss: 1.233e+04, Loss_bcs: 3.353e-11, Loss_res: 1.232e+04 ,Time: 0.00\n",
            "Compute NTK...\n"
          ]
        },
        {
          "name": "stdout",
          "output_type": "stream",
          "text": [
            " adaptive_constant_bc:  809666560.0\n"
          ]
        },
        {
          "name": "stderr",
          "output_type": "stream",
          "text": [
            "It: 7400, Loss: 1.232e+04, Loss_bcs: 4.281e-12, Loss_res: 1.232e+04 ,Time: 0.00\n",
            "Compute NTK...\n"
          ]
        },
        {
          "name": "stdout",
          "output_type": "stream",
          "text": [
            " adaptive_constant_bc:  3178636800.0\n"
          ]
        },
        {
          "name": "stderr",
          "output_type": "stream",
          "text": [
            "It: 7500, Loss: 1.232e+04, Loss_bcs: 1.776e-14, Loss_res: 1.232e+04 ,Time: 0.00\n",
            "Compute NTK...\n"
          ]
        },
        {
          "name": "stdout",
          "output_type": "stream",
          "text": [
            " adaptive_constant_bc:  79356570000.0\n"
          ]
        },
        {
          "name": "stderr",
          "output_type": "stream",
          "text": [
            "It: 7600, Loss: 1.232e+04, Loss_bcs: 1.599e-14, Loss_res: 1.232e+04 ,Time: 0.00\n",
            "Compute NTK...\n"
          ]
        },
        {
          "name": "stdout",
          "output_type": "stream",
          "text": [
            " adaptive_constant_bc:  216031410000.0\n"
          ]
        },
        {
          "name": "stderr",
          "output_type": "stream",
          "text": [
            "It: 7700, Loss: 1.232e+04, Loss_bcs: 1.776e-15, Loss_res: 1.232e+04 ,Time: 0.00\n",
            "Compute NTK...\n"
          ]
        },
        {
          "name": "stdout",
          "output_type": "stream",
          "text": [
            " adaptive_constant_bc:  200762750000.0\n"
          ]
        },
        {
          "name": "stderr",
          "output_type": "stream",
          "text": [
            "It: 7800, Loss: 1.232e+04, Loss_bcs: 4.441e-14, Loss_res: 1.232e+04 ,Time: 0.00\n",
            "Compute NTK...\n"
          ]
        },
        {
          "name": "stdout",
          "output_type": "stream",
          "text": [
            " adaptive_constant_bc:  82932875000.0\n"
          ]
        },
        {
          "name": "stderr",
          "output_type": "stream",
          "text": [
            "It: 7900, Loss: 1.232e+04, Loss_bcs: 8.882e-15, Loss_res: 1.232e+04 ,Time: 0.00\n",
            "Compute NTK...\n"
          ]
        },
        {
          "name": "stdout",
          "output_type": "stream",
          "text": [
            " adaptive_constant_bc:  82926010000.0\n"
          ]
        },
        {
          "name": "stderr",
          "output_type": "stream",
          "text": [
            "It: 8000, Loss: 1.232e+04, Loss_bcs: 3.197e-14, Loss_res: 1.232e+04 ,Time: 0.00\n",
            "Compute NTK...\n"
          ]
        },
        {
          "name": "stdout",
          "output_type": "stream",
          "text": [
            " adaptive_constant_bc:  110720990000.0\n"
          ]
        },
        {
          "name": "stderr",
          "output_type": "stream",
          "text": [
            "It: 8100, Loss: 1.232e+04, Loss_bcs: 4.441e-14, Loss_res: 1.232e+04 ,Time: 0.00\n",
            "Compute NTK...\n"
          ]
        },
        {
          "name": "stdout",
          "output_type": "stream",
          "text": [
            " adaptive_constant_bc:  225811510000.0\n"
          ]
        },
        {
          "name": "stderr",
          "output_type": "stream",
          "text": [
            "It: 8200, Loss: 1.232e+04, Loss_bcs: 3.020e-14, Loss_res: 1.232e+04 ,Time: 0.00\n",
            "Compute NTK...\n"
          ]
        },
        {
          "name": "stdout",
          "output_type": "stream",
          "text": [
            " adaptive_constant_bc:  11281105000.0\n"
          ]
        },
        {
          "name": "stderr",
          "output_type": "stream",
          "text": [
            "It: 8300, Loss: 1.232e+04, Loss_bcs: 3.553e-15, Loss_res: 1.232e+04 ,Time: 0.00\n",
            "Compute NTK...\n"
          ]
        },
        {
          "name": "stdout",
          "output_type": "stream",
          "text": [
            " adaptive_constant_bc:  215903680000.0\n"
          ]
        },
        {
          "name": "stderr",
          "output_type": "stream",
          "text": [
            "It: 8400, Loss: 1.232e+04, Loss_bcs: 4.619e-14, Loss_res: 1.232e+04 ,Time: 0.00\n",
            "Compute NTK...\n"
          ]
        },
        {
          "name": "stdout",
          "output_type": "stream",
          "text": [
            " adaptive_constant_bc:  33420517000.0\n"
          ]
        },
        {
          "name": "stderr",
          "output_type": "stream",
          "text": [
            "It: 8500, Loss: 1.232e+04, Loss_bcs: 1.776e-15, Loss_res: 1.232e+04 ,Time: 0.00\n",
            "Compute NTK...\n"
          ]
        },
        {
          "name": "stdout",
          "output_type": "stream",
          "text": [
            " adaptive_constant_bc:  225718670000.0\n"
          ]
        },
        {
          "name": "stderr",
          "output_type": "stream",
          "text": [
            "It: 8600, Loss: 1.232e+04, Loss_bcs: 1.030e-13, Loss_res: 1.232e+04 ,Time: 0.00\n",
            "Compute NTK...\n"
          ]
        },
        {
          "name": "stdout",
          "output_type": "stream",
          "text": [
            " adaptive_constant_bc:  43769176000.0\n"
          ]
        },
        {
          "name": "stderr",
          "output_type": "stream",
          "text": [
            "It: 8700, Loss: 1.232e+04, Loss_bcs: 8.882e-15, Loss_res: 1.232e+04 ,Time: 0.00\n",
            "Compute NTK...\n"
          ]
        },
        {
          "name": "stdout",
          "output_type": "stream",
          "text": [
            " adaptive_constant_bc:  110638420000.0\n"
          ]
        },
        {
          "name": "stderr",
          "output_type": "stream",
          "text": [
            "It: 8800, Loss: 1.232e+04, Loss_bcs: 3.197e-14, Loss_res: 1.232e+04 ,Time: 0.00\n",
            "Compute NTK...\n"
          ]
        },
        {
          "name": "stdout",
          "output_type": "stream",
          "text": [
            " adaptive_constant_bc:  36875563000.0\n"
          ]
        },
        {
          "name": "stderr",
          "output_type": "stream",
          "text": [
            "It: 8900, Loss: 1.232e+04, Loss_bcs: 1.200e-31, Loss_res: 1.232e+04 ,Time: 0.00\n",
            "Compute NTK...\n"
          ]
        },
        {
          "name": "stdout",
          "output_type": "stream",
          "text": [
            " adaptive_constant_bc:  76883430000.0\n"
          ]
        },
        {
          "name": "stderr",
          "output_type": "stream",
          "text": [
            "It: 9000, Loss: 1.232e+04, Loss_bcs: 4.619e-14, Loss_res: 1.232e+04 ,Time: 0.00\n",
            "Compute NTK...\n"
          ]
        },
        {
          "name": "stdout",
          "output_type": "stream",
          "text": [
            " adaptive_constant_bc:  25788893000.0\n"
          ]
        },
        {
          "name": "stderr",
          "output_type": "stream",
          "text": [
            "It: 9100, Loss: 1.232e+04, Loss_bcs: 7.105e-15, Loss_res: 1.232e+04 ,Time: 0.00\n",
            "Compute NTK...\n"
          ]
        },
        {
          "name": "stdout",
          "output_type": "stream",
          "text": [
            " adaptive_constant_bc:  75192900000.0\n"
          ]
        },
        {
          "name": "stderr",
          "output_type": "stream",
          "text": [
            "It: 9200, Loss: 1.232e+04, Loss_bcs: 8.882e-15, Loss_res: 1.232e+04 ,Time: 0.00\n",
            "Compute NTK...\n"
          ]
        },
        {
          "name": "stdout",
          "output_type": "stream",
          "text": [
            " adaptive_constant_bc:  82834735000.0\n"
          ]
        },
        {
          "name": "stderr",
          "output_type": "stream",
          "text": [
            "It: 9300, Loss: 1.232e+04, Loss_bcs: 1.200e-31, Loss_res: 1.232e+04 ,Time: 0.00\n",
            "Compute NTK...\n"
          ]
        },
        {
          "name": "stdout",
          "output_type": "stream",
          "text": [
            " adaptive_constant_bc:  26518254000.0\n"
          ]
        },
        {
          "name": "stderr",
          "output_type": "stream",
          "text": [
            "It: 9400, Loss: 1.232e+04, Loss_bcs: 1.776e-14, Loss_res: 1.232e+04 ,Time: 0.00\n",
            "Compute NTK...\n"
          ]
        },
        {
          "name": "stdout",
          "output_type": "stream",
          "text": [
            " adaptive_constant_bc:  225508640000.0\n"
          ]
        },
        {
          "name": "stderr",
          "output_type": "stream",
          "text": [
            "It: 9500, Loss: 1.232e+04, Loss_bcs: 3.769e-12, Loss_res: 1.232e+04 ,Time: 0.00\n",
            "Compute NTK...\n"
          ]
        },
        {
          "name": "stdout",
          "output_type": "stream",
          "text": [
            " adaptive_constant_bc:  5532865500.0\n"
          ]
        },
        {
          "name": "stderr",
          "output_type": "stream",
          "text": [
            "It: 9600, Loss: 1.232e+04, Loss_bcs: 8.882e-15, Loss_res: 1.232e+04 ,Time: 0.00\n",
            "Compute NTK...\n"
          ]
        },
        {
          "name": "stdout",
          "output_type": "stream",
          "text": [
            " adaptive_constant_bc:  82807230000.0\n"
          ]
        },
        {
          "name": "stderr",
          "output_type": "stream",
          "text": [
            "It: 9700, Loss: 1.232e+04, Loss_bcs: 1.776e-14, Loss_res: 1.232e+04 ,Time: 0.00\n",
            "Compute NTK...\n"
          ]
        },
        {
          "name": "stdout",
          "output_type": "stream",
          "text": [
            " adaptive_constant_bc:  225441990000.0\n"
          ]
        },
        {
          "name": "stderr",
          "output_type": "stream",
          "text": [
            "It: 9800, Loss: 1.232e+04, Loss_bcs: 1.510e-12, Loss_res: 1.232e+04 ,Time: 0.00\n",
            "Compute NTK...\n"
          ]
        },
        {
          "name": "stdout",
          "output_type": "stream",
          "text": [
            " adaptive_constant_bc:  5912443000.0\n"
          ]
        },
        {
          "name": "stderr",
          "output_type": "stream",
          "text": [
            "It: 9900, Loss: 1.232e+04, Loss_bcs: 8.882e-15, Loss_res: 1.232e+04 ,Time: 0.00\n",
            "Compute NTK...\n"
          ]
        },
        {
          "name": "stdout",
          "output_type": "stream",
          "text": [
            " adaptive_constant_bc:  71946470000.0\n"
          ]
        },
        {
          "name": "stderr",
          "output_type": "stream",
          "text": [
            "It: 10000, Loss: 1.232e+04, Loss_bcs: 3.553e-15, Loss_res: 1.232e+04 ,Time: 0.00\n",
            "Compute NTK...\n"
          ]
        },
        {
          "name": "stdout",
          "output_type": "stream",
          "text": [
            " adaptive_constant_bc:  110488855000.0\n"
          ]
        },
        {
          "name": "stderr",
          "output_type": "stream",
          "text": [
            "It: 10100, Loss: 1.232e+04, Loss_bcs: 1.723e-13, Loss_res: 1.232e+04 ,Time: 0.00\n",
            "Compute NTK...\n"
          ]
        },
        {
          "name": "stdout",
          "output_type": "stream",
          "text": [
            " adaptive_constant_bc:  21850536000.0\n"
          ]
        },
        {
          "name": "stderr",
          "output_type": "stream",
          "text": [
            "It: 10200, Loss: 1.232e+04, Loss_bcs: 8.882e-15, Loss_res: 1.232e+04 ,Time: 0.00\n",
            "Compute NTK...\n"
          ]
        },
        {
          "name": "stdout",
          "output_type": "stream",
          "text": [
            " adaptive_constant_bc:  110466410000.0\n"
          ]
        },
        {
          "name": "stderr",
          "output_type": "stream",
          "text": [
            "It: 10300, Loss: 1.232e+04, Loss_bcs: 1.510e-13, Loss_res: 1.232e+04 ,Time: 0.00\n",
            "Compute NTK...\n"
          ]
        },
        {
          "name": "stdout",
          "output_type": "stream",
          "text": [
            " adaptive_constant_bc:  21941434000.0\n"
          ]
        },
        {
          "name": "stderr",
          "output_type": "stream",
          "text": [
            "It: 10400, Loss: 1.232e+04, Loss_bcs: 1.200e-31, Loss_res: 1.232e+04 ,Time: 0.00\n",
            "Compute NTK...\n"
          ]
        },
        {
          "name": "stdout",
          "output_type": "stream",
          "text": [
            " adaptive_constant_bc:  200267280000.0\n"
          ]
        },
        {
          "name": "stderr",
          "output_type": "stream",
          "text": [
            "It: 10500, Loss: 1.232e+04, Loss_bcs: 1.718e-11, Loss_res: 1.231e+04 ,Time: 0.00\n",
            "Compute NTK...\n"
          ]
        },
        {
          "name": "stdout",
          "output_type": "stream",
          "text": [
            " adaptive_constant_bc:  873315300.0\n"
          ]
        },
        {
          "name": "stderr",
          "output_type": "stream",
          "text": [
            "It: 10600, Loss: 1.231e+04, Loss_bcs: 7.105e-14, Loss_res: 1.231e+04 ,Time: 0.00\n",
            "Compute NTK...\n"
          ]
        },
        {
          "name": "stdout",
          "output_type": "stream",
          "text": [
            " adaptive_constant_bc:  26485045000.0\n"
          ]
        },
        {
          "name": "stderr",
          "output_type": "stream",
          "text": [
            "It: 10700, Loss: 1.231e+04, Loss_bcs: 1.776e-15, Loss_res: 1.231e+04 ,Time: 0.00\n",
            "Compute NTK...\n"
          ]
        },
        {
          "name": "stdout",
          "output_type": "stream",
          "text": [
            " adaptive_constant_bc:  2.436199e+19\n"
          ]
        },
        {
          "name": "stderr",
          "output_type": "stream",
          "text": [
            "It: 10800, Loss: 1.502e+09, Loss_bcs: 6.163e-11, Loss_res: 1.231e+04 ,Time: 0.00\n",
            "Compute NTK...\n"
          ]
        },
        {
          "name": "stdout",
          "output_type": "stream",
          "text": [
            " adaptive_constant_bc:  580619840.0\n"
          ]
        },
        {
          "name": "stderr",
          "output_type": "stream",
          "text": [
            "It: 10900, Loss: 1.232e+04, Loss_bcs: 6.735e-09, Loss_res: 1.231e+04 ,Time: 0.02\n",
            "Compute NTK...\n"
          ]
        },
        {
          "name": "stdout",
          "output_type": "stream",
          "text": [
            " adaptive_constant_bc:  103625440.0\n"
          ]
        },
        {
          "name": "stderr",
          "output_type": "stream",
          "text": [
            "It: 11000, Loss: 1.232e+04, Loss_bcs: 6.735e-09, Loss_res: 1.231e+04 ,Time: 0.00\n",
            "Compute NTK...\n"
          ]
        },
        {
          "name": "stdout",
          "output_type": "stream",
          "text": [
            " adaptive_constant_bc:  103625440.0\n"
          ]
        },
        {
          "name": "stderr",
          "output_type": "stream",
          "text": [
            "It: 11100, Loss: 1.232e+04, Loss_bcs: 6.735e-09, Loss_res: 1.231e+04 ,Time: 0.00\n",
            "Compute NTK...\n"
          ]
        },
        {
          "name": "stdout",
          "output_type": "stream",
          "text": [
            " adaptive_constant_bc:  103625440.0\n"
          ]
        },
        {
          "name": "stderr",
          "output_type": "stream",
          "text": [
            "It: 11200, Loss: 1.232e+04, Loss_bcs: 6.735e-09, Loss_res: 1.231e+04 ,Time: 0.00\n",
            "Compute NTK...\n"
          ]
        },
        {
          "name": "stdout",
          "output_type": "stream",
          "text": [
            " adaptive_constant_bc:  103625440.0\n"
          ]
        },
        {
          "name": "stderr",
          "output_type": "stream",
          "text": [
            "It: 11300, Loss: 1.232e+04, Loss_bcs: 6.735e-09, Loss_res: 1.231e+04 ,Time: 0.00\n",
            "Compute NTK...\n"
          ]
        },
        {
          "name": "stdout",
          "output_type": "stream",
          "text": [
            " adaptive_constant_bc:  103625440.0\n"
          ]
        },
        {
          "name": "stderr",
          "output_type": "stream",
          "text": [
            "It: 11400, Loss: 1.232e+04, Loss_bcs: 6.735e-09, Loss_res: 1.231e+04 ,Time: 0.00\n",
            "Compute NTK...\n"
          ]
        },
        {
          "name": "stdout",
          "output_type": "stream",
          "text": [
            " adaptive_constant_bc:  103625440.0\n"
          ]
        },
        {
          "name": "stderr",
          "output_type": "stream",
          "text": [
            "It: 11500, Loss: 1.232e+04, Loss_bcs: 6.735e-09, Loss_res: 1.231e+04 ,Time: 0.00\n",
            "Compute NTK...\n"
          ]
        },
        {
          "name": "stdout",
          "output_type": "stream",
          "text": [
            " adaptive_constant_bc:  103625440.0\n"
          ]
        },
        {
          "name": "stderr",
          "output_type": "stream",
          "text": [
            "It: 11600, Loss: 1.232e+04, Loss_bcs: 6.735e-09, Loss_res: 1.231e+04 ,Time: 0.00\n",
            "Compute NTK...\n"
          ]
        },
        {
          "name": "stdout",
          "output_type": "stream",
          "text": [
            " adaptive_constant_bc:  103625440.0\n"
          ]
        },
        {
          "name": "stderr",
          "output_type": "stream",
          "text": [
            "It: 11700, Loss: 1.232e+04, Loss_bcs: 6.735e-09, Loss_res: 1.231e+04 ,Time: 0.00\n",
            "Compute NTK...\n"
          ]
        },
        {
          "name": "stdout",
          "output_type": "stream",
          "text": [
            " adaptive_constant_bc:  103625440.0\n"
          ]
        },
        {
          "name": "stderr",
          "output_type": "stream",
          "text": [
            "It: 11800, Loss: 1.232e+04, Loss_bcs: 6.735e-09, Loss_res: 1.231e+04 ,Time: 0.00\n",
            "Compute NTK...\n"
          ]
        },
        {
          "name": "stdout",
          "output_type": "stream",
          "text": [
            " adaptive_constant_bc:  103625440.0\n"
          ]
        },
        {
          "name": "stderr",
          "output_type": "stream",
          "text": [
            "It: 11900, Loss: 1.232e+04, Loss_bcs: 6.735e-09, Loss_res: 1.231e+04 ,Time: 0.00\n",
            "Compute NTK...\n"
          ]
        },
        {
          "name": "stdout",
          "output_type": "stream",
          "text": [
            " adaptive_constant_bc:  103625440.0\n"
          ]
        },
        {
          "name": "stderr",
          "output_type": "stream",
          "text": [
            "It: 12000, Loss: 1.232e+04, Loss_bcs: 6.735e-09, Loss_res: 1.231e+04 ,Time: 0.00\n",
            "Compute NTK...\n"
          ]
        },
        {
          "name": "stdout",
          "output_type": "stream",
          "text": [
            " adaptive_constant_bc:  103625440.0\n"
          ]
        },
        {
          "name": "stderr",
          "output_type": "stream",
          "text": [
            "It: 12100, Loss: 1.232e+04, Loss_bcs: 6.735e-09, Loss_res: 1.231e+04 ,Time: 0.00\n",
            "Compute NTK...\n"
          ]
        },
        {
          "name": "stdout",
          "output_type": "stream",
          "text": [
            " adaptive_constant_bc:  103625440.0\n"
          ]
        },
        {
          "name": "stderr",
          "output_type": "stream",
          "text": [
            "It: 12200, Loss: 1.232e+04, Loss_bcs: 6.735e-09, Loss_res: 1.231e+04 ,Time: 0.00\n",
            "Compute NTK...\n"
          ]
        },
        {
          "name": "stdout",
          "output_type": "stream",
          "text": [
            " adaptive_constant_bc:  103625440.0\n"
          ]
        },
        {
          "name": "stderr",
          "output_type": "stream",
          "text": [
            "It: 12300, Loss: 1.232e+04, Loss_bcs: 6.735e-09, Loss_res: 1.231e+04 ,Time: 0.00\n",
            "Compute NTK...\n"
          ]
        },
        {
          "name": "stdout",
          "output_type": "stream",
          "text": [
            " adaptive_constant_bc:  103625440.0\n"
          ]
        },
        {
          "name": "stderr",
          "output_type": "stream",
          "text": [
            "It: 12400, Loss: 1.232e+04, Loss_bcs: 6.735e-09, Loss_res: 1.231e+04 ,Time: 0.00\n",
            "Compute NTK...\n"
          ]
        },
        {
          "name": "stdout",
          "output_type": "stream",
          "text": [
            " adaptive_constant_bc:  103625440.0\n"
          ]
        },
        {
          "name": "stderr",
          "output_type": "stream",
          "text": [
            "It: 12500, Loss: 1.232e+04, Loss_bcs: 6.735e-09, Loss_res: 1.231e+04 ,Time: 0.00\n",
            "Compute NTK...\n"
          ]
        },
        {
          "name": "stdout",
          "output_type": "stream",
          "text": [
            " adaptive_constant_bc:  103625440.0\n"
          ]
        },
        {
          "name": "stderr",
          "output_type": "stream",
          "text": [
            "It: 12600, Loss: 1.232e+04, Loss_bcs: 6.735e-09, Loss_res: 1.231e+04 ,Time: 0.00\n",
            "Compute NTK...\n"
          ]
        },
        {
          "name": "stdout",
          "output_type": "stream",
          "text": [
            " adaptive_constant_bc:  103625440.0\n"
          ]
        },
        {
          "name": "stderr",
          "output_type": "stream",
          "text": [
            "It: 12700, Loss: 1.232e+04, Loss_bcs: 6.735e-09, Loss_res: 1.231e+04 ,Time: 0.00\n",
            "Compute NTK...\n"
          ]
        },
        {
          "name": "stdout",
          "output_type": "stream",
          "text": [
            " adaptive_constant_bc:  103625440.0\n"
          ]
        },
        {
          "name": "stderr",
          "output_type": "stream",
          "text": [
            "It: 12800, Loss: 1.232e+04, Loss_bcs: 6.735e-09, Loss_res: 1.231e+04 ,Time: 0.00\n",
            "Compute NTK...\n"
          ]
        },
        {
          "name": "stdout",
          "output_type": "stream",
          "text": [
            " adaptive_constant_bc:  103625440.0\n"
          ]
        },
        {
          "name": "stderr",
          "output_type": "stream",
          "text": [
            "It: 12900, Loss: 1.232e+04, Loss_bcs: 6.735e-09, Loss_res: 1.231e+04 ,Time: 0.00\n",
            "Compute NTK...\n"
          ]
        },
        {
          "name": "stdout",
          "output_type": "stream",
          "text": [
            " adaptive_constant_bc:  103625440.0\n"
          ]
        },
        {
          "name": "stderr",
          "output_type": "stream",
          "text": [
            "It: 13000, Loss: 1.232e+04, Loss_bcs: 6.735e-09, Loss_res: 1.231e+04 ,Time: 0.00\n",
            "Compute NTK...\n"
          ]
        },
        {
          "name": "stdout",
          "output_type": "stream",
          "text": [
            " adaptive_constant_bc:  103625440.0\n"
          ]
        },
        {
          "name": "stderr",
          "output_type": "stream",
          "text": [
            "It: 13100, Loss: 1.232e+04, Loss_bcs: 6.735e-09, Loss_res: 1.231e+04 ,Time: 0.00\n",
            "Compute NTK...\n"
          ]
        },
        {
          "name": "stdout",
          "output_type": "stream",
          "text": [
            " adaptive_constant_bc:  103625440.0\n"
          ]
        },
        {
          "name": "stderr",
          "output_type": "stream",
          "text": [
            "It: 13200, Loss: 1.232e+04, Loss_bcs: 6.735e-09, Loss_res: 1.231e+04 ,Time: 0.00\n",
            "Compute NTK...\n"
          ]
        },
        {
          "name": "stdout",
          "output_type": "stream",
          "text": [
            " adaptive_constant_bc:  103625440.0\n"
          ]
        },
        {
          "name": "stderr",
          "output_type": "stream",
          "text": [
            "It: 13300, Loss: 1.232e+04, Loss_bcs: 6.735e-09, Loss_res: 1.231e+04 ,Time: 0.00\n",
            "Compute NTK...\n"
          ]
        },
        {
          "name": "stdout",
          "output_type": "stream",
          "text": [
            " adaptive_constant_bc:  103625440.0\n"
          ]
        },
        {
          "name": "stderr",
          "output_type": "stream",
          "text": [
            "It: 13400, Loss: 1.232e+04, Loss_bcs: 6.735e-09, Loss_res: 1.231e+04 ,Time: 0.00\n",
            "Compute NTK...\n"
          ]
        },
        {
          "name": "stdout",
          "output_type": "stream",
          "text": [
            " adaptive_constant_bc:  103625440.0\n"
          ]
        },
        {
          "name": "stderr",
          "output_type": "stream",
          "text": [
            "It: 13500, Loss: 1.232e+04, Loss_bcs: 6.735e-09, Loss_res: 1.231e+04 ,Time: 0.00\n",
            "Compute NTK...\n"
          ]
        },
        {
          "name": "stdout",
          "output_type": "stream",
          "text": [
            " adaptive_constant_bc:  103625440.0\n"
          ]
        },
        {
          "name": "stderr",
          "output_type": "stream",
          "text": [
            "It: 13600, Loss: 1.232e+04, Loss_bcs: 6.735e-09, Loss_res: 1.231e+04 ,Time: 0.00\n",
            "Compute NTK...\n"
          ]
        },
        {
          "name": "stdout",
          "output_type": "stream",
          "text": [
            " adaptive_constant_bc:  103625440.0\n"
          ]
        },
        {
          "name": "stderr",
          "output_type": "stream",
          "text": [
            "It: 13700, Loss: 1.232e+04, Loss_bcs: 6.735e-09, Loss_res: 1.231e+04 ,Time: 0.00\n",
            "Compute NTK...\n"
          ]
        },
        {
          "name": "stdout",
          "output_type": "stream",
          "text": [
            " adaptive_constant_bc:  103625440.0\n"
          ]
        },
        {
          "name": "stderr",
          "output_type": "stream",
          "text": [
            "It: 13800, Loss: 1.232e+04, Loss_bcs: 6.735e-09, Loss_res: 1.231e+04 ,Time: 0.00\n",
            "Compute NTK...\n"
          ]
        },
        {
          "name": "stdout",
          "output_type": "stream",
          "text": [
            " adaptive_constant_bc:  103625440.0\n"
          ]
        },
        {
          "name": "stderr",
          "output_type": "stream",
          "text": [
            "It: 13900, Loss: 1.232e+04, Loss_bcs: 6.735e-09, Loss_res: 1.231e+04 ,Time: 0.00\n",
            "Compute NTK...\n"
          ]
        },
        {
          "name": "stdout",
          "output_type": "stream",
          "text": [
            " adaptive_constant_bc:  103625440.0\n"
          ]
        },
        {
          "name": "stderr",
          "output_type": "stream",
          "text": [
            "It: 14000, Loss: 1.232e+04, Loss_bcs: 6.735e-09, Loss_res: 1.231e+04 ,Time: 0.00\n",
            "Compute NTK...\n"
          ]
        },
        {
          "name": "stdout",
          "output_type": "stream",
          "text": [
            " adaptive_constant_bc:  103625440.0\n"
          ]
        },
        {
          "name": "stderr",
          "output_type": "stream",
          "text": [
            "It: 14100, Loss: 1.232e+04, Loss_bcs: 6.735e-09, Loss_res: 1.231e+04 ,Time: 0.00\n",
            "Compute NTK...\n"
          ]
        },
        {
          "name": "stdout",
          "output_type": "stream",
          "text": [
            " adaptive_constant_bc:  103625440.0\n"
          ]
        },
        {
          "name": "stderr",
          "output_type": "stream",
          "text": [
            "It: 14200, Loss: 1.232e+04, Loss_bcs: 6.735e-09, Loss_res: 1.231e+04 ,Time: 0.00\n",
            "Compute NTK...\n"
          ]
        },
        {
          "name": "stdout",
          "output_type": "stream",
          "text": [
            " adaptive_constant_bc:  103625440.0\n"
          ]
        },
        {
          "name": "stderr",
          "output_type": "stream",
          "text": [
            "It: 14300, Loss: 1.232e+04, Loss_bcs: 6.735e-09, Loss_res: 1.231e+04 ,Time: 0.00\n",
            "Compute NTK...\n"
          ]
        },
        {
          "name": "stdout",
          "output_type": "stream",
          "text": [
            " adaptive_constant_bc:  103625440.0\n"
          ]
        },
        {
          "name": "stderr",
          "output_type": "stream",
          "text": [
            "It: 14400, Loss: 1.232e+04, Loss_bcs: 6.735e-09, Loss_res: 1.231e+04 ,Time: 0.00\n",
            "Compute NTK...\n"
          ]
        },
        {
          "name": "stdout",
          "output_type": "stream",
          "text": [
            " adaptive_constant_bc:  103625440.0\n"
          ]
        },
        {
          "name": "stderr",
          "output_type": "stream",
          "text": [
            "It: 14500, Loss: 1.232e+04, Loss_bcs: 6.735e-09, Loss_res: 1.231e+04 ,Time: 0.00\n",
            "Compute NTK...\n"
          ]
        },
        {
          "name": "stdout",
          "output_type": "stream",
          "text": [
            " adaptive_constant_bc:  103625440.0\n"
          ]
        },
        {
          "name": "stderr",
          "output_type": "stream",
          "text": [
            "It: 14600, Loss: 1.232e+04, Loss_bcs: 6.735e-09, Loss_res: 1.231e+04 ,Time: 0.00\n",
            "Compute NTK...\n"
          ]
        },
        {
          "name": "stdout",
          "output_type": "stream",
          "text": [
            " adaptive_constant_bc:  103625440.0\n"
          ]
        },
        {
          "name": "stderr",
          "output_type": "stream",
          "text": [
            "It: 14700, Loss: 1.232e+04, Loss_bcs: 6.735e-09, Loss_res: 1.231e+04 ,Time: 0.00\n",
            "Compute NTK...\n"
          ]
        },
        {
          "name": "stdout",
          "output_type": "stream",
          "text": [
            " adaptive_constant_bc:  103625440.0\n"
          ]
        },
        {
          "name": "stderr",
          "output_type": "stream",
          "text": [
            "It: 14800, Loss: 1.232e+04, Loss_bcs: 6.735e-09, Loss_res: 1.231e+04 ,Time: 0.00\n",
            "Compute NTK...\n"
          ]
        },
        {
          "name": "stdout",
          "output_type": "stream",
          "text": [
            " adaptive_constant_bc:  103625440.0\n"
          ]
        },
        {
          "name": "stderr",
          "output_type": "stream",
          "text": [
            "It: 14900, Loss: 1.232e+04, Loss_bcs: 6.735e-09, Loss_res: 1.231e+04 ,Time: 0.00\n",
            "Compute NTK...\n"
          ]
        },
        {
          "name": "stdout",
          "output_type": "stream",
          "text": [
            " adaptive_constant_bc:  103625440.0\n"
          ]
        },
        {
          "name": "stderr",
          "output_type": "stream",
          "text": [
            "It: 15000, Loss: 1.232e+04, Loss_bcs: 6.735e-09, Loss_res: 1.231e+04 ,Time: 0.00\n",
            "Compute NTK...\n"
          ]
        },
        {
          "name": "stdout",
          "output_type": "stream",
          "text": [
            " adaptive_constant_bc:  103625440.0\n"
          ]
        },
        {
          "name": "stderr",
          "output_type": "stream",
          "text": [
            "It: 15100, Loss: 1.232e+04, Loss_bcs: 6.735e-09, Loss_res: 1.231e+04 ,Time: 0.00\n",
            "Compute NTK...\n"
          ]
        },
        {
          "name": "stdout",
          "output_type": "stream",
          "text": [
            " adaptive_constant_bc:  103625440.0\n"
          ]
        },
        {
          "name": "stderr",
          "output_type": "stream",
          "text": [
            "It: 15200, Loss: 1.232e+04, Loss_bcs: 6.735e-09, Loss_res: 1.231e+04 ,Time: 0.00\n"
          ]
        },
        {
          "name": "stdout",
          "output_type": "stream",
          "text": [
            " adaptive_constant_bc:  103625440.0\n"
          ]
        },
        {
          "name": "stderr",
          "output_type": "stream",
          "text": [
            "Compute NTK...\n",
            "It: 15300, Loss: 1.232e+04, Loss_bcs: 6.735e-09, Loss_res: 1.231e+04 ,Time: 0.00\n",
            "Compute NTK...\n"
          ]
        },
        {
          "name": "stdout",
          "output_type": "stream",
          "text": [
            " adaptive_constant_bc:  103625440.0\n"
          ]
        },
        {
          "name": "stderr",
          "output_type": "stream",
          "text": [
            "It: 15400, Loss: 1.232e+04, Loss_bcs: 6.735e-09, Loss_res: 1.231e+04 ,Time: 0.00\n",
            "Compute NTK...\n"
          ]
        },
        {
          "name": "stdout",
          "output_type": "stream",
          "text": [
            " adaptive_constant_bc:  103625440.0\n"
          ]
        },
        {
          "name": "stderr",
          "output_type": "stream",
          "text": [
            "It: 15500, Loss: 1.232e+04, Loss_bcs: 6.735e-09, Loss_res: 1.231e+04 ,Time: 0.00\n",
            "Compute NTK...\n"
          ]
        },
        {
          "name": "stdout",
          "output_type": "stream",
          "text": [
            " adaptive_constant_bc:  103625440.0\n"
          ]
        },
        {
          "name": "stderr",
          "output_type": "stream",
          "text": [
            "It: 15600, Loss: 1.232e+04, Loss_bcs: 6.735e-09, Loss_res: 1.231e+04 ,Time: 0.00\n",
            "Compute NTK...\n"
          ]
        },
        {
          "name": "stdout",
          "output_type": "stream",
          "text": [
            " adaptive_constant_bc:  103625440.0\n"
          ]
        },
        {
          "name": "stderr",
          "output_type": "stream",
          "text": [
            "It: 15700, Loss: 1.232e+04, Loss_bcs: 6.735e-09, Loss_res: 1.231e+04 ,Time: 0.00\n",
            "Compute NTK...\n"
          ]
        },
        {
          "name": "stdout",
          "output_type": "stream",
          "text": [
            " adaptive_constant_bc:  103625440.0\n"
          ]
        },
        {
          "name": "stderr",
          "output_type": "stream",
          "text": [
            "It: 15800, Loss: 1.232e+04, Loss_bcs: 6.735e-09, Loss_res: 1.231e+04 ,Time: 0.00\n",
            "Compute NTK...\n"
          ]
        },
        {
          "name": "stdout",
          "output_type": "stream",
          "text": [
            " adaptive_constant_bc:  103625440.0\n"
          ]
        },
        {
          "name": "stderr",
          "output_type": "stream",
          "text": [
            "It: 15900, Loss: 1.232e+04, Loss_bcs: 6.735e-09, Loss_res: 1.231e+04 ,Time: 0.00\n",
            "Compute NTK...\n"
          ]
        },
        {
          "name": "stdout",
          "output_type": "stream",
          "text": [
            " adaptive_constant_bc:  103625440.0\n"
          ]
        },
        {
          "name": "stderr",
          "output_type": "stream",
          "text": [
            "It: 16000, Loss: 1.232e+04, Loss_bcs: 6.735e-09, Loss_res: 1.231e+04 ,Time: 0.00\n",
            "Compute NTK...\n"
          ]
        },
        {
          "name": "stdout",
          "output_type": "stream",
          "text": [
            " adaptive_constant_bc:  103625440.0\n"
          ]
        },
        {
          "name": "stderr",
          "output_type": "stream",
          "text": [
            "It: 16100, Loss: 1.232e+04, Loss_bcs: 6.735e-09, Loss_res: 1.231e+04 ,Time: 0.00\n",
            "Compute NTK...\n"
          ]
        },
        {
          "name": "stdout",
          "output_type": "stream",
          "text": [
            " adaptive_constant_bc:  103625440.0\n"
          ]
        },
        {
          "name": "stderr",
          "output_type": "stream",
          "text": [
            "It: 16200, Loss: 1.232e+04, Loss_bcs: 6.735e-09, Loss_res: 1.231e+04 ,Time: 0.00\n",
            "Compute NTK...\n"
          ]
        },
        {
          "name": "stdout",
          "output_type": "stream",
          "text": [
            " adaptive_constant_bc:  103625440.0\n"
          ]
        },
        {
          "name": "stderr",
          "output_type": "stream",
          "text": [
            "It: 16300, Loss: 1.232e+04, Loss_bcs: 6.735e-09, Loss_res: 1.231e+04 ,Time: 0.00\n",
            "Compute NTK...\n"
          ]
        },
        {
          "name": "stdout",
          "output_type": "stream",
          "text": [
            " adaptive_constant_bc:  103625440.0\n"
          ]
        },
        {
          "name": "stderr",
          "output_type": "stream",
          "text": [
            "It: 16400, Loss: 1.232e+04, Loss_bcs: 6.735e-09, Loss_res: 1.231e+04 ,Time: 0.00\n",
            "Compute NTK...\n"
          ]
        },
        {
          "name": "stdout",
          "output_type": "stream",
          "text": [
            " adaptive_constant_bc:  103625440.0\n"
          ]
        },
        {
          "name": "stderr",
          "output_type": "stream",
          "text": [
            "It: 16500, Loss: 1.232e+04, Loss_bcs: 6.735e-09, Loss_res: 1.231e+04 ,Time: 0.00\n",
            "Compute NTK...\n"
          ]
        },
        {
          "name": "stdout",
          "output_type": "stream",
          "text": [
            " adaptive_constant_bc:  103625440.0\n"
          ]
        },
        {
          "name": "stderr",
          "output_type": "stream",
          "text": [
            "It: 16600, Loss: 1.232e+04, Loss_bcs: 6.735e-09, Loss_res: 1.231e+04 ,Time: 0.00\n",
            "Compute NTK...\n"
          ]
        },
        {
          "name": "stdout",
          "output_type": "stream",
          "text": [
            " adaptive_constant_bc:  103625440.0\n"
          ]
        },
        {
          "name": "stderr",
          "output_type": "stream",
          "text": [
            "It: 16700, Loss: 1.232e+04, Loss_bcs: 6.735e-09, Loss_res: 1.231e+04 ,Time: 0.00\n",
            "Compute NTK...\n"
          ]
        },
        {
          "name": "stdout",
          "output_type": "stream",
          "text": [
            " adaptive_constant_bc:  103625440.0\n"
          ]
        },
        {
          "name": "stderr",
          "output_type": "stream",
          "text": [
            "It: 16800, Loss: 1.232e+04, Loss_bcs: 6.735e-09, Loss_res: 1.231e+04 ,Time: 0.00\n",
            "Compute NTK...\n"
          ]
        },
        {
          "name": "stdout",
          "output_type": "stream",
          "text": [
            " adaptive_constant_bc:  103625440.0\n"
          ]
        },
        {
          "name": "stderr",
          "output_type": "stream",
          "text": [
            "It: 16900, Loss: 1.232e+04, Loss_bcs: 6.735e-09, Loss_res: 1.231e+04 ,Time: 0.00\n",
            "Compute NTK...\n"
          ]
        },
        {
          "name": "stdout",
          "output_type": "stream",
          "text": [
            " adaptive_constant_bc:  103625440.0\n"
          ]
        },
        {
          "name": "stderr",
          "output_type": "stream",
          "text": [
            "It: 17000, Loss: 1.232e+04, Loss_bcs: 6.735e-09, Loss_res: 1.231e+04 ,Time: 0.00\n",
            "Compute NTK...\n"
          ]
        },
        {
          "name": "stdout",
          "output_type": "stream",
          "text": [
            " adaptive_constant_bc:  103625440.0\n"
          ]
        },
        {
          "name": "stderr",
          "output_type": "stream",
          "text": [
            "It: 17100, Loss: 1.232e+04, Loss_bcs: 6.735e-09, Loss_res: 1.231e+04 ,Time: 0.00\n",
            "Compute NTK...\n"
          ]
        },
        {
          "name": "stdout",
          "output_type": "stream",
          "text": [
            " adaptive_constant_bc:  103625440.0\n"
          ]
        },
        {
          "name": "stderr",
          "output_type": "stream",
          "text": [
            "It: 17200, Loss: 1.232e+04, Loss_bcs: 6.735e-09, Loss_res: 1.231e+04 ,Time: 0.00\n",
            "Compute NTK...\n"
          ]
        },
        {
          "name": "stdout",
          "output_type": "stream",
          "text": [
            " adaptive_constant_bc:  103625440.0\n"
          ]
        },
        {
          "name": "stderr",
          "output_type": "stream",
          "text": [
            "It: 17300, Loss: 1.232e+04, Loss_bcs: 6.735e-09, Loss_res: 1.231e+04 ,Time: 0.00\n",
            "Compute NTK...\n"
          ]
        },
        {
          "name": "stdout",
          "output_type": "stream",
          "text": [
            " adaptive_constant_bc:  103625440.0\n"
          ]
        },
        {
          "name": "stderr",
          "output_type": "stream",
          "text": [
            "It: 17400, Loss: 1.232e+04, Loss_bcs: 6.735e-09, Loss_res: 1.231e+04 ,Time: 0.00\n",
            "Compute NTK...\n"
          ]
        },
        {
          "name": "stdout",
          "output_type": "stream",
          "text": [
            " adaptive_constant_bc:  103625440.0\n"
          ]
        },
        {
          "name": "stderr",
          "output_type": "stream",
          "text": [
            "It: 17500, Loss: 1.232e+04, Loss_bcs: 6.735e-09, Loss_res: 1.231e+04 ,Time: 0.00\n",
            "Compute NTK...\n"
          ]
        },
        {
          "name": "stdout",
          "output_type": "stream",
          "text": [
            " adaptive_constant_bc:  103625440.0\n"
          ]
        },
        {
          "name": "stderr",
          "output_type": "stream",
          "text": [
            "It: 17600, Loss: 1.232e+04, Loss_bcs: 6.735e-09, Loss_res: 1.231e+04 ,Time: 0.00\n",
            "Compute NTK...\n"
          ]
        },
        {
          "name": "stdout",
          "output_type": "stream",
          "text": [
            " adaptive_constant_bc:  103625440.0\n"
          ]
        },
        {
          "name": "stderr",
          "output_type": "stream",
          "text": [
            "It: 17700, Loss: 1.232e+04, Loss_bcs: 6.735e-09, Loss_res: 1.231e+04 ,Time: 0.00\n",
            "Compute NTK...\n"
          ]
        },
        {
          "name": "stdout",
          "output_type": "stream",
          "text": [
            " adaptive_constant_bc:  103625440.0\n"
          ]
        },
        {
          "name": "stderr",
          "output_type": "stream",
          "text": [
            "It: 17800, Loss: 1.232e+04, Loss_bcs: 6.735e-09, Loss_res: 1.231e+04 ,Time: 0.00\n",
            "Compute NTK...\n"
          ]
        },
        {
          "name": "stdout",
          "output_type": "stream",
          "text": [
            " adaptive_constant_bc:  103625440.0\n"
          ]
        },
        {
          "name": "stderr",
          "output_type": "stream",
          "text": [
            "It: 17900, Loss: 1.232e+04, Loss_bcs: 6.735e-09, Loss_res: 1.231e+04 ,Time: 0.00\n",
            "Compute NTK...\n"
          ]
        },
        {
          "name": "stdout",
          "output_type": "stream",
          "text": [
            " adaptive_constant_bc:  103625440.0\n"
          ]
        },
        {
          "name": "stderr",
          "output_type": "stream",
          "text": [
            "It: 18000, Loss: 1.232e+04, Loss_bcs: 6.735e-09, Loss_res: 1.231e+04 ,Time: 0.00\n",
            "Compute NTK...\n"
          ]
        },
        {
          "name": "stdout",
          "output_type": "stream",
          "text": [
            " adaptive_constant_bc:  103625440.0\n"
          ]
        },
        {
          "name": "stderr",
          "output_type": "stream",
          "text": [
            "It: 18100, Loss: 1.232e+04, Loss_bcs: 6.735e-09, Loss_res: 1.231e+04 ,Time: 0.00\n",
            "Compute NTK...\n"
          ]
        },
        {
          "name": "stdout",
          "output_type": "stream",
          "text": [
            " adaptive_constant_bc:  103625440.0\n"
          ]
        },
        {
          "name": "stderr",
          "output_type": "stream",
          "text": [
            "It: 18200, Loss: 1.232e+04, Loss_bcs: 6.735e-09, Loss_res: 1.231e+04 ,Time: 0.00\n",
            "Compute NTK...\n"
          ]
        },
        {
          "name": "stdout",
          "output_type": "stream",
          "text": [
            " adaptive_constant_bc:  103625440.0\n"
          ]
        },
        {
          "name": "stderr",
          "output_type": "stream",
          "text": [
            "It: 18300, Loss: 1.232e+04, Loss_bcs: 6.735e-09, Loss_res: 1.231e+04 ,Time: 0.00\n",
            "Compute NTK...\n"
          ]
        },
        {
          "name": "stdout",
          "output_type": "stream",
          "text": [
            " adaptive_constant_bc:  103625440.0\n"
          ]
        },
        {
          "name": "stderr",
          "output_type": "stream",
          "text": [
            "It: 18400, Loss: 1.232e+04, Loss_bcs: 6.735e-09, Loss_res: 1.231e+04 ,Time: 0.00\n",
            "Compute NTK...\n"
          ]
        },
        {
          "name": "stdout",
          "output_type": "stream",
          "text": [
            " adaptive_constant_bc:  103625440.0\n"
          ]
        },
        {
          "name": "stderr",
          "output_type": "stream",
          "text": [
            "It: 18500, Loss: 1.232e+04, Loss_bcs: 6.735e-09, Loss_res: 1.231e+04 ,Time: 0.00\n",
            "Compute NTK...\n"
          ]
        },
        {
          "name": "stdout",
          "output_type": "stream",
          "text": [
            " adaptive_constant_bc:  103625440.0\n"
          ]
        },
        {
          "name": "stderr",
          "output_type": "stream",
          "text": [
            "It: 18600, Loss: 1.232e+04, Loss_bcs: 6.735e-09, Loss_res: 1.231e+04 ,Time: 0.00\n",
            "Compute NTK...\n"
          ]
        },
        {
          "name": "stdout",
          "output_type": "stream",
          "text": [
            " adaptive_constant_bc:  103625440.0\n"
          ]
        },
        {
          "name": "stderr",
          "output_type": "stream",
          "text": [
            "It: 18700, Loss: 1.232e+04, Loss_bcs: 6.735e-09, Loss_res: 1.231e+04 ,Time: 0.00\n",
            "Compute NTK...\n"
          ]
        },
        {
          "name": "stdout",
          "output_type": "stream",
          "text": [
            " adaptive_constant_bc:  103625440.0\n"
          ]
        },
        {
          "name": "stderr",
          "output_type": "stream",
          "text": [
            "It: 18800, Loss: 1.232e+04, Loss_bcs: 6.735e-09, Loss_res: 1.231e+04 ,Time: 0.00\n",
            "Compute NTK...\n"
          ]
        },
        {
          "name": "stdout",
          "output_type": "stream",
          "text": [
            " adaptive_constant_bc:  103625440.0\n"
          ]
        },
        {
          "name": "stderr",
          "output_type": "stream",
          "text": [
            "It: 18900, Loss: 1.232e+04, Loss_bcs: 6.735e-09, Loss_res: 1.231e+04 ,Time: 0.00\n",
            "Compute NTK...\n"
          ]
        },
        {
          "name": "stdout",
          "output_type": "stream",
          "text": [
            " adaptive_constant_bc:  103625440.0\n"
          ]
        },
        {
          "name": "stderr",
          "output_type": "stream",
          "text": [
            "It: 19000, Loss: 1.232e+04, Loss_bcs: 6.735e-09, Loss_res: 1.231e+04 ,Time: 0.00\n",
            "Compute NTK...\n"
          ]
        },
        {
          "name": "stdout",
          "output_type": "stream",
          "text": [
            " adaptive_constant_bc:  103625440.0\n"
          ]
        },
        {
          "name": "stderr",
          "output_type": "stream",
          "text": [
            "It: 19100, Loss: 1.232e+04, Loss_bcs: 6.735e-09, Loss_res: 1.231e+04 ,Time: 0.00\n",
            "Compute NTK...\n"
          ]
        },
        {
          "name": "stdout",
          "output_type": "stream",
          "text": [
            " adaptive_constant_bc:  103625440.0\n"
          ]
        },
        {
          "name": "stderr",
          "output_type": "stream",
          "text": [
            "It: 19200, Loss: 1.232e+04, Loss_bcs: 6.735e-09, Loss_res: 1.231e+04 ,Time: 0.00\n",
            "Compute NTK...\n"
          ]
        },
        {
          "name": "stdout",
          "output_type": "stream",
          "text": [
            " adaptive_constant_bc:  103625440.0\n"
          ]
        },
        {
          "name": "stderr",
          "output_type": "stream",
          "text": [
            "It: 19300, Loss: 1.232e+04, Loss_bcs: 6.735e-09, Loss_res: 1.231e+04 ,Time: 0.00\n",
            "Compute NTK...\n"
          ]
        },
        {
          "name": "stdout",
          "output_type": "stream",
          "text": [
            " adaptive_constant_bc:  103625440.0\n"
          ]
        },
        {
          "name": "stderr",
          "output_type": "stream",
          "text": [
            "It: 19400, Loss: 1.232e+04, Loss_bcs: 6.735e-09, Loss_res: 1.231e+04 ,Time: 0.00\n",
            "Compute NTK...\n"
          ]
        },
        {
          "name": "stdout",
          "output_type": "stream",
          "text": [
            " adaptive_constant_bc:  103625440.0\n"
          ]
        },
        {
          "name": "stderr",
          "output_type": "stream",
          "text": [
            "It: 19500, Loss: 1.232e+04, Loss_bcs: 6.735e-09, Loss_res: 1.231e+04 ,Time: 0.00\n",
            "Compute NTK...\n"
          ]
        },
        {
          "name": "stdout",
          "output_type": "stream",
          "text": [
            " adaptive_constant_bc:  103625440.0\n"
          ]
        },
        {
          "name": "stderr",
          "output_type": "stream",
          "text": [
            "It: 19600, Loss: 1.232e+04, Loss_bcs: 6.735e-09, Loss_res: 1.231e+04 ,Time: 0.00\n",
            "Compute NTK...\n"
          ]
        },
        {
          "name": "stdout",
          "output_type": "stream",
          "text": [
            " adaptive_constant_bc:  103625440.0\n"
          ]
        },
        {
          "name": "stderr",
          "output_type": "stream",
          "text": [
            "It: 19700, Loss: 1.232e+04, Loss_bcs: 6.735e-09, Loss_res: 1.231e+04 ,Time: 0.00\n",
            "Compute NTK...\n"
          ]
        },
        {
          "name": "stdout",
          "output_type": "stream",
          "text": [
            " adaptive_constant_bc:  103625440.0\n"
          ]
        },
        {
          "name": "stderr",
          "output_type": "stream",
          "text": [
            "It: 19800, Loss: 1.232e+04, Loss_bcs: 6.735e-09, Loss_res: 1.231e+04 ,Time: 0.00\n",
            "Compute NTK...\n"
          ]
        },
        {
          "name": "stdout",
          "output_type": "stream",
          "text": [
            " adaptive_constant_bc:  103625440.0\n"
          ]
        },
        {
          "name": "stderr",
          "output_type": "stream",
          "text": [
            "It: 19900, Loss: 1.232e+04, Loss_bcs: 6.735e-09, Loss_res: 1.231e+04 ,Time: 0.00\n",
            "Compute NTK...\n"
          ]
        },
        {
          "name": "stdout",
          "output_type": "stream",
          "text": [
            " adaptive_constant_bc:  103625440.0\n"
          ]
        },
        {
          "name": "stderr",
          "output_type": "stream",
          "text": [
            "It: 20000, Loss: 1.232e+04, Loss_bcs: 6.735e-09, Loss_res: 1.231e+04 ,Time: 0.00\n",
            "Compute NTK...\n"
          ]
        },
        {
          "name": "stdout",
          "output_type": "stream",
          "text": [
            " adaptive_constant_bc:  103625440.0\n"
          ]
        },
        {
          "name": "stderr",
          "output_type": "stream",
          "text": [
            "It: 20100, Loss: 1.232e+04, Loss_bcs: 6.735e-09, Loss_res: 1.231e+04 ,Time: 0.00\n",
            "Compute NTK...\n"
          ]
        },
        {
          "name": "stdout",
          "output_type": "stream",
          "text": [
            " adaptive_constant_bc:  103625440.0\n"
          ]
        },
        {
          "name": "stderr",
          "output_type": "stream",
          "text": [
            "It: 20200, Loss: 1.232e+04, Loss_bcs: 6.735e-09, Loss_res: 1.231e+04 ,Time: 0.00\n",
            "Compute NTK...\n"
          ]
        },
        {
          "name": "stdout",
          "output_type": "stream",
          "text": [
            " adaptive_constant_bc:  103625440.0\n"
          ]
        },
        {
          "name": "stderr",
          "output_type": "stream",
          "text": [
            "It: 20300, Loss: 1.232e+04, Loss_bcs: 6.735e-09, Loss_res: 1.231e+04 ,Time: 0.00\n",
            "Compute NTK...\n"
          ]
        },
        {
          "name": "stdout",
          "output_type": "stream",
          "text": [
            " adaptive_constant_bc:  103625440.0\n"
          ]
        },
        {
          "name": "stderr",
          "output_type": "stream",
          "text": [
            "It: 20400, Loss: 1.232e+04, Loss_bcs: 6.735e-09, Loss_res: 1.231e+04 ,Time: 0.00\n",
            "Compute NTK...\n"
          ]
        },
        {
          "name": "stdout",
          "output_type": "stream",
          "text": [
            " adaptive_constant_bc:  103625440.0\n"
          ]
        },
        {
          "name": "stderr",
          "output_type": "stream",
          "text": [
            "It: 20500, Loss: 1.232e+04, Loss_bcs: 6.735e-09, Loss_res: 1.231e+04 ,Time: 0.00\n",
            "Compute NTK...\n"
          ]
        },
        {
          "name": "stdout",
          "output_type": "stream",
          "text": [
            " adaptive_constant_bc:  103625440.0\n"
          ]
        },
        {
          "name": "stderr",
          "output_type": "stream",
          "text": [
            "It: 20600, Loss: 1.232e+04, Loss_bcs: 6.735e-09, Loss_res: 1.231e+04 ,Time: 0.00\n",
            "Compute NTK...\n"
          ]
        },
        {
          "name": "stdout",
          "output_type": "stream",
          "text": [
            " adaptive_constant_bc:  103625440.0\n"
          ]
        },
        {
          "name": "stderr",
          "output_type": "stream",
          "text": [
            "It: 20700, Loss: 1.232e+04, Loss_bcs: 6.735e-09, Loss_res: 1.231e+04 ,Time: 0.00\n",
            "Compute NTK...\n"
          ]
        },
        {
          "name": "stdout",
          "output_type": "stream",
          "text": [
            " adaptive_constant_bc:  103625440.0\n"
          ]
        },
        {
          "name": "stderr",
          "output_type": "stream",
          "text": [
            "It: 20800, Loss: 1.232e+04, Loss_bcs: 6.735e-09, Loss_res: 1.231e+04 ,Time: 0.00\n",
            "Compute NTK...\n"
          ]
        },
        {
          "name": "stdout",
          "output_type": "stream",
          "text": [
            " adaptive_constant_bc:  103625440.0\n"
          ]
        },
        {
          "name": "stderr",
          "output_type": "stream",
          "text": [
            "It: 20900, Loss: 1.232e+04, Loss_bcs: 6.735e-09, Loss_res: 1.231e+04 ,Time: 0.00\n",
            "Compute NTK...\n"
          ]
        },
        {
          "name": "stdout",
          "output_type": "stream",
          "text": [
            " adaptive_constant_bc:  103625440.0\n"
          ]
        },
        {
          "name": "stderr",
          "output_type": "stream",
          "text": [
            "It: 21000, Loss: 1.232e+04, Loss_bcs: 6.735e-09, Loss_res: 1.231e+04 ,Time: 0.00\n",
            "Compute NTK...\n"
          ]
        },
        {
          "name": "stdout",
          "output_type": "stream",
          "text": [
            " adaptive_constant_bc:  103625440.0\n"
          ]
        },
        {
          "name": "stderr",
          "output_type": "stream",
          "text": [
            "It: 21100, Loss: 1.232e+04, Loss_bcs: 6.735e-09, Loss_res: 1.231e+04 ,Time: 0.00\n",
            "Compute NTK...\n"
          ]
        },
        {
          "name": "stdout",
          "output_type": "stream",
          "text": [
            " adaptive_constant_bc:  103625440.0\n"
          ]
        },
        {
          "name": "stderr",
          "output_type": "stream",
          "text": [
            "It: 21200, Loss: 1.232e+04, Loss_bcs: 6.735e-09, Loss_res: 1.231e+04 ,Time: 0.00\n",
            "Compute NTK...\n"
          ]
        },
        {
          "name": "stdout",
          "output_type": "stream",
          "text": [
            " adaptive_constant_bc:  103625440.0\n"
          ]
        },
        {
          "name": "stderr",
          "output_type": "stream",
          "text": [
            "It: 21300, Loss: 1.232e+04, Loss_bcs: 6.735e-09, Loss_res: 1.231e+04 ,Time: 0.00\n",
            "Compute NTK...\n"
          ]
        },
        {
          "name": "stdout",
          "output_type": "stream",
          "text": [
            " adaptive_constant_bc:  103625440.0\n"
          ]
        },
        {
          "name": "stderr",
          "output_type": "stream",
          "text": [
            "It: 21400, Loss: 1.232e+04, Loss_bcs: 6.735e-09, Loss_res: 1.231e+04 ,Time: 0.00\n",
            "Compute NTK...\n"
          ]
        },
        {
          "name": "stdout",
          "output_type": "stream",
          "text": [
            " adaptive_constant_bc:  103625440.0\n"
          ]
        },
        {
          "name": "stderr",
          "output_type": "stream",
          "text": [
            "It: 21500, Loss: 1.232e+04, Loss_bcs: 6.735e-09, Loss_res: 1.231e+04 ,Time: 0.00\n",
            "Compute NTK...\n"
          ]
        },
        {
          "name": "stdout",
          "output_type": "stream",
          "text": [
            " adaptive_constant_bc:  103625440.0\n"
          ]
        },
        {
          "name": "stderr",
          "output_type": "stream",
          "text": [
            "It: 21600, Loss: 1.232e+04, Loss_bcs: 6.735e-09, Loss_res: 1.231e+04 ,Time: 0.00\n",
            "Compute NTK...\n"
          ]
        },
        {
          "name": "stdout",
          "output_type": "stream",
          "text": [
            " adaptive_constant_bc:  103625440.0\n"
          ]
        },
        {
          "name": "stderr",
          "output_type": "stream",
          "text": [
            "It: 21700, Loss: 1.232e+04, Loss_bcs: 6.735e-09, Loss_res: 1.231e+04 ,Time: 0.00\n"
          ]
        },
        {
          "name": "stdout",
          "output_type": "stream",
          "text": [
            " adaptive_constant_bc:  103625440.0\n"
          ]
        },
        {
          "name": "stderr",
          "output_type": "stream",
          "text": [
            "Compute NTK...\n",
            "It: 21800, Loss: 1.232e+04, Loss_bcs: 6.735e-09, Loss_res: 1.231e+04 ,Time: 0.00\n",
            "Compute NTK...\n"
          ]
        },
        {
          "name": "stdout",
          "output_type": "stream",
          "text": [
            " adaptive_constant_bc:  103625440.0\n"
          ]
        },
        {
          "name": "stderr",
          "output_type": "stream",
          "text": [
            "It: 21900, Loss: 1.232e+04, Loss_bcs: 6.735e-09, Loss_res: 1.231e+04 ,Time: 0.00\n",
            "Compute NTK...\n"
          ]
        },
        {
          "name": "stdout",
          "output_type": "stream",
          "text": [
            " adaptive_constant_bc:  103625440.0\n"
          ]
        },
        {
          "name": "stderr",
          "output_type": "stream",
          "text": [
            "It: 22000, Loss: 1.232e+04, Loss_bcs: 6.735e-09, Loss_res: 1.231e+04 ,Time: 0.00\n",
            "Compute NTK...\n"
          ]
        },
        {
          "name": "stdout",
          "output_type": "stream",
          "text": [
            " adaptive_constant_bc:  103625440.0\n"
          ]
        },
        {
          "name": "stderr",
          "output_type": "stream",
          "text": [
            "It: 22100, Loss: 1.232e+04, Loss_bcs: 6.735e-09, Loss_res: 1.231e+04 ,Time: 0.00\n",
            "Compute NTK...\n"
          ]
        },
        {
          "name": "stdout",
          "output_type": "stream",
          "text": [
            " adaptive_constant_bc:  103625440.0\n"
          ]
        },
        {
          "name": "stderr",
          "output_type": "stream",
          "text": [
            "It: 22200, Loss: 1.232e+04, Loss_bcs: 6.735e-09, Loss_res: 1.231e+04 ,Time: 0.00\n",
            "Compute NTK...\n"
          ]
        },
        {
          "name": "stdout",
          "output_type": "stream",
          "text": [
            " adaptive_constant_bc:  103625440.0\n"
          ]
        },
        {
          "name": "stderr",
          "output_type": "stream",
          "text": [
            "It: 22300, Loss: 1.232e+04, Loss_bcs: 6.735e-09, Loss_res: 1.231e+04 ,Time: 0.00\n"
          ]
        },
        {
          "name": "stdout",
          "output_type": "stream",
          "text": [
            " adaptive_constant_bc:  103625440.0\n"
          ]
        },
        {
          "name": "stderr",
          "output_type": "stream",
          "text": [
            "Compute NTK...\n",
            "It: 22400, Loss: 1.232e+04, Loss_bcs: 6.735e-09, Loss_res: 1.231e+04 ,Time: 0.00\n",
            "Compute NTK...\n"
          ]
        },
        {
          "name": "stdout",
          "output_type": "stream",
          "text": [
            " adaptive_constant_bc:  103625440.0\n"
          ]
        },
        {
          "name": "stderr",
          "output_type": "stream",
          "text": [
            "It: 22500, Loss: 1.232e+04, Loss_bcs: 6.735e-09, Loss_res: 1.231e+04 ,Time: 0.00\n",
            "Compute NTK...\n"
          ]
        },
        {
          "name": "stdout",
          "output_type": "stream",
          "text": [
            " adaptive_constant_bc:  103625440.0\n"
          ]
        },
        {
          "name": "stderr",
          "output_type": "stream",
          "text": [
            "It: 22600, Loss: 1.232e+04, Loss_bcs: 6.735e-09, Loss_res: 1.231e+04 ,Time: 0.00\n",
            "Compute NTK...\n"
          ]
        },
        {
          "name": "stdout",
          "output_type": "stream",
          "text": [
            " adaptive_constant_bc:  103625440.0\n"
          ]
        },
        {
          "name": "stderr",
          "output_type": "stream",
          "text": [
            "It: 22700, Loss: 1.232e+04, Loss_bcs: 6.735e-09, Loss_res: 1.231e+04 ,Time: 0.00\n",
            "Compute NTK...\n"
          ]
        },
        {
          "name": "stdout",
          "output_type": "stream",
          "text": [
            " adaptive_constant_bc:  103625440.0\n"
          ]
        },
        {
          "name": "stderr",
          "output_type": "stream",
          "text": [
            "It: 22800, Loss: 1.232e+04, Loss_bcs: 6.735e-09, Loss_res: 1.231e+04 ,Time: 0.00\n",
            "Compute NTK...\n"
          ]
        },
        {
          "name": "stdout",
          "output_type": "stream",
          "text": [
            " adaptive_constant_bc:  103625440.0\n"
          ]
        },
        {
          "name": "stderr",
          "output_type": "stream",
          "text": [
            "It: 22900, Loss: 1.232e+04, Loss_bcs: 6.735e-09, Loss_res: 1.231e+04 ,Time: 0.00\n",
            "Compute NTK...\n"
          ]
        },
        {
          "name": "stdout",
          "output_type": "stream",
          "text": [
            " adaptive_constant_bc:  103625440.0\n"
          ]
        },
        {
          "name": "stderr",
          "output_type": "stream",
          "text": [
            "It: 23000, Loss: 1.232e+04, Loss_bcs: 6.735e-09, Loss_res: 1.231e+04 ,Time: 0.00\n",
            "Compute NTK...\n"
          ]
        },
        {
          "name": "stdout",
          "output_type": "stream",
          "text": [
            " adaptive_constant_bc:  103625440.0\n"
          ]
        },
        {
          "name": "stderr",
          "output_type": "stream",
          "text": [
            "It: 23100, Loss: 1.232e+04, Loss_bcs: 6.735e-09, Loss_res: 1.231e+04 ,Time: 0.00\n"
          ]
        },
        {
          "name": "stdout",
          "output_type": "stream",
          "text": [
            " adaptive_constant_bc:  103625440.0\n"
          ]
        },
        {
          "name": "stderr",
          "output_type": "stream",
          "text": [
            "Compute NTK...\n",
            "It: 23200, Loss: 1.232e+04, Loss_bcs: 6.735e-09, Loss_res: 1.231e+04 ,Time: 0.00\n",
            "Compute NTK...\n"
          ]
        },
        {
          "name": "stdout",
          "output_type": "stream",
          "text": [
            " adaptive_constant_bc:  103625440.0\n"
          ]
        },
        {
          "name": "stderr",
          "output_type": "stream",
          "text": [
            "It: 23300, Loss: 1.232e+04, Loss_bcs: 6.735e-09, Loss_res: 1.231e+04 ,Time: 0.00\n",
            "Compute NTK...\n"
          ]
        },
        {
          "name": "stdout",
          "output_type": "stream",
          "text": [
            " adaptive_constant_bc:  103625440.0\n"
          ]
        },
        {
          "name": "stderr",
          "output_type": "stream",
          "text": [
            "It: 23400, Loss: 1.232e+04, Loss_bcs: 6.735e-09, Loss_res: 1.231e+04 ,Time: 0.00\n",
            "Compute NTK...\n"
          ]
        },
        {
          "name": "stdout",
          "output_type": "stream",
          "text": [
            " adaptive_constant_bc:  103625440.0\n"
          ]
        },
        {
          "name": "stderr",
          "output_type": "stream",
          "text": [
            "It: 23500, Loss: 1.232e+04, Loss_bcs: 6.735e-09, Loss_res: 1.231e+04 ,Time: 0.00\n",
            "Compute NTK...\n"
          ]
        },
        {
          "name": "stdout",
          "output_type": "stream",
          "text": [
            " adaptive_constant_bc:  103625440.0\n"
          ]
        },
        {
          "name": "stderr",
          "output_type": "stream",
          "text": [
            "It: 23600, Loss: 1.232e+04, Loss_bcs: 6.735e-09, Loss_res: 1.231e+04 ,Time: 0.00\n",
            "Compute NTK...\n"
          ]
        },
        {
          "name": "stdout",
          "output_type": "stream",
          "text": [
            " adaptive_constant_bc:  103625440.0\n"
          ]
        },
        {
          "name": "stderr",
          "output_type": "stream",
          "text": [
            "It: 23700, Loss: 1.232e+04, Loss_bcs: 6.735e-09, Loss_res: 1.231e+04 ,Time: 0.00\n",
            "Compute NTK...\n"
          ]
        },
        {
          "name": "stdout",
          "output_type": "stream",
          "text": [
            " adaptive_constant_bc:  103625440.0\n"
          ]
        },
        {
          "name": "stderr",
          "output_type": "stream",
          "text": [
            "It: 23800, Loss: 1.232e+04, Loss_bcs: 6.735e-09, Loss_res: 1.231e+04 ,Time: 0.00\n",
            "Compute NTK...\n"
          ]
        },
        {
          "name": "stdout",
          "output_type": "stream",
          "text": [
            " adaptive_constant_bc:  103625440.0\n"
          ]
        },
        {
          "name": "stderr",
          "output_type": "stream",
          "text": [
            "It: 23900, Loss: 1.232e+04, Loss_bcs: 6.735e-09, Loss_res: 1.231e+04 ,Time: 0.00\n",
            "Compute NTK...\n"
          ]
        },
        {
          "name": "stdout",
          "output_type": "stream",
          "text": [
            " adaptive_constant_bc:  103625440.0\n"
          ]
        },
        {
          "name": "stderr",
          "output_type": "stream",
          "text": [
            "It: 24000, Loss: 1.232e+04, Loss_bcs: 6.735e-09, Loss_res: 1.231e+04 ,Time: 0.00\n",
            "Compute NTK...\n"
          ]
        },
        {
          "name": "stdout",
          "output_type": "stream",
          "text": [
            " adaptive_constant_bc:  103625440.0\n"
          ]
        },
        {
          "name": "stderr",
          "output_type": "stream",
          "text": [
            "It: 24100, Loss: 1.232e+04, Loss_bcs: 6.735e-09, Loss_res: 1.231e+04 ,Time: 0.00\n",
            "Compute NTK...\n"
          ]
        },
        {
          "name": "stdout",
          "output_type": "stream",
          "text": [
            " adaptive_constant_bc:  103625440.0\n"
          ]
        },
        {
          "name": "stderr",
          "output_type": "stream",
          "text": [
            "It: 24200, Loss: 1.232e+04, Loss_bcs: 6.735e-09, Loss_res: 1.231e+04 ,Time: 0.00\n",
            "Compute NTK...\n"
          ]
        },
        {
          "name": "stdout",
          "output_type": "stream",
          "text": [
            " adaptive_constant_bc:  103625440.0\n"
          ]
        },
        {
          "name": "stderr",
          "output_type": "stream",
          "text": [
            "It: 24300, Loss: 1.232e+04, Loss_bcs: 6.735e-09, Loss_res: 1.231e+04 ,Time: 0.00\n",
            "Compute NTK...\n"
          ]
        },
        {
          "name": "stdout",
          "output_type": "stream",
          "text": [
            " adaptive_constant_bc:  103625440.0\n"
          ]
        },
        {
          "name": "stderr",
          "output_type": "stream",
          "text": [
            "It: 24400, Loss: 1.232e+04, Loss_bcs: 6.735e-09, Loss_res: 1.231e+04 ,Time: 0.00\n",
            "Compute NTK...\n"
          ]
        },
        {
          "name": "stdout",
          "output_type": "stream",
          "text": [
            " adaptive_constant_bc:  103625440.0\n"
          ]
        },
        {
          "name": "stderr",
          "output_type": "stream",
          "text": [
            "It: 24500, Loss: 1.232e+04, Loss_bcs: 6.735e-09, Loss_res: 1.231e+04 ,Time: 0.00\n",
            "Compute NTK...\n"
          ]
        },
        {
          "name": "stdout",
          "output_type": "stream",
          "text": [
            " adaptive_constant_bc:  103625440.0\n"
          ]
        },
        {
          "name": "stderr",
          "output_type": "stream",
          "text": [
            "It: 24600, Loss: 1.232e+04, Loss_bcs: 6.735e-09, Loss_res: 1.231e+04 ,Time: 0.00\n",
            "Compute NTK...\n"
          ]
        },
        {
          "name": "stdout",
          "output_type": "stream",
          "text": [
            " adaptive_constant_bc:  103625440.0\n"
          ]
        },
        {
          "name": "stderr",
          "output_type": "stream",
          "text": [
            "It: 24700, Loss: 1.232e+04, Loss_bcs: 6.735e-09, Loss_res: 1.231e+04 ,Time: 0.00\n",
            "Compute NTK...\n"
          ]
        },
        {
          "name": "stdout",
          "output_type": "stream",
          "text": [
            " adaptive_constant_bc:  103625440.0\n"
          ]
        },
        {
          "name": "stderr",
          "output_type": "stream",
          "text": [
            "It: 24800, Loss: 1.232e+04, Loss_bcs: 6.735e-09, Loss_res: 1.231e+04 ,Time: 0.00\n",
            "Compute NTK...\n"
          ]
        },
        {
          "name": "stdout",
          "output_type": "stream",
          "text": [
            " adaptive_constant_bc:  103625440.0\n"
          ]
        },
        {
          "name": "stderr",
          "output_type": "stream",
          "text": [
            "It: 24900, Loss: 1.232e+04, Loss_bcs: 6.735e-09, Loss_res: 1.231e+04 ,Time: 0.00\n",
            "Compute NTK...\n"
          ]
        },
        {
          "name": "stdout",
          "output_type": "stream",
          "text": [
            " adaptive_constant_bc:  103625440.0\n"
          ]
        },
        {
          "name": "stderr",
          "output_type": "stream",
          "text": [
            "It: 25000, Loss: 1.232e+04, Loss_bcs: 6.735e-09, Loss_res: 1.231e+04 ,Time: 0.00\n",
            "Compute NTK...\n"
          ]
        },
        {
          "name": "stdout",
          "output_type": "stream",
          "text": [
            " adaptive_constant_bc:  103625440.0\n"
          ]
        },
        {
          "name": "stderr",
          "output_type": "stream",
          "text": [
            "It: 25100, Loss: 1.232e+04, Loss_bcs: 6.735e-09, Loss_res: 1.231e+04 ,Time: 0.00\n",
            "Compute NTK...\n"
          ]
        },
        {
          "name": "stdout",
          "output_type": "stream",
          "text": [
            " adaptive_constant_bc:  103625440.0\n"
          ]
        },
        {
          "name": "stderr",
          "output_type": "stream",
          "text": [
            "It: 25200, Loss: 1.232e+04, Loss_bcs: 6.735e-09, Loss_res: 1.231e+04 ,Time: 0.00\n",
            "Compute NTK...\n"
          ]
        },
        {
          "name": "stdout",
          "output_type": "stream",
          "text": [
            " adaptive_constant_bc:  103625440.0\n"
          ]
        },
        {
          "name": "stderr",
          "output_type": "stream",
          "text": [
            "It: 25300, Loss: 1.232e+04, Loss_bcs: 6.735e-09, Loss_res: 1.231e+04 ,Time: 0.00\n",
            "Compute NTK...\n"
          ]
        },
        {
          "name": "stdout",
          "output_type": "stream",
          "text": [
            " adaptive_constant_bc:  103625440.0\n"
          ]
        },
        {
          "name": "stderr",
          "output_type": "stream",
          "text": [
            "It: 25400, Loss: 1.232e+04, Loss_bcs: 6.735e-09, Loss_res: 1.231e+04 ,Time: 0.00\n",
            "Compute NTK...\n"
          ]
        },
        {
          "name": "stdout",
          "output_type": "stream",
          "text": [
            " adaptive_constant_bc:  103625440.0\n"
          ]
        },
        {
          "name": "stderr",
          "output_type": "stream",
          "text": [
            "It: 25500, Loss: 1.232e+04, Loss_bcs: 6.735e-09, Loss_res: 1.231e+04 ,Time: 0.00\n",
            "Compute NTK...\n"
          ]
        },
        {
          "name": "stdout",
          "output_type": "stream",
          "text": [
            " adaptive_constant_bc:  103625440.0\n"
          ]
        },
        {
          "name": "stderr",
          "output_type": "stream",
          "text": [
            "It: 25600, Loss: 1.232e+04, Loss_bcs: 6.735e-09, Loss_res: 1.231e+04 ,Time: 0.00\n",
            "Compute NTK...\n"
          ]
        },
        {
          "name": "stdout",
          "output_type": "stream",
          "text": [
            " adaptive_constant_bc:  103625440.0\n"
          ]
        },
        {
          "name": "stderr",
          "output_type": "stream",
          "text": [
            "It: 25700, Loss: 1.232e+04, Loss_bcs: 6.735e-09, Loss_res: 1.231e+04 ,Time: 0.00\n",
            "Compute NTK...\n"
          ]
        },
        {
          "name": "stdout",
          "output_type": "stream",
          "text": [
            " adaptive_constant_bc:  103625440.0\n"
          ]
        },
        {
          "name": "stderr",
          "output_type": "stream",
          "text": [
            "It: 25800, Loss: 1.232e+04, Loss_bcs: 6.735e-09, Loss_res: 1.231e+04 ,Time: 0.00\n",
            "Compute NTK...\n"
          ]
        },
        {
          "name": "stdout",
          "output_type": "stream",
          "text": [
            " adaptive_constant_bc:  103625440.0\n"
          ]
        },
        {
          "name": "stderr",
          "output_type": "stream",
          "text": [
            "It: 25900, Loss: 1.232e+04, Loss_bcs: 6.735e-09, Loss_res: 1.231e+04 ,Time: 0.00\n",
            "Compute NTK...\n"
          ]
        },
        {
          "name": "stdout",
          "output_type": "stream",
          "text": [
            " adaptive_constant_bc:  103625440.0\n"
          ]
        },
        {
          "name": "stderr",
          "output_type": "stream",
          "text": [
            "It: 26000, Loss: 1.232e+04, Loss_bcs: 6.735e-09, Loss_res: 1.231e+04 ,Time: 0.00\n",
            "Compute NTK...\n"
          ]
        },
        {
          "name": "stdout",
          "output_type": "stream",
          "text": [
            " adaptive_constant_bc:  103625440.0\n"
          ]
        },
        {
          "name": "stderr",
          "output_type": "stream",
          "text": [
            "It: 26100, Loss: 1.232e+04, Loss_bcs: 6.735e-09, Loss_res: 1.231e+04 ,Time: 0.00\n",
            "Compute NTK...\n"
          ]
        },
        {
          "name": "stdout",
          "output_type": "stream",
          "text": [
            " adaptive_constant_bc:  103625440.0\n"
          ]
        },
        {
          "name": "stderr",
          "output_type": "stream",
          "text": [
            "It: 26200, Loss: 1.232e+04, Loss_bcs: 6.735e-09, Loss_res: 1.231e+04 ,Time: 0.00\n",
            "Compute NTK...\n"
          ]
        },
        {
          "name": "stdout",
          "output_type": "stream",
          "text": [
            " adaptive_constant_bc:  103625440.0\n"
          ]
        },
        {
          "name": "stderr",
          "output_type": "stream",
          "text": [
            "It: 26300, Loss: 1.232e+04, Loss_bcs: 6.735e-09, Loss_res: 1.231e+04 ,Time: 0.00\n",
            "Compute NTK...\n"
          ]
        },
        {
          "name": "stdout",
          "output_type": "stream",
          "text": [
            " adaptive_constant_bc:  103625440.0\n"
          ]
        },
        {
          "name": "stderr",
          "output_type": "stream",
          "text": [
            "It: 26400, Loss: 1.232e+04, Loss_bcs: 6.735e-09, Loss_res: 1.231e+04 ,Time: 0.00\n",
            "Compute NTK...\n"
          ]
        },
        {
          "name": "stdout",
          "output_type": "stream",
          "text": [
            " adaptive_constant_bc:  103625440.0\n"
          ]
        },
        {
          "name": "stderr",
          "output_type": "stream",
          "text": [
            "It: 26500, Loss: 1.232e+04, Loss_bcs: 6.735e-09, Loss_res: 1.231e+04 ,Time: 0.00\n",
            "Compute NTK...\n"
          ]
        },
        {
          "name": "stdout",
          "output_type": "stream",
          "text": [
            " adaptive_constant_bc:  103625440.0\n"
          ]
        },
        {
          "name": "stderr",
          "output_type": "stream",
          "text": [
            "It: 26600, Loss: 1.232e+04, Loss_bcs: 6.735e-09, Loss_res: 1.231e+04 ,Time: 0.00\n",
            "Compute NTK...\n"
          ]
        },
        {
          "name": "stdout",
          "output_type": "stream",
          "text": [
            " adaptive_constant_bc:  103625440.0\n"
          ]
        },
        {
          "name": "stderr",
          "output_type": "stream",
          "text": [
            "It: 26700, Loss: 1.232e+04, Loss_bcs: 6.735e-09, Loss_res: 1.231e+04 ,Time: 0.00\n",
            "Compute NTK...\n"
          ]
        },
        {
          "name": "stdout",
          "output_type": "stream",
          "text": [
            " adaptive_constant_bc:  103625440.0\n"
          ]
        },
        {
          "name": "stderr",
          "output_type": "stream",
          "text": [
            "It: 26800, Loss: 1.232e+04, Loss_bcs: 6.735e-09, Loss_res: 1.231e+04 ,Time: 0.00\n",
            "Compute NTK...\n"
          ]
        },
        {
          "name": "stdout",
          "output_type": "stream",
          "text": [
            " adaptive_constant_bc:  103625440.0\n"
          ]
        },
        {
          "name": "stderr",
          "output_type": "stream",
          "text": [
            "It: 26900, Loss: 1.232e+04, Loss_bcs: 6.735e-09, Loss_res: 1.231e+04 ,Time: 0.00\n",
            "Compute NTK...\n"
          ]
        },
        {
          "name": "stdout",
          "output_type": "stream",
          "text": [
            " adaptive_constant_bc:  103625440.0\n"
          ]
        },
        {
          "name": "stderr",
          "output_type": "stream",
          "text": [
            "It: 27000, Loss: 1.232e+04, Loss_bcs: 6.735e-09, Loss_res: 1.231e+04 ,Time: 0.00\n",
            "Compute NTK...\n"
          ]
        },
        {
          "name": "stdout",
          "output_type": "stream",
          "text": [
            " adaptive_constant_bc:  103625440.0\n"
          ]
        },
        {
          "name": "stderr",
          "output_type": "stream",
          "text": [
            "It: 27100, Loss: 1.232e+04, Loss_bcs: 6.735e-09, Loss_res: 1.231e+04 ,Time: 0.00\n",
            "Compute NTK...\n"
          ]
        },
        {
          "name": "stdout",
          "output_type": "stream",
          "text": [
            " adaptive_constant_bc:  103625440.0\n"
          ]
        },
        {
          "name": "stderr",
          "output_type": "stream",
          "text": [
            "It: 27200, Loss: 1.232e+04, Loss_bcs: 6.735e-09, Loss_res: 1.231e+04 ,Time: 0.00\n",
            "Compute NTK...\n"
          ]
        },
        {
          "name": "stdout",
          "output_type": "stream",
          "text": [
            " adaptive_constant_bc:  103625440.0\n"
          ]
        },
        {
          "name": "stderr",
          "output_type": "stream",
          "text": [
            "It: 27300, Loss: 1.232e+04, Loss_bcs: 6.735e-09, Loss_res: 1.231e+04 ,Time: 0.00\n",
            "Compute NTK...\n"
          ]
        },
        {
          "name": "stdout",
          "output_type": "stream",
          "text": [
            " adaptive_constant_bc:  103625440.0\n"
          ]
        },
        {
          "name": "stderr",
          "output_type": "stream",
          "text": [
            "It: 27400, Loss: 1.232e+04, Loss_bcs: 6.735e-09, Loss_res: 1.231e+04 ,Time: 0.00\n",
            "Compute NTK...\n"
          ]
        },
        {
          "name": "stdout",
          "output_type": "stream",
          "text": [
            " adaptive_constant_bc:  103625440.0\n"
          ]
        },
        {
          "name": "stderr",
          "output_type": "stream",
          "text": [
            "It: 27500, Loss: 1.232e+04, Loss_bcs: 6.735e-09, Loss_res: 1.231e+04 ,Time: 0.00\n",
            "Compute NTK...\n"
          ]
        },
        {
          "name": "stdout",
          "output_type": "stream",
          "text": [
            " adaptive_constant_bc:  103625440.0\n"
          ]
        },
        {
          "name": "stderr",
          "output_type": "stream",
          "text": [
            "It: 27600, Loss: 1.232e+04, Loss_bcs: 6.735e-09, Loss_res: 1.231e+04 ,Time: 0.00\n",
            "Compute NTK...\n"
          ]
        },
        {
          "name": "stdout",
          "output_type": "stream",
          "text": [
            " adaptive_constant_bc:  103625440.0\n"
          ]
        },
        {
          "name": "stderr",
          "output_type": "stream",
          "text": [
            "It: 27700, Loss: 1.232e+04, Loss_bcs: 6.735e-09, Loss_res: 1.231e+04 ,Time: 0.00\n",
            "Compute NTK...\n"
          ]
        },
        {
          "name": "stdout",
          "output_type": "stream",
          "text": [
            " adaptive_constant_bc:  103625440.0\n"
          ]
        },
        {
          "name": "stderr",
          "output_type": "stream",
          "text": [
            "It: 27800, Loss: 1.232e+04, Loss_bcs: 6.735e-09, Loss_res: 1.231e+04 ,Time: 0.00\n",
            "Compute NTK...\n"
          ]
        },
        {
          "name": "stdout",
          "output_type": "stream",
          "text": [
            " adaptive_constant_bc:  103625440.0\n"
          ]
        },
        {
          "name": "stderr",
          "output_type": "stream",
          "text": [
            "It: 27900, Loss: 1.232e+04, Loss_bcs: 6.735e-09, Loss_res: 1.231e+04 ,Time: 0.00\n",
            "Compute NTK...\n"
          ]
        },
        {
          "name": "stdout",
          "output_type": "stream",
          "text": [
            " adaptive_constant_bc:  103625440.0\n"
          ]
        },
        {
          "name": "stderr",
          "output_type": "stream",
          "text": [
            "It: 28000, Loss: 1.232e+04, Loss_bcs: 6.735e-09, Loss_res: 1.231e+04 ,Time: 0.00\n",
            "Compute NTK...\n"
          ]
        },
        {
          "name": "stdout",
          "output_type": "stream",
          "text": [
            " adaptive_constant_bc:  103625440.0\n"
          ]
        },
        {
          "name": "stderr",
          "output_type": "stream",
          "text": [
            "It: 28100, Loss: 1.232e+04, Loss_bcs: 6.735e-09, Loss_res: 1.231e+04 ,Time: 0.00\n",
            "Compute NTK...\n"
          ]
        },
        {
          "name": "stdout",
          "output_type": "stream",
          "text": [
            " adaptive_constant_bc:  103625440.0\n"
          ]
        },
        {
          "name": "stderr",
          "output_type": "stream",
          "text": [
            "It: 28200, Loss: 1.232e+04, Loss_bcs: 6.735e-09, Loss_res: 1.231e+04 ,Time: 0.00\n",
            "Compute NTK...\n"
          ]
        },
        {
          "name": "stdout",
          "output_type": "stream",
          "text": [
            " adaptive_constant_bc:  103625440.0\n"
          ]
        },
        {
          "name": "stderr",
          "output_type": "stream",
          "text": [
            "It: 28300, Loss: 1.232e+04, Loss_bcs: 6.735e-09, Loss_res: 1.231e+04 ,Time: 0.00\n",
            "Compute NTK...\n"
          ]
        },
        {
          "name": "stdout",
          "output_type": "stream",
          "text": [
            " adaptive_constant_bc:  103625440.0\n"
          ]
        },
        {
          "name": "stderr",
          "output_type": "stream",
          "text": [
            "It: 28400, Loss: 1.232e+04, Loss_bcs: 6.735e-09, Loss_res: 1.231e+04 ,Time: 0.00\n",
            "Compute NTK...\n"
          ]
        },
        {
          "name": "stdout",
          "output_type": "stream",
          "text": [
            " adaptive_constant_bc:  103625440.0\n"
          ]
        },
        {
          "name": "stderr",
          "output_type": "stream",
          "text": [
            "It: 28500, Loss: 1.232e+04, Loss_bcs: 6.735e-09, Loss_res: 1.231e+04 ,Time: 0.00\n",
            "Compute NTK...\n"
          ]
        },
        {
          "name": "stdout",
          "output_type": "stream",
          "text": [
            " adaptive_constant_bc:  103625440.0\n"
          ]
        },
        {
          "name": "stderr",
          "output_type": "stream",
          "text": [
            "It: 28600, Loss: 1.232e+04, Loss_bcs: 6.735e-09, Loss_res: 1.231e+04 ,Time: 0.00\n",
            "Compute NTK...\n"
          ]
        },
        {
          "name": "stdout",
          "output_type": "stream",
          "text": [
            " adaptive_constant_bc:  103625440.0\n"
          ]
        },
        {
          "name": "stderr",
          "output_type": "stream",
          "text": [
            "It: 28700, Loss: 1.232e+04, Loss_bcs: 6.735e-09, Loss_res: 1.231e+04 ,Time: 0.00\n",
            "Compute NTK...\n"
          ]
        },
        {
          "name": "stdout",
          "output_type": "stream",
          "text": [
            " adaptive_constant_bc:  103625440.0\n"
          ]
        },
        {
          "name": "stderr",
          "output_type": "stream",
          "text": [
            "It: 28800, Loss: 1.232e+04, Loss_bcs: 6.735e-09, Loss_res: 1.231e+04 ,Time: 0.00\n",
            "Compute NTK...\n"
          ]
        },
        {
          "name": "stdout",
          "output_type": "stream",
          "text": [
            " adaptive_constant_bc:  103625440.0\n"
          ]
        },
        {
          "name": "stderr",
          "output_type": "stream",
          "text": [
            "It: 28900, Loss: 1.232e+04, Loss_bcs: 6.735e-09, Loss_res: 1.231e+04 ,Time: 0.00\n",
            "Compute NTK...\n"
          ]
        },
        {
          "name": "stdout",
          "output_type": "stream",
          "text": [
            " adaptive_constant_bc:  103625440.0\n"
          ]
        },
        {
          "name": "stderr",
          "output_type": "stream",
          "text": [
            "It: 29000, Loss: 1.232e+04, Loss_bcs: 6.735e-09, Loss_res: 1.231e+04 ,Time: 0.00\n",
            "Compute NTK...\n"
          ]
        },
        {
          "name": "stdout",
          "output_type": "stream",
          "text": [
            " adaptive_constant_bc:  103625440.0\n"
          ]
        },
        {
          "name": "stderr",
          "output_type": "stream",
          "text": [
            "It: 29100, Loss: 1.232e+04, Loss_bcs: 6.735e-09, Loss_res: 1.231e+04 ,Time: 0.00\n",
            "Compute NTK...\n"
          ]
        },
        {
          "name": "stdout",
          "output_type": "stream",
          "text": [
            " adaptive_constant_bc:  103625440.0\n"
          ]
        },
        {
          "name": "stderr",
          "output_type": "stream",
          "text": [
            "It: 29200, Loss: 1.232e+04, Loss_bcs: 6.735e-09, Loss_res: 1.231e+04 ,Time: 0.00\n",
            "Compute NTK...\n"
          ]
        },
        {
          "name": "stdout",
          "output_type": "stream",
          "text": [
            " adaptive_constant_bc:  103625440.0\n"
          ]
        },
        {
          "name": "stderr",
          "output_type": "stream",
          "text": [
            "It: 29300, Loss: 1.232e+04, Loss_bcs: 6.735e-09, Loss_res: 1.231e+04 ,Time: 0.00\n",
            "Compute NTK...\n"
          ]
        },
        {
          "name": "stdout",
          "output_type": "stream",
          "text": [
            " adaptive_constant_bc:  103625440.0\n"
          ]
        },
        {
          "name": "stderr",
          "output_type": "stream",
          "text": [
            "It: 29400, Loss: 1.232e+04, Loss_bcs: 6.735e-09, Loss_res: 1.231e+04 ,Time: 0.00\n",
            "Compute NTK...\n"
          ]
        },
        {
          "name": "stdout",
          "output_type": "stream",
          "text": [
            " adaptive_constant_bc:  103625440.0\n"
          ]
        },
        {
          "name": "stderr",
          "output_type": "stream",
          "text": [
            "It: 29500, Loss: 1.232e+04, Loss_bcs: 6.735e-09, Loss_res: 1.231e+04 ,Time: 0.00\n",
            "Compute NTK...\n"
          ]
        },
        {
          "name": "stdout",
          "output_type": "stream",
          "text": [
            " adaptive_constant_bc:  103625440.0\n"
          ]
        },
        {
          "name": "stderr",
          "output_type": "stream",
          "text": [
            "It: 29600, Loss: 1.232e+04, Loss_bcs: 6.735e-09, Loss_res: 1.231e+04 ,Time: 0.00\n",
            "Compute NTK...\n"
          ]
        },
        {
          "name": "stdout",
          "output_type": "stream",
          "text": [
            " adaptive_constant_bc:  103625440.0\n"
          ]
        },
        {
          "name": "stderr",
          "output_type": "stream",
          "text": [
            "It: 29700, Loss: 1.232e+04, Loss_bcs: 6.735e-09, Loss_res: 1.231e+04 ,Time: 0.00\n",
            "Compute NTK...\n"
          ]
        },
        {
          "name": "stdout",
          "output_type": "stream",
          "text": [
            " adaptive_constant_bc:  103625440.0\n"
          ]
        },
        {
          "name": "stderr",
          "output_type": "stream",
          "text": [
            "It: 29800, Loss: 1.232e+04, Loss_bcs: 6.735e-09, Loss_res: 1.231e+04 ,Time: 0.00\n",
            "Compute NTK...\n"
          ]
        },
        {
          "name": "stdout",
          "output_type": "stream",
          "text": [
            " adaptive_constant_bc:  103625440.0\n"
          ]
        },
        {
          "name": "stderr",
          "output_type": "stream",
          "text": [
            "It: 29900, Loss: 1.232e+04, Loss_bcs: 6.735e-09, Loss_res: 1.231e+04 ,Time: 0.00\n",
            "Compute NTK...\n"
          ]
        },
        {
          "name": "stdout",
          "output_type": "stream",
          "text": [
            " adaptive_constant_bc:  103625440.0\n"
          ]
        },
        {
          "name": "stderr",
          "output_type": "stream",
          "text": [
            "It: 30000, Loss: 1.232e+04, Loss_bcs: 6.735e-09, Loss_res: 1.231e+04 ,Time: 0.00\n",
            "Compute NTK...\n"
          ]
        },
        {
          "name": "stdout",
          "output_type": "stream",
          "text": [
            " adaptive_constant_bc:  103625440.0\n"
          ]
        },
        {
          "name": "stderr",
          "output_type": "stream",
          "text": [
            "It: 30100, Loss: 1.232e+04, Loss_bcs: 6.735e-09, Loss_res: 1.231e+04 ,Time: 0.00\n",
            "Compute NTK...\n"
          ]
        },
        {
          "name": "stdout",
          "output_type": "stream",
          "text": [
            " adaptive_constant_bc:  103625440.0\n"
          ]
        },
        {
          "name": "stderr",
          "output_type": "stream",
          "text": [
            "It: 30200, Loss: 1.232e+04, Loss_bcs: 6.735e-09, Loss_res: 1.231e+04 ,Time: 0.00\n",
            "Compute NTK...\n"
          ]
        },
        {
          "name": "stdout",
          "output_type": "stream",
          "text": [
            " adaptive_constant_bc:  103625440.0\n"
          ]
        },
        {
          "name": "stderr",
          "output_type": "stream",
          "text": [
            "It: 30300, Loss: 1.232e+04, Loss_bcs: 6.735e-09, Loss_res: 1.231e+04 ,Time: 0.00\n",
            "Compute NTK...\n"
          ]
        },
        {
          "name": "stdout",
          "output_type": "stream",
          "text": [
            " adaptive_constant_bc:  103625440.0\n"
          ]
        },
        {
          "name": "stderr",
          "output_type": "stream",
          "text": [
            "It: 30400, Loss: 1.232e+04, Loss_bcs: 6.735e-09, Loss_res: 1.231e+04 ,Time: 0.00\n",
            "Compute NTK...\n"
          ]
        },
        {
          "name": "stdout",
          "output_type": "stream",
          "text": [
            " adaptive_constant_bc:  103625440.0\n"
          ]
        },
        {
          "name": "stderr",
          "output_type": "stream",
          "text": [
            "It: 30500, Loss: 1.232e+04, Loss_bcs: 6.735e-09, Loss_res: 1.231e+04 ,Time: 0.00\n"
          ]
        },
        {
          "name": "stdout",
          "output_type": "stream",
          "text": [
            " adaptive_constant_bc:  103625440.0\n"
          ]
        },
        {
          "name": "stderr",
          "output_type": "stream",
          "text": [
            "Compute NTK...\n",
            "It: 30600, Loss: 1.232e+04, Loss_bcs: 6.735e-09, Loss_res: 1.231e+04 ,Time: 0.00\n",
            "Compute NTK...\n"
          ]
        },
        {
          "name": "stdout",
          "output_type": "stream",
          "text": [
            " adaptive_constant_bc:  103625440.0\n"
          ]
        },
        {
          "name": "stderr",
          "output_type": "stream",
          "text": [
            "It: 30700, Loss: 1.232e+04, Loss_bcs: 6.735e-09, Loss_res: 1.231e+04 ,Time: 0.00\n",
            "Compute NTK...\n"
          ]
        },
        {
          "name": "stdout",
          "output_type": "stream",
          "text": [
            " adaptive_constant_bc:  103625440.0\n"
          ]
        },
        {
          "name": "stderr",
          "output_type": "stream",
          "text": [
            "It: 30800, Loss: 1.232e+04, Loss_bcs: 6.735e-09, Loss_res: 1.231e+04 ,Time: 0.00\n",
            "Compute NTK...\n"
          ]
        },
        {
          "name": "stdout",
          "output_type": "stream",
          "text": [
            " adaptive_constant_bc:  103625440.0\n"
          ]
        },
        {
          "name": "stderr",
          "output_type": "stream",
          "text": [
            "It: 30900, Loss: 1.232e+04, Loss_bcs: 6.735e-09, Loss_res: 1.231e+04 ,Time: 0.00\n",
            "Compute NTK...\n"
          ]
        },
        {
          "name": "stdout",
          "output_type": "stream",
          "text": [
            " adaptive_constant_bc:  103625440.0\n"
          ]
        },
        {
          "name": "stderr",
          "output_type": "stream",
          "text": [
            "It: 31000, Loss: 1.232e+04, Loss_bcs: 6.735e-09, Loss_res: 1.231e+04 ,Time: 0.00\n",
            "Compute NTK...\n"
          ]
        },
        {
          "name": "stdout",
          "output_type": "stream",
          "text": [
            " adaptive_constant_bc:  103625440.0\n"
          ]
        },
        {
          "name": "stderr",
          "output_type": "stream",
          "text": [
            "It: 31100, Loss: 1.232e+04, Loss_bcs: 6.735e-09, Loss_res: 1.231e+04 ,Time: 0.00\n",
            "Compute NTK...\n"
          ]
        },
        {
          "name": "stdout",
          "output_type": "stream",
          "text": [
            " adaptive_constant_bc:  103625440.0\n"
          ]
        },
        {
          "name": "stderr",
          "output_type": "stream",
          "text": [
            "It: 31200, Loss: 1.232e+04, Loss_bcs: 6.735e-09, Loss_res: 1.231e+04 ,Time: 0.00\n",
            "Compute NTK...\n"
          ]
        },
        {
          "name": "stdout",
          "output_type": "stream",
          "text": [
            " adaptive_constant_bc:  103625440.0\n"
          ]
        },
        {
          "name": "stderr",
          "output_type": "stream",
          "text": [
            "It: 31300, Loss: 1.232e+04, Loss_bcs: 6.735e-09, Loss_res: 1.231e+04 ,Time: 0.00\n",
            "Compute NTK...\n"
          ]
        },
        {
          "name": "stdout",
          "output_type": "stream",
          "text": [
            " adaptive_constant_bc:  103625440.0\n"
          ]
        },
        {
          "name": "stderr",
          "output_type": "stream",
          "text": [
            "It: 31400, Loss: 1.232e+04, Loss_bcs: 6.735e-09, Loss_res: 1.231e+04 ,Time: 0.00\n",
            "Compute NTK...\n"
          ]
        },
        {
          "name": "stdout",
          "output_type": "stream",
          "text": [
            " adaptive_constant_bc:  103625440.0\n"
          ]
        },
        {
          "name": "stderr",
          "output_type": "stream",
          "text": [
            "It: 31500, Loss: 1.232e+04, Loss_bcs: 6.735e-09, Loss_res: 1.231e+04 ,Time: 0.00\n",
            "Compute NTK...\n"
          ]
        },
        {
          "name": "stdout",
          "output_type": "stream",
          "text": [
            " adaptive_constant_bc:  103625440.0\n"
          ]
        },
        {
          "name": "stderr",
          "output_type": "stream",
          "text": [
            "It: 31600, Loss: 1.232e+04, Loss_bcs: 6.735e-09, Loss_res: 1.231e+04 ,Time: 0.00\n",
            "Compute NTK...\n"
          ]
        },
        {
          "name": "stdout",
          "output_type": "stream",
          "text": [
            " adaptive_constant_bc:  103625440.0\n"
          ]
        },
        {
          "name": "stderr",
          "output_type": "stream",
          "text": [
            "It: 31700, Loss: 1.232e+04, Loss_bcs: 6.735e-09, Loss_res: 1.231e+04 ,Time: 0.00\n",
            "Compute NTK...\n"
          ]
        },
        {
          "name": "stdout",
          "output_type": "stream",
          "text": [
            " adaptive_constant_bc:  103625440.0\n"
          ]
        },
        {
          "name": "stderr",
          "output_type": "stream",
          "text": [
            "It: 31800, Loss: 1.232e+04, Loss_bcs: 6.735e-09, Loss_res: 1.231e+04 ,Time: 0.00\n",
            "Compute NTK...\n"
          ]
        },
        {
          "name": "stdout",
          "output_type": "stream",
          "text": [
            " adaptive_constant_bc:  103625440.0\n"
          ]
        },
        {
          "name": "stderr",
          "output_type": "stream",
          "text": [
            "It: 31900, Loss: 1.232e+04, Loss_bcs: 6.735e-09, Loss_res: 1.231e+04 ,Time: 0.00\n",
            "Compute NTK...\n"
          ]
        },
        {
          "name": "stdout",
          "output_type": "stream",
          "text": [
            " adaptive_constant_bc:  103625440.0\n"
          ]
        },
        {
          "name": "stderr",
          "output_type": "stream",
          "text": [
            "It: 32000, Loss: 1.232e+04, Loss_bcs: 6.735e-09, Loss_res: 1.231e+04 ,Time: 0.00\n",
            "Compute NTK...\n"
          ]
        },
        {
          "name": "stdout",
          "output_type": "stream",
          "text": [
            " adaptive_constant_bc:  103625440.0\n"
          ]
        },
        {
          "name": "stderr",
          "output_type": "stream",
          "text": [
            "It: 32100, Loss: 1.232e+04, Loss_bcs: 6.735e-09, Loss_res: 1.231e+04 ,Time: 0.00\n",
            "Compute NTK...\n"
          ]
        },
        {
          "name": "stdout",
          "output_type": "stream",
          "text": [
            " adaptive_constant_bc:  103625440.0\n"
          ]
        },
        {
          "name": "stderr",
          "output_type": "stream",
          "text": [
            "It: 32200, Loss: 1.232e+04, Loss_bcs: 6.735e-09, Loss_res: 1.231e+04 ,Time: 0.00\n",
            "Compute NTK...\n"
          ]
        },
        {
          "name": "stdout",
          "output_type": "stream",
          "text": [
            " adaptive_constant_bc:  103625440.0\n"
          ]
        },
        {
          "name": "stderr",
          "output_type": "stream",
          "text": [
            "It: 32300, Loss: 1.232e+04, Loss_bcs: 6.735e-09, Loss_res: 1.231e+04 ,Time: 0.00\n",
            "Compute NTK...\n"
          ]
        },
        {
          "name": "stdout",
          "output_type": "stream",
          "text": [
            " adaptive_constant_bc:  103625440.0\n"
          ]
        },
        {
          "name": "stderr",
          "output_type": "stream",
          "text": [
            "It: 32400, Loss: 1.232e+04, Loss_bcs: 6.735e-09, Loss_res: 1.231e+04 ,Time: 0.00\n",
            "Compute NTK...\n"
          ]
        },
        {
          "name": "stdout",
          "output_type": "stream",
          "text": [
            " adaptive_constant_bc:  103625440.0\n"
          ]
        },
        {
          "name": "stderr",
          "output_type": "stream",
          "text": [
            "It: 32500, Loss: 1.232e+04, Loss_bcs: 6.735e-09, Loss_res: 1.231e+04 ,Time: 0.00\n",
            "Compute NTK...\n"
          ]
        },
        {
          "name": "stdout",
          "output_type": "stream",
          "text": [
            " adaptive_constant_bc:  103625440.0\n"
          ]
        },
        {
          "name": "stderr",
          "output_type": "stream",
          "text": [
            "It: 32600, Loss: 1.232e+04, Loss_bcs: 6.735e-09, Loss_res: 1.231e+04 ,Time: 0.00\n",
            "Compute NTK...\n"
          ]
        },
        {
          "name": "stdout",
          "output_type": "stream",
          "text": [
            " adaptive_constant_bc:  103625440.0\n"
          ]
        },
        {
          "name": "stderr",
          "output_type": "stream",
          "text": [
            "It: 32700, Loss: 1.232e+04, Loss_bcs: 6.735e-09, Loss_res: 1.231e+04 ,Time: 0.00\n",
            "Compute NTK...\n"
          ]
        },
        {
          "name": "stdout",
          "output_type": "stream",
          "text": [
            " adaptive_constant_bc:  103625440.0\n"
          ]
        },
        {
          "name": "stderr",
          "output_type": "stream",
          "text": [
            "It: 32800, Loss: 1.232e+04, Loss_bcs: 6.735e-09, Loss_res: 1.231e+04 ,Time: 0.00\n",
            "Compute NTK...\n"
          ]
        },
        {
          "name": "stdout",
          "output_type": "stream",
          "text": [
            " adaptive_constant_bc:  103625440.0\n"
          ]
        },
        {
          "name": "stderr",
          "output_type": "stream",
          "text": [
            "It: 32900, Loss: 1.232e+04, Loss_bcs: 6.735e-09, Loss_res: 1.231e+04 ,Time: 0.00\n",
            "Compute NTK...\n"
          ]
        },
        {
          "name": "stdout",
          "output_type": "stream",
          "text": [
            " adaptive_constant_bc:  103625440.0\n"
          ]
        },
        {
          "name": "stderr",
          "output_type": "stream",
          "text": [
            "It: 33000, Loss: 1.232e+04, Loss_bcs: 6.735e-09, Loss_res: 1.231e+04 ,Time: 0.00\n",
            "Compute NTK...\n"
          ]
        },
        {
          "name": "stdout",
          "output_type": "stream",
          "text": [
            " adaptive_constant_bc:  103625440.0\n"
          ]
        },
        {
          "name": "stderr",
          "output_type": "stream",
          "text": [
            "It: 33100, Loss: 1.232e+04, Loss_bcs: 6.735e-09, Loss_res: 1.231e+04 ,Time: 0.00\n"
          ]
        },
        {
          "name": "stdout",
          "output_type": "stream",
          "text": [
            " adaptive_constant_bc:  103625440.0\n"
          ]
        },
        {
          "name": "stderr",
          "output_type": "stream",
          "text": [
            "Compute NTK...\n",
            "It: 33200, Loss: 1.232e+04, Loss_bcs: 6.735e-09, Loss_res: 1.231e+04 ,Time: 0.00\n",
            "Compute NTK...\n"
          ]
        },
        {
          "name": "stdout",
          "output_type": "stream",
          "text": [
            " adaptive_constant_bc:  103625440.0\n"
          ]
        },
        {
          "name": "stderr",
          "output_type": "stream",
          "text": [
            "It: 33300, Loss: 1.232e+04, Loss_bcs: 6.735e-09, Loss_res: 1.231e+04 ,Time: 0.00\n",
            "Compute NTK...\n"
          ]
        },
        {
          "name": "stdout",
          "output_type": "stream",
          "text": [
            " adaptive_constant_bc:  103625440.0\n"
          ]
        },
        {
          "name": "stderr",
          "output_type": "stream",
          "text": [
            "It: 33400, Loss: 1.232e+04, Loss_bcs: 6.735e-09, Loss_res: 1.231e+04 ,Time: 0.00\n",
            "Compute NTK...\n"
          ]
        },
        {
          "name": "stdout",
          "output_type": "stream",
          "text": [
            " adaptive_constant_bc:  103625440.0\n"
          ]
        },
        {
          "name": "stderr",
          "output_type": "stream",
          "text": [
            "It: 33500, Loss: 1.232e+04, Loss_bcs: 6.735e-09, Loss_res: 1.231e+04 ,Time: 0.00\n",
            "Compute NTK...\n"
          ]
        },
        {
          "name": "stdout",
          "output_type": "stream",
          "text": [
            " adaptive_constant_bc:  103625440.0\n"
          ]
        },
        {
          "name": "stderr",
          "output_type": "stream",
          "text": [
            "It: 33600, Loss: 1.232e+04, Loss_bcs: 6.735e-09, Loss_res: 1.231e+04 ,Time: 0.00\n",
            "Compute NTK...\n"
          ]
        },
        {
          "name": "stdout",
          "output_type": "stream",
          "text": [
            " adaptive_constant_bc:  103625440.0\n"
          ]
        },
        {
          "name": "stderr",
          "output_type": "stream",
          "text": [
            "It: 33700, Loss: 1.232e+04, Loss_bcs: 6.735e-09, Loss_res: 1.231e+04 ,Time: 0.00\n",
            "Compute NTK...\n"
          ]
        },
        {
          "name": "stdout",
          "output_type": "stream",
          "text": [
            " adaptive_constant_bc:  103625440.0\n"
          ]
        },
        {
          "name": "stderr",
          "output_type": "stream",
          "text": [
            "It: 33800, Loss: 1.232e+04, Loss_bcs: 6.735e-09, Loss_res: 1.231e+04 ,Time: 0.00\n",
            "Compute NTK...\n"
          ]
        },
        {
          "name": "stdout",
          "output_type": "stream",
          "text": [
            " adaptive_constant_bc:  103625440.0\n"
          ]
        },
        {
          "name": "stderr",
          "output_type": "stream",
          "text": [
            "It: 33900, Loss: 1.232e+04, Loss_bcs: 6.735e-09, Loss_res: 1.231e+04 ,Time: 0.00\n",
            "Compute NTK...\n"
          ]
        },
        {
          "name": "stdout",
          "output_type": "stream",
          "text": [
            " adaptive_constant_bc:  103625440.0\n"
          ]
        },
        {
          "name": "stderr",
          "output_type": "stream",
          "text": [
            "It: 34000, Loss: 1.232e+04, Loss_bcs: 6.735e-09, Loss_res: 1.231e+04 ,Time: 0.00\n",
            "Compute NTK...\n"
          ]
        },
        {
          "name": "stdout",
          "output_type": "stream",
          "text": [
            " adaptive_constant_bc:  103625440.0\n"
          ]
        },
        {
          "name": "stderr",
          "output_type": "stream",
          "text": [
            "It: 34100, Loss: 1.232e+04, Loss_bcs: 6.735e-09, Loss_res: 1.231e+04 ,Time: 0.00\n",
            "Compute NTK...\n"
          ]
        },
        {
          "name": "stdout",
          "output_type": "stream",
          "text": [
            " adaptive_constant_bc:  103625440.0\n"
          ]
        },
        {
          "name": "stderr",
          "output_type": "stream",
          "text": [
            "It: 34200, Loss: 1.232e+04, Loss_bcs: 6.735e-09, Loss_res: 1.231e+04 ,Time: 0.00\n",
            "Compute NTK...\n"
          ]
        },
        {
          "name": "stdout",
          "output_type": "stream",
          "text": [
            " adaptive_constant_bc:  103625440.0\n"
          ]
        },
        {
          "name": "stderr",
          "output_type": "stream",
          "text": [
            "It: 34300, Loss: 1.232e+04, Loss_bcs: 6.735e-09, Loss_res: 1.231e+04 ,Time: 0.00\n",
            "Compute NTK...\n"
          ]
        },
        {
          "name": "stdout",
          "output_type": "stream",
          "text": [
            " adaptive_constant_bc:  103625440.0\n"
          ]
        },
        {
          "name": "stderr",
          "output_type": "stream",
          "text": [
            "It: 34400, Loss: 1.232e+04, Loss_bcs: 6.735e-09, Loss_res: 1.231e+04 ,Time: 0.00\n",
            "Compute NTK...\n"
          ]
        },
        {
          "name": "stdout",
          "output_type": "stream",
          "text": [
            " adaptive_constant_bc:  103625440.0\n"
          ]
        },
        {
          "name": "stderr",
          "output_type": "stream",
          "text": [
            "It: 34500, Loss: 1.232e+04, Loss_bcs: 6.735e-09, Loss_res: 1.231e+04 ,Time: 0.00\n",
            "Compute NTK...\n"
          ]
        },
        {
          "name": "stdout",
          "output_type": "stream",
          "text": [
            " adaptive_constant_bc:  103625440.0\n"
          ]
        },
        {
          "name": "stderr",
          "output_type": "stream",
          "text": [
            "It: 34600, Loss: 1.232e+04, Loss_bcs: 6.735e-09, Loss_res: 1.231e+04 ,Time: 0.00\n",
            "Compute NTK...\n"
          ]
        },
        {
          "name": "stdout",
          "output_type": "stream",
          "text": [
            " adaptive_constant_bc:  103625440.0\n"
          ]
        },
        {
          "name": "stderr",
          "output_type": "stream",
          "text": [
            "It: 34700, Loss: 1.232e+04, Loss_bcs: 6.735e-09, Loss_res: 1.231e+04 ,Time: 0.00\n",
            "Compute NTK...\n"
          ]
        },
        {
          "name": "stdout",
          "output_type": "stream",
          "text": [
            " adaptive_constant_bc:  103625440.0\n"
          ]
        },
        {
          "name": "stderr",
          "output_type": "stream",
          "text": [
            "It: 34800, Loss: 1.232e+04, Loss_bcs: 6.735e-09, Loss_res: 1.231e+04 ,Time: 0.00\n",
            "Compute NTK...\n"
          ]
        },
        {
          "name": "stdout",
          "output_type": "stream",
          "text": [
            " adaptive_constant_bc:  103625440.0\n"
          ]
        },
        {
          "name": "stderr",
          "output_type": "stream",
          "text": [
            "It: 34900, Loss: 1.232e+04, Loss_bcs: 6.735e-09, Loss_res: 1.231e+04 ,Time: 0.00\n",
            "Compute NTK...\n"
          ]
        },
        {
          "name": "stdout",
          "output_type": "stream",
          "text": [
            " adaptive_constant_bc:  103625440.0\n"
          ]
        },
        {
          "name": "stderr",
          "output_type": "stream",
          "text": [
            "It: 35000, Loss: 1.232e+04, Loss_bcs: 6.735e-09, Loss_res: 1.231e+04 ,Time: 0.00\n",
            "Compute NTK...\n"
          ]
        },
        {
          "name": "stdout",
          "output_type": "stream",
          "text": [
            " adaptive_constant_bc:  103625440.0\n"
          ]
        },
        {
          "name": "stderr",
          "output_type": "stream",
          "text": [
            "It: 35100, Loss: 1.232e+04, Loss_bcs: 6.735e-09, Loss_res: 1.231e+04 ,Time: 0.00\n",
            "Compute NTK...\n"
          ]
        },
        {
          "name": "stdout",
          "output_type": "stream",
          "text": [
            " adaptive_constant_bc:  103625440.0\n"
          ]
        },
        {
          "name": "stderr",
          "output_type": "stream",
          "text": [
            "It: 35200, Loss: 1.232e+04, Loss_bcs: 6.735e-09, Loss_res: 1.231e+04 ,Time: 0.00\n",
            "Compute NTK...\n"
          ]
        },
        {
          "name": "stdout",
          "output_type": "stream",
          "text": [
            " adaptive_constant_bc:  103625440.0\n"
          ]
        },
        {
          "name": "stderr",
          "output_type": "stream",
          "text": [
            "It: 35300, Loss: 1.232e+04, Loss_bcs: 6.735e-09, Loss_res: 1.231e+04 ,Time: 0.00\n",
            "Compute NTK...\n"
          ]
        },
        {
          "name": "stdout",
          "output_type": "stream",
          "text": [
            " adaptive_constant_bc:  103625440.0\n"
          ]
        },
        {
          "name": "stderr",
          "output_type": "stream",
          "text": [
            "It: 35400, Loss: 1.232e+04, Loss_bcs: 6.735e-09, Loss_res: 1.231e+04 ,Time: 0.00\n",
            "Compute NTK...\n"
          ]
        },
        {
          "name": "stdout",
          "output_type": "stream",
          "text": [
            " adaptive_constant_bc:  103625440.0\n"
          ]
        },
        {
          "name": "stderr",
          "output_type": "stream",
          "text": [
            "It: 35500, Loss: 1.232e+04, Loss_bcs: 6.735e-09, Loss_res: 1.231e+04 ,Time: 0.00\n",
            "Compute NTK...\n"
          ]
        },
        {
          "name": "stdout",
          "output_type": "stream",
          "text": [
            " adaptive_constant_bc:  103625440.0\n"
          ]
        },
        {
          "name": "stderr",
          "output_type": "stream",
          "text": [
            "It: 35600, Loss: 1.232e+04, Loss_bcs: 6.735e-09, Loss_res: 1.231e+04 ,Time: 0.00\n",
            "Compute NTK...\n"
          ]
        },
        {
          "name": "stdout",
          "output_type": "stream",
          "text": [
            " adaptive_constant_bc:  103625440.0\n"
          ]
        },
        {
          "name": "stderr",
          "output_type": "stream",
          "text": [
            "It: 35700, Loss: 1.232e+04, Loss_bcs: 6.735e-09, Loss_res: 1.231e+04 ,Time: 0.00\n",
            "Compute NTK...\n"
          ]
        },
        {
          "name": "stdout",
          "output_type": "stream",
          "text": [
            " adaptive_constant_bc:  103625440.0\n"
          ]
        },
        {
          "name": "stderr",
          "output_type": "stream",
          "text": [
            "It: 35800, Loss: 1.232e+04, Loss_bcs: 6.735e-09, Loss_res: 1.231e+04 ,Time: 0.00\n",
            "Compute NTK...\n"
          ]
        },
        {
          "name": "stdout",
          "output_type": "stream",
          "text": [
            " adaptive_constant_bc:  103625440.0\n"
          ]
        },
        {
          "name": "stderr",
          "output_type": "stream",
          "text": [
            "It: 35900, Loss: 1.232e+04, Loss_bcs: 6.735e-09, Loss_res: 1.231e+04 ,Time: 0.00\n",
            "Compute NTK...\n"
          ]
        },
        {
          "name": "stdout",
          "output_type": "stream",
          "text": [
            " adaptive_constant_bc:  103625440.0\n"
          ]
        },
        {
          "name": "stderr",
          "output_type": "stream",
          "text": [
            "It: 36000, Loss: 1.232e+04, Loss_bcs: 6.735e-09, Loss_res: 1.231e+04 ,Time: 0.00\n",
            "Compute NTK...\n"
          ]
        },
        {
          "name": "stdout",
          "output_type": "stream",
          "text": [
            " adaptive_constant_bc:  103625440.0\n"
          ]
        },
        {
          "name": "stderr",
          "output_type": "stream",
          "text": [
            "It: 36100, Loss: 1.232e+04, Loss_bcs: 6.735e-09, Loss_res: 1.231e+04 ,Time: 0.00\n",
            "Compute NTK...\n"
          ]
        },
        {
          "name": "stdout",
          "output_type": "stream",
          "text": [
            " adaptive_constant_bc:  103625440.0\n"
          ]
        },
        {
          "name": "stderr",
          "output_type": "stream",
          "text": [
            "It: 36200, Loss: 1.232e+04, Loss_bcs: 6.735e-09, Loss_res: 1.231e+04 ,Time: 0.00\n",
            "Compute NTK...\n"
          ]
        },
        {
          "name": "stdout",
          "output_type": "stream",
          "text": [
            " adaptive_constant_bc:  103625440.0\n"
          ]
        },
        {
          "name": "stderr",
          "output_type": "stream",
          "text": [
            "It: 36300, Loss: 1.232e+04, Loss_bcs: 6.735e-09, Loss_res: 1.231e+04 ,Time: 0.00\n",
            "Compute NTK...\n"
          ]
        },
        {
          "name": "stdout",
          "output_type": "stream",
          "text": [
            " adaptive_constant_bc:  103625440.0\n"
          ]
        },
        {
          "name": "stderr",
          "output_type": "stream",
          "text": [
            "It: 36400, Loss: 1.232e+04, Loss_bcs: 6.735e-09, Loss_res: 1.231e+04 ,Time: 0.00\n",
            "Compute NTK...\n"
          ]
        },
        {
          "name": "stdout",
          "output_type": "stream",
          "text": [
            " adaptive_constant_bc:  103625440.0\n"
          ]
        },
        {
          "name": "stderr",
          "output_type": "stream",
          "text": [
            "It: 36500, Loss: 1.232e+04, Loss_bcs: 6.735e-09, Loss_res: 1.231e+04 ,Time: 0.00\n",
            "Compute NTK...\n"
          ]
        },
        {
          "name": "stdout",
          "output_type": "stream",
          "text": [
            " adaptive_constant_bc:  103625440.0\n"
          ]
        },
        {
          "name": "stderr",
          "output_type": "stream",
          "text": [
            "It: 36600, Loss: 1.232e+04, Loss_bcs: 6.735e-09, Loss_res: 1.231e+04 ,Time: 0.00\n",
            "Compute NTK...\n"
          ]
        },
        {
          "name": "stdout",
          "output_type": "stream",
          "text": [
            " adaptive_constant_bc:  103625440.0\n"
          ]
        },
        {
          "name": "stderr",
          "output_type": "stream",
          "text": [
            "It: 36700, Loss: 1.232e+04, Loss_bcs: 6.735e-09, Loss_res: 1.231e+04 ,Time: 0.00\n",
            "Compute NTK...\n"
          ]
        },
        {
          "name": "stdout",
          "output_type": "stream",
          "text": [
            " adaptive_constant_bc:  103625440.0\n"
          ]
        },
        {
          "name": "stderr",
          "output_type": "stream",
          "text": [
            "It: 36800, Loss: 1.232e+04, Loss_bcs: 6.735e-09, Loss_res: 1.231e+04 ,Time: 0.00\n",
            "Compute NTK...\n"
          ]
        },
        {
          "name": "stdout",
          "output_type": "stream",
          "text": [
            " adaptive_constant_bc:  103625440.0\n"
          ]
        },
        {
          "name": "stderr",
          "output_type": "stream",
          "text": [
            "It: 36900, Loss: 1.232e+04, Loss_bcs: 6.735e-09, Loss_res: 1.231e+04 ,Time: 0.00\n"
          ]
        },
        {
          "name": "stdout",
          "output_type": "stream",
          "text": [
            " adaptive_constant_bc:  103625440.0\n"
          ]
        },
        {
          "name": "stderr",
          "output_type": "stream",
          "text": [
            "Compute NTK...\n",
            "It: 37000, Loss: 1.232e+04, Loss_bcs: 6.735e-09, Loss_res: 1.231e+04 ,Time: 0.00\n",
            "Compute NTK...\n"
          ]
        },
        {
          "name": "stdout",
          "output_type": "stream",
          "text": [
            " adaptive_constant_bc:  103625440.0\n"
          ]
        },
        {
          "name": "stderr",
          "output_type": "stream",
          "text": [
            "It: 37100, Loss: 1.232e+04, Loss_bcs: 6.735e-09, Loss_res: 1.231e+04 ,Time: 0.00\n",
            "Compute NTK...\n"
          ]
        },
        {
          "name": "stdout",
          "output_type": "stream",
          "text": [
            " adaptive_constant_bc:  103625440.0\n"
          ]
        },
        {
          "name": "stderr",
          "output_type": "stream",
          "text": [
            "It: 37200, Loss: 1.232e+04, Loss_bcs: 6.735e-09, Loss_res: 1.231e+04 ,Time: 0.00\n",
            "Compute NTK...\n"
          ]
        },
        {
          "name": "stdout",
          "output_type": "stream",
          "text": [
            " adaptive_constant_bc:  103625440.0\n"
          ]
        },
        {
          "name": "stderr",
          "output_type": "stream",
          "text": [
            "It: 37300, Loss: 1.232e+04, Loss_bcs: 6.735e-09, Loss_res: 1.231e+04 ,Time: 0.00\n",
            "Compute NTK...\n"
          ]
        },
        {
          "name": "stdout",
          "output_type": "stream",
          "text": [
            " adaptive_constant_bc:  103625440.0\n"
          ]
        },
        {
          "name": "stderr",
          "output_type": "stream",
          "text": [
            "It: 37400, Loss: 1.232e+04, Loss_bcs: 6.735e-09, Loss_res: 1.231e+04 ,Time: 0.00\n",
            "Compute NTK...\n"
          ]
        },
        {
          "name": "stdout",
          "output_type": "stream",
          "text": [
            " adaptive_constant_bc:  103625440.0\n"
          ]
        },
        {
          "name": "stderr",
          "output_type": "stream",
          "text": [
            "It: 37500, Loss: 1.232e+04, Loss_bcs: 6.735e-09, Loss_res: 1.231e+04 ,Time: 0.00\n",
            "Compute NTK...\n"
          ]
        },
        {
          "name": "stdout",
          "output_type": "stream",
          "text": [
            " adaptive_constant_bc:  103625440.0\n"
          ]
        },
        {
          "name": "stderr",
          "output_type": "stream",
          "text": [
            "It: 37600, Loss: 1.232e+04, Loss_bcs: 6.735e-09, Loss_res: 1.231e+04 ,Time: 0.00\n",
            "Compute NTK...\n"
          ]
        },
        {
          "name": "stdout",
          "output_type": "stream",
          "text": [
            " adaptive_constant_bc:  103625440.0\n"
          ]
        },
        {
          "name": "stderr",
          "output_type": "stream",
          "text": [
            "It: 37700, Loss: 1.232e+04, Loss_bcs: 6.735e-09, Loss_res: 1.231e+04 ,Time: 0.00\n",
            "Compute NTK...\n"
          ]
        },
        {
          "name": "stdout",
          "output_type": "stream",
          "text": [
            " adaptive_constant_bc:  103625440.0\n"
          ]
        },
        {
          "name": "stderr",
          "output_type": "stream",
          "text": [
            "It: 37800, Loss: 1.232e+04, Loss_bcs: 6.735e-09, Loss_res: 1.231e+04 ,Time: 0.00\n",
            "Compute NTK...\n"
          ]
        },
        {
          "name": "stdout",
          "output_type": "stream",
          "text": [
            " adaptive_constant_bc:  103625440.0\n"
          ]
        },
        {
          "name": "stderr",
          "output_type": "stream",
          "text": [
            "It: 37900, Loss: 1.232e+04, Loss_bcs: 6.735e-09, Loss_res: 1.231e+04 ,Time: 0.00\n",
            "Compute NTK...\n"
          ]
        },
        {
          "name": "stdout",
          "output_type": "stream",
          "text": [
            " adaptive_constant_bc:  103625440.0\n"
          ]
        },
        {
          "name": "stderr",
          "output_type": "stream",
          "text": [
            "It: 38000, Loss: 1.232e+04, Loss_bcs: 6.735e-09, Loss_res: 1.231e+04 ,Time: 0.00\n",
            "Compute NTK...\n"
          ]
        },
        {
          "name": "stdout",
          "output_type": "stream",
          "text": [
            " adaptive_constant_bc:  103625440.0\n"
          ]
        },
        {
          "name": "stderr",
          "output_type": "stream",
          "text": [
            "It: 38100, Loss: 1.232e+04, Loss_bcs: 6.735e-09, Loss_res: 1.231e+04 ,Time: 0.00\n"
          ]
        },
        {
          "name": "stdout",
          "output_type": "stream",
          "text": [
            " adaptive_constant_bc:  103625440.0\n"
          ]
        },
        {
          "name": "stderr",
          "output_type": "stream",
          "text": [
            "Compute NTK...\n",
            "It: 38200, Loss: 1.232e+04, Loss_bcs: 6.735e-09, Loss_res: 1.231e+04 ,Time: 0.00\n",
            "Compute NTK...\n"
          ]
        },
        {
          "name": "stdout",
          "output_type": "stream",
          "text": [
            " adaptive_constant_bc:  103625440.0\n"
          ]
        },
        {
          "name": "stderr",
          "output_type": "stream",
          "text": [
            "It: 38300, Loss: 1.232e+04, Loss_bcs: 6.735e-09, Loss_res: 1.231e+04 ,Time: 0.00\n",
            "Compute NTK...\n"
          ]
        },
        {
          "name": "stdout",
          "output_type": "stream",
          "text": [
            " adaptive_constant_bc:  103625440.0\n"
          ]
        },
        {
          "name": "stderr",
          "output_type": "stream",
          "text": [
            "It: 38400, Loss: 1.232e+04, Loss_bcs: 6.735e-09, Loss_res: 1.231e+04 ,Time: 0.00\n",
            "Compute NTK...\n"
          ]
        },
        {
          "name": "stdout",
          "output_type": "stream",
          "text": [
            " adaptive_constant_bc:  103625440.0\n"
          ]
        },
        {
          "name": "stderr",
          "output_type": "stream",
          "text": [
            "It: 38500, Loss: 1.232e+04, Loss_bcs: 6.735e-09, Loss_res: 1.231e+04 ,Time: 0.00\n",
            "Compute NTK...\n"
          ]
        },
        {
          "name": "stdout",
          "output_type": "stream",
          "text": [
            " adaptive_constant_bc:  103625440.0\n"
          ]
        },
        {
          "name": "stderr",
          "output_type": "stream",
          "text": [
            "It: 38600, Loss: 1.232e+04, Loss_bcs: 6.735e-09, Loss_res: 1.231e+04 ,Time: 0.00\n",
            "Compute NTK...\n"
          ]
        },
        {
          "name": "stdout",
          "output_type": "stream",
          "text": [
            " adaptive_constant_bc:  103625440.0\n"
          ]
        },
        {
          "name": "stderr",
          "output_type": "stream",
          "text": [
            "It: 38700, Loss: 1.232e+04, Loss_bcs: 6.735e-09, Loss_res: 1.231e+04 ,Time: 0.00\n",
            "Compute NTK...\n"
          ]
        },
        {
          "name": "stdout",
          "output_type": "stream",
          "text": [
            " adaptive_constant_bc:  103625440.0\n"
          ]
        },
        {
          "name": "stderr",
          "output_type": "stream",
          "text": [
            "It: 38800, Loss: 1.232e+04, Loss_bcs: 6.735e-09, Loss_res: 1.231e+04 ,Time: 0.00\n",
            "Compute NTK...\n"
          ]
        },
        {
          "name": "stdout",
          "output_type": "stream",
          "text": [
            " adaptive_constant_bc:  103625440.0\n"
          ]
        },
        {
          "name": "stderr",
          "output_type": "stream",
          "text": [
            "It: 38900, Loss: 1.232e+04, Loss_bcs: 6.735e-09, Loss_res: 1.231e+04 ,Time: 0.00\n",
            "Compute NTK...\n"
          ]
        },
        {
          "name": "stdout",
          "output_type": "stream",
          "text": [
            " adaptive_constant_bc:  103625440.0\n"
          ]
        },
        {
          "name": "stderr",
          "output_type": "stream",
          "text": [
            "It: 39000, Loss: 1.232e+04, Loss_bcs: 6.735e-09, Loss_res: 1.231e+04 ,Time: 0.00\n",
            "Compute NTK...\n"
          ]
        },
        {
          "name": "stdout",
          "output_type": "stream",
          "text": [
            " adaptive_constant_bc:  103625440.0\n"
          ]
        },
        {
          "name": "stderr",
          "output_type": "stream",
          "text": [
            "It: 39100, Loss: 1.232e+04, Loss_bcs: 6.735e-09, Loss_res: 1.231e+04 ,Time: 0.00\n",
            "Compute NTK...\n"
          ]
        },
        {
          "name": "stdout",
          "output_type": "stream",
          "text": [
            " adaptive_constant_bc:  103625440.0\n"
          ]
        },
        {
          "name": "stderr",
          "output_type": "stream",
          "text": [
            "It: 39200, Loss: 1.232e+04, Loss_bcs: 6.735e-09, Loss_res: 1.231e+04 ,Time: 0.00\n",
            "Compute NTK...\n"
          ]
        },
        {
          "name": "stdout",
          "output_type": "stream",
          "text": [
            " adaptive_constant_bc:  103625440.0\n"
          ]
        },
        {
          "name": "stderr",
          "output_type": "stream",
          "text": [
            "It: 39300, Loss: 1.232e+04, Loss_bcs: 6.735e-09, Loss_res: 1.231e+04 ,Time: 0.00\n",
            "Compute NTK...\n"
          ]
        },
        {
          "name": "stdout",
          "output_type": "stream",
          "text": [
            " adaptive_constant_bc:  103625440.0\n"
          ]
        },
        {
          "name": "stderr",
          "output_type": "stream",
          "text": [
            "It: 39400, Loss: 1.232e+04, Loss_bcs: 6.735e-09, Loss_res: 1.231e+04 ,Time: 0.00\n",
            "Compute NTK...\n"
          ]
        },
        {
          "name": "stdout",
          "output_type": "stream",
          "text": [
            " adaptive_constant_bc:  103625440.0\n"
          ]
        },
        {
          "name": "stderr",
          "output_type": "stream",
          "text": [
            "It: 39500, Loss: 1.232e+04, Loss_bcs: 6.735e-09, Loss_res: 1.231e+04 ,Time: 0.00\n",
            "Compute NTK...\n"
          ]
        },
        {
          "name": "stdout",
          "output_type": "stream",
          "text": [
            " adaptive_constant_bc:  103625440.0\n"
          ]
        },
        {
          "name": "stderr",
          "output_type": "stream",
          "text": [
            "It: 39600, Loss: 1.232e+04, Loss_bcs: 6.735e-09, Loss_res: 1.231e+04 ,Time: 0.00\n",
            "Compute NTK...\n"
          ]
        },
        {
          "name": "stdout",
          "output_type": "stream",
          "text": [
            " adaptive_constant_bc:  103625440.0\n"
          ]
        },
        {
          "name": "stderr",
          "output_type": "stream",
          "text": [
            "It: 39700, Loss: 1.232e+04, Loss_bcs: 6.735e-09, Loss_res: 1.231e+04 ,Time: 0.00\n",
            "Compute NTK...\n"
          ]
        },
        {
          "name": "stdout",
          "output_type": "stream",
          "text": [
            " adaptive_constant_bc:  103625440.0\n"
          ]
        },
        {
          "name": "stderr",
          "output_type": "stream",
          "text": [
            "It: 39800, Loss: 1.232e+04, Loss_bcs: 6.735e-09, Loss_res: 1.231e+04 ,Time: 0.00\n",
            "Compute NTK...\n"
          ]
        },
        {
          "name": "stdout",
          "output_type": "stream",
          "text": [
            " adaptive_constant_bc:  103625440.0\n"
          ]
        },
        {
          "name": "stderr",
          "output_type": "stream",
          "text": [
            "It: 39900, Loss: 1.232e+04, Loss_bcs: 6.735e-09, Loss_res: 1.231e+04 ,Time: 0.00\n",
            "Compute NTK...\n"
          ]
        },
        {
          "name": "stdout",
          "output_type": "stream",
          "text": [
            " adaptive_constant_bc:  103625440.0\n"
          ]
        },
        {
          "name": "stderr",
          "output_type": "stream",
          "text": [
            "/home/afrah2/anaconda3/envs/twoPhase/lib/python3.7/site-packages/seaborn/distributions.py:2619: FutureWarning: `distplot` is a deprecated function and will be removed in a future version. Please adapt your code to use either `displot` (a figure-level function with similar flexibility) or `kdeplot` (an axes-level function for kernel density plots).\n",
            "  warnings.warn(msg, FutureWarning)\n",
            "/home/afrah2/anaconda3/envs/twoPhase/lib/python3.7/site-packages/seaborn/distributions.py:2619: FutureWarning: `distplot` is a deprecated function and will be removed in a future version. Please adapt your code to use either `displot` (a figure-level function with similar flexibility) or `kdeplot` (an axes-level function for kernel density plots).\n",
            "  warnings.warn(msg, FutureWarning)\n",
            "/home/afrah2/anaconda3/envs/twoPhase/lib/python3.7/site-packages/seaborn/distributions.py:2619: FutureWarning: `distplot` is a deprecated function and will be removed in a future version. Please adapt your code to use either `displot` (a figure-level function with similar flexibility) or `kdeplot` (an axes-level function for kernel density plots).\n",
            "  warnings.warn(msg, FutureWarning)\n",
            "/home/afrah2/anaconda3/envs/twoPhase/lib/python3.7/site-packages/seaborn/distributions.py:2619: FutureWarning: `distplot` is a deprecated function and will be removed in a future version. Please adapt your code to use either `displot` (a figure-level function with similar flexibility) or `kdeplot` (an axes-level function for kernel density plots).\n",
            "  warnings.warn(msg, FutureWarning)\n",
            "Gradients information stored ...\n",
            "It: 40000, Loss: 1.232e+04, Loss_bcs: 6.735e-09, Loss_res: 1.231e+04 ,Time: 0.35\n",
            "Compute NTK...\n"
          ]
        },
        {
          "name": "stdout",
          "output_type": "stream",
          "text": [
            " adaptive_constant_bc:  103625440.0\n"
          ]
        },
        {
          "name": "stderr",
          "output_type": "stream",
          "text": [
            "elapsed: 8.50e+01\n",
            "Relative L2 error_u: 1.01e+00\n",
            "Relative L2 error_r: 9.99e-01\n",
            "elapsed: 8.50e+01\n",
            "Relative L2 error_u: 1.01e+00\n",
            "Relative L2 error_v: 9.99e-01\n",
            "Save uv NN parameters successfully in %s ...checkpoints/Dec-10-2023_14-54-51-932833_M1\n",
            "Final loss total loss: 1.231515e+04\n",
            "Final loss loss_res: 1.231445e+04\n",
            "Final loss loss_bcs: 6.734612e-09\n"
          ]
        },
        {
          "name": "stdout",
          "output_type": "stream",
          "text": [
            "\n",
            "\n",
            "Method:  mini_batch\n",
            "\n",
            "average of time_list: 85.0093846321106\n",
            "average of error_u_list: 1.0143540366328248\n",
            "average of error_v_list: 0.9988180339266962\n"
          ]
        }
      ],
      "source": [
        "# Define computional domain\n",
        "bc1_coords = np.array([[0.0], [0.0]])\n",
        "bc2_coords = np.array([[1.0], [1.0]])\n",
        "dom_coords = np.array([[0.0], [1.0]])\n",
        "\n",
        "# Training data on u(x) -- Dirichlet boundary conditions\n",
        "\n",
        "nn  = 100\n",
        "\n",
        "X_bc1 = dom_coords[0, 0] * np.ones((nn // 2, 1))\n",
        "X_bc2 = dom_coords[1, 0] * np.ones((nn // 2, 1))\n",
        "X_u = np.vstack([X_bc1, X_bc2])\n",
        "Y_u = u(X_u, a)\n",
        "\n",
        "X_r = np.linspace(dom_coords[0, 0], dom_coords[1, 0], nn)[:, None]\n",
        "Y_r = u_xx(X_r, a)\n",
        "\n",
        "nn = 1000\n",
        "X_star = np.linspace(dom_coords[0, 0], dom_coords[1, 0], nn)[:, None]\n",
        "u_star = u(X_star, a)\n",
        "r_star = u_xx(X_star, a)\n",
        "\n",
        "nIter =40001\n",
        "bcbatch_size = 500\n",
        "ubatch_size = 5000\n",
        "mbbatch_size = 128\n",
        "\n",
        "\n",
        "\n",
        "# Define model\n",
        "mode = 'M1'\n",
        "layers = [1, 500, 1]\n",
        "\n",
        "\n",
        "\n",
        "iterations = 1\n",
        "methods = [ \"mini_batch\"]\n",
        "\n",
        "result_dict =  dict((mtd, []) for mtd in methods)\n",
        "\n",
        "for mtd in methods:\n",
        "    print(\"Method: \", mtd)\n",
        "    time_list = []\n",
        "    error_u_list = []\n",
        "    error_r_list = []\n",
        "    \n",
        "    for index in range(iterations):\n",
        "\n",
        "        print(\"Epoch: \", str(index+1))\n",
        "\n",
        "        # Create residual sampler\n",
        "        gpu_options = tf.GPUOptions(visible_device_list=\"0\")\n",
        "        tf.reset_default_graph()\n",
        "        with tf.Session(config=tf.ConfigProto(gpu_options=gpu_options,allow_soft_placement=False, log_device_placement=False)) as sess:\n",
        "\n",
        "            model = PINN(layers, X_u, Y_u, X_r, Y_r , mode , sess)    \n",
        "\n",
        "            # Train model\n",
        "            start_time = time.time()\n",
        "\n",
        "            if mtd ==\"full_batch\":\n",
        "                print(\"full_batch method is used\")\n",
        "                model.train(nIter  , bcbatch_size , ubatch_size  )\n",
        "            elif mtd ==\"mini_batch\":\n",
        "                print(\"mini_batch method is used\")\n",
        "                model.trainmb(nIter, mbbatch_size)\n",
        "            else:\n",
        "                print(\"unknown method!\")\n",
        "            elapsed = time.time() - start_time\n",
        "\n",
        "            # Predictions\n",
        "            u_pred = model.predict_u(X_star)\n",
        "            r_pred = model.predict_r(X_star)\n",
        "            # Predictions\n",
        "\n",
        " \n",
        "\n",
        "            error_u = np.linalg.norm(u_star - u_pred, 2) / np.linalg.norm(u_star, 2)\n",
        "            error_r = np.linalg.norm(r_star - r_pred, 2) / np.linalg.norm(r_star, 2)\n",
        "\n",
        "            model.print('elapsed: {:.2e}'.format(elapsed))\n",
        "\n",
        "            model.print('Relative L2 error_u: {:.2e}'.format(error_u))\n",
        "            model.print('Relative L2 error_r: {:.2e}'.format(error_r))\n",
        "\n",
        "\n",
        "            model.print('elapsed: {:.2e}'.format(elapsed))\n",
        "            model.print('Relative L2 error_u: {:.2e}'.format(error_u))\n",
        "            model.print('Relative L2 error_v: {:.2e}'.format(error_r))\n",
        "            \n",
        "            model.save_NN()\n",
        "            model.plot_ntk()\n",
        "            model.plot_grad()\n",
        "            model.plt_prediction( X_star , u_star , u_pred)\n",
        "            sess.close()  \n",
        "            \n",
        "        time_list.append(elapsed)\n",
        "        error_u_list.append(error_u)\n",
        "        error_r_list.append(error_r)\n",
        "\n",
        "    print(\"\\n\\nMethod: \", mtd)\n",
        "    print(\"\\naverage of time_list:\" , sum(time_list) / len(time_list) )\n",
        "    print(\"average of error_u_list:\" , sum(error_u_list) / len(error_u_list) )\n",
        "    print(\"average of error_v_list:\" , sum(error_r_list) / len(error_r_list) )\n",
        "\n",
        "    result_dict[mtd] = [time_list ,error_u_list ,error_r_list ]\n",
        "    # scipy.io.savemat(\"M2_result_\"+str(iterations)+\"_\"+mtd+\".mat\" , {'time_list':np.array(time_list),'error_u_list':np.array(error_u_list),'error_f_list':np.array(error_f_list)})\n",
        "\n",
        "    scipy.io.savemat(os.path.join(model.dirname,\"\"+mtd+\"_model\"+mode+\"_mb\"+str(mbbatch_size)+\"_fb\"+str(ubatch_size)+\"_bc\"+str(bcbatch_size)+\"_n\"+str(iterations)+\"_nIter\"+str(nIter)+\".mat\") , result_dict)\n",
        "\n",
        "\n"
      ]
    },
    {
      "cell_type": "code",
      "execution_count": 7,
      "metadata": {},
      "outputs": [
        {
          "data": {
            "image/png": "[encoded data removed]",
            "text/plain": [
              "<Figure size 1080x576 with 1 Axes>"
            ]
          },
          "metadata": {
            "needs_background": "light"
          },
          "output_type": "display_data"
        }
      ],
      "source": [
        "\n",
        "def plot_grad(self):\n",
        "\n",
        "    fig, ax = plt.subplots()\n",
        "    fig.set_size_inches([15,8])\n",
        "    ax.semilogy(self.mean_grad_res_list_log, label=r'$\\bar{\\nabla_\\theta \\mathcal{L}_{u_{phy}}}$')\n",
        "    ax.semilogy(self.mean_grad_bcs_list_log, label=r'$\\bar{\\nabla_\\theta \\mathcal{L}_{u_{bc}}}$')\n",
        "\n",
        "    ax.set_xlabel(\"epochs\", fontsize=15)\n",
        "    ax.set_ylabel(\"loss\", fontsize=15)\n",
        "    ax.tick_params(labelsize=15)\n",
        "    ax.legend()\n",
        "    path = os.path.join(self.dirname,'grad_history.png')\n",
        "    plt.savefig(path)\n",
        "\n",
        "plot_grad(model)"
      ]
    },
    {
      "cell_type": "code",
      "execution_count": null,
      "metadata": {},
      "outputs": [],
      "source": [
        "# Define model\n",
        "layers = [1, 512, 1]  \n",
        "# layers = [1, 512, 512, 512, 1]  \n"
      ]
    },
    {
      "cell_type": "code",
      "execution_count": null,
      "metadata": {
        "colab": {
          "base_uri": "https://localhost:8080/",
          "height": 369
        },
        "id": "Fw807UNzhu5z",
        "outputId": "929ae89c-3e10-4c56-e349-051441e8ab32"
      },
      "outputs": [],
      "source": [
        "loss_bcs = model.loss_bcs_log\n",
        "loss_res = model.loss_res_log\n",
        "\n",
        "fig = plt.figure(figsize=(6,5))\n",
        "plt.plot(loss_res, label='$\\mathcal{L}_{r}$')\n",
        "plt.plot(loss_bcs, label='$\\mathcal{L}_{b}$')\n",
        "plt.yscale('log')\n",
        "plt.xlabel('iterations')\n",
        "plt.ylabel('Loss')\n",
        "plt.legend()\n",
        "plt.tight_layout()\n",
        "plt.show()"
      ]
    },
    {
      "cell_type": "markdown",
      "metadata": {
        "id": "TFLIBq5xjZ3v"
      },
      "source": [
        "**Model Prediction**"
      ]
    },
    {
      "cell_type": "code",
      "execution_count": null,
      "metadata": {
        "colab": {
          "base_uri": "https://localhost:8080/"
        },
        "id": "To0PDN17cc0v",
        "outputId": "7284b31e-f2fe-41ab-93a9-4c2c91f94cde"
      },
      "outputs": [],
      "source": []
    },
    {
      "cell_type": "code",
      "execution_count": null,
      "metadata": {
        "colab": {
          "base_uri": "https://localhost:8080/",
          "height": 369
        },
        "id": "K428lOuXhdc8",
        "outputId": "b1e23055-178c-400c-8972-f3e7987e0892"
      },
      "outputs": [],
      "source": []
    },
    {
      "cell_type": "markdown",
      "metadata": {
        "id": "9EYdfKGLj6h0"
      },
      "source": [
        "**NTK Eigenvalues**"
      ]
    },
    {
      "cell_type": "code",
      "execution_count": null,
      "metadata": {
        "id": "e3dByeQjhBYj"
      },
      "outputs": [],
      "source": []
    },
    {
      "cell_type": "code",
      "execution_count": null,
      "metadata": {
        "colab": {
          "base_uri": "https://localhost:8080/",
          "height": 369
        },
        "id": "vSn3Q_1IhisN",
        "outputId": "4c713f42-11b2-4de9-8698-085eb54c164d"
      },
      "outputs": [],
      "source": []
    },
    {
      "cell_type": "markdown",
      "metadata": {
        "id": "pIS5UH81kOxT"
      },
      "source": [
        "**Change of NTK**"
      ]
    },
    {
      "cell_type": "code",
      "execution_count": null,
      "metadata": {
        "id": "wF4Q_iZshQ-0"
      },
      "outputs": [],
      "source": [
        "# Change of the NTK\n",
        "NTK_change_list = []\n",
        "K0 = K_list[0]\n",
        "for K in K_list:\n",
        "    diff = np.linalg.norm(K - K0) / np.linalg.norm(K0) \n",
        "    NTK_change_list.append(diff)"
      ]
    },
    {
      "cell_type": "code",
      "execution_count": null,
      "metadata": {
        "colab": {
          "base_uri": "https://localhost:8080/",
          "height": 338
        },
        "id": "E-_gPGpCkF4n",
        "outputId": "9893e038-907d-4425-bb6e-8ecdb2ad497d"
      },
      "outputs": [],
      "source": [
        "fig = plt.figure(figsize=(6,5))\n",
        "plt.plot(NTK_change_list)"
      ]
    },
    {
      "cell_type": "markdown",
      "metadata": {
        "id": "Mg0ZGHbAkW6N"
      },
      "source": [
        "\n",
        "**Change of NN Params**"
      ]
    },
    {
      "cell_type": "code",
      "execution_count": null,
      "metadata": {
        "id": "LLGv9JUuioVZ"
      },
      "outputs": [],
      "source": [
        "# Change of the weights and biases\n",
        "def compute_weights_diff(weights_1, weights_2):\n",
        "    weights = []\n",
        "    N = len(weights_1)\n",
        "    for k in range(N):\n",
        "        weight = weights_1[k] - weights_2[k]\n",
        "        weights.append(weight)\n",
        "    return weights\n",
        "\n",
        "def compute_weights_norm(weights, biases):\n",
        "    norm = 0\n",
        "    for w in weights:\n",
        "        norm = norm + np.sum(np.square(w))\n",
        "    for b in biases:\n",
        "        norm = norm + np.sum(np.square(b))\n",
        "    norm = np.sqrt(norm)\n",
        "    return norm\n",
        "\n",
        "# Restore the list weights and biases\n",
        "weights_log = model.weights_log\n",
        "biases_log = model.biases_log\n",
        "\n",
        "weights_0 = weights_log[0]\n",
        "biases_0 = biases_log[0]\n",
        "\n",
        "# Norm of the weights at initialization\n",
        "weights_init_norm = compute_weights_norm(weights_0, biases_0)\n",
        "\n",
        "weights_change_list = []\n",
        "\n",
        "N = len(weights_log)\n",
        "for k in range(N):\n",
        "    weights_diff = compute_weights_diff(weights_log[k], weights_log[0])\n",
        "    biases_diff = compute_weights_diff(biases_log[k], biases_log[0])\n",
        "    \n",
        "    weights_diff_norm = compute_weights_norm(weights_diff, biases_diff)\n",
        "    weights_change = weights_diff_norm / weights_init_norm\n",
        "    weights_change_list.append(weights_change)"
      ]
    },
    {
      "cell_type": "code",
      "execution_count": null,
      "metadata": {
        "colab": {
          "base_uri": "https://localhost:8080/",
          "height": 338
        },
        "id": "5NLsAxgzi4KH",
        "outputId": "74d92bf9-0dde-438e-e9b3-a551904f4e2f"
      },
      "outputs": [],
      "source": [
        "fig = plt.figure(figsize=(6,5))\n",
        "plt.plot(weights_change_list)"
      ]
    },
    {
      "cell_type": "code",
      "execution_count": null,
      "metadata": {
        "id": "MYbzkhfMjJ8k"
      },
      "outputs": [],
      "source": []
    }
  ],
  "metadata": {
    "accelerator": "GPU",
    "colab": {
      "name": "PINNsNTK_Poisson.ipynb",
      "provenance": []
    },
    "kernelspec": {
      "display_name": "Python 3",
      "name": "python3"
    },
    "language_info": {
      "codemirror_mode": {
        "name": "ipython",
        "version": 3
      },
      "file_extension": ".py",
      "mimetype": "text/x-python",
      "name": "python",
      "nbconvert_exporter": "python",
      "pygments_lexer": "ipython3",
      "version": "3.7.13"
    }
  },
  "nbformat": 4,
  "nbformat_minor": 0
}
