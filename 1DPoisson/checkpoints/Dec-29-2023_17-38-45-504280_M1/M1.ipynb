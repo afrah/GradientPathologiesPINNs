{
  "cells": [
    {
      "cell_type": "code",
      "execution_count": null,
      "metadata": {
        "colab": {
          "base_uri": "https://localhost:8080/"
        },
        "id": "OybZJApDYGsi",
        "outputId": "dc7cdffa-8613-42ee-86cc-0bc5000b2998"
      },
      "outputs": [],
      "source": [
        "# # Switch to tensorflow 1.x\n",
        "# %tensorflow_version 1.x"
      ]
    },
    {
      "cell_type": "code",
      "execution_count": 1,
      "metadata": {
        "id": "7WkCgnRiYQSY"
      },
      "outputs": [],
      "source": [
        "import tensorflow as tf\n",
        "from Compute_Jacobian import jacobian # Please download 'Compute_Jacobian.py' in the repository \n",
        "import numpy as np\n",
        "import timeit\n",
        "from scipy.interpolate import griddata\n",
        "import seaborn as sns\n",
        "import matplotlib.pyplot as plt\n",
        "import pandas as pd\n",
        "import os\n",
        "\n",
        "os.environ[\"KMP_WARNINGS\"] = \"FALSE\" \n",
        "import timeit\n",
        "\n",
        "import sys\n",
        "\n",
        "import scipy\n",
        "import scipy.io\n",
        "import time\n",
        "import logging\n",
        "\n",
        "import os.path\n",
        "import shutil\n",
        "from datetime import datetime\n",
        "import pickle\n"
      ]
    },
    {
      "cell_type": "code",
      "execution_count": 2,
      "metadata": {
        "id": "-y7cHTcJfBTR"
      },
      "outputs": [],
      "source": [
        "class Sampler:\n",
        "    # Initialize the class\n",
        "    def __init__(self, dim, coords, func, name=None):\n",
        "        self.dim = dim\n",
        "        self.coords = coords\n",
        "        self.func = func\n",
        "        self.name = name\n",
        "\n",
        "    def sample(self, N):\n",
        "        x = self.coords[0:1, :] + (self.coords[1:2, :] - self.coords[0:1, :]) * np.random.rand(N, self.dim)\n",
        "        y = self.func(x)\n",
        "        return x, y"
      ]
    },
    {
      "cell_type": "code",
      "execution_count": 3,
      "metadata": {
        "id": "SDqDWN3nfSAg"
      },
      "outputs": [],
      "source": [
        "class PINN:\n",
        "    def __init__(self, layers, X_u, Y_u, X_r, Y_r ,mode ,  sess):\n",
        "\n",
        "\n",
        "        self.mode = mode\n",
        "\n",
        "        self.dirname, logpath = self.make_output_dir()\n",
        "        self.logger = self.get_logger(logpath)     \n",
        "\n",
        "        self.mu_X, self.sigma_X = X_r.mean(0), X_r.std(0)\n",
        "        self.mu_x, self.sigma_x = self.mu_X[0], self.sigma_X[0]\n",
        "\n",
        "        # Normalize\n",
        "        self.X_u = (X_u - self.mu_X) / self.sigma_X\n",
        "        self.Y_u = Y_u\n",
        "        self.X_r = (X_r - self.mu_X) / self.sigma_X\n",
        "        self.Y_r = Y_r\n",
        "\n",
        "        # Initialize network weights and biases\n",
        "        self.layers = layers\n",
        "        self.weights, self.biases = self.initialize_NN(layers)\n",
        "            \n",
        "        # Define the size of the Kernel\n",
        "        self.kernel_size = X_u.shape[0]\n",
        "        # Define Tensorflow session\n",
        "        self.sess = sess# tf.Session(config=tf.ConfigProto(log_device_placement=False))\n",
        "\n",
        "        self.lam_bc =  np.array(1.0)\n",
        "        # self.lam_bc_tf = tf.placeholder(tf.float32, shape=self.lam_bc.shape)\n",
        "        self.lam_bc_tf = tf.placeholder(tf.float32, shape=self.lam_bc.shape)\n",
        "\n",
        "        # Define placeholders and computational graph\n",
        "        self.x_u_tf = tf.placeholder(tf.float32, shape=(None, 1))\n",
        "        self.u_tf = tf.placeholder(tf.float32, shape=(None, 1))\n",
        "\n",
        "        self.x_bc_tf = tf.placeholder(tf.float32, shape=(None, 1))\n",
        "        self.u_bc_tf = tf.placeholder(tf.float32, shape=(None, 1))\n",
        "\n",
        "        self.x_r_tf = tf.placeholder(tf.float32, shape=(None, 1))\n",
        "        self.r_tf = tf.placeholder(tf.float32, shape=(None, 1))\n",
        "        \n",
        "        self.x_u_ntk_tf = tf.placeholder(tf.float32, shape=(self.kernel_size, 1))\n",
        "        self.x_r_ntk_tf = tf.placeholder(tf.float32, shape=(self.kernel_size, 1))\n",
        "\n",
        "\n",
        "        # Evaluate predictions\n",
        "        self.u_bc_pred = self.net_u(self.x_bc_tf)\n",
        "\n",
        "        self.u_pred = self.net_u(self.x_u_tf)\n",
        "        self.r_pred = self.net_r(self.x_r_tf)\n",
        "        \n",
        "        self.u_ntk_pred = self.net_u(self.x_u_ntk_tf)\n",
        "        self.r_ntk_pred = self.net_r(self.x_r_ntk_tf)\n",
        "     \n",
        "        # Boundary loss\n",
        "        self.loss_bcs = tf.reduce_mean(tf.square(self.u_bc_pred - self.u_bc_tf))\n",
        "\n",
        "        # Residual loss        \n",
        "        self.loss_res =  tf.reduce_mean(tf.square(self.r_tf - self.r_pred))\n",
        "        \n",
        "        # Total loss\n",
        "        self.loss = self.loss_res + self.loss_bcs\n",
        "\n",
        "        # Define optimizer with learning rate schedule\n",
        "        self.global_step = tf.Variable(0, trainable=False)\n",
        "        starter_learning_rate = 1e-5\n",
        "        self.learning_rate = tf.train.exponential_decay(starter_learning_rate, self.global_step, 1000, 0.9, staircase=False)\n",
        "        # Passing global_step to minimize() will increment it at each step.\n",
        "        # To compute NTK, it is better to use SGD optimizer\n",
        "        # since the corresponding gradient flow is not exactly same.\n",
        "        # self.train_op = tf.train.GradientDescentOptimizer(starter_learning_rate).minimize(self.loss)\n",
        "        self.train_op = tf.train.AdamOptimizer(self.learning_rate).minimize(self.loss, global_step=self.global_step)\n",
        "\n",
        "\n",
        "        \n",
        "        # Compute the Jacobian for weights and biases in each hidden layer  \n",
        "        self.J_u = self.compute_jacobian(self.u_ntk_pred) \n",
        "        self.J_r = self.compute_jacobian(self.r_ntk_pred)\n",
        "        \n",
        "        # The empirical NTK = J J^T, compute NTK of PINNs \n",
        "        self.K_uu = self.compute_ntk(self.J_u, self.x_u_ntk_tf, self.J_u, self.x_u_ntk_tf)\n",
        "        self.K_ur = self.compute_ntk(self.J_u, self.x_u_ntk_tf, self.J_r, self.x_r_ntk_tf)\n",
        "        self.K_rr = self.compute_ntk(self.J_r, self.x_r_ntk_tf, self.J_r, self.x_r_ntk_tf)\n",
        "        \n",
        "        # Logger\n",
        "        # Loss logger\n",
        "        self.loss_bcs_log = []\n",
        "        self.loss_res_log = []\n",
        "\n",
        "        # NTK logger \n",
        "        self.K_uu_log = []\n",
        "        self.K_rr_log = []\n",
        "        self.K_ur_log = []\n",
        "        \n",
        "        # Weights logger \n",
        "        self.weights_log = []\n",
        "        self.biases_log = []\n",
        "       # Gradients Storage\n",
        "\n",
        "\n",
        "\n",
        "        # Generate dicts for gradients storage\n",
        "        self.dict_gradients_res_layers = self.generate_grad_dict()\n",
        "        self.dict_gradients_bc_layers = self.generate_grad_dict()\n",
        "\n",
        "        self.grad_res = []\n",
        "        self.grad_bc = []\n",
        "        self.grad_res_list = []\n",
        "        self.grad_bc_list = []\n",
        "\n",
        "        for i in range(len(self.layers)-1):\n",
        "            self.grad_res.append(tf.gradients(self.loss_res, self.weights[i])[0])\n",
        "            self.grad_bc.append(tf.gradients(self.loss_bcs, self.weights[i])[0])\n",
        "\n",
        "\n",
        "        self.adaptive_constant_bcs_log = []\n",
        "\n",
        "        self.mean_grad_res_list = []\n",
        "        self.mean_grad_bcs_list = []\n",
        "    \n",
        "        self.mean_grad_res_list_log = []\n",
        "        self.mean_grad_bcs_list_log = []\n",
        "\n",
        "        for i in range(1 , len(self.layers) -2):\n",
        "            self.mean_grad_res_list.append(tf.math.reduce_mean(tf.abs(self.grad_res[i]))) \n",
        "            self.mean_grad_bcs_list.append(tf.math.reduce_mean(tf.abs(self.grad_bc[i])))\n",
        "        \n",
        "        self.mean_grad_res = tf.math.reduce_mean(tf.stack(self.mean_grad_res_list))\n",
        "        self.mean_grad_bcs = tf.math.reduce_mean(tf.stack(self.mean_grad_bcs_list))\n",
        "    \n",
        "\n",
        "        # for i in range(1 , len(self.layers) - 2):\n",
        "        #     self.grad_res_list.append(tf.reduce_mean(tf.abs(self.grad_bc[i])))\n",
        "        #     self.grad_bc_list.append(tf.reduce_mean(tf.abs(self.grad_res[i])))\n",
        "\n",
        "        self.loss_tensor_list = [self.loss ,  self.loss_res,  self.loss_bcs] \n",
        "        self.loss_list = [\"total loss\" , \"loss_res\" , \"loss_bcs\"] \n",
        "\n",
        "        self.epoch_loss = dict.fromkeys(self.loss_list, 0)\n",
        "        self.loss_history = dict((loss, []) for loss in self.loss_list)\n",
        "        \n",
        "\n",
        "        # Initialize Tensorflow variables\n",
        "        init = tf.global_variables_initializer()\n",
        "\n",
        "        self.sess.run(init)\n",
        "        \n",
        "\n",
        "###############################################################################################################\n",
        "\n",
        "    def generate_grad_dict(self):\n",
        "        num = len(self.layers) - 1\n",
        "        grad_dict = {}\n",
        "        for i in range(num):\n",
        "            grad_dict['layer_{}'.format(i + 1)] = []\n",
        "        return grad_dict\n",
        "\n",
        "    # Xavier initialization\n",
        "    def xavier_init(self, size):\n",
        "        in_dim = size[0]\n",
        "        out_dim = size[1]\n",
        "        xavier_stddev = 1. / np.sqrt((in_dim + out_dim) / 2.)\n",
        "        return tf.Variable(tf.random.normal([in_dim, out_dim], dtype=tf.float32) * xavier_stddev,\n",
        "                           dtype=tf.float32)\n",
        "    \n",
        "    # NTK initialization\n",
        "    def NTK_init(self, size):\n",
        "        in_dim = size[0]\n",
        "        out_dim = size[1]\n",
        "        std = 1. / np.sqrt(in_dim)\n",
        "        return tf.Variable(tf.random.normal([in_dim, out_dim], dtype=tf.float32) * std,\n",
        "                           dtype=tf.float32)\n",
        "\n",
        "     # Initialize network weights and biases using Xavier initialization\n",
        "    def initialize_NN(self, layers):\n",
        "        weights = []\n",
        "        biases = []\n",
        "        num_layers = len(layers)\n",
        "        for l in range(0, num_layers - 1):\n",
        "            W = self.NTK_init(size=[layers[l], layers[l + 1]])\n",
        "            b = tf.Variable(tf.random.normal([1, layers[l + 1]], dtype=tf.float32), dtype=tf.float32)\n",
        "            weights.append(W)\n",
        "            biases.append(b)\n",
        "        return weights, biases\n",
        "\n",
        "    # Evaluates the forward pass\n",
        "    def forward_pass(self, H):\n",
        "        num_layers = len(self.layers)\n",
        "        for l in range(0, num_layers - 2):\n",
        "            W = self.weights[l]\n",
        "            b = self.biases[l]\n",
        "            H = tf.nn.tanh(tf.add(tf.matmul(H, W), b))\n",
        "        W = self.weights[-1]\n",
        "        b = self.biases[-1]\n",
        "        H = tf.add(tf.matmul(H, W), b)\n",
        "        return H\n",
        "\n",
        "    # Evaluates the PDE solution\n",
        "    def net_u(self, x):\n",
        "        u = self.forward_pass(x)\n",
        "        return u\n",
        "\n",
        "    # Forward pass for the residual\n",
        "    def net_r(self, x):\n",
        "        u = self.net_u(x)\n",
        "\n",
        "        u_x = tf.gradients(u, x)[0] / self.sigma_x\n",
        "        u_xx = tf.gradients(u_x, x)[0] / self.sigma_x\n",
        "\n",
        "        res_u = u_xx\n",
        "        return res_u\n",
        "    \n",
        "    # Compute Jacobian for each weights and biases in each layer and retrun a list \n",
        "    def compute_jacobian(self, f):\n",
        "        J_list =[]\n",
        "        L = len(self.weights)    \n",
        "        for i in range(L):\n",
        "            J_w = jacobian(f, self.weights[i])\n",
        "            J_list.append(J_w)\n",
        "     \n",
        "        for i in range(L):\n",
        "            J_b = jacobian(f, self.biases[i])\n",
        "            J_list.append(J_b)\n",
        "        return J_list\n",
        "    \n",
        "    # Compute the empirical NTK = J J^T\n",
        "    def compute_ntk(self, J1_list, x1, J2_list, x2):\n",
        "        D = x1.shape[0]\n",
        "        N = len(J1_list)\n",
        "        \n",
        "        Ker = tf.zeros((D,D))\n",
        "        for k in range(N):\n",
        "            J1 = tf.reshape(J1_list[k], shape=(D,-1))\n",
        "            J2 = tf.reshape(J2_list[k], shape=(D,-1))\n",
        "            \n",
        "            K = tf.matmul(J1, tf.transpose(J2))\n",
        "            Ker = Ker + K\n",
        "        return Ker\n",
        "            \n",
        " \n",
        "\n",
        "    def lambda_balance(self  , term  ):\n",
        "        histoy_mean =  np.mean(self.loss_history[term])\n",
        "        m = 3 #len(self.loss_list)\n",
        "        num = np.exp(  np.mean(self.loss_history[term][-99::]) )#/(self.T * histoy_mean)) np.exp( )\n",
        "        denum = 0 \n",
        "        loss_list = [ \"loss_res\" , \"loss_bcs\"] \n",
        "\n",
        "        for  key in loss_list:\n",
        "            denum +=  np.exp(   np.mean(self.loss_history[key][-99::]) +1e-8)# /(self.T * histoy_mean))  np.exp(self.loss_history[key][-1] )\n",
        "        return m * (num / denum)\n",
        "    \n",
        "    # Trains the model by minimizing the MSE loss\n",
        "    def trainmb(self, nIter=10000, batch_size=128, log_NTK=True, log_weights=True):\n",
        "\n",
        "\n",
        "        itValues = [1,100,1000,39999]\n",
        "        start_time = timeit.default_timer()\n",
        "        for it in range(nIter):\n",
        "            # Fetch boundary mini-batches\n",
        "            # Define a dictionary for associating placeholders with data\n",
        "            tf_dict = {self.x_bc_tf: self.X_u, self.u_bc_tf: self.Y_u,\n",
        "                       self.x_u_tf: self.X_u, self.x_r_tf: self.X_r,\n",
        "                       self.r_tf: self.Y_r,\n",
        "                       self.lam_bc_tf : self.lam_bc\n",
        "                       }\n",
        "        \n",
        "            # Run the Tensorflow session to minimize the loss\n",
        "\n",
        "            # print(self.lam_bc_tf.shape)\n",
        "            _, batch_losses = self.sess.run([self.train_op, self.loss_tensor_list] ,tf_dict)\n",
        "            self.assign_batch_losses(batch_losses)\n",
        "            for key in self.loss_history:\n",
        "                self.loss_history[key].append(self.epoch_loss[key])\n",
        "            \n",
        "            # self.print\n",
        "            if it % 100 == 0:\n",
        "                elapsed = timeit.default_timer() - start_time\n",
        "                [loss ,  loss_res,  loss_bcs]  = batch_losses\n",
        "\n",
        "\n",
        "                self.print('It: %d, Loss: %.3e, Loss_bcs: %.3e, Loss_res: %.3e ,Time: %.2f' %  (it, loss, loss_bcs, loss_res, elapsed))\n",
        "                \n",
        "\n",
        "                update_res = self.lambda_balance( \"loss_res\"  )\n",
        "                update_bcs = self.lambda_balance( \"loss_bcs\"  )\n",
        "                \n",
        "                self.print('update_res: {:.3e}'.format( update_res))\n",
        "                self.print('update_bcs1: {:.3e}'.format( update_bcs))\n",
        "            \n",
        "            # provide x, x' for NTK\n",
        "            if it % 100 == 0:\n",
        "                mean_grad_bcs , mean_grad_res = self.sess.run([self.mean_grad_bcs , self.mean_grad_res],  tf_dict)\n",
        "\n",
        "                self.lam_bc = mean_grad_res / (mean_grad_bcs  +1e-8 )\n",
        "\n",
        "                print(\"adaptive_constant_bc: \" ,  self.lam_bc)    \n",
        "                self.mean_grad_bcs_list_log.append(mean_grad_bcs)\n",
        "                self.mean_grad_res_list_log.append(mean_grad_res)\n",
        "\n",
        "                self.adaptive_constant_bcs_log.append(self.lam_bc)\n",
        "                # self.print(\"Compute NTK...\")\n",
        "                # tf_dict2 = {self.x_u_ntk_tf: self.X_u, \n",
        "                #            self.x_r_ntk_tf: self.X_r\n",
        "                #            }\n",
        "                # K_uu_value, K_ur_value, K_rr_value = self.sess.run([self.K_uu,  self.K_ur,  self.K_rr], tf_dict2)\n",
        "                # self.K_uu_log.append(K_uu_value)\n",
        "                # self.K_ur_log.append(K_ur_value)\n",
        "                # self.K_rr_log.append(K_rr_value)\n",
        "\n",
        "            start_time = timeit.default_timer()\n",
        "\n",
        "            if it in itValues:\n",
        "                    self.plot_layerLoss(tf_dict , it)\n",
        "                    self.print(\"Gradients information stored ...\")\n",
        "\n",
        "            sys.stdout.flush()\n",
        "  \n",
        "    # Evaluates predictions at test points\n",
        "    def predict_u(self, X_star):\n",
        "        X_star = (X_star - self.mu_X) / self.sigma_X\n",
        "        tf_dict = {self.x_u_tf: X_star}\n",
        "        u_star = self.sess.run(self.u_pred, tf_dict)\n",
        "        return u_star\n",
        "\n",
        "    # Evaluates predictions at test points\n",
        "    def predict_r(self, X_star):\n",
        "        X_star = (X_star - self.mu_X) / self.sigma_X\n",
        "        tf_dict = {self.x_r_tf: X_star}\n",
        "        r_star = self.sess.run(self.r_pred, tf_dict)\n",
        "        return r_star\n",
        " ############################################################\n",
        "\n",
        "    def assign_batch_losses(self, batch_losses):\n",
        "        for loss_values, key in zip(batch_losses, self.epoch_loss):\n",
        "            self.epoch_loss[key] = loss_values\n",
        "\n",
        "  ############################################################\n",
        "###################################################################################################################\n",
        "\n",
        "\n",
        "    def plot_layerLoss(self , tf_dict , epoch):\n",
        "        ## Gradients #\n",
        "        num_layers = len(self.layers)\n",
        "        for i in range(num_layers - 1):\n",
        "            grad_res, grad_bc  = self.sess.run([ self.grad_res[i],self.grad_bc[i]], feed_dict=tf_dict)\n",
        "\n",
        "            # save gradients of loss_r and loss_u\n",
        "            self.dict_gradients_res_layers['layer_' + str(i + 1)].append(grad_res.flatten())\n",
        "            self.dict_gradients_bc_layers['layer_' + str(i + 1)].append(grad_bc.flatten())\n",
        "\n",
        "        num_hidden_layers = num_layers -1\n",
        "        cnt = 1\n",
        "        fig = plt.figure(4, figsize=(13, 4))\n",
        "        for j in range(num_hidden_layers):\n",
        "            ax = plt.subplot(1, num_hidden_layers, cnt)\n",
        "            ax.set_title('Layer {}'.format(j + 1))\n",
        "            ax.set_yscale('symlog')\n",
        "            gradients_res = self.dict_gradients_res_layers['layer_' + str(j + 1)][-1]\n",
        "            gradients_bc = self.dict_gradients_bc_layers['layer_' + str(j + 1)][-1]\n",
        "\n",
        "            sns.distplot(gradients_res, hist=False,kde_kws={\"shade\": False},norm_hist=True,  label=r'$\\nabla_\\theta \\mathcal{L}_r$')\n",
        "\n",
        "            sns.distplot(gradients_bc, hist=False,kde_kws={\"shade\": False},norm_hist=True,   label=r'$\\nabla_\\theta \\mathcal{L}_{u_{bc}}$')\n",
        "\n",
        "            #ax.get_legend().remove()\n",
        "            ax.set_xlim([-1.0, 1.0])\n",
        "            #ax.set_ylim([0, 150])\n",
        "            cnt += 1\n",
        "        handles, labels = ax.get_legend_handles_labels()\n",
        "\n",
        "        fig.legend(handles, labels, loc=\"center\",  bbox_to_anchor=(0.5, -0.03),borderaxespad=0,bbox_transform=fig.transFigure, ncol=2)\n",
        "        text = 'layerLoss_epoch' + str(epoch) +'.png'\n",
        "        plt.savefig(os.path.join(self.dirname,text) , bbox_inches='tight')\n",
        "        plt.close(\"all\")\n",
        "\n",
        "    # #########################\n",
        "    # def make_output_dir(self):\n",
        "        \n",
        "    #     if not os.path.exists(\"/okyanus/users/afarea/PINN/Adaptive_PINN/IB_PINN/checkpoints\"):\n",
        "    #         os.mkdir(\"/okyanus/users/afarea/PINN/Adaptive_PINN/IB_PINN/checkpoints\")\n",
        "    #     dirname = os.path.join(\"/okyanus/users/afarea/PINN/Adaptive_PINN/IB_PINN/checkpoints\", datetime.now().strftime(\"%b-%d-%Y_%H-%M-%S-%f_\") + self.mode)\n",
        "    #     os.mkdir(dirname)\n",
        "    #     text = 'output.log'\n",
        "    #     logpath = os.path.join(dirname, text)\n",
        "    #     shutil.copyfile('/okyanus/users/afarea/PINN/Adaptive_PINN/IB_PINN/M2.py', os.path.join(dirname, 'M2.py'))\n",
        "\n",
        "    #     return dirname, logpath\n",
        "    \n",
        "    # # ###########################################################\n",
        "    def make_output_dir(self):\n",
        "        \n",
        "        if not os.path.exists(\"checkpoints\"):\n",
        "            os.mkdir(\"checkpoints\")\n",
        "        dirname = os.path.join(\"checkpoints\", datetime.now().strftime(\"%b-%d-%Y_%H-%M-%S-%f_\") + self.mode)\n",
        "        os.mkdir(dirname)\n",
        "        text = 'output.log'\n",
        "        logpath = os.path.join(dirname, text)\n",
        "        shutil.copyfile('M1.ipynb', os.path.join(dirname, 'M1.ipynb'))\n",
        "        return dirname, logpath\n",
        "    \n",
        "\n",
        "    def get_logger(self, logpath):\n",
        "        logger = logging.getLogger(__name__)\n",
        "        logger.setLevel(logging.DEBUG)\n",
        "        sh = logging.StreamHandler()\n",
        "        sh.setLevel(logging.DEBUG)        \n",
        "        sh.setFormatter(logging.Formatter('%(message)s'))\n",
        "        fh = logging.FileHandler(logpath)\n",
        "        logger.addHandler(sh)\n",
        "        logger.addHandler(fh)\n",
        "        return logger\n",
        "    \n",
        "    def print(self, *args):\n",
        "        for word in args:\n",
        "            if len(args) == 1:\n",
        "                self.logger.info(word)\n",
        "            elif word != args[-1]:\n",
        "                for handler in self.logger.handlers:\n",
        "                    handler.terminator = \"\"\n",
        "                if type(word) == float or type(word) == np.float64 or type(word) == np.float32: \n",
        "                    self.logger.info(\"%.4e\" % (word))\n",
        "                else:\n",
        "                    self.logger.info(word)\n",
        "            else:\n",
        "                for handler in self.logger.handlers:\n",
        "                    handler.terminator = \"\\n\"\n",
        "                if type(word) == float or type(word) == np.float64 or type(word) == np.float32:\n",
        "                    self.logger.info(\"%.4e\" % (word))\n",
        "                else:\n",
        "                    self.logger.info(word)\n",
        "\n",
        "\n",
        "    def plot_loss_history(self , path):\n",
        "\n",
        "        fig, ax = plt.subplots()\n",
        "        fig.set_size_inches([15,8])\n",
        "        for key in self.loss_history:\n",
        "            self.print(\"Final loss %s: %e\" % (key, self.loss_history[key][-1]))\n",
        "            ax.semilogy(self.loss_history[key], label=key)\n",
        "        ax.set_xlabel(\"epochs\", fontsize=15)\n",
        "        ax.set_ylabel(\"loss\", fontsize=15)\n",
        "        ax.tick_params(labelsize=15)\n",
        "        ax.legend()\n",
        "        plt.savefig(path)\n",
        "        #plt.show()\n",
        "       #######################\n",
        "    def save_NN(self):\n",
        "\n",
        "        uv_weights = self.sess.run(self.weights)\n",
        "        uv_biases = self.sess.run(self.biases)\n",
        "\n",
        "        with open(os.path.join(self.dirname,'model.pickle'), 'wb') as f:\n",
        "            pickle.dump([uv_weights, uv_biases], f)\n",
        "            self.print(\"Save uv NN parameters successfully in %s ...\" , self.dirname)\n",
        "\n",
        "        # with open(os.path.join(self.dirname,'loss_history_BFS.pickle'), 'wb') as f:\n",
        "        #     pickle.dump(self.loss_rec, f)\n",
        "        with open(os.path.join(self.dirname,'loss_history_BFS.png'), 'wb') as f:\n",
        "            self.plot_loss_history(f)\n",
        "\n",
        "        return self.dirname\n",
        "    \n",
        "    def plot_ntk(self):\n",
        "        # Create empty lists for storing the eigenvalues of NTK\n",
        "        lambda_K_log = []\n",
        "        lambda_K_uu_log = []\n",
        "        lambda_K_ur_log = []\n",
        "        lambda_K_rr_log = []\n",
        "\n",
        "        # Restore the NTK\n",
        "        K_uu_list = self.K_uu_log\n",
        "        K_ur_list = self.K_ur_log\n",
        "        K_rr_list = self.K_rr_log\n",
        "        K_list = []\n",
        "            \n",
        "        for k in range(len(K_uu_list)):\n",
        "            K_uu = K_uu_list[k]\n",
        "            K_ur = K_ur_list[k]\n",
        "            K_rr = K_rr_list[k]\n",
        "            \n",
        "            K = np.concatenate([np.concatenate([K_uu, K_ur], axis = 1), np.concatenate([K_ur.T, K_rr], axis = 1)], axis = 0)\n",
        "            K_list.append(K)\n",
        "\n",
        "            # Compute eigenvalues\n",
        "            lambda_K, _ = np.linalg.eig(K)\n",
        "            lambda_K_uu, _ = np.linalg.eig(K_uu)\n",
        "            lambda_K_rr, _ = np.linalg.eig(K_rr)\n",
        "            \n",
        "            # Sort in descresing order\n",
        "            lambda_K = np.sort(np.real(lambda_K))[::-1]\n",
        "            lambda_K_uu = np.sort(np.real(lambda_K_uu))[::-1]\n",
        "            lambda_K_rr = np.sort(np.real(lambda_K_rr))[::-1]\n",
        "            \n",
        "            # Store eigenvalues\n",
        "            lambda_K_log.append(lambda_K)\n",
        "            lambda_K_uu_log.append(lambda_K_uu)\n",
        "            lambda_K_rr_log.append(lambda_K_rr)\n",
        "        fig = plt.figure(figsize=(18, 5))\n",
        "        plt.subplot(1,3,1)\n",
        "        for i in range(1, len(lambda_K_log), 10):\n",
        "            plt.plot(lambda_K_log[i], '--')\n",
        "        plt.xscale('log')\n",
        "        plt.yscale('log')\n",
        "        plt.title(r'Eigenvalues of ${K}$')\n",
        "        plt.tight_layout()\n",
        "\n",
        "        plt.subplot(1,3,2)\n",
        "        for i in range(1, len(lambda_K_uu_log), 10):\n",
        "            plt.plot(lambda_K_uu_log[i], '--')\n",
        "        plt.xscale('log')\n",
        "        plt.yscale('log')\n",
        "        plt.title(r'Eigenvalues of ${K}_{uu}$')\n",
        "        plt.tight_layout()\n",
        "\n",
        "        plt.subplot(1,3,3)\n",
        "        for i in range(1, len(lambda_K_log), 10):\n",
        "            plt.plot(lambda_K_rr_log[i], '--')\n",
        "        plt.xscale('log')\n",
        "        plt.yscale('log')\n",
        "        plt.title(r'Eigenvalues of ${K}_{rr}$')\n",
        "        plt.tight_layout()\n",
        "        plt.savefig(os.path.join(self.dirname,\"ntk.png\"))\n",
        "        plt.close(\"all\")\n",
        "\n",
        "    def plt_prediction(self , X_star , u_star , u_pred):\n",
        "        fig = plt.figure(figsize=(12, 5))\n",
        "        plt.subplot(1,2,1)\n",
        "        plt.plot(X_star, u_star, label='Exact')\n",
        "        plt.plot(X_star, u_pred, '--', label='Predicted')\n",
        "        plt.xlabel('$x$')\n",
        "        plt.ylabel('$y$')\n",
        "        plt.legend(loc='upper right')\n",
        "\n",
        "        plt.subplot(1,2,2)\n",
        "        plt.plot(X_star, np.abs(u_star - u_pred), label='Error')\n",
        "        plt.yscale('log')\n",
        "        plt.xlabel('$x$')\n",
        "        plt.ylabel('Point-wise error')\n",
        "        plt.tight_layout()\n",
        "        plt.savefig(os.path.join(self.dirname,\"prediction.png\"))\n",
        "        plt.close(\"all\")\n",
        "\n",
        "\n",
        "\n",
        "    def plot_grad(self):\n",
        "\n",
        "        fig, ax = plt.subplots()\n",
        "        fig.set_size_inches([15,8])\n",
        "        ax.semilogy(self.mean_grad_res_list_log, label=r'$\\bar{\\nabla_\\theta \\mathcal{L}_{u_{phy}}}$')\n",
        "        ax.semilogy(self.mean_grad_bcs_list_log, label=r'$\\bar{\\nabla_\\theta \\mathcal{L}_{u_{bc}}}$')\n",
        "\n",
        "        ax.set_xlabel(\"epochs\", fontsize=15)\n",
        "        ax.set_ylabel(\"loss\", fontsize=15)\n",
        "        ax.tick_params(labelsize=15)\n",
        "        ax.legend()\n",
        "        path = os.path.join(self.dirname,'grad_history.png')\n",
        "        plt.savefig(path)\n",
        "\n",
        "\n",
        "         \n",
        "    \n",
        "    def plot_lambda(self ):\n",
        "\n",
        "        fontsize = 17\n",
        "        fig, ax = plt.subplots()\n",
        "        fig.set_size_inches([16,8])\n",
        "        ax.semilogy(self.mean_grad_bcs_list_log, label=r'$\\bar{\\nabla_\\theta {u_{bc}}}$' , color = 'tab:green')\n",
        "        ax.semilogy(self.mean_grad_res_list_log, label=r'$Max{\\nabla_\\theta {u_{phy}}}$' , color = 'tab:red')\n",
        "        ax.set_xlabel(\"epochs\", fontsize=fontsize)\n",
        "        ax.set_ylabel(r'$\\bar{\\nabla_\\theta {u}}$', fontsize=fontsize)\n",
        "        ax.tick_params(labelsize=fontsize)\n",
        "        ax.legend(loc='center left', bbox_to_anchor=(-0.25, 0.5))\n",
        "\n",
        "        ax2 = ax.twinx() \n",
        "\n",
        "        # fig, ax = plt.subplots()\n",
        "        # fig.set_size_inches([15,8])\n",
        "    \n",
        "        ax2.semilogy(self.adaptive_constant_bcs_log, label=r'$\\bar{\\lambda_{bc}}$'  ,  linestyle='dashed' , color = 'tab:green') \n",
        "        ax2.set_xlabel(\"epochs\", fontsize=fontsize)\n",
        "        ax2.set_ylabel(r'$\\bar{\\lambda}$', fontsize=fontsize)\n",
        "        ax2.tick_params(labelsize=fontsize)\n",
        "        ax2.legend(loc='center right', bbox_to_anchor=(1.2, 0.5))\n",
        "\n",
        "        plt.tight_layout()\n",
        "\n",
        "        path = os.path.join(self.dirname,'grad_history.png')\n",
        "        plt.savefig(path)\n"
      ]
    },
    {
      "cell_type": "code",
      "execution_count": null,
      "metadata": {},
      "outputs": [],
      "source": []
    },
    {
      "cell_type": "code",
      "execution_count": 4,
      "metadata": {
        "id": "FN1jEdRwY90i"
      },
      "outputs": [],
      "source": [
        "# Define solution and its Laplace\n",
        "a = 4\n",
        "\n",
        "def u(x, a):\n",
        "  return np.sin(np.pi * a * x)\n",
        "\n",
        "def u_xx(x, a):\n",
        "  return -(np.pi * a)**2 * np.sin(np.pi * a * x)"
      ]
    },
    {
      "cell_type": "code",
      "execution_count": 5,
      "metadata": {},
      "outputs": [],
      "source": [
        "#test_method(mtd , layers,  X_u, Y_u, X_r, Y_r ,  X_star , u_star , r_star  , nIter ,batch_size , bcbatch_size , ubatch_size)\n",
        "def test_method(method , layers,  X_u, Y_u, X_r, Y_r , X_star , u_star , r_star , nIter ,mbbatch_size , bcbatch_size , ubatch_size , mode):\n",
        "\n",
        "\n",
        "    gpu_options = tf.GPUOptions(visible_device_list=\"0\")\n",
        "    tf.reset_default_graph()\n",
        "    with tf.Session(config=tf.ConfigProto(gpu_options=gpu_options,allow_soft_placement=False, log_device_placement=False)) as sess:\n",
        "        # sess.run(init)\n",
        "\n",
        "        model = PINN(layers, X_u, Y_u, X_r, Y_r , mode , sess)    \n",
        "\n",
        "        # Train model\n",
        "        start_time = time.time()\n",
        "\n",
        "        if method ==\"full_batch\":\n",
        "            print(\"full_batch method is used\")\n",
        "            model.train(nIter  , bcbatch_size , ubatch_size  )\n",
        "        elif method ==\"mini_batch\":\n",
        "            print(\"mini_batch method is used\")\n",
        "            model.trainmb(nIter, mbbatch_size)\n",
        "        else:\n",
        "            print(\"unknown method!\")\n",
        "        elapsed = time.time() - start_time\n",
        "\n",
        "        # Predictions\n",
        "        u_pred = model.predict_u(X_star)\n",
        "        r_pred = model.predict_r(X_star)\n",
        "        # Predictions\n",
        "\n",
        "        sess.close()   \n",
        "\n",
        "    error_u = np.linalg.norm(u_star - u_pred, 2) / np.linalg.norm(u_star, 2)\n",
        "    error_r = np.linalg.norm(r_star - r_pred, 2) / np.linalg.norm(r_star, 2)\n",
        "\n",
        "    print('elapsed: {:.2e}'.format(elapsed))\n",
        "\n",
        "    print('Relative L2 error_u: {:.2e}'.format(error_u))\n",
        "    print('Relative L2 error_r: {:.2e}'.format(error_r))\n",
        "\n",
        "\n",
        "    return [elapsed, error_u , error_r ]\n",
        "\n"
      ]
    },
    {
      "cell_type": "code",
      "execution_count": 6,
      "metadata": {},
      "outputs": [
        {
          "name": "stdout",
          "output_type": "stream",
          "text": [
            "Method:  mini_batch\n",
            "Epoch:  1\n",
            "WARNING:tensorflow:From /tmp/ipykernel_32854/1500751541.py:52: The name tf.GPUOptions is deprecated. Please use tf.compat.v1.GPUOptions instead.\n",
            "\n",
            "WARNING:tensorflow:From /tmp/ipykernel_32854/1500751541.py:53: The name tf.reset_default_graph is deprecated. Please use tf.compat.v1.reset_default_graph instead.\n",
            "\n",
            "WARNING:tensorflow:From /tmp/ipykernel_32854/1500751541.py:54: The name tf.Session is deprecated. Please use tf.compat.v1.Session instead.\n",
            "\n",
            "WARNING:tensorflow:From /tmp/ipykernel_32854/1500751541.py:54: The name tf.ConfigProto is deprecated. Please use tf.compat.v1.ConfigProto instead.\n",
            "\n",
            "WARNING:tensorflow:From /tmp/ipykernel_32854/2984013392.py:30: The name tf.placeholder is deprecated. Please use tf.compat.v1.placeholder instead.\n",
            "\n",
            "WARNING:tensorflow:From /tmp/ipykernel_32854/2984013392.py:67: The name tf.train.exponential_decay is deprecated. Please use tf.compat.v1.train.exponential_decay instead.\n",
            "\n",
            "WARNING:tensorflow:From /tmp/ipykernel_32854/2984013392.py:72: The name tf.train.AdamOptimizer is deprecated. Please use tf.compat.v1.train.AdamOptimizer instead.\n",
            "\n"
          ]
        },
        {
          "name": "stderr",
          "output_type": "stream",
          "text": [
            "2023-12-29 17:18:30.001682: I tensorflow/core/platform/cpu_feature_guard.cc:145] This TensorFlow binary is optimized with Intel(R) MKL-DNN to use the following CPU instructions in performance critical operations:  SSE4.1 SSE4.2 AVX AVX2 FMA\n",
            "To enable them in non-MKL-DNN operations, rebuild TensorFlow with the appropriate compiler flags.\n",
            "2023-12-29 17:18:30.024017: I tensorflow/core/platform/profile_utils/cpu_utils.cc:94] CPU Frequency: 2899885000 Hz\n",
            "2023-12-29 17:18:30.024481: I tensorflow/compiler/xla/service/service.cc:168] XLA service 0x555d301420a0 initialized for platform Host (this does not guarantee that XLA will be used). Devices:\n",
            "2023-12-29 17:18:30.024495: I tensorflow/compiler/xla/service/service.cc:176]   StreamExecutor device (0): Host, Default Version\n",
            "2023-12-29 17:18:30.044045: I tensorflow/core/common_runtime/process_util.cc:115] Creating new thread pool with default inter op setting: 2. Tune using inter_op_parallelism_threads for best performance.\n"
          ]
        },
        {
          "name": "stdout",
          "output_type": "stream",
          "text": [
            "WARNING:tensorflow:From /tmp/ipykernel_32854/2984013392.py:144: The name tf.global_variables_initializer is deprecated. Please use tf.compat.v1.global_variables_initializer instead.\n",
            "\n",
            "mini_batch method is used\n"
          ]
        },
        {
          "name": "stderr",
          "output_type": "stream",
          "text": [
            "It: 0, Loss: 1.187e+04, Loss_bcs: 4.600e-01, Loss_res: 1.187e+04 ,Time: 0.32\n",
            "/home/afrah2/anaconda3/envs/twoPhase/lib/python3.7/site-packages/ipykernel_launcher.py:245: RuntimeWarning: overflow encountered in exp\n",
            "/home/afrah2/anaconda3/envs/twoPhase/lib/python3.7/site-packages/ipykernel_launcher.py:250: RuntimeWarning: overflow encountered in exp\n",
            "/home/afrah2/anaconda3/envs/twoPhase/lib/python3.7/site-packages/ipykernel_launcher.py:251: RuntimeWarning: invalid value encountered in true_divide\n",
            "update_res: nan\n",
            "update_bcs1: 0.000e+00\n"
          ]
        },
        {
          "name": "stdout",
          "output_type": "stream",
          "text": [
            " adaptive_constant_bc:  nan\n"
          ]
        },
        {
          "name": "stderr",
          "output_type": "stream",
          "text": [
            "/home/afrah2/anaconda3/envs/twoPhase/lib/python3.7/site-packages/seaborn/distributions.py:2619: FutureWarning: `distplot` is a deprecated function and will be removed in a future version. Please adapt your code to use either `displot` (a figure-level function with similar flexibility) or `kdeplot` (an axes-level function for kernel density plots).\n",
            "  warnings.warn(msg, FutureWarning)\n",
            "/home/afrah2/anaconda3/envs/twoPhase/lib/python3.7/site-packages/seaborn/distributions.py:2619: FutureWarning: `distplot` is a deprecated function and will be removed in a future version. Please adapt your code to use either `displot` (a figure-level function with similar flexibility) or `kdeplot` (an axes-level function for kernel density plots).\n",
            "  warnings.warn(msg, FutureWarning)\n",
            "/home/afrah2/anaconda3/envs/twoPhase/lib/python3.7/site-packages/seaborn/distributions.py:2619: FutureWarning: `distplot` is a deprecated function and will be removed in a future version. Please adapt your code to use either `displot` (a figure-level function with similar flexibility) or `kdeplot` (an axes-level function for kernel density plots).\n",
            "  warnings.warn(msg, FutureWarning)\n",
            "/home/afrah2/anaconda3/envs/twoPhase/lib/python3.7/site-packages/seaborn/distributions.py:2619: FutureWarning: `distplot` is a deprecated function and will be removed in a future version. Please adapt your code to use either `displot` (a figure-level function with similar flexibility) or `kdeplot` (an axes-level function for kernel density plots).\n",
            "  warnings.warn(msg, FutureWarning)\n",
            "Gradients information stored ...\n",
            "It: 100, Loss: 1.172e+04, Loss_bcs: 3.697e-01, Loss_res: 1.171e+04 ,Time: 0.00\n",
            "/home/afrah2/anaconda3/envs/twoPhase/lib/python3.7/site-packages/ipykernel_launcher.py:245: RuntimeWarning: overflow encountered in exp\n",
            "/home/afrah2/anaconda3/envs/twoPhase/lib/python3.7/site-packages/ipykernel_launcher.py:250: RuntimeWarning: overflow encountered in exp\n",
            "/home/afrah2/anaconda3/envs/twoPhase/lib/python3.7/site-packages/ipykernel_launcher.py:251: RuntimeWarning: invalid value encountered in true_divide\n",
            "update_res: nan\n",
            "update_bcs1: 0.000e+00\n",
            "/home/afrah2/anaconda3/envs/twoPhase/lib/python3.7/site-packages/seaborn/distributions.py:2619: FutureWarning: `distplot` is a deprecated function and will be removed in a future version. Please adapt your code to use either `displot` (a figure-level function with similar flexibility) or `kdeplot` (an axes-level function for kernel density plots).\n",
            "  warnings.warn(msg, FutureWarning)\n",
            "/home/afrah2/anaconda3/envs/twoPhase/lib/python3.7/site-packages/seaborn/distributions.py:2619: FutureWarning: `distplot` is a deprecated function and will be removed in a future version. Please adapt your code to use either `displot` (a figure-level function with similar flexibility) or `kdeplot` (an axes-level function for kernel density plots).\n",
            "  warnings.warn(msg, FutureWarning)\n",
            "/home/afrah2/anaconda3/envs/twoPhase/lib/python3.7/site-packages/seaborn/distributions.py:2619: FutureWarning: `distplot` is a deprecated function and will be removed in a future version. Please adapt your code to use either `displot` (a figure-level function with similar flexibility) or `kdeplot` (an axes-level function for kernel density plots).\n",
            "  warnings.warn(msg, FutureWarning)\n",
            "/home/afrah2/anaconda3/envs/twoPhase/lib/python3.7/site-packages/seaborn/distributions.py:2619: FutureWarning: `distplot` is a deprecated function and will be removed in a future version. Please adapt your code to use either `displot` (a figure-level function with similar flexibility) or `kdeplot` (an axes-level function for kernel density plots).\n",
            "  warnings.warn(msg, FutureWarning)\n"
          ]
        },
        {
          "name": "stdout",
          "output_type": "stream",
          "text": [
            " adaptive_constant_bc:  nan\n"
          ]
        },
        {
          "name": "stderr",
          "output_type": "stream",
          "text": [
            "Gradients information stored ...\n",
            "It: 200, Loss: 1.156e+04, Loss_bcs: 3.037e-01, Loss_res: 1.156e+04 ,Time: 0.00\n",
            "/home/afrah2/anaconda3/envs/twoPhase/lib/python3.7/site-packages/ipykernel_launcher.py:245: RuntimeWarning: overflow encountered in exp\n",
            "/home/afrah2/anaconda3/envs/twoPhase/lib/python3.7/site-packages/ipykernel_launcher.py:250: RuntimeWarning: overflow encountered in exp\n",
            "/home/afrah2/anaconda3/envs/twoPhase/lib/python3.7/site-packages/ipykernel_launcher.py:251: RuntimeWarning: invalid value encountered in true_divide\n",
            "update_res: nan\n",
            "update_bcs1: 0.000e+00\n"
          ]
        },
        {
          "name": "stdout",
          "output_type": "stream",
          "text": [
            " adaptive_constant_bc:  nan\n"
          ]
        },
        {
          "name": "stderr",
          "output_type": "stream",
          "text": [
            "It: 300, Loss: 1.141e+04, Loss_bcs: 2.595e-01, Loss_res: 1.141e+04 ,Time: 0.00\n",
            "update_res: nan\n",
            "update_bcs1: 0.000e+00\n"
          ]
        },
        {
          "name": "stdout",
          "output_type": "stream",
          "text": [
            " adaptive_constant_bc:  nan\n"
          ]
        },
        {
          "name": "stderr",
          "output_type": "stream",
          "text": [
            "It: 400, Loss: 1.126e+04, Loss_bcs: 2.358e-01, Loss_res: 1.126e+04 ,Time: 0.00\n",
            "update_res: nan\n",
            "update_bcs1: 0.000e+00\n"
          ]
        },
        {
          "name": "stdout",
          "output_type": "stream",
          "text": [
            " adaptive_constant_bc:  nan\n"
          ]
        },
        {
          "name": "stderr",
          "output_type": "stream",
          "text": [
            "It: 500, Loss: 1.111e+04, Loss_bcs: 2.322e-01, Loss_res: 1.111e+04 ,Time: 0.00\n",
            "update_res: nan\n",
            "update_bcs1: 0.000e+00\n"
          ]
        },
        {
          "name": "stdout",
          "output_type": "stream",
          "text": [
            " adaptive_constant_bc:  nan\n"
          ]
        },
        {
          "name": "stderr",
          "output_type": "stream",
          "text": [
            "It: 600, Loss: 1.097e+04, Loss_bcs: 2.479e-01, Loss_res: 1.097e+04 ,Time: 0.00\n",
            "update_res: nan\n",
            "update_bcs1: 0.000e+00\n"
          ]
        },
        {
          "name": "stdout",
          "output_type": "stream",
          "text": [
            " adaptive_constant_bc:  nan\n"
          ]
        },
        {
          "name": "stderr",
          "output_type": "stream",
          "text": [
            "It: 700, Loss: 1.083e+04, Loss_bcs: 2.817e-01, Loss_res: 1.083e+04 ,Time: 0.00\n",
            "update_res: nan\n",
            "update_bcs1: 0.000e+00\n"
          ]
        },
        {
          "name": "stdout",
          "output_type": "stream",
          "text": [
            " adaptive_constant_bc:  nan\n"
          ]
        },
        {
          "name": "stderr",
          "output_type": "stream",
          "text": [
            "It: 800, Loss: 1.069e+04, Loss_bcs: 3.326e-01, Loss_res: 1.069e+04 ,Time: 0.00\n",
            "update_res: nan\n",
            "update_bcs1: 0.000e+00\n"
          ]
        },
        {
          "name": "stdout",
          "output_type": "stream",
          "text": [
            " adaptive_constant_bc:  nan\n"
          ]
        },
        {
          "name": "stderr",
          "output_type": "stream",
          "text": [
            "It: 900, Loss: 1.055e+04, Loss_bcs: 3.994e-01, Loss_res: 1.055e+04 ,Time: 0.00\n",
            "update_res: nan\n",
            "update_bcs1: 0.000e+00\n"
          ]
        },
        {
          "name": "stdout",
          "output_type": "stream",
          "text": [
            " adaptive_constant_bc:  nan\n"
          ]
        },
        {
          "name": "stderr",
          "output_type": "stream",
          "text": [
            "It: 1000, Loss: 1.042e+04, Loss_bcs: 4.813e-01, Loss_res: 1.042e+04 ,Time: 0.00\n",
            "update_res: nan\n",
            "update_bcs1: 0.000e+00\n",
            "/home/afrah2/anaconda3/envs/twoPhase/lib/python3.7/site-packages/seaborn/distributions.py:2619: FutureWarning: `distplot` is a deprecated function and will be removed in a future version. Please adapt your code to use either `displot` (a figure-level function with similar flexibility) or `kdeplot` (an axes-level function for kernel density plots).\n",
            "  warnings.warn(msg, FutureWarning)\n",
            "/home/afrah2/anaconda3/envs/twoPhase/lib/python3.7/site-packages/seaborn/distributions.py:2619: FutureWarning: `distplot` is a deprecated function and will be removed in a future version. Please adapt your code to use either `displot` (a figure-level function with similar flexibility) or `kdeplot` (an axes-level function for kernel density plots).\n",
            "  warnings.warn(msg, FutureWarning)\n",
            "/home/afrah2/anaconda3/envs/twoPhase/lib/python3.7/site-packages/seaborn/distributions.py:2619: FutureWarning: `distplot` is a deprecated function and will be removed in a future version. Please adapt your code to use either `displot` (a figure-level function with similar flexibility) or `kdeplot` (an axes-level function for kernel density plots).\n",
            "  warnings.warn(msg, FutureWarning)\n",
            "/home/afrah2/anaconda3/envs/twoPhase/lib/python3.7/site-packages/seaborn/distributions.py:2619: FutureWarning: `distplot` is a deprecated function and will be removed in a future version. Please adapt your code to use either `displot` (a figure-level function with similar flexibility) or `kdeplot` (an axes-level function for kernel density plots).\n",
            "  warnings.warn(msg, FutureWarning)\n"
          ]
        },
        {
          "name": "stdout",
          "output_type": "stream",
          "text": [
            " adaptive_constant_bc:  nan\n"
          ]
        },
        {
          "name": "stderr",
          "output_type": "stream",
          "text": [
            "Gradients information stored ...\n",
            "It: 1100, Loss: 1.029e+04, Loss_bcs: 5.774e-01, Loss_res: 1.029e+04 ,Time: 0.00\n",
            "/home/afrah2/anaconda3/envs/twoPhase/lib/python3.7/site-packages/ipykernel_launcher.py:245: RuntimeWarning: overflow encountered in exp\n",
            "/home/afrah2/anaconda3/envs/twoPhase/lib/python3.7/site-packages/ipykernel_launcher.py:250: RuntimeWarning: overflow encountered in exp\n",
            "/home/afrah2/anaconda3/envs/twoPhase/lib/python3.7/site-packages/ipykernel_launcher.py:251: RuntimeWarning: invalid value encountered in true_divide\n",
            "update_res: nan\n",
            "update_bcs1: 0.000e+00\n"
          ]
        },
        {
          "name": "stdout",
          "output_type": "stream",
          "text": [
            " adaptive_constant_bc:  nan\n"
          ]
        },
        {
          "name": "stderr",
          "output_type": "stream",
          "text": [
            "It: 1200, Loss: 1.016e+04, Loss_bcs: 6.871e-01, Loss_res: 1.016e+04 ,Time: 0.00\n",
            "update_res: nan\n",
            "update_bcs1: 0.000e+00\n"
          ]
        },
        {
          "name": "stdout",
          "output_type": "stream",
          "text": [
            " adaptive_constant_bc:  nan\n"
          ]
        },
        {
          "name": "stderr",
          "output_type": "stream",
          "text": [
            "It: 1300, Loss: 1.003e+04, Loss_bcs: 8.097e-01, Loss_res: 1.003e+04 ,Time: 0.00\n",
            "update_res: nan\n",
            "update_bcs1: 0.000e+00\n"
          ]
        },
        {
          "name": "stdout",
          "output_type": "stream",
          "text": [
            " adaptive_constant_bc:  nan\n"
          ]
        },
        {
          "name": "stderr",
          "output_type": "stream",
          "text": [
            "It: 1400, Loss: 9.907e+03, Loss_bcs: 9.448e-01, Loss_res: 9.906e+03 ,Time: 0.00\n",
            "update_res: nan\n",
            "update_bcs1: 0.000e+00\n"
          ]
        },
        {
          "name": "stdout",
          "output_type": "stream",
          "text": [
            " adaptive_constant_bc:  nan\n"
          ]
        },
        {
          "name": "stderr",
          "output_type": "stream",
          "text": [
            "It: 1500, Loss: 9.785e+03, Loss_bcs: 1.092e+00, Loss_res: 9.784e+03 ,Time: 0.00\n",
            "update_res: nan\n",
            "update_bcs1: 0.000e+00\n"
          ]
        },
        {
          "name": "stdout",
          "output_type": "stream",
          "text": [
            " adaptive_constant_bc:  nan\n"
          ]
        },
        {
          "name": "stderr",
          "output_type": "stream",
          "text": [
            "It: 1600, Loss: 9.664e+03, Loss_bcs: 1.251e+00, Loss_res: 9.663e+03 ,Time: 0.00\n",
            "update_res: nan\n",
            "update_bcs1: 0.000e+00\n"
          ]
        },
        {
          "name": "stdout",
          "output_type": "stream",
          "text": [
            " adaptive_constant_bc:  nan\n"
          ]
        },
        {
          "name": "stderr",
          "output_type": "stream",
          "text": [
            "It: 1700, Loss: 9.546e+03, Loss_bcs: 1.421e+00, Loss_res: 9.545e+03 ,Time: 0.00\n",
            "update_res: nan\n",
            "update_bcs1: 0.000e+00\n"
          ]
        },
        {
          "name": "stdout",
          "output_type": "stream",
          "text": [
            " adaptive_constant_bc:  nan\n"
          ]
        },
        {
          "name": "stderr",
          "output_type": "stream",
          "text": [
            "It: 1800, Loss: 9.429e+03, Loss_bcs: 1.601e+00, Loss_res: 9.428e+03 ,Time: 0.00\n",
            "update_res: nan\n",
            "update_bcs1: 0.000e+00\n"
          ]
        },
        {
          "name": "stdout",
          "output_type": "stream",
          "text": [
            " adaptive_constant_bc:  nan\n"
          ]
        },
        {
          "name": "stderr",
          "output_type": "stream",
          "text": [
            "It: 1900, Loss: 9.315e+03, Loss_bcs: 1.792e+00, Loss_res: 9.313e+03 ,Time: 0.00\n",
            "update_res: nan\n",
            "update_bcs1: 0.000e+00\n"
          ]
        },
        {
          "name": "stdout",
          "output_type": "stream",
          "text": [
            " adaptive_constant_bc:  nan\n"
          ]
        },
        {
          "name": "stderr",
          "output_type": "stream",
          "text": [
            "It: 2000, Loss: 9.202e+03, Loss_bcs: 1.993e+00, Loss_res: 9.200e+03 ,Time: 0.00\n",
            "update_res: nan\n",
            "update_bcs1: 0.000e+00\n"
          ]
        },
        {
          "name": "stdout",
          "output_type": "stream",
          "text": [
            " adaptive_constant_bc:  nan\n"
          ]
        },
        {
          "name": "stderr",
          "output_type": "stream",
          "text": [
            "It: 2100, Loss: 9.091e+03, Loss_bcs: 2.204e+00, Loss_res: 9.089e+03 ,Time: 0.00\n",
            "update_res: nan\n",
            "update_bcs1: 0.000e+00\n"
          ]
        },
        {
          "name": "stdout",
          "output_type": "stream",
          "text": [
            " adaptive_constant_bc:  nan\n"
          ]
        },
        {
          "name": "stderr",
          "output_type": "stream",
          "text": [
            "It: 2200, Loss: 8.982e+03, Loss_bcs: 2.424e+00, Loss_res: 8.979e+03 ,Time: 0.00\n",
            "update_res: nan\n",
            "update_bcs1: 0.000e+00\n"
          ]
        },
        {
          "name": "stdout",
          "output_type": "stream",
          "text": [
            " adaptive_constant_bc:  nan\n"
          ]
        },
        {
          "name": "stderr",
          "output_type": "stream",
          "text": [
            "It: 2300, Loss: 8.874e+03, Loss_bcs: 2.653e+00, Loss_res: 8.872e+03 ,Time: 0.00\n",
            "update_res: nan\n",
            "update_bcs1: 0.000e+00\n"
          ]
        },
        {
          "name": "stdout",
          "output_type": "stream",
          "text": [
            " adaptive_constant_bc:  nan\n"
          ]
        },
        {
          "name": "stderr",
          "output_type": "stream",
          "text": [
            "It: 2400, Loss: 8.768e+03, Loss_bcs: 2.892e+00, Loss_res: 8.765e+03 ,Time: 0.00\n",
            "update_res: nan\n",
            "update_bcs1: 0.000e+00\n"
          ]
        },
        {
          "name": "stdout",
          "output_type": "stream",
          "text": [
            " adaptive_constant_bc:  nan\n"
          ]
        },
        {
          "name": "stderr",
          "output_type": "stream",
          "text": [
            "It: 2500, Loss: 8.664e+03, Loss_bcs: 3.139e+00, Loss_res: 8.661e+03 ,Time: 0.01\n",
            "update_res: nan\n",
            "update_bcs1: 0.000e+00\n"
          ]
        },
        {
          "name": "stdout",
          "output_type": "stream",
          "text": [
            " adaptive_constant_bc:  nan\n"
          ]
        },
        {
          "name": "stderr",
          "output_type": "stream",
          "text": [
            "It: 2600, Loss: 8.562e+03, Loss_bcs: 3.394e+00, Loss_res: 8.558e+03 ,Time: 0.00\n",
            "update_res: nan\n",
            "update_bcs1: 0.000e+00\n"
          ]
        },
        {
          "name": "stdout",
          "output_type": "stream",
          "text": [
            " adaptive_constant_bc:  nan\n"
          ]
        },
        {
          "name": "stderr",
          "output_type": "stream",
          "text": [
            "It: 2700, Loss: 8.461e+03, Loss_bcs: 3.658e+00, Loss_res: 8.457e+03 ,Time: 0.00\n",
            "update_res: nan\n",
            "update_bcs1: 0.000e+00\n"
          ]
        },
        {
          "name": "stdout",
          "output_type": "stream",
          "text": [
            " adaptive_constant_bc:  nan\n"
          ]
        },
        {
          "name": "stderr",
          "output_type": "stream",
          "text": [
            "It: 2800, Loss: 8.361e+03, Loss_bcs: 3.930e+00, Loss_res: 8.357e+03 ,Time: 0.00\n",
            "update_res: nan\n",
            "update_bcs1: 0.000e+00\n"
          ]
        },
        {
          "name": "stdout",
          "output_type": "stream",
          "text": [
            " adaptive_constant_bc:  nan\n"
          ]
        },
        {
          "name": "stderr",
          "output_type": "stream",
          "text": [
            "It: 2900, Loss: 8.263e+03, Loss_bcs: 4.210e+00, Loss_res: 8.259e+03 ,Time: 0.00\n",
            "update_res: nan\n",
            "update_bcs1: 0.000e+00\n"
          ]
        },
        {
          "name": "stdout",
          "output_type": "stream",
          "text": [
            " adaptive_constant_bc:  nan\n"
          ]
        },
        {
          "name": "stderr",
          "output_type": "stream",
          "text": [
            "It: 3000, Loss: 8.167e+03, Loss_bcs: 4.497e+00, Loss_res: 8.162e+03 ,Time: 0.00\n",
            "update_res: nan\n",
            "update_bcs1: 0.000e+00\n"
          ]
        },
        {
          "name": "stdout",
          "output_type": "stream",
          "text": [
            " adaptive_constant_bc:  nan\n"
          ]
        },
        {
          "name": "stderr",
          "output_type": "stream",
          "text": [
            "It: 3100, Loss: 8.072e+03, Loss_bcs: 4.791e+00, Loss_res: 8.067e+03 ,Time: 0.00\n",
            "update_res: nan\n",
            "update_bcs1: 0.000e+00\n"
          ]
        },
        {
          "name": "stdout",
          "output_type": "stream",
          "text": [
            " adaptive_constant_bc:  nan\n"
          ]
        },
        {
          "name": "stderr",
          "output_type": "stream",
          "text": [
            "It: 3200, Loss: 7.978e+03, Loss_bcs: 5.092e+00, Loss_res: 7.973e+03 ,Time: 0.00\n",
            "update_res: nan\n",
            "update_bcs1: 0.000e+00\n"
          ]
        },
        {
          "name": "stdout",
          "output_type": "stream",
          "text": [
            " adaptive_constant_bc:  nan\n"
          ]
        },
        {
          "name": "stderr",
          "output_type": "stream",
          "text": [
            "It: 3300, Loss: 7.886e+03, Loss_bcs: 5.400e+00, Loss_res: 7.881e+03 ,Time: 0.00\n",
            "update_res: nan\n",
            "update_bcs1: 0.000e+00\n"
          ]
        },
        {
          "name": "stdout",
          "output_type": "stream",
          "text": [
            " adaptive_constant_bc:  nan\n"
          ]
        },
        {
          "name": "stderr",
          "output_type": "stream",
          "text": [
            "It: 3400, Loss: 7.795e+03, Loss_bcs: 5.713e+00, Loss_res: 7.790e+03 ,Time: 0.00\n",
            "update_res: nan\n",
            "update_bcs1: 0.000e+00\n"
          ]
        },
        {
          "name": "stdout",
          "output_type": "stream",
          "text": [
            " adaptive_constant_bc:  nan\n"
          ]
        },
        {
          "name": "stderr",
          "output_type": "stream",
          "text": [
            "It: 3500, Loss: 7.706e+03, Loss_bcs: 6.032e+00, Loss_res: 7.700e+03 ,Time: 0.00\n",
            "update_res: nan\n",
            "update_bcs1: 0.000e+00\n"
          ]
        },
        {
          "name": "stdout",
          "output_type": "stream",
          "text": [
            " adaptive_constant_bc:  nan\n"
          ]
        },
        {
          "name": "stderr",
          "output_type": "stream",
          "text": [
            "It: 3600, Loss: 7.618e+03, Loss_bcs: 6.357e+00, Loss_res: 7.612e+03 ,Time: 0.00\n",
            "update_res: nan\n",
            "update_bcs1: 0.000e+00\n"
          ]
        },
        {
          "name": "stdout",
          "output_type": "stream",
          "text": [
            " adaptive_constant_bc:  nan\n"
          ]
        },
        {
          "name": "stderr",
          "output_type": "stream",
          "text": [
            "It: 3700, Loss: 7.531e+03, Loss_bcs: 6.686e+00, Loss_res: 7.525e+03 ,Time: 0.00\n",
            "update_res: nan\n",
            "update_bcs1: 0.000e+00\n"
          ]
        },
        {
          "name": "stdout",
          "output_type": "stream",
          "text": [
            " adaptive_constant_bc:  nan\n"
          ]
        },
        {
          "name": "stderr",
          "output_type": "stream",
          "text": [
            "It: 3800, Loss: 7.446e+03, Loss_bcs: 7.020e+00, Loss_res: 7.439e+03 ,Time: 0.00\n",
            "update_res: nan\n",
            "update_bcs1: 0.000e+00\n"
          ]
        },
        {
          "name": "stdout",
          "output_type": "stream",
          "text": [
            " adaptive_constant_bc:  nan\n"
          ]
        },
        {
          "name": "stderr",
          "output_type": "stream",
          "text": [
            "It: 3900, Loss: 7.362e+03, Loss_bcs: 7.358e+00, Loss_res: 7.354e+03 ,Time: 0.00\n",
            "update_res: nan\n",
            "update_bcs1: 0.000e+00\n"
          ]
        },
        {
          "name": "stdout",
          "output_type": "stream",
          "text": [
            " adaptive_constant_bc:  nan\n"
          ]
        },
        {
          "name": "stderr",
          "output_type": "stream",
          "text": [
            "It: 4000, Loss: 7.279e+03, Loss_bcs: 7.700e+00, Loss_res: 7.271e+03 ,Time: 0.00\n",
            "update_res: nan\n",
            "update_bcs1: 0.000e+00\n"
          ]
        },
        {
          "name": "stdout",
          "output_type": "stream",
          "text": [
            " adaptive_constant_bc:  nan\n"
          ]
        },
        {
          "name": "stderr",
          "output_type": "stream",
          "text": [
            "It: 4100, Loss: 7.197e+03, Loss_bcs: 8.046e+00, Loss_res: 7.189e+03 ,Time: 0.00\n",
            "update_res: nan\n",
            "update_bcs1: 0.000e+00\n"
          ]
        },
        {
          "name": "stdout",
          "output_type": "stream",
          "text": [
            " adaptive_constant_bc:  nan\n"
          ]
        },
        {
          "name": "stderr",
          "output_type": "stream",
          "text": [
            "It: 4200, Loss: 7.117e+03, Loss_bcs: 8.395e+00, Loss_res: 7.108e+03 ,Time: 0.00\n",
            "update_res: nan\n",
            "update_bcs1: 0.000e+00\n"
          ]
        },
        {
          "name": "stdout",
          "output_type": "stream",
          "text": [
            " adaptive_constant_bc:  nan\n"
          ]
        },
        {
          "name": "stderr",
          "output_type": "stream",
          "text": [
            "It: 4300, Loss: 7.037e+03, Loss_bcs: 8.747e+00, Loss_res: 7.029e+03 ,Time: 0.00\n",
            "update_res: nan\n",
            "update_bcs1: 0.000e+00\n"
          ]
        },
        {
          "name": "stdout",
          "output_type": "stream",
          "text": [
            " adaptive_constant_bc:  nan\n"
          ]
        },
        {
          "name": "stderr",
          "output_type": "stream",
          "text": [
            "It: 4400, Loss: 6.959e+03, Loss_bcs: 9.103e+00, Loss_res: 6.950e+03 ,Time: 0.00\n",
            "update_res: nan\n",
            "update_bcs1: 0.000e+00\n"
          ]
        },
        {
          "name": "stdout",
          "output_type": "stream",
          "text": [
            " adaptive_constant_bc:  nan\n"
          ]
        },
        {
          "name": "stderr",
          "output_type": "stream",
          "text": [
            "It: 4500, Loss: 6.883e+03, Loss_bcs: 9.461e+00, Loss_res: 6.873e+03 ,Time: 0.00\n",
            "update_res: nan\n",
            "update_bcs1: 0.000e+00\n"
          ]
        },
        {
          "name": "stdout",
          "output_type": "stream",
          "text": [
            " adaptive_constant_bc:  nan\n"
          ]
        },
        {
          "name": "stderr",
          "output_type": "stream",
          "text": [
            "It: 4600, Loss: 6.807e+03, Loss_bcs: 9.823e+00, Loss_res: 6.797e+03 ,Time: 0.00\n",
            "update_res: nan\n",
            "update_bcs1: 0.000e+00\n"
          ]
        },
        {
          "name": "stdout",
          "output_type": "stream",
          "text": [
            " adaptive_constant_bc:  nan\n"
          ]
        },
        {
          "name": "stderr",
          "output_type": "stream",
          "text": [
            "It: 4700, Loss: 6.732e+03, Loss_bcs: 1.019e+01, Loss_res: 6.722e+03 ,Time: 0.00\n",
            "update_res: nan\n",
            "update_bcs1: 0.000e+00\n"
          ]
        },
        {
          "name": "stdout",
          "output_type": "stream",
          "text": [
            " adaptive_constant_bc:  nan\n"
          ]
        },
        {
          "name": "stderr",
          "output_type": "stream",
          "text": [
            "It: 4800, Loss: 6.659e+03, Loss_bcs: 1.055e+01, Loss_res: 6.648e+03 ,Time: 0.00\n",
            "update_res: nan\n",
            "update_bcs1: 0.000e+00\n"
          ]
        },
        {
          "name": "stdout",
          "output_type": "stream",
          "text": [
            " adaptive_constant_bc:  nan\n"
          ]
        },
        {
          "name": "stderr",
          "output_type": "stream",
          "text": [
            "It: 4900, Loss: 6.586e+03, Loss_bcs: 1.092e+01, Loss_res: 6.575e+03 ,Time: 0.00\n",
            "update_res: nan\n",
            "update_bcs1: 0.000e+00\n"
          ]
        },
        {
          "name": "stdout",
          "output_type": "stream",
          "text": [
            " adaptive_constant_bc:  nan\n"
          ]
        },
        {
          "name": "stderr",
          "output_type": "stream",
          "text": [
            "It: 5000, Loss: 6.515e+03, Loss_bcs: 1.129e+01, Loss_res: 6.504e+03 ,Time: 0.00\n",
            "update_res: nan\n",
            "update_bcs1: 0.000e+00\n"
          ]
        },
        {
          "name": "stdout",
          "output_type": "stream",
          "text": [
            " adaptive_constant_bc:  nan\n"
          ]
        },
        {
          "name": "stderr",
          "output_type": "stream",
          "text": [
            "It: 5100, Loss: 6.445e+03, Loss_bcs: 1.167e+01, Loss_res: 6.433e+03 ,Time: 0.00\n",
            "update_res: nan\n",
            "update_bcs1: 0.000e+00\n"
          ]
        },
        {
          "name": "stdout",
          "output_type": "stream",
          "text": [
            " adaptive_constant_bc:  nan\n"
          ]
        },
        {
          "name": "stderr",
          "output_type": "stream",
          "text": [
            "It: 5200, Loss: 6.375e+03, Loss_bcs: 1.204e+01, Loss_res: 6.363e+03 ,Time: 0.00\n",
            "update_res: nan\n",
            "update_bcs1: 0.000e+00\n"
          ]
        },
        {
          "name": "stdout",
          "output_type": "stream",
          "text": [
            " adaptive_constant_bc:  nan\n"
          ]
        },
        {
          "name": "stderr",
          "output_type": "stream",
          "text": [
            "It: 5300, Loss: 6.307e+03, Loss_bcs: 1.242e+01, Loss_res: 6.295e+03 ,Time: 0.00\n",
            "update_res: nan\n",
            "update_bcs1: 0.000e+00\n"
          ]
        },
        {
          "name": "stdout",
          "output_type": "stream",
          "text": [
            " adaptive_constant_bc:  nan\n"
          ]
        },
        {
          "name": "stderr",
          "output_type": "stream",
          "text": [
            "It: 5400, Loss: 6.240e+03, Loss_bcs: 1.280e+01, Loss_res: 6.227e+03 ,Time: 0.00\n",
            "update_res: nan\n",
            "update_bcs1: 0.000e+00\n"
          ]
        },
        {
          "name": "stdout",
          "output_type": "stream",
          "text": [
            " adaptive_constant_bc:  nan\n"
          ]
        },
        {
          "name": "stderr",
          "output_type": "stream",
          "text": [
            "It: 5500, Loss: 6.174e+03, Loss_bcs: 1.318e+01, Loss_res: 6.161e+03 ,Time: 0.00\n",
            "update_res: nan\n",
            "update_bcs1: 0.000e+00\n"
          ]
        },
        {
          "name": "stdout",
          "output_type": "stream",
          "text": [
            " adaptive_constant_bc:  nan\n"
          ]
        },
        {
          "name": "stderr",
          "output_type": "stream",
          "text": [
            "It: 5600, Loss: 6.109e+03, Loss_bcs: 1.356e+01, Loss_res: 6.095e+03 ,Time: 0.00\n",
            "update_res: nan\n",
            "update_bcs1: 0.000e+00\n"
          ]
        },
        {
          "name": "stdout",
          "output_type": "stream",
          "text": [
            " adaptive_constant_bc:  nan\n"
          ]
        },
        {
          "name": "stderr",
          "output_type": "stream",
          "text": [
            "It: 5700, Loss: 6.044e+03, Loss_bcs: 1.394e+01, Loss_res: 6.030e+03 ,Time: 0.00\n",
            "update_res: nan\n",
            "update_bcs1: 0.000e+00\n"
          ]
        },
        {
          "name": "stdout",
          "output_type": "stream",
          "text": [
            " adaptive_constant_bc:  nan\n"
          ]
        },
        {
          "name": "stderr",
          "output_type": "stream",
          "text": [
            "It: 5800, Loss: 5.981e+03, Loss_bcs: 1.433e+01, Loss_res: 5.967e+03 ,Time: 0.01\n",
            "update_res: nan\n",
            "update_bcs1: 0.000e+00\n"
          ]
        },
        {
          "name": "stdout",
          "output_type": "stream",
          "text": [
            " adaptive_constant_bc:  nan\n"
          ]
        },
        {
          "name": "stderr",
          "output_type": "stream",
          "text": [
            "It: 5900, Loss: 5.919e+03, Loss_bcs: 1.471e+01, Loss_res: 5.904e+03 ,Time: 0.01\n",
            "update_res: nan\n",
            "update_bcs1: 0.000e+00\n"
          ]
        },
        {
          "name": "stdout",
          "output_type": "stream",
          "text": [
            " adaptive_constant_bc:  nan\n"
          ]
        },
        {
          "name": "stderr",
          "output_type": "stream",
          "text": [
            "It: 6000, Loss: 5.857e+03, Loss_bcs: 1.510e+01, Loss_res: 5.842e+03 ,Time: 0.00\n",
            "update_res: nan\n",
            "update_bcs1: 0.000e+00\n"
          ]
        },
        {
          "name": "stdout",
          "output_type": "stream",
          "text": [
            " adaptive_constant_bc:  nan\n"
          ]
        },
        {
          "name": "stderr",
          "output_type": "stream",
          "text": [
            "It: 6100, Loss: 5.797e+03, Loss_bcs: 1.549e+01, Loss_res: 5.781e+03 ,Time: 0.00\n",
            "update_res: nan\n",
            "update_bcs1: 0.000e+00\n"
          ]
        },
        {
          "name": "stdout",
          "output_type": "stream",
          "text": [
            " adaptive_constant_bc:  nan\n"
          ]
        },
        {
          "name": "stderr",
          "output_type": "stream",
          "text": [
            "It: 6200, Loss: 5.737e+03, Loss_bcs: 1.588e+01, Loss_res: 5.721e+03 ,Time: 0.00\n",
            "update_res: nan\n",
            "update_bcs1: 0.000e+00\n"
          ]
        },
        {
          "name": "stdout",
          "output_type": "stream",
          "text": [
            " adaptive_constant_bc:  nan\n"
          ]
        },
        {
          "name": "stderr",
          "output_type": "stream",
          "text": [
            "It: 6300, Loss: 5.678e+03, Loss_bcs: 1.627e+01, Loss_res: 5.662e+03 ,Time: 0.00\n",
            "update_res: nan\n",
            "update_bcs1: 0.000e+00\n"
          ]
        },
        {
          "name": "stdout",
          "output_type": "stream",
          "text": [
            " adaptive_constant_bc:  nan\n"
          ]
        },
        {
          "name": "stderr",
          "output_type": "stream",
          "text": [
            "It: 6400, Loss: 5.620e+03, Loss_bcs: 1.666e+01, Loss_res: 5.604e+03 ,Time: 0.00\n",
            "update_res: nan\n",
            "update_bcs1: 0.000e+00\n"
          ]
        },
        {
          "name": "stdout",
          "output_type": "stream",
          "text": [
            " adaptive_constant_bc:  nan\n"
          ]
        },
        {
          "name": "stderr",
          "output_type": "stream",
          "text": [
            "It: 6500, Loss: 5.563e+03, Loss_bcs: 1.705e+01, Loss_res: 5.546e+03 ,Time: 0.00\n",
            "update_res: nan\n",
            "update_bcs1: 0.000e+00\n"
          ]
        },
        {
          "name": "stdout",
          "output_type": "stream",
          "text": [
            " adaptive_constant_bc:  nan\n"
          ]
        },
        {
          "name": "stderr",
          "output_type": "stream",
          "text": [
            "It: 6600, Loss: 5.507e+03, Loss_bcs: 1.744e+01, Loss_res: 5.490e+03 ,Time: 0.00\n",
            "update_res: nan\n",
            "update_bcs1: 0.000e+00\n"
          ]
        },
        {
          "name": "stdout",
          "output_type": "stream",
          "text": [
            " adaptive_constant_bc:  nan\n"
          ]
        },
        {
          "name": "stderr",
          "output_type": "stream",
          "text": [
            "It: 6700, Loss: 5.452e+03, Loss_bcs: 1.783e+01, Loss_res: 5.434e+03 ,Time: 0.00\n",
            "update_res: nan\n",
            "update_bcs1: 0.000e+00\n"
          ]
        },
        {
          "name": "stdout",
          "output_type": "stream",
          "text": [
            " adaptive_constant_bc:  nan\n"
          ]
        },
        {
          "name": "stderr",
          "output_type": "stream",
          "text": [
            "It: 6800, Loss: 5.397e+03, Loss_bcs: 1.822e+01, Loss_res: 5.379e+03 ,Time: 0.00\n",
            "update_res: nan\n",
            "update_bcs1: 0.000e+00\n"
          ]
        },
        {
          "name": "stdout",
          "output_type": "stream",
          "text": [
            " adaptive_constant_bc:  nan\n"
          ]
        },
        {
          "name": "stderr",
          "output_type": "stream",
          "text": [
            "It: 6900, Loss: 5.343e+03, Loss_bcs: 1.862e+01, Loss_res: 5.325e+03 ,Time: 0.00\n",
            "update_res: nan\n",
            "update_bcs1: 0.000e+00\n"
          ]
        },
        {
          "name": "stdout",
          "output_type": "stream",
          "text": [
            " adaptive_constant_bc:  nan\n"
          ]
        },
        {
          "name": "stderr",
          "output_type": "stream",
          "text": [
            "It: 7000, Loss: 5.290e+03, Loss_bcs: 1.901e+01, Loss_res: 5.271e+03 ,Time: 0.00\n",
            "update_res: nan\n",
            "update_bcs1: 0.000e+00\n"
          ]
        },
        {
          "name": "stdout",
          "output_type": "stream",
          "text": [
            " adaptive_constant_bc:  nan\n"
          ]
        },
        {
          "name": "stderr",
          "output_type": "stream",
          "text": [
            "It: 7100, Loss: 5.238e+03, Loss_bcs: 1.940e+01, Loss_res: 5.219e+03 ,Time: 0.00\n",
            "update_res: nan\n",
            "update_bcs1: 0.000e+00\n"
          ]
        },
        {
          "name": "stdout",
          "output_type": "stream",
          "text": [
            " adaptive_constant_bc:  nan\n"
          ]
        },
        {
          "name": "stderr",
          "output_type": "stream",
          "text": [
            "It: 7200, Loss: 5.187e+03, Loss_bcs: 1.980e+01, Loss_res: 5.167e+03 ,Time: 0.00\n",
            "update_res: nan\n",
            "update_bcs1: 0.000e+00\n"
          ]
        },
        {
          "name": "stdout",
          "output_type": "stream",
          "text": [
            " adaptive_constant_bc:  nan\n"
          ]
        },
        {
          "name": "stderr",
          "output_type": "stream",
          "text": [
            "It: 7300, Loss: 5.136e+03, Loss_bcs: 2.019e+01, Loss_res: 5.116e+03 ,Time: 0.00\n",
            "update_res: nan\n",
            "update_bcs1: 0.000e+00\n"
          ]
        },
        {
          "name": "stdout",
          "output_type": "stream",
          "text": [
            " adaptive_constant_bc:  nan\n"
          ]
        },
        {
          "name": "stderr",
          "output_type": "stream",
          "text": [
            "It: 7400, Loss: 5.086e+03, Loss_bcs: 2.059e+01, Loss_res: 5.066e+03 ,Time: 0.00\n",
            "update_res: nan\n",
            "update_bcs1: 0.000e+00\n"
          ]
        },
        {
          "name": "stdout",
          "output_type": "stream",
          "text": [
            " adaptive_constant_bc:  nan\n"
          ]
        },
        {
          "name": "stderr",
          "output_type": "stream",
          "text": [
            "It: 7500, Loss: 5.037e+03, Loss_bcs: 2.098e+01, Loss_res: 5.016e+03 ,Time: 0.00\n",
            "update_res: nan\n",
            "update_bcs1: 0.000e+00\n"
          ]
        },
        {
          "name": "stdout",
          "output_type": "stream",
          "text": [
            " adaptive_constant_bc:  nan\n"
          ]
        },
        {
          "name": "stderr",
          "output_type": "stream",
          "text": [
            "It: 7600, Loss: 4.989e+03, Loss_bcs: 2.137e+01, Loss_res: 4.967e+03 ,Time: 0.00\n",
            "update_res: nan\n",
            "update_bcs1: 0.000e+00\n"
          ]
        },
        {
          "name": "stdout",
          "output_type": "stream",
          "text": [
            " adaptive_constant_bc:  nan\n"
          ]
        },
        {
          "name": "stderr",
          "output_type": "stream",
          "text": [
            "It: 7700, Loss: 4.941e+03, Loss_bcs: 2.176e+01, Loss_res: 4.919e+03 ,Time: 0.00\n",
            "update_res: nan\n",
            "update_bcs1: 0.000e+00\n"
          ]
        },
        {
          "name": "stdout",
          "output_type": "stream",
          "text": [
            " adaptive_constant_bc:  nan\n"
          ]
        },
        {
          "name": "stderr",
          "output_type": "stream",
          "text": [
            "It: 7800, Loss: 4.894e+03, Loss_bcs: 2.216e+01, Loss_res: 4.872e+03 ,Time: 0.00\n",
            "update_res: nan\n",
            "update_bcs1: 0.000e+00\n"
          ]
        },
        {
          "name": "stdout",
          "output_type": "stream",
          "text": [
            " adaptive_constant_bc:  nan\n"
          ]
        },
        {
          "name": "stderr",
          "output_type": "stream",
          "text": [
            "It: 7900, Loss: 4.848e+03, Loss_bcs: 2.255e+01, Loss_res: 4.825e+03 ,Time: 0.05\n",
            "update_res: nan\n",
            "update_bcs1: 0.000e+00\n"
          ]
        },
        {
          "name": "stdout",
          "output_type": "stream",
          "text": [
            " adaptive_constant_bc:  nan\n"
          ]
        },
        {
          "name": "stderr",
          "output_type": "stream",
          "text": [
            "It: 8000, Loss: 4.802e+03, Loss_bcs: 2.294e+01, Loss_res: 4.779e+03 ,Time: 0.00\n",
            "update_res: nan\n",
            "update_bcs1: 0.000e+00\n"
          ]
        },
        {
          "name": "stdout",
          "output_type": "stream",
          "text": [
            " adaptive_constant_bc:  nan\n"
          ]
        },
        {
          "name": "stderr",
          "output_type": "stream",
          "text": [
            "It: 8100, Loss: 4.757e+03, Loss_bcs: 2.333e+01, Loss_res: 4.734e+03 ,Time: 0.00\n",
            "update_res: nan\n",
            "update_bcs1: 0.000e+00\n"
          ]
        },
        {
          "name": "stdout",
          "output_type": "stream",
          "text": [
            " adaptive_constant_bc:  nan\n"
          ]
        },
        {
          "name": "stderr",
          "output_type": "stream",
          "text": [
            "It: 8200, Loss: 4.713e+03, Loss_bcs: 2.371e+01, Loss_res: 4.689e+03 ,Time: 0.00\n",
            "update_res: nan\n",
            "update_bcs1: 0.000e+00\n"
          ]
        },
        {
          "name": "stdout",
          "output_type": "stream",
          "text": [
            " adaptive_constant_bc:  nan\n"
          ]
        },
        {
          "name": "stderr",
          "output_type": "stream",
          "text": [
            "It: 8300, Loss: 4.669e+03, Loss_bcs: 2.410e+01, Loss_res: 4.645e+03 ,Time: 0.00\n",
            "update_res: nan\n",
            "update_bcs1: 0.000e+00\n"
          ]
        },
        {
          "name": "stdout",
          "output_type": "stream",
          "text": [
            " adaptive_constant_bc:  nan\n"
          ]
        },
        {
          "name": "stderr",
          "output_type": "stream",
          "text": [
            "It: 8400, Loss: 4.626e+03, Loss_bcs: 2.449e+01, Loss_res: 4.602e+03 ,Time: 0.00\n",
            "update_res: nan\n",
            "update_bcs1: 0.000e+00\n"
          ]
        },
        {
          "name": "stdout",
          "output_type": "stream",
          "text": [
            " adaptive_constant_bc:  nan\n"
          ]
        },
        {
          "name": "stderr",
          "output_type": "stream",
          "text": [
            "It: 8500, Loss: 4.584e+03, Loss_bcs: 2.487e+01, Loss_res: 4.559e+03 ,Time: 0.00\n",
            "update_res: nan\n",
            "update_bcs1: 0.000e+00\n"
          ]
        },
        {
          "name": "stdout",
          "output_type": "stream",
          "text": [
            " adaptive_constant_bc:  nan\n"
          ]
        },
        {
          "name": "stderr",
          "output_type": "stream",
          "text": [
            "It: 8600, Loss: 4.542e+03, Loss_bcs: 2.525e+01, Loss_res: 4.517e+03 ,Time: 0.00\n",
            "update_res: nan\n",
            "update_bcs1: 0.000e+00\n"
          ]
        },
        {
          "name": "stdout",
          "output_type": "stream",
          "text": [
            " adaptive_constant_bc:  nan\n"
          ]
        },
        {
          "name": "stderr",
          "output_type": "stream",
          "text": [
            "It: 8700, Loss: 4.501e+03, Loss_bcs: 2.563e+01, Loss_res: 4.475e+03 ,Time: 0.00\n",
            "update_res: nan\n",
            "update_bcs1: 0.000e+00\n"
          ]
        },
        {
          "name": "stdout",
          "output_type": "stream",
          "text": [
            " adaptive_constant_bc:  nan\n"
          ]
        },
        {
          "name": "stderr",
          "output_type": "stream",
          "text": [
            "It: 8800, Loss: 4.460e+03, Loss_bcs: 2.601e+01, Loss_res: 4.434e+03 ,Time: 0.00\n",
            "update_res: nan\n",
            "update_bcs1: 0.000e+00\n"
          ]
        },
        {
          "name": "stdout",
          "output_type": "stream",
          "text": [
            " adaptive_constant_bc:  nan\n"
          ]
        },
        {
          "name": "stderr",
          "output_type": "stream",
          "text": [
            "It: 8900, Loss: 4.420e+03, Loss_bcs: 2.639e+01, Loss_res: 4.394e+03 ,Time: 0.00\n",
            "update_res: nan\n",
            "update_bcs1: 0.000e+00\n"
          ]
        },
        {
          "name": "stdout",
          "output_type": "stream",
          "text": [
            " adaptive_constant_bc:  nan\n"
          ]
        },
        {
          "name": "stderr",
          "output_type": "stream",
          "text": [
            "It: 9000, Loss: 4.381e+03, Loss_bcs: 2.677e+01, Loss_res: 4.354e+03 ,Time: 0.00\n",
            "update_res: nan\n",
            "update_bcs1: 0.000e+00\n"
          ]
        },
        {
          "name": "stdout",
          "output_type": "stream",
          "text": [
            " adaptive_constant_bc:  nan\n"
          ]
        },
        {
          "name": "stderr",
          "output_type": "stream",
          "text": [
            "It: 9100, Loss: 4.342e+03, Loss_bcs: 2.714e+01, Loss_res: 4.315e+03 ,Time: 0.00\n",
            "update_res: nan\n",
            "update_bcs1: 0.000e+00\n"
          ]
        },
        {
          "name": "stdout",
          "output_type": "stream",
          "text": [
            " adaptive_constant_bc:  nan\n"
          ]
        },
        {
          "name": "stderr",
          "output_type": "stream",
          "text": [
            "It: 9200, Loss: 4.304e+03, Loss_bcs: 2.752e+01, Loss_res: 4.277e+03 ,Time: 0.00\n",
            "update_res: nan\n",
            "update_bcs1: 0.000e+00\n"
          ]
        },
        {
          "name": "stdout",
          "output_type": "stream",
          "text": [
            " adaptive_constant_bc:  nan\n"
          ]
        },
        {
          "name": "stderr",
          "output_type": "stream",
          "text": [
            "It: 9300, Loss: 4.267e+03, Loss_bcs: 2.789e+01, Loss_res: 4.239e+03 ,Time: 0.00\n",
            "update_res: nan\n",
            "update_bcs1: 0.000e+00\n"
          ]
        },
        {
          "name": "stdout",
          "output_type": "stream",
          "text": [
            " adaptive_constant_bc:  nan\n"
          ]
        },
        {
          "name": "stderr",
          "output_type": "stream",
          "text": [
            "It: 9400, Loss: 4.230e+03, Loss_bcs: 2.826e+01, Loss_res: 4.202e+03 ,Time: 0.00\n",
            "update_res: nan\n",
            "update_bcs1: 0.000e+00\n"
          ]
        },
        {
          "name": "stdout",
          "output_type": "stream",
          "text": [
            " adaptive_constant_bc:  nan\n"
          ]
        },
        {
          "name": "stderr",
          "output_type": "stream",
          "text": [
            "It: 9500, Loss: 4.193e+03, Loss_bcs: 2.863e+01, Loss_res: 4.165e+03 ,Time: 0.00\n",
            "update_res: nan\n",
            "update_bcs1: 0.000e+00\n"
          ]
        },
        {
          "name": "stdout",
          "output_type": "stream",
          "text": [
            " adaptive_constant_bc:  nan\n"
          ]
        },
        {
          "name": "stderr",
          "output_type": "stream",
          "text": [
            "It: 9600, Loss: 4.157e+03, Loss_bcs: 2.899e+01, Loss_res: 4.128e+03 ,Time: 0.00\n",
            "update_res: nan\n",
            "update_bcs1: 0.000e+00\n"
          ]
        },
        {
          "name": "stdout",
          "output_type": "stream",
          "text": [
            " adaptive_constant_bc:  nan\n"
          ]
        },
        {
          "name": "stderr",
          "output_type": "stream",
          "text": [
            "It: 9700, Loss: 4.122e+03, Loss_bcs: 2.936e+01, Loss_res: 4.093e+03 ,Time: 0.00\n",
            "update_res: nan\n",
            "update_bcs1: 0.000e+00\n"
          ]
        },
        {
          "name": "stdout",
          "output_type": "stream",
          "text": [
            " adaptive_constant_bc:  nan\n"
          ]
        },
        {
          "name": "stderr",
          "output_type": "stream",
          "text": [
            "It: 9800, Loss: 4.087e+03, Loss_bcs: 2.972e+01, Loss_res: 4.057e+03 ,Time: 0.00\n",
            "update_res: nan\n",
            "update_bcs1: 0.000e+00\n"
          ]
        },
        {
          "name": "stdout",
          "output_type": "stream",
          "text": [
            " adaptive_constant_bc:  nan\n"
          ]
        },
        {
          "name": "stderr",
          "output_type": "stream",
          "text": [
            "It: 9900, Loss: 4.053e+03, Loss_bcs: 3.008e+01, Loss_res: 4.023e+03 ,Time: 0.00\n",
            "update_res: nan\n",
            "update_bcs1: 0.000e+00\n"
          ]
        },
        {
          "name": "stdout",
          "output_type": "stream",
          "text": [
            " adaptive_constant_bc:  nan\n"
          ]
        },
        {
          "name": "stderr",
          "output_type": "stream",
          "text": [
            "It: 10000, Loss: 4.019e+03, Loss_bcs: 3.044e+01, Loss_res: 3.989e+03 ,Time: 0.00\n",
            "update_res: nan\n",
            "update_bcs1: 0.000e+00\n"
          ]
        },
        {
          "name": "stdout",
          "output_type": "stream",
          "text": [
            " adaptive_constant_bc:  nan\n"
          ]
        },
        {
          "name": "stderr",
          "output_type": "stream",
          "text": [
            "It: 10100, Loss: 3.986e+03, Loss_bcs: 3.080e+01, Loss_res: 3.955e+03 ,Time: 0.00\n",
            "update_res: nan\n",
            "update_bcs1: 0.000e+00\n"
          ]
        },
        {
          "name": "stdout",
          "output_type": "stream",
          "text": [
            " adaptive_constant_bc:  nan\n"
          ]
        },
        {
          "name": "stderr",
          "output_type": "stream",
          "text": [
            "It: 10200, Loss: 3.953e+03, Loss_bcs: 3.115e+01, Loss_res: 3.922e+03 ,Time: 0.00\n",
            "update_res: nan\n",
            "update_bcs1: 0.000e+00\n"
          ]
        },
        {
          "name": "stdout",
          "output_type": "stream",
          "text": [
            " adaptive_constant_bc:  nan\n"
          ]
        },
        {
          "name": "stderr",
          "output_type": "stream",
          "text": [
            "It: 10300, Loss: 3.920e+03, Loss_bcs: 3.151e+01, Loss_res: 3.889e+03 ,Time: 0.00\n",
            "update_res: nan\n",
            "update_bcs1: 0.000e+00\n"
          ]
        },
        {
          "name": "stdout",
          "output_type": "stream",
          "text": [
            " adaptive_constant_bc:  nan\n"
          ]
        },
        {
          "name": "stderr",
          "output_type": "stream",
          "text": [
            "It: 10400, Loss: 3.889e+03, Loss_bcs: 3.186e+01, Loss_res: 3.857e+03 ,Time: 0.00\n",
            "update_res: nan\n",
            "update_bcs1: 0.000e+00\n"
          ]
        },
        {
          "name": "stdout",
          "output_type": "stream",
          "text": [
            " adaptive_constant_bc:  nan\n"
          ]
        },
        {
          "name": "stderr",
          "output_type": "stream",
          "text": [
            "It: 10500, Loss: 3.857e+03, Loss_bcs: 3.221e+01, Loss_res: 3.825e+03 ,Time: 0.00\n",
            "update_res: nan\n",
            "update_bcs1: 0.000e+00\n"
          ]
        },
        {
          "name": "stdout",
          "output_type": "stream",
          "text": [
            " adaptive_constant_bc:  nan\n"
          ]
        },
        {
          "name": "stderr",
          "output_type": "stream",
          "text": [
            "It: 10600, Loss: 3.826e+03, Loss_bcs: 3.255e+01, Loss_res: 3.794e+03 ,Time: 0.00\n",
            "update_res: nan\n",
            "update_bcs1: 0.000e+00\n"
          ]
        },
        {
          "name": "stdout",
          "output_type": "stream",
          "text": [
            " adaptive_constant_bc:  nan\n"
          ]
        },
        {
          "name": "stderr",
          "output_type": "stream",
          "text": [
            "It: 10700, Loss: 3.796e+03, Loss_bcs: 3.290e+01, Loss_res: 3.763e+03 ,Time: 0.00\n",
            "update_res: nan\n",
            "update_bcs1: 0.000e+00\n"
          ]
        },
        {
          "name": "stdout",
          "output_type": "stream",
          "text": [
            " adaptive_constant_bc:  nan\n"
          ]
        },
        {
          "name": "stderr",
          "output_type": "stream",
          "text": [
            "It: 10800, Loss: 3.766e+03, Loss_bcs: 3.324e+01, Loss_res: 3.732e+03 ,Time: 0.00\n",
            "update_res: nan\n",
            "update_bcs1: 0.000e+00\n"
          ]
        },
        {
          "name": "stdout",
          "output_type": "stream",
          "text": [
            " adaptive_constant_bc:  nan\n"
          ]
        },
        {
          "name": "stderr",
          "output_type": "stream",
          "text": [
            "It: 10900, Loss: 3.736e+03, Loss_bcs: 3.358e+01, Loss_res: 3.703e+03 ,Time: 0.00\n",
            "update_res: nan\n",
            "update_bcs1: 0.000e+00\n"
          ]
        },
        {
          "name": "stdout",
          "output_type": "stream",
          "text": [
            " adaptive_constant_bc:  nan\n"
          ]
        },
        {
          "name": "stderr",
          "output_type": "stream",
          "text": [
            "It: 11000, Loss: 3.707e+03, Loss_bcs: 3.392e+01, Loss_res: 3.673e+03 ,Time: 0.00\n",
            "update_res: nan\n",
            "update_bcs1: 0.000e+00\n"
          ]
        },
        {
          "name": "stdout",
          "output_type": "stream",
          "text": [
            " adaptive_constant_bc:  nan\n"
          ]
        },
        {
          "name": "stderr",
          "output_type": "stream",
          "text": [
            "It: 11100, Loss: 3.678e+03, Loss_bcs: 3.426e+01, Loss_res: 3.644e+03 ,Time: 0.00\n",
            "update_res: nan\n",
            "update_bcs1: 0.000e+00\n"
          ]
        },
        {
          "name": "stdout",
          "output_type": "stream",
          "text": [
            " adaptive_constant_bc:  nan\n"
          ]
        },
        {
          "name": "stderr",
          "output_type": "stream",
          "text": [
            "It: 11200, Loss: 3.650e+03, Loss_bcs: 3.459e+01, Loss_res: 3.615e+03 ,Time: 0.00\n",
            "update_res: nan\n",
            "update_bcs1: 0.000e+00\n"
          ]
        },
        {
          "name": "stdout",
          "output_type": "stream",
          "text": [
            " adaptive_constant_bc:  nan\n"
          ]
        },
        {
          "name": "stderr",
          "output_type": "stream",
          "text": [
            "It: 11300, Loss: 3.622e+03, Loss_bcs: 3.492e+01, Loss_res: 3.587e+03 ,Time: 0.00\n",
            "update_res: nan\n",
            "update_bcs1: 0.000e+00\n"
          ]
        },
        {
          "name": "stdout",
          "output_type": "stream",
          "text": [
            " adaptive_constant_bc:  nan\n"
          ]
        },
        {
          "name": "stderr",
          "output_type": "stream",
          "text": [
            "It: 11400, Loss: 3.595e+03, Loss_bcs: 3.525e+01, Loss_res: 3.559e+03 ,Time: 0.00\n",
            "update_res: nan\n",
            "update_bcs1: 0.000e+00\n"
          ]
        },
        {
          "name": "stdout",
          "output_type": "stream",
          "text": [
            " adaptive_constant_bc:  nan\n"
          ]
        },
        {
          "name": "stderr",
          "output_type": "stream",
          "text": [
            "It: 11500, Loss: 3.568e+03, Loss_bcs: 3.558e+01, Loss_res: 3.532e+03 ,Time: 0.00\n",
            "update_res: nan\n",
            "update_bcs1: 0.000e+00\n"
          ]
        },
        {
          "name": "stdout",
          "output_type": "stream",
          "text": [
            " adaptive_constant_bc:  nan\n"
          ]
        },
        {
          "name": "stderr",
          "output_type": "stream",
          "text": [
            "It: 11600, Loss: 3.541e+03, Loss_bcs: 3.590e+01, Loss_res: 3.505e+03 ,Time: 0.00\n",
            "update_res: nan\n",
            "update_bcs1: 0.000e+00\n"
          ]
        },
        {
          "name": "stdout",
          "output_type": "stream",
          "text": [
            " adaptive_constant_bc:  nan\n"
          ]
        },
        {
          "name": "stderr",
          "output_type": "stream",
          "text": [
            "It: 11700, Loss: 3.515e+03, Loss_bcs: 3.623e+01, Loss_res: 3.478e+03 ,Time: 0.00\n",
            "update_res: nan\n",
            "update_bcs1: 0.000e+00\n"
          ]
        },
        {
          "name": "stdout",
          "output_type": "stream",
          "text": [
            " adaptive_constant_bc:  nan\n"
          ]
        },
        {
          "name": "stderr",
          "output_type": "stream",
          "text": [
            "It: 11800, Loss: 3.489e+03, Loss_bcs: 3.655e+01, Loss_res: 3.452e+03 ,Time: 0.00\n",
            "update_res: nan\n",
            "update_bcs1: 0.000e+00\n"
          ]
        },
        {
          "name": "stdout",
          "output_type": "stream",
          "text": [
            " adaptive_constant_bc:  nan\n"
          ]
        },
        {
          "name": "stderr",
          "output_type": "stream",
          "text": [
            "It: 11900, Loss: 3.463e+03, Loss_bcs: 3.686e+01, Loss_res: 3.426e+03 ,Time: 0.00\n",
            "update_res: nan\n",
            "update_bcs1: 0.000e+00\n"
          ]
        },
        {
          "name": "stdout",
          "output_type": "stream",
          "text": [
            " adaptive_constant_bc:  nan\n"
          ]
        },
        {
          "name": "stderr",
          "output_type": "stream",
          "text": [
            "It: 12000, Loss: 3.438e+03, Loss_bcs: 3.718e+01, Loss_res: 3.401e+03 ,Time: 0.00\n",
            "update_res: nan\n",
            "update_bcs1: 0.000e+00\n"
          ]
        },
        {
          "name": "stdout",
          "output_type": "stream",
          "text": [
            " adaptive_constant_bc:  nan\n"
          ]
        },
        {
          "name": "stderr",
          "output_type": "stream",
          "text": [
            "It: 12100, Loss: 3.413e+03, Loss_bcs: 3.749e+01, Loss_res: 3.376e+03 ,Time: 0.00\n",
            "update_res: nan\n",
            "update_bcs1: 0.000e+00\n"
          ]
        },
        {
          "name": "stdout",
          "output_type": "stream",
          "text": [
            " adaptive_constant_bc:  nan\n"
          ]
        },
        {
          "name": "stderr",
          "output_type": "stream",
          "text": [
            "It: 12200, Loss: 3.389e+03, Loss_bcs: 3.780e+01, Loss_res: 3.351e+03 ,Time: 0.00\n",
            "update_res: nan\n",
            "update_bcs1: 0.000e+00\n"
          ]
        },
        {
          "name": "stdout",
          "output_type": "stream",
          "text": [
            " adaptive_constant_bc:  nan\n"
          ]
        },
        {
          "name": "stderr",
          "output_type": "stream",
          "text": [
            "It: 12300, Loss: 3.365e+03, Loss_bcs: 3.811e+01, Loss_res: 3.327e+03 ,Time: 0.00\n",
            "update_res: nan\n",
            "update_bcs1: 0.000e+00\n"
          ]
        },
        {
          "name": "stdout",
          "output_type": "stream",
          "text": [
            " adaptive_constant_bc:  nan\n"
          ]
        },
        {
          "name": "stderr",
          "output_type": "stream",
          "text": [
            "It: 12400, Loss: 3.341e+03, Loss_bcs: 3.841e+01, Loss_res: 3.303e+03 ,Time: 0.00\n",
            "update_res: nan\n",
            "update_bcs1: 0.000e+00\n"
          ]
        },
        {
          "name": "stdout",
          "output_type": "stream",
          "text": [
            " adaptive_constant_bc:  nan\n"
          ]
        },
        {
          "name": "stderr",
          "output_type": "stream",
          "text": [
            "It: 12500, Loss: 3.318e+03, Loss_bcs: 3.872e+01, Loss_res: 3.279e+03 ,Time: 0.00\n",
            "update_res: nan\n",
            "update_bcs1: 0.000e+00\n"
          ]
        },
        {
          "name": "stdout",
          "output_type": "stream",
          "text": [
            " adaptive_constant_bc:  nan\n"
          ]
        },
        {
          "name": "stderr",
          "output_type": "stream",
          "text": [
            "It: 12600, Loss: 3.295e+03, Loss_bcs: 3.901e+01, Loss_res: 3.256e+03 ,Time: 0.00\n",
            "update_res: nan\n",
            "update_bcs1: 0.000e+00\n"
          ]
        },
        {
          "name": "stdout",
          "output_type": "stream",
          "text": [
            " adaptive_constant_bc:  nan\n"
          ]
        },
        {
          "name": "stderr",
          "output_type": "stream",
          "text": [
            "It: 12700, Loss: 3.272e+03, Loss_bcs: 3.931e+01, Loss_res: 3.233e+03 ,Time: 0.00\n",
            "update_res: nan\n",
            "update_bcs1: 0.000e+00\n"
          ]
        },
        {
          "name": "stdout",
          "output_type": "stream",
          "text": [
            " adaptive_constant_bc:  nan\n"
          ]
        },
        {
          "name": "stderr",
          "output_type": "stream",
          "text": [
            "It: 12800, Loss: 3.250e+03, Loss_bcs: 3.961e+01, Loss_res: 3.210e+03 ,Time: 0.00\n",
            "update_res: nan\n",
            "update_bcs1: 0.000e+00\n"
          ]
        },
        {
          "name": "stdout",
          "output_type": "stream",
          "text": [
            " adaptive_constant_bc:  nan\n"
          ]
        },
        {
          "name": "stderr",
          "output_type": "stream",
          "text": [
            "It: 12900, Loss: 3.228e+03, Loss_bcs: 3.990e+01, Loss_res: 3.188e+03 ,Time: 0.00\n",
            "update_res: nan\n",
            "update_bcs1: 0.000e+00\n"
          ]
        },
        {
          "name": "stdout",
          "output_type": "stream",
          "text": [
            " adaptive_constant_bc:  nan\n"
          ]
        },
        {
          "name": "stderr",
          "output_type": "stream",
          "text": [
            "It: 13000, Loss: 3.206e+03, Loss_bcs: 4.019e+01, Loss_res: 3.166e+03 ,Time: 0.00\n",
            "update_res: nan\n",
            "update_bcs1: 0.000e+00\n"
          ]
        },
        {
          "name": "stdout",
          "output_type": "stream",
          "text": [
            " adaptive_constant_bc:  nan\n"
          ]
        },
        {
          "name": "stderr",
          "output_type": "stream",
          "text": [
            "It: 13100, Loss: 3.185e+03, Loss_bcs: 4.047e+01, Loss_res: 3.144e+03 ,Time: 0.00\n",
            "update_res: nan\n",
            "update_bcs1: 0.000e+00\n"
          ]
        },
        {
          "name": "stdout",
          "output_type": "stream",
          "text": [
            " adaptive_constant_bc:  nan\n"
          ]
        },
        {
          "name": "stderr",
          "output_type": "stream",
          "text": [
            "It: 13200, Loss: 3.164e+03, Loss_bcs: 4.076e+01, Loss_res: 3.123e+03 ,Time: 0.00\n",
            "update_res: nan\n",
            "update_bcs1: 0.000e+00\n"
          ]
        },
        {
          "name": "stdout",
          "output_type": "stream",
          "text": [
            " adaptive_constant_bc:  nan\n"
          ]
        },
        {
          "name": "stderr",
          "output_type": "stream",
          "text": [
            "It: 13300, Loss: 3.143e+03, Loss_bcs: 4.104e+01, Loss_res: 3.102e+03 ,Time: 0.00\n",
            "update_res: nan\n",
            "update_bcs1: 0.000e+00\n"
          ]
        },
        {
          "name": "stdout",
          "output_type": "stream",
          "text": [
            " adaptive_constant_bc:  nan\n"
          ]
        },
        {
          "name": "stderr",
          "output_type": "stream",
          "text": [
            "It: 13400, Loss: 3.123e+03, Loss_bcs: 4.132e+01, Loss_res: 3.081e+03 ,Time: 0.00\n",
            "update_res: nan\n",
            "update_bcs1: 0.000e+00\n"
          ]
        },
        {
          "name": "stdout",
          "output_type": "stream",
          "text": [
            " adaptive_constant_bc:  nan\n"
          ]
        },
        {
          "name": "stderr",
          "output_type": "stream",
          "text": [
            "It: 13500, Loss: 3.103e+03, Loss_bcs: 4.159e+01, Loss_res: 3.061e+03 ,Time: 0.00\n",
            "update_res: nan\n",
            "update_bcs1: 0.000e+00\n"
          ]
        },
        {
          "name": "stdout",
          "output_type": "stream",
          "text": [
            " adaptive_constant_bc:  nan\n"
          ]
        },
        {
          "name": "stderr",
          "output_type": "stream",
          "text": [
            "It: 13600, Loss: 3.083e+03, Loss_bcs: 4.187e+01, Loss_res: 3.041e+03 ,Time: 0.00\n",
            "update_res: nan\n",
            "update_bcs1: 0.000e+00\n"
          ]
        },
        {
          "name": "stdout",
          "output_type": "stream",
          "text": [
            " adaptive_constant_bc:  nan\n"
          ]
        },
        {
          "name": "stderr",
          "output_type": "stream",
          "text": [
            "It: 13700, Loss: 3.063e+03, Loss_bcs: 4.214e+01, Loss_res: 3.021e+03 ,Time: 0.00\n",
            "update_res: nan\n",
            "update_bcs1: 0.000e+00\n"
          ]
        },
        {
          "name": "stdout",
          "output_type": "stream",
          "text": [
            " adaptive_constant_bc:  nan\n"
          ]
        },
        {
          "name": "stderr",
          "output_type": "stream",
          "text": [
            "It: 13800, Loss: 3.044e+03, Loss_bcs: 4.241e+01, Loss_res: 3.001e+03 ,Time: 0.00\n",
            "update_res: nan\n",
            "update_bcs1: 0.000e+00\n"
          ]
        },
        {
          "name": "stdout",
          "output_type": "stream",
          "text": [
            " adaptive_constant_bc:  nan\n"
          ]
        },
        {
          "name": "stderr",
          "output_type": "stream",
          "text": [
            "It: 13900, Loss: 3.025e+03, Loss_bcs: 4.268e+01, Loss_res: 2.982e+03 ,Time: 0.00\n",
            "update_res: nan\n",
            "update_bcs1: 0.000e+00\n"
          ]
        },
        {
          "name": "stdout",
          "output_type": "stream",
          "text": [
            " adaptive_constant_bc:  nan\n"
          ]
        },
        {
          "name": "stderr",
          "output_type": "stream",
          "text": [
            "It: 14000, Loss: 3.006e+03, Loss_bcs: 4.294e+01, Loss_res: 2.963e+03 ,Time: 0.00\n",
            "update_res: nan\n",
            "update_bcs1: 0.000e+00\n"
          ]
        },
        {
          "name": "stdout",
          "output_type": "stream",
          "text": [
            " adaptive_constant_bc:  nan\n"
          ]
        },
        {
          "name": "stderr",
          "output_type": "stream",
          "text": [
            "It: 14100, Loss: 2.988e+03, Loss_bcs: 4.320e+01, Loss_res: 2.944e+03 ,Time: 0.00\n",
            "update_res: nan\n",
            "update_bcs1: 0.000e+00\n"
          ]
        },
        {
          "name": "stdout",
          "output_type": "stream",
          "text": [
            " adaptive_constant_bc:  nan\n"
          ]
        },
        {
          "name": "stderr",
          "output_type": "stream",
          "text": [
            "It: 14200, Loss: 2.969e+03, Loss_bcs: 4.346e+01, Loss_res: 2.926e+03 ,Time: 0.00\n",
            "update_res: nan\n",
            "update_bcs1: 0.000e+00\n"
          ]
        },
        {
          "name": "stdout",
          "output_type": "stream",
          "text": [
            " adaptive_constant_bc:  nan\n"
          ]
        },
        {
          "name": "stderr",
          "output_type": "stream",
          "text": [
            "It: 14300, Loss: 2.952e+03, Loss_bcs: 4.372e+01, Loss_res: 2.908e+03 ,Time: 0.00\n",
            "update_res: nan\n",
            "update_bcs1: 0.000e+00\n"
          ]
        },
        {
          "name": "stdout",
          "output_type": "stream",
          "text": [
            " adaptive_constant_bc:  nan\n"
          ]
        },
        {
          "name": "stderr",
          "output_type": "stream",
          "text": [
            "It: 14400, Loss: 2.934e+03, Loss_bcs: 4.397e+01, Loss_res: 2.890e+03 ,Time: 0.00\n",
            "update_res: nan\n",
            "update_bcs1: 0.000e+00\n"
          ]
        },
        {
          "name": "stdout",
          "output_type": "stream",
          "text": [
            " adaptive_constant_bc:  nan\n"
          ]
        },
        {
          "name": "stderr",
          "output_type": "stream",
          "text": [
            "It: 14500, Loss: 2.916e+03, Loss_bcs: 4.422e+01, Loss_res: 2.872e+03 ,Time: 0.00\n",
            "update_res: nan\n",
            "update_bcs1: 0.000e+00\n"
          ]
        },
        {
          "name": "stdout",
          "output_type": "stream",
          "text": [
            " adaptive_constant_bc:  nan\n"
          ]
        },
        {
          "name": "stderr",
          "output_type": "stream",
          "text": [
            "It: 14600, Loss: 2.899e+03, Loss_bcs: 4.447e+01, Loss_res: 2.855e+03 ,Time: 0.00\n",
            "update_res: nan\n",
            "update_bcs1: 0.000e+00\n"
          ]
        },
        {
          "name": "stdout",
          "output_type": "stream",
          "text": [
            " adaptive_constant_bc:  nan\n"
          ]
        },
        {
          "name": "stderr",
          "output_type": "stream",
          "text": [
            "It: 14700, Loss: 2.882e+03, Loss_bcs: 4.472e+01, Loss_res: 2.838e+03 ,Time: 0.00\n",
            "update_res: nan\n",
            "update_bcs1: 0.000e+00\n"
          ]
        },
        {
          "name": "stdout",
          "output_type": "stream",
          "text": [
            " adaptive_constant_bc:  nan\n"
          ]
        },
        {
          "name": "stderr",
          "output_type": "stream",
          "text": [
            "It: 14800, Loss: 2.866e+03, Loss_bcs: 4.497e+01, Loss_res: 2.821e+03 ,Time: 0.00\n",
            "update_res: nan\n",
            "update_bcs1: 0.000e+00\n"
          ]
        },
        {
          "name": "stdout",
          "output_type": "stream",
          "text": [
            " adaptive_constant_bc:  nan\n"
          ]
        },
        {
          "name": "stderr",
          "output_type": "stream",
          "text": [
            "It: 14900, Loss: 2.849e+03, Loss_bcs: 4.521e+01, Loss_res: 2.804e+03 ,Time: 0.00\n",
            "update_res: nan\n",
            "update_bcs1: 0.000e+00\n"
          ]
        },
        {
          "name": "stdout",
          "output_type": "stream",
          "text": [
            " adaptive_constant_bc:  nan\n"
          ]
        },
        {
          "name": "stderr",
          "output_type": "stream",
          "text": [
            "It: 15000, Loss: 2.833e+03, Loss_bcs: 4.545e+01, Loss_res: 2.788e+03 ,Time: 0.00\n",
            "update_res: nan\n",
            "update_bcs1: 0.000e+00\n"
          ]
        },
        {
          "name": "stdout",
          "output_type": "stream",
          "text": [
            " adaptive_constant_bc:  nan\n"
          ]
        },
        {
          "name": "stderr",
          "output_type": "stream",
          "text": [
            "It: 15100, Loss: 2.817e+03, Loss_bcs: 4.569e+01, Loss_res: 2.771e+03 ,Time: 0.00\n",
            "update_res: nan\n",
            "update_bcs1: 0.000e+00\n"
          ]
        },
        {
          "name": "stdout",
          "output_type": "stream",
          "text": [
            " adaptive_constant_bc:  nan\n"
          ]
        },
        {
          "name": "stderr",
          "output_type": "stream",
          "text": [
            "It: 15200, Loss: 2.801e+03, Loss_bcs: 4.592e+01, Loss_res: 2.755e+03 ,Time: 0.00\n",
            "update_res: nan\n",
            "update_bcs1: 0.000e+00\n"
          ]
        },
        {
          "name": "stdout",
          "output_type": "stream",
          "text": [
            " adaptive_constant_bc:  nan\n"
          ]
        },
        {
          "name": "stderr",
          "output_type": "stream",
          "text": [
            "It: 15300, Loss: 2.786e+03, Loss_bcs: 4.616e+01, Loss_res: 2.740e+03 ,Time: 0.01\n",
            "update_res: nan\n",
            "update_bcs1: 0.000e+00\n"
          ]
        },
        {
          "name": "stdout",
          "output_type": "stream",
          "text": [
            " adaptive_constant_bc:  nan\n"
          ]
        },
        {
          "name": "stderr",
          "output_type": "stream",
          "text": [
            "It: 15400, Loss: 2.771e+03, Loss_bcs: 4.639e+01, Loss_res: 2.724e+03 ,Time: 0.00\n",
            "update_res: nan\n",
            "update_bcs1: 0.000e+00\n"
          ]
        },
        {
          "name": "stdout",
          "output_type": "stream",
          "text": [
            " adaptive_constant_bc:  nan\n"
          ]
        },
        {
          "name": "stderr",
          "output_type": "stream",
          "text": [
            "It: 15500, Loss: 2.755e+03, Loss_bcs: 4.662e+01, Loss_res: 2.709e+03 ,Time: 0.00\n",
            "update_res: nan\n",
            "update_bcs1: 0.000e+00\n"
          ]
        },
        {
          "name": "stdout",
          "output_type": "stream",
          "text": [
            " adaptive_constant_bc:  nan\n"
          ]
        },
        {
          "name": "stderr",
          "output_type": "stream",
          "text": [
            "It: 15600, Loss: 2.741e+03, Loss_bcs: 4.684e+01, Loss_res: 2.694e+03 ,Time: 0.00\n",
            "update_res: nan\n",
            "update_bcs1: 0.000e+00\n"
          ]
        },
        {
          "name": "stdout",
          "output_type": "stream",
          "text": [
            " adaptive_constant_bc:  nan\n"
          ]
        },
        {
          "name": "stderr",
          "output_type": "stream",
          "text": [
            "It: 15700, Loss: 2.726e+03, Loss_bcs: 4.707e+01, Loss_res: 2.679e+03 ,Time: 0.00\n",
            "update_res: nan\n",
            "update_bcs1: 0.000e+00\n"
          ]
        },
        {
          "name": "stdout",
          "output_type": "stream",
          "text": [
            " adaptive_constant_bc:  nan\n"
          ]
        },
        {
          "name": "stderr",
          "output_type": "stream",
          "text": [
            "It: 15800, Loss: 2.711e+03, Loss_bcs: 4.729e+01, Loss_res: 2.664e+03 ,Time: 0.00\n",
            "update_res: nan\n",
            "update_bcs1: 0.000e+00\n"
          ]
        },
        {
          "name": "stdout",
          "output_type": "stream",
          "text": [
            " adaptive_constant_bc:  nan\n"
          ]
        },
        {
          "name": "stderr",
          "output_type": "stream",
          "text": [
            "It: 15900, Loss: 2.697e+03, Loss_bcs: 4.751e+01, Loss_res: 2.650e+03 ,Time: 0.00\n",
            "update_res: nan\n",
            "update_bcs1: 0.000e+00\n"
          ]
        },
        {
          "name": "stdout",
          "output_type": "stream",
          "text": [
            " adaptive_constant_bc:  nan\n"
          ]
        },
        {
          "name": "stderr",
          "output_type": "stream",
          "text": [
            "It: 16000, Loss: 2.683e+03, Loss_bcs: 4.773e+01, Loss_res: 2.635e+03 ,Time: 0.00\n",
            "update_res: nan\n",
            "update_bcs1: 0.000e+00\n"
          ]
        },
        {
          "name": "stdout",
          "output_type": "stream",
          "text": [
            " adaptive_constant_bc:  nan\n"
          ]
        },
        {
          "name": "stderr",
          "output_type": "stream",
          "text": [
            "It: 16100, Loss: 2.669e+03, Loss_bcs: 4.795e+01, Loss_res: 2.621e+03 ,Time: 0.00\n",
            "update_res: nan\n",
            "update_bcs1: 0.000e+00\n"
          ]
        },
        {
          "name": "stdout",
          "output_type": "stream",
          "text": [
            " adaptive_constant_bc:  nan\n"
          ]
        },
        {
          "name": "stderr",
          "output_type": "stream",
          "text": [
            "It: 16200, Loss: 2.656e+03, Loss_bcs: 4.816e+01, Loss_res: 2.608e+03 ,Time: 0.00\n",
            "update_res: nan\n",
            "update_bcs1: 0.000e+00\n"
          ]
        },
        {
          "name": "stdout",
          "output_type": "stream",
          "text": [
            " adaptive_constant_bc:  nan\n"
          ]
        },
        {
          "name": "stderr",
          "output_type": "stream",
          "text": [
            "It: 16300, Loss: 2.642e+03, Loss_bcs: 4.837e+01, Loss_res: 2.594e+03 ,Time: 0.00\n",
            "update_res: nan\n",
            "update_bcs1: 0.000e+00\n"
          ]
        },
        {
          "name": "stdout",
          "output_type": "stream",
          "text": [
            " adaptive_constant_bc:  nan\n"
          ]
        },
        {
          "name": "stderr",
          "output_type": "stream",
          "text": [
            "It: 16400, Loss: 2.629e+03, Loss_bcs: 4.858e+01, Loss_res: 2.580e+03 ,Time: 0.00\n",
            "update_res: nan\n",
            "update_bcs1: 0.000e+00\n"
          ]
        },
        {
          "name": "stdout",
          "output_type": "stream",
          "text": [
            " adaptive_constant_bc:  nan\n"
          ]
        },
        {
          "name": "stderr",
          "output_type": "stream",
          "text": [
            "It: 16500, Loss: 2.616e+03, Loss_bcs: 4.879e+01, Loss_res: 2.567e+03 ,Time: 0.00\n",
            "update_res: nan\n",
            "update_bcs1: 0.000e+00\n"
          ]
        },
        {
          "name": "stdout",
          "output_type": "stream",
          "text": [
            " adaptive_constant_bc:  nan\n"
          ]
        },
        {
          "name": "stderr",
          "output_type": "stream",
          "text": [
            "It: 16600, Loss: 2.603e+03, Loss_bcs: 4.900e+01, Loss_res: 2.554e+03 ,Time: 0.00\n",
            "update_res: nan\n",
            "update_bcs1: 0.000e+00\n"
          ]
        },
        {
          "name": "stdout",
          "output_type": "stream",
          "text": [
            " adaptive_constant_bc:  nan\n"
          ]
        },
        {
          "name": "stderr",
          "output_type": "stream",
          "text": [
            "It: 16700, Loss: 2.590e+03, Loss_bcs: 4.920e+01, Loss_res: 2.541e+03 ,Time: 0.00\n",
            "update_res: nan\n",
            "update_bcs1: 0.000e+00\n"
          ]
        },
        {
          "name": "stdout",
          "output_type": "stream",
          "text": [
            " adaptive_constant_bc:  nan\n"
          ]
        },
        {
          "name": "stderr",
          "output_type": "stream",
          "text": [
            "It: 16800, Loss: 2.578e+03, Loss_bcs: 4.940e+01, Loss_res: 2.528e+03 ,Time: 0.00\n",
            "update_res: nan\n",
            "update_bcs1: 0.000e+00\n"
          ]
        },
        {
          "name": "stdout",
          "output_type": "stream",
          "text": [
            " adaptive_constant_bc:  nan\n"
          ]
        },
        {
          "name": "stderr",
          "output_type": "stream",
          "text": [
            "It: 16900, Loss: 2.565e+03, Loss_bcs: 4.960e+01, Loss_res: 2.516e+03 ,Time: 0.00\n",
            "update_res: nan\n",
            "update_bcs1: 0.000e+00\n"
          ]
        },
        {
          "name": "stdout",
          "output_type": "stream",
          "text": [
            " adaptive_constant_bc:  nan\n"
          ]
        },
        {
          "name": "stderr",
          "output_type": "stream",
          "text": [
            "It: 17000, Loss: 2.553e+03, Loss_bcs: 4.980e+01, Loss_res: 2.503e+03 ,Time: 0.00\n",
            "update_res: nan\n",
            "update_bcs1: 0.000e+00\n"
          ]
        },
        {
          "name": "stdout",
          "output_type": "stream",
          "text": [
            " adaptive_constant_bc:  nan\n"
          ]
        },
        {
          "name": "stderr",
          "output_type": "stream",
          "text": [
            "It: 17100, Loss: 2.541e+03, Loss_bcs: 5.000e+01, Loss_res: 2.491e+03 ,Time: 0.00\n",
            "update_res: nan\n",
            "update_bcs1: 0.000e+00\n"
          ]
        },
        {
          "name": "stdout",
          "output_type": "stream",
          "text": [
            " adaptive_constant_bc:  nan\n"
          ]
        },
        {
          "name": "stderr",
          "output_type": "stream",
          "text": [
            "It: 17200, Loss: 2.529e+03, Loss_bcs: 5.019e+01, Loss_res: 2.479e+03 ,Time: 0.00\n",
            "update_res: nan\n",
            "update_bcs1: 0.000e+00\n"
          ]
        },
        {
          "name": "stdout",
          "output_type": "stream",
          "text": [
            " adaptive_constant_bc:  nan\n"
          ]
        },
        {
          "name": "stderr",
          "output_type": "stream",
          "text": [
            "It: 17300, Loss: 2.518e+03, Loss_bcs: 5.038e+01, Loss_res: 2.467e+03 ,Time: 0.00\n",
            "update_res: nan\n",
            "update_bcs1: 0.000e+00\n"
          ]
        },
        {
          "name": "stdout",
          "output_type": "stream",
          "text": [
            " adaptive_constant_bc:  nan\n"
          ]
        },
        {
          "name": "stderr",
          "output_type": "stream",
          "text": [
            "It: 17400, Loss: 2.506e+03, Loss_bcs: 5.057e+01, Loss_res: 2.455e+03 ,Time: 0.00\n",
            "update_res: nan\n",
            "update_bcs1: 0.000e+00\n"
          ]
        },
        {
          "name": "stdout",
          "output_type": "stream",
          "text": [
            " adaptive_constant_bc:  nan\n"
          ]
        },
        {
          "name": "stderr",
          "output_type": "stream",
          "text": [
            "It: 17500, Loss: 2.495e+03, Loss_bcs: 5.076e+01, Loss_res: 2.444e+03 ,Time: 0.00\n",
            "update_res: nan\n",
            "update_bcs1: 0.000e+00\n"
          ]
        },
        {
          "name": "stdout",
          "output_type": "stream",
          "text": [
            " adaptive_constant_bc:  nan\n"
          ]
        },
        {
          "name": "stderr",
          "output_type": "stream",
          "text": [
            "It: 17600, Loss: 2.483e+03, Loss_bcs: 5.095e+01, Loss_res: 2.433e+03 ,Time: 0.00\n",
            "update_res: nan\n",
            "update_bcs1: 0.000e+00\n"
          ]
        },
        {
          "name": "stdout",
          "output_type": "stream",
          "text": [
            " adaptive_constant_bc:  nan\n"
          ]
        },
        {
          "name": "stderr",
          "output_type": "stream",
          "text": [
            "It: 17700, Loss: 2.472e+03, Loss_bcs: 5.113e+01, Loss_res: 2.421e+03 ,Time: 0.00\n",
            "update_res: nan\n",
            "update_bcs1: 0.000e+00\n"
          ]
        },
        {
          "name": "stdout",
          "output_type": "stream",
          "text": [
            " adaptive_constant_bc:  nan\n"
          ]
        },
        {
          "name": "stderr",
          "output_type": "stream",
          "text": [
            "It: 17800, Loss: 2.461e+03, Loss_bcs: 5.132e+01, Loss_res: 2.410e+03 ,Time: 0.00\n",
            "update_res: nan\n",
            "update_bcs1: 0.000e+00\n"
          ]
        },
        {
          "name": "stdout",
          "output_type": "stream",
          "text": [
            " adaptive_constant_bc:  nan\n"
          ]
        },
        {
          "name": "stderr",
          "output_type": "stream",
          "text": [
            "It: 17900, Loss: 2.451e+03, Loss_bcs: 5.150e+01, Loss_res: 2.399e+03 ,Time: 0.00\n",
            "update_res: nan\n",
            "update_bcs1: 0.000e+00\n"
          ]
        },
        {
          "name": "stdout",
          "output_type": "stream",
          "text": [
            " adaptive_constant_bc:  nan\n"
          ]
        },
        {
          "name": "stderr",
          "output_type": "stream",
          "text": [
            "It: 18000, Loss: 2.440e+03, Loss_bcs: 5.168e+01, Loss_res: 2.388e+03 ,Time: 0.00\n",
            "update_res: nan\n",
            "update_bcs1: 0.000e+00\n"
          ]
        },
        {
          "name": "stdout",
          "output_type": "stream",
          "text": [
            " adaptive_constant_bc:  nan\n"
          ]
        },
        {
          "name": "stderr",
          "output_type": "stream",
          "text": [
            "It: 18100, Loss: 2.430e+03, Loss_bcs: 5.185e+01, Loss_res: 2.378e+03 ,Time: 0.00\n",
            "update_res: nan\n",
            "update_bcs1: 0.000e+00\n"
          ]
        },
        {
          "name": "stdout",
          "output_type": "stream",
          "text": [
            " adaptive_constant_bc:  nan\n"
          ]
        },
        {
          "name": "stderr",
          "output_type": "stream",
          "text": [
            "It: 18200, Loss: 2.419e+03, Loss_bcs: 5.203e+01, Loss_res: 2.367e+03 ,Time: 0.00\n",
            "update_res: nan\n",
            "update_bcs1: 0.000e+00\n"
          ]
        },
        {
          "name": "stdout",
          "output_type": "stream",
          "text": [
            " adaptive_constant_bc:  nan\n"
          ]
        },
        {
          "name": "stderr",
          "output_type": "stream",
          "text": [
            "It: 18300, Loss: 2.409e+03, Loss_bcs: 5.220e+01, Loss_res: 2.357e+03 ,Time: 0.00\n",
            "update_res: nan\n",
            "update_bcs1: 0.000e+00\n"
          ]
        },
        {
          "name": "stdout",
          "output_type": "stream",
          "text": [
            " adaptive_constant_bc:  nan\n"
          ]
        },
        {
          "name": "stderr",
          "output_type": "stream",
          "text": [
            "It: 18400, Loss: 2.399e+03, Loss_bcs: 5.237e+01, Loss_res: 2.347e+03 ,Time: 0.00\n",
            "update_res: nan\n",
            "update_bcs1: 0.000e+00\n"
          ]
        },
        {
          "name": "stdout",
          "output_type": "stream",
          "text": [
            " adaptive_constant_bc:  nan\n"
          ]
        },
        {
          "name": "stderr",
          "output_type": "stream",
          "text": [
            "It: 18500, Loss: 2.389e+03, Loss_bcs: 5.254e+01, Loss_res: 2.337e+03 ,Time: 0.00\n",
            "update_res: nan\n",
            "update_bcs1: 0.000e+00\n"
          ]
        },
        {
          "name": "stdout",
          "output_type": "stream",
          "text": [
            " adaptive_constant_bc:  nan\n"
          ]
        },
        {
          "name": "stderr",
          "output_type": "stream",
          "text": [
            "It: 18600, Loss: 2.379e+03, Loss_bcs: 5.271e+01, Loss_res: 2.327e+03 ,Time: 0.00\n",
            "update_res: nan\n",
            "update_bcs1: 0.000e+00\n"
          ]
        },
        {
          "name": "stdout",
          "output_type": "stream",
          "text": [
            " adaptive_constant_bc:  nan\n"
          ]
        },
        {
          "name": "stderr",
          "output_type": "stream",
          "text": [
            "It: 18700, Loss: 2.370e+03, Loss_bcs: 5.288e+01, Loss_res: 2.317e+03 ,Time: 0.00\n",
            "update_res: nan\n",
            "update_bcs1: 0.000e+00\n"
          ]
        },
        {
          "name": "stdout",
          "output_type": "stream",
          "text": [
            " adaptive_constant_bc:  nan\n"
          ]
        },
        {
          "name": "stderr",
          "output_type": "stream",
          "text": [
            "It: 18800, Loss: 2.360e+03, Loss_bcs: 5.304e+01, Loss_res: 2.307e+03 ,Time: 0.00\n",
            "update_res: nan\n",
            "update_bcs1: 0.000e+00\n"
          ]
        },
        {
          "name": "stdout",
          "output_type": "stream",
          "text": [
            " adaptive_constant_bc:  nan\n"
          ]
        },
        {
          "name": "stderr",
          "output_type": "stream",
          "text": [
            "It: 18900, Loss: 2.351e+03, Loss_bcs: 5.320e+01, Loss_res: 2.298e+03 ,Time: 0.00\n",
            "update_res: nan\n",
            "update_bcs1: 0.000e+00\n"
          ]
        },
        {
          "name": "stdout",
          "output_type": "stream",
          "text": [
            " adaptive_constant_bc:  nan\n"
          ]
        },
        {
          "name": "stderr",
          "output_type": "stream",
          "text": [
            "It: 19000, Loss: 2.342e+03, Loss_bcs: 5.336e+01, Loss_res: 2.288e+03 ,Time: 0.00\n",
            "update_res: nan\n",
            "update_bcs1: 0.000e+00\n"
          ]
        },
        {
          "name": "stdout",
          "output_type": "stream",
          "text": [
            " adaptive_constant_bc:  nan\n"
          ]
        },
        {
          "name": "stderr",
          "output_type": "stream",
          "text": [
            "It: 19100, Loss: 2.333e+03, Loss_bcs: 5.352e+01, Loss_res: 2.279e+03 ,Time: 0.00\n",
            "update_res: nan\n",
            "update_bcs1: 0.000e+00\n"
          ]
        },
        {
          "name": "stdout",
          "output_type": "stream",
          "text": [
            " adaptive_constant_bc:  nan\n"
          ]
        },
        {
          "name": "stderr",
          "output_type": "stream",
          "text": [
            "It: 19200, Loss: 2.324e+03, Loss_bcs: 5.368e+01, Loss_res: 2.270e+03 ,Time: 0.00\n",
            "update_res: nan\n",
            "update_bcs1: 0.000e+00\n"
          ]
        },
        {
          "name": "stdout",
          "output_type": "stream",
          "text": [
            " adaptive_constant_bc:  nan\n"
          ]
        },
        {
          "name": "stderr",
          "output_type": "stream",
          "text": [
            "It: 19300, Loss: 2.315e+03, Loss_bcs: 5.383e+01, Loss_res: 2.261e+03 ,Time: 0.00\n",
            "update_res: nan\n",
            "update_bcs1: 0.000e+00\n"
          ]
        },
        {
          "name": "stdout",
          "output_type": "stream",
          "text": [
            " adaptive_constant_bc:  nan\n"
          ]
        },
        {
          "name": "stderr",
          "output_type": "stream",
          "text": [
            "It: 19400, Loss: 2.306e+03, Loss_bcs: 5.399e+01, Loss_res: 2.252e+03 ,Time: 0.00\n",
            "update_res: nan\n",
            "update_bcs1: 0.000e+00\n"
          ]
        },
        {
          "name": "stdout",
          "output_type": "stream",
          "text": [
            " adaptive_constant_bc:  nan\n"
          ]
        },
        {
          "name": "stderr",
          "output_type": "stream",
          "text": [
            "It: 19500, Loss: 2.297e+03, Loss_bcs: 5.414e+01, Loss_res: 2.243e+03 ,Time: 0.00\n",
            "update_res: nan\n",
            "update_bcs1: 0.000e+00\n"
          ]
        },
        {
          "name": "stdout",
          "output_type": "stream",
          "text": [
            " adaptive_constant_bc:  nan\n"
          ]
        },
        {
          "name": "stderr",
          "output_type": "stream",
          "text": [
            "It: 19600, Loss: 2.289e+03, Loss_bcs: 5.429e+01, Loss_res: 2.235e+03 ,Time: 0.00\n",
            "update_res: nan\n",
            "update_bcs1: 0.000e+00\n"
          ]
        },
        {
          "name": "stdout",
          "output_type": "stream",
          "text": [
            " adaptive_constant_bc:  nan\n"
          ]
        },
        {
          "name": "stderr",
          "output_type": "stream",
          "text": [
            "It: 19700, Loss: 2.281e+03, Loss_bcs: 5.444e+01, Loss_res: 2.226e+03 ,Time: 0.00\n",
            "update_res: nan\n",
            "update_bcs1: 0.000e+00\n"
          ]
        },
        {
          "name": "stdout",
          "output_type": "stream",
          "text": [
            " adaptive_constant_bc:  nan\n"
          ]
        },
        {
          "name": "stderr",
          "output_type": "stream",
          "text": [
            "It: 19800, Loss: 2.272e+03, Loss_bcs: 5.458e+01, Loss_res: 2.218e+03 ,Time: 0.00\n",
            "update_res: nan\n",
            "update_bcs1: 0.000e+00\n"
          ]
        },
        {
          "name": "stdout",
          "output_type": "stream",
          "text": [
            " adaptive_constant_bc:  nan\n"
          ]
        },
        {
          "name": "stderr",
          "output_type": "stream",
          "text": [
            "It: 19900, Loss: 2.264e+03, Loss_bcs: 5.473e+01, Loss_res: 2.209e+03 ,Time: 0.00\n",
            "update_res: nan\n",
            "update_bcs1: 0.000e+00\n"
          ]
        },
        {
          "name": "stdout",
          "output_type": "stream",
          "text": [
            " adaptive_constant_bc:  nan\n"
          ]
        },
        {
          "name": "stderr",
          "output_type": "stream",
          "text": [
            "It: 20000, Loss: 2.256e+03, Loss_bcs: 5.487e+01, Loss_res: 2.201e+03 ,Time: 0.00\n",
            "update_res: nan\n",
            "update_bcs1: 0.000e+00\n"
          ]
        },
        {
          "name": "stdout",
          "output_type": "stream",
          "text": [
            " adaptive_constant_bc:  nan\n"
          ]
        },
        {
          "name": "stderr",
          "output_type": "stream",
          "text": [
            "It: 20100, Loss: 2.248e+03, Loss_bcs: 5.502e+01, Loss_res: 2.193e+03 ,Time: 0.00\n",
            "update_res: nan\n",
            "update_bcs1: 0.000e+00\n"
          ]
        },
        {
          "name": "stdout",
          "output_type": "stream",
          "text": [
            " adaptive_constant_bc:  nan\n"
          ]
        },
        {
          "name": "stderr",
          "output_type": "stream",
          "text": [
            "It: 20200, Loss: 2.240e+03, Loss_bcs: 5.516e+01, Loss_res: 2.185e+03 ,Time: 0.00\n",
            "update_res: nan\n",
            "update_bcs1: 0.000e+00\n"
          ]
        },
        {
          "name": "stdout",
          "output_type": "stream",
          "text": [
            " adaptive_constant_bc:  nan\n"
          ]
        },
        {
          "name": "stderr",
          "output_type": "stream",
          "text": [
            "It: 20300, Loss: 2.232e+03, Loss_bcs: 5.530e+01, Loss_res: 2.177e+03 ,Time: 0.00\n",
            "update_res: nan\n",
            "update_bcs1: 0.000e+00\n"
          ]
        },
        {
          "name": "stdout",
          "output_type": "stream",
          "text": [
            " adaptive_constant_bc:  nan\n"
          ]
        },
        {
          "name": "stderr",
          "output_type": "stream",
          "text": [
            "It: 20400, Loss: 2.225e+03, Loss_bcs: 5.544e+01, Loss_res: 2.169e+03 ,Time: 0.00\n",
            "update_res: nan\n",
            "update_bcs1: 0.000e+00\n"
          ]
        },
        {
          "name": "stdout",
          "output_type": "stream",
          "text": [
            " adaptive_constant_bc:  nan\n"
          ]
        },
        {
          "name": "stderr",
          "output_type": "stream",
          "text": [
            "It: 20500, Loss: 2.217e+03, Loss_bcs: 5.557e+01, Loss_res: 2.162e+03 ,Time: 0.00\n",
            "update_res: nan\n",
            "update_bcs1: 0.000e+00\n"
          ]
        },
        {
          "name": "stdout",
          "output_type": "stream",
          "text": [
            " adaptive_constant_bc:  nan\n"
          ]
        },
        {
          "name": "stderr",
          "output_type": "stream",
          "text": [
            "It: 20600, Loss: 2.210e+03, Loss_bcs: 5.571e+01, Loss_res: 2.154e+03 ,Time: 0.00\n",
            "update_res: nan\n",
            "update_bcs1: 0.000e+00\n"
          ]
        },
        {
          "name": "stdout",
          "output_type": "stream",
          "text": [
            " adaptive_constant_bc:  nan\n"
          ]
        },
        {
          "name": "stderr",
          "output_type": "stream",
          "text": [
            "It: 20700, Loss: 2.202e+03, Loss_bcs: 5.584e+01, Loss_res: 2.147e+03 ,Time: 0.00\n",
            "update_res: nan\n",
            "update_bcs1: 0.000e+00\n"
          ]
        },
        {
          "name": "stdout",
          "output_type": "stream",
          "text": [
            " adaptive_constant_bc:  nan\n"
          ]
        },
        {
          "name": "stderr",
          "output_type": "stream",
          "text": [
            "It: 20800, Loss: 2.195e+03, Loss_bcs: 5.597e+01, Loss_res: 2.139e+03 ,Time: 0.00\n",
            "update_res: nan\n",
            "update_bcs1: 0.000e+00\n"
          ]
        },
        {
          "name": "stdout",
          "output_type": "stream",
          "text": [
            " adaptive_constant_bc:  nan\n"
          ]
        },
        {
          "name": "stderr",
          "output_type": "stream",
          "text": [
            "It: 20900, Loss: 2.188e+03, Loss_bcs: 5.610e+01, Loss_res: 2.132e+03 ,Time: 0.00\n",
            "update_res: nan\n",
            "update_bcs1: 0.000e+00\n"
          ]
        },
        {
          "name": "stdout",
          "output_type": "stream",
          "text": [
            " adaptive_constant_bc:  nan\n"
          ]
        },
        {
          "name": "stderr",
          "output_type": "stream",
          "text": [
            "It: 21000, Loss: 2.181e+03, Loss_bcs: 5.623e+01, Loss_res: 2.125e+03 ,Time: 0.00\n",
            "update_res: nan\n",
            "update_bcs1: 0.000e+00\n"
          ]
        },
        {
          "name": "stdout",
          "output_type": "stream",
          "text": [
            " adaptive_constant_bc:  nan\n"
          ]
        },
        {
          "name": "stderr",
          "output_type": "stream",
          "text": [
            "It: 21100, Loss: 2.174e+03, Loss_bcs: 5.636e+01, Loss_res: 2.118e+03 ,Time: 0.00\n",
            "update_res: nan\n",
            "update_bcs1: 0.000e+00\n"
          ]
        },
        {
          "name": "stdout",
          "output_type": "stream",
          "text": [
            " adaptive_constant_bc:  nan\n"
          ]
        },
        {
          "name": "stderr",
          "output_type": "stream",
          "text": [
            "It: 21200, Loss: 2.167e+03, Loss_bcs: 5.649e+01, Loss_res: 2.111e+03 ,Time: 0.00\n",
            "update_res: nan\n",
            "update_bcs1: 0.000e+00\n"
          ]
        },
        {
          "name": "stdout",
          "output_type": "stream",
          "text": [
            " adaptive_constant_bc:  nan\n"
          ]
        },
        {
          "name": "stderr",
          "output_type": "stream",
          "text": [
            "It: 21300, Loss: 2.160e+03, Loss_bcs: 5.662e+01, Loss_res: 2.104e+03 ,Time: 0.00\n",
            "update_res: nan\n",
            "update_bcs1: 0.000e+00\n"
          ]
        },
        {
          "name": "stdout",
          "output_type": "stream",
          "text": [
            " adaptive_constant_bc:  nan\n"
          ]
        },
        {
          "name": "stderr",
          "output_type": "stream",
          "text": [
            "It: 21400, Loss: 2.154e+03, Loss_bcs: 5.674e+01, Loss_res: 2.097e+03 ,Time: 0.00\n",
            "update_res: nan\n",
            "update_bcs1: 0.000e+00\n"
          ]
        },
        {
          "name": "stdout",
          "output_type": "stream",
          "text": [
            " adaptive_constant_bc:  nan\n"
          ]
        },
        {
          "name": "stderr",
          "output_type": "stream",
          "text": [
            "It: 21500, Loss: 2.147e+03, Loss_bcs: 5.686e+01, Loss_res: 2.090e+03 ,Time: 0.00\n",
            "update_res: nan\n",
            "update_bcs1: 0.000e+00\n"
          ]
        },
        {
          "name": "stdout",
          "output_type": "stream",
          "text": [
            " adaptive_constant_bc:  nan\n"
          ]
        },
        {
          "name": "stderr",
          "output_type": "stream",
          "text": [
            "It: 21600, Loss: 2.141e+03, Loss_bcs: 5.699e+01, Loss_res: 2.084e+03 ,Time: 0.00\n",
            "update_res: nan\n",
            "update_bcs1: 0.000e+00\n"
          ]
        },
        {
          "name": "stdout",
          "output_type": "stream",
          "text": [
            " adaptive_constant_bc:  nan\n"
          ]
        },
        {
          "name": "stderr",
          "output_type": "stream",
          "text": [
            "It: 21700, Loss: 2.134e+03, Loss_bcs: 5.711e+01, Loss_res: 2.077e+03 ,Time: 0.00\n",
            "update_res: nan\n",
            "update_bcs1: 0.000e+00\n"
          ]
        },
        {
          "name": "stdout",
          "output_type": "stream",
          "text": [
            " adaptive_constant_bc:  nan\n"
          ]
        },
        {
          "name": "stderr",
          "output_type": "stream",
          "text": [
            "It: 21800, Loss: 2.128e+03, Loss_bcs: 5.723e+01, Loss_res: 2.071e+03 ,Time: 0.00\n",
            "update_res: nan\n",
            "update_bcs1: 0.000e+00\n"
          ]
        },
        {
          "name": "stdout",
          "output_type": "stream",
          "text": [
            " adaptive_constant_bc:  nan\n"
          ]
        },
        {
          "name": "stderr",
          "output_type": "stream",
          "text": [
            "It: 21900, Loss: 2.122e+03, Loss_bcs: 5.734e+01, Loss_res: 2.064e+03 ,Time: 0.00\n",
            "update_res: nan\n",
            "update_bcs1: 0.000e+00\n"
          ]
        },
        {
          "name": "stdout",
          "output_type": "stream",
          "text": [
            " adaptive_constant_bc:  nan\n"
          ]
        },
        {
          "name": "stderr",
          "output_type": "stream",
          "text": [
            "It: 22000, Loss: 2.115e+03, Loss_bcs: 5.746e+01, Loss_res: 2.058e+03 ,Time: 0.00\n",
            "update_res: nan\n",
            "update_bcs1: 0.000e+00\n"
          ]
        },
        {
          "name": "stdout",
          "output_type": "stream",
          "text": [
            " adaptive_constant_bc:  nan\n"
          ]
        },
        {
          "name": "stderr",
          "output_type": "stream",
          "text": [
            "It: 22100, Loss: 2.109e+03, Loss_bcs: 5.758e+01, Loss_res: 2.052e+03 ,Time: 0.00\n",
            "update_res: nan\n",
            "update_bcs1: 0.000e+00\n"
          ]
        },
        {
          "name": "stdout",
          "output_type": "stream",
          "text": [
            " adaptive_constant_bc:  nan\n"
          ]
        },
        {
          "name": "stderr",
          "output_type": "stream",
          "text": [
            "It: 22200, Loss: 2.103e+03, Loss_bcs: 5.769e+01, Loss_res: 2.046e+03 ,Time: 0.00\n",
            "update_res: nan\n",
            "update_bcs1: 0.000e+00\n"
          ]
        },
        {
          "name": "stdout",
          "output_type": "stream",
          "text": [
            " adaptive_constant_bc:  nan\n"
          ]
        },
        {
          "name": "stderr",
          "output_type": "stream",
          "text": [
            "It: 22300, Loss: 2.097e+03, Loss_bcs: 5.781e+01, Loss_res: 2.039e+03 ,Time: 0.00\n",
            "update_res: nan\n",
            "update_bcs1: 0.000e+00\n"
          ]
        },
        {
          "name": "stdout",
          "output_type": "stream",
          "text": [
            " adaptive_constant_bc:  nan\n"
          ]
        },
        {
          "name": "stderr",
          "output_type": "stream",
          "text": [
            "It: 22400, Loss: 2.091e+03, Loss_bcs: 5.792e+01, Loss_res: 2.033e+03 ,Time: 0.00\n",
            "update_res: nan\n",
            "update_bcs1: 0.000e+00\n"
          ]
        },
        {
          "name": "stdout",
          "output_type": "stream",
          "text": [
            " adaptive_constant_bc:  nan\n"
          ]
        },
        {
          "name": "stderr",
          "output_type": "stream",
          "text": [
            "It: 22500, Loss: 2.086e+03, Loss_bcs: 5.803e+01, Loss_res: 2.028e+03 ,Time: 0.00\n",
            "update_res: nan\n",
            "update_bcs1: 0.000e+00\n"
          ]
        },
        {
          "name": "stdout",
          "output_type": "stream",
          "text": [
            " adaptive_constant_bc:  nan\n"
          ]
        },
        {
          "name": "stderr",
          "output_type": "stream",
          "text": [
            "It: 22600, Loss: 2.080e+03, Loss_bcs: 5.814e+01, Loss_res: 2.022e+03 ,Time: 0.00\n",
            "update_res: nan\n",
            "update_bcs1: 0.000e+00\n"
          ]
        },
        {
          "name": "stdout",
          "output_type": "stream",
          "text": [
            " adaptive_constant_bc:  nan\n"
          ]
        },
        {
          "name": "stderr",
          "output_type": "stream",
          "text": [
            "It: 22700, Loss: 2.074e+03, Loss_bcs: 5.825e+01, Loss_res: 2.016e+03 ,Time: 0.00\n",
            "update_res: nan\n",
            "update_bcs1: 0.000e+00\n"
          ]
        },
        {
          "name": "stdout",
          "output_type": "stream",
          "text": [
            " adaptive_constant_bc:  nan\n"
          ]
        },
        {
          "name": "stderr",
          "output_type": "stream",
          "text": [
            "It: 22800, Loss: 2.069e+03, Loss_bcs: 5.836e+01, Loss_res: 2.010e+03 ,Time: 0.00\n",
            "update_res: nan\n",
            "update_bcs1: 0.000e+00\n"
          ]
        },
        {
          "name": "stdout",
          "output_type": "stream",
          "text": [
            " adaptive_constant_bc:  nan\n"
          ]
        },
        {
          "name": "stderr",
          "output_type": "stream",
          "text": [
            "It: 22900, Loss: 2.063e+03, Loss_bcs: 5.846e+01, Loss_res: 2.005e+03 ,Time: 0.00\n",
            "update_res: nan\n",
            "update_bcs1: 0.000e+00\n"
          ]
        },
        {
          "name": "stdout",
          "output_type": "stream",
          "text": [
            " adaptive_constant_bc:  nan\n"
          ]
        },
        {
          "name": "stderr",
          "output_type": "stream",
          "text": [
            "It: 23000, Loss: 2.058e+03, Loss_bcs: 5.857e+01, Loss_res: 1.999e+03 ,Time: 0.00\n",
            "update_res: nan\n",
            "update_bcs1: 0.000e+00\n"
          ]
        },
        {
          "name": "stdout",
          "output_type": "stream",
          "text": [
            " adaptive_constant_bc:  nan\n"
          ]
        },
        {
          "name": "stderr",
          "output_type": "stream",
          "text": [
            "It: 23100, Loss: 2.052e+03, Loss_bcs: 5.867e+01, Loss_res: 1.994e+03 ,Time: 0.00\n",
            "update_res: nan\n",
            "update_bcs1: 0.000e+00\n"
          ]
        },
        {
          "name": "stdout",
          "output_type": "stream",
          "text": [
            " adaptive_constant_bc:  nan\n"
          ]
        },
        {
          "name": "stderr",
          "output_type": "stream",
          "text": [
            "It: 23200, Loss: 2.047e+03, Loss_bcs: 5.878e+01, Loss_res: 1.988e+03 ,Time: 0.00\n",
            "update_res: nan\n",
            "update_bcs1: 0.000e+00\n"
          ]
        },
        {
          "name": "stdout",
          "output_type": "stream",
          "text": [
            " adaptive_constant_bc:  nan\n"
          ]
        },
        {
          "name": "stderr",
          "output_type": "stream",
          "text": [
            "It: 23300, Loss: 2.042e+03, Loss_bcs: 5.888e+01, Loss_res: 1.983e+03 ,Time: 0.00\n",
            "update_res: nan\n",
            "update_bcs1: 0.000e+00\n"
          ]
        },
        {
          "name": "stdout",
          "output_type": "stream",
          "text": [
            " adaptive_constant_bc:  nan\n"
          ]
        },
        {
          "name": "stderr",
          "output_type": "stream",
          "text": [
            "It: 23400, Loss: 2.037e+03, Loss_bcs: 5.898e+01, Loss_res: 1.978e+03 ,Time: 0.00\n",
            "update_res: nan\n",
            "update_bcs1: 0.000e+00\n"
          ]
        },
        {
          "name": "stdout",
          "output_type": "stream",
          "text": [
            " adaptive_constant_bc:  nan\n"
          ]
        },
        {
          "name": "stderr",
          "output_type": "stream",
          "text": [
            "It: 23500, Loss: 2.032e+03, Loss_bcs: 5.908e+01, Loss_res: 1.973e+03 ,Time: 0.00\n",
            "update_res: nan\n",
            "update_bcs1: 0.000e+00\n"
          ]
        },
        {
          "name": "stdout",
          "output_type": "stream",
          "text": [
            " adaptive_constant_bc:  nan\n"
          ]
        },
        {
          "name": "stderr",
          "output_type": "stream",
          "text": [
            "It: 23600, Loss: 2.027e+03, Loss_bcs: 5.918e+01, Loss_res: 1.967e+03 ,Time: 0.00\n",
            "update_res: nan\n",
            "update_bcs1: 0.000e+00\n"
          ]
        },
        {
          "name": "stdout",
          "output_type": "stream",
          "text": [
            " adaptive_constant_bc:  nan\n"
          ]
        },
        {
          "name": "stderr",
          "output_type": "stream",
          "text": [
            "It: 23700, Loss: 2.022e+03, Loss_bcs: 5.928e+01, Loss_res: 1.962e+03 ,Time: 0.00\n",
            "update_res: nan\n",
            "update_bcs1: 0.000e+00\n"
          ]
        },
        {
          "name": "stdout",
          "output_type": "stream",
          "text": [
            " adaptive_constant_bc:  nan\n"
          ]
        },
        {
          "name": "stderr",
          "output_type": "stream",
          "text": [
            "It: 23800, Loss: 2.017e+03, Loss_bcs: 5.938e+01, Loss_res: 1.957e+03 ,Time: 0.00\n",
            "update_res: nan\n",
            "update_bcs1: 0.000e+00\n"
          ]
        },
        {
          "name": "stdout",
          "output_type": "stream",
          "text": [
            " adaptive_constant_bc:  nan\n"
          ]
        },
        {
          "name": "stderr",
          "output_type": "stream",
          "text": [
            "It: 23900, Loss: 2.012e+03, Loss_bcs: 5.947e+01, Loss_res: 1.952e+03 ,Time: 0.00\n",
            "update_res: nan\n",
            "update_bcs1: 0.000e+00\n"
          ]
        },
        {
          "name": "stdout",
          "output_type": "stream",
          "text": [
            " adaptive_constant_bc:  nan\n"
          ]
        },
        {
          "name": "stderr",
          "output_type": "stream",
          "text": [
            "It: 24000, Loss: 2.007e+03, Loss_bcs: 5.957e+01, Loss_res: 1.947e+03 ,Time: 0.00\n",
            "update_res: nan\n",
            "update_bcs1: 0.000e+00\n"
          ]
        },
        {
          "name": "stdout",
          "output_type": "stream",
          "text": [
            " adaptive_constant_bc:  nan\n"
          ]
        },
        {
          "name": "stderr",
          "output_type": "stream",
          "text": [
            "It: 24100, Loss: 2.002e+03, Loss_bcs: 5.966e+01, Loss_res: 1.943e+03 ,Time: 0.00\n",
            "update_res: nan\n",
            "update_bcs1: 0.000e+00\n"
          ]
        },
        {
          "name": "stdout",
          "output_type": "stream",
          "text": [
            " adaptive_constant_bc:  nan\n"
          ]
        },
        {
          "name": "stderr",
          "output_type": "stream",
          "text": [
            "It: 24200, Loss: 1.998e+03, Loss_bcs: 5.976e+01, Loss_res: 1.938e+03 ,Time: 0.00\n",
            "update_res: nan\n",
            "update_bcs1: 0.000e+00\n"
          ]
        },
        {
          "name": "stdout",
          "output_type": "stream",
          "text": [
            " adaptive_constant_bc:  nan\n"
          ]
        },
        {
          "name": "stderr",
          "output_type": "stream",
          "text": [
            "It: 24300, Loss: 1.993e+03, Loss_bcs: 5.985e+01, Loss_res: 1.933e+03 ,Time: 0.00\n",
            "update_res: nan\n",
            "update_bcs1: 0.000e+00\n"
          ]
        },
        {
          "name": "stdout",
          "output_type": "stream",
          "text": [
            " adaptive_constant_bc:  nan\n"
          ]
        },
        {
          "name": "stderr",
          "output_type": "stream",
          "text": [
            "It: 24400, Loss: 1.989e+03, Loss_bcs: 5.994e+01, Loss_res: 1.929e+03 ,Time: 0.00\n",
            "update_res: nan\n",
            "update_bcs1: 0.000e+00\n"
          ]
        },
        {
          "name": "stdout",
          "output_type": "stream",
          "text": [
            " adaptive_constant_bc:  nan\n"
          ]
        },
        {
          "name": "stderr",
          "output_type": "stream",
          "text": [
            "It: 24500, Loss: 1.984e+03, Loss_bcs: 6.003e+01, Loss_res: 1.924e+03 ,Time: 0.00\n",
            "update_res: nan\n",
            "update_bcs1: 0.000e+00\n"
          ]
        },
        {
          "name": "stdout",
          "output_type": "stream",
          "text": [
            " adaptive_constant_bc:  nan\n"
          ]
        },
        {
          "name": "stderr",
          "output_type": "stream",
          "text": [
            "It: 24600, Loss: 1.980e+03, Loss_bcs: 6.012e+01, Loss_res: 1.920e+03 ,Time: 0.00\n",
            "update_res: nan\n",
            "update_bcs1: 0.000e+00\n"
          ]
        },
        {
          "name": "stdout",
          "output_type": "stream",
          "text": [
            " adaptive_constant_bc:  nan\n"
          ]
        },
        {
          "name": "stderr",
          "output_type": "stream",
          "text": [
            "It: 24700, Loss: 1.975e+03, Loss_bcs: 6.021e+01, Loss_res: 1.915e+03 ,Time: 0.00\n",
            "update_res: nan\n",
            "update_bcs1: 0.000e+00\n"
          ]
        },
        {
          "name": "stdout",
          "output_type": "stream",
          "text": [
            " adaptive_constant_bc:  nan\n"
          ]
        },
        {
          "name": "stderr",
          "output_type": "stream",
          "text": [
            "It: 24800, Loss: 1.971e+03, Loss_bcs: 6.030e+01, Loss_res: 1.911e+03 ,Time: 0.00\n",
            "update_res: nan\n",
            "update_bcs1: 0.000e+00\n"
          ]
        },
        {
          "name": "stdout",
          "output_type": "stream",
          "text": [
            " adaptive_constant_bc:  nan\n"
          ]
        },
        {
          "name": "stderr",
          "output_type": "stream",
          "text": [
            "It: 24900, Loss: 1.967e+03, Loss_bcs: 6.038e+01, Loss_res: 1.906e+03 ,Time: 0.00\n",
            "update_res: nan\n",
            "update_bcs1: 0.000e+00\n"
          ]
        },
        {
          "name": "stdout",
          "output_type": "stream",
          "text": [
            " adaptive_constant_bc:  nan\n"
          ]
        },
        {
          "name": "stderr",
          "output_type": "stream",
          "text": [
            "It: 25000, Loss: 1.963e+03, Loss_bcs: 6.047e+01, Loss_res: 1.902e+03 ,Time: 0.00\n",
            "update_res: nan\n",
            "update_bcs1: 0.000e+00\n"
          ]
        },
        {
          "name": "stdout",
          "output_type": "stream",
          "text": [
            " adaptive_constant_bc:  nan\n"
          ]
        },
        {
          "name": "stderr",
          "output_type": "stream",
          "text": [
            "It: 25100, Loss: 1.958e+03, Loss_bcs: 6.055e+01, Loss_res: 1.898e+03 ,Time: 0.00\n",
            "update_res: nan\n",
            "update_bcs1: 0.000e+00\n"
          ]
        },
        {
          "name": "stdout",
          "output_type": "stream",
          "text": [
            " adaptive_constant_bc:  nan\n"
          ]
        },
        {
          "name": "stderr",
          "output_type": "stream",
          "text": [
            "It: 25200, Loss: 1.954e+03, Loss_bcs: 6.064e+01, Loss_res: 1.894e+03 ,Time: 0.00\n",
            "update_res: nan\n",
            "update_bcs1: 0.000e+00\n"
          ]
        },
        {
          "name": "stdout",
          "output_type": "stream",
          "text": [
            " adaptive_constant_bc:  nan\n"
          ]
        },
        {
          "name": "stderr",
          "output_type": "stream",
          "text": [
            "It: 25300, Loss: 1.950e+03, Loss_bcs: 6.072e+01, Loss_res: 1.890e+03 ,Time: 0.00\n",
            "update_res: nan\n",
            "update_bcs1: 0.000e+00\n"
          ]
        },
        {
          "name": "stdout",
          "output_type": "stream",
          "text": [
            " adaptive_constant_bc:  nan\n"
          ]
        },
        {
          "name": "stderr",
          "output_type": "stream",
          "text": [
            "It: 25400, Loss: 1.946e+03, Loss_bcs: 6.080e+01, Loss_res: 1.885e+03 ,Time: 0.00\n",
            "update_res: nan\n",
            "update_bcs1: 0.000e+00\n"
          ]
        },
        {
          "name": "stdout",
          "output_type": "stream",
          "text": [
            " adaptive_constant_bc:  nan\n"
          ]
        },
        {
          "name": "stderr",
          "output_type": "stream",
          "text": [
            "It: 25500, Loss: 1.942e+03, Loss_bcs: 6.088e+01, Loss_res: 1.881e+03 ,Time: 0.00\n",
            "update_res: nan\n",
            "update_bcs1: 0.000e+00\n"
          ]
        },
        {
          "name": "stdout",
          "output_type": "stream",
          "text": [
            " adaptive_constant_bc:  nan\n"
          ]
        },
        {
          "name": "stderr",
          "output_type": "stream",
          "text": [
            "It: 25600, Loss: 1.938e+03, Loss_bcs: 6.096e+01, Loss_res: 1.877e+03 ,Time: 0.00\n",
            "update_res: nan\n",
            "update_bcs1: 0.000e+00\n"
          ]
        },
        {
          "name": "stdout",
          "output_type": "stream",
          "text": [
            " adaptive_constant_bc:  nan\n"
          ]
        },
        {
          "name": "stderr",
          "output_type": "stream",
          "text": [
            "It: 25700, Loss: 1.934e+03, Loss_bcs: 6.104e+01, Loss_res: 1.873e+03 ,Time: 0.00\n",
            "update_res: nan\n",
            "update_bcs1: 0.000e+00\n"
          ]
        },
        {
          "name": "stdout",
          "output_type": "stream",
          "text": [
            " adaptive_constant_bc:  nan\n"
          ]
        },
        {
          "name": "stderr",
          "output_type": "stream",
          "text": [
            "It: 25800, Loss: 1.931e+03, Loss_bcs: 6.112e+01, Loss_res: 1.870e+03 ,Time: 0.00\n",
            "update_res: nan\n",
            "update_bcs1: 0.000e+00\n"
          ]
        },
        {
          "name": "stdout",
          "output_type": "stream",
          "text": [
            " adaptive_constant_bc:  nan\n"
          ]
        },
        {
          "name": "stderr",
          "output_type": "stream",
          "text": [
            "It: 25900, Loss: 1.927e+03, Loss_bcs: 6.120e+01, Loss_res: 1.866e+03 ,Time: 0.00\n",
            "update_res: nan\n",
            "update_bcs1: 0.000e+00\n"
          ]
        },
        {
          "name": "stdout",
          "output_type": "stream",
          "text": [
            " adaptive_constant_bc:  nan\n"
          ]
        },
        {
          "name": "stderr",
          "output_type": "stream",
          "text": [
            "It: 26000, Loss: 1.923e+03, Loss_bcs: 6.128e+01, Loss_res: 1.862e+03 ,Time: 0.00\n",
            "update_res: nan\n",
            "update_bcs1: 0.000e+00\n"
          ]
        },
        {
          "name": "stdout",
          "output_type": "stream",
          "text": [
            " adaptive_constant_bc:  nan\n"
          ]
        },
        {
          "name": "stderr",
          "output_type": "stream",
          "text": [
            "It: 26100, Loss: 1.920e+03, Loss_bcs: 6.135e+01, Loss_res: 1.858e+03 ,Time: 0.00\n",
            "update_res: nan\n",
            "update_bcs1: 0.000e+00\n"
          ]
        },
        {
          "name": "stdout",
          "output_type": "stream",
          "text": [
            " adaptive_constant_bc:  nan\n"
          ]
        },
        {
          "name": "stderr",
          "output_type": "stream",
          "text": [
            "It: 26200, Loss: 1.916e+03, Loss_bcs: 6.143e+01, Loss_res: 1.855e+03 ,Time: 0.00\n",
            "update_res: nan\n",
            "update_bcs1: 0.000e+00\n"
          ]
        },
        {
          "name": "stdout",
          "output_type": "stream",
          "text": [
            " adaptive_constant_bc:  nan\n"
          ]
        },
        {
          "name": "stderr",
          "output_type": "stream",
          "text": [
            "It: 26300, Loss: 1.912e+03, Loss_bcs: 6.150e+01, Loss_res: 1.851e+03 ,Time: 0.00\n",
            "update_res: nan\n",
            "update_bcs1: 0.000e+00\n"
          ]
        },
        {
          "name": "stdout",
          "output_type": "stream",
          "text": [
            " adaptive_constant_bc:  nan\n"
          ]
        },
        {
          "name": "stderr",
          "output_type": "stream",
          "text": [
            "It: 26400, Loss: 1.909e+03, Loss_bcs: 6.158e+01, Loss_res: 1.847e+03 ,Time: 0.00\n",
            "update_res: nan\n",
            "update_bcs1: 0.000e+00\n"
          ]
        },
        {
          "name": "stdout",
          "output_type": "stream",
          "text": [
            " adaptive_constant_bc:  nan\n"
          ]
        },
        {
          "name": "stderr",
          "output_type": "stream",
          "text": [
            "It: 26500, Loss: 1.905e+03, Loss_bcs: 6.165e+01, Loss_res: 1.844e+03 ,Time: 0.00\n",
            "update_res: nan\n",
            "update_bcs1: 0.000e+00\n"
          ]
        },
        {
          "name": "stdout",
          "output_type": "stream",
          "text": [
            " adaptive_constant_bc:  nan\n"
          ]
        },
        {
          "name": "stderr",
          "output_type": "stream",
          "text": [
            "It: 26600, Loss: 1.902e+03, Loss_bcs: 6.172e+01, Loss_res: 1.840e+03 ,Time: 0.00\n",
            "update_res: nan\n",
            "update_bcs1: 0.000e+00\n"
          ]
        },
        {
          "name": "stdout",
          "output_type": "stream",
          "text": [
            " adaptive_constant_bc:  nan\n"
          ]
        },
        {
          "name": "stderr",
          "output_type": "stream",
          "text": [
            "It: 26700, Loss: 1.899e+03, Loss_bcs: 6.179e+01, Loss_res: 1.837e+03 ,Time: 0.00\n",
            "update_res: nan\n",
            "update_bcs1: 0.000e+00\n"
          ]
        },
        {
          "name": "stdout",
          "output_type": "stream",
          "text": [
            " adaptive_constant_bc:  nan\n"
          ]
        },
        {
          "name": "stderr",
          "output_type": "stream",
          "text": [
            "It: 26800, Loss: 1.895e+03, Loss_bcs: 6.186e+01, Loss_res: 1.833e+03 ,Time: 0.00\n",
            "update_res: nan\n",
            "update_bcs1: 0.000e+00\n"
          ]
        },
        {
          "name": "stdout",
          "output_type": "stream",
          "text": [
            " adaptive_constant_bc:  nan\n"
          ]
        },
        {
          "name": "stderr",
          "output_type": "stream",
          "text": [
            "It: 26900, Loss: 1.892e+03, Loss_bcs: 6.193e+01, Loss_res: 1.830e+03 ,Time: 0.00\n",
            "update_res: nan\n",
            "update_bcs1: 0.000e+00\n"
          ]
        },
        {
          "name": "stdout",
          "output_type": "stream",
          "text": [
            " adaptive_constant_bc:  nan\n"
          ]
        },
        {
          "name": "stderr",
          "output_type": "stream",
          "text": [
            "It: 27000, Loss: 1.889e+03, Loss_bcs: 6.200e+01, Loss_res: 1.827e+03 ,Time: 0.00\n",
            "update_res: nan\n",
            "update_bcs1: 0.000e+00\n"
          ]
        },
        {
          "name": "stdout",
          "output_type": "stream",
          "text": [
            " adaptive_constant_bc:  nan\n"
          ]
        },
        {
          "name": "stderr",
          "output_type": "stream",
          "text": [
            "It: 27100, Loss: 1.885e+03, Loss_bcs: 6.207e+01, Loss_res: 1.823e+03 ,Time: 0.00\n",
            "update_res: nan\n",
            "update_bcs1: 0.000e+00\n"
          ]
        },
        {
          "name": "stdout",
          "output_type": "stream",
          "text": [
            " adaptive_constant_bc:  nan\n"
          ]
        },
        {
          "name": "stderr",
          "output_type": "stream",
          "text": [
            "It: 27200, Loss: 1.882e+03, Loss_bcs: 6.214e+01, Loss_res: 1.820e+03 ,Time: 0.00\n",
            "update_res: nan\n",
            "update_bcs1: 0.000e+00\n"
          ]
        },
        {
          "name": "stdout",
          "output_type": "stream",
          "text": [
            " adaptive_constant_bc:  nan\n"
          ]
        },
        {
          "name": "stderr",
          "output_type": "stream",
          "text": [
            "It: 27300, Loss: 1.879e+03, Loss_bcs: 6.221e+01, Loss_res: 1.817e+03 ,Time: 0.00\n",
            "update_res: nan\n",
            "update_bcs1: 0.000e+00\n"
          ]
        },
        {
          "name": "stdout",
          "output_type": "stream",
          "text": [
            " adaptive_constant_bc:  nan\n"
          ]
        },
        {
          "name": "stderr",
          "output_type": "stream",
          "text": [
            "It: 27400, Loss: 1.876e+03, Loss_bcs: 6.227e+01, Loss_res: 1.814e+03 ,Time: 0.00\n",
            "update_res: nan\n",
            "update_bcs1: 0.000e+00\n"
          ]
        },
        {
          "name": "stdout",
          "output_type": "stream",
          "text": [
            " adaptive_constant_bc:  nan\n"
          ]
        },
        {
          "name": "stderr",
          "output_type": "stream",
          "text": [
            "It: 27500, Loss: 1.873e+03, Loss_bcs: 6.234e+01, Loss_res: 1.810e+03 ,Time: 0.00\n",
            "update_res: nan\n",
            "update_bcs1: 0.000e+00\n"
          ]
        },
        {
          "name": "stdout",
          "output_type": "stream",
          "text": [
            " adaptive_constant_bc:  nan\n"
          ]
        },
        {
          "name": "stderr",
          "output_type": "stream",
          "text": [
            "It: 27600, Loss: 1.870e+03, Loss_bcs: 6.240e+01, Loss_res: 1.807e+03 ,Time: 0.00\n",
            "update_res: nan\n",
            "update_bcs1: 0.000e+00\n"
          ]
        },
        {
          "name": "stdout",
          "output_type": "stream",
          "text": [
            " adaptive_constant_bc:  nan\n"
          ]
        },
        {
          "name": "stderr",
          "output_type": "stream",
          "text": [
            "It: 27700, Loss: 1.867e+03, Loss_bcs: 6.247e+01, Loss_res: 1.804e+03 ,Time: 0.00\n",
            "update_res: nan\n",
            "update_bcs1: 0.000e+00\n"
          ]
        },
        {
          "name": "stdout",
          "output_type": "stream",
          "text": [
            " adaptive_constant_bc:  nan\n"
          ]
        },
        {
          "name": "stderr",
          "output_type": "stream",
          "text": [
            "It: 27800, Loss: 1.864e+03, Loss_bcs: 6.253e+01, Loss_res: 1.801e+03 ,Time: 0.00\n",
            "update_res: nan\n",
            "update_bcs1: 0.000e+00\n"
          ]
        },
        {
          "name": "stdout",
          "output_type": "stream",
          "text": [
            " adaptive_constant_bc:  nan\n"
          ]
        },
        {
          "name": "stderr",
          "output_type": "stream",
          "text": [
            "It: 27900, Loss: 1.861e+03, Loss_bcs: 6.259e+01, Loss_res: 1.798e+03 ,Time: 0.00\n",
            "update_res: nan\n",
            "update_bcs1: 0.000e+00\n"
          ]
        },
        {
          "name": "stdout",
          "output_type": "stream",
          "text": [
            " adaptive_constant_bc:  nan\n"
          ]
        },
        {
          "name": "stderr",
          "output_type": "stream",
          "text": [
            "It: 28000, Loss: 1.858e+03, Loss_bcs: 6.266e+01, Loss_res: 1.795e+03 ,Time: 0.00\n",
            "update_res: nan\n",
            "update_bcs1: 0.000e+00\n"
          ]
        },
        {
          "name": "stdout",
          "output_type": "stream",
          "text": [
            " adaptive_constant_bc:  nan\n"
          ]
        },
        {
          "name": "stderr",
          "output_type": "stream",
          "text": [
            "It: 28100, Loss: 1.855e+03, Loss_bcs: 6.272e+01, Loss_res: 1.792e+03 ,Time: 0.00\n",
            "update_res: nan\n",
            "update_bcs1: 0.000e+00\n"
          ]
        },
        {
          "name": "stdout",
          "output_type": "stream",
          "text": [
            " adaptive_constant_bc:  nan\n"
          ]
        },
        {
          "name": "stderr",
          "output_type": "stream",
          "text": [
            "It: 28200, Loss: 1.852e+03, Loss_bcs: 6.278e+01, Loss_res: 1.790e+03 ,Time: 0.00\n",
            "update_res: nan\n",
            "update_bcs1: 0.000e+00\n"
          ]
        },
        {
          "name": "stdout",
          "output_type": "stream",
          "text": [
            " adaptive_constant_bc:  nan\n"
          ]
        },
        {
          "name": "stderr",
          "output_type": "stream",
          "text": [
            "It: 28300, Loss: 1.850e+03, Loss_bcs: 6.284e+01, Loss_res: 1.787e+03 ,Time: 0.00\n",
            "update_res: nan\n",
            "update_bcs1: 0.000e+00\n"
          ]
        },
        {
          "name": "stdout",
          "output_type": "stream",
          "text": [
            " adaptive_constant_bc:  nan\n"
          ]
        },
        {
          "name": "stderr",
          "output_type": "stream",
          "text": [
            "It: 28400, Loss: 1.847e+03, Loss_bcs: 6.290e+01, Loss_res: 1.784e+03 ,Time: 0.00\n",
            "update_res: nan\n",
            "update_bcs1: 0.000e+00\n"
          ]
        },
        {
          "name": "stdout",
          "output_type": "stream",
          "text": [
            " adaptive_constant_bc:  nan\n"
          ]
        },
        {
          "name": "stderr",
          "output_type": "stream",
          "text": [
            "It: 28500, Loss: 1.844e+03, Loss_bcs: 6.296e+01, Loss_res: 1.781e+03 ,Time: 0.00\n",
            "update_res: nan\n",
            "update_bcs1: 0.000e+00\n"
          ]
        },
        {
          "name": "stdout",
          "output_type": "stream",
          "text": [
            " adaptive_constant_bc:  nan\n"
          ]
        },
        {
          "name": "stderr",
          "output_type": "stream",
          "text": [
            "It: 28600, Loss: 1.841e+03, Loss_bcs: 6.302e+01, Loss_res: 1.778e+03 ,Time: 0.00\n",
            "update_res: nan\n",
            "update_bcs1: 0.000e+00\n"
          ]
        },
        {
          "name": "stdout",
          "output_type": "stream",
          "text": [
            " adaptive_constant_bc:  nan\n"
          ]
        },
        {
          "name": "stderr",
          "output_type": "stream",
          "text": [
            "It: 28700, Loss: 1.839e+03, Loss_bcs: 6.307e+01, Loss_res: 1.776e+03 ,Time: 0.00\n",
            "update_res: nan\n",
            "update_bcs1: 0.000e+00\n"
          ]
        },
        {
          "name": "stdout",
          "output_type": "stream",
          "text": [
            " adaptive_constant_bc:  nan\n"
          ]
        },
        {
          "name": "stderr",
          "output_type": "stream",
          "text": [
            "It: 28800, Loss: 1.836e+03, Loss_bcs: 6.313e+01, Loss_res: 1.773e+03 ,Time: 0.00\n",
            "update_res: nan\n",
            "update_bcs1: 0.000e+00\n"
          ]
        },
        {
          "name": "stdout",
          "output_type": "stream",
          "text": [
            " adaptive_constant_bc:  nan\n"
          ]
        },
        {
          "name": "stderr",
          "output_type": "stream",
          "text": [
            "It: 28900, Loss: 1.834e+03, Loss_bcs: 6.319e+01, Loss_res: 1.770e+03 ,Time: 0.00\n",
            "update_res: nan\n",
            "update_bcs1: 0.000e+00\n"
          ]
        },
        {
          "name": "stdout",
          "output_type": "stream",
          "text": [
            " adaptive_constant_bc:  nan\n"
          ]
        },
        {
          "name": "stderr",
          "output_type": "stream",
          "text": [
            "It: 29000, Loss: 1.831e+03, Loss_bcs: 6.324e+01, Loss_res: 1.768e+03 ,Time: 0.00\n",
            "update_res: nan\n",
            "update_bcs1: 0.000e+00\n"
          ]
        },
        {
          "name": "stdout",
          "output_type": "stream",
          "text": [
            " adaptive_constant_bc:  nan\n"
          ]
        },
        {
          "name": "stderr",
          "output_type": "stream",
          "text": [
            "It: 29100, Loss: 1.828e+03, Loss_bcs: 6.330e+01, Loss_res: 1.765e+03 ,Time: 0.00\n",
            "update_res: nan\n",
            "update_bcs1: 0.000e+00\n"
          ]
        },
        {
          "name": "stdout",
          "output_type": "stream",
          "text": [
            " adaptive_constant_bc:  nan\n"
          ]
        },
        {
          "name": "stderr",
          "output_type": "stream",
          "text": [
            "It: 29200, Loss: 1.826e+03, Loss_bcs: 6.335e+01, Loss_res: 1.762e+03 ,Time: 0.00\n",
            "update_res: nan\n",
            "update_bcs1: 0.000e+00\n"
          ]
        },
        {
          "name": "stdout",
          "output_type": "stream",
          "text": [
            " adaptive_constant_bc:  nan\n"
          ]
        },
        {
          "name": "stderr",
          "output_type": "stream",
          "text": [
            "It: 29300, Loss: 1.823e+03, Loss_bcs: 6.341e+01, Loss_res: 1.760e+03 ,Time: 0.00\n",
            "update_res: nan\n",
            "update_bcs1: 0.000e+00\n"
          ]
        },
        {
          "name": "stdout",
          "output_type": "stream",
          "text": [
            " adaptive_constant_bc:  nan\n"
          ]
        },
        {
          "name": "stderr",
          "output_type": "stream",
          "text": [
            "It: 29400, Loss: 1.821e+03, Loss_bcs: 6.346e+01, Loss_res: 1.757e+03 ,Time: 0.00\n",
            "update_res: nan\n",
            "update_bcs1: 0.000e+00\n"
          ]
        },
        {
          "name": "stdout",
          "output_type": "stream",
          "text": [
            " adaptive_constant_bc:  nan\n"
          ]
        },
        {
          "name": "stderr",
          "output_type": "stream",
          "text": [
            "It: 29500, Loss: 1.818e+03, Loss_bcs: 6.351e+01, Loss_res: 1.755e+03 ,Time: 0.00\n",
            "update_res: nan\n",
            "update_bcs1: 0.000e+00\n"
          ]
        },
        {
          "name": "stdout",
          "output_type": "stream",
          "text": [
            " adaptive_constant_bc:  nan\n"
          ]
        },
        {
          "name": "stderr",
          "output_type": "stream",
          "text": [
            "It: 29600, Loss: 1.816e+03, Loss_bcs: 6.357e+01, Loss_res: 1.752e+03 ,Time: 0.00\n",
            "update_res: nan\n",
            "update_bcs1: 0.000e+00\n"
          ]
        },
        {
          "name": "stdout",
          "output_type": "stream",
          "text": [
            " adaptive_constant_bc:  nan\n"
          ]
        },
        {
          "name": "stderr",
          "output_type": "stream",
          "text": [
            "It: 29700, Loss: 1.814e+03, Loss_bcs: 6.362e+01, Loss_res: 1.750e+03 ,Time: 0.00\n",
            "update_res: nan\n",
            "update_bcs1: 0.000e+00\n"
          ]
        },
        {
          "name": "stdout",
          "output_type": "stream",
          "text": [
            " adaptive_constant_bc:  nan\n"
          ]
        },
        {
          "name": "stderr",
          "output_type": "stream",
          "text": [
            "It: 29800, Loss: 1.811e+03, Loss_bcs: 6.367e+01, Loss_res: 1.748e+03 ,Time: 0.00\n",
            "update_res: nan\n",
            "update_bcs1: 0.000e+00\n"
          ]
        },
        {
          "name": "stdout",
          "output_type": "stream",
          "text": [
            " adaptive_constant_bc:  nan\n"
          ]
        },
        {
          "name": "stderr",
          "output_type": "stream",
          "text": [
            "It: 29900, Loss: 1.809e+03, Loss_bcs: 6.372e+01, Loss_res: 1.745e+03 ,Time: 0.00\n",
            "update_res: nan\n",
            "update_bcs1: 0.000e+00\n"
          ]
        },
        {
          "name": "stdout",
          "output_type": "stream",
          "text": [
            " adaptive_constant_bc:  nan\n"
          ]
        },
        {
          "name": "stderr",
          "output_type": "stream",
          "text": [
            "It: 30000, Loss: 1.807e+03, Loss_bcs: 6.377e+01, Loss_res: 1.743e+03 ,Time: 0.00\n",
            "update_res: nan\n",
            "update_bcs1: 0.000e+00\n"
          ]
        },
        {
          "name": "stdout",
          "output_type": "stream",
          "text": [
            " adaptive_constant_bc:  nan\n"
          ]
        },
        {
          "name": "stderr",
          "output_type": "stream",
          "text": [
            "It: 30100, Loss: 1.804e+03, Loss_bcs: 6.382e+01, Loss_res: 1.741e+03 ,Time: 0.00\n",
            "update_res: nan\n",
            "update_bcs1: 0.000e+00\n"
          ]
        },
        {
          "name": "stdout",
          "output_type": "stream",
          "text": [
            " adaptive_constant_bc:  nan\n"
          ]
        },
        {
          "name": "stderr",
          "output_type": "stream",
          "text": [
            "It: 30200, Loss: 1.802e+03, Loss_bcs: 6.387e+01, Loss_res: 1.738e+03 ,Time: 0.00\n",
            "update_res: nan\n",
            "update_bcs1: 0.000e+00\n"
          ]
        },
        {
          "name": "stdout",
          "output_type": "stream",
          "text": [
            " adaptive_constant_bc:  nan\n"
          ]
        },
        {
          "name": "stderr",
          "output_type": "stream",
          "text": [
            "It: 30300, Loss: 1.800e+03, Loss_bcs: 6.391e+01, Loss_res: 1.736e+03 ,Time: 0.00\n",
            "update_res: nan\n",
            "update_bcs1: 0.000e+00\n"
          ]
        },
        {
          "name": "stdout",
          "output_type": "stream",
          "text": [
            " adaptive_constant_bc:  nan\n"
          ]
        },
        {
          "name": "stderr",
          "output_type": "stream",
          "text": [
            "It: 30400, Loss: 1.798e+03, Loss_bcs: 6.396e+01, Loss_res: 1.734e+03 ,Time: 0.00\n",
            "update_res: nan\n",
            "update_bcs1: 0.000e+00\n"
          ]
        },
        {
          "name": "stdout",
          "output_type": "stream",
          "text": [
            " adaptive_constant_bc:  nan\n"
          ]
        },
        {
          "name": "stderr",
          "output_type": "stream",
          "text": [
            "It: 30500, Loss: 1.796e+03, Loss_bcs: 6.401e+01, Loss_res: 1.732e+03 ,Time: 0.00\n",
            "update_res: nan\n",
            "update_bcs1: 0.000e+00\n"
          ]
        },
        {
          "name": "stdout",
          "output_type": "stream",
          "text": [
            " adaptive_constant_bc:  nan\n"
          ]
        },
        {
          "name": "stderr",
          "output_type": "stream",
          "text": [
            "It: 30600, Loss: 1.794e+03, Loss_bcs: 6.405e+01, Loss_res: 1.730e+03 ,Time: 0.00\n",
            "update_res: nan\n",
            "update_bcs1: 0.000e+00\n"
          ]
        },
        {
          "name": "stdout",
          "output_type": "stream",
          "text": [
            " adaptive_constant_bc:  nan\n"
          ]
        },
        {
          "name": "stderr",
          "output_type": "stream",
          "text": [
            "It: 30700, Loss: 1.792e+03, Loss_bcs: 6.410e+01, Loss_res: 1.727e+03 ,Time: 0.00\n",
            "update_res: nan\n",
            "update_bcs1: 0.000e+00\n"
          ]
        },
        {
          "name": "stdout",
          "output_type": "stream",
          "text": [
            " adaptive_constant_bc:  nan\n"
          ]
        },
        {
          "name": "stderr",
          "output_type": "stream",
          "text": [
            "It: 30800, Loss: 1.789e+03, Loss_bcs: 6.415e+01, Loss_res: 1.725e+03 ,Time: 0.00\n",
            "update_res: nan\n",
            "update_bcs1: 0.000e+00\n"
          ]
        },
        {
          "name": "stdout",
          "output_type": "stream",
          "text": [
            " adaptive_constant_bc:  nan\n"
          ]
        },
        {
          "name": "stderr",
          "output_type": "stream",
          "text": [
            "It: 30900, Loss: 1.787e+03, Loss_bcs: 6.419e+01, Loss_res: 1.723e+03 ,Time: 0.00\n",
            "update_res: nan\n",
            "update_bcs1: 0.000e+00\n"
          ]
        },
        {
          "name": "stdout",
          "output_type": "stream",
          "text": [
            " adaptive_constant_bc:  nan\n"
          ]
        },
        {
          "name": "stderr",
          "output_type": "stream",
          "text": [
            "It: 31000, Loss: 1.785e+03, Loss_bcs: 6.423e+01, Loss_res: 1.721e+03 ,Time: 0.00\n",
            "update_res: nan\n",
            "update_bcs1: 0.000e+00\n"
          ]
        },
        {
          "name": "stdout",
          "output_type": "stream",
          "text": [
            " adaptive_constant_bc:  nan\n"
          ]
        },
        {
          "name": "stderr",
          "output_type": "stream",
          "text": [
            "It: 31100, Loss: 1.783e+03, Loss_bcs: 6.428e+01, Loss_res: 1.719e+03 ,Time: 0.00\n",
            "update_res: nan\n",
            "update_bcs1: 0.000e+00\n"
          ]
        },
        {
          "name": "stdout",
          "output_type": "stream",
          "text": [
            " adaptive_constant_bc:  nan\n"
          ]
        },
        {
          "name": "stderr",
          "output_type": "stream",
          "text": [
            "It: 31200, Loss: 1.781e+03, Loss_bcs: 6.432e+01, Loss_res: 1.717e+03 ,Time: 0.00\n",
            "update_res: nan\n",
            "update_bcs1: 0.000e+00\n"
          ]
        },
        {
          "name": "stdout",
          "output_type": "stream",
          "text": [
            " adaptive_constant_bc:  nan\n"
          ]
        },
        {
          "name": "stderr",
          "output_type": "stream",
          "text": [
            "It: 31300, Loss: 1.780e+03, Loss_bcs: 6.436e+01, Loss_res: 1.715e+03 ,Time: 0.00\n",
            "update_res: nan\n",
            "update_bcs1: 0.000e+00\n"
          ]
        },
        {
          "name": "stdout",
          "output_type": "stream",
          "text": [
            " adaptive_constant_bc:  nan\n"
          ]
        },
        {
          "name": "stderr",
          "output_type": "stream",
          "text": [
            "It: 31400, Loss: 1.778e+03, Loss_bcs: 6.441e+01, Loss_res: 1.713e+03 ,Time: 0.00\n",
            "update_res: nan\n",
            "update_bcs1: 0.000e+00\n"
          ]
        },
        {
          "name": "stdout",
          "output_type": "stream",
          "text": [
            " adaptive_constant_bc:  nan\n"
          ]
        },
        {
          "name": "stderr",
          "output_type": "stream",
          "text": [
            "It: 31500, Loss: 1.776e+03, Loss_bcs: 6.445e+01, Loss_res: 1.711e+03 ,Time: 0.02\n",
            "update_res: nan\n",
            "update_bcs1: 0.000e+00\n"
          ]
        },
        {
          "name": "stdout",
          "output_type": "stream",
          "text": [
            " adaptive_constant_bc:  nan\n"
          ]
        },
        {
          "name": "stderr",
          "output_type": "stream",
          "text": [
            "It: 31600, Loss: 1.774e+03, Loss_bcs: 6.449e+01, Loss_res: 1.709e+03 ,Time: 0.00\n",
            "update_res: nan\n",
            "update_bcs1: 0.000e+00\n"
          ]
        },
        {
          "name": "stdout",
          "output_type": "stream",
          "text": [
            " adaptive_constant_bc:  nan\n"
          ]
        },
        {
          "name": "stderr",
          "output_type": "stream",
          "text": [
            "It: 31700, Loss: 1.772e+03, Loss_bcs: 6.453e+01, Loss_res: 1.707e+03 ,Time: 0.00\n",
            "update_res: nan\n",
            "update_bcs1: 0.000e+00\n"
          ]
        },
        {
          "name": "stdout",
          "output_type": "stream",
          "text": [
            " adaptive_constant_bc:  nan\n"
          ]
        },
        {
          "name": "stderr",
          "output_type": "stream",
          "text": [
            "It: 31800, Loss: 1.770e+03, Loss_bcs: 6.457e+01, Loss_res: 1.705e+03 ,Time: 0.00\n",
            "update_res: nan\n",
            "update_bcs1: 0.000e+00\n"
          ]
        },
        {
          "name": "stdout",
          "output_type": "stream",
          "text": [
            " adaptive_constant_bc:  nan\n"
          ]
        },
        {
          "name": "stderr",
          "output_type": "stream",
          "text": [
            "It: 31900, Loss: 1.768e+03, Loss_bcs: 6.461e+01, Loss_res: 1.704e+03 ,Time: 0.00\n",
            "update_res: nan\n",
            "update_bcs1: 0.000e+00\n"
          ]
        },
        {
          "name": "stdout",
          "output_type": "stream",
          "text": [
            " adaptive_constant_bc:  nan\n"
          ]
        },
        {
          "name": "stderr",
          "output_type": "stream",
          "text": [
            "It: 32000, Loss: 1.766e+03, Loss_bcs: 6.465e+01, Loss_res: 1.702e+03 ,Time: 0.00\n",
            "update_res: nan\n",
            "update_bcs1: 0.000e+00\n"
          ]
        },
        {
          "name": "stdout",
          "output_type": "stream",
          "text": [
            " adaptive_constant_bc:  nan\n"
          ]
        },
        {
          "name": "stderr",
          "output_type": "stream",
          "text": [
            "It: 32100, Loss: 1.765e+03, Loss_bcs: 6.469e+01, Loss_res: 1.700e+03 ,Time: 0.00\n",
            "update_res: nan\n",
            "update_bcs1: 0.000e+00\n"
          ]
        },
        {
          "name": "stdout",
          "output_type": "stream",
          "text": [
            " adaptive_constant_bc:  nan\n"
          ]
        },
        {
          "name": "stderr",
          "output_type": "stream",
          "text": [
            "It: 32200, Loss: 1.763e+03, Loss_bcs: 6.473e+01, Loss_res: 1.698e+03 ,Time: 0.00\n",
            "update_res: nan\n",
            "update_bcs1: 0.000e+00\n"
          ]
        },
        {
          "name": "stdout",
          "output_type": "stream",
          "text": [
            " adaptive_constant_bc:  nan\n"
          ]
        },
        {
          "name": "stderr",
          "output_type": "stream",
          "text": [
            "It: 32300, Loss: 1.761e+03, Loss_bcs: 6.476e+01, Loss_res: 1.696e+03 ,Time: 0.00\n",
            "update_res: nan\n",
            "update_bcs1: 0.000e+00\n"
          ]
        },
        {
          "name": "stdout",
          "output_type": "stream",
          "text": [
            " adaptive_constant_bc:  nan\n"
          ]
        },
        {
          "name": "stderr",
          "output_type": "stream",
          "text": [
            "It: 32400, Loss: 1.759e+03, Loss_bcs: 6.480e+01, Loss_res: 1.695e+03 ,Time: 0.00\n",
            "update_res: nan\n",
            "update_bcs1: 0.000e+00\n"
          ]
        },
        {
          "name": "stdout",
          "output_type": "stream",
          "text": [
            " adaptive_constant_bc:  nan\n"
          ]
        },
        {
          "name": "stderr",
          "output_type": "stream",
          "text": [
            "It: 32500, Loss: 1.758e+03, Loss_bcs: 6.484e+01, Loss_res: 1.693e+03 ,Time: 0.00\n",
            "update_res: nan\n",
            "update_bcs1: 0.000e+00\n"
          ]
        },
        {
          "name": "stdout",
          "output_type": "stream",
          "text": [
            " adaptive_constant_bc:  nan\n"
          ]
        },
        {
          "name": "stderr",
          "output_type": "stream",
          "text": [
            "It: 32600, Loss: 1.756e+03, Loss_bcs: 6.487e+01, Loss_res: 1.691e+03 ,Time: 0.00\n",
            "update_res: nan\n",
            "update_bcs1: 0.000e+00\n"
          ]
        },
        {
          "name": "stdout",
          "output_type": "stream",
          "text": [
            " adaptive_constant_bc:  nan\n"
          ]
        },
        {
          "name": "stderr",
          "output_type": "stream",
          "text": [
            "It: 32700, Loss: 1.754e+03, Loss_bcs: 6.491e+01, Loss_res: 1.689e+03 ,Time: 0.00\n",
            "update_res: nan\n",
            "update_bcs1: 0.000e+00\n"
          ]
        },
        {
          "name": "stdout",
          "output_type": "stream",
          "text": [
            " adaptive_constant_bc:  nan\n"
          ]
        },
        {
          "name": "stderr",
          "output_type": "stream",
          "text": [
            "It: 32800, Loss: 1.753e+03, Loss_bcs: 6.495e+01, Loss_res: 1.688e+03 ,Time: 0.00\n",
            "update_res: nan\n",
            "update_bcs1: 0.000e+00\n"
          ]
        },
        {
          "name": "stdout",
          "output_type": "stream",
          "text": [
            " adaptive_constant_bc:  nan\n"
          ]
        },
        {
          "name": "stderr",
          "output_type": "stream",
          "text": [
            "It: 32900, Loss: 1.751e+03, Loss_bcs: 6.498e+01, Loss_res: 1.686e+03 ,Time: 0.00\n",
            "update_res: nan\n",
            "update_bcs1: 0.000e+00\n"
          ]
        },
        {
          "name": "stdout",
          "output_type": "stream",
          "text": [
            " adaptive_constant_bc:  nan\n"
          ]
        },
        {
          "name": "stderr",
          "output_type": "stream",
          "text": [
            "It: 33000, Loss: 1.749e+03, Loss_bcs: 6.502e+01, Loss_res: 1.684e+03 ,Time: 0.00\n",
            "update_res: nan\n",
            "update_bcs1: 0.000e+00\n"
          ]
        },
        {
          "name": "stdout",
          "output_type": "stream",
          "text": [
            " adaptive_constant_bc:  nan\n"
          ]
        },
        {
          "name": "stderr",
          "output_type": "stream",
          "text": [
            "It: 33100, Loss: 1.748e+03, Loss_bcs: 6.505e+01, Loss_res: 1.683e+03 ,Time: 0.00\n",
            "update_res: nan\n",
            "update_bcs1: 0.000e+00\n"
          ]
        },
        {
          "name": "stdout",
          "output_type": "stream",
          "text": [
            " adaptive_constant_bc:  nan\n"
          ]
        },
        {
          "name": "stderr",
          "output_type": "stream",
          "text": [
            "It: 33200, Loss: 1.746e+03, Loss_bcs: 6.508e+01, Loss_res: 1.681e+03 ,Time: 0.00\n",
            "update_res: nan\n",
            "update_bcs1: 0.000e+00\n"
          ]
        },
        {
          "name": "stdout",
          "output_type": "stream",
          "text": [
            " adaptive_constant_bc:  nan\n"
          ]
        },
        {
          "name": "stderr",
          "output_type": "stream",
          "text": [
            "It: 33300, Loss: 1.745e+03, Loss_bcs: 6.512e+01, Loss_res: 1.680e+03 ,Time: 0.00\n",
            "update_res: nan\n",
            "update_bcs1: 0.000e+00\n"
          ]
        },
        {
          "name": "stdout",
          "output_type": "stream",
          "text": [
            " adaptive_constant_bc:  nan\n"
          ]
        },
        {
          "name": "stderr",
          "output_type": "stream",
          "text": [
            "It: 33400, Loss: 1.743e+03, Loss_bcs: 6.515e+01, Loss_res: 1.678e+03 ,Time: 0.00\n",
            "update_res: nan\n",
            "update_bcs1: 0.000e+00\n"
          ]
        },
        {
          "name": "stdout",
          "output_type": "stream",
          "text": [
            " adaptive_constant_bc:  nan\n"
          ]
        },
        {
          "name": "stderr",
          "output_type": "stream",
          "text": [
            "It: 33500, Loss: 1.742e+03, Loss_bcs: 6.518e+01, Loss_res: 1.676e+03 ,Time: 0.00\n",
            "update_res: nan\n",
            "update_bcs1: 0.000e+00\n"
          ]
        },
        {
          "name": "stdout",
          "output_type": "stream",
          "text": [
            " adaptive_constant_bc:  nan\n"
          ]
        },
        {
          "name": "stderr",
          "output_type": "stream",
          "text": [
            "It: 33600, Loss: 1.740e+03, Loss_bcs: 6.522e+01, Loss_res: 1.675e+03 ,Time: 0.00\n",
            "update_res: nan\n",
            "update_bcs1: 0.000e+00\n"
          ]
        },
        {
          "name": "stdout",
          "output_type": "stream",
          "text": [
            " adaptive_constant_bc:  nan\n"
          ]
        },
        {
          "name": "stderr",
          "output_type": "stream",
          "text": [
            "It: 33700, Loss: 1.739e+03, Loss_bcs: 6.525e+01, Loss_res: 1.674e+03 ,Time: 0.00\n",
            "update_res: nan\n",
            "update_bcs1: 0.000e+00\n"
          ]
        },
        {
          "name": "stdout",
          "output_type": "stream",
          "text": [
            " adaptive_constant_bc:  nan\n"
          ]
        },
        {
          "name": "stderr",
          "output_type": "stream",
          "text": [
            "It: 33800, Loss: 1.737e+03, Loss_bcs: 6.528e+01, Loss_res: 1.672e+03 ,Time: 0.00\n",
            "update_res: nan\n",
            "update_bcs1: 0.000e+00\n"
          ]
        },
        {
          "name": "stdout",
          "output_type": "stream",
          "text": [
            " adaptive_constant_bc:  nan\n"
          ]
        },
        {
          "name": "stderr",
          "output_type": "stream",
          "text": [
            "It: 33900, Loss: 1.736e+03, Loss_bcs: 6.531e+01, Loss_res: 1.671e+03 ,Time: 0.00\n",
            "update_res: nan\n",
            "update_bcs1: 0.000e+00\n"
          ]
        },
        {
          "name": "stdout",
          "output_type": "stream",
          "text": [
            " adaptive_constant_bc:  nan\n"
          ]
        },
        {
          "name": "stderr",
          "output_type": "stream",
          "text": [
            "It: 34000, Loss: 1.734e+03, Loss_bcs: 6.534e+01, Loss_res: 1.669e+03 ,Time: 0.00\n",
            "update_res: nan\n",
            "update_bcs1: 0.000e+00\n"
          ]
        },
        {
          "name": "stdout",
          "output_type": "stream",
          "text": [
            " adaptive_constant_bc:  nan\n"
          ]
        },
        {
          "name": "stderr",
          "output_type": "stream",
          "text": [
            "It: 34100, Loss: 1.733e+03, Loss_bcs: 6.537e+01, Loss_res: 1.668e+03 ,Time: 0.00\n",
            "update_res: nan\n",
            "update_bcs1: 0.000e+00\n"
          ]
        },
        {
          "name": "stdout",
          "output_type": "stream",
          "text": [
            " adaptive_constant_bc:  nan\n"
          ]
        },
        {
          "name": "stderr",
          "output_type": "stream",
          "text": [
            "It: 34200, Loss: 1.732e+03, Loss_bcs: 6.540e+01, Loss_res: 1.666e+03 ,Time: 0.00\n",
            "update_res: nan\n",
            "update_bcs1: 0.000e+00\n"
          ]
        },
        {
          "name": "stdout",
          "output_type": "stream",
          "text": [
            " adaptive_constant_bc:  nan\n"
          ]
        },
        {
          "name": "stderr",
          "output_type": "stream",
          "text": [
            "It: 34300, Loss: 1.730e+03, Loss_bcs: 6.543e+01, Loss_res: 1.665e+03 ,Time: 0.00\n",
            "update_res: nan\n",
            "update_bcs1: 0.000e+00\n"
          ]
        },
        {
          "name": "stdout",
          "output_type": "stream",
          "text": [
            " adaptive_constant_bc:  nan\n"
          ]
        },
        {
          "name": "stderr",
          "output_type": "stream",
          "text": [
            "It: 34400, Loss: 1.729e+03, Loss_bcs: 6.546e+01, Loss_res: 1.664e+03 ,Time: 0.00\n",
            "update_res: nan\n",
            "update_bcs1: 0.000e+00\n"
          ]
        },
        {
          "name": "stdout",
          "output_type": "stream",
          "text": [
            " adaptive_constant_bc:  nan\n"
          ]
        },
        {
          "name": "stderr",
          "output_type": "stream",
          "text": [
            "It: 34500, Loss: 1.728e+03, Loss_bcs: 6.549e+01, Loss_res: 1.662e+03 ,Time: 0.00\n",
            "update_res: nan\n",
            "update_bcs1: 0.000e+00\n"
          ]
        },
        {
          "name": "stdout",
          "output_type": "stream",
          "text": [
            " adaptive_constant_bc:  nan\n"
          ]
        },
        {
          "name": "stderr",
          "output_type": "stream",
          "text": [
            "It: 34600, Loss: 1.726e+03, Loss_bcs: 6.552e+01, Loss_res: 1.661e+03 ,Time: 0.00\n",
            "update_res: nan\n",
            "update_bcs1: 0.000e+00\n"
          ]
        },
        {
          "name": "stdout",
          "output_type": "stream",
          "text": [
            " adaptive_constant_bc:  nan\n"
          ]
        },
        {
          "name": "stderr",
          "output_type": "stream",
          "text": [
            "It: 34700, Loss: 1.725e+03, Loss_bcs: 6.555e+01, Loss_res: 1.660e+03 ,Time: 0.00\n",
            "update_res: nan\n",
            "update_bcs1: 0.000e+00\n"
          ]
        },
        {
          "name": "stdout",
          "output_type": "stream",
          "text": [
            " adaptive_constant_bc:  nan\n"
          ]
        },
        {
          "name": "stderr",
          "output_type": "stream",
          "text": [
            "It: 34800, Loss: 1.724e+03, Loss_bcs: 6.557e+01, Loss_res: 1.658e+03 ,Time: 0.00\n",
            "update_res: nan\n",
            "update_bcs1: 0.000e+00\n"
          ]
        },
        {
          "name": "stdout",
          "output_type": "stream",
          "text": [
            " adaptive_constant_bc:  nan\n"
          ]
        },
        {
          "name": "stderr",
          "output_type": "stream",
          "text": [
            "It: 34900, Loss: 1.723e+03, Loss_bcs: 6.560e+01, Loss_res: 1.657e+03 ,Time: 0.00\n",
            "update_res: nan\n",
            "update_bcs1: 0.000e+00\n"
          ]
        },
        {
          "name": "stdout",
          "output_type": "stream",
          "text": [
            " adaptive_constant_bc:  nan\n"
          ]
        },
        {
          "name": "stderr",
          "output_type": "stream",
          "text": [
            "It: 35000, Loss: 1.721e+03, Loss_bcs: 6.563e+01, Loss_res: 1.656e+03 ,Time: 0.00\n",
            "update_res: nan\n",
            "update_bcs1: 0.000e+00\n"
          ]
        },
        {
          "name": "stdout",
          "output_type": "stream",
          "text": [
            " adaptive_constant_bc:  nan\n"
          ]
        },
        {
          "name": "stderr",
          "output_type": "stream",
          "text": [
            "It: 35100, Loss: 1.720e+03, Loss_bcs: 6.566e+01, Loss_res: 1.654e+03 ,Time: 0.00\n",
            "update_res: nan\n",
            "update_bcs1: 0.000e+00\n"
          ]
        },
        {
          "name": "stdout",
          "output_type": "stream",
          "text": [
            " adaptive_constant_bc:  nan\n"
          ]
        },
        {
          "name": "stderr",
          "output_type": "stream",
          "text": [
            "It: 35200, Loss: 1.719e+03, Loss_bcs: 6.568e+01, Loss_res: 1.653e+03 ,Time: 0.00\n",
            "update_res: nan\n",
            "update_bcs1: 0.000e+00\n"
          ]
        },
        {
          "name": "stdout",
          "output_type": "stream",
          "text": [
            " adaptive_constant_bc:  nan\n"
          ]
        },
        {
          "name": "stderr",
          "output_type": "stream",
          "text": [
            "It: 35300, Loss: 1.718e+03, Loss_bcs: 6.571e+01, Loss_res: 1.652e+03 ,Time: 0.00\n",
            "update_res: nan\n",
            "update_bcs1: 0.000e+00\n"
          ]
        },
        {
          "name": "stdout",
          "output_type": "stream",
          "text": [
            " adaptive_constant_bc:  nan\n"
          ]
        },
        {
          "name": "stderr",
          "output_type": "stream",
          "text": [
            "It: 35400, Loss: 1.716e+03, Loss_bcs: 6.573e+01, Loss_res: 1.651e+03 ,Time: 0.00\n",
            "update_res: nan\n",
            "update_bcs1: 0.000e+00\n"
          ]
        },
        {
          "name": "stdout",
          "output_type": "stream",
          "text": [
            " adaptive_constant_bc:  nan\n"
          ]
        },
        {
          "name": "stderr",
          "output_type": "stream",
          "text": [
            "It: 35500, Loss: 1.715e+03, Loss_bcs: 6.576e+01, Loss_res: 1.649e+03 ,Time: 0.00\n",
            "update_res: nan\n",
            "update_bcs1: 0.000e+00\n"
          ]
        },
        {
          "name": "stdout",
          "output_type": "stream",
          "text": [
            " adaptive_constant_bc:  nan\n"
          ]
        },
        {
          "name": "stderr",
          "output_type": "stream",
          "text": [
            "It: 35600, Loss: 1.714e+03, Loss_bcs: 6.579e+01, Loss_res: 1.648e+03 ,Time: 0.00\n",
            "update_res: nan\n",
            "update_bcs1: 0.000e+00\n"
          ]
        },
        {
          "name": "stdout",
          "output_type": "stream",
          "text": [
            " adaptive_constant_bc:  nan\n"
          ]
        },
        {
          "name": "stderr",
          "output_type": "stream",
          "text": [
            "It: 35700, Loss: 1.713e+03, Loss_bcs: 6.581e+01, Loss_res: 1.647e+03 ,Time: 0.00\n",
            "update_res: nan\n",
            "update_bcs1: 0.000e+00\n"
          ]
        },
        {
          "name": "stdout",
          "output_type": "stream",
          "text": [
            " adaptive_constant_bc:  nan\n"
          ]
        },
        {
          "name": "stderr",
          "output_type": "stream",
          "text": [
            "It: 35800, Loss: 1.712e+03, Loss_bcs: 6.584e+01, Loss_res: 1.646e+03 ,Time: 0.00\n",
            "update_res: nan\n",
            "update_bcs1: 0.000e+00\n"
          ]
        },
        {
          "name": "stdout",
          "output_type": "stream",
          "text": [
            " adaptive_constant_bc:  nan\n"
          ]
        },
        {
          "name": "stderr",
          "output_type": "stream",
          "text": [
            "It: 35900, Loss: 1.710e+03, Loss_bcs: 6.586e+01, Loss_res: 1.645e+03 ,Time: 0.00\n",
            "update_res: nan\n",
            "update_bcs1: 0.000e+00\n"
          ]
        },
        {
          "name": "stdout",
          "output_type": "stream",
          "text": [
            " adaptive_constant_bc:  nan\n"
          ]
        },
        {
          "name": "stderr",
          "output_type": "stream",
          "text": [
            "It: 36000, Loss: 1.709e+03, Loss_bcs: 6.589e+01, Loss_res: 1.643e+03 ,Time: 0.00\n",
            "update_res: nan\n",
            "update_bcs1: 0.000e+00\n"
          ]
        },
        {
          "name": "stdout",
          "output_type": "stream",
          "text": [
            " adaptive_constant_bc:  nan\n"
          ]
        },
        {
          "name": "stderr",
          "output_type": "stream",
          "text": [
            "It: 36100, Loss: 1.708e+03, Loss_bcs: 6.591e+01, Loss_res: 1.642e+03 ,Time: 0.00\n",
            "update_res: nan\n",
            "update_bcs1: 0.000e+00\n"
          ]
        },
        {
          "name": "stdout",
          "output_type": "stream",
          "text": [
            " adaptive_constant_bc:  nan\n"
          ]
        },
        {
          "name": "stderr",
          "output_type": "stream",
          "text": [
            "It: 36200, Loss: 1.707e+03, Loss_bcs: 6.593e+01, Loss_res: 1.641e+03 ,Time: 0.00\n",
            "update_res: nan\n",
            "update_bcs1: 0.000e+00\n"
          ]
        },
        {
          "name": "stdout",
          "output_type": "stream",
          "text": [
            " adaptive_constant_bc:  nan\n"
          ]
        },
        {
          "name": "stderr",
          "output_type": "stream",
          "text": [
            "It: 36300, Loss: 1.706e+03, Loss_bcs: 6.596e+01, Loss_res: 1.640e+03 ,Time: 0.00\n",
            "update_res: nan\n",
            "update_bcs1: 0.000e+00\n"
          ]
        },
        {
          "name": "stdout",
          "output_type": "stream",
          "text": [
            " adaptive_constant_bc:  nan\n"
          ]
        },
        {
          "name": "stderr",
          "output_type": "stream",
          "text": [
            "It: 36400, Loss: 1.705e+03, Loss_bcs: 6.598e+01, Loss_res: 1.639e+03 ,Time: 0.00\n",
            "update_res: nan\n",
            "update_bcs1: 0.000e+00\n"
          ]
        },
        {
          "name": "stdout",
          "output_type": "stream",
          "text": [
            " adaptive_constant_bc:  nan\n"
          ]
        },
        {
          "name": "stderr",
          "output_type": "stream",
          "text": [
            "It: 36500, Loss: 1.704e+03, Loss_bcs: 6.600e+01, Loss_res: 1.638e+03 ,Time: 0.00\n",
            "update_res: nan\n",
            "update_bcs1: 0.000e+00\n"
          ]
        },
        {
          "name": "stdout",
          "output_type": "stream",
          "text": [
            " adaptive_constant_bc:  nan\n"
          ]
        },
        {
          "name": "stderr",
          "output_type": "stream",
          "text": [
            "It: 36600, Loss: 1.703e+03, Loss_bcs: 6.602e+01, Loss_res: 1.637e+03 ,Time: 0.00\n",
            "update_res: nan\n",
            "update_bcs1: 0.000e+00\n"
          ]
        },
        {
          "name": "stdout",
          "output_type": "stream",
          "text": [
            " adaptive_constant_bc:  nan\n"
          ]
        },
        {
          "name": "stderr",
          "output_type": "stream",
          "text": [
            "It: 36700, Loss: 1.701e+03, Loss_bcs: 6.605e+01, Loss_res: 1.635e+03 ,Time: 0.00\n",
            "update_res: nan\n",
            "update_bcs1: 0.000e+00\n"
          ]
        },
        {
          "name": "stdout",
          "output_type": "stream",
          "text": [
            " adaptive_constant_bc:  nan\n"
          ]
        },
        {
          "name": "stderr",
          "output_type": "stream",
          "text": [
            "It: 36800, Loss: 1.700e+03, Loss_bcs: 6.607e+01, Loss_res: 1.634e+03 ,Time: 0.00\n",
            "update_res: nan\n",
            "update_bcs1: 0.000e+00\n"
          ]
        },
        {
          "name": "stdout",
          "output_type": "stream",
          "text": [
            " adaptive_constant_bc:  nan\n"
          ]
        },
        {
          "name": "stderr",
          "output_type": "stream",
          "text": [
            "It: 36900, Loss: 1.699e+03, Loss_bcs: 6.609e+01, Loss_res: 1.633e+03 ,Time: 0.00\n",
            "update_res: nan\n",
            "update_bcs1: 0.000e+00\n"
          ]
        },
        {
          "name": "stdout",
          "output_type": "stream",
          "text": [
            " adaptive_constant_bc:  nan\n"
          ]
        },
        {
          "name": "stderr",
          "output_type": "stream",
          "text": [
            "It: 37000, Loss: 1.698e+03, Loss_bcs: 6.611e+01, Loss_res: 1.632e+03 ,Time: 0.00\n",
            "update_res: nan\n",
            "update_bcs1: 0.000e+00\n"
          ]
        },
        {
          "name": "stdout",
          "output_type": "stream",
          "text": [
            " adaptive_constant_bc:  nan\n"
          ]
        },
        {
          "name": "stderr",
          "output_type": "stream",
          "text": [
            "It: 37100, Loss: 1.697e+03, Loss_bcs: 6.613e+01, Loss_res: 1.631e+03 ,Time: 0.00\n",
            "update_res: nan\n",
            "update_bcs1: 0.000e+00\n"
          ]
        },
        {
          "name": "stdout",
          "output_type": "stream",
          "text": [
            " adaptive_constant_bc:  nan\n"
          ]
        },
        {
          "name": "stderr",
          "output_type": "stream",
          "text": [
            "It: 37200, Loss: 1.696e+03, Loss_bcs: 6.615e+01, Loss_res: 1.630e+03 ,Time: 0.00\n",
            "update_res: nan\n",
            "update_bcs1: 0.000e+00\n"
          ]
        },
        {
          "name": "stdout",
          "output_type": "stream",
          "text": [
            " adaptive_constant_bc:  nan\n"
          ]
        },
        {
          "name": "stderr",
          "output_type": "stream",
          "text": [
            "It: 37300, Loss: 1.695e+03, Loss_bcs: 6.617e+01, Loss_res: 1.629e+03 ,Time: 0.00\n",
            "update_res: nan\n",
            "update_bcs1: 0.000e+00\n"
          ]
        },
        {
          "name": "stdout",
          "output_type": "stream",
          "text": [
            " adaptive_constant_bc:  nan\n"
          ]
        },
        {
          "name": "stderr",
          "output_type": "stream",
          "text": [
            "It: 37400, Loss: 1.694e+03, Loss_bcs: 6.619e+01, Loss_res: 1.628e+03 ,Time: 0.00\n",
            "update_res: nan\n",
            "update_bcs1: 0.000e+00\n"
          ]
        },
        {
          "name": "stdout",
          "output_type": "stream",
          "text": [
            " adaptive_constant_bc:  nan\n"
          ]
        },
        {
          "name": "stderr",
          "output_type": "stream",
          "text": [
            "It: 37500, Loss: 1.693e+03, Loss_bcs: 6.621e+01, Loss_res: 1.627e+03 ,Time: 0.00\n",
            "update_res: nan\n",
            "update_bcs1: 0.000e+00\n"
          ]
        },
        {
          "name": "stdout",
          "output_type": "stream",
          "text": [
            " adaptive_constant_bc:  nan\n"
          ]
        },
        {
          "name": "stderr",
          "output_type": "stream",
          "text": [
            "It: 37600, Loss: 1.692e+03, Loss_bcs: 6.623e+01, Loss_res: 1.626e+03 ,Time: 0.00\n",
            "update_res: nan\n",
            "update_bcs1: 0.000e+00\n"
          ]
        },
        {
          "name": "stdout",
          "output_type": "stream",
          "text": [
            " adaptive_constant_bc:  nan\n"
          ]
        },
        {
          "name": "stderr",
          "output_type": "stream",
          "text": [
            "It: 37700, Loss: 1.691e+03, Loss_bcs: 6.625e+01, Loss_res: 1.625e+03 ,Time: 0.00\n",
            "update_res: nan\n",
            "update_bcs1: 0.000e+00\n"
          ]
        },
        {
          "name": "stdout",
          "output_type": "stream",
          "text": [
            " adaptive_constant_bc:  nan\n"
          ]
        },
        {
          "name": "stderr",
          "output_type": "stream",
          "text": [
            "It: 37800, Loss: 1.690e+03, Loss_bcs: 6.627e+01, Loss_res: 1.624e+03 ,Time: 0.00\n",
            "update_res: nan\n",
            "update_bcs1: 0.000e+00\n"
          ]
        },
        {
          "name": "stdout",
          "output_type": "stream",
          "text": [
            " adaptive_constant_bc:  nan\n"
          ]
        },
        {
          "name": "stderr",
          "output_type": "stream",
          "text": [
            "It: 37900, Loss: 1.689e+03, Loss_bcs: 6.629e+01, Loss_res: 1.623e+03 ,Time: 0.00\n",
            "update_res: nan\n",
            "update_bcs1: 0.000e+00\n"
          ]
        },
        {
          "name": "stdout",
          "output_type": "stream",
          "text": [
            " adaptive_constant_bc:  nan\n"
          ]
        },
        {
          "name": "stderr",
          "output_type": "stream",
          "text": [
            "It: 38000, Loss: 1.689e+03, Loss_bcs: 6.631e+01, Loss_res: 1.622e+03 ,Time: 0.00\n",
            "update_res: nan\n",
            "update_bcs1: 0.000e+00\n"
          ]
        },
        {
          "name": "stdout",
          "output_type": "stream",
          "text": [
            " adaptive_constant_bc:  nan\n"
          ]
        },
        {
          "name": "stderr",
          "output_type": "stream",
          "text": [
            "It: 38100, Loss: 1.688e+03, Loss_bcs: 6.633e+01, Loss_res: 1.621e+03 ,Time: 0.00\n",
            "update_res: nan\n",
            "update_bcs1: 0.000e+00\n"
          ]
        },
        {
          "name": "stdout",
          "output_type": "stream",
          "text": [
            " adaptive_constant_bc:  nan\n"
          ]
        },
        {
          "name": "stderr",
          "output_type": "stream",
          "text": [
            "It: 38200, Loss: 1.687e+03, Loss_bcs: 6.635e+01, Loss_res: 1.620e+03 ,Time: 0.00\n",
            "update_res: nan\n",
            "update_bcs1: 0.000e+00\n"
          ]
        },
        {
          "name": "stdout",
          "output_type": "stream",
          "text": [
            " adaptive_constant_bc:  nan\n"
          ]
        },
        {
          "name": "stderr",
          "output_type": "stream",
          "text": [
            "It: 38300, Loss: 1.686e+03, Loss_bcs: 6.637e+01, Loss_res: 1.619e+03 ,Time: 0.00\n",
            "update_res: nan\n",
            "update_bcs1: 0.000e+00\n"
          ]
        },
        {
          "name": "stdout",
          "output_type": "stream",
          "text": [
            " adaptive_constant_bc:  nan\n"
          ]
        },
        {
          "name": "stderr",
          "output_type": "stream",
          "text": [
            "It: 38400, Loss: 1.685e+03, Loss_bcs: 6.638e+01, Loss_res: 1.619e+03 ,Time: 0.00\n",
            "update_res: nan\n",
            "update_bcs1: 0.000e+00\n"
          ]
        },
        {
          "name": "stdout",
          "output_type": "stream",
          "text": [
            " adaptive_constant_bc:  nan\n"
          ]
        },
        {
          "name": "stderr",
          "output_type": "stream",
          "text": [
            "It: 38500, Loss: 1.684e+03, Loss_bcs: 6.640e+01, Loss_res: 1.618e+03 ,Time: 0.00\n",
            "update_res: nan\n",
            "update_bcs1: 0.000e+00\n"
          ]
        },
        {
          "name": "stdout",
          "output_type": "stream",
          "text": [
            " adaptive_constant_bc:  nan\n"
          ]
        },
        {
          "name": "stderr",
          "output_type": "stream",
          "text": [
            "It: 38600, Loss: 1.683e+03, Loss_bcs: 6.642e+01, Loss_res: 1.617e+03 ,Time: 0.00\n",
            "update_res: nan\n",
            "update_bcs1: 0.000e+00\n"
          ]
        },
        {
          "name": "stdout",
          "output_type": "stream",
          "text": [
            " adaptive_constant_bc:  nan\n"
          ]
        },
        {
          "name": "stderr",
          "output_type": "stream",
          "text": [
            "It: 38700, Loss: 1.683e+03, Loss_bcs: 6.644e+01, Loss_res: 1.616e+03 ,Time: 0.00\n",
            "update_res: nan\n",
            "update_bcs1: 0.000e+00\n"
          ]
        },
        {
          "name": "stdout",
          "output_type": "stream",
          "text": [
            " adaptive_constant_bc:  nan\n"
          ]
        },
        {
          "name": "stderr",
          "output_type": "stream",
          "text": [
            "It: 38800, Loss: 1.682e+03, Loss_bcs: 6.645e+01, Loss_res: 1.615e+03 ,Time: 0.00\n",
            "update_res: nan\n",
            "update_bcs1: 0.000e+00\n"
          ]
        },
        {
          "name": "stdout",
          "output_type": "stream",
          "text": [
            " adaptive_constant_bc:  nan\n"
          ]
        },
        {
          "name": "stderr",
          "output_type": "stream",
          "text": [
            "It: 38900, Loss: 1.681e+03, Loss_bcs: 6.647e+01, Loss_res: 1.614e+03 ,Time: 0.00\n",
            "update_res: nan\n",
            "update_bcs1: 0.000e+00\n"
          ]
        },
        {
          "name": "stdout",
          "output_type": "stream",
          "text": [
            " adaptive_constant_bc:  nan\n"
          ]
        },
        {
          "name": "stderr",
          "output_type": "stream",
          "text": [
            "It: 39000, Loss: 1.680e+03, Loss_bcs: 6.649e+01, Loss_res: 1.614e+03 ,Time: 0.00\n",
            "update_res: nan\n",
            "update_bcs1: 0.000e+00\n"
          ]
        },
        {
          "name": "stdout",
          "output_type": "stream",
          "text": [
            " adaptive_constant_bc:  nan\n"
          ]
        },
        {
          "name": "stderr",
          "output_type": "stream",
          "text": [
            "It: 39100, Loss: 1.679e+03, Loss_bcs: 6.651e+01, Loss_res: 1.613e+03 ,Time: 0.00\n",
            "update_res: nan\n",
            "update_bcs1: 0.000e+00\n"
          ]
        },
        {
          "name": "stdout",
          "output_type": "stream",
          "text": [
            " adaptive_constant_bc:  nan\n"
          ]
        },
        {
          "name": "stderr",
          "output_type": "stream",
          "text": [
            "It: 39200, Loss: 1.679e+03, Loss_bcs: 6.652e+01, Loss_res: 1.612e+03 ,Time: 0.00\n",
            "update_res: nan\n",
            "update_bcs1: 0.000e+00\n"
          ]
        },
        {
          "name": "stdout",
          "output_type": "stream",
          "text": [
            " adaptive_constant_bc:  nan\n"
          ]
        },
        {
          "name": "stderr",
          "output_type": "stream",
          "text": [
            "It: 39300, Loss: 1.678e+03, Loss_bcs: 6.654e+01, Loss_res: 1.611e+03 ,Time: 0.00\n",
            "update_res: nan\n",
            "update_bcs1: 0.000e+00\n"
          ]
        },
        {
          "name": "stdout",
          "output_type": "stream",
          "text": [
            " adaptive_constant_bc:  nan\n"
          ]
        },
        {
          "name": "stderr",
          "output_type": "stream",
          "text": [
            "It: 39400, Loss: 1.677e+03, Loss_bcs: 6.655e+01, Loss_res: 1.610e+03 ,Time: 0.00\n",
            "update_res: nan\n",
            "update_bcs1: 0.000e+00\n"
          ]
        },
        {
          "name": "stdout",
          "output_type": "stream",
          "text": [
            " adaptive_constant_bc:  nan\n"
          ]
        },
        {
          "name": "stderr",
          "output_type": "stream",
          "text": [
            "It: 39500, Loss: 1.676e+03, Loss_bcs: 6.657e+01, Loss_res: 1.610e+03 ,Time: 0.00\n",
            "update_res: nan\n",
            "update_bcs1: 0.000e+00\n"
          ]
        },
        {
          "name": "stdout",
          "output_type": "stream",
          "text": [
            " adaptive_constant_bc:  nan\n"
          ]
        },
        {
          "name": "stderr",
          "output_type": "stream",
          "text": [
            "It: 39600, Loss: 1.676e+03, Loss_bcs: 6.659e+01, Loss_res: 1.609e+03 ,Time: 0.00\n",
            "update_res: nan\n",
            "update_bcs1: 0.000e+00\n"
          ]
        },
        {
          "name": "stdout",
          "output_type": "stream",
          "text": [
            " adaptive_constant_bc:  nan\n"
          ]
        },
        {
          "name": "stderr",
          "output_type": "stream",
          "text": [
            "It: 39700, Loss: 1.675e+03, Loss_bcs: 6.660e+01, Loss_res: 1.608e+03 ,Time: 0.00\n",
            "update_res: nan\n",
            "update_bcs1: 0.000e+00\n"
          ]
        },
        {
          "name": "stdout",
          "output_type": "stream",
          "text": [
            " adaptive_constant_bc:  nan\n"
          ]
        },
        {
          "name": "stderr",
          "output_type": "stream",
          "text": [
            "It: 39800, Loss: 1.674e+03, Loss_bcs: 6.662e+01, Loss_res: 1.607e+03 ,Time: 0.00\n",
            "update_res: nan\n",
            "update_bcs1: 0.000e+00\n"
          ]
        },
        {
          "name": "stdout",
          "output_type": "stream",
          "text": [
            " adaptive_constant_bc:  nan\n"
          ]
        },
        {
          "name": "stderr",
          "output_type": "stream",
          "text": [
            "It: 39900, Loss: 1.673e+03, Loss_bcs: 6.663e+01, Loss_res: 1.607e+03 ,Time: 0.00\n",
            "update_res: nan\n",
            "update_bcs1: 0.000e+00\n"
          ]
        },
        {
          "name": "stdout",
          "output_type": "stream",
          "text": [
            " adaptive_constant_bc:  nan\n"
          ]
        },
        {
          "name": "stderr",
          "output_type": "stream",
          "text": [
            "/home/afrah2/anaconda3/envs/twoPhase/lib/python3.7/site-packages/seaborn/distributions.py:2619: FutureWarning: `distplot` is a deprecated function and will be removed in a future version. Please adapt your code to use either `displot` (a figure-level function with similar flexibility) or `kdeplot` (an axes-level function for kernel density plots).\n",
            "  warnings.warn(msg, FutureWarning)\n",
            "/home/afrah2/anaconda3/envs/twoPhase/lib/python3.7/site-packages/seaborn/distributions.py:2619: FutureWarning: `distplot` is a deprecated function and will be removed in a future version. Please adapt your code to use either `displot` (a figure-level function with similar flexibility) or `kdeplot` (an axes-level function for kernel density plots).\n",
            "  warnings.warn(msg, FutureWarning)\n",
            "/home/afrah2/anaconda3/envs/twoPhase/lib/python3.7/site-packages/seaborn/distributions.py:2619: FutureWarning: `distplot` is a deprecated function and will be removed in a future version. Please adapt your code to use either `displot` (a figure-level function with similar flexibility) or `kdeplot` (an axes-level function for kernel density plots).\n",
            "  warnings.warn(msg, FutureWarning)\n",
            "/home/afrah2/anaconda3/envs/twoPhase/lib/python3.7/site-packages/seaborn/distributions.py:2619: FutureWarning: `distplot` is a deprecated function and will be removed in a future version. Please adapt your code to use either `displot` (a figure-level function with similar flexibility) or `kdeplot` (an axes-level function for kernel density plots).\n",
            "  warnings.warn(msg, FutureWarning)\n",
            "Gradients information stored ...\n",
            "It: 40000, Loss: 1.673e+03, Loss_bcs: 6.665e+01, Loss_res: 1.606e+03 ,Time: 0.31\n",
            "/home/afrah2/anaconda3/envs/twoPhase/lib/python3.7/site-packages/ipykernel_launcher.py:245: RuntimeWarning: overflow encountered in exp\n",
            "/home/afrah2/anaconda3/envs/twoPhase/lib/python3.7/site-packages/ipykernel_launcher.py:250: RuntimeWarning: overflow encountered in exp\n",
            "/home/afrah2/anaconda3/envs/twoPhase/lib/python3.7/site-packages/ipykernel_launcher.py:251: RuntimeWarning: invalid value encountered in true_divide\n",
            "update_res: nan\n",
            "update_bcs1: 0.000e+00\n"
          ]
        },
        {
          "name": "stdout",
          "output_type": "stream",
          "text": [
            " adaptive_constant_bc:  nan\n"
          ]
        },
        {
          "name": "stderr",
          "output_type": "stream",
          "text": [
            "elapsed: 8.83e+01\n",
            "Relative L2 error_u: 6.41e+00\n",
            "Relative L2 error_r: 3.55e-01\n"
          ]
        },
        {
          "ename": "TypeError",
          "evalue": "unsupported format string passed to list.__format__",
          "output_type": "error",
          "traceback": [
            "\u001b[0;31m---------------------------------------------------------------------------\u001b[0m",
            "\u001b[0;31mTypeError\u001b[0m                                 Traceback (most recent call last)",
            "\u001b[0;32m/tmp/ipykernel_32854/1500751541.py\u001b[0m in \u001b[0;36m<module>\u001b[0;34m\u001b[0m\n\u001b[1;32m     85\u001b[0m \u001b[0;34m\u001b[0m\u001b[0m\n\u001b[1;32m     86\u001b[0m \u001b[0;34m\u001b[0m\u001b[0m\n\u001b[0;32m---> 87\u001b[0;31m             \u001b[0mmodel\u001b[0m\u001b[0;34m.\u001b[0m\u001b[0mprint\u001b[0m\u001b[0;34m(\u001b[0m\u001b[0;34m'mean value of lambda_bc: {:.2e}'\u001b[0m\u001b[0;34m.\u001b[0m\u001b[0mformat\u001b[0m\u001b[0;34m(\u001b[0m\u001b[0mmodel\u001b[0m\u001b[0;34m.\u001b[0m\u001b[0madaptive_constant_bcs_log\u001b[0m\u001b[0;34m)\u001b[0m \u001b[0;34m/\u001b[0m\u001b[0mlen\u001b[0m\u001b[0;34m(\u001b[0m\u001b[0mmodel\u001b[0m\u001b[0;34m.\u001b[0m\u001b[0madaptive_constant_bcs_log\u001b[0m\u001b[0;34m)\u001b[0m\u001b[0;34m)\u001b[0m\u001b[0;34m\u001b[0m\u001b[0;34m\u001b[0m\u001b[0m\n\u001b[0m\u001b[1;32m     88\u001b[0m             \u001b[0mmodel\u001b[0m\u001b[0;34m.\u001b[0m\u001b[0mprint\u001b[0m\u001b[0;34m(\u001b[0m\u001b[0;34m'first value of lambda_bc: {:.2e}'\u001b[0m\u001b[0;34m.\u001b[0m\u001b[0mformat\u001b[0m\u001b[0;34m(\u001b[0m\u001b[0mmodel\u001b[0m\u001b[0;34m.\u001b[0m\u001b[0madaptive_constant_bcs_log\u001b[0m\u001b[0;34m[\u001b[0m\u001b[0;36m0\u001b[0m\u001b[0;34m]\u001b[0m\u001b[0;34m)\u001b[0m\u001b[0;34m)\u001b[0m\u001b[0;34m\u001b[0m\u001b[0;34m\u001b[0m\u001b[0m\n\u001b[1;32m     89\u001b[0m             \u001b[0mmodel\u001b[0m\u001b[0;34m.\u001b[0m\u001b[0mprint\u001b[0m\u001b[0;34m(\u001b[0m\u001b[0;34m'Relative L2 error_u: {:.2e}'\u001b[0m\u001b[0;34m.\u001b[0m\u001b[0mformat\u001b[0m\u001b[0;34m(\u001b[0m\u001b[0merror_u\u001b[0m\u001b[0;34m)\u001b[0m\u001b[0;34m)\u001b[0m\u001b[0;34m\u001b[0m\u001b[0;34m\u001b[0m\u001b[0m\n",
            "\u001b[0;31mTypeError\u001b[0m: unsupported format string passed to list.__format__"
          ]
        }
      ],
      "source": [
        "# Define computional domain\n",
        "bc1_coords = np.array([[0.0], [0.0]])\n",
        "bc2_coords = np.array([[1.0], [1.0]])\n",
        "dom_coords = np.array([[0.0], [1.0]])\n",
        "\n",
        "# Training data on u(x) -- Dirichlet boundary conditions\n",
        "\n",
        "nn  = 100\n",
        "\n",
        "X_bc1 = dom_coords[0, 0] * np.ones((nn // 2, 1))\n",
        "X_bc2 = dom_coords[1, 0] * np.ones((nn // 2, 1))\n",
        "X_u = np.vstack([X_bc1, X_bc2])\n",
        "Y_u = u(X_u, a)\n",
        "\n",
        "X_r = np.linspace(dom_coords[0, 0], dom_coords[1, 0], nn)[:, None]\n",
        "Y_r = u_xx(X_r, a)\n",
        "\n",
        "nn = 1000\n",
        "X_star = np.linspace(dom_coords[0, 0], dom_coords[1, 0], nn)[:, None]\n",
        "u_star = u(X_star, a)\n",
        "r_star = u_xx(X_star, a)\n",
        "\n",
        "nIter =40001\n",
        "bcbatch_size = 500\n",
        "ubatch_size = 5000\n",
        "mbbatch_size = 128\n",
        "\n",
        "\n",
        "\n",
        "# Define model\n",
        "mode = 'M1'\n",
        "layers = [1, 500, 1]\n",
        "\n",
        "\n",
        "\n",
        "iterations = 1\n",
        "methods = [ \"mini_batch\"]\n",
        "\n",
        "result_dict =  dict((mtd, []) for mtd in methods)\n",
        "\n",
        "for mtd in methods:\n",
        "    print(\"Method: \", mtd)\n",
        "    time_list = []\n",
        "    error_u_list = []\n",
        "    error_r_list = []\n",
        "    \n",
        "    for index in range(iterations):\n",
        "\n",
        "        print(\"Epoch: \", str(index+1))\n",
        "\n",
        "        # Create residual sampler\n",
        "        gpu_options = tf.GPUOptions(visible_device_list=\"0\")\n",
        "        tf.reset_default_graph()\n",
        "        with tf.Session(config=tf.ConfigProto(gpu_options=gpu_options,allow_soft_placement=False, log_device_placement=False)) as sess:\n",
        "\n",
        "            model = PINN(layers, X_u, Y_u, X_r, Y_r , mode , sess)    \n",
        "\n",
        "            # Train model\n",
        "            start_time = time.time()\n",
        "\n",
        "            if mtd ==\"full_batch\":\n",
        "                print(\"full_batch method is used\")\n",
        "                model.train(nIter  , bcbatch_size , ubatch_size  )\n",
        "            elif mtd ==\"mini_batch\":\n",
        "                print(\"mini_batch method is used\")\n",
        "                model.trainmb(nIter, mbbatch_size)\n",
        "            else:\n",
        "                print(\"unknown method!\")\n",
        "            elapsed = time.time() - start_time\n",
        "\n",
        "            # Predictions\n",
        "            u_pred = model.predict_u(X_star)\n",
        "            r_pred = model.predict_r(X_star)\n",
        "            # Predictions\n",
        "\n",
        " \n",
        "\n",
        "            error_u = np.linalg.norm(u_star - u_pred, 2) / np.linalg.norm(u_star, 2)\n",
        "            error_r = np.linalg.norm(r_star - r_pred, 2) / np.linalg.norm(r_star, 2)\n",
        "\n",
        "            model.print('elapsed: {:.2e}'.format(elapsed))\n",
        "\n",
        "            model.print('Relative L2 error_u: {:.2e}'.format(error_u))\n",
        "            model.print('Relative L2 error_r: {:.2e}'.format(error_r))\n",
        "\n",
        "\n",
        "            model.print('mean value of lambda_bc: {:.2e}'.format(model.adaptive_constant_bcs_log) /len(model.adaptive_constant_bcs_log))\n",
        "            model.print('first value of lambda_bc: {:.2e}'.format(model.adaptive_constant_bcs_log[0]))\n",
        "            model.print('Relative L2 error_u: {:.2e}'.format(error_u))\n",
        "            model.print('Relative L2 error_v: {:.2e}'.format(error_r))\n",
        "            \n",
        "            model.save_NN()\n",
        "            model.plot_ntk()\n",
        "            model.plot_grad()\n",
        "            model.plot_lambda()\n",
        "            model.plt_prediction( X_star , u_star , u_pred)\n",
        "            sess.close()  \n",
        "            \n",
        "        time_list.append(elapsed)\n",
        "        error_u_list.append(error_u)\n",
        "        error_r_list.append(error_r)\n",
        "\n",
        "    print(\"\\n\\nMethod: \", mtd)\n",
        "    print(\"\\naverage of time_list:\" , sum(time_list) / len(time_list) )\n",
        "    print(\"average of error_u_list:\" , sum(error_u_list) / len(error_u_list) )\n",
        "    print(\"average of error_v_list:\" , sum(error_r_list) / len(error_r_list) )\n",
        "\n",
        "    result_dict[mtd] = [time_list ,error_u_list ,error_r_list ]\n",
        "    # scipy.io.savemat(\"M2_result_\"+str(iterations)+\"_\"+mtd+\".mat\" , {'time_list':np.array(time_list),'error_u_list':np.array(error_u_list),'error_f_list':np.array(error_f_list)})\n",
        "\n",
        "    scipy.io.savemat(os.path.join(model.dirname,\"\"+mtd+\"_model\"+mode+\"_mb\"+str(mbbatch_size)+\"_fb\"+str(ubatch_size)+\"_bc\"+str(bcbatch_size)+\"_n\"+str(iterations)+\"_nIter\"+str(nIter)+\".mat\") , result_dict)\n",
        "\n",
        "\n"
      ]
    },
    {
      "cell_type": "code",
      "execution_count": 7,
      "metadata": {},
      "outputs": [
        {
          "ename": "NameError",
          "evalue": "name 'model' is not defined",
          "output_type": "error",
          "traceback": [
            "\u001b[0;31m---------------------------------------------------------------------------\u001b[0m",
            "\u001b[0;31mNameError\u001b[0m                                 Traceback (most recent call last)",
            "\u001b[0;32m/tmp/ipykernel_32755/2530791209.py\u001b[0m in \u001b[0;36m<module>\u001b[0;34m\u001b[0m\n\u001b[0;32m----> 1\u001b[0;31m \u001b[0mmodel\u001b[0m\u001b[0;34m.\u001b[0m\u001b[0mlayers\u001b[0m\u001b[0;34m\u001b[0m\u001b[0;34m\u001b[0m\u001b[0m\n\u001b[0m",
            "\u001b[0;31mNameError\u001b[0m: name 'model' is not defined"
          ]
        }
      ],
      "source": [
        "model.layers"
      ]
    },
    {
      "cell_type": "code",
      "execution_count": null,
      "metadata": {},
      "outputs": [],
      "source": [
        "\n",
        "def plot_grad(self):\n",
        "\n",
        "    fig, ax = plt.subplots()\n",
        "    fig.set_size_inches([15,8])\n",
        "    ax.semilogy(self.mean_grad_res_list_log, label=r'$\\bar{\\nabla_\\theta \\mathcal{L}_{u_{phy}}}$')\n",
        "    ax.semilogy(self.mean_grad_bcs_list_log, label=r'$\\bar{\\nabla_\\theta \\mathcal{L}_{u_{bc}}}$')\n",
        "\n",
        "    ax.set_xlabel(\"epochs\", fontsize=15)\n",
        "    ax.set_ylabel(\"loss\", fontsize=15)\n",
        "    ax.tick_params(labelsize=15)\n",
        "    ax.legend()\n",
        "    path = os.path.join(self.dirname,'grad_history.png')\n",
        "    plt.savefig(path)\n",
        "\n",
        "plot_grad(model)"
      ]
    },
    {
      "cell_type": "code",
      "execution_count": null,
      "metadata": {},
      "outputs": [],
      "source": [
        "# Define model\n",
        "layers = [1, 512, 1]  \n",
        "# layers = [1, 512, 512, 512, 1]  \n"
      ]
    },
    {
      "cell_type": "code",
      "execution_count": null,
      "metadata": {
        "colab": {
          "base_uri": "https://localhost:8080/",
          "height": 369
        },
        "id": "Fw807UNzhu5z",
        "outputId": "929ae89c-3e10-4c56-e349-051441e8ab32"
      },
      "outputs": [],
      "source": [
        "loss_bcs = model.loss_bcs_log\n",
        "loss_res = model.loss_res_log\n",
        "\n",
        "fig = plt.figure(figsize=(6,5))\n",
        "plt.plot(loss_res, label='$\\mathcal{L}_{r}$')\n",
        "plt.plot(loss_bcs, label='$\\mathcal{L}_{b}$')\n",
        "plt.yscale('log')\n",
        "plt.xlabel('iterations')\n",
        "plt.ylabel('Loss')\n",
        "plt.legend()\n",
        "plt.tight_layout()\n",
        "plt.show()"
      ]
    },
    {
      "cell_type": "markdown",
      "metadata": {
        "id": "TFLIBq5xjZ3v"
      },
      "source": [
        "**Model Prediction**"
      ]
    },
    {
      "cell_type": "code",
      "execution_count": null,
      "metadata": {
        "colab": {
          "base_uri": "https://localhost:8080/"
        },
        "id": "To0PDN17cc0v",
        "outputId": "7284b31e-f2fe-41ab-93a9-4c2c91f94cde"
      },
      "outputs": [],
      "source": []
    },
    {
      "cell_type": "code",
      "execution_count": null,
      "metadata": {
        "colab": {
          "base_uri": "https://localhost:8080/",
          "height": 369
        },
        "id": "K428lOuXhdc8",
        "outputId": "b1e23055-178c-400c-8972-f3e7987e0892"
      },
      "outputs": [],
      "source": []
    },
    {
      "cell_type": "markdown",
      "metadata": {
        "id": "9EYdfKGLj6h0"
      },
      "source": [
        "**NTK Eigenvalues**"
      ]
    },
    {
      "cell_type": "code",
      "execution_count": null,
      "metadata": {
        "id": "e3dByeQjhBYj"
      },
      "outputs": [],
      "source": []
    },
    {
      "cell_type": "code",
      "execution_count": null,
      "metadata": {
        "colab": {
          "base_uri": "https://localhost:8080/",
          "height": 369
        },
        "id": "vSn3Q_1IhisN",
        "outputId": "4c713f42-11b2-4de9-8698-085eb54c164d"
      },
      "outputs": [],
      "source": []
    },
    {
      "cell_type": "markdown",
      "metadata": {
        "id": "pIS5UH81kOxT"
      },
      "source": [
        "**Change of NTK**"
      ]
    },
    {
      "cell_type": "code",
      "execution_count": null,
      "metadata": {
        "id": "wF4Q_iZshQ-0"
      },
      "outputs": [],
      "source": [
        "# Change of the NTK\n",
        "NTK_change_list = []\n",
        "K0 = K_list[0]\n",
        "for K in K_list:\n",
        "    diff = np.linalg.norm(K - K0) / np.linalg.norm(K0) \n",
        "    NTK_change_list.append(diff)"
      ]
    },
    {
      "cell_type": "code",
      "execution_count": null,
      "metadata": {
        "colab": {
          "base_uri": "https://localhost:8080/",
          "height": 338
        },
        "id": "E-_gPGpCkF4n",
        "outputId": "9893e038-907d-4425-bb6e-8ecdb2ad497d"
      },
      "outputs": [],
      "source": [
        "fig = plt.figure(figsize=(6,5))\n",
        "plt.plot(NTK_change_list)"
      ]
    },
    {
      "cell_type": "markdown",
      "metadata": {
        "id": "Mg0ZGHbAkW6N"
      },
      "source": [
        "\n",
        "**Change of NN Params**"
      ]
    },
    {
      "cell_type": "code",
      "execution_count": null,
      "metadata": {
        "id": "LLGv9JUuioVZ"
      },
      "outputs": [],
      "source": [
        "# Change of the weights and biases\n",
        "def compute_weights_diff(weights_1, weights_2):\n",
        "    weights = []\n",
        "    N = len(weights_1)\n",
        "    for k in range(N):\n",
        "        weight = weights_1[k] - weights_2[k]\n",
        "        weights.append(weight)\n",
        "    return weights\n",
        "\n",
        "def compute_weights_norm(weights, biases):\n",
        "    norm = 0\n",
        "    for w in weights:\n",
        "        norm = norm + np.sum(np.square(w))\n",
        "    for b in biases:\n",
        "        norm = norm + np.sum(np.square(b))\n",
        "    norm = np.sqrt(norm)\n",
        "    return norm\n",
        "\n",
        "# Restore the list weights and biases\n",
        "weights_log = model.weights_log\n",
        "biases_log = model.biases_log\n",
        "\n",
        "weights_0 = weights_log[0]\n",
        "biases_0 = biases_log[0]\n",
        "\n",
        "# Norm of the weights at initialization\n",
        "weights_init_norm = compute_weights_norm(weights_0, biases_0)\n",
        "\n",
        "weights_change_list = []\n",
        "\n",
        "N = len(weights_log)\n",
        "for k in range(N):\n",
        "    weights_diff = compute_weights_diff(weights_log[k], weights_log[0])\n",
        "    biases_diff = compute_weights_diff(biases_log[k], biases_log[0])\n",
        "    \n",
        "    weights_diff_norm = compute_weights_norm(weights_diff, biases_diff)\n",
        "    weights_change = weights_diff_norm / weights_init_norm\n",
        "    weights_change_list.append(weights_change)"
      ]
    },
    {
      "cell_type": "code",
      "execution_count": null,
      "metadata": {
        "colab": {
          "base_uri": "https://localhost:8080/",
          "height": 338
        },
        "id": "5NLsAxgzi4KH",
        "outputId": "74d92bf9-0dde-438e-e9b3-a551904f4e2f"
      },
      "outputs": [],
      "source": [
        "fig = plt.figure(figsize=(6,5))\n",
        "plt.plot(weights_change_list)"
      ]
    },
    {
      "cell_type": "code",
      "execution_count": null,
      "metadata": {
        "id": "MYbzkhfMjJ8k"
      },
      "outputs": [],
      "source": []
    }
  ],
  "metadata": {
    "accelerator": "GPU",
    "colab": {
      "name": "PINNsNTK_Poisson.ipynb",
      "provenance": []
    },
    "kernelspec": {
      "display_name": "Python 3",
      "name": "python3"
    },
    "language_info": {
      "codemirror_mode": {
        "name": "ipython",
        "version": 3
      },
      "file_extension": ".py",
      "mimetype": "text/x-python",
      "name": "python",
      "nbconvert_exporter": "python",
      "pygments_lexer": "ipython3",
      "version": "3.7.13"
    }
  },
  "nbformat": 4,
  "nbformat_minor": 0
}
