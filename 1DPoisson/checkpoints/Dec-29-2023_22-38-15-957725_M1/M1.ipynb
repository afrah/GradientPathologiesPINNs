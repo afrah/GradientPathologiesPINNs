{
  "cells": [
    {
      "cell_type": "code",
      "execution_count": null,
      "metadata": {
        "colab": {
          "base_uri": "https://localhost:8080/"
        },
        "id": "OybZJApDYGsi",
        "outputId": "dc7cdffa-8613-42ee-86cc-0bc5000b2998"
      },
      "outputs": [],
      "source": [
        "# # Switch to tensorflow 1.x\n",
        "# %tensorflow_version 1.x"
      ]
    },
    {
      "cell_type": "code",
      "execution_count": 1,
      "metadata": {
        "id": "7WkCgnRiYQSY"
      },
      "outputs": [],
      "source": [
        "import tensorflow as tf\n",
        "from Compute_Jacobian import jacobian # Please download 'Compute_Jacobian.py' in the repository \n",
        "import numpy as np\n",
        "import timeit\n",
        "from scipy.interpolate import griddata\n",
        "import seaborn as sns\n",
        "import matplotlib.pyplot as plt\n",
        "import pandas as pd\n",
        "import os\n",
        "\n",
        "os.environ[\"KMP_WARNINGS\"] = \"FALSE\" \n",
        "import timeit\n",
        "\n",
        "import sys\n",
        "\n",
        "import scipy\n",
        "import scipy.io\n",
        "import time\n",
        "import logging\n",
        "\n",
        "import os.path\n",
        "import shutil\n",
        "from datetime import datetime\n",
        "import pickle\n"
      ]
    },
    {
      "cell_type": "code",
      "execution_count": 2,
      "metadata": {
        "id": "-y7cHTcJfBTR"
      },
      "outputs": [],
      "source": [
        "class Sampler:\n",
        "    # Initialize the class\n",
        "    def __init__(self, dim, coords, func, name=None):\n",
        "        self.dim = dim\n",
        "        self.coords = coords\n",
        "        self.func = func\n",
        "        self.name = name\n",
        "\n",
        "    def sample(self, N):\n",
        "        x = self.coords[0:1, :] + (self.coords[1:2, :] - self.coords[0:1, :]) * np.random.rand(N, self.dim)\n",
        "        y = self.func(x)\n",
        "        return x, y"
      ]
    },
    {
      "cell_type": "code",
      "execution_count": 3,
      "metadata": {
        "id": "SDqDWN3nfSAg"
      },
      "outputs": [],
      "source": [
        "class PINN:\n",
        "    def __init__(self, layers, X_u, Y_u, X_r, Y_r ,mode ,  sess):\n",
        "\n",
        "\n",
        "        self.mode = mode\n",
        "\n",
        "        self.dirname, logpath = self.make_output_dir()\n",
        "        self.logger = self.get_logger(logpath)     \n",
        "\n",
        "        self.mu_X, self.sigma_X = X_r.mean(0), X_r.std(0)\n",
        "        self.mu_x, self.sigma_x = self.mu_X[0], self.sigma_X[0]\n",
        "\n",
        "        # Normalize\n",
        "        self.X_u = (X_u - self.mu_X) / self.sigma_X\n",
        "        self.Y_u = Y_u\n",
        "        self.X_r = (X_r - self.mu_X) / self.sigma_X\n",
        "        self.Y_r = Y_r\n",
        "\n",
        "        # Initialize network weights and biases\n",
        "        self.layers = layers\n",
        "        self.weights, self.biases = self.initialize_NN(layers)\n",
        "            \n",
        "        # Define the size of the Kernel\n",
        "        self.kernel_size = X_u.shape[0]\n",
        "        # Define Tensorflow session\n",
        "        self.sess = sess# tf.Session(config=tf.ConfigProto(log_device_placement=False))\n",
        "\n",
        "        self.lam_bc =  np.array(1.0)\n",
        "        # self.lam_bc_tf = tf.placeholder(tf.float32, shape=self.lam_bc.shape)\n",
        "        self.lam_bc_tf = tf.placeholder(tf.float32, shape=self.lam_bc.shape)\n",
        "\n",
        "        # Define placeholders and computational graph\n",
        "        self.x_u_tf = tf.placeholder(tf.float32, shape=(None, 1))\n",
        "        self.u_tf = tf.placeholder(tf.float32, shape=(None, 1))\n",
        "\n",
        "        self.x_bc_tf = tf.placeholder(tf.float32, shape=(None, 1))\n",
        "        self.u_bc_tf = tf.placeholder(tf.float32, shape=(None, 1))\n",
        "\n",
        "        self.x_r_tf = tf.placeholder(tf.float32, shape=(None, 1))\n",
        "        self.r_tf = tf.placeholder(tf.float32, shape=(None, 1))\n",
        "        \n",
        "        self.x_u_ntk_tf = tf.placeholder(tf.float32, shape=(self.kernel_size, 1))\n",
        "        self.x_r_ntk_tf = tf.placeholder(tf.float32, shape=(self.kernel_size, 1))\n",
        "\n",
        "\n",
        "        # Evaluate predictions\n",
        "        self.u_bc_pred = self.net_u(self.x_bc_tf)\n",
        "\n",
        "        self.u_pred = self.net_u(self.x_u_tf)\n",
        "        self.r_pred = self.net_r(self.x_r_tf)\n",
        "        \n",
        "        self.u_ntk_pred = self.net_u(self.x_u_ntk_tf)\n",
        "        self.r_ntk_pred = self.net_r(self.x_r_ntk_tf)\n",
        "     \n",
        "        # Boundary loss\n",
        "        self.loss_bcs = tf.reduce_mean(tf.square(self.u_bc_pred - self.u_bc_tf))\n",
        "\n",
        "        # Residual loss        \n",
        "        self.loss_res =  tf.reduce_mean(tf.square(self.r_tf - self.r_pred))\n",
        "        \n",
        "        # Total loss\n",
        "        self.loss = self.loss_res + self.loss_bcs\n",
        "\n",
        "        # Define optimizer with learning rate schedule\n",
        "        self.global_step = tf.Variable(0, trainable=False)\n",
        "        starter_learning_rate = 1e-5\n",
        "        self.learning_rate = tf.train.exponential_decay(starter_learning_rate, self.global_step, 1000, 0.9, staircase=False)\n",
        "        # Passing global_step to minimize() will increment it at each step.\n",
        "        # To compute NTK, it is better to use SGD optimizer\n",
        "        # since the corresponding gradient flow is not exactly same.\n",
        "        # self.train_op = tf.train.GradientDescentOptimizer(starter_learning_rate).minimize(self.loss)\n",
        "        self.train_op = tf.train.AdamOptimizer(self.learning_rate).minimize(self.loss, global_step=self.global_step)\n",
        "\n",
        "\n",
        "        \n",
        "        # Compute the Jacobian for weights and biases in each hidden layer  \n",
        "        self.J_u = self.compute_jacobian(self.u_ntk_pred) \n",
        "        self.J_r = self.compute_jacobian(self.r_ntk_pred)\n",
        "        \n",
        "        # The empirical NTK = J J^T, compute NTK of PINNs \n",
        "        self.K_uu = self.compute_ntk(self.J_u, self.x_u_ntk_tf, self.J_u, self.x_u_ntk_tf)\n",
        "        self.K_ur = self.compute_ntk(self.J_u, self.x_u_ntk_tf, self.J_r, self.x_r_ntk_tf)\n",
        "        self.K_rr = self.compute_ntk(self.J_r, self.x_r_ntk_tf, self.J_r, self.x_r_ntk_tf)\n",
        "        \n",
        "        # Logger\n",
        "        # Loss logger\n",
        "        self.loss_bcs_log = []\n",
        "        self.loss_res_log = []\n",
        "\n",
        "        # NTK logger \n",
        "        self.K_uu_log = []\n",
        "        self.K_rr_log = []\n",
        "        self.K_ur_log = []\n",
        "        \n",
        "        # Weights logger \n",
        "        self.weights_log = []\n",
        "        self.biases_log = []\n",
        "       # Gradients Storage\n",
        "\n",
        "\n",
        "\n",
        "        # Generate dicts for gradients storage\n",
        "        self.dict_gradients_res_layers = self.generate_grad_dict()\n",
        "        self.dict_gradients_bc_layers = self.generate_grad_dict()\n",
        "\n",
        "        self.grad_res = []\n",
        "        self.grad_bc = []\n",
        "        self.grad_res_list = []\n",
        "        self.grad_bc_list = []\n",
        "\n",
        "        for i in range(len(self.layers)-1):\n",
        "            self.grad_res.append(tf.gradients(self.loss_res, self.weights[i])[0])\n",
        "            self.grad_bc.append(tf.gradients(self.loss_bcs, self.weights[i])[0])\n",
        "\n",
        "\n",
        "        self.adaptive_constant_bcs_log = []\n",
        "\n",
        "        self.mean_grad_res_list = []\n",
        "        self.mean_grad_bcs_list = []\n",
        "    \n",
        "        self.mean_grad_res_list_log = []\n",
        "        self.mean_grad_bcs_list_log = []\n",
        "\n",
        "        for i in range( len(self.layers) -1):\n",
        "            self.mean_grad_res_list.append(tf.math.reduce_mean(tf.abs(self.grad_res[i]))) \n",
        "            self.mean_grad_bcs_list.append(tf.math.reduce_mean(tf.abs(self.grad_bc[i])))\n",
        "        \n",
        "        self.mean_grad_res = tf.math.reduce_mean(tf.stack(self.mean_grad_res_list))\n",
        "        self.mean_grad_bcs = tf.math.reduce_mean(tf.stack(self.mean_grad_bcs_list))\n",
        "    \n",
        "\n",
        "        # for i in range(1 , len(self.layers) - 2):\n",
        "        #     self.grad_res_list.append(tf.reduce_mean(tf.abs(self.grad_bc[i])))\n",
        "        #     self.grad_bc_list.append(tf.reduce_mean(tf.abs(self.grad_res[i])))\n",
        "\n",
        "        self.loss_tensor_list = [self.loss ,  self.loss_res,  self.loss_bcs] \n",
        "        self.loss_list = [\"total loss\" , \"loss_res\" , \"loss_bcs\"] \n",
        "\n",
        "        self.epoch_loss = dict.fromkeys(self.loss_list, 0)\n",
        "        self.loss_history = dict((loss, []) for loss in self.loss_list)\n",
        "        \n",
        "\n",
        "        # Initialize Tensorflow variables\n",
        "        init = tf.global_variables_initializer()\n",
        "\n",
        "        self.sess.run(init)\n",
        "        \n",
        "\n",
        "###############################################################################################################\n",
        "\n",
        "    def generate_grad_dict(self):\n",
        "        num = len(self.layers) - 1\n",
        "        grad_dict = {}\n",
        "        for i in range(num):\n",
        "            grad_dict['layer_{}'.format(i + 1)] = []\n",
        "        return grad_dict\n",
        "\n",
        "    # Xavier initialization\n",
        "    def xavier_init(self, size):\n",
        "        in_dim = size[0]\n",
        "        out_dim = size[1]\n",
        "        xavier_stddev = 1. / np.sqrt((in_dim + out_dim) / 2.)\n",
        "        return tf.Variable(tf.random.normal([in_dim, out_dim], dtype=tf.float32) * xavier_stddev,\n",
        "                           dtype=tf.float32)\n",
        "    \n",
        "    # NTK initialization\n",
        "    def NTK_init(self, size):\n",
        "        in_dim = size[0]\n",
        "        out_dim = size[1]\n",
        "        std = 1. / np.sqrt(in_dim)\n",
        "        return tf.Variable(tf.random.normal([in_dim, out_dim], dtype=tf.float32) * std,\n",
        "                           dtype=tf.float32)\n",
        "\n",
        "     # Initialize network weights and biases using Xavier initialization\n",
        "    def initialize_NN(self, layers):\n",
        "        weights = []\n",
        "        biases = []\n",
        "        num_layers = len(layers)\n",
        "        for l in range(0, num_layers - 1):\n",
        "            W = self.NTK_init(size=[layers[l], layers[l + 1]])\n",
        "            b = tf.Variable(tf.random.normal([1, layers[l + 1]], dtype=tf.float32), dtype=tf.float32)\n",
        "            weights.append(W)\n",
        "            biases.append(b)\n",
        "        return weights, biases\n",
        "\n",
        "    # Evaluates the forward pass\n",
        "    def forward_pass(self, H):\n",
        "        num_layers = len(self.layers)\n",
        "        for l in range(0, num_layers - 2):\n",
        "            W = self.weights[l]\n",
        "            b = self.biases[l]\n",
        "            H = tf.nn.tanh(tf.add(tf.matmul(H, W), b))\n",
        "        W = self.weights[-1]\n",
        "        b = self.biases[-1]\n",
        "        H = tf.add(tf.matmul(H, W), b)\n",
        "        return H\n",
        "\n",
        "    # Evaluates the PDE solution\n",
        "    def net_u(self, x):\n",
        "        u = self.forward_pass(x)\n",
        "        return u\n",
        "\n",
        "    # Forward pass for the residual\n",
        "    def net_r(self, x):\n",
        "        u = self.net_u(x)\n",
        "\n",
        "        u_x = tf.gradients(u, x)[0] / self.sigma_x\n",
        "        u_xx = tf.gradients(u_x, x)[0] / self.sigma_x\n",
        "\n",
        "        res_u = u_xx\n",
        "        return res_u\n",
        "    \n",
        "    # Compute Jacobian for each weights and biases in each layer and retrun a list \n",
        "    def compute_jacobian(self, f):\n",
        "        J_list =[]\n",
        "        L = len(self.weights)    \n",
        "        for i in range(L):\n",
        "            J_w = jacobian(f, self.weights[i])\n",
        "            J_list.append(J_w)\n",
        "     \n",
        "        for i in range(L):\n",
        "            J_b = jacobian(f, self.biases[i])\n",
        "            J_list.append(J_b)\n",
        "        return J_list\n",
        "    \n",
        "    # Compute the empirical NTK = J J^T\n",
        "    def compute_ntk(self, J1_list, x1, J2_list, x2):\n",
        "        D = x1.shape[0]\n",
        "        N = len(J1_list)\n",
        "        \n",
        "        Ker = tf.zeros((D,D))\n",
        "        for k in range(N):\n",
        "            J1 = tf.reshape(J1_list[k], shape=(D,-1))\n",
        "            J2 = tf.reshape(J2_list[k], shape=(D,-1))\n",
        "            \n",
        "            K = tf.matmul(J1, tf.transpose(J2))\n",
        "            Ker = Ker + K\n",
        "        return Ker\n",
        "            \n",
        " \n",
        "\n",
        "    def lambda_balance(self  , term  ):\n",
        "        histoy_mean =  np.mean(self.loss_history[term])\n",
        "        m = 3 #len(self.loss_list)\n",
        "        num = np.exp(  np.mean(self.loss_history[term][-99::]) )#/(self.T * histoy_mean)) np.exp( )\n",
        "        denum = 0 \n",
        "        loss_list = [ \"loss_res\" , \"loss_bcs\"] \n",
        "\n",
        "        for  key in loss_list:\n",
        "            denum +=  np.exp(   np.mean(self.loss_history[key][-99::]) +1e-8)# /(self.T * histoy_mean))  np.exp(self.loss_history[key][-1] )\n",
        "        return m * (num / denum)\n",
        "    \n",
        "    # Trains the model by minimizing the MSE loss\n",
        "    def trainmb(self, nIter=10000, batch_size=128, log_NTK=True, log_weights=True):\n",
        "\n",
        "\n",
        "        itValues = [1,100,1000,39999]\n",
        "        start_time = timeit.default_timer()\n",
        "        for it in range(nIter):\n",
        "            # Fetch boundary mini-batches\n",
        "            # Define a dictionary for associating placeholders with data\n",
        "            tf_dict = {self.x_bc_tf: self.X_u, self.u_bc_tf: self.Y_u,\n",
        "                       self.x_u_tf: self.X_u, self.x_r_tf: self.X_r,\n",
        "                       self.r_tf: self.Y_r,\n",
        "                       self.lam_bc_tf : self.lam_bc\n",
        "                       }\n",
        "        \n",
        "            # Run the Tensorflow session to minimize the loss\n",
        "\n",
        "            # print(self.lam_bc_tf.shape)\n",
        "            _, batch_losses = self.sess.run([self.train_op, self.loss_tensor_list] ,tf_dict)\n",
        "            self.assign_batch_losses(batch_losses)\n",
        "            for key in self.loss_history:\n",
        "                self.loss_history[key].append(self.epoch_loss[key])\n",
        "            \n",
        "            # self.print\n",
        "            if it % 100 == 0:\n",
        "                elapsed = timeit.default_timer() - start_time\n",
        "                [loss ,  loss_res,  loss_bcs]  = batch_losses\n",
        "\n",
        "\n",
        "                self.print('It: %d, Loss: %.3e, Loss_bcs: %.3e, Loss_res: %.3e ,Time: %.2f' %  (it, loss, loss_bcs, loss_res, elapsed))\n",
        "                \n",
        "\n",
        "                update_res = self.lambda_balance( \"loss_res\"  )\n",
        "                update_bcs = self.lambda_balance( \"loss_bcs\"  )\n",
        "                \n",
        "                self.print('update_res: {:.3e}'.format( update_res))\n",
        "                self.print('update_bcs1: {:.3e}'.format( update_bcs))\n",
        "            \n",
        "            # provide x, x' for NTK\n",
        "            if it % 100 == 0:\n",
        "                mean_grad_bcs , mean_grad_res = self.sess.run([self.mean_grad_bcs , self.mean_grad_res],  tf_dict)\n",
        "\n",
        "                self.lam_bc = mean_grad_res / (mean_grad_bcs  +1e-8 )\n",
        "\n",
        "                self.print(\"adaptive_constant_bc: \" ,  self.lam_bc)    \n",
        "                self.mean_grad_bcs_list_log.append(mean_grad_bcs)\n",
        "                self.mean_grad_res_list_log.append(mean_grad_res)\n",
        "\n",
        "                self.adaptive_constant_bcs_log.append(self.lam_bc)\n",
        "                # self.print(\"Compute NTK...\")\n",
        "                # tf_dict2 = {self.x_u_ntk_tf: self.X_u, \n",
        "                #            self.x_r_ntk_tf: self.X_r\n",
        "                #            }\n",
        "                # K_uu_value, K_ur_value, K_rr_value = self.sess.run([self.K_uu,  self.K_ur,  self.K_rr], tf_dict2)\n",
        "                # self.K_uu_log.append(K_uu_value)\n",
        "                # self.K_ur_log.append(K_ur_value)\n",
        "                # self.K_rr_log.append(K_rr_value)\n",
        "\n",
        "            start_time = timeit.default_timer()\n",
        "\n",
        "            if it in itValues:\n",
        "                    self.plot_layerLoss(tf_dict , it)\n",
        "                    self.print(\"Gradients information stored ...\")\n",
        "\n",
        "            sys.stdout.flush()\n",
        "  \n",
        "    # Evaluates predictions at test points\n",
        "    def predict_u(self, X_star):\n",
        "        X_star = (X_star - self.mu_X) / self.sigma_X\n",
        "        tf_dict = {self.x_u_tf: X_star}\n",
        "        u_star = self.sess.run(self.u_pred, tf_dict)\n",
        "        return u_star\n",
        "\n",
        "    # Evaluates predictions at test points\n",
        "    def predict_r(self, X_star):\n",
        "        X_star = (X_star - self.mu_X) / self.sigma_X\n",
        "        tf_dict = {self.x_r_tf: X_star}\n",
        "        r_star = self.sess.run(self.r_pred, tf_dict)\n",
        "        return r_star\n",
        " ############################################################\n",
        "\n",
        "    def assign_batch_losses(self, batch_losses):\n",
        "        for loss_values, key in zip(batch_losses, self.epoch_loss):\n",
        "            self.epoch_loss[key] = loss_values\n",
        "\n",
        "  ############################################################\n",
        "###################################################################################################################\n",
        "\n",
        "\n",
        "    def plot_layerLoss(self , tf_dict , epoch):\n",
        "        ## Gradients #\n",
        "        num_layers = len(self.layers)\n",
        "        for i in range(num_layers - 1):\n",
        "            grad_res, grad_bc  = self.sess.run([ self.grad_res[i],self.grad_bc[i]], feed_dict=tf_dict)\n",
        "\n",
        "            # save gradients of loss_r and loss_u\n",
        "            self.dict_gradients_res_layers['layer_' + str(i + 1)].append(grad_res.flatten())\n",
        "            self.dict_gradients_bc_layers['layer_' + str(i + 1)].append(grad_bc.flatten())\n",
        "\n",
        "        num_hidden_layers = num_layers -1\n",
        "        cnt = 1\n",
        "        fig = plt.figure(4, figsize=(13, 4))\n",
        "        for j in range(num_hidden_layers):\n",
        "            ax = plt.subplot(1, num_hidden_layers, cnt)\n",
        "            ax.set_title('Layer {}'.format(j + 1))\n",
        "            ax.set_yscale('symlog')\n",
        "            gradients_res = self.dict_gradients_res_layers['layer_' + str(j + 1)][-1]\n",
        "            gradients_bc = self.dict_gradients_bc_layers['layer_' + str(j + 1)][-1]\n",
        "\n",
        "            sns.distplot(gradients_res, hist=False,kde_kws={\"shade\": False},norm_hist=True,  label=r'$\\nabla_\\theta \\mathcal{L}_r$')\n",
        "\n",
        "            sns.distplot(gradients_bc, hist=False,kde_kws={\"shade\": False},norm_hist=True,   label=r'$\\nabla_\\theta \\mathcal{L}_{u_{bc}}$')\n",
        "\n",
        "            #ax.get_legend().remove()\n",
        "            ax.set_xlim([-1.0, 1.0])\n",
        "            #ax.set_ylim([0, 150])\n",
        "            cnt += 1\n",
        "        handles, labels = ax.get_legend_handles_labels()\n",
        "\n",
        "        fig.legend(handles, labels, loc=\"center\",  bbox_to_anchor=(0.5, -0.03),borderaxespad=0,bbox_transform=fig.transFigure, ncol=2)\n",
        "        text = 'layerLoss_epoch' + str(epoch) +'.png'\n",
        "        plt.savefig(os.path.join(self.dirname,text) , bbox_inches='tight')\n",
        "        plt.close(\"all\")\n",
        "\n",
        "    # #########################\n",
        "    # def make_output_dir(self):\n",
        "        \n",
        "    #     if not os.path.exists(\"/okyanus/users/afarea/PINN/Adaptive_PINN/IB_PINN/checkpoints\"):\n",
        "    #         os.mkdir(\"/okyanus/users/afarea/PINN/Adaptive_PINN/IB_PINN/checkpoints\")\n",
        "    #     dirname = os.path.join(\"/okyanus/users/afarea/PINN/Adaptive_PINN/IB_PINN/checkpoints\", datetime.now().strftime(\"%b-%d-%Y_%H-%M-%S-%f_\") + self.mode)\n",
        "    #     os.mkdir(dirname)\n",
        "    #     text = 'output.log'\n",
        "    #     logpath = os.path.join(dirname, text)\n",
        "    #     shutil.copyfile('/okyanus/users/afarea/PINN/Adaptive_PINN/IB_PINN/M2.py', os.path.join(dirname, 'M2.py'))\n",
        "\n",
        "    #     return dirname, logpath\n",
        "    \n",
        "    # # ###########################################################\n",
        "    def make_output_dir(self):\n",
        "        \n",
        "        if not os.path.exists(\"checkpoints\"):\n",
        "            os.mkdir(\"checkpoints\")\n",
        "        dirname = os.path.join(\"checkpoints\", datetime.now().strftime(\"%b-%d-%Y_%H-%M-%S-%f_\") + self.mode)\n",
        "        os.mkdir(dirname)\n",
        "        text = 'output.log'\n",
        "        logpath = os.path.join(dirname, text)\n",
        "        shutil.copyfile('M1.ipynb', os.path.join(dirname, 'M1.ipynb'))\n",
        "        return dirname, logpath\n",
        "    \n",
        "\n",
        "    def get_logger(self, logpath):\n",
        "        logger = logging.getLogger(__name__)\n",
        "        logger.setLevel(logging.DEBUG)\n",
        "        sh = logging.StreamHandler()\n",
        "        sh.setLevel(logging.DEBUG)        \n",
        "        sh.setFormatter(logging.Formatter('%(message)s'))\n",
        "        fh = logging.FileHandler(logpath)\n",
        "        logger.addHandler(sh)\n",
        "        logger.addHandler(fh)\n",
        "        return logger\n",
        "    \n",
        "    def print(self, *args):\n",
        "        for word in args:\n",
        "            if len(args) == 1:\n",
        "                self.logger.info(word)\n",
        "            elif word != args[-1]:\n",
        "                for handler in self.logger.handlers:\n",
        "                    handler.terminator = \"\"\n",
        "                if type(word) == float or type(word) == np.float64 or type(word) == np.float32: \n",
        "                    self.logger.info(\"%.4e\" % (word))\n",
        "                else:\n",
        "                    self.logger.info(word)\n",
        "            else:\n",
        "                for handler in self.logger.handlers:\n",
        "                    handler.terminator = \"\\n\"\n",
        "                if type(word) == float or type(word) == np.float64 or type(word) == np.float32:\n",
        "                    self.logger.info(\"%.4e\" % (word))\n",
        "                else:\n",
        "                    self.logger.info(word)\n",
        "\n",
        "\n",
        "    def plot_loss_history(self , path):\n",
        "\n",
        "        fig, ax = plt.subplots()\n",
        "        fig.set_size_inches([15,8])\n",
        "        for key in self.loss_history:\n",
        "            self.print(\"Final loss %s: %e\" % (key, self.loss_history[key][-1]))\n",
        "            ax.semilogy(self.loss_history[key], label=key)\n",
        "        ax.set_xlabel(\"epochs\", fontsize=15)\n",
        "        ax.set_ylabel(\"loss\", fontsize=15)\n",
        "        ax.tick_params(labelsize=15)\n",
        "        ax.legend()\n",
        "        plt.savefig(path)\n",
        "        #plt.show()\n",
        "       #######################\n",
        "    def save_NN(self):\n",
        "\n",
        "        uv_weights = self.sess.run(self.weights)\n",
        "        uv_biases = self.sess.run(self.biases)\n",
        "\n",
        "        with open(os.path.join(self.dirname,'model.pickle'), 'wb') as f:\n",
        "            pickle.dump([uv_weights, uv_biases], f)\n",
        "            self.print(\"Save uv NN parameters successfully in %s ...\" , self.dirname)\n",
        "\n",
        "        # with open(os.path.join(self.dirname,'loss_history_BFS.pickle'), 'wb') as f:\n",
        "        #     pickle.dump(self.loss_rec, f)\n",
        "        with open(os.path.join(self.dirname,'loss_history_BFS.png'), 'wb') as f:\n",
        "            self.plot_loss_history(f)\n",
        "\n",
        "        return self.dirname\n",
        "    \n",
        "    def plot_ntk(self):\n",
        "        # Create empty lists for storing the eigenvalues of NTK\n",
        "        lambda_K_log = []\n",
        "        lambda_K_uu_log = []\n",
        "        lambda_K_ur_log = []\n",
        "        lambda_K_rr_log = []\n",
        "\n",
        "        # Restore the NTK\n",
        "        K_uu_list = self.K_uu_log\n",
        "        K_ur_list = self.K_ur_log\n",
        "        K_rr_list = self.K_rr_log\n",
        "        K_list = []\n",
        "            \n",
        "        for k in range(len(K_uu_list)):\n",
        "            K_uu = K_uu_list[k]\n",
        "            K_ur = K_ur_list[k]\n",
        "            K_rr = K_rr_list[k]\n",
        "            \n",
        "            K = np.concatenate([np.concatenate([K_uu, K_ur], axis = 1), np.concatenate([K_ur.T, K_rr], axis = 1)], axis = 0)\n",
        "            K_list.append(K)\n",
        "\n",
        "            # Compute eigenvalues\n",
        "            lambda_K, _ = np.linalg.eig(K)\n",
        "            lambda_K_uu, _ = np.linalg.eig(K_uu)\n",
        "            lambda_K_rr, _ = np.linalg.eig(K_rr)\n",
        "            \n",
        "            # Sort in descresing order\n",
        "            lambda_K = np.sort(np.real(lambda_K))[::-1]\n",
        "            lambda_K_uu = np.sort(np.real(lambda_K_uu))[::-1]\n",
        "            lambda_K_rr = np.sort(np.real(lambda_K_rr))[::-1]\n",
        "            \n",
        "            # Store eigenvalues\n",
        "            lambda_K_log.append(lambda_K)\n",
        "            lambda_K_uu_log.append(lambda_K_uu)\n",
        "            lambda_K_rr_log.append(lambda_K_rr)\n",
        "        fig = plt.figure(figsize=(18, 5))\n",
        "        plt.subplot(1,3,1)\n",
        "        for i in range(1, len(lambda_K_log), 10):\n",
        "            plt.plot(lambda_K_log[i], '--')\n",
        "        plt.xscale('log')\n",
        "        plt.yscale('log')\n",
        "        plt.title(r'Eigenvalues of ${K}$')\n",
        "        plt.tight_layout()\n",
        "\n",
        "        plt.subplot(1,3,2)\n",
        "        for i in range(1, len(lambda_K_uu_log), 10):\n",
        "            plt.plot(lambda_K_uu_log[i], '--')\n",
        "        plt.xscale('log')\n",
        "        plt.yscale('log')\n",
        "        plt.title(r'Eigenvalues of ${K}_{uu}$')\n",
        "        plt.tight_layout()\n",
        "\n",
        "        plt.subplot(1,3,3)\n",
        "        for i in range(1, len(lambda_K_log), 10):\n",
        "            plt.plot(lambda_K_rr_log[i], '--')\n",
        "        plt.xscale('log')\n",
        "        plt.yscale('log')\n",
        "        plt.title(r'Eigenvalues of ${K}_{rr}$')\n",
        "        plt.tight_layout()\n",
        "        plt.savefig(os.path.join(self.dirname,\"ntk.png\"))\n",
        "        plt.close(\"all\")\n",
        "\n",
        "    def plt_prediction(self , X_star , u_star , u_pred):\n",
        "        fig = plt.figure(figsize=(12, 5))\n",
        "        plt.subplot(1,2,1)\n",
        "        plt.plot(X_star, u_star, label='Exact')\n",
        "        plt.plot(X_star, u_pred, '--', label='Predicted')\n",
        "        plt.xlabel('$x$')\n",
        "        plt.ylabel('$y$')\n",
        "        plt.legend(loc='upper right')\n",
        "\n",
        "        plt.subplot(1,2,2)\n",
        "        plt.plot(X_star, np.abs(u_star - u_pred), label='Error')\n",
        "        plt.yscale('log')\n",
        "        plt.xlabel('$x$')\n",
        "        plt.ylabel('Point-wise error')\n",
        "        plt.tight_layout()\n",
        "        plt.savefig(os.path.join(self.dirname,\"prediction.png\"))\n",
        "        plt.close(\"all\")\n",
        "\n",
        "\n",
        "\n",
        "    def plot_grad(self):\n",
        "\n",
        "        fig, ax = plt.subplots()\n",
        "        fig.set_size_inches([15,8])\n",
        "        ax.semilogy(self.mean_grad_res_list_log, label=r'$\\bar{\\nabla_\\theta \\mathcal{L}_{u_{phy}}}$')\n",
        "        ax.semilogy(self.mean_grad_bcs_list_log, label=r'$\\bar{\\nabla_\\theta \\mathcal{L}_{u_{bc}}}$')\n",
        "\n",
        "        ax.set_xlabel(\"epochs\", fontsize=15)\n",
        "        ax.set_ylabel(\"loss\", fontsize=15)\n",
        "        ax.tick_params(labelsize=15)\n",
        "        ax.legend()\n",
        "        path = os.path.join(self.dirname,'grad_history.png')\n",
        "        plt.savefig(path)\n",
        "\n",
        "\n",
        "         \n",
        "    \n",
        "    def plot_lambda(self ):\n",
        "\n",
        "        fontsize = 17\n",
        "        fig, ax = plt.subplots()\n",
        "        fig.set_size_inches([16,8])\n",
        "        ax.semilogy(self.mean_grad_bcs_list_log, label=r'$\\bar{\\nabla_\\theta {u_{bc}}}$' , color = 'tab:green')\n",
        "        ax.semilogy(self.mean_grad_res_list_log, label=r'$Max{\\nabla_\\theta {u_{phy}}}$' , color = 'tab:red')\n",
        "        ax.set_xlabel(\"epochs\", fontsize=fontsize)\n",
        "        ax.set_ylabel(r'$\\bar{\\nabla_\\theta {u}}$', fontsize=fontsize)\n",
        "        ax.tick_params(labelsize=fontsize)\n",
        "        ax.legend(loc='center left', bbox_to_anchor=(-0.25, 0.5))\n",
        "\n",
        "        ax2 = ax.twinx() \n",
        "\n",
        "        # fig, ax = plt.subplots()\n",
        "        # fig.set_size_inches([15,8])\n",
        "    \n",
        "        ax2.semilogy(self.adaptive_constant_bcs_log, label=r'$\\bar{\\lambda_{bc}}$'  ,  linestyle='dashed' , color = 'tab:green') \n",
        "        ax2.set_xlabel(\"epochs\", fontsize=fontsize)\n",
        "        ax2.set_ylabel(r'$\\bar{\\lambda}$', fontsize=fontsize)\n",
        "        ax2.tick_params(labelsize=fontsize)\n",
        "        ax2.legend(loc='center right', bbox_to_anchor=(1.2, 0.5))\n",
        "\n",
        "        plt.tight_layout()\n",
        "\n",
        "        path = os.path.join(self.dirname,'grad_history.png')\n",
        "        plt.savefig(path)\n"
      ]
    },
    {
      "cell_type": "code",
      "execution_count": null,
      "metadata": {},
      "outputs": [],
      "source": []
    },
    {
      "cell_type": "code",
      "execution_count": 4,
      "metadata": {
        "id": "FN1jEdRwY90i"
      },
      "outputs": [],
      "source": [
        "# Define solution and its Laplace\n",
        "a = 4\n",
        "\n",
        "def u(x, a):\n",
        "  return np.sin(np.pi * a * x)\n",
        "\n",
        "def u_xx(x, a):\n",
        "  return -(np.pi * a)**2 * np.sin(np.pi * a * x)"
      ]
    },
    {
      "cell_type": "code",
      "execution_count": 5,
      "metadata": {},
      "outputs": [],
      "source": [
        "#test_method(mtd , layers,  X_u, Y_u, X_r, Y_r ,  X_star , u_star , r_star  , nIter ,batch_size , bcbatch_size , ubatch_size)\n",
        "def test_method(method , layers,  X_u, Y_u, X_r, Y_r , X_star , u_star , r_star , nIter ,mbbatch_size , bcbatch_size , ubatch_size , mode):\n",
        "\n",
        "\n",
        "    gpu_options = tf.GPUOptions(visible_device_list=\"0\")\n",
        "    tf.reset_default_graph()\n",
        "    with tf.Session(config=tf.ConfigProto(gpu_options=gpu_options,allow_soft_placement=False, log_device_placement=False)) as sess:\n",
        "        # sess.run(init)\n",
        "\n",
        "        model = PINN(layers, X_u, Y_u, X_r, Y_r , mode , sess)    \n",
        "\n",
        "        # Train model\n",
        "        start_time = time.time()\n",
        "\n",
        "        if method ==\"full_batch\":\n",
        "            print(\"full_batch method is used\")\n",
        "            model.train(nIter  , bcbatch_size , ubatch_size  )\n",
        "        elif method ==\"mini_batch\":\n",
        "            print(\"mini_batch method is used\")\n",
        "            model.trainmb(nIter, mbbatch_size)\n",
        "        else:\n",
        "            print(\"unknown method!\")\n",
        "        elapsed = time.time() - start_time\n",
        "\n",
        "        # Predictions\n",
        "        u_pred = model.predict_u(X_star)\n",
        "        r_pred = model.predict_r(X_star)\n",
        "        # Predictions\n",
        "\n",
        "        sess.close()   \n",
        "\n",
        "    error_u = np.linalg.norm(u_star - u_pred, 2) / np.linalg.norm(u_star, 2)\n",
        "    error_r = np.linalg.norm(r_star - r_pred, 2) / np.linalg.norm(r_star, 2)\n",
        "\n",
        "    print('elapsed: {:.2e}'.format(elapsed))\n",
        "\n",
        "    print('Relative L2 error_u: {:.2e}'.format(error_u))\n",
        "    print('Relative L2 error_r: {:.2e}'.format(error_r))\n",
        "\n",
        "\n",
        "    return [elapsed, error_u , error_r ]\n",
        "\n"
      ]
    },
    {
      "cell_type": "code",
      "execution_count": 6,
      "metadata": {},
      "outputs": [
        {
          "name": "stdout",
          "output_type": "stream",
          "text": [
            "Method:  mini_batch\n",
            "Epoch:  1\n",
            "WARNING:tensorflow:From /tmp/ipykernel_33391/1500751541.py:52: The name tf.GPUOptions is deprecated. Please use tf.compat.v1.GPUOptions instead.\n",
            "\n",
            "WARNING:tensorflow:From /tmp/ipykernel_33391/1500751541.py:53: The name tf.reset_default_graph is deprecated. Please use tf.compat.v1.reset_default_graph instead.\n",
            "\n",
            "WARNING:tensorflow:From /tmp/ipykernel_33391/1500751541.py:54: The name tf.Session is deprecated. Please use tf.compat.v1.Session instead.\n",
            "\n",
            "WARNING:tensorflow:From /tmp/ipykernel_33391/1500751541.py:54: The name tf.ConfigProto is deprecated. Please use tf.compat.v1.ConfigProto instead.\n",
            "\n",
            "WARNING:tensorflow:From /tmp/ipykernel_33391/1788825756.py:30: The name tf.placeholder is deprecated. Please use tf.compat.v1.placeholder instead.\n",
            "\n",
            "WARNING:tensorflow:From /tmp/ipykernel_33391/1788825756.py:67: The name tf.train.exponential_decay is deprecated. Please use tf.compat.v1.train.exponential_decay instead.\n",
            "\n",
            "WARNING:tensorflow:From /tmp/ipykernel_33391/1788825756.py:72: The name tf.train.AdamOptimizer is deprecated. Please use tf.compat.v1.train.AdamOptimizer instead.\n",
            "\n"
          ]
        },
        {
          "name": "stderr",
          "output_type": "stream",
          "text": [
            "2023-12-29 17:39:36.913242: I tensorflow/core/platform/cpu_feature_guard.cc:145] This TensorFlow binary is optimized with Intel(R) MKL-DNN to use the following CPU instructions in performance critical operations:  SSE4.1 SSE4.2 AVX AVX2 FMA\n",
            "To enable them in non-MKL-DNN operations, rebuild TensorFlow with the appropriate compiler flags.\n",
            "2023-12-29 17:39:36.940079: I tensorflow/core/platform/profile_utils/cpu_utils.cc:94] CPU Frequency: 2899885000 Hz\n",
            "2023-12-29 17:39:36.940568: I tensorflow/compiler/xla/service/service.cc:168] XLA service 0x5559ecb5a6a0 initialized for platform Host (this does not guarantee that XLA will be used). Devices:\n",
            "2023-12-29 17:39:36.940581: I tensorflow/compiler/xla/service/service.cc:176]   StreamExecutor device (0): Host, Default Version\n",
            "2023-12-29 17:39:36.941779: I tensorflow/core/common_runtime/process_util.cc:115] Creating new thread pool with default inter op setting: 2. Tune using inter_op_parallelism_threads for best performance.\n"
          ]
        },
        {
          "name": "stdout",
          "output_type": "stream",
          "text": [
            "WARNING:tensorflow:From /tmp/ipykernel_33391/1788825756.py:144: The name tf.global_variables_initializer is deprecated. Please use tf.compat.v1.global_variables_initializer instead.\n",
            "\n",
            "mini_batch method is used\n"
          ]
        },
        {
          "name": "stderr",
          "output_type": "stream",
          "text": [
            "It: 0, Loss: 1.225e+04, Loss_bcs: 2.178e-01, Loss_res: 1.225e+04 ,Time: 0.31\n",
            "/home/afrah2/anaconda3/envs/twoPhase/lib/python3.7/site-packages/ipykernel_launcher.py:245: RuntimeWarning: overflow encountered in exp\n",
            "/home/afrah2/anaconda3/envs/twoPhase/lib/python3.7/site-packages/ipykernel_launcher.py:250: RuntimeWarning: overflow encountered in exp\n",
            "/home/afrah2/anaconda3/envs/twoPhase/lib/python3.7/site-packages/ipykernel_launcher.py:251: RuntimeWarning: invalid value encountered in true_divide\n",
            "update_res: nan\n",
            "update_bcs1: 0.000e+00\n"
          ]
        },
        {
          "name": "stdout",
          "output_type": "stream",
          "text": [
            "adaptive_constant_bc:  627.4024535102958\n"
          ]
        },
        {
          "name": "stderr",
          "output_type": "stream",
          "text": [
            "/home/afrah2/anaconda3/envs/twoPhase/lib/python3.7/site-packages/seaborn/distributions.py:2619: FutureWarning: `distplot` is a deprecated function and will be removed in a future version. Please adapt your code to use either `displot` (a figure-level function with similar flexibility) or `kdeplot` (an axes-level function for kernel density plots).\n",
            "  warnings.warn(msg, FutureWarning)\n",
            "/home/afrah2/anaconda3/envs/twoPhase/lib/python3.7/site-packages/seaborn/distributions.py:2619: FutureWarning: `distplot` is a deprecated function and will be removed in a future version. Please adapt your code to use either `displot` (a figure-level function with similar flexibility) or `kdeplot` (an axes-level function for kernel density plots).\n",
            "  warnings.warn(msg, FutureWarning)\n",
            "/home/afrah2/anaconda3/envs/twoPhase/lib/python3.7/site-packages/seaborn/distributions.py:2619: FutureWarning: `distplot` is a deprecated function and will be removed in a future version. Please adapt your code to use either `displot` (a figure-level function with similar flexibility) or `kdeplot` (an axes-level function for kernel density plots).\n",
            "  warnings.warn(msg, FutureWarning)\n",
            "/home/afrah2/anaconda3/envs/twoPhase/lib/python3.7/site-packages/seaborn/distributions.py:2619: FutureWarning: `distplot` is a deprecated function and will be removed in a future version. Please adapt your code to use either `displot` (a figure-level function with similar flexibility) or `kdeplot` (an axes-level function for kernel density plots).\n",
            "  warnings.warn(msg, FutureWarning)\n",
            "Gradients information stored ...\n",
            "It: 100, Loss: 1.208e+04, Loss_bcs: 2.911e-01, Loss_res: 1.208e+04 ,Time: 0.00\n",
            "/home/afrah2/anaconda3/envs/twoPhase/lib/python3.7/site-packages/ipykernel_launcher.py:245: RuntimeWarning: overflow encountered in exp\n",
            "/home/afrah2/anaconda3/envs/twoPhase/lib/python3.7/site-packages/ipykernel_launcher.py:250: RuntimeWarning: overflow encountered in exp\n",
            "/home/afrah2/anaconda3/envs/twoPhase/lib/python3.7/site-packages/ipykernel_launcher.py:251: RuntimeWarning: invalid value encountered in true_divide\n",
            "update_res: nan\n",
            "update_bcs1: 0.000e+00\n",
            "/home/afrah2/anaconda3/envs/twoPhase/lib/python3.7/site-packages/seaborn/distributions.py:2619: FutureWarning: `distplot` is a deprecated function and will be removed in a future version. Please adapt your code to use either `displot` (a figure-level function with similar flexibility) or `kdeplot` (an axes-level function for kernel density plots).\n",
            "  warnings.warn(msg, FutureWarning)\n",
            "/home/afrah2/anaconda3/envs/twoPhase/lib/python3.7/site-packages/seaborn/distributions.py:2619: FutureWarning: `distplot` is a deprecated function and will be removed in a future version. Please adapt your code to use either `displot` (a figure-level function with similar flexibility) or `kdeplot` (an axes-level function for kernel density plots).\n",
            "  warnings.warn(msg, FutureWarning)\n",
            "/home/afrah2/anaconda3/envs/twoPhase/lib/python3.7/site-packages/seaborn/distributions.py:2619: FutureWarning: `distplot` is a deprecated function and will be removed in a future version. Please adapt your code to use either `displot` (a figure-level function with similar flexibility) or `kdeplot` (an axes-level function for kernel density plots).\n",
            "  warnings.warn(msg, FutureWarning)\n",
            "/home/afrah2/anaconda3/envs/twoPhase/lib/python3.7/site-packages/seaborn/distributions.py:2619: FutureWarning: `distplot` is a deprecated function and will be removed in a future version. Please adapt your code to use either `displot` (a figure-level function with similar flexibility) or `kdeplot` (an axes-level function for kernel density plots).\n",
            "  warnings.warn(msg, FutureWarning)\n"
          ]
        },
        {
          "name": "stdout",
          "output_type": "stream",
          "text": [
            "adaptive_constant_bc:  530.0249861412929\n"
          ]
        },
        {
          "name": "stderr",
          "output_type": "stream",
          "text": [
            "Gradients information stored ...\n",
            "It: 200, Loss: 1.190e+04, Loss_bcs: 3.830e-01, Loss_res: 1.190e+04 ,Time: 0.00\n",
            "/home/afrah2/anaconda3/envs/twoPhase/lib/python3.7/site-packages/ipykernel_launcher.py:245: RuntimeWarning: overflow encountered in exp\n",
            "/home/afrah2/anaconda3/envs/twoPhase/lib/python3.7/site-packages/ipykernel_launcher.py:250: RuntimeWarning: overflow encountered in exp\n",
            "/home/afrah2/anaconda3/envs/twoPhase/lib/python3.7/site-packages/ipykernel_launcher.py:251: RuntimeWarning: invalid value encountered in true_divide\n",
            "update_res: nan\n",
            "update_bcs1: 0.000e+00\n"
          ]
        },
        {
          "name": "stdout",
          "output_type": "stream",
          "text": [
            "adaptive_constant_bc:  456.0810516449978\n"
          ]
        },
        {
          "name": "stderr",
          "output_type": "stream",
          "text": [
            "It: 300, Loss: 1.173e+04, Loss_bcs: 4.924e-01, Loss_res: 1.173e+04 ,Time: 0.00\n",
            "update_res: nan\n",
            "update_bcs1: 0.000e+00\n"
          ]
        },
        {
          "name": "stdout",
          "output_type": "stream",
          "text": [
            "adaptive_constant_bc:  399.108691773216\n"
          ]
        },
        {
          "name": "stderr",
          "output_type": "stream",
          "text": [
            "It: 400, Loss: 1.157e+04, Loss_bcs: 6.183e-01, Loss_res: 1.157e+04 ,Time: 0.00\n",
            "update_res: nan\n",
            "update_bcs1: 0.000e+00\n"
          ]
        },
        {
          "name": "stdout",
          "output_type": "stream",
          "text": [
            "adaptive_constant_bc:  354.1663366733466\n"
          ]
        },
        {
          "name": "stderr",
          "output_type": "stream",
          "text": [
            "It: 500, Loss: 1.140e+04, Loss_bcs: 7.599e-01, Loss_res: 1.140e+04 ,Time: 0.00\n",
            "update_res: nan\n",
            "update_bcs1: 0.000e+00\n"
          ]
        },
        {
          "name": "stdout",
          "output_type": "stream",
          "text": [
            "adaptive_constant_bc:  317.73652035358117\n"
          ]
        },
        {
          "name": "stderr",
          "output_type": "stream",
          "text": [
            "It: 600, Loss: 1.124e+04, Loss_bcs: 9.171e-01, Loss_res: 1.124e+04 ,Time: 0.00\n",
            "update_res: nan\n",
            "update_bcs1: 0.000e+00\n"
          ]
        },
        {
          "name": "stdout",
          "output_type": "stream",
          "text": [
            "adaptive_constant_bc:  287.54470341472245\n"
          ]
        },
        {
          "name": "stderr",
          "output_type": "stream",
          "text": [
            "It: 700, Loss: 1.109e+04, Loss_bcs: 1.089e+00, Loss_res: 1.108e+04 ,Time: 0.00\n",
            "update_res: nan\n",
            "update_bcs1: 0.000e+00\n"
          ]
        },
        {
          "name": "stdout",
          "output_type": "stream",
          "text": [
            "adaptive_constant_bc:  262.2563570917912\n"
          ]
        },
        {
          "name": "stderr",
          "output_type": "stream",
          "text": [
            "It: 800, Loss: 1.093e+04, Loss_bcs: 1.276e+00, Loss_res: 1.093e+04 ,Time: 0.00\n",
            "update_res: nan\n",
            "update_bcs1: 0.000e+00\n"
          ]
        },
        {
          "name": "stdout",
          "output_type": "stream",
          "text": [
            "adaptive_constant_bc:  240.86688094539423\n"
          ]
        },
        {
          "name": "stderr",
          "output_type": "stream",
          "text": [
            "It: 900, Loss: 1.078e+04, Loss_bcs: 1.478e+00, Loss_res: 1.078e+04 ,Time: 0.06\n",
            "update_res: nan\n",
            "update_bcs1: 0.000e+00\n"
          ]
        },
        {
          "name": "stdout",
          "output_type": "stream",
          "text": [
            "adaptive_constant_bc:  222.5639258296344\n"
          ]
        },
        {
          "name": "stderr",
          "output_type": "stream",
          "text": [
            "It: 1000, Loss: 1.063e+04, Loss_bcs: 1.693e+00, Loss_res: 1.063e+04 ,Time: 0.00\n",
            "update_res: nan\n",
            "update_bcs1: 0.000e+00\n",
            "/home/afrah2/anaconda3/envs/twoPhase/lib/python3.7/site-packages/seaborn/distributions.py:2619: FutureWarning: `distplot` is a deprecated function and will be removed in a future version. Please adapt your code to use either `displot` (a figure-level function with similar flexibility) or `kdeplot` (an axes-level function for kernel density plots).\n",
            "  warnings.warn(msg, FutureWarning)\n",
            "/home/afrah2/anaconda3/envs/twoPhase/lib/python3.7/site-packages/seaborn/distributions.py:2619: FutureWarning: `distplot` is a deprecated function and will be removed in a future version. Please adapt your code to use either `displot` (a figure-level function with similar flexibility) or `kdeplot` (an axes-level function for kernel density plots).\n",
            "  warnings.warn(msg, FutureWarning)\n",
            "/home/afrah2/anaconda3/envs/twoPhase/lib/python3.7/site-packages/seaborn/distributions.py:2619: FutureWarning: `distplot` is a deprecated function and will be removed in a future version. Please adapt your code to use either `displot` (a figure-level function with similar flexibility) or `kdeplot` (an axes-level function for kernel density plots).\n",
            "  warnings.warn(msg, FutureWarning)\n",
            "/home/afrah2/anaconda3/envs/twoPhase/lib/python3.7/site-packages/seaborn/distributions.py:2619: FutureWarning: `distplot` is a deprecated function and will be removed in a future version. Please adapt your code to use either `displot` (a figure-level function with similar flexibility) or `kdeplot` (an axes-level function for kernel density plots).\n",
            "  warnings.warn(msg, FutureWarning)\n"
          ]
        },
        {
          "name": "stdout",
          "output_type": "stream",
          "text": [
            "adaptive_constant_bc:  206.69089636737667\n"
          ]
        },
        {
          "name": "stderr",
          "output_type": "stream",
          "text": [
            "Gradients information stored ...\n",
            "It: 1100, Loss: 1.048e+04, Loss_bcs: 1.922e+00, Loss_res: 1.048e+04 ,Time: 0.00\n",
            "/home/afrah2/anaconda3/envs/twoPhase/lib/python3.7/site-packages/ipykernel_launcher.py:245: RuntimeWarning: overflow encountered in exp\n",
            "/home/afrah2/anaconda3/envs/twoPhase/lib/python3.7/site-packages/ipykernel_launcher.py:250: RuntimeWarning: overflow encountered in exp\n",
            "/home/afrah2/anaconda3/envs/twoPhase/lib/python3.7/site-packages/ipykernel_launcher.py:251: RuntimeWarning: invalid value encountered in true_divide\n",
            "update_res: nan\n",
            "update_bcs1: 0.000e+00\n"
          ]
        },
        {
          "name": "stdout",
          "output_type": "stream",
          "text": [
            "adaptive_constant_bc:  192.79977362885728\n"
          ]
        },
        {
          "name": "stderr",
          "output_type": "stream",
          "text": [
            "It: 1200, Loss: 1.034e+04, Loss_bcs: 2.164e+00, Loss_res: 1.034e+04 ,Time: 0.04\n",
            "update_res: nan\n",
            "update_bcs1: 0.000e+00\n"
          ]
        },
        {
          "name": "stdout",
          "output_type": "stream",
          "text": [
            "adaptive_constant_bc:  180.57053811955296\n"
          ]
        },
        {
          "name": "stderr",
          "output_type": "stream",
          "text": [
            "It: 1300, Loss: 1.020e+04, Loss_bcs: 2.419e+00, Loss_res: 1.020e+04 ,Time: 0.00\n",
            "update_res: nan\n",
            "update_bcs1: 0.000e+00\n"
          ]
        },
        {
          "name": "stdout",
          "output_type": "stream",
          "text": [
            "adaptive_constant_bc:  169.73346025430632\n"
          ]
        },
        {
          "name": "stderr",
          "output_type": "stream",
          "text": [
            "It: 1400, Loss: 1.006e+04, Loss_bcs: 2.685e+00, Loss_res: 1.006e+04 ,Time: 0.00\n",
            "update_res: nan\n",
            "update_bcs1: 0.000e+00\n"
          ]
        },
        {
          "name": "stdout",
          "output_type": "stream",
          "text": [
            "adaptive_constant_bc:  160.08130435829918\n"
          ]
        },
        {
          "name": "stderr",
          "output_type": "stream",
          "text": [
            "It: 1500, Loss: 9.925e+03, Loss_bcs: 2.964e+00, Loss_res: 9.922e+03 ,Time: 0.00\n",
            "update_res: nan\n",
            "update_bcs1: 0.000e+00\n"
          ]
        },
        {
          "name": "stdout",
          "output_type": "stream",
          "text": [
            "adaptive_constant_bc:  151.4297533501796\n"
          ]
        },
        {
          "name": "stderr",
          "output_type": "stream",
          "text": [
            "It: 1600, Loss: 9.791e+03, Loss_bcs: 3.254e+00, Loss_res: 9.788e+03 ,Time: 0.00\n",
            "update_res: nan\n",
            "update_bcs1: 0.000e+00\n"
          ]
        },
        {
          "name": "stdout",
          "output_type": "stream",
          "text": [
            "adaptive_constant_bc:  143.63428673507536\n"
          ]
        },
        {
          "name": "stderr",
          "output_type": "stream",
          "text": [
            "It: 1700, Loss: 9.659e+03, Loss_bcs: 3.555e+00, Loss_res: 9.656e+03 ,Time: 0.00\n",
            "update_res: nan\n",
            "update_bcs1: 0.000e+00\n"
          ]
        },
        {
          "name": "stdout",
          "output_type": "stream",
          "text": [
            "adaptive_constant_bc:  136.56989442547035\n"
          ]
        },
        {
          "name": "stderr",
          "output_type": "stream",
          "text": [
            "It: 1800, Loss: 9.529e+03, Loss_bcs: 3.867e+00, Loss_res: 9.526e+03 ,Time: 0.00\n",
            "update_res: nan\n",
            "update_bcs1: 0.000e+00\n"
          ]
        },
        {
          "name": "stdout",
          "output_type": "stream",
          "text": [
            "adaptive_constant_bc:  130.14289176199017\n"
          ]
        },
        {
          "name": "stderr",
          "output_type": "stream",
          "text": [
            "It: 1900, Loss: 9.402e+03, Loss_bcs: 4.189e+00, Loss_res: 9.398e+03 ,Time: 0.00\n",
            "update_res: nan\n",
            "update_bcs1: 0.000e+00\n"
          ]
        },
        {
          "name": "stdout",
          "output_type": "stream",
          "text": [
            "adaptive_constant_bc:  124.27340586389948\n"
          ]
        },
        {
          "name": "stderr",
          "output_type": "stream",
          "text": [
            "It: 2000, Loss: 9.276e+03, Loss_bcs: 4.521e+00, Loss_res: 9.272e+03 ,Time: 0.00\n",
            "update_res: nan\n",
            "update_bcs1: 0.000e+00\n"
          ]
        },
        {
          "name": "stdout",
          "output_type": "stream",
          "text": [
            "adaptive_constant_bc:  118.89550219926332\n"
          ]
        },
        {
          "name": "stderr",
          "output_type": "stream",
          "text": [
            "It: 2100, Loss: 9.153e+03, Loss_bcs: 4.862e+00, Loss_res: 9.148e+03 ,Time: 0.00\n",
            "update_res: nan\n",
            "update_bcs1: 0.000e+00\n"
          ]
        },
        {
          "name": "stdout",
          "output_type": "stream",
          "text": [
            "adaptive_constant_bc:  113.95067929276183\n"
          ]
        },
        {
          "name": "stderr",
          "output_type": "stream",
          "text": [
            "It: 2200, Loss: 9.032e+03, Loss_bcs: 5.213e+00, Loss_res: 9.027e+03 ,Time: 0.00\n",
            "update_res: nan\n",
            "update_bcs1: 0.000e+00\n"
          ]
        },
        {
          "name": "stdout",
          "output_type": "stream",
          "text": [
            "adaptive_constant_bc:  109.38753400827903\n"
          ]
        },
        {
          "name": "stderr",
          "output_type": "stream",
          "text": [
            "It: 2300, Loss: 8.912e+03, Loss_bcs: 5.572e+00, Loss_res: 8.907e+03 ,Time: 0.00\n",
            "update_res: nan\n",
            "update_bcs1: 0.000e+00\n"
          ]
        },
        {
          "name": "stdout",
          "output_type": "stream",
          "text": [
            "adaptive_constant_bc:  105.16306898336208\n"
          ]
        },
        {
          "name": "stderr",
          "output_type": "stream",
          "text": [
            "It: 2400, Loss: 8.795e+03, Loss_bcs: 5.939e+00, Loss_res: 8.789e+03 ,Time: 0.00\n",
            "update_res: nan\n",
            "update_bcs1: 0.000e+00\n"
          ]
        },
        {
          "name": "stdout",
          "output_type": "stream",
          "text": [
            "adaptive_constant_bc:  101.240731314962\n"
          ]
        },
        {
          "name": "stderr",
          "output_type": "stream",
          "text": [
            "It: 2500, Loss: 8.679e+03, Loss_bcs: 6.315e+00, Loss_res: 8.673e+03 ,Time: 0.00\n",
            "update_res: nan\n",
            "update_bcs1: 0.000e+00\n"
          ]
        },
        {
          "name": "stdout",
          "output_type": "stream",
          "text": [
            "adaptive_constant_bc:  97.59172962694885\n"
          ]
        },
        {
          "name": "stderr",
          "output_type": "stream",
          "text": [
            "It: 2600, Loss: 8.566e+03, Loss_bcs: 6.699e+00, Loss_res: 8.559e+03 ,Time: 0.00\n",
            "update_res: nan\n",
            "update_bcs1: 0.000e+00\n"
          ]
        },
        {
          "name": "stdout",
          "output_type": "stream",
          "text": [
            "adaptive_constant_bc:  94.18682390552027\n"
          ]
        },
        {
          "name": "stderr",
          "output_type": "stream",
          "text": [
            "It: 2700, Loss: 8.454e+03, Loss_bcs: 7.090e+00, Loss_res: 8.447e+03 ,Time: 0.00\n",
            "update_res: nan\n",
            "update_bcs1: 0.000e+00\n"
          ]
        },
        {
          "name": "stdout",
          "output_type": "stream",
          "text": [
            "adaptive_constant_bc:  91.00178252006587\n"
          ]
        },
        {
          "name": "stderr",
          "output_type": "stream",
          "text": [
            "It: 2800, Loss: 8.343e+03, Loss_bcs: 7.489e+00, Loss_res: 8.336e+03 ,Time: 0.00\n",
            "update_res: nan\n",
            "update_bcs1: 0.000e+00\n"
          ]
        },
        {
          "name": "stdout",
          "output_type": "stream",
          "text": [
            "adaptive_constant_bc:  88.01846240548285\n"
          ]
        },
        {
          "name": "stderr",
          "output_type": "stream",
          "text": [
            "It: 2900, Loss: 8.235e+03, Loss_bcs: 7.894e+00, Loss_res: 8.227e+03 ,Time: 0.00\n",
            "update_res: nan\n",
            "update_bcs1: 0.000e+00\n"
          ]
        },
        {
          "name": "stdout",
          "output_type": "stream",
          "text": [
            "adaptive_constant_bc:  85.2174238453928\n"
          ]
        },
        {
          "name": "stderr",
          "output_type": "stream",
          "text": [
            "It: 3000, Loss: 8.128e+03, Loss_bcs: 8.307e+00, Loss_res: 8.120e+03 ,Time: 0.00\n",
            "update_res: nan\n",
            "update_bcs1: 0.000e+00\n"
          ]
        },
        {
          "name": "stdout",
          "output_type": "stream",
          "text": [
            "adaptive_constant_bc:  82.58488418979991\n"
          ]
        },
        {
          "name": "stderr",
          "output_type": "stream",
          "text": [
            "It: 3100, Loss: 8.023e+03, Loss_bcs: 8.725e+00, Loss_res: 8.015e+03 ,Time: 0.00\n",
            "update_res: nan\n",
            "update_bcs1: 0.000e+00\n"
          ]
        },
        {
          "name": "stdout",
          "output_type": "stream",
          "text": [
            "adaptive_constant_bc:  80.10300201309447\n"
          ]
        },
        {
          "name": "stderr",
          "output_type": "stream",
          "text": [
            "It: 3200, Loss: 7.920e+03, Loss_bcs: 9.150e+00, Loss_res: 7.911e+03 ,Time: 0.00\n",
            "update_res: nan\n",
            "update_bcs1: 0.000e+00\n"
          ]
        },
        {
          "name": "stdout",
          "output_type": "stream",
          "text": [
            "adaptive_constant_bc:  77.76090486901509\n"
          ]
        },
        {
          "name": "stderr",
          "output_type": "stream",
          "text": [
            "It: 3300, Loss: 7.818e+03, Loss_bcs: 9.581e+00, Loss_res: 7.809e+03 ,Time: 0.00\n",
            "update_res: nan\n",
            "update_bcs1: 0.000e+00\n"
          ]
        },
        {
          "name": "stdout",
          "output_type": "stream",
          "text": [
            "adaptive_constant_bc:  75.5475771410565\n"
          ]
        },
        {
          "name": "stderr",
          "output_type": "stream",
          "text": [
            "It: 3400, Loss: 7.718e+03, Loss_bcs: 1.002e+01, Loss_res: 7.708e+03 ,Time: 0.00\n",
            "update_res: nan\n",
            "update_bcs1: 0.000e+00\n"
          ]
        },
        {
          "name": "stdout",
          "output_type": "stream",
          "text": [
            "adaptive_constant_bc:  73.4530638993297\n"
          ]
        },
        {
          "name": "stderr",
          "output_type": "stream",
          "text": [
            "It: 3500, Loss: 7.620e+03, Loss_bcs: 1.046e+01, Loss_res: 7.609e+03 ,Time: 0.00\n",
            "update_res: nan\n",
            "update_bcs1: 0.000e+00\n"
          ]
        },
        {
          "name": "stdout",
          "output_type": "stream",
          "text": [
            "adaptive_constant_bc:  71.46887357337752\n"
          ]
        },
        {
          "name": "stderr",
          "output_type": "stream",
          "text": [
            "It: 3600, Loss: 7.523e+03, Loss_bcs: 1.090e+01, Loss_res: 7.512e+03 ,Time: 0.00\n",
            "update_res: nan\n",
            "update_bcs1: 0.000e+00\n"
          ]
        },
        {
          "name": "stdout",
          "output_type": "stream",
          "text": [
            "adaptive_constant_bc:  69.5856838188285\n"
          ]
        },
        {
          "name": "stderr",
          "output_type": "stream",
          "text": [
            "It: 3700, Loss: 7.427e+03, Loss_bcs: 1.135e+01, Loss_res: 7.416e+03 ,Time: 0.00\n",
            "update_res: nan\n",
            "update_bcs1: 0.000e+00\n"
          ]
        },
        {
          "name": "stdout",
          "output_type": "stream",
          "text": [
            "adaptive_constant_bc:  67.79606120980627\n"
          ]
        },
        {
          "name": "stderr",
          "output_type": "stream",
          "text": [
            "It: 3800, Loss: 7.333e+03, Loss_bcs: 1.180e+01, Loss_res: 7.322e+03 ,Time: 0.00\n",
            "update_res: nan\n",
            "update_bcs1: 0.000e+00\n"
          ]
        },
        {
          "name": "stdout",
          "output_type": "stream",
          "text": [
            "adaptive_constant_bc:  66.09371647257781\n"
          ]
        },
        {
          "name": "stderr",
          "output_type": "stream",
          "text": [
            "It: 3900, Loss: 7.241e+03, Loss_bcs: 1.226e+01, Loss_res: 7.229e+03 ,Time: 0.03\n",
            "update_res: nan\n",
            "update_bcs1: 0.000e+00\n"
          ]
        },
        {
          "name": "stdout",
          "output_type": "stream",
          "text": [
            "adaptive_constant_bc:  64.47216885416518\n"
          ]
        },
        {
          "name": "stderr",
          "output_type": "stream",
          "text": [
            "It: 4000, Loss: 7.150e+03, Loss_bcs: 1.272e+01, Loss_res: 7.137e+03 ,Time: 0.00\n",
            "update_res: nan\n",
            "update_bcs1: 0.000e+00\n"
          ]
        },
        {
          "name": "stdout",
          "output_type": "stream",
          "text": [
            "adaptive_constant_bc:  62.926076173426615\n"
          ]
        },
        {
          "name": "stderr",
          "output_type": "stream",
          "text": [
            "It: 4100, Loss: 7.060e+03, Loss_bcs: 1.318e+01, Loss_res: 7.047e+03 ,Time: 0.00\n",
            "update_res: nan\n",
            "update_bcs1: 0.000e+00\n"
          ]
        },
        {
          "name": "stdout",
          "output_type": "stream",
          "text": [
            "adaptive_constant_bc:  61.44990451792823\n"
          ]
        },
        {
          "name": "stderr",
          "output_type": "stream",
          "text": [
            "It: 4200, Loss: 6.972e+03, Loss_bcs: 1.364e+01, Loss_res: 6.958e+03 ,Time: 0.00\n",
            "update_res: nan\n",
            "update_bcs1: 0.000e+00\n"
          ]
        },
        {
          "name": "stdout",
          "output_type": "stream",
          "text": [
            "adaptive_constant_bc:  60.03872337768454\n"
          ]
        },
        {
          "name": "stderr",
          "output_type": "stream",
          "text": [
            "It: 4300, Loss: 6.885e+03, Loss_bcs: 1.411e+01, Loss_res: 6.871e+03 ,Time: 0.00\n",
            "update_res: nan\n",
            "update_bcs1: 0.000e+00\n"
          ]
        },
        {
          "name": "stdout",
          "output_type": "stream",
          "text": [
            "adaptive_constant_bc:  58.6889535241181\n"
          ]
        },
        {
          "name": "stderr",
          "output_type": "stream",
          "text": [
            "It: 4400, Loss: 6.799e+03, Loss_bcs: 1.458e+01, Loss_res: 6.785e+03 ,Time: 0.00\n",
            "update_res: nan\n",
            "update_bcs1: 0.000e+00\n"
          ]
        },
        {
          "name": "stdout",
          "output_type": "stream",
          "text": [
            "adaptive_constant_bc:  57.39699679045836\n"
          ]
        },
        {
          "name": "stderr",
          "output_type": "stream",
          "text": [
            "It: 4500, Loss: 6.715e+03, Loss_bcs: 1.505e+01, Loss_res: 6.700e+03 ,Time: 0.00\n",
            "update_res: nan\n",
            "update_bcs1: 0.000e+00\n"
          ]
        },
        {
          "name": "stdout",
          "output_type": "stream",
          "text": [
            "adaptive_constant_bc:  56.15822340779495\n"
          ]
        },
        {
          "name": "stderr",
          "output_type": "stream",
          "text": [
            "It: 4600, Loss: 6.632e+03, Loss_bcs: 1.553e+01, Loss_res: 6.616e+03 ,Time: 0.00\n",
            "update_res: nan\n",
            "update_bcs1: 0.000e+00\n"
          ]
        },
        {
          "name": "stdout",
          "output_type": "stream",
          "text": [
            "adaptive_constant_bc:  54.96922373639775\n"
          ]
        },
        {
          "name": "stderr",
          "output_type": "stream",
          "text": [
            "It: 4700, Loss: 6.550e+03, Loss_bcs: 1.600e+01, Loss_res: 6.534e+03 ,Time: 0.00\n",
            "update_res: nan\n",
            "update_bcs1: 0.000e+00\n"
          ]
        },
        {
          "name": "stdout",
          "output_type": "stream",
          "text": [
            "adaptive_constant_bc:  53.82712479221112\n"
          ]
        },
        {
          "name": "stderr",
          "output_type": "stream",
          "text": [
            "It: 4800, Loss: 6.470e+03, Loss_bcs: 1.648e+01, Loss_res: 6.453e+03 ,Time: 0.00\n",
            "update_res: nan\n",
            "update_bcs1: 0.000e+00\n"
          ]
        },
        {
          "name": "stdout",
          "output_type": "stream",
          "text": [
            "adaptive_constant_bc:  52.72964902518389\n"
          ]
        },
        {
          "name": "stderr",
          "output_type": "stream",
          "text": [
            "It: 4900, Loss: 6.391e+03, Loss_bcs: 1.696e+01, Loss_res: 6.374e+03 ,Time: 0.00\n",
            "update_res: nan\n",
            "update_bcs1: 0.000e+00\n"
          ]
        },
        {
          "name": "stdout",
          "output_type": "stream",
          "text": [
            "adaptive_constant_bc:  51.673894915898494\n"
          ]
        },
        {
          "name": "stderr",
          "output_type": "stream",
          "text": [
            "It: 5000, Loss: 6.313e+03, Loss_bcs: 1.744e+01, Loss_res: 6.295e+03 ,Time: 0.00\n",
            "update_res: nan\n",
            "update_bcs1: 0.000e+00\n"
          ]
        },
        {
          "name": "stdout",
          "output_type": "stream",
          "text": [
            "adaptive_constant_bc:  50.657153553125895\n"
          ]
        },
        {
          "name": "stderr",
          "output_type": "stream",
          "text": [
            "It: 5100, Loss: 6.236e+03, Loss_bcs: 1.793e+01, Loss_res: 6.218e+03 ,Time: 0.00\n",
            "update_res: nan\n",
            "update_bcs1: 0.000e+00\n"
          ]
        },
        {
          "name": "stdout",
          "output_type": "stream",
          "text": [
            "adaptive_constant_bc:  49.67730475396526\n"
          ]
        },
        {
          "name": "stderr",
          "output_type": "stream",
          "text": [
            "It: 5200, Loss: 6.160e+03, Loss_bcs: 1.841e+01, Loss_res: 6.142e+03 ,Time: 0.00\n",
            "update_res: nan\n",
            "update_bcs1: 0.000e+00\n"
          ]
        },
        {
          "name": "stdout",
          "output_type": "stream",
          "text": [
            "adaptive_constant_bc:  48.7327305958501\n"
          ]
        },
        {
          "name": "stderr",
          "output_type": "stream",
          "text": [
            "It: 5300, Loss: 6.086e+03, Loss_bcs: 1.890e+01, Loss_res: 6.067e+03 ,Time: 0.00\n",
            "update_res: nan\n",
            "update_bcs1: 0.000e+00\n"
          ]
        },
        {
          "name": "stdout",
          "output_type": "stream",
          "text": [
            "adaptive_constant_bc:  47.82181337499685\n"
          ]
        },
        {
          "name": "stderr",
          "output_type": "stream",
          "text": [
            "It: 5400, Loss: 6.013e+03, Loss_bcs: 1.938e+01, Loss_res: 5.994e+03 ,Time: 0.00\n",
            "update_res: nan\n",
            "update_bcs1: 0.000e+00\n"
          ]
        },
        {
          "name": "stdout",
          "output_type": "stream",
          "text": [
            "adaptive_constant_bc:  46.942131139437954\n"
          ]
        },
        {
          "name": "stderr",
          "output_type": "stream",
          "text": [
            "It: 5500, Loss: 5.941e+03, Loss_bcs: 1.987e+01, Loss_res: 5.921e+03 ,Time: 0.00\n",
            "update_res: nan\n",
            "update_bcs1: 0.000e+00\n"
          ]
        },
        {
          "name": "stdout",
          "output_type": "stream",
          "text": [
            "adaptive_constant_bc:  46.092203237630834\n"
          ]
        },
        {
          "name": "stderr",
          "output_type": "stream",
          "text": [
            "It: 5600, Loss: 5.870e+03, Loss_bcs: 2.036e+01, Loss_res: 5.850e+03 ,Time: 0.00\n",
            "update_res: nan\n",
            "update_bcs1: 0.000e+00\n"
          ]
        },
        {
          "name": "stdout",
          "output_type": "stream",
          "text": [
            "adaptive_constant_bc:  45.2705270750835\n"
          ]
        },
        {
          "name": "stderr",
          "output_type": "stream",
          "text": [
            "It: 5700, Loss: 5.800e+03, Loss_bcs: 2.085e+01, Loss_res: 5.779e+03 ,Time: 0.00\n",
            "update_res: nan\n",
            "update_bcs1: 0.000e+00\n"
          ]
        },
        {
          "name": "stdout",
          "output_type": "stream",
          "text": [
            "adaptive_constant_bc:  44.47631195768785\n"
          ]
        },
        {
          "name": "stderr",
          "output_type": "stream",
          "text": [
            "It: 5800, Loss: 5.731e+03, Loss_bcs: 2.133e+01, Loss_res: 5.710e+03 ,Time: 0.00\n",
            "update_res: nan\n",
            "update_bcs1: 0.000e+00\n"
          ]
        },
        {
          "name": "stdout",
          "output_type": "stream",
          "text": [
            "adaptive_constant_bc:  43.70772092746911\n"
          ]
        },
        {
          "name": "stderr",
          "output_type": "stream",
          "text": [
            "It: 5900, Loss: 5.663e+03, Loss_bcs: 2.182e+01, Loss_res: 5.642e+03 ,Time: 0.00\n",
            "update_res: nan\n",
            "update_bcs1: 0.000e+00\n"
          ]
        },
        {
          "name": "stdout",
          "output_type": "stream",
          "text": [
            "adaptive_constant_bc:  42.964271592023614\n"
          ]
        },
        {
          "name": "stderr",
          "output_type": "stream",
          "text": [
            "It: 6000, Loss: 5.597e+03, Loss_bcs: 2.231e+01, Loss_res: 5.575e+03 ,Time: 0.00\n",
            "update_res: nan\n",
            "update_bcs1: 0.000e+00\n"
          ]
        },
        {
          "name": "stdout",
          "output_type": "stream",
          "text": [
            "adaptive_constant_bc:  42.24394659594807\n"
          ]
        },
        {
          "name": "stderr",
          "output_type": "stream",
          "text": [
            "It: 6100, Loss: 5.531e+03, Loss_bcs: 2.280e+01, Loss_res: 5.508e+03 ,Time: 0.00\n",
            "update_res: nan\n",
            "update_bcs1: 0.000e+00\n"
          ]
        },
        {
          "name": "stdout",
          "output_type": "stream",
          "text": [
            "adaptive_constant_bc:  41.54577912391406\n"
          ]
        },
        {
          "name": "stderr",
          "output_type": "stream",
          "text": [
            "It: 6200, Loss: 5.467e+03, Loss_bcs: 2.329e+01, Loss_res: 5.443e+03 ,Time: 0.00\n",
            "update_res: nan\n",
            "update_bcs1: 0.000e+00\n"
          ]
        },
        {
          "name": "stdout",
          "output_type": "stream",
          "text": [
            "adaptive_constant_bc:  40.86863357144106\n"
          ]
        },
        {
          "name": "stderr",
          "output_type": "stream",
          "text": [
            "It: 6300, Loss: 5.403e+03, Loss_bcs: 2.377e+01, Loss_res: 5.379e+03 ,Time: 0.00\n",
            "update_res: nan\n",
            "update_bcs1: 0.000e+00\n"
          ]
        },
        {
          "name": "stdout",
          "output_type": "stream",
          "text": [
            "adaptive_constant_bc:  40.21213696482025\n"
          ]
        },
        {
          "name": "stderr",
          "output_type": "stream",
          "text": [
            "It: 6400, Loss: 5.340e+03, Loss_bcs: 2.426e+01, Loss_res: 5.316e+03 ,Time: 0.03\n",
            "update_res: nan\n",
            "update_bcs1: 0.000e+00\n"
          ]
        },
        {
          "name": "stdout",
          "output_type": "stream",
          "text": [
            "adaptive_constant_bc:  39.57568548046984\n"
          ]
        },
        {
          "name": "stderr",
          "output_type": "stream",
          "text": [
            "It: 6500, Loss: 5.279e+03, Loss_bcs: 2.475e+01, Loss_res: 5.254e+03 ,Time: 0.00\n",
            "update_res: nan\n",
            "update_bcs1: 0.000e+00\n"
          ]
        },
        {
          "name": "stdout",
          "output_type": "stream",
          "text": [
            "adaptive_constant_bc:  38.95766040771175\n"
          ]
        },
        {
          "name": "stderr",
          "output_type": "stream",
          "text": [
            "It: 6600, Loss: 5.218e+03, Loss_bcs: 2.523e+01, Loss_res: 5.193e+03 ,Time: 0.00\n",
            "update_res: nan\n",
            "update_bcs1: 0.000e+00\n"
          ]
        },
        {
          "name": "stdout",
          "output_type": "stream",
          "text": [
            "adaptive_constant_bc:  38.35713980491496\n"
          ]
        },
        {
          "name": "stderr",
          "output_type": "stream",
          "text": [
            "It: 6700, Loss: 5.158e+03, Loss_bcs: 2.572e+01, Loss_res: 5.132e+03 ,Time: 0.00\n",
            "update_res: nan\n",
            "update_bcs1: 0.000e+00\n"
          ]
        },
        {
          "name": "stdout",
          "output_type": "stream",
          "text": [
            "adaptive_constant_bc:  37.773262180812274\n"
          ]
        },
        {
          "name": "stderr",
          "output_type": "stream",
          "text": [
            "It: 6800, Loss: 5.099e+03, Loss_bcs: 2.620e+01, Loss_res: 5.073e+03 ,Time: 0.00\n",
            "update_res: nan\n",
            "update_bcs1: 0.000e+00\n"
          ]
        },
        {
          "name": "stdout",
          "output_type": "stream",
          "text": [
            "adaptive_constant_bc:  37.20548289490054\n"
          ]
        },
        {
          "name": "stderr",
          "output_type": "stream",
          "text": [
            "It: 6900, Loss: 5.041e+03, Loss_bcs: 2.668e+01, Loss_res: 5.015e+03 ,Time: 0.00\n",
            "update_res: nan\n",
            "update_bcs1: 0.000e+00\n"
          ]
        },
        {
          "name": "stdout",
          "output_type": "stream",
          "text": [
            "adaptive_constant_bc:  36.65320143364207\n"
          ]
        },
        {
          "name": "stderr",
          "output_type": "stream",
          "text": [
            "It: 7000, Loss: 4.984e+03, Loss_bcs: 2.716e+01, Loss_res: 4.957e+03 ,Time: 0.00\n",
            "update_res: nan\n",
            "update_bcs1: 0.000e+00\n"
          ]
        },
        {
          "name": "stdout",
          "output_type": "stream",
          "text": [
            "adaptive_constant_bc:  36.11561074928959\n"
          ]
        },
        {
          "name": "stderr",
          "output_type": "stream",
          "text": [
            "It: 7100, Loss: 4.928e+03, Loss_bcs: 2.764e+01, Loss_res: 4.901e+03 ,Time: 0.00\n",
            "update_res: nan\n",
            "update_bcs1: 0.000e+00\n"
          ]
        },
        {
          "name": "stdout",
          "output_type": "stream",
          "text": [
            "adaptive_constant_bc:  35.59239080514044\n"
          ]
        },
        {
          "name": "stderr",
          "output_type": "stream",
          "text": [
            "It: 7200, Loss: 4.873e+03, Loss_bcs: 2.812e+01, Loss_res: 4.845e+03 ,Time: 0.00\n",
            "update_res: nan\n",
            "update_bcs1: 0.000e+00\n"
          ]
        },
        {
          "name": "stdout",
          "output_type": "stream",
          "text": [
            "adaptive_constant_bc:  35.08265277080515\n"
          ]
        },
        {
          "name": "stderr",
          "output_type": "stream",
          "text": [
            "It: 7300, Loss: 4.819e+03, Loss_bcs: 2.860e+01, Loss_res: 4.790e+03 ,Time: 0.00\n",
            "update_res: nan\n",
            "update_bcs1: 0.000e+00\n"
          ]
        },
        {
          "name": "stdout",
          "output_type": "stream",
          "text": [
            "adaptive_constant_bc:  34.585948632386405\n"
          ]
        },
        {
          "name": "stderr",
          "output_type": "stream",
          "text": [
            "It: 7400, Loss: 4.765e+03, Loss_bcs: 2.908e+01, Loss_res: 4.736e+03 ,Time: 0.00\n",
            "update_res: nan\n",
            "update_bcs1: 0.000e+00\n"
          ]
        },
        {
          "name": "stdout",
          "output_type": "stream",
          "text": [
            "adaptive_constant_bc:  34.10177537909729\n"
          ]
        },
        {
          "name": "stderr",
          "output_type": "stream",
          "text": [
            "It: 7500, Loss: 4.712e+03, Loss_bcs: 2.955e+01, Loss_res: 4.683e+03 ,Time: 0.00\n",
            "update_res: nan\n",
            "update_bcs1: 0.000e+00\n"
          ]
        },
        {
          "name": "stdout",
          "output_type": "stream",
          "text": [
            "adaptive_constant_bc:  33.62980951843202\n"
          ]
        },
        {
          "name": "stderr",
          "output_type": "stream",
          "text": [
            "It: 7600, Loss: 4.660e+03, Loss_bcs: 3.002e+01, Loss_res: 4.630e+03 ,Time: 0.00\n",
            "update_res: nan\n",
            "update_bcs1: 0.000e+00\n"
          ]
        },
        {
          "name": "stdout",
          "output_type": "stream",
          "text": [
            "adaptive_constant_bc:  33.1694799132929\n"
          ]
        },
        {
          "name": "stderr",
          "output_type": "stream",
          "text": [
            "It: 7700, Loss: 4.609e+03, Loss_bcs: 3.050e+01, Loss_res: 4.579e+03 ,Time: 0.00\n",
            "update_res: nan\n",
            "update_bcs1: 0.000e+00\n"
          ]
        },
        {
          "name": "stdout",
          "output_type": "stream",
          "text": [
            "adaptive_constant_bc:  32.72023395595258\n"
          ]
        },
        {
          "name": "stderr",
          "output_type": "stream",
          "text": [
            "It: 7800, Loss: 4.559e+03, Loss_bcs: 3.097e+01, Loss_res: 4.528e+03 ,Time: 0.00\n",
            "update_res: nan\n",
            "update_bcs1: 0.000e+00\n"
          ]
        },
        {
          "name": "stdout",
          "output_type": "stream",
          "text": [
            "adaptive_constant_bc:  32.281825291161354\n"
          ]
        },
        {
          "name": "stderr",
          "output_type": "stream",
          "text": [
            "It: 7900, Loss: 4.509e+03, Loss_bcs: 3.143e+01, Loss_res: 4.478e+03 ,Time: 0.00\n",
            "update_res: nan\n",
            "update_bcs1: 0.000e+00\n"
          ]
        },
        {
          "name": "stdout",
          "output_type": "stream",
          "text": [
            "adaptive_constant_bc:  31.85400957581167\n"
          ]
        },
        {
          "name": "stderr",
          "output_type": "stream",
          "text": [
            "It: 8000, Loss: 4.461e+03, Loss_bcs: 3.190e+01, Loss_res: 4.429e+03 ,Time: 0.04\n",
            "update_res: nan\n",
            "update_bcs1: 0.000e+00\n"
          ]
        },
        {
          "name": "stdout",
          "output_type": "stream",
          "text": [
            "adaptive_constant_bc:  31.436279334567665\n"
          ]
        },
        {
          "name": "stderr",
          "output_type": "stream",
          "text": [
            "It: 8100, Loss: 4.413e+03, Loss_bcs: 3.236e+01, Loss_res: 4.380e+03 ,Time: 0.00\n",
            "update_res: nan\n",
            "update_bcs1: 0.000e+00\n"
          ]
        },
        {
          "name": "stdout",
          "output_type": "stream",
          "text": [
            "adaptive_constant_bc:  31.028683036822958\n"
          ]
        },
        {
          "name": "stderr",
          "output_type": "stream",
          "text": [
            "It: 8200, Loss: 4.365e+03, Loss_bcs: 3.282e+01, Loss_res: 4.333e+03 ,Time: 0.00\n",
            "update_res: nan\n",
            "update_bcs1: 0.000e+00\n"
          ]
        },
        {
          "name": "stdout",
          "output_type": "stream",
          "text": [
            "adaptive_constant_bc:  30.63077591925331\n"
          ]
        },
        {
          "name": "stderr",
          "output_type": "stream",
          "text": [
            "It: 8300, Loss: 4.319e+03, Loss_bcs: 3.328e+01, Loss_res: 4.286e+03 ,Time: 0.00\n",
            "update_res: nan\n",
            "update_bcs1: 0.000e+00\n"
          ]
        },
        {
          "name": "stdout",
          "output_type": "stream",
          "text": [
            "adaptive_constant_bc:  30.24227400417058\n"
          ]
        },
        {
          "name": "stderr",
          "output_type": "stream",
          "text": [
            "It: 8400, Loss: 4.273e+03, Loss_bcs: 3.374e+01, Loss_res: 4.239e+03 ,Time: 0.01\n",
            "update_res: nan\n",
            "update_bcs1: 0.000e+00\n"
          ]
        },
        {
          "name": "stdout",
          "output_type": "stream",
          "text": [
            "adaptive_constant_bc:  29.862702639363388\n"
          ]
        },
        {
          "name": "stderr",
          "output_type": "stream",
          "text": [
            "It: 8500, Loss: 4.228e+03, Loss_bcs: 3.419e+01, Loss_res: 4.194e+03 ,Time: 0.00\n",
            "update_res: nan\n",
            "update_bcs1: 0.000e+00\n"
          ]
        },
        {
          "name": "stdout",
          "output_type": "stream",
          "text": [
            "adaptive_constant_bc:  29.491612040467984\n"
          ]
        },
        {
          "name": "stderr",
          "output_type": "stream",
          "text": [
            "It: 8600, Loss: 4.184e+03, Loss_bcs: 3.464e+01, Loss_res: 4.149e+03 ,Time: 0.00\n",
            "update_res: nan\n",
            "update_bcs1: 0.000e+00\n"
          ]
        },
        {
          "name": "stdout",
          "output_type": "stream",
          "text": [
            "adaptive_constant_bc:  29.1287179317403\n"
          ]
        },
        {
          "name": "stderr",
          "output_type": "stream",
          "text": [
            "It: 8700, Loss: 4.140e+03, Loss_bcs: 3.509e+01, Loss_res: 4.105e+03 ,Time: 0.00\n",
            "update_res: nan\n",
            "update_bcs1: 0.000e+00\n"
          ]
        },
        {
          "name": "stdout",
          "output_type": "stream",
          "text": [
            "adaptive_constant_bc:  28.773796636072024\n"
          ]
        },
        {
          "name": "stderr",
          "output_type": "stream",
          "text": [
            "It: 8800, Loss: 4.097e+03, Loss_bcs: 3.554e+01, Loss_res: 4.061e+03 ,Time: 0.00\n",
            "update_res: nan\n",
            "update_bcs1: 0.000e+00\n"
          ]
        },
        {
          "name": "stdout",
          "output_type": "stream",
          "text": [
            "adaptive_constant_bc:  28.426542594670384\n"
          ]
        },
        {
          "name": "stderr",
          "output_type": "stream",
          "text": [
            "It: 8900, Loss: 4.055e+03, Loss_bcs: 3.598e+01, Loss_res: 4.019e+03 ,Time: 0.00\n",
            "update_res: nan\n",
            "update_bcs1: 0.000e+00\n"
          ]
        },
        {
          "name": "stdout",
          "output_type": "stream",
          "text": [
            "adaptive_constant_bc:  28.08692422135722\n"
          ]
        },
        {
          "name": "stderr",
          "output_type": "stream",
          "text": [
            "It: 9000, Loss: 4.013e+03, Loss_bcs: 3.642e+01, Loss_res: 3.977e+03 ,Time: 0.00\n",
            "update_res: nan\n",
            "update_bcs1: 0.000e+00\n"
          ]
        },
        {
          "name": "stdout",
          "output_type": "stream",
          "text": [
            "adaptive_constant_bc:  27.75455647907456\n"
          ]
        },
        {
          "name": "stderr",
          "output_type": "stream",
          "text": [
            "It: 9100, Loss: 3.972e+03, Loss_bcs: 3.686e+01, Loss_res: 3.935e+03 ,Time: 0.00\n",
            "update_res: nan\n",
            "update_bcs1: 0.000e+00\n"
          ]
        },
        {
          "name": "stdout",
          "output_type": "stream",
          "text": [
            "adaptive_constant_bc:  27.42927499059022\n"
          ]
        },
        {
          "name": "stderr",
          "output_type": "stream",
          "text": [
            "It: 9200, Loss: 3.932e+03, Loss_bcs: 3.730e+01, Loss_res: 3.894e+03 ,Time: 0.00\n",
            "update_res: nan\n",
            "update_bcs1: 0.000e+00\n"
          ]
        },
        {
          "name": "stdout",
          "output_type": "stream",
          "text": [
            "adaptive_constant_bc:  27.11071726163823\n"
          ]
        },
        {
          "name": "stderr",
          "output_type": "stream",
          "text": [
            "It: 9300, Loss: 3.892e+03, Loss_bcs: 3.773e+01, Loss_res: 3.854e+03 ,Time: 0.01\n",
            "update_res: nan\n",
            "update_bcs1: 0.000e+00\n"
          ]
        },
        {
          "name": "stdout",
          "output_type": "stream",
          "text": [
            "adaptive_constant_bc:  26.79872804495566\n"
          ]
        },
        {
          "name": "stderr",
          "output_type": "stream",
          "text": [
            "It: 9400, Loss: 3.853e+03, Loss_bcs: 3.816e+01, Loss_res: 3.815e+03 ,Time: 0.00\n",
            "update_res: nan\n",
            "update_bcs1: 0.000e+00\n"
          ]
        },
        {
          "name": "stdout",
          "output_type": "stream",
          "text": [
            "adaptive_constant_bc:  26.493129358445334\n"
          ]
        },
        {
          "name": "stderr",
          "output_type": "stream",
          "text": [
            "It: 9500, Loss: 3.814e+03, Loss_bcs: 3.859e+01, Loss_res: 3.776e+03 ,Time: 0.00\n",
            "update_res: nan\n",
            "update_bcs1: 0.000e+00\n"
          ]
        },
        {
          "name": "stdout",
          "output_type": "stream",
          "text": [
            "adaptive_constant_bc:  26.19374487244907\n"
          ]
        },
        {
          "name": "stderr",
          "output_type": "stream",
          "text": [
            "It: 9600, Loss: 3.776e+03, Loss_bcs: 3.901e+01, Loss_res: 3.737e+03 ,Time: 0.00\n",
            "update_res: nan\n",
            "update_bcs1: 0.000e+00\n"
          ]
        },
        {
          "name": "stdout",
          "output_type": "stream",
          "text": [
            "adaptive_constant_bc:  25.900644872104525\n"
          ]
        },
        {
          "name": "stderr",
          "output_type": "stream",
          "text": [
            "It: 9700, Loss: 3.739e+03, Loss_bcs: 3.943e+01, Loss_res: 3.700e+03 ,Time: 0.00\n",
            "update_res: nan\n",
            "update_bcs1: 0.000e+00\n"
          ]
        },
        {
          "name": "stdout",
          "output_type": "stream",
          "text": [
            "adaptive_constant_bc:  25.613432413981446\n"
          ]
        },
        {
          "name": "stderr",
          "output_type": "stream",
          "text": [
            "It: 9800, Loss: 3.702e+03, Loss_bcs: 3.985e+01, Loss_res: 3.662e+03 ,Time: 0.00\n",
            "update_res: nan\n",
            "update_bcs1: 0.000e+00\n"
          ]
        },
        {
          "name": "stdout",
          "output_type": "stream",
          "text": [
            "adaptive_constant_bc:  25.331900589652097\n"
          ]
        },
        {
          "name": "stderr",
          "output_type": "stream",
          "text": [
            "It: 9900, Loss: 3.666e+03, Loss_bcs: 4.027e+01, Loss_res: 3.626e+03 ,Time: 0.00\n",
            "update_res: nan\n",
            "update_bcs1: 0.000e+00\n"
          ]
        },
        {
          "name": "stdout",
          "output_type": "stream",
          "text": [
            "adaptive_constant_bc:  25.05590155632555\n"
          ]
        },
        {
          "name": "stderr",
          "output_type": "stream",
          "text": [
            "It: 10000, Loss: 3.631e+03, Loss_bcs: 4.068e+01, Loss_res: 3.590e+03 ,Time: 0.00\n",
            "update_res: nan\n",
            "update_bcs1: 0.000e+00\n"
          ]
        },
        {
          "name": "stdout",
          "output_type": "stream",
          "text": [
            "adaptive_constant_bc:  24.785335931829\n"
          ]
        },
        {
          "name": "stderr",
          "output_type": "stream",
          "text": [
            "It: 10100, Loss: 3.596e+03, Loss_bcs: 4.109e+01, Loss_res: 3.554e+03 ,Time: 0.00\n",
            "update_res: nan\n",
            "update_bcs1: 0.000e+00\n"
          ]
        },
        {
          "name": "stdout",
          "output_type": "stream",
          "text": [
            "adaptive_constant_bc:  24.52041816822382\n"
          ]
        },
        {
          "name": "stderr",
          "output_type": "stream",
          "text": [
            "It: 10200, Loss: 3.561e+03, Loss_bcs: 4.150e+01, Loss_res: 3.520e+03 ,Time: 0.00\n",
            "update_res: nan\n",
            "update_bcs1: 0.000e+00\n"
          ]
        },
        {
          "name": "stdout",
          "output_type": "stream",
          "text": [
            "adaptive_constant_bc:  24.26053682893521\n"
          ]
        },
        {
          "name": "stderr",
          "output_type": "stream",
          "text": [
            "It: 10300, Loss: 3.527e+03, Loss_bcs: 4.191e+01, Loss_res: 3.485e+03 ,Time: 0.00\n",
            "update_res: nan\n",
            "update_bcs1: 0.000e+00\n"
          ]
        },
        {
          "name": "stdout",
          "output_type": "stream",
          "text": [
            "adaptive_constant_bc:  24.005561863660315\n"
          ]
        },
        {
          "name": "stderr",
          "output_type": "stream",
          "text": [
            "It: 10400, Loss: 3.494e+03, Loss_bcs: 4.231e+01, Loss_res: 3.451e+03 ,Time: 0.00\n",
            "update_res: nan\n",
            "update_bcs1: 0.000e+00\n"
          ]
        },
        {
          "name": "stdout",
          "output_type": "stream",
          "text": [
            "adaptive_constant_bc:  23.755362892389382\n"
          ]
        },
        {
          "name": "stderr",
          "output_type": "stream",
          "text": [
            "It: 10500, Loss: 3.461e+03, Loss_bcs: 4.271e+01, Loss_res: 3.418e+03 ,Time: 0.00\n",
            "update_res: nan\n",
            "update_bcs1: 0.000e+00\n"
          ]
        },
        {
          "name": "stdout",
          "output_type": "stream",
          "text": [
            "adaptive_constant_bc:  23.509789575364703\n"
          ]
        },
        {
          "name": "stderr",
          "output_type": "stream",
          "text": [
            "It: 10600, Loss: 3.428e+03, Loss_bcs: 4.310e+01, Loss_res: 3.385e+03 ,Time: 0.00\n",
            "update_res: nan\n",
            "update_bcs1: 0.000e+00\n"
          ]
        },
        {
          "name": "stdout",
          "output_type": "stream",
          "text": [
            "adaptive_constant_bc:  23.268751160696024\n"
          ]
        },
        {
          "name": "stderr",
          "output_type": "stream",
          "text": [
            "It: 10700, Loss: 3.397e+03, Loss_bcs: 4.349e+01, Loss_res: 3.353e+03 ,Time: 0.00\n",
            "update_res: nan\n",
            "update_bcs1: 0.000e+00\n"
          ]
        },
        {
          "name": "stdout",
          "output_type": "stream",
          "text": [
            "adaptive_constant_bc:  23.032203678938664\n"
          ]
        },
        {
          "name": "stderr",
          "output_type": "stream",
          "text": [
            "It: 10800, Loss: 3.365e+03, Loss_bcs: 4.388e+01, Loss_res: 3.321e+03 ,Time: 0.00\n",
            "update_res: nan\n",
            "update_bcs1: 0.000e+00\n"
          ]
        },
        {
          "name": "stdout",
          "output_type": "stream",
          "text": [
            "adaptive_constant_bc:  22.800001278919893\n"
          ]
        },
        {
          "name": "stderr",
          "output_type": "stream",
          "text": [
            "It: 10900, Loss: 3.334e+03, Loss_bcs: 4.427e+01, Loss_res: 3.290e+03 ,Time: 0.00\n",
            "update_res: nan\n",
            "update_bcs1: 0.000e+00\n"
          ]
        },
        {
          "name": "stdout",
          "output_type": "stream",
          "text": [
            "adaptive_constant_bc:  22.572027714763024\n"
          ]
        },
        {
          "name": "stderr",
          "output_type": "stream",
          "text": [
            "It: 11000, Loss: 3.304e+03, Loss_bcs: 4.465e+01, Loss_res: 3.259e+03 ,Time: 0.00\n",
            "update_res: nan\n",
            "update_bcs1: 0.000e+00\n"
          ]
        },
        {
          "name": "stdout",
          "output_type": "stream",
          "text": [
            "adaptive_constant_bc:  22.34819868110337\n"
          ]
        },
        {
          "name": "stderr",
          "output_type": "stream",
          "text": [
            "It: 11100, Loss: 3.274e+03, Loss_bcs: 4.503e+01, Loss_res: 3.229e+03 ,Time: 0.00\n",
            "update_res: nan\n",
            "update_bcs1: 0.000e+00\n"
          ]
        },
        {
          "name": "stdout",
          "output_type": "stream",
          "text": [
            "adaptive_constant_bc:  22.12840107334562\n"
          ]
        },
        {
          "name": "stderr",
          "output_type": "stream",
          "text": [
            "It: 11200, Loss: 3.244e+03, Loss_bcs: 4.541e+01, Loss_res: 3.199e+03 ,Time: 0.00\n",
            "update_res: nan\n",
            "update_bcs1: 0.000e+00\n"
          ]
        },
        {
          "name": "stdout",
          "output_type": "stream",
          "text": [
            "adaptive_constant_bc:  21.912531587653998\n"
          ]
        },
        {
          "name": "stderr",
          "output_type": "stream",
          "text": [
            "It: 11300, Loss: 3.215e+03, Loss_bcs: 4.578e+01, Loss_res: 3.170e+03 ,Time: 0.00\n",
            "update_res: nan\n",
            "update_bcs1: 0.000e+00\n"
          ]
        },
        {
          "name": "stdout",
          "output_type": "stream",
          "text": [
            "adaptive_constant_bc:  21.700489036922306\n"
          ]
        },
        {
          "name": "stderr",
          "output_type": "stream",
          "text": [
            "It: 11400, Loss: 3.187e+03, Loss_bcs: 4.615e+01, Loss_res: 3.141e+03 ,Time: 0.00\n",
            "update_res: nan\n",
            "update_bcs1: 0.000e+00\n"
          ]
        },
        {
          "name": "stdout",
          "output_type": "stream",
          "text": [
            "adaptive_constant_bc:  21.49217380431858\n"
          ]
        },
        {
          "name": "stderr",
          "output_type": "stream",
          "text": [
            "It: 11500, Loss: 3.159e+03, Loss_bcs: 4.652e+01, Loss_res: 3.112e+03 ,Time: 0.02\n",
            "update_res: nan\n",
            "update_bcs1: 0.000e+00\n"
          ]
        },
        {
          "name": "stdout",
          "output_type": "stream",
          "text": [
            "adaptive_constant_bc:  21.28747947064594\n"
          ]
        },
        {
          "name": "stderr",
          "output_type": "stream",
          "text": [
            "It: 11600, Loss: 3.131e+03, Loss_bcs: 4.688e+01, Loss_res: 3.084e+03 ,Time: 0.00\n",
            "update_res: nan\n",
            "update_bcs1: 0.000e+00\n"
          ]
        },
        {
          "name": "stdout",
          "output_type": "stream",
          "text": [
            "adaptive_constant_bc:  21.086512425919206\n"
          ]
        },
        {
          "name": "stderr",
          "output_type": "stream",
          "text": [
            "It: 11700, Loss: 3.104e+03, Loss_bcs: 4.724e+01, Loss_res: 3.057e+03 ,Time: 0.00\n",
            "update_res: nan\n",
            "update_bcs1: 0.000e+00\n"
          ]
        },
        {
          "name": "stdout",
          "output_type": "stream",
          "text": [
            "adaptive_constant_bc:  20.889088062623866\n"
          ]
        },
        {
          "name": "stderr",
          "output_type": "stream",
          "text": [
            "It: 11800, Loss: 3.077e+03, Loss_bcs: 4.760e+01, Loss_res: 3.029e+03 ,Time: 0.00\n",
            "update_res: nan\n",
            "update_bcs1: 0.000e+00\n"
          ]
        },
        {
          "name": "stdout",
          "output_type": "stream",
          "text": [
            "adaptive_constant_bc:  20.695046026382986\n"
          ]
        },
        {
          "name": "stderr",
          "output_type": "stream",
          "text": [
            "It: 11900, Loss: 3.051e+03, Loss_bcs: 4.796e+01, Loss_res: 3.003e+03 ,Time: 0.01\n",
            "update_res: nan\n",
            "update_bcs1: 0.000e+00\n"
          ]
        },
        {
          "name": "stdout",
          "output_type": "stream",
          "text": [
            "adaptive_constant_bc:  20.504253998960248\n"
          ]
        },
        {
          "name": "stderr",
          "output_type": "stream",
          "text": [
            "It: 12000, Loss: 3.025e+03, Loss_bcs: 4.831e+01, Loss_res: 2.976e+03 ,Time: 0.00\n",
            "update_res: nan\n",
            "update_bcs1: 0.000e+00\n"
          ]
        },
        {
          "name": "stdout",
          "output_type": "stream",
          "text": [
            "adaptive_constant_bc:  20.316768800941116\n"
          ]
        },
        {
          "name": "stderr",
          "output_type": "stream",
          "text": [
            "It: 12100, Loss: 2.999e+03, Loss_bcs: 4.866e+01, Loss_res: 2.950e+03 ,Time: 0.00\n",
            "update_res: nan\n",
            "update_bcs1: 0.000e+00\n"
          ]
        },
        {
          "name": "stdout",
          "output_type": "stream",
          "text": [
            "adaptive_constant_bc:  20.132383920644443\n"
          ]
        },
        {
          "name": "stderr",
          "output_type": "stream",
          "text": [
            "It: 12200, Loss: 2.974e+03, Loss_bcs: 4.900e+01, Loss_res: 2.925e+03 ,Time: 0.00\n",
            "update_res: nan\n",
            "update_bcs1: 0.000e+00\n"
          ]
        },
        {
          "name": "stdout",
          "output_type": "stream",
          "text": [
            "adaptive_constant_bc:  19.951026622267495\n"
          ]
        },
        {
          "name": "stderr",
          "output_type": "stream",
          "text": [
            "It: 12300, Loss: 2.949e+03, Loss_bcs: 4.934e+01, Loss_res: 2.900e+03 ,Time: 0.00\n",
            "update_res: nan\n",
            "update_bcs1: 0.000e+00\n"
          ]
        },
        {
          "name": "stdout",
          "output_type": "stream",
          "text": [
            "adaptive_constant_bc:  19.77263459966009\n"
          ]
        },
        {
          "name": "stderr",
          "output_type": "stream",
          "text": [
            "It: 12400, Loss: 2.925e+03, Loss_bcs: 4.968e+01, Loss_res: 2.875e+03 ,Time: 0.00\n",
            "update_res: nan\n",
            "update_bcs1: 0.000e+00\n"
          ]
        },
        {
          "name": "stdout",
          "output_type": "stream",
          "text": [
            "adaptive_constant_bc:  19.597207090028405\n"
          ]
        },
        {
          "name": "stderr",
          "output_type": "stream",
          "text": [
            "It: 12500, Loss: 2.900e+03, Loss_bcs: 5.002e+01, Loss_res: 2.850e+03 ,Time: 0.00\n",
            "update_res: nan\n",
            "update_bcs1: 0.000e+00\n"
          ]
        },
        {
          "name": "stdout",
          "output_type": "stream",
          "text": [
            "adaptive_constant_bc:  19.42458335632647\n"
          ]
        },
        {
          "name": "stderr",
          "output_type": "stream",
          "text": [
            "It: 12600, Loss: 2.877e+03, Loss_bcs: 5.035e+01, Loss_res: 2.826e+03 ,Time: 0.00\n",
            "update_res: nan\n",
            "update_bcs1: 0.000e+00\n"
          ]
        },
        {
          "name": "stdout",
          "output_type": "stream",
          "text": [
            "adaptive_constant_bc:  19.254671473964624\n"
          ]
        },
        {
          "name": "stderr",
          "output_type": "stream",
          "text": [
            "It: 12700, Loss: 2.854e+03, Loss_bcs: 5.068e+01, Loss_res: 2.803e+03 ,Time: 0.00\n",
            "update_res: nan\n",
            "update_bcs1: 0.000e+00\n"
          ]
        },
        {
          "name": "stdout",
          "output_type": "stream",
          "text": [
            "adaptive_constant_bc:  19.087358934216567\n"
          ]
        },
        {
          "name": "stderr",
          "output_type": "stream",
          "text": [
            "It: 12800, Loss: 2.831e+03, Loss_bcs: 5.101e+01, Loss_res: 2.780e+03 ,Time: 0.00\n",
            "update_res: nan\n",
            "update_bcs1: 0.000e+00\n"
          ]
        },
        {
          "name": "stdout",
          "output_type": "stream",
          "text": [
            "adaptive_constant_bc:  18.922586832783377\n"
          ]
        },
        {
          "name": "stderr",
          "output_type": "stream",
          "text": [
            "It: 12900, Loss: 2.808e+03, Loss_bcs: 5.134e+01, Loss_res: 2.757e+03 ,Time: 0.00\n",
            "update_res: nan\n",
            "update_bcs1: 0.000e+00\n"
          ]
        },
        {
          "name": "stdout",
          "output_type": "stream",
          "text": [
            "adaptive_constant_bc:  18.760323718046635\n"
          ]
        },
        {
          "name": "stderr",
          "output_type": "stream",
          "text": [
            "It: 13000, Loss: 2.786e+03, Loss_bcs: 5.166e+01, Loss_res: 2.734e+03 ,Time: 0.00\n",
            "update_res: nan\n",
            "update_bcs1: 0.000e+00\n"
          ]
        },
        {
          "name": "stdout",
          "output_type": "stream",
          "text": [
            "adaptive_constant_bc:  18.60056908937657\n"
          ]
        },
        {
          "name": "stderr",
          "output_type": "stream",
          "text": [
            "It: 13100, Loss: 2.764e+03, Loss_bcs: 5.198e+01, Loss_res: 2.712e+03 ,Time: 0.00\n",
            "update_res: nan\n",
            "update_bcs1: 0.000e+00\n"
          ]
        },
        {
          "name": "stdout",
          "output_type": "stream",
          "text": [
            "adaptive_constant_bc:  18.443200206203024\n"
          ]
        },
        {
          "name": "stderr",
          "output_type": "stream",
          "text": [
            "It: 13200, Loss: 2.742e+03, Loss_bcs: 5.230e+01, Loss_res: 2.690e+03 ,Time: 0.00\n",
            "update_res: nan\n",
            "update_bcs1: 0.000e+00\n"
          ]
        },
        {
          "name": "stdout",
          "output_type": "stream",
          "text": [
            "adaptive_constant_bc:  18.288171838068177\n"
          ]
        },
        {
          "name": "stderr",
          "output_type": "stream",
          "text": [
            "It: 13300, Loss: 2.721e+03, Loss_bcs: 5.262e+01, Loss_res: 2.668e+03 ,Time: 0.00\n",
            "update_res: nan\n",
            "update_bcs1: 0.000e+00\n"
          ]
        },
        {
          "name": "stdout",
          "output_type": "stream",
          "text": [
            "adaptive_constant_bc:  18.135414178583297\n"
          ]
        },
        {
          "name": "stderr",
          "output_type": "stream",
          "text": [
            "It: 13400, Loss: 2.700e+03, Loss_bcs: 5.293e+01, Loss_res: 2.647e+03 ,Time: 0.00\n",
            "update_res: nan\n",
            "update_bcs1: 0.000e+00\n"
          ]
        },
        {
          "name": "stdout",
          "output_type": "stream",
          "text": [
            "adaptive_constant_bc:  17.984909785758635\n"
          ]
        },
        {
          "name": "stderr",
          "output_type": "stream",
          "text": [
            "It: 13500, Loss: 2.680e+03, Loss_bcs: 5.325e+01, Loss_res: 2.626e+03 ,Time: 0.00\n",
            "update_res: nan\n",
            "update_bcs1: 0.000e+00\n"
          ]
        },
        {
          "name": "stdout",
          "output_type": "stream",
          "text": [
            "adaptive_constant_bc:  17.836610853102673\n"
          ]
        },
        {
          "name": "stderr",
          "output_type": "stream",
          "text": [
            "It: 13600, Loss: 2.659e+03, Loss_bcs: 5.356e+01, Loss_res: 2.606e+03 ,Time: 0.00\n",
            "update_res: nan\n",
            "update_bcs1: 0.000e+00\n"
          ]
        },
        {
          "name": "stdout",
          "output_type": "stream",
          "text": [
            "adaptive_constant_bc:  17.6904797984513\n"
          ]
        },
        {
          "name": "stderr",
          "output_type": "stream",
          "text": [
            "It: 13700, Loss: 2.639e+03, Loss_bcs: 5.386e+01, Loss_res: 2.585e+03 ,Time: 0.00\n",
            "update_res: nan\n",
            "update_bcs1: 0.000e+00\n"
          ]
        },
        {
          "name": "stdout",
          "output_type": "stream",
          "text": [
            "adaptive_constant_bc:  17.546493644137303\n"
          ]
        },
        {
          "name": "stderr",
          "output_type": "stream",
          "text": [
            "It: 13800, Loss: 2.620e+03, Loss_bcs: 5.417e+01, Loss_res: 2.565e+03 ,Time: 0.00\n",
            "update_res: nan\n",
            "update_bcs1: 0.000e+00\n"
          ]
        },
        {
          "name": "stdout",
          "output_type": "stream",
          "text": [
            "adaptive_constant_bc:  17.404567284788165\n"
          ]
        },
        {
          "name": "stderr",
          "output_type": "stream",
          "text": [
            "It: 13900, Loss: 2.600e+03, Loss_bcs: 5.447e+01, Loss_res: 2.546e+03 ,Time: 0.00\n",
            "update_res: nan\n",
            "update_bcs1: 0.000e+00\n"
          ]
        },
        {
          "name": "stdout",
          "output_type": "stream",
          "text": [
            "adaptive_constant_bc:  17.264691937384637\n"
          ]
        },
        {
          "name": "stderr",
          "output_type": "stream",
          "text": [
            "It: 14000, Loss: 2.581e+03, Loss_bcs: 5.477e+01, Loss_res: 2.526e+03 ,Time: 0.00\n",
            "update_res: nan\n",
            "update_bcs1: 0.000e+00\n"
          ]
        },
        {
          "name": "stdout",
          "output_type": "stream",
          "text": [
            "adaptive_constant_bc:  17.126843669272404\n"
          ]
        },
        {
          "name": "stderr",
          "output_type": "stream",
          "text": [
            "It: 14100, Loss: 2.562e+03, Loss_bcs: 5.507e+01, Loss_res: 2.507e+03 ,Time: 0.00\n",
            "update_res: nan\n",
            "update_bcs1: 0.000e+00\n"
          ]
        },
        {
          "name": "stdout",
          "output_type": "stream",
          "text": [
            "adaptive_constant_bc:  16.99103049099112\n"
          ]
        },
        {
          "name": "stderr",
          "output_type": "stream",
          "text": [
            "It: 14200, Loss: 2.544e+03, Loss_bcs: 5.536e+01, Loss_res: 2.489e+03 ,Time: 0.00\n",
            "update_res: nan\n",
            "update_bcs1: 0.000e+00\n"
          ]
        },
        {
          "name": "stdout",
          "output_type": "stream",
          "text": [
            "adaptive_constant_bc:  16.857206499326413\n"
          ]
        },
        {
          "name": "stderr",
          "output_type": "stream",
          "text": [
            "It: 14300, Loss: 2.526e+03, Loss_bcs: 5.566e+01, Loss_res: 2.470e+03 ,Time: 0.00\n",
            "update_res: nan\n",
            "update_bcs1: 0.000e+00\n"
          ]
        },
        {
          "name": "stdout",
          "output_type": "stream",
          "text": [
            "adaptive_constant_bc:  16.725286120761332\n"
          ]
        },
        {
          "name": "stderr",
          "output_type": "stream",
          "text": [
            "It: 14400, Loss: 2.508e+03, Loss_bcs: 5.595e+01, Loss_res: 2.452e+03 ,Time: 0.00\n",
            "update_res: nan\n",
            "update_bcs1: 0.000e+00\n"
          ]
        },
        {
          "name": "stdout",
          "output_type": "stream",
          "text": [
            "adaptive_constant_bc:  16.59526232196632\n"
          ]
        },
        {
          "name": "stderr",
          "output_type": "stream",
          "text": [
            "It: 14500, Loss: 2.490e+03, Loss_bcs: 5.623e+01, Loss_res: 2.434e+03 ,Time: 0.00\n",
            "update_res: nan\n",
            "update_bcs1: 0.000e+00\n"
          ]
        },
        {
          "name": "stdout",
          "output_type": "stream",
          "text": [
            "adaptive_constant_bc:  16.467135068176212\n"
          ]
        },
        {
          "name": "stderr",
          "output_type": "stream",
          "text": [
            "It: 14600, Loss: 2.473e+03, Loss_bcs: 5.652e+01, Loss_res: 2.416e+03 ,Time: 0.00\n",
            "update_res: nan\n",
            "update_bcs1: 0.000e+00\n"
          ]
        },
        {
          "name": "stdout",
          "output_type": "stream",
          "text": [
            "adaptive_constant_bc:  16.340847799375574\n"
          ]
        },
        {
          "name": "stderr",
          "output_type": "stream",
          "text": [
            "It: 14700, Loss: 2.456e+03, Loss_bcs: 5.680e+01, Loss_res: 2.399e+03 ,Time: 0.00\n",
            "update_res: nan\n",
            "update_bcs1: 0.000e+00\n"
          ]
        },
        {
          "name": "stdout",
          "output_type": "stream",
          "text": [
            "adaptive_constant_bc:  16.21637006952909\n"
          ]
        },
        {
          "name": "stderr",
          "output_type": "stream",
          "text": [
            "It: 14800, Loss: 2.439e+03, Loss_bcs: 5.708e+01, Loss_res: 2.382e+03 ,Time: 0.00\n",
            "update_res: nan\n",
            "update_bcs1: 0.000e+00\n"
          ]
        },
        {
          "name": "stdout",
          "output_type": "stream",
          "text": [
            "adaptive_constant_bc:  16.093654439449367\n"
          ]
        },
        {
          "name": "stderr",
          "output_type": "stream",
          "text": [
            "It: 14900, Loss: 2.422e+03, Loss_bcs: 5.736e+01, Loss_res: 2.365e+03 ,Time: 0.00\n",
            "update_res: nan\n",
            "update_bcs1: 0.000e+00\n"
          ]
        },
        {
          "name": "stdout",
          "output_type": "stream",
          "text": [
            "adaptive_constant_bc:  15.972642352362795\n"
          ]
        },
        {
          "name": "stderr",
          "output_type": "stream",
          "text": [
            "It: 15000, Loss: 2.406e+03, Loss_bcs: 5.764e+01, Loss_res: 2.348e+03 ,Time: 0.00\n",
            "update_res: nan\n",
            "update_bcs1: 0.000e+00\n"
          ]
        },
        {
          "name": "stdout",
          "output_type": "stream",
          "text": [
            "adaptive_constant_bc:  15.853323370320174\n"
          ]
        },
        {
          "name": "stderr",
          "output_type": "stream",
          "text": [
            "It: 15100, Loss: 2.390e+03, Loss_bcs: 5.791e+01, Loss_res: 2.332e+03 ,Time: 0.00\n",
            "update_res: nan\n",
            "update_bcs1: 0.000e+00\n"
          ]
        },
        {
          "name": "stdout",
          "output_type": "stream",
          "text": [
            "adaptive_constant_bc:  15.73571436219058\n"
          ]
        },
        {
          "name": "stderr",
          "output_type": "stream",
          "text": [
            "It: 15200, Loss: 2.374e+03, Loss_bcs: 5.818e+01, Loss_res: 2.316e+03 ,Time: 0.00\n",
            "update_res: nan\n",
            "update_bcs1: 0.000e+00\n"
          ]
        },
        {
          "name": "stdout",
          "output_type": "stream",
          "text": [
            "adaptive_constant_bc:  15.619785137315048\n"
          ]
        },
        {
          "name": "stderr",
          "output_type": "stream",
          "text": [
            "It: 15300, Loss: 2.358e+03, Loss_bcs: 5.845e+01, Loss_res: 2.300e+03 ,Time: 0.00\n",
            "update_res: nan\n",
            "update_bcs1: 0.000e+00\n"
          ]
        },
        {
          "name": "stdout",
          "output_type": "stream",
          "text": [
            "adaptive_constant_bc:  15.505561084055865\n"
          ]
        },
        {
          "name": "stderr",
          "output_type": "stream",
          "text": [
            "It: 15400, Loss: 2.343e+03, Loss_bcs: 5.871e+01, Loss_res: 2.284e+03 ,Time: 0.00\n",
            "update_res: nan\n",
            "update_bcs1: 0.000e+00\n"
          ]
        },
        {
          "name": "stdout",
          "output_type": "stream",
          "text": [
            "adaptive_constant_bc:  15.393003285489405\n"
          ]
        },
        {
          "name": "stderr",
          "output_type": "stream",
          "text": [
            "It: 15500, Loss: 2.328e+03, Loss_bcs: 5.897e+01, Loss_res: 2.269e+03 ,Time: 0.00\n",
            "update_res: nan\n",
            "update_bcs1: 0.000e+00\n"
          ]
        },
        {
          "name": "stdout",
          "output_type": "stream",
          "text": [
            "adaptive_constant_bc:  15.28196132731319\n"
          ]
        },
        {
          "name": "stderr",
          "output_type": "stream",
          "text": [
            "It: 15600, Loss: 2.313e+03, Loss_bcs: 5.923e+01, Loss_res: 2.254e+03 ,Time: 0.00\n",
            "update_res: nan\n",
            "update_bcs1: 0.000e+00\n"
          ]
        },
        {
          "name": "stdout",
          "output_type": "stream",
          "text": [
            "adaptive_constant_bc:  15.172492717128822\n"
          ]
        },
        {
          "name": "stderr",
          "output_type": "stream",
          "text": [
            "It: 15700, Loss: 2.298e+03, Loss_bcs: 5.949e+01, Loss_res: 2.239e+03 ,Time: 0.00\n",
            "update_res: nan\n",
            "update_bcs1: 0.000e+00\n"
          ]
        },
        {
          "name": "stdout",
          "output_type": "stream",
          "text": [
            "adaptive_constant_bc:  15.06464360865291\n"
          ]
        },
        {
          "name": "stderr",
          "output_type": "stream",
          "text": [
            "It: 15800, Loss: 2.284e+03, Loss_bcs: 5.974e+01, Loss_res: 2.224e+03 ,Time: 0.00\n",
            "update_res: nan\n",
            "update_bcs1: 0.000e+00\n"
          ]
        },
        {
          "name": "stdout",
          "output_type": "stream",
          "text": [
            "adaptive_constant_bc:  14.95854409054459\n"
          ]
        },
        {
          "name": "stderr",
          "output_type": "stream",
          "text": [
            "It: 15900, Loss: 2.270e+03, Loss_bcs: 6.000e+01, Loss_res: 2.210e+03 ,Time: 0.00\n",
            "update_res: nan\n",
            "update_bcs1: 0.000e+00\n"
          ]
        },
        {
          "name": "stdout",
          "output_type": "stream",
          "text": [
            "adaptive_constant_bc:  14.85395168548983\n"
          ]
        },
        {
          "name": "stderr",
          "output_type": "stream",
          "text": [
            "It: 16000, Loss: 2.256e+03, Loss_bcs: 6.025e+01, Loss_res: 2.195e+03 ,Time: 0.00\n",
            "update_res: nan\n",
            "update_bcs1: 0.000e+00\n"
          ]
        },
        {
          "name": "stdout",
          "output_type": "stream",
          "text": [
            "adaptive_constant_bc:  14.750795829352159\n"
          ]
        },
        {
          "name": "stderr",
          "output_type": "stream",
          "text": [
            "It: 16100, Loss: 2.242e+03, Loss_bcs: 6.049e+01, Loss_res: 2.181e+03 ,Time: 0.00\n",
            "update_res: nan\n",
            "update_bcs1: 0.000e+00\n"
          ]
        },
        {
          "name": "stdout",
          "output_type": "stream",
          "text": [
            "adaptive_constant_bc:  14.649015905279137\n"
          ]
        },
        {
          "name": "stderr",
          "output_type": "stream",
          "text": [
            "It: 16200, Loss: 2.228e+03, Loss_bcs: 6.074e+01, Loss_res: 2.167e+03 ,Time: 0.00\n",
            "update_res: nan\n",
            "update_bcs1: 0.000e+00\n"
          ]
        },
        {
          "name": "stdout",
          "output_type": "stream",
          "text": [
            "adaptive_constant_bc:  14.54860278531951\n"
          ]
        },
        {
          "name": "stderr",
          "output_type": "stream",
          "text": [
            "It: 16300, Loss: 2.215e+03, Loss_bcs: 6.098e+01, Loss_res: 2.154e+03 ,Time: 0.00\n",
            "update_res: nan\n",
            "update_bcs1: 0.000e+00\n"
          ]
        },
        {
          "name": "stdout",
          "output_type": "stream",
          "text": [
            "adaptive_constant_bc:  14.449583330216871\n"
          ]
        },
        {
          "name": "stderr",
          "output_type": "stream",
          "text": [
            "It: 16400, Loss: 2.202e+03, Loss_bcs: 6.122e+01, Loss_res: 2.140e+03 ,Time: 0.00\n",
            "update_res: nan\n",
            "update_bcs1: 0.000e+00\n"
          ]
        },
        {
          "name": "stdout",
          "output_type": "stream",
          "text": [
            "adaptive_constant_bc:  14.35193564918578\n"
          ]
        },
        {
          "name": "stderr",
          "output_type": "stream",
          "text": [
            "It: 16500, Loss: 2.189e+03, Loss_bcs: 6.146e+01, Loss_res: 2.127e+03 ,Time: 0.00\n",
            "update_res: nan\n",
            "update_bcs1: 0.000e+00\n"
          ]
        },
        {
          "name": "stdout",
          "output_type": "stream",
          "text": [
            "adaptive_constant_bc:  14.255626794758586\n"
          ]
        },
        {
          "name": "stderr",
          "output_type": "stream",
          "text": [
            "It: 16600, Loss: 2.176e+03, Loss_bcs: 6.169e+01, Loss_res: 2.114e+03 ,Time: 0.00\n",
            "update_res: nan\n",
            "update_bcs1: 0.000e+00\n"
          ]
        },
        {
          "name": "stdout",
          "output_type": "stream",
          "text": [
            "adaptive_constant_bc:  14.160599611843072\n"
          ]
        },
        {
          "name": "stderr",
          "output_type": "stream",
          "text": [
            "It: 16700, Loss: 2.163e+03, Loss_bcs: 6.192e+01, Loss_res: 2.101e+03 ,Time: 0.00\n",
            "update_res: nan\n",
            "update_bcs1: 0.000e+00\n"
          ]
        },
        {
          "name": "stdout",
          "output_type": "stream",
          "text": [
            "adaptive_constant_bc:  14.066796220990613\n"
          ]
        },
        {
          "name": "stderr",
          "output_type": "stream",
          "text": [
            "It: 16800, Loss: 2.151e+03, Loss_bcs: 6.215e+01, Loss_res: 2.088e+03 ,Time: 0.00\n",
            "update_res: nan\n",
            "update_bcs1: 0.000e+00\n"
          ]
        },
        {
          "name": "stdout",
          "output_type": "stream",
          "text": [
            "adaptive_constant_bc:  13.974188206665781\n"
          ]
        },
        {
          "name": "stderr",
          "output_type": "stream",
          "text": [
            "It: 16900, Loss: 2.138e+03, Loss_bcs: 6.238e+01, Loss_res: 2.076e+03 ,Time: 0.00\n",
            "update_res: nan\n",
            "update_bcs1: 0.000e+00\n"
          ]
        },
        {
          "name": "stdout",
          "output_type": "stream",
          "text": [
            "adaptive_constant_bc:  13.88278006159204\n"
          ]
        },
        {
          "name": "stderr",
          "output_type": "stream",
          "text": [
            "It: 17000, Loss: 2.126e+03, Loss_bcs: 6.261e+01, Loss_res: 2.064e+03 ,Time: 0.02\n",
            "update_res: nan\n",
            "update_bcs1: 0.000e+00\n"
          ]
        },
        {
          "name": "stdout",
          "output_type": "stream",
          "text": [
            "adaptive_constant_bc:  13.792625474591237\n"
          ]
        },
        {
          "name": "stderr",
          "output_type": "stream",
          "text": [
            "It: 17100, Loss: 2.114e+03, Loss_bcs: 6.283e+01, Loss_res: 2.052e+03 ,Time: 0.00\n",
            "update_res: nan\n",
            "update_bcs1: 0.000e+00\n"
          ]
        },
        {
          "name": "stdout",
          "output_type": "stream",
          "text": [
            "adaptive_constant_bc:  13.703678765789823\n"
          ]
        },
        {
          "name": "stderr",
          "output_type": "stream",
          "text": [
            "It: 17200, Loss: 2.103e+03, Loss_bcs: 6.306e+01, Loss_res: 2.040e+03 ,Time: 0.00\n",
            "update_res: nan\n",
            "update_bcs1: 0.000e+00\n"
          ]
        },
        {
          "name": "stdout",
          "output_type": "stream",
          "text": [
            "adaptive_constant_bc:  13.615933926254128\n"
          ]
        },
        {
          "name": "stderr",
          "output_type": "stream",
          "text": [
            "It: 17300, Loss: 2.091e+03, Loss_bcs: 6.328e+01, Loss_res: 2.028e+03 ,Time: 0.00\n",
            "update_res: nan\n",
            "update_bcs1: 0.000e+00\n"
          ]
        },
        {
          "name": "stdout",
          "output_type": "stream",
          "text": [
            "adaptive_constant_bc:  13.5293605982237\n"
          ]
        },
        {
          "name": "stderr",
          "output_type": "stream",
          "text": [
            "It: 17400, Loss: 2.080e+03, Loss_bcs: 6.349e+01, Loss_res: 2.016e+03 ,Time: 0.00\n",
            "update_res: nan\n",
            "update_bcs1: 0.000e+00\n"
          ]
        },
        {
          "name": "stdout",
          "output_type": "stream",
          "text": [
            "adaptive_constant_bc:  13.443883618586721\n"
          ]
        },
        {
          "name": "stderr",
          "output_type": "stream",
          "text": [
            "It: 17500, Loss: 2.069e+03, Loss_bcs: 6.371e+01, Loss_res: 2.005e+03 ,Time: 0.00\n",
            "update_res: nan\n",
            "update_bcs1: 0.000e+00\n"
          ]
        },
        {
          "name": "stdout",
          "output_type": "stream",
          "text": [
            "adaptive_constant_bc:  13.35946757854337\n"
          ]
        },
        {
          "name": "stderr",
          "output_type": "stream",
          "text": [
            "It: 17600, Loss: 2.057e+03, Loss_bcs: 6.392e+01, Loss_res: 1.994e+03 ,Time: 0.00\n",
            "update_res: nan\n",
            "update_bcs1: 0.000e+00\n"
          ]
        },
        {
          "name": "stdout",
          "output_type": "stream",
          "text": [
            "adaptive_constant_bc:  13.27611753059294\n"
          ]
        },
        {
          "name": "stderr",
          "output_type": "stream",
          "text": [
            "It: 17700, Loss: 2.047e+03, Loss_bcs: 6.413e+01, Loss_res: 1.982e+03 ,Time: 0.00\n",
            "update_res: nan\n",
            "update_bcs1: 0.000e+00\n"
          ]
        },
        {
          "name": "stdout",
          "output_type": "stream",
          "text": [
            "adaptive_constant_bc:  13.193862984997763\n"
          ]
        },
        {
          "name": "stderr",
          "output_type": "stream",
          "text": [
            "It: 17800, Loss: 2.036e+03, Loss_bcs: 6.434e+01, Loss_res: 1.971e+03 ,Time: 0.00\n",
            "update_res: nan\n",
            "update_bcs1: 0.000e+00\n"
          ]
        },
        {
          "name": "stdout",
          "output_type": "stream",
          "text": [
            "adaptive_constant_bc:  13.112693345698558\n"
          ]
        },
        {
          "name": "stderr",
          "output_type": "stream",
          "text": [
            "It: 17900, Loss: 2.025e+03, Loss_bcs: 6.455e+01, Loss_res: 1.961e+03 ,Time: 0.00\n",
            "update_res: nan\n",
            "update_bcs1: 0.000e+00\n"
          ]
        },
        {
          "name": "stdout",
          "output_type": "stream",
          "text": [
            "adaptive_constant_bc:  13.032595975924304\n"
          ]
        },
        {
          "name": "stderr",
          "output_type": "stream",
          "text": [
            "It: 18000, Loss: 2.015e+03, Loss_bcs: 6.476e+01, Loss_res: 1.950e+03 ,Time: 0.00\n",
            "update_res: nan\n",
            "update_bcs1: 0.000e+00\n"
          ]
        },
        {
          "name": "stdout",
          "output_type": "stream",
          "text": [
            "adaptive_constant_bc:  12.953531171158552\n"
          ]
        },
        {
          "name": "stderr",
          "output_type": "stream",
          "text": [
            "It: 18100, Loss: 2.005e+03, Loss_bcs: 6.496e+01, Loss_res: 1.940e+03 ,Time: 0.00\n",
            "update_res: nan\n",
            "update_bcs1: 0.000e+00\n"
          ]
        },
        {
          "name": "stdout",
          "output_type": "stream",
          "text": [
            "adaptive_constant_bc:  12.87544516460662\n"
          ]
        },
        {
          "name": "stderr",
          "output_type": "stream",
          "text": [
            "It: 18200, Loss: 1.994e+03, Loss_bcs: 6.516e+01, Loss_res: 1.929e+03 ,Time: 0.00\n",
            "update_res: nan\n",
            "update_bcs1: 0.000e+00\n"
          ]
        },
        {
          "name": "stdout",
          "output_type": "stream",
          "text": [
            "adaptive_constant_bc:  12.798317164591996\n"
          ]
        },
        {
          "name": "stderr",
          "output_type": "stream",
          "text": [
            "It: 18300, Loss: 1.984e+03, Loss_bcs: 6.536e+01, Loss_res: 1.919e+03 ,Time: 0.00\n",
            "update_res: nan\n",
            "update_bcs1: 0.000e+00\n"
          ]
        },
        {
          "name": "stdout",
          "output_type": "stream",
          "text": [
            "adaptive_constant_bc:  12.722121750318733\n"
          ]
        },
        {
          "name": "stderr",
          "output_type": "stream",
          "text": [
            "It: 18400, Loss: 1.975e+03, Loss_bcs: 6.556e+01, Loss_res: 1.909e+03 ,Time: 0.00\n",
            "update_res: nan\n",
            "update_bcs1: 0.000e+00\n"
          ]
        },
        {
          "name": "stdout",
          "output_type": "stream",
          "text": [
            "adaptive_constant_bc:  12.64687294552145\n"
          ]
        },
        {
          "name": "stderr",
          "output_type": "stream",
          "text": [
            "It: 18500, Loss: 1.965e+03, Loss_bcs: 6.575e+01, Loss_res: 1.899e+03 ,Time: 0.00\n",
            "update_res: nan\n",
            "update_bcs1: 0.000e+00\n"
          ]
        },
        {
          "name": "stdout",
          "output_type": "stream",
          "text": [
            "adaptive_constant_bc:  12.572622131069915\n"
          ]
        },
        {
          "name": "stderr",
          "output_type": "stream",
          "text": [
            "It: 18600, Loss: 1.955e+03, Loss_bcs: 6.595e+01, Loss_res: 1.889e+03 ,Time: 0.00\n",
            "update_res: nan\n",
            "update_bcs1: 0.000e+00\n"
          ]
        },
        {
          "name": "stdout",
          "output_type": "stream",
          "text": [
            "adaptive_constant_bc:  12.499341242810635\n"
          ]
        },
        {
          "name": "stderr",
          "output_type": "stream",
          "text": [
            "It: 18700, Loss: 1.946e+03, Loss_bcs: 6.614e+01, Loss_res: 1.880e+03 ,Time: 0.00\n",
            "update_res: nan\n",
            "update_bcs1: 0.000e+00\n"
          ]
        },
        {
          "name": "stdout",
          "output_type": "stream",
          "text": [
            "adaptive_constant_bc:  12.427016331723236\n"
          ]
        },
        {
          "name": "stderr",
          "output_type": "stream",
          "text": [
            "It: 18800, Loss: 1.937e+03, Loss_bcs: 6.633e+01, Loss_res: 1.870e+03 ,Time: 0.00\n",
            "update_res: nan\n",
            "update_bcs1: 0.000e+00\n"
          ]
        },
        {
          "name": "stdout",
          "output_type": "stream",
          "text": [
            "adaptive_constant_bc:  12.355631810671754\n"
          ]
        },
        {
          "name": "stderr",
          "output_type": "stream",
          "text": [
            "It: 18900, Loss: 1.928e+03, Loss_bcs: 6.651e+01, Loss_res: 1.861e+03 ,Time: 0.00\n",
            "update_res: nan\n",
            "update_bcs1: 0.000e+00\n"
          ]
        },
        {
          "name": "stdout",
          "output_type": "stream",
          "text": [
            "adaptive_constant_bc:  12.28514982804774\n"
          ]
        },
        {
          "name": "stderr",
          "output_type": "stream",
          "text": [
            "It: 19000, Loss: 1.919e+03, Loss_bcs: 6.670e+01, Loss_res: 1.852e+03 ,Time: 0.00\n",
            "update_res: nan\n",
            "update_bcs1: 0.000e+00\n"
          ]
        },
        {
          "name": "stdout",
          "output_type": "stream",
          "text": [
            "adaptive_constant_bc:  12.215505185767226\n"
          ]
        },
        {
          "name": "stderr",
          "output_type": "stream",
          "text": [
            "It: 19100, Loss: 1.910e+03, Loss_bcs: 6.688e+01, Loss_res: 1.843e+03 ,Time: 0.00\n",
            "update_res: nan\n",
            "update_bcs1: 0.000e+00\n"
          ]
        },
        {
          "name": "stdout",
          "output_type": "stream",
          "text": [
            "adaptive_constant_bc:  12.146695233485875\n"
          ]
        },
        {
          "name": "stderr",
          "output_type": "stream",
          "text": [
            "It: 19200, Loss: 1.901e+03, Loss_bcs: 6.707e+01, Loss_res: 1.834e+03 ,Time: 0.00\n",
            "update_res: nan\n",
            "update_bcs1: 0.000e+00\n"
          ]
        },
        {
          "name": "stdout",
          "output_type": "stream",
          "text": [
            "adaptive_constant_bc:  12.078716416338759\n"
          ]
        },
        {
          "name": "stderr",
          "output_type": "stream",
          "text": [
            "It: 19300, Loss: 1.892e+03, Loss_bcs: 6.725e+01, Loss_res: 1.825e+03 ,Time: 0.00\n",
            "update_res: nan\n",
            "update_bcs1: 0.000e+00\n"
          ]
        },
        {
          "name": "stdout",
          "output_type": "stream",
          "text": [
            "adaptive_constant_bc:  12.011598003639158\n"
          ]
        },
        {
          "name": "stderr",
          "output_type": "stream",
          "text": [
            "It: 19400, Loss: 1.884e+03, Loss_bcs: 6.742e+01, Loss_res: 1.816e+03 ,Time: 0.00\n",
            "update_res: nan\n",
            "update_bcs1: 0.000e+00\n"
          ]
        },
        {
          "name": "stdout",
          "output_type": "stream",
          "text": [
            "adaptive_constant_bc:  11.945359890255743\n"
          ]
        },
        {
          "name": "stderr",
          "output_type": "stream",
          "text": [
            "It: 19500, Loss: 1.876e+03, Loss_bcs: 6.760e+01, Loss_res: 1.808e+03 ,Time: 0.00\n",
            "update_res: nan\n",
            "update_bcs1: 0.000e+00\n"
          ]
        },
        {
          "name": "stdout",
          "output_type": "stream",
          "text": [
            "adaptive_constant_bc:  11.879966887047198\n"
          ]
        },
        {
          "name": "stderr",
          "output_type": "stream",
          "text": [
            "It: 19600, Loss: 1.867e+03, Loss_bcs: 6.778e+01, Loss_res: 1.799e+03 ,Time: 0.00\n",
            "update_res: nan\n",
            "update_bcs1: 0.000e+00\n"
          ]
        },
        {
          "name": "stdout",
          "output_type": "stream",
          "text": [
            "adaptive_constant_bc:  11.815461628492669\n"
          ]
        },
        {
          "name": "stderr",
          "output_type": "stream",
          "text": [
            "It: 19700, Loss: 1.859e+03, Loss_bcs: 6.795e+01, Loss_res: 1.791e+03 ,Time: 0.00\n",
            "update_res: nan\n",
            "update_bcs1: 0.000e+00\n"
          ]
        },
        {
          "name": "stdout",
          "output_type": "stream",
          "text": [
            "adaptive_constant_bc:  11.751777318702198\n"
          ]
        },
        {
          "name": "stderr",
          "output_type": "stream",
          "text": [
            "It: 19800, Loss: 1.851e+03, Loss_bcs: 6.812e+01, Loss_res: 1.783e+03 ,Time: 0.00\n",
            "update_res: nan\n",
            "update_bcs1: 0.000e+00\n"
          ]
        },
        {
          "name": "stdout",
          "output_type": "stream",
          "text": [
            "adaptive_constant_bc:  11.688878252610017\n"
          ]
        },
        {
          "name": "stderr",
          "output_type": "stream",
          "text": [
            "It: 19900, Loss: 1.843e+03, Loss_bcs: 6.829e+01, Loss_res: 1.775e+03 ,Time: 0.00\n",
            "update_res: nan\n",
            "update_bcs1: 0.000e+00\n"
          ]
        },
        {
          "name": "stdout",
          "output_type": "stream",
          "text": [
            "adaptive_constant_bc:  11.62673370257809\n"
          ]
        },
        {
          "name": "stderr",
          "output_type": "stream",
          "text": [
            "It: 20000, Loss: 1.835e+03, Loss_bcs: 6.845e+01, Loss_res: 1.767e+03 ,Time: 0.00\n",
            "update_res: nan\n",
            "update_bcs1: 0.000e+00\n"
          ]
        },
        {
          "name": "stdout",
          "output_type": "stream",
          "text": [
            "adaptive_constant_bc:  11.565309425641896\n"
          ]
        },
        {
          "name": "stderr",
          "output_type": "stream",
          "text": [
            "It: 20100, Loss: 1.828e+03, Loss_bcs: 6.862e+01, Loss_res: 1.759e+03 ,Time: 0.00\n",
            "update_res: nan\n",
            "update_bcs1: 0.000e+00\n"
          ]
        },
        {
          "name": "stdout",
          "output_type": "stream",
          "text": [
            "adaptive_constant_bc:  11.504671266517539\n"
          ]
        },
        {
          "name": "stderr",
          "output_type": "stream",
          "text": [
            "It: 20200, Loss: 1.820e+03, Loss_bcs: 6.878e+01, Loss_res: 1.751e+03 ,Time: 0.00\n",
            "update_res: nan\n",
            "update_bcs1: 0.000e+00\n"
          ]
        },
        {
          "name": "stdout",
          "output_type": "stream",
          "text": [
            "adaptive_constant_bc:  11.444841834413669\n"
          ]
        },
        {
          "name": "stderr",
          "output_type": "stream",
          "text": [
            "It: 20300, Loss: 1.813e+03, Loss_bcs: 6.894e+01, Loss_res: 1.744e+03 ,Time: 0.00\n",
            "update_res: nan\n",
            "update_bcs1: 0.000e+00\n"
          ]
        },
        {
          "name": "stdout",
          "output_type": "stream",
          "text": [
            "adaptive_constant_bc:  11.38588139873583\n"
          ]
        },
        {
          "name": "stderr",
          "output_type": "stream",
          "text": [
            "It: 20400, Loss: 1.805e+03, Loss_bcs: 6.910e+01, Loss_res: 1.736e+03 ,Time: 0.00\n",
            "update_res: nan\n",
            "update_bcs1: 0.000e+00\n"
          ]
        },
        {
          "name": "stdout",
          "output_type": "stream",
          "text": [
            "adaptive_constant_bc:  11.327699811374336\n"
          ]
        },
        {
          "name": "stderr",
          "output_type": "stream",
          "text": [
            "It: 20500, Loss: 1.798e+03, Loss_bcs: 6.926e+01, Loss_res: 1.729e+03 ,Time: 0.00\n",
            "update_res: nan\n",
            "update_bcs1: 0.000e+00\n"
          ]
        },
        {
          "name": "stdout",
          "output_type": "stream",
          "text": [
            "adaptive_constant_bc:  11.270290708047902\n"
          ]
        },
        {
          "name": "stderr",
          "output_type": "stream",
          "text": [
            "It: 20600, Loss: 1.791e+03, Loss_bcs: 6.942e+01, Loss_res: 1.721e+03 ,Time: 0.00\n",
            "update_res: nan\n",
            "update_bcs1: 0.000e+00\n"
          ]
        },
        {
          "name": "stdout",
          "output_type": "stream",
          "text": [
            "adaptive_constant_bc:  11.213668186896948\n"
          ]
        },
        {
          "name": "stderr",
          "output_type": "stream",
          "text": [
            "It: 20700, Loss: 1.784e+03, Loss_bcs: 6.957e+01, Loss_res: 1.714e+03 ,Time: 0.00\n",
            "update_res: nan\n",
            "update_bcs1: 0.000e+00\n"
          ]
        },
        {
          "name": "stdout",
          "output_type": "stream",
          "text": [
            "adaptive_constant_bc:  11.157766332382408\n"
          ]
        },
        {
          "name": "stderr",
          "output_type": "stream",
          "text": [
            "It: 20800, Loss: 1.777e+03, Loss_bcs: 6.972e+01, Loss_res: 1.707e+03 ,Time: 0.00\n",
            "update_res: nan\n",
            "update_bcs1: 0.000e+00\n"
          ]
        },
        {
          "name": "stdout",
          "output_type": "stream",
          "text": [
            "adaptive_constant_bc:  11.102579810017867\n"
          ]
        },
        {
          "name": "stderr",
          "output_type": "stream",
          "text": [
            "It: 20900, Loss: 1.770e+03, Loss_bcs: 6.987e+01, Loss_res: 1.700e+03 ,Time: 0.00\n",
            "update_res: nan\n",
            "update_bcs1: 0.000e+00\n"
          ]
        },
        {
          "name": "stdout",
          "output_type": "stream",
          "text": [
            "adaptive_constant_bc:  11.048061354868935\n"
          ]
        },
        {
          "name": "stderr",
          "output_type": "stream",
          "text": [
            "It: 21000, Loss: 1.763e+03, Loss_bcs: 7.002e+01, Loss_res: 1.693e+03 ,Time: 0.01\n",
            "update_res: nan\n",
            "update_bcs1: 0.000e+00\n"
          ]
        },
        {
          "name": "stdout",
          "output_type": "stream",
          "text": [
            "adaptive_constant_bc:  10.99418534822294\n"
          ]
        },
        {
          "name": "stderr",
          "output_type": "stream",
          "text": [
            "It: 21100, Loss: 1.757e+03, Loss_bcs: 7.016e+01, Loss_res: 1.686e+03 ,Time: 0.00\n",
            "update_res: nan\n",
            "update_bcs1: 0.000e+00\n"
          ]
        },
        {
          "name": "stdout",
          "output_type": "stream",
          "text": [
            "adaptive_constant_bc:  10.940964223433914\n"
          ]
        },
        {
          "name": "stderr",
          "output_type": "stream",
          "text": [
            "It: 21200, Loss: 1.750e+03, Loss_bcs: 7.031e+01, Loss_res: 1.680e+03 ,Time: 0.00\n",
            "update_res: nan\n",
            "update_bcs1: 0.000e+00\n"
          ]
        },
        {
          "name": "stdout",
          "output_type": "stream",
          "text": [
            "adaptive_constant_bc:  10.888375715311856\n"
          ]
        },
        {
          "name": "stderr",
          "output_type": "stream",
          "text": [
            "It: 21300, Loss: 1.744e+03, Loss_bcs: 7.045e+01, Loss_res: 1.673e+03 ,Time: 0.00\n",
            "update_res: nan\n",
            "update_bcs1: 0.000e+00\n"
          ]
        },
        {
          "name": "stdout",
          "output_type": "stream",
          "text": [
            "adaptive_constant_bc:  10.836458347519427\n"
          ]
        },
        {
          "name": "stderr",
          "output_type": "stream",
          "text": [
            "It: 21400, Loss: 1.737e+03, Loss_bcs: 7.059e+01, Loss_res: 1.667e+03 ,Time: 0.00\n",
            "update_res: nan\n",
            "update_bcs1: 0.000e+00\n"
          ]
        },
        {
          "name": "stdout",
          "output_type": "stream",
          "text": [
            "adaptive_constant_bc:  10.78524410017097\n"
          ]
        },
        {
          "name": "stderr",
          "output_type": "stream",
          "text": [
            "It: 21500, Loss: 1.731e+03, Loss_bcs: 7.073e+01, Loss_res: 1.660e+03 ,Time: 0.00\n",
            "update_res: nan\n",
            "update_bcs1: 0.000e+00\n"
          ]
        },
        {
          "name": "stdout",
          "output_type": "stream",
          "text": [
            "adaptive_constant_bc:  10.734686543615203\n"
          ]
        },
        {
          "name": "stderr",
          "output_type": "stream",
          "text": [
            "It: 21600, Loss: 1.725e+03, Loss_bcs: 7.086e+01, Loss_res: 1.654e+03 ,Time: 0.00\n",
            "update_res: nan\n",
            "update_bcs1: 0.000e+00\n"
          ]
        },
        {
          "name": "stdout",
          "output_type": "stream",
          "text": [
            "adaptive_constant_bc:  10.68479095177264\n"
          ]
        },
        {
          "name": "stderr",
          "output_type": "stream",
          "text": [
            "It: 21700, Loss: 1.719e+03, Loss_bcs: 7.100e+01, Loss_res: 1.648e+03 ,Time: 0.00\n",
            "update_res: nan\n",
            "update_bcs1: 0.000e+00\n"
          ]
        },
        {
          "name": "stdout",
          "output_type": "stream",
          "text": [
            "adaptive_constant_bc:  10.635531455659928\n"
          ]
        },
        {
          "name": "stderr",
          "output_type": "stream",
          "text": [
            "It: 21800, Loss: 1.712e+03, Loss_bcs: 7.113e+01, Loss_res: 1.641e+03 ,Time: 0.00\n",
            "update_res: nan\n",
            "update_bcs1: 0.000e+00\n"
          ]
        },
        {
          "name": "stdout",
          "output_type": "stream",
          "text": [
            "adaptive_constant_bc:  10.586873142224997\n"
          ]
        },
        {
          "name": "stderr",
          "output_type": "stream",
          "text": [
            "It: 21900, Loss: 1.707e+03, Loss_bcs: 7.126e+01, Loss_res: 1.635e+03 ,Time: 0.00\n",
            "update_res: nan\n",
            "update_bcs1: 0.000e+00\n"
          ]
        },
        {
          "name": "stdout",
          "output_type": "stream",
          "text": [
            "adaptive_constant_bc:  10.538792555015258\n"
          ]
        },
        {
          "name": "stderr",
          "output_type": "stream",
          "text": [
            "It: 22000, Loss: 1.701e+03, Loss_bcs: 7.139e+01, Loss_res: 1.629e+03 ,Time: 0.00\n",
            "update_res: nan\n",
            "update_bcs1: 0.000e+00\n"
          ]
        },
        {
          "name": "stdout",
          "output_type": "stream",
          "text": [
            "adaptive_constant_bc:  10.49125263286087\n"
          ]
        },
        {
          "name": "stderr",
          "output_type": "stream",
          "text": [
            "It: 22100, Loss: 1.695e+03, Loss_bcs: 7.152e+01, Loss_res: 1.623e+03 ,Time: 0.00\n",
            "update_res: nan\n",
            "update_bcs1: 0.000e+00\n"
          ]
        },
        {
          "name": "stdout",
          "output_type": "stream",
          "text": [
            "adaptive_constant_bc:  10.444228492496798\n"
          ]
        },
        {
          "name": "stderr",
          "output_type": "stream",
          "text": [
            "It: 22200, Loss: 1.689e+03, Loss_bcs: 7.165e+01, Loss_res: 1.617e+03 ,Time: 0.00\n",
            "update_res: nan\n",
            "update_bcs1: 0.000e+00\n"
          ]
        },
        {
          "name": "stdout",
          "output_type": "stream",
          "text": [
            "adaptive_constant_bc:  10.397714426781032\n"
          ]
        },
        {
          "name": "stderr",
          "output_type": "stream",
          "text": [
            "It: 22300, Loss: 1.683e+03, Loss_bcs: 7.178e+01, Loss_res: 1.612e+03 ,Time: 0.00\n",
            "update_res: nan\n",
            "update_bcs1: 0.000e+00\n"
          ]
        },
        {
          "name": "stdout",
          "output_type": "stream",
          "text": [
            "adaptive_constant_bc:  10.351741394549693\n"
          ]
        },
        {
          "name": "stderr",
          "output_type": "stream",
          "text": [
            "It: 22400, Loss: 1.678e+03, Loss_bcs: 7.190e+01, Loss_res: 1.606e+03 ,Time: 0.00\n",
            "update_res: nan\n",
            "update_bcs1: 0.000e+00\n"
          ]
        },
        {
          "name": "stdout",
          "output_type": "stream",
          "text": [
            "adaptive_constant_bc:  10.306288815868125\n"
          ]
        },
        {
          "name": "stderr",
          "output_type": "stream",
          "text": [
            "It: 22500, Loss: 1.672e+03, Loss_bcs: 7.203e+01, Loss_res: 1.600e+03 ,Time: 0.00\n",
            "update_res: nan\n",
            "update_bcs1: 0.000e+00\n"
          ]
        },
        {
          "name": "stdout",
          "output_type": "stream",
          "text": [
            "adaptive_constant_bc:  10.261379642344863\n"
          ]
        },
        {
          "name": "stderr",
          "output_type": "stream",
          "text": [
            "It: 22600, Loss: 1.667e+03, Loss_bcs: 7.215e+01, Loss_res: 1.595e+03 ,Time: 0.00\n",
            "update_res: nan\n",
            "update_bcs1: 0.000e+00\n"
          ]
        },
        {
          "name": "stdout",
          "output_type": "stream",
          "text": [
            "adaptive_constant_bc:  10.21707929156284\n"
          ]
        },
        {
          "name": "stderr",
          "output_type": "stream",
          "text": [
            "It: 22700, Loss: 1.662e+03, Loss_bcs: 7.227e+01, Loss_res: 1.589e+03 ,Time: 0.00\n",
            "update_res: nan\n",
            "update_bcs1: 0.000e+00\n"
          ]
        },
        {
          "name": "stdout",
          "output_type": "stream",
          "text": [
            "adaptive_constant_bc:  10.173327217197604\n"
          ]
        },
        {
          "name": "stderr",
          "output_type": "stream",
          "text": [
            "It: 22800, Loss: 1.656e+03, Loss_bcs: 7.239e+01, Loss_res: 1.584e+03 ,Time: 0.00\n",
            "update_res: nan\n",
            "update_bcs1: 0.000e+00\n"
          ]
        },
        {
          "name": "stdout",
          "output_type": "stream",
          "text": [
            "adaptive_constant_bc:  10.130139306764317\n"
          ]
        },
        {
          "name": "stderr",
          "output_type": "stream",
          "text": [
            "It: 22900, Loss: 1.651e+03, Loss_bcs: 7.250e+01, Loss_res: 1.579e+03 ,Time: 0.00\n",
            "update_res: nan\n",
            "update_bcs1: 0.000e+00\n"
          ]
        },
        {
          "name": "stdout",
          "output_type": "stream",
          "text": [
            "adaptive_constant_bc:  10.0875082585258\n"
          ]
        },
        {
          "name": "stderr",
          "output_type": "stream",
          "text": [
            "It: 23000, Loss: 1.646e+03, Loss_bcs: 7.262e+01, Loss_res: 1.573e+03 ,Time: 0.00\n",
            "update_res: nan\n",
            "update_bcs1: 0.000e+00\n"
          ]
        },
        {
          "name": "stdout",
          "output_type": "stream",
          "text": [
            "adaptive_constant_bc:  10.045326299410862\n"
          ]
        },
        {
          "name": "stderr",
          "output_type": "stream",
          "text": [
            "It: 23100, Loss: 1.641e+03, Loss_bcs: 7.274e+01, Loss_res: 1.568e+03 ,Time: 0.00\n",
            "update_res: nan\n",
            "update_bcs1: 0.000e+00\n"
          ]
        },
        {
          "name": "stdout",
          "output_type": "stream",
          "text": [
            "adaptive_constant_bc:  10.00365309941779\n"
          ]
        },
        {
          "name": "stderr",
          "output_type": "stream",
          "text": [
            "It: 23200, Loss: 1.636e+03, Loss_bcs: 7.285e+01, Loss_res: 1.563e+03 ,Time: 0.00\n",
            "update_res: nan\n",
            "update_bcs1: 0.000e+00\n"
          ]
        },
        {
          "name": "stdout",
          "output_type": "stream",
          "text": [
            "adaptive_constant_bc:  9.962430140395895\n"
          ]
        },
        {
          "name": "stderr",
          "output_type": "stream",
          "text": [
            "It: 23300, Loss: 1.631e+03, Loss_bcs: 7.296e+01, Loss_res: 1.558e+03 ,Time: 0.00\n",
            "update_res: nan\n",
            "update_bcs1: 0.000e+00\n"
          ]
        },
        {
          "name": "stdout",
          "output_type": "stream",
          "text": [
            "adaptive_constant_bc:  9.921661742314168\n"
          ]
        },
        {
          "name": "stderr",
          "output_type": "stream",
          "text": [
            "It: 23400, Loss: 1.626e+03, Loss_bcs: 7.307e+01, Loss_res: 1.553e+03 ,Time: 0.00\n",
            "update_res: nan\n",
            "update_bcs1: 0.000e+00\n"
          ]
        },
        {
          "name": "stdout",
          "output_type": "stream",
          "text": [
            "adaptive_constant_bc:  9.881323647283725\n"
          ]
        },
        {
          "name": "stderr",
          "output_type": "stream",
          "text": [
            "It: 23500, Loss: 1.621e+03, Loss_bcs: 7.319e+01, Loss_res: 1.548e+03 ,Time: 0.00\n",
            "update_res: nan\n",
            "update_bcs1: 0.000e+00\n"
          ]
        },
        {
          "name": "stdout",
          "output_type": "stream",
          "text": [
            "adaptive_constant_bc:  9.841383970129357\n"
          ]
        },
        {
          "name": "stderr",
          "output_type": "stream",
          "text": [
            "It: 23600, Loss: 1.617e+03, Loss_bcs: 7.329e+01, Loss_res: 1.543e+03 ,Time: 0.00\n",
            "update_res: nan\n",
            "update_bcs1: 0.000e+00\n"
          ]
        },
        {
          "name": "stdout",
          "output_type": "stream",
          "text": [
            "adaptive_constant_bc:  9.801896923688055\n"
          ]
        },
        {
          "name": "stderr",
          "output_type": "stream",
          "text": [
            "It: 23700, Loss: 1.612e+03, Loss_bcs: 7.340e+01, Loss_res: 1.539e+03 ,Time: 0.00\n",
            "update_res: nan\n",
            "update_bcs1: 0.000e+00\n"
          ]
        },
        {
          "name": "stdout",
          "output_type": "stream",
          "text": [
            "adaptive_constant_bc:  9.762820653231813\n"
          ]
        },
        {
          "name": "stderr",
          "output_type": "stream",
          "text": [
            "It: 23800, Loss: 1.607e+03, Loss_bcs: 7.351e+01, Loss_res: 1.534e+03 ,Time: 0.00\n",
            "update_res: nan\n",
            "update_bcs1: 0.000e+00\n"
          ]
        },
        {
          "name": "stdout",
          "output_type": "stream",
          "text": [
            "adaptive_constant_bc:  9.724216280153787\n"
          ]
        },
        {
          "name": "stderr",
          "output_type": "stream",
          "text": [
            "It: 23900, Loss: 1.603e+03, Loss_bcs: 7.362e+01, Loss_res: 1.529e+03 ,Time: 0.00\n",
            "update_res: nan\n",
            "update_bcs1: 0.000e+00\n"
          ]
        },
        {
          "name": "stdout",
          "output_type": "stream",
          "text": [
            "adaptive_constant_bc:  9.686040855796058\n"
          ]
        },
        {
          "name": "stderr",
          "output_type": "stream",
          "text": [
            "It: 24000, Loss: 1.598e+03, Loss_bcs: 7.372e+01, Loss_res: 1.525e+03 ,Time: 0.00\n",
            "update_res: nan\n",
            "update_bcs1: 0.000e+00\n"
          ]
        },
        {
          "name": "stdout",
          "output_type": "stream",
          "text": [
            "adaptive_constant_bc:  9.648375388347878\n"
          ]
        },
        {
          "name": "stderr",
          "output_type": "stream",
          "text": [
            "It: 24100, Loss: 1.594e+03, Loss_bcs: 7.383e+01, Loss_res: 1.520e+03 ,Time: 0.00\n",
            "update_res: nan\n",
            "update_bcs1: 0.000e+00\n"
          ]
        },
        {
          "name": "stdout",
          "output_type": "stream",
          "text": [
            "adaptive_constant_bc:  9.611178244394118\n"
          ]
        },
        {
          "name": "stderr",
          "output_type": "stream",
          "text": [
            "It: 24200, Loss: 1.590e+03, Loss_bcs: 7.393e+01, Loss_res: 1.516e+03 ,Time: 0.00\n",
            "update_res: nan\n",
            "update_bcs1: 0.000e+00\n"
          ]
        },
        {
          "name": "stdout",
          "output_type": "stream",
          "text": [
            "adaptive_constant_bc:  9.574501894177313\n"
          ]
        },
        {
          "name": "stderr",
          "output_type": "stream",
          "text": [
            "It: 24300, Loss: 1.585e+03, Loss_bcs: 7.403e+01, Loss_res: 1.511e+03 ,Time: 0.00\n",
            "update_res: nan\n",
            "update_bcs1: 0.000e+00\n"
          ]
        },
        {
          "name": "stdout",
          "output_type": "stream",
          "text": [
            "adaptive_constant_bc:  9.538269319669642\n"
          ]
        },
        {
          "name": "stderr",
          "output_type": "stream",
          "text": [
            "It: 24400, Loss: 1.581e+03, Loss_bcs: 7.413e+01, Loss_res: 1.507e+03 ,Time: 0.00\n",
            "update_res: nan\n",
            "update_bcs1: 0.000e+00\n"
          ]
        },
        {
          "name": "stdout",
          "output_type": "stream",
          "text": [
            "adaptive_constant_bc:  9.502421137502022\n"
          ]
        },
        {
          "name": "stderr",
          "output_type": "stream",
          "text": [
            "It: 24500, Loss: 1.577e+03, Loss_bcs: 7.423e+01, Loss_res: 1.503e+03 ,Time: 0.00\n",
            "update_res: nan\n",
            "update_bcs1: 0.000e+00\n"
          ]
        },
        {
          "name": "stdout",
          "output_type": "stream",
          "text": [
            "adaptive_constant_bc:  9.46699069560796\n"
          ]
        },
        {
          "name": "stderr",
          "output_type": "stream",
          "text": [
            "It: 24600, Loss: 1.573e+03, Loss_bcs: 7.433e+01, Loss_res: 1.499e+03 ,Time: 0.00\n",
            "update_res: nan\n",
            "update_bcs1: 0.000e+00\n"
          ]
        },
        {
          "name": "stdout",
          "output_type": "stream",
          "text": [
            "adaptive_constant_bc:  9.431947544925361\n"
          ]
        },
        {
          "name": "stderr",
          "output_type": "stream",
          "text": [
            "It: 24700, Loss: 1.569e+03, Loss_bcs: 7.443e+01, Loss_res: 1.494e+03 ,Time: 0.00\n",
            "update_res: nan\n",
            "update_bcs1: 0.000e+00\n"
          ]
        },
        {
          "name": "stdout",
          "output_type": "stream",
          "text": [
            "adaptive_constant_bc:  9.397284517614464\n"
          ]
        },
        {
          "name": "stderr",
          "output_type": "stream",
          "text": [
            "It: 24800, Loss: 1.565e+03, Loss_bcs: 7.452e+01, Loss_res: 1.490e+03 ,Time: 0.00\n",
            "update_res: nan\n",
            "update_bcs1: 0.000e+00\n"
          ]
        },
        {
          "name": "stdout",
          "output_type": "stream",
          "text": [
            "adaptive_constant_bc:  9.362958774681161\n"
          ]
        },
        {
          "name": "stderr",
          "output_type": "stream",
          "text": [
            "It: 24900, Loss: 1.561e+03, Loss_bcs: 7.462e+01, Loss_res: 1.486e+03 ,Time: 0.00\n",
            "update_res: nan\n",
            "update_bcs1: 0.000e+00\n"
          ]
        },
        {
          "name": "stdout",
          "output_type": "stream",
          "text": [
            "adaptive_constant_bc:  9.328999810947682\n"
          ]
        },
        {
          "name": "stderr",
          "output_type": "stream",
          "text": [
            "It: 25000, Loss: 1.557e+03, Loss_bcs: 7.471e+01, Loss_res: 1.482e+03 ,Time: 0.00\n",
            "update_res: nan\n",
            "update_bcs1: 0.000e+00\n"
          ]
        },
        {
          "name": "stdout",
          "output_type": "stream",
          "text": [
            "adaptive_constant_bc:  9.295374147384152\n"
          ]
        },
        {
          "name": "stderr",
          "output_type": "stream",
          "text": [
            "It: 25100, Loss: 1.553e+03, Loss_bcs: 7.481e+01, Loss_res: 1.478e+03 ,Time: 0.00\n",
            "update_res: nan\n",
            "update_bcs1: 0.000e+00\n"
          ]
        },
        {
          "name": "stdout",
          "output_type": "stream",
          "text": [
            "adaptive_constant_bc:  9.262103395764415\n"
          ]
        },
        {
          "name": "stderr",
          "output_type": "stream",
          "text": [
            "It: 25200, Loss: 1.549e+03, Loss_bcs: 7.490e+01, Loss_res: 1.474e+03 ,Time: 0.00\n",
            "update_res: nan\n",
            "update_bcs1: 0.000e+00\n"
          ]
        },
        {
          "name": "stdout",
          "output_type": "stream",
          "text": [
            "adaptive_constant_bc:  9.229227649278762\n"
          ]
        },
        {
          "name": "stderr",
          "output_type": "stream",
          "text": [
            "It: 25300, Loss: 1.545e+03, Loss_bcs: 7.499e+01, Loss_res: 1.470e+03 ,Time: 0.00\n",
            "update_res: nan\n",
            "update_bcs1: 0.000e+00\n"
          ]
        },
        {
          "name": "stdout",
          "output_type": "stream",
          "text": [
            "adaptive_constant_bc:  9.196761293458438\n"
          ]
        },
        {
          "name": "stderr",
          "output_type": "stream",
          "text": [
            "It: 25400, Loss: 1.542e+03, Loss_bcs: 7.508e+01, Loss_res: 1.467e+03 ,Time: 0.00\n",
            "update_res: nan\n",
            "update_bcs1: 0.000e+00\n"
          ]
        },
        {
          "name": "stdout",
          "output_type": "stream",
          "text": [
            "adaptive_constant_bc:  9.164674046863864\n"
          ]
        },
        {
          "name": "stderr",
          "output_type": "stream",
          "text": [
            "It: 25500, Loss: 1.538e+03, Loss_bcs: 7.517e+01, Loss_res: 1.463e+03 ,Time: 0.00\n",
            "update_res: nan\n",
            "update_bcs1: 0.000e+00\n"
          ]
        },
        {
          "name": "stdout",
          "output_type": "stream",
          "text": [
            "adaptive_constant_bc:  9.132931333794382\n"
          ]
        },
        {
          "name": "stderr",
          "output_type": "stream",
          "text": [
            "It: 25600, Loss: 1.534e+03, Loss_bcs: 7.526e+01, Loss_res: 1.459e+03 ,Time: 0.00\n",
            "update_res: nan\n",
            "update_bcs1: 0.000e+00\n"
          ]
        },
        {
          "name": "stdout",
          "output_type": "stream",
          "text": [
            "adaptive_constant_bc:  9.10162598221604\n"
          ]
        },
        {
          "name": "stderr",
          "output_type": "stream",
          "text": [
            "It: 25700, Loss: 1.531e+03, Loss_bcs: 7.534e+01, Loss_res: 1.455e+03 ,Time: 0.00\n",
            "update_res: nan\n",
            "update_bcs1: 0.000e+00\n"
          ]
        },
        {
          "name": "stdout",
          "output_type": "stream",
          "text": [
            "adaptive_constant_bc:  9.070701083108055\n"
          ]
        },
        {
          "name": "stderr",
          "output_type": "stream",
          "text": [
            "It: 25800, Loss: 1.527e+03, Loss_bcs: 7.543e+01, Loss_res: 1.452e+03 ,Time: 0.00\n",
            "update_res: nan\n",
            "update_bcs1: 0.000e+00\n"
          ]
        },
        {
          "name": "stdout",
          "output_type": "stream",
          "text": [
            "adaptive_constant_bc:  9.04026032036393\n"
          ]
        },
        {
          "name": "stderr",
          "output_type": "stream",
          "text": [
            "It: 25900, Loss: 1.524e+03, Loss_bcs: 7.552e+01, Loss_res: 1.448e+03 ,Time: 0.00\n",
            "update_res: nan\n",
            "update_bcs1: 0.000e+00\n"
          ]
        },
        {
          "name": "stdout",
          "output_type": "stream",
          "text": [
            "adaptive_constant_bc:  9.01013153696013\n"
          ]
        },
        {
          "name": "stderr",
          "output_type": "stream",
          "text": [
            "It: 26000, Loss: 1.520e+03, Loss_bcs: 7.560e+01, Loss_res: 1.445e+03 ,Time: 0.00\n",
            "update_res: nan\n",
            "update_bcs1: 0.000e+00\n"
          ]
        },
        {
          "name": "stdout",
          "output_type": "stream",
          "text": [
            "adaptive_constant_bc:  8.9803497026455\n"
          ]
        },
        {
          "name": "stderr",
          "output_type": "stream",
          "text": [
            "It: 26100, Loss: 1.517e+03, Loss_bcs: 7.568e+01, Loss_res: 1.441e+03 ,Time: 0.00\n",
            "update_res: nan\n",
            "update_bcs1: 0.000e+00\n"
          ]
        },
        {
          "name": "stdout",
          "output_type": "stream",
          "text": [
            "adaptive_constant_bc:  8.950877018212163\n"
          ]
        },
        {
          "name": "stderr",
          "output_type": "stream",
          "text": [
            "It: 26200, Loss: 1.514e+03, Loss_bcs: 7.577e+01, Loss_res: 1.438e+03 ,Time: 0.00\n",
            "update_res: nan\n",
            "update_bcs1: 0.000e+00\n"
          ]
        },
        {
          "name": "stdout",
          "output_type": "stream",
          "text": [
            "adaptive_constant_bc:  8.921773251522255\n"
          ]
        },
        {
          "name": "stderr",
          "output_type": "stream",
          "text": [
            "It: 26300, Loss: 1.510e+03, Loss_bcs: 7.585e+01, Loss_res: 1.435e+03 ,Time: 0.00\n",
            "update_res: nan\n",
            "update_bcs1: 0.000e+00\n"
          ]
        },
        {
          "name": "stdout",
          "output_type": "stream",
          "text": [
            "adaptive_constant_bc:  8.893004112342114\n"
          ]
        },
        {
          "name": "stderr",
          "output_type": "stream",
          "text": [
            "It: 26400, Loss: 1.507e+03, Loss_bcs: 7.593e+01, Loss_res: 1.431e+03 ,Time: 0.00\n",
            "update_res: nan\n",
            "update_bcs1: 0.000e+00\n"
          ]
        },
        {
          "name": "stdout",
          "output_type": "stream",
          "text": [
            "adaptive_constant_bc:  8.864522640127369\n"
          ]
        },
        {
          "name": "stderr",
          "output_type": "stream",
          "text": [
            "It: 26500, Loss: 1.504e+03, Loss_bcs: 7.601e+01, Loss_res: 1.428e+03 ,Time: 0.00\n",
            "update_res: nan\n",
            "update_bcs1: 0.000e+00\n"
          ]
        },
        {
          "name": "stdout",
          "output_type": "stream",
          "text": [
            "adaptive_constant_bc:  8.83635899156409\n"
          ]
        },
        {
          "name": "stderr",
          "output_type": "stream",
          "text": [
            "It: 26600, Loss: 1.501e+03, Loss_bcs: 7.609e+01, Loss_res: 1.425e+03 ,Time: 0.00\n",
            "update_res: nan\n",
            "update_bcs1: 0.000e+00\n"
          ]
        },
        {
          "name": "stdout",
          "output_type": "stream",
          "text": [
            "adaptive_constant_bc:  8.808455135408472\n"
          ]
        },
        {
          "name": "stderr",
          "output_type": "stream",
          "text": [
            "It: 26700, Loss: 1.498e+03, Loss_bcs: 7.617e+01, Loss_res: 1.421e+03 ,Time: 0.00\n",
            "update_res: nan\n",
            "update_bcs1: 0.000e+00\n"
          ]
        },
        {
          "name": "stdout",
          "output_type": "stream",
          "text": [
            "adaptive_constant_bc:  8.780869490404536\n"
          ]
        },
        {
          "name": "stderr",
          "output_type": "stream",
          "text": [
            "It: 26800, Loss: 1.495e+03, Loss_bcs: 7.624e+01, Loss_res: 1.418e+03 ,Time: 0.00\n",
            "update_res: nan\n",
            "update_bcs1: 0.000e+00\n"
          ]
        },
        {
          "name": "stdout",
          "output_type": "stream",
          "text": [
            "adaptive_constant_bc:  8.75354838815113\n"
          ]
        },
        {
          "name": "stderr",
          "output_type": "stream",
          "text": [
            "It: 26900, Loss: 1.491e+03, Loss_bcs: 7.632e+01, Loss_res: 1.415e+03 ,Time: 0.00\n",
            "update_res: nan\n",
            "update_bcs1: 0.000e+00\n"
          ]
        },
        {
          "name": "stdout",
          "output_type": "stream",
          "text": [
            "adaptive_constant_bc:  8.726502992152117\n"
          ]
        },
        {
          "name": "stderr",
          "output_type": "stream",
          "text": [
            "It: 27000, Loss: 1.488e+03, Loss_bcs: 7.640e+01, Loss_res: 1.412e+03 ,Time: 0.00\n",
            "update_res: nan\n",
            "update_bcs1: 0.000e+00\n"
          ]
        },
        {
          "name": "stdout",
          "output_type": "stream",
          "text": [
            "adaptive_constant_bc:  8.699763939806518\n"
          ]
        },
        {
          "name": "stderr",
          "output_type": "stream",
          "text": [
            "It: 27100, Loss: 1.485e+03, Loss_bcs: 7.647e+01, Loss_res: 1.409e+03 ,Time: 0.01\n",
            "update_res: nan\n",
            "update_bcs1: 0.000e+00\n"
          ]
        },
        {
          "name": "stdout",
          "output_type": "stream",
          "text": [
            "adaptive_constant_bc:  8.673298433471231\n"
          ]
        },
        {
          "name": "stderr",
          "output_type": "stream",
          "text": [
            "It: 27200, Loss: 1.482e+03, Loss_bcs: 7.654e+01, Loss_res: 1.406e+03 ,Time: 0.00\n",
            "update_res: nan\n",
            "update_bcs1: 0.000e+00\n"
          ]
        },
        {
          "name": "stdout",
          "output_type": "stream",
          "text": [
            "adaptive_constant_bc:  8.647182061721619\n"
          ]
        },
        {
          "name": "stderr",
          "output_type": "stream",
          "text": [
            "It: 27300, Loss: 1.480e+03, Loss_bcs: 7.662e+01, Loss_res: 1.403e+03 ,Time: 0.00\n",
            "update_res: nan\n",
            "update_bcs1: 0.000e+00\n"
          ]
        },
        {
          "name": "stdout",
          "output_type": "stream",
          "text": [
            "adaptive_constant_bc:  8.621340559808058\n"
          ]
        },
        {
          "name": "stderr",
          "output_type": "stream",
          "text": [
            "It: 27400, Loss: 1.477e+03, Loss_bcs: 7.669e+01, Loss_res: 1.400e+03 ,Time: 0.00\n",
            "update_res: nan\n",
            "update_bcs1: 0.000e+00\n"
          ]
        },
        {
          "name": "stdout",
          "output_type": "stream",
          "text": [
            "adaptive_constant_bc:  8.595778166657345\n"
          ]
        },
        {
          "name": "stderr",
          "output_type": "stream",
          "text": [
            "It: 27500, Loss: 1.474e+03, Loss_bcs: 7.676e+01, Loss_res: 1.397e+03 ,Time: 0.00\n",
            "update_res: nan\n",
            "update_bcs1: 0.000e+00\n"
          ]
        },
        {
          "name": "stdout",
          "output_type": "stream",
          "text": [
            "adaptive_constant_bc:  8.570604452914912\n"
          ]
        },
        {
          "name": "stderr",
          "output_type": "stream",
          "text": [
            "It: 27600, Loss: 1.471e+03, Loss_bcs: 7.683e+01, Loss_res: 1.394e+03 ,Time: 0.00\n",
            "update_res: nan\n",
            "update_bcs1: 0.000e+00\n"
          ]
        },
        {
          "name": "stdout",
          "output_type": "stream",
          "text": [
            "adaptive_constant_bc:  8.545755002118\n"
          ]
        },
        {
          "name": "stderr",
          "output_type": "stream",
          "text": [
            "It: 27700, Loss: 1.468e+03, Loss_bcs: 7.690e+01, Loss_res: 1.391e+03 ,Time: 0.00\n",
            "update_res: nan\n",
            "update_bcs1: 0.000e+00\n"
          ]
        },
        {
          "name": "stdout",
          "output_type": "stream",
          "text": [
            "adaptive_constant_bc:  8.52130802999285\n"
          ]
        },
        {
          "name": "stderr",
          "output_type": "stream",
          "text": [
            "It: 27800, Loss: 1.466e+03, Loss_bcs: 7.697e+01, Loss_res: 1.389e+03 ,Time: 0.00\n",
            "update_res: nan\n",
            "update_bcs1: 0.000e+00\n"
          ]
        },
        {
          "name": "stdout",
          "output_type": "stream",
          "text": [
            "adaptive_constant_bc:  8.497229137612985\n"
          ]
        },
        {
          "name": "stderr",
          "output_type": "stream",
          "text": [
            "It: 27900, Loss: 1.463e+03, Loss_bcs: 7.704e+01, Loss_res: 1.386e+03 ,Time: 0.00\n",
            "update_res: nan\n",
            "update_bcs1: 0.000e+00\n"
          ]
        },
        {
          "name": "stdout",
          "output_type": "stream",
          "text": [
            "adaptive_constant_bc:  8.473348278553255\n"
          ]
        },
        {
          "name": "stderr",
          "output_type": "stream",
          "text": [
            "It: 28000, Loss: 1.460e+03, Loss_bcs: 7.710e+01, Loss_res: 1.383e+03 ,Time: 0.00\n",
            "update_res: nan\n",
            "update_bcs1: 0.000e+00\n"
          ]
        },
        {
          "name": "stdout",
          "output_type": "stream",
          "text": [
            "adaptive_constant_bc:  8.449748357884994\n"
          ]
        },
        {
          "name": "stderr",
          "output_type": "stream",
          "text": [
            "It: 28100, Loss: 1.458e+03, Loss_bcs: 7.717e+01, Loss_res: 1.381e+03 ,Time: 0.00\n",
            "update_res: nan\n",
            "update_bcs1: 0.000e+00\n"
          ]
        },
        {
          "name": "stdout",
          "output_type": "stream",
          "text": [
            "adaptive_constant_bc:  8.426406977733778\n"
          ]
        },
        {
          "name": "stderr",
          "output_type": "stream",
          "text": [
            "It: 28200, Loss: 1.455e+03, Loss_bcs: 7.723e+01, Loss_res: 1.378e+03 ,Time: 0.00\n",
            "update_res: nan\n",
            "update_bcs1: 0.000e+00\n"
          ]
        },
        {
          "name": "stdout",
          "output_type": "stream",
          "text": [
            "adaptive_constant_bc:  8.403321002620562\n"
          ]
        },
        {
          "name": "stderr",
          "output_type": "stream",
          "text": [
            "It: 28300, Loss: 1.453e+03, Loss_bcs: 7.730e+01, Loss_res: 1.375e+03 ,Time: 0.00\n",
            "update_res: nan\n",
            "update_bcs1: 0.000e+00\n"
          ]
        },
        {
          "name": "stdout",
          "output_type": "stream",
          "text": [
            "adaptive_constant_bc:  8.380541979164741\n"
          ]
        },
        {
          "name": "stderr",
          "output_type": "stream",
          "text": [
            "It: 28400, Loss: 1.450e+03, Loss_bcs: 7.736e+01, Loss_res: 1.373e+03 ,Time: 0.00\n",
            "update_res: nan\n",
            "update_bcs1: 0.000e+00\n"
          ]
        },
        {
          "name": "stdout",
          "output_type": "stream",
          "text": [
            "adaptive_constant_bc:  8.357998378323563\n"
          ]
        },
        {
          "name": "stderr",
          "output_type": "stream",
          "text": [
            "It: 28500, Loss: 1.448e+03, Loss_bcs: 7.742e+01, Loss_res: 1.370e+03 ,Time: 0.00\n",
            "update_res: nan\n",
            "update_bcs1: 0.000e+00\n"
          ]
        },
        {
          "name": "stdout",
          "output_type": "stream",
          "text": [
            "adaptive_constant_bc:  8.335653951888977\n"
          ]
        },
        {
          "name": "stderr",
          "output_type": "stream",
          "text": [
            "It: 28600, Loss: 1.445e+03, Loss_bcs: 7.749e+01, Loss_res: 1.368e+03 ,Time: 0.00\n",
            "update_res: nan\n",
            "update_bcs1: 0.000e+00\n"
          ]
        },
        {
          "name": "stdout",
          "output_type": "stream",
          "text": [
            "adaptive_constant_bc:  8.313559005792639\n"
          ]
        },
        {
          "name": "stderr",
          "output_type": "stream",
          "text": [
            "It: 28700, Loss: 1.443e+03, Loss_bcs: 7.755e+01, Loss_res: 1.365e+03 ,Time: 0.00\n",
            "update_res: nan\n",
            "update_bcs1: 0.000e+00\n"
          ]
        },
        {
          "name": "stdout",
          "output_type": "stream",
          "text": [
            "adaptive_constant_bc:  8.291673661094315\n"
          ]
        },
        {
          "name": "stderr",
          "output_type": "stream",
          "text": [
            "It: 28800, Loss: 1.440e+03, Loss_bcs: 7.761e+01, Loss_res: 1.363e+03 ,Time: 0.00\n",
            "update_res: nan\n",
            "update_bcs1: 0.000e+00\n"
          ]
        },
        {
          "name": "stdout",
          "output_type": "stream",
          "text": [
            "adaptive_constant_bc:  8.269988600919996\n"
          ]
        },
        {
          "name": "stderr",
          "output_type": "stream",
          "text": [
            "It: 28900, Loss: 1.438e+03, Loss_bcs: 7.767e+01, Loss_res: 1.360e+03 ,Time: 0.00\n",
            "update_res: nan\n",
            "update_bcs1: 0.000e+00\n"
          ]
        },
        {
          "name": "stdout",
          "output_type": "stream",
          "text": [
            "adaptive_constant_bc:  8.248546895964498\n"
          ]
        },
        {
          "name": "stderr",
          "output_type": "stream",
          "text": [
            "It: 29000, Loss: 1.436e+03, Loss_bcs: 7.773e+01, Loss_res: 1.358e+03 ,Time: 0.00\n",
            "update_res: nan\n",
            "update_bcs1: 0.000e+00\n"
          ]
        },
        {
          "name": "stdout",
          "output_type": "stream",
          "text": [
            "adaptive_constant_bc:  8.227322391496497\n"
          ]
        },
        {
          "name": "stderr",
          "output_type": "stream",
          "text": [
            "It: 29100, Loss: 1.433e+03, Loss_bcs: 7.778e+01, Loss_res: 1.356e+03 ,Time: 0.00\n",
            "update_res: nan\n",
            "update_bcs1: 0.000e+00\n"
          ]
        },
        {
          "name": "stdout",
          "output_type": "stream",
          "text": [
            "adaptive_constant_bc:  8.206269753610256\n"
          ]
        },
        {
          "name": "stderr",
          "output_type": "stream",
          "text": [
            "It: 29200, Loss: 1.431e+03, Loss_bcs: 7.784e+01, Loss_res: 1.353e+03 ,Time: 0.00\n",
            "update_res: nan\n",
            "update_bcs1: 0.000e+00\n"
          ]
        },
        {
          "name": "stdout",
          "output_type": "stream",
          "text": [
            "adaptive_constant_bc:  8.185463069778415\n"
          ]
        },
        {
          "name": "stderr",
          "output_type": "stream",
          "text": [
            "It: 29300, Loss: 1.429e+03, Loss_bcs: 7.790e+01, Loss_res: 1.351e+03 ,Time: 0.00\n",
            "update_res: nan\n",
            "update_bcs1: 0.000e+00\n"
          ]
        },
        {
          "name": "stdout",
          "output_type": "stream",
          "text": [
            "adaptive_constant_bc:  8.164883704937074\n"
          ]
        },
        {
          "name": "stderr",
          "output_type": "stream",
          "text": [
            "It: 29400, Loss: 1.426e+03, Loss_bcs: 7.796e+01, Loss_res: 1.349e+03 ,Time: 0.00\n",
            "update_res: nan\n",
            "update_bcs1: 0.000e+00\n"
          ]
        },
        {
          "name": "stdout",
          "output_type": "stream",
          "text": [
            "adaptive_constant_bc:  8.144504903250176\n"
          ]
        },
        {
          "name": "stderr",
          "output_type": "stream",
          "text": [
            "It: 29500, Loss: 1.424e+03, Loss_bcs: 7.801e+01, Loss_res: 1.346e+03 ,Time: 0.00\n",
            "update_res: nan\n",
            "update_bcs1: 0.000e+00\n"
          ]
        },
        {
          "name": "stdout",
          "output_type": "stream",
          "text": [
            "adaptive_constant_bc:  8.12440590541003\n"
          ]
        },
        {
          "name": "stderr",
          "output_type": "stream",
          "text": [
            "It: 29600, Loss: 1.422e+03, Loss_bcs: 7.807e+01, Loss_res: 1.344e+03 ,Time: 0.00\n",
            "update_res: nan\n",
            "update_bcs1: 0.000e+00\n"
          ]
        },
        {
          "name": "stdout",
          "output_type": "stream",
          "text": [
            "adaptive_constant_bc:  8.104535879802437\n"
          ]
        },
        {
          "name": "stderr",
          "output_type": "stream",
          "text": [
            "It: 29700, Loss: 1.420e+03, Loss_bcs: 7.812e+01, Loss_res: 1.342e+03 ,Time: 0.00\n",
            "update_res: nan\n",
            "update_bcs1: 0.000e+00\n"
          ]
        },
        {
          "name": "stdout",
          "output_type": "stream",
          "text": [
            "adaptive_constant_bc:  8.084821029423688\n"
          ]
        },
        {
          "name": "stderr",
          "output_type": "stream",
          "text": [
            "It: 29800, Loss: 1.418e+03, Loss_bcs: 7.817e+01, Loss_res: 1.340e+03 ,Time: 0.00\n",
            "update_res: nan\n",
            "update_bcs1: 0.000e+00\n"
          ]
        },
        {
          "name": "stdout",
          "output_type": "stream",
          "text": [
            "adaptive_constant_bc:  8.065310067130683\n"
          ]
        },
        {
          "name": "stderr",
          "output_type": "stream",
          "text": [
            "It: 29900, Loss: 1.416e+03, Loss_bcs: 7.823e+01, Loss_res: 1.337e+03 ,Time: 0.00\n",
            "update_res: nan\n",
            "update_bcs1: 0.000e+00\n"
          ]
        },
        {
          "name": "stdout",
          "output_type": "stream",
          "text": [
            "adaptive_constant_bc:  8.046063536760924\n"
          ]
        },
        {
          "name": "stderr",
          "output_type": "stream",
          "text": [
            "It: 30000, Loss: 1.414e+03, Loss_bcs: 7.828e+01, Loss_res: 1.335e+03 ,Time: 0.00\n",
            "update_res: nan\n",
            "update_bcs1: 0.000e+00\n"
          ]
        },
        {
          "name": "stdout",
          "output_type": "stream",
          "text": [
            "adaptive_constant_bc:  8.02712620490831\n"
          ]
        },
        {
          "name": "stderr",
          "output_type": "stream",
          "text": [
            "It: 30100, Loss: 1.412e+03, Loss_bcs: 7.833e+01, Loss_res: 1.333e+03 ,Time: 0.00\n",
            "update_res: nan\n",
            "update_bcs1: 0.000e+00\n"
          ]
        },
        {
          "name": "stdout",
          "output_type": "stream",
          "text": [
            "adaptive_constant_bc:  8.008502882270324\n"
          ]
        },
        {
          "name": "stderr",
          "output_type": "stream",
          "text": [
            "It: 30200, Loss: 1.410e+03, Loss_bcs: 7.838e+01, Loss_res: 1.331e+03 ,Time: 0.00\n",
            "update_res: nan\n",
            "update_bcs1: 0.000e+00\n"
          ]
        },
        {
          "name": "stdout",
          "output_type": "stream",
          "text": [
            "adaptive_constant_bc:  7.990173787132999\n"
          ]
        },
        {
          "name": "stderr",
          "output_type": "stream",
          "text": [
            "It: 30300, Loss: 1.408e+03, Loss_bcs: 7.843e+01, Loss_res: 1.329e+03 ,Time: 0.00\n",
            "update_res: nan\n",
            "update_bcs1: 0.000e+00\n"
          ]
        },
        {
          "name": "stdout",
          "output_type": "stream",
          "text": [
            "adaptive_constant_bc:  7.972033186318914\n"
          ]
        },
        {
          "name": "stderr",
          "output_type": "stream",
          "text": [
            "It: 30400, Loss: 1.406e+03, Loss_bcs: 7.848e+01, Loss_res: 1.327e+03 ,Time: 0.00\n",
            "update_res: nan\n",
            "update_bcs1: 0.000e+00\n"
          ]
        },
        {
          "name": "stdout",
          "output_type": "stream",
          "text": [
            "adaptive_constant_bc:  7.954027275445835\n"
          ]
        },
        {
          "name": "stderr",
          "output_type": "stream",
          "text": [
            "It: 30500, Loss: 1.404e+03, Loss_bcs: 7.853e+01, Loss_res: 1.325e+03 ,Time: 0.00\n",
            "update_res: nan\n",
            "update_bcs1: 0.000e+00\n"
          ]
        },
        {
          "name": "stdout",
          "output_type": "stream",
          "text": [
            "adaptive_constant_bc:  7.936211704072415\n"
          ]
        },
        {
          "name": "stderr",
          "output_type": "stream",
          "text": [
            "It: 30600, Loss: 1.402e+03, Loss_bcs: 7.858e+01, Loss_res: 1.323e+03 ,Time: 0.00\n",
            "update_res: nan\n",
            "update_bcs1: 0.000e+00\n"
          ]
        },
        {
          "name": "stdout",
          "output_type": "stream",
          "text": [
            "adaptive_constant_bc:  7.9186017567326665\n"
          ]
        },
        {
          "name": "stderr",
          "output_type": "stream",
          "text": [
            "It: 30700, Loss: 1.400e+03, Loss_bcs: 7.863e+01, Loss_res: 1.321e+03 ,Time: 0.00\n",
            "update_res: nan\n",
            "update_bcs1: 0.000e+00\n"
          ]
        },
        {
          "name": "stdout",
          "output_type": "stream",
          "text": [
            "adaptive_constant_bc:  7.901156394867083\n"
          ]
        },
        {
          "name": "stderr",
          "output_type": "stream",
          "text": [
            "It: 30800, Loss: 1.398e+03, Loss_bcs: 7.868e+01, Loss_res: 1.319e+03 ,Time: 0.00\n",
            "update_res: nan\n",
            "update_bcs1: 0.000e+00\n"
          ]
        },
        {
          "name": "stdout",
          "output_type": "stream",
          "text": [
            "adaptive_constant_bc:  7.883900269058002\n"
          ]
        },
        {
          "name": "stderr",
          "output_type": "stream",
          "text": [
            "It: 30900, Loss: 1.396e+03, Loss_bcs: 7.872e+01, Loss_res: 1.318e+03 ,Time: 0.00\n",
            "update_res: nan\n",
            "update_bcs1: 0.000e+00\n"
          ]
        },
        {
          "name": "stdout",
          "output_type": "stream",
          "text": [
            "adaptive_constant_bc:  7.8668898482076415\n"
          ]
        },
        {
          "name": "stderr",
          "output_type": "stream",
          "text": [
            "It: 31000, Loss: 1.394e+03, Loss_bcs: 7.877e+01, Loss_res: 1.316e+03 ,Time: 0.00\n",
            "update_res: nan\n",
            "update_bcs1: 0.000e+00\n"
          ]
        },
        {
          "name": "stdout",
          "output_type": "stream",
          "text": [
            "adaptive_constant_bc:  7.850079787488156\n"
          ]
        },
        {
          "name": "stderr",
          "output_type": "stream",
          "text": [
            "It: 31100, Loss: 1.393e+03, Loss_bcs: 7.882e+01, Loss_res: 1.314e+03 ,Time: 0.00\n",
            "update_res: nan\n",
            "update_bcs1: 0.000e+00\n"
          ]
        },
        {
          "name": "stdout",
          "output_type": "stream",
          "text": [
            "adaptive_constant_bc:  7.833418278316286\n"
          ]
        },
        {
          "name": "stderr",
          "output_type": "stream",
          "text": [
            "It: 31200, Loss: 1.391e+03, Loss_bcs: 7.886e+01, Loss_res: 1.312e+03 ,Time: 0.00\n",
            "update_res: nan\n",
            "update_bcs1: 0.000e+00\n"
          ]
        },
        {
          "name": "stdout",
          "output_type": "stream",
          "text": [
            "adaptive_constant_bc:  7.816905571356919\n"
          ]
        },
        {
          "name": "stderr",
          "output_type": "stream",
          "text": [
            "It: 31300, Loss: 1.389e+03, Loss_bcs: 7.891e+01, Loss_res: 1.310e+03 ,Time: 0.00\n",
            "update_res: nan\n",
            "update_bcs1: 0.000e+00\n"
          ]
        },
        {
          "name": "stdout",
          "output_type": "stream",
          "text": [
            "adaptive_constant_bc:  7.8005961741985885\n"
          ]
        },
        {
          "name": "stderr",
          "output_type": "stream",
          "text": [
            "It: 31400, Loss: 1.387e+03, Loss_bcs: 7.895e+01, Loss_res: 1.308e+03 ,Time: 0.00\n",
            "update_res: nan\n",
            "update_bcs1: 0.000e+00\n"
          ]
        },
        {
          "name": "stdout",
          "output_type": "stream",
          "text": [
            "adaptive_constant_bc:  7.784460685028092\n"
          ]
        },
        {
          "name": "stderr",
          "output_type": "stream",
          "text": [
            "It: 31500, Loss: 1.386e+03, Loss_bcs: 7.900e+01, Loss_res: 1.307e+03 ,Time: 0.00\n",
            "update_res: nan\n",
            "update_bcs1: 0.000e+00\n"
          ]
        },
        {
          "name": "stdout",
          "output_type": "stream",
          "text": [
            "adaptive_constant_bc:  7.768449183935202\n"
          ]
        },
        {
          "name": "stderr",
          "output_type": "stream",
          "text": [
            "It: 31600, Loss: 1.384e+03, Loss_bcs: 7.904e+01, Loss_res: 1.305e+03 ,Time: 0.00\n",
            "update_res: nan\n",
            "update_bcs1: 0.000e+00\n"
          ]
        },
        {
          "name": "stdout",
          "output_type": "stream",
          "text": [
            "adaptive_constant_bc:  7.7525885140877335\n"
          ]
        },
        {
          "name": "stderr",
          "output_type": "stream",
          "text": [
            "It: 31700, Loss: 1.382e+03, Loss_bcs: 7.909e+01, Loss_res: 1.303e+03 ,Time: 0.00\n",
            "update_res: nan\n",
            "update_bcs1: 0.000e+00\n"
          ]
        },
        {
          "name": "stdout",
          "output_type": "stream",
          "text": [
            "adaptive_constant_bc:  7.736918683415376\n"
          ]
        },
        {
          "name": "stderr",
          "output_type": "stream",
          "text": [
            "It: 31800, Loss: 1.381e+03, Loss_bcs: 7.913e+01, Loss_res: 1.301e+03 ,Time: 0.00\n",
            "update_res: nan\n",
            "update_bcs1: 0.000e+00\n"
          ]
        },
        {
          "name": "stdout",
          "output_type": "stream",
          "text": [
            "adaptive_constant_bc:  7.7214220195392596\n"
          ]
        },
        {
          "name": "stderr",
          "output_type": "stream",
          "text": [
            "It: 31900, Loss: 1.379e+03, Loss_bcs: 7.917e+01, Loss_res: 1.300e+03 ,Time: 0.00\n",
            "update_res: nan\n",
            "update_bcs1: 0.000e+00\n"
          ]
        },
        {
          "name": "stdout",
          "output_type": "stream",
          "text": [
            "adaptive_constant_bc:  7.706039384480742\n"
          ]
        },
        {
          "name": "stderr",
          "output_type": "stream",
          "text": [
            "It: 32000, Loss: 1.377e+03, Loss_bcs: 7.921e+01, Loss_res: 1.298e+03 ,Time: 0.00\n",
            "update_res: nan\n",
            "update_bcs1: 0.000e+00\n"
          ]
        },
        {
          "name": "stdout",
          "output_type": "stream",
          "text": [
            "adaptive_constant_bc:  7.690793937873521\n"
          ]
        },
        {
          "name": "stderr",
          "output_type": "stream",
          "text": [
            "It: 32100, Loss: 1.376e+03, Loss_bcs: 7.925e+01, Loss_res: 1.296e+03 ,Time: 0.00\n",
            "update_res: nan\n",
            "update_bcs1: 0.000e+00\n"
          ]
        },
        {
          "name": "stdout",
          "output_type": "stream",
          "text": [
            "adaptive_constant_bc:  7.675718911626845\n"
          ]
        },
        {
          "name": "stderr",
          "output_type": "stream",
          "text": [
            "It: 32200, Loss: 1.374e+03, Loss_bcs: 7.930e+01, Loss_res: 1.295e+03 ,Time: 0.00\n",
            "update_res: nan\n",
            "update_bcs1: 0.000e+00\n"
          ]
        },
        {
          "name": "stdout",
          "output_type": "stream",
          "text": [
            "adaptive_constant_bc:  7.66081251311047\n"
          ]
        },
        {
          "name": "stderr",
          "output_type": "stream",
          "text": [
            "It: 32300, Loss: 1.373e+03, Loss_bcs: 7.934e+01, Loss_res: 1.293e+03 ,Time: 0.00\n",
            "update_res: nan\n",
            "update_bcs1: 0.000e+00\n"
          ]
        },
        {
          "name": "stdout",
          "output_type": "stream",
          "text": [
            "adaptive_constant_bc:  7.646040456576488\n"
          ]
        },
        {
          "name": "stderr",
          "output_type": "stream",
          "text": [
            "It: 32400, Loss: 1.371e+03, Loss_bcs: 7.938e+01, Loss_res: 1.292e+03 ,Time: 0.00\n",
            "update_res: nan\n",
            "update_bcs1: 0.000e+00\n"
          ]
        },
        {
          "name": "stdout",
          "output_type": "stream",
          "text": [
            "adaptive_constant_bc:  7.631443515793684\n"
          ]
        },
        {
          "name": "stderr",
          "output_type": "stream",
          "text": [
            "It: 32500, Loss: 1.369e+03, Loss_bcs: 7.942e+01, Loss_res: 1.290e+03 ,Time: 0.00\n",
            "update_res: nan\n",
            "update_bcs1: 0.000e+00\n"
          ]
        },
        {
          "name": "stdout",
          "output_type": "stream",
          "text": [
            "adaptive_constant_bc:  7.617056399471492\n"
          ]
        },
        {
          "name": "stderr",
          "output_type": "stream",
          "text": [
            "It: 32600, Loss: 1.368e+03, Loss_bcs: 7.946e+01, Loss_res: 1.289e+03 ,Time: 0.00\n",
            "update_res: nan\n",
            "update_bcs1: 0.000e+00\n"
          ]
        },
        {
          "name": "stdout",
          "output_type": "stream",
          "text": [
            "adaptive_constant_bc:  7.60285737261157\n"
          ]
        },
        {
          "name": "stderr",
          "output_type": "stream",
          "text": [
            "It: 32700, Loss: 1.366e+03, Loss_bcs: 7.949e+01, Loss_res: 1.287e+03 ,Time: 0.00\n",
            "update_res: nan\n",
            "update_bcs1: 0.000e+00\n"
          ]
        },
        {
          "name": "stdout",
          "output_type": "stream",
          "text": [
            "adaptive_constant_bc:  7.58879797734358\n"
          ]
        },
        {
          "name": "stderr",
          "output_type": "stream",
          "text": [
            "It: 32800, Loss: 1.365e+03, Loss_bcs: 7.953e+01, Loss_res: 1.285e+03 ,Time: 0.00\n",
            "update_res: nan\n",
            "update_bcs1: 0.000e+00\n"
          ]
        },
        {
          "name": "stdout",
          "output_type": "stream",
          "text": [
            "adaptive_constant_bc:  7.57482450746676\n"
          ]
        },
        {
          "name": "stderr",
          "output_type": "stream",
          "text": [
            "It: 32900, Loss: 1.364e+03, Loss_bcs: 7.957e+01, Loss_res: 1.284e+03 ,Time: 0.00\n",
            "update_res: nan\n",
            "update_bcs1: 0.000e+00\n"
          ]
        },
        {
          "name": "stdout",
          "output_type": "stream",
          "text": [
            "adaptive_constant_bc:  7.560989948540834\n"
          ]
        },
        {
          "name": "stderr",
          "output_type": "stream",
          "text": [
            "It: 33000, Loss: 1.362e+03, Loss_bcs: 7.961e+01, Loss_res: 1.282e+03 ,Time: 0.00\n",
            "update_res: nan\n",
            "update_bcs1: 0.000e+00\n"
          ]
        },
        {
          "name": "stdout",
          "output_type": "stream",
          "text": [
            "adaptive_constant_bc:  7.547312083030662\n"
          ]
        },
        {
          "name": "stderr",
          "output_type": "stream",
          "text": [
            "It: 33100, Loss: 1.361e+03, Loss_bcs: 7.964e+01, Loss_res: 1.281e+03 ,Time: 0.00\n",
            "update_res: nan\n",
            "update_bcs1: 0.000e+00\n"
          ]
        },
        {
          "name": "stdout",
          "output_type": "stream",
          "text": [
            "adaptive_constant_bc:  7.533798394582788\n"
          ]
        },
        {
          "name": "stderr",
          "output_type": "stream",
          "text": [
            "It: 33200, Loss: 1.359e+03, Loss_bcs: 7.968e+01, Loss_res: 1.280e+03 ,Time: 0.00\n",
            "update_res: nan\n",
            "update_bcs1: 0.000e+00\n"
          ]
        },
        {
          "name": "stdout",
          "output_type": "stream",
          "text": [
            "adaptive_constant_bc:  7.520488058336774\n"
          ]
        },
        {
          "name": "stderr",
          "output_type": "stream",
          "text": [
            "It: 33300, Loss: 1.358e+03, Loss_bcs: 7.972e+01, Loss_res: 1.278e+03 ,Time: 0.00\n",
            "update_res: nan\n",
            "update_bcs1: 0.000e+00\n"
          ]
        },
        {
          "name": "stdout",
          "output_type": "stream",
          "text": [
            "adaptive_constant_bc:  7.5074328188533475\n"
          ]
        },
        {
          "name": "stderr",
          "output_type": "stream",
          "text": [
            "It: 33400, Loss: 1.356e+03, Loss_bcs: 7.975e+01, Loss_res: 1.277e+03 ,Time: 0.00\n",
            "update_res: nan\n",
            "update_bcs1: 0.000e+00\n"
          ]
        },
        {
          "name": "stdout",
          "output_type": "stream",
          "text": [
            "adaptive_constant_bc:  7.494630955946215\n"
          ]
        },
        {
          "name": "stderr",
          "output_type": "stream",
          "text": [
            "It: 33500, Loss: 1.355e+03, Loss_bcs: 7.979e+01, Loss_res: 1.275e+03 ,Time: 0.00\n",
            "update_res: nan\n",
            "update_bcs1: 0.000e+00\n"
          ]
        },
        {
          "name": "stdout",
          "output_type": "stream",
          "text": [
            "adaptive_constant_bc:  7.481972721788082\n"
          ]
        },
        {
          "name": "stderr",
          "output_type": "stream",
          "text": [
            "It: 33600, Loss: 1.354e+03, Loss_bcs: 7.982e+01, Loss_res: 1.274e+03 ,Time: 0.00\n",
            "update_res: nan\n",
            "update_bcs1: 0.000e+00\n"
          ]
        },
        {
          "name": "stdout",
          "output_type": "stream",
          "text": [
            "adaptive_constant_bc:  7.469457295329313\n"
          ]
        },
        {
          "name": "stderr",
          "output_type": "stream",
          "text": [
            "It: 33700, Loss: 1.353e+03, Loss_bcs: 7.986e+01, Loss_res: 1.273e+03 ,Time: 0.00\n",
            "update_res: nan\n",
            "update_bcs1: 0.000e+00\n"
          ]
        },
        {
          "name": "stdout",
          "output_type": "stream",
          "text": [
            "adaptive_constant_bc:  7.457039252884698\n"
          ]
        },
        {
          "name": "stderr",
          "output_type": "stream",
          "text": [
            "It: 33800, Loss: 1.351e+03, Loss_bcs: 7.989e+01, Loss_res: 1.271e+03 ,Time: 0.00\n",
            "update_res: nan\n",
            "update_bcs1: 0.000e+00\n"
          ]
        },
        {
          "name": "stdout",
          "output_type": "stream",
          "text": [
            "adaptive_constant_bc:  7.444689999721738\n"
          ]
        },
        {
          "name": "stderr",
          "output_type": "stream",
          "text": [
            "It: 33900, Loss: 1.350e+03, Loss_bcs: 7.993e+01, Loss_res: 1.270e+03 ,Time: 0.00\n",
            "update_res: nan\n",
            "update_bcs1: 0.000e+00\n"
          ]
        },
        {
          "name": "stdout",
          "output_type": "stream",
          "text": [
            "adaptive_constant_bc:  7.432505881286454\n"
          ]
        },
        {
          "name": "stderr",
          "output_type": "stream",
          "text": [
            "It: 34000, Loss: 1.349e+03, Loss_bcs: 7.996e+01, Loss_res: 1.269e+03 ,Time: 0.00\n",
            "update_res: nan\n",
            "update_bcs1: 0.000e+00\n"
          ]
        },
        {
          "name": "stdout",
          "output_type": "stream",
          "text": [
            "adaptive_constant_bc:  7.420468912486975\n"
          ]
        },
        {
          "name": "stderr",
          "output_type": "stream",
          "text": [
            "It: 34100, Loss: 1.348e+03, Loss_bcs: 7.999e+01, Loss_res: 1.268e+03 ,Time: 0.00\n",
            "update_res: nan\n",
            "update_bcs1: 0.000e+00\n"
          ]
        },
        {
          "name": "stdout",
          "output_type": "stream",
          "text": [
            "adaptive_constant_bc:  7.408557879716155\n"
          ]
        },
        {
          "name": "stderr",
          "output_type": "stream",
          "text": [
            "It: 34200, Loss: 1.346e+03, Loss_bcs: 8.003e+01, Loss_res: 1.266e+03 ,Time: 0.00\n",
            "update_res: nan\n",
            "update_bcs1: 0.000e+00\n"
          ]
        },
        {
          "name": "stdout",
          "output_type": "stream",
          "text": [
            "adaptive_constant_bc:  7.396762898403868\n"
          ]
        },
        {
          "name": "stderr",
          "output_type": "stream",
          "text": [
            "It: 34300, Loss: 1.345e+03, Loss_bcs: 8.006e+01, Loss_res: 1.265e+03 ,Time: 0.00\n",
            "update_res: nan\n",
            "update_bcs1: 0.000e+00\n"
          ]
        },
        {
          "name": "stdout",
          "output_type": "stream",
          "text": [
            "adaptive_constant_bc:  7.385081281746933\n"
          ]
        },
        {
          "name": "stderr",
          "output_type": "stream",
          "text": [
            "It: 34400, Loss: 1.344e+03, Loss_bcs: 8.009e+01, Loss_res: 1.264e+03 ,Time: 0.00\n",
            "update_res: nan\n",
            "update_bcs1: 0.000e+00\n"
          ]
        },
        {
          "name": "stdout",
          "output_type": "stream",
          "text": [
            "adaptive_constant_bc:  7.37356614116966\n"
          ]
        },
        {
          "name": "stderr",
          "output_type": "stream",
          "text": [
            "It: 34500, Loss: 1.343e+03, Loss_bcs: 8.013e+01, Loss_res: 1.263e+03 ,Time: 0.00\n",
            "update_res: nan\n",
            "update_bcs1: 0.000e+00\n"
          ]
        },
        {
          "name": "stdout",
          "output_type": "stream",
          "text": [
            "adaptive_constant_bc:  7.3621792414534815\n"
          ]
        },
        {
          "name": "stderr",
          "output_type": "stream",
          "text": [
            "It: 34600, Loss: 1.342e+03, Loss_bcs: 8.016e+01, Loss_res: 1.261e+03 ,Time: 0.00\n",
            "update_res: nan\n",
            "update_bcs1: 0.000e+00\n"
          ]
        },
        {
          "name": "stdout",
          "output_type": "stream",
          "text": [
            "adaptive_constant_bc:  7.3509371335323985\n"
          ]
        },
        {
          "name": "stderr",
          "output_type": "stream",
          "text": [
            "It: 34700, Loss: 1.340e+03, Loss_bcs: 8.019e+01, Loss_res: 1.260e+03 ,Time: 0.00\n",
            "update_res: nan\n",
            "update_bcs1: 0.000e+00\n"
          ]
        },
        {
          "name": "stdout",
          "output_type": "stream",
          "text": [
            "adaptive_constant_bc:  7.339822924461629\n"
          ]
        },
        {
          "name": "stderr",
          "output_type": "stream",
          "text": [
            "It: 34800, Loss: 1.339e+03, Loss_bcs: 8.022e+01, Loss_res: 1.259e+03 ,Time: 0.01\n",
            "update_res: nan\n",
            "update_bcs1: 0.000e+00\n"
          ]
        },
        {
          "name": "stdout",
          "output_type": "stream",
          "text": [
            "adaptive_constant_bc:  7.328772033556974\n"
          ]
        },
        {
          "name": "stderr",
          "output_type": "stream",
          "text": [
            "It: 34900, Loss: 1.338e+03, Loss_bcs: 8.025e+01, Loss_res: 1.258e+03 ,Time: 0.00\n",
            "update_res: nan\n",
            "update_bcs1: 0.000e+00\n"
          ]
        },
        {
          "name": "stdout",
          "output_type": "stream",
          "text": [
            "adaptive_constant_bc:  7.317789177366813\n"
          ]
        },
        {
          "name": "stderr",
          "output_type": "stream",
          "text": [
            "It: 35000, Loss: 1.337e+03, Loss_bcs: 8.028e+01, Loss_res: 1.257e+03 ,Time: 0.00\n",
            "update_res: nan\n",
            "update_bcs1: 0.000e+00\n"
          ]
        },
        {
          "name": "stdout",
          "output_type": "stream",
          "text": [
            "adaptive_constant_bc:  7.306937537005313\n"
          ]
        },
        {
          "name": "stderr",
          "output_type": "stream",
          "text": [
            "It: 35100, Loss: 1.336e+03, Loss_bcs: 8.031e+01, Loss_res: 1.256e+03 ,Time: 0.00\n",
            "update_res: nan\n",
            "update_bcs1: 0.000e+00\n"
          ]
        },
        {
          "name": "stdout",
          "output_type": "stream",
          "text": [
            "adaptive_constant_bc:  7.2962153876649545\n"
          ]
        },
        {
          "name": "stderr",
          "output_type": "stream",
          "text": [
            "It: 35200, Loss: 1.335e+03, Loss_bcs: 8.034e+01, Loss_res: 1.254e+03 ,Time: 0.00\n",
            "update_res: nan\n",
            "update_bcs1: 0.000e+00\n"
          ]
        },
        {
          "name": "stdout",
          "output_type": "stream",
          "text": [
            "adaptive_constant_bc:  7.285600780738271\n"
          ]
        },
        {
          "name": "stderr",
          "output_type": "stream",
          "text": [
            "It: 35300, Loss: 1.334e+03, Loss_bcs: 8.037e+01, Loss_res: 1.253e+03 ,Time: 0.00\n",
            "update_res: nan\n",
            "update_bcs1: 0.000e+00\n"
          ]
        },
        {
          "name": "stdout",
          "output_type": "stream",
          "text": [
            "adaptive_constant_bc:  7.2750942924027155\n"
          ]
        },
        {
          "name": "stderr",
          "output_type": "stream",
          "text": [
            "It: 35400, Loss: 1.333e+03, Loss_bcs: 8.040e+01, Loss_res: 1.252e+03 ,Time: 0.00\n",
            "update_res: nan\n",
            "update_bcs1: 0.000e+00\n"
          ]
        },
        {
          "name": "stdout",
          "output_type": "stream",
          "text": [
            "adaptive_constant_bc:  7.264615593819717\n"
          ]
        },
        {
          "name": "stderr",
          "output_type": "stream",
          "text": [
            "It: 35500, Loss: 1.332e+03, Loss_bcs: 8.043e+01, Loss_res: 1.251e+03 ,Time: 0.00\n",
            "update_res: nan\n",
            "update_bcs1: 0.000e+00\n"
          ]
        },
        {
          "name": "stdout",
          "output_type": "stream",
          "text": [
            "adaptive_constant_bc:  7.2542005278638\n"
          ]
        },
        {
          "name": "stderr",
          "output_type": "stream",
          "text": [
            "It: 35600, Loss: 1.331e+03, Loss_bcs: 8.046e+01, Loss_res: 1.250e+03 ,Time: 0.00\n",
            "update_res: nan\n",
            "update_bcs1: 0.000e+00\n"
          ]
        },
        {
          "name": "stdout",
          "output_type": "stream",
          "text": [
            "adaptive_constant_bc:  7.24391407872802\n"
          ]
        },
        {
          "name": "stderr",
          "output_type": "stream",
          "text": [
            "It: 35700, Loss: 1.329e+03, Loss_bcs: 8.049e+01, Loss_res: 1.249e+03 ,Time: 0.00\n",
            "update_res: nan\n",
            "update_bcs1: 0.000e+00\n"
          ]
        },
        {
          "name": "stdout",
          "output_type": "stream",
          "text": [
            "adaptive_constant_bc:  7.23374938990905\n"
          ]
        },
        {
          "name": "stderr",
          "output_type": "stream",
          "text": [
            "It: 35800, Loss: 1.328e+03, Loss_bcs: 8.051e+01, Loss_res: 1.248e+03 ,Time: 0.00\n",
            "update_res: nan\n",
            "update_bcs1: 0.000e+00\n"
          ]
        },
        {
          "name": "stdout",
          "output_type": "stream",
          "text": [
            "adaptive_constant_bc:  7.223696304829982\n"
          ]
        },
        {
          "name": "stderr",
          "output_type": "stream",
          "text": [
            "It: 35900, Loss: 1.327e+03, Loss_bcs: 8.054e+01, Loss_res: 1.247e+03 ,Time: 0.00\n",
            "update_res: nan\n",
            "update_bcs1: 0.000e+00\n"
          ]
        },
        {
          "name": "stdout",
          "output_type": "stream",
          "text": [
            "adaptive_constant_bc:  7.213764031914767\n"
          ]
        },
        {
          "name": "stderr",
          "output_type": "stream",
          "text": [
            "It: 36000, Loss: 1.326e+03, Loss_bcs: 8.057e+01, Loss_res: 1.246e+03 ,Time: 0.00\n",
            "update_res: nan\n",
            "update_bcs1: 0.000e+00\n"
          ]
        },
        {
          "name": "stdout",
          "output_type": "stream",
          "text": [
            "adaptive_constant_bc:  7.203883897929067\n"
          ]
        },
        {
          "name": "stderr",
          "output_type": "stream",
          "text": [
            "It: 36100, Loss: 1.325e+03, Loss_bcs: 8.060e+01, Loss_res: 1.245e+03 ,Time: 0.00\n",
            "update_res: nan\n",
            "update_bcs1: 0.000e+00\n"
          ]
        },
        {
          "name": "stdout",
          "output_type": "stream",
          "text": [
            "adaptive_constant_bc:  7.194058856722623\n"
          ]
        },
        {
          "name": "stderr",
          "output_type": "stream",
          "text": [
            "It: 36200, Loss: 1.324e+03, Loss_bcs: 8.062e+01, Loss_res: 1.244e+03 ,Time: 0.00\n",
            "update_res: nan\n",
            "update_bcs1: 0.000e+00\n"
          ]
        },
        {
          "name": "stdout",
          "output_type": "stream",
          "text": [
            "adaptive_constant_bc:  7.184353474748374\n"
          ]
        },
        {
          "name": "stderr",
          "output_type": "stream",
          "text": [
            "It: 36300, Loss: 1.323e+03, Loss_bcs: 8.065e+01, Loss_res: 1.243e+03 ,Time: 0.00\n",
            "update_res: nan\n",
            "update_bcs1: 0.000e+00\n"
          ]
        },
        {
          "name": "stdout",
          "output_type": "stream",
          "text": [
            "adaptive_constant_bc:  7.1747399024928775\n"
          ]
        },
        {
          "name": "stderr",
          "output_type": "stream",
          "text": [
            "It: 36400, Loss: 1.322e+03, Loss_bcs: 8.068e+01, Loss_res: 1.242e+03 ,Time: 0.00\n",
            "update_res: nan\n",
            "update_bcs1: 0.000e+00\n"
          ]
        },
        {
          "name": "stdout",
          "output_type": "stream",
          "text": [
            "adaptive_constant_bc:  7.1652608348487545\n"
          ]
        },
        {
          "name": "stderr",
          "output_type": "stream",
          "text": [
            "It: 36500, Loss: 1.321e+03, Loss_bcs: 8.070e+01, Loss_res: 1.241e+03 ,Time: 0.00\n",
            "update_res: nan\n",
            "update_bcs1: 0.000e+00\n"
          ]
        },
        {
          "name": "stdout",
          "output_type": "stream",
          "text": [
            "adaptive_constant_bc:  7.155870823192817\n"
          ]
        },
        {
          "name": "stderr",
          "output_type": "stream",
          "text": [
            "It: 36600, Loss: 1.320e+03, Loss_bcs: 8.073e+01, Loss_res: 1.240e+03 ,Time: 0.00\n",
            "update_res: nan\n",
            "update_bcs1: 0.000e+00\n"
          ]
        },
        {
          "name": "stdout",
          "output_type": "stream",
          "text": [
            "adaptive_constant_bc:  7.146563471832887\n"
          ]
        },
        {
          "name": "stderr",
          "output_type": "stream",
          "text": [
            "It: 36700, Loss: 1.319e+03, Loss_bcs: 8.075e+01, Loss_res: 1.239e+03 ,Time: 0.00\n",
            "update_res: nan\n",
            "update_bcs1: 0.000e+00\n"
          ]
        },
        {
          "name": "stdout",
          "output_type": "stream",
          "text": [
            "adaptive_constant_bc:  7.137348314466654\n"
          ]
        },
        {
          "name": "stderr",
          "output_type": "stream",
          "text": [
            "It: 36800, Loss: 1.319e+03, Loss_bcs: 8.078e+01, Loss_res: 1.238e+03 ,Time: 0.00\n",
            "update_res: nan\n",
            "update_bcs1: 0.000e+00\n"
          ]
        },
        {
          "name": "stdout",
          "output_type": "stream",
          "text": [
            "adaptive_constant_bc:  7.128248412041903\n"
          ]
        },
        {
          "name": "stderr",
          "output_type": "stream",
          "text": [
            "It: 36900, Loss: 1.318e+03, Loss_bcs: 8.081e+01, Loss_res: 1.237e+03 ,Time: 0.00\n",
            "update_res: nan\n",
            "update_bcs1: 0.000e+00\n"
          ]
        },
        {
          "name": "stdout",
          "output_type": "stream",
          "text": [
            "adaptive_constant_bc:  7.1192592247289435\n"
          ]
        },
        {
          "name": "stderr",
          "output_type": "stream",
          "text": [
            "It: 37000, Loss: 1.317e+03, Loss_bcs: 8.083e+01, Loss_res: 1.236e+03 ,Time: 0.00\n",
            "update_res: nan\n",
            "update_bcs1: 0.000e+00\n"
          ]
        },
        {
          "name": "stdout",
          "output_type": "stream",
          "text": [
            "adaptive_constant_bc:  7.110373603684011\n"
          ]
        },
        {
          "name": "stderr",
          "output_type": "stream",
          "text": [
            "It: 37100, Loss: 1.316e+03, Loss_bcs: 8.085e+01, Loss_res: 1.235e+03 ,Time: 0.00\n",
            "update_res: nan\n",
            "update_bcs1: 0.000e+00\n"
          ]
        },
        {
          "name": "stdout",
          "output_type": "stream",
          "text": [
            "adaptive_constant_bc:  7.101588190921501\n"
          ]
        },
        {
          "name": "stderr",
          "output_type": "stream",
          "text": [
            "It: 37200, Loss: 1.315e+03, Loss_bcs: 8.088e+01, Loss_res: 1.234e+03 ,Time: 0.00\n",
            "update_res: nan\n",
            "update_bcs1: 0.000e+00\n"
          ]
        },
        {
          "name": "stdout",
          "output_type": "stream",
          "text": [
            "adaptive_constant_bc:  7.092894015482344\n"
          ]
        },
        {
          "name": "stderr",
          "output_type": "stream",
          "text": [
            "It: 37300, Loss: 1.314e+03, Loss_bcs: 8.090e+01, Loss_res: 1.233e+03 ,Time: 0.00\n",
            "update_res: nan\n",
            "update_bcs1: 0.000e+00\n"
          ]
        },
        {
          "name": "stdout",
          "output_type": "stream",
          "text": [
            "adaptive_constant_bc:  7.084276845602956\n"
          ]
        },
        {
          "name": "stderr",
          "output_type": "stream",
          "text": [
            "It: 37400, Loss: 1.313e+03, Loss_bcs: 8.093e+01, Loss_res: 1.232e+03 ,Time: 0.00\n",
            "update_res: nan\n",
            "update_bcs1: 0.000e+00\n"
          ]
        },
        {
          "name": "stdout",
          "output_type": "stream",
          "text": [
            "adaptive_constant_bc:  7.07571214271576\n"
          ]
        },
        {
          "name": "stderr",
          "output_type": "stream",
          "text": [
            "It: 37500, Loss: 1.312e+03, Loss_bcs: 8.095e+01, Loss_res: 1.231e+03 ,Time: 0.00\n",
            "update_res: nan\n",
            "update_bcs1: 0.000e+00\n"
          ]
        },
        {
          "name": "stdout",
          "output_type": "stream",
          "text": [
            "adaptive_constant_bc:  7.0672050834048\n"
          ]
        },
        {
          "name": "stderr",
          "output_type": "stream",
          "text": [
            "It: 37600, Loss: 1.311e+03, Loss_bcs: 8.097e+01, Loss_res: 1.230e+03 ,Time: 0.00\n",
            "update_res: nan\n",
            "update_bcs1: 0.000e+00\n"
          ]
        },
        {
          "name": "stdout",
          "output_type": "stream",
          "text": [
            "adaptive_constant_bc:  7.058801209711668\n"
          ]
        },
        {
          "name": "stderr",
          "output_type": "stream",
          "text": [
            "It: 37700, Loss: 1.311e+03, Loss_bcs: 8.100e+01, Loss_res: 1.230e+03 ,Time: 0.00\n",
            "update_res: nan\n",
            "update_bcs1: 0.000e+00\n"
          ]
        },
        {
          "name": "stdout",
          "output_type": "stream",
          "text": [
            "adaptive_constant_bc:  7.050461447458367\n"
          ]
        },
        {
          "name": "stderr",
          "output_type": "stream",
          "text": [
            "It: 37800, Loss: 1.310e+03, Loss_bcs: 8.102e+01, Loss_res: 1.229e+03 ,Time: 0.01\n",
            "update_res: nan\n",
            "update_bcs1: 0.000e+00\n"
          ]
        },
        {
          "name": "stdout",
          "output_type": "stream",
          "text": [
            "adaptive_constant_bc:  7.042260441323304\n"
          ]
        },
        {
          "name": "stderr",
          "output_type": "stream",
          "text": [
            "It: 37900, Loss: 1.309e+03, Loss_bcs: 8.104e+01, Loss_res: 1.228e+03 ,Time: 0.00\n",
            "update_res: nan\n",
            "update_bcs1: 0.000e+00\n"
          ]
        },
        {
          "name": "stdout",
          "output_type": "stream",
          "text": [
            "adaptive_constant_bc:  7.034111529548762\n"
          ]
        },
        {
          "name": "stderr",
          "output_type": "stream",
          "text": [
            "It: 38000, Loss: 1.308e+03, Loss_bcs: 8.107e+01, Loss_res: 1.227e+03 ,Time: 0.00\n",
            "update_res: nan\n",
            "update_bcs1: 0.000e+00\n"
          ]
        },
        {
          "name": "stdout",
          "output_type": "stream",
          "text": [
            "adaptive_constant_bc:  7.026069363342203\n"
          ]
        },
        {
          "name": "stderr",
          "output_type": "stream",
          "text": [
            "It: 38100, Loss: 1.307e+03, Loss_bcs: 8.109e+01, Loss_res: 1.226e+03 ,Time: 0.00\n",
            "update_res: nan\n",
            "update_bcs1: 0.000e+00\n"
          ]
        },
        {
          "name": "stdout",
          "output_type": "stream",
          "text": [
            "adaptive_constant_bc:  7.01813973147792\n"
          ]
        },
        {
          "name": "stderr",
          "output_type": "stream",
          "text": [
            "It: 38200, Loss: 1.306e+03, Loss_bcs: 8.111e+01, Loss_res: 1.225e+03 ,Time: 0.00\n",
            "update_res: nan\n",
            "update_bcs1: 0.000e+00\n"
          ]
        },
        {
          "name": "stdout",
          "output_type": "stream",
          "text": [
            "adaptive_constant_bc:  7.010480674962027\n"
          ]
        },
        {
          "name": "stderr",
          "output_type": "stream",
          "text": [
            "It: 38300, Loss: 1.306e+03, Loss_bcs: 8.113e+01, Loss_res: 1.225e+03 ,Time: 0.00\n",
            "update_res: nan\n",
            "update_bcs1: 0.000e+00\n"
          ]
        },
        {
          "name": "stdout",
          "output_type": "stream",
          "text": [
            "adaptive_constant_bc:  7.002934457247678\n"
          ]
        },
        {
          "name": "stderr",
          "output_type": "stream",
          "text": [
            "It: 38400, Loss: 1.305e+03, Loss_bcs: 8.115e+01, Loss_res: 1.224e+03 ,Time: 0.00\n",
            "update_res: nan\n",
            "update_bcs1: 0.000e+00\n"
          ]
        },
        {
          "name": "stdout",
          "output_type": "stream",
          "text": [
            "adaptive_constant_bc:  6.9954805960620785\n"
          ]
        },
        {
          "name": "stderr",
          "output_type": "stream",
          "text": [
            "It: 38500, Loss: 1.304e+03, Loss_bcs: 8.118e+01, Loss_res: 1.223e+03 ,Time: 0.00\n",
            "update_res: nan\n",
            "update_bcs1: 0.000e+00\n"
          ]
        },
        {
          "name": "stdout",
          "output_type": "stream",
          "text": [
            "adaptive_constant_bc:  6.988072897539641\n"
          ]
        },
        {
          "name": "stderr",
          "output_type": "stream",
          "text": [
            "It: 38600, Loss: 1.304e+03, Loss_bcs: 8.120e+01, Loss_res: 1.222e+03 ,Time: 0.00\n",
            "update_res: nan\n",
            "update_bcs1: 0.000e+00\n"
          ]
        },
        {
          "name": "stdout",
          "output_type": "stream",
          "text": [
            "adaptive_constant_bc:  6.980801373146563\n"
          ]
        },
        {
          "name": "stderr",
          "output_type": "stream",
          "text": [
            "It: 38700, Loss: 1.303e+03, Loss_bcs: 8.122e+01, Loss_res: 1.222e+03 ,Time: 0.00\n",
            "update_res: nan\n",
            "update_bcs1: 0.000e+00\n"
          ]
        },
        {
          "name": "stdout",
          "output_type": "stream",
          "text": [
            "adaptive_constant_bc:  6.973564335901048\n"
          ]
        },
        {
          "name": "stderr",
          "output_type": "stream",
          "text": [
            "It: 38800, Loss: 1.302e+03, Loss_bcs: 8.124e+01, Loss_res: 1.221e+03 ,Time: 0.00\n",
            "update_res: nan\n",
            "update_bcs1: 0.000e+00\n"
          ]
        },
        {
          "name": "stdout",
          "output_type": "stream",
          "text": [
            "adaptive_constant_bc:  6.966441596200796\n"
          ]
        },
        {
          "name": "stderr",
          "output_type": "stream",
          "text": [
            "It: 38900, Loss: 1.301e+03, Loss_bcs: 8.126e+01, Loss_res: 1.220e+03 ,Time: 0.00\n",
            "update_res: nan\n",
            "update_bcs1: 0.000e+00\n"
          ]
        },
        {
          "name": "stdout",
          "output_type": "stream",
          "text": [
            "adaptive_constant_bc:  6.9593573970036475\n"
          ]
        },
        {
          "name": "stderr",
          "output_type": "stream",
          "text": [
            "It: 39000, Loss: 1.301e+03, Loss_bcs: 8.128e+01, Loss_res: 1.219e+03 ,Time: 0.00\n",
            "update_res: nan\n",
            "update_bcs1: 0.000e+00\n"
          ]
        },
        {
          "name": "stdout",
          "output_type": "stream",
          "text": [
            "adaptive_constant_bc:  6.952317754853861\n"
          ]
        },
        {
          "name": "stderr",
          "output_type": "stream",
          "text": [
            "It: 39100, Loss: 1.300e+03, Loss_bcs: 8.130e+01, Loss_res: 1.219e+03 ,Time: 0.00\n",
            "update_res: nan\n",
            "update_bcs1: 0.000e+00\n"
          ]
        },
        {
          "name": "stdout",
          "output_type": "stream",
          "text": [
            "adaptive_constant_bc:  6.945311587017046\n"
          ]
        },
        {
          "name": "stderr",
          "output_type": "stream",
          "text": [
            "It: 39200, Loss: 1.299e+03, Loss_bcs: 8.132e+01, Loss_res: 1.218e+03 ,Time: 0.00\n",
            "update_res: nan\n",
            "update_bcs1: 0.000e+00\n"
          ]
        },
        {
          "name": "stdout",
          "output_type": "stream",
          "text": [
            "adaptive_constant_bc:  6.938396688694342\n"
          ]
        },
        {
          "name": "stderr",
          "output_type": "stream",
          "text": [
            "It: 39300, Loss: 1.299e+03, Loss_bcs: 8.134e+01, Loss_res: 1.217e+03 ,Time: 0.00\n",
            "update_res: nan\n",
            "update_bcs1: 0.000e+00\n"
          ]
        },
        {
          "name": "stdout",
          "output_type": "stream",
          "text": [
            "adaptive_constant_bc:  6.931548530641403\n"
          ]
        },
        {
          "name": "stderr",
          "output_type": "stream",
          "text": [
            "It: 39400, Loss: 1.298e+03, Loss_bcs: 8.136e+01, Loss_res: 1.217e+03 ,Time: 0.00\n",
            "update_res: nan\n",
            "update_bcs1: 0.000e+00\n"
          ]
        },
        {
          "name": "stdout",
          "output_type": "stream",
          "text": [
            "adaptive_constant_bc:  6.924772875121666\n"
          ]
        },
        {
          "name": "stderr",
          "output_type": "stream",
          "text": [
            "It: 39500, Loss: 1.297e+03, Loss_bcs: 8.138e+01, Loss_res: 1.216e+03 ,Time: 0.00\n",
            "update_res: nan\n",
            "update_bcs1: 0.000e+00\n"
          ]
        },
        {
          "name": "stdout",
          "output_type": "stream",
          "text": [
            "adaptive_constant_bc:  6.918105486255165\n"
          ]
        },
        {
          "name": "stderr",
          "output_type": "stream",
          "text": [
            "It: 39600, Loss: 1.297e+03, Loss_bcs: 8.140e+01, Loss_res: 1.215e+03 ,Time: 0.00\n",
            "update_res: nan\n",
            "update_bcs1: 0.000e+00\n"
          ]
        },
        {
          "name": "stdout",
          "output_type": "stream",
          "text": [
            "adaptive_constant_bc:  6.911479386733802\n"
          ]
        },
        {
          "name": "stderr",
          "output_type": "stream",
          "text": [
            "It: 39700, Loss: 1.296e+03, Loss_bcs: 8.142e+01, Loss_res: 1.215e+03 ,Time: 0.00\n",
            "update_res: nan\n",
            "update_bcs1: 0.000e+00\n"
          ]
        },
        {
          "name": "stdout",
          "output_type": "stream",
          "text": [
            "adaptive_constant_bc:  6.904968472882548\n"
          ]
        },
        {
          "name": "stderr",
          "output_type": "stream",
          "text": [
            "It: 39800, Loss: 1.295e+03, Loss_bcs: 8.144e+01, Loss_res: 1.214e+03 ,Time: 0.00\n",
            "update_res: nan\n",
            "update_bcs1: 0.000e+00\n"
          ]
        },
        {
          "name": "stdout",
          "output_type": "stream",
          "text": [
            "adaptive_constant_bc:  6.89848253133528\n"
          ]
        },
        {
          "name": "stderr",
          "output_type": "stream",
          "text": [
            "It: 39900, Loss: 1.295e+03, Loss_bcs: 8.146e+01, Loss_res: 1.213e+03 ,Time: 0.00\n",
            "update_res: nan\n",
            "update_bcs1: 0.000e+00\n"
          ]
        },
        {
          "name": "stdout",
          "output_type": "stream",
          "text": [
            "adaptive_constant_bc:  6.8920716863989675\n"
          ]
        },
        {
          "name": "stderr",
          "output_type": "stream",
          "text": [
            "/home/afrah2/anaconda3/envs/twoPhase/lib/python3.7/site-packages/seaborn/distributions.py:2619: FutureWarning: `distplot` is a deprecated function and will be removed in a future version. Please adapt your code to use either `displot` (a figure-level function with similar flexibility) or `kdeplot` (an axes-level function for kernel density plots).\n",
            "  warnings.warn(msg, FutureWarning)\n",
            "/home/afrah2/anaconda3/envs/twoPhase/lib/python3.7/site-packages/seaborn/distributions.py:2619: FutureWarning: `distplot` is a deprecated function and will be removed in a future version. Please adapt your code to use either `displot` (a figure-level function with similar flexibility) or `kdeplot` (an axes-level function for kernel density plots).\n",
            "  warnings.warn(msg, FutureWarning)\n",
            "/home/afrah2/anaconda3/envs/twoPhase/lib/python3.7/site-packages/seaborn/distributions.py:2619: FutureWarning: `distplot` is a deprecated function and will be removed in a future version. Please adapt your code to use either `displot` (a figure-level function with similar flexibility) or `kdeplot` (an axes-level function for kernel density plots).\n",
            "  warnings.warn(msg, FutureWarning)\n",
            "/home/afrah2/anaconda3/envs/twoPhase/lib/python3.7/site-packages/seaborn/distributions.py:2619: FutureWarning: `distplot` is a deprecated function and will be removed in a future version. Please adapt your code to use either `displot` (a figure-level function with similar flexibility) or `kdeplot` (an axes-level function for kernel density plots).\n",
            "  warnings.warn(msg, FutureWarning)\n",
            "Gradients information stored ...\n",
            "It: 40000, Loss: 1.294e+03, Loss_bcs: 8.148e+01, Loss_res: 1.213e+03 ,Time: 0.28\n",
            "/home/afrah2/anaconda3/envs/twoPhase/lib/python3.7/site-packages/ipykernel_launcher.py:245: RuntimeWarning: overflow encountered in exp\n",
            "/home/afrah2/anaconda3/envs/twoPhase/lib/python3.7/site-packages/ipykernel_launcher.py:250: RuntimeWarning: overflow encountered in exp\n",
            "/home/afrah2/anaconda3/envs/twoPhase/lib/python3.7/site-packages/ipykernel_launcher.py:251: RuntimeWarning: invalid value encountered in true_divide\n",
            "update_res: nan\n",
            "update_bcs1: 0.000e+00\n"
          ]
        },
        {
          "name": "stdout",
          "output_type": "stream",
          "text": [
            "adaptive_constant_bc:  6.885756876317548\n"
          ]
        },
        {
          "name": "stderr",
          "output_type": "stream",
          "text": [
            "elapsed: 1.00e+02\n",
            "Relative L2 error_u: 7.10e+00\n",
            "Relative L2 error_r: 3.06e-01\n"
          ]
        },
        {
          "ename": "TypeError",
          "evalue": "unsupported format string passed to list.__format__",
          "output_type": "error",
          "traceback": [
            "\u001b[0;31m---------------------------------------------------------------------------\u001b[0m",
            "\u001b[0;31mTypeError\u001b[0m                                 Traceback (most recent call last)",
            "\u001b[0;32m/tmp/ipykernel_33391/1500751541.py\u001b[0m in \u001b[0;36m<module>\u001b[0;34m\u001b[0m\n\u001b[1;32m     85\u001b[0m \u001b[0;34m\u001b[0m\u001b[0m\n\u001b[1;32m     86\u001b[0m \u001b[0;34m\u001b[0m\u001b[0m\n\u001b[0;32m---> 87\u001b[0;31m             \u001b[0mmodel\u001b[0m\u001b[0;34m.\u001b[0m\u001b[0mprint\u001b[0m\u001b[0;34m(\u001b[0m\u001b[0;34m'mean value of lambda_bc: {:.2e}'\u001b[0m\u001b[0;34m.\u001b[0m\u001b[0mformat\u001b[0m\u001b[0;34m(\u001b[0m\u001b[0mmodel\u001b[0m\u001b[0;34m.\u001b[0m\u001b[0madaptive_constant_bcs_log\u001b[0m\u001b[0;34m)\u001b[0m \u001b[0;34m/\u001b[0m\u001b[0mlen\u001b[0m\u001b[0;34m(\u001b[0m\u001b[0mmodel\u001b[0m\u001b[0;34m.\u001b[0m\u001b[0madaptive_constant_bcs_log\u001b[0m\u001b[0;34m)\u001b[0m\u001b[0;34m)\u001b[0m\u001b[0;34m\u001b[0m\u001b[0;34m\u001b[0m\u001b[0m\n\u001b[0m\u001b[1;32m     88\u001b[0m             \u001b[0mmodel\u001b[0m\u001b[0;34m.\u001b[0m\u001b[0mprint\u001b[0m\u001b[0;34m(\u001b[0m\u001b[0;34m'first value of lambda_bc: {:.2e}'\u001b[0m\u001b[0;34m.\u001b[0m\u001b[0mformat\u001b[0m\u001b[0;34m(\u001b[0m\u001b[0mmodel\u001b[0m\u001b[0;34m.\u001b[0m\u001b[0madaptive_constant_bcs_log\u001b[0m\u001b[0;34m[\u001b[0m\u001b[0;36m0\u001b[0m\u001b[0;34m]\u001b[0m\u001b[0;34m)\u001b[0m\u001b[0;34m)\u001b[0m\u001b[0;34m\u001b[0m\u001b[0;34m\u001b[0m\u001b[0m\n\u001b[1;32m     89\u001b[0m             \u001b[0mmodel\u001b[0m\u001b[0;34m.\u001b[0m\u001b[0mprint\u001b[0m\u001b[0;34m(\u001b[0m\u001b[0;34m'Relative L2 error_u: {:.2e}'\u001b[0m\u001b[0;34m.\u001b[0m\u001b[0mformat\u001b[0m\u001b[0;34m(\u001b[0m\u001b[0merror_u\u001b[0m\u001b[0;34m)\u001b[0m\u001b[0;34m)\u001b[0m\u001b[0;34m\u001b[0m\u001b[0;34m\u001b[0m\u001b[0m\n",
            "\u001b[0;31mTypeError\u001b[0m: unsupported format string passed to list.__format__"
          ]
        }
      ],
      "source": [
        "# Define computional domain\n",
        "bc1_coords = np.array([[0.0], [0.0]])\n",
        "bc2_coords = np.array([[1.0], [1.0]])\n",
        "dom_coords = np.array([[0.0], [1.0]])\n",
        "\n",
        "# Training data on u(x) -- Dirichlet boundary conditions\n",
        "\n",
        "nn  = 100\n",
        "\n",
        "X_bc1 = dom_coords[0, 0] * np.ones((nn // 2, 1))\n",
        "X_bc2 = dom_coords[1, 0] * np.ones((nn // 2, 1))\n",
        "X_u = np.vstack([X_bc1, X_bc2])\n",
        "Y_u = u(X_u, a)\n",
        "\n",
        "X_r = np.linspace(dom_coords[0, 0], dom_coords[1, 0], nn)[:, None]\n",
        "Y_r = u_xx(X_r, a)\n",
        "\n",
        "nn = 1000\n",
        "X_star = np.linspace(dom_coords[0, 0], dom_coords[1, 0], nn)[:, None]\n",
        "u_star = u(X_star, a)\n",
        "r_star = u_xx(X_star, a)\n",
        "\n",
        "nIter =40001\n",
        "bcbatch_size = 500\n",
        "ubatch_size = 5000\n",
        "mbbatch_size = 128\n",
        "\n",
        "\n",
        "\n",
        "# Define model\n",
        "mode = 'M1'\n",
        "layers = [1, 500, 1]\n",
        "\n",
        "\n",
        "\n",
        "iterations = 1\n",
        "methods = [ \"mini_batch\"]\n",
        "\n",
        "result_dict =  dict((mtd, []) for mtd in methods)\n",
        "\n",
        "for mtd in methods:\n",
        "    print(\"Method: \", mtd)\n",
        "    time_list = []\n",
        "    error_u_list = []\n",
        "    error_r_list = []\n",
        "    \n",
        "    for index in range(iterations):\n",
        "\n",
        "        print(\"Epoch: \", str(index+1))\n",
        "\n",
        "        # Create residual sampler\n",
        "        gpu_options = tf.GPUOptions(visible_device_list=\"0\")\n",
        "        tf.reset_default_graph()\n",
        "        with tf.Session(config=tf.ConfigProto(gpu_options=gpu_options,allow_soft_placement=False, log_device_placement=False)) as sess:\n",
        "\n",
        "            model = PINN(layers, X_u, Y_u, X_r, Y_r , mode , sess)    \n",
        "\n",
        "            # Train model\n",
        "            start_time = time.time()\n",
        "\n",
        "            if mtd ==\"full_batch\":\n",
        "                print(\"full_batch method is used\")\n",
        "                model.train(nIter  , bcbatch_size , ubatch_size  )\n",
        "            elif mtd ==\"mini_batch\":\n",
        "                print(\"mini_batch method is used\")\n",
        "                model.trainmb(nIter, mbbatch_size)\n",
        "            else:\n",
        "                print(\"unknown method!\")\n",
        "            elapsed = time.time() - start_time\n",
        "\n",
        "            # Predictions\n",
        "            u_pred = model.predict_u(X_star)\n",
        "            r_pred = model.predict_r(X_star)\n",
        "            # Predictions\n",
        "\n",
        " \n",
        "\n",
        "            error_u = np.linalg.norm(u_star - u_pred, 2) / np.linalg.norm(u_star, 2)\n",
        "            error_r = np.linalg.norm(r_star - r_pred, 2) / np.linalg.norm(r_star, 2)\n",
        "\n",
        "            model.print('elapsed: {:.2e}'.format(elapsed))\n",
        "\n",
        "            model.print('Relative L2 error_u: {:.2e}'.format(error_u))\n",
        "            model.print('Relative L2 error_r: {:.2e}'.format(error_r))\n",
        "\n",
        "\n",
        "            model.print('mean value of lambda_bc: {:.2e}'.format(np.average(model.adaptive_constant_bcs_log)))\n",
        "            model.print('first value of lambda_bc: {:.2e}'.format(model.adaptive_constant_bcs_log[0]))\n",
        "            model.print('Relative L2 error_u: {:.2e}'.format(error_u))\n",
        "            model.print('Relative L2 error_v: {:.2e}'.format(error_r))\n",
        "            \n",
        "            model.save_NN()\n",
        "            model.plot_ntk()\n",
        "            model.plot_grad()\n",
        "            model.plot_lambda()\n",
        "            model.plt_prediction( X_star , u_star , u_pred)\n",
        "            sess.close()  \n",
        "            \n",
        "        time_list.append(elapsed)\n",
        "        error_u_list.append(error_u)\n",
        "        error_r_list.append(error_r)\n",
        "\n",
        "    print(\"\\n\\nMethod: \", mtd)\n",
        "    print(\"\\naverage of time_list:\" , sum(time_list) / len(time_list) )\n",
        "    print(\"average of error_u_list:\" , sum(error_u_list) / len(error_u_list) )\n",
        "    print(\"average of error_v_list:\" , sum(error_r_list) / len(error_r_list) )\n",
        "\n",
        "    result_dict[mtd] = [time_list ,error_u_list ,error_r_list ]\n",
        "    # scipy.io.savemat(\"M2_result_\"+str(iterations)+\"_\"+mtd+\".mat\" , {'time_list':np.array(time_list),'error_u_list':np.array(error_u_list),'error_f_list':np.array(error_f_list)})\n",
        "\n",
        "    scipy.io.savemat(os.path.join(model.dirname,\"\"+mtd+\"_model\"+mode+\"_mb\"+str(mbbatch_size)+\"_fb\"+str(ubatch_size)+\"_bc\"+str(bcbatch_size)+\"_n\"+str(iterations)+\"_nIter\"+str(nIter)+\".mat\") , result_dict)\n",
        "\n",
        "\n"
      ]
    },
    {
      "cell_type": "code",
      "execution_count": 9,
      "metadata": {},
      "outputs": [
        {
          "name": "stderr",
          "output_type": "stream",
          "text": [
            "elapsed: 1.00e+02\n",
            "Relative L2 error_u: 7.10e+00\n",
            "Relative L2 error_r: 3.06e-01\n",
            "mean value of lambda_bc: 3.17e+01\n",
            "first value of lambda_bc: 6.27e+02\n",
            "Relative L2 error_u: 7.10e+00\n",
            "Relative L2 error_v: 3.06e-01\n"
          ]
        },
        {
          "name": "stdout",
          "output_type": "stream",
          "text": [
            "\n",
            "\n",
            "Method:  mini_batch\n",
            "\n",
            "average of time_list: 100.24074053764343\n",
            "average of error_u_list: 7.095707945853118\n",
            "average of error_v_list: 0.30632446717922435\n"
          ]
        }
      ],
      "source": [
        "\n",
        "\n",
        "error_u = np.linalg.norm(u_star - u_pred, 2) / np.linalg.norm(u_star, 2)\n",
        "error_r = np.linalg.norm(r_star - r_pred, 2) / np.linalg.norm(r_star, 2)\n",
        "\n",
        "model.print('elapsed: {:.2e}'.format(elapsed))\n",
        "\n",
        "model.print('Relative L2 error_u: {:.2e}'.format(error_u))\n",
        "model.print('Relative L2 error_r: {:.2e}'.format(error_r))\n",
        "\n",
        "\n",
        "model.print('mean value of lambda_bc: {:.2e}'.format(np.average(model.adaptive_constant_bcs_log)))\n",
        "model.print('first value of lambda_bc: {:.2e}'.format(model.adaptive_constant_bcs_log[0]))\n",
        "model.print('Relative L2 error_u: {:.2e}'.format(error_u))\n",
        "model.print('Relative L2 error_v: {:.2e}'.format(error_r))\n",
        "\n",
        "# model.save_NN()\n",
        "model.plot_ntk()\n",
        "model.plot_grad()\n",
        "model.plot_lambda()\n",
        "model.plt_prediction( X_star , u_star , u_pred)\n",
        "sess.close()  \n",
        "\n",
        "time_list.append(elapsed)\n",
        "error_u_list.append(error_u)\n",
        "error_r_list.append(error_r)\n",
        "\n",
        "print(\"\\n\\nMethod: \", mtd)\n",
        "print(\"\\naverage of time_list:\" , sum(time_list) / len(time_list) )\n",
        "print(\"average of error_u_list:\" , sum(error_u_list) / len(error_u_list) )\n",
        "print(\"average of error_v_list:\" , sum(error_r_list) / len(error_r_list) )\n",
        "\n",
        "result_dict[mtd] = [time_list ,error_u_list ,error_r_list ]\n",
        "# scipy.io.savemat(\"M2_result_\"+str(iterations)+\"_\"+mtd+\".mat\" , {'time_list':np.array(time_list),'error_u_list':np.array(error_u_list),'error_f_list':np.array(error_f_list)})\n",
        "\n",
        "scipy.io.savemat(os.path.join(model.dirname,\"\"+mtd+\"_model\"+mode+\"_mb\"+str(mbbatch_size)+\"_fb\"+str(ubatch_size)+\"_bc\"+str(bcbatch_size)+\"_n\"+str(iterations)+\"_nIter\"+str(nIter)+\".mat\") , result_dict)\n",
        "\n"
      ]
    },
    {
      "cell_type": "code",
      "execution_count": 7,
      "metadata": {},
      "outputs": [
        {
          "data": {
            "text/plain": [
              "[]"
            ]
          },
          "execution_count": 7,
          "metadata": {},
          "output_type": "execute_result"
        }
      ],
      "source": [
        "model.mean_grad_bcs_list"
      ]
    },
    {
      "cell_type": "code",
      "execution_count": null,
      "metadata": {},
      "outputs": [],
      "source": [
        "\n",
        "def plot_grad(self):\n",
        "\n",
        "    fig, ax = plt.subplots()\n",
        "    fig.set_size_inches([15,8])\n",
        "    ax.semilogy(self.mean_grad_res_list_log, label=r'$\\bar{\\nabla_\\theta \\mathcal{L}_{u_{phy}}}$')\n",
        "    ax.semilogy(self.mean_grad_bcs_list_log, label=r'$\\bar{\\nabla_\\theta \\mathcal{L}_{u_{bc}}}$')\n",
        "\n",
        "    ax.set_xlabel(\"epochs\", fontsize=15)\n",
        "    ax.set_ylabel(\"loss\", fontsize=15)\n",
        "    ax.tick_params(labelsize=15)\n",
        "    ax.legend()\n",
        "    path = os.path.join(self.dirname,'grad_history.png')\n",
        "    plt.savefig(path)\n",
        "\n",
        "plot_grad(model)"
      ]
    },
    {
      "cell_type": "code",
      "execution_count": null,
      "metadata": {},
      "outputs": [],
      "source": [
        "# Define model\n",
        "layers = [1, 512, 1]  \n",
        "# layers = [1, 512, 512, 512, 1]  \n"
      ]
    },
    {
      "cell_type": "code",
      "execution_count": null,
      "metadata": {
        "colab": {
          "base_uri": "https://localhost:8080/",
          "height": 369
        },
        "id": "Fw807UNzhu5z",
        "outputId": "929ae89c-3e10-4c56-e349-051441e8ab32"
      },
      "outputs": [],
      "source": [
        "loss_bcs = model.loss_bcs_log\n",
        "loss_res = model.loss_res_log\n",
        "\n",
        "fig = plt.figure(figsize=(6,5))\n",
        "plt.plot(loss_res, label='$\\mathcal{L}_{r}$')\n",
        "plt.plot(loss_bcs, label='$\\mathcal{L}_{b}$')\n",
        "plt.yscale('log')\n",
        "plt.xlabel('iterations')\n",
        "plt.ylabel('Loss')\n",
        "plt.legend()\n",
        "plt.tight_layout()\n",
        "plt.show()"
      ]
    },
    {
      "cell_type": "markdown",
      "metadata": {
        "id": "TFLIBq5xjZ3v"
      },
      "source": [
        "**Model Prediction**"
      ]
    },
    {
      "cell_type": "code",
      "execution_count": null,
      "metadata": {
        "colab": {
          "base_uri": "https://localhost:8080/"
        },
        "id": "To0PDN17cc0v",
        "outputId": "7284b31e-f2fe-41ab-93a9-4c2c91f94cde"
      },
      "outputs": [],
      "source": []
    },
    {
      "cell_type": "code",
      "execution_count": null,
      "metadata": {
        "colab": {
          "base_uri": "https://localhost:8080/",
          "height": 369
        },
        "id": "K428lOuXhdc8",
        "outputId": "b1e23055-178c-400c-8972-f3e7987e0892"
      },
      "outputs": [],
      "source": []
    },
    {
      "cell_type": "markdown",
      "metadata": {
        "id": "9EYdfKGLj6h0"
      },
      "source": [
        "**NTK Eigenvalues**"
      ]
    },
    {
      "cell_type": "code",
      "execution_count": null,
      "metadata": {
        "id": "e3dByeQjhBYj"
      },
      "outputs": [],
      "source": []
    },
    {
      "cell_type": "code",
      "execution_count": null,
      "metadata": {
        "colab": {
          "base_uri": "https://localhost:8080/",
          "height": 369
        },
        "id": "vSn3Q_1IhisN",
        "outputId": "4c713f42-11b2-4de9-8698-085eb54c164d"
      },
      "outputs": [],
      "source": []
    },
    {
      "cell_type": "markdown",
      "metadata": {
        "id": "pIS5UH81kOxT"
      },
      "source": [
        "**Change of NTK**"
      ]
    },
    {
      "cell_type": "code",
      "execution_count": null,
      "metadata": {
        "id": "wF4Q_iZshQ-0"
      },
      "outputs": [],
      "source": [
        "# Change of the NTK\n",
        "NTK_change_list = []\n",
        "K0 = K_list[0]\n",
        "for K in K_list:\n",
        "    diff = np.linalg.norm(K - K0) / np.linalg.norm(K0) \n",
        "    NTK_change_list.append(diff)"
      ]
    },
    {
      "cell_type": "code",
      "execution_count": null,
      "metadata": {
        "colab": {
          "base_uri": "https://localhost:8080/",
          "height": 338
        },
        "id": "E-_gPGpCkF4n",
        "outputId": "9893e038-907d-4425-bb6e-8ecdb2ad497d"
      },
      "outputs": [],
      "source": [
        "fig = plt.figure(figsize=(6,5))\n",
        "plt.plot(NTK_change_list)"
      ]
    },
    {
      "cell_type": "markdown",
      "metadata": {
        "id": "Mg0ZGHbAkW6N"
      },
      "source": [
        "\n",
        "**Change of NN Params**"
      ]
    },
    {
      "cell_type": "code",
      "execution_count": null,
      "metadata": {
        "id": "LLGv9JUuioVZ"
      },
      "outputs": [],
      "source": [
        "# Change of the weights and biases\n",
        "def compute_weights_diff(weights_1, weights_2):\n",
        "    weights = []\n",
        "    N = len(weights_1)\n",
        "    for k in range(N):\n",
        "        weight = weights_1[k] - weights_2[k]\n",
        "        weights.append(weight)\n",
        "    return weights\n",
        "\n",
        "def compute_weights_norm(weights, biases):\n",
        "    norm = 0\n",
        "    for w in weights:\n",
        "        norm = norm + np.sum(np.square(w))\n",
        "    for b in biases:\n",
        "        norm = norm + np.sum(np.square(b))\n",
        "    norm = np.sqrt(norm)\n",
        "    return norm\n",
        "\n",
        "# Restore the list weights and biases\n",
        "weights_log = model.weights_log\n",
        "biases_log = model.biases_log\n",
        "\n",
        "weights_0 = weights_log[0]\n",
        "biases_0 = biases_log[0]\n",
        "\n",
        "# Norm of the weights at initialization\n",
        "weights_init_norm = compute_weights_norm(weights_0, biases_0)\n",
        "\n",
        "weights_change_list = []\n",
        "\n",
        "N = len(weights_log)\n",
        "for k in range(N):\n",
        "    weights_diff = compute_weights_diff(weights_log[k], weights_log[0])\n",
        "    biases_diff = compute_weights_diff(biases_log[k], biases_log[0])\n",
        "    \n",
        "    weights_diff_norm = compute_weights_norm(weights_diff, biases_diff)\n",
        "    weights_change = weights_diff_norm / weights_init_norm\n",
        "    weights_change_list.append(weights_change)"
      ]
    },
    {
      "cell_type": "code",
      "execution_count": null,
      "metadata": {
        "colab": {
          "base_uri": "https://localhost:8080/",
          "height": 338
        },
        "id": "5NLsAxgzi4KH",
        "outputId": "74d92bf9-0dde-438e-e9b3-a551904f4e2f"
      },
      "outputs": [],
      "source": [
        "fig = plt.figure(figsize=(6,5))\n",
        "plt.plot(weights_change_list)"
      ]
    },
    {
      "cell_type": "code",
      "execution_count": null,
      "metadata": {
        "id": "MYbzkhfMjJ8k"
      },
      "outputs": [],
      "source": []
    }
  ],
  "metadata": {
    "accelerator": "GPU",
    "colab": {
      "name": "PINNsNTK_Poisson.ipynb",
      "provenance": []
    },
    "kernelspec": {
      "display_name": "Python 3",
      "name": "python3"
    },
    "language_info": {
      "codemirror_mode": {
        "name": "ipython",
        "version": 3
      },
      "file_extension": ".py",
      "mimetype": "text/x-python",
      "name": "python",
      "nbconvert_exporter": "python",
      "pygments_lexer": "ipython3",
      "version": "3.7.13"
    }
  },
  "nbformat": 4,
  "nbformat_minor": 0
}
