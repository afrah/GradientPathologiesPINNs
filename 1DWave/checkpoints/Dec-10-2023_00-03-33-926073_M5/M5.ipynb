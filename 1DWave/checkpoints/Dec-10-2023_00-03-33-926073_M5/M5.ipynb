{
  "cells": [
    {
      "cell_type": "code",
      "execution_count": 1,
      "metadata": {
        "id": "7WkCgnRiYQSY"
      },
      "outputs": [],
      "source": [
        "import tensorflow as tf\n",
        "import numpy as np\n",
        "import timeit\n",
        "from scipy.interpolate import griddata\n",
        "import seaborn as sns\n",
        "import matplotlib.pyplot as plt\n",
        "import pandas as pd\n",
        "import os\n",
        "\n",
        "\n",
        "\n",
        "os.environ[\"KMP_WARNINGS\"] = \"FALSE\" \n",
        "import timeit\n",
        "\n",
        "import sys\n",
        "\n",
        "import scipy\n",
        "import scipy.io\n",
        "import time\n",
        "\n",
        "\n",
        "\n",
        "import logging\n",
        "\n",
        "import os.path\n",
        "import shutil\n",
        "from datetime import datetime\n",
        "import pickle\n",
        "\n",
        "class Sampler:\n",
        "    # Initialize the class\n",
        "    def __init__(self, dim, coords, func, name = None):\n",
        "        self.dim = dim\n",
        "        self.coords = coords\n",
        "        self.func = func\n",
        "        self.name = name\n",
        "    def sample(self, N):\n",
        "        x = self.coords[0:1,:] + (self.coords[1:2,:]-self.coords[0:1,:])*np.random.rand(N, self.dim)\n",
        "        y = self.func(x)\n",
        "        return x, y\n",
        "\n",
        "# Define the exact solution and its derivatives\n",
        "def u(x, a, c):\n",
        "    \"\"\"\n",
        "    :param x: x = (t, x)\n",
        "    \"\"\"\n",
        "    t = x[:,0:1]\n",
        "    x = x[:,1:2]\n",
        "    return np.sin(np.pi * x) * np.cos(c * np.pi * t) + a * np.sin(2 * c * np.pi* x) * np.cos(4 * c  * np.pi * t)\n",
        "\n",
        "def u_t(x,a, c):\n",
        "    t = x[:,0:1]\n",
        "    x = x[:,1:2]\n",
        "    u_t = -  c * np.pi * np.sin(np.pi * x) * np.sin(c * np.pi * t) -  a * 4 * c * np.pi * np.sin(2 * c * np.pi* x) * np.sin(4 * c * np.pi * t)\n",
        "    return u_t\n",
        "\n",
        "def u_tt(x, a, c):\n",
        "    t = x[:,0:1]\n",
        "    x = x[:,1:2]\n",
        "    u_tt = -(c * np.pi)**2 * np.sin( np.pi * x) * np.cos(c * np.pi * t) - a * (4 * c * np.pi)**2 *  np.sin(2 * c * np.pi* x) * np.cos(4 * c * np.pi * t)\n",
        "    return u_tt\n",
        "\n",
        "def u_xx(x, a, c):\n",
        "    t = x[:,0:1]\n",
        "    x = x[:,1:2]\n",
        "    u_xx = - np.pi**2 * np.sin( np.pi * x) * np.cos(c * np.pi * t) -  a * (2 * c * np.pi)** 2 * np.sin(2 * c * np.pi* x) * np.cos(4 * c * np.pi * t)\n",
        "    return  u_xx\n",
        "\n",
        "\n",
        "def r(x, a, c):\n",
        "    return u_tt(x, a, c) - c**2 * u_xx(x, a, c)\n",
        "\n",
        "def operator(u, t, x, c, sigma_t=1.0, sigma_x=1.0):\n",
        "    u_t = tf.gradients(u, t)[0] / sigma_t\n",
        "    u_x = tf.gradients(u, x)[0] / sigma_x\n",
        "    u_tt = tf.gradients(u_t, t)[0] / sigma_t\n",
        "    u_xx = tf.gradients(u_x, x)[0] / sigma_x\n",
        "    residual = u_tt - c**2 * u_xx\n",
        "    return residual\n",
        "\n"
      ]
    },
    {
      "cell_type": "code",
      "execution_count": null,
      "metadata": {
        "id": "-y7cHTcJfBTR"
      },
      "outputs": [],
      "source": []
    },
    {
      "cell_type": "code",
      "execution_count": 2,
      "metadata": {
        "id": "SDqDWN3nfSAg"
      },
      "outputs": [],
      "source": [
        "class PINN:\n",
        "    # Initialize the class\n",
        "    def __init__(self, layers, operator, ics_sampler, bcs_sampler, res_sampler, c ,mode ,  sess):\n",
        "        # Normalization \n",
        "\n",
        "\n",
        "        self.mode = mode\n",
        "\n",
        "        self.dirname, logpath = self.make_output_dir()\n",
        "        self.logger = self.get_logger(logpath)     \n",
        "\n",
        "        X, _ = res_sampler.sample(np.int32(1e5))\n",
        "        self.mu_X, self.sigma_X = X.mean(0), X.std(0)\n",
        "        self.mu_t, self.sigma_t = self.mu_X[0], self.sigma_X[0]\n",
        "        self.mu_x, self.sigma_x = self.mu_X[1], self.sigma_X[1]\n",
        "\n",
        "        self.activFun = 'tanh'\n",
        "        # Samplers\n",
        "        self.operator = operator\n",
        "        self.ics_sampler = ics_sampler\n",
        "        self.bcs_sampler = bcs_sampler\n",
        "        self.res_sampler = res_sampler\n",
        "\n",
        "        self.sess = sess\n",
        "        # Initialize network weights and biases\n",
        "        self.layers = layers\n",
        "        self.weights, self.biases = self.initialize_NN(layers)\n",
        "        \n",
        "        # weights\n",
        "        self.lam_u_val = np.array(2.0)\n",
        "        self.lam_ut_val = np.array(2.0)\n",
        "        self.lam_res_val = np.array(1.0)\n",
        "        self.lam_bc1_val = np.array(2.0)\n",
        "        self.lam_bc2_val = np.array(2.0)\n",
        "      \n",
        "        # Wave constant\n",
        "        self.c = tf.constant(c, dtype=tf.float32)\n",
        "        \n",
        "\n",
        "        # Define Tensorflow session\n",
        "        self.sess = sess #tf.Session(config=tf.ConfigProto(log_device_placement=False))\n",
        "\n",
        "        # Define placeholders and computational graph\n",
        "        self.t_u_tf = tf.placeholder(tf.float32, shape=(None, 1))\n",
        "        self.x_u_tf = tf.placeholder(tf.float32, shape=(None, 1))\n",
        "\n",
        "        self.t_ics_tf = tf.placeholder(tf.float32, shape=(None, 1))\n",
        "        self.x_ics_tf = tf.placeholder(tf.float32, shape=(None, 1))\n",
        "        self.u_ics_tf = tf.placeholder(tf.float32, shape=(None, 1))\n",
        "\n",
        "        self.t_bc1_tf = tf.placeholder(tf.float32, shape=(None, 1))\n",
        "        self.x_bc1_tf = tf.placeholder(tf.float32, shape=(None, 1))\n",
        "\n",
        "        self.t_bc2_tf = tf.placeholder(tf.float32, shape=(None, 1))\n",
        "        self.x_bc2_tf = tf.placeholder(tf.float32, shape=(None, 1))\n",
        "\n",
        "        self.t_r_tf = tf.placeholder(tf.float32, shape=(None, 1))\n",
        "        self.x_r_tf = tf.placeholder(tf.float32, shape=(None, 1))\n",
        "        \n",
        "        self.lam_u_tf = tf.placeholder(tf.float32, shape=self.lam_u_val.shape)\n",
        "        self.lam_ut_tf = tf.placeholder(tf.float32, shape=self.lam_u_val.shape)\n",
        "        # self.lam_r_tf = tf.placeholder(tf.float32, shape=self.lam_u_val.shape)\n",
        "        self.lam_bc1_tf = tf.placeholder(tf.float32, shape=self.lam_bc1_val.shape)\n",
        "        self.lam_bc2_tf = tf.placeholder(tf.float32, shape=self.lam_bc2_val.shape)\n",
        "        self.lam_res_tf = tf.placeholder(tf.float32, shape=self.lam_res_val.shape)\n",
        "\n",
        "\n",
        "        self.u_pred = self.net_u(self.t_u_tf, self.x_u_tf)\n",
        "\n",
        "\n",
        "        # Evaluate predictions\n",
        "        self.u_ics_pred = self.net_u(self.t_ics_tf, self.x_ics_tf)\n",
        "        self.u_bc1_pred = self.net_u(self.t_bc1_tf, self.x_bc1_tf)\n",
        "        self.u_bc2_pred = self.net_u(self.t_bc2_tf, self.x_bc2_tf)\n",
        "\n",
        "        self.r_pred = self.net_r(self.t_r_tf, self.x_r_tf)\n",
        "        \n",
        "        \n",
        "        # Boundary loss and Initial loss\n",
        "        self.loss_ics_u = tf.reduce_mean(tf.square(self.u_ics_tf - self.u_ics_pred))\n",
        "        self.loss_ics_ut = tf.reduce_mean(tf.square( tf.gradients(self.u_ics_pred, self.t_ics_tf)[0] / self.sigma_t) )\n",
        "        self.loss_bc1 = tf.reduce_mean(tf.square(self.u_bc1_pred)) #+ tf.reduce_mean(tf.square(self.u_bc2_pred))\n",
        "        self.loss_bc2 = tf.reduce_mean(tf.square(self.u_bc2_pred))\n",
        "\n",
        "        # Residual loss\n",
        "        self.loss_res = tf.reduce_mean(tf.square(self.r_pred))\n",
        "\n",
        "        # Total loss\n",
        "        self.loss =  self.lam_res_val * self.loss_res + self.lam_bc1_tf * self.loss_bc1 +  self.lam_bc2_tf * self.loss_bc2 + self.lam_u_tf * (self.loss_ics_u + self.loss_ics_ut )\n",
        "\n",
        "        self.prev_loss = 1000000000\n",
        "        # Define optimizer with learning rate schedule\n",
        "        self.global_step = tf.Variable(0, trainable=False)\n",
        "        starter_learning_rate = 1e-3\n",
        "        self.learning_rate = tf.train.exponential_decay(starter_learning_rate, self.global_step,  1000, 0.9, staircase=False)\n",
        "        # Passing global_step to minimize() will increment it at each step.\n",
        "        self.train_op = tf.train.AdamOptimizer(self.learning_rate).minimize(self.loss, global_step=self.global_step)\n",
        "        \n",
        "\n",
        "        self.loss_tensor_list = [self.loss ,  self.loss_res,  self.loss_bc1 , self.loss_bc2 , self.loss_ics_u, self.loss_ics_ut] \n",
        "        self.loss_list = [\"total loss\" , \"loss_res\" , \"loss_bc1\", \"loss_bc2\", \"loss_ics_u\" , \"loss_ics_ut\"] \n",
        "\n",
        "        self.epoch_loss = dict.fromkeys(self.loss_list, 0)\n",
        "        self.loss_history = dict((loss, []) for loss in self.loss_list)\n",
        "\n",
        "        self.dict_gradients_res_layers = self.generate_grad_dict()\n",
        "        self.dict_gradients_bcs1_layers = self.generate_grad_dict()\n",
        "        self.dict_gradients_bcs2_layers = self.generate_grad_dict()\n",
        "        self.dict_gradients_ics_layers = self.generate_grad_dict()\n",
        "\n",
        "        # Gradients Storage\n",
        "        self.grad_res = []\n",
        "        self.grad_ics = []\n",
        "        self.grad_bcs1 = []\n",
        "        self.grad_bcs2 = []\n",
        "\n",
        "        for i in range(len(self.layers) - 1):\n",
        "            self.grad_res.append(tf.gradients(self.loss_res, self.weights[i])[0])\n",
        "            self.grad_bcs1.append(tf.gradients(self.loss_bc1, self.weights[i])[0])\n",
        "            self.grad_bcs2.append(tf.gradients(self.loss_bc2, self.weights[i])[0])\n",
        "            self.grad_ics.append(tf.gradients(self.loss_ics_u, self.weights[i])[0])\n",
        "\n",
        "        self.max_grad_res_list = []\n",
        "        self.mean_grad_bcs1_list = []\n",
        "        self.mean_grad_bcs2_list = []\n",
        "        self.mean_grad_ics_list = []\n",
        "\n",
        "        for i in range(len(self.layers) - 1):\n",
        "            self.max_grad_res_list.append(tf.math.reduce_std(tf.abs(self.grad_res[i]))) \n",
        "            self.mean_grad_bcs1_list.append(tf.math.reduce_std(tf.abs(self.grad_bcs1[i])))\n",
        "            self.mean_grad_bcs2_list.append(tf.math.reduce_std(tf.abs(self.grad_bcs2[i])))\n",
        "            self.mean_grad_ics_list.append(tf.math.reduce_std(tf.abs(self.grad_ics[i])))\n",
        "\n",
        "        self.mean_grad_res = tf.math.reduce_std(tf.stack(self.max_grad_res_list))\n",
        "        self.mean_grad_bcs1 = tf.math.reduce_std(tf.stack(self.mean_grad_bcs1_list))\n",
        "        self.mean_grad_bcs2 = tf.math.reduce_std(tf.stack(self.mean_grad_bcs2_list))\n",
        "        self.mean_grad_ics = tf.math.reduce_std(tf.stack(self.mean_grad_ics_list))\n",
        "        \n",
        "        self.adaptive_constant_bcs1 = self.mean_grad_bcs1\n",
        "        self.adaptive_constant_bcs2 = self.mean_grad_bcs2\n",
        "        self.adaptive_constant_ics = self.mean_grad_ics\n",
        "        self.adaptive_constant_res = self.mean_grad_res\n",
        "\n",
        "         # Initialize Tensorflow variables\n",
        "        init = tf.global_variables_initializer()\n",
        "        self.sess.run(init)\n",
        "\n",
        "    # Initialize network weights and biases using Xavier initialization\n",
        "    def initialize_NN(self, layers):\n",
        "        # Xavier initialization\n",
        "        def xavier_init(size):\n",
        "            in_dim = size[0]\n",
        "            out_dim = size[1]\n",
        "            xavier_stddev = 1. / np.sqrt((in_dim + out_dim) / 2.)\n",
        "            return tf.Variable(tf.random.normal([in_dim, out_dim], dtype=tf.float32) * xavier_stddev,  dtype=tf.float32)\n",
        "\n",
        "        weights = []\n",
        "        biases = []\n",
        "        num_layers = len(layers)\n",
        "        for l in range(0, num_layers - 1):\n",
        "            W = xavier_init(size=[layers[l], layers[l + 1]])\n",
        "            b = tf.Variable(tf.zeros([1, layers[l + 1]], dtype=tf.float32), dtype=tf.float32)\n",
        "            weights.append(W)\n",
        "            biases.append(b)\n",
        "        return weights, biases\n",
        "\n",
        "    # Evaluates the forward pass\n",
        "    def forward_pass(self, H, layers, weights, biases):\n",
        "        num_layers = len(layers)\n",
        "        for l in range(0, num_layers - 2):\n",
        "            W = weights[l]\n",
        "            b = biases[l]\n",
        "            H = tf.tanh(tf.add(tf.matmul(H, W), b))\n",
        "        W = weights[-1]\n",
        "        b = biases[-1]\n",
        "        H = tf.add(tf.matmul(H, W), b)\n",
        "        return H\n",
        "        # H = (tf.concat(inputs, 1) - self.X_mean)/self.X_std\n",
        "        # num_layers = len(layers)\n",
        "        # for l in range(0,num_layers-1):\n",
        "        #     W = weights[l]\n",
        "        #     b = biases[l]\n",
        "        #     V = W/tf.norm(W, axis = 0, keepdims=True)\n",
        "        #     H = tf.matmul(H, V)\n",
        "        #     H = H + b\n",
        "        #     if l < num_layers-2:\n",
        "        #             if(self.activFun == 'xsig'):\n",
        "        #                 H = H*tf.sigmoid(H)\n",
        "        #             elif self.activFun == 'hard_swish':\n",
        "        #                 H = H * tf.nn.relu6(H+3) * 0.16666667\n",
        "        #             else:\n",
        "        #                 H = tf.tanh(H)\n",
        "                \n",
        "        # Y = tf.split(H, num_or_size_splits=H.shape[1], axis=1)\n",
        "        # return H\n",
        "################################################################################################\n",
        "    # Forward pass for u\n",
        "    def net_u(self, t, x):\n",
        "        u = self.forward_pass(tf.concat([t, x], 1),  self.layers, self.weights, self.biases)\n",
        "        return u\n",
        "\n",
        "    # Forward pass for du/dt\n",
        "    def net_u_t(self, t, x):\n",
        "        u_t = tf.gradients(self.net_u(t, x), t)[0] / self.sigma_t\n",
        "        return u_t\n",
        "\n",
        "    # Forward pass for the residual\n",
        "    def net_r(self, t, x):\n",
        "        u = self.net_u(t, x)\n",
        "        residual = self.operator(u, t, x, self.c, self.sigma_t,  self.sigma_x)\n",
        "        return residual\n",
        "    \n",
        "    \n",
        "\n",
        "    def fetch_minibatch(self, sampler, N):\n",
        "        X, Y = sampler.sample(N)\n",
        "        X = (X - self.mu_X) / self.sigma_X\n",
        "        return X, Y\n",
        "\n",
        "        # Trains the model by minimizing the MSE loss\n",
        "\n",
        "    def trainmb(self, nIter=10000, batch_size=128, log_NTK=False, update_lam=False):\n",
        "\n",
        "        itValues = [1,100,1000,39999]\n",
        "        start_time = timeit.default_timer()\n",
        "        for it in range(1 , nIter):\n",
        "            # Fetch boundary mini-batches\n",
        "            X_ics_batch, u_ics_batch = self.fetch_minibatch(self.ics_sampler, batch_size // 3)\n",
        "            X_bc1_batch, _ = self.fetch_minibatch(self.bcs_sampler[0], batch_size // 3)\n",
        "            X_bc2_batch, _ = self.fetch_minibatch(self.bcs_sampler[1], batch_size // 3)\n",
        "            \n",
        "            # Fetch residual mini-batch\n",
        "            X_res_batch, _ = self.fetch_minibatch(self.res_sampler, batch_size)\n",
        "            # Define a dictionary for associating placeholders with data\n",
        "            tf_dict = {self.t_ics_tf: X_ics_batch[:, 0:1], self.x_ics_tf: X_ics_batch[:, 1:2],\n",
        "                       self.u_ics_tf: u_ics_batch,\n",
        "                       self.t_bc1_tf: X_bc1_batch[:, 0:1], self.x_bc1_tf: X_bc1_batch[:, 1:2],\n",
        "                       self.t_bc2_tf: X_bc2_batch[:, 0:1], self.x_bc2_tf: X_bc2_batch[:, 1:2],\n",
        "                       self.t_r_tf: X_res_batch[:, 0:1], self.x_r_tf: X_res_batch[:, 1:2],\n",
        "                       self.lam_u_tf: self.lam_u_val,\n",
        "                       self.lam_bc1_tf: self.lam_bc1_val,\n",
        "                       self.lam_bc2_tf: self.lam_bc2_val,\n",
        "                       self.lam_res_tf: self.lam_res_val\n",
        "                       }\n",
        "\n",
        "            # Run the Tensorflow session to minimize the loss\n",
        "            _, batch_losses = self.sess.run([self.train_op, self.loss_tensor_list] ,tf_dict)\n",
        "            [loss ,  loss_res,  loss_bc1 , loss_bc2 , loss_ics_u , loss_ics_ut]  = batch_losses\n",
        "\n",
        "            # Print\n",
        "            if  it % 100 == 0:\n",
        "              \n",
        "                    elapsed = timeit.default_timer() - start_time\n",
        "\n",
        "                    print('It: %d, Loss: %.3e,  loss_bc1: %.3e,  loss_bc2: %.3e, loss_ics_u: %.3e, loss_ics_ut: %.3e,  Loss_res: %.3e , Time: %.2f' %(it, loss, loss_bc1 , loss_bc2 , loss_ics_u, loss_ics_ut , loss_res , elapsed))\n",
        "            if  ( loss_bc1 + loss_bc2 + loss_ics_u + loss_ics_ut) <  self.prev_loss :\n",
        "               \n",
        "                adaptive_constant_res , adaptive_constant_bcs1, adaptive_constant_bcs2 , adaptive_constant_ics = self.sess.run( [self.adaptive_constant_res ,\n",
        "                                                                                                                                  self.adaptive_constant_bcs1,\n",
        "                                                                                                                                    self.adaptive_constant_bcs2,\n",
        "                                                                                                                                      self.adaptive_constant_ics  ], tf_dict)\n",
        "                # self.print adaptive weights during training\n",
        "                self.lam_res_val = loss_res / adaptive_constant_res #* ( 1.0 - self.rate) + self.rate * self.adaptive_constant_ics_val\n",
        "                self.lam_u_val = (loss_ics_u + loss_ics_ut) / adaptive_constant_ics #* ( 1.0 - self.rate) + self.rate * self.adaptive_constant_ics_val\n",
        "                self.lam_bc1_val = (loss_bc1 ) /adaptive_constant_bcs1 #* ( 1.0 - self.rate) + self.rate * self.adaptive_constant_bcs_val\n",
        "                self.lam_bc2_val = (loss_bc2 ) /adaptive_constant_bcs2 #* ( 1.0 - self.rate) + self.rate * self.adaptive_constant_bcs_val\n",
        "\n",
        "\n",
        "                self.print('lam_res_val: {:.3e}'.format(self.lam_res_val))\n",
        "                self.print('lam_u_val: {:.3e}'.format(self.lam_u_val))\n",
        "                self.print('lam_bc1_val: {:.3e}'.format(self.lam_bc1_val))\n",
        "                self.print('lam_bc2_val: {:.3e}'.format(self.lam_bc2_val))\n",
        "\n",
        "            \n",
        "                self.prev_loss = ( loss_bc1 + loss_bc2 + loss_ics_u + loss_ics_ut)\n",
        "\n",
        "            sys.stdout.flush()\n",
        "            start_time =      timeit.default_timer()\n",
        "            if it in itValues:\n",
        "                    self.plot_layerLoss(tf_dict , it)\n",
        "                    self.print(\"Gradients information stored ...\")\n",
        "\n",
        "            sys.stdout.flush()\n",
        "            self.assign_batch_losses(batch_losses)\n",
        "            for key in self.loss_history:\n",
        "                self.loss_history[key].append(self.epoch_loss[key])\n",
        "\n",
        "\n",
        "    def train(self, nIter , bcbatch_size , ubatch_size):\n",
        "\n",
        "        start_time = timeit.default_timer()\n",
        "\n",
        "        # Fetch boundary mini-batches\n",
        "        X_ics_batch, u_ics_batch = self.fetch_minibatch(self.ics_sampler, bcbatch_size)\n",
        "        X_bc1_batch, _ = self.fetch_minibatch(self.bcs_sampler[0], bcbatch_size )\n",
        "        X_bc2_batch, _ = self.fetch_minibatch(self.bcs_sampler[1], bcbatch_size )\n",
        "        \n",
        "        # Fetch residual mini-batch\n",
        "        X_res_batch, _ = self.fetch_minibatch(self.res_sampler, ubatch_size)\n",
        "        # print(\"inside trainmb: \" , X_res_batch.shape)\n",
        "        # Define a dictionary for associating placeholders with data\n",
        "        tf_dict = {self.t_ics_tf: X_ics_batch[:, 0:1], self.x_ics_tf: X_ics_batch[:, 1:2],\n",
        "                    self.u_ics_tf: u_ics_batch,\n",
        "                    self.t_bc1_tf: X_bc1_batch[:, 0:1], self.x_bc1_tf: X_bc1_batch[:, 1:2],\n",
        "                    self.t_bc2_tf: X_bc2_batch[:, 0:1], self.x_bc2_tf: X_bc2_batch[:, 1:2],\n",
        "                    self.t_r_tf: X_res_batch[:, 0:1], self.x_r_tf: X_res_batch[:, 1:2],\n",
        "                    self.lam_u_tf: self.lam_u_val,\n",
        "                       self.lam_bc1_tf: self.lam_bc1_val,\n",
        "                       self.lam_bc2_tf: self.lam_bc1_val,\n",
        "                    self.lam_res_tf: self.lam_res_val,\n",
        "                    }\n",
        "        \n",
        "        for it in range(nIter):\n",
        "\n",
        "            # Run the Tensorflow session to minimize the loss\n",
        "            _ , loss = self.sess.run([self.train_op,self.loss  ], tf_dict)\n",
        "\n",
        "            if  it % 100 == 0:\n",
        "                elapsed = timeit.default_timer() - start_time\n",
        "\n",
        "                loss_bc1 , loss_bc2 , loss_ics_u , loss_ics_ut , loss_res = self.sess.run( [ self.loss_bc1 ,self.loss_bc2 , self.loss_ics_u, self.loss_ics_ut, self.loss_res ] , tf_dict)\n",
        "\n",
        "                print('It: %d, Loss: %.3e,  loss_bc1: %.3e,  loss_bc2: %.3e, loss_ics_u: %.3e, loss_ics_ut: %.3e,  Loss_res: %.3e , Time: %.2f' %(it, loss, loss_bc1 , loss_bc2 , loss_ics_u, loss_ics_ut , loss_res , elapsed))\n",
        "                \n",
        "            if  loss <  self.prev_loss :\n",
        "\n",
        "                alpha   = 10000\n",
        "                self.lam_bc_val = alpha *  (loss_bc1 + loss_bc2 )\n",
        "                # self.lam_bc2_val = alpha * loss_bc2\n",
        "                self.lam_u_val = alpha * (loss_ics_u + loss_ics_ut )\n",
        "                self.lam_res_val = 100 *loss_res\n",
        "                \n",
        "                print('loss_bc1: {:.3e}'.format(self.lam_bc_val))\n",
        "                print('loss_bc2: {:.3e}'.format(self.lam_bc2_val))\n",
        "                print('loss_ics_u: {:.3e}'.format(self.lam_u_val))\n",
        "                print('loss_res_val: {:.3e}'.format(self.lam_res_val))\n",
        "\n",
        "            start_time =   timeit.default_timer()\n",
        "            sys.stdout.flush()\n",
        "\n",
        "\n",
        "    # Evaluates predictions at test points\n",
        "    def predict_u(self, X_star):\n",
        "        X_star = (X_star - self.mu_X) / self.sigma_X\n",
        "        tf_dict = {self.t_u_tf: X_star[:, 0:1], self.x_u_tf: X_star[:, 1:2]}\n",
        "        u_star = self.sess.run(self.u_pred, tf_dict)\n",
        "        return u_star\n",
        "\n",
        "        # Evaluates predictions at test points\n",
        "\n",
        "    def predict_r(self, X_star):\n",
        "        X_star = (X_star - self.mu_X) / self.sigma_X\n",
        "        tf_dict = {self.t_r_tf: X_star[:, 0:1], self.x_r_tf: X_star[:, 1:2]}\n",
        "        r_star = self.sess.run(self.r_pred, tf_dict)\n",
        "        return r_star\n",
        "    \n",
        "   ###############################################################################################################################################\n",
        "   # \n",
        "   # ###############################################################################################################################################\n",
        "   # \n",
        "   # ###############################################################################################################################################\n",
        "   # \n",
        "   #  \n",
        "\n",
        "\n",
        "   #  \n",
        "    def plot_layerLoss(self , tf_dict , epoch):\n",
        "        ## Gradients #\n",
        "        num_layers = len(self.layers)\n",
        "        for i in range(num_layers - 1):\n",
        "            grad_res , grad_bc1, grad_bc2  , grad_ics  = self.sess.run([ self.grad_res[i],self.grad_bcs1[i],self.grad_bcs2[i],self.grad_ics[i]], feed_dict=tf_dict)\n",
        "\n",
        "            # save gradients of loss_r and loss_u\n",
        "            self.dict_gradients_res_layers['layer_' + str(i + 1)].append(grad_res.flatten())\n",
        "            self.dict_gradients_bcs1_layers['layer_' + str(i + 1)].append(grad_bc1.flatten())\n",
        "            self.dict_gradients_bcs2_layers['layer_' + str(i + 1)].append(grad_bc2.flatten())\n",
        "            self.dict_gradients_ics_layers['layer_' + str(i + 1)].append(grad_ics.flatten())\n",
        "\n",
        "        num_hidden_layers = num_layers -1\n",
        "        cnt = 1\n",
        "        fig = plt.figure(4, figsize=(13, 4))\n",
        "        for j in range(num_hidden_layers):\n",
        "            ax = plt.subplot(1, num_hidden_layers, cnt)\n",
        "            ax.set_title('Layer {}'.format(j + 1))\n",
        "            ax.set_yscale('symlog')\n",
        "            gradients_res = self.dict_gradients_res_layers['layer_' + str(j + 1)][-1]\n",
        "            gradients_bc1 = self.dict_gradients_bcs1_layers['layer_' + str(j + 1)][-1]\n",
        "            gradients_bc2 = self.dict_gradients_bcs2_layers['layer_' + str(j + 1)][-1]\n",
        "            gradients_ics = self.dict_gradients_ics_layers['layer_' + str(j + 1)][-1]\n",
        "\n",
        "            sns.distplot(gradients_res, hist=False,kde_kws={\"shade\": False},norm_hist=True,  label=r'$\\nabla_\\theta \\mathcal{L}_r$')\n",
        "\n",
        "            sns.distplot(gradients_bc1, hist=False,kde_kws={\"shade\": False},norm_hist=True,   label=r'$\\nabla_\\theta \\mathcal{L}_{u_{bc1}}$')\n",
        "            sns.distplot(gradients_bc2, hist=False,kde_kws={\"shade\": False},norm_hist=True,   label=r'$\\nabla_\\theta \\mathcal{L}_{u_{bc2}}$')\n",
        "            sns.distplot(gradients_ics, hist=False,kde_kws={\"shade\": False},norm_hist=True,   label=r'$\\nabla_\\theta \\mathcal{L}_{u_{ics}}$')\n",
        "\n",
        "            #ax.get_legend().remove()\n",
        "            ax.set_xlim([-1.0, 1.0])\n",
        "            #ax.set_ylim([0, 150])\n",
        "            cnt += 1\n",
        "        handles, labels = ax.get_legend_handles_labels()\n",
        "\n",
        "        fig.legend(handles, labels, loc=\"center\",  bbox_to_anchor=(0.5, -0.03),borderaxespad=0,bbox_transform=fig.transFigure, ncol=4)\n",
        "        text = 'layerLoss_epoch' + str(epoch) +'.png'\n",
        "        plt.savefig(os.path.join(self.dirname,text) , bbox_inches='tight')\n",
        "        plt.close(\"all\")\n",
        "\n",
        "    # #########################\n",
        "    # def make_output_dir(self):\n",
        "        \n",
        "    #     if not os.path.exists(\"/okyanus/users/afarea/PINN/Adaptive_PINN/IB_PINN/checkpoints\"):\n",
        "    #         os.mkdir(\"/okyanus/users/afarea/PINN/Adaptive_PINN/IB_PINN/checkpoints\")\n",
        "    #     dirname = os.path.join(\"/okyanus/users/afarea/PINN/Adaptive_PINN/IB_PINN/checkpoints\", datetime.now().strftime(\"%b-%d-%Y_%H-%M-%S-%f_\") + self.mode)\n",
        "    #     os.mkdir(dirname)\n",
        "    #     text = 'output.log'\n",
        "    #     logpath = os.path.join(dirname, text)\n",
        "    #     shutil.copyfile('/okyanus/users/afarea/PINN/Adaptive_PINN/IB_PINN/M2.py', os.path.join(dirname, 'M2.py'))\n",
        "\n",
        "    #     return dirname, logpath\n",
        "    \n",
        "    # # ###########################################################\n",
        "    def make_output_dir(self):\n",
        "        \n",
        "        if not os.path.exists(\"checkpoints\"):\n",
        "            os.mkdir(\"checkpoints\")\n",
        "        dirname = os.path.join(\"checkpoints\", datetime.now().strftime(\"%b-%d-%Y_%H-%M-%S-%f_\") + self.mode)\n",
        "        os.mkdir(dirname)\n",
        "        text = 'output.log'\n",
        "        logpath = os.path.join(dirname, text)\n",
        "        shutil.copyfile('M5.ipynb', os.path.join(dirname, 'M5.ipynb'))\n",
        "        return dirname, logpath\n",
        "    \n",
        "\n",
        "    def get_logger(self, logpath):\n",
        "        logger = logging.getLogger(__name__)\n",
        "        logger.setLevel(logging.DEBUG)\n",
        "        sh = logging.StreamHandler()\n",
        "        sh.setLevel(logging.DEBUG)        \n",
        "        sh.setFormatter(logging.Formatter('%(message)s'))\n",
        "        fh = logging.FileHandler(logpath)\n",
        "        logger.addHandler(sh)\n",
        "        logger.addHandler(fh)\n",
        "        return logger\n",
        "\n",
        "\n",
        "   \n",
        "    def print(self, *args):\n",
        "        for word in args:\n",
        "            if len(args) == 1:\n",
        "                self.logger.info(word)\n",
        "            elif word != args[-1]:\n",
        "                for handler in self.logger.handlers:\n",
        "                    handler.terminator = \"\"\n",
        "                if type(word) == float or type(word) == np.float64 or type(word) == np.float32: \n",
        "                    self.logger.info(\"%.4e\" % (word))\n",
        "                else:\n",
        "                    self.logger.info(word)\n",
        "            else:\n",
        "                for handler in self.logger.handlers:\n",
        "                    handler.terminator = \"\\n\"\n",
        "                if type(word) == float or type(word) == np.float64 or type(word) == np.float32:\n",
        "                    self.logger.info(\"%.4e\" % (word))\n",
        "                else:\n",
        "                    self.logger.info(word)\n",
        "\n",
        "\n",
        "    def plot_loss_history(self , path):\n",
        "\n",
        "        fig, ax = plt.subplots()\n",
        "        fig.set_size_inches([15,8])\n",
        "        for key in self.loss_history:\n",
        "            self.print(\"Final loss %s: %e\" % (key, self.loss_history[key][-1]))\n",
        "            ax.semilogy(self.loss_history[key], label=key)\n",
        "        ax.set_xlabel(\"epochs\", fontsize=15)\n",
        "        ax.set_ylabel(\"loss\", fontsize=15)\n",
        "        ax.tick_params(labelsize=15)\n",
        "        ax.legend()\n",
        "        plt.savefig(path)\n",
        "        #plt.show()\n",
        "       #######################\n",
        "    def save_NN(self):\n",
        "\n",
        "        uv_weights = self.sess.run(self.weights)\n",
        "        uv_biases = self.sess.run(self.biases)\n",
        "\n",
        "        with open(os.path.join(self.dirname,'model.pickle'), 'wb') as f:\n",
        "            pickle.dump([uv_weights, uv_biases], f)\n",
        "            self.print(\"Save uv NN parameters successfully in %s ...\" , self.dirname)\n",
        "\n",
        "        # with open(os.path.join(self.dirname,'loss_history_BFS.pickle'), 'wb') as f:\n",
        "        #     pickle.dump(self.loss_rec, f)\n",
        "        with open(os.path.join(self.dirname,'loss_history_BFS.png'), 'wb') as f:\n",
        "            self.plot_loss_history(f)\n",
        "\n",
        "    def assign_batch_losses(self, batch_losses):\n",
        "        for loss_values, key in zip(batch_losses, self.epoch_loss):\n",
        "            self.epoch_loss[key] = loss_values\n",
        "\n",
        "\n",
        "    def generate_grad_dict(self):\n",
        "        num = len(self.layers) - 1\n",
        "        grad_dict = {}\n",
        "        for i in range(num):\n",
        "            grad_dict['layer_{}'.format(i + 1)] = []\n",
        "        return grad_dict\n",
        "    \n",
        "    def assign_batch_losses(self, batch_losses):\n",
        "        for loss_values, key in zip(batch_losses, self.epoch_loss):\n",
        "            self.epoch_loss[key] = loss_values\n",
        "\n",
        "#            mode.plt_prediction( t , x , X_star , u_star , u_pred , r_star , r_pred)\n",
        "\n",
        "    def plt_prediction(self , t , x , X_star , u_star , u_pred , r_star , r_pred):\n",
        "        \n",
        "        U_star = griddata(X_star, u_star.flatten(), (t, x), method='cubic')\n",
        "        r_star = griddata(X_star, r_star.flatten(), (t, x), method='cubic')\n",
        "        U_pred = griddata(X_star, u_pred.flatten(), (t, x), method='cubic')\n",
        "        R_pred = griddata(X_star, r_pred.flatten(), (t, x), method='cubic')\n",
        "\n",
        "\n",
        "        plt.figure(figsize=(18, 9))\n",
        "        plt.subplot(2, 3, 1)\n",
        "        plt.pcolor(t, x, U_star, cmap='jet')\n",
        "        plt.colorbar()\n",
        "        plt.xlabel('$x_1$')\n",
        "        plt.ylabel('$x_2$')\n",
        "        plt.title('Exact u(t, x)')\n",
        "        plt.tight_layout()\n",
        "\n",
        "        plt.subplot(2, 3, 2)\n",
        "        plt.pcolor(t, x, U_pred, cmap='jet')\n",
        "        plt.colorbar()\n",
        "        plt.xlabel('$t$')\n",
        "        plt.ylabel('$x$')\n",
        "        plt.title('Predicted u(t, x)')\n",
        "        plt.tight_layout()\n",
        "\n",
        "        plt.subplot(2, 3, 3)\n",
        "        plt.pcolor(t, x, np.abs(U_star - U_pred), cmap='jet')\n",
        "        plt.colorbar()\n",
        "        plt.xlabel('$t$')\n",
        "        plt.ylabel('$x$')\n",
        "        plt.title('Absolute error')\n",
        "        plt.tight_layout()\n",
        "\n",
        "        plt.subplot(2, 3, 4)\n",
        "        plt.pcolor(t, x, r_star, cmap='jet')\n",
        "        plt.colorbar()\n",
        "        plt.xlabel('$t$')\n",
        "        plt.ylabel('$x$')\n",
        "        plt.title('Exact r(t, x)')\n",
        "        plt.tight_layout()\n",
        "\n",
        "        plt.subplot(2, 3, 5)\n",
        "        plt.pcolor(t, x, R_pred, cmap='jet')\n",
        "        plt.colorbar()\n",
        "        plt.xlabel('$t$')\n",
        "        plt.ylabel('$x$')\n",
        "        plt.title('Predicted r(t, x)')\n",
        "        plt.tight_layout()\n",
        "\n",
        "        plt.subplot(2, 3, 6)\n",
        "        plt.pcolor(t, x, np.abs(r_star - R_pred), cmap='jet')\n",
        "        plt.colorbar()\n",
        "        plt.xlabel('$t$')\n",
        "        plt.ylabel('$x$')\n",
        "        plt.title('Absolute error')\n",
        "        plt.tight_layout()\n",
        "        plt.savefig(os.path.join(self.dirname,\"prediction.png\"))\n",
        "        plt.close(\"all\")\n"
      ]
    },
    {
      "cell_type": "code",
      "execution_count": 3,
      "metadata": {},
      "outputs": [],
      "source": [
        "#test_method(mtd , layers,  X_u, Y_u, X_r, Y_r ,  X_star , u_star , r_star  , nIter ,batch_size , bcbatch_size , ubatch_size)\n",
        "def test_method(method , layers,  ics_sampler, bcs_sampler, res_sampler, c ,kernel_size , X_star , u_star , r_star , nIter ,mbbatch_size , bcbatch_size , ubatch_size ):\n",
        "\n",
        "    tf.reset_default_graph()\n",
        "    gpu_options = tf.GPUOptions(visible_device_list=\"0\")\n",
        "    with tf.Session(config=tf.ConfigProto(gpu_options=gpu_options,allow_soft_placement=False, log_device_placement=False)) as sess:\n",
        "        # sess.run(init)\n",
        "\n",
        "        model = PINN(layers, operator, ics_sampler, bcs_sampler, res_sampler, c, kernel_size , sess)\n",
        "        # Train model\n",
        "        start_time = time.time()\n",
        "\n",
        "        if method ==\"full_batch\":\n",
        "            print(\"full_batch method is used\")\n",
        "            model.train(nIter  , bcbatch_size , ubatch_size  )\n",
        "        elif method ==\"mini_batch\":\n",
        "            print(\"mini_batch method is used\")\n",
        "            model.trainmb(nIter, mbbatch_size)\n",
        "        else:\n",
        "            print(\"unknown method!\")\n",
        "        elapsed = time.time() - start_time\n",
        "\n",
        "        # Predictions\n",
        "        u_pred = model.predict_u(X_star)\n",
        "        r_pred = model.predict_u(X_star)\n",
        "        # Predictions\n",
        "\n",
        "        sess.close()   \n",
        "\n",
        "    error_u = np.linalg.norm(u_star - u_pred, 2) / np.linalg.norm(u_star, 2)\n",
        "    error_r = np.linalg.norm(r_star - r_pred, 2) #/ np.linalg.norm(u_star, 2)\n",
        "\n",
        "    print('elapsed: {:.2e}'.format(elapsed))\n",
        "\n",
        "    print('Relative L2 error_u: {:.2e}'.format(error_u))\n",
        "    print('Relative L2 error_r: {:.2e}'.format(error_r))\n",
        "\n",
        "\n",
        "    return [elapsed, error_u , error_r , model]\n",
        "\n",
        "###############################################################################################################################################\n",
        "\n"
      ]
    },
    {
      "cell_type": "code",
      "execution_count": 4,
      "metadata": {},
      "outputs": [
        {
          "name": "stdout",
          "output_type": "stream",
          "text": [
            "Method:  mini_batch\n",
            "Epoch:  1\n",
            "WARNING:tensorflow:From /tmp/ipykernel_33032/3139079894.py:66: The name tf.reset_default_graph is deprecated. Please use tf.compat.v1.reset_default_graph instead.\n",
            "\n",
            "WARNING:tensorflow:From /tmp/ipykernel_33032/3139079894.py:67: The name tf.GPUOptions is deprecated. Please use tf.compat.v1.GPUOptions instead.\n",
            "\n",
            "WARNING:tensorflow:From /tmp/ipykernel_33032/3139079894.py:68: The name tf.Session is deprecated. Please use tf.compat.v1.Session instead.\n",
            "\n",
            "WARNING:tensorflow:From /tmp/ipykernel_33032/3139079894.py:68: The name tf.ConfigProto is deprecated. Please use tf.compat.v1.ConfigProto instead.\n",
            "\n",
            "WARNING:tensorflow:From /tmp/ipykernel_33032/2896589278.py:44: The name tf.placeholder is deprecated. Please use tf.compat.v1.placeholder instead.\n",
            "\n"
          ]
        },
        {
          "name": "stderr",
          "output_type": "stream",
          "text": [
            "2023-12-09 23:32:38.478795: I tensorflow/core/platform/cpu_feature_guard.cc:145] This TensorFlow binary is optimized with Intel(R) MKL-DNN to use the following CPU instructions in performance critical operations:  SSE4.1 SSE4.2 AVX AVX2 FMA\n",
            "To enable them in non-MKL-DNN operations, rebuild TensorFlow with the appropriate compiler flags.\n",
            "2023-12-09 23:32:38.499627: I tensorflow/core/platform/profile_utils/cpu_utils.cc:94] CPU Frequency: 2899885000 Hz\n",
            "2023-12-09 23:32:38.500294: I tensorflow/compiler/xla/service/service.cc:168] XLA service 0x55f6a23ab570 initialized for platform Host (this does not guarantee that XLA will be used). Devices:\n",
            "2023-12-09 23:32:38.500314: I tensorflow/compiler/xla/service/service.cc:176]   StreamExecutor device (0): Host, Default Version\n",
            "2023-12-09 23:32:38.501491: I tensorflow/core/common_runtime/process_util.cc:115] Creating new thread pool with default inter op setting: 2. Tune using inter_op_parallelism_threads for best performance.\n"
          ]
        },
        {
          "name": "stdout",
          "output_type": "stream",
          "text": [
            "WARNING:tensorflow:From /tmp/ipykernel_33032/2896589278.py:95: The name tf.train.exponential_decay is deprecated. Please use tf.compat.v1.train.exponential_decay instead.\n",
            "\n",
            "WARNING:tensorflow:From /tmp/ipykernel_33032/2896589278.py:97: The name tf.train.AdamOptimizer is deprecated. Please use tf.compat.v1.train.AdamOptimizer instead.\n",
            "\n",
            "WARNING:tensorflow:From /tmp/ipykernel_33032/2896589278.py:145: The name tf.global_variables_initializer is deprecated. Please use tf.compat.v1.global_variables_initializer instead.\n",
            "\n",
            "mini_batch method is used\n"
          ]
        },
        {
          "name": "stderr",
          "output_type": "stream",
          "text": [
            "lam_res_val: 2.388e-02\n",
            "lam_u_val: 5.914e+00\n",
            "lam_bc1_val: 6.976e-02\n",
            "lam_bc2_val: 8.391e-02\n",
            "/home/afrah2/anaconda3/envs/twoPhase/lib/python3.7/site-packages/seaborn/distributions.py:2619: FutureWarning: `distplot` is a deprecated function and will be removed in a future version. Please adapt your code to use either `displot` (a figure-level function with similar flexibility) or `kdeplot` (an axes-level function for kernel density plots).\n",
            "  warnings.warn(msg, FutureWarning)\n",
            "/home/afrah2/anaconda3/envs/twoPhase/lib/python3.7/site-packages/seaborn/distributions.py:2619: FutureWarning: `distplot` is a deprecated function and will be removed in a future version. Please adapt your code to use either `displot` (a figure-level function with similar flexibility) or `kdeplot` (an axes-level function for kernel density plots).\n",
            "  warnings.warn(msg, FutureWarning)\n",
            "/home/afrah2/anaconda3/envs/twoPhase/lib/python3.7/site-packages/seaborn/distributions.py:2619: FutureWarning: `distplot` is a deprecated function and will be removed in a future version. Please adapt your code to use either `displot` (a figure-level function with similar flexibility) or `kdeplot` (an axes-level function for kernel density plots).\n",
            "  warnings.warn(msg, FutureWarning)\n",
            "/home/afrah2/anaconda3/envs/twoPhase/lib/python3.7/site-packages/seaborn/distributions.py:2619: FutureWarning: `distplot` is a deprecated function and will be removed in a future version. Please adapt your code to use either `displot` (a figure-level function with similar flexibility) or `kdeplot` (an axes-level function for kernel density plots).\n",
            "  warnings.warn(msg, FutureWarning)\n",
            "/home/afrah2/anaconda3/envs/twoPhase/lib/python3.7/site-packages/seaborn/distributions.py:2619: FutureWarning: `distplot` is a deprecated function and will be removed in a future version. Please adapt your code to use either `displot` (a figure-level function with similar flexibility) or `kdeplot` (an axes-level function for kernel density plots).\n",
            "  warnings.warn(msg, FutureWarning)\n",
            "/home/afrah2/anaconda3/envs/twoPhase/lib/python3.7/site-packages/seaborn/distributions.py:2619: FutureWarning: `distplot` is a deprecated function and will be removed in a future version. Please adapt your code to use either `displot` (a figure-level function with similar flexibility) or `kdeplot` (an axes-level function for kernel density plots).\n",
            "  warnings.warn(msg, FutureWarning)\n",
            "/home/afrah2/anaconda3/envs/twoPhase/lib/python3.7/site-packages/seaborn/distributions.py:2619: FutureWarning: `distplot` is a deprecated function and will be removed in a future version. Please adapt your code to use either `displot` (a figure-level function with similar flexibility) or `kdeplot` (an axes-level function for kernel density plots).\n",
            "  warnings.warn(msg, FutureWarning)\n",
            "/home/afrah2/anaconda3/envs/twoPhase/lib/python3.7/site-packages/seaborn/distributions.py:2619: FutureWarning: `distplot` is a deprecated function and will be removed in a future version. Please adapt your code to use either `displot` (a figure-level function with similar flexibility) or `kdeplot` (an axes-level function for kernel density plots).\n",
            "  warnings.warn(msg, FutureWarning)\n",
            "/home/afrah2/anaconda3/envs/twoPhase/lib/python3.7/site-packages/seaborn/distributions.py:2619: FutureWarning: `distplot` is a deprecated function and will be removed in a future version. Please adapt your code to use either `displot` (a figure-level function with similar flexibility) or `kdeplot` (an axes-level function for kernel density plots).\n",
            "  warnings.warn(msg, FutureWarning)\n",
            "/home/afrah2/anaconda3/envs/twoPhase/lib/python3.7/site-packages/seaborn/distributions.py:2619: FutureWarning: `distplot` is a deprecated function and will be removed in a future version. Please adapt your code to use either `displot` (a figure-level function with similar flexibility) or `kdeplot` (an axes-level function for kernel density plots).\n",
            "  warnings.warn(msg, FutureWarning)\n",
            "/home/afrah2/anaconda3/envs/twoPhase/lib/python3.7/site-packages/seaborn/distributions.py:2619: FutureWarning: `distplot` is a deprecated function and will be removed in a future version. Please adapt your code to use either `displot` (a figure-level function with similar flexibility) or `kdeplot` (an axes-level function for kernel density plots).\n",
            "  warnings.warn(msg, FutureWarning)\n",
            "/home/afrah2/anaconda3/envs/twoPhase/lib/python3.7/site-packages/seaborn/distributions.py:2619: FutureWarning: `distplot` is a deprecated function and will be removed in a future version. Please adapt your code to use either `displot` (a figure-level function with similar flexibility) or `kdeplot` (an axes-level function for kernel density plots).\n",
            "  warnings.warn(msg, FutureWarning)\n",
            "/home/afrah2/anaconda3/envs/twoPhase/lib/python3.7/site-packages/seaborn/distributions.py:2619: FutureWarning: `distplot` is a deprecated function and will be removed in a future version. Please adapt your code to use either `displot` (a figure-level function with similar flexibility) or `kdeplot` (an axes-level function for kernel density plots).\n",
            "  warnings.warn(msg, FutureWarning)\n",
            "/home/afrah2/anaconda3/envs/twoPhase/lib/python3.7/site-packages/seaborn/distributions.py:2619: FutureWarning: `distplot` is a deprecated function and will be removed in a future version. Please adapt your code to use either `displot` (a figure-level function with similar flexibility) or `kdeplot` (an axes-level function for kernel density plots).\n",
            "  warnings.warn(msg, FutureWarning)\n",
            "/home/afrah2/anaconda3/envs/twoPhase/lib/python3.7/site-packages/seaborn/distributions.py:2619: FutureWarning: `distplot` is a deprecated function and will be removed in a future version. Please adapt your code to use either `displot` (a figure-level function with similar flexibility) or `kdeplot` (an axes-level function for kernel density plots).\n",
            "  warnings.warn(msg, FutureWarning)\n",
            "/home/afrah2/anaconda3/envs/twoPhase/lib/python3.7/site-packages/seaborn/distributions.py:2619: FutureWarning: `distplot` is a deprecated function and will be removed in a future version. Please adapt your code to use either `displot` (a figure-level function with similar flexibility) or `kdeplot` (an axes-level function for kernel density plots).\n",
            "  warnings.warn(msg, FutureWarning)\n",
            "Gradients information stored ...\n"
          ]
        },
        {
          "name": "stdout",
          "output_type": "stream",
          "text": [
            "It: 100, Loss: 1.404e+00,  loss_bc1: 7.457e-01,  loss_bc2: 8.576e-02, loss_ics_u: 2.259e-01, loss_ics_ut: 9.043e-04,  Loss_res: 3.487e-03 , Time: 0.03\n"
          ]
        },
        {
          "name": "stderr",
          "output_type": "stream",
          "text": [
            "/home/afrah2/anaconda3/envs/twoPhase/lib/python3.7/site-packages/seaborn/distributions.py:2619: FutureWarning: `distplot` is a deprecated function and will be removed in a future version. Please adapt your code to use either `displot` (a figure-level function with similar flexibility) or `kdeplot` (an axes-level function for kernel density plots).\n",
            "  warnings.warn(msg, FutureWarning)\n",
            "/home/afrah2/anaconda3/envs/twoPhase/lib/python3.7/site-packages/seaborn/distributions.py:2619: FutureWarning: `distplot` is a deprecated function and will be removed in a future version. Please adapt your code to use either `displot` (a figure-level function with similar flexibility) or `kdeplot` (an axes-level function for kernel density plots).\n",
            "  warnings.warn(msg, FutureWarning)\n",
            "/home/afrah2/anaconda3/envs/twoPhase/lib/python3.7/site-packages/seaborn/distributions.py:2619: FutureWarning: `distplot` is a deprecated function and will be removed in a future version. Please adapt your code to use either `displot` (a figure-level function with similar flexibility) or `kdeplot` (an axes-level function for kernel density plots).\n",
            "  warnings.warn(msg, FutureWarning)\n",
            "/home/afrah2/anaconda3/envs/twoPhase/lib/python3.7/site-packages/seaborn/distributions.py:2619: FutureWarning: `distplot` is a deprecated function and will be removed in a future version. Please adapt your code to use either `displot` (a figure-level function with similar flexibility) or `kdeplot` (an axes-level function for kernel density plots).\n",
            "  warnings.warn(msg, FutureWarning)\n",
            "/home/afrah2/anaconda3/envs/twoPhase/lib/python3.7/site-packages/seaborn/distributions.py:2619: FutureWarning: `distplot` is a deprecated function and will be removed in a future version. Please adapt your code to use either `displot` (a figure-level function with similar flexibility) or `kdeplot` (an axes-level function for kernel density plots).\n",
            "  warnings.warn(msg, FutureWarning)\n",
            "/home/afrah2/anaconda3/envs/twoPhase/lib/python3.7/site-packages/seaborn/distributions.py:2619: FutureWarning: `distplot` is a deprecated function and will be removed in a future version. Please adapt your code to use either `displot` (a figure-level function with similar flexibility) or `kdeplot` (an axes-level function for kernel density plots).\n",
            "  warnings.warn(msg, FutureWarning)\n",
            "/home/afrah2/anaconda3/envs/twoPhase/lib/python3.7/site-packages/seaborn/distributions.py:2619: FutureWarning: `distplot` is a deprecated function and will be removed in a future version. Please adapt your code to use either `displot` (a figure-level function with similar flexibility) or `kdeplot` (an axes-level function for kernel density plots).\n",
            "  warnings.warn(msg, FutureWarning)\n",
            "/home/afrah2/anaconda3/envs/twoPhase/lib/python3.7/site-packages/seaborn/distributions.py:2619: FutureWarning: `distplot` is a deprecated function and will be removed in a future version. Please adapt your code to use either `displot` (a figure-level function with similar flexibility) or `kdeplot` (an axes-level function for kernel density plots).\n",
            "  warnings.warn(msg, FutureWarning)\n",
            "/home/afrah2/anaconda3/envs/twoPhase/lib/python3.7/site-packages/seaborn/distributions.py:2619: FutureWarning: `distplot` is a deprecated function and will be removed in a future version. Please adapt your code to use either `displot` (a figure-level function with similar flexibility) or `kdeplot` (an axes-level function for kernel density plots).\n",
            "  warnings.warn(msg, FutureWarning)\n",
            "/home/afrah2/anaconda3/envs/twoPhase/lib/python3.7/site-packages/seaborn/distributions.py:2619: FutureWarning: `distplot` is a deprecated function and will be removed in a future version. Please adapt your code to use either `displot` (a figure-level function with similar flexibility) or `kdeplot` (an axes-level function for kernel density plots).\n",
            "  warnings.warn(msg, FutureWarning)\n",
            "/home/afrah2/anaconda3/envs/twoPhase/lib/python3.7/site-packages/seaborn/distributions.py:2619: FutureWarning: `distplot` is a deprecated function and will be removed in a future version. Please adapt your code to use either `displot` (a figure-level function with similar flexibility) or `kdeplot` (an axes-level function for kernel density plots).\n",
            "  warnings.warn(msg, FutureWarning)\n",
            "/home/afrah2/anaconda3/envs/twoPhase/lib/python3.7/site-packages/seaborn/distributions.py:2619: FutureWarning: `distplot` is a deprecated function and will be removed in a future version. Please adapt your code to use either `displot` (a figure-level function with similar flexibility) or `kdeplot` (an axes-level function for kernel density plots).\n",
            "  warnings.warn(msg, FutureWarning)\n",
            "/home/afrah2/anaconda3/envs/twoPhase/lib/python3.7/site-packages/seaborn/distributions.py:2619: FutureWarning: `distplot` is a deprecated function and will be removed in a future version. Please adapt your code to use either `displot` (a figure-level function with similar flexibility) or `kdeplot` (an axes-level function for kernel density plots).\n",
            "  warnings.warn(msg, FutureWarning)\n",
            "/home/afrah2/anaconda3/envs/twoPhase/lib/python3.7/site-packages/seaborn/distributions.py:2619: FutureWarning: `distplot` is a deprecated function and will be removed in a future version. Please adapt your code to use either `displot` (a figure-level function with similar flexibility) or `kdeplot` (an axes-level function for kernel density plots).\n",
            "  warnings.warn(msg, FutureWarning)\n",
            "/home/afrah2/anaconda3/envs/twoPhase/lib/python3.7/site-packages/seaborn/distributions.py:2619: FutureWarning: `distplot` is a deprecated function and will be removed in a future version. Please adapt your code to use either `displot` (a figure-level function with similar flexibility) or `kdeplot` (an axes-level function for kernel density plots).\n",
            "  warnings.warn(msg, FutureWarning)\n",
            "/home/afrah2/anaconda3/envs/twoPhase/lib/python3.7/site-packages/seaborn/distributions.py:2619: FutureWarning: `distplot` is a deprecated function and will be removed in a future version. Please adapt your code to use either `displot` (a figure-level function with similar flexibility) or `kdeplot` (an axes-level function for kernel density plots).\n",
            "  warnings.warn(msg, FutureWarning)\n",
            "Gradients information stored ...\n"
          ]
        },
        {
          "name": "stdout",
          "output_type": "stream",
          "text": [
            "It: 200, Loss: 1.329e+00,  loss_bc1: 6.441e-01,  loss_bc2: 1.195e-01, loss_ics_u: 2.147e-01, loss_ics_ut: 3.311e-04,  Loss_res: 2.362e-03 , Time: 0.03\n",
            "It: 300, Loss: 1.056e+00,  loss_bc1: 5.073e-01,  loss_bc2: 8.021e-02, loss_ics_u: 1.643e-01, loss_ics_ut: 6.393e-03,  Loss_res: 4.561e-03 , Time: 0.03\n"
          ]
        },
        {
          "name": "stderr",
          "output_type": "stream",
          "text": [
            "lam_res_val: 1.005e+00\n",
            "lam_u_val: 1.816e+02\n",
            "lam_bc1_val: 1.380e+01\n",
            "lam_bc2_val: 4.758e+00\n",
            "lam_res_val: 1.159e+01\n",
            "lam_u_val: 1.439e+01\n",
            "lam_bc1_val: 3.100e+00\n",
            "lam_bc2_val: 5.867e+00\n"
          ]
        },
        {
          "name": "stdout",
          "output_type": "stream",
          "text": [
            "It: 400, Loss: 1.301e+01,  loss_bc1: 4.122e-01,  loss_bc2: 1.216e-01, loss_ics_u: 2.451e-01, loss_ics_ut: 4.950e-01,  Loss_res: 3.659e-01 , Time: 0.03\n"
          ]
        },
        {
          "name": "stderr",
          "output_type": "stream",
          "text": [
            "lam_res_val: 5.182e+00\n",
            "lam_u_val: 1.361e+01\n",
            "lam_bc1_val: 5.430e+00\n",
            "lam_bc2_val: 6.616e-01\n",
            "lam_res_val: 6.056e+00\n",
            "lam_u_val: 1.779e+01\n",
            "lam_bc1_val: 5.212e+00\n",
            "lam_bc2_val: 1.206e+00\n",
            "lam_res_val: 3.095e+00\n",
            "lam_u_val: 2.032e+01\n",
            "lam_bc1_val: 4.970e+00\n",
            "lam_bc2_val: 1.997e+00\n",
            "lam_res_val: 2.110e+00\n",
            "lam_u_val: 3.048e+01\n",
            "lam_bc1_val: 5.844e+00\n",
            "lam_bc2_val: 4.079e+00\n",
            "lam_res_val: 1.553e+00\n",
            "lam_u_val: 1.577e+01\n",
            "lam_bc1_val: 5.822e+00\n",
            "lam_bc2_val: 3.281e+00\n"
          ]
        },
        {
          "name": "stdout",
          "output_type": "stream",
          "text": [
            "It: 500, Loss: 4.147e+00,  loss_bc1: 1.460e-01,  loss_bc2: 6.993e-02, loss_ics_u: 1.864e-01, loss_ics_ut: 2.411e-03,  Loss_res: 8.817e-02 , Time: 0.03\n"
          ]
        },
        {
          "name": "stderr",
          "output_type": "stream",
          "text": [
            "lam_res_val: 5.216e+00\n",
            "lam_u_val: 3.041e+01\n",
            "lam_bc1_val: 4.507e+00\n",
            "lam_bc2_val: 3.939e+00\n",
            "lam_res_val: 2.437e+00\n",
            "lam_u_val: 4.594e+01\n",
            "lam_bc1_val: 5.939e+00\n",
            "lam_bc2_val: 4.134e+00\n",
            "lam_res_val: 4.511e+00\n",
            "lam_u_val: 3.254e+01\n",
            "lam_bc1_val: 5.819e+00\n",
            "lam_bc2_val: 4.872e+00\n"
          ]
        },
        {
          "name": "stdout",
          "output_type": "stream",
          "text": [
            "It: 600, Loss: 9.556e+00,  loss_bc1: 1.439e-01,  loss_bc2: 3.964e-02, loss_ics_u: 2.494e-01, loss_ics_ut: 7.402e-03,  Loss_res: 1.695e-01 , Time: 0.04\n"
          ]
        },
        {
          "name": "stderr",
          "output_type": "stream",
          "text": [
            "lam_res_val: 4.267e+00\n",
            "lam_u_val: 3.283e+01\n",
            "lam_bc1_val: 6.149e+00\n",
            "lam_bc2_val: 4.263e+00\n",
            "lam_res_val: 6.486e+00\n",
            "lam_u_val: 1.921e+01\n",
            "lam_bc1_val: 5.474e+00\n",
            "lam_bc2_val: 4.179e+00\n",
            "lam_res_val: 7.257e+00\n",
            "lam_u_val: 3.687e+01\n",
            "lam_bc1_val: 5.794e+00\n",
            "lam_bc2_val: 4.339e+00\n",
            "lam_res_val: 7.048e+00\n",
            "lam_u_val: 2.812e+01\n",
            "lam_bc1_val: 5.579e+00\n",
            "lam_bc2_val: 4.692e+00\n",
            "lam_res_val: 5.220e+00\n",
            "lam_u_val: 3.259e+01\n",
            "lam_bc1_val: 5.380e+00\n",
            "lam_bc2_val: 4.246e+00\n"
          ]
        },
        {
          "name": "stdout",
          "output_type": "stream",
          "text": [
            "It: 700, Loss: 6.827e+00,  loss_bc1: 1.189e-01,  loss_bc2: 5.154e-02, loss_ics_u: 1.782e-01, loss_ics_ut: 1.154e-03,  Loss_res: 1.224e-01 , Time: 0.04\n"
          ]
        },
        {
          "name": "stderr",
          "output_type": "stream",
          "text": [
            "lam_res_val: 4.183e+00\n",
            "lam_u_val: 2.560e+01\n",
            "lam_bc1_val: 6.366e+00\n",
            "lam_bc2_val: 3.756e+00\n"
          ]
        },
        {
          "name": "stdout",
          "output_type": "stream",
          "text": [
            "It: 800, Loss: 6.465e+00,  loss_bc1: 1.096e-01,  loss_bc2: 4.706e-02, loss_ics_u: 2.097e-01, loss_ics_ut: 3.940e-03,  Loss_res: 1.221e-01 , Time: 0.04\n"
          ]
        },
        {
          "name": "stderr",
          "output_type": "stream",
          "text": [
            "lam_res_val: 7.129e+00\n",
            "lam_u_val: 2.160e+01\n",
            "lam_bc1_val: 5.974e+00\n",
            "lam_bc2_val: 3.742e+00\n",
            "lam_res_val: 4.802e+00\n",
            "lam_u_val: 1.859e+01\n",
            "lam_bc1_val: 5.579e+00\n",
            "lam_bc2_val: 3.448e+00\n",
            "lam_res_val: 4.998e+00\n",
            "lam_u_val: 2.961e+01\n",
            "lam_bc1_val: 5.256e+00\n",
            "lam_bc2_val: 3.172e+00\n"
          ]
        },
        {
          "name": "stdout",
          "output_type": "stream",
          "text": [
            "It: 900, Loss: 5.855e+00,  loss_bc1: 7.195e-02,  loss_bc2: 3.490e-02, loss_ics_u: 1.753e-01, loss_ics_ut: 2.297e-03,  Loss_res: 1.066e-01 , Time: 0.04\n"
          ]
        },
        {
          "name": "stderr",
          "output_type": "stream",
          "text": [
            "lam_res_val: 6.338e+00\n",
            "lam_u_val: 4.472e+01\n",
            "lam_bc1_val: 5.830e+00\n",
            "lam_bc2_val: 2.483e+00\n",
            "lam_res_val: 3.504e+00\n",
            "lam_u_val: 7.234e+01\n",
            "lam_bc1_val: 5.874e+00\n",
            "lam_bc2_val: 3.228e+00\n"
          ]
        },
        {
          "name": "stdout",
          "output_type": "stream",
          "text": [
            "It: 1000, Loss: 1.343e+01,  loss_bc1: 1.056e-01,  loss_bc2: 1.698e-02, loss_ics_u: 1.676e-01, loss_ics_ut: 2.250e-03,  Loss_res: 4.655e-01 , Time: 0.03\n"
          ]
        },
        {
          "name": "stderr",
          "output_type": "stream",
          "text": [
            "/home/afrah2/anaconda3/envs/twoPhase/lib/python3.7/site-packages/seaborn/distributions.py:2619: FutureWarning: `distplot` is a deprecated function and will be removed in a future version. Please adapt your code to use either `displot` (a figure-level function with similar flexibility) or `kdeplot` (an axes-level function for kernel density plots).\n",
            "  warnings.warn(msg, FutureWarning)\n",
            "/home/afrah2/anaconda3/envs/twoPhase/lib/python3.7/site-packages/seaborn/distributions.py:2619: FutureWarning: `distplot` is a deprecated function and will be removed in a future version. Please adapt your code to use either `displot` (a figure-level function with similar flexibility) or `kdeplot` (an axes-level function for kernel density plots).\n",
            "  warnings.warn(msg, FutureWarning)\n",
            "/home/afrah2/anaconda3/envs/twoPhase/lib/python3.7/site-packages/seaborn/distributions.py:2619: FutureWarning: `distplot` is a deprecated function and will be removed in a future version. Please adapt your code to use either `displot` (a figure-level function with similar flexibility) or `kdeplot` (an axes-level function for kernel density plots).\n",
            "  warnings.warn(msg, FutureWarning)\n",
            "/home/afrah2/anaconda3/envs/twoPhase/lib/python3.7/site-packages/seaborn/distributions.py:2619: FutureWarning: `distplot` is a deprecated function and will be removed in a future version. Please adapt your code to use either `displot` (a figure-level function with similar flexibility) or `kdeplot` (an axes-level function for kernel density plots).\n",
            "  warnings.warn(msg, FutureWarning)\n",
            "/home/afrah2/anaconda3/envs/twoPhase/lib/python3.7/site-packages/seaborn/distributions.py:2619: FutureWarning: `distplot` is a deprecated function and will be removed in a future version. Please adapt your code to use either `displot` (a figure-level function with similar flexibility) or `kdeplot` (an axes-level function for kernel density plots).\n",
            "  warnings.warn(msg, FutureWarning)\n",
            "/home/afrah2/anaconda3/envs/twoPhase/lib/python3.7/site-packages/seaborn/distributions.py:2619: FutureWarning: `distplot` is a deprecated function and will be removed in a future version. Please adapt your code to use either `displot` (a figure-level function with similar flexibility) or `kdeplot` (an axes-level function for kernel density plots).\n",
            "  warnings.warn(msg, FutureWarning)\n",
            "/home/afrah2/anaconda3/envs/twoPhase/lib/python3.7/site-packages/seaborn/distributions.py:2619: FutureWarning: `distplot` is a deprecated function and will be removed in a future version. Please adapt your code to use either `displot` (a figure-level function with similar flexibility) or `kdeplot` (an axes-level function for kernel density plots).\n",
            "  warnings.warn(msg, FutureWarning)\n",
            "/home/afrah2/anaconda3/envs/twoPhase/lib/python3.7/site-packages/seaborn/distributions.py:2619: FutureWarning: `distplot` is a deprecated function and will be removed in a future version. Please adapt your code to use either `displot` (a figure-level function with similar flexibility) or `kdeplot` (an axes-level function for kernel density plots).\n",
            "  warnings.warn(msg, FutureWarning)\n",
            "/home/afrah2/anaconda3/envs/twoPhase/lib/python3.7/site-packages/seaborn/distributions.py:2619: FutureWarning: `distplot` is a deprecated function and will be removed in a future version. Please adapt your code to use either `displot` (a figure-level function with similar flexibility) or `kdeplot` (an axes-level function for kernel density plots).\n",
            "  warnings.warn(msg, FutureWarning)\n",
            "/home/afrah2/anaconda3/envs/twoPhase/lib/python3.7/site-packages/seaborn/distributions.py:2619: FutureWarning: `distplot` is a deprecated function and will be removed in a future version. Please adapt your code to use either `displot` (a figure-level function with similar flexibility) or `kdeplot` (an axes-level function for kernel density plots).\n",
            "  warnings.warn(msg, FutureWarning)\n",
            "/home/afrah2/anaconda3/envs/twoPhase/lib/python3.7/site-packages/seaborn/distributions.py:2619: FutureWarning: `distplot` is a deprecated function and will be removed in a future version. Please adapt your code to use either `displot` (a figure-level function with similar flexibility) or `kdeplot` (an axes-level function for kernel density plots).\n",
            "  warnings.warn(msg, FutureWarning)\n",
            "/home/afrah2/anaconda3/envs/twoPhase/lib/python3.7/site-packages/seaborn/distributions.py:2619: FutureWarning: `distplot` is a deprecated function and will be removed in a future version. Please adapt your code to use either `displot` (a figure-level function with similar flexibility) or `kdeplot` (an axes-level function for kernel density plots).\n",
            "  warnings.warn(msg, FutureWarning)\n",
            "/home/afrah2/anaconda3/envs/twoPhase/lib/python3.7/site-packages/seaborn/distributions.py:2619: FutureWarning: `distplot` is a deprecated function and will be removed in a future version. Please adapt your code to use either `displot` (a figure-level function with similar flexibility) or `kdeplot` (an axes-level function for kernel density plots).\n",
            "  warnings.warn(msg, FutureWarning)\n",
            "/home/afrah2/anaconda3/envs/twoPhase/lib/python3.7/site-packages/seaborn/distributions.py:2619: FutureWarning: `distplot` is a deprecated function and will be removed in a future version. Please adapt your code to use either `displot` (a figure-level function with similar flexibility) or `kdeplot` (an axes-level function for kernel density plots).\n",
            "  warnings.warn(msg, FutureWarning)\n",
            "/home/afrah2/anaconda3/envs/twoPhase/lib/python3.7/site-packages/seaborn/distributions.py:2619: FutureWarning: `distplot` is a deprecated function and will be removed in a future version. Please adapt your code to use either `displot` (a figure-level function with similar flexibility) or `kdeplot` (an axes-level function for kernel density plots).\n",
            "  warnings.warn(msg, FutureWarning)\n",
            "/home/afrah2/anaconda3/envs/twoPhase/lib/python3.7/site-packages/seaborn/distributions.py:2619: FutureWarning: `distplot` is a deprecated function and will be removed in a future version. Please adapt your code to use either `displot` (a figure-level function with similar flexibility) or `kdeplot` (an axes-level function for kernel density plots).\n",
            "  warnings.warn(msg, FutureWarning)\n",
            "Gradients information stored ...\n",
            "lam_res_val: 5.958e+00\n",
            "lam_u_val: 6.367e+01\n",
            "lam_bc1_val: 4.893e+00\n",
            "lam_bc2_val: 2.257e+00\n",
            "lam_res_val: 5.061e+00\n",
            "lam_u_val: 1.627e+01\n",
            "lam_bc1_val: 5.888e+00\n",
            "lam_bc2_val: 2.902e+00\n",
            "lam_res_val: 3.188e+00\n",
            "lam_u_val: 3.286e+01\n",
            "lam_bc1_val: 4.997e+00\n",
            "lam_bc2_val: 2.555e+00\n"
          ]
        },
        {
          "name": "stdout",
          "output_type": "stream",
          "text": [
            "It: 1100, Loss: 5.728e+00,  loss_bc1: 5.584e-02,  loss_bc2: 1.976e-02, loss_ics_u: 1.553e-01, loss_ics_ut: 2.617e-03,  Loss_res: 2.074e-01 , Time: 0.04\n"
          ]
        },
        {
          "name": "stderr",
          "output_type": "stream",
          "text": [
            "lam_res_val: 9.846e+00\n",
            "lam_u_val: 2.210e+01\n",
            "lam_bc1_val: 4.354e+00\n",
            "lam_bc2_val: 2.094e+00\n",
            "lam_res_val: 4.664e+00\n",
            "lam_u_val: 2.765e+01\n",
            "lam_bc1_val: 4.858e+00\n",
            "lam_bc2_val: 2.291e+00\n",
            "lam_res_val: 3.449e+00\n",
            "lam_u_val: 1.586e+01\n",
            "lam_bc1_val: 4.605e+00\n",
            "lam_bc2_val: 2.123e+00\n",
            "lam_res_val: 3.528e+00\n",
            "lam_u_val: 1.749e+01\n",
            "lam_bc1_val: 5.559e+00\n",
            "lam_bc2_val: 3.159e+00\n",
            "lam_res_val: 3.590e+00\n",
            "lam_u_val: 5.504e+01\n",
            "lam_bc1_val: 4.948e+00\n",
            "lam_bc2_val: 2.197e+00\n"
          ]
        },
        {
          "name": "stdout",
          "output_type": "stream",
          "text": [
            "It: 1200, Loss: 9.218e+00,  loss_bc1: 4.168e-02,  loss_bc2: 1.607e-02, loss_ics_u: 1.465e-01, loss_ics_ut: 1.300e-02,  Loss_res: 1.976e-01 , Time: 0.04\n",
            "It: 1300, Loss: 7.957e+00,  loss_bc1: 5.126e-02,  loss_bc2: 1.649e-02, loss_ics_u: 1.333e-01, loss_ics_ut: 1.533e-03,  Loss_res: 2.444e-01 , Time: 0.04\n",
            "It: 1400, Loss: 7.225e+00,  loss_bc1: 5.177e-02,  loss_bc2: 4.885e-02, loss_ics_u: 1.079e-01, loss_ics_ut: 1.254e-02,  Loss_res: 2.351e-01 , Time: 0.03\n",
            "It: 1500, Loss: 7.074e+00,  loss_bc1: 5.739e-02,  loss_bc2: 4.817e-02, loss_ics_u: 1.164e-01, loss_ics_ut: 2.586e-03,  Loss_res: 1.358e-01 , Time: 0.03\n",
            "It: 1600, Loss: 7.169e+00,  loss_bc1: 6.660e-02,  loss_bc2: 4.848e-02, loss_ics_u: 1.067e-01, loss_ics_ut: 1.251e-02,  Loss_res: 1.707e-01 , Time: 0.04\n",
            "It: 1700, Loss: 6.669e+00,  loss_bc1: 6.223e-02,  loss_bc2: 6.086e-02, loss_ics_u: 1.083e-01, loss_ics_ut: 2.279e-03,  Loss_res: 1.414e-01 , Time: 0.04\n",
            "It: 1800, Loss: 6.988e+00,  loss_bc1: 7.080e-02,  loss_bc2: 7.244e-02, loss_ics_u: 9.597e-02, loss_ics_ut: 1.875e-02,  Loss_res: 1.649e-01 , Time: 0.03\n",
            "It: 1900, Loss: 8.605e+00,  loss_bc1: 6.763e-02,  loss_bc2: 5.848e-02, loss_ics_u: 1.003e-01, loss_ics_ut: 4.496e-02,  Loss_res: 1.486e-01 , Time: 0.04\n",
            "It: 2000, Loss: 7.126e+00,  loss_bc1: 6.297e-02,  loss_bc2: 7.125e-02, loss_ics_u: 1.110e-01, loss_ics_ut: 8.788e-03,  Loss_res: 6.359e-02 , Time: 0.04\n",
            "It: 2100, Loss: 6.523e+00,  loss_bc1: 5.453e-02,  loss_bc2: 2.200e-02, loss_ics_u: 9.507e-02, loss_ics_ut: 8.921e-03,  Loss_res: 4.812e-01 , Time: 0.03\n",
            "It: 2200, Loss: 8.286e+00,  loss_bc1: 7.475e-02,  loss_bc2: 5.266e-02, loss_ics_u: 1.074e-01, loss_ics_ut: 3.160e-02,  Loss_res: 1.499e-01 , Time: 0.03\n",
            "It: 2300, Loss: 5.208e+00,  loss_bc1: 5.955e-02,  loss_bc2: 3.478e-02, loss_ics_u: 8.277e-02, loss_ics_ut: 2.210e-03,  Loss_res: 1.601e-01 , Time: 0.05\n",
            "It: 2400, Loss: 6.713e+00,  loss_bc1: 6.613e-02,  loss_bc2: 3.084e-02, loss_ics_u: 7.889e-02, loss_ics_ut: 3.406e-02,  Loss_res: 1.006e-01 , Time: 0.03\n",
            "It: 2500, Loss: 5.324e+00,  loss_bc1: 9.514e-02,  loss_bc2: 4.434e-02, loss_ics_u: 7.929e-02, loss_ics_ut: 4.494e-03,  Loss_res: 1.444e-01 , Time: 0.03\n",
            "It: 2600, Loss: 5.422e+00,  loss_bc1: 6.651e-02,  loss_bc2: 2.577e-02, loss_ics_u: 8.741e-02, loss_ics_ut: 2.887e-03,  Loss_res: 6.646e-02 , Time: 0.04\n",
            "It: 2700, Loss: 4.941e+00,  loss_bc1: 6.207e-02,  loss_bc2: 2.502e-02, loss_ics_u: 7.626e-02, loss_ics_ut: 5.734e-03,  Loss_res: 6.628e-02 , Time: 0.03\n",
            "It: 2800, Loss: 5.177e+00,  loss_bc1: 6.949e-02,  loss_bc2: 2.484e-02, loss_ics_u: 8.378e-02, loss_ics_ut: 2.071e-03,  Loss_res: 5.367e-02 , Time: 0.04\n",
            "It: 2900, Loss: 6.752e+00,  loss_bc1: 7.294e-02,  loss_bc2: 2.459e-02, loss_ics_u: 6.829e-02, loss_ics_ut: 3.913e-02,  Loss_res: 4.248e-01 , Time: 0.03\n",
            "It: 3000, Loss: 5.272e+00,  loss_bc1: 7.099e-02,  loss_bc2: 1.870e-02, loss_ics_u: 8.519e-02, loss_ics_ut: 1.918e-03,  Loss_res: 8.557e-02 , Time: 0.04\n"
          ]
        },
        {
          "name": "stderr",
          "output_type": "stream",
          "text": [
            "lam_res_val: 1.002e+00\n",
            "lam_u_val: 3.332e+01\n",
            "lam_bc1_val: 5.342e+00\n",
            "lam_bc2_val: 2.465e+00\n"
          ]
        },
        {
          "name": "stdout",
          "output_type": "stream",
          "text": [
            "It: 3100, Loss: 3.549e+00,  loss_bc1: 6.963e-02,  loss_bc2: 1.933e-02, loss_ics_u: 9.003e-02, loss_ics_ut: 2.501e-03,  Loss_res: 4.572e-02 , Time: 0.04\n"
          ]
        },
        {
          "name": "stderr",
          "output_type": "stream",
          "text": [
            "lam_res_val: 5.774e-01\n",
            "lam_u_val: 1.008e+01\n",
            "lam_bc1_val: 7.692e+00\n",
            "lam_bc2_val: 2.051e+00\n",
            "lam_res_val: 7.149e-01\n",
            "lam_u_val: 1.663e+01\n",
            "lam_bc1_val: 6.452e+00\n",
            "lam_bc2_val: 2.834e+00\n",
            "lam_res_val: 2.001e+00\n",
            "lam_u_val: 2.395e+01\n",
            "lam_bc1_val: 5.159e+00\n",
            "lam_bc2_val: 2.538e+00\n",
            "lam_res_val: 3.747e-01\n",
            "lam_u_val: 3.210e+01\n",
            "lam_bc1_val: 3.817e+00\n",
            "lam_bc2_val: 2.250e+00\n"
          ]
        },
        {
          "name": "stdout",
          "output_type": "stream",
          "text": [
            "It: 3200, Loss: 3.305e+00,  loss_bc1: 6.205e-02,  loss_bc2: 2.183e-02, loss_ics_u: 9.149e-02, loss_ics_ut: 1.412e-03,  Loss_res: 3.704e-02 , Time: 0.03\n",
            "It: 3300, Loss: 2.838e+00,  loss_bc1: 6.545e-02,  loss_bc2: 1.309e-02, loss_ics_u: 7.561e-02, loss_ics_ut: 2.344e-03,  Loss_res: 5.713e-02 , Time: 0.03\n"
          ]
        },
        {
          "name": "stderr",
          "output_type": "stream",
          "text": [
            "lam_res_val: 1.395e+00\n",
            "lam_u_val: 1.569e+01\n",
            "lam_bc1_val: 3.642e+00\n",
            "lam_bc2_val: 2.837e+00\n"
          ]
        },
        {
          "name": "stdout",
          "output_type": "stream",
          "text": [
            "It: 3400, Loss: 1.572e+00,  loss_bc1: 5.533e-02,  loss_bc2: 1.554e-02, loss_ics_u: 8.059e-02, loss_ics_ut: 2.214e-03,  Loss_res: 2.760e-02 , Time: 0.03\n"
          ]
        },
        {
          "name": "stderr",
          "output_type": "stream",
          "text": [
            "lam_res_val: 4.137e-01\n",
            "lam_u_val: 1.269e+01\n",
            "lam_bc1_val: 3.464e+00\n",
            "lam_bc2_val: 2.599e+00\n"
          ]
        },
        {
          "name": "stdout",
          "output_type": "stream",
          "text": [
            "It: 3500, Loss: 1.258e+00,  loss_bc1: 5.641e-02,  loss_bc2: 1.031e-02, loss_ics_u: 7.826e-02, loss_ics_ut: 1.764e-03,  Loss_res: 2.022e-02 , Time: 0.03\n",
            "It: 3600, Loss: 1.382e+00,  loss_bc1: 5.431e-02,  loss_bc2: 1.302e-02, loss_ics_u: 8.817e-02, loss_ics_ut: 1.732e-03,  Loss_res: 1.916e-02 , Time: 0.04\n",
            "It: 3700, Loss: 1.205e+00,  loss_bc1: 5.113e-02,  loss_bc2: 1.714e-02, loss_ics_u: 7.331e-02, loss_ics_ut: 2.166e-03,  Loss_res: 2.566e-02 , Time: 0.04\n"
          ]
        },
        {
          "name": "stderr",
          "output_type": "stream",
          "text": [
            "lam_res_val: 7.911e-01\n",
            "lam_u_val: 4.040e+01\n",
            "lam_bc1_val: 4.086e+00\n",
            "lam_bc2_val: 5.180e+00\n"
          ]
        },
        {
          "name": "stdout",
          "output_type": "stream",
          "text": [
            "It: 3800, Loss: 3.709e+00,  loss_bc1: 5.977e-02,  loss_bc2: 1.904e-02, loss_ics_u: 7.405e-02, loss_ics_ut: 7.072e-03,  Loss_res: 8.857e-02 , Time: 0.04\n",
            "It: 3900, Loss: 4.512e+00,  loss_bc1: 7.342e-02,  loss_bc2: 1.428e-02, loss_ics_u: 7.392e-02, loss_ics_ut: 2.534e-02,  Loss_res: 1.277e-01 , Time: 0.03\n",
            "It: 4000, Loss: 3.860e+00,  loss_bc1: 5.824e-02,  loss_bc2: 1.389e-02, loss_ics_u: 8.435e-02, loss_ics_ut: 1.892e-03,  Loss_res: 6.600e-02 , Time: 0.05\n",
            "It: 4100, Loss: 3.837e+00,  loss_bc1: 8.960e-02,  loss_bc2: 9.038e-03, loss_ics_u: 7.413e-02, loss_ics_ut: 8.489e-03,  Loss_res: 8.597e-02 , Time: 0.04\n",
            "It: 4200, Loss: 4.023e+00,  loss_bc1: 6.999e-02,  loss_bc2: 1.283e-02, loss_ics_u: 8.032e-02, loss_ics_ut: 7.013e-03,  Loss_res: 1.416e-01 , Time: 0.03\n",
            "It: 4300, Loss: 4.177e+00,  loss_bc1: 6.437e-02,  loss_bc2: 1.251e-02, loss_ics_u: 7.948e-02, loss_ics_ut: 1.080e-02,  Loss_res: 2.020e-01 , Time: 0.04\n",
            "It: 4400, Loss: 3.715e+00,  loss_bc1: 6.963e-02,  loss_bc2: 1.489e-02, loss_ics_u: 7.500e-02, loss_ics_ut: 7.319e-03,  Loss_res: 2.765e-02 , Time: 0.05\n",
            "It: 4500, Loss: 4.117e+00,  loss_bc1: 6.586e-02,  loss_bc2: 1.124e-02, loss_ics_u: 7.551e-02, loss_ics_ut: 1.562e-02,  Loss_res: 1.075e-01 , Time: 0.04\n",
            "It: 4600, Loss: 5.170e+00,  loss_bc1: 4.943e-02,  loss_bc2: 1.178e-02, loss_ics_u: 1.002e-01, loss_ics_ut: 1.706e-02,  Loss_res: 1.695e-01 , Time: 0.05\n",
            "It: 4700, Loss: 3.659e+00,  loss_bc1: 6.097e-02,  loss_bc2: 1.450e-02, loss_ics_u: 7.546e-02, loss_ics_ut: 4.594e-03,  Loss_res: 1.008e-01 , Time: 0.04\n",
            "It: 4800, Loss: 3.425e+00,  loss_bc1: 6.487e-02,  loss_bc2: 1.320e-02, loss_ics_u: 6.757e-02, loss_ics_ut: 7.424e-03,  Loss_res: 6.157e-02 , Time: 0.04\n",
            "It: 4900, Loss: 3.159e+00,  loss_bc1: 5.953e-02,  loss_bc2: 1.457e-02, loss_ics_u: 6.390e-02, loss_ics_ut: 4.272e-03,  Loss_res: 8.601e-02 , Time: 0.04\n",
            "It: 5000, Loss: 4.037e+00,  loss_bc1: 5.285e-02,  loss_bc2: 1.581e-02, loss_ics_u: 8.513e-02, loss_ics_ut: 1.973e-03,  Loss_res: 2.204e-01 , Time: 0.04\n",
            "It: 5100, Loss: 3.414e+00,  loss_bc1: 6.716e-02,  loss_bc2: 1.317e-02, loss_ics_u: 7.036e-02, loss_ics_ut: 3.467e-03,  Loss_res: 8.838e-02 , Time: 0.04\n",
            "It: 5200, Loss: 3.304e+00,  loss_bc1: 6.421e-02,  loss_bc2: 1.640e-02, loss_ics_u: 6.772e-02, loss_ics_ut: 2.168e-03,  Loss_res: 1.328e-01 , Time: 0.04\n",
            "It: 5300, Loss: 3.642e+00,  loss_bc1: 5.887e-02,  loss_bc2: 1.438e-02, loss_ics_u: 7.264e-02, loss_ics_ut: 8.629e-03,  Loss_res: 4.409e-02 , Time: 0.04\n",
            "It: 5400, Loss: 3.501e+00,  loss_bc1: 6.051e-02,  loss_bc2: 1.851e-02, loss_ics_u: 6.413e-02, loss_ics_ut: 1.131e-02,  Loss_res: 1.105e-01 , Time: 0.04\n",
            "It: 5500, Loss: 3.485e+00,  loss_bc1: 6.500e-02,  loss_bc2: 1.300e-02, loss_ics_u: 7.383e-02, loss_ics_ut: 3.356e-03,  Loss_res: 3.346e-02 , Time: 0.04\n",
            "It: 5600, Loss: 3.578e+00,  loss_bc1: 6.638e-02,  loss_bc2: 1.083e-02, loss_ics_u: 6.902e-02, loss_ics_ut: 9.314e-03,  Loss_res: 8.623e-02 , Time: 0.03\n",
            "It: 5700, Loss: 3.225e+00,  loss_bc1: 5.711e-02,  loss_bc2: 1.841e-02, loss_ics_u: 6.922e-02, loss_ics_ut: 1.529e-03,  Loss_res: 3.811e-02 , Time: 0.04\n"
          ]
        },
        {
          "name": "stderr",
          "output_type": "stream",
          "text": [
            "lam_res_val: 1.262e+00\n",
            "lam_u_val: 1.080e+01\n",
            "lam_bc1_val: 4.508e+00\n",
            "lam_bc2_val: 2.795e+00\n",
            "lam_res_val: 6.354e-01\n",
            "lam_u_val: 8.288e+00\n",
            "lam_bc1_val: 4.171e+00\n",
            "lam_bc2_val: 4.914e+00\n"
          ]
        },
        {
          "name": "stdout",
          "output_type": "stream",
          "text": [
            "It: 5800, Loss: 9.181e-01,  loss_bc1: 5.081e-02,  loss_bc2: 1.475e-02, loss_ics_u: 6.949e-02, loss_ics_ut: 1.673e-03,  Loss_res: 4.393e-02 , Time: 0.04\n"
          ]
        },
        {
          "name": "stderr",
          "output_type": "stream",
          "text": [
            "lam_res_val: 4.832e-01\n",
            "lam_u_val: 7.204e+00\n",
            "lam_bc1_val: 3.113e+00\n",
            "lam_bc2_val: 5.198e+00\n",
            "lam_res_val: 6.356e-01\n",
            "lam_u_val: 1.454e+01\n",
            "lam_bc1_val: 2.461e+00\n",
            "lam_bc2_val: 3.871e+00\n"
          ]
        },
        {
          "name": "stdout",
          "output_type": "stream",
          "text": [
            "It: 5900, Loss: 1.321e+00,  loss_bc1: 5.209e-02,  loss_bc2: 1.605e-02, loss_ics_u: 7.434e-02, loss_ics_ut: 1.660e-03,  Loss_res: 2.505e-02 , Time: 0.05\n",
            "It: 6000, Loss: 1.276e+00,  loss_bc1: 5.671e-02,  loss_bc2: 1.355e-02, loss_ics_u: 7.039e-02, loss_ics_ut: 2.538e-03,  Loss_res: 2.297e-02 , Time: 0.04\n"
          ]
        },
        {
          "name": "stderr",
          "output_type": "stream",
          "text": [
            "lam_res_val: 1.869e-01\n",
            "lam_u_val: 1.965e+01\n",
            "lam_bc1_val: 2.839e+00\n",
            "lam_bc2_val: 5.681e+00\n",
            "lam_res_val: 2.236e-01\n",
            "lam_u_val: 7.606e+00\n",
            "lam_bc1_val: 3.599e+00\n",
            "lam_bc2_val: 3.825e+00\n",
            "lam_res_val: 1.654e-01\n",
            "lam_u_val: 9.923e+00\n",
            "lam_bc1_val: 3.532e+00\n",
            "lam_bc2_val: 6.610e+00\n"
          ]
        },
        {
          "name": "stdout",
          "output_type": "stream",
          "text": [
            "It: 6100, Loss: 9.669e-01,  loss_bc1: 4.987e-02,  loss_bc2: 1.745e-02, loss_ics_u: 6.341e-02, loss_ics_ut: 1.677e-03,  Loss_res: 2.954e-02 , Time: 0.04\n"
          ]
        },
        {
          "name": "stderr",
          "output_type": "stream",
          "text": [
            "lam_res_val: 4.330e-01\n",
            "lam_u_val: 8.039e+00\n",
            "lam_bc1_val: 2.667e+00\n",
            "lam_bc2_val: 6.673e+00\n",
            "lam_res_val: 8.814e-01\n",
            "lam_u_val: 8.533e+00\n",
            "lam_bc1_val: 3.484e+00\n",
            "lam_bc2_val: 7.876e+00\n",
            "lam_res_val: 1.359e-01\n",
            "lam_u_val: 8.645e+00\n",
            "lam_bc1_val: 2.954e+00\n",
            "lam_bc2_val: 6.309e+00\n",
            "lam_res_val: 2.572e-01\n",
            "lam_u_val: 9.461e+00\n",
            "lam_bc1_val: 3.795e+00\n",
            "lam_bc2_val: 6.611e+00\n",
            "lam_res_val: 3.844e-01\n",
            "lam_u_val: 3.023e+01\n",
            "lam_bc1_val: 4.108e+00\n",
            "lam_bc2_val: 6.790e+00\n"
          ]
        },
        {
          "name": "stdout",
          "output_type": "stream",
          "text": [
            "It: 6200, Loss: 2.666e+00,  loss_bc1: 5.265e-02,  loss_bc2: 1.565e-02, loss_ics_u: 7.255e-02, loss_ics_ut: 2.671e-03,  Loss_res: 6.956e-02 , Time: 0.04\n",
            "It: 6300, Loss: 2.537e+00,  loss_bc1: 6.282e-02,  loss_bc2: 1.321e-02, loss_ics_u: 6.555e-02, loss_ics_ut: 4.599e-03,  Loss_res: 6.877e-02 , Time: 0.04\n",
            "It: 6400, Loss: 2.782e+00,  loss_bc1: 8.164e-02,  loss_bc2: 1.412e-02, loss_ics_u: 6.704e-02, loss_ics_ut: 8.015e-03,  Loss_res: 8.197e-02 , Time: 0.04\n",
            "It: 6500, Loss: 3.481e+00,  loss_bc1: 5.459e-02,  loss_bc2: 1.516e-02, loss_ics_u: 6.827e-02, loss_ics_ut: 3.028e-02,  Loss_res: 1.750e-01 , Time: 0.03\n",
            "It: 6600, Loss: 2.437e+00,  loss_bc1: 6.259e-02,  loss_bc2: 1.757e-02, loss_ics_u: 6.567e-02, loss_ics_ut: 9.564e-04,  Loss_res: 4.634e-02 , Time: 0.04\n",
            "It: 6700, Loss: 2.322e+00,  loss_bc1: 7.143e-02,  loss_bc2: 1.648e-02, loss_ics_u: 5.947e-02, loss_ics_ut: 2.398e-03,  Loss_res: 4.654e-02 , Time: 0.04\n",
            "It: 6800, Loss: 2.442e+00,  loss_bc1: 7.220e-02,  loss_bc2: 1.471e-02, loss_ics_u: 6.256e-02, loss_ics_ut: 3.067e-03,  Loss_res: 6.191e-02 , Time: 0.04\n",
            "It: 6900, Loss: 2.127e+00,  loss_bc1: 5.697e-02,  loss_bc2: 1.226e-02, loss_ics_u: 5.421e-02, loss_ics_ut: 1.815e-03,  Loss_res: 1.160e-01 , Time: 0.04\n",
            "It: 7000, Loss: 5.425e+00,  loss_bc1: 5.268e-02,  loss_bc2: 1.556e-02, loss_ics_u: 5.742e-02, loss_ics_ut: 8.188e-02,  Loss_res: 8.922e-01 , Time: 0.03\n"
          ]
        },
        {
          "name": "stderr",
          "output_type": "stream",
          "text": [
            "lam_res_val: 3.042e-01\n",
            "lam_u_val: 1.448e+01\n",
            "lam_bc1_val: 3.522e+00\n",
            "lam_bc2_val: 3.204e+00\n",
            "lam_res_val: 2.555e-01\n",
            "lam_u_val: 5.816e+00\n",
            "lam_bc1_val: 2.948e+00\n",
            "lam_bc2_val: 4.722e+00\n",
            "lam_res_val: 2.042e-01\n",
            "lam_u_val: 1.237e+01\n",
            "lam_bc1_val: 3.666e+00\n",
            "lam_bc2_val: 2.677e+00\n"
          ]
        },
        {
          "name": "stdout",
          "output_type": "stream",
          "text": [
            "It: 7100, Loss: 1.008e+00,  loss_bc1: 4.893e-02,  loss_bc2: 1.469e-02, loss_ics_u: 6.017e-02, loss_ics_ut: 9.380e-04,  Loss_res: 3.290e-02 , Time: 0.03\n"
          ]
        },
        {
          "name": "stderr",
          "output_type": "stream",
          "text": [
            "lam_res_val: 2.444e-01\n",
            "lam_u_val: 6.464e+00\n",
            "lam_bc1_val: 2.007e+00\n",
            "lam_bc2_val: 3.594e+00\n",
            "lam_res_val: 2.574e-01\n",
            "lam_u_val: 5.783e+00\n",
            "lam_bc1_val: 2.612e+00\n",
            "lam_bc2_val: 4.978e+00\n",
            "lam_res_val: 3.274e-01\n",
            "lam_u_val: 8.820e+00\n",
            "lam_bc1_val: 2.784e+00\n",
            "lam_bc2_val: 6.776e+00\n",
            "lam_res_val: 5.084e-01\n",
            "lam_u_val: 8.696e+00\n",
            "lam_bc1_val: 3.296e+00\n",
            "lam_bc2_val: 7.559e+00\n"
          ]
        },
        {
          "name": "stdout",
          "output_type": "stream",
          "text": [
            "It: 7200, Loss: 8.600e-01,  loss_bc1: 5.036e-02,  loss_bc2: 1.848e-02, loss_ics_u: 5.857e-02, loss_ics_ut: 7.321e-04,  Loss_res: 3.870e-02 , Time: 0.04\n",
            "It: 7300, Loss: 7.918e-01,  loss_bc1: 4.857e-02,  loss_bc2: 1.411e-02, loss_ics_u: 5.640e-02, loss_ics_ut: 9.513e-04,  Loss_res: 2.633e-02 , Time: 0.03\n",
            "It: 7400, Loss: 7.516e-01,  loss_bc1: 4.768e-02,  loss_bc2: 1.579e-02, loss_ics_u: 5.043e-02, loss_ics_ut: 6.273e-04,  Loss_res: 3.106e-02 , Time: 0.03\n",
            "It: 7500, Loss: 9.763e-01,  loss_bc1: 5.442e-02,  loss_bc2: 1.429e-02, loss_ics_u: 5.732e-02, loss_ics_ut: 1.509e-03,  Loss_res: 1.774e-01 , Time: 0.03\n",
            "It: 7600, Loss: 8.412e-01,  loss_bc1: 4.707e-02,  loss_bc2: 1.498e-02, loss_ics_u: 6.030e-02, loss_ics_ut: 2.450e-03,  Loss_res: 2.719e-02 , Time: 0.07\n"
          ]
        },
        {
          "name": "stderr",
          "output_type": "stream",
          "text": [
            "lam_res_val: 3.094e-01\n",
            "lam_u_val: 7.734e+00\n",
            "lam_bc1_val: 2.863e+00\n",
            "lam_bc2_val: 4.075e+00\n"
          ]
        },
        {
          "name": "stdout",
          "output_type": "stream",
          "text": [
            "It: 7700, Loss: 6.737e-01,  loss_bc1: 5.200e-02,  loss_bc2: 1.406e-02, loss_ics_u: 5.522e-02, loss_ics_ut: 1.651e-03,  Loss_res: 2.773e-02 , Time: 0.06\n",
            "It: 7800, Loss: 6.468e-01,  loss_bc1: 4.060e-02,  loss_bc2: 1.686e-02, loss_ics_u: 5.390e-02, loss_ics_ut: 1.798e-03,  Loss_res: 3.112e-02 , Time: 0.06\n"
          ]
        },
        {
          "name": "stderr",
          "output_type": "stream",
          "text": [
            "lam_res_val: 1.236e-01\n",
            "lam_u_val: 6.819e+00\n",
            "lam_bc1_val: 2.653e+00\n",
            "lam_bc2_val: 5.315e+00\n"
          ]
        },
        {
          "name": "stdout",
          "output_type": "stream",
          "text": [
            "It: 7900, Loss: 6.239e-01,  loss_bc1: 4.494e-02,  loss_bc2: 1.522e-02, loss_ics_u: 4.859e-02, loss_ics_ut: 1.803e-03,  Loss_res: 8.013e-02 , Time: 0.08\n",
            "It: 8000, Loss: 9.389e-01,  loss_bc1: 4.912e-02,  loss_bc2: 1.404e-02, loss_ics_u: 5.692e-02, loss_ics_ut: 2.408e-03,  Loss_res: 3.294e-01 , Time: 0.10\n",
            "It: 8100, Loss: 6.109e-01,  loss_bc1: 4.999e-02,  loss_bc2: 1.481e-02, loss_ics_u: 5.547e-02, loss_ics_ut: 3.993e-04,  Loss_res: 1.855e-02 , Time: 0.04\n",
            "It: 8200, Loss: 1.053e+00,  loss_bc1: 5.533e-02,  loss_bc2: 1.443e-02, loss_ics_u: 5.543e-02, loss_ics_ut: 8.511e-03,  Loss_res: 3.938e-01 , Time: 0.03\n"
          ]
        },
        {
          "name": "stderr",
          "output_type": "stream",
          "text": [
            "lam_res_val: 3.009e-01\n",
            "lam_u_val: 6.383e+00\n",
            "lam_bc1_val: 2.991e+00\n",
            "lam_bc2_val: 3.163e+00\n"
          ]
        },
        {
          "name": "stdout",
          "output_type": "stream",
          "text": [
            "It: 8300, Loss: 5.603e-01,  loss_bc1: 4.691e-02,  loss_bc2: 1.634e-02, loss_ics_u: 5.410e-02, loss_ics_ut: 1.143e-03,  Loss_res: 1.569e-02 , Time: 0.04\n"
          ]
        },
        {
          "name": "stderr",
          "output_type": "stream",
          "text": [
            "lam_res_val: 3.000e-01\n",
            "lam_u_val: 1.516e+01\n",
            "lam_bc1_val: 2.641e+00\n",
            "lam_bc2_val: 6.076e+00\n"
          ]
        },
        {
          "name": "stdout",
          "output_type": "stream",
          "text": [
            "It: 8400, Loss: 1.165e+00,  loss_bc1: 5.469e-02,  loss_bc2: 1.744e-02, loss_ics_u: 5.819e-02, loss_ics_ut: 7.655e-04,  Loss_res: 2.023e-02 , Time: 0.04\n",
            "It: 8500, Loss: 1.287e+00,  loss_bc1: 5.486e-02,  loss_bc2: 1.540e-02, loss_ics_u: 5.422e-02, loss_ics_ut: 8.056e-03,  Loss_res: 1.038e-01 , Time: 0.04\n",
            "It: 8600, Loss: 3.452e+00,  loss_bc1: 7.976e-02,  loss_bc2: 1.316e-02, loss_ics_u: 4.948e-02, loss_ics_ut: 9.175e-02,  Loss_res: 1.020e+00 , Time: 0.04\n",
            "It: 8700, Loss: 1.026e+00,  loss_bc1: 4.855e-02,  loss_bc2: 1.655e-02, loss_ics_u: 4.931e-02, loss_ics_ut: 1.897e-03,  Loss_res: 2.054e-02 , Time: 0.04\n",
            "It: 8800, Loss: 1.122e+00,  loss_bc1: 5.047e-02,  loss_bc2: 1.497e-02, loss_ics_u: 5.450e-02, loss_ics_ut: 2.634e-03,  Loss_res: 3.158e-02 , Time: 0.04\n",
            "It: 8900, Loss: 1.043e+00,  loss_bc1: 5.573e-02,  loss_bc2: 1.443e-02, loss_ics_u: 4.673e-02, loss_ics_ut: 3.406e-03,  Loss_res: 4.825e-02 , Time: 0.04\n",
            "It: 9000, Loss: 1.138e+00,  loss_bc1: 6.180e-02,  loss_bc2: 1.455e-02, loss_ics_u: 5.401e-02, loss_ics_ut: 1.969e-03,  Loss_res: 3.801e-02 , Time: 0.04\n",
            "It: 9100, Loss: 1.046e+00,  loss_bc1: 6.182e-02,  loss_bc2: 1.531e-02, loss_ics_u: 4.765e-02, loss_ics_ut: 1.396e-03,  Loss_res: 4.618e-02 , Time: 0.04\n",
            "It: 9200, Loss: 1.226e+00,  loss_bc1: 7.099e-02,  loss_bc2: 1.384e-02, loss_ics_u: 4.635e-02, loss_ics_ut: 2.531e-03,  Loss_res: 2.133e-01 , Time: 0.04\n",
            "It: 9300, Loss: 9.653e-01,  loss_bc1: 5.459e-02,  loss_bc2: 1.651e-02, loss_ics_u: 4.327e-02, loss_ics_ut: 8.436e-04,  Loss_res: 5.191e-02 , Time: 0.03\n",
            "It: 9400, Loss: 9.208e-01,  loss_bc1: 4.886e-02,  loss_bc2: 1.486e-02, loss_ics_u: 4.262e-02, loss_ics_ut: 9.969e-04,  Loss_res: 4.014e-02 , Time: 0.04\n",
            "It: 9500, Loss: 1.025e+00,  loss_bc1: 6.234e-02,  loss_bc2: 1.777e-02, loss_ics_u: 3.891e-02, loss_ics_ut: 3.247e-03,  Loss_res: 1.135e-01 , Time: 0.04\n",
            "It: 9600, Loss: 9.903e-01,  loss_bc1: 5.227e-02,  loss_bc2: 1.436e-02, loss_ics_u: 4.609e-02, loss_ics_ut: 2.092e-03,  Loss_res: 3.435e-02 , Time: 0.04\n"
          ]
        },
        {
          "name": "stderr",
          "output_type": "stream",
          "text": [
            "lam_res_val: 1.020e-01\n",
            "lam_u_val: 6.853e+00\n",
            "lam_bc1_val: 2.938e+00\n",
            "lam_bc2_val: 6.702e+00\n"
          ]
        },
        {
          "name": "stdout",
          "output_type": "stream",
          "text": [
            "It: 9700, Loss: 5.919e-01,  loss_bc1: 5.010e-02,  loss_bc2: 1.501e-02, loss_ics_u: 4.294e-02, loss_ics_ut: 6.619e-04,  Loss_res: 4.528e-02 , Time: 0.04\n",
            "It: 9800, Loss: 5.870e-01,  loss_bc1: 5.506e-02,  loss_bc2: 1.292e-02, loss_ics_u: 4.468e-02, loss_ics_ut: 7.616e-04,  Loss_res: 2.717e-02 , Time: 0.04\n"
          ]
        },
        {
          "name": "stderr",
          "output_type": "stream",
          "text": [
            "lam_res_val: 3.232e-01\n",
            "lam_u_val: 4.103e+00\n",
            "lam_bc1_val: 2.536e+00\n",
            "lam_bc2_val: 3.014e+00\n"
          ]
        },
        {
          "name": "stdout",
          "output_type": "stream",
          "text": [
            "It: 9900, Loss: 4.439e-01,  loss_bc1: 3.747e-02,  loss_bc2: 1.600e-02, loss_ics_u: 4.988e-02, loss_ics_ut: 2.165e-03,  Loss_res: 8.710e-02 , Time: 0.08\n"
          ]
        },
        {
          "name": "stderr",
          "output_type": "stream",
          "text": [
            "lam_res_val: 5.761e-01\n",
            "lam_u_val: 2.962e+00\n",
            "lam_bc1_val: 2.528e+00\n",
            "lam_bc2_val: 4.059e+00\n"
          ]
        },
        {
          "name": "stdout",
          "output_type": "stream",
          "text": [
            "It: 10000, Loss: 3.174e-01,  loss_bc1: 4.014e-02,  loss_bc2: 1.476e-02, loss_ics_u: 4.313e-02, loss_ics_ut: 5.123e-04,  Loss_res: 2.674e-02 , Time: 0.05\n",
            "It: 10100, Loss: 3.485e-01,  loss_bc1: 3.997e-02,  loss_bc2: 1.282e-02, loss_ics_u: 5.508e-02, loss_ics_ut: 1.942e-03,  Loss_res: 2.648e-02 , Time: 0.04\n",
            "It: 10200, Loss: 3.145e-01,  loss_bc1: 3.831e-02,  loss_bc2: 1.466e-02, loss_ics_u: 4.862e-02, loss_ics_ut: 7.771e-04,  Loss_res: 1.175e-02 , Time: 0.04\n"
          ]
        },
        {
          "name": "stderr",
          "output_type": "stream",
          "text": [
            "lam_res_val: 9.242e-01\n",
            "lam_u_val: 4.215e+00\n",
            "lam_bc1_val: 2.570e+00\n",
            "lam_bc2_val: 2.912e+00\n",
            "lam_res_val: 1.352e-01\n",
            "lam_u_val: 5.349e+00\n",
            "lam_bc1_val: 2.546e+00\n",
            "lam_bc2_val: 4.801e+00\n"
          ]
        },
        {
          "name": "stdout",
          "output_type": "stream",
          "text": [
            "It: 10300, Loss: 5.128e-01,  loss_bc1: 3.850e-02,  loss_bc2: 1.472e-02, loss_ics_u: 4.768e-02, loss_ics_ut: 2.898e-03,  Loss_res: 7.364e-02 , Time: 0.04\n",
            "It: 10400, Loss: 4.538e-01,  loss_bc1: 3.916e-02,  loss_bc2: 1.418e-02, loss_ics_u: 4.817e-02, loss_ics_ut: 1.262e-03,  Loss_res: 2.164e-02 , Time: 0.04\n"
          ]
        },
        {
          "name": "stderr",
          "output_type": "stream",
          "text": [
            "lam_res_val: 1.501e-01\n",
            "lam_u_val: 9.523e+00\n",
            "lam_bc1_val: 2.798e+00\n",
            "lam_bc2_val: 5.832e+00\n"
          ]
        },
        {
          "name": "stdout",
          "output_type": "stream",
          "text": [
            "It: 10500, Loss: 6.463e-01,  loss_bc1: 3.612e-02,  loss_bc2: 1.203e-02, loss_ics_u: 4.518e-02, loss_ics_ut: 1.588e-03,  Loss_res: 2.970e-02 , Time: 0.04\n",
            "It: 10600, Loss: 1.063e+00,  loss_bc1: 4.073e-02,  loss_bc2: 1.163e-02, loss_ics_u: 4.122e-02, loss_ics_ut: 8.700e-03,  Loss_res: 4.060e-01 , Time: 0.04\n",
            "It: 10700, Loss: 6.557e-01,  loss_bc1: 4.780e-02,  loss_bc2: 1.454e-02, loss_ics_u: 4.189e-02, loss_ics_ut: 6.733e-04,  Loss_res: 3.179e-02 , Time: 0.05\n",
            "It: 10800, Loss: 6.951e-01,  loss_bc1: 3.880e-02,  loss_bc2: 1.136e-02, loss_ics_u: 4.112e-02, loss_ics_ut: 2.405e-03,  Loss_res: 1.059e-01 , Time: 0.04\n",
            "It: 10900, Loss: 1.071e+00,  loss_bc1: 4.451e-02,  loss_bc2: 1.146e-02, loss_ics_u: 4.108e-02, loss_ics_ut: 2.384e-02,  Loss_res: 2.616e-01 , Time: 0.04\n",
            "It: 11000, Loss: 6.344e-01,  loss_bc1: 5.075e-02,  loss_bc2: 1.298e-02, loss_ics_u: 4.170e-02, loss_ics_ut: 5.863e-04,  Loss_res: 1.411e-02 , Time: 0.04\n",
            "It: 11100, Loss: 6.033e-01,  loss_bc1: 3.555e-02,  loss_bc2: 1.372e-02, loss_ics_u: 3.465e-02, loss_ics_ut: 3.880e-03,  Loss_res: 5.695e-02 , Time: 0.04\n"
          ]
        },
        {
          "name": "stderr",
          "output_type": "stream",
          "text": [
            "lam_res_val: 1.182e-01\n",
            "lam_u_val: 3.319e+00\n",
            "lam_bc1_val: 2.724e+00\n",
            "lam_bc2_val: 6.698e+00\n"
          ]
        },
        {
          "name": "stdout",
          "output_type": "stream",
          "text": [
            "It: 11200, Loss: 3.145e-01,  loss_bc1: 2.784e-02,  loss_bc2: 1.166e-02, loss_ics_u: 4.000e-02, loss_ics_ut: 1.305e-03,  Loss_res: 2.349e-02 , Time: 0.04\n"
          ]
        },
        {
          "name": "stderr",
          "output_type": "stream",
          "text": [
            "lam_res_val: 7.560e-02\n",
            "lam_u_val: 5.019e+00\n",
            "lam_bc1_val: 2.608e+00\n",
            "lam_bc2_val: 4.190e+00\n"
          ]
        },
        {
          "name": "stdout",
          "output_type": "stream",
          "text": [
            "It: 11300, Loss: 4.172e-01,  loss_bc1: 3.333e-02,  loss_bc2: 1.209e-02, loss_ics_u: 5.084e-02, loss_ics_ut: 7.454e-04,  Loss_res: 2.078e-02 , Time: 0.04\n",
            "It: 11400, Loss: 3.826e-01,  loss_bc1: 3.965e-02,  loss_bc2: 1.301e-02, loss_ics_u: 3.742e-02, loss_ics_ut: 1.021e-03,  Loss_res: 3.173e-02 , Time: 0.04\n"
          ]
        },
        {
          "name": "stderr",
          "output_type": "stream",
          "text": [
            "lam_res_val: 7.025e-02\n",
            "lam_u_val: 7.816e+00\n",
            "lam_bc1_val: 2.164e+00\n",
            "lam_bc2_val: 2.838e+00\n"
          ]
        },
        {
          "name": "stdout",
          "output_type": "stream",
          "text": [
            "It: 11500, Loss: 7.951e-01,  loss_bc1: 3.243e-02,  loss_bc2: 1.222e-02, loss_ics_u: 5.426e-02, loss_ics_ut: 3.341e-03,  Loss_res: 2.400e-01 , Time: 0.03\n",
            "It: 11600, Loss: 5.370e-01,  loss_bc1: 3.072e-02,  loss_bc2: 1.305e-02, loss_ics_u: 5.042e-02, loss_ics_ut: 1.701e-03,  Loss_res: 2.612e-02 , Time: 0.03\n"
          ]
        },
        {
          "name": "stderr",
          "output_type": "stream",
          "text": [
            "lam_res_val: 3.723e-01\n",
            "lam_u_val: 9.899e+00\n",
            "lam_bc1_val: 2.950e+00\n",
            "lam_bc2_val: 3.842e+00\n"
          ]
        },
        {
          "name": "stdout",
          "output_type": "stream",
          "text": [
            "It: 11700, Loss: 6.458e-01,  loss_bc1: 3.129e-02,  loss_bc2: 1.300e-02, loss_ics_u: 4.695e-02, loss_ics_ut: 1.093e-03,  Loss_res: 2.787e-02 , Time: 0.03\n",
            "It: 11800, Loss: 7.352e-01,  loss_bc1: 2.995e-02,  loss_bc2: 1.970e-02, loss_ics_u: 4.184e-02, loss_ics_ut: 3.794e-03,  Loss_res: 1.193e-01 , Time: 0.04\n",
            "It: 11900, Loss: 9.742e-01,  loss_bc1: 3.867e-02,  loss_bc2: 1.562e-02, loss_ics_u: 4.172e-02, loss_ics_ut: 7.489e-03,  Loss_res: 3.129e-01 , Time: 0.04\n"
          ]
        },
        {
          "name": "stderr",
          "output_type": "stream",
          "text": [
            "lam_res_val: 9.738e-02\n",
            "lam_u_val: 9.709e+00\n",
            "lam_bc1_val: 1.949e+00\n",
            "lam_bc2_val: 6.620e+00\n"
          ]
        },
        {
          "name": "stdout",
          "output_type": "stream",
          "text": [
            "It: 12000, Loss: 6.084e-01,  loss_bc1: 2.895e-02,  loss_bc2: 1.644e-02, loss_ics_u: 3.853e-02, loss_ics_ut: 2.497e-03,  Loss_res: 4.484e-02 , Time: 0.03\n",
            "It: 12100, Loss: 6.387e-01,  loss_bc1: 3.829e-02,  loss_bc2: 1.449e-02, loss_ics_u: 4.038e-02, loss_ics_ut: 1.456e-03,  Loss_res: 6.192e-02 , Time: 0.04\n",
            "It: 12200, Loss: 6.101e-01,  loss_bc1: 4.325e-02,  loss_bc2: 1.192e-02, loss_ics_u: 3.870e-02, loss_ics_ut: 2.546e-03,  Loss_res: 4.643e-02 , Time: 0.04\n",
            "It: 12300, Loss: 5.931e-01,  loss_bc1: 5.187e-02,  loss_bc2: 1.084e-02, loss_ics_u: 3.095e-02, loss_ics_ut: 5.410e-03,  Loss_res: 6.718e-02 , Time: 0.04\n",
            "It: 12400, Loss: 5.735e-01,  loss_bc1: 3.532e-02,  loss_bc2: 9.531e-03, loss_ics_u: 3.605e-02, loss_ics_ut: 5.816e-03,  Loss_res: 3.500e-02 , Time: 0.04\n",
            "It: 12500, Loss: 5.068e-01,  loss_bc1: 3.715e-02,  loss_bc2: 1.048e-02, loss_ics_u: 3.478e-02, loss_ics_ut: 8.341e-04,  Loss_res: 1.929e-02 , Time: 0.04\n"
          ]
        },
        {
          "name": "stderr",
          "output_type": "stream",
          "text": [
            "lam_res_val: 1.838e-01\n",
            "lam_u_val: 7.007e+00\n",
            "lam_bc1_val: 2.449e+00\n",
            "lam_bc2_val: 3.970e+00\n",
            "lam_res_val: 2.341e-01\n",
            "lam_u_val: 6.532e+00\n",
            "lam_bc1_val: 2.370e+00\n",
            "lam_bc2_val: 3.524e+00\n"
          ]
        },
        {
          "name": "stdout",
          "output_type": "stream",
          "text": [
            "It: 12600, Loss: 3.574e-01,  loss_bc1: 3.031e-02,  loss_bc2: 7.739e-03, loss_ics_u: 3.421e-02, loss_ics_ut: 1.049e-03,  Loss_res: 2.804e-02 , Time: 0.04\n"
          ]
        },
        {
          "name": "stderr",
          "output_type": "stream",
          "text": [
            "lam_res_val: 7.107e-02\n",
            "lam_u_val: 6.267e+00\n",
            "lam_bc1_val: 2.024e+00\n",
            "lam_bc2_val: 2.005e+00\n"
          ]
        },
        {
          "name": "stdout",
          "output_type": "stream",
          "text": [
            "It: 12700, Loss: 3.262e-01,  loss_bc1: 2.367e-02,  loss_bc2: 1.280e-02, loss_ics_u: 3.334e-02, loss_ics_ut: 9.494e-04,  Loss_res: 3.775e-02 , Time: 0.04\n"
          ]
        },
        {
          "name": "stderr",
          "output_type": "stream",
          "text": [
            "lam_res_val: 3.668e-01\n",
            "lam_u_val: 7.774e+00\n",
            "lam_bc1_val: 2.232e+00\n",
            "lam_bc2_val: 5.768e+00\n"
          ]
        },
        {
          "name": "stdout",
          "output_type": "stream",
          "text": [
            "It: 12800, Loss: 4.511e-01,  loss_bc1: 3.168e-02,  loss_bc2: 1.098e-02, loss_ics_u: 3.575e-02, loss_ics_ut: 1.079e-03,  Loss_res: 3.070e-02 , Time: 0.03\n",
            "It: 12900, Loss: 4.166e-01,  loss_bc1: 2.951e-02,  loss_bc2: 1.089e-02, loss_ics_u: 3.295e-02, loss_ics_ut: 1.020e-03,  Loss_res: 2.383e-02 , Time: 0.04\n",
            "It: 13000, Loss: 4.593e-01,  loss_bc1: 3.291e-02,  loss_bc2: 8.881e-03, loss_ics_u: 3.481e-02, loss_ics_ut: 1.653e-03,  Loss_res: 5.115e-02 , Time: 0.04\n",
            "It: 13100, Loss: 4.430e-01,  loss_bc1: 2.811e-02,  loss_bc2: 1.267e-02, loss_ics_u: 3.371e-02, loss_ics_ut: 1.261e-03,  Loss_res: 3.532e-02 , Time: 0.04\n"
          ]
        },
        {
          "name": "stderr",
          "output_type": "stream",
          "text": [
            "lam_res_val: 1.036e-01\n",
            "lam_u_val: 2.960e+00\n",
            "lam_bc1_val: 2.308e+00\n",
            "lam_bc2_val: 4.547e+00\n"
          ]
        },
        {
          "name": "stdout",
          "output_type": "stream",
          "text": [
            "It: 13200, Loss: 2.199e-01,  loss_bc1: 2.391e-02,  loss_bc2: 8.219e-03, loss_ics_u: 3.334e-02, loss_ics_ut: 1.711e-03,  Loss_res: 2.358e-02 , Time: 0.04\n",
            "It: 13300, Loss: 2.034e-01,  loss_bc1: 2.023e-02,  loss_bc2: 7.104e-03, loss_ics_u: 3.612e-02, loss_ics_ut: 1.328e-03,  Loss_res: 1.359e-02 , Time: 0.04\n"
          ]
        },
        {
          "name": "stderr",
          "output_type": "stream",
          "text": [
            "lam_res_val: 1.610e-01\n",
            "lam_u_val: 4.584e+00\n",
            "lam_bc1_val: 2.095e+00\n",
            "lam_bc2_val: 3.657e+00\n",
            "lam_res_val: 8.643e-02\n",
            "lam_u_val: 5.700e+00\n",
            "lam_bc1_val: 1.931e+00\n",
            "lam_bc2_val: 2.246e+00\n"
          ]
        },
        {
          "name": "stdout",
          "output_type": "stream",
          "text": [
            "It: 13400, Loss: 2.838e-01,  loss_bc1: 2.352e-02,  loss_bc2: 1.128e-02, loss_ics_u: 3.139e-02, loss_ics_ut: 2.282e-03,  Loss_res: 2.116e-02 , Time: 0.04\n",
            "It: 13500, Loss: 3.231e-01,  loss_bc1: 2.143e-02,  loss_bc2: 1.088e-02, loss_ics_u: 3.407e-02, loss_ics_ut: 1.326e-03,  Loss_res: 5.554e-02 , Time: 0.04\n"
          ]
        },
        {
          "name": "stderr",
          "output_type": "stream",
          "text": [
            "lam_res_val: 4.694e-02\n",
            "lam_u_val: 4.306e+00\n",
            "lam_bc1_val: 2.543e+00\n",
            "lam_bc2_val: 6.960e+00\n"
          ]
        },
        {
          "name": "stdout",
          "output_type": "stream",
          "text": [
            "It: 13600, Loss: 3.714e-01,  loss_bc1: 2.567e-02,  loss_bc2: 8.595e-03, loss_ics_u: 3.623e-02, loss_ics_ut: 5.578e-03,  Loss_res: 6.629e-02 , Time: 0.04\n",
            "It: 13700, Loss: 3.438e-01,  loss_bc1: 2.133e-02,  loss_bc2: 8.954e-03, loss_ics_u: 3.759e-02, loss_ics_ut: 5.415e-03,  Loss_res: 4.201e-02 , Time: 0.04\n"
          ]
        },
        {
          "name": "stderr",
          "output_type": "stream",
          "text": [
            "lam_res_val: 3.218e-01\n",
            "lam_u_val: 2.892e+00\n",
            "lam_bc1_val: 1.624e+00\n",
            "lam_bc2_val: 1.857e+00\n"
          ]
        },
        {
          "name": "stdout",
          "output_type": "stream",
          "text": [
            "It: 13800, Loss: 1.811e-01,  loss_bc1: 2.025e-02,  loss_bc2: 1.010e-02, loss_ics_u: 3.791e-02, loss_ics_ut: 8.638e-04,  Loss_res: 1.735e-02 , Time: 0.04\n",
            "It: 13900, Loss: 1.863e-01,  loss_bc1: 1.987e-02,  loss_bc2: 1.042e-02, loss_ics_u: 3.515e-02, loss_ics_ut: 7.862e-04,  Loss_res: 3.074e-02 , Time: 0.03\n",
            "It: 14000, Loss: 1.765e-01,  loss_bc1: 1.466e-02,  loss_bc2: 1.098e-02, loss_ics_u: 3.461e-02, loss_ics_ut: 1.089e-03,  Loss_res: 2.907e-02 , Time: 0.04\n"
          ]
        },
        {
          "name": "stderr",
          "output_type": "stream",
          "text": [
            "lam_res_val: 6.033e-02\n",
            "lam_u_val: 5.896e+00\n",
            "lam_bc1_val: 1.737e+00\n",
            "lam_bc2_val: 1.643e+00\n"
          ]
        },
        {
          "name": "stdout",
          "output_type": "stream",
          "text": [
            "It: 14100, Loss: 2.999e-01,  loss_bc1: 2.301e-02,  loss_bc2: 9.762e-03, loss_ics_u: 3.182e-02, loss_ics_ut: 4.142e-03,  Loss_res: 3.190e-02 , Time: 0.04\n",
            "It: 14200, Loss: 4.135e-01,  loss_bc1: 2.031e-02,  loss_bc2: 1.401e-02, loss_ics_u: 3.367e-02, loss_ics_ut: 9.497e-03,  Loss_res: 1.007e-01 , Time: 0.04\n",
            "It: 14300, Loss: 2.700e-01,  loss_bc1: 1.903e-02,  loss_bc2: 1.394e-02, loss_ics_u: 3.155e-02, loss_ics_ut: 2.203e-03,  Loss_res: 1.503e-02 , Time: 0.04\n"
          ]
        },
        {
          "name": "stderr",
          "output_type": "stream",
          "text": [
            "lam_res_val: 1.497e-01\n",
            "lam_u_val: 1.230e+01\n",
            "lam_bc1_val: 1.625e+00\n",
            "lam_bc2_val: 3.672e+00\n"
          ]
        },
        {
          "name": "stdout",
          "output_type": "stream",
          "text": [
            "It: 14400, Loss: 3.496e+00,  loss_bc1: 1.741e-02,  loss_bc2: 1.433e-02, loss_ics_u: 3.210e-02, loss_ics_ut: 1.845e-01,  Loss_res: 7.515e-01 , Time: 0.04\n",
            "It: 14500, Loss: 4.726e-01,  loss_bc1: 2.576e-02,  loss_bc2: 1.286e-02, loss_ics_u: 2.918e-02, loss_ics_ut: 1.021e-03,  Loss_res: 1.210e-02 , Time: 0.04\n",
            "It: 14600, Loss: 4.710e-01,  loss_bc1: 2.791e-02,  loss_bc2: 9.830e-03, loss_ics_u: 2.987e-02, loss_ics_ut: 7.036e-04,  Loss_res: 1.361e-02 , Time: 0.03\n",
            "It: 14700, Loss: 4.194e-01,  loss_bc1: 2.549e-02,  loss_bc2: 8.577e-03, loss_ics_u: 2.470e-02, loss_ics_ut: 1.223e-03,  Loss_res: 2.768e-02 , Time: 0.04\n",
            "It: 14800, Loss: 3.801e-01,  loss_bc1: 2.240e-02,  loss_bc2: 1.196e-02, loss_ics_u: 2.040e-02, loss_ics_ut: 2.215e-03,  Loss_res: 2.159e-02 , Time: 0.04\n",
            "It: 14900, Loss: 4.694e-01,  loss_bc1: 2.179e-02,  loss_bc2: 1.003e-02, loss_ics_u: 2.543e-02, loss_ics_ut: 3.696e-03,  Loss_res: 3.900e-02 , Time: 0.03\n"
          ]
        },
        {
          "name": "stderr",
          "output_type": "stream",
          "text": [
            "lam_res_val: 3.770e-02\n",
            "lam_u_val: 6.175e+00\n",
            "lam_bc1_val: 2.233e+00\n",
            "lam_bc2_val: 2.742e+00\n",
            "lam_res_val: 2.116e-01\n",
            "lam_u_val: 4.322e+00\n",
            "lam_bc1_val: 2.090e+00\n",
            "lam_bc2_val: 5.089e+00\n",
            "lam_res_val: 3.221e-01\n",
            "lam_u_val: 3.276e+00\n",
            "lam_bc1_val: 2.172e+00\n",
            "lam_bc2_val: 4.009e+00\n"
          ]
        },
        {
          "name": "stdout",
          "output_type": "stream",
          "text": [
            "It: 15000, Loss: 1.900e-01,  loss_bc1: 1.853e-02,  loss_bc2: 9.623e-03, loss_ics_u: 2.639e-02, loss_ics_ut: 1.200e-03,  Loss_res: 2.078e-02 , Time: 0.03\n",
            "It: 15100, Loss: 1.822e-01,  loss_bc1: 1.835e-02,  loss_bc2: 9.333e-03, loss_ics_u: 2.706e-02, loss_ics_ut: 9.524e-04,  Loss_res: 1.321e-02 , Time: 0.04\n",
            "It: 15200, Loss: 1.904e-01,  loss_bc1: 1.578e-02,  loss_bc2: 8.069e-03, loss_ics_u: 2.760e-02, loss_ics_ut: 8.668e-04,  Loss_res: 3.048e-02 , Time: 0.04\n",
            "It: 15300, Loss: 1.870e-01,  loss_bc1: 1.228e-02,  loss_bc2: 8.805e-03, loss_ics_u: 3.181e-02, loss_ics_ut: 1.256e-03,  Loss_res: 1.671e-02 , Time: 0.04\n"
          ]
        },
        {
          "name": "stderr",
          "output_type": "stream",
          "text": [
            "lam_res_val: 6.633e-02\n",
            "lam_u_val: 6.114e+00\n",
            "lam_bc1_val: 1.452e+00\n",
            "lam_bc2_val: 3.539e+00\n"
          ]
        },
        {
          "name": "stdout",
          "output_type": "stream",
          "text": [
            "It: 15400, Loss: 2.396e-01,  loss_bc1: 1.674e-02,  loss_bc2: 6.999e-03, loss_ics_u: 2.644e-02, loss_ics_ut: 1.140e-03,  Loss_res: 2.184e-02 , Time: 0.04\n",
            "It: 15500, Loss: 2.700e-01,  loss_bc1: 1.963e-02,  loss_bc2: 8.141e-03, loss_ics_u: 2.476e-02, loss_ics_ut: 1.455e-03,  Loss_res: 5.240e-02 , Time: 0.04\n",
            "It: 15600, Loss: 2.613e-01,  loss_bc1: 1.921e-02,  loss_bc2: 9.383e-03, loss_ics_u: 2.280e-02, loss_ics_ut: 1.647e-03,  Loss_res: 5.073e-02 , Time: 0.04\n",
            "It: 15700, Loss: 2.567e-01,  loss_bc1: 1.622e-02,  loss_bc2: 1.379e-02, loss_ics_u: 2.564e-02, loss_ics_ut: 7.281e-04,  Loss_res: 2.312e-02 , Time: 0.04\n",
            "It: 15800, Loss: 3.262e-01,  loss_bc1: 1.668e-02,  loss_bc2: 7.944e-03, loss_ics_u: 2.765e-02, loss_ics_ut: 4.130e-03,  Loss_res: 7.958e-02 , Time: 0.04\n",
            "It: 15900, Loss: 2.402e-01,  loss_bc1: 1.798e-02,  loss_bc2: 1.242e-02, loss_ics_u: 2.460e-02, loss_ics_ut: 8.094e-04,  Loss_res: 1.476e-02 , Time: 0.04\n"
          ]
        },
        {
          "name": "stderr",
          "output_type": "stream",
          "text": [
            "lam_res_val: 6.057e-02\n",
            "lam_u_val: 4.897e+00\n",
            "lam_bc1_val: 1.903e+00\n",
            "lam_bc2_val: 3.919e+00\n"
          ]
        },
        {
          "name": "stdout",
          "output_type": "stream",
          "text": [
            "It: 16000, Loss: 2.261e-01,  loss_bc1: 2.231e-02,  loss_bc2: 1.055e-02, loss_ics_u: 2.218e-02, loss_ics_ut: 1.108e-03,  Loss_res: 2.821e-02 , Time: 0.04\n",
            "It: 16100, Loss: 2.194e-01,  loss_bc1: 1.400e-02,  loss_bc2: 9.209e-03, loss_ics_u: 2.552e-02, loss_ics_ut: 2.269e-03,  Loss_res: 2.063e-02 , Time: 0.04\n",
            "It: 16200, Loss: 2.241e-01,  loss_bc1: 1.528e-02,  loss_bc2: 9.856e-03, loss_ics_u: 2.640e-02, loss_ics_ut: 1.791e-03,  Loss_res: 1.841e-02 , Time: 0.04\n",
            "It: 16300, Loss: 2.663e-01,  loss_bc1: 1.416e-02,  loss_bc2: 9.522e-03, loss_ics_u: 2.228e-02, loss_ics_ut: 3.038e-03,  Loss_res: 7.807e-02 , Time: 0.04\n",
            "It: 16400, Loss: 2.271e-01,  loss_bc1: 1.660e-02,  loss_bc2: 8.738e-03, loss_ics_u: 2.327e-02, loss_ics_ut: 1.370e-03,  Loss_res: 4.058e-02 , Time: 0.04\n"
          ]
        },
        {
          "name": "stderr",
          "output_type": "stream",
          "text": [
            "lam_res_val: 4.195e-02\n",
            "lam_u_val: 2.042e+00\n",
            "lam_bc1_val: 1.738e+00\n",
            "lam_bc2_val: 1.616e+00\n"
          ]
        },
        {
          "name": "stdout",
          "output_type": "stream",
          "text": [
            "It: 16500, Loss: 1.153e-01,  loss_bc1: 1.447e-02,  loss_bc2: 1.246e-02, loss_ics_u: 2.544e-02, loss_ics_ut: 1.067e-03,  Loss_res: 1.583e-02 , Time: 0.04\n"
          ]
        },
        {
          "name": "stderr",
          "output_type": "stream",
          "text": [
            "lam_res_val: 4.681e-01\n",
            "lam_u_val: 6.626e+00\n",
            "lam_bc1_val: 2.078e+00\n",
            "lam_bc2_val: 2.890e+00\n"
          ]
        },
        {
          "name": "stdout",
          "output_type": "stream",
          "text": [
            "It: 16600, Loss: 2.354e-01,  loss_bc1: 1.401e-02,  loss_bc2: 8.860e-03, loss_ics_u: 2.394e-02, loss_ics_ut: 1.071e-03,  Loss_res: 1.491e-02 , Time: 0.04\n"
          ]
        },
        {
          "name": "stderr",
          "output_type": "stream",
          "text": [
            "lam_res_val: 2.321e-01\n",
            "lam_u_val: 1.206e+01\n",
            "lam_bc1_val: 1.656e+00\n",
            "lam_bc2_val: 2.450e+00\n"
          ]
        },
        {
          "name": "stdout",
          "output_type": "stream",
          "text": [
            "It: 16700, Loss: 2.888e-01,  loss_bc1: 1.192e-02,  loss_bc2: 1.185e-02, loss_ics_u: 1.783e-02, loss_ics_ut: 6.406e-04,  Loss_res: 1.732e-02 , Time: 0.04\n",
            "It: 16800, Loss: 3.527e-01,  loss_bc1: 1.930e-02,  loss_bc2: 5.956e-03, loss_ics_u: 2.127e-02, loss_ics_ut: 1.742e-03,  Loss_res: 2.877e-02 , Time: 0.03\n",
            "It: 16900, Loss: 2.994e-01,  loss_bc1: 1.937e-02,  loss_bc2: 9.228e-03, loss_ics_u: 1.758e-02, loss_ics_ut: 1.282e-03,  Loss_res: 1.726e-02 , Time: 0.03\n"
          ]
        },
        {
          "name": "stderr",
          "output_type": "stream",
          "text": [
            "lam_res_val: 5.387e-02\n",
            "lam_u_val: 1.458e+01\n",
            "lam_bc1_val: 2.509e+00\n",
            "lam_bc2_val: 2.437e+00\n"
          ]
        },
        {
          "name": "stdout",
          "output_type": "stream",
          "text": [
            "It: 17000, Loss: 6.376e-01,  loss_bc1: 1.617e-02,  loss_bc2: 1.228e-02, loss_ics_u: 1.798e-02, loss_ics_ut: 3.879e-03,  Loss_res: 2.484e-01 , Time: 0.03\n",
            "It: 17100, Loss: 4.186e-01,  loss_bc1: 1.385e-02,  loss_bc2: 1.195e-02, loss_ics_u: 1.725e-02, loss_ics_ut: 1.540e-03,  Loss_res: 8.066e-02 , Time: 0.04\n"
          ]
        },
        {
          "name": "stderr",
          "output_type": "stream",
          "text": [
            "lam_res_val: 8.082e-02\n",
            "lam_u_val: 1.046e+01\n",
            "lam_bc1_val: 1.625e+00\n",
            "lam_bc2_val: 1.865e+00\n"
          ]
        },
        {
          "name": "stdout",
          "output_type": "stream",
          "text": [
            "It: 17200, Loss: 2.496e-01,  loss_bc1: 1.714e-02,  loss_bc2: 1.122e-02, loss_ics_u: 1.634e-02, loss_ics_ut: 8.935e-04,  Loss_res: 2.056e-02 , Time: 0.03\n",
            "It: 17300, Loss: 2.354e-01,  loss_bc1: 1.140e-02,  loss_bc2: 1.316e-02, loss_ics_u: 1.611e-02, loss_ics_ut: 9.542e-04,  Loss_res: 1.388e-02 , Time: 0.04\n"
          ]
        },
        {
          "name": "stderr",
          "output_type": "stream",
          "text": [
            "lam_res_val: 8.796e-02\n",
            "lam_u_val: 1.098e+01\n",
            "lam_bc1_val: 1.674e+00\n",
            "lam_bc2_val: 3.210e+00\n"
          ]
        },
        {
          "name": "stdout",
          "output_type": "stream",
          "text": [
            "It: 17400, Loss: 2.594e-01,  loss_bc1: 1.421e-02,  loss_bc2: 8.180e-03, loss_ics_u: 1.472e-02, loss_ics_ut: 2.086e-03,  Loss_res: 2.497e-02 , Time: 0.03\n",
            "It: 17500, Loss: 2.882e-01,  loss_bc1: 1.096e-02,  loss_bc2: 1.305e-02, loss_ics_u: 1.738e-02, loss_ics_ut: 1.189e-03,  Loss_res: 2.414e-02 , Time: 0.04\n",
            "It: 17600, Loss: 4.139e-01,  loss_bc1: 1.854e-02,  loss_bc2: 1.278e-02, loss_ics_u: 1.499e-02, loss_ics_ut: 4.520e-03,  Loss_res: 1.277e-01 , Time: 0.03\n",
            "It: 17700, Loss: 3.018e-01,  loss_bc1: 1.809e-02,  loss_bc2: 9.522e-03, loss_ics_u: 1.482e-02, loss_ics_ut: 4.823e-03,  Loss_res: 2.538e-02 , Time: 0.03\n",
            "It: 17800, Loss: 2.659e-01,  loss_bc1: 1.836e-02,  loss_bc2: 1.272e-02, loss_ics_u: 1.511e-02, loss_ics_ut: 1.215e-03,  Loss_res: 1.514e-02 , Time: 0.03\n",
            "It: 17900, Loss: 3.170e-01,  loss_bc1: 1.617e-02,  loss_bc2: 1.362e-02, loss_ics_u: 1.519e-02, loss_ics_ut: 2.985e-03,  Loss_res: 4.672e-02 , Time: 0.04\n",
            "It: 18000, Loss: 2.570e-01,  loss_bc1: 1.429e-02,  loss_bc2: 1.152e-02, loss_ics_u: 1.416e-02, loss_ics_ut: 1.298e-03,  Loss_res: 2.635e-02 , Time: 0.04\n",
            "It: 18100, Loss: 2.577e-01,  loss_bc1: 1.781e-02,  loss_bc2: 1.022e-02, loss_ics_u: 1.279e-02, loss_ics_ut: 2.203e-03,  Loss_res: 3.045e-02 , Time: 0.04\n"
          ]
        },
        {
          "name": "stderr",
          "output_type": "stream",
          "text": [
            "lam_res_val: 1.099e-01\n",
            "lam_u_val: 5.032e+00\n",
            "lam_bc1_val: 4.173e+00\n",
            "lam_bc2_val: 4.467e+00\n",
            "lam_res_val: 4.954e-02\n",
            "lam_u_val: 5.626e+00\n",
            "lam_bc1_val: 1.967e+00\n",
            "lam_bc2_val: 2.169e+00\n"
          ]
        },
        {
          "name": "stdout",
          "output_type": "stream",
          "text": [
            "It: 18200, Loss: 1.631e-01,  loss_bc1: 1.373e-02,  loss_bc2: 9.832e-03, loss_ics_u: 1.545e-02, loss_ics_ut: 1.188e-03,  Loss_res: 2.116e-02 , Time: 0.04\n"
          ]
        },
        {
          "name": "stderr",
          "output_type": "stream",
          "text": [
            "lam_res_val: 4.940e-02\n",
            "lam_u_val: 3.264e+00\n",
            "lam_bc1_val: 3.690e+00\n",
            "lam_bc2_val: 2.253e+00\n"
          ]
        },
        {
          "name": "stdout",
          "output_type": "stream",
          "text": [
            "It: 18300, Loss: 1.276e-01,  loss_bc1: 1.252e-02,  loss_bc2: 9.850e-03, loss_ics_u: 1.284e-02, loss_ics_ut: 7.871e-04,  Loss_res: 1.472e-02 , Time: 0.04\n"
          ]
        },
        {
          "name": "stderr",
          "output_type": "stream",
          "text": [
            "lam_res_val: 5.105e-02\n",
            "lam_u_val: 4.240e+00\n",
            "lam_bc1_val: 5.902e+00\n",
            "lam_bc2_val: 2.760e+00\n",
            "lam_res_val: 5.311e-02\n",
            "lam_u_val: 2.612e+00\n",
            "lam_bc1_val: 6.312e+00\n",
            "lam_bc2_val: 1.277e+00\n"
          ]
        },
        {
          "name": "stdout",
          "output_type": "stream",
          "text": [
            "It: 18400, Loss: 1.608e-01,  loss_bc1: 1.037e-02,  loss_bc2: 8.219e-03, loss_ics_u: 1.532e-02, loss_ics_ut: 2.147e-03,  Loss_res: 3.926e-02 , Time: 0.04\n",
            "It: 18500, Loss: 1.489e-01,  loss_bc1: 9.212e-03,  loss_bc2: 1.295e-02, loss_ics_u: 1.501e-02, loss_ics_ut: 1.518e-03,  Loss_res: 3.109e-02 , Time: 0.04\n",
            "It: 18600, Loss: 1.685e-01,  loss_bc1: 1.150e-02,  loss_bc2: 1.366e-02, loss_ics_u: 1.891e-02, loss_ics_ut: 9.790e-04,  Loss_res: 2.655e-02 , Time: 0.04\n",
            "It: 18700, Loss: 1.491e-01,  loss_bc1: 9.932e-03,  loss_bc2: 1.214e-02, loss_ics_u: 1.569e-02, loss_ics_ut: 1.040e-03,  Loss_res: 2.720e-02 , Time: 0.04\n",
            "It: 18800, Loss: 2.690e-01,  loss_bc1: 8.879e-03,  loss_bc2: 1.043e-02, loss_ics_u: 1.848e-02, loss_ics_ut: 2.474e-03,  Loss_res: 1.449e-01 , Time: 0.05\n",
            "It: 18900, Loss: 1.334e-01,  loss_bc1: 8.202e-03,  loss_bc2: 1.121e-02, loss_ics_u: 1.736e-02, loss_ics_ut: 1.033e-03,  Loss_res: 1.924e-02 , Time: 0.04\n",
            "It: 19000, Loss: 1.445e-01,  loss_bc1: 7.015e-03,  loss_bc2: 8.743e-03, loss_ics_u: 1.693e-02, loss_ics_ut: 1.778e-03,  Loss_res: 4.014e-02 , Time: 0.04\n",
            "It: 19100, Loss: 1.413e-01,  loss_bc1: 6.647e-03,  loss_bc2: 1.290e-02, loss_ics_u: 2.075e-02, loss_ics_ut: 1.225e-03,  Loss_res: 2.542e-02 , Time: 0.04\n",
            "It: 19200, Loss: 1.188e-01,  loss_bc1: 7.607e-03,  loss_bc2: 9.825e-03, loss_ics_u: 1.625e-02, loss_ics_ut: 9.900e-04,  Loss_res: 1.317e-02 , Time: 0.04\n",
            "It: 19300, Loss: 1.360e-01,  loss_bc1: 1.084e-02,  loss_bc2: 9.640e-03, loss_ics_u: 1.522e-02, loss_ics_ut: 9.576e-04,  Loss_res: 1.305e-02 , Time: 0.04\n",
            "It: 19400, Loss: 1.399e-01,  loss_bc1: 7.055e-03,  loss_bc2: 1.206e-02, loss_ics_u: 1.817e-02, loss_ics_ut: 1.083e-03,  Loss_res: 2.965e-02 , Time: 0.04\n",
            "It: 19500, Loss: 1.543e-01,  loss_bc1: 7.792e-03,  loss_bc2: 9.875e-03, loss_ics_u: 1.881e-02, loss_ics_ut: 2.948e-03,  Loss_res: 3.567e-02 , Time: 0.03\n"
          ]
        },
        {
          "name": "stderr",
          "output_type": "stream",
          "text": [
            "lam_res_val: 6.109e-02\n",
            "lam_u_val: 3.746e+00\n",
            "lam_bc1_val: 2.045e+00\n",
            "lam_bc2_val: 3.408e+00\n"
          ]
        },
        {
          "name": "stdout",
          "output_type": "stream",
          "text": [
            "It: 19600, Loss: 1.320e-01,  loss_bc1: 8.682e-03,  loss_bc2: 7.461e-03, loss_ics_u: 1.938e-02, loss_ics_ut: 1.565e-03,  Loss_res: 1.036e-02 , Time: 0.04\n"
          ]
        },
        {
          "name": "stderr",
          "output_type": "stream",
          "text": [
            "lam_res_val: 2.271e-01\n",
            "lam_u_val: 2.020e+00\n",
            "lam_bc1_val: 2.173e+00\n",
            "lam_bc2_val: 3.159e+00\n"
          ]
        },
        {
          "name": "stdout",
          "output_type": "stream",
          "text": [
            "It: 19700, Loss: 9.069e-02,  loss_bc1: 9.700e-03,  loss_bc2: 5.684e-03, loss_ics_u: 1.632e-02, loss_ics_ut: 1.303e-03,  Loss_res: 1.604e-02 , Time: 0.04\n",
            "It: 19800, Loss: 9.511e-02,  loss_bc1: 9.336e-03,  loss_bc2: 7.087e-03, loss_ics_u: 1.984e-02, loss_ics_ut: 8.838e-04,  Loss_res: 1.057e-02 , Time: 0.05\n",
            "It: 19900, Loss: 1.175e-01,  loss_bc1: 1.047e-02,  loss_bc2: 7.113e-03, loss_ics_u: 1.813e-02, loss_ics_ut: 1.311e-03,  Loss_res: 3.294e-02 , Time: 0.04\n",
            "It: 20000, Loss: 1.088e-01,  loss_bc1: 1.200e-02,  loss_bc2: 8.099e-03, loss_ics_u: 1.947e-02, loss_ics_ut: 1.096e-03,  Loss_res: 1.557e-02 , Time: 0.04\n",
            "It: 20100, Loss: 8.811e-02,  loss_bc1: 9.242e-03,  loss_bc2: 6.691e-03, loss_ics_u: 1.746e-02, loss_ics_ut: 1.125e-03,  Loss_res: 9.335e-03 , Time: 0.03\n"
          ]
        },
        {
          "name": "stderr",
          "output_type": "stream",
          "text": [
            "lam_res_val: 1.349e-01\n",
            "lam_u_val: 4.330e+00\n",
            "lam_bc1_val: 1.435e+00\n",
            "lam_bc2_val: 2.312e+00\n"
          ]
        },
        {
          "name": "stdout",
          "output_type": "stream",
          "text": [
            "It: 20200, Loss: 1.443e-01,  loss_bc1: 1.061e-02,  loss_bc2: 7.870e-03, loss_ics_u: 1.619e-02, loss_ics_ut: 1.296e-03,  Loss_res: 3.516e-02 , Time: 0.03\n",
            "It: 20300, Loss: 1.849e-01,  loss_bc1: 1.047e-02,  loss_bc2: 8.409e-03, loss_ics_u: 1.732e-02, loss_ics_ut: 3.096e-03,  Loss_res: 6.205e-02 , Time: 0.03\n",
            "It: 20400, Loss: 1.263e-01,  loss_bc1: 1.130e-02,  loss_bc2: 5.971e-03, loss_ics_u: 1.570e-02, loss_ics_ut: 9.384e-04,  Loss_res: 2.427e-02 , Time: 0.04\n",
            "It: 20500, Loss: 1.163e-01,  loss_bc1: 9.278e-03,  loss_bc2: 6.355e-03, loss_ics_u: 1.429e-02, loss_ics_ut: 1.791e-03,  Loss_res: 1.870e-02 , Time: 0.04\n",
            "It: 20600, Loss: 1.827e-01,  loss_bc1: 1.003e-02,  loss_bc2: 7.441e-03, loss_ics_u: 1.396e-02, loss_ics_ut: 2.740e-03,  Loss_res: 7.879e-02 , Time: 0.04\n",
            "It: 20700, Loss: 1.145e-01,  loss_bc1: 9.328e-03,  loss_bc2: 9.058e-03, loss_ics_u: 1.479e-02, loss_ics_ut: 9.647e-04,  Loss_res: 1.195e-02 , Time: 0.04\n",
            "It: 20800, Loss: 1.178e-01,  loss_bc1: 1.004e-02,  loss_bc2: 7.682e-03, loss_ics_u: 1.444e-02, loss_ics_ut: 2.599e-03,  Loss_res: 1.183e-02 , Time: 0.03\n",
            "It: 20900, Loss: 1.248e-01,  loss_bc1: 7.678e-03,  loss_bc2: 7.540e-03, loss_ics_u: 1.457e-02, loss_ics_ut: 9.654e-04,  Loss_res: 2.907e-02 , Time: 0.04\n",
            "It: 21000, Loss: 1.261e-01,  loss_bc1: 1.100e-02,  loss_bc2: 1.020e-02, loss_ics_u: 1.551e-02, loss_ics_ut: 1.360e-03,  Loss_res: 1.370e-02 , Time: 0.04\n",
            "It: 21100, Loss: 9.897e-02,  loss_bc1: 7.711e-03,  loss_bc2: 8.046e-03, loss_ics_u: 1.250e-02, loss_ics_ut: 9.630e-04,  Loss_res: 1.099e-02 , Time: 0.04\n",
            "It: 21200, Loss: 9.563e-02,  loss_bc1: 1.100e-02,  loss_bc2: 5.023e-03, loss_ics_u: 1.146e-02, loss_ics_ut: 2.167e-03,  Loss_res: 9.214e-03 , Time: 0.03\n",
            "It: 21300, Loss: 1.234e-01,  loss_bc1: 1.257e-02,  loss_bc2: 9.778e-03, loss_ics_u: 1.424e-02, loss_ics_ut: 1.832e-03,  Loss_res: 1.317e-02 , Time: 0.04\n",
            "It: 21400, Loss: 9.985e-02,  loss_bc1: 1.108e-02,  loss_bc2: 9.757e-03, loss_ics_u: 1.154e-02, loss_ics_ut: 9.648e-04,  Loss_res: 7.234e-03 , Time: 0.04\n",
            "It: 21500, Loss: 1.436e-01,  loss_bc1: 1.057e-02,  loss_bc2: 1.043e-02, loss_ics_u: 1.229e-02, loss_ics_ut: 3.584e-03,  Loss_res: 3.557e-02 , Time: 0.04\n",
            "It: 21600, Loss: 9.343e-02,  loss_bc1: 8.353e-03,  loss_bc2: 7.111e-03, loss_ics_u: 1.197e-02, loss_ics_ut: 9.079e-04,  Loss_res: 9.231e-03 , Time: 0.04\n",
            "It: 21700, Loss: 9.494e-02,  loss_bc1: 1.116e-02,  loss_bc2: 8.539e-03, loss_ics_u: 1.022e-02, loss_ics_ut: 1.057e-03,  Loss_res: 1.034e-02 , Time: 0.03\n",
            "It: 21800, Loss: 1.324e-01,  loss_bc1: 1.083e-02,  loss_bc2: 8.235e-03, loss_ics_u: 1.258e-02, loss_ics_ut: 4.267e-03,  Loss_res: 2.484e-02 , Time: 0.03\n",
            "It: 21900, Loss: 1.233e-01,  loss_bc1: 9.807e-03,  loss_bc2: 1.015e-02, loss_ics_u: 1.012e-02, loss_ics_ut: 2.646e-03,  Loss_res: 3.048e-02 , Time: 0.04\n",
            "It: 22000, Loss: 1.256e-01,  loss_bc1: 1.075e-02,  loss_bc2: 5.996e-03, loss_ics_u: 1.379e-02, loss_ics_ut: 2.313e-03,  Loss_res: 2.655e-02 , Time: 0.03\n",
            "It: 22100, Loss: 1.065e-01,  loss_bc1: 1.170e-02,  loss_bc2: 6.813e-03, loss_ics_u: 1.099e-02, loss_ics_ut: 1.657e-03,  Loss_res: 1.921e-02 , Time: 0.04\n",
            "It: 22200, Loss: 9.804e-02,  loss_bc1: 9.865e-03,  loss_bc2: 7.478e-03, loss_ics_u: 1.217e-02, loss_ics_ut: 1.042e-03,  Loss_res: 9.370e-03 , Time: 0.03\n",
            "It: 22300, Loss: 1.081e-01,  loss_bc1: 9.921e-03,  loss_bc2: 8.292e-03, loss_ics_u: 1.120e-02, loss_ics_ut: 1.871e-03,  Loss_res: 1.810e-02 , Time: 0.04\n",
            "It: 22400, Loss: 1.009e-01,  loss_bc1: 1.062e-02,  loss_bc2: 6.441e-03, loss_ics_u: 1.044e-02, loss_ics_ut: 1.070e-03,  Loss_res: 2.095e-02 , Time: 0.04\n",
            "It: 22500, Loss: 9.807e-02,  loss_bc1: 1.126e-02,  loss_bc2: 9.216e-03, loss_ics_u: 9.693e-03, loss_ics_ut: 6.891e-04,  Loss_res: 1.564e-02 , Time: 0.04\n",
            "It: 22600, Loss: 1.125e-01,  loss_bc1: 1.234e-02,  loss_bc2: 8.974e-03, loss_ics_u: 1.084e-02, loss_ics_ut: 1.103e-03,  Loss_res: 2.229e-02 , Time: 0.04\n"
          ]
        },
        {
          "name": "stderr",
          "output_type": "stream",
          "text": [
            "lam_res_val: 2.275e-02\n",
            "lam_u_val: 4.848e+00\n",
            "lam_bc1_val: 4.842e+00\n",
            "lam_bc2_val: 2.114e+00\n"
          ]
        },
        {
          "name": "stdout",
          "output_type": "stream",
          "text": [
            "It: 22700, Loss: 1.411e-01,  loss_bc1: 9.172e-03,  loss_bc2: 9.725e-03, loss_ics_u: 1.187e-02, loss_ics_ut: 1.873e-03,  Loss_res: 9.486e-03 , Time: 0.04\n",
            "It: 22800, Loss: 1.519e-01,  loss_bc1: 1.034e-02,  loss_bc2: 8.297e-03, loss_ics_u: 1.382e-02, loss_ics_ut: 1.379e-03,  Loss_res: 1.058e-02 , Time: 0.04\n",
            "It: 22900, Loss: 1.342e-01,  loss_bc1: 1.058e-02,  loss_bc2: 8.411e-03, loss_ics_u: 9.242e-03, loss_ics_ut: 1.611e-03,  Loss_res: 1.259e-02 , Time: 0.04\n",
            "It: 23000, Loss: 1.397e-01,  loss_bc1: 9.747e-03,  loss_bc2: 7.165e-03, loss_ics_u: 1.059e-02, loss_ics_ut: 9.970e-04,  Loss_res: 2.120e-02 , Time: 0.04\n",
            "It: 23100, Loss: 1.303e-01,  loss_bc1: 1.013e-02,  loss_bc2: 1.056e-02, loss_ics_u: 9.866e-03, loss_ics_ut: 6.710e-04,  Loss_res: 7.811e-03 , Time: 0.04\n",
            "It: 23200, Loss: 1.692e-01,  loss_bc1: 1.137e-02,  loss_bc2: 7.052e-03, loss_ics_u: 9.957e-03, loss_ics_ut: 1.446e-03,  Loss_res: 4.394e-02 , Time: 0.04\n",
            "It: 23300, Loss: 1.429e-01,  loss_bc1: 1.078e-02,  loss_bc2: 1.164e-02, loss_ics_u: 1.030e-02, loss_ics_ut: 8.888e-04,  Loss_res: 1.187e-02 , Time: 0.04\n"
          ]
        },
        {
          "name": "stderr",
          "output_type": "stream",
          "text": [
            "lam_res_val: 2.240e-01\n",
            "lam_u_val: 4.439e+00\n",
            "lam_bc1_val: 4.734e+00\n",
            "lam_bc2_val: 3.077e+00\n"
          ]
        },
        {
          "name": "stdout",
          "output_type": "stream",
          "text": [
            "It: 23400, Loss: 1.356e-01,  loss_bc1: 8.000e-03,  loss_bc2: 7.019e-03, loss_ics_u: 1.388e-02, loss_ics_ut: 1.349e-03,  Loss_res: 8.545e-03 , Time: 0.04\n",
            "It: 23500, Loss: 1.327e-01,  loss_bc1: 1.033e-02,  loss_bc2: 9.412e-03, loss_ics_u: 1.021e-02, loss_ics_ut: 8.422e-04,  Loss_res: 5.734e-03 , Time: 0.03\n"
          ]
        },
        {
          "name": "stderr",
          "output_type": "stream",
          "text": [
            "lam_res_val: 2.364e-01\n",
            "lam_u_val: 3.175e+00\n",
            "lam_bc1_val: 3.039e+00\n",
            "lam_bc2_val: 4.497e+00\n"
          ]
        },
        {
          "name": "stdout",
          "output_type": "stream",
          "text": [
            "It: 23600, Loss: 1.129e-01,  loss_bc1: 1.053e-02,  loss_bc2: 7.545e-03, loss_ics_u: 1.113e-02, loss_ics_ut: 6.889e-04,  Loss_res: 9.422e-03 , Time: 0.03\n"
          ]
        },
        {
          "name": "stderr",
          "output_type": "stream",
          "text": [
            "lam_res_val: 4.993e-02\n",
            "lam_u_val: 5.184e+00\n",
            "lam_bc1_val: 6.826e+00\n",
            "lam_bc2_val: 4.565e+00\n",
            "lam_res_val: 4.741e-02\n",
            "lam_u_val: 2.936e+00\n",
            "lam_bc1_val: 2.321e+00\n",
            "lam_bc2_val: 1.473e+00\n"
          ]
        },
        {
          "name": "stdout",
          "output_type": "stream",
          "text": [
            "It: 23700, Loss: 7.447e-02,  loss_bc1: 8.885e-03,  loss_bc2: 7.546e-03, loss_ics_u: 1.132e-02, loss_ics_ut: 7.979e-04,  Loss_res: 7.160e-03 , Time: 0.04\n",
            "It: 23800, Loss: 7.553e-02,  loss_bc1: 7.288e-03,  loss_bc2: 8.539e-03, loss_ics_u: 1.103e-02, loss_ics_ut: 8.345e-04,  Loss_res: 1.120e-02 , Time: 0.04\n",
            "It: 23900, Loss: 7.874e-02,  loss_bc1: 7.376e-03,  loss_bc2: 7.503e-03, loss_ics_u: 1.019e-02, loss_ics_ut: 6.325e-04,  Loss_res: 1.878e-02 , Time: 0.05\n",
            "It: 24000, Loss: 7.737e-02,  loss_bc1: 7.384e-03,  loss_bc2: 9.270e-03, loss_ics_u: 9.707e-03, loss_ics_ut: 8.875e-04,  Loss_res: 1.547e-02 , Time: 0.04\n",
            "It: 24100, Loss: 8.113e-02,  loss_bc1: 9.028e-03,  loss_bc2: 8.178e-03, loss_ics_u: 1.168e-02, loss_ics_ut: 7.191e-04,  Loss_res: 1.171e-02 , Time: 0.03\n",
            "It: 24200, Loss: 7.332e-02,  loss_bc1: 9.005e-03,  loss_bc2: 7.021e-03, loss_ics_u: 1.082e-02, loss_ics_ut: 8.289e-04,  Loss_res: 7.863e-03 , Time: 0.04\n"
          ]
        },
        {
          "name": "stderr",
          "output_type": "stream",
          "text": [
            "lam_res_val: 6.398e-02\n",
            "lam_u_val: 3.384e+00\n",
            "lam_bc1_val: 4.502e+00\n",
            "lam_bc2_val: 1.416e+00\n"
          ]
        },
        {
          "name": "stdout",
          "output_type": "stream",
          "text": [
            "It: 24300, Loss: 1.035e-01,  loss_bc1: 7.813e-03,  loss_bc2: 6.566e-03, loss_ics_u: 1.049e-02, loss_ics_ut: 8.760e-04,  Loss_res: 2.057e-02 , Time: 0.04\n",
            "It: 24400, Loss: 1.035e-01,  loss_bc1: 9.662e-03,  loss_bc2: 8.271e-03, loss_ics_u: 1.159e-02, loss_ics_ut: 6.309e-04,  Loss_res: 6.980e-03 , Time: 0.04\n",
            "It: 24500, Loss: 9.728e-02,  loss_bc1: 8.978e-03,  loss_bc2: 5.160e-03, loss_ics_u: 1.130e-02, loss_ics_ut: 9.575e-04,  Loss_res: 8.070e-03 , Time: 0.04\n",
            "It: 24600, Loss: 1.046e-01,  loss_bc1: 9.547e-03,  loss_bc2: 7.972e-03, loss_ics_u: 1.006e-02, loss_ics_ut: 8.672e-04,  Loss_res: 1.332e-02 , Time: 0.04\n",
            "It: 24700, Loss: 1.463e-01,  loss_bc1: 8.108e-03,  loss_bc2: 6.971e-03, loss_ics_u: 1.200e-02, loss_ics_ut: 4.027e-03,  Loss_res: 4.569e-02 , Time: 0.03\n",
            "It: 24800, Loss: 1.034e-01,  loss_bc1: 7.567e-03,  loss_bc2: 8.377e-03, loss_ics_u: 1.237e-02, loss_ics_ut: 1.332e-03,  Loss_res: 1.109e-02 , Time: 0.04\n",
            "It: 24900, Loss: 1.032e-01,  loss_bc1: 8.988e-03,  loss_bc2: 7.438e-03, loss_ics_u: 1.197e-02, loss_ics_ut: 9.976e-04,  Loss_res: 8.296e-03 , Time: 0.04\n",
            "It: 25000, Loss: 1.116e-01,  loss_bc1: 7.614e-03,  loss_bc2: 9.681e-03, loss_ics_u: 1.099e-02, loss_ics_ut: 8.309e-04,  Loss_res: 2.363e-02 , Time: 0.04\n",
            "It: 25100, Loss: 1.008e-01,  loss_bc1: 8.498e-03,  loss_bc2: 7.637e-03, loss_ics_u: 1.025e-02, loss_ics_ut: 1.300e-03,  Loss_res: 1.266e-02 , Time: 0.03\n",
            "It: 25200, Loss: 1.044e-01,  loss_bc1: 7.873e-03,  loss_bc2: 9.953e-03, loss_ics_u: 1.203e-02, loss_ics_ut: 8.706e-04,  Loss_res: 1.116e-02 , Time: 0.03\n",
            "It: 25300, Loss: 9.327e-02,  loss_bc1: 8.235e-03,  loss_bc2: 7.061e-03, loss_ics_u: 1.082e-02, loss_ics_ut: 1.015e-03,  Loss_res: 6.154e-03 , Time: 0.03\n",
            "It: 25400, Loss: 9.484e-02,  loss_bc1: 7.035e-03,  loss_bc2: 1.003e-02, loss_ics_u: 9.736e-03, loss_ics_ut: 1.616e-03,  Loss_res: 1.055e-02 , Time: 0.04\n"
          ]
        },
        {
          "name": "stderr",
          "output_type": "stream",
          "text": [
            "lam_res_val: 7.375e-02\n",
            "lam_u_val: 2.319e+00\n",
            "lam_bc1_val: 7.209e+00\n",
            "lam_bc2_val: 4.428e+00\n",
            "lam_res_val: 3.631e-02\n",
            "lam_u_val: 3.518e+00\n",
            "lam_bc1_val: 3.937e+00\n",
            "lam_bc2_val: 4.555e+00\n"
          ]
        },
        {
          "name": "stdout",
          "output_type": "stream",
          "text": [
            "It: 25500, Loss: 1.212e-01,  loss_bc1: 8.870e-03,  loss_bc2: 8.663e-03, loss_ics_u: 1.082e-02, loss_ics_ut: 7.654e-04,  Loss_res: 6.068e-03 , Time: 0.04\n",
            "It: 25600, Loss: 1.337e-01,  loss_bc1: 8.823e-03,  loss_bc2: 8.933e-03, loss_ics_u: 1.095e-02, loss_ics_ut: 6.551e-04,  Loss_res: 1.749e-02 , Time: 0.04\n",
            "It: 25700, Loss: 1.327e-01,  loss_bc1: 1.061e-02,  loss_bc2: 8.360e-03, loss_ics_u: 1.255e-02, loss_ics_ut: 6.978e-04,  Loss_res: 6.259e-03 , Time: 0.04\n",
            "It: 25800, Loss: 1.031e-01,  loss_bc1: 6.964e-03,  loss_bc2: 4.074e-03, loss_ics_u: 1.252e-02, loss_ics_ut: 1.331e-03,  Loss_res: 8.420e-03 , Time: 0.03\n",
            "It: 25900, Loss: 1.171e-01,  loss_bc1: 8.335e-03,  loss_bc2: 6.147e-03, loss_ics_u: 1.141e-02, loss_ics_ut: 8.964e-04,  Loss_res: 1.301e-02 , Time: 0.04\n"
          ]
        },
        {
          "name": "stderr",
          "output_type": "stream",
          "text": [
            "lam_res_val: 1.098e-01\n",
            "lam_u_val: 3.824e+00\n",
            "lam_bc1_val: 3.736e+00\n",
            "lam_bc2_val: 1.512e+00\n"
          ]
        },
        {
          "name": "stdout",
          "output_type": "stream",
          "text": [
            "It: 26000, Loss: 1.053e-01,  loss_bc1: 7.742e-03,  loss_bc2: 7.605e-03, loss_ics_u: 1.455e-02, loss_ics_ut: 6.447e-04,  Loss_res: 6.733e-03 , Time: 0.04\n",
            "It: 26100, Loss: 9.727e-02,  loss_bc1: 7.327e-03,  loss_bc2: 7.684e-03, loss_ics_u: 1.137e-02, loss_ics_ut: 6.276e-04,  Loss_res: 1.238e-02 , Time: 0.04\n",
            "It: 26200, Loss: 9.779e-02,  loss_bc1: 9.278e-03,  loss_bc2: 7.601e-03, loss_ics_u: 1.043e-02, loss_ics_ut: 7.369e-04,  Loss_res: 8.916e-03 , Time: 0.04\n",
            "It: 26300, Loss: 1.027e-01,  loss_bc1: 8.366e-03,  loss_bc2: 7.794e-03, loss_ics_u: 1.058e-02, loss_ics_ut: 9.764e-04,  Loss_res: 1.545e-02 , Time: 0.04\n",
            "It: 26400, Loss: 1.086e-01,  loss_bc1: 1.086e-02,  loss_bc2: 9.389e-03, loss_ics_u: 1.109e-02, loss_ics_ut: 7.861e-04,  Loss_res: 8.437e-03 , Time: 0.04\n",
            "It: 26500, Loss: 9.324e-02,  loss_bc1: 8.914e-03,  loss_bc2: 8.109e-03, loss_ics_u: 8.764e-03, loss_ics_ut: 8.367e-04,  Loss_res: 1.096e-02 , Time: 0.04\n"
          ]
        },
        {
          "name": "stderr",
          "output_type": "stream",
          "text": [
            "lam_res_val: 4.152e-02\n",
            "lam_u_val: 2.952e+00\n",
            "lam_bc1_val: 1.924e+00\n",
            "lam_bc2_val: 1.733e+00\n"
          ]
        },
        {
          "name": "stdout",
          "output_type": "stream",
          "text": [
            "It: 26600, Loss: 5.921e-02,  loss_bc1: 6.603e-03,  loss_bc2: 6.804e-03, loss_ics_u: 8.967e-03, loss_ics_ut: 7.044e-04,  Loss_res: 6.171e-03 , Time: 0.04\n",
            "It: 26700, Loss: 6.252e-02,  loss_bc1: 8.644e-03,  loss_bc2: 6.017e-03, loss_ics_u: 9.419e-03, loss_ics_ut: 6.643e-04,  Loss_res: 5.706e-03 , Time: 0.04\n",
            "It: 26800, Loss: 7.060e-02,  loss_bc1: 8.517e-03,  loss_bc2: 8.527e-03, loss_ics_u: 9.548e-03, loss_ics_ut: 6.688e-04,  Loss_res: 9.280e-03 , Time: 0.04\n"
          ]
        },
        {
          "name": "stderr",
          "output_type": "stream",
          "text": [
            "lam_res_val: 2.144e-01\n",
            "lam_u_val: 4.182e+00\n",
            "lam_bc1_val: 1.081e+00\n",
            "lam_bc2_val: 3.578e+00\n"
          ]
        },
        {
          "name": "stdout",
          "output_type": "stream",
          "text": [
            "It: 26900, Loss: 1.108e-01,  loss_bc1: 1.064e-02,  loss_bc2: 8.628e-03, loss_ics_u: 9.445e-03, loss_ics_ut: 2.644e-03,  Loss_res: 1.783e-02 , Time: 0.04\n"
          ]
        },
        {
          "name": "stderr",
          "output_type": "stream",
          "text": [
            "lam_res_val: 7.299e-02\n",
            "lam_u_val: 2.655e+00\n",
            "lam_bc1_val: 3.428e+00\n",
            "lam_bc2_val: 1.087e+00\n"
          ]
        },
        {
          "name": "stdout",
          "output_type": "stream",
          "text": [
            "It: 27000, Loss: 7.655e-02,  loss_bc1: 1.023e-02,  loss_bc2: 6.057e-03, loss_ics_u: 9.466e-03, loss_ics_ut: 8.272e-04,  Loss_res: 7.584e-03 , Time: 0.04\n"
          ]
        },
        {
          "name": "stderr",
          "output_type": "stream",
          "text": [
            "lam_res_val: 4.560e-02\n",
            "lam_u_val: 1.823e+00\n",
            "lam_bc1_val: 5.414e+00\n",
            "lam_bc2_val: 2.645e+00\n"
          ]
        },
        {
          "name": "stdout",
          "output_type": "stream",
          "text": [
            "It: 27100, Loss: 9.664e-02,  loss_bc1: 8.026e-03,  loss_bc2: 7.843e-03, loss_ics_u: 1.227e-02, loss_ics_ut: 1.075e-03,  Loss_res: 8.107e-03 , Time: 0.03\n",
            "It: 27200, Loss: 9.227e-02,  loss_bc1: 7.255e-03,  loss_bc2: 8.095e-03, loss_ics_u: 1.068e-02, loss_ics_ut: 1.086e-03,  Loss_res: 1.012e-02 , Time: 0.04\n",
            "It: 27300, Loss: 8.225e-02,  loss_bc1: 6.850e-03,  loss_bc2: 5.949e-03, loss_ics_u: 1.278e-02, loss_ics_ut: 6.931e-04,  Loss_res: 4.866e-03 , Time: 0.04\n",
            "It: 27400, Loss: 8.733e-02,  loss_bc1: 7.168e-03,  loss_bc2: 5.858e-03, loss_ics_u: 1.327e-02, loss_ics_ut: 6.679e-04,  Loss_res: 7.607e-03 , Time: 0.03\n",
            "It: 27500, Loss: 7.988e-02,  loss_bc1: 7.039e-03,  loss_bc2: 4.912e-03, loss_ics_u: 1.205e-02, loss_ics_ut: 8.447e-04,  Loss_res: 5.276e-03 , Time: 0.04\n",
            "It: 27600, Loss: 9.149e-02,  loss_bc1: 7.167e-03,  loss_bc2: 7.200e-03, loss_ics_u: 1.249e-02, loss_ics_ut: 9.503e-04,  Loss_res: 9.145e-03 , Time: 0.03\n",
            "It: 27700, Loss: 8.982e-02,  loss_bc1: 6.705e-03,  loss_bc2: 7.469e-03, loss_ics_u: 1.428e-02, loss_ics_ut: 1.113e-03,  Loss_res: 5.697e-03 , Time: 0.04\n",
            "It: 27800, Loss: 8.791e-02,  loss_bc1: 7.004e-03,  loss_bc2: 6.248e-03, loss_ics_u: 1.340e-02, loss_ics_ut: 1.147e-03,  Loss_res: 6.933e-03 , Time: 0.03\n",
            "It: 27900, Loss: 8.487e-02,  loss_bc1: 6.436e-03,  loss_bc2: 6.010e-03, loss_ics_u: 1.264e-02, loss_ics_ut: 1.070e-03,  Loss_res: 9.137e-03 , Time: 0.04\n",
            "It: 28000, Loss: 1.013e-01,  loss_bc1: 8.319e-03,  loss_bc2: 6.181e-03, loss_ics_u: 1.476e-02, loss_ics_ut: 1.000e-03,  Loss_res: 1.116e-02 , Time: 0.03\n",
            "It: 28100, Loss: 7.575e-02,  loss_bc1: 5.480e-03,  loss_bc2: 5.255e-03, loss_ics_u: 1.381e-02, loss_ics_ut: 7.253e-04,  Loss_res: 5.671e-03 , Time: 0.03\n",
            "It: 28200, Loss: 9.247e-02,  loss_bc1: 6.905e-03,  loss_bc2: 6.472e-03, loss_ics_u: 1.411e-02, loss_ics_ut: 6.180e-04,  Loss_res: 1.112e-02 , Time: 0.03\n",
            "It: 28300, Loss: 8.406e-02,  loss_bc1: 6.886e-03,  loss_bc2: 6.780e-03, loss_ics_u: 1.245e-02, loss_ics_ut: 7.638e-04,  Loss_res: 4.754e-03 , Time: 0.03\n",
            "It: 28400, Loss: 8.176e-02,  loss_bc1: 5.253e-03,  loss_bc2: 6.457e-03, loss_ics_u: 1.432e-02, loss_ics_ut: 5.894e-04,  Loss_res: 9.057e-03 , Time: 0.03\n",
            "It: 28500, Loss: 9.593e-02,  loss_bc1: 6.745e-03,  loss_bc2: 7.117e-03, loss_ics_u: 1.546e-02, loss_ics_ut: 8.883e-04,  Loss_res: 1.077e-02 , Time: 0.03\n",
            "It: 28600, Loss: 8.797e-02,  loss_bc1: 7.001e-03,  loss_bc2: 4.885e-03, loss_ics_u: 1.442e-02, loss_ics_ut: 9.381e-04,  Loss_res: 9.149e-03 , Time: 0.03\n",
            "It: 28700, Loss: 1.154e-01,  loss_bc1: 6.828e-03,  loss_bc2: 6.603e-03, loss_ics_u: 1.426e-02, loss_ics_ut: 1.676e-03,  Loss_res: 3.196e-02 , Time: 0.03\n",
            "It: 28800, Loss: 8.211e-02,  loss_bc1: 5.865e-03,  loss_bc2: 6.108e-03, loss_ics_u: 1.431e-02, loss_ics_ut: 6.203e-04,  Loss_res: 6.981e-03 , Time: 0.04\n",
            "It: 28900, Loss: 7.530e-02,  loss_bc1: 5.457e-03,  loss_bc2: 5.728e-03, loss_ics_u: 1.311e-02, loss_ics_ut: 8.403e-04,  Loss_res: 5.174e-03 , Time: 0.03\n",
            "It: 29000, Loss: 8.250e-02,  loss_bc1: 5.792e-03,  loss_bc2: 6.173e-03, loss_ics_u: 1.457e-02, loss_ics_ut: 7.088e-04,  Loss_res: 6.958e-03 , Time: 0.03\n",
            "It: 29100, Loss: 8.395e-02,  loss_bc1: 6.212e-03,  loss_bc2: 7.083e-03, loss_ics_u: 1.475e-02, loss_ics_ut: 4.512e-04,  Loss_res: 3.875e-03 , Time: 0.03\n",
            "It: 29200, Loss: 7.526e-02,  loss_bc1: 5.642e-03,  loss_bc2: 4.483e-03, loss_ics_u: 1.515e-02, loss_ics_ut: 5.316e-04,  Loss_res: 4.275e-03 , Time: 0.04\n",
            "It: 29300, Loss: 8.058e-02,  loss_bc1: 6.398e-03,  loss_bc2: 3.994e-03, loss_ics_u: 1.623e-02, loss_ics_ut: 6.264e-04,  Loss_res: 4.632e-03 , Time: 0.03\n",
            "It: 29400, Loss: 7.875e-02,  loss_bc1: 5.741e-03,  loss_bc2: 4.011e-03, loss_ics_u: 1.538e-02, loss_ics_ut: 1.164e-03,  Loss_res: 6.907e-03 , Time: 0.03\n",
            "It: 29500, Loss: 9.174e-02,  loss_bc1: 7.577e-03,  loss_bc2: 6.427e-03, loss_ics_u: 1.417e-02, loss_ics_ut: 5.421e-04,  Loss_res: 6.895e-03 , Time: 0.03\n",
            "It: 29600, Loss: 7.321e-02,  loss_bc1: 5.297e-03,  loss_bc2: 4.505e-03, loss_ics_u: 1.469e-02, loss_ics_ut: 3.684e-04,  Loss_res: 5.162e-03 , Time: 0.03\n",
            "It: 29700, Loss: 8.865e-02,  loss_bc1: 5.976e-03,  loss_bc2: 6.215e-03, loss_ics_u: 1.624e-02, loss_ics_ut: 6.626e-04,  Loss_res: 9.041e-03 , Time: 0.06\n",
            "It: 29800, Loss: 7.989e-02,  loss_bc1: 4.050e-03,  loss_bc2: 5.699e-03, loss_ics_u: 1.820e-02, loss_ics_ut: 9.177e-04,  Loss_res: 8.040e-03 , Time: 0.04\n",
            "It: 29900, Loss: 8.067e-02,  loss_bc1: 5.734e-03,  loss_bc2: 6.369e-03, loss_ics_u: 1.299e-02, loss_ics_ut: 3.753e-04,  Loss_res: 8.406e-03 , Time: 0.04\n",
            "It: 30000, Loss: 7.693e-02,  loss_bc1: 5.700e-03,  loss_bc2: 4.977e-03, loss_ics_u: 1.547e-02, loss_ics_ut: 6.349e-04,  Loss_res: 3.528e-03 , Time: 0.03\n",
            "It: 30100, Loss: 7.958e-02,  loss_bc1: 5.614e-03,  loss_bc2: 5.241e-03, loss_ics_u: 1.526e-02, loss_ics_ut: 6.389e-04,  Loss_res: 6.340e-03 , Time: 0.04\n",
            "It: 30200, Loss: 8.124e-02,  loss_bc1: 6.238e-03,  loss_bc2: 5.715e-03, loss_ics_u: 1.494e-02, loss_ics_ut: 5.097e-04,  Loss_res: 4.185e-03 , Time: 0.04\n",
            "It: 30300, Loss: 8.172e-02,  loss_bc1: 5.655e-03,  loss_bc2: 4.894e-03, loss_ics_u: 1.544e-02, loss_ics_ut: 4.511e-04,  Loss_res: 9.180e-03 , Time: 0.03\n",
            "It: 30400, Loss: 9.888e-02,  loss_bc1: 6.089e-03,  loss_bc2: 6.045e-03, loss_ics_u: 1.679e-02, loss_ics_ut: 1.923e-03,  Loss_res: 1.582e-02 , Time: 0.04\n",
            "It: 30500, Loss: 8.280e-02,  loss_bc1: 6.046e-03,  loss_bc2: 5.487e-03, loss_ics_u: 1.564e-02, loss_ics_ut: 9.239e-04,  Loss_res: 5.356e-03 , Time: 0.04\n",
            "It: 30600, Loss: 8.273e-02,  loss_bc1: 6.138e-03,  loss_bc2: 5.107e-03, loss_ics_u: 1.634e-02, loss_ics_ut: 5.321e-04,  Loss_res: 5.237e-03 , Time: 0.04\n",
            "It: 30700, Loss: 7.503e-02,  loss_bc1: 5.379e-03,  loss_bc2: 4.647e-03, loss_ics_u: 1.519e-02, loss_ics_ut: 6.068e-04,  Loss_res: 4.819e-03 , Time: 0.03\n",
            "It: 30800, Loss: 8.091e-02,  loss_bc1: 5.075e-03,  loss_bc2: 4.521e-03, loss_ics_u: 1.960e-02, loss_ics_ut: 5.421e-04,  Loss_res: 4.745e-03 , Time: 0.04\n",
            "It: 30900, Loss: 7.524e-02,  loss_bc1: 5.214e-03,  loss_bc2: 5.294e-03, loss_ics_u: 1.563e-02, loss_ics_ut: 8.942e-04,  Loss_res: 2.881e-03 , Time: 0.03\n",
            "It: 31000, Loss: 8.000e-02,  loss_bc1: 5.891e-03,  loss_bc2: 4.738e-03, loss_ics_u: 1.654e-02, loss_ics_ut: 5.691e-04,  Loss_res: 4.375e-03 , Time: 0.04\n",
            "It: 31100, Loss: 9.091e-02,  loss_bc1: 6.367e-03,  loss_bc2: 5.753e-03, loss_ics_u: 1.626e-02, loss_ics_ut: 8.658e-04,  Loss_res: 1.001e-02 , Time: 0.03\n",
            "It: 31200, Loss: 8.233e-02,  loss_bc1: 5.913e-03,  loss_bc2: 4.195e-03, loss_ics_u: 1.402e-02, loss_ics_ut: 5.589e-04,  Loss_res: 1.263e-02 , Time: 0.03\n",
            "It: 31300, Loss: 8.715e-02,  loss_bc1: 5.106e-03,  loss_bc2: 5.772e-03, loss_ics_u: 1.827e-02, loss_ics_ut: 6.793e-04,  Loss_res: 9.684e-03 , Time: 0.05\n",
            "It: 31400, Loss: 7.912e-02,  loss_bc1: 5.895e-03,  loss_bc2: 5.656e-03, loss_ics_u: 1.471e-02, loss_ics_ut: 3.737e-04,  Loss_res: 4.742e-03 , Time: 0.03\n",
            "It: 31500, Loss: 7.543e-02,  loss_bc1: 4.688e-03,  loss_bc2: 4.488e-03, loss_ics_u: 1.784e-02, loss_ics_ut: 5.837e-04,  Loss_res: 4.590e-03 , Time: 0.03\n",
            "It: 31600, Loss: 7.910e-02,  loss_bc1: 5.115e-03,  loss_bc2: 5.812e-03, loss_ics_u: 1.531e-02, loss_ics_ut: 6.715e-04,  Loss_res: 6.891e-03 , Time: 0.03\n",
            "It: 31700, Loss: 8.162e-02,  loss_bc1: 5.607e-03,  loss_bc2: 5.596e-03, loss_ics_u: 1.744e-02, loss_ics_ut: 5.998e-04,  Loss_res: 3.575e-03 , Time: 0.04\n",
            "It: 31800, Loss: 8.242e-02,  loss_bc1: 5.762e-03,  loss_bc2: 6.298e-03, loss_ics_u: 1.647e-02, loss_ics_ut: 4.940e-04,  Loss_res: 3.621e-03 , Time: 0.03\n",
            "It: 31900, Loss: 7.952e-02,  loss_bc1: 6.376e-03,  loss_bc2: 5.042e-03, loss_ics_u: 1.457e-02, loss_ics_ut: 5.807e-04,  Loss_res: 4.039e-03 , Time: 0.03\n",
            "It: 32000, Loss: 7.005e-02,  loss_bc1: 4.225e-03,  loss_bc2: 4.678e-03, loss_ics_u: 1.516e-02, loss_ics_ut: 4.246e-04,  Loss_res: 6.382e-03 , Time: 0.03\n",
            "It: 32100, Loss: 7.525e-02,  loss_bc1: 5.591e-03,  loss_bc2: 5.258e-03, loss_ics_u: 1.376e-02, loss_ics_ut: 5.034e-04,  Loss_res: 5.061e-03 , Time: 0.04\n",
            "It: 32200, Loss: 7.296e-02,  loss_bc1: 4.273e-03,  loss_bc2: 6.078e-03, loss_ics_u: 1.659e-02, loss_ics_ut: 3.414e-04,  Loss_res: 2.873e-03 , Time: 0.03\n",
            "It: 32300, Loss: 8.238e-02,  loss_bc1: 6.357e-03,  loss_bc2: 4.731e-03, loss_ics_u: 1.598e-02, loss_ics_ut: 8.378e-04,  Loss_res: 4.791e-03 , Time: 0.03\n",
            "It: 32400, Loss: 8.115e-02,  loss_bc1: 5.780e-03,  loss_bc2: 5.986e-03, loss_ics_u: 1.430e-02, loss_ics_ut: 3.558e-04,  Loss_res: 7.307e-03 , Time: 0.03\n",
            "It: 32500, Loss: 6.876e-02,  loss_bc1: 4.543e-03,  loss_bc2: 3.527e-03, loss_ics_u: 1.694e-02, loss_ics_ut: 3.396e-04,  Loss_res: 3.334e-03 , Time: 0.04\n",
            "It: 32600, Loss: 8.340e-02,  loss_bc1: 6.100e-03,  loss_bc2: 6.134e-03, loss_ics_u: 1.619e-02, loss_ics_ut: 5.254e-04,  Loss_res: 3.676e-03 , Time: 0.04\n",
            "It: 32700, Loss: 6.730e-02,  loss_bc1: 3.904e-03,  loss_bc2: 5.558e-03, loss_ics_u: 1.481e-02, loss_ics_ut: 4.657e-04,  Loss_res: 3.620e-03 , Time: 0.04\n",
            "It: 32800, Loss: 8.408e-02,  loss_bc1: 6.024e-03,  loss_bc2: 5.100e-03, loss_ics_u: 1.810e-02, loss_ics_ut: 6.734e-04,  Loss_res: 3.741e-03 , Time: 0.04\n",
            "It: 32900, Loss: 7.342e-02,  loss_bc1: 4.664e-03,  loss_bc2: 5.044e-03, loss_ics_u: 1.344e-02, loss_ics_ut: 8.126e-04,  Loss_res: 8.848e-03 , Time: 0.03\n",
            "It: 33000, Loss: 8.105e-02,  loss_bc1: 5.267e-03,  loss_bc2: 4.836e-03, loss_ics_u: 1.732e-02, loss_ics_ut: 4.783e-04,  Loss_res: 7.294e-03 , Time: 0.03\n",
            "It: 33100, Loss: 7.681e-02,  loss_bc1: 4.930e-03,  loss_bc2: 5.192e-03, loss_ics_u: 1.610e-02, loss_ics_ut: 9.394e-04,  Loss_res: 5.316e-03 , Time: 0.03\n",
            "It: 33200, Loss: 7.643e-02,  loss_bc1: 4.163e-03,  loss_bc2: 5.815e-03, loss_ics_u: 1.805e-02, loss_ics_ut: 7.971e-04,  Loss_res: 4.141e-03 , Time: 0.03\n",
            "It: 33300, Loss: 7.763e-02,  loss_bc1: 5.987e-03,  loss_bc2: 5.067e-03, loss_ics_u: 1.551e-02, loss_ics_ut: 3.057e-04,  Loss_res: 2.991e-03 , Time: 0.03\n",
            "It: 33400, Loss: 7.734e-02,  loss_bc1: 6.611e-03,  loss_bc2: 3.981e-03, loss_ics_u: 1.496e-02, loss_ics_ut: 5.099e-04,  Loss_res: 2.825e-03 , Time: 0.03\n",
            "It: 33500, Loss: 7.550e-02,  loss_bc1: 5.276e-03,  loss_bc2: 4.158e-03, loss_ics_u: 1.700e-02, loss_ics_ut: 3.922e-04,  Loss_res: 4.227e-03 , Time: 0.03\n",
            "It: 33600, Loss: 7.931e-02,  loss_bc1: 6.340e-03,  loss_bc2: 4.221e-03, loss_ics_u: 1.567e-02, loss_ics_ut: 5.133e-04,  Loss_res: 4.311e-03 , Time: 0.04\n",
            "It: 33700, Loss: 7.737e-02,  loss_bc1: 5.523e-03,  loss_bc2: 4.708e-03, loss_ics_u: 1.659e-02, loss_ics_ut: 4.244e-04,  Loss_res: 3.997e-03 , Time: 0.03\n",
            "It: 33800, Loss: 7.283e-02,  loss_bc1: 4.612e-03,  loss_bc2: 4.285e-03, loss_ics_u: 1.624e-02, loss_ics_ut: 5.882e-04,  Loss_res: 5.848e-03 , Time: 0.03\n",
            "It: 33900, Loss: 7.470e-02,  loss_bc1: 5.045e-03,  loss_bc2: 5.681e-03, loss_ics_u: 1.467e-02, loss_ics_ut: 4.167e-04,  Loss_res: 4.859e-03 , Time: 0.03\n",
            "It: 34000, Loss: 7.713e-02,  loss_bc1: 4.216e-03,  loss_bc2: 5.015e-03, loss_ics_u: 1.827e-02, loss_ics_ut: 4.378e-04,  Loss_res: 6.941e-03 , Time: 0.03\n",
            "It: 34100, Loss: 7.144e-02,  loss_bc1: 4.950e-03,  loss_bc2: 4.225e-03, loss_ics_u: 1.645e-02, loss_ics_ut: 3.595e-04,  Loss_res: 2.826e-03 , Time: 0.04\n",
            "It: 34200, Loss: 7.376e-02,  loss_bc1: 5.308e-03,  loss_bc2: 5.120e-03, loss_ics_u: 1.448e-02, loss_ics_ut: 4.079e-04,  Loss_res: 4.327e-03 , Time: 0.03\n",
            "It: 34300, Loss: 7.102e-02,  loss_bc1: 3.930e-03,  loss_bc2: 4.774e-03, loss_ics_u: 1.664e-02, loss_ics_ut: 4.111e-04,  Loss_res: 6.035e-03 , Time: 0.03\n",
            "It: 34400, Loss: 7.915e-02,  loss_bc1: 5.776e-03,  loss_bc2: 6.034e-03, loss_ics_u: 1.559e-02, loss_ics_ut: 3.771e-04,  Loss_res: 2.810e-03 , Time: 0.03\n",
            "It: 34500, Loss: 7.122e-02,  loss_bc1: 5.339e-03,  loss_bc2: 4.425e-03, loss_ics_u: 1.448e-02, loss_ics_ut: 3.249e-04,  Loss_res: 3.613e-03 , Time: 0.03\n",
            "It: 34600, Loss: 7.797e-02,  loss_bc1: 5.728e-03,  loss_bc2: 4.265e-03, loss_ics_u: 1.751e-02, loss_ics_ut: 2.947e-04,  Loss_res: 3.211e-03 , Time: 0.03\n",
            "It: 34700, Loss: 7.117e-02,  loss_bc1: 4.951e-03,  loss_bc2: 4.995e-03, loss_ics_u: 1.499e-02, loss_ics_ut: 4.496e-04,  Loss_res: 3.008e-03 , Time: 0.03\n",
            "It: 34800, Loss: 7.007e-02,  loss_bc1: 5.054e-03,  loss_bc2: 4.630e-03, loss_ics_u: 1.479e-02, loss_ics_ut: 3.123e-04,  Loss_res: 2.932e-03 , Time: 0.03\n",
            "It: 34900, Loss: 6.576e-02,  loss_bc1: 4.193e-03,  loss_bc2: 5.273e-03, loss_ics_u: 1.369e-02, loss_ics_ut: 3.444e-04,  Loss_res: 3.518e-03 , Time: 0.03\n",
            "It: 35000, Loss: 7.965e-02,  loss_bc1: 5.016e-03,  loss_bc2: 4.810e-03, loss_ics_u: 1.643e-02, loss_ics_ut: 1.191e-03,  Loss_res: 7.649e-03 , Time: 0.05\n",
            "It: 35100, Loss: 7.309e-02,  loss_bc1: 4.499e-03,  loss_bc2: 3.948e-03, loss_ics_u: 1.857e-02, loss_ics_ut: 4.214e-04,  Loss_res: 3.666e-03 , Time: 0.03\n",
            "It: 35200, Loss: 7.854e-02,  loss_bc1: 5.194e-03,  loss_bc2: 5.693e-03, loss_ics_u: 1.695e-02, loss_ics_ut: 4.231e-04,  Loss_res: 3.685e-03 , Time: 0.03\n",
            "It: 35300, Loss: 7.388e-02,  loss_bc1: 4.391e-03,  loss_bc2: 5.872e-03, loss_ics_u: 1.609e-02, loss_ics_ut: 2.723e-04,  Loss_res: 4.746e-03 , Time: 0.03\n",
            "It: 35400, Loss: 7.504e-02,  loss_bc1: 5.063e-03,  loss_bc2: 4.942e-03, loss_ics_u: 1.632e-02, loss_ics_ut: 3.165e-04,  Loss_res: 4.231e-03 , Time: 0.03\n",
            "It: 35500, Loss: 7.193e-02,  loss_bc1: 4.532e-03,  loss_bc2: 5.226e-03, loss_ics_u: 1.578e-02, loss_ics_ut: 4.357e-04,  Loss_res: 4.000e-03 , Time: 0.03\n",
            "It: 35600, Loss: 7.526e-02,  loss_bc1: 4.912e-03,  loss_bc2: 4.839e-03, loss_ics_u: 1.771e-02, loss_ics_ut: 3.188e-04,  Loss_res: 2.990e-03 , Time: 0.03\n",
            "It: 35700, Loss: 7.661e-02,  loss_bc1: 5.366e-03,  loss_bc2: 5.008e-03, loss_ics_u: 1.641e-02, loss_ics_ut: 2.107e-04,  Loss_res: 4.005e-03 , Time: 0.03\n",
            "It: 35800, Loss: 7.878e-02,  loss_bc1: 5.784e-03,  loss_bc2: 4.365e-03, loss_ics_u: 1.750e-02, loss_ics_ut: 3.846e-04,  Loss_res: 3.313e-03 , Time: 0.03\n",
            "It: 35900, Loss: 7.292e-02,  loss_bc1: 5.264e-03,  loss_bc2: 5.153e-03, loss_ics_u: 1.376e-02, loss_ics_ut: 2.410e-04,  Loss_res: 5.257e-03 , Time: 0.03\n",
            "It: 36000, Loss: 6.922e-02,  loss_bc1: 4.447e-03,  loss_bc2: 4.140e-03, loss_ics_u: 1.571e-02, loss_ics_ut: 2.815e-04,  Loss_res: 5.043e-03 , Time: 0.03\n",
            "It: 36100, Loss: 7.277e-02,  loss_bc1: 4.937e-03,  loss_bc2: 4.448e-03, loss_ics_u: 1.654e-02, loss_ics_ut: 3.344e-04,  Loss_res: 3.506e-03 , Time: 0.04\n",
            "It: 36200, Loss: 7.449e-02,  loss_bc1: 5.111e-03,  loss_bc2: 4.489e-03, loss_ics_u: 1.697e-02, loss_ics_ut: 2.698e-04,  Loss_res: 3.510e-03 , Time: 0.03\n",
            "It: 36300, Loss: 7.221e-02,  loss_bc1: 4.621e-03,  loss_bc2: 4.922e-03, loss_ics_u: 1.615e-02, loss_ics_ut: 3.455e-04,  Loss_res: 4.098e-03 , Time: 0.03\n",
            "It: 36400, Loss: 7.332e-02,  loss_bc1: 4.909e-03,  loss_bc2: 5.354e-03, loss_ics_u: 1.542e-02, loss_ics_ut: 5.686e-04,  Loss_res: 3.422e-03 , Time: 0.03\n",
            "It: 36500, Loss: 7.983e-02,  loss_bc1: 5.472e-03,  loss_bc2: 5.385e-03, loss_ics_u: 1.657e-02, loss_ics_ut: 4.731e-04,  Loss_res: 4.892e-03 , Time: 0.03\n",
            "It: 36600, Loss: 6.968e-02,  loss_bc1: 4.971e-03,  loss_bc2: 5.082e-03, loss_ics_u: 1.384e-02, loss_ics_ut: 5.074e-04,  Loss_res: 3.174e-03 , Time: 0.03\n",
            "It: 36700, Loss: 7.105e-02,  loss_bc1: 4.445e-03,  loss_bc2: 5.288e-03, loss_ics_u: 1.573e-02, loss_ics_ut: 4.044e-04,  Loss_res: 3.574e-03 , Time: 0.03\n",
            "It: 36800, Loss: 6.996e-02,  loss_bc1: 4.171e-03,  loss_bc2: 5.188e-03, loss_ics_u: 1.631e-02, loss_ics_ut: 3.900e-04,  Loss_res: 3.205e-03 , Time: 0.03\n",
            "It: 36900, Loss: 6.565e-02,  loss_bc1: 5.006e-03,  loss_bc2: 4.235e-03, loss_ics_u: 1.306e-02, loss_ics_ut: 3.540e-04,  Loss_res: 2.882e-03 , Time: 0.03\n",
            "It: 37000, Loss: 7.553e-02,  loss_bc1: 4.804e-03,  loss_bc2: 5.092e-03, loss_ics_u: 1.831e-02, loss_ics_ut: 2.387e-04,  Loss_res: 2.228e-03 , Time: 0.03\n",
            "It: 37100, Loss: 7.688e-02,  loss_bc1: 5.309e-03,  loss_bc2: 5.697e-03, loss_ics_u: 1.443e-02, loss_ics_ut: 4.086e-04,  Loss_res: 6.019e-03 , Time: 0.03\n",
            "It: 37200, Loss: 7.667e-02,  loss_bc1: 5.658e-03,  loss_bc2: 6.001e-03, loss_ics_u: 1.372e-02, loss_ics_ut: 3.381e-04,  Loss_res: 4.528e-03 , Time: 0.05\n",
            "It: 37300, Loss: 7.855e-02,  loss_bc1: 4.650e-03,  loss_bc2: 5.522e-03, loss_ics_u: 1.823e-02, loss_ics_ut: 5.695e-04,  Loss_res: 4.485e-03 , Time: 0.03\n",
            "It: 37400, Loss: 8.177e-02,  loss_bc1: 5.700e-03,  loss_bc2: 5.936e-03, loss_ics_u: 1.569e-02, loss_ics_ut: 2.994e-04,  Loss_res: 6.051e-03 , Time: 0.03\n",
            "It: 37500, Loss: 7.533e-02,  loss_bc1: 5.175e-03,  loss_bc2: 4.800e-03, loss_ics_u: 1.653e-02, loss_ics_ut: 4.568e-04,  Loss_res: 3.645e-03 , Time: 0.04\n",
            "It: 37600, Loss: 6.710e-02,  loss_bc1: 4.204e-03,  loss_bc2: 5.217e-03, loss_ics_u: 1.444e-02, loss_ics_ut: 2.907e-04,  Loss_res: 3.693e-03 , Time: 0.03\n",
            "It: 37700, Loss: 7.221e-02,  loss_bc1: 5.162e-03,  loss_bc2: 3.827e-03, loss_ics_u: 1.641e-02, loss_ics_ut: 3.080e-04,  Loss_res: 3.658e-03 , Time: 0.03\n",
            "It: 37800, Loss: 6.459e-02,  loss_bc1: 3.778e-03,  loss_bc2: 4.637e-03, loss_ics_u: 1.438e-02, loss_ics_ut: 2.417e-04,  Loss_res: 5.212e-03 , Time: 0.03\n",
            "It: 37900, Loss: 7.841e-02,  loss_bc1: 5.727e-03,  loss_bc2: 4.332e-03, loss_ics_u: 1.698e-02, loss_ics_ut: 3.287e-04,  Loss_res: 4.383e-03 , Time: 0.03\n",
            "It: 38000, Loss: 6.561e-02,  loss_bc1: 4.218e-03,  loss_bc2: 5.412e-03, loss_ics_u: 1.322e-02, loss_ics_ut: 5.168e-04,  Loss_res: 3.412e-03 , Time: 0.03\n",
            "It: 38100, Loss: 8.060e-02,  loss_bc1: 6.117e-03,  loss_bc2: 4.588e-03, loss_ics_u: 1.744e-02, loss_ics_ut: 2.176e-04,  Loss_res: 3.155e-03 , Time: 0.04\n",
            "It: 38200, Loss: 6.367e-02,  loss_bc1: 4.520e-03,  loss_bc2: 4.258e-03, loss_ics_u: 1.340e-02, loss_ics_ut: 3.106e-04,  Loss_res: 2.954e-03 , Time: 0.03\n",
            "It: 38300, Loss: 8.193e-02,  loss_bc1: 6.360e-03,  loss_bc2: 4.466e-03, loss_ics_u: 1.667e-02, loss_ics_ut: 2.541e-04,  Loss_res: 4.829e-03 , Time: 0.03\n",
            "It: 38400, Loss: 7.053e-02,  loss_bc1: 5.216e-03,  loss_bc2: 3.730e-03, loss_ics_u: 1.554e-02, loss_ics_ut: 2.650e-04,  Loss_res: 3.605e-03 , Time: 0.03\n",
            "It: 38500, Loss: 7.508e-02,  loss_bc1: 5.466e-03,  loss_bc2: 5.387e-03, loss_ics_u: 1.489e-02, loss_ics_ut: 5.193e-04,  Loss_res: 3.147e-03 , Time: 0.03\n",
            "It: 38600, Loss: 7.098e-02,  loss_bc1: 4.852e-03,  loss_bc2: 3.963e-03, loss_ics_u: 1.650e-02, loss_ics_ut: 2.629e-04,  Loss_res: 3.668e-03 , Time: 0.03\n",
            "It: 38700, Loss: 6.130e-02,  loss_bc1: 3.951e-03,  loss_bc2: 4.269e-03, loss_ics_u: 1.418e-02, loss_ics_ut: 2.202e-04,  Loss_res: 2.358e-03 , Time: 0.03\n",
            "It: 38800, Loss: 6.608e-02,  loss_bc1: 4.250e-03,  loss_bc2: 4.432e-03, loss_ics_u: 1.412e-02, loss_ics_ut: 2.593e-04,  Loss_res: 5.130e-03 , Time: 0.03\n",
            "It: 38900, Loss: 6.432e-02,  loss_bc1: 4.552e-03,  loss_bc2: 4.532e-03, loss_ics_u: 1.322e-02, loss_ics_ut: 3.359e-04,  Loss_res: 2.967e-03 , Time: 0.03\n",
            "It: 39000, Loss: 6.244e-02,  loss_bc1: 3.686e-03,  loss_bc2: 4.676e-03, loss_ics_u: 1.449e-02, loss_ics_ut: 2.875e-04,  Loss_res: 3.168e-03 , Time: 0.03\n",
            "It: 39100, Loss: 6.614e-02,  loss_bc1: 4.197e-03,  loss_bc2: 4.841e-03, loss_ics_u: 1.489e-02, loss_ics_ut: 2.934e-04,  Loss_res: 2.924e-03 , Time: 0.04\n",
            "It: 39200, Loss: 7.454e-02,  loss_bc1: 4.636e-03,  loss_bc2: 5.617e-03, loss_ics_u: 1.702e-02, loss_ics_ut: 2.180e-04,  Loss_res: 3.142e-03 , Time: 0.03\n",
            "It: 39300, Loss: 7.981e-02,  loss_bc1: 5.872e-03,  loss_bc2: 6.299e-03, loss_ics_u: 1.514e-02, loss_ics_ut: 2.931e-04,  Loss_res: 3.209e-03 , Time: 0.03\n",
            "It: 39400, Loss: 7.218e-02,  loss_bc1: 4.949e-03,  loss_bc2: 5.411e-03, loss_ics_u: 1.521e-02, loss_ics_ut: 2.691e-04,  Loss_res: 2.848e-03 , Time: 0.03\n",
            "It: 39500, Loss: 6.854e-02,  loss_bc1: 4.253e-03,  loss_bc2: 4.916e-03, loss_ics_u: 1.524e-02, loss_ics_ut: 2.181e-04,  Loss_res: 4.326e-03 , Time: 0.03\n"
          ]
        },
        {
          "name": "stderr",
          "output_type": "stream",
          "text": [
            "lam_res_val: 6.476e-02\n",
            "lam_u_val: 3.059e+00\n",
            "lam_bc1_val: 2.189e+00\n",
            "lam_bc2_val: 7.285e-01\n",
            "lam_res_val: 4.346e-02\n",
            "lam_u_val: 3.837e+00\n",
            "lam_bc1_val: 1.597e+00\n",
            "lam_bc2_val: 1.168e+00\n"
          ]
        },
        {
          "name": "stdout",
          "output_type": "stream",
          "text": [
            "It: 39600, Loss: 6.539e-02,  loss_bc1: 5.242e-03,  loss_bc2: 5.730e-03, loss_ics_u: 1.202e-02, loss_ics_ut: 3.106e-04,  Loss_res: 3.031e-03 , Time: 0.03\n"
          ]
        },
        {
          "name": "stderr",
          "output_type": "stream",
          "text": [
            "lam_res_val: 1.925e-02\n",
            "lam_u_val: 3.459e+00\n",
            "lam_bc1_val: 2.871e+00\n",
            "lam_bc2_val: 1.319e+00\n"
          ]
        },
        {
          "name": "stdout",
          "output_type": "stream",
          "text": [
            "It: 39700, Loss: 7.460e-02,  loss_bc1: 5.799e-03,  loss_bc2: 5.905e-03, loss_ics_u: 1.296e-02, loss_ics_ut: 2.892e-04,  Loss_res: 4.336e-03 , Time: 0.04\n",
            "It: 39800, Loss: 7.756e-02,  loss_bc1: 7.006e-03,  loss_bc2: 5.398e-03, loss_ics_u: 1.318e-02, loss_ics_ut: 4.762e-04,  Loss_res: 3.085e-03 , Time: 0.03\n"
          ]
        },
        {
          "name": "stderr",
          "output_type": "stream",
          "text": [
            "lam_res_val: 1.415e-01\n",
            "lam_u_val: 3.745e+00\n",
            "lam_bc1_val: 1.035e+00\n",
            "lam_bc2_val: 9.793e-01\n"
          ]
        },
        {
          "name": "stdout",
          "output_type": "stream",
          "text": [
            "It: 39900, Loss: 6.253e-02,  loss_bc1: 7.319e-03,  loss_bc2: 6.734e-03, loss_ics_u: 1.137e-02, loss_ics_ut: 4.660e-04,  Loss_res: 4.037e-03 , Time: 0.04\n"
          ]
        },
        {
          "name": "stderr",
          "output_type": "stream",
          "text": [
            "lam_res_val: 2.663e-02\n",
            "lam_u_val: 5.727e+00\n",
            "lam_bc1_val: 2.243e+00\n",
            "lam_bc2_val: 7.463e-01\n",
            "/home/afrah2/anaconda3/envs/twoPhase/lib/python3.7/site-packages/seaborn/distributions.py:2619: FutureWarning: `distplot` is a deprecated function and will be removed in a future version. Please adapt your code to use either `displot` (a figure-level function with similar flexibility) or `kdeplot` (an axes-level function for kernel density plots).\n",
            "  warnings.warn(msg, FutureWarning)\n",
            "/home/afrah2/anaconda3/envs/twoPhase/lib/python3.7/site-packages/seaborn/distributions.py:2619: FutureWarning: `distplot` is a deprecated function and will be removed in a future version. Please adapt your code to use either `displot` (a figure-level function with similar flexibility) or `kdeplot` (an axes-level function for kernel density plots).\n",
            "  warnings.warn(msg, FutureWarning)\n",
            "/home/afrah2/anaconda3/envs/twoPhase/lib/python3.7/site-packages/seaborn/distributions.py:2619: FutureWarning: `distplot` is a deprecated function and will be removed in a future version. Please adapt your code to use either `displot` (a figure-level function with similar flexibility) or `kdeplot` (an axes-level function for kernel density plots).\n",
            "  warnings.warn(msg, FutureWarning)\n",
            "/home/afrah2/anaconda3/envs/twoPhase/lib/python3.7/site-packages/seaborn/distributions.py:2619: FutureWarning: `distplot` is a deprecated function and will be removed in a future version. Please adapt your code to use either `displot` (a figure-level function with similar flexibility) or `kdeplot` (an axes-level function for kernel density plots).\n",
            "  warnings.warn(msg, FutureWarning)\n",
            "/home/afrah2/anaconda3/envs/twoPhase/lib/python3.7/site-packages/seaborn/distributions.py:2619: FutureWarning: `distplot` is a deprecated function and will be removed in a future version. Please adapt your code to use either `displot` (a figure-level function with similar flexibility) or `kdeplot` (an axes-level function for kernel density plots).\n",
            "  warnings.warn(msg, FutureWarning)\n",
            "/home/afrah2/anaconda3/envs/twoPhase/lib/python3.7/site-packages/seaborn/distributions.py:2619: FutureWarning: `distplot` is a deprecated function and will be removed in a future version. Please adapt your code to use either `displot` (a figure-level function with similar flexibility) or `kdeplot` (an axes-level function for kernel density plots).\n",
            "  warnings.warn(msg, FutureWarning)\n",
            "/home/afrah2/anaconda3/envs/twoPhase/lib/python3.7/site-packages/seaborn/distributions.py:2619: FutureWarning: `distplot` is a deprecated function and will be removed in a future version. Please adapt your code to use either `displot` (a figure-level function with similar flexibility) or `kdeplot` (an axes-level function for kernel density plots).\n",
            "  warnings.warn(msg, FutureWarning)\n",
            "/home/afrah2/anaconda3/envs/twoPhase/lib/python3.7/site-packages/seaborn/distributions.py:2619: FutureWarning: `distplot` is a deprecated function and will be removed in a future version. Please adapt your code to use either `displot` (a figure-level function with similar flexibility) or `kdeplot` (an axes-level function for kernel density plots).\n",
            "  warnings.warn(msg, FutureWarning)\n",
            "/home/afrah2/anaconda3/envs/twoPhase/lib/python3.7/site-packages/seaborn/distributions.py:2619: FutureWarning: `distplot` is a deprecated function and will be removed in a future version. Please adapt your code to use either `displot` (a figure-level function with similar flexibility) or `kdeplot` (an axes-level function for kernel density plots).\n",
            "  warnings.warn(msg, FutureWarning)\n",
            "/home/afrah2/anaconda3/envs/twoPhase/lib/python3.7/site-packages/seaborn/distributions.py:2619: FutureWarning: `distplot` is a deprecated function and will be removed in a future version. Please adapt your code to use either `displot` (a figure-level function with similar flexibility) or `kdeplot` (an axes-level function for kernel density plots).\n",
            "  warnings.warn(msg, FutureWarning)\n",
            "/home/afrah2/anaconda3/envs/twoPhase/lib/python3.7/site-packages/seaborn/distributions.py:2619: FutureWarning: `distplot` is a deprecated function and will be removed in a future version. Please adapt your code to use either `displot` (a figure-level function with similar flexibility) or `kdeplot` (an axes-level function for kernel density plots).\n",
            "  warnings.warn(msg, FutureWarning)\n",
            "/home/afrah2/anaconda3/envs/twoPhase/lib/python3.7/site-packages/seaborn/distributions.py:2619: FutureWarning: `distplot` is a deprecated function and will be removed in a future version. Please adapt your code to use either `displot` (a figure-level function with similar flexibility) or `kdeplot` (an axes-level function for kernel density plots).\n",
            "  warnings.warn(msg, FutureWarning)\n",
            "/home/afrah2/anaconda3/envs/twoPhase/lib/python3.7/site-packages/seaborn/distributions.py:2619: FutureWarning: `distplot` is a deprecated function and will be removed in a future version. Please adapt your code to use either `displot` (a figure-level function with similar flexibility) or `kdeplot` (an axes-level function for kernel density plots).\n",
            "  warnings.warn(msg, FutureWarning)\n",
            "/home/afrah2/anaconda3/envs/twoPhase/lib/python3.7/site-packages/seaborn/distributions.py:2619: FutureWarning: `distplot` is a deprecated function and will be removed in a future version. Please adapt your code to use either `displot` (a figure-level function with similar flexibility) or `kdeplot` (an axes-level function for kernel density plots).\n",
            "  warnings.warn(msg, FutureWarning)\n",
            "/home/afrah2/anaconda3/envs/twoPhase/lib/python3.7/site-packages/seaborn/distributions.py:2619: FutureWarning: `distplot` is a deprecated function and will be removed in a future version. Please adapt your code to use either `displot` (a figure-level function with similar flexibility) or `kdeplot` (an axes-level function for kernel density plots).\n",
            "  warnings.warn(msg, FutureWarning)\n",
            "/home/afrah2/anaconda3/envs/twoPhase/lib/python3.7/site-packages/seaborn/distributions.py:2619: FutureWarning: `distplot` is a deprecated function and will be removed in a future version. Please adapt your code to use either `displot` (a figure-level function with similar flexibility) or `kdeplot` (an axes-level function for kernel density plots).\n",
            "  warnings.warn(msg, FutureWarning)\n",
            "Gradients information stored ...\n",
            "Save uv NN parameters successfully in %s ...checkpoints/Dec-09-2023_23-32-38-501813_M5\n",
            "Final loss total loss: 1.007214e-01\n"
          ]
        },
        {
          "name": "stdout",
          "output_type": "stream",
          "text": [
            "elapsed: 1.55e+03\n",
            "Relative L2 error_u: 3.69e-01\n",
            "Relative L2 error_r: 1.21e-01\n"
          ]
        },
        {
          "name": "stderr",
          "output_type": "stream",
          "text": [
            "Final loss loss_res: 3.781638e-03\n",
            "Final loss loss_bc1: 7.932942e-03\n",
            "Final loss loss_bc2: 7.025712e-03\n",
            "Final loss loss_ics_u: 1.261582e-02\n",
            "Final loss loss_ics_ut: 2.888773e-04\n"
          ]
        },
        {
          "ename": "AttributeError",
          "evalue": "'str' object has no attribute 'plt_prediction'",
          "output_type": "error",
          "traceback": [
            "\u001b[0;31m---------------------------------------------------------------------------\u001b[0m",
            "\u001b[0;31mAttributeError\u001b[0m                            Traceback (most recent call last)",
            "\u001b[0;32m/tmp/ipykernel_33032/3139079894.py\u001b[0m in \u001b[0;36m<module>\u001b[0;34m\u001b[0m\n\u001b[1;32m     97\u001b[0m \u001b[0;34m\u001b[0m\u001b[0m\n\u001b[1;32m     98\u001b[0m             \u001b[0mmodel\u001b[0m\u001b[0;34m.\u001b[0m\u001b[0msave_NN\u001b[0m\u001b[0;34m(\u001b[0m\u001b[0;34m)\u001b[0m\u001b[0;34m\u001b[0m\u001b[0;34m\u001b[0m\u001b[0m\n\u001b[0;32m---> 99\u001b[0;31m             \u001b[0mmode\u001b[0m\u001b[0;34m.\u001b[0m\u001b[0mplt_prediction\u001b[0m\u001b[0;34m(\u001b[0m \u001b[0mt\u001b[0m \u001b[0;34m,\u001b[0m \u001b[0mx\u001b[0m \u001b[0;34m,\u001b[0m \u001b[0mX_star\u001b[0m \u001b[0;34m,\u001b[0m \u001b[0mu_star\u001b[0m \u001b[0;34m,\u001b[0m \u001b[0mu_pred\u001b[0m \u001b[0;34m,\u001b[0m \u001b[0mr_star\u001b[0m \u001b[0;34m,\u001b[0m \u001b[0mr_pred\u001b[0m\u001b[0;34m)\u001b[0m\u001b[0;34m\u001b[0m\u001b[0;34m\u001b[0m\u001b[0m\n\u001b[0m\u001b[1;32m    100\u001b[0m             \u001b[0msess\u001b[0m\u001b[0;34m.\u001b[0m\u001b[0mclose\u001b[0m\u001b[0;34m(\u001b[0m\u001b[0;34m)\u001b[0m\u001b[0;34m\u001b[0m\u001b[0;34m\u001b[0m\u001b[0m\n\u001b[1;32m    101\u001b[0m \u001b[0;34m\u001b[0m\u001b[0m\n",
            "\u001b[0;31mAttributeError\u001b[0m: 'str' object has no attribute 'plt_prediction'"
          ]
        },
        {
          "data": {
            "image/png": "[encoded data removed]",
            "text/plain": [
              "<Figure size 1080x576 with 1 Axes>"
            ]
          },
          "metadata": {
            "needs_background": "light"
          },
          "output_type": "display_data"
        }
      ],
      "source": [
        "# Define PINN model\n",
        "a = 0.5\n",
        "c = 2\n",
        "\n",
        "kernel_size = 300\n",
        "\n",
        "# Domain boundaries\n",
        "ics_coords = np.array([[0.0, 0.0],  [0.0, 1.0]])\n",
        "bc1_coords = np.array([[0.0, 0.0],  [1.0, 0.0]])\n",
        "bc2_coords = np.array([[0.0, 1.0],  [1.0, 1.0]])\n",
        "dom_coords = np.array([[0.0, 0.0],  [1.0, 1.0]])\n",
        "\n",
        "# Create initial conditions samplers\n",
        "ics_sampler = Sampler(2, ics_coords, lambda x: u(x, a, c), name='Initial Condition 1')\n",
        "\n",
        "# Create boundary conditions samplers\n",
        "bc1 = Sampler(2, bc1_coords, lambda x: u(x, a, c), name='Dirichlet BC1')\n",
        "bc2 = Sampler(2, bc2_coords, lambda x: u(x, a, c), name='Dirichlet BC2')\n",
        "bcs_sampler = [bc1, bc2]\n",
        "\n",
        "# Create residual sampler\n",
        "res_sampler = Sampler(2, dom_coords, lambda x: r(x, a, c), name='Forcing')\n",
        "coll_sampler = Sampler(2, dom_coords, lambda x: u(x, a, c), name='coll')\n",
        "\n",
        "\n",
        "\n",
        "nIter =40000\n",
        "bcbatch_size = 500\n",
        "ubatch_size = 5000\n",
        "mbbatch_size = 300\n",
        "\n",
        "\n",
        "\n",
        "# Define model\n",
        "mode = 'M5'\n",
        "layers = [2, 500, 500, 500, 1]\n",
        "\n",
        "\n",
        "nn = 200\n",
        "t = np.linspace(dom_coords[0, 0], dom_coords[1, 0], nn)[:, None]\n",
        "x = np.linspace(dom_coords[0, 1], dom_coords[1, 1], nn)[:, None]\n",
        "t, x = np.meshgrid(t, x)\n",
        "X_star = np.hstack((t.flatten()[:, None], x.flatten()[:, None]))\n",
        "\n",
        "u_star = u(X_star, a,c)\n",
        "r_star = r(X_star, a, c)\n",
        "\n",
        "iterations = 1\n",
        "methods = [  \"mini_batch\"]\n",
        "\n",
        "result_dict =  dict((mtd, []) for mtd in methods)\n",
        "\n",
        "for mtd in methods:\n",
        "    print(\"Method: \", mtd)\n",
        "    time_list = []\n",
        "    error_u_list = []\n",
        "    error_r_list = []\n",
        "    \n",
        "    for index in range(iterations):\n",
        "\n",
        "        print(\"Epoch: \", str(index+1))\n",
        "\n",
        "        # Create residual sampler\n",
        "\n",
        "        # [elapsed, error_u , model] = test_method(mtd , layers,  ics_sampler, bcs_sampler, res_sampler, c ,kernel_size , X_star , u_star , r_star , nIter ,mbbatch_size , bcbatch_size , ubatch_size )\n",
        "        tf.reset_default_graph()\n",
        "        gpu_options = tf.GPUOptions(visible_device_list=\"0\")\n",
        "        with tf.Session(config=tf.ConfigProto(gpu_options=gpu_options,allow_soft_placement=False, log_device_placement=False)) as sess:\n",
        "            # sess.run(init)\n",
        "\n",
        "            model = PINN(layers, operator ,  ics_sampler, bcs_sampler, res_sampler, c , mode , sess)\n",
        "            # Train model\n",
        "            start_time = time.time()\n",
        "\n",
        "            if mtd ==\"full_batch\":\n",
        "                print(\"full_batch method is used\")\n",
        "                model.train(nIter  , bcbatch_size , ubatch_size  )\n",
        "            elif mtd ==\"mini_batch\":\n",
        "                print(\"mini_batch method is used\")\n",
        "                model.trainmb(nIter, mbbatch_size)\n",
        "            else:\n",
        "                print(\"unknown method!\")\n",
        "            elapsed = time.time() - start_time\n",
        "\n",
        "            # Predictions\n",
        "            u_pred = model.predict_u(X_star)\n",
        "            r_pred = model.predict_r(X_star)\n",
        "            # Predictions\n",
        "\n",
        "            error_u = np.linalg.norm(u_star - u_pred, 2) / np.linalg.norm(u_star, 2)\n",
        "            error_r = np.linalg.norm(r_star - r_pred, 2) / np.linalg.norm(u_star, 2)\n",
        "\n",
        "            print('elapsed: {:.2e}'.format(elapsed))\n",
        "\n",
        "            print('Relative L2 error_u: {:.2e}'.format(error_u))\n",
        "            print('Relative L2 error_r: {:.2e}'.format(error_r))\n",
        "\n",
        "            model.save_NN()\n",
        "            model.plt_prediction( t , x , X_star , u_star , u_pred , r_star , r_pred)\n",
        "            sess.close()  \n",
        "\n",
        "        print('elapsed: {:.2e}'.format(elapsed))\n",
        "        print('Relative L2 error_u: {:.2e}'.format(error_u))\n",
        "        print('Relative L2 error_r: {:.2e}'.format(error_r))\n",
        "\n",
        "        time_list.append(elapsed)\n",
        "        error_u_list.append(error_u)\n",
        "        error_r_list.append(error_r)\n",
        "\n",
        "    print(\"\\n\\nMethod: \", mtd)\n",
        "    print(\"\\naverage of time_list:\" , sum(time_list) / len(time_list) )\n",
        "    print(\"average of error_u_list:\" , sum(error_u_list) / len(error_u_list) )\n",
        "    print(\"average of error_r_list:\" , sum(error_r_list) / len(error_r_list) )\n",
        "\n",
        "    result_dict[mtd] = [time_list ,error_u_list,error_r_list]\n",
        "    # scipy.io.savemat(\"M2_result_\"+str(iterations)+\"_\"+mtd+\".mat\" , {'time_list':np.array(time_list),'error_u_list':np.array(error_u_list),'error_f_list':np.array(error_f_list)})\n",
        "\n",
        "    scipy.io.savemat(os.path.join(model.dirname,\"\"+mtd+\"_1Dwave_\"+mode+\"_result_mb\"+str(mbbatch_size)+\"_fb\"+str(ubatch_size)+\"_bc\"+str(mbbatch_size)+\"_exp\"+str(bcbatch_size)+\"nIter\"+str(nIter)+\".mat\") , result_dict)\n",
        "\n",
        "###############################################################################################################################################\n"
      ]
    },
    {
      "cell_type": "code",
      "execution_count": null,
      "metadata": {},
      "outputs": [],
      "source": []
    },
    {
      "cell_type": "code",
      "execution_count": null,
      "metadata": {},
      "outputs": [],
      "source": []
    },
    {
      "cell_type": "code",
      "execution_count": 5,
      "metadata": {},
      "outputs": [
        {
          "name": "stdout",
          "output_type": "stream",
          "text": [
            "Relative L2 error_u: 3.69e-01\n"
          ]
        },
        {
          "ename": "TypeError",
          "evalue": "Dimensions of C (40000, 1) are incompatible with X (200) and/or Y (200); see help(pcolor)",
          "output_type": "error",
          "traceback": [
            "\u001b[0;31m---------------------------------------------------------------------------\u001b[0m",
            "\u001b[0;31mTypeError\u001b[0m                                 Traceback (most recent call last)",
            "\u001b[0;32m/tmp/ipykernel_33032/2867308288.py\u001b[0m in \u001b[0;36m<module>\u001b[0;34m\u001b[0m\n\u001b[1;32m     51\u001b[0m \u001b[0;34m\u001b[0m\u001b[0m\n\u001b[1;32m     52\u001b[0m \u001b[0mplt\u001b[0m\u001b[0;34m.\u001b[0m\u001b[0msubplot\u001b[0m\u001b[0;34m(\u001b[0m\u001b[0;36m2\u001b[0m\u001b[0;34m,\u001b[0m \u001b[0;36m3\u001b[0m\u001b[0;34m,\u001b[0m \u001b[0;36m5\u001b[0m\u001b[0;34m)\u001b[0m\u001b[0;34m\u001b[0m\u001b[0;34m\u001b[0m\u001b[0m\n\u001b[0;32m---> 53\u001b[0;31m \u001b[0mplt\u001b[0m\u001b[0;34m.\u001b[0m\u001b[0mpcolor\u001b[0m\u001b[0;34m(\u001b[0m\u001b[0mt\u001b[0m\u001b[0;34m,\u001b[0m \u001b[0mx\u001b[0m\u001b[0;34m,\u001b[0m \u001b[0mr_pred\u001b[0m\u001b[0;34m,\u001b[0m \u001b[0mcmap\u001b[0m\u001b[0;34m=\u001b[0m\u001b[0;34m'jet'\u001b[0m\u001b[0;34m)\u001b[0m\u001b[0;34m\u001b[0m\u001b[0;34m\u001b[0m\u001b[0m\n\u001b[0m\u001b[1;32m     54\u001b[0m \u001b[0mplt\u001b[0m\u001b[0;34m.\u001b[0m\u001b[0mcolorbar\u001b[0m\u001b[0;34m(\u001b[0m\u001b[0;34m)\u001b[0m\u001b[0;34m\u001b[0m\u001b[0;34m\u001b[0m\u001b[0m\n\u001b[1;32m     55\u001b[0m \u001b[0mplt\u001b[0m\u001b[0;34m.\u001b[0m\u001b[0mxlabel\u001b[0m\u001b[0;34m(\u001b[0m\u001b[0;34m'$t$'\u001b[0m\u001b[0;34m)\u001b[0m\u001b[0;34m\u001b[0m\u001b[0;34m\u001b[0m\u001b[0m\n",
            "\u001b[0;32m~/anaconda3/envs/twoPhase/lib/python3.7/site-packages/matplotlib/pyplot.py\u001b[0m in \u001b[0;36mpcolor\u001b[0;34m(shading, alpha, norm, cmap, vmin, vmax, data, *args, **kwargs)\u001b[0m\n\u001b[1;32m   2705\u001b[0m         \u001b[0;34m*\u001b[0m\u001b[0margs\u001b[0m\u001b[0;34m,\u001b[0m \u001b[0mshading\u001b[0m\u001b[0;34m=\u001b[0m\u001b[0mshading\u001b[0m\u001b[0;34m,\u001b[0m \u001b[0malpha\u001b[0m\u001b[0;34m=\u001b[0m\u001b[0malpha\u001b[0m\u001b[0;34m,\u001b[0m \u001b[0mnorm\u001b[0m\u001b[0;34m=\u001b[0m\u001b[0mnorm\u001b[0m\u001b[0;34m,\u001b[0m \u001b[0mcmap\u001b[0m\u001b[0;34m=\u001b[0m\u001b[0mcmap\u001b[0m\u001b[0;34m,\u001b[0m\u001b[0;34m\u001b[0m\u001b[0;34m\u001b[0m\u001b[0m\n\u001b[1;32m   2706\u001b[0m         \u001b[0mvmin\u001b[0m\u001b[0;34m=\u001b[0m\u001b[0mvmin\u001b[0m\u001b[0;34m,\u001b[0m \u001b[0mvmax\u001b[0m\u001b[0;34m=\u001b[0m\u001b[0mvmax\u001b[0m\u001b[0;34m,\u001b[0m\u001b[0;34m\u001b[0m\u001b[0;34m\u001b[0m\u001b[0m\n\u001b[0;32m-> 2707\u001b[0;31m         **({\"data\": data} if data is not None else {}), **kwargs)\n\u001b[0m\u001b[1;32m   2708\u001b[0m     \u001b[0msci\u001b[0m\u001b[0;34m(\u001b[0m\u001b[0m__ret\u001b[0m\u001b[0;34m)\u001b[0m\u001b[0;34m\u001b[0m\u001b[0;34m\u001b[0m\u001b[0m\n\u001b[1;32m   2709\u001b[0m     \u001b[0;32mreturn\u001b[0m \u001b[0m__ret\u001b[0m\u001b[0;34m\u001b[0m\u001b[0;34m\u001b[0m\u001b[0m\n",
            "\u001b[0;32m~/anaconda3/envs/twoPhase/lib/python3.7/site-packages/matplotlib/__init__.py\u001b[0m in \u001b[0;36minner\u001b[0;34m(ax, data, *args, **kwargs)\u001b[0m\n\u001b[1;32m   1410\u001b[0m     \u001b[0;32mdef\u001b[0m \u001b[0minner\u001b[0m\u001b[0;34m(\u001b[0m\u001b[0max\u001b[0m\u001b[0;34m,\u001b[0m \u001b[0;34m*\u001b[0m\u001b[0margs\u001b[0m\u001b[0;34m,\u001b[0m \u001b[0mdata\u001b[0m\u001b[0;34m=\u001b[0m\u001b[0;32mNone\u001b[0m\u001b[0;34m,\u001b[0m \u001b[0;34m**\u001b[0m\u001b[0mkwargs\u001b[0m\u001b[0;34m)\u001b[0m\u001b[0;34m:\u001b[0m\u001b[0;34m\u001b[0m\u001b[0;34m\u001b[0m\u001b[0m\n\u001b[1;32m   1411\u001b[0m         \u001b[0;32mif\u001b[0m \u001b[0mdata\u001b[0m \u001b[0;32mis\u001b[0m \u001b[0;32mNone\u001b[0m\u001b[0;34m:\u001b[0m\u001b[0;34m\u001b[0m\u001b[0;34m\u001b[0m\u001b[0m\n\u001b[0;32m-> 1412\u001b[0;31m             \u001b[0;32mreturn\u001b[0m \u001b[0mfunc\u001b[0m\u001b[0;34m(\u001b[0m\u001b[0max\u001b[0m\u001b[0;34m,\u001b[0m \u001b[0;34m*\u001b[0m\u001b[0mmap\u001b[0m\u001b[0;34m(\u001b[0m\u001b[0msanitize_sequence\u001b[0m\u001b[0;34m,\u001b[0m \u001b[0margs\u001b[0m\u001b[0;34m)\u001b[0m\u001b[0;34m,\u001b[0m \u001b[0;34m**\u001b[0m\u001b[0mkwargs\u001b[0m\u001b[0;34m)\u001b[0m\u001b[0;34m\u001b[0m\u001b[0;34m\u001b[0m\u001b[0m\n\u001b[0m\u001b[1;32m   1413\u001b[0m \u001b[0;34m\u001b[0m\u001b[0m\n\u001b[1;32m   1414\u001b[0m         \u001b[0mbound\u001b[0m \u001b[0;34m=\u001b[0m \u001b[0mnew_sig\u001b[0m\u001b[0;34m.\u001b[0m\u001b[0mbind\u001b[0m\u001b[0;34m(\u001b[0m\u001b[0max\u001b[0m\u001b[0;34m,\u001b[0m \u001b[0;34m*\u001b[0m\u001b[0margs\u001b[0m\u001b[0;34m,\u001b[0m \u001b[0;34m**\u001b[0m\u001b[0mkwargs\u001b[0m\u001b[0;34m)\u001b[0m\u001b[0;34m\u001b[0m\u001b[0;34m\u001b[0m\u001b[0m\n",
            "\u001b[0;32m~/anaconda3/envs/twoPhase/lib/python3.7/site-packages/matplotlib/axes/_axes.py\u001b[0m in \u001b[0;36mpcolor\u001b[0;34m(self, shading, alpha, norm, cmap, vmin, vmax, *args, **kwargs)\u001b[0m\n\u001b[1;32m   5786\u001b[0m         \u001b[0mshading\u001b[0m \u001b[0;34m=\u001b[0m \u001b[0mshading\u001b[0m\u001b[0;34m.\u001b[0m\u001b[0mlower\u001b[0m\u001b[0;34m(\u001b[0m\u001b[0;34m)\u001b[0m\u001b[0;34m\u001b[0m\u001b[0;34m\u001b[0m\u001b[0m\n\u001b[1;32m   5787\u001b[0m         X, Y, C, shading = self._pcolorargs('pcolor', *args, shading=shading,\n\u001b[0;32m-> 5788\u001b[0;31m                                             kwargs=kwargs)\n\u001b[0m\u001b[1;32m   5789\u001b[0m         \u001b[0mNy\u001b[0m\u001b[0;34m,\u001b[0m \u001b[0mNx\u001b[0m \u001b[0;34m=\u001b[0m \u001b[0mX\u001b[0m\u001b[0;34m.\u001b[0m\u001b[0mshape\u001b[0m\u001b[0;34m\u001b[0m\u001b[0;34m\u001b[0m\u001b[0m\n\u001b[1;32m   5790\u001b[0m \u001b[0;34m\u001b[0m\u001b[0m\n",
            "\u001b[0;32m~/anaconda3/envs/twoPhase/lib/python3.7/site-packages/matplotlib/axes/_axes.py\u001b[0m in \u001b[0;36m_pcolorargs\u001b[0;34m(self, funcname, shading, *args, **kwargs)\u001b[0m\n\u001b[1;32m   5575\u001b[0m                 raise TypeError('Dimensions of C %s are incompatible with'\n\u001b[1;32m   5576\u001b[0m                                 ' X (%d) and/or Y (%d); see help(%s)' % (\n\u001b[0;32m-> 5577\u001b[0;31m                                     C.shape, Nx, Ny, funcname))\n\u001b[0m\u001b[1;32m   5578\u001b[0m         \u001b[0;32melse\u001b[0m\u001b[0;34m:\u001b[0m    \u001b[0;31m# ['nearest', 'gouraud']:\u001b[0m\u001b[0;34m\u001b[0m\u001b[0;34m\u001b[0m\u001b[0m\n\u001b[1;32m   5579\u001b[0m             \u001b[0;32mif\u001b[0m \u001b[0;34m(\u001b[0m\u001b[0mNx\u001b[0m\u001b[0;34m,\u001b[0m \u001b[0mNy\u001b[0m\u001b[0;34m)\u001b[0m \u001b[0;34m!=\u001b[0m \u001b[0;34m(\u001b[0m\u001b[0mncols\u001b[0m\u001b[0;34m,\u001b[0m \u001b[0mnrows\u001b[0m\u001b[0;34m)\u001b[0m\u001b[0;34m:\u001b[0m\u001b[0;34m\u001b[0m\u001b[0;34m\u001b[0m\u001b[0m\n",
            "\u001b[0;31mTypeError\u001b[0m: Dimensions of C (40000, 1) are incompatible with X (200) and/or Y (200); see help(pcolor)"
          ]
        },
        {
          "data": {
            "image/png": "[encoded data removed]",
            "text/plain": [
              "<Figure size 1296x648 with 9 Axes>"
            ]
          },
          "metadata": {
            "needs_background": "light"
          },
          "output_type": "display_data"
        }
      ],
      "source": [
        "# Predictions\n",
        "# u_pred = model.predict_u(X_star)\n",
        "# r_pred = model.predict_r(X_star)\n",
        "\n",
        "# Predictions\n",
        "\n",
        "error_u = np.linalg.norm(u_star - u_pred, 2) / np.linalg.norm(u_star, 2)\n",
        "\n",
        "# print('elapsed: {:.2e}'.format(elapsed))\n",
        "\n",
        "print('Relative L2 error_u: {:.2e}'.format(error_u))\n",
        "\n",
        "U_star = griddata(X_star, u_star.flatten(), (t, x), method='cubic')\n",
        "r_star = griddata(X_star, r_star.flatten(), (t, x), method='cubic')\n",
        "U_pred = griddata(X_star, u_pred.flatten(), (t, x), method='cubic')\n",
        "# R_pred = griddata(X_star, r_pred.flatten(), (t, x), method='cubic')\n",
        "\n",
        "\n",
        "plt.figure(figsize=(18, 9))\n",
        "plt.subplot(2, 3, 1)\n",
        "plt.pcolor(t, x, U_star, cmap='jet')\n",
        "plt.colorbar()\n",
        "plt.xlabel('$x_1$')\n",
        "plt.ylabel('$x_2$')\n",
        "plt.title('Exact u(t, x)')\n",
        "plt.tight_layout()\n",
        "\n",
        "plt.subplot(2, 3, 2)\n",
        "plt.pcolor(t, x, U_pred, cmap='jet')\n",
        "plt.colorbar()\n",
        "plt.xlabel('$t$')\n",
        "plt.ylabel('$x$')\n",
        "plt.title('Predicted u(t, x)')\n",
        "plt.tight_layout()\n",
        "\n",
        "plt.subplot(2, 3, 3)\n",
        "plt.pcolor(t, x, np.abs(U_star - U_pred), cmap='jet')\n",
        "plt.colorbar()\n",
        "plt.xlabel('$t$')\n",
        "plt.ylabel('$x$')\n",
        "plt.title('Absolute error')\n",
        "plt.tight_layout()\n",
        "\n",
        "plt.subplot(2, 3, 4)\n",
        "plt.pcolor(t, x, r_star, cmap='jet')\n",
        "plt.colorbar()\n",
        "plt.xlabel('$t$')\n",
        "plt.ylabel('$x$')\n",
        "plt.title('Exact r(t, x)')\n",
        "plt.tight_layout()\n",
        "\n",
        "plt.subplot(2, 3, 5)\n",
        "plt.pcolor(t, x, r_pred, cmap='jet')\n",
        "plt.colorbar()\n",
        "plt.xlabel('$t$')\n",
        "plt.ylabel('$x$')\n",
        "plt.title('Predicted r(t, x)')\n",
        "plt.tight_layout()\n",
        "\n",
        "plt.subplot(2, 3, 6)\n",
        "plt.pcolor(t, x, np.abs(r_star - r_pred), cmap='jet')\n",
        "plt.colorbar()\n",
        "plt.xlabel('$t$')\n",
        "plt.ylabel('$x$')\n",
        "plt.title('Absolute error')\n",
        "plt.tight_layout()\n",
        "plt.show()"
      ]
    },
    {
      "cell_type": "code",
      "execution_count": null,
      "metadata": {},
      "outputs": [],
      "source": []
    },
    {
      "cell_type": "code",
      "execution_count": null,
      "metadata": {},
      "outputs": [],
      "source": []
    },
    {
      "cell_type": "code",
      "execution_count": 6,
      "metadata": {
        "id": "YGFobW0EatXj"
      },
      "outputs": [
        {
          "name": "stdout",
          "output_type": "stream",
          "text": [
            "Method:  mini_batch\n",
            "Epoch:  1\n",
            "mini_batch method is used\n",
            "It: 100, Loss: 9.238e-01,  loss_bc1: 6.848e-02, loss_ics_u: 3.931e-01,  Loss_res: 6.576e-04 , Time: 4.89\n",
            "It: 200, Loss: 6.458e-01,  loss_bc1: 7.923e-02, loss_ics_u: 2.403e-01,  Loss_res: 6.826e-03 , Time: 3.53\n",
            "It: 300, Loss: 6.600e-01,  loss_bc1: 8.652e-02, loss_ics_u: 2.341e-01,  Loss_res: 1.875e-02 , Time: 3.44\n",
            "It: 400, Loss: 5.494e-01,  loss_bc1: 6.093e-02, loss_ics_u: 2.009e-01,  Loss_res: 2.586e-02 , Time: 3.43\n",
            "It: 500, Loss: 5.235e-01,  loss_bc1: 4.314e-02, loss_ics_u: 2.099e-01,  Loss_res: 1.742e-02 , Time: 3.35\n",
            "It: 600, Loss: 4.532e-01,  loss_bc1: 4.553e-02, loss_ics_u: 1.763e-01,  Loss_res: 9.461e-03 , Time: 3.27\n",
            "It: 700, Loss: 4.660e-01,  loss_bc1: 4.488e-02, loss_ics_u: 1.662e-01,  Loss_res: 4.375e-02 , Time: 3.38\n",
            "It: 800, Loss: 4.010e-01,  loss_bc1: 5.502e-02, loss_ics_u: 1.294e-01,  Loss_res: 3.213e-02 , Time: 3.22\n",
            "It: 900, Loss: 3.889e-01,  loss_bc1: 4.886e-02, loss_ics_u: 1.423e-01,  Loss_res: 6.523e-03 , Time: 3.26\n",
            "It: 1000, Loss: 4.760e-01,  loss_bc1: 3.239e-02, loss_ics_u: 1.614e-01,  Loss_res: 8.841e-02 , Time: 3.23\n",
            "loss_bc1: 3.239e+00\n",
            "loss_ics_u: 1.614e+01\n",
            "It: 1100, Loss: 4.028e+00,  loss_bc1: 2.087e-01, loss_ics_u: 2.050e-01,  Loss_res: 4.341e-02 , Time: 3.24\n",
            "It: 1200, Loss: 4.036e+00,  loss_bc1: 2.012e-01, loss_ics_u: 2.079e-01,  Loss_res: 2.821e-02 , Time: 3.24\n",
            "It: 1300, Loss: 3.089e+00,  loss_bc1: 1.975e-01, loss_ics_u: 1.486e-01,  Loss_res: 5.050e-02 , Time: 3.29\n",
            "It: 1400, Loss: 3.631e+00,  loss_bc1: 9.093e-02, loss_ics_u: 2.015e-01,  Loss_res: 8.446e-02 , Time: 3.25\n",
            "It: 1500, Loss: 3.205e+00,  loss_bc1: 1.203e-01, loss_ics_u: 1.708e-01,  Loss_res: 5.864e-02 , Time: 3.28\n",
            "It: 1600, Loss: 2.442e+00,  loss_bc1: 6.459e-02, loss_ics_u: 1.321e-01,  Loss_res: 1.004e-01 , Time: 3.25\n",
            "It: 1700, Loss: 1.988e+00,  loss_bc1: 5.784e-02, loss_ics_u: 1.060e-01,  Loss_res: 9.038e-02 , Time: 3.28\n",
            "It: 1800, Loss: 2.086e+00,  loss_bc1: 6.114e-02, loss_ics_u: 1.096e-01,  Loss_res: 1.187e-01 , Time: 3.30\n",
            "It: 1900, Loss: 1.798e+00,  loss_bc1: 5.601e-02, loss_ics_u: 9.710e-02,  Loss_res: 4.957e-02 , Time: 3.27\n",
            "It: 2000, Loss: 2.066e+00,  loss_bc1: 5.252e-02, loss_ics_u: 1.144e-01,  Loss_res: 4.957e-02 , Time: 3.29\n",
            "loss_bc1: 5.252e+00\n",
            "loss_ics_u: 1.144e+01\n",
            "It: 2100, Loss: 1.550e+00,  loss_bc1: 4.679e-02, loss_ics_u: 1.096e-01,  Loss_res: 5.031e-02 , Time: 3.31\n",
            "It: 2200, Loss: 1.371e+00,  loss_bc1: 4.520e-02, loss_ics_u: 9.635e-02,  Loss_res: 3.133e-02 , Time: 3.24\n",
            "It: 2300, Loss: 1.521e+00,  loss_bc1: 4.606e-02, loss_ics_u: 1.102e-01,  Loss_res: 1.778e-02 , Time: 3.20\n",
            "It: 2400, Loss: 1.439e+00,  loss_bc1: 4.217e-02, loss_ics_u: 1.018e-01,  Loss_res: 5.311e-02 , Time: 3.22\n",
            "It: 2500, Loss: 1.371e+00,  loss_bc1: 4.292e-02, loss_ics_u: 9.668e-02,  Loss_res: 3.920e-02 , Time: 3.22\n",
            "It: 2600, Loss: 1.398e+00,  loss_bc1: 4.434e-02, loss_ics_u: 1.003e-01,  Loss_res: 1.732e-02 , Time: 3.33\n",
            "It: 2700, Loss: 1.422e+00,  loss_bc1: 5.076e-02, loss_ics_u: 9.485e-02,  Loss_res: 6.997e-02 , Time: 3.22\n",
            "It: 2800, Loss: 1.420e+00,  loss_bc1: 4.226e-02, loss_ics_u: 1.026e-01,  Loss_res: 2.447e-02 , Time: 3.22\n",
            "It: 2900, Loss: 1.382e+00,  loss_bc1: 4.252e-02, loss_ics_u: 9.909e-02,  Loss_res: 2.485e-02 , Time: 3.21\n",
            "It: 3000, Loss: 1.566e+00,  loss_bc1: 3.510e-02, loss_ics_u: 1.161e-01,  Loss_res: 5.379e-02 , Time: 3.23\n",
            "loss_bc1: 3.510e+00\n",
            "loss_ics_u: 1.161e+01\n",
            "It: 3100, Loss: 1.250e+00,  loss_bc1: 4.534e-02, loss_ics_u: 9.202e-02,  Loss_res: 2.217e-02 , Time: 3.25\n",
            "It: 3200, Loss: 1.463e+00,  loss_bc1: 4.408e-02, loss_ics_u: 1.112e-01,  Loss_res: 1.781e-02 , Time: 3.22\n",
            "It: 3300, Loss: 1.234e+00,  loss_bc1: 4.673e-02, loss_ics_u: 9.008e-02,  Loss_res: 2.384e-02 , Time: 3.23\n",
            "It: 3400, Loss: 1.296e+00,  loss_bc1: 4.818e-02, loss_ics_u: 9.465e-02,  Loss_res: 2.827e-02 , Time: 3.19\n",
            "It: 3500, Loss: 1.202e+00,  loss_bc1: 4.031e-02, loss_ics_u: 8.907e-02,  Loss_res: 2.603e-02 , Time: 3.22\n",
            "It: 3600, Loss: 1.318e+00,  loss_bc1: 3.901e-02, loss_ics_u: 9.679e-02,  Loss_res: 5.757e-02 , Time: 3.22\n",
            "It: 3700, Loss: 1.339e+00,  loss_bc1: 4.521e-02, loss_ics_u: 9.347e-02,  Loss_res: 9.490e-02 , Time: 3.23\n",
            "It: 3800, Loss: 1.117e+00,  loss_bc1: 3.642e-02, loss_ics_u: 8.242e-02,  Loss_res: 3.266e-02 , Time: 3.23\n",
            "It: 3900, Loss: 1.193e+00,  loss_bc1: 3.797e-02, loss_ics_u: 8.865e-02,  Loss_res: 3.007e-02 , Time: 3.21\n",
            "It: 4000, Loss: 1.234e+00,  loss_bc1: 4.410e-02, loss_ics_u: 8.808e-02,  Loss_res: 5.626e-02 , Time: 3.26\n",
            "loss_bc1: 4.410e+00\n",
            "loss_ics_u: 8.808e+00\n",
            "It: 4100, Loss: 9.802e-01,  loss_bc1: 4.087e-02, loss_ics_u: 8.796e-02,  Loss_res: 2.525e-02 , Time: 3.23\n",
            "It: 4200, Loss: 7.871e-01,  loss_bc1: 3.142e-02, loss_ics_u: 7.091e-02,  Loss_res: 2.396e-02 , Time: 3.22\n",
            "It: 4300, Loss: 9.718e-01,  loss_bc1: 3.682e-02, loss_ics_u: 8.874e-02,  Loss_res: 2.785e-02 , Time: 3.20\n",
            "It: 4400, Loss: 9.642e-01,  loss_bc1: 3.058e-02, loss_ics_u: 9.060e-02,  Loss_res: 3.125e-02 , Time: 3.26\n",
            "It: 4500, Loss: 8.799e-01,  loss_bc1: 2.439e-02, loss_ics_u: 8.445e-02,  Loss_res: 2.850e-02 , Time: 3.32\n",
            "It: 4600, Loss: 9.538e-01,  loss_bc1: 2.985e-02, loss_ics_u: 9.104e-02,  Loss_res: 2.028e-02 , Time: 3.49\n",
            "It: 4700, Loss: 9.735e-01,  loss_bc1: 2.568e-02, loss_ics_u: 8.460e-02,  Loss_res: 1.151e-01 , Time: 3.21\n",
            "It: 4800, Loss: 1.139e+00,  loss_bc1: 3.047e-02, loss_ics_u: 8.349e-02,  Loss_res: 2.688e-01 , Time: 3.23\n",
            "It: 4900, Loss: 8.897e-01,  loss_bc1: 2.511e-02, loss_ics_u: 8.457e-02,  Loss_res: 3.410e-02 , Time: 3.27\n",
            "It: 5000, Loss: 8.940e-01,  loss_bc1: 2.638e-02, loss_ics_u: 8.533e-02,  Loss_res: 2.602e-02 , Time: 3.57\n",
            "loss_bc1: 2.638e+00\n",
            "loss_ics_u: 8.533e+00\n",
            "It: 5100, Loss: 7.650e-01,  loss_bc1: 2.841e-02, loss_ics_u: 7.593e-02,  Loss_res: 4.203e-02 , Time: 3.42\n",
            "It: 5200, Loss: 7.556e-01,  loss_bc1: 2.848e-02, loss_ics_u: 7.732e-02,  Loss_res: 2.066e-02 , Time: 3.46\n",
            "It: 5300, Loss: 8.372e-01,  loss_bc1: 2.470e-02, loss_ics_u: 8.721e-02,  Loss_res: 2.776e-02 , Time: 3.27\n",
            "It: 5400, Loss: 8.250e-01,  loss_bc1: 3.508e-02, loss_ics_u: 7.640e-02,  Loss_res: 8.048e-02 , Time: 3.37\n",
            "It: 5500, Loss: 7.433e-01,  loss_bc1: 3.176e-02, loss_ics_u: 7.389e-02,  Loss_res: 2.904e-02 , Time: 3.84\n",
            "It: 5600, Loss: 8.500e-01,  loss_bc1: 2.148e-02, loss_ics_u: 8.489e-02,  Loss_res: 6.889e-02 , Time: 3.76\n",
            "It: 5700, Loss: 8.856e-01,  loss_bc1: 2.965e-02, loss_ics_u: 8.233e-02,  Loss_res: 1.047e-01 , Time: 3.84\n",
            "It: 5800, Loss: 7.934e-01,  loss_bc1: 3.199e-02, loss_ics_u: 8.170e-02,  Loss_res: 1.185e-02 , Time: 4.21\n",
            "It: 5900, Loss: 6.295e-01,  loss_bc1: 2.616e-02, loss_ics_u: 6.469e-02,  Loss_res: 8.447e-03 , Time: 3.81\n",
            "It: 6000, Loss: 7.770e-01,  loss_bc1: 2.826e-02, loss_ics_u: 7.285e-02,  Loss_res: 8.075e-02 , Time: 3.30\n",
            "loss_bc1: 2.826e+00\n",
            "loss_ics_u: 7.285e+00\n",
            "It: 6100, Loss: 7.395e-01,  loss_bc1: 2.725e-02, loss_ics_u: 8.498e-02,  Loss_res: 4.339e-02 , Time: 3.26\n",
            "It: 6200, Loss: 6.320e-01,  loss_bc1: 2.240e-02, loss_ics_u: 7.337e-02,  Loss_res: 3.422e-02 , Time: 3.26\n",
            "It: 6300, Loss: 7.214e-01,  loss_bc1: 2.809e-02, loss_ics_u: 7.978e-02,  Loss_res: 6.084e-02 , Time: 3.37\n",
            "It: 6400, Loss: 6.903e-01,  loss_bc1: 2.062e-02, loss_ics_u: 8.453e-02,  Loss_res: 1.630e-02 , Time: 3.31\n",
            "It: 6500, Loss: 5.729e-01,  loss_bc1: 2.227e-02, loss_ics_u: 6.528e-02,  Loss_res: 3.439e-02 , Time: 3.25\n",
            "It: 6600, Loss: 6.427e-01,  loss_bc1: 2.084e-02, loss_ics_u: 7.847e-02,  Loss_res: 1.215e-02 , Time: 3.28\n",
            "It: 6700, Loss: 6.382e-01,  loss_bc1: 2.782e-02, loss_ics_u: 6.780e-02,  Loss_res: 6.566e-02 , Time: 3.34\n",
            "It: 6800, Loss: 7.090e-01,  loss_bc1: 3.071e-02, loss_ics_u: 8.264e-02,  Loss_res: 2.019e-02 , Time: 3.31\n",
            "It: 6900, Loss: 6.630e-01,  loss_bc1: 3.743e-02, loss_ics_u: 7.378e-02,  Loss_res: 1.977e-02 , Time: 3.27\n",
            "It: 7000, Loss: 5.993e-01,  loss_bc1: 2.533e-02, loss_ics_u: 7.067e-02,  Loss_res: 1.288e-02 , Time: 3.26\n",
            "loss_bc1: 2.533e+00\n",
            "loss_ics_u: 7.067e+00\n",
            "It: 7100, Loss: 5.544e-01,  loss_bc1: 1.875e-02, loss_ics_u: 7.023e-02,  Loss_res: 1.061e-02 , Time: 3.27\n",
            "It: 7200, Loss: 5.860e-01,  loss_bc1: 2.289e-02, loss_ics_u: 7.186e-02,  Loss_res: 2.016e-02 , Time: 3.29\n",
            "It: 7300, Loss: 5.804e-01,  loss_bc1: 2.950e-02, loss_ics_u: 6.364e-02,  Loss_res: 5.588e-02 , Time: 3.28\n",
            "It: 7400, Loss: 5.462e-01,  loss_bc1: 2.331e-02, loss_ics_u: 6.764e-02,  Loss_res: 9.172e-03 , Time: 3.27\n",
            "It: 7500, Loss: 8.304e-01,  loss_bc1: 3.285e-02, loss_ics_u: 7.115e-02,  Loss_res: 2.443e-01 , Time: 3.27\n",
            "It: 7600, Loss: 6.820e-01,  loss_bc1: 2.153e-02, loss_ics_u: 7.428e-02,  Loss_res: 1.026e-01 , Time: 3.29\n",
            "It: 7700, Loss: 7.606e-01,  loss_bc1: 4.626e-02, loss_ics_u: 7.817e-02,  Loss_res: 9.092e-02 , Time: 3.27\n",
            "It: 7800, Loss: 5.466e-01,  loss_bc1: 2.056e-02, loss_ics_u: 6.840e-02,  Loss_res: 1.107e-02 , Time: 3.27\n",
            "It: 7900, Loss: 5.074e-01,  loss_bc1: 2.721e-02, loss_ics_u: 6.056e-02,  Loss_res: 1.047e-02 , Time: 3.27\n",
            "It: 8000, Loss: 5.273e-01,  loss_bc1: 2.016e-02, loss_ics_u: 6.464e-02,  Loss_res: 1.944e-02 , Time: 3.29\n",
            "loss_bc1: 2.016e+00\n",
            "loss_ics_u: 6.464e+00\n",
            "It: 8100, Loss: 5.165e-01,  loss_bc1: 2.897e-02, loss_ics_u: 6.732e-02,  Loss_res: 2.294e-02 , Time: 3.25\n",
            "It: 8200, Loss: 5.093e-01,  loss_bc1: 2.612e-02, loss_ics_u: 6.808e-02,  Loss_res: 1.660e-02 , Time: 3.39\n",
            "It: 8300, Loss: 4.938e-01,  loss_bc1: 2.461e-02, loss_ics_u: 6.506e-02,  Loss_res: 2.366e-02 , Time: 3.26\n",
            "It: 8400, Loss: 4.566e-01,  loss_bc1: 2.211e-02, loss_ics_u: 6.029e-02,  Loss_res: 2.233e-02 , Time: 3.28\n",
            "It: 8500, Loss: 5.714e-01,  loss_bc1: 2.626e-02, loss_ics_u: 7.673e-02,  Loss_res: 2.248e-02 , Time: 3.28\n",
            "It: 8600, Loss: 5.056e-01,  loss_bc1: 1.853e-02, loss_ics_u: 7.116e-02,  Loss_res: 8.203e-03 , Time: 3.30\n",
            "It: 8700, Loss: 4.594e-01,  loss_bc1: 2.381e-02, loss_ics_u: 6.117e-02,  Loss_res: 1.599e-02 , Time: 3.26\n",
            "It: 8800, Loss: 5.830e-01,  loss_bc1: 3.105e-02, loss_ics_u: 6.247e-02,  Loss_res: 1.166e-01 , Time: 3.31\n",
            "It: 8900, Loss: 4.775e-01,  loss_bc1: 2.004e-02, loss_ics_u: 6.605e-02,  Loss_res: 1.014e-02 , Time: 3.55\n"
          ]
        }
      ],
      "source": [
        "# Define PINN model\n",
        "a = 0.5\n",
        "c = 2\n",
        "\n",
        "kernel_size = 300\n",
        "\n",
        "# Domain boundaries\n",
        "ics_coords = np.array([[0.0, 0.0],  [0.0, 1.0]])\n",
        "bc1_coords = np.array([[0.0, 0.0],  [1.0, 0.0]])\n",
        "bc2_coords = np.array([[0.0, 1.0],  [1.0, 1.0]])\n",
        "dom_coords = np.array([[0.0, 0.0],  [1.0, 1.0]])\n",
        "\n",
        "# Create initial conditions samplers\n",
        "ics_sampler = Sampler(2, ics_coords, lambda x: u(x, a, c), name='Initial Condition 1')\n",
        "\n",
        "# Create boundary conditions samplers\n",
        "bc1 = Sampler(2, bc1_coords, lambda x: u(x, a, c), name='Dirichlet BC1')\n",
        "bc2 = Sampler(2, bc2_coords, lambda x: u(x, a, c), name='Dirichlet BC2')\n",
        "bcs_sampler = [bc1, bc2]\n",
        "\n",
        "# Create residual sampler\n",
        "res_sampler = Sampler(2, dom_coords, lambda x: r(x, a, c), name='Forcing')\n",
        "\n",
        "\n",
        "\n",
        "nIter =40000\n",
        "bcbatch_size = 500\n",
        "ubatch_size = 5000\n",
        "mbbatch_size = 300\n",
        "\n",
        "\n",
        "\n",
        "# Define model\n",
        "mode = 'M4'\n",
        "layers = [2, 500, 500, 500, 1]\n",
        "\n",
        "\n",
        "nn = 200\n",
        "t = np.linspace(dom_coords[0, 0], dom_coords[1, 0], nn)[:, None]\n",
        "x = np.linspace(dom_coords[0, 1], dom_coords[1, 1], nn)[:, None]\n",
        "t, x = np.meshgrid(t, x)\n",
        "X_star = np.hstack((t.flatten()[:, None], x.flatten()[:, None]))\n",
        "\n",
        "u_star = u(X_star, a,c)\n",
        "r_star = r(X_star, a, c)\n",
        "\n",
        "iterations = 1\n",
        "methods = [  \"mini_batch\"]\n",
        "\n",
        "result_dict =  dict((mtd, []) for mtd in methods)\n",
        "\n",
        "for mtd in methods:\n",
        "    print(\"Method: \", mtd)\n",
        "    time_list = []\n",
        "    error_u_list = []\n",
        "    \n",
        "    for index in range(iterations):\n",
        "\n",
        "        print(\"Epoch: \", str(index+1))\n",
        "\n",
        "        # Create residual sampler\n",
        "\n",
        "        [elapsed, error_u] = test_method(mtd , layers,  ics_sampler, bcs_sampler, res_sampler, c ,kernel_size , X_star , u_star , r_star , nIter ,mbbatch_size , bcbatch_size , ubatch_size )\n",
        "\n",
        "\n",
        "        print('elapsed: {:.2e}'.format(elapsed))\n",
        "        print('Relative L2 error_u: {:.2e}'.format(error_u))\n",
        "\n",
        "        time_list.append(elapsed)\n",
        "        error_u_list.append(error_u)\n",
        "\n",
        "    print(\"\\n\\nMethod: \", mtd)\n",
        "    print(\"\\naverage of time_list:\" , sum(time_list) / len(time_list) )\n",
        "    print(\"average of error_u_list:\" , sum(error_u_list) / len(error_u_list) )\n",
        "    # print(\"average of error_r_list:\" , sum(error_r_list) / len(error_r_list) )\n",
        "\n",
        "    result_dict[mtd] = [time_list ,error_u_list]\n",
        "    # scipy.io.savemat(\"M2_result_\"+str(iterations)+\"_\"+mtd+\".mat\" , {'time_list':np.array(time_list),'error_u_list':np.array(error_u_list),'error_f_list':np.array(error_f_list)})\n",
        "\n",
        "    scipy.io.savemat(\"./1DWave_database/\"+mtd+\"_1Dwave_\"+mode+\"_result_mb\"+str(mbbatch_size)+\"_fb\"+str(ubatch_size)+\"_bc\"+str(mbbatch_size)+\"_\"+str(iterations)+\".mat\" , result_dict)\n",
        "\n",
        "###############################################################################################################################################\n"
      ]
    },
    {
      "cell_type": "code",
      "execution_count": null,
      "metadata": {},
      "outputs": [],
      "source": [
        "# Define PINN model\n",
        "a = 0.5\n",
        "c = 2\n",
        "\n",
        "kernel_size = 300\n",
        "\n",
        "# Domain boundaries\n",
        "ics_coords = np.array([[0.0, 0.0],  [0.0, 1.0]])\n",
        "bc1_coords = np.array([[0.0, 0.0],  [1.0, 0.0]])\n",
        "bc2_coords = np.array([[0.0, 1.0],  [1.0, 1.0]])\n",
        "dom_coords = np.array([[0.0, 0.0],  [1.0, 1.0]])\n",
        "\n",
        "# Create initial conditions samplers\n",
        "ics_sampler = Sampler(2, ics_coords, lambda x: u(x, a, c), name='Initial Condition 1')\n",
        "\n",
        "# Create boundary conditions samplers\n",
        "bc1 = Sampler(2, bc1_coords, lambda x: u(x, a, c), name='Dirichlet BC1')\n",
        "bc2 = Sampler(2, bc2_coords, lambda x: u(x, a, c), name='Dirichlet BC2')\n",
        "bcs_sampler = [bc1, bc2]\n",
        "\n",
        "# Create residual sampler\n",
        "res_sampler = Sampler(2, dom_coords, lambda x: r(x, a, c), name='Forcing')\n",
        "\n",
        "\n",
        "\n",
        "nIter =40000\n",
        "bcbatch_size = 500\n",
        "ubatch_size = 5000\n",
        "mbbatch_size = 300\n",
        "\n",
        "\n",
        "\n",
        "# Define model\n",
        "mode = 'M4'\n",
        "layers = [2, 500, 500, 500, 1]\n",
        "\n",
        "\n",
        "nn = 200\n",
        "t = np.linspace(dom_coords[0, 0], dom_coords[1, 0], nn)[:, None]\n",
        "x = np.linspace(dom_coords[0, 1], dom_coords[1, 1], nn)[:, None]\n",
        "t, x = np.meshgrid(t, x)\n",
        "X_star = np.hstack((t.flatten()[:, None], x.flatten()[:, None]))\n",
        "\n",
        "u_star = u(X_star, a,c)\n",
        "r_star = r(X_star, a, c)\n",
        "\n",
        "iterations = 1\n",
        "methods = [  \"mini_batch\"]\n",
        "\n",
        "result_dict =  dict((mtd, []) for mtd in methods)\n",
        "\n",
        "for mtd in methods:\n",
        "    print(\"Method: \", mtd)\n",
        "    time_list = []\n",
        "    error_u_list = []\n",
        "    \n",
        "    for index in range(iterations):\n",
        "\n",
        "        print(\"Epoch: \", str(index+1))\n",
        "\n",
        "        # Create residual sampler\n",
        "\n",
        "        [elapsed, error_u] = test_method(mtd , layers,  ics_sampler, bcs_sampler, res_sampler, c ,kernel_size , X_star , u_star , r_star , nIter ,mbbatch_size , bcbatch_size , ubatch_size )\n",
        "\n",
        "\n",
        "        print('elapsed: {:.2e}'.format(elapsed))\n",
        "        print('Relative L2 error_u: {:.2e}'.format(error_u))\n",
        "\n",
        "        time_list.append(elapsed)\n",
        "        error_u_list.append(error_u)\n",
        "\n",
        "    print(\"\\n\\nMethod: \", mtd)\n",
        "    print(\"\\naverage of time_list:\" , sum(time_list) / len(time_list) )\n",
        "    print(\"average of error_u_list:\" , sum(error_u_list) / len(error_u_list) )\n",
        "    # print(\"average of error_r_list:\" , sum(error_r_list) / len(error_r_list) )\n",
        "\n",
        "    result_dict[mtd] = [time_list ,error_u_list]\n",
        "    # scipy.io.savemat(\"M2_result_\"+str(iterations)+\"_\"+mtd+\".mat\" , {'time_list':np.array(time_list),'error_u_list':np.array(error_u_list),'error_f_list':np.array(error_f_list)})\n",
        "\n",
        "    scipy.io.savemat(\"./1DWave_database/\"+mtd+\"_1Dwave_\"+mode+\"_result_mb\"+str(mbbatch_size)+\"_fb\"+str(ubatch_size)+\"_bc\"+str(mbbatch_size)+\"_\"+str(iterations)+\".mat\" , result_dict)\n",
        "\n",
        "###############################################################################################################################################\n"
      ]
    },
    {
      "cell_type": "code",
      "execution_count": null,
      "metadata": {
        "colab": {
          "base_uri": "https://localhost:8080/"
        },
        "id": "jZtWEM9-brXF",
        "outputId": "371feba5-fed5-41cb-9e3e-5c8497c4fbe6"
      },
      "outputs": [],
      "source": [
        "\n",
        "import scipy.io\n",
        "\n",
        "mode = 'M4'\n",
        "mbbatch_size = 128\n",
        "ubatch_size = 5000\n",
        "bcbatch_size = 500\n",
        "iterations = 40000\n",
        "\n",
        "time_list = []\n",
        "error_u_list = []\n",
        "error_v_list = []\n",
        "error_p_list = []\n",
        "    \n",
        "methods = [\"mini_batch\" , \"full_batch\"]\n",
        "result_dict =  dict((mtd, []) for mtd in methods)\n",
        "\n",
        "##Mini Batch\n",
        "time_list = []\n",
        "error_u_list = [ ]\n",
        "\n",
        "\n",
        "result_dict[\"mini_batch\"] = [time_list ,error_u_list]\n",
        "\n",
        "print(\"\\n\\nMethod: \", mtd)\n",
        "print(\"\\naverage of time_list:\" , sum(time_list) / len(time_list) )\n",
        "print(\"average of error_u_list:\" , sum(error_u_list) / len(error_u_list) )\n",
        "\n",
        "##Full Batch\n",
        "time_list = []\n",
        "error_u_list = [ ]\n",
        "error_v_list = []\n",
        "error_p_list = []\n",
        "\n",
        "result_dict[\"full_batch\"] = [time_list ,error_u_list ,error_v_list ,  error_p_list]\n",
        "\n",
        "print(\"\\n\\nMethod: \", mtd)\n",
        "print(\"\\naverage of time_list:\" , sum(time_list) / len(time_list) )\n",
        "print(\"average of error_u_list:\" , sum(error_u_list) / len(error_u_list) )\n",
        "print(\"average of error_v_list:\" , sum(error_v_list) / len(error_v_list) )\n",
        "print(\"average of error_p_list:\" , sum(error_p_list) / len(error_p_list) )\n",
        "\n",
        "\n",
        "scipy.io.savemat(\"./dataset/1DWave_database_\"+mode+\"_result_mb\"+str(mbbatch_size)+\"_fb\"+str(ubatch_size)+\"_\"+str(bcbatch_size)+\"_\"+str(iterations)+\".mat\" , result_dict)\n",
        "\n"
      ]
    },
    {
      "cell_type": "code",
      "execution_count": null,
      "metadata": {},
      "outputs": [],
      "source": []
    },
    {
      "cell_type": "code",
      "execution_count": null,
      "metadata": {},
      "outputs": [],
      "source": []
    },
    {
      "cell_type": "code",
      "execution_count": null,
      "metadata": {},
      "outputs": [],
      "source": []
    },
    {
      "cell_type": "code",
      "execution_count": null,
      "metadata": {
        "id": "vF1hwPUobyPE"
      },
      "outputs": [],
      "source": [
        "# Train model\n",
        "itertaions = 80001\n",
        "log_NTK = True # Compute and store NTK matrix during training\n",
        "update_lam = True # Compute and update the loss weights using the NTK \n",
        "\n"
      ]
    },
    {
      "cell_type": "markdown",
      "metadata": {
        "id": "oiyikOwBjRoZ"
      },
      "source": [
        "**Training Loss**"
      ]
    },
    {
      "cell_type": "code",
      "execution_count": null,
      "metadata": {
        "colab": {
          "base_uri": "https://localhost:8080/",
          "height": 369
        },
        "id": "Fw807UNzhu5z",
        "outputId": "f4551313-ffbc-49b5-8fd3-1296fc1641fe"
      },
      "outputs": [],
      "source": [
        "loss_res = model.loss_res_log\n",
        "loss_bcs = model.loss_bcs_log\n",
        "loss_u_t_ics = model.loss_ut_ics_log\n",
        "\n",
        "fig = plt.figure(figsize=(6, 5))\n",
        "plt.plot(loss_res, label='$\\mathcal{L}_{r}$')\n",
        "plt.plot(loss_bcs, label='$\\mathcal{L}_{u}$')\n",
        "plt.plot(loss_u_t_ics, label='$\\mathcal{L}_{u_t}$')\n",
        "plt.yscale('log')\n",
        "plt.xlabel('iterations')\n",
        "plt.ylabel('Loss')\n",
        "plt.legend()\n",
        "plt.tight_layout()\n",
        "plt.show()"
      ]
    },
    {
      "cell_type": "markdown",
      "metadata": {
        "id": "TFLIBq5xjZ3v"
      },
      "source": [
        "**Model Prediction**"
      ]
    },
    {
      "cell_type": "code",
      "execution_count": null,
      "metadata": {
        "colab": {
          "base_uri": "https://localhost:8080/"
        },
        "id": "To0PDN17cc0v",
        "outputId": "1f47f288-322a-46b5-f173-45485191a68d"
      },
      "outputs": [],
      "source": [
        "\n",
        "\n",
        "# Predictions\n",
        "u_pred = model.predict_u(X_star)\n",
        "r_pred = model.predict_r(X_star)\n",
        "error_u = np.linalg.norm(u_star - u_pred, 2) / np.linalg.norm(u_star, 2)\n",
        "\n",
        "print('Relative L2 error_u: %e' % (error_u))"
      ]
    },
    {
      "cell_type": "code",
      "execution_count": null,
      "metadata": {
        "colab": {
          "base_uri": "https://localhost:8080/",
          "height": 657
        },
        "id": "K428lOuXhdc8",
        "outputId": "015f591b-d8a4-4e47-8020-84fcf219d7ca"
      },
      "outputs": [],
      "source": [
        "U_star = griddata(X_star, u_star.flatten(), (t, x), method='cubic')\n",
        "r_star = griddata(X_star, r_star.flatten(), (t, x), method='cubic')\n",
        "U_pred = griddata(X_star, u_pred.flatten(), (t, x), method='cubic')\n",
        "R_pred = griddata(X_star, r_pred.flatten(), (t, x), method='cubic')\n",
        "\n",
        "\n",
        "plt.figure(figsize=(18, 9))\n",
        "plt.subplot(2, 3, 1)\n",
        "plt.pcolor(t, x, U_star, cmap='jet')\n",
        "plt.colorbar()\n",
        "plt.xlabel('$x_1$')\n",
        "plt.ylabel('$x_2$')\n",
        "plt.title('Exact u(t, x)')\n",
        "plt.tight_layout()\n",
        "\n",
        "plt.subplot(2, 3, 2)\n",
        "plt.pcolor(t, x, U_pred, cmap='jet')\n",
        "plt.colorbar()\n",
        "plt.xlabel('$t$')\n",
        "plt.ylabel('$x$')\n",
        "plt.title('Predicted u(t, x)')\n",
        "plt.tight_layout()\n",
        "\n",
        "plt.subplot(2, 3, 3)\n",
        "plt.pcolor(t, x, np.abs(U_star - U_pred), cmap='jet')\n",
        "plt.colorbar()\n",
        "plt.xlabel('$t$')\n",
        "plt.ylabel('$x$')\n",
        "plt.title('Absolute error')\n",
        "plt.tight_layout()\n",
        "\n",
        "plt.subplot(2, 3, 4)\n",
        "plt.pcolor(t, x, r_star, cmap='jet')\n",
        "plt.colorbar()\n",
        "plt.xlabel('$t$')\n",
        "plt.ylabel('$x$')\n",
        "plt.title('Exact r(t, x)')\n",
        "plt.tight_layout()\n",
        "\n",
        "plt.subplot(2, 3, 5)\n",
        "plt.pcolor(t, x, R_pred, cmap='jet')\n",
        "plt.colorbar()\n",
        "plt.xlabel('$t$')\n",
        "plt.ylabel('$x$')\n",
        "plt.title('Predicted r(t, x)')\n",
        "plt.tight_layout()\n",
        "\n",
        "plt.subplot(2, 3, 6)\n",
        "plt.pcolor(t, x, np.abs(r_star - R_pred), cmap='jet')\n",
        "plt.colorbar()\n",
        "plt.xlabel('$t$')\n",
        "plt.ylabel('$x$')\n",
        "plt.title('Absolute error')\n",
        "plt.tight_layout()\n",
        "plt.show()"
      ]
    },
    {
      "cell_type": "markdown",
      "metadata": {
        "id": "9EYdfKGLj6h0"
      },
      "source": [
        "**NTK Eigenvalues**"
      ]
    },
    {
      "cell_type": "code",
      "execution_count": null,
      "metadata": {
        "id": "e3dByeQjhBYj"
      },
      "outputs": [],
      "source": [
        "# Create empty lists for storing the eigenvalues of NTK\n",
        "lam_K_u_log = []\n",
        "lam_K_ut_log = []\n",
        "lam_K_r_log = []\n",
        "\n",
        "# Restore the NTK\n",
        "K_u_list = model.K_u_log\n",
        "K_ut_list = model.K_ut_log\n",
        "K_r_list = model.K_r_log\n",
        "\n",
        "K_list = []\n",
        "    \n",
        "for k in range(len(K_u_list)):\n",
        "    K_u = K_u_list[k]\n",
        "    K_ut = K_ut_list[k]\n",
        "    K_r = K_r_list[k]\n",
        "    \n",
        "    # Compute eigenvalues\n",
        "    lam_K_u, _ = np.linalg.eig(K_u)\n",
        "    lam_K_ut, _ = np.linalg.eig(K_ut)\n",
        "    lam_K_r, _ = np.linalg.eig(K_r)\n",
        "    # Sort in descresing order\n",
        "    lam_K_u = np.sort(np.real(lam_K_u))[::-1]\n",
        "    lam_K_ut = np.sort(np.real(lam_K_ut))[::-1]\n",
        "    lam_K_r = np.sort(np.real(lam_K_r))[::-1]\n",
        "    \n",
        "    # Store eigenvalues\n",
        "    lam_K_u_log.append(lam_K_u)\n",
        "    lam_K_ut_log.append(lam_K_ut)\n",
        "    lam_K_r_log.append(lam_K_r)"
      ]
    },
    {
      "cell_type": "code",
      "execution_count": null,
      "metadata": {
        "colab": {
          "base_uri": "https://localhost:8080/",
          "height": 408
        },
        "id": "vSn3Q_1IhisN",
        "outputId": "886908b3-c316-48d6-933f-81b1180ff954"
      },
      "outputs": [],
      "source": [
        "#  Eigenvalues of NTK\n",
        "fig = plt.figure(figsize=(18, 5))\n",
        "plt.subplot(1,3,1)\n",
        "\n",
        "plt.plot(lam_K_u_log[0], label = '$n=0$')\n",
        "plt.plot(lam_K_u_log[1], '--', label = '$n=10,000$')\n",
        "plt.plot(lam_K_u_log[4], '--', label = '$n=40,000$')\n",
        "plt.plot(lam_K_u_log[-1], '--', label = '$n=80,000$')\n",
        "plt.xscale('log')\n",
        "plt.yscale('log')\n",
        "\n",
        "plt.title(r'Eigenvalues of ${K}_u$')\n",
        "\n",
        "plt.subplot(1,3,2)\n",
        "plt.plot(lam_K_ut_log[0], label = '$n=0$')\n",
        "plt.plot(lam_K_ut_log[1], '--',label = '$n=10,000$')\n",
        "plt.plot(lam_K_ut_log[4], '--', label = '$n=40,000$')\n",
        "plt.plot(lam_K_ut_log[-1], '--', label = '$n=80,000$')\n",
        "plt.xscale('log')\n",
        "plt.yscale('log')\n",
        "plt.title(r'Eigenvalues of ${K}_{u_t}$')\n",
        "\n",
        "ax =plt.subplot(1,3,3)\n",
        "plt.plot(lam_K_r_log[0], label = '$n=0$')\n",
        "plt.plot(lam_K_r_log[1], '--', label = '$n=10,000$')\n",
        "plt.plot(lam_K_r_log[4], '--', label = '$n=40,000$')\n",
        "plt.plot(lam_K_r_log[-1], '--', label = '$n=80,000$')\n",
        "plt.xscale('log')\n",
        "plt.yscale('log')\n",
        "plt.title(r'Eigenvalues of ${K}_{r}$')\n",
        "handles, labels = ax.get_legend_handles_labels()\n",
        "fig.legend(handles, labels, loc=\"upper left\", bbox_to_anchor=(0.35, -0.02),\n",
        "            borderaxespad=0, bbox_transform=fig.transFigure, ncol=4)\n",
        "plt.tight_layout()\n",
        "plt.show()"
      ]
    },
    {
      "cell_type": "markdown",
      "metadata": {
        "id": "bbUn_fcowojl"
      },
      "source": [
        "**Evolution of NTK Weights**"
      ]
    },
    {
      "cell_type": "code",
      "execution_count": null,
      "metadata": {
        "id": "MYbzkhfMjJ8k"
      },
      "outputs": [],
      "source": [
        "if update_lam == True:\n",
        "\n",
        "  lam_u_log = model.lam_u_log\n",
        "  lam_ut_log = model.lam_ut_log\n",
        "  lam_r_log = model.lam_r_log"
      ]
    },
    {
      "cell_type": "code",
      "execution_count": null,
      "metadata": {
        "colab": {
          "base_uri": "https://localhost:8080/",
          "height": 369
        },
        "id": "xzFzPCA2w1ML",
        "outputId": "71452cf9-3ebb-4aeb-9708-c7664b88e65d"
      },
      "outputs": [],
      "source": [
        "fig = plt.figure(figsize=(6, 5))\n",
        "plt.plot(lam_u_log, label='$\\lambda_u$')\n",
        "plt.plot(lam_ut_log, label='$\\lambda_{u_t}$')\n",
        "plt.plot(lam_r_log, label='$\\lambda_{r}$')\n",
        "plt.xlabel('iterations')\n",
        "plt.ylabel('$\\lambda$')\n",
        "plt.yscale('log')\n",
        "plt.legend( )\n",
        "plt.tight_layout()\n",
        "plt.show()"
      ]
    },
    {
      "cell_type": "code",
      "execution_count": null,
      "metadata": {
        "id": "mimIv2Z5xlip"
      },
      "outputs": [],
      "source": []
    }
  ],
  "metadata": {
    "accelerator": "GPU",
    "colab": {
      "name": "PINNsNTK_Wave.ipynb",
      "provenance": []
    },
    "kernelspec": {
      "display_name": "Python 3",
      "name": "python3"
    },
    "language_info": {
      "codemirror_mode": {
        "name": "ipython",
        "version": 3
      },
      "file_extension": ".py",
      "mimetype": "text/x-python",
      "name": "python",
      "nbconvert_exporter": "python",
      "pygments_lexer": "ipython3",
      "version": "3.7.13"
    }
  },
  "nbformat": 4,
  "nbformat_minor": 0
}
