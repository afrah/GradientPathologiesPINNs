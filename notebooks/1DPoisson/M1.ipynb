{
  "cells": [
    {
      "cell_type": "code",
      "execution_count": 1,
      "metadata": {
        "id": "7WkCgnRiYQSY"
      },
      "outputs": [
        {
          "name": "stdout",
          "output_type": "stream",
          "text": [
            "src_path= /home/vlq26735/code/PhD/GradientPathologiesPINNs\n"
          ]
        }
      ],
      "source": [
        "%load_ext autoreload\n",
        "%autoreload 2\n",
        "\n",
        "import os\n",
        "\n",
        "\n",
        "import sys\n",
        "\n",
        "import scipy\n",
        "import scipy.io\n",
        "import time\n",
        "\n",
        "import os.path\n",
        "import warnings\n",
        "warnings.filterwarnings('ignore')\n",
        "os.environ[\"KMP_WARNINGS\"] = \"FALSE\"\n",
        "\n",
        "\n",
        "import tensorflow as tf\n",
        "import numpy as np\n",
        "from scipy.interpolate import griddata\n",
        "import matplotlib.pyplot as plt\n",
        "\n",
        "CHECKPOINT_PATH = \"/home/vlq26735/code/PhD/GradientPathologiesPINNs/checkpoints/1DPoisson/\"\n",
        "MODE = \"M1\"\n",
        "\n",
        "src_path = os.path.abspath(os.path.join('../../'))\n",
        "print(f\"src_path= {src_path}\")\n",
        "\n",
        "if src_path not in sys.path:\n",
        "    sys.path.insert(0, src_path)\n",
        "\n",
        "\n",
        "# op_dir, log_file = common.make_output_dir(CHECKPOINT_PATH, MODE)\n",
        "# print(f\"op_dir = {op_dir} \\nlog_file = {log_file}\")\n",
        "\n",
        "from src.cases.Poisson import M1\n",
        "\n"
      ]
    },
    {
      "cell_type": "code",
      "execution_count": 2,
      "metadata": {
        "id": "-y7cHTcJfBTR"
      },
      "outputs": [],
      "source": [
        "class Sampler:\n",
        "    # Initialize the class\n",
        "    def __init__(self, dim, coords, func, name=None):\n",
        "        self.dim = dim\n",
        "        self.coords = coords\n",
        "        self.func = func\n",
        "        self.name = name\n",
        "\n",
        "    def sample(self, N):\n",
        "        x = self.coords[0:1, :] + (self.coords[1:2, :] - self.coords[0:1, :]) * np.random.rand(N, self.dim)\n",
        "        y = self.func(x)\n",
        "        return x, y"
      ]
    },
    {
      "cell_type": "code",
      "execution_count": null,
      "metadata": {},
      "outputs": [],
      "source": []
    },
    {
      "cell_type": "code",
      "execution_count": 3,
      "metadata": {
        "id": "FN1jEdRwY90i"
      },
      "outputs": [],
      "source": [
        "# Define solution and its Laplace\n",
        "a = 4\n",
        "\n",
        "def u(x, a):\n",
        "  return np.sin(np.pi * a * x)\n",
        "\n",
        "def u_xx(x, a):\n",
        "  return -(np.pi * a)**2 * np.sin(np.pi * a * x)"
      ]
    },
    {
      "cell_type": "code",
      "execution_count": null,
      "metadata": {},
      "outputs": [],
      "source": []
    },
    {
      "cell_type": "code",
      "execution_count": 4,
      "metadata": {},
      "outputs": [
        {
          "name": "stdout",
          "output_type": "stream",
          "text": [
            "WARNING:tensorflow:From /tmp/ipykernel_1481852/3130679332.py:39: The name tf.GPUOptions is deprecated. Please use tf.compat.v1.GPUOptions instead.\n",
            "\n",
            "WARNING:tensorflow:From /tmp/ipykernel_1481852/3130679332.py:40: The name tf.reset_default_graph is deprecated. Please use tf.compat.v1.reset_default_graph instead.\n",
            "\n",
            "WARNING:tensorflow:From /tmp/ipykernel_1481852/3130679332.py:41: The name tf.Session is deprecated. Please use tf.compat.v1.Session instead.\n",
            "\n",
            "WARNING:tensorflow:From /tmp/ipykernel_1481852/3130679332.py:41: The name tf.ConfigProto is deprecated. Please use tf.compat.v1.ConfigProto instead.\n",
            "\n",
            "WARNING:tensorflow:From /home/vlq26735/code/PhD/GradientPathologiesPINNs/src/cases/Poisson/M1.py:164: The name tf.truncated_normal is deprecated. Please use tf.random.truncated_normal instead.\n",
            "\n"
          ]
        },
        {
          "name": "stderr",
          "output_type": "stream",
          "text": [
            "2024-02-27 15:52:43.801090: I tensorflow/core/platform/cpu_feature_guard.cc:145] This TensorFlow binary is optimized with Intel(R) MKL-DNN to use the following CPU instructions in performance critical operations:  SSE4.1 SSE4.2 AVX AVX2 FMA\n",
            "To enable them in non-MKL-DNN operations, rebuild TensorFlow with the appropriate compiler flags.\n",
            "2024-02-27 15:52:43.882755: I tensorflow/core/platform/profile_utils/cpu_utils.cc:94] CPU Frequency: 2445400000 Hz\n",
            "2024-02-27 15:52:43.883473: I tensorflow/compiler/xla/service/service.cc:168] XLA service 0x55b20efdbae0 initialized for platform Host (this does not guarantee that XLA will be used). Devices:\n",
            "2024-02-27 15:52:43.883509: I tensorflow/compiler/xla/service/service.cc:176]   StreamExecutor device (0): Host, Default Version\n",
            "2024-02-27 15:52:43.883709: I tensorflow/core/common_runtime/process_util.cc:115] Creating new thread pool with default inter op setting: 2. Tune using inter_op_parallelism_threads for best performance.\n"
          ]
        },
        {
          "name": "stdout",
          "output_type": "stream",
          "text": [
            "WARNING:tensorflow:From /home/vlq26735/code/PhD/GradientPathologiesPINNs/src/cases/Poisson/M1.py:47: The name tf.placeholder is deprecated. Please use tf.compat.v1.placeholder instead.\n",
            "\n",
            "WARNING:tensorflow:From /home/vlq26735/code/PhD/GradientPathologiesPINNs/src/cases/Poisson/M1.py:82: The name tf.train.exponential_decay is deprecated. Please use tf.compat.v1.train.exponential_decay instead.\n",
            "\n",
            "WARNING:tensorflow:From /home/vlq26735/code/PhD/GradientPathologiesPINNs/src/cases/Poisson/M1.py:87: The name tf.train.AdamOptimizer is deprecated. Please use tf.compat.v1.train.AdamOptimizer instead.\n",
            "\n",
            "WARNING:tensorflow:From /home/vlq26735/code/PhD/GradientPathologiesPINNs/src/cases/Poisson/M1.py:144: The name tf.global_variables_initializer is deprecated. Please use tf.compat.v1.global_variables_initializer instead.\n",
            "\n"
          ]
        },
        {
          "name": "stderr",
          "output_type": "stream",
          "text": [
            "Using mode: M1\n",
            "neural network: [1, 500, 500, 1]\n",
            "Bc1 Training data size : 50\n",
            "Bc2 Training data size : 50\n",
            "interior Training data size : 100\n",
            "Activation function: tanh\n",
            "number of iterations: 40001\n",
            "starter_learning_rate: 1.0000e-05\n",
            "Method desciption : gradual learing rate , with  mini_batch batch. \n"
          ]
        }
      ],
      "source": [
        "# Define computional domain\n",
        "bc1_coords = np.array([[0.0], [0.0]])\n",
        "bc2_coords = np.array([[1.0], [1.0]])\n",
        "dom_coords = np.array([[0.0], [1.0]])\n",
        "\n",
        "# Training data on u(x) -- Dirichlet boundary conditions\n",
        "\n",
        "nn  = 100\n",
        "\n",
        "X_bc1 = dom_coords[0, 0] * np.ones((nn // 2, 1))\n",
        "X_bc2 = dom_coords[1, 0] * np.ones((nn // 2, 1))\n",
        "X_u = np.vstack([X_bc1, X_bc2])\n",
        "Y_u = u(X_u, a)\n",
        "\n",
        "X_r = np.linspace(dom_coords[0, 0], dom_coords[1, 0], nn)[:, None]\n",
        "Y_r = u_xx(X_r, a)\n",
        "\n",
        "nn = 1000\n",
        "X_star = np.linspace(dom_coords[0, 0], dom_coords[1, 0], nn)[:, None]\n",
        "u_star = u(X_star, a)\n",
        "r_star = u_xx(X_star, a)\n",
        "\n",
        "nIter =40001\n",
        "bcbatch_size = 500\n",
        "ubatch_size = 5000\n",
        "mbbatch_size = 128\n",
        "\n",
        "\n",
        "\n",
        "# Define model\n",
        "mode = 'M1'\n",
        "layers = [1, 500, 500 , 1]\n",
        "starter_learning_rate = 1.0e-5\n",
        "\n",
        "# Create residual sampler\n",
        "gpu_options = tf.GPUOptions(visible_device_list=\"0\")\n",
        "tf.reset_default_graph()\n",
        "sess = tf.Session(config=tf.ConfigProto(gpu_options=gpu_options,allow_soft_placement=False, log_device_placement=False))\n",
        "# with  as sess:\n",
        "\n",
        "model = M1.Possion_M1(layers, X_u, Y_u, X_r, Y_r , mode , starter_learning_rate , CHECKPOINT_PATH , sess)    \n",
        "\n",
        "\n",
        "model.print(\"Using mode: \" , model.mode)\n",
        "model.print(\"neural network: \" , model.layers )\n",
        "model.print(\"Bc1 Training data size : \" ,X_bc1.shape[0])\n",
        "model.print(\"Bc2 Training data size : \" ,X_bc2.shape[0])\n",
        "model.print(\"interior Training data size : \" ,X_r.shape[0])\n",
        "\n",
        "model.print(\"Activation function: \" , activFun)\n",
        "model.print(\"number of iterations: \" , nIter)\n",
        "model.print(\"starter_learning_rate: \" , starter_learning_rate)\n",
        "\n",
        "model.print(\"Method desciption : gradual learing rate , with  \" , method ,\" batch. \")\n"
      ]
    },
    {
      "cell_type": "code",
      "execution_count": 5,
      "metadata": {},
      "outputs": [
        {
          "name": "stdout",
          "output_type": "stream",
          "text": [
            "mini_batch method is used\n"
          ]
        },
        {
          "name": "stderr",
          "output_type": "stream",
          "text": [
            "It: 0, Loss: 1.234e+04, Loss_bcs: 3.020e-01, Loss_res: 1.234e+04 ,Time: 17.87\n",
            "mean_grad_bcs: 1.9829e-01\n",
            "mean_grad_res: 1.5759e-01\n",
            "Gradients information stored ...\n",
            "It: 100, Loss: 1.234e+04, Loss_bcs: 2.299e-02, Loss_res: 1.234e+04 ,Time: 75.75\n",
            "Gradients information stored ...\n",
            "It: 200, Loss: 1.234e+04, Loss_bcs: 1.047e-01, Loss_res: 1.234e+04 ,Time: 113.97\n",
            "It: 300, Loss: 1.233e+04, Loss_bcs: 3.189e-01, Loss_res: 1.233e+04 ,Time: 125.99\n",
            "It: 400, Loss: 1.231e+04, Loss_bcs: 8.440e-01, Loss_res: 1.231e+04 ,Time: 136.06\n",
            "It: 500, Loss: 1.228e+04, Loss_bcs: 1.980e+00, Loss_res: 1.228e+04 ,Time: 142.64\n",
            "It: 600, Loss: 1.223e+04, Loss_bcs: 4.071e+00, Loss_res: 1.222e+04 ,Time: 148.46\n",
            "It: 700, Loss: 1.213e+04, Loss_bcs: 7.410e+00, Loss_res: 1.212e+04 ,Time: 153.63\n",
            "It: 800, Loss: 1.198e+04, Loss_bcs: 1.201e+01, Loss_res: 1.197e+04 ,Time: 159.25\n",
            "It: 900, Loss: 1.180e+04, Loss_bcs: 1.762e+01, Loss_res: 1.179e+04 ,Time: 167.22\n",
            "It: 1000, Loss: 1.162e+04, Loss_bcs: 2.377e+01, Loss_res: 1.159e+04 ,Time: 174.81\n",
            "mean_grad_bcs: 1.3432e+00\n",
            "mean_grad_res: 2.1250e+01\n",
            "Gradients information stored ...\n",
            "It: 1100, Loss: 1.145e+04, Loss_bcs: 2.987e+01, Loss_res: 1.142e+04 ,Time: 37.84\n",
            "It: 1200, Loss: 1.132e+04, Loss_bcs: 3.513e+01, Loss_res: 1.129e+04 ,Time: 44.53\n",
            "It: 1300, Loss: 1.123e+04, Loss_bcs: 3.791e+01, Loss_res: 1.119e+04 ,Time: 50.86\n",
            "It: 1400, Loss: 1.112e+04, Loss_bcs: 3.824e+01, Loss_res: 1.109e+04 ,Time: 57.28\n",
            "It: 1500, Loss: 1.099e+04, Loss_bcs: 3.845e+01, Loss_res: 1.095e+04 ,Time: 62.72\n",
            "It: 1600, Loss: 1.081e+04, Loss_bcs: 3.932e+01, Loss_res: 1.077e+04 ,Time: 69.99\n",
            "It: 1700, Loss: 1.055e+04, Loss_bcs: 4.147e+01, Loss_res: 1.051e+04 ,Time: 75.47\n",
            "It: 1800, Loss: 1.019e+04, Loss_bcs: 4.530e+01, Loss_res: 1.015e+04 ,Time: 85.40\n",
            "It: 1900, Loss: 9.730e+03, Loss_bcs: 5.098e+01, Loss_res: 9.679e+03 ,Time: 96.82\n",
            "It: 2000, Loss: 9.175e+03, Loss_bcs: 5.844e+01, Loss_res: 9.116e+03 ,Time: 103.04\n",
            "mean_grad_bcs: 2.5388e+00\n",
            "mean_grad_res: 7.8731e+01\n",
            "It: 2100, Loss: 8.560e+03, Loss_bcs: 6.743e+01, Loss_res: 8.493e+03 ,Time: 5.50\n",
            "It: 2200, Loss: 7.929e+03, Loss_bcs: 7.786e+01, Loss_res: 7.851e+03 ,Time: 11.67\n",
            "It: 2300, Loss: 7.306e+03, Loss_bcs: 9.153e+01, Loss_res: 7.215e+03 ,Time: 17.64\n",
            "It: 2400, Loss: 6.678e+03, Loss_bcs: 1.097e+02, Loss_res: 6.569e+03 ,Time: 23.66\n",
            "It: 2500, Loss: 6.016e+03, Loss_bcs: 1.253e+02, Loss_res: 5.891e+03 ,Time: 29.18\n",
            "It: 2600, Loss: 5.345e+03, Loss_bcs: 1.337e+02, Loss_res: 5.211e+03 ,Time: 37.74\n",
            "It: 2700, Loss: 4.702e+03, Loss_bcs: 1.372e+02, Loss_res: 4.564e+03 ,Time: 46.22\n",
            "It: 2800, Loss: 4.099e+03, Loss_bcs: 1.395e+02, Loss_res: 3.960e+03 ,Time: 51.94\n",
            "It: 2900, Loss: 3.511e+03, Loss_bcs: 1.409e+02, Loss_res: 3.370e+03 ,Time: 57.54\n",
            "It: 3000, Loss: 2.737e+03, Loss_bcs: 1.389e+02, Loss_res: 2.598e+03 ,Time: 66.91\n",
            "mean_grad_bcs: 5.3211e+00\n",
            "mean_grad_res: 1.3067e+02\n",
            "It: 3100, Loss: 1.973e+03, Loss_bcs: 1.357e+02, Loss_res: 1.838e+03 ,Time: 10.40\n",
            "It: 3200, Loss: 1.511e+03, Loss_bcs: 1.335e+02, Loss_res: 1.377e+03 ,Time: 17.98\n",
            "It: 3300, Loss: 1.129e+03, Loss_bcs: 1.303e+02, Loss_res: 9.985e+02 ,Time: 27.93\n",
            "It: 3400, Loss: 8.189e+02, Loss_bcs: 1.263e+02, Loss_res: 6.926e+02 ,Time: 37.98\n",
            "It: 3500, Loss: 6.423e+02, Loss_bcs: 1.224e+02, Loss_res: 5.199e+02 ,Time: 48.39\n",
            "It: 3600, Loss: 5.259e+02, Loss_bcs: 1.183e+02, Loss_res: 4.076e+02 ,Time: 57.45\n",
            "It: 3700, Loss: 4.489e+02, Loss_bcs: 1.141e+02, Loss_res: 3.347e+02 ,Time: 65.87\n",
            "It: 3800, Loss: 4.029e+02, Loss_bcs: 1.102e+02, Loss_res: 2.927e+02 ,Time: 73.42\n",
            "It: 3900, Loss: 3.723e+02, Loss_bcs: 1.064e+02, Loss_res: 2.659e+02 ,Time: 79.90\n",
            "It: 4000, Loss: 3.483e+02, Loss_bcs: 1.028e+02, Loss_res: 2.455e+02 ,Time: 86.25\n",
            "mean_grad_bcs: 4.9698e+00\n",
            "mean_grad_res: 1.9191e+01\n",
            "It: 4100, Loss: 3.287e+02, Loss_bcs: 9.930e+01, Loss_res: 2.294e+02 ,Time: 10.12\n",
            "It: 4200, Loss: 3.115e+02, Loss_bcs: 9.597e+01, Loss_res: 2.155e+02 ,Time: 19.08\n",
            "It: 4300, Loss: 2.958e+02, Loss_bcs: 9.278e+01, Loss_res: 2.030e+02 ,Time: 24.53\n",
            "It: 4400, Loss: 2.808e+02, Loss_bcs: 8.968e+01, Loss_res: 1.912e+02 ,Time: 32.74\n",
            "It: 4500, Loss: 2.607e+02, Loss_bcs: 8.625e+01, Loss_res: 1.744e+02 ,Time: 38.14\n",
            "It: 4600, Loss: 2.385e+02, Loss_bcs: 8.251e+01, Loss_res: 1.560e+02 ,Time: 46.52\n",
            "It: 4700, Loss: 2.237e+02, Loss_bcs: 7.936e+01, Loss_res: 1.443e+02 ,Time: 55.00\n",
            "It: 4800, Loss: 2.131e+02, Loss_bcs: 7.675e+01, Loss_res: 1.363e+02 ,Time: 65.27\n",
            "It: 4900, Loss: 2.034e+02, Loss_bcs: 7.439e+01, Loss_res: 1.290e+02 ,Time: 73.38\n",
            "It: 5000, Loss: 1.937e+02, Loss_bcs: 7.213e+01, Loss_res: 1.216e+02 ,Time: 78.74\n",
            "mean_grad_bcs: 4.0025e+00\n",
            "mean_grad_res: 8.1083e+00\n",
            "It: 5100, Loss: 1.821e+02, Loss_bcs: 6.971e+01, Loss_res: 1.124e+02 ,Time: 5.24\n",
            "It: 5200, Loss: 1.703e+02, Loss_bcs: 6.723e+01, Loss_res: 1.030e+02 ,Time: 13.40\n",
            "It: 5300, Loss: 1.612e+02, Loss_bcs: 6.506e+01, Loss_res: 9.614e+01 ,Time: 19.58\n",
            "It: 5400, Loss: 1.523e+02, Loss_bcs: 6.301e+01, Loss_res: 8.930e+01 ,Time: 24.87\n",
            "It: 5500, Loss: 1.429e+02, Loss_bcs: 6.091e+01, Loss_res: 8.198e+01 ,Time: 30.04\n",
            "It: 5600, Loss: 1.351e+02, Loss_bcs: 5.901e+01, Loss_res: 7.609e+01 ,Time: 40.76\n",
            "It: 5700, Loss: 1.279e+02, Loss_bcs: 5.724e+01, Loss_res: 7.062e+01 ,Time: 48.35\n",
            "It: 5800, Loss: 1.197e+02, Loss_bcs: 5.538e+01, Loss_res: 6.434e+01 ,Time: 59.83\n",
            "It: 5900, Loss: 1.109e+02, Loss_bcs: 5.340e+01, Loss_res: 5.746e+01 ,Time: 71.22\n",
            "It: 6000, Loss: 1.038e+02, Loss_bcs: 5.161e+01, Loss_res: 5.219e+01 ,Time: 76.96\n",
            "mean_grad_bcs: 3.2445e+00\n",
            "mean_grad_res: 5.8384e+00\n",
            "It: 6100, Loss: 9.696e+01, Loss_bcs: 4.986e+01, Loss_res: 4.711e+01 ,Time: 7.64\n",
            "It: 6200, Loss: 9.023e+01, Loss_bcs: 4.807e+01, Loss_res: 4.216e+01 ,Time: 14.38\n",
            "It: 6300, Loss: 8.378e+01, Loss_bcs: 4.629e+01, Loss_res: 3.749e+01 ,Time: 19.78\n",
            "It: 6400, Loss: 7.828e+01, Loss_bcs: 4.465e+01, Loss_res: 3.363e+01 ,Time: 25.16\n"
          ]
        },
        {
          "ename": "KeyboardInterrupt",
          "evalue": "",
          "output_type": "error",
          "traceback": [
            "\u001b[0;31m---------------------------------------------------------------------------\u001b[0m",
            "\u001b[0;31mKeyboardInterrupt\u001b[0m                         Traceback (most recent call last)",
            "\u001b[0;32m/tmp/ipykernel_1481852/1146270272.py\u001b[0m in \u001b[0;36m<module>\u001b[0;34m\u001b[0m\n\u001b[1;32m      3\u001b[0m \u001b[0;34m\u001b[0m\u001b[0m\n\u001b[1;32m      4\u001b[0m \u001b[0mprint\u001b[0m\u001b[0;34m(\u001b[0m\u001b[0;34m\"mini_batch method is used\"\u001b[0m\u001b[0;34m)\u001b[0m\u001b[0;34m\u001b[0m\u001b[0;34m\u001b[0m\u001b[0m\n\u001b[0;32m----> 5\u001b[0;31m \u001b[0mmodel\u001b[0m\u001b[0;34m.\u001b[0m\u001b[0mtrainmb\u001b[0m\u001b[0;34m(\u001b[0m\u001b[0mnIter\u001b[0m\u001b[0;34m,\u001b[0m \u001b[0mmbbatch_size\u001b[0m\u001b[0;34m)\u001b[0m\u001b[0;34m\u001b[0m\u001b[0;34m\u001b[0m\u001b[0m\n\u001b[0m\u001b[1;32m      6\u001b[0m \u001b[0melapsed\u001b[0m \u001b[0;34m=\u001b[0m \u001b[0mtime\u001b[0m\u001b[0;34m.\u001b[0m\u001b[0mtime\u001b[0m\u001b[0;34m(\u001b[0m\u001b[0;34m)\u001b[0m \u001b[0;34m-\u001b[0m \u001b[0mstart_time\u001b[0m\u001b[0;34m\u001b[0m\u001b[0;34m\u001b[0m\u001b[0m\n\u001b[1;32m      7\u001b[0m \u001b[0;34m\u001b[0m\u001b[0m\n",
            "\u001b[0;32m~/code/PhD/GradientPathologiesPINNs/src/cases/Poisson/M1.py\u001b[0m in \u001b[0;36mtrainmb\u001b[0;34m(self, nIter, batch_size, log_NTK, log_weights)\u001b[0m\n\u001b[1;32m    228\u001b[0m         \u001b[0;32mfor\u001b[0m \u001b[0mit\u001b[0m \u001b[0;32min\u001b[0m \u001b[0mrange\u001b[0m\u001b[0;34m(\u001b[0m\u001b[0mnIter\u001b[0m\u001b[0;34m)\u001b[0m\u001b[0;34m:\u001b[0m\u001b[0;34m\u001b[0m\u001b[0;34m\u001b[0m\u001b[0m\n\u001b[1;32m    229\u001b[0m             \u001b[0;31m# print(self.lam_bc_tf.shape)\u001b[0m\u001b[0;34m\u001b[0m\u001b[0;34m\u001b[0m\u001b[0;34m\u001b[0m\u001b[0m\n\u001b[0;32m--> 230\u001b[0;31m             \u001b[0m_\u001b[0m\u001b[0;34m,\u001b[0m \u001b[0mbatch_losses\u001b[0m \u001b[0;34m=\u001b[0m \u001b[0mself\u001b[0m\u001b[0;34m.\u001b[0m\u001b[0msess\u001b[0m\u001b[0;34m.\u001b[0m\u001b[0mrun\u001b[0m\u001b[0;34m(\u001b[0m\u001b[0;34m[\u001b[0m\u001b[0mself\u001b[0m\u001b[0;34m.\u001b[0m\u001b[0mtrain_op\u001b[0m\u001b[0;34m,\u001b[0m \u001b[0mself\u001b[0m\u001b[0;34m.\u001b[0m\u001b[0mloss_tensor_list\u001b[0m\u001b[0;34m]\u001b[0m \u001b[0;34m,\u001b[0m\u001b[0mtf_dict\u001b[0m\u001b[0;34m)\u001b[0m\u001b[0;34m\u001b[0m\u001b[0;34m\u001b[0m\u001b[0m\n\u001b[0m\u001b[1;32m    231\u001b[0m             \u001b[0mself\u001b[0m\u001b[0;34m.\u001b[0m\u001b[0massign_batch_losses\u001b[0m\u001b[0;34m(\u001b[0m\u001b[0mbatch_losses\u001b[0m\u001b[0;34m)\u001b[0m\u001b[0;34m\u001b[0m\u001b[0;34m\u001b[0m\u001b[0m\n\u001b[1;32m    232\u001b[0m             \u001b[0;32mfor\u001b[0m \u001b[0mkey\u001b[0m \u001b[0;32min\u001b[0m \u001b[0mself\u001b[0m\u001b[0;34m.\u001b[0m\u001b[0mloss_history\u001b[0m\u001b[0;34m:\u001b[0m\u001b[0;34m\u001b[0m\u001b[0;34m\u001b[0m\u001b[0m\n",
            "\u001b[0;32m~/miniconda3/envs/afrah-pinn/lib/python3.7/site-packages/tensorflow_core/python/client/session.py\u001b[0m in \u001b[0;36mrun\u001b[0;34m(self, fetches, feed_dict, options, run_metadata)\u001b[0m\n\u001b[1;32m    954\u001b[0m     \u001b[0;32mtry\u001b[0m\u001b[0;34m:\u001b[0m\u001b[0;34m\u001b[0m\u001b[0;34m\u001b[0m\u001b[0m\n\u001b[1;32m    955\u001b[0m       result = self._run(None, fetches, feed_dict, options_ptr,\n\u001b[0;32m--> 956\u001b[0;31m                          run_metadata_ptr)\n\u001b[0m\u001b[1;32m    957\u001b[0m       \u001b[0;32mif\u001b[0m \u001b[0mrun_metadata\u001b[0m\u001b[0;34m:\u001b[0m\u001b[0;34m\u001b[0m\u001b[0;34m\u001b[0m\u001b[0m\n\u001b[1;32m    958\u001b[0m         \u001b[0mproto_data\u001b[0m \u001b[0;34m=\u001b[0m \u001b[0mtf_session\u001b[0m\u001b[0;34m.\u001b[0m\u001b[0mTF_GetBuffer\u001b[0m\u001b[0;34m(\u001b[0m\u001b[0mrun_metadata_ptr\u001b[0m\u001b[0;34m)\u001b[0m\u001b[0;34m\u001b[0m\u001b[0;34m\u001b[0m\u001b[0m\n",
            "\u001b[0;32m~/miniconda3/envs/afrah-pinn/lib/python3.7/site-packages/tensorflow_core/python/client/session.py\u001b[0m in \u001b[0;36m_run\u001b[0;34m(self, handle, fetches, feed_dict, options, run_metadata)\u001b[0m\n\u001b[1;32m   1178\u001b[0m     \u001b[0;32mif\u001b[0m \u001b[0mfinal_fetches\u001b[0m \u001b[0;32mor\u001b[0m \u001b[0mfinal_targets\u001b[0m \u001b[0;32mor\u001b[0m \u001b[0;34m(\u001b[0m\u001b[0mhandle\u001b[0m \u001b[0;32mand\u001b[0m \u001b[0mfeed_dict_tensor\u001b[0m\u001b[0;34m)\u001b[0m\u001b[0;34m:\u001b[0m\u001b[0;34m\u001b[0m\u001b[0;34m\u001b[0m\u001b[0m\n\u001b[1;32m   1179\u001b[0m       results = self._do_run(handle, final_targets, final_fetches,\n\u001b[0;32m-> 1180\u001b[0;31m                              feed_dict_tensor, options, run_metadata)\n\u001b[0m\u001b[1;32m   1181\u001b[0m     \u001b[0;32melse\u001b[0m\u001b[0;34m:\u001b[0m\u001b[0;34m\u001b[0m\u001b[0;34m\u001b[0m\u001b[0m\n\u001b[1;32m   1182\u001b[0m       \u001b[0mresults\u001b[0m \u001b[0;34m=\u001b[0m \u001b[0;34m[\u001b[0m\u001b[0;34m]\u001b[0m\u001b[0;34m\u001b[0m\u001b[0;34m\u001b[0m\u001b[0m\n",
            "\u001b[0;32m~/miniconda3/envs/afrah-pinn/lib/python3.7/site-packages/tensorflow_core/python/client/session.py\u001b[0m in \u001b[0;36m_do_run\u001b[0;34m(self, handle, target_list, fetch_list, feed_dict, options, run_metadata)\u001b[0m\n\u001b[1;32m   1357\u001b[0m     \u001b[0;32mif\u001b[0m \u001b[0mhandle\u001b[0m \u001b[0;32mis\u001b[0m \u001b[0;32mNone\u001b[0m\u001b[0;34m:\u001b[0m\u001b[0;34m\u001b[0m\u001b[0;34m\u001b[0m\u001b[0m\n\u001b[1;32m   1358\u001b[0m       return self._do_call(_run_fn, feeds, fetches, targets, options,\n\u001b[0;32m-> 1359\u001b[0;31m                            run_metadata)\n\u001b[0m\u001b[1;32m   1360\u001b[0m     \u001b[0;32melse\u001b[0m\u001b[0;34m:\u001b[0m\u001b[0;34m\u001b[0m\u001b[0;34m\u001b[0m\u001b[0m\n\u001b[1;32m   1361\u001b[0m       \u001b[0;32mreturn\u001b[0m \u001b[0mself\u001b[0m\u001b[0;34m.\u001b[0m\u001b[0m_do_call\u001b[0m\u001b[0;34m(\u001b[0m\u001b[0m_prun_fn\u001b[0m\u001b[0;34m,\u001b[0m \u001b[0mhandle\u001b[0m\u001b[0;34m,\u001b[0m \u001b[0mfeeds\u001b[0m\u001b[0;34m,\u001b[0m \u001b[0mfetches\u001b[0m\u001b[0;34m)\u001b[0m\u001b[0;34m\u001b[0m\u001b[0;34m\u001b[0m\u001b[0m\n",
            "\u001b[0;32m~/miniconda3/envs/afrah-pinn/lib/python3.7/site-packages/tensorflow_core/python/client/session.py\u001b[0m in \u001b[0;36m_do_call\u001b[0;34m(self, fn, *args)\u001b[0m\n\u001b[1;32m   1363\u001b[0m   \u001b[0;32mdef\u001b[0m \u001b[0m_do_call\u001b[0m\u001b[0;34m(\u001b[0m\u001b[0mself\u001b[0m\u001b[0;34m,\u001b[0m \u001b[0mfn\u001b[0m\u001b[0;34m,\u001b[0m \u001b[0;34m*\u001b[0m\u001b[0margs\u001b[0m\u001b[0;34m)\u001b[0m\u001b[0;34m:\u001b[0m\u001b[0;34m\u001b[0m\u001b[0;34m\u001b[0m\u001b[0m\n\u001b[1;32m   1364\u001b[0m     \u001b[0;32mtry\u001b[0m\u001b[0;34m:\u001b[0m\u001b[0;34m\u001b[0m\u001b[0;34m\u001b[0m\u001b[0m\n\u001b[0;32m-> 1365\u001b[0;31m       \u001b[0;32mreturn\u001b[0m \u001b[0mfn\u001b[0m\u001b[0;34m(\u001b[0m\u001b[0;34m*\u001b[0m\u001b[0margs\u001b[0m\u001b[0;34m)\u001b[0m\u001b[0;34m\u001b[0m\u001b[0;34m\u001b[0m\u001b[0m\n\u001b[0m\u001b[1;32m   1366\u001b[0m     \u001b[0;32mexcept\u001b[0m \u001b[0merrors\u001b[0m\u001b[0;34m.\u001b[0m\u001b[0mOpError\u001b[0m \u001b[0;32mas\u001b[0m \u001b[0me\u001b[0m\u001b[0;34m:\u001b[0m\u001b[0;34m\u001b[0m\u001b[0;34m\u001b[0m\u001b[0m\n\u001b[1;32m   1367\u001b[0m       \u001b[0mmessage\u001b[0m \u001b[0;34m=\u001b[0m \u001b[0mcompat\u001b[0m\u001b[0;34m.\u001b[0m\u001b[0mas_text\u001b[0m\u001b[0;34m(\u001b[0m\u001b[0me\u001b[0m\u001b[0;34m.\u001b[0m\u001b[0mmessage\u001b[0m\u001b[0;34m)\u001b[0m\u001b[0;34m\u001b[0m\u001b[0;34m\u001b[0m\u001b[0m\n",
            "\u001b[0;32m~/miniconda3/envs/afrah-pinn/lib/python3.7/site-packages/tensorflow_core/python/client/session.py\u001b[0m in \u001b[0;36m_run_fn\u001b[0;34m(feed_dict, fetch_list, target_list, options, run_metadata)\u001b[0m\n\u001b[1;32m   1348\u001b[0m       \u001b[0mself\u001b[0m\u001b[0;34m.\u001b[0m\u001b[0m_extend_graph\u001b[0m\u001b[0;34m(\u001b[0m\u001b[0;34m)\u001b[0m\u001b[0;34m\u001b[0m\u001b[0;34m\u001b[0m\u001b[0m\n\u001b[1;32m   1349\u001b[0m       return self._call_tf_sessionrun(options, feed_dict, fetch_list,\n\u001b[0;32m-> 1350\u001b[0;31m                                       target_list, run_metadata)\n\u001b[0m\u001b[1;32m   1351\u001b[0m \u001b[0;34m\u001b[0m\u001b[0m\n\u001b[1;32m   1352\u001b[0m     \u001b[0;32mdef\u001b[0m \u001b[0m_prun_fn\u001b[0m\u001b[0;34m(\u001b[0m\u001b[0mhandle\u001b[0m\u001b[0;34m,\u001b[0m \u001b[0mfeed_dict\u001b[0m\u001b[0;34m,\u001b[0m \u001b[0mfetch_list\u001b[0m\u001b[0;34m)\u001b[0m\u001b[0;34m:\u001b[0m\u001b[0;34m\u001b[0m\u001b[0;34m\u001b[0m\u001b[0m\n",
            "\u001b[0;32m~/miniconda3/envs/afrah-pinn/lib/python3.7/site-packages/tensorflow_core/python/client/session.py\u001b[0m in \u001b[0;36m_call_tf_sessionrun\u001b[0;34m(self, options, feed_dict, fetch_list, target_list, run_metadata)\u001b[0m\n\u001b[1;32m   1441\u001b[0m     return tf_session.TF_SessionRun_wrapper(self._session, options, feed_dict,\n\u001b[1;32m   1442\u001b[0m                                             \u001b[0mfetch_list\u001b[0m\u001b[0;34m,\u001b[0m \u001b[0mtarget_list\u001b[0m\u001b[0;34m,\u001b[0m\u001b[0;34m\u001b[0m\u001b[0;34m\u001b[0m\u001b[0m\n\u001b[0;32m-> 1443\u001b[0;31m                                             run_metadata)\n\u001b[0m\u001b[1;32m   1444\u001b[0m \u001b[0;34m\u001b[0m\u001b[0m\n\u001b[1;32m   1445\u001b[0m   \u001b[0;32mdef\u001b[0m \u001b[0m_call_tf_sessionprun\u001b[0m\u001b[0;34m(\u001b[0m\u001b[0mself\u001b[0m\u001b[0;34m,\u001b[0m \u001b[0mhandle\u001b[0m\u001b[0;34m,\u001b[0m \u001b[0mfeed_dict\u001b[0m\u001b[0;34m,\u001b[0m \u001b[0mfetch_list\u001b[0m\u001b[0;34m)\u001b[0m\u001b[0;34m:\u001b[0m\u001b[0;34m\u001b[0m\u001b[0;34m\u001b[0m\u001b[0m\n",
            "\u001b[0;31mKeyboardInterrupt\u001b[0m: "
          ]
        }
      ],
      "source": [
        "\n",
        "# Train model\n",
        "start_time = time.time()\n",
        "\n",
        "print(\"mini_batch method is used\")\n",
        "model.trainmb(nIter, mbbatch_size)\n",
        "elapsed = time.time() - start_time\n",
        "\n",
        "# Predictions\n",
        "u_pred = model.predict_u(X_star)\n",
        "r_pred = model.predict_r(X_star)\n",
        "# Predictions\n",
        "\n",
        "error_u = np.linalg.norm(u_star - u_pred, 2) / np.linalg.norm(u_star, 2)\n",
        "error_r = np.linalg.norm(r_star - r_pred, 2) / np.linalg.norm(r_star, 2)\n",
        "\n",
        "model.print('elapsed: {:.2e}'.format(elapsed))\n",
        "\n",
        "model.print('Relative L2 error_u: {:.2e}'.format(error_u))\n",
        "model.print('Relative L2 error_r: {:.2e}'.format(error_r))\n",
        "\n",
        "\n",
        "model.print('mean value of lambda_bc: {:.2e}'.format(np.average(model.adaptive_constant_bcs_log)))\n",
        "model.print('first value of lambda_bc: {:.2e}'.format(model.adaptive_constant_bcs_log[0]))\n",
        "model.print('Relative L2 error_u: {:.2e}'.format(error_u))\n",
        "model.print('Relative L2 error_v: {:.2e}'.format(error_r))\n",
        "\n",
        "model.save_NN()\n",
        "model.plot_grad()\n",
        "model.plot_lambda()\n",
        "model.plt_prediction( X_star , u_star , u_pred)\n",
        "# sess.close()  \n",
        "    "
      ]
    },
    {
      "cell_type": "code",
      "execution_count": null,
      "metadata": {},
      "outputs": [],
      "source": []
    },
    {
      "cell_type": "code",
      "execution_count": 6,
      "metadata": {},
      "outputs": [
        {
          "name": "stderr",
          "output_type": "stream",
          "text": [
            "elapsed: 6.74e+02\n",
            "Relative L2 error_u: 5.40e+00\n",
            "Relative L2 error_r: 4.38e-02\n",
            "mean value of lambda_bc: 1.00e+00\n",
            "first value of lambda_bc: 1.00e+00\n",
            "Relative L2 error_u: 5.40e+00\n",
            "Relative L2 error_v: 4.38e-02\n",
            "Save uv NN parameters successfully in %s .../home/vlq26735/code/PhD/GradientPathologiesPINNs/checkpoints/1DPoisson/Feb-27-2024_15-52-43-884584_M1\n",
            "Final loss total loss: 7.398418e+01\n",
            "Final loss loss_res: 3.064724e+01\n",
            "Final loss loss_bcs: 4.333695e+01\n"
          ]
        }
      ],
      "source": [
        "elapsed = time.time() - start_time\n",
        "\n",
        "# Predictions\n",
        "u_pred = model.predict_u(X_star)\n",
        "r_pred = model.predict_r(X_star)\n",
        "# Predictions\n",
        "\n",
        "error_u = np.linalg.norm(u_star - u_pred, 2) / np.linalg.norm(u_star, 2)\n",
        "error_r = np.linalg.norm(r_star - r_pred, 2) / np.linalg.norm(r_star, 2)\n",
        "\n",
        "model.print('elapsed: {:.2e}'.format(elapsed))\n",
        "\n",
        "model.print('Relative L2 error_u: {:.2e}'.format(error_u))\n",
        "model.print('Relative L2 error_r: {:.2e}'.format(error_r))\n",
        "\n",
        "\n",
        "model.print('mean value of lambda_bc: {:.2e}'.format(np.average(model.adaptive_constant_bcs_log)))\n",
        "model.print('first value of lambda_bc: {:.2e}'.format(model.adaptive_constant_bcs_log[0]))\n",
        "model.print('Relative L2 error_u: {:.2e}'.format(error_u))\n",
        "model.print('Relative L2 error_v: {:.2e}'.format(error_r))\n",
        "\n",
        "model.save_NN()\n",
        "model.plot_grad()\n",
        "model.plot_lambda()\n",
        "model.plt_prediction( X_star , u_star , u_pred)"
      ]
    },
    {
      "cell_type": "code",
      "execution_count": 17,
      "metadata": {
        "id": "MYbzkhfMjJ8k"
      },
      "outputs": [],
      "source": [
        "import pickle\n",
        "import pandas as pd\n",
        "file = open(\"/home/vlq26735/code/PhD/GradientPathologiesPINNs/checkpoints/1DPoisson/Feb-26-2024_18-42-17-186118_M1/model.pickle\", 'rb')\n",
        "\n",
        "data  = pickle.load(file)"
      ]
    },
    {
      "cell_type": "code",
      "execution_count": 22,
      "metadata": {},
      "outputs": [
        {
          "data": {
            "text/plain": [
              "(1, 500)"
            ]
          },
          "execution_count": 22,
          "metadata": {},
          "output_type": "execute_result"
        }
      ],
      "source": [
        "pdData = pd.DataFrame(data)\n",
        "pdData[0][0].shape"
      ]
    },
    {
      "cell_type": "code",
      "execution_count": 23,
      "metadata": {},
      "outputs": [
        {
          "data": {
            "text/plain": [
              "(1, 500)"
            ]
          },
          "execution_count": 23,
          "metadata": {},
          "output_type": "execute_result"
        }
      ],
      "source": [
        "pdData[0][1].shape"
      ]
    },
    {
      "cell_type": "code",
      "execution_count": 25,
      "metadata": {},
      "outputs": [
        {
          "data": {
            "text/plain": [
              "(1, 500)"
            ]
          },
          "execution_count": 25,
          "metadata": {},
          "output_type": "execute_result"
        }
      ],
      "source": [
        "pdData[1][1].shape"
      ]
    },
    {
      "cell_type": "code",
      "execution_count": 26,
      "metadata": {},
      "outputs": [
        {
          "data": {
            "text/plain": [
              "(500, 500)"
            ]
          },
          "execution_count": 26,
          "metadata": {},
          "output_type": "execute_result"
        }
      ],
      "source": [
        "pdData[1][0].shape"
      ]
    },
    {
      "cell_type": "code",
      "execution_count": null,
      "metadata": {},
      "outputs": [],
      "source": []
    }
  ],
  "metadata": {
    "accelerator": "GPU",
    "colab": {
      "name": "PINNsNTK_Poisson.ipynb",
      "provenance": []
    },
    "kernelspec": {
      "display_name": "Python 3",
      "name": "python3"
    },
    "language_info": {
      "codemirror_mode": {
        "name": "ipython",
        "version": 3
      },
      "file_extension": ".py",
      "mimetype": "text/x-python",
      "name": "python",
      "nbconvert_exporter": "python",
      "pygments_lexer": "ipython3",
      "version": "3.7.0"
    }
  },
  "nbformat": 4,
  "nbformat_minor": 0
}
