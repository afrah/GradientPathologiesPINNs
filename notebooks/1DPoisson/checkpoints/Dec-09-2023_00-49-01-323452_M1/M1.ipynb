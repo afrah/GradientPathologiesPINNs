{
  "cells": [
    {
      "cell_type": "code",
      "execution_count": null,
      "metadata": {
        "colab": {
          "base_uri": "https://localhost:8080/"
        },
        "id": "OybZJApDYGsi",
        "outputId": "dc7cdffa-8613-42ee-86cc-0bc5000b2998"
      },
      "outputs": [],
      "source": [
        "# # Switch to tensorflow 1.x\n",
        "# %tensorflow_version 1.x"
      ]
    },
    {
      "cell_type": "code",
      "execution_count": 1,
      "metadata": {
        "id": "7WkCgnRiYQSY"
      },
      "outputs": [],
      "source": [
        "import tensorflow as tf\n",
        "from Compute_Jacobian import jacobian # Please download 'Compute_Jacobian.py' in the repository \n",
        "import numpy as np\n",
        "import timeit\n",
        "from scipy.interpolate import griddata\n",
        "import seaborn as sns\n",
        "import matplotlib.pyplot as plt\n",
        "import pandas as pd\n",
        "import os\n",
        "\n",
        "os.environ[\"KMP_WARNINGS\"] = \"FALSE\" \n",
        "import timeit\n",
        "\n",
        "import sys\n",
        "\n",
        "import scipy\n",
        "import scipy.io\n",
        "import time\n",
        "import logging\n",
        "\n",
        "import os.path\n",
        "import shutil\n",
        "from datetime import datetime\n",
        "import pickle\n"
      ]
    },
    {
      "cell_type": "code",
      "execution_count": 2,
      "metadata": {
        "id": "-y7cHTcJfBTR"
      },
      "outputs": [],
      "source": [
        "class Sampler:\n",
        "    # Initialize the class\n",
        "    def __init__(self, dim, coords, func, name=None):\n",
        "        self.dim = dim\n",
        "        self.coords = coords\n",
        "        self.func = func\n",
        "        self.name = name\n",
        "\n",
        "    def sample(self, N):\n",
        "        x = self.coords[0:1, :] + (self.coords[1:2, :] - self.coords[0:1, :]) * np.random.rand(N, self.dim)\n",
        "        y = self.func(x)\n",
        "        return x, y"
      ]
    },
    {
      "cell_type": "code",
      "execution_count": 3,
      "metadata": {
        "id": "SDqDWN3nfSAg"
      },
      "outputs": [],
      "source": [
        "class PINN:\n",
        "    def __init__(self, layers, X_u, Y_u, X_r, Y_r ,mode ,  sess):\n",
        "\n",
        "\n",
        "        self.mode = mode\n",
        "\n",
        "        self.dirname, logpath = self.make_output_dir()\n",
        "        self.logger = self.get_logger(logpath)     \n",
        "\n",
        "        self.mu_X, self.sigma_X = X_r.mean(0), X_r.std(0)\n",
        "        self.mu_x, self.sigma_x = self.mu_X[0], self.sigma_X[0]\n",
        "\n",
        "        # Normalize\n",
        "        self.X_u = (X_u - self.mu_X) / self.sigma_X\n",
        "        self.Y_u = Y_u\n",
        "        self.X_r = (X_r - self.mu_X) / self.sigma_X\n",
        "        self.Y_r = Y_r\n",
        "\n",
        "        # Initialize network weights and biases\n",
        "        self.layers = layers\n",
        "        self.weights, self.biases = self.initialize_NN(layers)\n",
        "            \n",
        "        # Define the size of the Kernel\n",
        "        self.kernel_size = X_u.shape[0]\n",
        "        # Define Tensorflow session\n",
        "        self.sess = sess# tf.Session(config=tf.ConfigProto(log_device_placement=False))\n",
        "\n",
        "        # Define placeholders and computational graph\n",
        "        self.x_u_tf = tf.placeholder(tf.float32, shape=(None, 1))\n",
        "        self.u_tf = tf.placeholder(tf.float32, shape=(None, 1))\n",
        "\n",
        "        self.x_bc_tf = tf.placeholder(tf.float32, shape=(None, 1))\n",
        "        self.u_bc_tf = tf.placeholder(tf.float32, shape=(None, 1))\n",
        "\n",
        "        self.x_r_tf = tf.placeholder(tf.float32, shape=(None, 1))\n",
        "        self.r_tf = tf.placeholder(tf.float32, shape=(None, 1))\n",
        "        \n",
        "        self.x_u_ntk_tf = tf.placeholder(tf.float32, shape=(self.kernel_size, 1))\n",
        "        self.x_r_ntk_tf = tf.placeholder(tf.float32, shape=(self.kernel_size, 1))\n",
        "\n",
        "\n",
        "        # Evaluate predictions\n",
        "        self.u_bc_pred = self.net_u(self.x_bc_tf)\n",
        "\n",
        "        self.u_pred = self.net_u(self.x_u_tf)\n",
        "        self.r_pred = self.net_r(self.x_r_tf)\n",
        "        \n",
        "        self.u_ntk_pred = self.net_u(self.x_u_ntk_tf)\n",
        "        self.r_ntk_pred = self.net_r(self.x_r_ntk_tf)\n",
        "     \n",
        "        # Boundary loss\n",
        "        self.loss_bcs = tf.reduce_mean(tf.square(self.u_bc_pred - self.u_bc_tf))\n",
        "\n",
        "        # Residual loss        \n",
        "        self.loss_res =  tf.reduce_mean(tf.square(self.r_tf - self.r_pred))\n",
        "        \n",
        "        # Total loss\n",
        "        self.loss = self.loss_res + 500 * self.loss_bcs\n",
        "\n",
        "        # Define optimizer with learning rate schedule\n",
        "        self.global_step = tf.Variable(0, trainable=False)\n",
        "        starter_learning_rate = 1e-5\n",
        "        self.learning_rate = tf.train.exponential_decay(starter_learning_rate, self.global_step, 1000, 0.9, staircase=False)\n",
        "        # Passing global_step to minimize() will increment it at each step.\n",
        "        # To compute NTK, it is better to use SGD optimizer\n",
        "        # since the corresponding gradient flow is not exactly same.\n",
        "        # self.train_op = tf.train.GradientDescentOptimizer(starter_learning_rate).minimize(self.loss)\n",
        "        self.train_op = tf.train.AdamOptimizer(self.learning_rate).minimize(self.loss, global_step=self.global_step)\n",
        "\n",
        "\n",
        "        \n",
        "        # Compute the Jacobian for weights and biases in each hidden layer  \n",
        "        self.J_u = self.compute_jacobian(self.u_ntk_pred) \n",
        "        self.J_r = self.compute_jacobian(self.r_ntk_pred)\n",
        "        \n",
        "        # The empirical NTK = J J^T, compute NTK of PINNs \n",
        "        self.K_uu = self.compute_ntk(self.J_u, self.x_u_ntk_tf, self.J_u, self.x_u_ntk_tf)\n",
        "        self.K_ur = self.compute_ntk(self.J_u, self.x_u_ntk_tf, self.J_r, self.x_r_ntk_tf)\n",
        "        self.K_rr = self.compute_ntk(self.J_r, self.x_r_ntk_tf, self.J_r, self.x_r_ntk_tf)\n",
        "        \n",
        "        # Logger\n",
        "        # Loss logger\n",
        "        self.loss_bcs_log = []\n",
        "        self.loss_res_log = []\n",
        "\n",
        "        # NTK logger \n",
        "        self.K_uu_log = []\n",
        "        self.K_rr_log = []\n",
        "        self.K_ur_log = []\n",
        "        \n",
        "        # Weights logger \n",
        "        self.weights_log = []\n",
        "        self.biases_log = []\n",
        "       # Gradients Storage\n",
        "\n",
        "\n",
        "\n",
        "        # Generate dicts for gradients storage\n",
        "        self.dict_gradients_res_layers = self.generate_grad_dict()\n",
        "        self.dict_gradients_bc_layers = self.generate_grad_dict()\n",
        "\n",
        "        self.grad_res = []\n",
        "        self.grad_bc = []\n",
        "        self.grad_bc_list = []\n",
        "\n",
        "        for i in range(len(self.layers) - 1):\n",
        "            self.grad_res.append(tf.gradients(self.loss_res, self.weights[i])[0])\n",
        "            self.grad_bc.append(tf.gradients(self.loss_bcs, self.weights[i])[0])\n",
        "\n",
        "        for i in range(len(self.layers) - 1):\n",
        "            self.grad_bc_list.append(tf.reduce_max(tf.abs(self.grad_res[i])) / tf.reduce_mean(tf.abs(self.grad_bc[i])))\n",
        "\n",
        "        self.adaptive_constant_bc = tf.reduce_max(tf.stack(self.grad_bc_list))\n",
        "\n",
        "        self.loss_tensor_list = [self.loss ,  self.loss_res,  self.loss_bcs] \n",
        "        self.loss_list = [\"total loss\" , \"loss_res\" , \"loss_bcs\"] \n",
        "\n",
        "        self.epoch_loss = dict.fromkeys(self.loss_list, 0)\n",
        "        self.loss_history = dict((loss, []) for loss in self.loss_list)\n",
        "        \n",
        "\n",
        "        # Initialize Tensorflow variables\n",
        "        init = tf.global_variables_initializer()\n",
        "\n",
        "        self.sess.run(init)\n",
        "        \n",
        "\n",
        "###############################################################################################################\n",
        "\n",
        "    def generate_grad_dict(self):\n",
        "        num = len(self.layers) - 1\n",
        "        grad_dict = {}\n",
        "        for i in range(num):\n",
        "            grad_dict['layer_{}'.format(i + 1)] = []\n",
        "        return grad_dict\n",
        "\n",
        "    # Xavier initialization\n",
        "    def xavier_init(self, size):\n",
        "        in_dim = size[0]\n",
        "        out_dim = size[1]\n",
        "        xavier_stddev = 1. / np.sqrt((in_dim + out_dim) / 2.)\n",
        "        return tf.Variable(tf.random.normal([in_dim, out_dim], dtype=tf.float32) * xavier_stddev,\n",
        "                           dtype=tf.float32)\n",
        "    \n",
        "    # NTK initialization\n",
        "    def NTK_init(self, size):\n",
        "        in_dim = size[0]\n",
        "        out_dim = size[1]\n",
        "        std = 1. / np.sqrt(in_dim)\n",
        "        return tf.Variable(tf.random.normal([in_dim, out_dim], dtype=tf.float32) * std,\n",
        "                           dtype=tf.float32)\n",
        "\n",
        "     # Initialize network weights and biases using Xavier initialization\n",
        "    def initialize_NN(self, layers):\n",
        "        weights = []\n",
        "        biases = []\n",
        "        num_layers = len(layers)\n",
        "        for l in range(0, num_layers - 1):\n",
        "            W = self.NTK_init(size=[layers[l], layers[l + 1]])\n",
        "            b = tf.Variable(tf.random.normal([1, layers[l + 1]], dtype=tf.float32), dtype=tf.float32)\n",
        "            weights.append(W)\n",
        "            biases.append(b)\n",
        "        return weights, biases\n",
        "\n",
        "    # Evaluates the forward pass\n",
        "    def forward_pass(self, H):\n",
        "        num_layers = len(self.layers)\n",
        "        for l in range(0, num_layers - 2):\n",
        "            W = self.weights[l]\n",
        "            b = self.biases[l]\n",
        "            H = tf.nn.tanh(tf.add(tf.matmul(H, W), b))\n",
        "        W = self.weights[-1]\n",
        "        b = self.biases[-1]\n",
        "        H = tf.add(tf.matmul(H, W), b)\n",
        "        return H\n",
        "\n",
        "    # Evaluates the PDE solution\n",
        "    def net_u(self, x):\n",
        "        u = self.forward_pass(x)\n",
        "        return u\n",
        "\n",
        "    # Forward pass for the residual\n",
        "    def net_r(self, x):\n",
        "        u = self.net_u(x)\n",
        "\n",
        "        u_x = tf.gradients(u, x)[0] / self.sigma_x\n",
        "        u_xx = tf.gradients(u_x, x)[0] / self.sigma_x\n",
        "\n",
        "        res_u = u_xx\n",
        "        return res_u\n",
        "    \n",
        "    # Compute Jacobian for each weights and biases in each layer and retrun a list \n",
        "    def compute_jacobian(self, f):\n",
        "        J_list =[]\n",
        "        L = len(self.weights)    \n",
        "        for i in range(L):\n",
        "            J_w = jacobian(f, self.weights[i])\n",
        "            J_list.append(J_w)\n",
        "     \n",
        "        for i in range(L):\n",
        "            J_b = jacobian(f, self.biases[i])\n",
        "            J_list.append(J_b)\n",
        "        return J_list\n",
        "    \n",
        "    # Compute the empirical NTK = J J^T\n",
        "    def compute_ntk(self, J1_list, x1, J2_list, x2):\n",
        "        D = x1.shape[0]\n",
        "        N = len(J1_list)\n",
        "        \n",
        "        Ker = tf.zeros((D,D))\n",
        "        for k in range(N):\n",
        "            J1 = tf.reshape(J1_list[k], shape=(D,-1))\n",
        "            J2 = tf.reshape(J2_list[k], shape=(D,-1))\n",
        "            \n",
        "            K = tf.matmul(J1, tf.transpose(J2))\n",
        "            Ker = Ker + K\n",
        "        return Ker\n",
        "            \n",
        "    # Trains the model by minimizing the MSE loss\n",
        "    def trainmb(self, nIter=10000, batch_size=128, log_NTK=True, log_weights=True):\n",
        "\n",
        "\n",
        "        itValues = [1,100,1000,39999]\n",
        "        start_time = timeit.default_timer()\n",
        "        for it in range(nIter):\n",
        "            # Fetch boundary mini-batches\n",
        "            # Define a dictionary for associating placeholders with data\n",
        "            tf_dict = {self.x_bc_tf: self.X_u, self.u_bc_tf: self.Y_u,\n",
        "                       self.x_u_tf: self.X_u, self.x_r_tf: self.X_r,\n",
        "                       self.r_tf: self.Y_r\n",
        "                       }\n",
        "        \n",
        "            # Run the Tensorflow session to minimize the loss\n",
        "            _, batch_losses = self.sess.run([self.train_op, self.loss_tensor_list] ,tf_dict)\n",
        "\n",
        "            # self.print\n",
        "            if it % 100 == 0:\n",
        "                elapsed = timeit.default_timer() - start_time\n",
        "                loss_value = self.sess.run(self.loss, tf_dict)\n",
        "                loss_bcs_value, loss_res_value = self.sess.run([self.loss_bcs, self.loss_res], tf_dict)\n",
        "                self.loss_bcs_log.append(loss_bcs_value)\n",
        "                self.loss_res_log.append(loss_res_value)\n",
        "\n",
        "                self.print('It: %d, Loss: %.3e, Loss_bcs: %.3e, Loss_res: %.3e ,Time: %.2f' %  (it, loss_value, loss_bcs_value, loss_res_value, elapsed))\n",
        "                \n",
        "            if log_NTK:\n",
        "                # provide x, x' for NTK\n",
        "                if it % 100 == 0:\n",
        "\n",
        "                    adaptive_constant_bc = self.sess.run([self.adaptive_constant_bc],  tf_dict)\n",
        "                    print(adaptive_constant_bc[0])\n",
        "                   \n",
        "                    self.print(\"Compute NTK...\")\n",
        "                    tf_dict2 = {self.x_u_ntk_tf: self.X_u, \n",
        "                               self.x_r_ntk_tf: self.X_r\n",
        "                               }\n",
        "                    K_uu_value, K_ur_value, K_rr_value = self.sess.run([self.K_uu,  self.K_ur,  self.K_rr], tf_dict2)\n",
        "                    self.K_uu_log.append(K_uu_value)\n",
        "                    self.K_ur_log.append(K_ur_value)\n",
        "                    self.K_rr_log.append(K_rr_value)\n",
        "            start_time = timeit.default_timer()\n",
        "\n",
        "            if it in itValues:\n",
        "                    self.plot_layerLoss(tf_dict , it)\n",
        "                    self.print(\"Gradients information stored ...\")\n",
        "\n",
        "            sys.stdout.flush()\n",
        "            self.assign_batch_losses(batch_losses)\n",
        "            for key in self.loss_history:\n",
        "                self.loss_history[key].append(self.epoch_loss[key])\n",
        "            \n",
        "    # Evaluates predictions at test points\n",
        "    def predict_u(self, X_star):\n",
        "        X_star = (X_star - self.mu_X) / self.sigma_X\n",
        "        tf_dict = {self.x_u_tf: X_star}\n",
        "        u_star = self.sess.run(self.u_pred, tf_dict)\n",
        "        return u_star\n",
        "\n",
        "    # Evaluates predictions at test points\n",
        "    def predict_r(self, X_star):\n",
        "        X_star = (X_star - self.mu_X) / self.sigma_X\n",
        "        tf_dict = {self.x_r_tf: X_star}\n",
        "        r_star = self.sess.run(self.r_pred, tf_dict)\n",
        "        return r_star\n",
        " ############################################################\n",
        "\n",
        "    def assign_batch_losses(self, batch_losses):\n",
        "        for loss_values, key in zip(batch_losses, self.epoch_loss):\n",
        "            self.epoch_loss[key] = loss_values\n",
        "\n",
        "  ############################################################\n",
        "###################################################################################################################\n",
        "\n",
        "\n",
        "    def plot_layerLoss(self , tf_dict , epoch):\n",
        "        ## Gradients #\n",
        "        num_layers = len(self.layers)\n",
        "        for i in range(num_layers - 1):\n",
        "            grad_res, grad_bc  = self.sess.run([ self.grad_res[i],self.grad_bc[i]], feed_dict=tf_dict)\n",
        "\n",
        "            # save gradients of loss_r and loss_u\n",
        "            self.dict_gradients_res_layers['layer_' + str(i + 1)].append(grad_res.flatten())\n",
        "            self.dict_gradients_bc_layers['layer_' + str(i + 1)].append(grad_bc.flatten())\n",
        "\n",
        "        num_hidden_layers = num_layers -1\n",
        "        cnt = 1\n",
        "        fig = plt.figure(4, figsize=(13, 4))\n",
        "        for j in range(num_hidden_layers):\n",
        "            ax = plt.subplot(1, num_hidden_layers, cnt)\n",
        "            ax.set_title('Layer {}'.format(j + 1))\n",
        "            ax.set_yscale('symlog')\n",
        "            gradients_res = self.dict_gradients_res_layers['layer_' + str(j + 1)][-1]\n",
        "            gradients_bc = self.dict_gradients_bc_layers['layer_' + str(j + 1)][-1]\n",
        "\n",
        "            sns.distplot(gradients_res, hist=False,kde_kws={\"shade\": False},norm_hist=True,  label=r'$\\nabla_\\theta \\mathcal{L}_r$')\n",
        "\n",
        "            sns.distplot(gradients_bc, hist=False,kde_kws={\"shade\": False},norm_hist=True,   label=r'$\\nabla_\\theta \\mathcal{L}_{u_{bc}}$')\n",
        "\n",
        "            #ax.get_legend().remove()\n",
        "            ax.set_xlim([-1.0, 1.0])\n",
        "            #ax.set_ylim([0, 150])\n",
        "            cnt += 1\n",
        "        handles, labels = ax.get_legend_handles_labels()\n",
        "\n",
        "        fig.legend(handles, labels, loc=\"center\",  bbox_to_anchor=(0.5, -0.03),borderaxespad=0,bbox_transform=fig.transFigure, ncol=2)\n",
        "        text = 'layerLoss_epoch' + str(epoch) +'.png'\n",
        "        plt.savefig(os.path.join(self.dirname,text) , bbox_inches='tight')\n",
        "        plt.close(\"all\")\n",
        "\n",
        "    # #########################\n",
        "    # def make_output_dir(self):\n",
        "        \n",
        "    #     if not os.path.exists(\"/okyanus/users/afarea/PINN/Adaptive_PINN/IB_PINN/checkpoints\"):\n",
        "    #         os.mkdir(\"/okyanus/users/afarea/PINN/Adaptive_PINN/IB_PINN/checkpoints\")\n",
        "    #     dirname = os.path.join(\"/okyanus/users/afarea/PINN/Adaptive_PINN/IB_PINN/checkpoints\", datetime.now().strftime(\"%b-%d-%Y_%H-%M-%S-%f_\") + self.mode)\n",
        "    #     os.mkdir(dirname)\n",
        "    #     text = 'output.log'\n",
        "    #     logpath = os.path.join(dirname, text)\n",
        "    #     shutil.copyfile('/okyanus/users/afarea/PINN/Adaptive_PINN/IB_PINN/M2.py', os.path.join(dirname, 'M2.py'))\n",
        "\n",
        "    #     return dirname, logpath\n",
        "    \n",
        "    # # ###########################################################\n",
        "    def make_output_dir(self):\n",
        "        \n",
        "        if not os.path.exists(\"checkpoints\"):\n",
        "            os.mkdir(\"checkpoints\")\n",
        "        dirname = os.path.join(\"checkpoints\", datetime.now().strftime(\"%b-%d-%Y_%H-%M-%S-%f_\") + self.mode)\n",
        "        os.mkdir(dirname)\n",
        "        text = 'output.log'\n",
        "        logpath = os.path.join(dirname, text)\n",
        "        shutil.copyfile('M1.ipynb', os.path.join(dirname, 'M1.ipynb'))\n",
        "        return dirname, logpath\n",
        "    \n",
        "\n",
        "    def get_logger(self, logpath):\n",
        "        logger = logging.getLogger(__name__)\n",
        "        logger.setLevel(logging.DEBUG)\n",
        "        sh = logging.StreamHandler()\n",
        "        sh.setLevel(logging.DEBUG)        \n",
        "        sh.setFormatter(logging.Formatter('%(message)s'))\n",
        "        fh = logging.FileHandler(logpath)\n",
        "        logger.addHandler(sh)\n",
        "        logger.addHandler(fh)\n",
        "        return logger\n",
        "    \n",
        "    def print(self, *args):\n",
        "        for word in args:\n",
        "            if len(args) == 1:\n",
        "                self.logger.info(word)\n",
        "            elif word != args[-1]:\n",
        "                for handler in self.logger.handlers:\n",
        "                    handler.terminator = \"\"\n",
        "                if type(word) == float or type(word) == np.float64 or type(word) == np.float32: \n",
        "                    self.logger.info(\"%.4e\" % (word))\n",
        "                else:\n",
        "                    self.logger.info(word)\n",
        "            else:\n",
        "                for handler in self.logger.handlers:\n",
        "                    handler.terminator = \"\\n\"\n",
        "                if type(word) == float or type(word) == np.float64 or type(word) == np.float32:\n",
        "                    self.logger.info(\"%.4e\" % (word))\n",
        "                else:\n",
        "                    self.logger.info(word)\n",
        "\n",
        "\n",
        "    def plot_loss_history(self , path):\n",
        "\n",
        "        fig, ax = plt.subplots()\n",
        "        fig.set_size_inches([15,8])\n",
        "        for key in self.loss_history:\n",
        "            self.print(\"Final loss %s: %e\" % (key, self.loss_history[key][-1]))\n",
        "            ax.semilogy(self.loss_history[key], label=key)\n",
        "        ax.set_xlabel(\"epochs\", fontsize=15)\n",
        "        ax.set_ylabel(\"loss\", fontsize=15)\n",
        "        ax.tick_params(labelsize=15)\n",
        "        ax.legend()\n",
        "        plt.savefig(path)\n",
        "        #plt.show()\n",
        "       #######################\n",
        "    def save_NN(self):\n",
        "\n",
        "        uv_weights = self.sess.run(self.weights)\n",
        "        uv_biases = self.sess.run(self.biases)\n",
        "\n",
        "        with open(os.path.join(self.dirname,'model.pickle'), 'wb') as f:\n",
        "            pickle.dump([uv_weights, uv_biases], f)\n",
        "            self.print(\"Save uv NN parameters successfully in %s ...\" , self.dirname)\n",
        "\n",
        "        # with open(os.path.join(self.dirname,'loss_history_BFS.pickle'), 'wb') as f:\n",
        "        #     pickle.dump(self.loss_rec, f)\n",
        "        with open(os.path.join(self.dirname,'loss_history_BFS.png'), 'wb') as f:\n",
        "            self.plot_loss_history(f)\n",
        "\n",
        "        return self.dirname\n",
        "    \n",
        "    def plot_ntk(self):\n",
        "        # Create empty lists for storing the eigenvalues of NTK\n",
        "        lambda_K_log = []\n",
        "        lambda_K_uu_log = []\n",
        "        lambda_K_ur_log = []\n",
        "        lambda_K_rr_log = []\n",
        "\n",
        "        # Restore the NTK\n",
        "        K_uu_list = self.K_uu_log\n",
        "        K_ur_list = self.K_ur_log\n",
        "        K_rr_list = self.K_rr_log\n",
        "        K_list = []\n",
        "            \n",
        "        for k in range(len(K_uu_list)):\n",
        "            K_uu = K_uu_list[k]\n",
        "            K_ur = K_ur_list[k]\n",
        "            K_rr = K_rr_list[k]\n",
        "            \n",
        "            K = np.concatenate([np.concatenate([K_uu, K_ur], axis = 1), np.concatenate([K_ur.T, K_rr], axis = 1)], axis = 0)\n",
        "            K_list.append(K)\n",
        "\n",
        "            # Compute eigenvalues\n",
        "            lambda_K, _ = np.linalg.eig(K)\n",
        "            lambda_K_uu, _ = np.linalg.eig(K_uu)\n",
        "            lambda_K_rr, _ = np.linalg.eig(K_rr)\n",
        "            \n",
        "            # Sort in descresing order\n",
        "            lambda_K = np.sort(np.real(lambda_K))[::-1]\n",
        "            lambda_K_uu = np.sort(np.real(lambda_K_uu))[::-1]\n",
        "            lambda_K_rr = np.sort(np.real(lambda_K_rr))[::-1]\n",
        "            \n",
        "            # Store eigenvalues\n",
        "            lambda_K_log.append(lambda_K)\n",
        "            lambda_K_uu_log.append(lambda_K_uu)\n",
        "            lambda_K_rr_log.append(lambda_K_rr)\n",
        "        fig = plt.figure(figsize=(18, 5))\n",
        "        plt.subplot(1,3,1)\n",
        "        for i in range(1, len(lambda_K_log), 10):\n",
        "            plt.plot(lambda_K_log[i], '--')\n",
        "        plt.xscale('log')\n",
        "        plt.yscale('log')\n",
        "        plt.title(r'Eigenvalues of ${K}$')\n",
        "        plt.tight_layout()\n",
        "\n",
        "        plt.subplot(1,3,2)\n",
        "        for i in range(1, len(lambda_K_uu_log), 10):\n",
        "            plt.plot(lambda_K_uu_log[i], '--')\n",
        "        plt.xscale('log')\n",
        "        plt.yscale('log')\n",
        "        plt.title(r'Eigenvalues of ${K}_{uu}$')\n",
        "        plt.tight_layout()\n",
        "\n",
        "        plt.subplot(1,3,3)\n",
        "        for i in range(1, len(lambda_K_log), 10):\n",
        "            plt.plot(lambda_K_rr_log[i], '--')\n",
        "        plt.xscale('log')\n",
        "        plt.yscale('log')\n",
        "        plt.title(r'Eigenvalues of ${K}_{rr}$')\n",
        "        plt.tight_layout()\n",
        "        plt.savefig(os.path.join(self.dirname,\"ntk.png\"))\n",
        "        plt.close(\"all\")\n",
        "\n",
        "    def plt_prediction(self , X_star , u_star , u_pred):\n",
        "        fig = plt.figure(figsize=(12, 5))\n",
        "        plt.subplot(1,2,1)\n",
        "        plt.plot(X_star, u_star, label='Exact')\n",
        "        plt.plot(X_star, u_pred, '--', label='Predicted')\n",
        "        plt.xlabel('$x$')\n",
        "        plt.ylabel('$y$')\n",
        "        plt.legend(loc='upper right')\n",
        "\n",
        "        plt.subplot(1,2,2)\n",
        "        plt.plot(X_star, np.abs(u_star - u_pred), label='Error')\n",
        "        plt.yscale('log')\n",
        "        plt.xlabel('$x$')\n",
        "        plt.ylabel('Point-wise error')\n",
        "        plt.tight_layout()\n",
        "        plt.savefig(os.path.join(self.dirname,\"prediction.png\"))\n",
        "        plt.close(\"all\")\n"
      ]
    },
    {
      "cell_type": "code",
      "execution_count": null,
      "metadata": {},
      "outputs": [],
      "source": []
    },
    {
      "cell_type": "code",
      "execution_count": 4,
      "metadata": {
        "id": "FN1jEdRwY90i"
      },
      "outputs": [],
      "source": [
        "# Define solution and its Laplace\n",
        "a = 4\n",
        "\n",
        "def u(x, a):\n",
        "  return np.sin(np.pi * a * x)\n",
        "\n",
        "def u_xx(x, a):\n",
        "  return -(np.pi * a)**2 * np.sin(np.pi * a * x)"
      ]
    },
    {
      "cell_type": "code",
      "execution_count": 5,
      "metadata": {},
      "outputs": [],
      "source": [
        "#test_method(mtd , layers,  X_u, Y_u, X_r, Y_r ,  X_star , u_star , r_star  , nIter ,batch_size , bcbatch_size , ubatch_size)\n",
        "def test_method(method , layers,  X_u, Y_u, X_r, Y_r , X_star , u_star , r_star , nIter ,mbbatch_size , bcbatch_size , ubatch_size , mode):\n",
        "\n",
        "\n",
        "    gpu_options = tf.GPUOptions(visible_device_list=\"0\")\n",
        "    tf.reset_default_graph()\n",
        "    with tf.Session(config=tf.ConfigProto(gpu_options=gpu_options,allow_soft_placement=False, log_device_placement=False)) as sess:\n",
        "        # sess.run(init)\n",
        "\n",
        "        model = PINN(layers, X_u, Y_u, X_r, Y_r , mode , sess)    \n",
        "\n",
        "        # Train model\n",
        "        start_time = time.time()\n",
        "\n",
        "        if method ==\"full_batch\":\n",
        "            print(\"full_batch method is used\")\n",
        "            model.train(nIter  , bcbatch_size , ubatch_size  )\n",
        "        elif method ==\"mini_batch\":\n",
        "            print(\"mini_batch method is used\")\n",
        "            model.trainmb(nIter, mbbatch_size)\n",
        "        else:\n",
        "            print(\"unknown method!\")\n",
        "        elapsed = time.time() - start_time\n",
        "\n",
        "        # Predictions\n",
        "        u_pred = model.predict_u(X_star)\n",
        "        r_pred = model.predict_r(X_star)\n",
        "        # Predictions\n",
        "\n",
        "        sess.close()   \n",
        "\n",
        "    error_u = np.linalg.norm(u_star - u_pred, 2) / np.linalg.norm(u_star, 2)\n",
        "    error_r = np.linalg.norm(r_star - r_pred, 2) / np.linalg.norm(r_star, 2)\n",
        "\n",
        "    print('elapsed: {:.2e}'.format(elapsed))\n",
        "\n",
        "    print('Relative L2 error_u: {:.2e}'.format(error_u))\n",
        "    print('Relative L2 error_r: {:.2e}'.format(error_r))\n",
        "\n",
        "\n",
        "    return [elapsed, error_u , error_r ]\n",
        "\n"
      ]
    },
    {
      "cell_type": "code",
      "execution_count": 6,
      "metadata": {},
      "outputs": [
        {
          "name": "stdout",
          "output_type": "stream",
          "text": [
            "Method:  mini_batch\n",
            "Epoch:  1\n",
            "WARNING:tensorflow:From /tmp/ipykernel_31177/657240385.py:52: The name tf.GPUOptions is deprecated. Please use tf.compat.v1.GPUOptions instead.\n",
            "\n",
            "WARNING:tensorflow:From /tmp/ipykernel_31177/657240385.py:53: The name tf.reset_default_graph is deprecated. Please use tf.compat.v1.reset_default_graph instead.\n",
            "\n",
            "WARNING:tensorflow:From /tmp/ipykernel_31177/657240385.py:54: The name tf.Session is deprecated. Please use tf.compat.v1.Session instead.\n",
            "\n",
            "WARNING:tensorflow:From /tmp/ipykernel_31177/657240385.py:54: The name tf.ConfigProto is deprecated. Please use tf.compat.v1.ConfigProto instead.\n",
            "\n",
            "WARNING:tensorflow:From /tmp/ipykernel_31177/1288676634.py:29: The name tf.placeholder is deprecated. Please use tf.compat.v1.placeholder instead.\n",
            "\n",
            "WARNING:tensorflow:From /tmp/ipykernel_31177/1288676634.py:63: The name tf.train.exponential_decay is deprecated. Please use tf.compat.v1.train.exponential_decay instead.\n",
            "\n",
            "WARNING:tensorflow:From /tmp/ipykernel_31177/1288676634.py:67: The name tf.train.GradientDescentOptimizer is deprecated. Please use tf.compat.v1.train.GradientDescentOptimizer instead.\n",
            "\n"
          ]
        },
        {
          "name": "stderr",
          "output_type": "stream",
          "text": [
            "2023-12-09 00:40:20.344648: I tensorflow/core/platform/cpu_feature_guard.cc:145] This TensorFlow binary is optimized with Intel(R) MKL-DNN to use the following CPU instructions in performance critical operations:  SSE4.1 SSE4.2 AVX AVX2 FMA\n",
            "To enable them in non-MKL-DNN operations, rebuild TensorFlow with the appropriate compiler flags.\n",
            "2023-12-09 00:40:20.370004: I tensorflow/core/platform/profile_utils/cpu_utils.cc:94] CPU Frequency: 2899885000 Hz\n",
            "2023-12-09 00:40:20.370523: I tensorflow/compiler/xla/service/service.cc:168] XLA service 0x55ade4818a20 initialized for platform Host (this does not guarantee that XLA will be used). Devices:\n",
            "2023-12-09 00:40:20.370538: I tensorflow/compiler/xla/service/service.cc:176]   StreamExecutor device (0): Host, Default Version\n",
            "2023-12-09 00:40:20.371571: I tensorflow/core/common_runtime/process_util.cc:115] Creating new thread pool with default inter op setting: 2. Tune using inter_op_parallelism_threads for best performance.\n"
          ]
        },
        {
          "name": "stdout",
          "output_type": "stream",
          "text": [
            "WARNING:tensorflow:From /tmp/ipykernel_31177/1288676634.py:123: The name tf.global_variables_initializer is deprecated. Please use tf.compat.v1.global_variables_initializer instead.\n",
            "\n",
            "mini_batch method is used\n"
          ]
        },
        {
          "name": "stderr",
          "output_type": "stream",
          "text": [
            "It: 0, Loss: 9.111e+03, Loss_bcs: 5.744e-01, Loss_res: 9.053e+03 ,Time: 0.29\n",
            "Compute NTK...\n"
          ]
        },
        {
          "name": "stdout",
          "output_type": "stream",
          "text": [
            "16947.637\n"
          ]
        },
        {
          "name": "stderr",
          "output_type": "stream",
          "text": [
            "/home/afrah2/anaconda3/envs/twoPhase/lib/python3.7/site-packages/seaborn/distributions.py:2619: FutureWarning: `distplot` is a deprecated function and will be removed in a future version. Please adapt your code to use either `displot` (a figure-level function with similar flexibility) or `kdeplot` (an axes-level function for kernel density plots).\n",
            "  warnings.warn(msg, FutureWarning)\n",
            "/home/afrah2/anaconda3/envs/twoPhase/lib/python3.7/site-packages/seaborn/distributions.py:2619: FutureWarning: `distplot` is a deprecated function and will be removed in a future version. Please adapt your code to use either `displot` (a figure-level function with similar flexibility) or `kdeplot` (an axes-level function for kernel density plots).\n",
            "  warnings.warn(msg, FutureWarning)\n",
            "/home/afrah2/anaconda3/envs/twoPhase/lib/python3.7/site-packages/seaborn/distributions.py:2619: FutureWarning: `distplot` is a deprecated function and will be removed in a future version. Please adapt your code to use either `displot` (a figure-level function with similar flexibility) or `kdeplot` (an axes-level function for kernel density plots).\n",
            "  warnings.warn(msg, FutureWarning)\n",
            "/home/afrah2/anaconda3/envs/twoPhase/lib/python3.7/site-packages/seaborn/distributions.py:2619: FutureWarning: `distplot` is a deprecated function and will be removed in a future version. Please adapt your code to use either `displot` (a figure-level function with similar flexibility) or `kdeplot` (an axes-level function for kernel density plots).\n",
            "  warnings.warn(msg, FutureWarning)\n",
            "Gradients information stored ...\n",
            "It: 100, Loss: 2.603e+02, Loss_bcs: 4.459e-02, Loss_res: 2.559e+02 ,Time: 0.00\n",
            "Compute NTK...\n",
            "/home/afrah2/anaconda3/envs/twoPhase/lib/python3.7/site-packages/seaborn/distributions.py:2619: FutureWarning: `distplot` is a deprecated function and will be removed in a future version. Please adapt your code to use either `displot` (a figure-level function with similar flexibility) or `kdeplot` (an axes-level function for kernel density plots).\n",
            "  warnings.warn(msg, FutureWarning)\n",
            "/home/afrah2/anaconda3/envs/twoPhase/lib/python3.7/site-packages/seaborn/distributions.py:2619: FutureWarning: `distplot` is a deprecated function and will be removed in a future version. Please adapt your code to use either `displot` (a figure-level function with similar flexibility) or `kdeplot` (an axes-level function for kernel density plots).\n",
            "  warnings.warn(msg, FutureWarning)\n",
            "/home/afrah2/anaconda3/envs/twoPhase/lib/python3.7/site-packages/seaborn/distributions.py:2619: FutureWarning: `distplot` is a deprecated function and will be removed in a future version. Please adapt your code to use either `displot` (a figure-level function with similar flexibility) or `kdeplot` (an axes-level function for kernel density plots).\n",
            "  warnings.warn(msg, FutureWarning)\n",
            "/home/afrah2/anaconda3/envs/twoPhase/lib/python3.7/site-packages/seaborn/distributions.py:2619: FutureWarning: `distplot` is a deprecated function and will be removed in a future version. Please adapt your code to use either `displot` (a figure-level function with similar flexibility) or `kdeplot` (an axes-level function for kernel density plots).\n",
            "  warnings.warn(msg, FutureWarning)\n"
          ]
        },
        {
          "name": "stdout",
          "output_type": "stream",
          "text": [
            "4958.4004\n"
          ]
        },
        {
          "name": "stderr",
          "output_type": "stream",
          "text": [
            "Gradients information stored ...\n",
            "It: 200, Loss: 1.275e+02, Loss_bcs: 5.087e-04, Loss_res: 1.274e+02 ,Time: 0.00\n",
            "Compute NTK...\n"
          ]
        },
        {
          "name": "stdout",
          "output_type": "stream",
          "text": [
            "45119.79\n"
          ]
        },
        {
          "name": "stderr",
          "output_type": "stream",
          "text": [
            "It: 300, Loss: 9.718e+01, Loss_bcs: 5.547e-04, Loss_res: 9.712e+01 ,Time: 0.00\n",
            "Compute NTK...\n"
          ]
        },
        {
          "name": "stdout",
          "output_type": "stream",
          "text": [
            "28627.35\n"
          ]
        },
        {
          "name": "stderr",
          "output_type": "stream",
          "text": [
            "It: 400, Loss: 8.083e+01, Loss_bcs: 6.846e-04, Loss_res: 8.077e+01 ,Time: 0.00\n",
            "Compute NTK...\n"
          ]
        },
        {
          "name": "stdout",
          "output_type": "stream",
          "text": [
            "18499.932\n"
          ]
        },
        {
          "name": "stderr",
          "output_type": "stream",
          "text": [
            "It: 500, Loss: 6.955e+01, Loss_bcs: 6.270e-04, Loss_res: 6.949e+01 ,Time: 0.00\n",
            "Compute NTK...\n"
          ]
        },
        {
          "name": "stdout",
          "output_type": "stream",
          "text": [
            "14096.457\n"
          ]
        },
        {
          "name": "stderr",
          "output_type": "stream",
          "text": [
            "It: 600, Loss: 6.099e+01, Loss_bcs: 5.608e-04, Loss_res: 6.093e+01 ,Time: 0.00\n",
            "Compute NTK...\n"
          ]
        },
        {
          "name": "stdout",
          "output_type": "stream",
          "text": [
            "11155.006\n"
          ]
        },
        {
          "name": "stderr",
          "output_type": "stream",
          "text": [
            "It: 700, Loss: 5.418e+01, Loss_bcs: 5.093e-04, Loss_res: 5.413e+01 ,Time: 0.00\n",
            "Compute NTK...\n"
          ]
        },
        {
          "name": "stdout",
          "output_type": "stream",
          "text": [
            "10051.742\n"
          ]
        },
        {
          "name": "stderr",
          "output_type": "stream",
          "text": [
            "It: 800, Loss: 4.864e+01, Loss_bcs: 4.684e-04, Loss_res: 4.859e+01 ,Time: 0.00\n",
            "Compute NTK...\n"
          ]
        },
        {
          "name": "stdout",
          "output_type": "stream",
          "text": [
            "9481.588\n"
          ]
        },
        {
          "name": "stderr",
          "output_type": "stream",
          "text": [
            "It: 900, Loss: 4.407e+01, Loss_bcs: 4.336e-04, Loss_res: 4.402e+01 ,Time: 0.00\n",
            "Compute NTK...\n"
          ]
        },
        {
          "name": "stdout",
          "output_type": "stream",
          "text": [
            "8797.833\n"
          ]
        },
        {
          "name": "stderr",
          "output_type": "stream",
          "text": [
            "It: 1000, Loss: 4.027e+01, Loss_bcs: 4.027e-04, Loss_res: 4.023e+01 ,Time: 0.00\n",
            "Compute NTK...\n"
          ]
        },
        {
          "name": "stdout",
          "output_type": "stream",
          "text": [
            "8082.4863\n"
          ]
        },
        {
          "name": "stderr",
          "output_type": "stream",
          "text": [
            "/home/afrah2/anaconda3/envs/twoPhase/lib/python3.7/site-packages/seaborn/distributions.py:2619: FutureWarning: `distplot` is a deprecated function and will be removed in a future version. Please adapt your code to use either `displot` (a figure-level function with similar flexibility) or `kdeplot` (an axes-level function for kernel density plots).\n",
            "  warnings.warn(msg, FutureWarning)\n",
            "/home/afrah2/anaconda3/envs/twoPhase/lib/python3.7/site-packages/seaborn/distributions.py:2619: FutureWarning: `distplot` is a deprecated function and will be removed in a future version. Please adapt your code to use either `displot` (a figure-level function with similar flexibility) or `kdeplot` (an axes-level function for kernel density plots).\n",
            "  warnings.warn(msg, FutureWarning)\n",
            "/home/afrah2/anaconda3/envs/twoPhase/lib/python3.7/site-packages/seaborn/distributions.py:2619: FutureWarning: `distplot` is a deprecated function and will be removed in a future version. Please adapt your code to use either `displot` (a figure-level function with similar flexibility) or `kdeplot` (an axes-level function for kernel density plots).\n",
            "  warnings.warn(msg, FutureWarning)\n",
            "/home/afrah2/anaconda3/envs/twoPhase/lib/python3.7/site-packages/seaborn/distributions.py:2619: FutureWarning: `distplot` is a deprecated function and will be removed in a future version. Please adapt your code to use either `displot` (a figure-level function with similar flexibility) or `kdeplot` (an axes-level function for kernel density plots).\n",
            "  warnings.warn(msg, FutureWarning)\n",
            "Gradients information stored ...\n",
            "It: 1100, Loss: 3.708e+01, Loss_bcs: 3.745e-04, Loss_res: 3.704e+01 ,Time: 0.00\n",
            "Compute NTK...\n"
          ]
        },
        {
          "name": "stdout",
          "output_type": "stream",
          "text": [
            "7389.8276\n"
          ]
        },
        {
          "name": "stderr",
          "output_type": "stream",
          "text": [
            "It: 1200, Loss: 3.438e+01, Loss_bcs: 3.485e-04, Loss_res: 3.434e+01 ,Time: 0.00\n",
            "Compute NTK...\n"
          ]
        },
        {
          "name": "stdout",
          "output_type": "stream",
          "text": [
            "6751.9062\n"
          ]
        },
        {
          "name": "stderr",
          "output_type": "stream",
          "text": [
            "It: 1300, Loss: 3.207e+01, Loss_bcs: 3.244e-04, Loss_res: 3.203e+01 ,Time: 0.00\n",
            "Compute NTK...\n"
          ]
        },
        {
          "name": "stdout",
          "output_type": "stream",
          "text": [
            "6186.456\n"
          ]
        },
        {
          "name": "stderr",
          "output_type": "stream",
          "text": [
            "It: 1400, Loss: 3.007e+01, Loss_bcs: 3.021e-04, Loss_res: 3.004e+01 ,Time: 0.00\n",
            "Compute NTK...\n"
          ]
        },
        {
          "name": "stdout",
          "output_type": "stream",
          "text": [
            "5697.7744\n"
          ]
        },
        {
          "name": "stderr",
          "output_type": "stream",
          "text": [
            "It: 1500, Loss: 2.831e+01, Loss_bcs: 2.815e-04, Loss_res: 2.829e+01 ,Time: 0.00\n",
            "Compute NTK...\n"
          ]
        },
        {
          "name": "stdout",
          "output_type": "stream",
          "text": [
            "5547.764\n"
          ]
        },
        {
          "name": "stderr",
          "output_type": "stream",
          "text": [
            "It: 1600, Loss: 2.676e+01, Loss_bcs: 2.625e-04, Loss_res: 2.674e+01 ,Time: 0.00\n",
            "Compute NTK...\n"
          ]
        },
        {
          "name": "stdout",
          "output_type": "stream",
          "text": [
            "5475.4644\n"
          ]
        },
        {
          "name": "stderr",
          "output_type": "stream",
          "text": [
            "It: 1700, Loss: 2.538e+01, Loss_bcs: 2.451e-04, Loss_res: 2.535e+01 ,Time: 0.00\n",
            "Compute NTK...\n"
          ]
        },
        {
          "name": "stdout",
          "output_type": "stream",
          "text": [
            "5396.9937\n"
          ]
        },
        {
          "name": "stderr",
          "output_type": "stream",
          "text": [
            "It: 1800, Loss: 2.413e+01, Loss_bcs: 2.291e-04, Loss_res: 2.411e+01 ,Time: 0.00\n",
            "Compute NTK...\n"
          ]
        },
        {
          "name": "stdout",
          "output_type": "stream",
          "text": [
            "5314.3887\n"
          ]
        },
        {
          "name": "stderr",
          "output_type": "stream",
          "text": [
            "It: 1900, Loss: 2.299e+01, Loss_bcs: 2.145e-04, Loss_res: 2.297e+01 ,Time: 0.00\n",
            "Compute NTK...\n"
          ]
        },
        {
          "name": "stdout",
          "output_type": "stream",
          "text": [
            "5268.7305\n"
          ]
        },
        {
          "name": "stderr",
          "output_type": "stream",
          "text": [
            "It: 2000, Loss: 2.195e+01, Loss_bcs: 2.010e-04, Loss_res: 2.193e+01 ,Time: 0.00\n",
            "Compute NTK...\n"
          ]
        },
        {
          "name": "stdout",
          "output_type": "stream",
          "text": [
            "5275.6006\n"
          ]
        },
        {
          "name": "stderr",
          "output_type": "stream",
          "text": [
            "It: 2100, Loss: 2.099e+01, Loss_bcs: 1.887e-04, Loss_res: 2.097e+01 ,Time: 0.00\n",
            "Compute NTK...\n"
          ]
        },
        {
          "name": "stdout",
          "output_type": "stream",
          "text": [
            "5292.6646\n"
          ]
        },
        {
          "name": "stderr",
          "output_type": "stream",
          "text": [
            "It: 2200, Loss: 2.010e+01, Loss_bcs: 1.775e-04, Loss_res: 2.009e+01 ,Time: 0.00\n",
            "Compute NTK...\n"
          ]
        },
        {
          "name": "stdout",
          "output_type": "stream",
          "text": [
            "5318.8267\n"
          ]
        },
        {
          "name": "stderr",
          "output_type": "stream",
          "text": [
            "It: 2300, Loss: 1.928e+01, Loss_bcs: 1.671e-04, Loss_res: 1.926e+01 ,Time: 0.00\n",
            "Compute NTK...\n"
          ]
        },
        {
          "name": "stdout",
          "output_type": "stream",
          "text": [
            "5351.7207\n"
          ]
        },
        {
          "name": "stderr",
          "output_type": "stream",
          "text": [
            "It: 2400, Loss: 1.851e+01, Loss_bcs: 1.576e-04, Loss_res: 1.849e+01 ,Time: 0.00\n",
            "Compute NTK...\n"
          ]
        },
        {
          "name": "stdout",
          "output_type": "stream",
          "text": [
            "5388.323\n"
          ]
        },
        {
          "name": "stderr",
          "output_type": "stream",
          "text": [
            "It: 2500, Loss: 1.779e+01, Loss_bcs: 1.488e-04, Loss_res: 1.777e+01 ,Time: 0.00\n",
            "Compute NTK...\n"
          ]
        },
        {
          "name": "stdout",
          "output_type": "stream",
          "text": [
            "5430.324\n"
          ]
        },
        {
          "name": "stderr",
          "output_type": "stream",
          "text": [
            "It: 2600, Loss: 1.711e+01, Loss_bcs: 1.407e-04, Loss_res: 1.710e+01 ,Time: 0.00\n",
            "Compute NTK...\n"
          ]
        },
        {
          "name": "stdout",
          "output_type": "stream",
          "text": [
            "5472.9854\n"
          ]
        },
        {
          "name": "stderr",
          "output_type": "stream",
          "text": [
            "It: 2700, Loss: 1.647e+01, Loss_bcs: 1.333e-04, Loss_res: 1.646e+01 ,Time: 0.00\n",
            "Compute NTK...\n"
          ]
        },
        {
          "name": "stdout",
          "output_type": "stream",
          "text": [
            "5515.569\n"
          ]
        },
        {
          "name": "stderr",
          "output_type": "stream",
          "text": [
            "It: 2800, Loss: 1.588e+01, Loss_bcs: 1.263e-04, Loss_res: 1.586e+01 ,Time: 0.00\n",
            "Compute NTK...\n"
          ]
        },
        {
          "name": "stdout",
          "output_type": "stream",
          "text": [
            "5559.5127\n"
          ]
        },
        {
          "name": "stderr",
          "output_type": "stream",
          "text": [
            "It: 2900, Loss: 1.531e+01, Loss_bcs: 1.199e-04, Loss_res: 1.530e+01 ,Time: 0.00\n",
            "Compute NTK...\n"
          ]
        },
        {
          "name": "stdout",
          "output_type": "stream",
          "text": [
            "5603.1855\n"
          ]
        },
        {
          "name": "stderr",
          "output_type": "stream",
          "text": [
            "It: 3000, Loss: 1.478e+01, Loss_bcs: 1.140e-04, Loss_res: 1.477e+01 ,Time: 0.00\n",
            "Compute NTK...\n"
          ]
        },
        {
          "name": "stdout",
          "output_type": "stream",
          "text": [
            "5648.285\n"
          ]
        },
        {
          "name": "stderr",
          "output_type": "stream",
          "text": [
            "It: 3100, Loss: 1.427e+01, Loss_bcs: 1.084e-04, Loss_res: 1.426e+01 ,Time: 0.00\n",
            "Compute NTK...\n"
          ]
        },
        {
          "name": "stdout",
          "output_type": "stream",
          "text": [
            "5693.6904\n"
          ]
        },
        {
          "name": "stderr",
          "output_type": "stream",
          "text": [
            "It: 3200, Loss: 1.379e+01, Loss_bcs: 1.033e-04, Loss_res: 1.378e+01 ,Time: 0.00\n",
            "Compute NTK...\n"
          ]
        },
        {
          "name": "stdout",
          "output_type": "stream",
          "text": [
            "5735.3086\n"
          ]
        },
        {
          "name": "stderr",
          "output_type": "stream",
          "text": [
            "It: 3300, Loss: 1.334e+01, Loss_bcs: 9.845e-05, Loss_res: 1.333e+01 ,Time: 0.00\n",
            "Compute NTK...\n"
          ]
        },
        {
          "name": "stdout",
          "output_type": "stream",
          "text": [
            "5777.05\n"
          ]
        },
        {
          "name": "stderr",
          "output_type": "stream",
          "text": [
            "It: 3400, Loss: 1.291e+01, Loss_bcs: 9.393e-05, Loss_res: 1.290e+01 ,Time: 0.00\n",
            "Compute NTK...\n"
          ]
        },
        {
          "name": "stdout",
          "output_type": "stream",
          "text": [
            "5817.611\n"
          ]
        },
        {
          "name": "stderr",
          "output_type": "stream",
          "text": [
            "It: 3500, Loss: 1.250e+01, Loss_bcs: 8.970e-05, Loss_res: 1.249e+01 ,Time: 0.00\n",
            "Compute NTK...\n"
          ]
        },
        {
          "name": "stdout",
          "output_type": "stream",
          "text": [
            "5858.031\n"
          ]
        },
        {
          "name": "stderr",
          "output_type": "stream",
          "text": [
            "It: 3600, Loss: 1.211e+01, Loss_bcs: 8.576e-05, Loss_res: 1.210e+01 ,Time: 0.00\n",
            "Compute NTK...\n"
          ]
        },
        {
          "name": "stdout",
          "output_type": "stream",
          "text": [
            "5894.278\n"
          ]
        },
        {
          "name": "stderr",
          "output_type": "stream",
          "text": [
            "It: 3700, Loss: 1.173e+01, Loss_bcs: 8.200e-05, Loss_res: 1.173e+01 ,Time: 0.00\n",
            "Compute NTK...\n"
          ]
        },
        {
          "name": "stdout",
          "output_type": "stream",
          "text": [
            "5934.0454\n"
          ]
        },
        {
          "name": "stderr",
          "output_type": "stream",
          "text": [
            "It: 3800, Loss: 1.138e+01, Loss_bcs: 7.849e-05, Loss_res: 1.137e+01 ,Time: 0.00\n",
            "Compute NTK...\n"
          ]
        },
        {
          "name": "stdout",
          "output_type": "stream",
          "text": [
            "5970.3687\n"
          ]
        },
        {
          "name": "stderr",
          "output_type": "stream",
          "text": [
            "It: 3900, Loss: 1.104e+01, Loss_bcs: 7.521e-05, Loss_res: 1.103e+01 ,Time: 0.00\n",
            "Compute NTK...\n"
          ]
        },
        {
          "name": "stdout",
          "output_type": "stream",
          "text": [
            "6002.4497\n"
          ]
        },
        {
          "name": "stderr",
          "output_type": "stream",
          "text": [
            "It: 4000, Loss: 1.072e+01, Loss_bcs: 7.207e-05, Loss_res: 1.071e+01 ,Time: 0.00\n",
            "Compute NTK...\n"
          ]
        },
        {
          "name": "stdout",
          "output_type": "stream",
          "text": [
            "6035.786\n"
          ]
        },
        {
          "name": "stderr",
          "output_type": "stream",
          "text": [
            "It: 4100, Loss: 1.041e+01, Loss_bcs: 6.916e-05, Loss_res: 1.040e+01 ,Time: 0.00\n",
            "Compute NTK...\n"
          ]
        },
        {
          "name": "stdout",
          "output_type": "stream",
          "text": [
            "6070.235\n"
          ]
        },
        {
          "name": "stderr",
          "output_type": "stream",
          "text": [
            "It: 4200, Loss: 1.012e+01, Loss_bcs: 6.636e-05, Loss_res: 1.011e+01 ,Time: 0.00\n",
            "Compute NTK...\n"
          ]
        },
        {
          "name": "stdout",
          "output_type": "stream",
          "text": [
            "6100.9062\n"
          ]
        },
        {
          "name": "stderr",
          "output_type": "stream",
          "text": [
            "It: 4300, Loss: 9.834e+00, Loss_bcs: 6.373e-05, Loss_res: 9.827e+00 ,Time: 0.00\n",
            "Compute NTK...\n"
          ]
        },
        {
          "name": "stdout",
          "output_type": "stream",
          "text": [
            "6130.8467\n"
          ]
        },
        {
          "name": "stderr",
          "output_type": "stream",
          "text": [
            "It: 4400, Loss: 9.564e+00, Loss_bcs: 6.124e-05, Loss_res: 9.558e+00 ,Time: 0.00\n",
            "Compute NTK...\n"
          ]
        },
        {
          "name": "stdout",
          "output_type": "stream",
          "text": [
            "6160.7266\n"
          ]
        },
        {
          "name": "stderr",
          "output_type": "stream",
          "text": [
            "It: 4500, Loss: 9.305e+00, Loss_bcs: 5.888e-05, Loss_res: 9.299e+00 ,Time: 0.00\n",
            "Compute NTK...\n"
          ]
        },
        {
          "name": "stdout",
          "output_type": "stream",
          "text": [
            "6187.374\n"
          ]
        },
        {
          "name": "stderr",
          "output_type": "stream",
          "text": [
            "It: 4600, Loss: 9.057e+00, Loss_bcs: 5.662e-05, Loss_res: 9.052e+00 ,Time: 0.00\n",
            "Compute NTK...\n"
          ]
        },
        {
          "name": "stdout",
          "output_type": "stream",
          "text": [
            "6214.0356\n"
          ]
        },
        {
          "name": "stderr",
          "output_type": "stream",
          "text": [
            "It: 4700, Loss: 8.820e+00, Loss_bcs: 5.449e-05, Loss_res: 8.814e+00 ,Time: 0.00\n",
            "Compute NTK...\n"
          ]
        },
        {
          "name": "stdout",
          "output_type": "stream",
          "text": [
            "6238.851\n"
          ]
        },
        {
          "name": "stderr",
          "output_type": "stream",
          "text": [
            "It: 4800, Loss: 8.591e+00, Loss_bcs: 5.245e-05, Loss_res: 8.586e+00 ,Time: 0.00\n",
            "Compute NTK...\n"
          ]
        },
        {
          "name": "stdout",
          "output_type": "stream",
          "text": [
            "6262.8926\n"
          ]
        },
        {
          "name": "stderr",
          "output_type": "stream",
          "text": [
            "It: 4900, Loss: 8.372e+00, Loss_bcs: 5.053e-05, Loss_res: 8.367e+00 ,Time: 0.00\n",
            "Compute NTK...\n"
          ]
        },
        {
          "name": "stdout",
          "output_type": "stream",
          "text": [
            "6285.1494\n"
          ]
        },
        {
          "name": "stderr",
          "output_type": "stream",
          "text": [
            "It: 5000, Loss: 8.162e+00, Loss_bcs: 4.868e-05, Loss_res: 8.157e+00 ,Time: 0.00\n",
            "Compute NTK...\n"
          ]
        },
        {
          "name": "stdout",
          "output_type": "stream",
          "text": [
            "6308.384\n"
          ]
        },
        {
          "name": "stderr",
          "output_type": "stream",
          "text": [
            "It: 5100, Loss: 7.960e+00, Loss_bcs: 4.692e-05, Loss_res: 7.955e+00 ,Time: 0.00\n",
            "Compute NTK...\n"
          ]
        },
        {
          "name": "stdout",
          "output_type": "stream",
          "text": [
            "6331.4546\n"
          ]
        },
        {
          "name": "stderr",
          "output_type": "stream",
          "text": [
            "It: 5200, Loss: 7.765e+00, Loss_bcs: 4.527e-05, Loss_res: 7.760e+00 ,Time: 0.00\n",
            "Compute NTK...\n"
          ]
        },
        {
          "name": "stdout",
          "output_type": "stream",
          "text": [
            "6350.0854\n"
          ]
        },
        {
          "name": "stderr",
          "output_type": "stream",
          "text": [
            "It: 5300, Loss: 7.578e+00, Loss_bcs: 4.366e-05, Loss_res: 7.573e+00 ,Time: 0.00\n",
            "Compute NTK...\n"
          ]
        },
        {
          "name": "stdout",
          "output_type": "stream",
          "text": [
            "6373.2725\n"
          ]
        },
        {
          "name": "stderr",
          "output_type": "stream",
          "text": [
            "It: 5400, Loss: 7.397e+00, Loss_bcs: 4.212e-05, Loss_res: 7.393e+00 ,Time: 0.00\n",
            "Compute NTK...\n"
          ]
        },
        {
          "name": "stdout",
          "output_type": "stream",
          "text": [
            "6391.456\n"
          ]
        },
        {
          "name": "stderr",
          "output_type": "stream",
          "text": [
            "It: 5500, Loss: 7.224e+00, Loss_bcs: 4.068e-05, Loss_res: 7.219e+00 ,Time: 0.00\n",
            "Compute NTK...\n"
          ]
        },
        {
          "name": "stdout",
          "output_type": "stream",
          "text": [
            "6405.947\n"
          ]
        },
        {
          "name": "stderr",
          "output_type": "stream",
          "text": [
            "It: 5600, Loss: 7.056e+00, Loss_bcs: 3.930e-05, Loss_res: 7.052e+00 ,Time: 0.00\n",
            "Compute NTK...\n"
          ]
        },
        {
          "name": "stdout",
          "output_type": "stream",
          "text": [
            "6420.8926\n"
          ]
        },
        {
          "name": "stderr",
          "output_type": "stream",
          "text": [
            "It: 5700, Loss: 6.895e+00, Loss_bcs: 3.797e-05, Loss_res: 6.891e+00 ,Time: 0.00\n",
            "Compute NTK...\n"
          ]
        },
        {
          "name": "stdout",
          "output_type": "stream",
          "text": [
            "6442.091\n"
          ]
        },
        {
          "name": "stderr",
          "output_type": "stream",
          "text": [
            "It: 5800, Loss: 6.739e+00, Loss_bcs: 3.670e-05, Loss_res: 6.735e+00 ,Time: 0.00\n",
            "Compute NTK...\n"
          ]
        },
        {
          "name": "stdout",
          "output_type": "stream",
          "text": [
            "6455.7783\n"
          ]
        },
        {
          "name": "stderr",
          "output_type": "stream",
          "text": [
            "It: 5900, Loss: 6.589e+00, Loss_bcs: 3.549e-05, Loss_res: 6.585e+00 ,Time: 0.00\n",
            "Compute NTK...\n"
          ]
        },
        {
          "name": "stdout",
          "output_type": "stream",
          "text": [
            "6469.158\n"
          ]
        },
        {
          "name": "stderr",
          "output_type": "stream",
          "text": [
            "It: 6000, Loss: 6.444e+00, Loss_bcs: 3.432e-05, Loss_res: 6.440e+00 ,Time: 0.00\n",
            "Compute NTK...\n"
          ]
        },
        {
          "name": "stdout",
          "output_type": "stream",
          "text": [
            "6485.4014\n"
          ]
        },
        {
          "name": "stderr",
          "output_type": "stream",
          "text": [
            "It: 6100, Loss: 6.303e+00, Loss_bcs: 3.319e-05, Loss_res: 6.300e+00 ,Time: 0.00\n",
            "Compute NTK...\n"
          ]
        },
        {
          "name": "stdout",
          "output_type": "stream",
          "text": [
            "6499.3706\n"
          ]
        },
        {
          "name": "stderr",
          "output_type": "stream",
          "text": [
            "It: 6200, Loss: 6.168e+00, Loss_bcs: 3.213e-05, Loss_res: 6.165e+00 ,Time: 0.00\n",
            "Compute NTK...\n"
          ]
        },
        {
          "name": "stdout",
          "output_type": "stream",
          "text": [
            "6511.2266\n"
          ]
        },
        {
          "name": "stderr",
          "output_type": "stream",
          "text": [
            "It: 6300, Loss: 6.037e+00, Loss_bcs: 3.111e-05, Loss_res: 6.034e+00 ,Time: 0.00\n",
            "Compute NTK...\n"
          ]
        },
        {
          "name": "stdout",
          "output_type": "stream",
          "text": [
            "6521.485\n"
          ]
        },
        {
          "name": "stderr",
          "output_type": "stream",
          "text": [
            "It: 6400, Loss: 5.911e+00, Loss_bcs: 3.013e-05, Loss_res: 5.908e+00 ,Time: 0.00\n",
            "Compute NTK...\n"
          ]
        },
        {
          "name": "stdout",
          "output_type": "stream",
          "text": [
            "6532.3286\n"
          ]
        },
        {
          "name": "stderr",
          "output_type": "stream",
          "text": [
            "It: 6500, Loss: 5.788e+00, Loss_bcs: 2.917e-05, Loss_res: 5.785e+00 ,Time: 0.00\n",
            "Compute NTK...\n"
          ]
        },
        {
          "name": "stdout",
          "output_type": "stream",
          "text": [
            "6546.576\n"
          ]
        },
        {
          "name": "stderr",
          "output_type": "stream",
          "text": [
            "It: 6600, Loss: 5.670e+00, Loss_bcs: 2.825e-05, Loss_res: 5.667e+00 ,Time: 0.00\n",
            "Compute NTK...\n"
          ]
        },
        {
          "name": "stdout",
          "output_type": "stream",
          "text": [
            "6559.72\n"
          ]
        },
        {
          "name": "stderr",
          "output_type": "stream",
          "text": [
            "It: 6700, Loss: 5.555e+00, Loss_bcs: 2.738e-05, Loss_res: 5.552e+00 ,Time: 0.00\n",
            "Compute NTK...\n"
          ]
        },
        {
          "name": "stdout",
          "output_type": "stream",
          "text": [
            "6567.2437\n"
          ]
        },
        {
          "name": "stderr",
          "output_type": "stream",
          "text": [
            "It: 6800, Loss: 5.444e+00, Loss_bcs: 2.655e-05, Loss_res: 5.441e+00 ,Time: 0.00\n",
            "Compute NTK...\n"
          ]
        },
        {
          "name": "stdout",
          "output_type": "stream",
          "text": [
            "6567.214\n"
          ]
        },
        {
          "name": "stderr",
          "output_type": "stream",
          "text": [
            "It: 6900, Loss: 5.336e+00, Loss_bcs: 2.575e-05, Loss_res: 5.334e+00 ,Time: 0.00\n",
            "Compute NTK...\n"
          ]
        },
        {
          "name": "stdout",
          "output_type": "stream",
          "text": [
            "6582.224\n"
          ]
        },
        {
          "name": "stderr",
          "output_type": "stream",
          "text": [
            "It: 7000, Loss: 5.232e+00, Loss_bcs: 2.497e-05, Loss_res: 5.230e+00 ,Time: 0.00\n",
            "Compute NTK...\n"
          ]
        },
        {
          "name": "stdout",
          "output_type": "stream",
          "text": [
            "6586.7334\n"
          ]
        },
        {
          "name": "stderr",
          "output_type": "stream",
          "text": [
            "It: 7100, Loss: 5.131e+00, Loss_bcs: 2.422e-05, Loss_res: 5.129e+00 ,Time: 0.00\n",
            "Compute NTK...\n"
          ]
        },
        {
          "name": "stdout",
          "output_type": "stream",
          "text": [
            "6586.8164\n"
          ]
        },
        {
          "name": "stderr",
          "output_type": "stream",
          "text": [
            "It: 7200, Loss: 5.033e+00, Loss_bcs: 2.351e-05, Loss_res: 5.031e+00 ,Time: 0.00\n",
            "Compute NTK...\n"
          ]
        },
        {
          "name": "stdout",
          "output_type": "stream",
          "text": [
            "6602.895\n"
          ]
        },
        {
          "name": "stderr",
          "output_type": "stream",
          "text": [
            "It: 7300, Loss: 4.938e+00, Loss_bcs: 2.281e-05, Loss_res: 4.936e+00 ,Time: 0.00\n",
            "Compute NTK...\n"
          ]
        },
        {
          "name": "stdout",
          "output_type": "stream",
          "text": [
            "6603.97\n"
          ]
        },
        {
          "name": "stderr",
          "output_type": "stream",
          "text": [
            "It: 7400, Loss: 4.846e+00, Loss_bcs: 2.216e-05, Loss_res: 4.844e+00 ,Time: 0.00\n",
            "Compute NTK...\n"
          ]
        },
        {
          "name": "stdout",
          "output_type": "stream",
          "text": [
            "6622.7773\n"
          ]
        },
        {
          "name": "stderr",
          "output_type": "stream",
          "text": [
            "It: 7500, Loss: 4.756e+00, Loss_bcs: 2.152e-05, Loss_res: 4.754e+00 ,Time: 0.00\n",
            "Compute NTK...\n"
          ]
        },
        {
          "name": "stdout",
          "output_type": "stream",
          "text": [
            "6620.932\n"
          ]
        },
        {
          "name": "stderr",
          "output_type": "stream",
          "text": [
            "It: 7600, Loss: 4.670e+00, Loss_bcs: 2.090e-05, Loss_res: 4.667e+00 ,Time: 0.00\n",
            "Compute NTK...\n"
          ]
        },
        {
          "name": "stdout",
          "output_type": "stream",
          "text": [
            "6625.26\n"
          ]
        },
        {
          "name": "stderr",
          "output_type": "stream",
          "text": [
            "It: 7700, Loss: 4.585e+00, Loss_bcs: 2.030e-05, Loss_res: 4.583e+00 ,Time: 0.00\n",
            "Compute NTK...\n"
          ]
        },
        {
          "name": "stdout",
          "output_type": "stream",
          "text": [
            "6621.5034\n"
          ]
        },
        {
          "name": "stderr",
          "output_type": "stream",
          "text": [
            "It: 7800, Loss: 4.503e+00, Loss_bcs: 1.975e-05, Loss_res: 4.501e+00 ,Time: 0.00\n",
            "Compute NTK...\n"
          ]
        },
        {
          "name": "stdout",
          "output_type": "stream",
          "text": [
            "6624.943\n"
          ]
        },
        {
          "name": "stderr",
          "output_type": "stream",
          "text": [
            "It: 7900, Loss: 4.424e+00, Loss_bcs: 1.919e-05, Loss_res: 4.422e+00 ,Time: 0.00\n",
            "Compute NTK...\n"
          ]
        },
        {
          "name": "stdout",
          "output_type": "stream",
          "text": [
            "6640.3643\n"
          ]
        },
        {
          "name": "stderr",
          "output_type": "stream",
          "text": [
            "It: 8000, Loss: 4.347e+00, Loss_bcs: 1.865e-05, Loss_res: 4.345e+00 ,Time: 0.00\n",
            "Compute NTK...\n"
          ]
        },
        {
          "name": "stdout",
          "output_type": "stream",
          "text": [
            "6639.514\n"
          ]
        },
        {
          "name": "stderr",
          "output_type": "stream",
          "text": [
            "It: 8100, Loss: 4.272e+00, Loss_bcs: 1.814e-05, Loss_res: 4.270e+00 ,Time: 0.00\n",
            "Compute NTK...\n"
          ]
        },
        {
          "name": "stdout",
          "output_type": "stream",
          "text": [
            "6642.3164\n"
          ]
        },
        {
          "name": "stderr",
          "output_type": "stream",
          "text": [
            "It: 8200, Loss: 4.199e+00, Loss_bcs: 1.764e-05, Loss_res: 4.197e+00 ,Time: 0.00\n",
            "Compute NTK...\n"
          ]
        },
        {
          "name": "stdout",
          "output_type": "stream",
          "text": [
            "6640.111\n"
          ]
        },
        {
          "name": "stderr",
          "output_type": "stream",
          "text": [
            "It: 8300, Loss: 4.127e+00, Loss_bcs: 1.717e-05, Loss_res: 4.126e+00 ,Time: 0.00\n",
            "Compute NTK...\n"
          ]
        },
        {
          "name": "stdout",
          "output_type": "stream",
          "text": [
            "6637.7065\n"
          ]
        },
        {
          "name": "stderr",
          "output_type": "stream",
          "text": [
            "It: 8400, Loss: 4.058e+00, Loss_bcs: 1.670e-05, Loss_res: 4.057e+00 ,Time: 0.00\n",
            "Compute NTK...\n"
          ]
        },
        {
          "name": "stdout",
          "output_type": "stream",
          "text": [
            "6635.8267\n"
          ]
        },
        {
          "name": "stderr",
          "output_type": "stream",
          "text": [
            "It: 8500, Loss: 3.991e+00, Loss_bcs: 1.626e-05, Loss_res: 3.990e+00 ,Time: 0.00\n",
            "Compute NTK...\n"
          ]
        },
        {
          "name": "stdout",
          "output_type": "stream",
          "text": [
            "6644.057\n"
          ]
        },
        {
          "name": "stderr",
          "output_type": "stream",
          "text": [
            "It: 8600, Loss: 3.926e+00, Loss_bcs: 1.583e-05, Loss_res: 3.924e+00 ,Time: 0.00\n",
            "Compute NTK...\n"
          ]
        },
        {
          "name": "stdout",
          "output_type": "stream",
          "text": [
            "6637.6104\n"
          ]
        },
        {
          "name": "stderr",
          "output_type": "stream",
          "text": [
            "It: 8700, Loss: 3.862e+00, Loss_bcs: 1.542e-05, Loss_res: 3.861e+00 ,Time: 0.00\n",
            "Compute NTK...\n"
          ]
        },
        {
          "name": "stdout",
          "output_type": "stream",
          "text": [
            "6630.8423\n"
          ]
        },
        {
          "name": "stderr",
          "output_type": "stream",
          "text": [
            "It: 8800, Loss: 3.800e+00, Loss_bcs: 1.502e-05, Loss_res: 3.799e+00 ,Time: 0.00\n",
            "Compute NTK...\n"
          ]
        },
        {
          "name": "stdout",
          "output_type": "stream",
          "text": [
            "6636.5854\n"
          ]
        },
        {
          "name": "stderr",
          "output_type": "stream",
          "text": [
            "It: 8900, Loss: 3.740e+00, Loss_bcs: 1.462e-05, Loss_res: 3.739e+00 ,Time: 0.00\n",
            "Compute NTK...\n"
          ]
        },
        {
          "name": "stdout",
          "output_type": "stream",
          "text": [
            "6640.594\n"
          ]
        },
        {
          "name": "stderr",
          "output_type": "stream",
          "text": [
            "It: 9000, Loss: 3.681e+00, Loss_bcs: 1.424e-05, Loss_res: 3.680e+00 ,Time: 0.00\n",
            "Compute NTK...\n"
          ]
        },
        {
          "name": "stdout",
          "output_type": "stream",
          "text": [
            "6625.306\n"
          ]
        },
        {
          "name": "stderr",
          "output_type": "stream",
          "text": [
            "It: 9100, Loss: 3.624e+00, Loss_bcs: 1.388e-05, Loss_res: 3.623e+00 ,Time: 0.00\n",
            "Compute NTK...\n"
          ]
        },
        {
          "name": "stdout",
          "output_type": "stream",
          "text": [
            "6640.8535\n"
          ]
        },
        {
          "name": "stderr",
          "output_type": "stream",
          "text": [
            "It: 9200, Loss: 3.568e+00, Loss_bcs: 1.354e-05, Loss_res: 3.567e+00 ,Time: 0.00\n",
            "Compute NTK...\n"
          ]
        },
        {
          "name": "stdout",
          "output_type": "stream",
          "text": [
            "6616.003\n"
          ]
        },
        {
          "name": "stderr",
          "output_type": "stream",
          "text": [
            "It: 9300, Loss: 3.514e+00, Loss_bcs: 1.318e-05, Loss_res: 3.513e+00 ,Time: 0.00\n",
            "Compute NTK...\n"
          ]
        },
        {
          "name": "stdout",
          "output_type": "stream",
          "text": [
            "6627.53\n"
          ]
        },
        {
          "name": "stderr",
          "output_type": "stream",
          "text": [
            "It: 9400, Loss: 3.461e+00, Loss_bcs: 1.287e-05, Loss_res: 3.460e+00 ,Time: 0.00\n",
            "Compute NTK...\n"
          ]
        },
        {
          "name": "stdout",
          "output_type": "stream",
          "text": [
            "6628.1694\n"
          ]
        },
        {
          "name": "stderr",
          "output_type": "stream",
          "text": [
            "It: 9500, Loss: 3.409e+00, Loss_bcs: 1.256e-05, Loss_res: 3.408e+00 ,Time: 0.00\n",
            "Compute NTK...\n"
          ]
        },
        {
          "name": "stdout",
          "output_type": "stream",
          "text": [
            "6622.485\n"
          ]
        },
        {
          "name": "stderr",
          "output_type": "stream",
          "text": [
            "It: 9600, Loss: 3.359e+00, Loss_bcs: 1.224e-05, Loss_res: 3.358e+00 ,Time: 0.00\n",
            "Compute NTK...\n"
          ]
        },
        {
          "name": "stdout",
          "output_type": "stream",
          "text": [
            "6611.6396\n"
          ]
        },
        {
          "name": "stderr",
          "output_type": "stream",
          "text": [
            "It: 9700, Loss: 3.310e+00, Loss_bcs: 1.194e-05, Loss_res: 3.309e+00 ,Time: 0.00\n",
            "Compute NTK...\n"
          ]
        },
        {
          "name": "stdout",
          "output_type": "stream",
          "text": [
            "6623.595\n"
          ]
        },
        {
          "name": "stderr",
          "output_type": "stream",
          "text": [
            "It: 9800, Loss: 3.262e+00, Loss_bcs: 1.166e-05, Loss_res: 3.261e+00 ,Time: 0.00\n",
            "Compute NTK...\n"
          ]
        },
        {
          "name": "stdout",
          "output_type": "stream",
          "text": [
            "6603.7153\n"
          ]
        },
        {
          "name": "stderr",
          "output_type": "stream",
          "text": [
            "It: 9900, Loss: 3.215e+00, Loss_bcs: 1.137e-05, Loss_res: 3.214e+00 ,Time: 0.00\n",
            "Compute NTK...\n"
          ]
        },
        {
          "name": "stdout",
          "output_type": "stream",
          "text": [
            "6594.821\n"
          ]
        },
        {
          "name": "stderr",
          "output_type": "stream",
          "text": [
            "It: 10000, Loss: 3.169e+00, Loss_bcs: 1.109e-05, Loss_res: 3.168e+00 ,Time: 0.00\n",
            "Compute NTK...\n"
          ]
        },
        {
          "name": "stdout",
          "output_type": "stream",
          "text": [
            "6587.7446\n"
          ]
        },
        {
          "name": "stderr",
          "output_type": "stream",
          "text": [
            "It: 10100, Loss: 3.125e+00, Loss_bcs: 1.083e-05, Loss_res: 3.124e+00 ,Time: 0.00\n",
            "Compute NTK...\n"
          ]
        },
        {
          "name": "stdout",
          "output_type": "stream",
          "text": [
            "6604.0767\n"
          ]
        },
        {
          "name": "stderr",
          "output_type": "stream",
          "text": [
            "It: 10200, Loss: 3.081e+00, Loss_bcs: 1.059e-05, Loss_res: 3.080e+00 ,Time: 0.00\n",
            "Compute NTK...\n"
          ]
        },
        {
          "name": "stdout",
          "output_type": "stream",
          "text": [
            "6593.9395\n"
          ]
        },
        {
          "name": "stderr",
          "output_type": "stream",
          "text": [
            "It: 10300, Loss: 3.039e+00, Loss_bcs: 1.033e-05, Loss_res: 3.038e+00 ,Time: 0.00\n",
            "Compute NTK...\n"
          ]
        },
        {
          "name": "stdout",
          "output_type": "stream",
          "text": [
            "6578.734\n"
          ]
        },
        {
          "name": "stderr",
          "output_type": "stream",
          "text": [
            "It: 10400, Loss: 2.997e+00, Loss_bcs: 1.009e-05, Loss_res: 2.996e+00 ,Time: 0.00\n",
            "Compute NTK...\n"
          ]
        },
        {
          "name": "stdout",
          "output_type": "stream",
          "text": [
            "6567.6157\n"
          ]
        },
        {
          "name": "stderr",
          "output_type": "stream",
          "text": [
            "It: 10500, Loss: 2.957e+00, Loss_bcs: 9.863e-06, Loss_res: 2.956e+00 ,Time: 0.00\n",
            "Compute NTK...\n"
          ]
        },
        {
          "name": "stdout",
          "output_type": "stream",
          "text": [
            "6565.365\n"
          ]
        },
        {
          "name": "stderr",
          "output_type": "stream",
          "text": [
            "It: 10600, Loss: 2.917e+00, Loss_bcs: 9.638e-06, Loss_res: 2.916e+00 ,Time: 0.00\n",
            "Compute NTK...\n"
          ]
        },
        {
          "name": "stdout",
          "output_type": "stream",
          "text": [
            "6566.8965\n"
          ]
        },
        {
          "name": "stderr",
          "output_type": "stream",
          "text": [
            "It: 10700, Loss: 2.878e+00, Loss_bcs: 9.427e-06, Loss_res: 2.877e+00 ,Time: 0.00\n",
            "Compute NTK...\n"
          ]
        },
        {
          "name": "stdout",
          "output_type": "stream",
          "text": [
            "6558.355\n"
          ]
        },
        {
          "name": "stderr",
          "output_type": "stream",
          "text": [
            "It: 10800, Loss: 2.840e+00, Loss_bcs: 9.215e-06, Loss_res: 2.839e+00 ,Time: 0.00\n",
            "Compute NTK...\n"
          ]
        },
        {
          "name": "stdout",
          "output_type": "stream",
          "text": [
            "6545.9316\n"
          ]
        },
        {
          "name": "stderr",
          "output_type": "stream",
          "text": [
            "It: 10900, Loss: 2.803e+00, Loss_bcs: 9.006e-06, Loss_res: 2.802e+00 ,Time: 0.00\n",
            "Compute NTK...\n"
          ]
        },
        {
          "name": "stdout",
          "output_type": "stream",
          "text": [
            "6530.0566\n"
          ]
        },
        {
          "name": "stderr",
          "output_type": "stream",
          "text": [
            "It: 11000, Loss: 2.767e+00, Loss_bcs: 8.799e-06, Loss_res: 2.766e+00 ,Time: 0.00\n",
            "Compute NTK...\n"
          ]
        },
        {
          "name": "stdout",
          "output_type": "stream",
          "text": [
            "6540.5273\n"
          ]
        },
        {
          "name": "stderr",
          "output_type": "stream",
          "text": [
            "It: 11100, Loss: 2.732e+00, Loss_bcs: 8.617e-06, Loss_res: 2.731e+00 ,Time: 0.00\n",
            "Compute NTK...\n"
          ]
        },
        {
          "name": "stdout",
          "output_type": "stream",
          "text": [
            "6547.084\n"
          ]
        },
        {
          "name": "stderr",
          "output_type": "stream",
          "text": [
            "It: 11200, Loss: 2.697e+00, Loss_bcs: 8.428e-06, Loss_res: 2.696e+00 ,Time: 0.00\n",
            "Compute NTK...\n"
          ]
        },
        {
          "name": "stdout",
          "output_type": "stream",
          "text": [
            "6539.0625\n"
          ]
        },
        {
          "name": "stderr",
          "output_type": "stream",
          "text": [
            "It: 11300, Loss: 2.663e+00, Loss_bcs: 8.247e-06, Loss_res: 2.662e+00 ,Time: 0.00\n",
            "Compute NTK...\n"
          ]
        },
        {
          "name": "stdout",
          "output_type": "stream",
          "text": [
            "6504.88\n"
          ]
        },
        {
          "name": "stderr",
          "output_type": "stream",
          "text": [
            "It: 11400, Loss: 2.630e+00, Loss_bcs: 8.071e-06, Loss_res: 2.629e+00 ,Time: 0.00\n",
            "Compute NTK...\n"
          ]
        },
        {
          "name": "stdout",
          "output_type": "stream",
          "text": [
            "6497.425\n"
          ]
        },
        {
          "name": "stderr",
          "output_type": "stream",
          "text": [
            "It: 11500, Loss: 2.597e+00, Loss_bcs: 7.899e-06, Loss_res: 2.597e+00 ,Time: 0.00\n",
            "Compute NTK...\n"
          ]
        },
        {
          "name": "stdout",
          "output_type": "stream",
          "text": [
            "6498.0596\n"
          ]
        },
        {
          "name": "stderr",
          "output_type": "stream",
          "text": [
            "It: 11600, Loss: 2.566e+00, Loss_bcs: 7.723e-06, Loss_res: 2.565e+00 ,Time: 0.00\n",
            "Compute NTK...\n"
          ]
        },
        {
          "name": "stdout",
          "output_type": "stream",
          "text": [
            "6490.8594\n"
          ]
        },
        {
          "name": "stderr",
          "output_type": "stream",
          "text": [
            "It: 11700, Loss: 2.534e+00, Loss_bcs: 7.560e-06, Loss_res: 2.534e+00 ,Time: 0.00\n",
            "Compute NTK...\n"
          ]
        },
        {
          "name": "stdout",
          "output_type": "stream",
          "text": [
            "6478.547\n"
          ]
        },
        {
          "name": "stderr",
          "output_type": "stream",
          "text": [
            "It: 11800, Loss: 2.504e+00, Loss_bcs: 7.400e-06, Loss_res: 2.503e+00 ,Time: 0.00\n",
            "Compute NTK...\n"
          ]
        },
        {
          "name": "stdout",
          "output_type": "stream",
          "text": [
            "6465.427\n"
          ]
        },
        {
          "name": "stderr",
          "output_type": "stream",
          "text": [
            "It: 11900, Loss: 2.474e+00, Loss_bcs: 7.254e-06, Loss_res: 2.473e+00 ,Time: 0.00\n",
            "Compute NTK...\n"
          ]
        },
        {
          "name": "stdout",
          "output_type": "stream",
          "text": [
            "6456.617\n"
          ]
        },
        {
          "name": "stderr",
          "output_type": "stream",
          "text": [
            "It: 12000, Loss: 2.445e+00, Loss_bcs: 7.098e-06, Loss_res: 2.444e+00 ,Time: 0.00\n",
            "Compute NTK...\n"
          ]
        },
        {
          "name": "stdout",
          "output_type": "stream",
          "text": [
            "6454.986\n"
          ]
        },
        {
          "name": "stderr",
          "output_type": "stream",
          "text": [
            "It: 12100, Loss: 2.416e+00, Loss_bcs: 6.952e-06, Loss_res: 2.415e+00 ,Time: 0.00\n",
            "Compute NTK...\n"
          ]
        },
        {
          "name": "stdout",
          "output_type": "stream",
          "text": [
            "6442.928\n"
          ]
        },
        {
          "name": "stderr",
          "output_type": "stream",
          "text": [
            "It: 12200, Loss: 2.388e+00, Loss_bcs: 6.821e-06, Loss_res: 2.387e+00 ,Time: 0.00\n",
            "Compute NTK...\n"
          ]
        },
        {
          "name": "stdout",
          "output_type": "stream",
          "text": [
            "6419.149\n"
          ]
        },
        {
          "name": "stderr",
          "output_type": "stream",
          "text": [
            "It: 12300, Loss: 2.360e+00, Loss_bcs: 6.684e-06, Loss_res: 2.359e+00 ,Time: 0.00\n",
            "Compute NTK...\n"
          ]
        },
        {
          "name": "stdout",
          "output_type": "stream",
          "text": [
            "6427.033\n"
          ]
        },
        {
          "name": "stderr",
          "output_type": "stream",
          "text": [
            "It: 12400, Loss: 2.333e+00, Loss_bcs: 6.547e-06, Loss_res: 2.332e+00 ,Time: 0.00\n",
            "Compute NTK...\n"
          ]
        },
        {
          "name": "stdout",
          "output_type": "stream",
          "text": [
            "6435.0527\n"
          ]
        },
        {
          "name": "stderr",
          "output_type": "stream",
          "text": [
            "It: 12500, Loss: 2.307e+00, Loss_bcs: 6.420e-06, Loss_res: 2.306e+00 ,Time: 0.00\n",
            "Compute NTK...\n"
          ]
        },
        {
          "name": "stdout",
          "output_type": "stream",
          "text": [
            "6421.655\n"
          ]
        },
        {
          "name": "stderr",
          "output_type": "stream",
          "text": [
            "It: 12600, Loss: 2.281e+00, Loss_bcs: 6.289e-06, Loss_res: 2.280e+00 ,Time: 0.00\n",
            "Compute NTK...\n"
          ]
        },
        {
          "name": "stdout",
          "output_type": "stream",
          "text": [
            "6406.65\n"
          ]
        },
        {
          "name": "stderr",
          "output_type": "stream",
          "text": [
            "It: 12700, Loss: 2.255e+00, Loss_bcs: 6.166e-06, Loss_res: 2.254e+00 ,Time: 0.00\n",
            "Compute NTK...\n"
          ]
        },
        {
          "name": "stdout",
          "output_type": "stream",
          "text": [
            "6385.066\n"
          ]
        },
        {
          "name": "stderr",
          "output_type": "stream",
          "text": [
            "It: 12800, Loss: 2.230e+00, Loss_bcs: 6.045e-06, Loss_res: 2.229e+00 ,Time: 0.00\n",
            "Compute NTK...\n"
          ]
        },
        {
          "name": "stdout",
          "output_type": "stream",
          "text": [
            "6362.8413\n"
          ]
        },
        {
          "name": "stderr",
          "output_type": "stream",
          "text": [
            "It: 12900, Loss: 2.205e+00, Loss_bcs: 5.927e-06, Loss_res: 2.205e+00 ,Time: 0.00\n",
            "Compute NTK...\n"
          ]
        },
        {
          "name": "stdout",
          "output_type": "stream",
          "text": [
            "6357.165\n"
          ]
        },
        {
          "name": "stderr",
          "output_type": "stream",
          "text": [
            "It: 13000, Loss: 2.181e+00, Loss_bcs: 5.814e-06, Loss_res: 2.181e+00 ,Time: 0.00\n",
            "Compute NTK...\n"
          ]
        },
        {
          "name": "stdout",
          "output_type": "stream",
          "text": [
            "6372.4126\n"
          ]
        },
        {
          "name": "stderr",
          "output_type": "stream",
          "text": [
            "It: 13100, Loss: 2.158e+00, Loss_bcs: 5.714e-06, Loss_res: 2.157e+00 ,Time: 0.00\n",
            "Compute NTK...\n"
          ]
        },
        {
          "name": "stdout",
          "output_type": "stream",
          "text": [
            "6346.1753\n"
          ]
        },
        {
          "name": "stderr",
          "output_type": "stream",
          "text": [
            "It: 13200, Loss: 2.134e+00, Loss_bcs: 5.607e-06, Loss_res: 2.134e+00 ,Time: 0.00\n",
            "Compute NTK...\n"
          ]
        },
        {
          "name": "stdout",
          "output_type": "stream",
          "text": [
            "6329.2534\n"
          ]
        },
        {
          "name": "stderr",
          "output_type": "stream",
          "text": [
            "It: 13300, Loss: 2.111e+00, Loss_bcs: 5.494e-06, Loss_res: 2.111e+00 ,Time: 0.00\n",
            "Compute NTK...\n"
          ]
        },
        {
          "name": "stdout",
          "output_type": "stream",
          "text": [
            "6346.9404\n"
          ]
        },
        {
          "name": "stderr",
          "output_type": "stream",
          "text": [
            "It: 13400, Loss: 2.089e+00, Loss_bcs: 5.394e-06, Loss_res: 2.089e+00 ,Time: 0.00\n",
            "Compute NTK...\n"
          ]
        },
        {
          "name": "stdout",
          "output_type": "stream",
          "text": [
            "6330.612\n"
          ]
        },
        {
          "name": "stderr",
          "output_type": "stream",
          "text": [
            "It: 13500, Loss: 2.067e+00, Loss_bcs: 5.303e-06, Loss_res: 2.066e+00 ,Time: 0.00\n",
            "Compute NTK...\n"
          ]
        },
        {
          "name": "stdout",
          "output_type": "stream",
          "text": [
            "6298.7334\n"
          ]
        },
        {
          "name": "stderr",
          "output_type": "stream",
          "text": [
            "It: 13600, Loss: 2.045e+00, Loss_bcs: 5.198e-06, Loss_res: 2.045e+00 ,Time: 0.00\n",
            "Compute NTK...\n"
          ]
        },
        {
          "name": "stdout",
          "output_type": "stream",
          "text": [
            "6322.8335\n"
          ]
        },
        {
          "name": "stderr",
          "output_type": "stream",
          "text": [
            "It: 13700, Loss: 2.024e+00, Loss_bcs: 5.097e-06, Loss_res: 2.024e+00 ,Time: 0.00\n",
            "Compute NTK...\n"
          ]
        },
        {
          "name": "stdout",
          "output_type": "stream",
          "text": [
            "6301.978\n"
          ]
        },
        {
          "name": "stderr",
          "output_type": "stream",
          "text": [
            "It: 13800, Loss: 2.003e+00, Loss_bcs: 5.001e-06, Loss_res: 2.003e+00 ,Time: 0.00\n",
            "Compute NTK...\n"
          ]
        },
        {
          "name": "stdout",
          "output_type": "stream",
          "text": [
            "6278.386\n"
          ]
        },
        {
          "name": "stderr",
          "output_type": "stream",
          "text": [
            "It: 13900, Loss: 1.983e+00, Loss_bcs: 4.917e-06, Loss_res: 1.982e+00 ,Time: 0.00\n",
            "Compute NTK...\n"
          ]
        },
        {
          "name": "stdout",
          "output_type": "stream",
          "text": [
            "6269.5815\n"
          ]
        },
        {
          "name": "stderr",
          "output_type": "stream",
          "text": [
            "It: 14000, Loss: 1.962e+00, Loss_bcs: 4.830e-06, Loss_res: 1.962e+00 ,Time: 0.00\n",
            "Compute NTK...\n"
          ]
        },
        {
          "name": "stdout",
          "output_type": "stream",
          "text": [
            "6277.621\n"
          ]
        },
        {
          "name": "stderr",
          "output_type": "stream",
          "text": [
            "It: 14100, Loss: 1.943e+00, Loss_bcs: 4.749e-06, Loss_res: 1.942e+00 ,Time: 0.00\n",
            "Compute NTK...\n"
          ]
        },
        {
          "name": "stdout",
          "output_type": "stream",
          "text": [
            "6246.0654\n"
          ]
        },
        {
          "name": "stderr",
          "output_type": "stream",
          "text": [
            "It: 14200, Loss: 1.923e+00, Loss_bcs: 4.666e-06, Loss_res: 1.923e+00 ,Time: 0.00\n",
            "Compute NTK...\n"
          ]
        },
        {
          "name": "stdout",
          "output_type": "stream",
          "text": [
            "6241.553\n"
          ]
        },
        {
          "name": "stderr",
          "output_type": "stream",
          "text": [
            "It: 14300, Loss: 1.904e+00, Loss_bcs: 4.584e-06, Loss_res: 1.903e+00 ,Time: 0.00\n",
            "Compute NTK...\n"
          ]
        },
        {
          "name": "stdout",
          "output_type": "stream",
          "text": [
            "6258.002\n"
          ]
        },
        {
          "name": "stderr",
          "output_type": "stream",
          "text": [
            "It: 14400, Loss: 1.885e+00, Loss_bcs: 4.515e-06, Loss_res: 1.885e+00 ,Time: 0.00\n",
            "Compute NTK...\n"
          ]
        },
        {
          "name": "stdout",
          "output_type": "stream",
          "text": [
            "6223.6016\n"
          ]
        },
        {
          "name": "stderr",
          "output_type": "stream",
          "text": [
            "It: 14500, Loss: 1.866e+00, Loss_bcs: 4.429e-06, Loss_res: 1.866e+00 ,Time: 0.00\n",
            "Compute NTK...\n"
          ]
        },
        {
          "name": "stdout",
          "output_type": "stream",
          "text": [
            "6227.856\n"
          ]
        },
        {
          "name": "stderr",
          "output_type": "stream",
          "text": [
            "It: 14600, Loss: 1.848e+00, Loss_bcs: 4.350e-06, Loss_res: 1.848e+00 ,Time: 0.00\n",
            "Compute NTK...\n"
          ]
        },
        {
          "name": "stdout",
          "output_type": "stream",
          "text": [
            "6221.8506\n"
          ]
        },
        {
          "name": "stderr",
          "output_type": "stream",
          "text": [
            "It: 14700, Loss: 1.830e+00, Loss_bcs: 4.270e-06, Loss_res: 1.830e+00 ,Time: 0.00\n",
            "Compute NTK...\n"
          ]
        },
        {
          "name": "stdout",
          "output_type": "stream",
          "text": [
            "6185.002\n"
          ]
        },
        {
          "name": "stderr",
          "output_type": "stream",
          "text": [
            "It: 14800, Loss: 1.812e+00, Loss_bcs: 4.203e-06, Loss_res: 1.812e+00 ,Time: 0.00\n",
            "Compute NTK...\n"
          ]
        },
        {
          "name": "stdout",
          "output_type": "stream",
          "text": [
            "6182.6333\n"
          ]
        },
        {
          "name": "stderr",
          "output_type": "stream",
          "text": [
            "It: 14900, Loss: 1.795e+00, Loss_bcs: 4.137e-06, Loss_res: 1.795e+00 ,Time: 0.00\n",
            "Compute NTK...\n"
          ]
        },
        {
          "name": "stdout",
          "output_type": "stream",
          "text": [
            "6185.3984\n"
          ]
        },
        {
          "name": "stderr",
          "output_type": "stream",
          "text": [
            "It: 15000, Loss: 1.778e+00, Loss_bcs: 4.071e-06, Loss_res: 1.778e+00 ,Time: 0.00\n",
            "Compute NTK...\n"
          ]
        },
        {
          "name": "stdout",
          "output_type": "stream",
          "text": [
            "6169.3525\n"
          ]
        },
        {
          "name": "stderr",
          "output_type": "stream",
          "text": [
            "It: 15100, Loss: 1.761e+00, Loss_bcs: 4.005e-06, Loss_res: 1.761e+00 ,Time: 0.00\n",
            "Compute NTK...\n"
          ]
        },
        {
          "name": "stdout",
          "output_type": "stream",
          "text": [
            "6179.829\n"
          ]
        },
        {
          "name": "stderr",
          "output_type": "stream",
          "text": [
            "It: 15200, Loss: 1.745e+00, Loss_bcs: 3.935e-06, Loss_res: 1.744e+00 ,Time: 0.00\n",
            "Compute NTK...\n"
          ]
        },
        {
          "name": "stdout",
          "output_type": "stream",
          "text": [
            "6160.9414\n"
          ]
        },
        {
          "name": "stderr",
          "output_type": "stream",
          "text": [
            "It: 15300, Loss: 1.728e+00, Loss_bcs: 3.876e-06, Loss_res: 1.728e+00 ,Time: 0.00\n",
            "Compute NTK...\n"
          ]
        },
        {
          "name": "stdout",
          "output_type": "stream",
          "text": [
            "6156.343\n"
          ]
        },
        {
          "name": "stderr",
          "output_type": "stream",
          "text": [
            "It: 15400, Loss: 1.712e+00, Loss_bcs: 3.811e-06, Loss_res: 1.712e+00 ,Time: 0.00\n",
            "Compute NTK...\n"
          ]
        },
        {
          "name": "stdout",
          "output_type": "stream",
          "text": [
            "6141.082\n"
          ]
        },
        {
          "name": "stderr",
          "output_type": "stream",
          "text": [
            "It: 15500, Loss: 1.696e+00, Loss_bcs: 3.754e-06, Loss_res: 1.696e+00 ,Time: 0.00\n",
            "Compute NTK...\n"
          ]
        },
        {
          "name": "stdout",
          "output_type": "stream",
          "text": [
            "6117.892\n"
          ]
        },
        {
          "name": "stderr",
          "output_type": "stream",
          "text": [
            "It: 15600, Loss: 1.681e+00, Loss_bcs: 3.692e-06, Loss_res: 1.680e+00 ,Time: 0.00\n",
            "Compute NTK...\n"
          ]
        },
        {
          "name": "stdout",
          "output_type": "stream",
          "text": [
            "6124.4033\n"
          ]
        },
        {
          "name": "stderr",
          "output_type": "stream",
          "text": [
            "It: 15700, Loss: 1.665e+00, Loss_bcs: 3.627e-06, Loss_res: 1.665e+00 ,Time: 0.00\n",
            "Compute NTK...\n"
          ]
        },
        {
          "name": "stdout",
          "output_type": "stream",
          "text": [
            "6100.5405\n"
          ]
        },
        {
          "name": "stderr",
          "output_type": "stream",
          "text": [
            "It: 15800, Loss: 1.650e+00, Loss_bcs: 3.570e-06, Loss_res: 1.650e+00 ,Time: 0.00\n",
            "Compute NTK...\n"
          ]
        },
        {
          "name": "stdout",
          "output_type": "stream",
          "text": [
            "6108.2983\n"
          ]
        },
        {
          "name": "stderr",
          "output_type": "stream",
          "text": [
            "It: 15900, Loss: 1.635e+00, Loss_bcs: 3.518e-06, Loss_res: 1.635e+00 ,Time: 0.00\n",
            "Compute NTK...\n"
          ]
        },
        {
          "name": "stdout",
          "output_type": "stream",
          "text": [
            "6104.31\n"
          ]
        },
        {
          "name": "stderr",
          "output_type": "stream",
          "text": [
            "It: 16000, Loss: 1.621e+00, Loss_bcs: 3.463e-06, Loss_res: 1.620e+00 ,Time: 0.00\n",
            "Compute NTK...\n"
          ]
        },
        {
          "name": "stdout",
          "output_type": "stream",
          "text": [
            "6116.592\n"
          ]
        },
        {
          "name": "stderr",
          "output_type": "stream",
          "text": [
            "It: 16100, Loss: 1.606e+00, Loss_bcs: 3.408e-06, Loss_res: 1.606e+00 ,Time: 0.00\n",
            "Compute NTK...\n"
          ]
        },
        {
          "name": "stdout",
          "output_type": "stream",
          "text": [
            "6100.3135\n"
          ]
        },
        {
          "name": "stderr",
          "output_type": "stream",
          "text": [
            "It: 16200, Loss: 1.592e+00, Loss_bcs: 3.366e-06, Loss_res: 1.591e+00 ,Time: 0.00\n",
            "Compute NTK...\n"
          ]
        },
        {
          "name": "stdout",
          "output_type": "stream",
          "text": [
            "6100.096\n"
          ]
        },
        {
          "name": "stderr",
          "output_type": "stream",
          "text": [
            "It: 16300, Loss: 1.578e+00, Loss_bcs: 3.311e-06, Loss_res: 1.577e+00 ,Time: 0.00\n",
            "Compute NTK...\n"
          ]
        },
        {
          "name": "stdout",
          "output_type": "stream",
          "text": [
            "6076.676\n"
          ]
        },
        {
          "name": "stderr",
          "output_type": "stream",
          "text": [
            "It: 16400, Loss: 1.564e+00, Loss_bcs: 3.258e-06, Loss_res: 1.564e+00 ,Time: 0.00\n",
            "Compute NTK...\n"
          ]
        },
        {
          "name": "stdout",
          "output_type": "stream",
          "text": [
            "6096.638\n"
          ]
        },
        {
          "name": "stderr",
          "output_type": "stream",
          "text": [
            "It: 16500, Loss: 1.550e+00, Loss_bcs: 3.201e-06, Loss_res: 1.550e+00 ,Time: 0.00\n",
            "Compute NTK...\n"
          ]
        },
        {
          "name": "stdout",
          "output_type": "stream",
          "text": [
            "6052.5693\n"
          ]
        },
        {
          "name": "stderr",
          "output_type": "stream",
          "text": [
            "It: 16600, Loss: 1.537e+00, Loss_bcs: 3.155e-06, Loss_res: 1.536e+00 ,Time: 0.00\n",
            "Compute NTK...\n"
          ]
        },
        {
          "name": "stdout",
          "output_type": "stream",
          "text": [
            "6058.702\n"
          ]
        },
        {
          "name": "stderr",
          "output_type": "stream",
          "text": [
            "It: 16700, Loss: 1.523e+00, Loss_bcs: 3.108e-06, Loss_res: 1.523e+00 ,Time: 0.00\n",
            "Compute NTK...\n"
          ]
        },
        {
          "name": "stdout",
          "output_type": "stream",
          "text": [
            "6025.4097\n"
          ]
        },
        {
          "name": "stderr",
          "output_type": "stream",
          "text": [
            "It: 16800, Loss: 1.510e+00, Loss_bcs: 3.070e-06, Loss_res: 1.510e+00 ,Time: 0.00\n",
            "Compute NTK...\n"
          ]
        },
        {
          "name": "stdout",
          "output_type": "stream",
          "text": [
            "6044.26\n"
          ]
        },
        {
          "name": "stderr",
          "output_type": "stream",
          "text": [
            "It: 16900, Loss: 1.498e+00, Loss_bcs: 3.024e-06, Loss_res: 1.497e+00 ,Time: 0.00\n",
            "Compute NTK...\n"
          ]
        },
        {
          "name": "stdout",
          "output_type": "stream",
          "text": [
            "6008.592\n"
          ]
        },
        {
          "name": "stderr",
          "output_type": "stream",
          "text": [
            "It: 17000, Loss: 1.485e+00, Loss_bcs: 2.979e-06, Loss_res: 1.484e+00 ,Time: 0.00\n",
            "Compute NTK...\n"
          ]
        },
        {
          "name": "stdout",
          "output_type": "stream",
          "text": [
            "6016.6094\n"
          ]
        },
        {
          "name": "stderr",
          "output_type": "stream",
          "text": [
            "It: 17100, Loss: 1.472e+00, Loss_bcs: 2.936e-06, Loss_res: 1.472e+00 ,Time: 0.00\n",
            "Compute NTK...\n"
          ]
        },
        {
          "name": "stdout",
          "output_type": "stream",
          "text": [
            "6010.002\n"
          ]
        },
        {
          "name": "stderr",
          "output_type": "stream",
          "text": [
            "It: 17200, Loss: 1.460e+00, Loss_bcs: 2.892e-06, Loss_res: 1.460e+00 ,Time: 0.00\n",
            "Compute NTK...\n"
          ]
        },
        {
          "name": "stdout",
          "output_type": "stream",
          "text": [
            "5996.4253\n"
          ]
        },
        {
          "name": "stderr",
          "output_type": "stream",
          "text": [
            "It: 17300, Loss: 1.448e+00, Loss_bcs: 2.854e-06, Loss_res: 1.447e+00 ,Time: 0.00\n",
            "Compute NTK...\n"
          ]
        },
        {
          "name": "stdout",
          "output_type": "stream",
          "text": [
            "6015.553\n"
          ]
        },
        {
          "name": "stderr",
          "output_type": "stream",
          "text": [
            "It: 17400, Loss: 1.436e+00, Loss_bcs: 2.813e-06, Loss_res: 1.435e+00 ,Time: 0.00\n",
            "Compute NTK...\n"
          ]
        },
        {
          "name": "stdout",
          "output_type": "stream",
          "text": [
            "5990.3477\n"
          ]
        },
        {
          "name": "stderr",
          "output_type": "stream",
          "text": [
            "It: 17500, Loss: 1.424e+00, Loss_bcs: 2.777e-06, Loss_res: 1.423e+00 ,Time: 0.00\n",
            "Compute NTK...\n"
          ]
        },
        {
          "name": "stdout",
          "output_type": "stream",
          "text": [
            "5972.27\n"
          ]
        },
        {
          "name": "stderr",
          "output_type": "stream",
          "text": [
            "It: 17600, Loss: 1.412e+00, Loss_bcs: 2.735e-06, Loss_res: 1.412e+00 ,Time: 0.00\n",
            "Compute NTK...\n"
          ]
        },
        {
          "name": "stdout",
          "output_type": "stream",
          "text": [
            "5942.34\n"
          ]
        },
        {
          "name": "stderr",
          "output_type": "stream",
          "text": [
            "It: 17700, Loss: 1.401e+00, Loss_bcs: 2.695e-06, Loss_res: 1.400e+00 ,Time: 0.00\n",
            "Compute NTK...\n"
          ]
        },
        {
          "name": "stdout",
          "output_type": "stream",
          "text": [
            "5954.585\n"
          ]
        },
        {
          "name": "stderr",
          "output_type": "stream",
          "text": [
            "It: 17800, Loss: 1.389e+00, Loss_bcs: 2.660e-06, Loss_res: 1.389e+00 ,Time: 0.00\n",
            "Compute NTK...\n"
          ]
        },
        {
          "name": "stdout",
          "output_type": "stream",
          "text": [
            "5954.7056\n"
          ]
        },
        {
          "name": "stderr",
          "output_type": "stream",
          "text": [
            "It: 17900, Loss: 1.378e+00, Loss_bcs: 2.621e-06, Loss_res: 1.378e+00 ,Time: 0.00\n",
            "Compute NTK...\n"
          ]
        },
        {
          "name": "stdout",
          "output_type": "stream",
          "text": [
            "5918.41\n"
          ]
        },
        {
          "name": "stderr",
          "output_type": "stream",
          "text": [
            "It: 18000, Loss: 1.367e+00, Loss_bcs: 2.585e-06, Loss_res: 1.367e+00 ,Time: 0.00\n",
            "Compute NTK...\n"
          ]
        },
        {
          "name": "stdout",
          "output_type": "stream",
          "text": [
            "5965.6294\n"
          ]
        },
        {
          "name": "stderr",
          "output_type": "stream",
          "text": [
            "It: 18100, Loss: 1.356e+00, Loss_bcs: 2.549e-06, Loss_res: 1.356e+00 ,Time: 0.00\n",
            "Compute NTK...\n"
          ]
        },
        {
          "name": "stdout",
          "output_type": "stream",
          "text": [
            "5933.609\n"
          ]
        },
        {
          "name": "stderr",
          "output_type": "stream",
          "text": [
            "It: 18200, Loss: 1.345e+00, Loss_bcs: 2.516e-06, Loss_res: 1.345e+00 ,Time: 0.00\n",
            "Compute NTK...\n"
          ]
        },
        {
          "name": "stdout",
          "output_type": "stream",
          "text": [
            "5949.4565\n"
          ]
        },
        {
          "name": "stderr",
          "output_type": "stream",
          "text": [
            "It: 18300, Loss: 1.334e+00, Loss_bcs: 2.484e-06, Loss_res: 1.334e+00 ,Time: 0.00\n",
            "Compute NTK...\n"
          ]
        },
        {
          "name": "stdout",
          "output_type": "stream",
          "text": [
            "5967.5947\n"
          ]
        },
        {
          "name": "stderr",
          "output_type": "stream",
          "text": [
            "It: 18400, Loss: 1.324e+00, Loss_bcs: 2.451e-06, Loss_res: 1.324e+00 ,Time: 0.00\n",
            "Compute NTK...\n"
          ]
        },
        {
          "name": "stdout",
          "output_type": "stream",
          "text": [
            "5903.8057\n"
          ]
        },
        {
          "name": "stderr",
          "output_type": "stream",
          "text": [
            "It: 18500, Loss: 1.313e+00, Loss_bcs: 2.417e-06, Loss_res: 1.313e+00 ,Time: 0.00\n",
            "Compute NTK...\n"
          ]
        },
        {
          "name": "stdout",
          "output_type": "stream",
          "text": [
            "5933.749\n"
          ]
        },
        {
          "name": "stderr",
          "output_type": "stream",
          "text": [
            "It: 18600, Loss: 1.303e+00, Loss_bcs: 2.387e-06, Loss_res: 1.303e+00 ,Time: 0.00\n",
            "Compute NTK...\n"
          ]
        },
        {
          "name": "stdout",
          "output_type": "stream",
          "text": [
            "5924.3467\n"
          ]
        },
        {
          "name": "stderr",
          "output_type": "stream",
          "text": [
            "It: 18700, Loss: 1.293e+00, Loss_bcs: 2.355e-06, Loss_res: 1.293e+00 ,Time: 0.00\n",
            "Compute NTK...\n"
          ]
        },
        {
          "name": "stdout",
          "output_type": "stream",
          "text": [
            "5880.056\n"
          ]
        },
        {
          "name": "stderr",
          "output_type": "stream",
          "text": [
            "It: 18800, Loss: 1.283e+00, Loss_bcs: 2.323e-06, Loss_res: 1.283e+00 ,Time: 0.00\n",
            "Compute NTK...\n"
          ]
        },
        {
          "name": "stdout",
          "output_type": "stream",
          "text": [
            "5912.103\n"
          ]
        },
        {
          "name": "stderr",
          "output_type": "stream",
          "text": [
            "It: 18900, Loss: 1.273e+00, Loss_bcs: 2.297e-06, Loss_res: 1.273e+00 ,Time: 0.00\n",
            "Compute NTK...\n"
          ]
        },
        {
          "name": "stdout",
          "output_type": "stream",
          "text": [
            "5919.0586\n"
          ]
        },
        {
          "name": "stderr",
          "output_type": "stream",
          "text": [
            "It: 19000, Loss: 1.263e+00, Loss_bcs: 2.270e-06, Loss_res: 1.263e+00 ,Time: 0.00\n",
            "Compute NTK...\n"
          ]
        },
        {
          "name": "stdout",
          "output_type": "stream",
          "text": [
            "5914.8735\n"
          ]
        },
        {
          "name": "stderr",
          "output_type": "stream",
          "text": [
            "It: 19100, Loss: 1.254e+00, Loss_bcs: 2.237e-06, Loss_res: 1.254e+00 ,Time: 0.00\n",
            "Compute NTK...\n"
          ]
        },
        {
          "name": "stdout",
          "output_type": "stream",
          "text": [
            "5878.0435\n"
          ]
        },
        {
          "name": "stderr",
          "output_type": "stream",
          "text": [
            "It: 19200, Loss: 1.244e+00, Loss_bcs: 2.207e-06, Loss_res: 1.244e+00 ,Time: 0.00\n",
            "Compute NTK...\n"
          ]
        },
        {
          "name": "stdout",
          "output_type": "stream",
          "text": [
            "5882.732\n"
          ]
        },
        {
          "name": "stderr",
          "output_type": "stream",
          "text": [
            "It: 19300, Loss: 1.235e+00, Loss_bcs: 2.178e-06, Loss_res: 1.235e+00 ,Time: 0.00\n",
            "Compute NTK...\n"
          ]
        },
        {
          "name": "stdout",
          "output_type": "stream",
          "text": [
            "5872.923\n"
          ]
        },
        {
          "name": "stderr",
          "output_type": "stream",
          "text": [
            "It: 19400, Loss: 1.226e+00, Loss_bcs: 2.150e-06, Loss_res: 1.226e+00 ,Time: 0.00\n",
            "Compute NTK...\n"
          ]
        },
        {
          "name": "stdout",
          "output_type": "stream",
          "text": [
            "5928.6787\n"
          ]
        },
        {
          "name": "stderr",
          "output_type": "stream",
          "text": [
            "It: 19500, Loss: 1.217e+00, Loss_bcs: 2.129e-06, Loss_res: 1.216e+00 ,Time: 0.00\n",
            "Compute NTK...\n"
          ]
        },
        {
          "name": "stdout",
          "output_type": "stream",
          "text": [
            "5882.0547\n"
          ]
        },
        {
          "name": "stderr",
          "output_type": "stream",
          "text": [
            "It: 19600, Loss: 1.208e+00, Loss_bcs: 2.097e-06, Loss_res: 1.207e+00 ,Time: 0.00\n",
            "Compute NTK...\n"
          ]
        },
        {
          "name": "stdout",
          "output_type": "stream",
          "text": [
            "5874.463\n"
          ]
        },
        {
          "name": "stderr",
          "output_type": "stream",
          "text": [
            "It: 19700, Loss: 1.199e+00, Loss_bcs: 2.075e-06, Loss_res: 1.198e+00 ,Time: 0.00\n",
            "Compute NTK...\n"
          ]
        },
        {
          "name": "stdout",
          "output_type": "stream",
          "text": [
            "5891.5205\n"
          ]
        },
        {
          "name": "stderr",
          "output_type": "stream",
          "text": [
            "It: 19800, Loss: 1.190e+00, Loss_bcs: 2.052e-06, Loss_res: 1.190e+00 ,Time: 0.00\n",
            "Compute NTK...\n"
          ]
        },
        {
          "name": "stdout",
          "output_type": "stream",
          "text": [
            "5861.631\n"
          ]
        },
        {
          "name": "stderr",
          "output_type": "stream",
          "text": [
            "It: 19900, Loss: 1.181e+00, Loss_bcs: 2.023e-06, Loss_res: 1.181e+00 ,Time: 0.00\n",
            "Compute NTK...\n"
          ]
        },
        {
          "name": "stdout",
          "output_type": "stream",
          "text": [
            "5838.749\n"
          ]
        },
        {
          "name": "stderr",
          "output_type": "stream",
          "text": [
            "It: 20000, Loss: 1.173e+00, Loss_bcs: 1.996e-06, Loss_res: 1.172e+00 ,Time: 0.00\n",
            "Compute NTK...\n"
          ]
        },
        {
          "name": "stdout",
          "output_type": "stream",
          "text": [
            "5856.6704\n"
          ]
        },
        {
          "name": "stderr",
          "output_type": "stream",
          "text": [
            "It: 20100, Loss: 1.164e+00, Loss_bcs: 1.982e-06, Loss_res: 1.164e+00 ,Time: 0.00\n",
            "Compute NTK...\n"
          ]
        },
        {
          "name": "stdout",
          "output_type": "stream",
          "text": [
            "5869.456\n"
          ]
        },
        {
          "name": "stderr",
          "output_type": "stream",
          "text": [
            "It: 20200, Loss: 1.156e+00, Loss_bcs: 1.955e-06, Loss_res: 1.156e+00 ,Time: 0.00\n",
            "Compute NTK...\n"
          ]
        },
        {
          "name": "stdout",
          "output_type": "stream",
          "text": [
            "5799.7188\n"
          ]
        },
        {
          "name": "stderr",
          "output_type": "stream",
          "text": [
            "It: 20300, Loss: 1.148e+00, Loss_bcs: 1.929e-06, Loss_res: 1.147e+00 ,Time: 0.00\n",
            "Compute NTK...\n"
          ]
        },
        {
          "name": "stdout",
          "output_type": "stream",
          "text": [
            "5807.2695\n"
          ]
        },
        {
          "name": "stderr",
          "output_type": "stream",
          "text": [
            "It: 20400, Loss: 1.139e+00, Loss_bcs: 1.909e-06, Loss_res: 1.139e+00 ,Time: 0.00\n",
            "Compute NTK...\n"
          ]
        },
        {
          "name": "stdout",
          "output_type": "stream",
          "text": [
            "5822.378\n"
          ]
        },
        {
          "name": "stderr",
          "output_type": "stream",
          "text": [
            "It: 20500, Loss: 1.131e+00, Loss_bcs: 1.886e-06, Loss_res: 1.131e+00 ,Time: 0.00\n",
            "Compute NTK...\n"
          ]
        },
        {
          "name": "stdout",
          "output_type": "stream",
          "text": [
            "5820.1226\n"
          ]
        },
        {
          "name": "stderr",
          "output_type": "stream",
          "text": [
            "It: 20600, Loss: 1.123e+00, Loss_bcs: 1.859e-06, Loss_res: 1.123e+00 ,Time: 0.00\n",
            "Compute NTK...\n"
          ]
        },
        {
          "name": "stdout",
          "output_type": "stream",
          "text": [
            "5793.1655\n"
          ]
        },
        {
          "name": "stderr",
          "output_type": "stream",
          "text": [
            "It: 20700, Loss: 1.115e+00, Loss_bcs: 1.838e-06, Loss_res: 1.115e+00 ,Time: 0.00\n",
            "Compute NTK...\n"
          ]
        },
        {
          "name": "stdout",
          "output_type": "stream",
          "text": [
            "5802.6514\n"
          ]
        },
        {
          "name": "stderr",
          "output_type": "stream",
          "text": [
            "It: 20800, Loss: 1.108e+00, Loss_bcs: 1.818e-06, Loss_res: 1.108e+00 ,Time: 0.00\n",
            "Compute NTK...\n"
          ]
        },
        {
          "name": "stdout",
          "output_type": "stream",
          "text": [
            "5805.4146\n"
          ]
        },
        {
          "name": "stderr",
          "output_type": "stream",
          "text": [
            "It: 20900, Loss: 1.100e+00, Loss_bcs: 1.799e-06, Loss_res: 1.100e+00 ,Time: 0.00\n",
            "Compute NTK...\n"
          ]
        },
        {
          "name": "stdout",
          "output_type": "stream",
          "text": [
            "5767.394\n"
          ]
        },
        {
          "name": "stderr",
          "output_type": "stream",
          "text": [
            "It: 21000, Loss: 1.092e+00, Loss_bcs: 1.775e-06, Loss_res: 1.092e+00 ,Time: 0.00\n",
            "Compute NTK...\n"
          ]
        },
        {
          "name": "stdout",
          "output_type": "stream",
          "text": [
            "5731.039\n"
          ]
        },
        {
          "name": "stderr",
          "output_type": "stream",
          "text": [
            "It: 21100, Loss: 1.085e+00, Loss_bcs: 1.752e-06, Loss_res: 1.085e+00 ,Time: 0.00\n",
            "Compute NTK...\n"
          ]
        },
        {
          "name": "stdout",
          "output_type": "stream",
          "text": [
            "5757.1353\n"
          ]
        },
        {
          "name": "stderr",
          "output_type": "stream",
          "text": [
            "It: 21200, Loss: 1.077e+00, Loss_bcs: 1.733e-06, Loss_res: 1.077e+00 ,Time: 0.00\n",
            "Compute NTK...\n"
          ]
        },
        {
          "name": "stdout",
          "output_type": "stream",
          "text": [
            "5774.2793\n"
          ]
        },
        {
          "name": "stderr",
          "output_type": "stream",
          "text": [
            "It: 21300, Loss: 1.070e+00, Loss_bcs: 1.711e-06, Loss_res: 1.070e+00 ,Time: 0.00\n",
            "Compute NTK...\n"
          ]
        },
        {
          "name": "stdout",
          "output_type": "stream",
          "text": [
            "5771.07\n"
          ]
        },
        {
          "name": "stderr",
          "output_type": "stream",
          "text": [
            "It: 21400, Loss: 1.063e+00, Loss_bcs: 1.694e-06, Loss_res: 1.063e+00 ,Time: 0.00\n",
            "Compute NTK...\n"
          ]
        },
        {
          "name": "stdout",
          "output_type": "stream",
          "text": [
            "5797.745\n"
          ]
        },
        {
          "name": "stderr",
          "output_type": "stream",
          "text": [
            "It: 21500, Loss: 1.056e+00, Loss_bcs: 1.676e-06, Loss_res: 1.056e+00 ,Time: 0.00\n",
            "Compute NTK...\n"
          ]
        },
        {
          "name": "stdout",
          "output_type": "stream",
          "text": [
            "5794.3945\n"
          ]
        },
        {
          "name": "stderr",
          "output_type": "stream",
          "text": [
            "It: 21600, Loss: 1.049e+00, Loss_bcs: 1.658e-06, Loss_res: 1.049e+00 ,Time: 0.00\n",
            "Compute NTK...\n"
          ]
        },
        {
          "name": "stdout",
          "output_type": "stream",
          "text": [
            "5786.819\n"
          ]
        },
        {
          "name": "stderr",
          "output_type": "stream",
          "text": [
            "It: 21700, Loss: 1.042e+00, Loss_bcs: 1.642e-06, Loss_res: 1.042e+00 ,Time: 0.00\n",
            "Compute NTK...\n"
          ]
        },
        {
          "name": "stdout",
          "output_type": "stream",
          "text": [
            "5733.9277\n"
          ]
        },
        {
          "name": "stderr",
          "output_type": "stream",
          "text": [
            "It: 21800, Loss: 1.035e+00, Loss_bcs: 1.623e-06, Loss_res: 1.035e+00 ,Time: 0.00\n",
            "Compute NTK...\n"
          ]
        },
        {
          "name": "stdout",
          "output_type": "stream",
          "text": [
            "5748.9165\n"
          ]
        },
        {
          "name": "stderr",
          "output_type": "stream",
          "text": [
            "It: 21900, Loss: 1.028e+00, Loss_bcs: 1.610e-06, Loss_res: 1.028e+00 ,Time: 0.00\n",
            "Compute NTK...\n"
          ]
        },
        {
          "name": "stdout",
          "output_type": "stream",
          "text": [
            "5772.218\n"
          ]
        },
        {
          "name": "stderr",
          "output_type": "stream",
          "text": [
            "It: 22000, Loss: 1.021e+00, Loss_bcs: 1.590e-06, Loss_res: 1.021e+00 ,Time: 0.00\n",
            "Compute NTK...\n"
          ]
        },
        {
          "name": "stdout",
          "output_type": "stream",
          "text": [
            "5795.5493\n"
          ]
        },
        {
          "name": "stderr",
          "output_type": "stream",
          "text": [
            "It: 22100, Loss: 1.015e+00, Loss_bcs: 1.570e-06, Loss_res: 1.014e+00 ,Time: 0.00\n",
            "Compute NTK...\n"
          ]
        },
        {
          "name": "stdout",
          "output_type": "stream",
          "text": [
            "5732.965\n"
          ]
        },
        {
          "name": "stderr",
          "output_type": "stream",
          "text": [
            "It: 22200, Loss: 1.008e+00, Loss_bcs: 1.550e-06, Loss_res: 1.008e+00 ,Time: 0.00\n",
            "Compute NTK...\n"
          ]
        },
        {
          "name": "stdout",
          "output_type": "stream",
          "text": [
            "5729.6924\n"
          ]
        },
        {
          "name": "stderr",
          "output_type": "stream",
          "text": [
            "It: 22300, Loss: 1.001e+00, Loss_bcs: 1.535e-06, Loss_res: 1.001e+00 ,Time: 0.00\n",
            "Compute NTK...\n"
          ]
        },
        {
          "name": "stdout",
          "output_type": "stream",
          "text": [
            "5741.4507\n"
          ]
        },
        {
          "name": "stderr",
          "output_type": "stream",
          "text": [
            "It: 22400, Loss: 9.950e-01, Loss_bcs: 1.518e-06, Loss_res: 9.949e-01 ,Time: 0.00\n",
            "Compute NTK...\n"
          ]
        },
        {
          "name": "stdout",
          "output_type": "stream",
          "text": [
            "5764.5093\n"
          ]
        },
        {
          "name": "stderr",
          "output_type": "stream",
          "text": [
            "It: 22500, Loss: 9.886e-01, Loss_bcs: 1.503e-06, Loss_res: 9.885e-01 ,Time: 0.00\n",
            "Compute NTK...\n"
          ]
        },
        {
          "name": "stdout",
          "output_type": "stream",
          "text": [
            "5740.8\n"
          ]
        },
        {
          "name": "stderr",
          "output_type": "stream",
          "text": [
            "It: 22600, Loss: 9.823e-01, Loss_bcs: 1.485e-06, Loss_res: 9.822e-01 ,Time: 0.00\n",
            "Compute NTK...\n"
          ]
        },
        {
          "name": "stdout",
          "output_type": "stream",
          "text": [
            "5678.853\n"
          ]
        },
        {
          "name": "stderr",
          "output_type": "stream",
          "text": [
            "It: 22700, Loss: 9.761e-01, Loss_bcs: 1.470e-06, Loss_res: 9.760e-01 ,Time: 0.00\n",
            "Compute NTK...\n"
          ]
        },
        {
          "name": "stdout",
          "output_type": "stream",
          "text": [
            "5693.4937\n"
          ]
        },
        {
          "name": "stderr",
          "output_type": "stream",
          "text": [
            "It: 22800, Loss: 9.700e-01, Loss_bcs: 1.454e-06, Loss_res: 9.698e-01 ,Time: 0.00\n",
            "Compute NTK...\n"
          ]
        },
        {
          "name": "stdout",
          "output_type": "stream",
          "text": [
            "5705.031\n"
          ]
        },
        {
          "name": "stderr",
          "output_type": "stream",
          "text": [
            "It: 22900, Loss: 9.639e-01, Loss_bcs: 1.442e-06, Loss_res: 9.637e-01 ,Time: 0.00\n",
            "Compute NTK...\n"
          ]
        },
        {
          "name": "stdout",
          "output_type": "stream",
          "text": [
            "5715.0723\n"
          ]
        },
        {
          "name": "stderr",
          "output_type": "stream",
          "text": [
            "It: 23000, Loss: 9.579e-01, Loss_bcs: 1.427e-06, Loss_res: 9.577e-01 ,Time: 0.00\n",
            "Compute NTK...\n"
          ]
        },
        {
          "name": "stdout",
          "output_type": "stream",
          "text": [
            "5681.7583\n"
          ]
        },
        {
          "name": "stderr",
          "output_type": "stream",
          "text": [
            "It: 23100, Loss: 9.519e-01, Loss_bcs: 1.410e-06, Loss_res: 9.518e-01 ,Time: 0.00\n",
            "Compute NTK...\n"
          ]
        },
        {
          "name": "stdout",
          "output_type": "stream",
          "text": [
            "5646.2505\n"
          ]
        },
        {
          "name": "stderr",
          "output_type": "stream",
          "text": [
            "It: 23200, Loss: 9.461e-01, Loss_bcs: 1.396e-06, Loss_res: 9.459e-01 ,Time: 0.00\n",
            "Compute NTK...\n"
          ]
        },
        {
          "name": "stdout",
          "output_type": "stream",
          "text": [
            "5658.552\n"
          ]
        },
        {
          "name": "stderr",
          "output_type": "stream",
          "text": [
            "It: 23300, Loss: 9.402e-01, Loss_bcs: 1.383e-06, Loss_res: 9.401e-01 ,Time: 0.00\n",
            "Compute NTK...\n"
          ]
        },
        {
          "name": "stdout",
          "output_type": "stream",
          "text": [
            "5675.2554\n"
          ]
        },
        {
          "name": "stderr",
          "output_type": "stream",
          "text": [
            "It: 23400, Loss: 9.345e-01, Loss_bcs: 1.367e-06, Loss_res: 9.344e-01 ,Time: 0.00\n",
            "Compute NTK...\n"
          ]
        },
        {
          "name": "stdout",
          "output_type": "stream",
          "text": [
            "5691.718\n"
          ]
        },
        {
          "name": "stderr",
          "output_type": "stream",
          "text": [
            "It: 23500, Loss: 9.288e-01, Loss_bcs: 1.351e-06, Loss_res: 9.287e-01 ,Time: 0.00\n",
            "Compute NTK...\n"
          ]
        },
        {
          "name": "stdout",
          "output_type": "stream",
          "text": [
            "5663.6963\n"
          ]
        },
        {
          "name": "stderr",
          "output_type": "stream",
          "text": [
            "It: 23600, Loss: 9.232e-01, Loss_bcs: 1.336e-06, Loss_res: 9.231e-01 ,Time: 0.00\n",
            "Compute NTK...\n"
          ]
        },
        {
          "name": "stdout",
          "output_type": "stream",
          "text": [
            "5684.203\n"
          ]
        },
        {
          "name": "stderr",
          "output_type": "stream",
          "text": [
            "It: 23700, Loss: 9.177e-01, Loss_bcs: 1.321e-06, Loss_res: 9.176e-01 ,Time: 0.00\n",
            "Compute NTK...\n"
          ]
        },
        {
          "name": "stdout",
          "output_type": "stream",
          "text": [
            "5686.091\n"
          ]
        },
        {
          "name": "stderr",
          "output_type": "stream",
          "text": [
            "It: 23800, Loss: 9.122e-01, Loss_bcs: 1.308e-06, Loss_res: 9.121e-01 ,Time: 0.00\n",
            "Compute NTK...\n"
          ]
        },
        {
          "name": "stdout",
          "output_type": "stream",
          "text": [
            "5683.519\n"
          ]
        },
        {
          "name": "stderr",
          "output_type": "stream",
          "text": [
            "It: 23900, Loss: 9.067e-01, Loss_bcs: 1.296e-06, Loss_res: 9.066e-01 ,Time: 0.00\n",
            "Compute NTK...\n"
          ]
        },
        {
          "name": "stdout",
          "output_type": "stream",
          "text": [
            "5675.783\n"
          ]
        },
        {
          "name": "stderr",
          "output_type": "stream",
          "text": [
            "It: 24000, Loss: 9.014e-01, Loss_bcs: 1.281e-06, Loss_res: 9.012e-01 ,Time: 0.00\n",
            "Compute NTK...\n"
          ]
        },
        {
          "name": "stdout",
          "output_type": "stream",
          "text": [
            "5662.9146\n"
          ]
        },
        {
          "name": "stderr",
          "output_type": "stream",
          "text": [
            "It: 24100, Loss: 8.961e-01, Loss_bcs: 1.272e-06, Loss_res: 8.959e-01 ,Time: 0.00\n",
            "Compute NTK...\n"
          ]
        },
        {
          "name": "stdout",
          "output_type": "stream",
          "text": [
            "5666.242\n"
          ]
        },
        {
          "name": "stderr",
          "output_type": "stream",
          "text": [
            "It: 24200, Loss: 8.908e-01, Loss_bcs: 1.261e-06, Loss_res: 8.907e-01 ,Time: 0.00\n",
            "Compute NTK...\n"
          ]
        },
        {
          "name": "stdout",
          "output_type": "stream",
          "text": [
            "5683.8657\n"
          ]
        },
        {
          "name": "stderr",
          "output_type": "stream",
          "text": [
            "It: 24300, Loss: 8.856e-01, Loss_bcs: 1.250e-06, Loss_res: 8.854e-01 ,Time: 0.00\n",
            "Compute NTK...\n"
          ]
        },
        {
          "name": "stdout",
          "output_type": "stream",
          "text": [
            "5705.759\n"
          ]
        },
        {
          "name": "stderr",
          "output_type": "stream",
          "text": [
            "It: 24400, Loss: 8.804e-01, Loss_bcs: 1.237e-06, Loss_res: 8.803e-01 ,Time: 0.00\n",
            "Compute NTK...\n"
          ]
        },
        {
          "name": "stdout",
          "output_type": "stream",
          "text": [
            "5653.6963\n"
          ]
        },
        {
          "name": "stderr",
          "output_type": "stream",
          "text": [
            "It: 24500, Loss: 8.753e-01, Loss_bcs: 1.223e-06, Loss_res: 8.752e-01 ,Time: 0.00\n",
            "Compute NTK...\n"
          ]
        },
        {
          "name": "stdout",
          "output_type": "stream",
          "text": [
            "5605.8687\n"
          ]
        },
        {
          "name": "stderr",
          "output_type": "stream",
          "text": [
            "It: 24600, Loss: 8.703e-01, Loss_bcs: 1.210e-06, Loss_res: 8.701e-01 ,Time: 0.00\n",
            "Compute NTK...\n"
          ]
        },
        {
          "name": "stdout",
          "output_type": "stream",
          "text": [
            "5622.191\n"
          ]
        },
        {
          "name": "stderr",
          "output_type": "stream",
          "text": [
            "It: 24700, Loss: 8.653e-01, Loss_bcs: 1.199e-06, Loss_res: 8.652e-01 ,Time: 0.00\n",
            "Compute NTK...\n"
          ]
        },
        {
          "name": "stdout",
          "output_type": "stream",
          "text": [
            "5640.459\n"
          ]
        },
        {
          "name": "stderr",
          "output_type": "stream",
          "text": [
            "It: 24800, Loss: 8.603e-01, Loss_bcs: 1.188e-06, Loss_res: 8.602e-01 ,Time: 0.00\n",
            "Compute NTK...\n"
          ]
        },
        {
          "name": "stdout",
          "output_type": "stream",
          "text": [
            "5653.8076\n"
          ]
        },
        {
          "name": "stderr",
          "output_type": "stream",
          "text": [
            "It: 24900, Loss: 8.555e-01, Loss_bcs: 1.176e-06, Loss_res: 8.553e-01 ,Time: 0.00\n",
            "Compute NTK...\n"
          ]
        },
        {
          "name": "stdout",
          "output_type": "stream",
          "text": [
            "5662.2725\n"
          ]
        },
        {
          "name": "stderr",
          "output_type": "stream",
          "text": [
            "It: 25000, Loss: 8.507e-01, Loss_bcs: 1.162e-06, Loss_res: 8.505e-01 ,Time: 0.00\n",
            "Compute NTK...\n"
          ]
        },
        {
          "name": "stdout",
          "output_type": "stream",
          "text": [
            "5606.885\n"
          ]
        },
        {
          "name": "stderr",
          "output_type": "stream",
          "text": [
            "It: 25100, Loss: 8.459e-01, Loss_bcs: 1.149e-06, Loss_res: 8.458e-01 ,Time: 0.00\n",
            "Compute NTK...\n"
          ]
        },
        {
          "name": "stdout",
          "output_type": "stream",
          "text": [
            "5578.1963\n"
          ]
        },
        {
          "name": "stderr",
          "output_type": "stream",
          "text": [
            "It: 25200, Loss: 8.412e-01, Loss_bcs: 1.139e-06, Loss_res: 8.411e-01 ,Time: 0.00\n",
            "Compute NTK...\n"
          ]
        },
        {
          "name": "stdout",
          "output_type": "stream",
          "text": [
            "5582.5176\n"
          ]
        },
        {
          "name": "stderr",
          "output_type": "stream",
          "text": [
            "It: 25300, Loss: 8.365e-01, Loss_bcs: 1.132e-06, Loss_res: 8.364e-01 ,Time: 0.00\n",
            "Compute NTK...\n"
          ]
        },
        {
          "name": "stdout",
          "output_type": "stream",
          "text": [
            "5586.4756\n"
          ]
        },
        {
          "name": "stderr",
          "output_type": "stream",
          "text": [
            "It: 25400, Loss: 8.319e-01, Loss_bcs: 1.121e-06, Loss_res: 8.318e-01 ,Time: 0.00\n",
            "Compute NTK...\n"
          ]
        },
        {
          "name": "stdout",
          "output_type": "stream",
          "text": [
            "5600.4404\n"
          ]
        },
        {
          "name": "stderr",
          "output_type": "stream",
          "text": [
            "It: 25500, Loss: 8.273e-01, Loss_bcs: 1.113e-06, Loss_res: 8.272e-01 ,Time: 0.00\n",
            "Compute NTK...\n"
          ]
        },
        {
          "name": "stdout",
          "output_type": "stream",
          "text": [
            "5587.4297\n"
          ]
        },
        {
          "name": "stderr",
          "output_type": "stream",
          "text": [
            "It: 25600, Loss: 8.228e-01, Loss_bcs: 1.098e-06, Loss_res: 8.227e-01 ,Time: 0.00\n",
            "Compute NTK...\n"
          ]
        },
        {
          "name": "stdout",
          "output_type": "stream",
          "text": [
            "5555.1494\n"
          ]
        },
        {
          "name": "stderr",
          "output_type": "stream",
          "text": [
            "It: 25700, Loss: 8.183e-01, Loss_bcs: 1.085e-06, Loss_res: 8.182e-01 ,Time: 0.00\n",
            "Compute NTK...\n"
          ]
        },
        {
          "name": "stdout",
          "output_type": "stream",
          "text": [
            "5518.867\n"
          ]
        },
        {
          "name": "stderr",
          "output_type": "stream",
          "text": [
            "It: 25800, Loss: 8.139e-01, Loss_bcs: 1.074e-06, Loss_res: 8.138e-01 ,Time: 0.00\n",
            "Compute NTK...\n"
          ]
        },
        {
          "name": "stdout",
          "output_type": "stream",
          "text": [
            "5540.54\n"
          ]
        },
        {
          "name": "stderr",
          "output_type": "stream",
          "text": [
            "It: 25900, Loss: 8.095e-01, Loss_bcs: 1.063e-06, Loss_res: 8.094e-01 ,Time: 0.00\n",
            "Compute NTK...\n"
          ]
        },
        {
          "name": "stdout",
          "output_type": "stream",
          "text": [
            "5555.9854\n"
          ]
        },
        {
          "name": "stderr",
          "output_type": "stream",
          "text": [
            "It: 26000, Loss: 8.051e-01, Loss_bcs: 1.055e-06, Loss_res: 8.050e-01 ,Time: 0.00\n",
            "Compute NTK...\n"
          ]
        },
        {
          "name": "stdout",
          "output_type": "stream",
          "text": [
            "5574.885\n"
          ]
        },
        {
          "name": "stderr",
          "output_type": "stream",
          "text": [
            "It: 26100, Loss: 8.008e-01, Loss_bcs: 1.046e-06, Loss_res: 8.007e-01 ,Time: 0.00\n",
            "Compute NTK...\n"
          ]
        },
        {
          "name": "stdout",
          "output_type": "stream",
          "text": [
            "5579.4663\n"
          ]
        },
        {
          "name": "stderr",
          "output_type": "stream",
          "text": [
            "It: 26200, Loss: 7.965e-01, Loss_bcs: 1.036e-06, Loss_res: 7.964e-01 ,Time: 0.00\n",
            "Compute NTK...\n"
          ]
        },
        {
          "name": "stdout",
          "output_type": "stream",
          "text": [
            "5576.551\n"
          ]
        },
        {
          "name": "stderr",
          "output_type": "stream",
          "text": [
            "It: 26300, Loss: 7.923e-01, Loss_bcs: 1.025e-06, Loss_res: 7.922e-01 ,Time: 0.00\n",
            "Compute NTK...\n"
          ]
        },
        {
          "name": "stdout",
          "output_type": "stream",
          "text": [
            "5541.8315\n"
          ]
        },
        {
          "name": "stderr",
          "output_type": "stream",
          "text": [
            "It: 26400, Loss: 7.882e-01, Loss_bcs: 1.012e-06, Loss_res: 7.881e-01 ,Time: 0.00\n",
            "Compute NTK...\n"
          ]
        },
        {
          "name": "stdout",
          "output_type": "stream",
          "text": [
            "5548.0903\n"
          ]
        },
        {
          "name": "stderr",
          "output_type": "stream",
          "text": [
            "It: 26500, Loss: 7.840e-01, Loss_bcs: 1.004e-06, Loss_res: 7.839e-01 ,Time: 0.00\n",
            "Compute NTK...\n"
          ]
        },
        {
          "name": "stdout",
          "output_type": "stream",
          "text": [
            "5520.3237\n"
          ]
        },
        {
          "name": "stderr",
          "output_type": "stream",
          "text": [
            "It: 26600, Loss: 7.799e-01, Loss_bcs: 9.952e-07, Loss_res: 7.798e-01 ,Time: 0.00\n",
            "Compute NTK...\n"
          ]
        },
        {
          "name": "stdout",
          "output_type": "stream",
          "text": [
            "5525.817\n"
          ]
        },
        {
          "name": "stderr",
          "output_type": "stream",
          "text": [
            "It: 26700, Loss: 7.759e-01, Loss_bcs: 9.856e-07, Loss_res: 7.758e-01 ,Time: 0.00\n",
            "Compute NTK...\n"
          ]
        },
        {
          "name": "stdout",
          "output_type": "stream",
          "text": [
            "5528.22\n"
          ]
        },
        {
          "name": "stderr",
          "output_type": "stream",
          "text": [
            "It: 26800, Loss: 7.719e-01, Loss_bcs: 9.783e-07, Loss_res: 7.718e-01 ,Time: 0.00\n",
            "Compute NTK...\n"
          ]
        },
        {
          "name": "stdout",
          "output_type": "stream",
          "text": [
            "5546.432\n"
          ]
        },
        {
          "name": "stderr",
          "output_type": "stream",
          "text": [
            "It: 26900, Loss: 7.679e-01, Loss_bcs: 9.708e-07, Loss_res: 7.678e-01 ,Time: 0.00\n",
            "Compute NTK...\n"
          ]
        },
        {
          "name": "stdout",
          "output_type": "stream",
          "text": [
            "5527.4043\n"
          ]
        },
        {
          "name": "stderr",
          "output_type": "stream",
          "text": [
            "It: 27000, Loss: 7.640e-01, Loss_bcs: 9.641e-07, Loss_res: 7.639e-01 ,Time: 0.00\n",
            "Compute NTK...\n"
          ]
        },
        {
          "name": "stdout",
          "output_type": "stream",
          "text": [
            "5530.4346\n"
          ]
        },
        {
          "name": "stderr",
          "output_type": "stream",
          "text": [
            "It: 27100, Loss: 7.601e-01, Loss_bcs: 9.522e-07, Loss_res: 7.600e-01 ,Time: 0.00\n",
            "Compute NTK...\n"
          ]
        },
        {
          "name": "stdout",
          "output_type": "stream",
          "text": [
            "5558.936\n"
          ]
        },
        {
          "name": "stderr",
          "output_type": "stream",
          "text": [
            "It: 27200, Loss: 7.562e-01, Loss_bcs: 9.461e-07, Loss_res: 7.561e-01 ,Time: 0.00\n",
            "Compute NTK...\n"
          ]
        },
        {
          "name": "stdout",
          "output_type": "stream",
          "text": [
            "5561.69\n"
          ]
        },
        {
          "name": "stderr",
          "output_type": "stream",
          "text": [
            "It: 27300, Loss: 7.524e-01, Loss_bcs: 9.391e-07, Loss_res: 7.523e-01 ,Time: 0.00\n",
            "Compute NTK...\n"
          ]
        },
        {
          "name": "stdout",
          "output_type": "stream",
          "text": [
            "5566.8237\n"
          ]
        },
        {
          "name": "stderr",
          "output_type": "stream",
          "text": [
            "It: 27400, Loss: 7.486e-01, Loss_bcs: 9.324e-07, Loss_res: 7.485e-01 ,Time: 0.00\n",
            "Compute NTK...\n"
          ]
        },
        {
          "name": "stdout",
          "output_type": "stream",
          "text": [
            "5529.0073\n"
          ]
        },
        {
          "name": "stderr",
          "output_type": "stream",
          "text": [
            "It: 27500, Loss: 7.449e-01, Loss_bcs: 9.231e-07, Loss_res: 7.448e-01 ,Time: 0.00\n",
            "Compute NTK...\n"
          ]
        },
        {
          "name": "stdout",
          "output_type": "stream",
          "text": [
            "5476.1055\n"
          ]
        },
        {
          "name": "stderr",
          "output_type": "stream",
          "text": [
            "It: 27600, Loss: 7.412e-01, Loss_bcs: 9.147e-07, Loss_res: 7.411e-01 ,Time: 0.00\n",
            "Compute NTK...\n"
          ]
        },
        {
          "name": "stdout",
          "output_type": "stream",
          "text": [
            "5499.682\n"
          ]
        },
        {
          "name": "stderr",
          "output_type": "stream",
          "text": [
            "It: 27700, Loss: 7.375e-01, Loss_bcs: 9.060e-07, Loss_res: 7.374e-01 ,Time: 0.00\n",
            "Compute NTK...\n"
          ]
        },
        {
          "name": "stdout",
          "output_type": "stream",
          "text": [
            "5503.1323\n"
          ]
        },
        {
          "name": "stderr",
          "output_type": "stream",
          "text": [
            "It: 27800, Loss: 7.339e-01, Loss_bcs: 8.994e-07, Loss_res: 7.338e-01 ,Time: 0.00\n",
            "Compute NTK...\n"
          ]
        },
        {
          "name": "stdout",
          "output_type": "stream",
          "text": [
            "5505.6855\n"
          ]
        },
        {
          "name": "stderr",
          "output_type": "stream",
          "text": [
            "It: 27900, Loss: 7.303e-01, Loss_bcs: 8.906e-07, Loss_res: 7.302e-01 ,Time: 0.00\n",
            "Compute NTK...\n"
          ]
        },
        {
          "name": "stdout",
          "output_type": "stream",
          "text": [
            "5520.911\n"
          ]
        },
        {
          "name": "stderr",
          "output_type": "stream",
          "text": [
            "It: 28000, Loss: 7.267e-01, Loss_bcs: 8.805e-07, Loss_res: 7.266e-01 ,Time: 0.00\n",
            "Compute NTK...\n"
          ]
        },
        {
          "name": "stdout",
          "output_type": "stream",
          "text": [
            "5537.666\n"
          ]
        },
        {
          "name": "stderr",
          "output_type": "stream",
          "text": [
            "It: 28100, Loss: 7.232e-01, Loss_bcs: 8.737e-07, Loss_res: 7.231e-01 ,Time: 0.00\n",
            "Compute NTK...\n"
          ]
        },
        {
          "name": "stdout",
          "output_type": "stream",
          "text": [
            "5487.111\n"
          ]
        },
        {
          "name": "stderr",
          "output_type": "stream",
          "text": [
            "It: 28200, Loss: 7.197e-01, Loss_bcs: 8.652e-07, Loss_res: 7.196e-01 ,Time: 0.00\n",
            "Compute NTK...\n"
          ]
        },
        {
          "name": "stdout",
          "output_type": "stream",
          "text": [
            "5426.6616\n"
          ]
        },
        {
          "name": "stderr",
          "output_type": "stream",
          "text": [
            "It: 28300, Loss: 7.163e-01, Loss_bcs: 8.570e-07, Loss_res: 7.162e-01 ,Time: 0.00\n",
            "Compute NTK...\n"
          ]
        },
        {
          "name": "stdout",
          "output_type": "stream",
          "text": [
            "5441.848\n"
          ]
        },
        {
          "name": "stderr",
          "output_type": "stream",
          "text": [
            "It: 28400, Loss: 7.129e-01, Loss_bcs: 8.497e-07, Loss_res: 7.128e-01 ,Time: 0.00\n",
            "Compute NTK...\n"
          ]
        },
        {
          "name": "stdout",
          "output_type": "stream",
          "text": [
            "5456.413\n"
          ]
        },
        {
          "name": "stderr",
          "output_type": "stream",
          "text": [
            "It: 28500, Loss: 7.095e-01, Loss_bcs: 8.442e-07, Loss_res: 7.094e-01 ,Time: 0.00\n",
            "Compute NTK...\n"
          ]
        },
        {
          "name": "stdout",
          "output_type": "stream",
          "text": [
            "5453.779\n"
          ]
        },
        {
          "name": "stderr",
          "output_type": "stream",
          "text": [
            "It: 28600, Loss: 7.061e-01, Loss_bcs: 8.363e-07, Loss_res: 7.060e-01 ,Time: 0.00\n",
            "Compute NTK...\n"
          ]
        },
        {
          "name": "stdout",
          "output_type": "stream",
          "text": [
            "5478.0063\n"
          ]
        },
        {
          "name": "stderr",
          "output_type": "stream",
          "text": [
            "It: 28700, Loss: 7.027e-01, Loss_bcs: 8.280e-07, Loss_res: 7.027e-01 ,Time: 0.00\n",
            "Compute NTK...\n"
          ]
        },
        {
          "name": "stdout",
          "output_type": "stream",
          "text": [
            "5493.0327\n"
          ]
        },
        {
          "name": "stderr",
          "output_type": "stream",
          "text": [
            "It: 28800, Loss: 6.994e-01, Loss_bcs: 8.199e-07, Loss_res: 6.994e-01 ,Time: 0.00\n",
            "Compute NTK...\n"
          ]
        },
        {
          "name": "stdout",
          "output_type": "stream",
          "text": [
            "5469.247\n"
          ]
        },
        {
          "name": "stderr",
          "output_type": "stream",
          "text": [
            "It: 28900, Loss: 6.962e-01, Loss_bcs: 8.139e-07, Loss_res: 6.961e-01 ,Time: 0.00\n",
            "Compute NTK...\n"
          ]
        },
        {
          "name": "stdout",
          "output_type": "stream",
          "text": [
            "5406.9023\n"
          ]
        },
        {
          "name": "stderr",
          "output_type": "stream",
          "text": [
            "It: 29000, Loss: 6.929e-01, Loss_bcs: 8.067e-07, Loss_res: 6.929e-01 ,Time: 0.00\n",
            "Compute NTK...\n"
          ]
        },
        {
          "name": "stdout",
          "output_type": "stream",
          "text": [
            "5374.6875\n"
          ]
        },
        {
          "name": "stderr",
          "output_type": "stream",
          "text": [
            "It: 29100, Loss: 6.897e-01, Loss_bcs: 8.002e-07, Loss_res: 6.896e-01 ,Time: 0.00\n",
            "Compute NTK...\n"
          ]
        },
        {
          "name": "stdout",
          "output_type": "stream",
          "text": [
            "5374.389\n"
          ]
        },
        {
          "name": "stderr",
          "output_type": "stream",
          "text": [
            "It: 29200, Loss: 6.865e-01, Loss_bcs: 7.940e-07, Loss_res: 6.864e-01 ,Time: 0.00\n",
            "Compute NTK...\n"
          ]
        },
        {
          "name": "stdout",
          "output_type": "stream",
          "text": [
            "5384.1113\n"
          ]
        },
        {
          "name": "stderr",
          "output_type": "stream",
          "text": [
            "It: 29300, Loss: 6.834e-01, Loss_bcs: 7.857e-07, Loss_res: 6.833e-01 ,Time: 0.00\n",
            "Compute NTK...\n"
          ]
        },
        {
          "name": "stdout",
          "output_type": "stream",
          "text": [
            "5413.7446\n"
          ]
        },
        {
          "name": "stderr",
          "output_type": "stream",
          "text": [
            "It: 29400, Loss: 6.802e-01, Loss_bcs: 7.775e-07, Loss_res: 6.802e-01 ,Time: 0.00\n",
            "Compute NTK...\n"
          ]
        },
        {
          "name": "stdout",
          "output_type": "stream",
          "text": [
            "5419.326\n"
          ]
        },
        {
          "name": "stderr",
          "output_type": "stream",
          "text": [
            "It: 29500, Loss: 6.771e-01, Loss_bcs: 7.703e-07, Loss_res: 6.771e-01 ,Time: 0.00\n",
            "Compute NTK...\n"
          ]
        },
        {
          "name": "stdout",
          "output_type": "stream",
          "text": [
            "5432.0625\n"
          ]
        },
        {
          "name": "stderr",
          "output_type": "stream",
          "text": [
            "It: 29600, Loss: 6.741e-01, Loss_bcs: 7.668e-07, Loss_res: 6.740e-01 ,Time: 0.00\n",
            "Compute NTK...\n"
          ]
        },
        {
          "name": "stdout",
          "output_type": "stream",
          "text": [
            "5447.2427\n"
          ]
        },
        {
          "name": "stderr",
          "output_type": "stream",
          "text": [
            "It: 29700, Loss: 6.710e-01, Loss_bcs: 7.600e-07, Loss_res: 6.710e-01 ,Time: 0.00\n",
            "Compute NTK...\n"
          ]
        },
        {
          "name": "stdout",
          "output_type": "stream",
          "text": [
            "5411.618\n"
          ]
        },
        {
          "name": "stderr",
          "output_type": "stream",
          "text": [
            "It: 29800, Loss: 6.681e-01, Loss_bcs: 7.490e-07, Loss_res: 6.680e-01 ,Time: 0.00\n",
            "Compute NTK...\n"
          ]
        },
        {
          "name": "stdout",
          "output_type": "stream",
          "text": [
            "5382.123\n"
          ]
        },
        {
          "name": "stderr",
          "output_type": "stream",
          "text": [
            "It: 29900, Loss: 6.651e-01, Loss_bcs: 7.412e-07, Loss_res: 6.650e-01 ,Time: 0.00\n",
            "Compute NTK...\n"
          ]
        },
        {
          "name": "stdout",
          "output_type": "stream",
          "text": [
            "5370.9497\n"
          ]
        },
        {
          "name": "stderr",
          "output_type": "stream",
          "text": [
            "It: 30000, Loss: 6.621e-01, Loss_bcs: 7.361e-07, Loss_res: 6.621e-01 ,Time: 0.00\n",
            "Compute NTK...\n"
          ]
        },
        {
          "name": "stdout",
          "output_type": "stream",
          "text": [
            "5345.35\n"
          ]
        },
        {
          "name": "stderr",
          "output_type": "stream",
          "text": [
            "It: 30100, Loss: 6.592e-01, Loss_bcs: 7.331e-07, Loss_res: 6.591e-01 ,Time: 0.00\n",
            "Compute NTK...\n"
          ]
        },
        {
          "name": "stdout",
          "output_type": "stream",
          "text": [
            "5357.4243\n"
          ]
        },
        {
          "name": "stderr",
          "output_type": "stream",
          "text": [
            "It: 30200, Loss: 6.563e-01, Loss_bcs: 7.270e-07, Loss_res: 6.562e-01 ,Time: 0.00\n",
            "Compute NTK...\n"
          ]
        },
        {
          "name": "stdout",
          "output_type": "stream",
          "text": [
            "5411.3135\n"
          ]
        },
        {
          "name": "stderr",
          "output_type": "stream",
          "text": [
            "It: 30300, Loss: 6.534e-01, Loss_bcs: 7.226e-07, Loss_res: 6.533e-01 ,Time: 0.00\n",
            "Compute NTK...\n"
          ]
        },
        {
          "name": "stdout",
          "output_type": "stream",
          "text": [
            "5431.5874\n"
          ]
        },
        {
          "name": "stderr",
          "output_type": "stream",
          "text": [
            "It: 30400, Loss: 6.506e-01, Loss_bcs: 7.164e-07, Loss_res: 6.505e-01 ,Time: 0.00\n",
            "Compute NTK...\n"
          ]
        },
        {
          "name": "stdout",
          "output_type": "stream",
          "text": [
            "5404.1074\n"
          ]
        },
        {
          "name": "stderr",
          "output_type": "stream",
          "text": [
            "It: 30500, Loss: 6.477e-01, Loss_bcs: 7.112e-07, Loss_res: 6.476e-01 ,Time: 0.00\n",
            "Compute NTK...\n"
          ]
        },
        {
          "name": "stdout",
          "output_type": "stream",
          "text": [
            "5362.401\n"
          ]
        },
        {
          "name": "stderr",
          "output_type": "stream",
          "text": [
            "It: 30600, Loss: 6.449e-01, Loss_bcs: 7.046e-07, Loss_res: 6.448e-01 ,Time: 0.00\n",
            "Compute NTK...\n"
          ]
        },
        {
          "name": "stdout",
          "output_type": "stream",
          "text": [
            "5384.1826\n"
          ]
        },
        {
          "name": "stderr",
          "output_type": "stream",
          "text": [
            "It: 30700, Loss: 6.421e-01, Loss_bcs: 6.993e-07, Loss_res: 6.421e-01 ,Time: 0.00\n",
            "Compute NTK...\n"
          ]
        },
        {
          "name": "stdout",
          "output_type": "stream",
          "text": [
            "5394.7827\n"
          ]
        },
        {
          "name": "stderr",
          "output_type": "stream",
          "text": [
            "It: 30800, Loss: 6.394e-01, Loss_bcs: 6.952e-07, Loss_res: 6.393e-01 ,Time: 0.00\n",
            "Compute NTK...\n"
          ]
        },
        {
          "name": "stdout",
          "output_type": "stream",
          "text": [
            "5388.0034\n"
          ]
        },
        {
          "name": "stderr",
          "output_type": "stream",
          "text": [
            "It: 30900, Loss: 6.366e-01, Loss_bcs: 6.901e-07, Loss_res: 6.365e-01 ,Time: 0.00\n",
            "Compute NTK...\n"
          ]
        },
        {
          "name": "stdout",
          "output_type": "stream",
          "text": [
            "5383.6626\n"
          ]
        },
        {
          "name": "stderr",
          "output_type": "stream",
          "text": [
            "It: 31000, Loss: 6.339e-01, Loss_bcs: 6.834e-07, Loss_res: 6.338e-01 ,Time: 0.00\n",
            "Compute NTK...\n"
          ]
        },
        {
          "name": "stdout",
          "output_type": "stream",
          "text": [
            "5362.669\n"
          ]
        },
        {
          "name": "stderr",
          "output_type": "stream",
          "text": [
            "It: 31100, Loss: 6.312e-01, Loss_bcs: 6.804e-07, Loss_res: 6.311e-01 ,Time: 0.00\n",
            "Compute NTK...\n"
          ]
        },
        {
          "name": "stdout",
          "output_type": "stream",
          "text": [
            "5360.8677\n"
          ]
        },
        {
          "name": "stderr",
          "output_type": "stream",
          "text": [
            "It: 31200, Loss: 6.285e-01, Loss_bcs: 6.734e-07, Loss_res: 6.285e-01 ,Time: 0.00\n",
            "Compute NTK...\n"
          ]
        },
        {
          "name": "stdout",
          "output_type": "stream",
          "text": [
            "5402.9233\n"
          ]
        },
        {
          "name": "stderr",
          "output_type": "stream",
          "text": [
            "It: 31300, Loss: 6.259e-01, Loss_bcs: 6.685e-07, Loss_res: 6.258e-01 ,Time: 0.00\n",
            "Compute NTK...\n"
          ]
        },
        {
          "name": "stdout",
          "output_type": "stream",
          "text": [
            "5310.6313\n"
          ]
        },
        {
          "name": "stderr",
          "output_type": "stream",
          "text": [
            "It: 31400, Loss: 6.232e-01, Loss_bcs: 6.605e-07, Loss_res: 6.232e-01 ,Time: 0.00\n",
            "Compute NTK...\n"
          ]
        },
        {
          "name": "stdout",
          "output_type": "stream",
          "text": [
            "5306.8193\n"
          ]
        },
        {
          "name": "stderr",
          "output_type": "stream",
          "text": [
            "It: 31500, Loss: 6.206e-01, Loss_bcs: 6.547e-07, Loss_res: 6.206e-01 ,Time: 0.00\n",
            "Compute NTK...\n"
          ]
        },
        {
          "name": "stdout",
          "output_type": "stream",
          "text": [
            "5323.5405\n"
          ]
        },
        {
          "name": "stderr",
          "output_type": "stream",
          "text": [
            "It: 31600, Loss: 6.181e-01, Loss_bcs: 6.519e-07, Loss_res: 6.180e-01 ,Time: 0.00\n",
            "Compute NTK...\n"
          ]
        },
        {
          "name": "stdout",
          "output_type": "stream",
          "text": [
            "5313.727\n"
          ]
        },
        {
          "name": "stderr",
          "output_type": "stream",
          "text": [
            "It: 31700, Loss: 6.155e-01, Loss_bcs: 6.457e-07, Loss_res: 6.154e-01 ,Time: 0.00\n",
            "Compute NTK...\n"
          ]
        },
        {
          "name": "stdout",
          "output_type": "stream",
          "text": [
            "5347.814\n"
          ]
        },
        {
          "name": "stderr",
          "output_type": "stream",
          "text": [
            "It: 31800, Loss: 6.130e-01, Loss_bcs: 6.411e-07, Loss_res: 6.129e-01 ,Time: 0.00\n",
            "Compute NTK...\n"
          ]
        },
        {
          "name": "stdout",
          "output_type": "stream",
          "text": [
            "5343.785\n"
          ]
        },
        {
          "name": "stderr",
          "output_type": "stream",
          "text": [
            "It: 31900, Loss: 6.105e-01, Loss_bcs: 6.363e-07, Loss_res: 6.104e-01 ,Time: 0.00\n",
            "Compute NTK...\n"
          ]
        },
        {
          "name": "stdout",
          "output_type": "stream",
          "text": [
            "5354.231\n"
          ]
        },
        {
          "name": "stderr",
          "output_type": "stream",
          "text": [
            "It: 32000, Loss: 6.080e-01, Loss_bcs: 6.299e-07, Loss_res: 6.079e-01 ,Time: 0.00\n",
            "Compute NTK...\n"
          ]
        },
        {
          "name": "stdout",
          "output_type": "stream",
          "text": [
            "5378.3164\n"
          ]
        },
        {
          "name": "stderr",
          "output_type": "stream",
          "text": [
            "It: 32100, Loss: 6.055e-01, Loss_bcs: 6.255e-07, Loss_res: 6.054e-01 ,Time: 0.00\n",
            "Compute NTK...\n"
          ]
        },
        {
          "name": "stdout",
          "output_type": "stream",
          "text": [
            "5350.171\n"
          ]
        },
        {
          "name": "stderr",
          "output_type": "stream",
          "text": [
            "It: 32200, Loss: 6.030e-01, Loss_bcs: 6.210e-07, Loss_res: 6.030e-01 ,Time: 0.00\n",
            "Compute NTK...\n"
          ]
        },
        {
          "name": "stdout",
          "output_type": "stream",
          "text": [
            "5273.6367\n"
          ]
        },
        {
          "name": "stderr",
          "output_type": "stream",
          "text": [
            "It: 32300, Loss: 6.006e-01, Loss_bcs: 6.148e-07, Loss_res: 6.005e-01 ,Time: 0.00\n",
            "Compute NTK...\n"
          ]
        },
        {
          "name": "stdout",
          "output_type": "stream",
          "text": [
            "5234.785\n"
          ]
        },
        {
          "name": "stderr",
          "output_type": "stream",
          "text": [
            "It: 32400, Loss: 5.982e-01, Loss_bcs: 6.079e-07, Loss_res: 5.981e-01 ,Time: 0.00\n",
            "Compute NTK...\n"
          ]
        },
        {
          "name": "stdout",
          "output_type": "stream",
          "text": [
            "5250.6772\n"
          ]
        },
        {
          "name": "stderr",
          "output_type": "stream",
          "text": [
            "It: 32500, Loss: 5.958e-01, Loss_bcs: 6.051e-07, Loss_res: 5.957e-01 ,Time: 0.00\n",
            "Compute NTK...\n"
          ]
        },
        {
          "name": "stdout",
          "output_type": "stream",
          "text": [
            "5242.5093\n"
          ]
        },
        {
          "name": "stderr",
          "output_type": "stream",
          "text": [
            "It: 32600, Loss: 5.934e-01, Loss_bcs: 6.018e-07, Loss_res: 5.933e-01 ,Time: 0.00\n",
            "Compute NTK...\n"
          ]
        },
        {
          "name": "stdout",
          "output_type": "stream",
          "text": [
            "5266.804\n"
          ]
        },
        {
          "name": "stderr",
          "output_type": "stream",
          "text": [
            "It: 32700, Loss: 5.910e-01, Loss_bcs: 5.992e-07, Loss_res: 5.910e-01 ,Time: 0.00\n",
            "Compute NTK...\n"
          ]
        },
        {
          "name": "stdout",
          "output_type": "stream",
          "text": [
            "5263.263\n"
          ]
        },
        {
          "name": "stderr",
          "output_type": "stream",
          "text": [
            "It: 32800, Loss: 5.887e-01, Loss_bcs: 5.960e-07, Loss_res: 5.886e-01 ,Time: 0.00\n",
            "Compute NTK...\n"
          ]
        },
        {
          "name": "stdout",
          "output_type": "stream",
          "text": [
            "5270.778\n"
          ]
        },
        {
          "name": "stderr",
          "output_type": "stream",
          "text": [
            "It: 32900, Loss: 5.864e-01, Loss_bcs: 5.909e-07, Loss_res: 5.863e-01 ,Time: 0.00\n",
            "Compute NTK...\n"
          ]
        },
        {
          "name": "stdout",
          "output_type": "stream",
          "text": [
            "5289.8823\n"
          ]
        },
        {
          "name": "stderr",
          "output_type": "stream",
          "text": [
            "It: 33000, Loss: 5.840e-01, Loss_bcs: 5.848e-07, Loss_res: 5.840e-01 ,Time: 0.00\n",
            "Compute NTK...\n"
          ]
        },
        {
          "name": "stdout",
          "output_type": "stream",
          "text": [
            "5306.2847\n"
          ]
        },
        {
          "name": "stderr",
          "output_type": "stream",
          "text": [
            "It: 33100, Loss: 5.817e-01, Loss_bcs: 5.818e-07, Loss_res: 5.817e-01 ,Time: 0.00\n",
            "Compute NTK...\n"
          ]
        },
        {
          "name": "stdout",
          "output_type": "stream",
          "text": [
            "5309.1787\n"
          ]
        },
        {
          "name": "stderr",
          "output_type": "stream",
          "text": [
            "It: 33200, Loss: 5.795e-01, Loss_bcs: 5.767e-07, Loss_res: 5.794e-01 ,Time: 0.00\n",
            "Compute NTK...\n"
          ]
        },
        {
          "name": "stdout",
          "output_type": "stream",
          "text": [
            "5281.53\n"
          ]
        },
        {
          "name": "stderr",
          "output_type": "stream",
          "text": [
            "It: 33300, Loss: 5.772e-01, Loss_bcs: 5.715e-07, Loss_res: 5.772e-01 ,Time: 0.00\n",
            "Compute NTK...\n"
          ]
        },
        {
          "name": "stdout",
          "output_type": "stream",
          "text": [
            "5228.1113\n"
          ]
        },
        {
          "name": "stderr",
          "output_type": "stream",
          "text": [
            "It: 33400, Loss: 5.750e-01, Loss_bcs: 5.676e-07, Loss_res: 5.749e-01 ,Time: 0.00\n",
            "Compute NTK...\n"
          ]
        },
        {
          "name": "stdout",
          "output_type": "stream",
          "text": [
            "5146.871\n"
          ]
        },
        {
          "name": "stderr",
          "output_type": "stream",
          "text": [
            "It: 33500, Loss: 5.727e-01, Loss_bcs: 5.635e-07, Loss_res: 5.727e-01 ,Time: 0.00\n",
            "Compute NTK...\n"
          ]
        },
        {
          "name": "stdout",
          "output_type": "stream",
          "text": [
            "5167.273\n"
          ]
        },
        {
          "name": "stderr",
          "output_type": "stream",
          "text": [
            "It: 33600, Loss: 5.705e-01, Loss_bcs: 5.590e-07, Loss_res: 5.705e-01 ,Time: 0.00\n",
            "Compute NTK...\n"
          ]
        },
        {
          "name": "stdout",
          "output_type": "stream",
          "text": [
            "5181.1294\n"
          ]
        },
        {
          "name": "stderr",
          "output_type": "stream",
          "text": [
            "It: 33700, Loss: 5.684e-01, Loss_bcs: 5.543e-07, Loss_res: 5.683e-01 ,Time: 0.00\n",
            "Compute NTK...\n"
          ]
        },
        {
          "name": "stdout",
          "output_type": "stream",
          "text": [
            "5181.8755\n"
          ]
        },
        {
          "name": "stderr",
          "output_type": "stream",
          "text": [
            "It: 33800, Loss: 5.662e-01, Loss_bcs: 5.487e-07, Loss_res: 5.661e-01 ,Time: 0.00\n",
            "Compute NTK...\n"
          ]
        },
        {
          "name": "stdout",
          "output_type": "stream",
          "text": [
            "5188.473\n"
          ]
        },
        {
          "name": "stderr",
          "output_type": "stream",
          "text": [
            "It: 33900, Loss: 5.640e-01, Loss_bcs: 5.451e-07, Loss_res: 5.640e-01 ,Time: 0.00\n",
            "Compute NTK...\n"
          ]
        },
        {
          "name": "stdout",
          "output_type": "stream",
          "text": [
            "5213.1646\n"
          ]
        },
        {
          "name": "stderr",
          "output_type": "stream",
          "text": [
            "It: 34000, Loss: 5.619e-01, Loss_bcs: 5.410e-07, Loss_res: 5.619e-01 ,Time: 0.00\n",
            "Compute NTK...\n"
          ]
        },
        {
          "name": "stdout",
          "output_type": "stream",
          "text": [
            "5211.0737\n"
          ]
        },
        {
          "name": "stderr",
          "output_type": "stream",
          "text": [
            "It: 34100, Loss: 5.598e-01, Loss_bcs: 5.359e-07, Loss_res: 5.597e-01 ,Time: 0.00\n",
            "Compute NTK...\n"
          ]
        },
        {
          "name": "stdout",
          "output_type": "stream",
          "text": [
            "5232.834\n"
          ]
        },
        {
          "name": "stderr",
          "output_type": "stream",
          "text": [
            "It: 34200, Loss: 5.577e-01, Loss_bcs: 5.339e-07, Loss_res: 5.577e-01 ,Time: 0.00\n",
            "Compute NTK...\n"
          ]
        },
        {
          "name": "stdout",
          "output_type": "stream",
          "text": [
            "5223.125\n"
          ]
        },
        {
          "name": "stderr",
          "output_type": "stream",
          "text": [
            "It: 34300, Loss: 5.556e-01, Loss_bcs: 5.292e-07, Loss_res: 5.556e-01 ,Time: 0.01\n",
            "Compute NTK...\n"
          ]
        },
        {
          "name": "stdout",
          "output_type": "stream",
          "text": [
            "5179.6265\n"
          ]
        },
        {
          "name": "stderr",
          "output_type": "stream",
          "text": [
            "It: 34400, Loss: 5.536e-01, Loss_bcs: 5.241e-07, Loss_res: 5.535e-01 ,Time: 0.00\n",
            "Compute NTK...\n"
          ]
        },
        {
          "name": "stdout",
          "output_type": "stream",
          "text": [
            "5137.9185\n"
          ]
        },
        {
          "name": "stderr",
          "output_type": "stream",
          "text": [
            "It: 34500, Loss: 5.515e-01, Loss_bcs: 5.210e-07, Loss_res: 5.515e-01 ,Time: 0.00\n",
            "Compute NTK...\n"
          ]
        },
        {
          "name": "stdout",
          "output_type": "stream",
          "text": [
            "5089.437\n"
          ]
        },
        {
          "name": "stderr",
          "output_type": "stream",
          "text": [
            "It: 34600, Loss: 5.495e-01, Loss_bcs: 5.173e-07, Loss_res: 5.494e-01 ,Time: 0.00\n",
            "Compute NTK...\n"
          ]
        },
        {
          "name": "stdout",
          "output_type": "stream",
          "text": [
            "5095.86\n"
          ]
        },
        {
          "name": "stderr",
          "output_type": "stream",
          "text": [
            "It: 34700, Loss: 5.475e-01, Loss_bcs: 5.142e-07, Loss_res: 5.474e-01 ,Time: 0.00\n",
            "Compute NTK...\n"
          ]
        },
        {
          "name": "stdout",
          "output_type": "stream",
          "text": [
            "5099.494\n"
          ]
        },
        {
          "name": "stderr",
          "output_type": "stream",
          "text": [
            "It: 34800, Loss: 5.455e-01, Loss_bcs: 5.111e-07, Loss_res: 5.454e-01 ,Time: 0.00\n",
            "Compute NTK...\n"
          ]
        },
        {
          "name": "stdout",
          "output_type": "stream",
          "text": [
            "5111.7266\n"
          ]
        },
        {
          "name": "stderr",
          "output_type": "stream",
          "text": [
            "It: 34900, Loss: 5.435e-01, Loss_bcs: 5.082e-07, Loss_res: 5.434e-01 ,Time: 0.00\n",
            "Compute NTK...\n"
          ]
        },
        {
          "name": "stdout",
          "output_type": "stream",
          "text": [
            "5109.529\n"
          ]
        },
        {
          "name": "stderr",
          "output_type": "stream",
          "text": [
            "It: 35000, Loss: 5.415e-01, Loss_bcs: 5.049e-07, Loss_res: 5.414e-01 ,Time: 0.00\n",
            "Compute NTK...\n"
          ]
        },
        {
          "name": "stdout",
          "output_type": "stream",
          "text": [
            "5122.1807\n"
          ]
        },
        {
          "name": "stderr",
          "output_type": "stream",
          "text": [
            "It: 35100, Loss: 5.395e-01, Loss_bcs: 5.034e-07, Loss_res: 5.395e-01 ,Time: 0.00\n",
            "Compute NTK...\n"
          ]
        },
        {
          "name": "stdout",
          "output_type": "stream",
          "text": [
            "5116.0605\n"
          ]
        },
        {
          "name": "stderr",
          "output_type": "stream",
          "text": [
            "It: 35200, Loss: 5.376e-01, Loss_bcs: 5.003e-07, Loss_res: 5.375e-01 ,Time: 0.00\n",
            "Compute NTK...\n"
          ]
        },
        {
          "name": "stdout",
          "output_type": "stream",
          "text": [
            "5123.719\n"
          ]
        },
        {
          "name": "stderr",
          "output_type": "stream",
          "text": [
            "It: 35300, Loss: 5.356e-01, Loss_bcs: 4.963e-07, Loss_res: 5.356e-01 ,Time: 0.00\n",
            "Compute NTK...\n"
          ]
        },
        {
          "name": "stdout",
          "output_type": "stream",
          "text": [
            "5151.8066\n"
          ]
        },
        {
          "name": "stderr",
          "output_type": "stream",
          "text": [
            "It: 35400, Loss: 5.337e-01, Loss_bcs: 4.914e-07, Loss_res: 5.336e-01 ,Time: 0.00\n",
            "Compute NTK...\n"
          ]
        },
        {
          "name": "stdout",
          "output_type": "stream",
          "text": [
            "5098.7935\n"
          ]
        },
        {
          "name": "stderr",
          "output_type": "stream",
          "text": [
            "It: 35500, Loss: 5.318e-01, Loss_bcs: 4.862e-07, Loss_res: 5.317e-01 ,Time: 0.00\n",
            "Compute NTK...\n"
          ]
        },
        {
          "name": "stdout",
          "output_type": "stream",
          "text": [
            "5053.732\n"
          ]
        },
        {
          "name": "stderr",
          "output_type": "stream",
          "text": [
            "It: 35600, Loss: 5.299e-01, Loss_bcs: 4.828e-07, Loss_res: 5.298e-01 ,Time: 0.00\n",
            "Compute NTK...\n"
          ]
        },
        {
          "name": "stdout",
          "output_type": "stream",
          "text": [
            "5017.302\n"
          ]
        },
        {
          "name": "stderr",
          "output_type": "stream",
          "text": [
            "It: 35700, Loss: 5.280e-01, Loss_bcs: 4.797e-07, Loss_res: 5.279e-01 ,Time: 0.00\n",
            "Compute NTK...\n"
          ]
        },
        {
          "name": "stdout",
          "output_type": "stream",
          "text": [
            "4996.081\n"
          ]
        },
        {
          "name": "stderr",
          "output_type": "stream",
          "text": [
            "It: 35800, Loss: 5.261e-01, Loss_bcs: 4.766e-07, Loss_res: 5.261e-01 ,Time: 0.00\n",
            "Compute NTK...\n"
          ]
        },
        {
          "name": "stdout",
          "output_type": "stream",
          "text": [
            "5005.1714\n"
          ]
        },
        {
          "name": "stderr",
          "output_type": "stream",
          "text": [
            "It: 35900, Loss: 5.243e-01, Loss_bcs: 4.734e-07, Loss_res: 5.242e-01 ,Time: 0.00\n",
            "Compute NTK...\n"
          ]
        },
        {
          "name": "stdout",
          "output_type": "stream",
          "text": [
            "5016.2715\n"
          ]
        },
        {
          "name": "stderr",
          "output_type": "stream",
          "text": [
            "It: 36000, Loss: 5.224e-01, Loss_bcs: 4.705e-07, Loss_res: 5.224e-01 ,Time: 0.00\n",
            "Compute NTK...\n"
          ]
        },
        {
          "name": "stdout",
          "output_type": "stream",
          "text": [
            "5031.996\n"
          ]
        },
        {
          "name": "stderr",
          "output_type": "stream",
          "text": [
            "It: 36100, Loss: 5.206e-01, Loss_bcs: 4.688e-07, Loss_res: 5.205e-01 ,Time: 0.00\n",
            "Compute NTK...\n"
          ]
        },
        {
          "name": "stdout",
          "output_type": "stream",
          "text": [
            "5046.868\n"
          ]
        },
        {
          "name": "stderr",
          "output_type": "stream",
          "text": [
            "It: 36200, Loss: 5.187e-01, Loss_bcs: 4.648e-07, Loss_res: 5.187e-01 ,Time: 0.00\n",
            "Compute NTK...\n"
          ]
        },
        {
          "name": "stdout",
          "output_type": "stream",
          "text": [
            "5063.829\n"
          ]
        },
        {
          "name": "stderr",
          "output_type": "stream",
          "text": [
            "It: 36300, Loss: 5.169e-01, Loss_bcs: 4.598e-07, Loss_res: 5.169e-01 ,Time: 0.00\n",
            "Compute NTK...\n"
          ]
        },
        {
          "name": "stdout",
          "output_type": "stream",
          "text": [
            "5114.8413\n"
          ]
        },
        {
          "name": "stderr",
          "output_type": "stream",
          "text": [
            "It: 36400, Loss: 5.151e-01, Loss_bcs: 4.564e-07, Loss_res: 5.151e-01 ,Time: 0.00\n",
            "Compute NTK...\n"
          ]
        },
        {
          "name": "stdout",
          "output_type": "stream",
          "text": [
            "5166.5986\n"
          ]
        },
        {
          "name": "stderr",
          "output_type": "stream",
          "text": [
            "It: 36500, Loss: 5.133e-01, Loss_bcs: 4.527e-07, Loss_res: 5.133e-01 ,Time: 0.00\n",
            "Compute NTK...\n"
          ]
        },
        {
          "name": "stdout",
          "output_type": "stream",
          "text": [
            "5081.985\n"
          ]
        },
        {
          "name": "stderr",
          "output_type": "stream",
          "text": [
            "It: 36600, Loss: 5.116e-01, Loss_bcs: 4.481e-07, Loss_res: 5.115e-01 ,Time: 0.00\n",
            "Compute NTK...\n"
          ]
        },
        {
          "name": "stdout",
          "output_type": "stream",
          "text": [
            "5072.7603\n"
          ]
        },
        {
          "name": "stderr",
          "output_type": "stream",
          "text": [
            "It: 36700, Loss: 5.098e-01, Loss_bcs: 4.464e-07, Loss_res: 5.098e-01 ,Time: 0.01\n",
            "Compute NTK...\n"
          ]
        },
        {
          "name": "stdout",
          "output_type": "stream",
          "text": [
            "5066.3164\n"
          ]
        },
        {
          "name": "stderr",
          "output_type": "stream",
          "text": [
            "It: 36800, Loss: 5.081e-01, Loss_bcs: 4.428e-07, Loss_res: 5.080e-01 ,Time: 0.00\n",
            "Compute NTK...\n"
          ]
        },
        {
          "name": "stdout",
          "output_type": "stream",
          "text": [
            "5068.6377\n"
          ]
        },
        {
          "name": "stderr",
          "output_type": "stream",
          "text": [
            "It: 36900, Loss: 5.063e-01, Loss_bcs: 4.395e-07, Loss_res: 5.063e-01 ,Time: 0.00\n",
            "Compute NTK...\n"
          ]
        },
        {
          "name": "stdout",
          "output_type": "stream",
          "text": [
            "5084.877\n"
          ]
        },
        {
          "name": "stderr",
          "output_type": "stream",
          "text": [
            "It: 37000, Loss: 5.046e-01, Loss_bcs: 4.369e-07, Loss_res: 5.046e-01 ,Time: 0.00\n",
            "Compute NTK...\n"
          ]
        },
        {
          "name": "stdout",
          "output_type": "stream",
          "text": [
            "5114.9883\n"
          ]
        },
        {
          "name": "stderr",
          "output_type": "stream",
          "text": [
            "It: 37100, Loss: 5.029e-01, Loss_bcs: 4.324e-07, Loss_res: 5.029e-01 ,Time: 0.00\n",
            "Compute NTK...\n"
          ]
        },
        {
          "name": "stdout",
          "output_type": "stream",
          "text": [
            "5116.622\n"
          ]
        },
        {
          "name": "stderr",
          "output_type": "stream",
          "text": [
            "It: 37200, Loss: 5.012e-01, Loss_bcs: 4.294e-07, Loss_res: 5.012e-01 ,Time: 0.00\n",
            "Compute NTK...\n"
          ]
        },
        {
          "name": "stdout",
          "output_type": "stream",
          "text": [
            "5138.4204\n"
          ]
        },
        {
          "name": "stderr",
          "output_type": "stream",
          "text": [
            "It: 37300, Loss: 4.995e-01, Loss_bcs: 4.274e-07, Loss_res: 4.995e-01 ,Time: 0.00\n",
            "Compute NTK...\n"
          ]
        },
        {
          "name": "stdout",
          "output_type": "stream",
          "text": [
            "5145.9927\n"
          ]
        },
        {
          "name": "stderr",
          "output_type": "stream",
          "text": [
            "It: 37400, Loss: 4.978e-01, Loss_bcs: 4.243e-07, Loss_res: 4.978e-01 ,Time: 0.00\n",
            "Compute NTK...\n"
          ]
        },
        {
          "name": "stdout",
          "output_type": "stream",
          "text": [
            "5143.1104\n"
          ]
        },
        {
          "name": "stderr",
          "output_type": "stream",
          "text": [
            "It: 37500, Loss: 4.962e-01, Loss_bcs: 4.230e-07, Loss_res: 4.961e-01 ,Time: 0.00\n",
            "Compute NTK...\n"
          ]
        },
        {
          "name": "stdout",
          "output_type": "stream",
          "text": [
            "5137.126\n"
          ]
        },
        {
          "name": "stderr",
          "output_type": "stream",
          "text": [
            "It: 37600, Loss: 4.945e-01, Loss_bcs: 4.203e-07, Loss_res: 4.945e-01 ,Time: 0.00\n",
            "Compute NTK...\n"
          ]
        },
        {
          "name": "stdout",
          "output_type": "stream",
          "text": [
            "5120.35\n"
          ]
        },
        {
          "name": "stderr",
          "output_type": "stream",
          "text": [
            "It: 37700, Loss: 4.929e-01, Loss_bcs: 4.174e-07, Loss_res: 4.928e-01 ,Time: 0.00\n",
            "Compute NTK...\n"
          ]
        },
        {
          "name": "stdout",
          "output_type": "stream",
          "text": [
            "5051.83\n"
          ]
        },
        {
          "name": "stderr",
          "output_type": "stream",
          "text": [
            "It: 37800, Loss: 4.913e-01, Loss_bcs: 4.129e-07, Loss_res: 4.912e-01 ,Time: 0.00\n",
            "Compute NTK...\n"
          ]
        },
        {
          "name": "stdout",
          "output_type": "stream",
          "text": [
            "5014.4883\n"
          ]
        },
        {
          "name": "stderr",
          "output_type": "stream",
          "text": [
            "It: 37900, Loss: 4.896e-01, Loss_bcs: 4.099e-07, Loss_res: 4.896e-01 ,Time: 0.00\n",
            "Compute NTK...\n"
          ]
        },
        {
          "name": "stdout",
          "output_type": "stream",
          "text": [
            "4963.718\n"
          ]
        },
        {
          "name": "stderr",
          "output_type": "stream",
          "text": [
            "It: 38000, Loss: 4.880e-01, Loss_bcs: 4.083e-07, Loss_res: 4.880e-01 ,Time: 0.00\n",
            "Compute NTK...\n"
          ]
        },
        {
          "name": "stdout",
          "output_type": "stream",
          "text": [
            "4977.052\n"
          ]
        },
        {
          "name": "stderr",
          "output_type": "stream",
          "text": [
            "It: 38100, Loss: 4.864e-01, Loss_bcs: 4.061e-07, Loss_res: 4.864e-01 ,Time: 0.00\n",
            "Compute NTK...\n"
          ]
        },
        {
          "name": "stdout",
          "output_type": "stream",
          "text": [
            "4978.3613\n"
          ]
        },
        {
          "name": "stderr",
          "output_type": "stream",
          "text": [
            "It: 38200, Loss: 4.848e-01, Loss_bcs: 4.051e-07, Loss_res: 4.848e-01 ,Time: 0.00\n",
            "Compute NTK...\n"
          ]
        },
        {
          "name": "stdout",
          "output_type": "stream",
          "text": [
            "4961.5776\n"
          ]
        },
        {
          "name": "stderr",
          "output_type": "stream",
          "text": [
            "It: 38300, Loss: 4.833e-01, Loss_bcs: 4.026e-07, Loss_res: 4.832e-01 ,Time: 0.00\n",
            "Compute NTK...\n"
          ]
        },
        {
          "name": "stdout",
          "output_type": "stream",
          "text": [
            "4985.8623\n"
          ]
        },
        {
          "name": "stderr",
          "output_type": "stream",
          "text": [
            "It: 38400, Loss: 4.817e-01, Loss_bcs: 4.006e-07, Loss_res: 4.816e-01 ,Time: 0.00\n",
            "Compute NTK...\n"
          ]
        },
        {
          "name": "stdout",
          "output_type": "stream",
          "text": [
            "5004.4624\n"
          ]
        },
        {
          "name": "stderr",
          "output_type": "stream",
          "text": [
            "It: 38500, Loss: 4.801e-01, Loss_bcs: 3.989e-07, Loss_res: 4.801e-01 ,Time: 0.00\n",
            "Compute NTK...\n"
          ]
        },
        {
          "name": "stdout",
          "output_type": "stream",
          "text": [
            "4986.2837\n"
          ]
        },
        {
          "name": "stderr",
          "output_type": "stream",
          "text": [
            "It: 38600, Loss: 4.785e-01, Loss_bcs: 3.959e-07, Loss_res: 4.785e-01 ,Time: 0.00\n",
            "Compute NTK...\n"
          ]
        },
        {
          "name": "stdout",
          "output_type": "stream",
          "text": [
            "5005.0337\n"
          ]
        },
        {
          "name": "stderr",
          "output_type": "stream",
          "text": [
            "It: 38700, Loss: 4.770e-01, Loss_bcs: 3.930e-07, Loss_res: 4.770e-01 ,Time: 0.00\n",
            "Compute NTK...\n"
          ]
        },
        {
          "name": "stdout",
          "output_type": "stream",
          "text": [
            "5018.5356\n"
          ]
        },
        {
          "name": "stderr",
          "output_type": "stream",
          "text": [
            "It: 38800, Loss: 4.755e-01, Loss_bcs: 3.894e-07, Loss_res: 4.754e-01 ,Time: 0.00\n",
            "Compute NTK...\n"
          ]
        },
        {
          "name": "stdout",
          "output_type": "stream",
          "text": [
            "5040.502\n"
          ]
        },
        {
          "name": "stderr",
          "output_type": "stream",
          "text": [
            "It: 38900, Loss: 4.739e-01, Loss_bcs: 3.874e-07, Loss_res: 4.739e-01 ,Time: 0.00\n",
            "Compute NTK...\n"
          ]
        },
        {
          "name": "stdout",
          "output_type": "stream",
          "text": [
            "5030.0522\n"
          ]
        },
        {
          "name": "stderr",
          "output_type": "stream",
          "text": [
            "It: 39000, Loss: 4.724e-01, Loss_bcs: 3.843e-07, Loss_res: 4.724e-01 ,Time: 0.00\n",
            "Compute NTK...\n"
          ]
        },
        {
          "name": "stdout",
          "output_type": "stream",
          "text": [
            "5015.991\n"
          ]
        },
        {
          "name": "stderr",
          "output_type": "stream",
          "text": [
            "It: 39100, Loss: 4.709e-01, Loss_bcs: 3.817e-07, Loss_res: 4.709e-01 ,Time: 0.00\n",
            "Compute NTK...\n"
          ]
        },
        {
          "name": "stdout",
          "output_type": "stream",
          "text": [
            "5008.548\n"
          ]
        },
        {
          "name": "stderr",
          "output_type": "stream",
          "text": [
            "It: 39200, Loss: 4.694e-01, Loss_bcs: 3.795e-07, Loss_res: 4.693e-01 ,Time: 0.00\n",
            "Compute NTK...\n"
          ]
        },
        {
          "name": "stdout",
          "output_type": "stream",
          "text": [
            "4967.0103\n"
          ]
        },
        {
          "name": "stderr",
          "output_type": "stream",
          "text": [
            "It: 39300, Loss: 4.679e-01, Loss_bcs: 3.763e-07, Loss_res: 4.679e-01 ,Time: 0.00\n",
            "Compute NTK...\n"
          ]
        },
        {
          "name": "stdout",
          "output_type": "stream",
          "text": [
            "4938.268\n"
          ]
        },
        {
          "name": "stderr",
          "output_type": "stream",
          "text": [
            "It: 39400, Loss: 4.664e-01, Loss_bcs: 3.737e-07, Loss_res: 4.664e-01 ,Time: 0.00\n",
            "Compute NTK...\n"
          ]
        },
        {
          "name": "stdout",
          "output_type": "stream",
          "text": [
            "4875.134\n"
          ]
        },
        {
          "name": "stderr",
          "output_type": "stream",
          "text": [
            "It: 39500, Loss: 4.649e-01, Loss_bcs: 3.716e-07, Loss_res: 4.649e-01 ,Time: 0.00\n",
            "Compute NTK...\n"
          ]
        },
        {
          "name": "stdout",
          "output_type": "stream",
          "text": [
            "4858.898\n"
          ]
        },
        {
          "name": "stderr",
          "output_type": "stream",
          "text": [
            "It: 39600, Loss: 4.635e-01, Loss_bcs: 3.691e-07, Loss_res: 4.634e-01 ,Time: 0.00\n",
            "Compute NTK...\n"
          ]
        },
        {
          "name": "stdout",
          "output_type": "stream",
          "text": [
            "4890.2505\n"
          ]
        },
        {
          "name": "stderr",
          "output_type": "stream",
          "text": [
            "It: 39700, Loss: 4.620e-01, Loss_bcs: 3.662e-07, Loss_res: 4.620e-01 ,Time: 0.00\n",
            "Compute NTK...\n"
          ]
        },
        {
          "name": "stdout",
          "output_type": "stream",
          "text": [
            "4875.8774\n"
          ]
        },
        {
          "name": "stderr",
          "output_type": "stream",
          "text": [
            "It: 39800, Loss: 4.605e-01, Loss_bcs: 3.632e-07, Loss_res: 4.605e-01 ,Time: 0.00\n",
            "Compute NTK...\n"
          ]
        },
        {
          "name": "stdout",
          "output_type": "stream",
          "text": [
            "4891.497\n"
          ]
        },
        {
          "name": "stderr",
          "output_type": "stream",
          "text": [
            "It: 39900, Loss: 4.591e-01, Loss_bcs: 3.615e-07, Loss_res: 4.591e-01 ,Time: 0.00\n",
            "Compute NTK...\n"
          ]
        },
        {
          "name": "stdout",
          "output_type": "stream",
          "text": [
            "4906.3696\n"
          ]
        },
        {
          "name": "stderr",
          "output_type": "stream",
          "text": [
            "/home/afrah2/anaconda3/envs/twoPhase/lib/python3.7/site-packages/seaborn/distributions.py:2619: FutureWarning: `distplot` is a deprecated function and will be removed in a future version. Please adapt your code to use either `displot` (a figure-level function with similar flexibility) or `kdeplot` (an axes-level function for kernel density plots).\n",
            "  warnings.warn(msg, FutureWarning)\n",
            "/home/afrah2/anaconda3/envs/twoPhase/lib/python3.7/site-packages/seaborn/distributions.py:2619: FutureWarning: `distplot` is a deprecated function and will be removed in a future version. Please adapt your code to use either `displot` (a figure-level function with similar flexibility) or `kdeplot` (an axes-level function for kernel density plots).\n",
            "  warnings.warn(msg, FutureWarning)\n",
            "/home/afrah2/anaconda3/envs/twoPhase/lib/python3.7/site-packages/seaborn/distributions.py:2619: FutureWarning: `distplot` is a deprecated function and will be removed in a future version. Please adapt your code to use either `displot` (a figure-level function with similar flexibility) or `kdeplot` (an axes-level function for kernel density plots).\n",
            "  warnings.warn(msg, FutureWarning)\n",
            "/home/afrah2/anaconda3/envs/twoPhase/lib/python3.7/site-packages/seaborn/distributions.py:2619: FutureWarning: `distplot` is a deprecated function and will be removed in a future version. Please adapt your code to use either `displot` (a figure-level function with similar flexibility) or `kdeplot` (an axes-level function for kernel density plots).\n",
            "  warnings.warn(msg, FutureWarning)\n",
            "Gradients information stored ...\n",
            "It: 40000, Loss: 4.577e-01, Loss_bcs: 3.596e-07, Loss_res: 4.576e-01 ,Time: 0.34\n",
            "Compute NTK...\n"
          ]
        },
        {
          "name": "stdout",
          "output_type": "stream",
          "text": [
            "4906.1733\n"
          ]
        },
        {
          "name": "stderr",
          "output_type": "stream",
          "text": [
            "Save uv NN parameters successfully in %s ...checkpoints/Dec-09-2023_00-40-20-372014_M1\n",
            "Final loss total loss: 4.576969e-01\n",
            "Final loss loss_res: 4.576611e-01\n",
            "Final loss loss_bcs: 3.588293e-07\n"
          ]
        },
        {
          "name": "stdout",
          "output_type": "stream",
          "text": [
            "elapsed: 8.02e+01\n",
            "Relative L2 error_u: 6.99e-04\n",
            "Relative L2 error_r: 5.20e-03\n",
            "elapsed: 8.02e+01\n",
            "Relative L2 error_u: 6.99e-04\n",
            "Relative L2 error_v: 5.20e-03\n",
            "\n",
            "\n",
            "Method:  mini_batch\n",
            "\n",
            "average of time_list: 80.18084812164307\n",
            "average of error_u_list: 0.0006987406248025881\n",
            "average of error_v_list: 0.005196515560558417\n"
          ]
        },
        {
          "ename": "TypeError",
          "evalue": "join() argument must be str or bytes, not 'dict'",
          "output_type": "error",
          "traceback": [
            "\u001b[0;31m---------------------------------------------------------------------------\u001b[0m",
            "\u001b[0;31mTypeError\u001b[0m                                 Traceback (most recent call last)",
            "\u001b[0;32m/tmp/ipykernel_31177/657240385.py\u001b[0m in \u001b[0;36m<module>\u001b[0;34m\u001b[0m\n\u001b[1;32m    105\u001b[0m     \u001b[0;31m# scipy.io.savemat(\"M2_result_\"+str(iterations)+\"_\"+mtd+\".mat\" , {'time_list':np.array(time_list),'error_u_list':np.array(error_u_list),'error_f_list':np.array(error_f_list)})\u001b[0m\u001b[0;34m\u001b[0m\u001b[0;34m\u001b[0m\u001b[0;34m\u001b[0m\u001b[0m\n\u001b[1;32m    106\u001b[0m \u001b[0;34m\u001b[0m\u001b[0m\n\u001b[0;32m--> 107\u001b[0;31m     \u001b[0mscipy\u001b[0m\u001b[0;34m.\u001b[0m\u001b[0mio\u001b[0m\u001b[0;34m.\u001b[0m\u001b[0msavemat\u001b[0m\u001b[0;34m(\u001b[0m\u001b[0mos\u001b[0m\u001b[0;34m.\u001b[0m\u001b[0mpath\u001b[0m\u001b[0;34m.\u001b[0m\u001b[0mjoin\u001b[0m\u001b[0;34m(\u001b[0m\u001b[0mmodel\u001b[0m\u001b[0;34m.\u001b[0m\u001b[0mdirname\u001b[0m\u001b[0;34m,\u001b[0m\u001b[0;34m\"\"\u001b[0m\u001b[0;34m+\u001b[0m\u001b[0mmtd\u001b[0m\u001b[0;34m+\u001b[0m\u001b[0;34m\"_model\"\u001b[0m\u001b[0;34m+\u001b[0m\u001b[0mmode\u001b[0m\u001b[0;34m+\u001b[0m\u001b[0;34m\"_mb\"\u001b[0m\u001b[0;34m+\u001b[0m\u001b[0mstr\u001b[0m\u001b[0;34m(\u001b[0m\u001b[0mmbbatch_size\u001b[0m\u001b[0;34m)\u001b[0m\u001b[0;34m+\u001b[0m\u001b[0;34m\"_fb\"\u001b[0m\u001b[0;34m+\u001b[0m\u001b[0mstr\u001b[0m\u001b[0;34m(\u001b[0m\u001b[0mubatch_size\u001b[0m\u001b[0;34m)\u001b[0m\u001b[0;34m+\u001b[0m\u001b[0;34m\"_bc\"\u001b[0m\u001b[0;34m+\u001b[0m\u001b[0mstr\u001b[0m\u001b[0;34m(\u001b[0m\u001b[0mbcbatch_size\u001b[0m\u001b[0;34m)\u001b[0m\u001b[0;34m+\u001b[0m\u001b[0;34m\"_n\"\u001b[0m\u001b[0;34m+\u001b[0m\u001b[0mstr\u001b[0m\u001b[0;34m(\u001b[0m\u001b[0miterations\u001b[0m\u001b[0;34m)\u001b[0m\u001b[0;34m+\u001b[0m\u001b[0;34m\"_nIter\"\u001b[0m\u001b[0;34m+\u001b[0m\u001b[0mstr\u001b[0m\u001b[0;34m(\u001b[0m\u001b[0mnIter\u001b[0m\u001b[0;34m)\u001b[0m\u001b[0;34m+\u001b[0m\u001b[0;34m\".mat\"\u001b[0m \u001b[0;34m,\u001b[0m \u001b[0mresult_dict\u001b[0m\u001b[0;34m)\u001b[0m\u001b[0;34m)\u001b[0m\u001b[0;34m\u001b[0m\u001b[0;34m\u001b[0m\u001b[0m\n\u001b[0m\u001b[1;32m    108\u001b[0m \u001b[0;34m\u001b[0m\u001b[0m\n\u001b[1;32m    109\u001b[0m \u001b[0;34m\u001b[0m\u001b[0m\n",
            "\u001b[0;32m~/anaconda3/envs/twoPhase/lib/python3.7/posixpath.py\u001b[0m in \u001b[0;36mjoin\u001b[0;34m(a, *p)\u001b[0m\n\u001b[1;32m     92\u001b[0m                 \u001b[0mpath\u001b[0m \u001b[0;34m+=\u001b[0m \u001b[0msep\u001b[0m \u001b[0;34m+\u001b[0m \u001b[0mb\u001b[0m\u001b[0;34m\u001b[0m\u001b[0;34m\u001b[0m\u001b[0m\n\u001b[1;32m     93\u001b[0m     \u001b[0;32mexcept\u001b[0m \u001b[0;34m(\u001b[0m\u001b[0mTypeError\u001b[0m\u001b[0;34m,\u001b[0m \u001b[0mAttributeError\u001b[0m\u001b[0;34m,\u001b[0m \u001b[0mBytesWarning\u001b[0m\u001b[0;34m)\u001b[0m\u001b[0;34m:\u001b[0m\u001b[0;34m\u001b[0m\u001b[0;34m\u001b[0m\u001b[0m\n\u001b[0;32m---> 94\u001b[0;31m         \u001b[0mgenericpath\u001b[0m\u001b[0;34m.\u001b[0m\u001b[0m_check_arg_types\u001b[0m\u001b[0;34m(\u001b[0m\u001b[0;34m'join'\u001b[0m\u001b[0;34m,\u001b[0m \u001b[0ma\u001b[0m\u001b[0;34m,\u001b[0m \u001b[0;34m*\u001b[0m\u001b[0mp\u001b[0m\u001b[0;34m)\u001b[0m\u001b[0;34m\u001b[0m\u001b[0;34m\u001b[0m\u001b[0m\n\u001b[0m\u001b[1;32m     95\u001b[0m         \u001b[0;32mraise\u001b[0m\u001b[0;34m\u001b[0m\u001b[0;34m\u001b[0m\u001b[0m\n\u001b[1;32m     96\u001b[0m     \u001b[0;32mreturn\u001b[0m \u001b[0mpath\u001b[0m\u001b[0;34m\u001b[0m\u001b[0;34m\u001b[0m\u001b[0m\n",
            "\u001b[0;32m~/anaconda3/envs/twoPhase/lib/python3.7/genericpath.py\u001b[0m in \u001b[0;36m_check_arg_types\u001b[0;34m(funcname, *args)\u001b[0m\n\u001b[1;32m    151\u001b[0m         \u001b[0;32melse\u001b[0m\u001b[0;34m:\u001b[0m\u001b[0;34m\u001b[0m\u001b[0;34m\u001b[0m\u001b[0m\n\u001b[1;32m    152\u001b[0m             raise TypeError('%s() argument must be str or bytes, not %r' %\n\u001b[0;32m--> 153\u001b[0;31m                             (funcname, s.__class__.__name__)) from None\n\u001b[0m\u001b[1;32m    154\u001b[0m     \u001b[0;32mif\u001b[0m \u001b[0mhasstr\u001b[0m \u001b[0;32mand\u001b[0m \u001b[0mhasbytes\u001b[0m\u001b[0;34m:\u001b[0m\u001b[0;34m\u001b[0m\u001b[0;34m\u001b[0m\u001b[0m\n\u001b[1;32m    155\u001b[0m         \u001b[0;32mraise\u001b[0m \u001b[0mTypeError\u001b[0m\u001b[0;34m(\u001b[0m\u001b[0;34m\"Can't mix strings and bytes in path components\"\u001b[0m\u001b[0;34m)\u001b[0m \u001b[0;32mfrom\u001b[0m \u001b[0;32mNone\u001b[0m\u001b[0;34m\u001b[0m\u001b[0;34m\u001b[0m\u001b[0m\n",
            "\u001b[0;31mTypeError\u001b[0m: join() argument must be str or bytes, not 'dict'"
          ]
        }
      ],
      "source": [
        "# Define computional domain\n",
        "bc1_coords = np.array([[0.0], [0.0]])\n",
        "bc2_coords = np.array([[1.0], [1.0]])\n",
        "dom_coords = np.array([[0.0], [1.0]])\n",
        "\n",
        "# Training data on u(x) -- Dirichlet boundary conditions\n",
        "\n",
        "nn  = 100\n",
        "\n",
        "X_bc1 = dom_coords[0, 0] * np.ones((nn // 2, 1))\n",
        "X_bc2 = dom_coords[1, 0] * np.ones((nn // 2, 1))\n",
        "X_u = np.vstack([X_bc1, X_bc2])\n",
        "Y_u = u(X_u, a)\n",
        "\n",
        "X_r = np.linspace(dom_coords[0, 0], dom_coords[1, 0], nn)[:, None]\n",
        "Y_r = u_xx(X_r, a)\n",
        "\n",
        "nn = 1000\n",
        "X_star = np.linspace(dom_coords[0, 0], dom_coords[1, 0], nn)[:, None]\n",
        "u_star = u(X_star, a)\n",
        "r_star = u_xx(X_star, a)\n",
        "\n",
        "nIter =40001\n",
        "bcbatch_size = 500\n",
        "ubatch_size = 5000\n",
        "mbbatch_size = 128\n",
        "\n",
        "\n",
        "\n",
        "# Define model\n",
        "mode = 'M1'\n",
        "layers = [1, 500, 1]\n",
        "\n",
        "\n",
        "\n",
        "iterations = 1\n",
        "methods = [ \"mini_batch\"]\n",
        "\n",
        "result_dict =  dict((mtd, []) for mtd in methods)\n",
        "\n",
        "for mtd in methods:\n",
        "    print(\"Method: \", mtd)\n",
        "    time_list = []\n",
        "    error_u_list = []\n",
        "    error_r_list = []\n",
        "    \n",
        "    for index in range(iterations):\n",
        "\n",
        "        print(\"Epoch: \", str(index+1))\n",
        "\n",
        "        # Create residual sampler\n",
        "        gpu_options = tf.GPUOptions(visible_device_list=\"0\")\n",
        "        tf.reset_default_graph()\n",
        "        with tf.Session(config=tf.ConfigProto(gpu_options=gpu_options,allow_soft_placement=False, log_device_placement=False)) as sess:\n",
        "\n",
        "            model = PINN(layers, X_u, Y_u, X_r, Y_r , mode , sess)    \n",
        "\n",
        "            # Train model\n",
        "            start_time = time.time()\n",
        "\n",
        "            if mtd ==\"full_batch\":\n",
        "                print(\"full_batch method is used\")\n",
        "                model.train(nIter  , bcbatch_size , ubatch_size  )\n",
        "            elif mtd ==\"mini_batch\":\n",
        "                print(\"mini_batch method is used\")\n",
        "                model.trainmb(nIter, mbbatch_size)\n",
        "            else:\n",
        "                print(\"unknown method!\")\n",
        "            elapsed = time.time() - start_time\n",
        "\n",
        "            # Predictions\n",
        "            u_pred = model.predict_u(X_star)\n",
        "            r_pred = model.predict_r(X_star)\n",
        "            # Predictions\n",
        "            model.save_NN()\n",
        "            model.plot_ntk()\n",
        " \n",
        "\n",
        "            error_u = np.linalg.norm(u_star - u_pred, 2) / np.linalg.norm(u_star, 2)\n",
        "            error_r = np.linalg.norm(r_star - r_pred, 2) / np.linalg.norm(r_star, 2)\n",
        "\n",
        "            print('elapsed: {:.2e}'.format(elapsed))\n",
        "\n",
        "            print('Relative L2 error_u: {:.2e}'.format(error_u))\n",
        "            print('Relative L2 error_r: {:.2e}'.format(error_r))\n",
        "\n",
        "\n",
        "            print('elapsed: {:.2e}'.format(elapsed))\n",
        "            print('Relative L2 error_u: {:.2e}'.format(error_u))\n",
        "            print('Relative L2 error_v: {:.2e}'.format(error_r))\n",
        "\n",
        "            model.plt_prediction( X_star , u_star , u_pred)\n",
        "            sess.close()  \n",
        "            \n",
        "        time_list.append(elapsed)\n",
        "        error_u_list.append(error_u)\n",
        "        error_r_list.append(error_r)\n",
        "\n",
        "    print(\"\\n\\nMethod: \", mtd)\n",
        "    print(\"\\naverage of time_list:\" , sum(time_list) / len(time_list) )\n",
        "    print(\"average of error_u_list:\" , sum(error_u_list) / len(error_u_list) )\n",
        "    print(\"average of error_v_list:\" , sum(error_r_list) / len(error_r_list) )\n",
        "\n",
        "    result_dict[mtd] = [time_list ,error_u_list ,error_r_list ]\n",
        "    # scipy.io.savemat(\"M2_result_\"+str(iterations)+\"_\"+mtd+\".mat\" , {'time_list':np.array(time_list),'error_u_list':np.array(error_u_list),'error_f_list':np.array(error_f_list)})\n",
        "\n",
        "    scipy.io.savemat(os.path.join(model.dirname,\"\"+mtd+\"_model\"+mode+\"_mb\"+str(mbbatch_size)+\"_fb\"+str(ubatch_size)+\"_bc\"+str(bcbatch_size)+\"_n\"+str(iterations)+\"_nIter\"+str(nIter)+\".mat\" , result_dict))\n",
        "\n",
        "\n"
      ]
    },
    {
      "cell_type": "code",
      "execution_count": null,
      "metadata": {},
      "outputs": [],
      "source": [
        "# Define model\n",
        "layers = [1, 512, 1]  \n",
        "# layers = [1, 512, 512, 512, 1]  \n"
      ]
    },
    {
      "cell_type": "code",
      "execution_count": null,
      "metadata": {
        "colab": {
          "base_uri": "https://localhost:8080/",
          "height": 369
        },
        "id": "Fw807UNzhu5z",
        "outputId": "929ae89c-3e10-4c56-e349-051441e8ab32"
      },
      "outputs": [],
      "source": [
        "loss_bcs = model.loss_bcs_log\n",
        "loss_res = model.loss_res_log\n",
        "\n",
        "fig = plt.figure(figsize=(6,5))\n",
        "plt.plot(loss_res, label='$\\mathcal{L}_{r}$')\n",
        "plt.plot(loss_bcs, label='$\\mathcal{L}_{b}$')\n",
        "plt.yscale('log')\n",
        "plt.xlabel('iterations')\n",
        "plt.ylabel('Loss')\n",
        "plt.legend()\n",
        "plt.tight_layout()\n",
        "plt.show()"
      ]
    },
    {
      "cell_type": "markdown",
      "metadata": {
        "id": "TFLIBq5xjZ3v"
      },
      "source": [
        "**Model Prediction**"
      ]
    },
    {
      "cell_type": "code",
      "execution_count": null,
      "metadata": {
        "colab": {
          "base_uri": "https://localhost:8080/"
        },
        "id": "To0PDN17cc0v",
        "outputId": "7284b31e-f2fe-41ab-93a9-4c2c91f94cde"
      },
      "outputs": [],
      "source": []
    },
    {
      "cell_type": "code",
      "execution_count": null,
      "metadata": {
        "colab": {
          "base_uri": "https://localhost:8080/",
          "height": 369
        },
        "id": "K428lOuXhdc8",
        "outputId": "b1e23055-178c-400c-8972-f3e7987e0892"
      },
      "outputs": [],
      "source": []
    },
    {
      "cell_type": "markdown",
      "metadata": {
        "id": "9EYdfKGLj6h0"
      },
      "source": [
        "**NTK Eigenvalues**"
      ]
    },
    {
      "cell_type": "code",
      "execution_count": null,
      "metadata": {
        "id": "e3dByeQjhBYj"
      },
      "outputs": [],
      "source": []
    },
    {
      "cell_type": "code",
      "execution_count": null,
      "metadata": {
        "colab": {
          "base_uri": "https://localhost:8080/",
          "height": 369
        },
        "id": "vSn3Q_1IhisN",
        "outputId": "4c713f42-11b2-4de9-8698-085eb54c164d"
      },
      "outputs": [],
      "source": []
    },
    {
      "cell_type": "markdown",
      "metadata": {
        "id": "pIS5UH81kOxT"
      },
      "source": [
        "**Change of NTK**"
      ]
    },
    {
      "cell_type": "code",
      "execution_count": null,
      "metadata": {
        "id": "wF4Q_iZshQ-0"
      },
      "outputs": [],
      "source": [
        "# Change of the NTK\n",
        "NTK_change_list = []\n",
        "K0 = K_list[0]\n",
        "for K in K_list:\n",
        "    diff = np.linalg.norm(K - K0) / np.linalg.norm(K0) \n",
        "    NTK_change_list.append(diff)"
      ]
    },
    {
      "cell_type": "code",
      "execution_count": null,
      "metadata": {
        "colab": {
          "base_uri": "https://localhost:8080/",
          "height": 338
        },
        "id": "E-_gPGpCkF4n",
        "outputId": "9893e038-907d-4425-bb6e-8ecdb2ad497d"
      },
      "outputs": [],
      "source": [
        "fig = plt.figure(figsize=(6,5))\n",
        "plt.plot(NTK_change_list)"
      ]
    },
    {
      "cell_type": "markdown",
      "metadata": {
        "id": "Mg0ZGHbAkW6N"
      },
      "source": [
        "\n",
        "**Change of NN Params**"
      ]
    },
    {
      "cell_type": "code",
      "execution_count": null,
      "metadata": {
        "id": "LLGv9JUuioVZ"
      },
      "outputs": [],
      "source": [
        "# Change of the weights and biases\n",
        "def compute_weights_diff(weights_1, weights_2):\n",
        "    weights = []\n",
        "    N = len(weights_1)\n",
        "    for k in range(N):\n",
        "        weight = weights_1[k] - weights_2[k]\n",
        "        weights.append(weight)\n",
        "    return weights\n",
        "\n",
        "def compute_weights_norm(weights, biases):\n",
        "    norm = 0\n",
        "    for w in weights:\n",
        "        norm = norm + np.sum(np.square(w))\n",
        "    for b in biases:\n",
        "        norm = norm + np.sum(np.square(b))\n",
        "    norm = np.sqrt(norm)\n",
        "    return norm\n",
        "\n",
        "# Restore the list weights and biases\n",
        "weights_log = model.weights_log\n",
        "biases_log = model.biases_log\n",
        "\n",
        "weights_0 = weights_log[0]\n",
        "biases_0 = biases_log[0]\n",
        "\n",
        "# Norm of the weights at initialization\n",
        "weights_init_norm = compute_weights_norm(weights_0, biases_0)\n",
        "\n",
        "weights_change_list = []\n",
        "\n",
        "N = len(weights_log)\n",
        "for k in range(N):\n",
        "    weights_diff = compute_weights_diff(weights_log[k], weights_log[0])\n",
        "    biases_diff = compute_weights_diff(biases_log[k], biases_log[0])\n",
        "    \n",
        "    weights_diff_norm = compute_weights_norm(weights_diff, biases_diff)\n",
        "    weights_change = weights_diff_norm / weights_init_norm\n",
        "    weights_change_list.append(weights_change)"
      ]
    },
    {
      "cell_type": "code",
      "execution_count": null,
      "metadata": {
        "colab": {
          "base_uri": "https://localhost:8080/",
          "height": 338
        },
        "id": "5NLsAxgzi4KH",
        "outputId": "74d92bf9-0dde-438e-e9b3-a551904f4e2f"
      },
      "outputs": [],
      "source": [
        "fig = plt.figure(figsize=(6,5))\n",
        "plt.plot(weights_change_list)"
      ]
    },
    {
      "cell_type": "code",
      "execution_count": null,
      "metadata": {
        "id": "MYbzkhfMjJ8k"
      },
      "outputs": [],
      "source": []
    }
  ],
  "metadata": {
    "accelerator": "GPU",
    "colab": {
      "name": "PINNsNTK_Poisson.ipynb",
      "provenance": []
    },
    "kernelspec": {
      "display_name": "Python 3",
      "name": "python3"
    },
    "language_info": {
      "codemirror_mode": {
        "name": "ipython",
        "version": 3
      },
      "file_extension": ".py",
      "mimetype": "text/x-python",
      "name": "python",
      "nbconvert_exporter": "python",
      "pygments_lexer": "ipython3",
      "version": "3.7.13"
    }
  },
  "nbformat": 4,
  "nbformat_minor": 0
}
