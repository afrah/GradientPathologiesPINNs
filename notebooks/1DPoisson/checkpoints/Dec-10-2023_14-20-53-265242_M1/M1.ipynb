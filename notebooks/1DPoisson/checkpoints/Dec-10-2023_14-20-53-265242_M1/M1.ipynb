{
  "cells": [
    {
      "cell_type": "code",
      "execution_count": null,
      "metadata": {
        "colab": {
          "base_uri": "https://localhost:8080/"
        },
        "id": "OybZJApDYGsi",
        "outputId": "dc7cdffa-8613-42ee-86cc-0bc5000b2998"
      },
      "outputs": [],
      "source": [
        "# # Switch to tensorflow 1.x\n",
        "# %tensorflow_version 1.x"
      ]
    },
    {
      "cell_type": "code",
      "execution_count": 1,
      "metadata": {
        "id": "7WkCgnRiYQSY"
      },
      "outputs": [],
      "source": [
        "import tensorflow as tf\n",
        "from Compute_Jacobian import jacobian # Please download 'Compute_Jacobian.py' in the repository \n",
        "import numpy as np\n",
        "import timeit\n",
        "from scipy.interpolate import griddata\n",
        "import seaborn as sns\n",
        "import matplotlib.pyplot as plt\n",
        "import pandas as pd\n",
        "import os\n",
        "\n",
        "os.environ[\"KMP_WARNINGS\"] = \"FALSE\" \n",
        "import timeit\n",
        "\n",
        "import sys\n",
        "\n",
        "import scipy\n",
        "import scipy.io\n",
        "import time\n",
        "import logging\n",
        "\n",
        "import os.path\n",
        "import shutil\n",
        "from datetime import datetime\n",
        "import pickle\n"
      ]
    },
    {
      "cell_type": "code",
      "execution_count": 2,
      "metadata": {
        "id": "-y7cHTcJfBTR"
      },
      "outputs": [],
      "source": [
        "class Sampler:\n",
        "    # Initialize the class\n",
        "    def __init__(self, dim, coords, func, name=None):\n",
        "        self.dim = dim\n",
        "        self.coords = coords\n",
        "        self.func = func\n",
        "        self.name = name\n",
        "\n",
        "    def sample(self, N):\n",
        "        x = self.coords[0:1, :] + (self.coords[1:2, :] - self.coords[0:1, :]) * np.random.rand(N, self.dim)\n",
        "        y = self.func(x)\n",
        "        return x, y"
      ]
    },
    {
      "cell_type": "code",
      "execution_count": 3,
      "metadata": {
        "id": "SDqDWN3nfSAg"
      },
      "outputs": [],
      "source": [
        "class PINN:\n",
        "    def __init__(self, layers, X_u, Y_u, X_r, Y_r ,mode ,  sess):\n",
        "\n",
        "\n",
        "        self.mode = mode\n",
        "\n",
        "        self.dirname, logpath = self.make_output_dir()\n",
        "        self.logger = self.get_logger(logpath)     \n",
        "\n",
        "        self.mu_X, self.sigma_X = X_r.mean(0), X_r.std(0)\n",
        "        self.mu_x, self.sigma_x = self.mu_X[0], self.sigma_X[0]\n",
        "\n",
        "        # Normalize\n",
        "        self.X_u = (X_u - self.mu_X) / self.sigma_X\n",
        "        self.Y_u = Y_u\n",
        "        self.X_r = (X_r - self.mu_X) / self.sigma_X\n",
        "        self.Y_r = Y_r\n",
        "\n",
        "        # Initialize network weights and biases\n",
        "        self.layers = layers\n",
        "        self.weights, self.biases = self.initialize_NN(layers)\n",
        "            \n",
        "        # Define the size of the Kernel\n",
        "        self.kernel_size = X_u.shape[0]\n",
        "        # Define Tensorflow session\n",
        "        self.sess = sess# tf.Session(config=tf.ConfigProto(log_device_placement=False))\n",
        "\n",
        "        self.lam_bc = np.array(1.0)\n",
        "        self.lam_bc_tf = tf.placeholder(tf.float32, shape=self.lam_bc.shape)\n",
        "\n",
        "        # Define placeholders and computational graph\n",
        "        self.x_u_tf = tf.placeholder(tf.float32, shape=(None, 1))\n",
        "        self.u_tf = tf.placeholder(tf.float32, shape=(None, 1))\n",
        "\n",
        "        self.x_bc_tf = tf.placeholder(tf.float32, shape=(None, 1))\n",
        "        self.u_bc_tf = tf.placeholder(tf.float32, shape=(None, 1))\n",
        "\n",
        "        self.x_r_tf = tf.placeholder(tf.float32, shape=(None, 1))\n",
        "        self.r_tf = tf.placeholder(tf.float32, shape=(None, 1))\n",
        "        \n",
        "        self.x_u_ntk_tf = tf.placeholder(tf.float32, shape=(self.kernel_size, 1))\n",
        "        self.x_r_ntk_tf = tf.placeholder(tf.float32, shape=(self.kernel_size, 1))\n",
        "\n",
        "\n",
        "        # Evaluate predictions\n",
        "        self.u_bc_pred = self.net_u(self.x_bc_tf)\n",
        "\n",
        "        self.u_pred = self.net_u(self.x_u_tf)\n",
        "        self.r_pred = self.net_r(self.x_r_tf)\n",
        "        \n",
        "        self.u_ntk_pred = self.net_u(self.x_u_ntk_tf)\n",
        "        self.r_ntk_pred = self.net_r(self.x_r_ntk_tf)\n",
        "     \n",
        "        # Boundary loss\n",
        "        self.loss_bcs = tf.reduce_mean(tf.square(self.u_bc_pred - self.u_bc_tf))\n",
        "\n",
        "        # Residual loss        \n",
        "        self.loss_res =  tf.reduce_mean(tf.square(self.r_tf - self.r_pred))\n",
        "        \n",
        "        # Total loss\n",
        "        self.loss = self.loss_res +  self.lam_bc_tf  * self.loss_bcs\n",
        "\n",
        "        # Define optimizer with learning rate schedule\n",
        "        self.global_step = tf.Variable(0, trainable=False)\n",
        "        starter_learning_rate = 1e-5\n",
        "        self.learning_rate = tf.train.exponential_decay(starter_learning_rate, self.global_step, 1000, 0.9, staircase=False)\n",
        "        # Passing global_step to minimize() will increment it at each step.\n",
        "        # To compute NTK, it is better to use SGD optimizer\n",
        "        # since the corresponding gradient flow is not exactly same.\n",
        "        self.train_op = tf.train.GradientDescentOptimizer(starter_learning_rate).minimize(self.loss)\n",
        "        # self.train_op = tf.train.AdamOptimizer(self.learning_rate).minimize(self.loss, global_step=self.global_step)\n",
        "\n",
        "\n",
        "        \n",
        "        # Compute the Jacobian for weights and biases in each hidden layer  \n",
        "        self.J_u = self.compute_jacobian(self.u_ntk_pred) \n",
        "        self.J_r = self.compute_jacobian(self.r_ntk_pred)\n",
        "        \n",
        "        # The empirical NTK = J J^T, compute NTK of PINNs \n",
        "        self.K_uu = self.compute_ntk(self.J_u, self.x_u_ntk_tf, self.J_u, self.x_u_ntk_tf)\n",
        "        self.K_ur = self.compute_ntk(self.J_u, self.x_u_ntk_tf, self.J_r, self.x_r_ntk_tf)\n",
        "        self.K_rr = self.compute_ntk(self.J_r, self.x_r_ntk_tf, self.J_r, self.x_r_ntk_tf)\n",
        "        \n",
        "        # Logger\n",
        "        # Loss logger\n",
        "        self.loss_bcs_log = []\n",
        "        self.loss_res_log = []\n",
        "\n",
        "        # NTK logger \n",
        "        self.K_uu_log = []\n",
        "        self.K_rr_log = []\n",
        "        self.K_ur_log = []\n",
        "        \n",
        "        # Weights logger \n",
        "        self.weights_log = []\n",
        "        self.biases_log = []\n",
        "       # Gradients Storage\n",
        "\n",
        "\n",
        "\n",
        "        # Generate dicts for gradients storage\n",
        "        self.dict_gradients_res_layers = self.generate_grad_dict()\n",
        "        self.dict_gradients_bc_layers = self.generate_grad_dict()\n",
        "\n",
        "        self.grad_res = []\n",
        "        self.grad_bc = []\n",
        "        self.grad_bc_list = []\n",
        "\n",
        "        for i in range(len(self.layers) - 1):\n",
        "            self.grad_res.append(tf.gradients(self.loss_res, self.weights[i])[0])\n",
        "            self.grad_bc.append(tf.gradients(self.loss_bcs, self.weights[i])[0])\n",
        "\n",
        "\n",
        "        self.adaptive_constant_bcs_log = []\n",
        "        self.adaptive_constant_res_log = []\n",
        "\n",
        "        self.mean_grad_res_list = []\n",
        "        self.mean_grad_bcs_list = []\n",
        "    \n",
        "        self.mean_grad_res_list_log = []\n",
        "        self.mean_grad_bcs_list_log = []\n",
        "\n",
        "        for i in range(len(self.layers) - 1):\n",
        "            self.mean_grad_res_list.append(tf.math.reduce_mean(tf.abs(self.grad_res[i]))) \n",
        "            self.mean_grad_bcs_list.append(tf.math.reduce_mean(tf.abs(self.grad_bc[i])))\n",
        "        \n",
        "        self.mean_grad_res = tf.math.reduce_mean(tf.stack(self.mean_grad_res_list))\n",
        "        self.mean_grad_bcs = tf.math.reduce_mean(tf.stack(self.mean_grad_bcs_list))\n",
        "    \n",
        "\n",
        "        for i in range(len(self.layers) - 1):\n",
        "            self.grad_bc_list.append(tf.reduce_max(tf.abs(self.grad_res[i])) / tf.reduce_mean(tf.abs(self.grad_bc[i])))\n",
        "\n",
        "        self.adaptive_constant_bc = tf.reduce_mean(tf.stack(self.grad_bc_list))\n",
        "\n",
        "        self.loss_tensor_list = [self.loss ,  self.loss_res,  self.loss_bcs] \n",
        "        self.loss_list = [\"total loss\" , \"loss_res\" , \"loss_bcs\"] \n",
        "\n",
        "        self.epoch_loss = dict.fromkeys(self.loss_list, 0)\n",
        "        self.loss_history = dict((loss, []) for loss in self.loss_list)\n",
        "        \n",
        "\n",
        "        # Initialize Tensorflow variables\n",
        "        init = tf.global_variables_initializer()\n",
        "\n",
        "        self.sess.run(init)\n",
        "        \n",
        "\n",
        "###############################################################################################################\n",
        "\n",
        "    def generate_grad_dict(self):\n",
        "        num = len(self.layers) - 1\n",
        "        grad_dict = {}\n",
        "        for i in range(num):\n",
        "            grad_dict['layer_{}'.format(i + 1)] = []\n",
        "        return grad_dict\n",
        "\n",
        "    # Xavier initialization\n",
        "    def xavier_init(self, size):\n",
        "        in_dim = size[0]\n",
        "        out_dim = size[1]\n",
        "        xavier_stddev = 1. / np.sqrt((in_dim + out_dim) / 2.)\n",
        "        return tf.Variable(tf.random.normal([in_dim, out_dim], dtype=tf.float32) * xavier_stddev,\n",
        "                           dtype=tf.float32)\n",
        "    \n",
        "    # NTK initialization\n",
        "    def NTK_init(self, size):\n",
        "        in_dim = size[0]\n",
        "        out_dim = size[1]\n",
        "        std = 1. / np.sqrt(in_dim)\n",
        "        return tf.Variable(tf.random.normal([in_dim, out_dim], dtype=tf.float32) * std,\n",
        "                           dtype=tf.float32)\n",
        "\n",
        "     # Initialize network weights and biases using Xavier initialization\n",
        "    def initialize_NN(self, layers):\n",
        "        weights = []\n",
        "        biases = []\n",
        "        num_layers = len(layers)\n",
        "        for l in range(0, num_layers - 1):\n",
        "            W = self.NTK_init(size=[layers[l], layers[l + 1]])\n",
        "            b = tf.Variable(tf.random.normal([1, layers[l + 1]], dtype=tf.float32), dtype=tf.float32)\n",
        "            weights.append(W)\n",
        "            biases.append(b)\n",
        "        return weights, biases\n",
        "\n",
        "    # Evaluates the forward pass\n",
        "    def forward_pass(self, H):\n",
        "        num_layers = len(self.layers)\n",
        "        for l in range(0, num_layers - 2):\n",
        "            W = self.weights[l]\n",
        "            b = self.biases[l]\n",
        "            H = tf.nn.tanh(tf.add(tf.matmul(H, W), b))\n",
        "        W = self.weights[-1]\n",
        "        b = self.biases[-1]\n",
        "        H = tf.add(tf.matmul(H, W), b)\n",
        "        return H\n",
        "\n",
        "    # Evaluates the PDE solution\n",
        "    def net_u(self, x):\n",
        "        u = self.forward_pass(x)\n",
        "        return u\n",
        "\n",
        "    # Forward pass for the residual\n",
        "    def net_r(self, x):\n",
        "        u = self.net_u(x)\n",
        "\n",
        "        u_x = tf.gradients(u, x)[0] / self.sigma_x\n",
        "        u_xx = tf.gradients(u_x, x)[0] / self.sigma_x\n",
        "\n",
        "        res_u = u_xx\n",
        "        return res_u\n",
        "    \n",
        "    # Compute Jacobian for each weights and biases in each layer and retrun a list \n",
        "    def compute_jacobian(self, f):\n",
        "        J_list =[]\n",
        "        L = len(self.weights)    \n",
        "        for i in range(L):\n",
        "            J_w = jacobian(f, self.weights[i])\n",
        "            J_list.append(J_w)\n",
        "     \n",
        "        for i in range(L):\n",
        "            J_b = jacobian(f, self.biases[i])\n",
        "            J_list.append(J_b)\n",
        "        return J_list\n",
        "    \n",
        "    # Compute the empirical NTK = J J^T\n",
        "    def compute_ntk(self, J1_list, x1, J2_list, x2):\n",
        "        D = x1.shape[0]\n",
        "        N = len(J1_list)\n",
        "        \n",
        "        Ker = tf.zeros((D,D))\n",
        "        for k in range(N):\n",
        "            J1 = tf.reshape(J1_list[k], shape=(D,-1))\n",
        "            J2 = tf.reshape(J2_list[k], shape=(D,-1))\n",
        "            \n",
        "            K = tf.matmul(J1, tf.transpose(J2))\n",
        "            Ker = Ker + K\n",
        "        return Ker\n",
        "            \n",
        "    # Trains the model by minimizing the MSE loss\n",
        "    def trainmb(self, nIter=10000, batch_size=128, log_NTK=True, log_weights=True):\n",
        "\n",
        "\n",
        "        itValues = [1,100,1000,39999]\n",
        "        start_time = timeit.default_timer()\n",
        "        for it in range(nIter):\n",
        "            # Fetch boundary mini-batches\n",
        "            # Define a dictionary for associating placeholders with data\n",
        "            tf_dict = {self.x_bc_tf: self.X_u, self.u_bc_tf: self.Y_u,\n",
        "                       self.x_u_tf: self.X_u, self.x_r_tf: self.X_r,\n",
        "                       self.r_tf: self.Y_r,\n",
        "                       self.lam_bc_tf : self.lam_bc\n",
        "                       }\n",
        "        \n",
        "            # Run the Tensorflow session to minimize the loss\n",
        "            _, batch_losses = self.sess.run([self.train_op, self.loss_tensor_list] ,tf_dict)\n",
        "\n",
        "            # self.print\n",
        "            if it % 100 == 0:\n",
        "                elapsed = timeit.default_timer() - start_time\n",
        "                [loss ,  loss_res,  loss_bcs]  = batch_losses\n",
        "\n",
        "\n",
        "                self.print('It: %d, Loss: %.3e, Loss_bcs: %.3e, Loss_res: %.3e ,Time: %.2f' %  (it, loss, loss_bcs, loss_res, elapsed))\n",
        "                \n",
        "            if log_NTK:\n",
        "                # provide x, x' for NTK\n",
        "                if it % 100 == 0:\n",
        "\n",
        "                    # adaptive_constant_bc = self.sess.run([self.adaptive_constant_bc],  tf_dict)\n",
        "                    self.lam_bc = 1.0\n",
        "                    mean_grad_bcs , mean_grad_res = self.sess.run([self.mean_grad_bcs , self.mean_grad_res],  tf_dict)\n",
        "                    self.mean_grad_bcs_list_log.append(mean_grad_bcs)\n",
        "                    self.mean_grad_res_list_log.append(mean_grad_res)\n",
        "\n",
        "                    self.print(\"Compute NTK...\")\n",
        "                    tf_dict2 = {self.x_u_ntk_tf: self.X_u, \n",
        "                               self.x_r_ntk_tf: self.X_r\n",
        "                               }\n",
        "                    K_uu_value, K_ur_value, K_rr_value = self.sess.run([self.K_uu,  self.K_ur,  self.K_rr], tf_dict2)\n",
        "                    self.K_uu_log.append(K_uu_value)\n",
        "                    self.K_ur_log.append(K_ur_value)\n",
        "                    self.K_rr_log.append(K_rr_value)\n",
        "            start_time = timeit.default_timer()\n",
        "\n",
        "            if it in itValues:\n",
        "                    self.plot_layerLoss(tf_dict , it)\n",
        "                    self.print(\"Gradients information stored ...\")\n",
        "\n",
        "            sys.stdout.flush()\n",
        "            self.assign_batch_losses(batch_losses)\n",
        "            for key in self.loss_history:\n",
        "                self.loss_history[key].append(self.epoch_loss[key])\n",
        "            \n",
        "    # Evaluates predictions at test points\n",
        "    def predict_u(self, X_star):\n",
        "        X_star = (X_star - self.mu_X) / self.sigma_X\n",
        "        tf_dict = {self.x_u_tf: X_star}\n",
        "        u_star = self.sess.run(self.u_pred, tf_dict)\n",
        "        return u_star\n",
        "\n",
        "    # Evaluates predictions at test points\n",
        "    def predict_r(self, X_star):\n",
        "        X_star = (X_star - self.mu_X) / self.sigma_X\n",
        "        tf_dict = {self.x_r_tf: X_star}\n",
        "        r_star = self.sess.run(self.r_pred, tf_dict)\n",
        "        return r_star\n",
        " ############################################################\n",
        "\n",
        "    def assign_batch_losses(self, batch_losses):\n",
        "        for loss_values, key in zip(batch_losses, self.epoch_loss):\n",
        "            self.epoch_loss[key] = loss_values\n",
        "\n",
        "  ############################################################\n",
        "###################################################################################################################\n",
        "\n",
        "\n",
        "    def plot_layerLoss(self , tf_dict , epoch):\n",
        "        ## Gradients #\n",
        "        num_layers = len(self.layers)\n",
        "        for i in range(num_layers - 1):\n",
        "            grad_res, grad_bc  = self.sess.run([ self.grad_res[i],self.grad_bc[i]], feed_dict=tf_dict)\n",
        "\n",
        "            # save gradients of loss_r and loss_u\n",
        "            self.dict_gradients_res_layers['layer_' + str(i + 1)].append(grad_res.flatten())\n",
        "            self.dict_gradients_bc_layers['layer_' + str(i + 1)].append(grad_bc.flatten())\n",
        "\n",
        "        num_hidden_layers = num_layers -1\n",
        "        cnt = 1\n",
        "        fig = plt.figure(4, figsize=(13, 4))\n",
        "        for j in range(num_hidden_layers):\n",
        "            ax = plt.subplot(1, num_hidden_layers, cnt)\n",
        "            ax.set_title('Layer {}'.format(j + 1))\n",
        "            ax.set_yscale('symlog')\n",
        "            gradients_res = self.dict_gradients_res_layers['layer_' + str(j + 1)][-1]\n",
        "            gradients_bc = self.dict_gradients_bc_layers['layer_' + str(j + 1)][-1]\n",
        "\n",
        "            sns.distplot(gradients_res, hist=False,kde_kws={\"shade\": False},norm_hist=True,  label=r'$\\nabla_\\theta \\mathcal{L}_r$')\n",
        "\n",
        "            sns.distplot(gradients_bc, hist=False,kde_kws={\"shade\": False},norm_hist=True,   label=r'$\\nabla_\\theta \\mathcal{L}_{u_{bc}}$')\n",
        "\n",
        "            #ax.get_legend().remove()\n",
        "            ax.set_xlim([-1.0, 1.0])\n",
        "            #ax.set_ylim([0, 150])\n",
        "            cnt += 1\n",
        "        handles, labels = ax.get_legend_handles_labels()\n",
        "\n",
        "        fig.legend(handles, labels, loc=\"center\",  bbox_to_anchor=(0.5, -0.03),borderaxespad=0,bbox_transform=fig.transFigure, ncol=2)\n",
        "        text = 'layerLoss_epoch' + str(epoch) +'.png'\n",
        "        plt.savefig(os.path.join(self.dirname,text) , bbox_inches='tight')\n",
        "        plt.close(\"all\")\n",
        "\n",
        "    # #########################\n",
        "    # def make_output_dir(self):\n",
        "        \n",
        "    #     if not os.path.exists(\"/okyanus/users/afarea/PINN/Adaptive_PINN/IB_PINN/checkpoints\"):\n",
        "    #         os.mkdir(\"/okyanus/users/afarea/PINN/Adaptive_PINN/IB_PINN/checkpoints\")\n",
        "    #     dirname = os.path.join(\"/okyanus/users/afarea/PINN/Adaptive_PINN/IB_PINN/checkpoints\", datetime.now().strftime(\"%b-%d-%Y_%H-%M-%S-%f_\") + self.mode)\n",
        "    #     os.mkdir(dirname)\n",
        "    #     text = 'output.log'\n",
        "    #     logpath = os.path.join(dirname, text)\n",
        "    #     shutil.copyfile('/okyanus/users/afarea/PINN/Adaptive_PINN/IB_PINN/M2.py', os.path.join(dirname, 'M2.py'))\n",
        "\n",
        "    #     return dirname, logpath\n",
        "    \n",
        "    # # ###########################################################\n",
        "    def make_output_dir(self):\n",
        "        \n",
        "        if not os.path.exists(\"checkpoints\"):\n",
        "            os.mkdir(\"checkpoints\")\n",
        "        dirname = os.path.join(\"checkpoints\", datetime.now().strftime(\"%b-%d-%Y_%H-%M-%S-%f_\") + self.mode)\n",
        "        os.mkdir(dirname)\n",
        "        text = 'output.log'\n",
        "        logpath = os.path.join(dirname, text)\n",
        "        shutil.copyfile('M1.ipynb', os.path.join(dirname, 'M1.ipynb'))\n",
        "        return dirname, logpath\n",
        "    \n",
        "\n",
        "    def get_logger(self, logpath):\n",
        "        logger = logging.getLogger(__name__)\n",
        "        logger.setLevel(logging.DEBUG)\n",
        "        sh = logging.StreamHandler()\n",
        "        sh.setLevel(logging.DEBUG)        \n",
        "        sh.setFormatter(logging.Formatter('%(message)s'))\n",
        "        fh = logging.FileHandler(logpath)\n",
        "        logger.addHandler(sh)\n",
        "        logger.addHandler(fh)\n",
        "        return logger\n",
        "    \n",
        "    def print(self, *args):\n",
        "        for word in args:\n",
        "            if len(args) == 1:\n",
        "                self.logger.info(word)\n",
        "            elif word != args[-1]:\n",
        "                for handler in self.logger.handlers:\n",
        "                    handler.terminator = \"\"\n",
        "                if type(word) == float or type(word) == np.float64 or type(word) == np.float32: \n",
        "                    self.logger.info(\"%.4e\" % (word))\n",
        "                else:\n",
        "                    self.logger.info(word)\n",
        "            else:\n",
        "                for handler in self.logger.handlers:\n",
        "                    handler.terminator = \"\\n\"\n",
        "                if type(word) == float or type(word) == np.float64 or type(word) == np.float32:\n",
        "                    self.logger.info(\"%.4e\" % (word))\n",
        "                else:\n",
        "                    self.logger.info(word)\n",
        "\n",
        "\n",
        "    def plot_loss_history(self , path):\n",
        "\n",
        "        fig, ax = plt.subplots()\n",
        "        fig.set_size_inches([15,8])\n",
        "        for key in self.loss_history:\n",
        "            self.print(\"Final loss %s: %e\" % (key, self.loss_history[key][-1]))\n",
        "            ax.semilogy(self.loss_history[key], label=key)\n",
        "        ax.set_xlabel(\"epochs\", fontsize=15)\n",
        "        ax.set_ylabel(\"loss\", fontsize=15)\n",
        "        ax.tick_params(labelsize=15)\n",
        "        ax.legend()\n",
        "        plt.savefig(path)\n",
        "        #plt.show()\n",
        "       #######################\n",
        "    def save_NN(self):\n",
        "\n",
        "        uv_weights = self.sess.run(self.weights)\n",
        "        uv_biases = self.sess.run(self.biases)\n",
        "\n",
        "        with open(os.path.join(self.dirname,'model.pickle'), 'wb') as f:\n",
        "            pickle.dump([uv_weights, uv_biases], f)\n",
        "            self.print(\"Save uv NN parameters successfully in %s ...\" , self.dirname)\n",
        "\n",
        "        # with open(os.path.join(self.dirname,'loss_history_BFS.pickle'), 'wb') as f:\n",
        "        #     pickle.dump(self.loss_rec, f)\n",
        "        with open(os.path.join(self.dirname,'loss_history_BFS.png'), 'wb') as f:\n",
        "            self.plot_loss_history(f)\n",
        "\n",
        "        return self.dirname\n",
        "    \n",
        "    def plot_ntk(self):\n",
        "        # Create empty lists for storing the eigenvalues of NTK\n",
        "        lambda_K_log = []\n",
        "        lambda_K_uu_log = []\n",
        "        lambda_K_ur_log = []\n",
        "        lambda_K_rr_log = []\n",
        "\n",
        "        # Restore the NTK\n",
        "        K_uu_list = self.K_uu_log\n",
        "        K_ur_list = self.K_ur_log\n",
        "        K_rr_list = self.K_rr_log\n",
        "        K_list = []\n",
        "            \n",
        "        for k in range(len(K_uu_list)):\n",
        "            K_uu = K_uu_list[k]\n",
        "            K_ur = K_ur_list[k]\n",
        "            K_rr = K_rr_list[k]\n",
        "            \n",
        "            K = np.concatenate([np.concatenate([K_uu, K_ur], axis = 1), np.concatenate([K_ur.T, K_rr], axis = 1)], axis = 0)\n",
        "            K_list.append(K)\n",
        "\n",
        "            # Compute eigenvalues\n",
        "            lambda_K, _ = np.linalg.eig(K)\n",
        "            lambda_K_uu, _ = np.linalg.eig(K_uu)\n",
        "            lambda_K_rr, _ = np.linalg.eig(K_rr)\n",
        "            \n",
        "            # Sort in descresing order\n",
        "            lambda_K = np.sort(np.real(lambda_K))[::-1]\n",
        "            lambda_K_uu = np.sort(np.real(lambda_K_uu))[::-1]\n",
        "            lambda_K_rr = np.sort(np.real(lambda_K_rr))[::-1]\n",
        "            \n",
        "            # Store eigenvalues\n",
        "            lambda_K_log.append(lambda_K)\n",
        "            lambda_K_uu_log.append(lambda_K_uu)\n",
        "            lambda_K_rr_log.append(lambda_K_rr)\n",
        "        fig = plt.figure(figsize=(18, 5))\n",
        "        plt.subplot(1,3,1)\n",
        "        for i in range(1, len(lambda_K_log), 10):\n",
        "            plt.plot(lambda_K_log[i], '--')\n",
        "        plt.xscale('log')\n",
        "        plt.yscale('log')\n",
        "        plt.title(r'Eigenvalues of ${K}$')\n",
        "        plt.tight_layout()\n",
        "\n",
        "        plt.subplot(1,3,2)\n",
        "        for i in range(1, len(lambda_K_uu_log), 10):\n",
        "            plt.plot(lambda_K_uu_log[i], '--')\n",
        "        plt.xscale('log')\n",
        "        plt.yscale('log')\n",
        "        plt.title(r'Eigenvalues of ${K}_{uu}$')\n",
        "        plt.tight_layout()\n",
        "\n",
        "        plt.subplot(1,3,3)\n",
        "        for i in range(1, len(lambda_K_log), 10):\n",
        "            plt.plot(lambda_K_rr_log[i], '--')\n",
        "        plt.xscale('log')\n",
        "        plt.yscale('log')\n",
        "        plt.title(r'Eigenvalues of ${K}_{rr}$')\n",
        "        plt.tight_layout()\n",
        "        plt.savefig(os.path.join(self.dirname,\"ntk.png\"))\n",
        "        plt.close(\"all\")\n",
        "\n",
        "    def plt_prediction(self , X_star , u_star , u_pred):\n",
        "        fig = plt.figure(figsize=(12, 5))\n",
        "        plt.subplot(1,2,1)\n",
        "        plt.plot(X_star, u_star, label='Exact')\n",
        "        plt.plot(X_star, u_pred, '--', label='Predicted')\n",
        "        plt.xlabel('$x$')\n",
        "        plt.ylabel('$y$')\n",
        "        plt.legend(loc='upper right')\n",
        "\n",
        "        plt.subplot(1,2,2)\n",
        "        plt.plot(X_star, np.abs(u_star - u_pred), label='Error')\n",
        "        plt.yscale('log')\n",
        "        plt.xlabel('$x$')\n",
        "        plt.ylabel('Point-wise error')\n",
        "        plt.tight_layout()\n",
        "        plt.savefig(os.path.join(self.dirname,\"prediction.png\"))\n",
        "        plt.close(\"all\")\n"
      ]
    },
    {
      "cell_type": "code",
      "execution_count": null,
      "metadata": {},
      "outputs": [],
      "source": []
    },
    {
      "cell_type": "code",
      "execution_count": 4,
      "metadata": {
        "id": "FN1jEdRwY90i"
      },
      "outputs": [],
      "source": [
        "# Define solution and its Laplace\n",
        "a = 4\n",
        "\n",
        "def u(x, a):\n",
        "  return np.sin(np.pi * a * x)\n",
        "\n",
        "def u_xx(x, a):\n",
        "  return -(np.pi * a)**2 * np.sin(np.pi * a * x)"
      ]
    },
    {
      "cell_type": "code",
      "execution_count": 5,
      "metadata": {},
      "outputs": [],
      "source": [
        "#test_method(mtd , layers,  X_u, Y_u, X_r, Y_r ,  X_star , u_star , r_star  , nIter ,batch_size , bcbatch_size , ubatch_size)\n",
        "def test_method(method , layers,  X_u, Y_u, X_r, Y_r , X_star , u_star , r_star , nIter ,mbbatch_size , bcbatch_size , ubatch_size , mode):\n",
        "\n",
        "\n",
        "    gpu_options = tf.GPUOptions(visible_device_list=\"0\")\n",
        "    tf.reset_default_graph()\n",
        "    with tf.Session(config=tf.ConfigProto(gpu_options=gpu_options,allow_soft_placement=False, log_device_placement=False)) as sess:\n",
        "        # sess.run(init)\n",
        "\n",
        "        model = PINN(layers, X_u, Y_u, X_r, Y_r , mode , sess)    \n",
        "\n",
        "        # Train model\n",
        "        start_time = time.time()\n",
        "\n",
        "        if method ==\"full_batch\":\n",
        "            print(\"full_batch method is used\")\n",
        "            model.train(nIter  , bcbatch_size , ubatch_size  )\n",
        "        elif method ==\"mini_batch\":\n",
        "            print(\"mini_batch method is used\")\n",
        "            model.trainmb(nIter, mbbatch_size)\n",
        "        else:\n",
        "            print(\"unknown method!\")\n",
        "        elapsed = time.time() - start_time\n",
        "\n",
        "        # Predictions\n",
        "        u_pred = model.predict_u(X_star)\n",
        "        r_pred = model.predict_r(X_star)\n",
        "        # Predictions\n",
        "\n",
        "        sess.close()   \n",
        "\n",
        "    error_u = np.linalg.norm(u_star - u_pred, 2) / np.linalg.norm(u_star, 2)\n",
        "    error_r = np.linalg.norm(r_star - r_pred, 2) / np.linalg.norm(r_star, 2)\n",
        "\n",
        "    print('elapsed: {:.2e}'.format(elapsed))\n",
        "\n",
        "    print('Relative L2 error_u: {:.2e}'.format(error_u))\n",
        "    print('Relative L2 error_r: {:.2e}'.format(error_r))\n",
        "\n",
        "\n",
        "    return [elapsed, error_u , error_r ]\n",
        "\n"
      ]
    },
    {
      "cell_type": "code",
      "execution_count": null,
      "metadata": {},
      "outputs": [],
      "source": [
        "# Define computional domain\n",
        "bc1_coords = np.array([[0.0], [0.0]])\n",
        "bc2_coords = np.array([[1.0], [1.0]])\n",
        "dom_coords = np.array([[0.0], [1.0]])\n",
        "\n",
        "# Training data on u(x) -- Dirichlet boundary conditions\n",
        "\n",
        "nn  = 100\n",
        "\n",
        "X_bc1 = dom_coords[0, 0] * np.ones((nn // 2, 1))\n",
        "X_bc2 = dom_coords[1, 0] * np.ones((nn // 2, 1))\n",
        "X_u = np.vstack([X_bc1, X_bc2])\n",
        "Y_u = u(X_u, a)\n",
        "\n",
        "X_r = np.linspace(dom_coords[0, 0], dom_coords[1, 0], nn)[:, None]\n",
        "Y_r = u_xx(X_r, a)\n",
        "\n",
        "nn = 1000\n",
        "X_star = np.linspace(dom_coords[0, 0], dom_coords[1, 0], nn)[:, None]\n",
        "u_star = u(X_star, a)\n",
        "r_star = u_xx(X_star, a)\n",
        "\n",
        "nIter =40001\n",
        "bcbatch_size = 500\n",
        "ubatch_size = 5000\n",
        "mbbatch_size = 128\n",
        "\n",
        "\n",
        "\n",
        "# Define model\n",
        "mode = 'M1'\n",
        "layers = [1, 500, 1]\n",
        "\n",
        "\n",
        "\n",
        "iterations = 1\n",
        "methods = [ \"mini_batch\"]\n",
        "\n",
        "result_dict =  dict((mtd, []) for mtd in methods)\n",
        "\n",
        "for mtd in methods:\n",
        "    print(\"Method: \", mtd)\n",
        "    time_list = []\n",
        "    error_u_list = []\n",
        "    error_r_list = []\n",
        "    \n",
        "    for index in range(iterations):\n",
        "\n",
        "        print(\"Epoch: \", str(index+1))\n",
        "\n",
        "        # Create residual sampler\n",
        "        gpu_options = tf.GPUOptions(visible_device_list=\"0\")\n",
        "        tf.reset_default_graph()\n",
        "        with tf.Session(config=tf.ConfigProto(gpu_options=gpu_options,allow_soft_placement=False, log_device_placement=False)) as sess:\n",
        "\n",
        "            model = PINN(layers, X_u, Y_u, X_r, Y_r , mode , sess)    \n",
        "\n",
        "            # Train model\n",
        "            start_time = time.time()\n",
        "\n",
        "            if mtd ==\"full_batch\":\n",
        "                print(\"full_batch method is used\")\n",
        "                model.train(nIter  , bcbatch_size , ubatch_size  )\n",
        "            elif mtd ==\"mini_batch\":\n",
        "                print(\"mini_batch method is used\")\n",
        "                model.trainmb(nIter, mbbatch_size)\n",
        "            else:\n",
        "                print(\"unknown method!\")\n",
        "            elapsed = time.time() - start_time\n",
        "\n",
        "            # Predictions\n",
        "            u_pred = model.predict_u(X_star)\n",
        "            r_pred = model.predict_r(X_star)\n",
        "            # Predictions\n",
        "\n",
        " \n",
        "\n",
        "            error_u = np.linalg.norm(u_star - u_pred, 2) / np.linalg.norm(u_star, 2)\n",
        "            error_r = np.linalg.norm(r_star - r_pred, 2) / np.linalg.norm(r_star, 2)\n",
        "\n",
        "            model.print('elapsed: {:.2e}'.format(elapsed))\n",
        "\n",
        "            model.print('Relative L2 error_u: {:.2e}'.format(error_u))\n",
        "            model.print('Relative L2 error_r: {:.2e}'.format(error_r))\n",
        "\n",
        "\n",
        "            model.print('elapsed: {:.2e}'.format(elapsed))\n",
        "            model.print('Relative L2 error_u: {:.2e}'.format(error_u))\n",
        "            model.print('Relative L2 error_v: {:.2e}'.format(error_r))\n",
        "            \n",
        "            model.save_NN()\n",
        "            model.plot_ntk()\n",
        "            model.plt_prediction( X_star , u_star , u_pred)\n",
        "            sess.close()  \n",
        "            \n",
        "        time_list.append(elapsed)\n",
        "        error_u_list.append(error_u)\n",
        "        error_r_list.append(error_r)\n",
        "\n",
        "    print(\"\\n\\nMethod: \", mtd)\n",
        "    print(\"\\naverage of time_list:\" , sum(time_list) / len(time_list) )\n",
        "    print(\"average of error_u_list:\" , sum(error_u_list) / len(error_u_list) )\n",
        "    print(\"average of error_v_list:\" , sum(error_r_list) / len(error_r_list) )\n",
        "\n",
        "    result_dict[mtd] = [time_list ,error_u_list ,error_r_list ]\n",
        "    # scipy.io.savemat(\"M2_result_\"+str(iterations)+\"_\"+mtd+\".mat\" , {'time_list':np.array(time_list),'error_u_list':np.array(error_u_list),'error_f_list':np.array(error_f_list)})\n",
        "\n",
        "    scipy.io.savemat(os.path.join(model.dirname,\"\"+mtd+\"_model\"+mode+\"_mb\"+str(mbbatch_size)+\"_fb\"+str(ubatch_size)+\"_bc\"+str(bcbatch_size)+\"_n\"+str(iterations)+\"_nIter\"+str(nIter)+\".mat\" , result_dict))\n",
        "\n",
        "\n"
      ]
    },
    {
      "cell_type": "code",
      "execution_count": 6,
      "metadata": {},
      "outputs": [
        {
          "name": "stdout",
          "output_type": "stream",
          "text": [
            "Method:  mini_batch\n",
            "Epoch:  1\n",
            "WARNING:tensorflow:From /tmp/ipykernel_8155/2373648866.py:52: The name tf.GPUOptions is deprecated. Please use tf.compat.v1.GPUOptions instead.\n",
            "\n",
            "WARNING:tensorflow:From /tmp/ipykernel_8155/2373648866.py:53: The name tf.reset_default_graph is deprecated. Please use tf.compat.v1.reset_default_graph instead.\n",
            "\n",
            "WARNING:tensorflow:From /tmp/ipykernel_8155/2373648866.py:54: The name tf.Session is deprecated. Please use tf.compat.v1.Session instead.\n",
            "\n",
            "WARNING:tensorflow:From /tmp/ipykernel_8155/2373648866.py:54: The name tf.ConfigProto is deprecated. Please use tf.compat.v1.ConfigProto instead.\n",
            "\n",
            "WARNING:tensorflow:From /tmp/ipykernel_8155/704734845.py:29: The name tf.placeholder is deprecated. Please use tf.compat.v1.placeholder instead.\n",
            "\n",
            "WARNING:tensorflow:From /tmp/ipykernel_8155/704734845.py:63: The name tf.train.exponential_decay is deprecated. Please use tf.compat.v1.train.exponential_decay instead.\n",
            "\n",
            "WARNING:tensorflow:From /tmp/ipykernel_8155/704734845.py:67: The name tf.train.GradientDescentOptimizer is deprecated. Please use tf.compat.v1.train.GradientDescentOptimizer instead.\n",
            "\n"
          ]
        },
        {
          "name": "stderr",
          "output_type": "stream",
          "text": [
            "2023-12-09 09:45:05.721729: I tensorflow/core/platform/cpu_feature_guard.cc:145] This TensorFlow binary is optimized with Intel(R) MKL-DNN to use the following CPU instructions in performance critical operations:  SSE4.1 SSE4.2 AVX AVX2 FMA\n",
            "To enable them in non-MKL-DNN operations, rebuild TensorFlow with the appropriate compiler flags.\n",
            "2023-12-09 09:45:05.743621: I tensorflow/core/platform/profile_utils/cpu_utils.cc:94] CPU Frequency: 2899885000 Hz\n",
            "2023-12-09 09:45:05.744141: I tensorflow/compiler/xla/service/service.cc:168] XLA service 0x564de24e3530 initialized for platform Host (this does not guarantee that XLA will be used). Devices:\n",
            "2023-12-09 09:45:05.744157: I tensorflow/compiler/xla/service/service.cc:176]   StreamExecutor device (0): Host, Default Version\n",
            "2023-12-09 09:45:05.744680: I tensorflow/core/common_runtime/process_util.cc:115] Creating new thread pool with default inter op setting: 2. Tune using inter_op_parallelism_threads for best performance.\n"
          ]
        },
        {
          "name": "stdout",
          "output_type": "stream",
          "text": [
            "WARNING:tensorflow:From /tmp/ipykernel_8155/704734845.py:123: The name tf.global_variables_initializer is deprecated. Please use tf.compat.v1.global_variables_initializer instead.\n",
            "\n",
            "mini_batch method is used\n"
          ]
        },
        {
          "name": "stderr",
          "output_type": "stream",
          "text": [
            "It: 0, Loss: 9.717e+03, Loss_bcs: 3.631e-01, Loss_res: 9.716e+03 ,Time: 0.35\n",
            "Compute NTK...\n"
          ]
        },
        {
          "name": "stdout",
          "output_type": "stream",
          "text": [
            "14327.495\n"
          ]
        },
        {
          "name": "stderr",
          "output_type": "stream",
          "text": [
            "/home/afrah2/anaconda3/envs/twoPhase/lib/python3.7/site-packages/seaborn/distributions.py:2619: FutureWarning: `distplot` is a deprecated function and will be removed in a future version. Please adapt your code to use either `displot` (a figure-level function with similar flexibility) or `kdeplot` (an axes-level function for kernel density plots).\n",
            "  warnings.warn(msg, FutureWarning)\n",
            "/home/afrah2/anaconda3/envs/twoPhase/lib/python3.7/site-packages/seaborn/distributions.py:2619: FutureWarning: `distplot` is a deprecated function and will be removed in a future version. Please adapt your code to use either `displot` (a figure-level function with similar flexibility) or `kdeplot` (an axes-level function for kernel density plots).\n",
            "  warnings.warn(msg, FutureWarning)\n",
            "/home/afrah2/anaconda3/envs/twoPhase/lib/python3.7/site-packages/seaborn/distributions.py:2619: FutureWarning: `distplot` is a deprecated function and will be removed in a future version. Please adapt your code to use either `displot` (a figure-level function with similar flexibility) or `kdeplot` (an axes-level function for kernel density plots).\n",
            "  warnings.warn(msg, FutureWarning)\n",
            "/home/afrah2/anaconda3/envs/twoPhase/lib/python3.7/site-packages/seaborn/distributions.py:2619: FutureWarning: `distplot` is a deprecated function and will be removed in a future version. Please adapt your code to use either `displot` (a figure-level function with similar flexibility) or `kdeplot` (an axes-level function for kernel density plots).\n",
            "  warnings.warn(msg, FutureWarning)\n",
            "Gradients information stored ...\n",
            "It: 100, Loss: 3.763e+02, Loss_bcs: 8.597e+01, Loss_res: 2.903e+02 ,Time: 0.00\n",
            "Compute NTK...\n",
            "/home/afrah2/anaconda3/envs/twoPhase/lib/python3.7/site-packages/seaborn/distributions.py:2619: FutureWarning: `distplot` is a deprecated function and will be removed in a future version. Please adapt your code to use either `displot` (a figure-level function with similar flexibility) or `kdeplot` (an axes-level function for kernel density plots).\n",
            "  warnings.warn(msg, FutureWarning)\n",
            "/home/afrah2/anaconda3/envs/twoPhase/lib/python3.7/site-packages/seaborn/distributions.py:2619: FutureWarning: `distplot` is a deprecated function and will be removed in a future version. Please adapt your code to use either `displot` (a figure-level function with similar flexibility) or `kdeplot` (an axes-level function for kernel density plots).\n",
            "  warnings.warn(msg, FutureWarning)\n",
            "/home/afrah2/anaconda3/envs/twoPhase/lib/python3.7/site-packages/seaborn/distributions.py:2619: FutureWarning: `distplot` is a deprecated function and will be removed in a future version. Please adapt your code to use either `displot` (a figure-level function with similar flexibility) or `kdeplot` (an axes-level function for kernel density plots).\n",
            "  warnings.warn(msg, FutureWarning)\n",
            "/home/afrah2/anaconda3/envs/twoPhase/lib/python3.7/site-packages/seaborn/distributions.py:2619: FutureWarning: `distplot` is a deprecated function and will be removed in a future version. Please adapt your code to use either `displot` (a figure-level function with similar flexibility) or `kdeplot` (an axes-level function for kernel density plots).\n",
            "  warnings.warn(msg, FutureWarning)\n"
          ]
        },
        {
          "name": "stdout",
          "output_type": "stream",
          "text": [
            "118.22918\n"
          ]
        },
        {
          "name": "stderr",
          "output_type": "stream",
          "text": [
            "Gradients information stored ...\n",
            "It: 200, Loss: 2.482e+02, Loss_bcs: 5.995e+01, Loss_res: 1.882e+02 ,Time: 0.00\n",
            "Compute NTK...\n"
          ]
        },
        {
          "name": "stdout",
          "output_type": "stream",
          "text": [
            "114.2321\n"
          ]
        },
        {
          "name": "stderr",
          "output_type": "stream",
          "text": [
            "It: 300, Loss: 1.775e+02, Loss_bcs: 4.011e+01, Loss_res: 1.374e+02 ,Time: 0.00\n",
            "Compute NTK...\n"
          ]
        },
        {
          "name": "stdout",
          "output_type": "stream",
          "text": [
            "134.93968\n"
          ]
        },
        {
          "name": "stderr",
          "output_type": "stream",
          "text": [
            "It: 400, Loss: 1.325e+02, Loss_bcs: 2.681e+01, Loss_res: 1.057e+02 ,Time: 0.00\n",
            "Compute NTK...\n"
          ]
        },
        {
          "name": "stdout",
          "output_type": "stream",
          "text": [
            "123.94757\n"
          ]
        },
        {
          "name": "stderr",
          "output_type": "stream",
          "text": [
            "It: 500, Loss: 1.032e+02, Loss_bcs: 1.802e+01, Loss_res: 8.521e+01 ,Time: 0.00\n",
            "Compute NTK...\n"
          ]
        },
        {
          "name": "stdout",
          "output_type": "stream",
          "text": [
            "90.44616\n"
          ]
        },
        {
          "name": "stderr",
          "output_type": "stream",
          "text": [
            "It: 600, Loss: 8.347e+01, Loss_bcs: 1.212e+01, Loss_res: 7.135e+01 ,Time: 0.00\n",
            "Compute NTK...\n"
          ]
        },
        {
          "name": "stdout",
          "output_type": "stream",
          "text": [
            "71.71289\n"
          ]
        },
        {
          "name": "stderr",
          "output_type": "stream",
          "text": [
            "It: 700, Loss: 6.949e+01, Loss_bcs: 8.102e+00, Loss_res: 6.139e+01 ,Time: 0.00\n",
            "Compute NTK...\n"
          ]
        },
        {
          "name": "stdout",
          "output_type": "stream",
          "text": [
            "76.14416\n"
          ]
        },
        {
          "name": "stderr",
          "output_type": "stream",
          "text": [
            "It: 800, Loss: 5.924e+01, Loss_bcs: 5.337e+00, Loss_res: 5.390e+01 ,Time: 0.00\n",
            "Compute NTK...\n"
          ]
        },
        {
          "name": "stdout",
          "output_type": "stream",
          "text": [
            "81.43366\n"
          ]
        },
        {
          "name": "stderr",
          "output_type": "stream",
          "text": [
            "It: 900, Loss: 5.152e+01, Loss_bcs: 3.442e+00, Loss_res: 4.808e+01 ,Time: 0.00\n",
            "Compute NTK...\n"
          ]
        },
        {
          "name": "stdout",
          "output_type": "stream",
          "text": [
            "88.57563\n"
          ]
        },
        {
          "name": "stderr",
          "output_type": "stream",
          "text": [
            "It: 1000, Loss: 4.562e+01, Loss_bcs: 2.155e+00, Loss_res: 4.346e+01 ,Time: 0.00\n",
            "Compute NTK...\n"
          ]
        },
        {
          "name": "stdout",
          "output_type": "stream",
          "text": [
            "98.681625\n"
          ]
        },
        {
          "name": "stderr",
          "output_type": "stream",
          "text": [
            "/home/afrah2/anaconda3/envs/twoPhase/lib/python3.7/site-packages/seaborn/distributions.py:2619: FutureWarning: `distplot` is a deprecated function and will be removed in a future version. Please adapt your code to use either `displot` (a figure-level function with similar flexibility) or `kdeplot` (an axes-level function for kernel density plots).\n",
            "  warnings.warn(msg, FutureWarning)\n",
            "/home/afrah2/anaconda3/envs/twoPhase/lib/python3.7/site-packages/seaborn/distributions.py:2619: FutureWarning: `distplot` is a deprecated function and will be removed in a future version. Please adapt your code to use either `displot` (a figure-level function with similar flexibility) or `kdeplot` (an axes-level function for kernel density plots).\n",
            "  warnings.warn(msg, FutureWarning)\n",
            "/home/afrah2/anaconda3/envs/twoPhase/lib/python3.7/site-packages/seaborn/distributions.py:2619: FutureWarning: `distplot` is a deprecated function and will be removed in a future version. Please adapt your code to use either `displot` (a figure-level function with similar flexibility) or `kdeplot` (an axes-level function for kernel density plots).\n",
            "  warnings.warn(msg, FutureWarning)\n",
            "/home/afrah2/anaconda3/envs/twoPhase/lib/python3.7/site-packages/seaborn/distributions.py:2619: FutureWarning: `distplot` is a deprecated function and will be removed in a future version. Please adapt your code to use either `displot` (a figure-level function with similar flexibility) or `kdeplot` (an axes-level function for kernel density plots).\n",
            "  warnings.warn(msg, FutureWarning)\n",
            "Gradients information stored ...\n",
            "It: 1100, Loss: 4.103e+01, Loss_bcs: 1.296e+00, Loss_res: 3.973e+01 ,Time: 0.00\n",
            "Compute NTK...\n"
          ]
        },
        {
          "name": "stdout",
          "output_type": "stream",
          "text": [
            "113.58285\n"
          ]
        },
        {
          "name": "stderr",
          "output_type": "stream",
          "text": [
            "It: 1200, Loss: 3.740e+01, Loss_bcs: 7.375e-01, Loss_res: 3.666e+01 ,Time: 0.00\n",
            "Compute NTK...\n"
          ]
        },
        {
          "name": "stdout",
          "output_type": "stream",
          "text": [
            "136.74295\n"
          ]
        },
        {
          "name": "stderr",
          "output_type": "stream",
          "text": [
            "It: 1300, Loss: 3.449e+01, Loss_bcs: 3.879e-01, Loss_res: 3.410e+01 ,Time: 0.00\n",
            "Compute NTK...\n"
          ]
        },
        {
          "name": "stdout",
          "output_type": "stream",
          "text": [
            "175.93216\n"
          ]
        },
        {
          "name": "stderr",
          "output_type": "stream",
          "text": [
            "It: 1400, Loss: 3.211e+01, Loss_bcs: 1.828e-01, Loss_res: 3.193e+01 ,Time: 0.00\n",
            "Compute NTK...\n"
          ]
        },
        {
          "name": "stdout",
          "output_type": "stream",
          "text": [
            "252.97195\n"
          ]
        },
        {
          "name": "stderr",
          "output_type": "stream",
          "text": [
            "It: 1500, Loss: 3.014e+01, Loss_bcs: 7.598e-02, Loss_res: 3.006e+01 ,Time: 0.00\n",
            "Compute NTK...\n"
          ]
        },
        {
          "name": "stdout",
          "output_type": "stream",
          "text": [
            "413.1072\n"
          ]
        },
        {
          "name": "stderr",
          "output_type": "stream",
          "text": [
            "It: 1600, Loss: 2.847e+01, Loss_bcs: 3.465e-02, Loss_res: 2.843e+01 ,Time: 0.00\n",
            "Compute NTK...\n"
          ]
        },
        {
          "name": "stdout",
          "output_type": "stream",
          "text": [
            "652.64923\n"
          ]
        },
        {
          "name": "stderr",
          "output_type": "stream",
          "text": [
            "It: 1700, Loss: 2.703e+01, Loss_bcs: 3.553e-02, Loss_res: 2.700e+01 ,Time: 0.00\n",
            "Compute NTK...\n"
          ]
        },
        {
          "name": "stdout",
          "output_type": "stream",
          "text": [
            "600.355\n"
          ]
        },
        {
          "name": "stderr",
          "output_type": "stream",
          "text": [
            "It: 1800, Loss: 2.578e+01, Loss_bcs: 6.237e-02, Loss_res: 2.572e+01 ,Time: 0.00\n",
            "Compute NTK...\n"
          ]
        },
        {
          "name": "stdout",
          "output_type": "stream",
          "text": [
            "314.5166\n"
          ]
        },
        {
          "name": "stderr",
          "output_type": "stream",
          "text": [
            "It: 1900, Loss: 2.467e+01, Loss_bcs: 1.039e-01, Loss_res: 2.456e+01 ,Time: 0.00\n",
            "Compute NTK...\n"
          ]
        },
        {
          "name": "stdout",
          "output_type": "stream",
          "text": [
            "206.9035\n"
          ]
        },
        {
          "name": "stderr",
          "output_type": "stream",
          "text": [
            "It: 2000, Loss: 2.367e+01, Loss_bcs: 1.524e-01, Loss_res: 2.351e+01 ,Time: 0.00\n",
            "Compute NTK...\n"
          ]
        },
        {
          "name": "stdout",
          "output_type": "stream",
          "text": [
            "156.71622\n"
          ]
        },
        {
          "name": "stderr",
          "output_type": "stream",
          "text": [
            "It: 2100, Loss: 2.276e+01, Loss_bcs: 2.029e-01, Loss_res: 2.256e+01 ,Time: 0.00\n",
            "Compute NTK...\n"
          ]
        },
        {
          "name": "stdout",
          "output_type": "stream",
          "text": [
            "130.49124\n"
          ]
        },
        {
          "name": "stderr",
          "output_type": "stream",
          "text": [
            "It: 2200, Loss: 2.192e+01, Loss_bcs: 2.521e-01, Loss_res: 2.167e+01 ,Time: 0.00\n",
            "Compute NTK...\n"
          ]
        },
        {
          "name": "stdout",
          "output_type": "stream",
          "text": [
            "115.64654\n"
          ]
        },
        {
          "name": "stderr",
          "output_type": "stream",
          "text": [
            "It: 2300, Loss: 2.115e+01, Loss_bcs: 2.979e-01, Loss_res: 2.085e+01 ,Time: 0.00\n",
            "Compute NTK...\n"
          ]
        },
        {
          "name": "stdout",
          "output_type": "stream",
          "text": [
            "105.31728\n"
          ]
        },
        {
          "name": "stderr",
          "output_type": "stream",
          "text": [
            "It: 2400, Loss: 2.043e+01, Loss_bcs: 3.393e-01, Loss_res: 2.009e+01 ,Time: 0.00\n",
            "Compute NTK...\n"
          ]
        },
        {
          "name": "stdout",
          "output_type": "stream",
          "text": [
            "97.789474\n"
          ]
        },
        {
          "name": "stderr",
          "output_type": "stream",
          "text": [
            "It: 2500, Loss: 1.976e+01, Loss_bcs: 3.758e-01, Loss_res: 1.938e+01 ,Time: 0.00\n",
            "Compute NTK...\n"
          ]
        },
        {
          "name": "stdout",
          "output_type": "stream",
          "text": [
            "92.056694\n"
          ]
        },
        {
          "name": "stderr",
          "output_type": "stream",
          "text": [
            "It: 2600, Loss: 1.912e+01, Loss_bcs: 4.071e-01, Loss_res: 1.872e+01 ,Time: 0.00\n",
            "Compute NTK...\n"
          ]
        },
        {
          "name": "stdout",
          "output_type": "stream",
          "text": [
            "87.615\n"
          ]
        },
        {
          "name": "stderr",
          "output_type": "stream",
          "text": [
            "It: 2700, Loss: 1.853e+01, Loss_bcs: 4.335e-01, Loss_res: 1.809e+01 ,Time: 0.00\n",
            "Compute NTK...\n"
          ]
        },
        {
          "name": "stdout",
          "output_type": "stream",
          "text": [
            "84.05907\n"
          ]
        },
        {
          "name": "stderr",
          "output_type": "stream",
          "text": [
            "It: 2800, Loss: 1.796e+01, Loss_bcs: 4.553e-01, Loss_res: 1.750e+01 ,Time: 0.00\n",
            "Compute NTK...\n"
          ]
        },
        {
          "name": "stdout",
          "output_type": "stream",
          "text": [
            "81.20564\n"
          ]
        },
        {
          "name": "stderr",
          "output_type": "stream",
          "text": [
            "It: 2900, Loss: 1.742e+01, Loss_bcs: 4.728e-01, Loss_res: 1.695e+01 ,Time: 0.00\n",
            "Compute NTK...\n"
          ]
        },
        {
          "name": "stdout",
          "output_type": "stream",
          "text": [
            "78.852684\n"
          ]
        },
        {
          "name": "stderr",
          "output_type": "stream",
          "text": [
            "It: 3000, Loss: 1.691e+01, Loss_bcs: 4.864e-01, Loss_res: 1.642e+01 ,Time: 0.01\n",
            "Compute NTK...\n"
          ]
        },
        {
          "name": "stdout",
          "output_type": "stream",
          "text": [
            "76.88301\n"
          ]
        },
        {
          "name": "stderr",
          "output_type": "stream",
          "text": [
            "It: 3100, Loss: 1.642e+01, Loss_bcs: 4.966e-01, Loss_res: 1.592e+01 ,Time: 0.00\n",
            "Compute NTK...\n"
          ]
        },
        {
          "name": "stdout",
          "output_type": "stream",
          "text": [
            "75.24891\n"
          ]
        },
        {
          "name": "stderr",
          "output_type": "stream",
          "text": [
            "It: 3200, Loss: 1.595e+01, Loss_bcs: 5.037e-01, Loss_res: 1.545e+01 ,Time: 0.00\n",
            "Compute NTK...\n"
          ]
        },
        {
          "name": "stdout",
          "output_type": "stream",
          "text": [
            "73.85443\n"
          ]
        },
        {
          "name": "stderr",
          "output_type": "stream",
          "text": [
            "It: 3300, Loss: 1.551e+01, Loss_bcs: 5.082e-01, Loss_res: 1.500e+01 ,Time: 0.00\n",
            "Compute NTK...\n"
          ]
        },
        {
          "name": "stdout",
          "output_type": "stream",
          "text": [
            "72.69275\n"
          ]
        },
        {
          "name": "stderr",
          "output_type": "stream",
          "text": [
            "It: 3400, Loss: 1.508e+01, Loss_bcs: 5.104e-01, Loss_res: 1.457e+01 ,Time: 0.00\n",
            "Compute NTK...\n"
          ]
        },
        {
          "name": "stdout",
          "output_type": "stream",
          "text": [
            "71.67149\n"
          ]
        },
        {
          "name": "stderr",
          "output_type": "stream",
          "text": [
            "It: 3500, Loss: 1.467e+01, Loss_bcs: 5.106e-01, Loss_res: 1.416e+01 ,Time: 0.00\n",
            "Compute NTK...\n"
          ]
        },
        {
          "name": "stdout",
          "output_type": "stream",
          "text": [
            "70.83454\n"
          ]
        },
        {
          "name": "stderr",
          "output_type": "stream",
          "text": [
            "It: 3600, Loss: 1.428e+01, Loss_bcs: 5.092e-01, Loss_res: 1.377e+01 ,Time: 0.00\n",
            "Compute NTK...\n"
          ]
        },
        {
          "name": "stdout",
          "output_type": "stream",
          "text": [
            "70.058334\n"
          ]
        },
        {
          "name": "stderr",
          "output_type": "stream",
          "text": [
            "It: 3700, Loss: 1.391e+01, Loss_bcs: 5.062e-01, Loss_res: 1.340e+01 ,Time: 0.00\n",
            "Compute NTK...\n"
          ]
        },
        {
          "name": "stdout",
          "output_type": "stream",
          "text": [
            "69.41759\n"
          ]
        },
        {
          "name": "stderr",
          "output_type": "stream",
          "text": [
            "It: 3800, Loss: 1.355e+01, Loss_bcs: 5.021e-01, Loss_res: 1.304e+01 ,Time: 0.00\n",
            "Compute NTK...\n"
          ]
        },
        {
          "name": "stdout",
          "output_type": "stream",
          "text": [
            "68.86151\n"
          ]
        },
        {
          "name": "stderr",
          "output_type": "stream",
          "text": [
            "It: 3900, Loss: 1.320e+01, Loss_bcs: 4.970e-01, Loss_res: 1.270e+01 ,Time: 0.00\n",
            "Compute NTK...\n"
          ]
        },
        {
          "name": "stdout",
          "output_type": "stream",
          "text": [
            "68.35533\n"
          ]
        },
        {
          "name": "stderr",
          "output_type": "stream",
          "text": [
            "It: 4000, Loss: 1.287e+01, Loss_bcs: 4.910e-01, Loss_res: 1.238e+01 ,Time: 0.00\n",
            "Compute NTK...\n"
          ]
        },
        {
          "name": "stdout",
          "output_type": "stream",
          "text": [
            "67.96498\n"
          ]
        },
        {
          "name": "stderr",
          "output_type": "stream",
          "text": [
            "It: 4100, Loss: 1.255e+01, Loss_bcs: 4.843e-01, Loss_res: 1.207e+01 ,Time: 0.00\n",
            "Compute NTK...\n"
          ]
        },
        {
          "name": "stdout",
          "output_type": "stream",
          "text": [
            "67.57308\n"
          ]
        },
        {
          "name": "stderr",
          "output_type": "stream",
          "text": [
            "It: 4200, Loss: 1.225e+01, Loss_bcs: 4.770e-01, Loss_res: 1.177e+01 ,Time: 0.00\n",
            "Compute NTK...\n"
          ]
        },
        {
          "name": "stdout",
          "output_type": "stream",
          "text": [
            "67.263115\n"
          ]
        },
        {
          "name": "stderr",
          "output_type": "stream",
          "text": [
            "It: 4300, Loss: 1.195e+01, Loss_bcs: 4.694e-01, Loss_res: 1.148e+01 ,Time: 0.00\n",
            "Compute NTK...\n"
          ]
        },
        {
          "name": "stdout",
          "output_type": "stream",
          "text": [
            "66.96621\n"
          ]
        },
        {
          "name": "stderr",
          "output_type": "stream",
          "text": [
            "It: 4400, Loss: 1.167e+01, Loss_bcs: 4.613e-01, Loss_res: 1.121e+01 ,Time: 0.00\n",
            "Compute NTK...\n"
          ]
        },
        {
          "name": "stdout",
          "output_type": "stream",
          "text": [
            "66.72762\n"
          ]
        },
        {
          "name": "stderr",
          "output_type": "stream",
          "text": [
            "It: 4500, Loss: 1.139e+01, Loss_bcs: 4.530e-01, Loss_res: 1.094e+01 ,Time: 0.00\n",
            "Compute NTK...\n"
          ]
        },
        {
          "name": "stdout",
          "output_type": "stream",
          "text": [
            "66.50931\n"
          ]
        },
        {
          "name": "stderr",
          "output_type": "stream",
          "text": [
            "It: 4600, Loss: 1.113e+01, Loss_bcs: 4.445e-01, Loss_res: 1.069e+01 ,Time: 0.00\n",
            "Compute NTK...\n"
          ]
        },
        {
          "name": "stdout",
          "output_type": "stream",
          "text": [
            "66.30113\n"
          ]
        },
        {
          "name": "stderr",
          "output_type": "stream",
          "text": [
            "It: 4700, Loss: 1.088e+01, Loss_bcs: 4.358e-01, Loss_res: 1.044e+01 ,Time: 0.00\n",
            "Compute NTK...\n"
          ]
        },
        {
          "name": "stdout",
          "output_type": "stream",
          "text": [
            "66.179565\n"
          ]
        },
        {
          "name": "stderr",
          "output_type": "stream",
          "text": [
            "It: 4800, Loss: 1.063e+01, Loss_bcs: 4.271e-01, Loss_res: 1.021e+01 ,Time: 0.00\n",
            "Compute NTK...\n"
          ]
        },
        {
          "name": "stdout",
          "output_type": "stream",
          "text": [
            "66.0807\n"
          ]
        },
        {
          "name": "stderr",
          "output_type": "stream",
          "text": [
            "It: 4900, Loss: 1.040e+01, Loss_bcs: 4.183e-01, Loss_res: 9.981e+00 ,Time: 0.00\n",
            "Compute NTK...\n"
          ]
        },
        {
          "name": "stdout",
          "output_type": "stream",
          "text": [
            "66.03347\n"
          ]
        },
        {
          "name": "stderr",
          "output_type": "stream",
          "text": [
            "It: 5000, Loss: 1.017e+01, Loss_bcs: 4.095e-01, Loss_res: 9.763e+00 ,Time: 0.00\n",
            "Compute NTK...\n"
          ]
        },
        {
          "name": "stdout",
          "output_type": "stream",
          "text": [
            "65.916306\n"
          ]
        },
        {
          "name": "stderr",
          "output_type": "stream",
          "text": [
            "It: 5100, Loss: 9.953e+00, Loss_bcs: 4.007e-01, Loss_res: 9.552e+00 ,Time: 0.00\n",
            "Compute NTK...\n"
          ]
        },
        {
          "name": "stdout",
          "output_type": "stream",
          "text": [
            "65.82939\n"
          ]
        },
        {
          "name": "stderr",
          "output_type": "stream",
          "text": [
            "It: 5200, Loss: 9.740e+00, Loss_bcs: 3.920e-01, Loss_res: 9.348e+00 ,Time: 0.00\n",
            "Compute NTK...\n"
          ]
        },
        {
          "name": "stdout",
          "output_type": "stream",
          "text": [
            "65.813675\n"
          ]
        },
        {
          "name": "stderr",
          "output_type": "stream",
          "text": [
            "It: 5300, Loss: 9.536e+00, Loss_bcs: 3.834e-01, Loss_res: 9.152e+00 ,Time: 0.00\n",
            "Compute NTK...\n"
          ]
        },
        {
          "name": "stdout",
          "output_type": "stream",
          "text": [
            "65.77821\n"
          ]
        },
        {
          "name": "stderr",
          "output_type": "stream",
          "text": [
            "It: 5400, Loss: 9.337e+00, Loss_bcs: 3.748e-01, Loss_res: 8.963e+00 ,Time: 0.00\n",
            "Compute NTK...\n"
          ]
        },
        {
          "name": "stdout",
          "output_type": "stream",
          "text": [
            "65.73021\n"
          ]
        },
        {
          "name": "stderr",
          "output_type": "stream",
          "text": [
            "It: 5500, Loss: 9.146e+00, Loss_bcs: 3.664e-01, Loss_res: 8.779e+00 ,Time: 0.00\n",
            "Compute NTK...\n"
          ]
        },
        {
          "name": "stdout",
          "output_type": "stream",
          "text": [
            "65.75858\n"
          ]
        },
        {
          "name": "stderr",
          "output_type": "stream",
          "text": [
            "It: 5600, Loss: 8.960e+00, Loss_bcs: 3.581e-01, Loss_res: 8.602e+00 ,Time: 0.00\n",
            "Compute NTK...\n"
          ]
        },
        {
          "name": "stdout",
          "output_type": "stream",
          "text": [
            "65.74707\n"
          ]
        },
        {
          "name": "stderr",
          "output_type": "stream",
          "text": [
            "It: 5700, Loss: 8.780e+00, Loss_bcs: 3.499e-01, Loss_res: 8.431e+00 ,Time: 0.00\n",
            "Compute NTK...\n"
          ]
        },
        {
          "name": "stdout",
          "output_type": "stream",
          "text": [
            "65.72103\n"
          ]
        },
        {
          "name": "stderr",
          "output_type": "stream",
          "text": [
            "It: 5800, Loss: 8.606e+00, Loss_bcs: 3.419e-01, Loss_res: 8.264e+00 ,Time: 0.00\n",
            "Compute NTK...\n"
          ]
        },
        {
          "name": "stdout",
          "output_type": "stream",
          "text": [
            "65.724396\n"
          ]
        },
        {
          "name": "stderr",
          "output_type": "stream",
          "text": [
            "It: 5900, Loss: 8.438e+00, Loss_bcs: 3.341e-01, Loss_res: 8.103e+00 ,Time: 0.00\n",
            "Compute NTK...\n"
          ]
        },
        {
          "name": "stdout",
          "output_type": "stream",
          "text": [
            "65.76436\n"
          ]
        },
        {
          "name": "stderr",
          "output_type": "stream",
          "text": [
            "It: 6000, Loss: 8.274e+00, Loss_bcs: 3.264e-01, Loss_res: 7.948e+00 ,Time: 0.00\n",
            "Compute NTK...\n"
          ]
        },
        {
          "name": "stdout",
          "output_type": "stream",
          "text": [
            "65.79638\n"
          ]
        },
        {
          "name": "stderr",
          "output_type": "stream",
          "text": [
            "It: 6100, Loss: 8.115e+00, Loss_bcs: 3.188e-01, Loss_res: 7.796e+00 ,Time: 0.00\n",
            "Compute NTK...\n"
          ]
        },
        {
          "name": "stdout",
          "output_type": "stream",
          "text": [
            "65.844406\n"
          ]
        },
        {
          "name": "stderr",
          "output_type": "stream",
          "text": [
            "It: 6200, Loss: 7.961e+00, Loss_bcs: 3.115e-01, Loss_res: 7.650e+00 ,Time: 0.00\n",
            "Compute NTK...\n"
          ]
        },
        {
          "name": "stdout",
          "output_type": "stream",
          "text": [
            "65.92366\n"
          ]
        },
        {
          "name": "stderr",
          "output_type": "stream",
          "text": [
            "It: 6300, Loss: 7.811e+00, Loss_bcs: 3.042e-01, Loss_res: 7.507e+00 ,Time: 0.00\n",
            "Compute NTK...\n"
          ]
        },
        {
          "name": "stdout",
          "output_type": "stream",
          "text": [
            "65.93908\n"
          ]
        },
        {
          "name": "stderr",
          "output_type": "stream",
          "text": [
            "It: 6400, Loss: 7.666e+00, Loss_bcs: 2.972e-01, Loss_res: 7.369e+00 ,Time: 0.00\n",
            "Compute NTK...\n"
          ]
        },
        {
          "name": "stdout",
          "output_type": "stream",
          "text": [
            "66.05071\n"
          ]
        },
        {
          "name": "stderr",
          "output_type": "stream",
          "text": [
            "It: 6500, Loss: 7.525e+00, Loss_bcs: 2.903e-01, Loss_res: 7.234e+00 ,Time: 0.00\n",
            "Compute NTK...\n"
          ]
        },
        {
          "name": "stdout",
          "output_type": "stream",
          "text": [
            "66.03642\n"
          ]
        },
        {
          "name": "stderr",
          "output_type": "stream",
          "text": [
            "It: 6600, Loss: 7.387e+00, Loss_bcs: 2.836e-01, Loss_res: 7.104e+00 ,Time: 0.00\n",
            "Compute NTK...\n"
          ]
        },
        {
          "name": "stdout",
          "output_type": "stream",
          "text": [
            "66.17981\n"
          ]
        },
        {
          "name": "stderr",
          "output_type": "stream",
          "text": [
            "It: 6700, Loss: 7.253e+00, Loss_bcs: 2.770e-01, Loss_res: 6.976e+00 ,Time: 0.00\n",
            "Compute NTK...\n"
          ]
        },
        {
          "name": "stdout",
          "output_type": "stream",
          "text": [
            "66.20258\n"
          ]
        },
        {
          "name": "stderr",
          "output_type": "stream",
          "text": [
            "It: 6800, Loss: 7.123e+00, Loss_bcs: 2.707e-01, Loss_res: 6.853e+00 ,Time: 0.00\n",
            "Compute NTK...\n"
          ]
        },
        {
          "name": "stdout",
          "output_type": "stream",
          "text": [
            "66.32734\n"
          ]
        },
        {
          "name": "stderr",
          "output_type": "stream",
          "text": [
            "It: 6900, Loss: 6.997e+00, Loss_bcs: 2.645e-01, Loss_res: 6.732e+00 ,Time: 0.00\n",
            "Compute NTK...\n"
          ]
        },
        {
          "name": "stdout",
          "output_type": "stream",
          "text": [
            "66.37134\n"
          ]
        },
        {
          "name": "stderr",
          "output_type": "stream",
          "text": [
            "It: 7000, Loss: 6.873e+00, Loss_bcs: 2.584e-01, Loss_res: 6.615e+00 ,Time: 0.00\n",
            "Compute NTK...\n"
          ]
        },
        {
          "name": "stdout",
          "output_type": "stream",
          "text": [
            "66.50756\n"
          ]
        },
        {
          "name": "stderr",
          "output_type": "stream",
          "text": [
            "It: 7100, Loss: 6.753e+00, Loss_bcs: 2.525e-01, Loss_res: 6.501e+00 ,Time: 0.00\n",
            "Compute NTK...\n"
          ]
        },
        {
          "name": "stdout",
          "output_type": "stream",
          "text": [
            "66.601204\n"
          ]
        },
        {
          "name": "stderr",
          "output_type": "stream",
          "text": [
            "It: 7200, Loss: 6.636e+00, Loss_bcs: 2.467e-01, Loss_res: 6.389e+00 ,Time: 0.00\n",
            "Compute NTK...\n"
          ]
        },
        {
          "name": "stdout",
          "output_type": "stream",
          "text": [
            "66.748665\n"
          ]
        },
        {
          "name": "stderr",
          "output_type": "stream",
          "text": [
            "It: 7300, Loss: 6.522e+00, Loss_bcs: 2.411e-01, Loss_res: 6.280e+00 ,Time: 0.00\n",
            "Compute NTK...\n"
          ]
        },
        {
          "name": "stdout",
          "output_type": "stream",
          "text": [
            "66.78648\n"
          ]
        },
        {
          "name": "stderr",
          "output_type": "stream",
          "text": [
            "It: 7400, Loss: 6.410e+00, Loss_bcs: 2.356e-01, Loss_res: 6.174e+00 ,Time: 0.00\n",
            "Compute NTK...\n"
          ]
        },
        {
          "name": "stdout",
          "output_type": "stream",
          "text": [
            "66.80268\n"
          ]
        },
        {
          "name": "stderr",
          "output_type": "stream",
          "text": [
            "It: 7500, Loss: 6.301e+00, Loss_bcs: 2.303e-01, Loss_res: 6.071e+00 ,Time: 0.00\n",
            "Compute NTK...\n"
          ]
        },
        {
          "name": "stdout",
          "output_type": "stream",
          "text": [
            "66.94303\n"
          ]
        },
        {
          "name": "stderr",
          "output_type": "stream",
          "text": [
            "It: 7600, Loss: 6.195e+00, Loss_bcs: 2.252e-01, Loss_res: 5.970e+00 ,Time: 0.00\n",
            "Compute NTK...\n"
          ]
        },
        {
          "name": "stdout",
          "output_type": "stream",
          "text": [
            "67.09812\n"
          ]
        },
        {
          "name": "stderr",
          "output_type": "stream",
          "text": [
            "It: 7700, Loss: 6.091e+00, Loss_bcs: 2.202e-01, Loss_res: 5.871e+00 ,Time: 0.00\n",
            "Compute NTK...\n"
          ]
        },
        {
          "name": "stdout",
          "output_type": "stream",
          "text": [
            "67.12448\n"
          ]
        },
        {
          "name": "stderr",
          "output_type": "stream",
          "text": [
            "It: 7800, Loss: 5.990e+00, Loss_bcs: 2.153e-01, Loss_res: 5.775e+00 ,Time: 0.00\n",
            "Compute NTK...\n"
          ]
        },
        {
          "name": "stdout",
          "output_type": "stream",
          "text": [
            "67.17339\n"
          ]
        },
        {
          "name": "stderr",
          "output_type": "stream",
          "text": [
            "It: 7900, Loss: 5.891e+00, Loss_bcs: 2.105e-01, Loss_res: 5.680e+00 ,Time: 0.00\n",
            "Compute NTK...\n"
          ]
        },
        {
          "name": "stdout",
          "output_type": "stream",
          "text": [
            "67.41592\n"
          ]
        },
        {
          "name": "stderr",
          "output_type": "stream",
          "text": [
            "It: 8000, Loss: 5.794e+00, Loss_bcs: 2.059e-01, Loss_res: 5.588e+00 ,Time: 0.00\n",
            "Compute NTK...\n"
          ]
        },
        {
          "name": "stdout",
          "output_type": "stream",
          "text": [
            "67.48911\n"
          ]
        },
        {
          "name": "stderr",
          "output_type": "stream",
          "text": [
            "It: 8100, Loss: 5.699e+00, Loss_bcs: 2.013e-01, Loss_res: 5.498e+00 ,Time: 0.00\n",
            "Compute NTK...\n"
          ]
        },
        {
          "name": "stdout",
          "output_type": "stream",
          "text": [
            "67.5498\n"
          ]
        },
        {
          "name": "stderr",
          "output_type": "stream",
          "text": [
            "It: 8200, Loss: 5.607e+00, Loss_bcs: 1.969e-01, Loss_res: 5.410e+00 ,Time: 0.00\n",
            "Compute NTK...\n"
          ]
        },
        {
          "name": "stdout",
          "output_type": "stream",
          "text": [
            "67.65308\n"
          ]
        },
        {
          "name": "stderr",
          "output_type": "stream",
          "text": [
            "It: 8300, Loss: 5.516e+00, Loss_bcs: 1.927e-01, Loss_res: 5.324e+00 ,Time: 0.00\n",
            "Compute NTK...\n"
          ]
        },
        {
          "name": "stdout",
          "output_type": "stream",
          "text": [
            "67.71804\n"
          ]
        },
        {
          "name": "stderr",
          "output_type": "stream",
          "text": [
            "It: 8400, Loss: 5.428e+00, Loss_bcs: 1.885e-01, Loss_res: 5.239e+00 ,Time: 0.00\n",
            "Compute NTK...\n"
          ]
        },
        {
          "name": "stdout",
          "output_type": "stream",
          "text": [
            "67.86551\n"
          ]
        },
        {
          "name": "stderr",
          "output_type": "stream",
          "text": [
            "It: 8500, Loss: 5.341e+00, Loss_bcs: 1.844e-01, Loss_res: 5.156e+00 ,Time: 0.00\n",
            "Compute NTK...\n"
          ]
        },
        {
          "name": "stdout",
          "output_type": "stream",
          "text": [
            "67.92334\n"
          ]
        },
        {
          "name": "stderr",
          "output_type": "stream",
          "text": [
            "It: 8600, Loss: 5.256e+00, Loss_bcs: 1.805e-01, Loss_res: 5.075e+00 ,Time: 0.00\n",
            "Compute NTK...\n"
          ]
        },
        {
          "name": "stdout",
          "output_type": "stream",
          "text": [
            "67.9929\n"
          ]
        },
        {
          "name": "stderr",
          "output_type": "stream",
          "text": [
            "It: 8700, Loss: 5.173e+00, Loss_bcs: 1.766e-01, Loss_res: 4.996e+00 ,Time: 0.00\n",
            "Compute NTK...\n"
          ]
        },
        {
          "name": "stdout",
          "output_type": "stream",
          "text": [
            "68.16425\n"
          ]
        },
        {
          "name": "stderr",
          "output_type": "stream",
          "text": [
            "It: 8800, Loss: 5.091e+00, Loss_bcs: 1.729e-01, Loss_res: 4.918e+00 ,Time: 0.00\n",
            "Compute NTK...\n"
          ]
        },
        {
          "name": "stdout",
          "output_type": "stream",
          "text": [
            "68.2999\n"
          ]
        },
        {
          "name": "stderr",
          "output_type": "stream",
          "text": [
            "It: 8900, Loss: 5.011e+00, Loss_bcs: 1.693e-01, Loss_res: 4.842e+00 ,Time: 0.00\n",
            "Compute NTK...\n"
          ]
        },
        {
          "name": "stdout",
          "output_type": "stream",
          "text": [
            "68.402916\n"
          ]
        },
        {
          "name": "stderr",
          "output_type": "stream",
          "text": [
            "It: 9000, Loss: 4.933e+00, Loss_bcs: 1.657e-01, Loss_res: 4.767e+00 ,Time: 0.00\n",
            "Compute NTK...\n"
          ]
        },
        {
          "name": "stdout",
          "output_type": "stream",
          "text": [
            "68.46674\n"
          ]
        },
        {
          "name": "stderr",
          "output_type": "stream",
          "text": [
            "It: 9100, Loss: 4.857e+00, Loss_bcs: 1.622e-01, Loss_res: 4.694e+00 ,Time: 0.00\n",
            "Compute NTK...\n"
          ]
        },
        {
          "name": "stdout",
          "output_type": "stream",
          "text": [
            "68.59707\n"
          ]
        },
        {
          "name": "stderr",
          "output_type": "stream",
          "text": [
            "It: 9200, Loss: 4.781e+00, Loss_bcs: 1.589e-01, Loss_res: 4.623e+00 ,Time: 0.00\n",
            "Compute NTK...\n"
          ]
        },
        {
          "name": "stdout",
          "output_type": "stream",
          "text": [
            "68.71286\n"
          ]
        },
        {
          "name": "stderr",
          "output_type": "stream",
          "text": [
            "It: 9300, Loss: 4.708e+00, Loss_bcs: 1.556e-01, Loss_res: 4.552e+00 ,Time: 0.00\n",
            "Compute NTK...\n"
          ]
        },
        {
          "name": "stdout",
          "output_type": "stream",
          "text": [
            "68.83967\n"
          ]
        },
        {
          "name": "stderr",
          "output_type": "stream",
          "text": [
            "It: 9400, Loss: 4.635e+00, Loss_bcs: 1.524e-01, Loss_res: 4.483e+00 ,Time: 0.00\n",
            "Compute NTK...\n"
          ]
        },
        {
          "name": "stdout",
          "output_type": "stream",
          "text": [
            "68.99986\n"
          ]
        },
        {
          "name": "stderr",
          "output_type": "stream",
          "text": [
            "It: 9500, Loss: 4.565e+00, Loss_bcs: 1.492e-01, Loss_res: 4.415e+00 ,Time: 0.00\n",
            "Compute NTK...\n"
          ]
        },
        {
          "name": "stdout",
          "output_type": "stream",
          "text": [
            "69.0738\n"
          ]
        },
        {
          "name": "stderr",
          "output_type": "stream",
          "text": [
            "It: 9600, Loss: 4.495e+00, Loss_bcs: 1.462e-01, Loss_res: 4.349e+00 ,Time: 0.00\n",
            "Compute NTK...\n"
          ]
        },
        {
          "name": "stdout",
          "output_type": "stream",
          "text": [
            "69.089584\n"
          ]
        },
        {
          "name": "stderr",
          "output_type": "stream",
          "text": [
            "It: 9700, Loss: 4.427e+00, Loss_bcs: 1.432e-01, Loss_res: 4.284e+00 ,Time: 0.00\n",
            "Compute NTK...\n"
          ]
        },
        {
          "name": "stdout",
          "output_type": "stream",
          "text": [
            "69.21051\n"
          ]
        },
        {
          "name": "stderr",
          "output_type": "stream",
          "text": [
            "It: 9800, Loss: 4.360e+00, Loss_bcs: 1.403e-01, Loss_res: 4.220e+00 ,Time: 0.00\n",
            "Compute NTK...\n"
          ]
        },
        {
          "name": "stdout",
          "output_type": "stream",
          "text": [
            "69.294716\n"
          ]
        },
        {
          "name": "stderr",
          "output_type": "stream",
          "text": [
            "It: 9900, Loss: 4.294e+00, Loss_bcs: 1.375e-01, Loss_res: 4.157e+00 ,Time: 0.00\n",
            "Compute NTK...\n"
          ]
        },
        {
          "name": "stdout",
          "output_type": "stream",
          "text": [
            "69.535225\n"
          ]
        },
        {
          "name": "stderr",
          "output_type": "stream",
          "text": [
            "It: 10000, Loss: 4.230e+00, Loss_bcs: 1.347e-01, Loss_res: 4.095e+00 ,Time: 0.00\n",
            "Compute NTK...\n"
          ]
        },
        {
          "name": "stdout",
          "output_type": "stream",
          "text": [
            "69.56946\n"
          ]
        },
        {
          "name": "stderr",
          "output_type": "stream",
          "text": [
            "It: 10100, Loss: 4.167e+00, Loss_bcs: 1.320e-01, Loss_res: 4.035e+00 ,Time: 0.00\n",
            "Compute NTK...\n"
          ]
        },
        {
          "name": "stdout",
          "output_type": "stream",
          "text": [
            "69.61421\n"
          ]
        },
        {
          "name": "stderr",
          "output_type": "stream",
          "text": [
            "It: 10200, Loss: 4.105e+00, Loss_bcs: 1.294e-01, Loss_res: 3.975e+00 ,Time: 0.00\n",
            "Compute NTK...\n"
          ]
        },
        {
          "name": "stdout",
          "output_type": "stream",
          "text": [
            "69.71761\n"
          ]
        },
        {
          "name": "stderr",
          "output_type": "stream",
          "text": [
            "It: 10300, Loss: 4.044e+00, Loss_bcs: 1.268e-01, Loss_res: 3.917e+00 ,Time: 0.00\n",
            "Compute NTK...\n"
          ]
        },
        {
          "name": "stdout",
          "output_type": "stream",
          "text": [
            "69.891785\n"
          ]
        },
        {
          "name": "stderr",
          "output_type": "stream",
          "text": [
            "It: 10400, Loss: 3.984e+00, Loss_bcs: 1.243e-01, Loss_res: 3.859e+00 ,Time: 0.00\n",
            "Compute NTK...\n"
          ]
        },
        {
          "name": "stdout",
          "output_type": "stream",
          "text": [
            "69.9312\n"
          ]
        },
        {
          "name": "stderr",
          "output_type": "stream",
          "text": [
            "It: 10500, Loss: 3.925e+00, Loss_bcs: 1.219e-01, Loss_res: 3.803e+00 ,Time: 0.00\n",
            "Compute NTK...\n"
          ]
        },
        {
          "name": "stdout",
          "output_type": "stream",
          "text": [
            "70.079346\n"
          ]
        },
        {
          "name": "stderr",
          "output_type": "stream",
          "text": [
            "It: 10600, Loss: 3.867e+00, Loss_bcs: 1.195e-01, Loss_res: 3.748e+00 ,Time: 0.00\n",
            "Compute NTK...\n"
          ]
        },
        {
          "name": "stdout",
          "output_type": "stream",
          "text": [
            "70.230446\n"
          ]
        },
        {
          "name": "stderr",
          "output_type": "stream",
          "text": [
            "It: 10700, Loss: 3.811e+00, Loss_bcs: 1.171e-01, Loss_res: 3.694e+00 ,Time: 0.00\n",
            "Compute NTK...\n"
          ]
        },
        {
          "name": "stdout",
          "output_type": "stream",
          "text": [
            "70.23889\n"
          ]
        },
        {
          "name": "stderr",
          "output_type": "stream",
          "text": [
            "It: 10800, Loss: 3.755e+00, Loss_bcs: 1.149e-01, Loss_res: 3.640e+00 ,Time: 0.00\n",
            "Compute NTK...\n"
          ]
        },
        {
          "name": "stdout",
          "output_type": "stream",
          "text": [
            "70.35879\n"
          ]
        },
        {
          "name": "stderr",
          "output_type": "stream",
          "text": [
            "It: 10900, Loss: 3.701e+00, Loss_bcs: 1.126e-01, Loss_res: 3.588e+00 ,Time: 0.00\n",
            "Compute NTK...\n"
          ]
        },
        {
          "name": "stdout",
          "output_type": "stream",
          "text": [
            "70.481636\n"
          ]
        },
        {
          "name": "stderr",
          "output_type": "stream",
          "text": [
            "It: 11000, Loss: 3.647e+00, Loss_bcs: 1.104e-01, Loss_res: 3.536e+00 ,Time: 0.00\n",
            "Compute NTK...\n"
          ]
        },
        {
          "name": "stdout",
          "output_type": "stream",
          "text": [
            "70.41674\n"
          ]
        },
        {
          "name": "stderr",
          "output_type": "stream",
          "text": [
            "It: 11100, Loss: 3.594e+00, Loss_bcs: 1.083e-01, Loss_res: 3.486e+00 ,Time: 0.00\n",
            "Compute NTK...\n"
          ]
        },
        {
          "name": "stdout",
          "output_type": "stream",
          "text": [
            "70.77233\n"
          ]
        },
        {
          "name": "stderr",
          "output_type": "stream",
          "text": [
            "It: 11200, Loss: 3.542e+00, Loss_bcs: 1.062e-01, Loss_res: 3.436e+00 ,Time: 0.00\n",
            "Compute NTK...\n"
          ]
        },
        {
          "name": "stdout",
          "output_type": "stream",
          "text": [
            "70.63046\n"
          ]
        },
        {
          "name": "stderr",
          "output_type": "stream",
          "text": [
            "It: 11300, Loss: 3.492e+00, Loss_bcs: 1.042e-01, Loss_res: 3.387e+00 ,Time: 0.00\n",
            "Compute NTK...\n"
          ]
        },
        {
          "name": "stdout",
          "output_type": "stream",
          "text": [
            "70.81531\n"
          ]
        },
        {
          "name": "stderr",
          "output_type": "stream",
          "text": [
            "It: 11400, Loss: 3.442e+00, Loss_bcs: 1.022e-01, Loss_res: 3.339e+00 ,Time: 0.00\n",
            "Compute NTK...\n"
          ]
        },
        {
          "name": "stdout",
          "output_type": "stream",
          "text": [
            "70.84327\n"
          ]
        },
        {
          "name": "stderr",
          "output_type": "stream",
          "text": [
            "It: 11500, Loss: 3.393e+00, Loss_bcs: 1.002e-01, Loss_res: 3.292e+00 ,Time: 0.00\n",
            "Compute NTK...\n"
          ]
        },
        {
          "name": "stdout",
          "output_type": "stream",
          "text": [
            "70.88722\n"
          ]
        },
        {
          "name": "stderr",
          "output_type": "stream",
          "text": [
            "It: 11600, Loss: 3.344e+00, Loss_bcs: 9.835e-02, Loss_res: 3.246e+00 ,Time: 0.00\n",
            "Compute NTK...\n"
          ]
        },
        {
          "name": "stdout",
          "output_type": "stream",
          "text": [
            "71.05974\n"
          ]
        },
        {
          "name": "stderr",
          "output_type": "stream",
          "text": [
            "It: 11700, Loss: 3.297e+00, Loss_bcs: 9.648e-02, Loss_res: 3.200e+00 ,Time: 0.00\n",
            "Compute NTK...\n"
          ]
        },
        {
          "name": "stdout",
          "output_type": "stream",
          "text": [
            "71.06072\n"
          ]
        },
        {
          "name": "stderr",
          "output_type": "stream",
          "text": [
            "It: 11800, Loss: 3.250e+00, Loss_bcs: 9.464e-02, Loss_res: 3.156e+00 ,Time: 0.00\n",
            "Compute NTK...\n"
          ]
        },
        {
          "name": "stdout",
          "output_type": "stream",
          "text": [
            "71.27698\n"
          ]
        },
        {
          "name": "stderr",
          "output_type": "stream",
          "text": [
            "It: 11900, Loss: 3.205e+00, Loss_bcs: 9.285e-02, Loss_res: 3.112e+00 ,Time: 0.00\n",
            "Compute NTK...\n"
          ]
        },
        {
          "name": "stdout",
          "output_type": "stream",
          "text": [
            "71.3241\n"
          ]
        },
        {
          "name": "stderr",
          "output_type": "stream",
          "text": [
            "It: 12000, Loss: 3.160e+00, Loss_bcs: 9.110e-02, Loss_res: 3.069e+00 ,Time: 0.00\n",
            "Compute NTK...\n"
          ]
        },
        {
          "name": "stdout",
          "output_type": "stream",
          "text": [
            "71.33719\n"
          ]
        },
        {
          "name": "stderr",
          "output_type": "stream",
          "text": [
            "It: 12100, Loss: 3.116e+00, Loss_bcs: 8.939e-02, Loss_res: 3.026e+00 ,Time: 0.00\n",
            "Compute NTK...\n"
          ]
        },
        {
          "name": "stdout",
          "output_type": "stream",
          "text": [
            "71.27063\n"
          ]
        },
        {
          "name": "stderr",
          "output_type": "stream",
          "text": [
            "It: 12200, Loss: 3.072e+00, Loss_bcs: 8.772e-02, Loss_res: 2.985e+00 ,Time: 0.00\n",
            "Compute NTK...\n"
          ]
        },
        {
          "name": "stdout",
          "output_type": "stream",
          "text": [
            "71.54053\n"
          ]
        },
        {
          "name": "stderr",
          "output_type": "stream",
          "text": [
            "It: 12300, Loss: 3.030e+00, Loss_bcs: 8.608e-02, Loss_res: 2.944e+00 ,Time: 0.00\n",
            "Compute NTK...\n"
          ]
        },
        {
          "name": "stdout",
          "output_type": "stream",
          "text": [
            "71.58573\n"
          ]
        },
        {
          "name": "stderr",
          "output_type": "stream",
          "text": [
            "It: 12400, Loss: 2.988e+00, Loss_bcs: 8.447e-02, Loss_res: 2.904e+00 ,Time: 0.00\n",
            "Compute NTK...\n"
          ]
        },
        {
          "name": "stdout",
          "output_type": "stream",
          "text": [
            "71.56907\n"
          ]
        },
        {
          "name": "stderr",
          "output_type": "stream",
          "text": [
            "It: 12500, Loss: 2.947e+00, Loss_bcs: 8.288e-02, Loss_res: 2.864e+00 ,Time: 0.00\n",
            "Compute NTK...\n"
          ]
        },
        {
          "name": "stdout",
          "output_type": "stream",
          "text": [
            "71.54242\n"
          ]
        },
        {
          "name": "stderr",
          "output_type": "stream",
          "text": [
            "It: 12600, Loss: 2.907e+00, Loss_bcs: 8.133e-02, Loss_res: 2.825e+00 ,Time: 0.00\n",
            "Compute NTK...\n"
          ]
        },
        {
          "name": "stdout",
          "output_type": "stream",
          "text": [
            "71.79922\n"
          ]
        },
        {
          "name": "stderr",
          "output_type": "stream",
          "text": [
            "It: 12700, Loss: 2.867e+00, Loss_bcs: 7.982e-02, Loss_res: 2.787e+00 ,Time: 0.00\n",
            "Compute NTK...\n"
          ]
        },
        {
          "name": "stdout",
          "output_type": "stream",
          "text": [
            "71.82044\n"
          ]
        },
        {
          "name": "stderr",
          "output_type": "stream",
          "text": [
            "It: 12800, Loss: 2.828e+00, Loss_bcs: 7.833e-02, Loss_res: 2.750e+00 ,Time: 0.00\n",
            "Compute NTK...\n"
          ]
        },
        {
          "name": "stdout",
          "output_type": "stream",
          "text": [
            "71.80897\n"
          ]
        },
        {
          "name": "stderr",
          "output_type": "stream",
          "text": [
            "It: 12900, Loss: 2.790e+00, Loss_bcs: 7.687e-02, Loss_res: 2.713e+00 ,Time: 0.00\n",
            "Compute NTK...\n"
          ]
        },
        {
          "name": "stdout",
          "output_type": "stream",
          "text": [
            "71.73526\n"
          ]
        },
        {
          "name": "stderr",
          "output_type": "stream",
          "text": [
            "It: 13000, Loss: 2.752e+00, Loss_bcs: 7.545e-02, Loss_res: 2.677e+00 ,Time: 0.00\n",
            "Compute NTK...\n"
          ]
        },
        {
          "name": "stdout",
          "output_type": "stream",
          "text": [
            "72.02408\n"
          ]
        },
        {
          "name": "stderr",
          "output_type": "stream",
          "text": [
            "It: 13100, Loss: 2.716e+00, Loss_bcs: 7.406e-02, Loss_res: 2.642e+00 ,Time: 0.00\n",
            "Compute NTK...\n"
          ]
        },
        {
          "name": "stdout",
          "output_type": "stream",
          "text": [
            "71.98621\n"
          ]
        },
        {
          "name": "stderr",
          "output_type": "stream",
          "text": [
            "It: 13200, Loss: 2.679e+00, Loss_bcs: 7.268e-02, Loss_res: 2.607e+00 ,Time: 0.00\n",
            "Compute NTK...\n"
          ]
        },
        {
          "name": "stdout",
          "output_type": "stream",
          "text": [
            "71.87845\n"
          ]
        },
        {
          "name": "stderr",
          "output_type": "stream",
          "text": [
            "It: 13300, Loss: 2.644e+00, Loss_bcs: 7.134e-02, Loss_res: 2.572e+00 ,Time: 0.00\n",
            "Compute NTK...\n"
          ]
        },
        {
          "name": "stdout",
          "output_type": "stream",
          "text": [
            "72.012054\n"
          ]
        },
        {
          "name": "stderr",
          "output_type": "stream",
          "text": [
            "It: 13400, Loss: 2.609e+00, Loss_bcs: 7.002e-02, Loss_res: 2.539e+00 ,Time: 0.00\n",
            "Compute NTK...\n"
          ]
        },
        {
          "name": "stdout",
          "output_type": "stream",
          "text": [
            "72.11192\n"
          ]
        },
        {
          "name": "stderr",
          "output_type": "stream",
          "text": [
            "It: 13500, Loss: 2.574e+00, Loss_bcs: 6.874e-02, Loss_res: 2.506e+00 ,Time: 0.00\n",
            "Compute NTK...\n"
          ]
        },
        {
          "name": "stdout",
          "output_type": "stream",
          "text": [
            "72.207\n"
          ]
        },
        {
          "name": "stderr",
          "output_type": "stream",
          "text": [
            "It: 13600, Loss: 2.541e+00, Loss_bcs: 6.747e-02, Loss_res: 2.473e+00 ,Time: 0.00\n",
            "Compute NTK...\n"
          ]
        },
        {
          "name": "stdout",
          "output_type": "stream",
          "text": [
            "72.06402\n"
          ]
        },
        {
          "name": "stderr",
          "output_type": "stream",
          "text": [
            "It: 13700, Loss: 2.508e+00, Loss_bcs: 6.623e-02, Loss_res: 2.441e+00 ,Time: 0.00\n",
            "Compute NTK...\n"
          ]
        },
        {
          "name": "stdout",
          "output_type": "stream",
          "text": [
            "72.39611\n"
          ]
        },
        {
          "name": "stderr",
          "output_type": "stream",
          "text": [
            "It: 13800, Loss: 2.475e+00, Loss_bcs: 6.502e-02, Loss_res: 2.410e+00 ,Time: 0.00\n",
            "Compute NTK...\n"
          ]
        },
        {
          "name": "stdout",
          "output_type": "stream",
          "text": [
            "72.05623\n"
          ]
        },
        {
          "name": "stderr",
          "output_type": "stream",
          "text": [
            "It: 13900, Loss: 2.443e+00, Loss_bcs: 6.382e-02, Loss_res: 2.379e+00 ,Time: 0.00\n",
            "Compute NTK...\n"
          ]
        },
        {
          "name": "stdout",
          "output_type": "stream",
          "text": [
            "72.22887\n"
          ]
        },
        {
          "name": "stderr",
          "output_type": "stream",
          "text": [
            "It: 14000, Loss: 2.412e+00, Loss_bcs: 6.266e-02, Loss_res: 2.349e+00 ,Time: 0.00\n",
            "Compute NTK...\n"
          ]
        },
        {
          "name": "stdout",
          "output_type": "stream",
          "text": [
            "72.07684\n"
          ]
        },
        {
          "name": "stderr",
          "output_type": "stream",
          "text": [
            "It: 14100, Loss: 2.381e+00, Loss_bcs: 6.151e-02, Loss_res: 2.319e+00 ,Time: 0.00\n",
            "Compute NTK...\n"
          ]
        },
        {
          "name": "stdout",
          "output_type": "stream",
          "text": [
            "72.27936\n"
          ]
        },
        {
          "name": "stderr",
          "output_type": "stream",
          "text": [
            "It: 14200, Loss: 2.351e+00, Loss_bcs: 6.038e-02, Loss_res: 2.290e+00 ,Time: 0.00\n",
            "Compute NTK...\n"
          ]
        },
        {
          "name": "stdout",
          "output_type": "stream",
          "text": [
            "72.3779\n"
          ]
        },
        {
          "name": "stderr",
          "output_type": "stream",
          "text": [
            "It: 14300, Loss: 2.321e+00, Loss_bcs: 5.928e-02, Loss_res: 2.262e+00 ,Time: 0.00\n",
            "Compute NTK...\n"
          ]
        },
        {
          "name": "stdout",
          "output_type": "stream",
          "text": [
            "72.22712\n"
          ]
        },
        {
          "name": "stderr",
          "output_type": "stream",
          "text": [
            "It: 14400, Loss: 2.292e+00, Loss_bcs: 5.821e-02, Loss_res: 2.234e+00 ,Time: 0.00\n",
            "Compute NTK...\n"
          ]
        },
        {
          "name": "stdout",
          "output_type": "stream",
          "text": [
            "72.07242\n"
          ]
        },
        {
          "name": "stderr",
          "output_type": "stream",
          "text": [
            "It: 14500, Loss: 2.263e+00, Loss_bcs: 5.715e-02, Loss_res: 2.206e+00 ,Time: 0.00\n",
            "Compute NTK...\n"
          ]
        },
        {
          "name": "stdout",
          "output_type": "stream",
          "text": [
            "72.37497\n"
          ]
        },
        {
          "name": "stderr",
          "output_type": "stream",
          "text": [
            "It: 14600, Loss: 2.235e+00, Loss_bcs: 5.612e-02, Loss_res: 2.179e+00 ,Time: 0.00\n",
            "Compute NTK...\n"
          ]
        },
        {
          "name": "stdout",
          "output_type": "stream",
          "text": [
            "72.204285\n"
          ]
        },
        {
          "name": "stderr",
          "output_type": "stream",
          "text": [
            "It: 14700, Loss: 2.207e+00, Loss_bcs: 5.510e-02, Loss_res: 2.152e+00 ,Time: 0.00\n",
            "Compute NTK...\n"
          ]
        },
        {
          "name": "stdout",
          "output_type": "stream",
          "text": [
            "72.51098\n"
          ]
        },
        {
          "name": "stderr",
          "output_type": "stream",
          "text": [
            "It: 14800, Loss: 2.180e+00, Loss_bcs: 5.410e-02, Loss_res: 2.126e+00 ,Time: 0.00\n",
            "Compute NTK...\n"
          ]
        },
        {
          "name": "stdout",
          "output_type": "stream",
          "text": [
            "72.40726\n"
          ]
        },
        {
          "name": "stderr",
          "output_type": "stream",
          "text": [
            "It: 14900, Loss: 2.154e+00, Loss_bcs: 5.312e-02, Loss_res: 2.101e+00 ,Time: 0.00\n",
            "Compute NTK...\n"
          ]
        },
        {
          "name": "stdout",
          "output_type": "stream",
          "text": [
            "72.229485\n"
          ]
        },
        {
          "name": "stderr",
          "output_type": "stream",
          "text": [
            "It: 15000, Loss: 2.128e+00, Loss_bcs: 5.217e-02, Loss_res: 2.075e+00 ,Time: 0.00\n",
            "Compute NTK...\n"
          ]
        },
        {
          "name": "stdout",
          "output_type": "stream",
          "text": [
            "72.51941\n"
          ]
        },
        {
          "name": "stderr",
          "output_type": "stream",
          "text": [
            "It: 15100, Loss: 2.102e+00, Loss_bcs: 5.124e-02, Loss_res: 2.051e+00 ,Time: 0.00\n",
            "Compute NTK...\n"
          ]
        },
        {
          "name": "stdout",
          "output_type": "stream",
          "text": [
            "72.21742\n"
          ]
        },
        {
          "name": "stderr",
          "output_type": "stream",
          "text": [
            "It: 15200, Loss: 2.077e+00, Loss_bcs: 5.031e-02, Loss_res: 2.026e+00 ,Time: 0.00\n",
            "Compute NTK...\n"
          ]
        },
        {
          "name": "stdout",
          "output_type": "stream",
          "text": [
            "72.32963\n"
          ]
        },
        {
          "name": "stderr",
          "output_type": "stream",
          "text": [
            "It: 15300, Loss: 2.052e+00, Loss_bcs: 4.940e-02, Loss_res: 2.002e+00 ,Time: 0.00\n",
            "Compute NTK...\n"
          ]
        },
        {
          "name": "stdout",
          "output_type": "stream",
          "text": [
            "72.43547\n"
          ]
        },
        {
          "name": "stderr",
          "output_type": "stream",
          "text": [
            "It: 15400, Loss: 2.028e+00, Loss_bcs: 4.852e-02, Loss_res: 1.979e+00 ,Time: 0.00\n",
            "Compute NTK...\n"
          ]
        },
        {
          "name": "stdout",
          "output_type": "stream",
          "text": [
            "72.3096\n"
          ]
        },
        {
          "name": "stderr",
          "output_type": "stream",
          "text": [
            "It: 15500, Loss: 2.004e+00, Loss_bcs: 4.765e-02, Loss_res: 1.956e+00 ,Time: 0.00\n",
            "Compute NTK...\n"
          ]
        },
        {
          "name": "stdout",
          "output_type": "stream",
          "text": [
            "72.478195\n"
          ]
        },
        {
          "name": "stderr",
          "output_type": "stream",
          "text": [
            "It: 15600, Loss: 1.980e+00, Loss_bcs: 4.681e-02, Loss_res: 1.933e+00 ,Time: 0.00\n",
            "Compute NTK...\n"
          ]
        },
        {
          "name": "stdout",
          "output_type": "stream",
          "text": [
            "72.38149\n"
          ]
        },
        {
          "name": "stderr",
          "output_type": "stream",
          "text": [
            "It: 15700, Loss: 1.957e+00, Loss_bcs: 4.597e-02, Loss_res: 1.911e+00 ,Time: 0.00\n",
            "Compute NTK...\n"
          ]
        },
        {
          "name": "stdout",
          "output_type": "stream",
          "text": [
            "72.244576\n"
          ]
        },
        {
          "name": "stderr",
          "output_type": "stream",
          "text": [
            "It: 15800, Loss: 1.935e+00, Loss_bcs: 4.515e-02, Loss_res: 1.889e+00 ,Time: 0.00\n",
            "Compute NTK...\n"
          ]
        },
        {
          "name": "stdout",
          "output_type": "stream",
          "text": [
            "72.29805\n"
          ]
        },
        {
          "name": "stderr",
          "output_type": "stream",
          "text": [
            "It: 15900, Loss: 1.912e+00, Loss_bcs: 4.434e-02, Loss_res: 1.868e+00 ,Time: 0.00\n",
            "Compute NTK...\n"
          ]
        },
        {
          "name": "stdout",
          "output_type": "stream",
          "text": [
            "72.36818\n"
          ]
        },
        {
          "name": "stderr",
          "output_type": "stream",
          "text": [
            "It: 16000, Loss: 1.890e+00, Loss_bcs: 4.355e-02, Loss_res: 1.847e+00 ,Time: 0.00\n",
            "Compute NTK...\n"
          ]
        },
        {
          "name": "stdout",
          "output_type": "stream",
          "text": [
            "72.08417\n"
          ]
        },
        {
          "name": "stderr",
          "output_type": "stream",
          "text": [
            "It: 16100, Loss: 1.869e+00, Loss_bcs: 4.277e-02, Loss_res: 1.826e+00 ,Time: 0.00\n",
            "Compute NTK...\n"
          ]
        },
        {
          "name": "stdout",
          "output_type": "stream",
          "text": [
            "72.09811\n"
          ]
        },
        {
          "name": "stderr",
          "output_type": "stream",
          "text": [
            "It: 16200, Loss: 1.848e+00, Loss_bcs: 4.201e-02, Loss_res: 1.806e+00 ,Time: 0.00\n",
            "Compute NTK...\n"
          ]
        },
        {
          "name": "stdout",
          "output_type": "stream",
          "text": [
            "72.04269\n"
          ]
        },
        {
          "name": "stderr",
          "output_type": "stream",
          "text": [
            "It: 16300, Loss: 1.827e+00, Loss_bcs: 4.127e-02, Loss_res: 1.786e+00 ,Time: 0.00\n",
            "Compute NTK...\n"
          ]
        },
        {
          "name": "stdout",
          "output_type": "stream",
          "text": [
            "72.22983\n"
          ]
        },
        {
          "name": "stderr",
          "output_type": "stream",
          "text": [
            "It: 16400, Loss: 1.807e+00, Loss_bcs: 4.055e-02, Loss_res: 1.767e+00 ,Time: 0.00\n",
            "Compute NTK...\n"
          ]
        },
        {
          "name": "stdout",
          "output_type": "stream",
          "text": [
            "72.20888\n"
          ]
        },
        {
          "name": "stderr",
          "output_type": "stream",
          "text": [
            "It: 16500, Loss: 1.787e+00, Loss_bcs: 3.984e-02, Loss_res: 1.747e+00 ,Time: 0.00\n",
            "Compute NTK...\n"
          ]
        },
        {
          "name": "stdout",
          "output_type": "stream",
          "text": [
            "71.85483\n"
          ]
        },
        {
          "name": "stderr",
          "output_type": "stream",
          "text": [
            "It: 16600, Loss: 1.767e+00, Loss_bcs: 3.914e-02, Loss_res: 1.728e+00 ,Time: 0.00\n",
            "Compute NTK...\n"
          ]
        },
        {
          "name": "stdout",
          "output_type": "stream",
          "text": [
            "72.305885\n"
          ]
        },
        {
          "name": "stderr",
          "output_type": "stream",
          "text": [
            "It: 16700, Loss: 1.748e+00, Loss_bcs: 3.846e-02, Loss_res: 1.710e+00 ,Time: 0.00\n",
            "Compute NTK...\n"
          ]
        },
        {
          "name": "stdout",
          "output_type": "stream",
          "text": [
            "71.931274\n"
          ]
        },
        {
          "name": "stderr",
          "output_type": "stream",
          "text": [
            "It: 16800, Loss: 1.729e+00, Loss_bcs: 3.779e-02, Loss_res: 1.692e+00 ,Time: 0.00\n",
            "Compute NTK...\n"
          ]
        },
        {
          "name": "stdout",
          "output_type": "stream",
          "text": [
            "72.0529\n"
          ]
        },
        {
          "name": "stderr",
          "output_type": "stream",
          "text": [
            "It: 16900, Loss: 1.711e+00, Loss_bcs: 3.713e-02, Loss_res: 1.674e+00 ,Time: 0.00\n",
            "Compute NTK...\n"
          ]
        },
        {
          "name": "stdout",
          "output_type": "stream",
          "text": [
            "72.15842\n"
          ]
        },
        {
          "name": "stderr",
          "output_type": "stream",
          "text": [
            "It: 17000, Loss: 1.692e+00, Loss_bcs: 3.648e-02, Loss_res: 1.656e+00 ,Time: 0.00\n",
            "Compute NTK...\n"
          ]
        },
        {
          "name": "stdout",
          "output_type": "stream",
          "text": [
            "72.23345\n"
          ]
        },
        {
          "name": "stderr",
          "output_type": "stream",
          "text": [
            "It: 17100, Loss: 1.675e+00, Loss_bcs: 3.585e-02, Loss_res: 1.639e+00 ,Time: 0.00\n",
            "Compute NTK...\n"
          ]
        },
        {
          "name": "stdout",
          "output_type": "stream",
          "text": [
            "71.955215\n"
          ]
        },
        {
          "name": "stderr",
          "output_type": "stream",
          "text": [
            "It: 17200, Loss: 1.657e+00, Loss_bcs: 3.523e-02, Loss_res: 1.622e+00 ,Time: 0.00\n",
            "Compute NTK...\n"
          ]
        },
        {
          "name": "stdout",
          "output_type": "stream",
          "text": [
            "71.60187\n"
          ]
        },
        {
          "name": "stderr",
          "output_type": "stream",
          "text": [
            "It: 17300, Loss: 1.640e+00, Loss_bcs: 3.463e-02, Loss_res: 1.605e+00 ,Time: 0.00\n",
            "Compute NTK...\n"
          ]
        },
        {
          "name": "stdout",
          "output_type": "stream",
          "text": [
            "71.857605\n"
          ]
        },
        {
          "name": "stderr",
          "output_type": "stream",
          "text": [
            "It: 17400, Loss: 1.623e+00, Loss_bcs: 3.404e-02, Loss_res: 1.588e+00 ,Time: 0.00\n",
            "Compute NTK...\n"
          ]
        },
        {
          "name": "stdout",
          "output_type": "stream",
          "text": [
            "71.8136\n"
          ]
        },
        {
          "name": "stderr",
          "output_type": "stream",
          "text": [
            "It: 17500, Loss: 1.606e+00, Loss_bcs: 3.345e-02, Loss_res: 1.572e+00 ,Time: 0.00\n",
            "Compute NTK...\n"
          ]
        },
        {
          "name": "stdout",
          "output_type": "stream",
          "text": [
            "71.97493\n"
          ]
        },
        {
          "name": "stderr",
          "output_type": "stream",
          "text": [
            "It: 17600, Loss: 1.589e+00, Loss_bcs: 3.289e-02, Loss_res: 1.556e+00 ,Time: 0.00\n",
            "Compute NTK...\n"
          ]
        },
        {
          "name": "stdout",
          "output_type": "stream",
          "text": [
            "71.57938\n"
          ]
        },
        {
          "name": "stderr",
          "output_type": "stream",
          "text": [
            "It: 17700, Loss: 1.573e+00, Loss_bcs: 3.233e-02, Loss_res: 1.541e+00 ,Time: 0.00\n",
            "Compute NTK...\n"
          ]
        },
        {
          "name": "stdout",
          "output_type": "stream",
          "text": [
            "71.76766\n"
          ]
        },
        {
          "name": "stderr",
          "output_type": "stream",
          "text": [
            "It: 17800, Loss: 1.557e+00, Loss_bcs: 3.179e-02, Loss_res: 1.526e+00 ,Time: 0.00\n",
            "Compute NTK...\n"
          ]
        },
        {
          "name": "stdout",
          "output_type": "stream",
          "text": [
            "71.37924\n"
          ]
        },
        {
          "name": "stderr",
          "output_type": "stream",
          "text": [
            "It: 17900, Loss: 1.542e+00, Loss_bcs: 3.125e-02, Loss_res: 1.510e+00 ,Time: 0.00\n",
            "Compute NTK...\n"
          ]
        },
        {
          "name": "stdout",
          "output_type": "stream",
          "text": [
            "71.825615\n"
          ]
        },
        {
          "name": "stderr",
          "output_type": "stream",
          "text": [
            "It: 18000, Loss: 1.526e+00, Loss_bcs: 3.073e-02, Loss_res: 1.496e+00 ,Time: 0.00\n",
            "Compute NTK...\n"
          ]
        },
        {
          "name": "stdout",
          "output_type": "stream",
          "text": [
            "71.463066\n"
          ]
        },
        {
          "name": "stderr",
          "output_type": "stream",
          "text": [
            "It: 18100, Loss: 1.511e+00, Loss_bcs: 3.021e-02, Loss_res: 1.481e+00 ,Time: 0.01\n",
            "Compute NTK...\n"
          ]
        },
        {
          "name": "stdout",
          "output_type": "stream",
          "text": [
            "71.49588\n"
          ]
        },
        {
          "name": "stderr",
          "output_type": "stream",
          "text": [
            "It: 18200, Loss: 1.496e+00, Loss_bcs: 2.971e-02, Loss_res: 1.467e+00 ,Time: 0.00\n",
            "Compute NTK...\n"
          ]
        },
        {
          "name": "stdout",
          "output_type": "stream",
          "text": [
            "71.27684\n"
          ]
        },
        {
          "name": "stderr",
          "output_type": "stream",
          "text": [
            "It: 18300, Loss: 1.482e+00, Loss_bcs: 2.922e-02, Loss_res: 1.453e+00 ,Time: 0.00\n",
            "Compute NTK...\n"
          ]
        },
        {
          "name": "stdout",
          "output_type": "stream",
          "text": [
            "71.4376\n"
          ]
        },
        {
          "name": "stderr",
          "output_type": "stream",
          "text": [
            "It: 18400, Loss: 1.467e+00, Loss_bcs: 2.874e-02, Loss_res: 1.439e+00 ,Time: 0.00\n",
            "Compute NTK...\n"
          ]
        },
        {
          "name": "stdout",
          "output_type": "stream",
          "text": [
            "71.34872\n"
          ]
        },
        {
          "name": "stderr",
          "output_type": "stream",
          "text": [
            "It: 18500, Loss: 1.453e+00, Loss_bcs: 2.828e-02, Loss_res: 1.425e+00 ,Time: 0.00\n",
            "Compute NTK...\n"
          ]
        },
        {
          "name": "stdout",
          "output_type": "stream",
          "text": [
            "71.128\n"
          ]
        },
        {
          "name": "stderr",
          "output_type": "stream",
          "text": [
            "It: 18600, Loss: 1.439e+00, Loss_bcs: 2.782e-02, Loss_res: 1.412e+00 ,Time: 0.00\n",
            "Compute NTK...\n"
          ]
        },
        {
          "name": "stdout",
          "output_type": "stream",
          "text": [
            "70.92511\n"
          ]
        },
        {
          "name": "stderr",
          "output_type": "stream",
          "text": [
            "It: 18700, Loss: 1.426e+00, Loss_bcs: 2.736e-02, Loss_res: 1.398e+00 ,Time: 0.00\n",
            "Compute NTK...\n"
          ]
        },
        {
          "name": "stdout",
          "output_type": "stream",
          "text": [
            "71.0472\n"
          ]
        },
        {
          "name": "stderr",
          "output_type": "stream",
          "text": [
            "It: 18800, Loss: 1.412e+00, Loss_bcs: 2.693e-02, Loss_res: 1.385e+00 ,Time: 0.00\n",
            "Compute NTK...\n"
          ]
        },
        {
          "name": "stdout",
          "output_type": "stream",
          "text": [
            "70.783516\n"
          ]
        },
        {
          "name": "stderr",
          "output_type": "stream",
          "text": [
            "It: 18900, Loss: 1.399e+00, Loss_bcs: 2.650e-02, Loss_res: 1.372e+00 ,Time: 0.00\n",
            "Compute NTK...\n"
          ]
        },
        {
          "name": "stdout",
          "output_type": "stream",
          "text": [
            "70.93231\n"
          ]
        },
        {
          "name": "stderr",
          "output_type": "stream",
          "text": [
            "It: 19000, Loss: 1.386e+00, Loss_bcs: 2.607e-02, Loss_res: 1.360e+00 ,Time: 0.00\n",
            "Compute NTK...\n"
          ]
        },
        {
          "name": "stdout",
          "output_type": "stream",
          "text": [
            "70.83313\n"
          ]
        },
        {
          "name": "stderr",
          "output_type": "stream",
          "text": [
            "It: 19100, Loss: 1.373e+00, Loss_bcs: 2.566e-02, Loss_res: 1.347e+00 ,Time: 0.00\n",
            "Compute NTK...\n"
          ]
        },
        {
          "name": "stdout",
          "output_type": "stream",
          "text": [
            "70.778755\n"
          ]
        },
        {
          "name": "stderr",
          "output_type": "stream",
          "text": [
            "It: 19200, Loss: 1.361e+00, Loss_bcs: 2.526e-02, Loss_res: 1.335e+00 ,Time: 0.00\n",
            "Compute NTK...\n"
          ]
        },
        {
          "name": "stdout",
          "output_type": "stream",
          "text": [
            "70.79988\n"
          ]
        },
        {
          "name": "stderr",
          "output_type": "stream",
          "text": [
            "It: 19300, Loss: 1.348e+00, Loss_bcs: 2.487e-02, Loss_res: 1.323e+00 ,Time: 0.00\n",
            "Compute NTK...\n"
          ]
        },
        {
          "name": "stdout",
          "output_type": "stream",
          "text": [
            "70.62253\n"
          ]
        },
        {
          "name": "stderr",
          "output_type": "stream",
          "text": [
            "It: 19400, Loss: 1.336e+00, Loss_bcs: 2.448e-02, Loss_res: 1.311e+00 ,Time: 0.00\n",
            "Compute NTK...\n"
          ]
        },
        {
          "name": "stdout",
          "output_type": "stream",
          "text": [
            "70.44948\n"
          ]
        },
        {
          "name": "stderr",
          "output_type": "stream",
          "text": [
            "It: 19500, Loss: 1.324e+00, Loss_bcs: 2.410e-02, Loss_res: 1.300e+00 ,Time: 0.00\n",
            "Compute NTK...\n"
          ]
        },
        {
          "name": "stdout",
          "output_type": "stream",
          "text": [
            "70.75193\n"
          ]
        },
        {
          "name": "stderr",
          "output_type": "stream",
          "text": [
            "It: 19600, Loss: 1.312e+00, Loss_bcs: 2.372e-02, Loss_res: 1.288e+00 ,Time: 0.00\n",
            "Compute NTK...\n"
          ]
        },
        {
          "name": "stdout",
          "output_type": "stream",
          "text": [
            "70.596855\n"
          ]
        },
        {
          "name": "stderr",
          "output_type": "stream",
          "text": [
            "It: 19700, Loss: 1.300e+00, Loss_bcs: 2.337e-02, Loss_res: 1.277e+00 ,Time: 0.00\n",
            "Compute NTK...\n"
          ]
        },
        {
          "name": "stdout",
          "output_type": "stream",
          "text": [
            "70.70746\n"
          ]
        },
        {
          "name": "stderr",
          "output_type": "stream",
          "text": [
            "It: 19800, Loss: 1.289e+00, Loss_bcs: 2.302e-02, Loss_res: 1.266e+00 ,Time: 0.00\n",
            "Compute NTK...\n"
          ]
        },
        {
          "name": "stdout",
          "output_type": "stream",
          "text": [
            "70.34454\n"
          ]
        },
        {
          "name": "stderr",
          "output_type": "stream",
          "text": [
            "It: 19900, Loss: 1.278e+00, Loss_bcs: 2.266e-02, Loss_res: 1.255e+00 ,Time: 0.00\n",
            "Compute NTK...\n"
          ]
        },
        {
          "name": "stdout",
          "output_type": "stream",
          "text": [
            "70.6184\n"
          ]
        },
        {
          "name": "stderr",
          "output_type": "stream",
          "text": [
            "It: 20000, Loss: 1.266e+00, Loss_bcs: 2.233e-02, Loss_res: 1.244e+00 ,Time: 0.00\n",
            "Compute NTK...\n"
          ]
        },
        {
          "name": "stdout",
          "output_type": "stream",
          "text": [
            "70.05463\n"
          ]
        },
        {
          "name": "stderr",
          "output_type": "stream",
          "text": [
            "It: 20100, Loss: 1.255e+00, Loss_bcs: 2.200e-02, Loss_res: 1.233e+00 ,Time: 0.01\n",
            "Compute NTK...\n"
          ]
        },
        {
          "name": "stdout",
          "output_type": "stream",
          "text": [
            "70.30787\n"
          ]
        },
        {
          "name": "stderr",
          "output_type": "stream",
          "text": [
            "It: 20200, Loss: 1.245e+00, Loss_bcs: 2.168e-02, Loss_res: 1.223e+00 ,Time: 0.00\n",
            "Compute NTK...\n"
          ]
        },
        {
          "name": "stdout",
          "output_type": "stream",
          "text": [
            "70.16207\n"
          ]
        },
        {
          "name": "stderr",
          "output_type": "stream",
          "text": [
            "It: 20300, Loss: 1.234e+00, Loss_bcs: 2.136e-02, Loss_res: 1.213e+00 ,Time: 0.00\n",
            "Compute NTK...\n"
          ]
        },
        {
          "name": "stdout",
          "output_type": "stream",
          "text": [
            "69.94205\n"
          ]
        },
        {
          "name": "stderr",
          "output_type": "stream",
          "text": [
            "It: 20400, Loss: 1.223e+00, Loss_bcs: 2.105e-02, Loss_res: 1.202e+00 ,Time: 0.00\n",
            "Compute NTK...\n"
          ]
        },
        {
          "name": "stdout",
          "output_type": "stream",
          "text": [
            "70.22007\n"
          ]
        },
        {
          "name": "stderr",
          "output_type": "stream",
          "text": [
            "It: 20500, Loss: 1.213e+00, Loss_bcs: 2.074e-02, Loss_res: 1.192e+00 ,Time: 0.00\n",
            "Compute NTK...\n"
          ]
        },
        {
          "name": "stdout",
          "output_type": "stream",
          "text": [
            "69.71138\n"
          ]
        },
        {
          "name": "stderr",
          "output_type": "stream",
          "text": [
            "It: 20600, Loss: 1.203e+00, Loss_bcs: 2.044e-02, Loss_res: 1.182e+00 ,Time: 0.00\n",
            "Compute NTK...\n"
          ]
        },
        {
          "name": "stdout",
          "output_type": "stream",
          "text": [
            "69.9048\n"
          ]
        },
        {
          "name": "stderr",
          "output_type": "stream",
          "text": [
            "It: 20700, Loss: 1.193e+00, Loss_bcs: 2.015e-02, Loss_res: 1.173e+00 ,Time: 0.00\n",
            "Compute NTK...\n"
          ]
        },
        {
          "name": "stdout",
          "output_type": "stream",
          "text": [
            "69.64484\n"
          ]
        },
        {
          "name": "stderr",
          "output_type": "stream",
          "text": [
            "It: 20800, Loss: 1.183e+00, Loss_bcs: 1.986e-02, Loss_res: 1.163e+00 ,Time: 0.00\n",
            "Compute NTK...\n"
          ]
        },
        {
          "name": "stdout",
          "output_type": "stream",
          "text": [
            "69.50155\n"
          ]
        },
        {
          "name": "stderr",
          "output_type": "stream",
          "text": [
            "It: 20900, Loss: 1.173e+00, Loss_bcs: 1.957e-02, Loss_res: 1.154e+00 ,Time: 0.00\n",
            "Compute NTK...\n"
          ]
        },
        {
          "name": "stdout",
          "output_type": "stream",
          "text": [
            "69.76952\n"
          ]
        },
        {
          "name": "stderr",
          "output_type": "stream",
          "text": [
            "It: 21000, Loss: 1.164e+00, Loss_bcs: 1.928e-02, Loss_res: 1.144e+00 ,Time: 0.00\n",
            "Compute NTK...\n"
          ]
        },
        {
          "name": "stdout",
          "output_type": "stream",
          "text": [
            "69.00631\n"
          ]
        },
        {
          "name": "stderr",
          "output_type": "stream",
          "text": [
            "It: 21100, Loss: 1.154e+00, Loss_bcs: 1.901e-02, Loss_res: 1.135e+00 ,Time: 0.00\n",
            "Compute NTK...\n"
          ]
        },
        {
          "name": "stdout",
          "output_type": "stream",
          "text": [
            "69.45384\n"
          ]
        },
        {
          "name": "stderr",
          "output_type": "stream",
          "text": [
            "It: 21200, Loss: 1.145e+00, Loss_bcs: 1.875e-02, Loss_res: 1.126e+00 ,Time: 0.00\n",
            "Compute NTK...\n"
          ]
        },
        {
          "name": "stdout",
          "output_type": "stream",
          "text": [
            "69.5975\n"
          ]
        },
        {
          "name": "stderr",
          "output_type": "stream",
          "text": [
            "It: 21300, Loss: 1.136e+00, Loss_bcs: 1.848e-02, Loss_res: 1.117e+00 ,Time: 0.00\n",
            "Compute NTK...\n"
          ]
        },
        {
          "name": "stdout",
          "output_type": "stream",
          "text": [
            "69.40725\n"
          ]
        },
        {
          "name": "stderr",
          "output_type": "stream",
          "text": [
            "It: 21400, Loss: 1.126e+00, Loss_bcs: 1.823e-02, Loss_res: 1.108e+00 ,Time: 0.00\n",
            "Compute NTK...\n"
          ]
        },
        {
          "name": "stdout",
          "output_type": "stream",
          "text": [
            "69.110054\n"
          ]
        },
        {
          "name": "stderr",
          "output_type": "stream",
          "text": [
            "It: 21500, Loss: 1.117e+00, Loss_bcs: 1.798e-02, Loss_res: 1.099e+00 ,Time: 0.00\n",
            "Compute NTK...\n"
          ]
        },
        {
          "name": "stdout",
          "output_type": "stream",
          "text": [
            "69.271286\n"
          ]
        },
        {
          "name": "stderr",
          "output_type": "stream",
          "text": [
            "It: 21600, Loss: 1.109e+00, Loss_bcs: 1.774e-02, Loss_res: 1.091e+00 ,Time: 0.00\n",
            "Compute NTK...\n"
          ]
        },
        {
          "name": "stdout",
          "output_type": "stream",
          "text": [
            "68.67218\n"
          ]
        },
        {
          "name": "stderr",
          "output_type": "stream",
          "text": [
            "It: 21700, Loss: 1.100e+00, Loss_bcs: 1.750e-02, Loss_res: 1.082e+00 ,Time: 0.00\n",
            "Compute NTK...\n"
          ]
        },
        {
          "name": "stdout",
          "output_type": "stream",
          "text": [
            "68.9125\n"
          ]
        },
        {
          "name": "stderr",
          "output_type": "stream",
          "text": [
            "It: 21800, Loss: 1.091e+00, Loss_bcs: 1.726e-02, Loss_res: 1.074e+00 ,Time: 0.00\n",
            "Compute NTK...\n"
          ]
        },
        {
          "name": "stdout",
          "output_type": "stream",
          "text": [
            "68.99664\n"
          ]
        },
        {
          "name": "stderr",
          "output_type": "stream",
          "text": [
            "It: 21900, Loss: 1.083e+00, Loss_bcs: 1.703e-02, Loss_res: 1.066e+00 ,Time: 0.00\n",
            "Compute NTK...\n"
          ]
        },
        {
          "name": "stdout",
          "output_type": "stream",
          "text": [
            "68.50861\n"
          ]
        },
        {
          "name": "stderr",
          "output_type": "stream",
          "text": [
            "It: 22000, Loss: 1.074e+00, Loss_bcs: 1.681e-02, Loss_res: 1.058e+00 ,Time: 0.00\n",
            "Compute NTK...\n"
          ]
        },
        {
          "name": "stdout",
          "output_type": "stream",
          "text": [
            "68.56806\n"
          ]
        },
        {
          "name": "stderr",
          "output_type": "stream",
          "text": [
            "It: 22100, Loss: 1.066e+00, Loss_bcs: 1.659e-02, Loss_res: 1.049e+00 ,Time: 0.00\n",
            "Compute NTK...\n"
          ]
        },
        {
          "name": "stdout",
          "output_type": "stream",
          "text": [
            "68.78962\n"
          ]
        },
        {
          "name": "stderr",
          "output_type": "stream",
          "text": [
            "It: 22200, Loss: 1.058e+00, Loss_bcs: 1.637e-02, Loss_res: 1.041e+00 ,Time: 0.00\n",
            "Compute NTK...\n"
          ]
        },
        {
          "name": "stdout",
          "output_type": "stream",
          "text": [
            "68.65935\n"
          ]
        },
        {
          "name": "stderr",
          "output_type": "stream",
          "text": [
            "It: 22300, Loss: 1.050e+00, Loss_bcs: 1.616e-02, Loss_res: 1.034e+00 ,Time: 0.00\n",
            "Compute NTK...\n"
          ]
        },
        {
          "name": "stdout",
          "output_type": "stream",
          "text": [
            "68.27391\n"
          ]
        },
        {
          "name": "stderr",
          "output_type": "stream",
          "text": [
            "It: 22400, Loss: 1.042e+00, Loss_bcs: 1.595e-02, Loss_res: 1.026e+00 ,Time: 0.00\n",
            "Compute NTK...\n"
          ]
        },
        {
          "name": "stdout",
          "output_type": "stream",
          "text": [
            "68.59435\n"
          ]
        },
        {
          "name": "stderr",
          "output_type": "stream",
          "text": [
            "It: 22500, Loss: 1.034e+00, Loss_bcs: 1.575e-02, Loss_res: 1.018e+00 ,Time: 0.00\n",
            "Compute NTK...\n"
          ]
        },
        {
          "name": "stdout",
          "output_type": "stream",
          "text": [
            "68.71378\n"
          ]
        },
        {
          "name": "stderr",
          "output_type": "stream",
          "text": [
            "It: 22600, Loss: 1.026e+00, Loss_bcs: 1.554e-02, Loss_res: 1.011e+00 ,Time: 0.00\n",
            "Compute NTK...\n"
          ]
        },
        {
          "name": "stdout",
          "output_type": "stream",
          "text": [
            "68.52454\n"
          ]
        },
        {
          "name": "stderr",
          "output_type": "stream",
          "text": [
            "It: 22700, Loss: 1.019e+00, Loss_bcs: 1.535e-02, Loss_res: 1.003e+00 ,Time: 0.00\n",
            "Compute NTK...\n"
          ]
        },
        {
          "name": "stdout",
          "output_type": "stream",
          "text": [
            "68.3898\n"
          ]
        },
        {
          "name": "stderr",
          "output_type": "stream",
          "text": [
            "It: 22800, Loss: 1.011e+00, Loss_bcs: 1.515e-02, Loss_res: 9.959e-01 ,Time: 0.00\n",
            "Compute NTK...\n"
          ]
        },
        {
          "name": "stdout",
          "output_type": "stream",
          "text": [
            "67.55463\n"
          ]
        },
        {
          "name": "stderr",
          "output_type": "stream",
          "text": [
            "It: 22900, Loss: 1.004e+00, Loss_bcs: 1.496e-02, Loss_res: 9.887e-01 ,Time: 0.00\n",
            "Compute NTK...\n"
          ]
        },
        {
          "name": "stdout",
          "output_type": "stream",
          "text": [
            "67.520134\n"
          ]
        },
        {
          "name": "stderr",
          "output_type": "stream",
          "text": [
            "It: 23000, Loss: 9.963e-01, Loss_bcs: 1.478e-02, Loss_res: 9.815e-01 ,Time: 0.00\n",
            "Compute NTK...\n"
          ]
        },
        {
          "name": "stdout",
          "output_type": "stream",
          "text": [
            "67.80788\n"
          ]
        },
        {
          "name": "stderr",
          "output_type": "stream",
          "text": [
            "It: 23100, Loss: 9.890e-01, Loss_bcs: 1.460e-02, Loss_res: 9.744e-01 ,Time: 0.00\n",
            "Compute NTK...\n"
          ]
        },
        {
          "name": "stdout",
          "output_type": "stream",
          "text": [
            "67.84707\n"
          ]
        },
        {
          "name": "stderr",
          "output_type": "stream",
          "text": [
            "It: 23200, Loss: 9.818e-01, Loss_bcs: 1.441e-02, Loss_res: 9.674e-01 ,Time: 0.01\n",
            "Compute NTK...\n"
          ]
        },
        {
          "name": "stdout",
          "output_type": "stream",
          "text": [
            "68.05645\n"
          ]
        },
        {
          "name": "stderr",
          "output_type": "stream",
          "text": [
            "It: 23300, Loss: 9.747e-01, Loss_bcs: 1.423e-02, Loss_res: 9.605e-01 ,Time: 0.00\n",
            "Compute NTK...\n"
          ]
        },
        {
          "name": "stdout",
          "output_type": "stream",
          "text": [
            "67.88447\n"
          ]
        },
        {
          "name": "stderr",
          "output_type": "stream",
          "text": [
            "It: 23400, Loss: 9.677e-01, Loss_bcs: 1.407e-02, Loss_res: 9.536e-01 ,Time: 0.00\n",
            "Compute NTK...\n"
          ]
        },
        {
          "name": "stdout",
          "output_type": "stream",
          "text": [
            "67.701996\n"
          ]
        },
        {
          "name": "stderr",
          "output_type": "stream",
          "text": [
            "It: 23500, Loss: 9.608e-01, Loss_bcs: 1.390e-02, Loss_res: 9.469e-01 ,Time: 0.00\n",
            "Compute NTK...\n"
          ]
        },
        {
          "name": "stdout",
          "output_type": "stream",
          "text": [
            "67.72582\n"
          ]
        },
        {
          "name": "stderr",
          "output_type": "stream",
          "text": [
            "It: 23600, Loss: 9.539e-01, Loss_bcs: 1.374e-02, Loss_res: 9.402e-01 ,Time: 0.00\n",
            "Compute NTK...\n"
          ]
        },
        {
          "name": "stdout",
          "output_type": "stream",
          "text": [
            "66.82025\n"
          ]
        },
        {
          "name": "stderr",
          "output_type": "stream",
          "text": [
            "It: 23700, Loss: 9.472e-01, Loss_bcs: 1.357e-02, Loss_res: 9.336e-01 ,Time: 0.00\n",
            "Compute NTK...\n"
          ]
        },
        {
          "name": "stdout",
          "output_type": "stream",
          "text": [
            "67.28688\n"
          ]
        },
        {
          "name": "stderr",
          "output_type": "stream",
          "text": [
            "It: 23800, Loss: 9.405e-01, Loss_bcs: 1.341e-02, Loss_res: 9.271e-01 ,Time: 0.00\n",
            "Compute NTK...\n"
          ]
        },
        {
          "name": "stdout",
          "output_type": "stream",
          "text": [
            "67.29549\n"
          ]
        },
        {
          "name": "stderr",
          "output_type": "stream",
          "text": [
            "It: 23900, Loss: 9.339e-01, Loss_bcs: 1.325e-02, Loss_res: 9.206e-01 ,Time: 0.00\n",
            "Compute NTK...\n"
          ]
        },
        {
          "name": "stdout",
          "output_type": "stream",
          "text": [
            "67.1378\n"
          ]
        },
        {
          "name": "stderr",
          "output_type": "stream",
          "text": [
            "It: 24000, Loss: 9.274e-01, Loss_bcs: 1.310e-02, Loss_res: 9.143e-01 ,Time: 0.00\n",
            "Compute NTK...\n"
          ]
        },
        {
          "name": "stdout",
          "output_type": "stream",
          "text": [
            "67.13228\n"
          ]
        },
        {
          "name": "stderr",
          "output_type": "stream",
          "text": [
            "It: 24100, Loss: 9.210e-01, Loss_bcs: 1.295e-02, Loss_res: 9.080e-01 ,Time: 0.00\n",
            "Compute NTK...\n"
          ]
        },
        {
          "name": "stdout",
          "output_type": "stream",
          "text": [
            "67.43657\n"
          ]
        },
        {
          "name": "stderr",
          "output_type": "stream",
          "text": [
            "It: 24200, Loss: 9.146e-01, Loss_bcs: 1.280e-02, Loss_res: 9.018e-01 ,Time: 0.00\n",
            "Compute NTK...\n"
          ]
        },
        {
          "name": "stdout",
          "output_type": "stream",
          "text": [
            "67.13696\n"
          ]
        },
        {
          "name": "stderr",
          "output_type": "stream",
          "text": [
            "It: 24300, Loss: 9.083e-01, Loss_bcs: 1.266e-02, Loss_res: 8.957e-01 ,Time: 0.00\n",
            "Compute NTK...\n"
          ]
        },
        {
          "name": "stdout",
          "output_type": "stream",
          "text": [
            "66.99682\n"
          ]
        },
        {
          "name": "stderr",
          "output_type": "stream",
          "text": [
            "It: 24400, Loss: 9.021e-01, Loss_bcs: 1.252e-02, Loss_res: 8.896e-01 ,Time: 0.00\n",
            "Compute NTK...\n"
          ]
        },
        {
          "name": "stdout",
          "output_type": "stream",
          "text": [
            "66.89369\n"
          ]
        },
        {
          "name": "stderr",
          "output_type": "stream",
          "text": [
            "It: 24500, Loss: 8.960e-01, Loss_bcs: 1.237e-02, Loss_res: 8.836e-01 ,Time: 0.00\n",
            "Compute NTK...\n"
          ]
        },
        {
          "name": "stdout",
          "output_type": "stream",
          "text": [
            "67.14275\n"
          ]
        },
        {
          "name": "stderr",
          "output_type": "stream",
          "text": [
            "It: 24600, Loss: 8.899e-01, Loss_bcs: 1.224e-02, Loss_res: 8.777e-01 ,Time: 0.00\n",
            "Compute NTK...\n"
          ]
        },
        {
          "name": "stdout",
          "output_type": "stream",
          "text": [
            "67.064804\n"
          ]
        },
        {
          "name": "stderr",
          "output_type": "stream",
          "text": [
            "It: 24700, Loss: 8.839e-01, Loss_bcs: 1.210e-02, Loss_res: 8.718e-01 ,Time: 0.00\n",
            "Compute NTK...\n"
          ]
        },
        {
          "name": "stdout",
          "output_type": "stream",
          "text": [
            "66.59308\n"
          ]
        },
        {
          "name": "stderr",
          "output_type": "stream",
          "text": [
            "It: 24800, Loss: 8.780e-01, Loss_bcs: 1.196e-02, Loss_res: 8.660e-01 ,Time: 0.00\n",
            "Compute NTK...\n"
          ]
        },
        {
          "name": "stdout",
          "output_type": "stream",
          "text": [
            "66.92237\n"
          ]
        },
        {
          "name": "stderr",
          "output_type": "stream",
          "text": [
            "It: 24900, Loss: 8.721e-01, Loss_bcs: 1.182e-02, Loss_res: 8.603e-01 ,Time: 0.00\n",
            "Compute NTK...\n"
          ]
        },
        {
          "name": "stdout",
          "output_type": "stream",
          "text": [
            "67.124825\n"
          ]
        },
        {
          "name": "stderr",
          "output_type": "stream",
          "text": [
            "It: 25000, Loss: 8.663e-01, Loss_bcs: 1.169e-02, Loss_res: 8.546e-01 ,Time: 0.00\n",
            "Compute NTK...\n"
          ]
        },
        {
          "name": "stdout",
          "output_type": "stream",
          "text": [
            "67.31397\n"
          ]
        },
        {
          "name": "stderr",
          "output_type": "stream",
          "text": [
            "It: 25100, Loss: 8.606e-01, Loss_bcs: 1.156e-02, Loss_res: 8.490e-01 ,Time: 0.00\n",
            "Compute NTK...\n"
          ]
        },
        {
          "name": "stdout",
          "output_type": "stream",
          "text": [
            "66.32345\n"
          ]
        },
        {
          "name": "stderr",
          "output_type": "stream",
          "text": [
            "It: 25200, Loss: 8.549e-01, Loss_bcs: 1.144e-02, Loss_res: 8.435e-01 ,Time: 0.00\n",
            "Compute NTK...\n"
          ]
        },
        {
          "name": "stdout",
          "output_type": "stream",
          "text": [
            "66.41152\n"
          ]
        },
        {
          "name": "stderr",
          "output_type": "stream",
          "text": [
            "It: 25300, Loss: 8.493e-01, Loss_bcs: 1.132e-02, Loss_res: 8.380e-01 ,Time: 0.00\n",
            "Compute NTK...\n"
          ]
        },
        {
          "name": "stdout",
          "output_type": "stream",
          "text": [
            "66.281624\n"
          ]
        },
        {
          "name": "stderr",
          "output_type": "stream",
          "text": [
            "It: 25400, Loss: 8.437e-01, Loss_bcs: 1.121e-02, Loss_res: 8.325e-01 ,Time: 0.00\n",
            "Compute NTK...\n"
          ]
        },
        {
          "name": "stdout",
          "output_type": "stream",
          "text": [
            "65.89414\n"
          ]
        },
        {
          "name": "stderr",
          "output_type": "stream",
          "text": [
            "It: 25500, Loss: 8.383e-01, Loss_bcs: 1.109e-02, Loss_res: 8.272e-01 ,Time: 0.00\n",
            "Compute NTK...\n"
          ]
        },
        {
          "name": "stdout",
          "output_type": "stream",
          "text": [
            "66.19288\n"
          ]
        },
        {
          "name": "stderr",
          "output_type": "stream",
          "text": [
            "It: 25600, Loss: 8.328e-01, Loss_bcs: 1.097e-02, Loss_res: 8.219e-01 ,Time: 0.00\n",
            "Compute NTK...\n"
          ]
        },
        {
          "name": "stdout",
          "output_type": "stream",
          "text": [
            "65.89012\n"
          ]
        },
        {
          "name": "stderr",
          "output_type": "stream",
          "text": [
            "It: 25700, Loss: 8.275e-01, Loss_bcs: 1.085e-02, Loss_res: 8.166e-01 ,Time: 0.00\n",
            "Compute NTK...\n"
          ]
        },
        {
          "name": "stdout",
          "output_type": "stream",
          "text": [
            "66.19768\n"
          ]
        },
        {
          "name": "stderr",
          "output_type": "stream",
          "text": [
            "It: 25800, Loss: 8.222e-01, Loss_bcs: 1.073e-02, Loss_res: 8.115e-01 ,Time: 0.00\n",
            "Compute NTK...\n"
          ]
        },
        {
          "name": "stdout",
          "output_type": "stream",
          "text": [
            "66.08769\n"
          ]
        },
        {
          "name": "stderr",
          "output_type": "stream",
          "text": [
            "It: 25900, Loss: 8.169e-01, Loss_bcs: 1.063e-02, Loss_res: 8.063e-01 ,Time: 0.00\n",
            "Compute NTK...\n"
          ]
        },
        {
          "name": "stdout",
          "output_type": "stream",
          "text": [
            "66.3248\n"
          ]
        },
        {
          "name": "stderr",
          "output_type": "stream",
          "text": [
            "It: 26000, Loss: 8.117e-01, Loss_bcs: 1.052e-02, Loss_res: 8.012e-01 ,Time: 0.00\n",
            "Compute NTK...\n"
          ]
        },
        {
          "name": "stdout",
          "output_type": "stream",
          "text": [
            "65.71702\n"
          ]
        },
        {
          "name": "stderr",
          "output_type": "stream",
          "text": [
            "It: 26100, Loss: 8.066e-01, Loss_bcs: 1.041e-02, Loss_res: 7.962e-01 ,Time: 0.00\n",
            "Compute NTK...\n"
          ]
        },
        {
          "name": "stdout",
          "output_type": "stream",
          "text": [
            "65.53699\n"
          ]
        },
        {
          "name": "stderr",
          "output_type": "stream",
          "text": [
            "It: 26200, Loss: 8.015e-01, Loss_bcs: 1.031e-02, Loss_res: 7.912e-01 ,Time: 0.00\n",
            "Compute NTK...\n"
          ]
        },
        {
          "name": "stdout",
          "output_type": "stream",
          "text": [
            "65.75973\n"
          ]
        },
        {
          "name": "stderr",
          "output_type": "stream",
          "text": [
            "It: 26300, Loss: 7.965e-01, Loss_bcs: 1.020e-02, Loss_res: 7.863e-01 ,Time: 0.00\n",
            "Compute NTK...\n"
          ]
        },
        {
          "name": "stdout",
          "output_type": "stream",
          "text": [
            "65.91812\n"
          ]
        },
        {
          "name": "stderr",
          "output_type": "stream",
          "text": [
            "It: 26400, Loss: 7.915e-01, Loss_bcs: 1.010e-02, Loss_res: 7.814e-01 ,Time: 0.00\n",
            "Compute NTK...\n"
          ]
        },
        {
          "name": "stdout",
          "output_type": "stream",
          "text": [
            "66.07209\n"
          ]
        },
        {
          "name": "stderr",
          "output_type": "stream",
          "text": [
            "It: 26500, Loss: 7.866e-01, Loss_bcs: 9.996e-03, Loss_res: 7.766e-01 ,Time: 0.00\n",
            "Compute NTK...\n"
          ]
        },
        {
          "name": "stdout",
          "output_type": "stream",
          "text": [
            "65.47598\n"
          ]
        },
        {
          "name": "stderr",
          "output_type": "stream",
          "text": [
            "It: 26600, Loss: 7.817e-01, Loss_bcs: 9.893e-03, Loss_res: 7.718e-01 ,Time: 0.00\n",
            "Compute NTK...\n"
          ]
        },
        {
          "name": "stdout",
          "output_type": "stream",
          "text": [
            "65.05557\n"
          ]
        },
        {
          "name": "stderr",
          "output_type": "stream",
          "text": [
            "It: 26700, Loss: 7.769e-01, Loss_bcs: 9.792e-03, Loss_res: 7.671e-01 ,Time: 0.00\n",
            "Compute NTK...\n"
          ]
        },
        {
          "name": "stdout",
          "output_type": "stream",
          "text": [
            "65.25196\n"
          ]
        },
        {
          "name": "stderr",
          "output_type": "stream",
          "text": [
            "It: 26800, Loss: 7.721e-01, Loss_bcs: 9.696e-03, Loss_res: 7.624e-01 ,Time: 0.00\n",
            "Compute NTK...\n"
          ]
        },
        {
          "name": "stdout",
          "output_type": "stream",
          "text": [
            "65.43678\n"
          ]
        },
        {
          "name": "stderr",
          "output_type": "stream",
          "text": [
            "It: 26900, Loss: 7.674e-01, Loss_bcs: 9.603e-03, Loss_res: 7.578e-01 ,Time: 0.00\n",
            "Compute NTK...\n"
          ]
        },
        {
          "name": "stdout",
          "output_type": "stream",
          "text": [
            "65.56423\n"
          ]
        },
        {
          "name": "stderr",
          "output_type": "stream",
          "text": [
            "It: 27000, Loss: 7.627e-01, Loss_bcs: 9.511e-03, Loss_res: 7.532e-01 ,Time: 0.00\n",
            "Compute NTK...\n"
          ]
        },
        {
          "name": "stdout",
          "output_type": "stream",
          "text": [
            "65.621284\n"
          ]
        },
        {
          "name": "stderr",
          "output_type": "stream",
          "text": [
            "It: 27100, Loss: 7.581e-01, Loss_bcs: 9.418e-03, Loss_res: 7.487e-01 ,Time: 0.00\n",
            "Compute NTK...\n"
          ]
        },
        {
          "name": "stdout",
          "output_type": "stream",
          "text": [
            "65.138626\n"
          ]
        },
        {
          "name": "stderr",
          "output_type": "stream",
          "text": [
            "It: 27200, Loss: 7.535e-01, Loss_bcs: 9.326e-03, Loss_res: 7.442e-01 ,Time: 0.00\n",
            "Compute NTK...\n"
          ]
        },
        {
          "name": "stdout",
          "output_type": "stream",
          "text": [
            "64.99064\n"
          ]
        },
        {
          "name": "stderr",
          "output_type": "stream",
          "text": [
            "It: 27300, Loss: 7.490e-01, Loss_bcs: 9.236e-03, Loss_res: 7.398e-01 ,Time: 0.01\n",
            "Compute NTK...\n"
          ]
        },
        {
          "name": "stdout",
          "output_type": "stream",
          "text": [
            "64.944305\n"
          ]
        },
        {
          "name": "stderr",
          "output_type": "stream",
          "text": [
            "It: 27400, Loss: 7.445e-01, Loss_bcs: 9.149e-03, Loss_res: 7.354e-01 ,Time: 0.00\n",
            "Compute NTK...\n"
          ]
        },
        {
          "name": "stdout",
          "output_type": "stream",
          "text": [
            "65.065865\n"
          ]
        },
        {
          "name": "stderr",
          "output_type": "stream",
          "text": [
            "It: 27500, Loss: 7.401e-01, Loss_bcs: 9.067e-03, Loss_res: 7.310e-01 ,Time: 0.00\n",
            "Compute NTK...\n"
          ]
        },
        {
          "name": "stdout",
          "output_type": "stream",
          "text": [
            "65.22197\n"
          ]
        },
        {
          "name": "stderr",
          "output_type": "stream",
          "text": [
            "It: 27600, Loss: 7.357e-01, Loss_bcs: 8.984e-03, Loss_res: 7.267e-01 ,Time: 0.00\n",
            "Compute NTK...\n"
          ]
        },
        {
          "name": "stdout",
          "output_type": "stream",
          "text": [
            "65.02302\n"
          ]
        },
        {
          "name": "stderr",
          "output_type": "stream",
          "text": [
            "It: 27700, Loss: 7.314e-01, Loss_bcs: 8.901e-03, Loss_res: 7.225e-01 ,Time: 0.00\n",
            "Compute NTK...\n"
          ]
        },
        {
          "name": "stdout",
          "output_type": "stream",
          "text": [
            "64.60366\n"
          ]
        },
        {
          "name": "stderr",
          "output_type": "stream",
          "text": [
            "It: 27800, Loss: 7.271e-01, Loss_bcs: 8.814e-03, Loss_res: 7.183e-01 ,Time: 0.00\n",
            "Compute NTK...\n"
          ]
        },
        {
          "name": "stdout",
          "output_type": "stream",
          "text": [
            "64.39284\n"
          ]
        },
        {
          "name": "stderr",
          "output_type": "stream",
          "text": [
            "It: 27900, Loss: 7.228e-01, Loss_bcs: 8.727e-03, Loss_res: 7.141e-01 ,Time: 0.00\n",
            "Compute NTK...\n"
          ]
        },
        {
          "name": "stdout",
          "output_type": "stream",
          "text": [
            "64.5078\n"
          ]
        },
        {
          "name": "stderr",
          "output_type": "stream",
          "text": [
            "It: 28000, Loss: 7.186e-01, Loss_bcs: 8.642e-03, Loss_res: 7.100e-01 ,Time: 0.00\n",
            "Compute NTK...\n"
          ]
        },
        {
          "name": "stdout",
          "output_type": "stream",
          "text": [
            "64.570625\n"
          ]
        },
        {
          "name": "stderr",
          "output_type": "stream",
          "text": [
            "It: 28100, Loss: 7.144e-01, Loss_bcs: 8.560e-03, Loss_res: 7.058e-01 ,Time: 0.00\n",
            "Compute NTK...\n"
          ]
        },
        {
          "name": "stdout",
          "output_type": "stream",
          "text": [
            "64.747734\n"
          ]
        },
        {
          "name": "stderr",
          "output_type": "stream",
          "text": [
            "It: 28200, Loss: 7.103e-01, Loss_bcs: 8.478e-03, Loss_res: 7.018e-01 ,Time: 0.00\n",
            "Compute NTK...\n"
          ]
        },
        {
          "name": "stdout",
          "output_type": "stream",
          "text": [
            "64.34896\n"
          ]
        },
        {
          "name": "stderr",
          "output_type": "stream",
          "text": [
            "It: 28300, Loss: 7.062e-01, Loss_bcs: 8.401e-03, Loss_res: 6.978e-01 ,Time: 0.00\n",
            "Compute NTK...\n"
          ]
        },
        {
          "name": "stdout",
          "output_type": "stream",
          "text": [
            "63.63193\n"
          ]
        },
        {
          "name": "stderr",
          "output_type": "stream",
          "text": [
            "It: 28400, Loss: 7.021e-01, Loss_bcs: 8.323e-03, Loss_res: 6.938e-01 ,Time: 0.00\n",
            "Compute NTK...\n"
          ]
        },
        {
          "name": "stdout",
          "output_type": "stream",
          "text": [
            "63.84833\n"
          ]
        },
        {
          "name": "stderr",
          "output_type": "stream",
          "text": [
            "It: 28500, Loss: 6.981e-01, Loss_bcs: 8.247e-03, Loss_res: 6.898e-01 ,Time: 0.00\n",
            "Compute NTK...\n"
          ]
        },
        {
          "name": "stdout",
          "output_type": "stream",
          "text": [
            "64.000916\n"
          ]
        },
        {
          "name": "stderr",
          "output_type": "stream",
          "text": [
            "It: 28600, Loss: 6.941e-01, Loss_bcs: 8.172e-03, Loss_res: 6.859e-01 ,Time: 0.00\n",
            "Compute NTK...\n"
          ]
        },
        {
          "name": "stdout",
          "output_type": "stream",
          "text": [
            "64.15916\n"
          ]
        },
        {
          "name": "stderr",
          "output_type": "stream",
          "text": [
            "It: 28700, Loss: 6.901e-01, Loss_bcs: 8.097e-03, Loss_res: 6.820e-01 ,Time: 0.00\n",
            "Compute NTK...\n"
          ]
        },
        {
          "name": "stdout",
          "output_type": "stream",
          "text": [
            "64.29603\n"
          ]
        },
        {
          "name": "stderr",
          "output_type": "stream",
          "text": [
            "It: 28800, Loss: 6.862e-01, Loss_bcs: 8.027e-03, Loss_res: 6.782e-01 ,Time: 0.00\n",
            "Compute NTK...\n"
          ]
        },
        {
          "name": "stdout",
          "output_type": "stream",
          "text": [
            "64.33907\n"
          ]
        },
        {
          "name": "stderr",
          "output_type": "stream",
          "text": [
            "It: 28900, Loss: 6.824e-01, Loss_bcs: 7.955e-03, Loss_res: 6.744e-01 ,Time: 0.00\n",
            "Compute NTK...\n"
          ]
        },
        {
          "name": "stdout",
          "output_type": "stream",
          "text": [
            "64.29289\n"
          ]
        },
        {
          "name": "stderr",
          "output_type": "stream",
          "text": [
            "It: 29000, Loss: 6.785e-01, Loss_bcs: 7.882e-03, Loss_res: 6.707e-01 ,Time: 0.00\n",
            "Compute NTK...\n"
          ]
        },
        {
          "name": "stdout",
          "output_type": "stream",
          "text": [
            "64.23526\n"
          ]
        },
        {
          "name": "stderr",
          "output_type": "stream",
          "text": [
            "It: 29100, Loss: 6.747e-01, Loss_bcs: 7.811e-03, Loss_res: 6.669e-01 ,Time: 0.00\n",
            "Compute NTK...\n"
          ]
        },
        {
          "name": "stdout",
          "output_type": "stream",
          "text": [
            "64.087456\n"
          ]
        },
        {
          "name": "stderr",
          "output_type": "stream",
          "text": [
            "It: 29200, Loss: 6.710e-01, Loss_bcs: 7.743e-03, Loss_res: 6.632e-01 ,Time: 0.00\n",
            "Compute NTK...\n"
          ]
        },
        {
          "name": "stdout",
          "output_type": "stream",
          "text": [
            "63.562702\n"
          ]
        },
        {
          "name": "stderr",
          "output_type": "stream",
          "text": [
            "It: 29300, Loss: 6.672e-01, Loss_bcs: 7.676e-03, Loss_res: 6.596e-01 ,Time: 0.00\n",
            "Compute NTK...\n"
          ]
        },
        {
          "name": "stdout",
          "output_type": "stream",
          "text": [
            "63.602314\n"
          ]
        },
        {
          "name": "stderr",
          "output_type": "stream",
          "text": [
            "It: 29400, Loss: 6.635e-01, Loss_bcs: 7.610e-03, Loss_res: 6.559e-01 ,Time: 0.00\n",
            "Compute NTK...\n"
          ]
        },
        {
          "name": "stdout",
          "output_type": "stream",
          "text": [
            "63.90914\n"
          ]
        },
        {
          "name": "stderr",
          "output_type": "stream",
          "text": [
            "It: 29500, Loss: 6.599e-01, Loss_bcs: 7.543e-03, Loss_res: 6.523e-01 ,Time: 0.00\n",
            "Compute NTK...\n"
          ]
        },
        {
          "name": "stdout",
          "output_type": "stream",
          "text": [
            "63.991917\n"
          ]
        },
        {
          "name": "stderr",
          "output_type": "stream",
          "text": [
            "It: 29600, Loss: 6.562e-01, Loss_bcs: 7.474e-03, Loss_res: 6.488e-01 ,Time: 0.00\n",
            "Compute NTK...\n"
          ]
        },
        {
          "name": "stdout",
          "output_type": "stream",
          "text": [
            "64.06512\n"
          ]
        },
        {
          "name": "stderr",
          "output_type": "stream",
          "text": [
            "It: 29700, Loss: 6.527e-01, Loss_bcs: 7.405e-03, Loss_res: 6.453e-01 ,Time: 0.00\n",
            "Compute NTK...\n"
          ]
        },
        {
          "name": "stdout",
          "output_type": "stream",
          "text": [
            "64.293915\n"
          ]
        },
        {
          "name": "stderr",
          "output_type": "stream",
          "text": [
            "It: 29800, Loss: 6.491e-01, Loss_bcs: 7.338e-03, Loss_res: 6.418e-01 ,Time: 0.00\n",
            "Compute NTK...\n"
          ]
        },
        {
          "name": "stdout",
          "output_type": "stream",
          "text": [
            "64.446175\n"
          ]
        },
        {
          "name": "stderr",
          "output_type": "stream",
          "text": [
            "It: 29900, Loss: 6.456e-01, Loss_bcs: 7.271e-03, Loss_res: 6.383e-01 ,Time: 0.00\n",
            "Compute NTK...\n"
          ]
        },
        {
          "name": "stdout",
          "output_type": "stream",
          "text": [
            "64.56741\n"
          ]
        },
        {
          "name": "stderr",
          "output_type": "stream",
          "text": [
            "It: 30000, Loss: 6.421e-01, Loss_bcs: 7.209e-03, Loss_res: 6.349e-01 ,Time: 0.00\n",
            "Compute NTK...\n"
          ]
        },
        {
          "name": "stdout",
          "output_type": "stream",
          "text": [
            "64.560844\n"
          ]
        },
        {
          "name": "stderr",
          "output_type": "stream",
          "text": [
            "It: 30100, Loss: 6.386e-01, Loss_bcs: 7.151e-03, Loss_res: 6.315e-01 ,Time: 0.00\n",
            "Compute NTK...\n"
          ]
        },
        {
          "name": "stdout",
          "output_type": "stream",
          "text": [
            "64.09633\n"
          ]
        },
        {
          "name": "stderr",
          "output_type": "stream",
          "text": [
            "It: 30200, Loss: 6.352e-01, Loss_bcs: 7.091e-03, Loss_res: 6.281e-01 ,Time: 0.00\n",
            "Compute NTK...\n"
          ]
        },
        {
          "name": "stdout",
          "output_type": "stream",
          "text": [
            "63.354584\n"
          ]
        },
        {
          "name": "stderr",
          "output_type": "stream",
          "text": [
            "It: 30300, Loss: 6.318e-01, Loss_bcs: 7.029e-03, Loss_res: 6.248e-01 ,Time: 0.00\n",
            "Compute NTK...\n"
          ]
        },
        {
          "name": "stdout",
          "output_type": "stream",
          "text": [
            "63.323017\n"
          ]
        },
        {
          "name": "stderr",
          "output_type": "stream",
          "text": [
            "It: 30400, Loss: 6.284e-01, Loss_bcs: 6.971e-03, Loss_res: 6.215e-01 ,Time: 0.00\n",
            "Compute NTK...\n"
          ]
        },
        {
          "name": "stdout",
          "output_type": "stream",
          "text": [
            "63.28416\n"
          ]
        },
        {
          "name": "stderr",
          "output_type": "stream",
          "text": [
            "It: 30500, Loss: 6.251e-01, Loss_bcs: 6.916e-03, Loss_res: 6.182e-01 ,Time: 0.00\n",
            "Compute NTK...\n"
          ]
        },
        {
          "name": "stdout",
          "output_type": "stream",
          "text": [
            "63.07738\n"
          ]
        },
        {
          "name": "stderr",
          "output_type": "stream",
          "text": [
            "It: 30600, Loss: 6.218e-01, Loss_bcs: 6.860e-03, Loss_res: 6.149e-01 ,Time: 0.00\n",
            "Compute NTK...\n"
          ]
        },
        {
          "name": "stdout",
          "output_type": "stream",
          "text": [
            "63.197765\n"
          ]
        },
        {
          "name": "stderr",
          "output_type": "stream",
          "text": [
            "It: 30700, Loss: 6.185e-01, Loss_bcs: 6.804e-03, Loss_res: 6.117e-01 ,Time: 0.01\n",
            "Compute NTK...\n"
          ]
        },
        {
          "name": "stdout",
          "output_type": "stream",
          "text": [
            "63.559692\n"
          ]
        },
        {
          "name": "stderr",
          "output_type": "stream",
          "text": [
            "It: 30800, Loss: 6.153e-01, Loss_bcs: 6.746e-03, Loss_res: 6.085e-01 ,Time: 0.00\n",
            "Compute NTK...\n"
          ]
        },
        {
          "name": "stdout",
          "output_type": "stream",
          "text": [
            "64.1292\n"
          ]
        },
        {
          "name": "stderr",
          "output_type": "stream",
          "text": [
            "It: 30900, Loss: 6.121e-01, Loss_bcs: 6.690e-03, Loss_res: 6.054e-01 ,Time: 0.00\n",
            "Compute NTK...\n"
          ]
        },
        {
          "name": "stdout",
          "output_type": "stream",
          "text": [
            "63.923737\n"
          ]
        },
        {
          "name": "stderr",
          "output_type": "stream",
          "text": [
            "It: 31000, Loss: 6.089e-01, Loss_bcs: 6.634e-03, Loss_res: 6.022e-01 ,Time: 0.00\n",
            "Compute NTK...\n"
          ]
        },
        {
          "name": "stdout",
          "output_type": "stream",
          "text": [
            "63.067062\n"
          ]
        },
        {
          "name": "stderr",
          "output_type": "stream",
          "text": [
            "It: 31100, Loss: 6.057e-01, Loss_bcs: 6.579e-03, Loss_res: 5.991e-01 ,Time: 0.00\n",
            "Compute NTK...\n"
          ]
        },
        {
          "name": "stdout",
          "output_type": "stream",
          "text": [
            "62.81586\n"
          ]
        },
        {
          "name": "stderr",
          "output_type": "stream",
          "text": [
            "It: 31200, Loss: 6.026e-01, Loss_bcs: 6.525e-03, Loss_res: 5.961e-01 ,Time: 0.00\n",
            "Compute NTK...\n"
          ]
        },
        {
          "name": "stdout",
          "output_type": "stream",
          "text": [
            "62.903667\n"
          ]
        },
        {
          "name": "stderr",
          "output_type": "stream",
          "text": [
            "It: 31300, Loss: 5.995e-01, Loss_bcs: 6.473e-03, Loss_res: 5.930e-01 ,Time: 0.00\n",
            "Compute NTK...\n"
          ]
        },
        {
          "name": "stdout",
          "output_type": "stream",
          "text": [
            "62.912342\n"
          ]
        },
        {
          "name": "stderr",
          "output_type": "stream",
          "text": [
            "It: 31400, Loss: 5.964e-01, Loss_bcs: 6.423e-03, Loss_res: 5.900e-01 ,Time: 0.00\n",
            "Compute NTK...\n"
          ]
        },
        {
          "name": "stdout",
          "output_type": "stream",
          "text": [
            "62.822952\n"
          ]
        },
        {
          "name": "stderr",
          "output_type": "stream",
          "text": [
            "It: 31500, Loss: 5.934e-01, Loss_bcs: 6.375e-03, Loss_res: 5.870e-01 ,Time: 0.00\n",
            "Compute NTK...\n"
          ]
        },
        {
          "name": "stdout",
          "output_type": "stream",
          "text": [
            "62.774277\n"
          ]
        },
        {
          "name": "stderr",
          "output_type": "stream",
          "text": [
            "It: 31600, Loss: 5.903e-01, Loss_bcs: 6.327e-03, Loss_res: 5.840e-01 ,Time: 0.00\n",
            "Compute NTK...\n"
          ]
        },
        {
          "name": "stdout",
          "output_type": "stream",
          "text": [
            "63.170525\n"
          ]
        },
        {
          "name": "stderr",
          "output_type": "stream",
          "text": [
            "It: 31700, Loss: 5.873e-01, Loss_bcs: 6.279e-03, Loss_res: 5.810e-01 ,Time: 0.00\n",
            "Compute NTK...\n"
          ]
        },
        {
          "name": "stdout",
          "output_type": "stream",
          "text": [
            "62.79701\n"
          ]
        },
        {
          "name": "stderr",
          "output_type": "stream",
          "text": [
            "It: 31800, Loss: 5.843e-01, Loss_bcs: 6.230e-03, Loss_res: 5.781e-01 ,Time: 0.00\n",
            "Compute NTK...\n"
          ]
        },
        {
          "name": "stdout",
          "output_type": "stream",
          "text": [
            "62.230217\n"
          ]
        },
        {
          "name": "stderr",
          "output_type": "stream",
          "text": [
            "It: 31900, Loss: 5.814e-01, Loss_bcs: 6.179e-03, Loss_res: 5.752e-01 ,Time: 0.00\n",
            "Compute NTK...\n"
          ]
        },
        {
          "name": "stdout",
          "output_type": "stream",
          "text": [
            "62.405495\n"
          ]
        },
        {
          "name": "stderr",
          "output_type": "stream",
          "text": [
            "It: 32000, Loss: 5.785e-01, Loss_bcs: 6.127e-03, Loss_res: 5.723e-01 ,Time: 0.00\n",
            "Compute NTK...\n"
          ]
        },
        {
          "name": "stdout",
          "output_type": "stream",
          "text": [
            "62.45753\n"
          ]
        },
        {
          "name": "stderr",
          "output_type": "stream",
          "text": [
            "It: 32100, Loss: 5.756e-01, Loss_bcs: 6.076e-03, Loss_res: 5.695e-01 ,Time: 0.00\n",
            "Compute NTK...\n"
          ]
        },
        {
          "name": "stdout",
          "output_type": "stream",
          "text": [
            "62.67946\n"
          ]
        },
        {
          "name": "stderr",
          "output_type": "stream",
          "text": [
            "It: 32200, Loss: 5.727e-01, Loss_bcs: 6.024e-03, Loss_res: 5.666e-01 ,Time: 0.00\n",
            "Compute NTK...\n"
          ]
        },
        {
          "name": "stdout",
          "output_type": "stream",
          "text": [
            "62.782322\n"
          ]
        },
        {
          "name": "stderr",
          "output_type": "stream",
          "text": [
            "It: 32300, Loss: 5.698e-01, Loss_bcs: 5.971e-03, Loss_res: 5.638e-01 ,Time: 0.00\n",
            "Compute NTK...\n"
          ]
        },
        {
          "name": "stdout",
          "output_type": "stream",
          "text": [
            "63.101543\n"
          ]
        },
        {
          "name": "stderr",
          "output_type": "stream",
          "text": [
            "It: 32400, Loss: 5.670e-01, Loss_bcs: 5.919e-03, Loss_res: 5.611e-01 ,Time: 0.00\n",
            "Compute NTK...\n"
          ]
        },
        {
          "name": "stdout",
          "output_type": "stream",
          "text": [
            "63.107517\n"
          ]
        },
        {
          "name": "stderr",
          "output_type": "stream",
          "text": [
            "It: 32500, Loss: 5.642e-01, Loss_bcs: 5.868e-03, Loss_res: 5.583e-01 ,Time: 0.00\n",
            "Compute NTK...\n"
          ]
        },
        {
          "name": "stdout",
          "output_type": "stream",
          "text": [
            "63.291283\n"
          ]
        },
        {
          "name": "stderr",
          "output_type": "stream",
          "text": [
            "It: 32600, Loss: 5.614e-01, Loss_bcs: 5.815e-03, Loss_res: 5.556e-01 ,Time: 0.00\n",
            "Compute NTK...\n"
          ]
        },
        {
          "name": "stdout",
          "output_type": "stream",
          "text": [
            "62.671406\n"
          ]
        },
        {
          "name": "stderr",
          "output_type": "stream",
          "text": [
            "It: 32700, Loss: 5.586e-01, Loss_bcs: 5.763e-03, Loss_res: 5.529e-01 ,Time: 0.00\n",
            "Compute NTK...\n"
          ]
        },
        {
          "name": "stdout",
          "output_type": "stream",
          "text": [
            "62.230324\n"
          ]
        },
        {
          "name": "stderr",
          "output_type": "stream",
          "text": [
            "It: 32800, Loss: 5.559e-01, Loss_bcs: 5.712e-03, Loss_res: 5.502e-01 ,Time: 0.00\n",
            "Compute NTK...\n"
          ]
        },
        {
          "name": "stdout",
          "output_type": "stream",
          "text": [
            "62.070217\n"
          ]
        },
        {
          "name": "stderr",
          "output_type": "stream",
          "text": [
            "It: 32900, Loss: 5.532e-01, Loss_bcs: 5.661e-03, Loss_res: 5.475e-01 ,Time: 0.00\n",
            "Compute NTK...\n"
          ]
        },
        {
          "name": "stdout",
          "output_type": "stream",
          "text": [
            "62.13187\n"
          ]
        },
        {
          "name": "stderr",
          "output_type": "stream",
          "text": [
            "It: 33000, Loss: 5.505e-01, Loss_bcs: 5.613e-03, Loss_res: 5.449e-01 ,Time: 0.00\n",
            "Compute NTK...\n"
          ]
        },
        {
          "name": "stdout",
          "output_type": "stream",
          "text": [
            "62.189575\n"
          ]
        },
        {
          "name": "stderr",
          "output_type": "stream",
          "text": [
            "It: 33100, Loss: 5.478e-01, Loss_bcs: 5.567e-03, Loss_res: 5.423e-01 ,Time: 0.00\n",
            "Compute NTK...\n"
          ]
        },
        {
          "name": "stdout",
          "output_type": "stream",
          "text": [
            "62.41032\n"
          ]
        },
        {
          "name": "stderr",
          "output_type": "stream",
          "text": [
            "It: 33200, Loss: 5.452e-01, Loss_bcs: 5.524e-03, Loss_res: 5.396e-01 ,Time: 0.00\n",
            "Compute NTK...\n"
          ]
        },
        {
          "name": "stdout",
          "output_type": "stream",
          "text": [
            "62.54856\n"
          ]
        },
        {
          "name": "stderr",
          "output_type": "stream",
          "text": [
            "It: 33300, Loss: 5.425e-01, Loss_bcs: 5.483e-03, Loss_res: 5.370e-01 ,Time: 0.00\n",
            "Compute NTK...\n"
          ]
        },
        {
          "name": "stdout",
          "output_type": "stream",
          "text": [
            "62.711536\n"
          ]
        },
        {
          "name": "stderr",
          "output_type": "stream",
          "text": [
            "It: 33400, Loss: 5.399e-01, Loss_bcs: 5.443e-03, Loss_res: 5.345e-01 ,Time: 0.00\n",
            "Compute NTK...\n"
          ]
        },
        {
          "name": "stdout",
          "output_type": "stream",
          "text": [
            "62.634243\n"
          ]
        },
        {
          "name": "stderr",
          "output_type": "stream",
          "text": [
            "It: 33500, Loss: 5.373e-01, Loss_bcs: 5.404e-03, Loss_res: 5.319e-01 ,Time: 0.00\n",
            "Compute NTK...\n"
          ]
        },
        {
          "name": "stdout",
          "output_type": "stream",
          "text": [
            "62.313126\n"
          ]
        },
        {
          "name": "stderr",
          "output_type": "stream",
          "text": [
            "It: 33600, Loss: 5.348e-01, Loss_bcs: 5.366e-03, Loss_res: 5.294e-01 ,Time: 0.00\n",
            "Compute NTK...\n"
          ]
        },
        {
          "name": "stdout",
          "output_type": "stream",
          "text": [
            "61.73483\n"
          ]
        },
        {
          "name": "stderr",
          "output_type": "stream",
          "text": [
            "It: 33700, Loss: 5.322e-01, Loss_bcs: 5.326e-03, Loss_res: 5.269e-01 ,Time: 0.00\n",
            "Compute NTK...\n"
          ]
        },
        {
          "name": "stdout",
          "output_type": "stream",
          "text": [
            "61.420723\n"
          ]
        },
        {
          "name": "stderr",
          "output_type": "stream",
          "text": [
            "It: 33800, Loss: 5.297e-01, Loss_bcs: 5.287e-03, Loss_res: 5.244e-01 ,Time: 0.00\n",
            "Compute NTK...\n"
          ]
        },
        {
          "name": "stdout",
          "output_type": "stream",
          "text": [
            "61.587486\n"
          ]
        },
        {
          "name": "stderr",
          "output_type": "stream",
          "text": [
            "It: 33900, Loss: 5.272e-01, Loss_bcs: 5.248e-03, Loss_res: 5.220e-01 ,Time: 0.00\n",
            "Compute NTK...\n"
          ]
        },
        {
          "name": "stdout",
          "output_type": "stream",
          "text": [
            "61.64393\n"
          ]
        },
        {
          "name": "stderr",
          "output_type": "stream",
          "text": [
            "It: 34000, Loss: 5.247e-01, Loss_bcs: 5.209e-03, Loss_res: 5.195e-01 ,Time: 0.00\n",
            "Compute NTK...\n"
          ]
        },
        {
          "name": "stdout",
          "output_type": "stream",
          "text": [
            "61.71261\n"
          ]
        },
        {
          "name": "stderr",
          "output_type": "stream",
          "text": [
            "It: 34100, Loss: 5.223e-01, Loss_bcs: 5.170e-03, Loss_res: 5.171e-01 ,Time: 0.00\n",
            "Compute NTK...\n"
          ]
        },
        {
          "name": "stdout",
          "output_type": "stream",
          "text": [
            "61.80942\n"
          ]
        },
        {
          "name": "stderr",
          "output_type": "stream",
          "text": [
            "It: 34200, Loss: 5.198e-01, Loss_bcs: 5.132e-03, Loss_res: 5.147e-01 ,Time: 0.00\n",
            "Compute NTK...\n"
          ]
        },
        {
          "name": "stdout",
          "output_type": "stream",
          "text": [
            "61.987377\n"
          ]
        },
        {
          "name": "stderr",
          "output_type": "stream",
          "text": [
            "It: 34300, Loss: 5.174e-01, Loss_bcs: 5.096e-03, Loss_res: 5.123e-01 ,Time: 0.00\n",
            "Compute NTK...\n"
          ]
        },
        {
          "name": "stdout",
          "output_type": "stream",
          "text": [
            "62.009407\n"
          ]
        },
        {
          "name": "stderr",
          "output_type": "stream",
          "text": [
            "It: 34400, Loss: 5.150e-01, Loss_bcs: 5.059e-03, Loss_res: 5.099e-01 ,Time: 0.00\n",
            "Compute NTK...\n"
          ]
        },
        {
          "name": "stdout",
          "output_type": "stream",
          "text": [
            "62.36112\n"
          ]
        },
        {
          "name": "stderr",
          "output_type": "stream",
          "text": [
            "It: 34500, Loss: 5.126e-01, Loss_bcs: 5.023e-03, Loss_res: 5.076e-01 ,Time: 0.00\n",
            "Compute NTK...\n"
          ]
        },
        {
          "name": "stdout",
          "output_type": "stream",
          "text": [
            "61.82327\n"
          ]
        },
        {
          "name": "stderr",
          "output_type": "stream",
          "text": [
            "It: 34600, Loss: 5.102e-01, Loss_bcs: 4.983e-03, Loss_res: 5.052e-01 ,Time: 0.00\n",
            "Compute NTK...\n"
          ]
        },
        {
          "name": "stdout",
          "output_type": "stream",
          "text": [
            "61.182625\n"
          ]
        },
        {
          "name": "stderr",
          "output_type": "stream",
          "text": [
            "It: 34700, Loss: 5.079e-01, Loss_bcs: 4.944e-03, Loss_res: 5.029e-01 ,Time: 0.00\n",
            "Compute NTK...\n"
          ]
        },
        {
          "name": "stdout",
          "output_type": "stream",
          "text": [
            "60.682728\n"
          ]
        },
        {
          "name": "stderr",
          "output_type": "stream",
          "text": [
            "It: 34800, Loss: 5.055e-01, Loss_bcs: 4.906e-03, Loss_res: 5.006e-01 ,Time: 0.00\n",
            "Compute NTK...\n"
          ]
        },
        {
          "name": "stdout",
          "output_type": "stream",
          "text": [
            "60.877853\n"
          ]
        },
        {
          "name": "stderr",
          "output_type": "stream",
          "text": [
            "It: 34900, Loss: 5.032e-01, Loss_bcs: 4.867e-03, Loss_res: 4.984e-01 ,Time: 0.00\n",
            "Compute NTK...\n"
          ]
        },
        {
          "name": "stdout",
          "output_type": "stream",
          "text": [
            "60.821255\n"
          ]
        },
        {
          "name": "stderr",
          "output_type": "stream",
          "text": [
            "It: 35000, Loss: 5.009e-01, Loss_bcs: 4.829e-03, Loss_res: 4.961e-01 ,Time: 0.00\n",
            "Compute NTK...\n"
          ]
        },
        {
          "name": "stdout",
          "output_type": "stream",
          "text": [
            "60.934834\n"
          ]
        },
        {
          "name": "stderr",
          "output_type": "stream",
          "text": [
            "It: 35100, Loss: 4.987e-01, Loss_bcs: 4.791e-03, Loss_res: 4.939e-01 ,Time: 0.00\n",
            "Compute NTK...\n"
          ]
        },
        {
          "name": "stdout",
          "output_type": "stream",
          "text": [
            "61.062057\n"
          ]
        },
        {
          "name": "stderr",
          "output_type": "stream",
          "text": [
            "It: 35200, Loss: 4.964e-01, Loss_bcs: 4.754e-03, Loss_res: 4.916e-01 ,Time: 0.00\n",
            "Compute NTK...\n"
          ]
        },
        {
          "name": "stdout",
          "output_type": "stream",
          "text": [
            "61.19482\n"
          ]
        },
        {
          "name": "stderr",
          "output_type": "stream",
          "text": [
            "It: 35300, Loss: 4.941e-01, Loss_bcs: 4.717e-03, Loss_res: 4.894e-01 ,Time: 0.00\n",
            "Compute NTK...\n"
          ]
        },
        {
          "name": "stdout",
          "output_type": "stream",
          "text": [
            "61.348763\n"
          ]
        },
        {
          "name": "stderr",
          "output_type": "stream",
          "text": [
            "It: 35400, Loss: 4.919e-01, Loss_bcs: 4.679e-03, Loss_res: 4.872e-01 ,Time: 0.00\n",
            "Compute NTK...\n"
          ]
        },
        {
          "name": "stdout",
          "output_type": "stream",
          "text": [
            "61.68623\n"
          ]
        },
        {
          "name": "stderr",
          "output_type": "stream",
          "text": [
            "It: 35500, Loss: 4.897e-01, Loss_bcs: 4.642e-03, Loss_res: 4.850e-01 ,Time: 0.00\n",
            "Compute NTK...\n"
          ]
        },
        {
          "name": "stdout",
          "output_type": "stream",
          "text": [
            "61.567863\n"
          ]
        },
        {
          "name": "stderr",
          "output_type": "stream",
          "text": [
            "It: 35600, Loss: 4.875e-01, Loss_bcs: 4.607e-03, Loss_res: 4.829e-01 ,Time: 0.00\n",
            "Compute NTK...\n"
          ]
        },
        {
          "name": "stdout",
          "output_type": "stream",
          "text": [
            "61.42507\n"
          ]
        },
        {
          "name": "stderr",
          "output_type": "stream",
          "text": [
            "It: 35700, Loss: 4.853e-01, Loss_bcs: 4.572e-03, Loss_res: 4.808e-01 ,Time: 0.00\n",
            "Compute NTK...\n"
          ]
        },
        {
          "name": "stdout",
          "output_type": "stream",
          "text": [
            "61.18168\n"
          ]
        },
        {
          "name": "stderr",
          "output_type": "stream",
          "text": [
            "It: 35800, Loss: 4.832e-01, Loss_bcs: 4.538e-03, Loss_res: 4.786e-01 ,Time: 0.00\n",
            "Compute NTK...\n"
          ]
        },
        {
          "name": "stdout",
          "output_type": "stream",
          "text": [
            "60.94095\n"
          ]
        },
        {
          "name": "stderr",
          "output_type": "stream",
          "text": [
            "It: 35900, Loss: 4.810e-01, Loss_bcs: 4.507e-03, Loss_res: 4.765e-01 ,Time: 0.00\n",
            "Compute NTK...\n"
          ]
        },
        {
          "name": "stdout",
          "output_type": "stream",
          "text": [
            "60.932575\n"
          ]
        },
        {
          "name": "stderr",
          "output_type": "stream",
          "text": [
            "It: 36000, Loss: 4.789e-01, Loss_bcs: 4.475e-03, Loss_res: 4.744e-01 ,Time: 0.00\n",
            "Compute NTK...\n"
          ]
        },
        {
          "name": "stdout",
          "output_type": "stream",
          "text": [
            "61.057117\n"
          ]
        },
        {
          "name": "stderr",
          "output_type": "stream",
          "text": [
            "It: 36100, Loss: 4.768e-01, Loss_bcs: 4.445e-03, Loss_res: 4.723e-01 ,Time: 0.00\n",
            "Compute NTK...\n"
          ]
        },
        {
          "name": "stdout",
          "output_type": "stream",
          "text": [
            "61.279816\n"
          ]
        },
        {
          "name": "stderr",
          "output_type": "stream",
          "text": [
            "It: 36200, Loss: 4.747e-01, Loss_bcs: 4.415e-03, Loss_res: 4.703e-01 ,Time: 0.00\n",
            "Compute NTK...\n"
          ]
        },
        {
          "name": "stdout",
          "output_type": "stream",
          "text": [
            "61.597572\n"
          ]
        },
        {
          "name": "stderr",
          "output_type": "stream",
          "text": [
            "It: 36300, Loss: 4.726e-01, Loss_bcs: 4.385e-03, Loss_res: 4.682e-01 ,Time: 0.00\n",
            "Compute NTK...\n"
          ]
        },
        {
          "name": "stdout",
          "output_type": "stream",
          "text": [
            "61.969616\n"
          ]
        },
        {
          "name": "stderr",
          "output_type": "stream",
          "text": [
            "It: 36400, Loss: 4.705e-01, Loss_bcs: 4.356e-03, Loss_res: 4.662e-01 ,Time: 0.00\n",
            "Compute NTK...\n"
          ]
        },
        {
          "name": "stdout",
          "output_type": "stream",
          "text": [
            "62.175797\n"
          ]
        },
        {
          "name": "stderr",
          "output_type": "stream",
          "text": [
            "It: 36500, Loss: 4.684e-01, Loss_bcs: 4.328e-03, Loss_res: 4.641e-01 ,Time: 0.00\n",
            "Compute NTK...\n"
          ]
        },
        {
          "name": "stdout",
          "output_type": "stream",
          "text": [
            "61.908623\n"
          ]
        },
        {
          "name": "stderr",
          "output_type": "stream",
          "text": [
            "It: 36600, Loss: 4.664e-01, Loss_bcs: 4.298e-03, Loss_res: 4.621e-01 ,Time: 0.00\n",
            "Compute NTK...\n"
          ]
        },
        {
          "name": "stdout",
          "output_type": "stream",
          "text": [
            "61.729645\n"
          ]
        },
        {
          "name": "stderr",
          "output_type": "stream",
          "text": [
            "It: 36700, Loss: 4.644e-01, Loss_bcs: 4.269e-03, Loss_res: 4.601e-01 ,Time: 0.00\n",
            "Compute NTK...\n"
          ]
        },
        {
          "name": "stdout",
          "output_type": "stream",
          "text": [
            "61.309216\n"
          ]
        },
        {
          "name": "stderr",
          "output_type": "stream",
          "text": [
            "It: 36800, Loss: 4.624e-01, Loss_bcs: 4.238e-03, Loss_res: 4.581e-01 ,Time: 0.00\n",
            "Compute NTK...\n"
          ]
        },
        {
          "name": "stdout",
          "output_type": "stream",
          "text": [
            "60.950443\n"
          ]
        },
        {
          "name": "stderr",
          "output_type": "stream",
          "text": [
            "It: 36900, Loss: 4.603e-01, Loss_bcs: 4.206e-03, Loss_res: 4.561e-01 ,Time: 0.00\n",
            "Compute NTK...\n"
          ]
        },
        {
          "name": "stdout",
          "output_type": "stream",
          "text": [
            "61.21297\n"
          ]
        },
        {
          "name": "stderr",
          "output_type": "stream",
          "text": [
            "It: 37000, Loss: 4.584e-01, Loss_bcs: 4.177e-03, Loss_res: 4.542e-01 ,Time: 0.00\n",
            "Compute NTK...\n"
          ]
        },
        {
          "name": "stdout",
          "output_type": "stream",
          "text": [
            "61.290756\n"
          ]
        },
        {
          "name": "stderr",
          "output_type": "stream",
          "text": [
            "It: 37100, Loss: 4.564e-01, Loss_bcs: 4.149e-03, Loss_res: 4.522e-01 ,Time: 0.00\n",
            "Compute NTK...\n"
          ]
        },
        {
          "name": "stdout",
          "output_type": "stream",
          "text": [
            "61.548916\n"
          ]
        },
        {
          "name": "stderr",
          "output_type": "stream",
          "text": [
            "It: 37200, Loss: 4.544e-01, Loss_bcs: 4.121e-03, Loss_res: 4.503e-01 ,Time: 0.00\n",
            "Compute NTK...\n"
          ]
        },
        {
          "name": "stdout",
          "output_type": "stream",
          "text": [
            "61.65251\n"
          ]
        },
        {
          "name": "stderr",
          "output_type": "stream",
          "text": [
            "It: 37300, Loss: 4.525e-01, Loss_bcs: 4.094e-03, Loss_res: 4.484e-01 ,Time: 0.00\n",
            "Compute NTK...\n"
          ]
        },
        {
          "name": "stdout",
          "output_type": "stream",
          "text": [
            "61.624435\n"
          ]
        },
        {
          "name": "stderr",
          "output_type": "stream",
          "text": [
            "It: 37400, Loss: 4.506e-01, Loss_bcs: 4.065e-03, Loss_res: 4.465e-01 ,Time: 0.00\n",
            "Compute NTK...\n"
          ]
        },
        {
          "name": "stdout",
          "output_type": "stream",
          "text": [
            "60.989334\n"
          ]
        },
        {
          "name": "stderr",
          "output_type": "stream",
          "text": [
            "It: 37500, Loss: 4.487e-01, Loss_bcs: 4.035e-03, Loss_res: 4.446e-01 ,Time: 0.00\n",
            "Compute NTK...\n"
          ]
        },
        {
          "name": "stdout",
          "output_type": "stream",
          "text": [
            "60.303158\n"
          ]
        },
        {
          "name": "stderr",
          "output_type": "stream",
          "text": [
            "It: 37600, Loss: 4.467e-01, Loss_bcs: 4.004e-03, Loss_res: 4.427e-01 ,Time: 0.00\n",
            "Compute NTK...\n"
          ]
        },
        {
          "name": "stdout",
          "output_type": "stream",
          "text": [
            "60.054546\n"
          ]
        },
        {
          "name": "stderr",
          "output_type": "stream",
          "text": [
            "It: 37700, Loss: 4.449e-01, Loss_bcs: 3.973e-03, Loss_res: 4.409e-01 ,Time: 0.00\n",
            "Compute NTK...\n"
          ]
        },
        {
          "name": "stdout",
          "output_type": "stream",
          "text": [
            "59.999676\n"
          ]
        },
        {
          "name": "stderr",
          "output_type": "stream",
          "text": [
            "It: 37800, Loss: 4.430e-01, Loss_bcs: 3.943e-03, Loss_res: 4.390e-01 ,Time: 0.00\n",
            "Compute NTK...\n"
          ]
        },
        {
          "name": "stdout",
          "output_type": "stream",
          "text": [
            "60.27261\n"
          ]
        },
        {
          "name": "stderr",
          "output_type": "stream",
          "text": [
            "It: 37900, Loss: 4.411e-01, Loss_bcs: 3.913e-03, Loss_res: 4.372e-01 ,Time: 0.00\n",
            "Compute NTK...\n"
          ]
        },
        {
          "name": "stdout",
          "output_type": "stream",
          "text": [
            "60.378574\n"
          ]
        },
        {
          "name": "stderr",
          "output_type": "stream",
          "text": [
            "It: 38000, Loss: 4.393e-01, Loss_bcs: 3.885e-03, Loss_res: 4.354e-01 ,Time: 0.00\n",
            "Compute NTK...\n"
          ]
        },
        {
          "name": "stdout",
          "output_type": "stream",
          "text": [
            "60.276\n"
          ]
        },
        {
          "name": "stderr",
          "output_type": "stream",
          "text": [
            "It: 38100, Loss: 4.374e-01, Loss_bcs: 3.856e-03, Loss_res: 4.336e-01 ,Time: 0.00\n",
            "Compute NTK...\n"
          ]
        },
        {
          "name": "stdout",
          "output_type": "stream",
          "text": [
            "60.17311\n"
          ]
        },
        {
          "name": "stderr",
          "output_type": "stream",
          "text": [
            "It: 38200, Loss: 4.356e-01, Loss_bcs: 3.826e-03, Loss_res: 4.318e-01 ,Time: 0.00\n",
            "Compute NTK...\n"
          ]
        },
        {
          "name": "stdout",
          "output_type": "stream",
          "text": [
            "60.311157\n"
          ]
        },
        {
          "name": "stderr",
          "output_type": "stream",
          "text": [
            "It: 38300, Loss: 4.338e-01, Loss_bcs: 3.796e-03, Loss_res: 4.300e-01 ,Time: 0.00\n",
            "Compute NTK...\n"
          ]
        },
        {
          "name": "stdout",
          "output_type": "stream",
          "text": [
            "60.47732\n"
          ]
        },
        {
          "name": "stderr",
          "output_type": "stream",
          "text": [
            "It: 38400, Loss: 4.320e-01, Loss_bcs: 3.768e-03, Loss_res: 4.283e-01 ,Time: 0.00\n",
            "Compute NTK...\n"
          ]
        },
        {
          "name": "stdout",
          "output_type": "stream",
          "text": [
            "60.633766\n"
          ]
        },
        {
          "name": "stderr",
          "output_type": "stream",
          "text": [
            "It: 38500, Loss: 4.303e-01, Loss_bcs: 3.741e-03, Loss_res: 4.265e-01 ,Time: 0.00\n",
            "Compute NTK...\n"
          ]
        },
        {
          "name": "stdout",
          "output_type": "stream",
          "text": [
            "60.744564\n"
          ]
        },
        {
          "name": "stderr",
          "output_type": "stream",
          "text": [
            "It: 38600, Loss: 4.285e-01, Loss_bcs: 3.715e-03, Loss_res: 4.248e-01 ,Time: 0.00\n",
            "Compute NTK...\n"
          ]
        },
        {
          "name": "stdout",
          "output_type": "stream",
          "text": [
            "60.736816\n"
          ]
        },
        {
          "name": "stderr",
          "output_type": "stream",
          "text": [
            "It: 38700, Loss: 4.267e-01, Loss_bcs: 3.690e-03, Loss_res: 4.230e-01 ,Time: 0.00\n",
            "Compute NTK...\n"
          ]
        },
        {
          "name": "stdout",
          "output_type": "stream",
          "text": [
            "61.025707\n"
          ]
        },
        {
          "name": "stderr",
          "output_type": "stream",
          "text": [
            "It: 38800, Loss: 4.250e-01, Loss_bcs: 3.665e-03, Loss_res: 4.213e-01 ,Time: 0.00\n",
            "Compute NTK...\n"
          ]
        },
        {
          "name": "stdout",
          "output_type": "stream",
          "text": [
            "61.19307\n"
          ]
        },
        {
          "name": "stderr",
          "output_type": "stream",
          "text": [
            "It: 38900, Loss: 4.232e-01, Loss_bcs: 3.641e-03, Loss_res: 4.196e-01 ,Time: 0.00\n",
            "Compute NTK...\n"
          ]
        },
        {
          "name": "stdout",
          "output_type": "stream",
          "text": [
            "61.266445\n"
          ]
        },
        {
          "name": "stderr",
          "output_type": "stream",
          "text": [
            "It: 39000, Loss: 4.215e-01, Loss_bcs: 3.615e-03, Loss_res: 4.179e-01 ,Time: 0.00\n",
            "Compute NTK...\n"
          ]
        },
        {
          "name": "stdout",
          "output_type": "stream",
          "text": [
            "61.515385\n"
          ]
        },
        {
          "name": "stderr",
          "output_type": "stream",
          "text": [
            "It: 39100, Loss: 4.198e-01, Loss_bcs: 3.591e-03, Loss_res: 4.162e-01 ,Time: 0.00\n",
            "Compute NTK...\n"
          ]
        },
        {
          "name": "stdout",
          "output_type": "stream",
          "text": [
            "61.77411\n"
          ]
        },
        {
          "name": "stderr",
          "output_type": "stream",
          "text": [
            "It: 39200, Loss: 4.181e-01, Loss_bcs: 3.569e-03, Loss_res: 4.145e-01 ,Time: 0.00\n",
            "Compute NTK...\n"
          ]
        },
        {
          "name": "stdout",
          "output_type": "stream",
          "text": [
            "61.500065\n"
          ]
        },
        {
          "name": "stderr",
          "output_type": "stream",
          "text": [
            "It: 39300, Loss: 4.164e-01, Loss_bcs: 3.546e-03, Loss_res: 4.128e-01 ,Time: 0.00\n",
            "Compute NTK...\n"
          ]
        },
        {
          "name": "stdout",
          "output_type": "stream",
          "text": [
            "60.794586\n"
          ]
        },
        {
          "name": "stderr",
          "output_type": "stream",
          "text": [
            "It: 39400, Loss: 4.147e-01, Loss_bcs: 3.522e-03, Loss_res: 4.112e-01 ,Time: 0.00\n",
            "Compute NTK...\n"
          ]
        },
        {
          "name": "stdout",
          "output_type": "stream",
          "text": [
            "60.31314\n"
          ]
        },
        {
          "name": "stderr",
          "output_type": "stream",
          "text": [
            "It: 39500, Loss: 4.130e-01, Loss_bcs: 3.498e-03, Loss_res: 4.095e-01 ,Time: 0.00\n",
            "Compute NTK...\n"
          ]
        },
        {
          "name": "stdout",
          "output_type": "stream",
          "text": [
            "60.242516\n"
          ]
        },
        {
          "name": "stderr",
          "output_type": "stream",
          "text": [
            "It: 39600, Loss: 4.114e-01, Loss_bcs: 3.473e-03, Loss_res: 4.079e-01 ,Time: 0.00\n",
            "Compute NTK...\n"
          ]
        },
        {
          "name": "stdout",
          "output_type": "stream",
          "text": [
            "60.223015\n"
          ]
        },
        {
          "name": "stderr",
          "output_type": "stream",
          "text": [
            "It: 39700, Loss: 4.098e-01, Loss_bcs: 3.450e-03, Loss_res: 4.063e-01 ,Time: 0.00\n",
            "Compute NTK...\n"
          ]
        },
        {
          "name": "stdout",
          "output_type": "stream",
          "text": [
            "60.207302\n"
          ]
        },
        {
          "name": "stderr",
          "output_type": "stream",
          "text": [
            "It: 39800, Loss: 4.081e-01, Loss_bcs: 3.428e-03, Loss_res: 4.047e-01 ,Time: 0.00\n",
            "Compute NTK...\n"
          ]
        },
        {
          "name": "stdout",
          "output_type": "stream",
          "text": [
            "60.288155\n"
          ]
        },
        {
          "name": "stderr",
          "output_type": "stream",
          "text": [
            "It: 39900, Loss: 4.065e-01, Loss_bcs: 3.406e-03, Loss_res: 4.031e-01 ,Time: 0.00\n",
            "Compute NTK...\n"
          ]
        },
        {
          "name": "stdout",
          "output_type": "stream",
          "text": [
            "60.319122\n"
          ]
        },
        {
          "name": "stderr",
          "output_type": "stream",
          "text": [
            "/home/afrah2/anaconda3/envs/twoPhase/lib/python3.7/site-packages/seaborn/distributions.py:2619: FutureWarning: `distplot` is a deprecated function and will be removed in a future version. Please adapt your code to use either `displot` (a figure-level function with similar flexibility) or `kdeplot` (an axes-level function for kernel density plots).\n",
            "  warnings.warn(msg, FutureWarning)\n",
            "/home/afrah2/anaconda3/envs/twoPhase/lib/python3.7/site-packages/seaborn/distributions.py:2619: FutureWarning: `distplot` is a deprecated function and will be removed in a future version. Please adapt your code to use either `displot` (a figure-level function with similar flexibility) or `kdeplot` (an axes-level function for kernel density plots).\n",
            "  warnings.warn(msg, FutureWarning)\n",
            "/home/afrah2/anaconda3/envs/twoPhase/lib/python3.7/site-packages/seaborn/distributions.py:2619: FutureWarning: `distplot` is a deprecated function and will be removed in a future version. Please adapt your code to use either `displot` (a figure-level function with similar flexibility) or `kdeplot` (an axes-level function for kernel density plots).\n",
            "  warnings.warn(msg, FutureWarning)\n",
            "/home/afrah2/anaconda3/envs/twoPhase/lib/python3.7/site-packages/seaborn/distributions.py:2619: FutureWarning: `distplot` is a deprecated function and will be removed in a future version. Please adapt your code to use either `displot` (a figure-level function with similar flexibility) or `kdeplot` (an axes-level function for kernel density plots).\n",
            "  warnings.warn(msg, FutureWarning)\n",
            "Gradients information stored ...\n",
            "It: 40000, Loss: 4.049e-01, Loss_bcs: 3.384e-03, Loss_res: 4.015e-01 ,Time: 0.28\n",
            "Compute NTK...\n"
          ]
        },
        {
          "name": "stdout",
          "output_type": "stream",
          "text": [
            "60.450535\n"
          ]
        },
        {
          "name": "stderr",
          "output_type": "stream",
          "text": [
            "Save uv NN parameters successfully in %s ...checkpoints/Dec-09-2023_09-45-05-744989_M1\n",
            "Final loss total loss: 4.048842e-01\n",
            "Final loss loss_res: 4.015002e-01\n",
            "Final loss loss_bcs: 3.384044e-03\n",
            "elapsed: 8.03e+01\n",
            "Relative L2 error_u: 4.77e-02\n",
            "Relative L2 error_r: 4.85e-03\n",
            "elapsed: 8.03e+01\n",
            "Relative L2 error_u: 4.77e-02\n",
            "Relative L2 error_v: 4.85e-03\n"
          ]
        },
        {
          "name": "stdout",
          "output_type": "stream",
          "text": [
            "\n",
            "\n",
            "Method:  mini_batch\n",
            "\n",
            "average of time_list: 80.31276035308838\n",
            "average of error_u_list: 0.04768056150086055\n",
            "average of error_v_list: 0.004849228279190647\n"
          ]
        },
        {
          "ename": "TypeError",
          "evalue": "join() argument must be str or bytes, not 'dict'",
          "output_type": "error",
          "traceback": [
            "\u001b[0;31m---------------------------------------------------------------------------\u001b[0m",
            "\u001b[0;31mTypeError\u001b[0m                                 Traceback (most recent call last)",
            "\u001b[0;32m/tmp/ipykernel_8155/2373648866.py\u001b[0m in \u001b[0;36m<module>\u001b[0;34m\u001b[0m\n\u001b[1;32m    105\u001b[0m     \u001b[0;31m# scipy.io.savemat(\"M2_result_\"+str(iterations)+\"_\"+mtd+\".mat\" , {'time_list':np.array(time_list),'error_u_list':np.array(error_u_list),'error_f_list':np.array(error_f_list)})\u001b[0m\u001b[0;34m\u001b[0m\u001b[0;34m\u001b[0m\u001b[0;34m\u001b[0m\u001b[0m\n\u001b[1;32m    106\u001b[0m \u001b[0;34m\u001b[0m\u001b[0m\n\u001b[0;32m--> 107\u001b[0;31m     \u001b[0mscipy\u001b[0m\u001b[0;34m.\u001b[0m\u001b[0mio\u001b[0m\u001b[0;34m.\u001b[0m\u001b[0msavemat\u001b[0m\u001b[0;34m(\u001b[0m\u001b[0mos\u001b[0m\u001b[0;34m.\u001b[0m\u001b[0mpath\u001b[0m\u001b[0;34m.\u001b[0m\u001b[0mjoin\u001b[0m\u001b[0;34m(\u001b[0m\u001b[0mmodel\u001b[0m\u001b[0;34m.\u001b[0m\u001b[0mdirname\u001b[0m\u001b[0;34m,\u001b[0m\u001b[0;34m\"\"\u001b[0m\u001b[0;34m+\u001b[0m\u001b[0mmtd\u001b[0m\u001b[0;34m+\u001b[0m\u001b[0;34m\"_model\"\u001b[0m\u001b[0;34m+\u001b[0m\u001b[0mmode\u001b[0m\u001b[0;34m+\u001b[0m\u001b[0;34m\"_mb\"\u001b[0m\u001b[0;34m+\u001b[0m\u001b[0mstr\u001b[0m\u001b[0;34m(\u001b[0m\u001b[0mmbbatch_size\u001b[0m\u001b[0;34m)\u001b[0m\u001b[0;34m+\u001b[0m\u001b[0;34m\"_fb\"\u001b[0m\u001b[0;34m+\u001b[0m\u001b[0mstr\u001b[0m\u001b[0;34m(\u001b[0m\u001b[0mubatch_size\u001b[0m\u001b[0;34m)\u001b[0m\u001b[0;34m+\u001b[0m\u001b[0;34m\"_bc\"\u001b[0m\u001b[0;34m+\u001b[0m\u001b[0mstr\u001b[0m\u001b[0;34m(\u001b[0m\u001b[0mbcbatch_size\u001b[0m\u001b[0;34m)\u001b[0m\u001b[0;34m+\u001b[0m\u001b[0;34m\"_n\"\u001b[0m\u001b[0;34m+\u001b[0m\u001b[0mstr\u001b[0m\u001b[0;34m(\u001b[0m\u001b[0miterations\u001b[0m\u001b[0;34m)\u001b[0m\u001b[0;34m+\u001b[0m\u001b[0;34m\"_nIter\"\u001b[0m\u001b[0;34m+\u001b[0m\u001b[0mstr\u001b[0m\u001b[0;34m(\u001b[0m\u001b[0mnIter\u001b[0m\u001b[0;34m)\u001b[0m\u001b[0;34m+\u001b[0m\u001b[0;34m\".mat\"\u001b[0m \u001b[0;34m,\u001b[0m \u001b[0mresult_dict\u001b[0m\u001b[0;34m)\u001b[0m\u001b[0;34m)\u001b[0m\u001b[0;34m\u001b[0m\u001b[0;34m\u001b[0m\u001b[0m\n\u001b[0m\u001b[1;32m    108\u001b[0m \u001b[0;34m\u001b[0m\u001b[0m\n\u001b[1;32m    109\u001b[0m \u001b[0;34m\u001b[0m\u001b[0m\n",
            "\u001b[0;32m~/anaconda3/envs/twoPhase/lib/python3.7/posixpath.py\u001b[0m in \u001b[0;36mjoin\u001b[0;34m(a, *p)\u001b[0m\n\u001b[1;32m     92\u001b[0m                 \u001b[0mpath\u001b[0m \u001b[0;34m+=\u001b[0m \u001b[0msep\u001b[0m \u001b[0;34m+\u001b[0m \u001b[0mb\u001b[0m\u001b[0;34m\u001b[0m\u001b[0;34m\u001b[0m\u001b[0m\n\u001b[1;32m     93\u001b[0m     \u001b[0;32mexcept\u001b[0m \u001b[0;34m(\u001b[0m\u001b[0mTypeError\u001b[0m\u001b[0;34m,\u001b[0m \u001b[0mAttributeError\u001b[0m\u001b[0;34m,\u001b[0m \u001b[0mBytesWarning\u001b[0m\u001b[0;34m)\u001b[0m\u001b[0;34m:\u001b[0m\u001b[0;34m\u001b[0m\u001b[0;34m\u001b[0m\u001b[0m\n\u001b[0;32m---> 94\u001b[0;31m         \u001b[0mgenericpath\u001b[0m\u001b[0;34m.\u001b[0m\u001b[0m_check_arg_types\u001b[0m\u001b[0;34m(\u001b[0m\u001b[0;34m'join'\u001b[0m\u001b[0;34m,\u001b[0m \u001b[0ma\u001b[0m\u001b[0;34m,\u001b[0m \u001b[0;34m*\u001b[0m\u001b[0mp\u001b[0m\u001b[0;34m)\u001b[0m\u001b[0;34m\u001b[0m\u001b[0;34m\u001b[0m\u001b[0m\n\u001b[0m\u001b[1;32m     95\u001b[0m         \u001b[0;32mraise\u001b[0m\u001b[0;34m\u001b[0m\u001b[0;34m\u001b[0m\u001b[0m\n\u001b[1;32m     96\u001b[0m     \u001b[0;32mreturn\u001b[0m \u001b[0mpath\u001b[0m\u001b[0;34m\u001b[0m\u001b[0;34m\u001b[0m\u001b[0m\n",
            "\u001b[0;32m~/anaconda3/envs/twoPhase/lib/python3.7/genericpath.py\u001b[0m in \u001b[0;36m_check_arg_types\u001b[0;34m(funcname, *args)\u001b[0m\n\u001b[1;32m    151\u001b[0m         \u001b[0;32melse\u001b[0m\u001b[0;34m:\u001b[0m\u001b[0;34m\u001b[0m\u001b[0;34m\u001b[0m\u001b[0m\n\u001b[1;32m    152\u001b[0m             raise TypeError('%s() argument must be str or bytes, not %r' %\n\u001b[0;32m--> 153\u001b[0;31m                             (funcname, s.__class__.__name__)) from None\n\u001b[0m\u001b[1;32m    154\u001b[0m     \u001b[0;32mif\u001b[0m \u001b[0mhasstr\u001b[0m \u001b[0;32mand\u001b[0m \u001b[0mhasbytes\u001b[0m\u001b[0;34m:\u001b[0m\u001b[0;34m\u001b[0m\u001b[0;34m\u001b[0m\u001b[0m\n\u001b[1;32m    155\u001b[0m         \u001b[0;32mraise\u001b[0m \u001b[0mTypeError\u001b[0m\u001b[0;34m(\u001b[0m\u001b[0;34m\"Can't mix strings and bytes in path components\"\u001b[0m\u001b[0;34m)\u001b[0m \u001b[0;32mfrom\u001b[0m \u001b[0;32mNone\u001b[0m\u001b[0;34m\u001b[0m\u001b[0;34m\u001b[0m\u001b[0m\n",
            "\u001b[0;31mTypeError\u001b[0m: join() argument must be str or bytes, not 'dict'"
          ]
        }
      ],
      "source": []
    },
    {
      "cell_type": "code",
      "execution_count": null,
      "metadata": {},
      "outputs": [],
      "source": [
        "# Define model\n",
        "layers = [1, 512, 1]  \n",
        "# layers = [1, 512, 512, 512, 1]  \n"
      ]
    },
    {
      "cell_type": "code",
      "execution_count": null,
      "metadata": {
        "colab": {
          "base_uri": "https://localhost:8080/",
          "height": 369
        },
        "id": "Fw807UNzhu5z",
        "outputId": "929ae89c-3e10-4c56-e349-051441e8ab32"
      },
      "outputs": [],
      "source": [
        "loss_bcs = model.loss_bcs_log\n",
        "loss_res = model.loss_res_log\n",
        "\n",
        "fig = plt.figure(figsize=(6,5))\n",
        "plt.plot(loss_res, label='$\\mathcal{L}_{r}$')\n",
        "plt.plot(loss_bcs, label='$\\mathcal{L}_{b}$')\n",
        "plt.yscale('log')\n",
        "plt.xlabel('iterations')\n",
        "plt.ylabel('Loss')\n",
        "plt.legend()\n",
        "plt.tight_layout()\n",
        "plt.show()"
      ]
    },
    {
      "cell_type": "markdown",
      "metadata": {
        "id": "TFLIBq5xjZ3v"
      },
      "source": [
        "**Model Prediction**"
      ]
    },
    {
      "cell_type": "code",
      "execution_count": null,
      "metadata": {
        "colab": {
          "base_uri": "https://localhost:8080/"
        },
        "id": "To0PDN17cc0v",
        "outputId": "7284b31e-f2fe-41ab-93a9-4c2c91f94cde"
      },
      "outputs": [],
      "source": []
    },
    {
      "cell_type": "code",
      "execution_count": null,
      "metadata": {
        "colab": {
          "base_uri": "https://localhost:8080/",
          "height": 369
        },
        "id": "K428lOuXhdc8",
        "outputId": "b1e23055-178c-400c-8972-f3e7987e0892"
      },
      "outputs": [],
      "source": []
    },
    {
      "cell_type": "markdown",
      "metadata": {
        "id": "9EYdfKGLj6h0"
      },
      "source": [
        "**NTK Eigenvalues**"
      ]
    },
    {
      "cell_type": "code",
      "execution_count": null,
      "metadata": {
        "id": "e3dByeQjhBYj"
      },
      "outputs": [],
      "source": []
    },
    {
      "cell_type": "code",
      "execution_count": null,
      "metadata": {
        "colab": {
          "base_uri": "https://localhost:8080/",
          "height": 369
        },
        "id": "vSn3Q_1IhisN",
        "outputId": "4c713f42-11b2-4de9-8698-085eb54c164d"
      },
      "outputs": [],
      "source": []
    },
    {
      "cell_type": "markdown",
      "metadata": {
        "id": "pIS5UH81kOxT"
      },
      "source": [
        "**Change of NTK**"
      ]
    },
    {
      "cell_type": "code",
      "execution_count": null,
      "metadata": {
        "id": "wF4Q_iZshQ-0"
      },
      "outputs": [],
      "source": [
        "# Change of the NTK\n",
        "NTK_change_list = []\n",
        "K0 = K_list[0]\n",
        "for K in K_list:\n",
        "    diff = np.linalg.norm(K - K0) / np.linalg.norm(K0) \n",
        "    NTK_change_list.append(diff)"
      ]
    },
    {
      "cell_type": "code",
      "execution_count": null,
      "metadata": {
        "colab": {
          "base_uri": "https://localhost:8080/",
          "height": 338
        },
        "id": "E-_gPGpCkF4n",
        "outputId": "9893e038-907d-4425-bb6e-8ecdb2ad497d"
      },
      "outputs": [],
      "source": [
        "fig = plt.figure(figsize=(6,5))\n",
        "plt.plot(NTK_change_list)"
      ]
    },
    {
      "cell_type": "markdown",
      "metadata": {
        "id": "Mg0ZGHbAkW6N"
      },
      "source": [
        "\n",
        "**Change of NN Params**"
      ]
    },
    {
      "cell_type": "code",
      "execution_count": null,
      "metadata": {
        "id": "LLGv9JUuioVZ"
      },
      "outputs": [],
      "source": [
        "# Change of the weights and biases\n",
        "def compute_weights_diff(weights_1, weights_2):\n",
        "    weights = []\n",
        "    N = len(weights_1)\n",
        "    for k in range(N):\n",
        "        weight = weights_1[k] - weights_2[k]\n",
        "        weights.append(weight)\n",
        "    return weights\n",
        "\n",
        "def compute_weights_norm(weights, biases):\n",
        "    norm = 0\n",
        "    for w in weights:\n",
        "        norm = norm + np.sum(np.square(w))\n",
        "    for b in biases:\n",
        "        norm = norm + np.sum(np.square(b))\n",
        "    norm = np.sqrt(norm)\n",
        "    return norm\n",
        "\n",
        "# Restore the list weights and biases\n",
        "weights_log = model.weights_log\n",
        "biases_log = model.biases_log\n",
        "\n",
        "weights_0 = weights_log[0]\n",
        "biases_0 = biases_log[0]\n",
        "\n",
        "# Norm of the weights at initialization\n",
        "weights_init_norm = compute_weights_norm(weights_0, biases_0)\n",
        "\n",
        "weights_change_list = []\n",
        "\n",
        "N = len(weights_log)\n",
        "for k in range(N):\n",
        "    weights_diff = compute_weights_diff(weights_log[k], weights_log[0])\n",
        "    biases_diff = compute_weights_diff(biases_log[k], biases_log[0])\n",
        "    \n",
        "    weights_diff_norm = compute_weights_norm(weights_diff, biases_diff)\n",
        "    weights_change = weights_diff_norm / weights_init_norm\n",
        "    weights_change_list.append(weights_change)"
      ]
    },
    {
      "cell_type": "code",
      "execution_count": null,
      "metadata": {
        "colab": {
          "base_uri": "https://localhost:8080/",
          "height": 338
        },
        "id": "5NLsAxgzi4KH",
        "outputId": "74d92bf9-0dde-438e-e9b3-a551904f4e2f"
      },
      "outputs": [],
      "source": [
        "fig = plt.figure(figsize=(6,5))\n",
        "plt.plot(weights_change_list)"
      ]
    },
    {
      "cell_type": "code",
      "execution_count": null,
      "metadata": {
        "id": "MYbzkhfMjJ8k"
      },
      "outputs": [],
      "source": []
    }
  ],
  "metadata": {
    "accelerator": "GPU",
    "colab": {
      "name": "PINNsNTK_Poisson.ipynb",
      "provenance": []
    },
    "kernelspec": {
      "display_name": "Python 3",
      "name": "python3"
    },
    "language_info": {
      "codemirror_mode": {
        "name": "ipython",
        "version": 3
      },
      "file_extension": ".py",
      "mimetype": "text/x-python",
      "name": "python",
      "nbconvert_exporter": "python",
      "pygments_lexer": "ipython3",
      "version": "3.7.13"
    }
  },
  "nbformat": 4,
  "nbformat_minor": 0
}
