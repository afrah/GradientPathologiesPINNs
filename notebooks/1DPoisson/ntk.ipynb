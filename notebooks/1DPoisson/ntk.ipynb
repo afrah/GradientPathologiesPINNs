{
  "cells": [
    {
      "cell_type": "code",
      "execution_count": 1,
      "metadata": {
        "id": "7WkCgnRiYQSY"
      },
      "outputs": [
        {
          "name": "stdout",
          "output_type": "stream",
          "text": [
            "src_path= /home/vlq26735/code/PhD/GradientPathologiesPINNs\n"
          ]
        }
      ],
      "source": [
        "%load_ext autoreload\n",
        "%autoreload 2\n",
        "\n",
        "import os\n",
        "\n",
        "\n",
        "import sys\n",
        "\n",
        "import scipy\n",
        "import scipy.io\n",
        "import time\n",
        "\n",
        "import os.path\n",
        "import warnings\n",
        "warnings.filterwarnings('ignore')\n",
        "os.environ[\"KMP_WARNINGS\"] = \"FALSE\"\n",
        "\n",
        "\n",
        "import tensorflow as tf\n",
        "import numpy as np\n",
        "from scipy.interpolate import griddata\n",
        "import matplotlib.pyplot as plt\n",
        "\n",
        "CHECKPOINT_PATH = \"/home/vlq26735/code/PhD/GradientPathologiesPINNs/checkpoints/1DPoisson/\"\n",
        "MODE = \"ntk\"\n",
        "\n",
        "src_path = os.path.abspath(os.path.join('../../'))\n",
        "print(f\"src_path= {src_path}\")\n",
        "\n",
        "if src_path not in sys.path:\n",
        "    sys.path.insert(0, src_path)\n",
        "\n",
        "\n",
        "from src.cases.Poisson import ntk\n",
        "\n"
      ]
    },
    {
      "cell_type": "code",
      "execution_count": 2,
      "metadata": {
        "id": "-y7cHTcJfBTR"
      },
      "outputs": [],
      "source": [
        "class Sampler:\n",
        "    # Initialize the class\n",
        "    def __init__(self, dim, coords, func, name=None):\n",
        "        self.dim = dim\n",
        "        self.coords = coords\n",
        "        self.func = func\n",
        "        self.name = name\n",
        "\n",
        "    def sample(self, N):\n",
        "        x = self.coords[0:1, :] + (self.coords[1:2, :] - self.coords[0:1, :]) * np.random.rand(N, self.dim)\n",
        "        y = self.func(x)\n",
        "        return x, y"
      ]
    },
    {
      "cell_type": "code",
      "execution_count": null,
      "metadata": {},
      "outputs": [],
      "source": []
    },
    {
      "cell_type": "code",
      "execution_count": 3,
      "metadata": {
        "id": "FN1jEdRwY90i"
      },
      "outputs": [],
      "source": [
        "# Define solution and its Laplace\n",
        "a = 4\n",
        "\n",
        "def u(x, a):\n",
        "  return np.sin(np.pi * a * x)\n",
        "\n",
        "def u_xx(x, a):\n",
        "  return -(np.pi * a)**2 * np.sin(np.pi * a * x)"
      ]
    },
    {
      "cell_type": "code",
      "execution_count": 4,
      "metadata": {},
      "outputs": [
        {
          "name": "stdout",
          "output_type": "stream",
          "text": [
            "WARNING:tensorflow:From /tmp/ipykernel_1536542/2195083110.py:40: The name tf.GPUOptions is deprecated. Please use tf.compat.v1.GPUOptions instead.\n",
            "\n",
            "WARNING:tensorflow:From /tmp/ipykernel_1536542/2195083110.py:41: The name tf.reset_default_graph is deprecated. Please use tf.compat.v1.reset_default_graph instead.\n",
            "\n",
            "WARNING:tensorflow:From /tmp/ipykernel_1536542/2195083110.py:42: The name tf.Session is deprecated. Please use tf.compat.v1.Session instead.\n",
            "\n",
            "WARNING:tensorflow:From /tmp/ipykernel_1536542/2195083110.py:42: The name tf.ConfigProto is deprecated. Please use tf.compat.v1.ConfigProto instead.\n",
            "\n"
          ]
        },
        {
          "name": "stderr",
          "output_type": "stream",
          "text": [
            "2024-02-28 07:24:28.529163: I tensorflow/core/platform/cpu_feature_guard.cc:145] This TensorFlow binary is optimized with Intel(R) MKL-DNN to use the following CPU instructions in performance critical operations:  SSE4.1 SSE4.2 AVX AVX2 FMA\n",
            "To enable them in non-MKL-DNN operations, rebuild TensorFlow with the appropriate compiler flags.\n",
            "2024-02-28 07:24:28.648337: I tensorflow/core/platform/profile_utils/cpu_utils.cc:94] CPU Frequency: 2445400000 Hz\n",
            "2024-02-28 07:24:28.648670: I tensorflow/compiler/xla/service/service.cc:168] XLA service 0x561b335aaf90 initialized for platform Host (this does not guarantee that XLA will be used). Devices:\n",
            "2024-02-28 07:24:28.648694: I tensorflow/compiler/xla/service/service.cc:176]   StreamExecutor device (0): Host, Default Version\n",
            "2024-02-28 07:24:28.648880: I tensorflow/core/common_runtime/process_util.cc:115] Creating new thread pool with default inter op setting: 2. Tune using inter_op_parallelism_threads for best performance.\n"
          ]
        },
        {
          "name": "stdout",
          "output_type": "stream",
          "text": [
            "WARNING:tensorflow:From /home/vlq26735/code/PhD/GradientPathologiesPINNs/src/cases/Poisson/ntk.py:57: The name tf.placeholder is deprecated. Please use tf.compat.v1.placeholder instead.\n",
            "\n",
            "WARNING:tensorflow:From /home/vlq26735/code/PhD/GradientPathologiesPINNs/src/cases/Poisson/ntk.py:96: The name tf.train.exponential_decay is deprecated. Please use tf.compat.v1.train.exponential_decay instead.\n",
            "\n",
            "WARNING:tensorflow:From /home/vlq26735/code/PhD/GradientPathologiesPINNs/src/cases/Poisson/ntk.py:101: The name tf.train.GradientDescentOptimizer is deprecated. Please use tf.compat.v1.train.GradientDescentOptimizer instead.\n",
            "\n",
            "WARNING:tensorflow:From /home/vlq26735/code/PhD/GradientPathologiesPINNs/src/cases/Poisson/ntk.py:113: The name tf.global_variables_initializer is deprecated. Please use tf.compat.v1.global_variables_initializer instead.\n",
            "\n"
          ]
        },
        {
          "name": "stderr",
          "output_type": "stream",
          "text": [
            "Using mode: ntk\n",
            "neural network: [1, 500, 500, 1]\n",
            "Bc1 Training data size : 50\n",
            "Bc2 Training data size : 50\n",
            "interior Training data size : 100\n",
            "Activation function: tanh\n",
            "number of iterations: 40001\n",
            "starter_learning_rate: 1.0000e-05\n",
            "Method desciption : gradual learing rate , with  mini-batch batch. \n"
          ]
        }
      ],
      "source": [
        "# Define computional domain\n",
        "bc1_coords = np.array([[0.0], [0.0]])\n",
        "bc2_coords = np.array([[1.0], [1.0]])\n",
        "dom_coords = np.array([[0.0], [1.0]])\n",
        "\n",
        "# Training data on u(x) -- Dirichlet boundary conditions\n",
        "\n",
        "nn  = 100\n",
        "\n",
        "X_bc1 = dom_coords[0, 0] * np.ones((nn // 2, 1))\n",
        "X_bc2 = dom_coords[1, 0] * np.ones((nn // 2, 1))\n",
        "X_u = np.vstack([X_bc1, X_bc2])\n",
        "Y_u = u(X_u, a)\n",
        "\n",
        "X_r = np.linspace(dom_coords[0, 0], dom_coords[1, 0], nn)[:, None]\n",
        "Y_r = u_xx(X_r, a)\n",
        "\n",
        "nn = 1000\n",
        "X_star = np.linspace(dom_coords[0, 0], dom_coords[1, 0], nn)[:, None]\n",
        "u_star = u(X_star, a)\n",
        "r_star = u_xx(X_star, a)\n",
        "\n",
        "nIter =40001\n",
        "bcbatch_size = 500\n",
        "ubatch_size = 5000\n",
        "mbbatch_size = 128\n",
        "\n",
        "\n",
        "\n",
        "# Define model\n",
        "mode = 'ntk'\n",
        "layers = [1, 500,500, 1]\n",
        "activFun = \"tanh\"\n",
        "method = \"mini-batch\"\n",
        "\n",
        "iterations = 1\n",
        "starter_learning_rate = 1.0e-5\n",
        "\n",
        "# Create residual sampler\n",
        "gpu_options = tf.GPUOptions(visible_device_list=\"0\")\n",
        "tf.reset_default_graph()\n",
        "sess = tf.Session(config=tf.ConfigProto(gpu_options=gpu_options,allow_soft_placement=False, log_device_placement=False))\n",
        "# with  as sess:\n",
        "\n",
        "model = ntk.Possion_ntk(layers, X_u, Y_u, X_r, Y_r , mode , starter_learning_rate, CHECKPOINT_PATH , sess)    \n",
        "\n",
        "\n",
        "model.print(\"Using mode: \" , model.mode)\n",
        "model.print(\"neural network: \" , model.layers )\n",
        "model.print(\"Bc1 Training data size : \" ,X_bc1.shape[0])\n",
        "model.print(\"Bc2 Training data size : \" ,X_bc2.shape[0])\n",
        "model.print(\"interior Training data size : \" ,X_r.shape[0])\n",
        "\n",
        "model.print(\"Activation function: \" , activFun)\n",
        "model.print(\"number of iterations: \" , nIter)\n",
        "model.print(\"starter_learning_rate: \" , starter_learning_rate)\n",
        "\n",
        "model.print(\"Method desciption : gradual learing rate , with  \" , method ,\" batch. \")\n"
      ]
    },
    {
      "cell_type": "code",
      "execution_count": 5,
      "metadata": {},
      "outputs": [
        {
          "name": "stdout",
          "output_type": "stream",
          "text": [
            "mini_batch method is used\n",
            "It: 0, Loss: 7.805e+03, Loss_bcs: 4.763e-01, Loss_res: 7.804e+03 ,Time: 13.41\n"
          ]
        },
        {
          "name": "stderr",
          "output_type": "stream",
          "text": [
            "mean_grad_bcs: 1.4757e-01\n",
            "mean_grad_res: 1.0063e+02\n"
          ]
        },
        {
          "name": "stdout",
          "output_type": "stream",
          "text": [
            "Compute NTK...\n"
          ]
        },
        {
          "name": "stderr",
          "output_type": "stream",
          "text": [
            "lam_res: 1.0047e+00\n",
            "lam_bc: 2.1386e+02\n",
            "Gradients information stored ...\n"
          ]
        },
        {
          "name": "stdout",
          "output_type": "stream",
          "text": [
            "It: 100, Loss: 1.821e+02, Loss_bcs: 3.720e+01, Loss_res: 1.449e+02 ,Time: 71.25\n"
          ]
        },
        {
          "name": "stderr",
          "output_type": "stream",
          "text": [
            "Gradients information stored ...\n"
          ]
        },
        {
          "name": "stdout",
          "output_type": "stream",
          "text": [
            "It: 200, Loss: 8.336e+01, Loss_bcs: 2.076e+01, Loss_res: 6.259e+01 ,Time: 118.80\n",
            "It: 300, Loss: 4.528e+01, Loss_bcs: 1.139e+01, Loss_res: 3.389e+01 ,Time: 140.36\n",
            "It: 400, Loss: 2.948e+01, Loss_bcs: 6.090e+00, Loss_res: 2.339e+01 ,Time: 161.47\n",
            "It: 500, Loss: 2.024e+01, Loss_bcs: 3.176e+00, Loss_res: 1.707e+01 ,Time: 183.03\n",
            "It: 600, Loss: 1.403e+01, Loss_bcs: 1.596e+00, Loss_res: 1.244e+01 ,Time: 204.35\n",
            "It: 700, Loss: 1.027e+01, Loss_bcs: 7.613e-01, Loss_res: 9.512e+00 ,Time: 226.38\n",
            "It: 800, Loss: 7.941e+00, Loss_bcs: 3.358e-01, Loss_res: 7.605e+00 ,Time: 248.74\n",
            "It: 900, Loss: 6.397e+00, Loss_bcs: 1.304e-01, Loss_res: 6.267e+00 ,Time: 270.58\n",
            "It: 1000, Loss: 5.316e+00, Loss_bcs: 3.997e-02, Loss_res: 5.276e+00 ,Time: 292.76\n"
          ]
        },
        {
          "name": "stderr",
          "output_type": "stream",
          "text": [
            "mean_grad_bcs: 5.6996e-02\n",
            "mean_grad_res: 3.1448e+00\n"
          ]
        },
        {
          "name": "stdout",
          "output_type": "stream",
          "text": [
            "Compute NTK...\n"
          ]
        },
        {
          "name": "stderr",
          "output_type": "stream",
          "text": [
            "lam_res: 1.0010e+00\n",
            "lam_bc: 1.0085e+03\n",
            "Gradients information stored ...\n"
          ]
        },
        {
          "name": "stdout",
          "output_type": "stream",
          "text": [
            "It: 1100, Loss: 4.527e+00, Loss_bcs: 6.985e-03, Loss_res: 4.520e+00 ,Time: 51.88\n",
            "It: 1200, Loss: 3.934e+00, Loss_bcs: 7.682e-04, Loss_res: 3.933e+00 ,Time: 73.38\n",
            "It: 1300, Loss: 3.477e+00, Loss_bcs: 5.554e-03, Loss_res: 3.471e+00 ,Time: 95.83\n",
            "It: 1400, Loss: 3.114e+00, Loss_bcs: 1.362e-02, Loss_res: 3.101e+00 ,Time: 117.53\n",
            "It: 1500, Loss: 2.821e+00, Loss_bcs: 2.146e-02, Loss_res: 2.799e+00 ,Time: 139.88\n",
            "It: 1600, Loss: 2.577e+00, Loss_bcs: 2.774e-02, Loss_res: 2.549e+00 ,Time: 162.03\n",
            "It: 1700, Loss: 2.371e+00, Loss_bcs: 3.214e-02, Loss_res: 2.339e+00 ,Time: 184.60\n",
            "It: 1800, Loss: 2.196e+00, Loss_bcs: 3.481e-02, Loss_res: 2.161e+00 ,Time: 206.55\n",
            "It: 1900, Loss: 2.044e+00, Loss_bcs: 3.605e-02, Loss_res: 2.008e+00 ,Time: 227.59\n",
            "It: 2000, Loss: 1.911e+00, Loss_bcs: 3.621e-02, Loss_res: 1.875e+00 ,Time: 249.06\n"
          ]
        },
        {
          "name": "stderr",
          "output_type": "stream",
          "text": [
            "mean_grad_bcs: 5.2914e-02\n",
            "mean_grad_res: 1.8716e+00\n"
          ]
        },
        {
          "name": "stdout",
          "output_type": "stream",
          "text": [
            "Compute NTK...\n"
          ]
        },
        {
          "name": "stderr",
          "output_type": "stream",
          "text": [
            "lam_res: 1.0010e+00\n",
            "lam_bc: 1.0016e+03\n"
          ]
        },
        {
          "name": "stdout",
          "output_type": "stream",
          "text": [
            "It: 2100, Loss: 1.794e+00, Loss_bcs: 3.558e-02, Loss_res: 1.758e+00 ,Time: 21.48\n",
            "It: 2200, Loss: 1.690e+00, Loss_bcs: 3.443e-02, Loss_res: 1.656e+00 ,Time: 43.21\n",
            "It: 2300, Loss: 1.597e+00, Loss_bcs: 3.294e-02, Loss_res: 1.564e+00 ,Time: 65.06\n",
            "It: 2400, Loss: 1.513e+00, Loss_bcs: 3.126e-02, Loss_res: 1.482e+00 ,Time: 86.81\n",
            "It: 2500, Loss: 1.437e+00, Loss_bcs: 2.949e-02, Loss_res: 1.408e+00 ,Time: 108.03\n",
            "It: 2600, Loss: 1.368e+00, Loss_bcs: 2.770e-02, Loss_res: 1.340e+00 ,Time: 129.19\n",
            "It: 2700, Loss: 1.304e+00, Loss_bcs: 2.596e-02, Loss_res: 1.278e+00 ,Time: 150.18\n",
            "It: 2800, Loss: 1.245e+00, Loss_bcs: 2.428e-02, Loss_res: 1.221e+00 ,Time: 172.34\n",
            "It: 2900, Loss: 1.190e+00, Loss_bcs: 2.268e-02, Loss_res: 1.168e+00 ,Time: 193.55\n",
            "It: 3000, Loss: 1.140e+00, Loss_bcs: 2.118e-02, Loss_res: 1.118e+00 ,Time: 214.79\n"
          ]
        },
        {
          "name": "stderr",
          "output_type": "stream",
          "text": [
            "mean_grad_bcs: 4.0458e-02\n",
            "mean_grad_res: 1.4056e+00\n"
          ]
        },
        {
          "name": "stdout",
          "output_type": "stream",
          "text": [
            "Compute NTK...\n"
          ]
        },
        {
          "name": "stderr",
          "output_type": "stream",
          "text": [
            "lam_res: 1.0010e+00\n",
            "lam_bc: 1.0059e+03\n"
          ]
        },
        {
          "name": "stdout",
          "output_type": "stream",
          "text": [
            "It: 3100, Loss: 1.092e+00, Loss_bcs: 1.978e-02, Loss_res: 1.072e+00 ,Time: 21.02\n",
            "It: 3200, Loss: 1.047e+00, Loss_bcs: 1.847e-02, Loss_res: 1.029e+00 ,Time: 42.58\n",
            "It: 3300, Loss: 1.006e+00, Loss_bcs: 1.727e-02, Loss_res: 9.883e-01 ,Time: 64.13\n",
            "It: 3400, Loss: 9.660e-01, Loss_bcs: 1.615e-02, Loss_res: 9.499e-01 ,Time: 85.89\n",
            "It: 3500, Loss: 9.284e-01, Loss_bcs: 1.511e-02, Loss_res: 9.133e-01 ,Time: 107.64\n",
            "It: 3600, Loss: 8.927e-01, Loss_bcs: 1.416e-02, Loss_res: 8.785e-01 ,Time: 129.39\n",
            "It: 3700, Loss: 8.591e-01, Loss_bcs: 1.327e-02, Loss_res: 8.458e-01 ,Time: 150.79\n",
            "It: 3800, Loss: 8.269e-01, Loss_bcs: 1.246e-02, Loss_res: 8.144e-01 ,Time: 172.29\n",
            "It: 3900, Loss: 7.961e-01, Loss_bcs: 1.170e-02, Loss_res: 7.844e-01 ,Time: 193.77\n",
            "It: 4000, Loss: 7.668e-01, Loss_bcs: 1.100e-02, Loss_res: 7.558e-01 ,Time: 215.03\n"
          ]
        },
        {
          "name": "stderr",
          "output_type": "stream",
          "text": [
            "mean_grad_bcs: 2.9253e-02\n",
            "mean_grad_res: 1.1058e+00\n"
          ]
        },
        {
          "name": "stdout",
          "output_type": "stream",
          "text": [
            "Compute NTK...\n"
          ]
        },
        {
          "name": "stderr",
          "output_type": "stream",
          "text": [
            "lam_res: 1.0010e+00\n",
            "lam_bc: 1.0090e+03\n"
          ]
        },
        {
          "name": "stdout",
          "output_type": "stream",
          "text": [
            "It: 4100, Loss: 7.384e-01, Loss_bcs: 1.035e-02, Loss_res: 7.280e-01 ,Time: 21.16\n",
            "It: 4200, Loss: 7.100e-01, Loss_bcs: 9.748e-03, Loss_res: 7.003e-01 ,Time: 42.37\n",
            "It: 4300, Loss: 6.801e-01, Loss_bcs: 9.185e-03, Loss_res: 6.709e-01 ,Time: 63.53\n",
            "It: 4400, Loss: 6.426e-01, Loss_bcs: 8.652e-03, Loss_res: 6.340e-01 ,Time: 85.10\n",
            "It: 4500, Loss: 6.063e-01, Loss_bcs: 8.085e-03, Loss_res: 5.982e-01 ,Time: 106.45\n",
            "It: 4600, Loss: 1.176e+00, Loss_bcs: 7.099e-03, Loss_res: 1.169e+00 ,Time: 128.55\n",
            "It: 4700, Loss: 8.958e-01, Loss_bcs: 6.674e-03, Loss_res: 8.891e-01 ,Time: 150.06\n",
            "It: 4800, Loss: 7.613e-01, Loss_bcs: 6.452e-03, Loss_res: 7.549e-01 ,Time: 172.02\n",
            "It: 4900, Loss: 6.852e-01, Loss_bcs: 6.233e-03, Loss_res: 6.790e-01 ,Time: 193.71\n",
            "It: 5000, Loss: 6.429e-01, Loss_bcs: 6.006e-03, Loss_res: 6.368e-01 ,Time: 215.71\n"
          ]
        },
        {
          "name": "stderr",
          "output_type": "stream",
          "text": [
            "mean_grad_bcs: 2.2100e-02\n",
            "mean_grad_res: 9.7985e-01\n"
          ]
        },
        {
          "name": "stdout",
          "output_type": "stream",
          "text": [
            "Compute NTK...\n"
          ]
        },
        {
          "name": "stderr",
          "output_type": "stream",
          "text": [
            "lam_res: 1.0010e+00\n",
            "lam_bc: 1.0011e+03\n"
          ]
        },
        {
          "name": "stdout",
          "output_type": "stream",
          "text": [
            "It: 5100, Loss: 6.124e-01, Loss_bcs: 5.768e-03, Loss_res: 6.067e-01 ,Time: 21.64\n",
            "It: 5200, Loss: 5.857e-01, Loss_bcs: 5.526e-03, Loss_res: 5.802e-01 ,Time: 41.69\n",
            "It: 5300, Loss: 5.629e-01, Loss_bcs: 5.286e-03, Loss_res: 5.577e-01 ,Time: 60.57\n",
            "It: 5400, Loss: 5.414e-01, Loss_bcs: 5.051e-03, Loss_res: 5.363e-01 ,Time: 79.18\n",
            "It: 5500, Loss: 5.220e-01, Loss_bcs: 4.822e-03, Loss_res: 5.172e-01 ,Time: 98.10\n",
            "It: 5600, Loss: 5.036e-01, Loss_bcs: 4.603e-03, Loss_res: 4.989e-01 ,Time: 116.88\n",
            "It: 5700, Loss: 4.863e-01, Loss_bcs: 4.392e-03, Loss_res: 4.819e-01 ,Time: 137.15\n",
            "It: 5800, Loss: 4.703e-01, Loss_bcs: 4.191e-03, Loss_res: 4.661e-01 ,Time: 157.30\n",
            "It: 5900, Loss: 4.548e-01, Loss_bcs: 4.000e-03, Loss_res: 4.508e-01 ,Time: 177.65\n",
            "It: 6000, Loss: 4.404e-01, Loss_bcs: 3.818e-03, Loss_res: 4.366e-01 ,Time: 197.87\n"
          ]
        },
        {
          "name": "stderr",
          "output_type": "stream",
          "text": [
            "mean_grad_bcs: 1.7481e-02\n",
            "mean_grad_res: 7.7588e-01\n"
          ]
        },
        {
          "name": "stdout",
          "output_type": "stream",
          "text": [
            "Compute NTK...\n"
          ]
        },
        {
          "name": "stderr",
          "output_type": "stream",
          "text": [
            "lam_res: 1.0010e+00\n",
            "lam_bc: 1.0070e+03\n"
          ]
        },
        {
          "name": "stdout",
          "output_type": "stream",
          "text": [
            "It: 6100, Loss: 4.267e-01, Loss_bcs: 3.646e-03, Loss_res: 4.231e-01 ,Time: 19.82\n",
            "It: 6200, Loss: 4.136e-01, Loss_bcs: 3.483e-03, Loss_res: 4.101e-01 ,Time: 40.00\n",
            "It: 6300, Loss: 4.011e-01, Loss_bcs: 3.329e-03, Loss_res: 3.978e-01 ,Time: 60.32\n",
            "It: 6400, Loss: 3.894e-01, Loss_bcs: 3.183e-03, Loss_res: 3.863e-01 ,Time: 80.71\n",
            "It: 6500, Loss: 3.780e-01, Loss_bcs: 3.044e-03, Loss_res: 3.749e-01 ,Time: 101.04\n",
            "It: 6600, Loss: 3.673e-01, Loss_bcs: 2.913e-03, Loss_res: 3.644e-01 ,Time: 121.39\n",
            "It: 6700, Loss: 3.568e-01, Loss_bcs: 2.789e-03, Loss_res: 3.540e-01 ,Time: 141.88\n",
            "It: 6800, Loss: 3.471e-01, Loss_bcs: 2.671e-03, Loss_res: 3.444e-01 ,Time: 162.34\n",
            "It: 6900, Loss: 3.375e-01, Loss_bcs: 2.560e-03, Loss_res: 3.349e-01 ,Time: 182.09\n",
            "It: 7000, Loss: 3.285e-01, Loss_bcs: 2.455e-03, Loss_res: 3.260e-01 ,Time: 201.11\n"
          ]
        },
        {
          "name": "stderr",
          "output_type": "stream",
          "text": [
            "mean_grad_bcs: 1.4008e-02\n",
            "mean_grad_res: 6.4484e-01\n"
          ]
        },
        {
          "name": "stdout",
          "output_type": "stream",
          "text": [
            "Compute NTK...\n"
          ]
        },
        {
          "name": "stderr",
          "output_type": "stream",
          "text": [
            "lam_res: 1.0010e+00\n",
            "lam_bc: 1.0116e+03\n"
          ]
        },
        {
          "name": "stdout",
          "output_type": "stream",
          "text": [
            "It: 7100, Loss: 3.197e-01, Loss_bcs: 2.355e-03, Loss_res: 3.174e-01 ,Time: 20.03\n",
            "It: 7200, Loss: 3.114e-01, Loss_bcs: 2.260e-03, Loss_res: 3.092e-01 ,Time: 40.35\n",
            "It: 7300, Loss: 3.032e-01, Loss_bcs: 2.170e-03, Loss_res: 3.011e-01 ,Time: 60.56\n",
            "It: 7400, Loss: 2.957e-01, Loss_bcs: 2.085e-03, Loss_res: 2.936e-01 ,Time: 80.90\n",
            "It: 7500, Loss: 2.882e-01, Loss_bcs: 2.004e-03, Loss_res: 2.862e-01 ,Time: 100.69\n",
            "It: 7600, Loss: 2.809e-01, Loss_bcs: 1.928e-03, Loss_res: 2.790e-01 ,Time: 120.10\n",
            "It: 7700, Loss: 2.742e-01, Loss_bcs: 1.854e-03, Loss_res: 2.723e-01 ,Time: 139.40\n",
            "It: 7800, Loss: 2.675e-01, Loss_bcs: 1.785e-03, Loss_res: 2.657e-01 ,Time: 159.41\n",
            "It: 7900, Loss: 2.612e-01, Loss_bcs: 1.719e-03, Loss_res: 2.594e-01 ,Time: 180.20\n",
            "It: 8000, Loss: 2.550e-01, Loss_bcs: 1.656e-03, Loss_res: 2.533e-01 ,Time: 200.09\n"
          ]
        },
        {
          "name": "stderr",
          "output_type": "stream",
          "text": [
            "mean_grad_bcs: 1.1498e-02\n",
            "mean_grad_res: 5.4717e-01\n"
          ]
        },
        {
          "name": "stdout",
          "output_type": "stream",
          "text": [
            "Compute NTK...\n"
          ]
        },
        {
          "name": "stderr",
          "output_type": "stream",
          "text": [
            "lam_res: 1.0010e+00\n",
            "lam_bc: 1.0156e+03\n"
          ]
        },
        {
          "name": "stdout",
          "output_type": "stream",
          "text": [
            "It: 8100, Loss: 2.490e-01, Loss_bcs: 1.597e-03, Loss_res: 2.474e-01 ,Time: 19.73\n",
            "It: 8200, Loss: 2.434e-01, Loss_bcs: 1.540e-03, Loss_res: 2.418e-01 ,Time: 40.51\n",
            "It: 8300, Loss: 2.377e-01, Loss_bcs: 1.485e-03, Loss_res: 2.363e-01 ,Time: 61.16\n",
            "It: 8400, Loss: 2.325e-01, Loss_bcs: 1.434e-03, Loss_res: 2.310e-01 ,Time: 80.38\n",
            "It: 8500, Loss: 2.274e-01, Loss_bcs: 1.384e-03, Loss_res: 2.260e-01 ,Time: 102.43\n",
            "It: 8600, Loss: 2.223e-01, Loss_bcs: 1.337e-03, Loss_res: 2.210e-01 ,Time: 124.85\n",
            "It: 8700, Loss: 2.175e-01, Loss_bcs: 1.292e-03, Loss_res: 2.162e-01 ,Time: 148.10\n",
            "It: 8800, Loss: 2.130e-01, Loss_bcs: 1.250e-03, Loss_res: 2.118e-01 ,Time: 170.25\n",
            "It: 8900, Loss: 2.085e-01, Loss_bcs: 1.209e-03, Loss_res: 2.073e-01 ,Time: 192.34\n",
            "It: 9000, Loss: 2.041e-01, Loss_bcs: 1.170e-03, Loss_res: 2.029e-01 ,Time: 214.11\n"
          ]
        },
        {
          "name": "stderr",
          "output_type": "stream",
          "text": [
            "mean_grad_bcs: 9.6494e-03\n",
            "mean_grad_res: 4.7144e-01\n"
          ]
        },
        {
          "name": "stdout",
          "output_type": "stream",
          "text": [
            "Compute NTK...\n"
          ]
        },
        {
          "name": "stderr",
          "output_type": "stream",
          "text": [
            "lam_res: 1.0010e+00\n",
            "lam_bc: 1.0193e+03\n"
          ]
        },
        {
          "name": "stdout",
          "output_type": "stream",
          "text": [
            "It: 9100, Loss: 1.999e-01, Loss_bcs: 1.132e-03, Loss_res: 1.988e-01 ,Time: 20.95\n",
            "It: 9200, Loss: 1.960e-01, Loss_bcs: 1.096e-03, Loss_res: 1.949e-01 ,Time: 43.40\n",
            "It: 9300, Loss: 1.919e-01, Loss_bcs: 1.062e-03, Loss_res: 1.908e-01 ,Time: 65.59\n",
            "It: 9400, Loss: 1.882e-01, Loss_bcs: 1.029e-03, Loss_res: 1.872e-01 ,Time: 85.71\n",
            "It: 9500, Loss: 1.846e-01, Loss_bcs: 9.982e-04, Loss_res: 1.836e-01 ,Time: 106.57\n",
            "It: 9600, Loss: 1.809e-01, Loss_bcs: 9.682e-04, Loss_res: 1.800e-01 ,Time: 128.62\n",
            "It: 9700, Loss: 1.774e-01, Loss_bcs: 9.394e-04, Loss_res: 1.765e-01 ,Time: 150.95\n",
            "It: 9800, Loss: 1.741e-01, Loss_bcs: 9.117e-04, Loss_res: 1.732e-01 ,Time: 172.63\n",
            "It: 9900, Loss: 1.710e-01, Loss_bcs: 8.853e-04, Loss_res: 1.701e-01 ,Time: 194.94\n",
            "It: 10000, Loss: 1.678e-01, Loss_bcs: 8.600e-04, Loss_res: 1.670e-01 ,Time: 217.44\n"
          ]
        },
        {
          "name": "stderr",
          "output_type": "stream",
          "text": [
            "mean_grad_bcs: 8.2608e-03\n",
            "mean_grad_res: 4.1205e-01\n"
          ]
        },
        {
          "name": "stdout",
          "output_type": "stream",
          "text": [
            "Compute NTK...\n"
          ]
        },
        {
          "name": "stderr",
          "output_type": "stream",
          "text": [
            "lam_res: 1.0010e+00\n",
            "lam_bc: 1.0229e+03\n"
          ]
        },
        {
          "name": "stdout",
          "output_type": "stream",
          "text": [
            "It: 10100, Loss: 1.647e-01, Loss_bcs: 8.356e-04, Loss_res: 1.639e-01 ,Time: 22.61\n",
            "It: 10200, Loss: 1.617e-01, Loss_bcs: 8.122e-04, Loss_res: 1.609e-01 ,Time: 44.95\n",
            "It: 10300, Loss: 1.590e-01, Loss_bcs: 7.897e-04, Loss_res: 1.582e-01 ,Time: 66.93\n",
            "It: 10400, Loss: 1.563e-01, Loss_bcs: 7.683e-04, Loss_res: 1.555e-01 ,Time: 89.46\n",
            "It: 10500, Loss: 1.535e-01, Loss_bcs: 7.477e-04, Loss_res: 1.528e-01 ,Time: 111.99\n",
            "It: 10600, Loss: 1.509e-01, Loss_bcs: 7.278e-04, Loss_res: 1.502e-01 ,Time: 134.30\n",
            "It: 10700, Loss: 1.485e-01, Loss_bcs: 7.086e-04, Loss_res: 1.478e-01 ,Time: 156.52\n",
            "It: 10800, Loss: 1.460e-01, Loss_bcs: 6.902e-04, Loss_res: 1.453e-01 ,Time: 178.62\n",
            "It: 10900, Loss: 1.436e-01, Loss_bcs: 6.726e-04, Loss_res: 1.429e-01 ,Time: 201.05\n",
            "It: 11000, Loss: 1.413e-01, Loss_bcs: 6.556e-04, Loss_res: 1.406e-01 ,Time: 223.49\n"
          ]
        },
        {
          "name": "stderr",
          "output_type": "stream",
          "text": [
            "mean_grad_bcs: 7.1999e-03\n",
            "mean_grad_res: 3.6482e-01\n"
          ]
        },
        {
          "name": "stdout",
          "output_type": "stream",
          "text": [
            "Compute NTK...\n"
          ]
        },
        {
          "name": "stderr",
          "output_type": "stream",
          "text": [
            "lam_res: 1.0010e+00\n",
            "lam_bc: 1.0263e+03\n"
          ]
        },
        {
          "name": "stdout",
          "output_type": "stream",
          "text": [
            "It: 11100, Loss: 1.391e-01, Loss_bcs: 6.393e-04, Loss_res: 1.384e-01 ,Time: 21.76\n",
            "It: 11200, Loss: 1.369e-01, Loss_bcs: 6.235e-04, Loss_res: 1.363e-01 ,Time: 43.90\n",
            "It: 11300, Loss: 1.347e-01, Loss_bcs: 6.083e-04, Loss_res: 1.341e-01 ,Time: 65.84\n",
            "It: 11400, Loss: 1.327e-01, Loss_bcs: 5.936e-04, Loss_res: 1.321e-01 ,Time: 87.77\n",
            "It: 11500, Loss: 1.308e-01, Loss_bcs: 5.795e-04, Loss_res: 1.302e-01 ,Time: 110.04\n",
            "It: 11600, Loss: 1.288e-01, Loss_bcs: 5.660e-04, Loss_res: 1.282e-01 ,Time: 132.53\n",
            "It: 11700, Loss: 1.269e-01, Loss_bcs: 5.529e-04, Loss_res: 1.264e-01 ,Time: 154.63\n",
            "It: 11800, Loss: 1.250e-01, Loss_bcs: 5.402e-04, Loss_res: 1.245e-01 ,Time: 176.75\n",
            "It: 11900, Loss: 1.234e-01, Loss_bcs: 5.280e-04, Loss_res: 1.228e-01 ,Time: 199.08\n",
            "It: 12000, Loss: 1.216e-01, Loss_bcs: 5.163e-04, Loss_res: 1.211e-01 ,Time: 221.43\n"
          ]
        },
        {
          "name": "stderr",
          "output_type": "stream",
          "text": [
            "mean_grad_bcs: 6.3769e-03\n",
            "mean_grad_res: 3.2812e-01\n"
          ]
        },
        {
          "name": "stdout",
          "output_type": "stream",
          "text": [
            "Compute NTK...\n"
          ]
        },
        {
          "name": "stderr",
          "output_type": "stream",
          "text": [
            "lam_res: 1.0010e+00\n",
            "lam_bc: 1.0295e+03\n"
          ]
        },
        {
          "name": "stdout",
          "output_type": "stream",
          "text": [
            "It: 12100, Loss: 1.199e-01, Loss_bcs: 5.048e-04, Loss_res: 1.194e-01 ,Time: 22.60\n",
            "It: 12200, Loss: 1.182e-01, Loss_bcs: 4.937e-04, Loss_res: 1.177e-01 ,Time: 44.84\n",
            "It: 12300, Loss: 1.167e-01, Loss_bcs: 4.830e-04, Loss_res: 1.162e-01 ,Time: 66.91\n",
            "It: 12400, Loss: 1.152e-01, Loss_bcs: 4.727e-04, Loss_res: 1.147e-01 ,Time: 89.42\n",
            "It: 12500, Loss: 1.137e-01, Loss_bcs: 4.628e-04, Loss_res: 1.132e-01 ,Time: 111.33\n",
            "It: 12600, Loss: 1.122e-01, Loss_bcs: 4.532e-04, Loss_res: 1.117e-01 ,Time: 132.44\n",
            "It: 12700, Loss: 1.106e-01, Loss_bcs: 4.439e-04, Loss_res: 1.102e-01 ,Time: 153.11\n",
            "It: 12800, Loss: 1.093e-01, Loss_bcs: 4.349e-04, Loss_res: 1.089e-01 ,Time: 173.31\n",
            "It: 12900, Loss: 1.080e-01, Loss_bcs: 4.262e-04, Loss_res: 1.076e-01 ,Time: 193.69\n",
            "It: 13000, Loss: 1.067e-01, Loss_bcs: 4.178e-04, Loss_res: 1.063e-01 ,Time: 214.10\n"
          ]
        },
        {
          "name": "stderr",
          "output_type": "stream",
          "text": [
            "mean_grad_bcs: 5.7266e-03\n",
            "mean_grad_res: 2.9963e-01\n"
          ]
        },
        {
          "name": "stdout",
          "output_type": "stream",
          "text": [
            "Compute NTK...\n"
          ]
        },
        {
          "name": "stderr",
          "output_type": "stream",
          "text": [
            "lam_res: 1.0010e+00\n",
            "lam_bc: 1.0326e+03\n"
          ]
        },
        {
          "name": "stdout",
          "output_type": "stream",
          "text": [
            "It: 13100, Loss: 1.055e-01, Loss_bcs: 4.096e-04, Loss_res: 1.051e-01 ,Time: 20.38\n",
            "It: 13200, Loss: 1.041e-01, Loss_bcs: 4.017e-04, Loss_res: 1.037e-01 ,Time: 40.98\n",
            "It: 13300, Loss: 1.028e-01, Loss_bcs: 3.940e-04, Loss_res: 1.024e-01 ,Time: 61.12\n",
            "It: 13400, Loss: 1.017e-01, Loss_bcs: 3.865e-04, Loss_res: 1.013e-01 ,Time: 81.52\n",
            "It: 13500, Loss: 1.005e-01, Loss_bcs: 3.792e-04, Loss_res: 1.001e-01 ,Time: 102.11\n",
            "It: 13600, Loss: 9.934e-02, Loss_bcs: 3.722e-04, Loss_res: 9.897e-02 ,Time: 122.16\n",
            "It: 13700, Loss: 9.826e-02, Loss_bcs: 3.654e-04, Loss_res: 9.789e-02 ,Time: 142.56\n",
            "It: 13800, Loss: 9.717e-02, Loss_bcs: 3.588e-04, Loss_res: 9.681e-02 ,Time: 163.48\n",
            "It: 13900, Loss: 9.613e-02, Loss_bcs: 3.525e-04, Loss_res: 9.578e-02 ,Time: 183.62\n"
          ]
        },
        {
          "name": "stderr",
          "output_type": "stream",
          "text": [
            "mean_grad_bcs: 5.2052e-03\n",
            "mean_grad_res: 2.7812e-01\n"
          ]
        },
        {
          "name": "stdout",
          "output_type": "stream",
          "text": [
            "It: 14000, Loss: 9.519e-02, Loss_bcs: 3.463e-04, Loss_res: 9.484e-02 ,Time: 204.08\n",
            "Compute NTK...\n"
          ]
        },
        {
          "name": "stderr",
          "output_type": "stream",
          "text": [
            "lam_res: 1.0010e+00\n",
            "lam_bc: 1.0357e+03\n"
          ]
        },
        {
          "name": "stdout",
          "output_type": "stream",
          "text": [
            "It: 14100, Loss: 9.413e-02, Loss_bcs: 3.402e-04, Loss_res: 9.379e-02 ,Time: 20.09\n",
            "It: 14200, Loss: 9.308e-02, Loss_bcs: 3.343e-04, Loss_res: 9.274e-02 ,Time: 40.04\n",
            "It: 14300, Loss: 9.210e-02, Loss_bcs: 3.286e-04, Loss_res: 9.177e-02 ,Time: 60.41\n",
            "It: 14400, Loss: 9.118e-02, Loss_bcs: 3.230e-04, Loss_res: 9.085e-02 ,Time: 81.12\n",
            "It: 14500, Loss: 9.026e-02, Loss_bcs: 3.176e-04, Loss_res: 8.995e-02 ,Time: 101.60\n",
            "It: 14600, Loss: 8.937e-02, Loss_bcs: 3.124e-04, Loss_res: 8.906e-02 ,Time: 121.88\n",
            "It: 14700, Loss: 8.855e-02, Loss_bcs: 3.073e-04, Loss_res: 8.824e-02 ,Time: 142.51\n",
            "It: 14800, Loss: 8.763e-02, Loss_bcs: 3.023e-04, Loss_res: 8.733e-02 ,Time: 162.64\n",
            "It: 14900, Loss: 8.669e-02, Loss_bcs: 2.973e-04, Loss_res: 8.639e-02 ,Time: 182.98\n",
            "It: 15000, Loss: 8.592e-02, Loss_bcs: 2.925e-04, Loss_res: 8.563e-02 ,Time: 205.71\n"
          ]
        },
        {
          "name": "stderr",
          "output_type": "stream",
          "text": [
            "mean_grad_bcs: 4.7779e-03\n",
            "mean_grad_res: 2.6166e-01\n"
          ]
        },
        {
          "name": "stdout",
          "output_type": "stream",
          "text": [
            "Compute NTK...\n"
          ]
        },
        {
          "name": "stderr",
          "output_type": "stream",
          "text": [
            "lam_res: 1.0010e+00\n",
            "lam_bc: 1.0385e+03\n"
          ]
        },
        {
          "name": "stdout",
          "output_type": "stream",
          "text": [
            "It: 15100, Loss: 8.519e-02, Loss_bcs: 2.879e-04, Loss_res: 8.491e-02 ,Time: 22.88\n",
            "It: 15200, Loss: 8.442e-02, Loss_bcs: 2.834e-04, Loss_res: 8.414e-02 ,Time: 45.69\n",
            "It: 15300, Loss: 8.359e-02, Loss_bcs: 2.790e-04, Loss_res: 8.331e-02 ,Time: 68.83\n",
            "It: 15400, Loss: 8.280e-02, Loss_bcs: 2.747e-04, Loss_res: 8.252e-02 ,Time: 91.72\n",
            "It: 15500, Loss: 8.199e-02, Loss_bcs: 2.705e-04, Loss_res: 8.172e-02 ,Time: 112.21\n",
            "It: 15600, Loss: 8.128e-02, Loss_bcs: 2.664e-04, Loss_res: 8.101e-02 ,Time: 132.97\n",
            "It: 15700, Loss: 8.065e-02, Loss_bcs: 2.624e-04, Loss_res: 8.039e-02 ,Time: 153.39\n",
            "It: 15800, Loss: 7.993e-02, Loss_bcs: 2.586e-04, Loss_res: 7.967e-02 ,Time: 173.60\n",
            "It: 15900, Loss: 7.919e-02, Loss_bcs: 2.548e-04, Loss_res: 7.894e-02 ,Time: 195.61\n",
            "It: 16000, Loss: 7.850e-02, Loss_bcs: 2.511e-04, Loss_res: 7.825e-02 ,Time: 218.54\n"
          ]
        },
        {
          "name": "stderr",
          "output_type": "stream",
          "text": [
            "mean_grad_bcs: 4.4212e-03\n",
            "mean_grad_res: 2.4932e-01\n"
          ]
        },
        {
          "name": "stdout",
          "output_type": "stream",
          "text": [
            "Compute NTK...\n"
          ]
        },
        {
          "name": "stderr",
          "output_type": "stream",
          "text": [
            "lam_res: 1.0010e+00\n",
            "lam_bc: 1.0413e+03\n"
          ]
        },
        {
          "name": "stdout",
          "output_type": "stream",
          "text": [
            "It: 16100, Loss: 7.787e-02, Loss_bcs: 2.474e-04, Loss_res: 7.763e-02 ,Time: 22.19\n",
            "It: 16200, Loss: 7.723e-02, Loss_bcs: 2.438e-04, Loss_res: 7.699e-02 ,Time: 44.95\n",
            "It: 16300, Loss: 7.655e-02, Loss_bcs: 2.404e-04, Loss_res: 7.631e-02 ,Time: 67.67\n",
            "It: 16400, Loss: 7.587e-02, Loss_bcs: 2.370e-04, Loss_res: 7.564e-02 ,Time: 90.50\n",
            "It: 16500, Loss: 7.523e-02, Loss_bcs: 2.337e-04, Loss_res: 7.500e-02 ,Time: 113.43\n",
            "It: 16600, Loss: 7.464e-02, Loss_bcs: 2.304e-04, Loss_res: 7.441e-02 ,Time: 136.20\n",
            "It: 16700, Loss: 7.409e-02, Loss_bcs: 2.273e-04, Loss_res: 7.387e-02 ,Time: 158.91\n",
            "It: 16800, Loss: 7.350e-02, Loss_bcs: 2.242e-04, Loss_res: 7.328e-02 ,Time: 181.42\n",
            "It: 16900, Loss: 7.289e-02, Loss_bcs: 2.212e-04, Loss_res: 7.266e-02 ,Time: 203.89\n",
            "It: 17000, Loss: 7.226e-02, Loss_bcs: 2.183e-04, Loss_res: 7.204e-02 ,Time: 227.00\n"
          ]
        },
        {
          "name": "stderr",
          "output_type": "stream",
          "text": [
            "mean_grad_bcs: 4.1184e-03\n",
            "mean_grad_res: 2.3860e-01\n"
          ]
        },
        {
          "name": "stdout",
          "output_type": "stream",
          "text": [
            "Compute NTK...\n"
          ]
        },
        {
          "name": "stderr",
          "output_type": "stream",
          "text": [
            "lam_res: 1.0010e+00\n",
            "lam_bc: 1.0440e+03\n"
          ]
        },
        {
          "name": "stdout",
          "output_type": "stream",
          "text": [
            "It: 17100, Loss: 7.171e-02, Loss_bcs: 2.153e-04, Loss_res: 7.149e-02 ,Time: 22.25\n",
            "It: 17200, Loss: 7.116e-02, Loss_bcs: 2.125e-04, Loss_res: 7.095e-02 ,Time: 45.14\n",
            "It: 17300, Loss: 7.060e-02, Loss_bcs: 2.096e-04, Loss_res: 7.039e-02 ,Time: 68.06\n",
            "It: 17400, Loss: 7.005e-02, Loss_bcs: 2.069e-04, Loss_res: 6.985e-02 ,Time: 90.99\n",
            "It: 17500, Loss: 6.950e-02, Loss_bcs: 2.041e-04, Loss_res: 6.930e-02 ,Time: 113.73\n",
            "It: 17600, Loss: 6.900e-02, Loss_bcs: 2.015e-04, Loss_res: 6.880e-02 ,Time: 136.08\n",
            "It: 17700, Loss: 6.852e-02, Loss_bcs: 1.989e-04, Loss_res: 6.832e-02 ,Time: 158.72\n",
            "It: 17800, Loss: 6.801e-02, Loss_bcs: 1.963e-04, Loss_res: 6.781e-02 ,Time: 181.03\n",
            "It: 17900, Loss: 6.747e-02, Loss_bcs: 1.939e-04, Loss_res: 6.728e-02 ,Time: 203.70\n",
            "It: 18000, Loss: 6.695e-02, Loss_bcs: 1.914e-04, Loss_res: 6.676e-02 ,Time: 226.40\n"
          ]
        },
        {
          "name": "stderr",
          "output_type": "stream",
          "text": [
            "mean_grad_bcs: 3.8535e-03\n",
            "mean_grad_res: 2.2906e-01\n"
          ]
        },
        {
          "name": "stdout",
          "output_type": "stream",
          "text": [
            "Compute NTK...\n"
          ]
        },
        {
          "name": "stderr",
          "output_type": "stream",
          "text": [
            "lam_res: 1.0010e+00\n",
            "lam_bc: 1.0465e+03\n"
          ]
        },
        {
          "name": "stdout",
          "output_type": "stream",
          "text": [
            "It: 18100, Loss: 6.641e-02, Loss_bcs: 1.890e-04, Loss_res: 6.622e-02 ,Time: 22.26\n",
            "It: 18200, Loss: 6.591e-02, Loss_bcs: 1.867e-04, Loss_res: 6.573e-02 ,Time: 44.81\n",
            "It: 18300, Loss: 6.542e-02, Loss_bcs: 1.843e-04, Loss_res: 6.523e-02 ,Time: 67.63\n",
            "It: 18400, Loss: 6.495e-02, Loss_bcs: 1.821e-04, Loss_res: 6.477e-02 ,Time: 90.11\n",
            "It: 18500, Loss: 6.452e-02, Loss_bcs: 1.798e-04, Loss_res: 6.434e-02 ,Time: 112.31\n",
            "It: 18600, Loss: 6.405e-02, Loss_bcs: 1.776e-04, Loss_res: 6.388e-02 ,Time: 134.51\n",
            "It: 18700, Loss: 6.360e-02, Loss_bcs: 1.754e-04, Loss_res: 6.343e-02 ,Time: 157.05\n",
            "It: 18800, Loss: 6.311e-02, Loss_bcs: 1.733e-04, Loss_res: 6.294e-02 ,Time: 179.54\n",
            "It: 18900, Loss: 6.271e-02, Loss_bcs: 1.712e-04, Loss_res: 6.254e-02 ,Time: 202.44\n",
            "It: 19000, Loss: 6.229e-02, Loss_bcs: 1.691e-04, Loss_res: 6.212e-02 ,Time: 224.68\n"
          ]
        },
        {
          "name": "stderr",
          "output_type": "stream",
          "text": [
            "mean_grad_bcs: 3.6194e-03\n",
            "mean_grad_res: 2.2005e-01\n"
          ]
        },
        {
          "name": "stdout",
          "output_type": "stream",
          "text": [
            "Compute NTK...\n"
          ]
        },
        {
          "name": "stderr",
          "output_type": "stream",
          "text": [
            "lam_res: 1.0010e+00\n",
            "lam_bc: 1.0489e+03\n"
          ]
        },
        {
          "name": "stdout",
          "output_type": "stream",
          "text": [
            "It: 19100, Loss: 6.183e-02, Loss_bcs: 1.672e-04, Loss_res: 6.166e-02 ,Time: 21.92\n",
            "It: 19200, Loss: 6.136e-02, Loss_bcs: 1.651e-04, Loss_res: 6.119e-02 ,Time: 44.37\n",
            "It: 19300, Loss: 6.094e-02, Loss_bcs: 1.631e-04, Loss_res: 6.078e-02 ,Time: 66.76\n",
            "It: 19400, Loss: 6.052e-02, Loss_bcs: 1.612e-04, Loss_res: 6.036e-02 ,Time: 89.17\n",
            "It: 19500, Loss: 6.005e-02, Loss_bcs: 1.593e-04, Loss_res: 5.989e-02 ,Time: 111.75\n",
            "It: 19600, Loss: 5.960e-02, Loss_bcs: 1.574e-04, Loss_res: 5.944e-02 ,Time: 133.72\n",
            "It: 19700, Loss: 5.929e-02, Loss_bcs: 1.557e-04, Loss_res: 5.914e-02 ,Time: 157.67\n",
            "It: 19800, Loss: 5.893e-02, Loss_bcs: 1.538e-04, Loss_res: 5.877e-02 ,Time: 182.42\n",
            "It: 19900, Loss: 5.851e-02, Loss_bcs: 1.521e-04, Loss_res: 5.835e-02 ,Time: 206.70\n",
            "It: 20000, Loss: 5.810e-02, Loss_bcs: 1.503e-04, Loss_res: 5.795e-02 ,Time: 230.33\n"
          ]
        },
        {
          "name": "stderr",
          "output_type": "stream",
          "text": [
            "mean_grad_bcs: 3.4108e-03\n",
            "mean_grad_res: 2.1122e-01\n"
          ]
        },
        {
          "name": "stdout",
          "output_type": "stream",
          "text": [
            "Compute NTK...\n"
          ]
        },
        {
          "name": "stderr",
          "output_type": "stream",
          "text": [
            "lam_res: 1.0010e+00\n",
            "lam_bc: 1.0512e+03\n"
          ]
        },
        {
          "name": "stdout",
          "output_type": "stream",
          "text": [
            "It: 20100, Loss: 5.764e-02, Loss_bcs: 1.486e-04, Loss_res: 5.749e-02 ,Time: 22.41\n",
            "It: 20200, Loss: 5.720e-02, Loss_bcs: 1.469e-04, Loss_res: 5.706e-02 ,Time: 46.09\n",
            "It: 20300, Loss: 5.681e-02, Loss_bcs: 1.453e-04, Loss_res: 5.666e-02 ,Time: 70.66\n",
            "It: 20400, Loss: 5.646e-02, Loss_bcs: 1.435e-04, Loss_res: 5.631e-02 ,Time: 93.94\n",
            "It: 20500, Loss: 5.610e-02, Loss_bcs: 1.419e-04, Loss_res: 5.596e-02 ,Time: 118.38\n",
            "It: 20600, Loss: 5.579e-02, Loss_bcs: 1.404e-04, Loss_res: 5.565e-02 ,Time: 142.73\n",
            "It: 20700, Loss: 5.539e-02, Loss_bcs: 1.388e-04, Loss_res: 5.526e-02 ,Time: 165.47\n",
            "It: 20800, Loss: 5.498e-02, Loss_bcs: 1.372e-04, Loss_res: 5.484e-02 ,Time: 188.11\n",
            "It: 20900, Loss: 5.458e-02, Loss_bcs: 1.356e-04, Loss_res: 5.445e-02 ,Time: 210.58\n",
            "It: 21000, Loss: 5.418e-02, Loss_bcs: 1.340e-04, Loss_res: 5.405e-02 ,Time: 233.11\n"
          ]
        },
        {
          "name": "stderr",
          "output_type": "stream",
          "text": [
            "mean_grad_bcs: 3.2179e-03\n",
            "mean_grad_res: 2.0233e-01\n"
          ]
        },
        {
          "name": "stdout",
          "output_type": "stream",
          "text": [
            "Compute NTK...\n"
          ]
        },
        {
          "name": "stderr",
          "output_type": "stream",
          "text": [
            "lam_res: 1.0010e+00\n",
            "lam_bc: 1.0534e+03\n"
          ]
        },
        {
          "name": "stdout",
          "output_type": "stream",
          "text": [
            "It: 21100, Loss: 5.384e-02, Loss_bcs: 1.325e-04, Loss_res: 5.371e-02 ,Time: 22.20\n",
            "It: 21200, Loss: 5.353e-02, Loss_bcs: 1.311e-04, Loss_res: 5.340e-02 ,Time: 45.06\n",
            "It: 21300, Loss: 5.319e-02, Loss_bcs: 1.297e-04, Loss_res: 5.307e-02 ,Time: 68.02\n",
            "It: 21400, Loss: 5.284e-02, Loss_bcs: 1.283e-04, Loss_res: 5.271e-02 ,Time: 91.13\n",
            "It: 21500, Loss: 5.248e-02, Loss_bcs: 1.269e-04, Loss_res: 5.236e-02 ,Time: 113.52\n",
            "It: 21600, Loss: 5.205e-02, Loss_bcs: 1.255e-04, Loss_res: 5.192e-02 ,Time: 136.26\n",
            "It: 21700, Loss: 5.166e-02, Loss_bcs: 1.241e-04, Loss_res: 5.154e-02 ,Time: 158.80\n",
            "It: 21800, Loss: 5.135e-02, Loss_bcs: 1.228e-04, Loss_res: 5.122e-02 ,Time: 181.36\n",
            "It: 21900, Loss: 5.110e-02, Loss_bcs: 1.215e-04, Loss_res: 5.098e-02 ,Time: 203.77\n",
            "It: 22000, Loss: 5.074e-02, Loss_bcs: 1.202e-04, Loss_res: 5.062e-02 ,Time: 226.23\n"
          ]
        },
        {
          "name": "stderr",
          "output_type": "stream",
          "text": [
            "mean_grad_bcs: 3.0451e-03\n",
            "mean_grad_res: 1.9415e-01\n"
          ]
        },
        {
          "name": "stdout",
          "output_type": "stream",
          "text": [
            "Compute NTK...\n"
          ]
        },
        {
          "name": "stderr",
          "output_type": "stream",
          "text": [
            "lam_res: 1.0009e+00\n",
            "lam_bc: 1.0554e+03\n"
          ]
        },
        {
          "name": "stdout",
          "output_type": "stream",
          "text": [
            "It: 22100, Loss: 5.040e-02, Loss_bcs: 1.189e-04, Loss_res: 5.028e-02 ,Time: 22.76\n",
            "It: 22200, Loss: 5.008e-02, Loss_bcs: 1.177e-04, Loss_res: 4.996e-02 ,Time: 45.36\n",
            "It: 22300, Loss: 4.976e-02, Loss_bcs: 1.164e-04, Loss_res: 4.964e-02 ,Time: 68.39\n",
            "It: 22400, Loss: 4.939e-02, Loss_bcs: 1.152e-04, Loss_res: 4.928e-02 ,Time: 90.77\n",
            "It: 22500, Loss: 4.906e-02, Loss_bcs: 1.140e-04, Loss_res: 4.895e-02 ,Time: 113.47\n",
            "It: 22600, Loss: 4.875e-02, Loss_bcs: 1.128e-04, Loss_res: 4.864e-02 ,Time: 135.94\n",
            "It: 22700, Loss: 4.845e-02, Loss_bcs: 1.116e-04, Loss_res: 4.834e-02 ,Time: 158.87\n",
            "It: 22800, Loss: 4.810e-02, Loss_bcs: 1.105e-04, Loss_res: 4.799e-02 ,Time: 181.47\n",
            "It: 22900, Loss: 4.780e-02, Loss_bcs: 1.093e-04, Loss_res: 4.769e-02 ,Time: 203.91\n",
            "It: 23000, Loss: 4.745e-02, Loss_bcs: 1.082e-04, Loss_res: 4.734e-02 ,Time: 225.91\n"
          ]
        },
        {
          "name": "stderr",
          "output_type": "stream",
          "text": [
            "mean_grad_bcs: 2.8872e-03\n",
            "mean_grad_res: 1.8567e-01\n"
          ]
        },
        {
          "name": "stdout",
          "output_type": "stream",
          "text": [
            "Compute NTK...\n"
          ]
        },
        {
          "name": "stderr",
          "output_type": "stream",
          "text": [
            "lam_res: 1.0009e+00\n",
            "lam_bc: 1.0574e+03\n"
          ]
        },
        {
          "name": "stdout",
          "output_type": "stream",
          "text": [
            "It: 23100, Loss: 4.716e-02, Loss_bcs: 1.071e-04, Loss_res: 4.705e-02 ,Time: 23.45\n",
            "It: 23200, Loss: 4.687e-02, Loss_bcs: 1.060e-04, Loss_res: 4.677e-02 ,Time: 48.56\n",
            "It: 23300, Loss: 4.656e-02, Loss_bcs: 1.049e-04, Loss_res: 4.646e-02 ,Time: 72.41\n",
            "It: 23400, Loss: 4.619e-02, Loss_bcs: 1.038e-04, Loss_res: 4.608e-02 ,Time: 92.77\n",
            "It: 23500, Loss: 4.583e-02, Loss_bcs: 1.027e-04, Loss_res: 4.573e-02 ,Time: 113.31\n",
            "It: 23600, Loss: 4.553e-02, Loss_bcs: 1.017e-04, Loss_res: 4.542e-02 ,Time: 133.38\n",
            "It: 23700, Loss: 4.529e-02, Loss_bcs: 1.006e-04, Loss_res: 4.519e-02 ,Time: 153.57\n",
            "It: 23800, Loss: 4.509e-02, Loss_bcs: 9.965e-05, Loss_res: 4.499e-02 ,Time: 173.80\n",
            "It: 23900, Loss: 4.486e-02, Loss_bcs: 9.873e-05, Loss_res: 4.476e-02 ,Time: 194.75\n",
            "It: 24000, Loss: 4.467e-02, Loss_bcs: 9.775e-05, Loss_res: 4.457e-02 ,Time: 214.82\n"
          ]
        },
        {
          "name": "stderr",
          "output_type": "stream",
          "text": [
            "mean_grad_bcs: 2.7423e-03\n",
            "mean_grad_res: 1.7866e-01\n"
          ]
        },
        {
          "name": "stdout",
          "output_type": "stream",
          "text": [
            "Compute NTK...\n"
          ]
        },
        {
          "name": "stderr",
          "output_type": "stream",
          "text": [
            "lam_res: 1.0009e+00\n",
            "lam_bc: 1.0592e+03\n"
          ]
        },
        {
          "name": "stdout",
          "output_type": "stream",
          "text": [
            "It: 24100, Loss: 4.439e-02, Loss_bcs: 9.680e-05, Loss_res: 4.429e-02 ,Time: 20.72\n",
            "It: 24200, Loss: 4.407e-02, Loss_bcs: 9.582e-05, Loss_res: 4.398e-02 ,Time: 43.77\n",
            "It: 24300, Loss: 4.375e-02, Loss_bcs: 9.487e-05, Loss_res: 4.365e-02 ,Time: 67.07\n",
            "It: 24400, Loss: 4.338e-02, Loss_bcs: 9.389e-05, Loss_res: 4.328e-02 ,Time: 90.29\n",
            "It: 24500, Loss: 4.301e-02, Loss_bcs: 9.291e-05, Loss_res: 4.292e-02 ,Time: 111.48\n",
            "It: 24600, Loss: 4.270e-02, Loss_bcs: 9.201e-05, Loss_res: 4.261e-02 ,Time: 131.62\n",
            "It: 24700, Loss: 4.241e-02, Loss_bcs: 9.104e-05, Loss_res: 4.232e-02 ,Time: 152.93\n",
            "It: 24800, Loss: 4.213e-02, Loss_bcs: 9.011e-05, Loss_res: 4.204e-02 ,Time: 176.28\n",
            "It: 24900, Loss: 4.187e-02, Loss_bcs: 8.924e-05, Loss_res: 4.178e-02 ,Time: 199.47\n",
            "It: 25000, Loss: 4.164e-02, Loss_bcs: 8.837e-05, Loss_res: 4.155e-02 ,Time: 222.24\n"
          ]
        },
        {
          "name": "stderr",
          "output_type": "stream",
          "text": [
            "mean_grad_bcs: 2.6055e-03\n",
            "mean_grad_res: 1.6980e-01\n"
          ]
        },
        {
          "name": "stdout",
          "output_type": "stream",
          "text": [
            "Compute NTK...\n"
          ]
        },
        {
          "name": "stderr",
          "output_type": "stream",
          "text": [
            "lam_res: 1.0009e+00\n",
            "lam_bc: 1.0610e+03\n"
          ]
        },
        {
          "name": "stdout",
          "output_type": "stream",
          "text": [
            "It: 25100, Loss: 4.142e-02, Loss_bcs: 8.753e-05, Loss_res: 4.133e-02 ,Time: 22.70\n",
            "It: 25200, Loss: 4.115e-02, Loss_bcs: 8.664e-05, Loss_res: 4.106e-02 ,Time: 45.69\n",
            "It: 25300, Loss: 4.088e-02, Loss_bcs: 8.582e-05, Loss_res: 4.079e-02 ,Time: 69.08\n",
            "It: 25400, Loss: 4.063e-02, Loss_bcs: 8.500e-05, Loss_res: 4.054e-02 ,Time: 92.33\n",
            "It: 25500, Loss: 4.040e-02, Loss_bcs: 8.416e-05, Loss_res: 4.031e-02 ,Time: 115.05\n",
            "It: 25600, Loss: 4.010e-02, Loss_bcs: 8.335e-05, Loss_res: 4.001e-02 ,Time: 137.50\n",
            "It: 25700, Loss: 3.984e-02, Loss_bcs: 8.258e-05, Loss_res: 3.976e-02 ,Time: 159.93\n",
            "It: 25800, Loss: 3.965e-02, Loss_bcs: 8.182e-05, Loss_res: 3.957e-02 ,Time: 182.50\n",
            "It: 25900, Loss: 3.946e-02, Loss_bcs: 8.103e-05, Loss_res: 3.938e-02 ,Time: 204.88\n",
            "It: 26000, Loss: 3.918e-02, Loss_bcs: 8.024e-05, Loss_res: 3.910e-02 ,Time: 227.66\n"
          ]
        },
        {
          "name": "stderr",
          "output_type": "stream",
          "text": [
            "mean_grad_bcs: 2.4807e-03\n",
            "mean_grad_res: 1.6278e-01\n"
          ]
        },
        {
          "name": "stdout",
          "output_type": "stream",
          "text": [
            "Compute NTK...\n"
          ]
        },
        {
          "name": "stderr",
          "output_type": "stream",
          "text": [
            "lam_res: 1.0009e+00\n",
            "lam_bc: 1.0626e+03\n"
          ]
        },
        {
          "name": "stdout",
          "output_type": "stream",
          "text": [
            "It: 26100, Loss: 3.888e-02, Loss_bcs: 7.951e-05, Loss_res: 3.880e-02 ,Time: 23.14\n",
            "It: 26200, Loss: 3.859e-02, Loss_bcs: 7.875e-05, Loss_res: 3.851e-02 ,Time: 46.39\n",
            "It: 26300, Loss: 3.828e-02, Loss_bcs: 7.803e-05, Loss_res: 3.820e-02 ,Time: 69.52\n",
            "It: 26400, Loss: 3.801e-02, Loss_bcs: 7.724e-05, Loss_res: 3.793e-02 ,Time: 91.95\n",
            "It: 26500, Loss: 3.781e-02, Loss_bcs: 7.657e-05, Loss_res: 3.773e-02 ,Time: 114.70\n",
            "It: 26600, Loss: 3.757e-02, Loss_bcs: 7.584e-05, Loss_res: 3.750e-02 ,Time: 137.50\n",
            "It: 26700, Loss: 3.737e-02, Loss_bcs: 7.515e-05, Loss_res: 3.729e-02 ,Time: 159.86\n",
            "It: 26800, Loss: 3.716e-02, Loss_bcs: 7.446e-05, Loss_res: 3.709e-02 ,Time: 182.32\n",
            "It: 26900, Loss: 3.692e-02, Loss_bcs: 7.378e-05, Loss_res: 3.685e-02 ,Time: 205.50\n",
            "It: 27000, Loss: 3.671e-02, Loss_bcs: 7.313e-05, Loss_res: 3.663e-02 ,Time: 228.84\n"
          ]
        },
        {
          "name": "stderr",
          "output_type": "stream",
          "text": [
            "mean_grad_bcs: 2.3669e-03\n",
            "mean_grad_res: 1.5498e-01\n"
          ]
        },
        {
          "name": "stdout",
          "output_type": "stream",
          "text": [
            "Compute NTK...\n"
          ]
        },
        {
          "name": "stderr",
          "output_type": "stream",
          "text": [
            "lam_res: 1.0009e+00\n",
            "lam_bc: 1.0642e+03\n"
          ]
        },
        {
          "name": "stdout",
          "output_type": "stream",
          "text": [
            "It: 27100, Loss: 3.643e-02, Loss_bcs: 7.243e-05, Loss_res: 3.636e-02 ,Time: 23.44\n",
            "It: 27200, Loss: 3.618e-02, Loss_bcs: 7.175e-05, Loss_res: 3.611e-02 ,Time: 46.68\n",
            "It: 27300, Loss: 3.593e-02, Loss_bcs: 7.109e-05, Loss_res: 3.586e-02 ,Time: 69.85\n",
            "It: 27400, Loss: 3.566e-02, Loss_bcs: 7.041e-05, Loss_res: 3.559e-02 ,Time: 92.13\n",
            "It: 27500, Loss: 3.544e-02, Loss_bcs: 6.973e-05, Loss_res: 3.537e-02 ,Time: 112.84\n",
            "It: 27600, Loss: 3.523e-02, Loss_bcs: 6.906e-05, Loss_res: 3.517e-02 ,Time: 134.43\n",
            "It: 27700, Loss: 3.503e-02, Loss_bcs: 6.838e-05, Loss_res: 3.496e-02 ,Time: 157.31\n",
            "It: 27800, Loss: 3.479e-02, Loss_bcs: 6.784e-05, Loss_res: 3.472e-02 ,Time: 180.30\n",
            "It: 27900, Loss: 3.455e-02, Loss_bcs: 6.723e-05, Loss_res: 3.449e-02 ,Time: 202.77\n",
            "It: 28000, Loss: 3.434e-02, Loss_bcs: 6.668e-05, Loss_res: 3.427e-02 ,Time: 223.21\n"
          ]
        },
        {
          "name": "stderr",
          "output_type": "stream",
          "text": [
            "mean_grad_bcs: 2.2583e-03\n",
            "mean_grad_res: 1.4706e-01\n"
          ]
        },
        {
          "name": "stdout",
          "output_type": "stream",
          "text": [
            "Compute NTK...\n"
          ]
        },
        {
          "name": "stderr",
          "output_type": "stream",
          "text": [
            "lam_res: 1.0009e+00\n",
            "lam_bc: 1.0657e+03\n"
          ]
        },
        {
          "name": "stdout",
          "output_type": "stream",
          "text": [
            "It: 28100, Loss: 3.414e-02, Loss_bcs: 6.605e-05, Loss_res: 3.408e-02 ,Time: 21.31\n",
            "It: 28200, Loss: 3.397e-02, Loss_bcs: 6.541e-05, Loss_res: 3.390e-02 ,Time: 44.46\n",
            "It: 28300, Loss: 3.377e-02, Loss_bcs: 6.481e-05, Loss_res: 3.371e-02 ,Time: 67.43\n",
            "It: 28400, Loss: 3.354e-02, Loss_bcs: 6.425e-05, Loss_res: 3.347e-02 ,Time: 90.44\n",
            "It: 28500, Loss: 3.329e-02, Loss_bcs: 6.369e-05, Loss_res: 3.323e-02 ,Time: 113.19\n",
            "It: 28600, Loss: 3.307e-02, Loss_bcs: 6.313e-05, Loss_res: 3.301e-02 ,Time: 136.18\n",
            "It: 28700, Loss: 3.287e-02, Loss_bcs: 6.261e-05, Loss_res: 3.280e-02 ,Time: 159.09\n",
            "It: 28800, Loss: 3.259e-02, Loss_bcs: 6.206e-05, Loss_res: 3.253e-02 ,Time: 181.80\n",
            "It: 28900, Loss: 3.238e-02, Loss_bcs: 6.149e-05, Loss_res: 3.232e-02 ,Time: 204.76\n",
            "It: 29000, Loss: 3.213e-02, Loss_bcs: 6.093e-05, Loss_res: 3.207e-02 ,Time: 227.79\n"
          ]
        },
        {
          "name": "stderr",
          "output_type": "stream",
          "text": [
            "mean_grad_bcs: 2.1568e-03\n",
            "mean_grad_res: 1.3933e-01\n"
          ]
        },
        {
          "name": "stdout",
          "output_type": "stream",
          "text": [
            "Compute NTK...\n"
          ]
        },
        {
          "name": "stderr",
          "output_type": "stream",
          "text": [
            "lam_res: 1.0009e+00\n",
            "lam_bc: 1.0672e+03\n"
          ]
        },
        {
          "name": "stdout",
          "output_type": "stream",
          "text": [
            "It: 29100, Loss: 3.192e-02, Loss_bcs: 6.034e-05, Loss_res: 3.186e-02 ,Time: 22.63\n",
            "It: 29200, Loss: 3.169e-02, Loss_bcs: 5.982e-05, Loss_res: 3.163e-02 ,Time: 45.40\n",
            "It: 29300, Loss: 3.152e-02, Loss_bcs: 5.929e-05, Loss_res: 3.146e-02 ,Time: 68.21\n",
            "It: 29400, Loss: 3.135e-02, Loss_bcs: 5.879e-05, Loss_res: 3.129e-02 ,Time: 90.78\n",
            "It: 29500, Loss: 3.123e-02, Loss_bcs: 5.831e-05, Loss_res: 3.117e-02 ,Time: 113.84\n",
            "It: 29600, Loss: 3.106e-02, Loss_bcs: 5.779e-05, Loss_res: 3.100e-02 ,Time: 136.29\n",
            "It: 29700, Loss: 3.089e-02, Loss_bcs: 5.731e-05, Loss_res: 3.083e-02 ,Time: 158.68\n",
            "It: 29800, Loss: 3.071e-02, Loss_bcs: 5.688e-05, Loss_res: 3.066e-02 ,Time: 181.21\n",
            "It: 29900, Loss: 3.052e-02, Loss_bcs: 5.639e-05, Loss_res: 3.046e-02 ,Time: 204.32\n",
            "It: 30000, Loss: 3.030e-02, Loss_bcs: 5.592e-05, Loss_res: 3.024e-02 ,Time: 226.67\n"
          ]
        },
        {
          "name": "stderr",
          "output_type": "stream",
          "text": [
            "mean_grad_bcs: 2.0647e-03\n",
            "mean_grad_res: 1.3293e-01\n"
          ]
        },
        {
          "name": "stdout",
          "output_type": "stream",
          "text": [
            "Compute NTK...\n"
          ]
        },
        {
          "name": "stderr",
          "output_type": "stream",
          "text": [
            "lam_res: 1.0009e+00\n",
            "lam_bc: 1.0685e+03\n"
          ]
        },
        {
          "name": "stdout",
          "output_type": "stream",
          "text": [
            "It: 30100, Loss: 3.010e-02, Loss_bcs: 5.540e-05, Loss_res: 3.004e-02 ,Time: 22.19\n",
            "It: 30200, Loss: 2.987e-02, Loss_bcs: 5.494e-05, Loss_res: 2.981e-02 ,Time: 45.21\n",
            "It: 30300, Loss: 2.968e-02, Loss_bcs: 5.447e-05, Loss_res: 2.962e-02 ,Time: 67.93\n",
            "It: 30400, Loss: 2.948e-02, Loss_bcs: 5.404e-05, Loss_res: 2.943e-02 ,Time: 90.34\n",
            "It: 30500, Loss: 2.930e-02, Loss_bcs: 5.357e-05, Loss_res: 2.925e-02 ,Time: 112.82\n",
            "It: 30600, Loss: 2.915e-02, Loss_bcs: 5.310e-05, Loss_res: 2.909e-02 ,Time: 135.26\n",
            "It: 30700, Loss: 2.895e-02, Loss_bcs: 5.264e-05, Loss_res: 2.889e-02 ,Time: 157.83\n",
            "It: 30800, Loss: 2.876e-02, Loss_bcs: 5.218e-05, Loss_res: 2.871e-02 ,Time: 181.19\n",
            "It: 30900, Loss: 2.858e-02, Loss_bcs: 5.180e-05, Loss_res: 2.853e-02 ,Time: 205.26\n",
            "It: 31000, Loss: 2.843e-02, Loss_bcs: 5.138e-05, Loss_res: 2.838e-02 ,Time: 231.34\n"
          ]
        },
        {
          "name": "stderr",
          "output_type": "stream",
          "text": [
            "mean_grad_bcs: 1.9775e-03\n",
            "mean_grad_res: 1.2578e-01\n"
          ]
        },
        {
          "name": "stdout",
          "output_type": "stream",
          "text": [
            "Compute NTK...\n"
          ]
        },
        {
          "name": "stderr",
          "output_type": "stream",
          "text": [
            "lam_res: 1.0009e+00\n",
            "lam_bc: 1.0699e+03\n"
          ]
        },
        {
          "name": "stdout",
          "output_type": "stream",
          "text": [
            "It: 31100, Loss: 2.827e-02, Loss_bcs: 5.094e-05, Loss_res: 2.822e-02 ,Time: 24.55\n",
            "It: 31200, Loss: 2.811e-02, Loss_bcs: 5.052e-05, Loss_res: 2.806e-02 ,Time: 48.07\n",
            "It: 31300, Loss: 2.794e-02, Loss_bcs: 5.008e-05, Loss_res: 2.788e-02 ,Time: 71.00\n",
            "It: 31400, Loss: 2.777e-02, Loss_bcs: 4.966e-05, Loss_res: 2.772e-02 ,Time: 94.47\n",
            "It: 31500, Loss: 2.759e-02, Loss_bcs: 4.925e-05, Loss_res: 2.754e-02 ,Time: 118.38\n",
            "It: 31600, Loss: 2.743e-02, Loss_bcs: 4.879e-05, Loss_res: 2.738e-02 ,Time: 141.57\n",
            "It: 31700, Loss: 2.724e-02, Loss_bcs: 4.840e-05, Loss_res: 2.720e-02 ,Time: 164.57\n",
            "It: 31800, Loss: 2.707e-02, Loss_bcs: 4.797e-05, Loss_res: 2.702e-02 ,Time: 188.13\n",
            "It: 31900, Loss: 2.690e-02, Loss_bcs: 4.763e-05, Loss_res: 2.686e-02 ,Time: 211.26\n",
            "It: 32000, Loss: 2.672e-02, Loss_bcs: 4.728e-05, Loss_res: 2.667e-02 ,Time: 234.41\n"
          ]
        },
        {
          "name": "stderr",
          "output_type": "stream",
          "text": [
            "mean_grad_bcs: 1.8952e-03\n",
            "mean_grad_res: 1.1903e-01\n"
          ]
        },
        {
          "name": "stdout",
          "output_type": "stream",
          "text": [
            "Compute NTK...\n"
          ]
        },
        {
          "name": "stderr",
          "output_type": "stream",
          "text": [
            "lam_res: 1.0009e+00\n",
            "lam_bc: 1.0711e+03\n"
          ]
        },
        {
          "name": "stdout",
          "output_type": "stream",
          "text": [
            "It: 32100, Loss: 2.651e-02, Loss_bcs: 4.694e-05, Loss_res: 2.646e-02 ,Time: 22.77\n",
            "It: 32200, Loss: 2.635e-02, Loss_bcs: 4.659e-05, Loss_res: 2.630e-02 ,Time: 46.03\n",
            "It: 32300, Loss: 2.620e-02, Loss_bcs: 4.620e-05, Loss_res: 2.615e-02 ,Time: 69.41\n",
            "It: 32400, Loss: 2.603e-02, Loss_bcs: 4.584e-05, Loss_res: 2.598e-02 ,Time: 92.30\n",
            "It: 32500, Loss: 2.588e-02, Loss_bcs: 4.545e-05, Loss_res: 2.583e-02 ,Time: 115.43\n",
            "It: 32600, Loss: 2.574e-02, Loss_bcs: 4.502e-05, Loss_res: 2.570e-02 ,Time: 138.40\n",
            "It: 32700, Loss: 2.561e-02, Loss_bcs: 4.466e-05, Loss_res: 2.557e-02 ,Time: 161.96\n",
            "It: 32800, Loss: 2.548e-02, Loss_bcs: 4.433e-05, Loss_res: 2.543e-02 ,Time: 184.73\n",
            "It: 32900, Loss: 2.534e-02, Loss_bcs: 4.401e-05, Loss_res: 2.529e-02 ,Time: 207.60\n",
            "It: 33000, Loss: 2.519e-02, Loss_bcs: 4.366e-05, Loss_res: 2.514e-02 ,Time: 231.07\n"
          ]
        },
        {
          "name": "stderr",
          "output_type": "stream",
          "text": [
            "mean_grad_bcs: 1.8191e-03\n",
            "mean_grad_res: 1.1275e-01\n"
          ]
        },
        {
          "name": "stdout",
          "output_type": "stream",
          "text": [
            "Compute NTK...\n"
          ]
        },
        {
          "name": "stderr",
          "output_type": "stream",
          "text": [
            "lam_res: 1.0009e+00\n",
            "lam_bc: 1.0724e+03\n"
          ]
        },
        {
          "name": "stdout",
          "output_type": "stream",
          "text": [
            "It: 33100, Loss: 2.502e-02, Loss_bcs: 4.335e-05, Loss_res: 2.498e-02 ,Time: 23.15\n",
            "It: 33200, Loss: 2.481e-02, Loss_bcs: 4.302e-05, Loss_res: 2.477e-02 ,Time: 46.23\n",
            "It: 33300, Loss: 2.467e-02, Loss_bcs: 4.269e-05, Loss_res: 2.462e-02 ,Time: 69.20\n",
            "It: 33400, Loss: 2.448e-02, Loss_bcs: 4.231e-05, Loss_res: 2.444e-02 ,Time: 92.17\n",
            "It: 33500, Loss: 2.434e-02, Loss_bcs: 4.195e-05, Loss_res: 2.430e-02 ,Time: 115.37\n",
            "It: 33600, Loss: 2.422e-02, Loss_bcs: 4.159e-05, Loss_res: 2.418e-02 ,Time: 138.74\n",
            "It: 33700, Loss: 2.409e-02, Loss_bcs: 4.126e-05, Loss_res: 2.405e-02 ,Time: 161.94\n",
            "It: 33800, Loss: 2.396e-02, Loss_bcs: 4.094e-05, Loss_res: 2.392e-02 ,Time: 184.83\n",
            "It: 33900, Loss: 2.379e-02, Loss_bcs: 4.063e-05, Loss_res: 2.375e-02 ,Time: 207.82\n",
            "It: 34000, Loss: 2.364e-02, Loss_bcs: 4.034e-05, Loss_res: 2.360e-02 ,Time: 231.04\n"
          ]
        },
        {
          "name": "stderr",
          "output_type": "stream",
          "text": [
            "mean_grad_bcs: 1.7471e-03\n",
            "mean_grad_res: 1.0579e-01\n"
          ]
        },
        {
          "name": "stdout",
          "output_type": "stream",
          "text": [
            "Compute NTK...\n"
          ]
        },
        {
          "name": "stderr",
          "output_type": "stream",
          "text": [
            "lam_res: 1.0009e+00\n",
            "lam_bc: 1.0736e+03\n"
          ]
        },
        {
          "name": "stdout",
          "output_type": "stream",
          "text": [
            "It: 34100, Loss: 2.351e-02, Loss_bcs: 4.003e-05, Loss_res: 2.347e-02 ,Time: 23.86\n",
            "It: 34200, Loss: 2.343e-02, Loss_bcs: 3.974e-05, Loss_res: 2.339e-02 ,Time: 48.29\n",
            "It: 34300, Loss: 2.331e-02, Loss_bcs: 3.943e-05, Loss_res: 2.327e-02 ,Time: 72.79\n",
            "It: 34400, Loss: 2.317e-02, Loss_bcs: 3.914e-05, Loss_res: 2.313e-02 ,Time: 97.03\n",
            "It: 34500, Loss: 2.304e-02, Loss_bcs: 3.884e-05, Loss_res: 2.300e-02 ,Time: 121.45\n",
            "It: 34600, Loss: 2.288e-02, Loss_bcs: 3.854e-05, Loss_res: 2.285e-02 ,Time: 145.69\n",
            "It: 34700, Loss: 2.275e-02, Loss_bcs: 3.827e-05, Loss_res: 2.271e-02 ,Time: 170.27\n",
            "It: 34800, Loss: 2.266e-02, Loss_bcs: 3.795e-05, Loss_res: 2.262e-02 ,Time: 194.40\n",
            "It: 34900, Loss: 2.255e-02, Loss_bcs: 3.766e-05, Loss_res: 2.251e-02 ,Time: 219.07\n",
            "It: 35000, Loss: 2.243e-02, Loss_bcs: 3.741e-05, Loss_res: 2.239e-02 ,Time: 243.25\n"
          ]
        },
        {
          "name": "stderr",
          "output_type": "stream",
          "text": [
            "mean_grad_bcs: 1.6814e-03\n",
            "mean_grad_res: 1.0059e-01\n"
          ]
        },
        {
          "name": "stdout",
          "output_type": "stream",
          "text": [
            "Compute NTK...\n"
          ]
        },
        {
          "name": "stderr",
          "output_type": "stream",
          "text": [
            "lam_res: 1.0009e+00\n",
            "lam_bc: 1.0747e+03\n"
          ]
        },
        {
          "name": "stdout",
          "output_type": "stream",
          "text": [
            "It: 35100, Loss: 2.231e-02, Loss_bcs: 3.714e-05, Loss_res: 2.227e-02 ,Time: 24.26\n",
            "It: 35200, Loss: 2.215e-02, Loss_bcs: 3.687e-05, Loss_res: 2.211e-02 ,Time: 48.63\n",
            "It: 35300, Loss: 2.200e-02, Loss_bcs: 3.660e-05, Loss_res: 2.197e-02 ,Time: 73.30\n",
            "It: 35400, Loss: 2.188e-02, Loss_bcs: 3.631e-05, Loss_res: 2.184e-02 ,Time: 97.23\n",
            "It: 35500, Loss: 2.170e-02, Loss_bcs: 3.602e-05, Loss_res: 2.166e-02 ,Time: 121.38\n",
            "It: 35600, Loss: 2.156e-02, Loss_bcs: 3.576e-05, Loss_res: 2.153e-02 ,Time: 145.93\n",
            "It: 35700, Loss: 2.144e-02, Loss_bcs: 3.547e-05, Loss_res: 2.140e-02 ,Time: 170.03\n",
            "It: 35800, Loss: 2.132e-02, Loss_bcs: 3.519e-05, Loss_res: 2.129e-02 ,Time: 194.33\n",
            "It: 35900, Loss: 2.124e-02, Loss_bcs: 3.492e-05, Loss_res: 2.121e-02 ,Time: 218.41\n",
            "It: 36000, Loss: 2.116e-02, Loss_bcs: 3.467e-05, Loss_res: 2.112e-02 ,Time: 243.04\n"
          ]
        },
        {
          "name": "stderr",
          "output_type": "stream",
          "text": [
            "mean_grad_bcs: 1.6172e-03\n",
            "mean_grad_res: 9.4486e-02\n"
          ]
        },
        {
          "name": "stdout",
          "output_type": "stream",
          "text": [
            "Compute NTK...\n"
          ]
        },
        {
          "name": "stderr",
          "output_type": "stream",
          "text": [
            "lam_res: 1.0009e+00\n",
            "lam_bc: 1.0759e+03\n"
          ]
        },
        {
          "name": "stdout",
          "output_type": "stream",
          "text": [
            "It: 36100, Loss: 2.104e-02, Loss_bcs: 3.445e-05, Loss_res: 2.100e-02 ,Time: 23.49\n",
            "It: 36200, Loss: 2.092e-02, Loss_bcs: 3.425e-05, Loss_res: 2.089e-02 ,Time: 47.07\n",
            "It: 36300, Loss: 2.079e-02, Loss_bcs: 3.402e-05, Loss_res: 2.076e-02 ,Time: 71.61\n",
            "It: 36400, Loss: 2.064e-02, Loss_bcs: 3.375e-05, Loss_res: 2.061e-02 ,Time: 95.61\n",
            "It: 36500, Loss: 2.048e-02, Loss_bcs: 3.350e-05, Loss_res: 2.044e-02 ,Time: 119.96\n",
            "It: 36600, Loss: 2.035e-02, Loss_bcs: 3.321e-05, Loss_res: 2.032e-02 ,Time: 144.08\n",
            "It: 36700, Loss: 2.023e-02, Loss_bcs: 3.298e-05, Loss_res: 2.020e-02 ,Time: 168.16\n",
            "It: 36800, Loss: 2.014e-02, Loss_bcs: 3.272e-05, Loss_res: 2.011e-02 ,Time: 191.53\n",
            "It: 36900, Loss: 2.006e-02, Loss_bcs: 3.246e-05, Loss_res: 2.003e-02 ,Time: 215.12\n",
            "It: 37000, Loss: 1.995e-02, Loss_bcs: 3.224e-05, Loss_res: 1.992e-02 ,Time: 239.25\n"
          ]
        },
        {
          "name": "stderr",
          "output_type": "stream",
          "text": [
            "mean_grad_bcs: 1.5580e-03\n",
            "mean_grad_res: 8.8321e-02\n"
          ]
        },
        {
          "name": "stdout",
          "output_type": "stream",
          "text": [
            "Compute NTK...\n"
          ]
        },
        {
          "name": "stderr",
          "output_type": "stream",
          "text": [
            "lam_res: 1.0009e+00\n",
            "lam_bc: 1.0770e+03\n"
          ]
        },
        {
          "name": "stdout",
          "output_type": "stream",
          "text": [
            "It: 37100, Loss: 1.989e-02, Loss_bcs: 3.201e-05, Loss_res: 1.986e-02 ,Time: 23.58\n",
            "It: 37200, Loss: 1.981e-02, Loss_bcs: 3.180e-05, Loss_res: 1.978e-02 ,Time: 47.04\n",
            "It: 37300, Loss: 1.971e-02, Loss_bcs: 3.158e-05, Loss_res: 1.968e-02 ,Time: 71.40\n",
            "It: 37400, Loss: 1.963e-02, Loss_bcs: 3.135e-05, Loss_res: 1.960e-02 ,Time: 95.03\n",
            "It: 37500, Loss: 1.955e-02, Loss_bcs: 3.114e-05, Loss_res: 1.951e-02 ,Time: 118.78\n",
            "It: 37600, Loss: 1.947e-02, Loss_bcs: 3.093e-05, Loss_res: 1.944e-02 ,Time: 142.92\n",
            "It: 37700, Loss: 1.942e-02, Loss_bcs: 3.077e-05, Loss_res: 1.939e-02 ,Time: 167.50\n",
            "It: 37800, Loss: 1.936e-02, Loss_bcs: 3.060e-05, Loss_res: 1.933e-02 ,Time: 191.72\n",
            "It: 37900, Loss: 1.928e-02, Loss_bcs: 3.040e-05, Loss_res: 1.924e-02 ,Time: 215.05\n",
            "It: 38000, Loss: 1.914e-02, Loss_bcs: 3.022e-05, Loss_res: 1.911e-02 ,Time: 238.81\n"
          ]
        },
        {
          "name": "stderr",
          "output_type": "stream",
          "text": [
            "mean_grad_bcs: 1.5077e-03\n",
            "mean_grad_res: 8.4782e-02\n"
          ]
        },
        {
          "name": "stdout",
          "output_type": "stream",
          "text": [
            "Compute NTK...\n"
          ]
        },
        {
          "name": "stderr",
          "output_type": "stream",
          "text": [
            "lam_res: 1.0009e+00\n",
            "lam_bc: 1.0781e+03\n"
          ]
        },
        {
          "name": "stdout",
          "output_type": "stream",
          "text": [
            "It: 38100, Loss: 1.901e-02, Loss_bcs: 3.002e-05, Loss_res: 1.898e-02 ,Time: 23.26\n",
            "It: 38200, Loss: 1.890e-02, Loss_bcs: 2.981e-05, Loss_res: 1.887e-02 ,Time: 47.11\n",
            "It: 38300, Loss: 1.878e-02, Loss_bcs: 2.959e-05, Loss_res: 1.875e-02 ,Time: 71.08\n",
            "It: 38400, Loss: 1.868e-02, Loss_bcs: 2.937e-05, Loss_res: 1.865e-02 ,Time: 94.32\n",
            "It: 38500, Loss: 1.857e-02, Loss_bcs: 2.915e-05, Loss_res: 1.854e-02 ,Time: 118.01\n",
            "It: 38600, Loss: 1.846e-02, Loss_bcs: 2.892e-05, Loss_res: 1.843e-02 ,Time: 141.48\n",
            "It: 38700, Loss: 1.835e-02, Loss_bcs: 2.872e-05, Loss_res: 1.833e-02 ,Time: 164.73\n",
            "It: 38800, Loss: 1.829e-02, Loss_bcs: 2.854e-05, Loss_res: 1.826e-02 ,Time: 188.74\n",
            "It: 38900, Loss: 1.819e-02, Loss_bcs: 2.834e-05, Loss_res: 1.816e-02 ,Time: 212.69\n",
            "It: 39000, Loss: 1.808e-02, Loss_bcs: 2.817e-05, Loss_res: 1.805e-02 ,Time: 237.02\n"
          ]
        },
        {
          "name": "stderr",
          "output_type": "stream",
          "text": [
            "mean_grad_bcs: 1.4543e-03\n",
            "mean_grad_res: 7.8778e-02\n"
          ]
        },
        {
          "name": "stdout",
          "output_type": "stream",
          "text": [
            "Compute NTK...\n"
          ]
        },
        {
          "name": "stderr",
          "output_type": "stream",
          "text": [
            "lam_res: 1.0009e+00\n",
            "lam_bc: 1.0791e+03\n"
          ]
        },
        {
          "name": "stdout",
          "output_type": "stream",
          "text": [
            "It: 39100, Loss: 1.798e-02, Loss_bcs: 2.797e-05, Loss_res: 1.795e-02 ,Time: 24.16\n",
            "It: 39200, Loss: 1.789e-02, Loss_bcs: 2.776e-05, Loss_res: 1.787e-02 ,Time: 48.26\n",
            "It: 39300, Loss: 1.779e-02, Loss_bcs: 2.760e-05, Loss_res: 1.776e-02 ,Time: 71.94\n",
            "It: 39400, Loss: 1.770e-02, Loss_bcs: 2.742e-05, Loss_res: 1.768e-02 ,Time: 96.14\n",
            "It: 39500, Loss: 1.764e-02, Loss_bcs: 2.723e-05, Loss_res: 1.761e-02 ,Time: 120.49\n",
            "It: 39600, Loss: 1.756e-02, Loss_bcs: 2.703e-05, Loss_res: 1.753e-02 ,Time: 144.44\n",
            "It: 39700, Loss: 1.747e-02, Loss_bcs: 2.689e-05, Loss_res: 1.745e-02 ,Time: 168.02\n",
            "It: 39800, Loss: 1.740e-02, Loss_bcs: 2.673e-05, Loss_res: 1.737e-02 ,Time: 192.45\n",
            "It: 39900, Loss: 1.733e-02, Loss_bcs: 2.658e-05, Loss_res: 1.731e-02 ,Time: 215.99\n"
          ]
        },
        {
          "name": "stderr",
          "output_type": "stream",
          "text": [
            "Gradients information stored ...\n",
            "mean_grad_bcs: 1.4073e-03\n",
            "mean_grad_res: 7.4371e-02\n"
          ]
        },
        {
          "name": "stdout",
          "output_type": "stream",
          "text": [
            "It: 40000, Loss: 1.726e-02, Loss_bcs: 2.641e-05, Loss_res: 1.723e-02 ,Time: 269.95\n",
            "Compute NTK...\n"
          ]
        },
        {
          "name": "stderr",
          "output_type": "stream",
          "text": [
            "lam_res: 1.0009e+00\n",
            "lam_bc: 1.0801e+03\n",
            "elapsed: 9.39e+03\n",
            "Relative L2 error_u: 3.85e-03\n",
            "Relative L2 error_r: 1.13e-03\n",
            "mean value of lambda_bc: nan\n"
          ]
        },
        {
          "ename": "IndexError",
          "evalue": "list index out of range",
          "output_type": "error",
          "traceback": [
            "\u001b[0;31m---------------------------------------------------------------------------\u001b[0m",
            "\u001b[0;31mIndexError\u001b[0m                                Traceback (most recent call last)",
            "\u001b[0;32m/tmp/ipykernel_1536542/1146270272.py\u001b[0m in \u001b[0;36m<module>\u001b[0;34m\u001b[0m\n\u001b[1;32m     21\u001b[0m \u001b[0;34m\u001b[0m\u001b[0m\n\u001b[1;32m     22\u001b[0m \u001b[0mmodel\u001b[0m\u001b[0;34m.\u001b[0m\u001b[0mprint\u001b[0m\u001b[0;34m(\u001b[0m\u001b[0;34m'mean value of lambda_bc: {:.2e}'\u001b[0m\u001b[0;34m.\u001b[0m\u001b[0mformat\u001b[0m\u001b[0;34m(\u001b[0m\u001b[0mnp\u001b[0m\u001b[0;34m.\u001b[0m\u001b[0maverage\u001b[0m\u001b[0;34m(\u001b[0m\u001b[0mmodel\u001b[0m\u001b[0;34m.\u001b[0m\u001b[0madaptive_constant_bcs_log\u001b[0m\u001b[0;34m)\u001b[0m\u001b[0;34m)\u001b[0m\u001b[0;34m)\u001b[0m\u001b[0;34m\u001b[0m\u001b[0;34m\u001b[0m\u001b[0m\n\u001b[0;32m---> 23\u001b[0;31m \u001b[0mmodel\u001b[0m\u001b[0;34m.\u001b[0m\u001b[0mprint\u001b[0m\u001b[0;34m(\u001b[0m\u001b[0;34m'first value of lambda_bc: {:.2e}'\u001b[0m\u001b[0;34m.\u001b[0m\u001b[0mformat\u001b[0m\u001b[0;34m(\u001b[0m\u001b[0mmodel\u001b[0m\u001b[0;34m.\u001b[0m\u001b[0madaptive_constant_bcs_log\u001b[0m\u001b[0;34m[\u001b[0m\u001b[0;36m0\u001b[0m\u001b[0;34m]\u001b[0m\u001b[0;34m)\u001b[0m\u001b[0;34m)\u001b[0m\u001b[0;34m\u001b[0m\u001b[0;34m\u001b[0m\u001b[0m\n\u001b[0m\u001b[1;32m     24\u001b[0m \u001b[0mmodel\u001b[0m\u001b[0;34m.\u001b[0m\u001b[0mprint\u001b[0m\u001b[0;34m(\u001b[0m\u001b[0;34m'Relative L2 error_u: {:.2e}'\u001b[0m\u001b[0;34m.\u001b[0m\u001b[0mformat\u001b[0m\u001b[0;34m(\u001b[0m\u001b[0merror_u\u001b[0m\u001b[0;34m)\u001b[0m\u001b[0;34m)\u001b[0m\u001b[0;34m\u001b[0m\u001b[0;34m\u001b[0m\u001b[0m\n\u001b[1;32m     25\u001b[0m \u001b[0mmodel\u001b[0m\u001b[0;34m.\u001b[0m\u001b[0mprint\u001b[0m\u001b[0;34m(\u001b[0m\u001b[0;34m'Relative L2 error_v: {:.2e}'\u001b[0m\u001b[0;34m.\u001b[0m\u001b[0mformat\u001b[0m\u001b[0;34m(\u001b[0m\u001b[0merror_r\u001b[0m\u001b[0;34m)\u001b[0m\u001b[0;34m)\u001b[0m\u001b[0;34m\u001b[0m\u001b[0;34m\u001b[0m\u001b[0m\n",
            "\u001b[0;31mIndexError\u001b[0m: list index out of range"
          ]
        }
      ],
      "source": [
        "\n",
        "# Train model\n",
        "start_time = time.time()\n",
        "\n",
        "print(\"mini_batch method is used\")\n",
        "model.trainmb(nIter, mbbatch_size)\n",
        "elapsed = time.time() - start_time\n",
        "\n",
        "# Predictions\n",
        "u_pred = model.predict_u(X_star)\n",
        "r_pred = model.predict_r(X_star)\n",
        "# Predictions\n",
        "\n",
        "error_u = np.linalg.norm(u_star - u_pred, 2) / np.linalg.norm(u_star, 2)\n",
        "error_r = np.linalg.norm(r_star - r_pred, 2) / np.linalg.norm(r_star, 2)\n",
        "\n",
        "model.print('elapsed: {:.2e}'.format(elapsed))\n",
        "\n",
        "model.print('Relative L2 error_u: {:.2e}'.format(error_u))\n",
        "model.print('Relative L2 error_r: {:.2e}'.format(error_r))\n",
        "\n",
        "\n",
        "model.print('mean value of lambda_bc: {:.2e}'.format(np.average(model.adaptive_constant_bcs_log)))\n",
        "model.print('first value of lambda_bc: {:.2e}'.format(model.adaptive_constant_bcs_log[0]))\n",
        "model.print('Relative L2 error_u: {:.2e}'.format(error_u))\n",
        "model.print('Relative L2 error_v: {:.2e}'.format(error_r))\n",
        "\n",
        "model.save_NN()\n",
        "model.plot_grad()\n",
        "model.plot_lambda()\n",
        "model.plt_prediction( X_star , u_star , u_pred)\n",
        "# sess.close()  \n",
        "    "
      ]
    },
    {
      "cell_type": "code",
      "execution_count": null,
      "metadata": {
        "id": "MYbzkhfMjJ8k"
      },
      "outputs": [],
      "source": [
        "Relative L2 error_u: 5.63e-02\n",
        "Relative L2 error_v: 4.55e-02"
      ]
    }
  ],
  "metadata": {
    "accelerator": "GPU",
    "colab": {
      "name": "PINNsNTK_Poisson.ipynb",
      "provenance": []
    },
    "kernelspec": {
      "display_name": "Python 3",
      "name": "python3"
    },
    "language_info": {
      "codemirror_mode": {
        "name": "ipython",
        "version": 3
      },
      "file_extension": ".py",
      "mimetype": "text/x-python",
      "name": "python",
      "nbconvert_exporter": "python",
      "pygments_lexer": "ipython3",
      "version": "3.7.12"
    }
  },
  "nbformat": 4,
  "nbformat_minor": 0
}
