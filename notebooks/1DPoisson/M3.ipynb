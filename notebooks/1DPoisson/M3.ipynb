{
  "cells": [
    {
      "cell_type": "code",
      "execution_count": 1,
      "metadata": {
        "id": "7WkCgnRiYQSY"
      },
      "outputs": [
        {
          "name": "stdout",
          "output_type": "stream",
          "text": [
            "src_path= /home/vlq26735/code/PhD/GradientPathologiesPINNs\n"
          ]
        }
      ],
      "source": [
        "%load_ext autoreload\n",
        "%autoreload 2\n",
        "\n",
        "import os\n",
        "\n",
        "\n",
        "import sys\n",
        "\n",
        "import scipy\n",
        "import scipy.io\n",
        "import time\n",
        "\n",
        "import os.path\n",
        "import warnings\n",
        "warnings.filterwarnings('ignore')\n",
        "os.environ[\"KMP_WARNINGS\"] = \"FALSE\"\n",
        "\n",
        "\n",
        "import tensorflow as tf\n",
        "import numpy as np\n",
        "from scipy.interpolate import griddata\n",
        "import matplotlib.pyplot as plt\n",
        "\n",
        "CHECKPOINT_PATH = \"/home/vlq26735/code/PhD/GradientPathologiesPINNs/checkpoints/1DPoisson/\"\n",
        "MODE = \"M3\"\n",
        "\n",
        "src_path = os.path.abspath(os.path.join('../../'))\n",
        "print(f\"src_path= {src_path}\")\n",
        "\n",
        "if src_path not in sys.path:\n",
        "    sys.path.insert(0, src_path)\n",
        "\n",
        "\n",
        "from src.cases.Poisson import M3\n",
        "\n"
      ]
    },
    {
      "cell_type": "code",
      "execution_count": 2,
      "metadata": {
        "id": "-y7cHTcJfBTR"
      },
      "outputs": [],
      "source": [
        "class Sampler:\n",
        "    # Initialize the class\n",
        "    def __init__(self, dim, coords, func, name=None):\n",
        "        self.dim = dim\n",
        "        self.coords = coords\n",
        "        self.func = func\n",
        "        self.name = name\n",
        "\n",
        "    def sample(self, N):\n",
        "        x = self.coords[0:1, :] + (self.coords[1:2, :] - self.coords[0:1, :]) * np.random.rand(N, self.dim)\n",
        "        y = self.func(x)\n",
        "        return x, y"
      ]
    },
    {
      "cell_type": "code",
      "execution_count": null,
      "metadata": {},
      "outputs": [],
      "source": []
    },
    {
      "cell_type": "code",
      "execution_count": 3,
      "metadata": {
        "id": "FN1jEdRwY90i"
      },
      "outputs": [],
      "source": [
        "# Define solution and its Laplace\n",
        "a = 4\n",
        "\n",
        "def u(x, a):\n",
        "  return np.sin(np.pi * a * x)\n",
        "\n",
        "def u_xx(x, a):\n",
        "  return -(np.pi * a)**2 * np.sin(np.pi * a * x)"
      ]
    },
    {
      "cell_type": "code",
      "execution_count": 4,
      "metadata": {},
      "outputs": [
        {
          "name": "stdout",
          "output_type": "stream",
          "text": [
            "WARNING:tensorflow:From /tmp/ipykernel_1488904/1550305585.py:43: The name tf.GPUOptions is deprecated. Please use tf.compat.v1.GPUOptions instead.\n",
            "\n",
            "WARNING:tensorflow:From /tmp/ipykernel_1488904/1550305585.py:44: The name tf.reset_default_graph is deprecated. Please use tf.compat.v1.reset_default_graph instead.\n",
            "\n",
            "WARNING:tensorflow:From /tmp/ipykernel_1488904/1550305585.py:45: The name tf.Session is deprecated. Please use tf.compat.v1.Session instead.\n",
            "\n",
            "WARNING:tensorflow:From /tmp/ipykernel_1488904/1550305585.py:45: The name tf.ConfigProto is deprecated. Please use tf.compat.v1.ConfigProto instead.\n",
            "\n"
          ]
        },
        {
          "name": "stderr",
          "output_type": "stream",
          "text": [
            "2024-02-27 16:37:53.602215: I tensorflow/core/platform/cpu_feature_guard.cc:145] This TensorFlow binary is optimized with Intel(R) MKL-DNN to use the following CPU instructions in performance critical operations:  SSE4.1 SSE4.2 AVX AVX2 FMA\n",
            "To enable them in non-MKL-DNN operations, rebuild TensorFlow with the appropriate compiler flags.\n",
            "2024-02-27 16:37:53.675023: I tensorflow/core/platform/profile_utils/cpu_utils.cc:94] CPU Frequency: 2445400000 Hz\n",
            "2024-02-27 16:37:53.675330: I tensorflow/compiler/xla/service/service.cc:168] XLA service 0x55eb23203ff0 initialized for platform Host (this does not guarantee that XLA will be used). Devices:\n",
            "2024-02-27 16:37:53.675355: I tensorflow/compiler/xla/service/service.cc:176]   StreamExecutor device (0): Host, Default Version\n",
            "2024-02-27 16:37:53.675538: I tensorflow/core/common_runtime/process_util.cc:115] Creating new thread pool with default inter op setting: 2. Tune using inter_op_parallelism_threads for best performance.\n"
          ]
        },
        {
          "name": "stdout",
          "output_type": "stream",
          "text": [
            "WARNING:tensorflow:From /home/vlq26735/code/PhD/GradientPathologiesPINNs/src/cases/Poisson/M3.py:47: The name tf.placeholder is deprecated. Please use tf.compat.v1.placeholder instead.\n",
            "\n",
            "WARNING:tensorflow:From /home/vlq26735/code/PhD/GradientPathologiesPINNs/src/cases/Poisson/M3.py:153: The name tf.log is deprecated. Please use tf.math.log instead.\n",
            "\n",
            "WARNING:tensorflow:From /home/vlq26735/code/PhD/GradientPathologiesPINNs/src/cases/Poisson/M3.py:85: The name tf.train.exponential_decay is deprecated. Please use tf.compat.v1.train.exponential_decay instead.\n",
            "\n",
            "WARNING:tensorflow:From /home/vlq26735/code/PhD/GradientPathologiesPINNs/src/cases/Poisson/M3.py:90: The name tf.train.AdamOptimizer is deprecated. Please use tf.compat.v1.train.AdamOptimizer instead.\n",
            "\n",
            "WARNING:tensorflow:From /home/vlq26735/code/PhD/GradientPathologiesPINNs/src/cases/Poisson/M3.py:148: The name tf.global_variables_initializer is deprecated. Please use tf.compat.v1.global_variables_initializer instead.\n",
            "\n",
            "mini_batch method is used\n"
          ]
        },
        {
          "name": "stderr",
          "output_type": "stream",
          "text": [
            "It: 0, Loss: 9.516e+00, Loss_bcs: 1.386e-01, Loss_res: 9.377e+00 ,Time: 14.75\n",
            "mean_grad_bcs: 9.8384e-02\n",
            "mean_grad_res: 1.1551e-02\n",
            "self.lam_bc: 1.1174e+00\n",
            "self.lam_res : 9.5174e+00\n",
            "Gradients information stored ...\n",
            "It: 100, Loss: 9.140e+00, Loss_bcs: 1.286e-04, Loss_res: 9.140e+00 ,Time: 0.13\n",
            "Gradients information stored ...\n",
            "It: 200, Loss: 8.800e+00, Loss_bcs: 2.463e-04, Loss_res: 8.799e+00 ,Time: 0.13\n",
            "It: 300, Loss: 8.371e+00, Loss_bcs: 7.828e-04, Loss_res: 8.371e+00 ,Time: 0.03\n",
            "It: 400, Loss: 7.916e+00, Loss_bcs: 2.154e-03, Loss_res: 7.913e+00 ,Time: 0.07\n",
            "It: 500, Loss: 7.426e+00, Loss_bcs: 4.606e-03, Loss_res: 7.421e+00 ,Time: 0.04\n",
            "It: 600, Loss: 6.686e+00, Loss_bcs: 1.012e-02, Loss_res: 6.676e+00 ,Time: 0.03\n",
            "It: 700, Loss: 5.119e+00, Loss_bcs: 2.442e-02, Loss_res: 5.095e+00 ,Time: 0.02\n",
            "It: 800, Loss: 3.380e+00, Loss_bcs: 8.888e-03, Loss_res: 3.371e+00 ,Time: 0.02\n",
            "It: 900, Loss: 2.426e+00, Loss_bcs: 1.820e-02, Loss_res: 2.408e+00 ,Time: 0.03\n",
            "It: 1000, Loss: 1.526e+00, Loss_bcs: 2.114e-02, Loss_res: 1.505e+00 ,Time: 0.10\n",
            "mean_grad_bcs: 6.0387e-02\n",
            "mean_grad_res: 8.3112e-02\n",
            "self.lam_bc: 1.1174e+00\n",
            "self.lam_res : 9.5174e+00\n",
            "Gradients information stored ...\n",
            "It: 1100, Loss: 8.806e-01, Loss_bcs: 1.750e-02, Loss_res: 8.631e-01 ,Time: 0.13\n",
            "It: 1200, Loss: 5.102e-01, Loss_bcs: 1.063e-02, Loss_res: 4.995e-01 ,Time: 0.13\n",
            "It: 1300, Loss: 3.209e-01, Loss_bcs: 6.327e-03, Loss_res: 3.146e-01 ,Time: 0.04\n",
            "It: 1400, Loss: 2.235e-01, Loss_bcs: 3.565e-03, Loss_res: 2.199e-01 ,Time: 0.03\n",
            "It: 1500, Loss: 1.688e-01, Loss_bcs: 2.221e-03, Loss_res: 1.666e-01 ,Time: 0.06\n",
            "It: 1600, Loss: 1.331e-01, Loss_bcs: 1.501e-03, Loss_res: 1.316e-01 ,Time: 0.04\n",
            "It: 1700, Loss: 1.071e-01, Loss_bcs: 1.075e-03, Loss_res: 1.060e-01 ,Time: 0.09\n",
            "It: 1800, Loss: 8.911e-02, Loss_bcs: 7.880e-04, Loss_res: 8.832e-02 ,Time: 0.08\n",
            "It: 1900, Loss: 7.664e-02, Loss_bcs: 5.811e-04, Loss_res: 7.606e-02 ,Time: 0.06\n",
            "It: 2000, Loss: 6.537e-02, Loss_bcs: 4.621e-04, Loss_res: 6.491e-02 ,Time: 0.03\n",
            "mean_grad_bcs: 9.5593e-03\n",
            "mean_grad_res: 8.9911e-02\n",
            "self.lam_bc: 1.1174e+00\n",
            "self.lam_res : 9.5174e+00\n",
            "It: 2100, Loss: 5.628e-02, Loss_bcs: 3.540e-04, Loss_res: 5.592e-02 ,Time: 0.07\n",
            "It: 2200, Loss: 5.053e-02, Loss_bcs: 2.733e-04, Loss_res: 5.026e-02 ,Time: 0.10\n",
            "It: 2300, Loss: 4.371e-02, Loss_bcs: 2.178e-04, Loss_res: 4.350e-02 ,Time: 0.06\n",
            "It: 2400, Loss: 3.895e-02, Loss_bcs: 1.722e-04, Loss_res: 3.878e-02 ,Time: 0.04\n",
            "It: 2500, Loss: 3.536e-02, Loss_bcs: 1.389e-04, Loss_res: 3.522e-02 ,Time: 0.03\n",
            "It: 2600, Loss: 3.190e-02, Loss_bcs: 1.131e-04, Loss_res: 3.178e-02 ,Time: 0.08\n",
            "It: 2700, Loss: 2.877e-02, Loss_bcs: 9.417e-05, Loss_res: 2.867e-02 ,Time: 0.05\n",
            "It: 2800, Loss: 2.624e-02, Loss_bcs: 8.154e-05, Loss_res: 2.616e-02 ,Time: 0.03\n",
            "It: 2900, Loss: 2.406e-02, Loss_bcs: 7.033e-05, Loss_res: 2.399e-02 ,Time: 0.05\n",
            "It: 3000, Loss: 2.213e-02, Loss_bcs: 6.187e-05, Loss_res: 2.207e-02 ,Time: 0.03\n",
            "mean_grad_bcs: 3.5668e-03\n",
            "mean_grad_res: 1.3677e-02\n",
            "self.lam_bc: 1.1174e+00\n",
            "self.lam_res : 9.5174e+00\n",
            "It: 3100, Loss: 2.042e-02, Loss_bcs: 5.412e-05, Loss_res: 2.036e-02 ,Time: 0.03\n",
            "It: 3200, Loss: 1.893e-02, Loss_bcs: 4.697e-05, Loss_res: 1.889e-02 ,Time: 0.07\n",
            "It: 3300, Loss: 1.753e-02, Loss_bcs: 4.244e-05, Loss_res: 1.749e-02 ,Time: 0.10\n",
            "It: 3400, Loss: 1.631e-02, Loss_bcs: 3.767e-05, Loss_res: 1.627e-02 ,Time: 0.10\n",
            "It: 3500, Loss: 1.523e-02, Loss_bcs: 3.338e-05, Loss_res: 1.520e-02 ,Time: 0.04\n",
            "It: 3600, Loss: 1.451e-02, Loss_bcs: 2.789e-05, Loss_res: 1.448e-02 ,Time: 0.07\n",
            "It: 3700, Loss: 1.332e-02, Loss_bcs: 2.658e-05, Loss_res: 1.330e-02 ,Time: 0.05\n",
            "It: 3800, Loss: 1.250e-02, Loss_bcs: 2.384e-05, Loss_res: 1.247e-02 ,Time: 0.04\n",
            "It: 3900, Loss: 1.209e-02, Loss_bcs: 2.217e-05, Loss_res: 1.207e-02 ,Time: 0.04\n",
            "It: 4000, Loss: 1.108e-02, Loss_bcs: 1.943e-05, Loss_res: 1.106e-02 ,Time: 0.05\n",
            "mean_grad_bcs: 1.9703e-03\n",
            "mean_grad_res: 1.1699e-02\n",
            "self.lam_bc: 1.1174e+00\n",
            "self.lam_res : 9.5174e+00\n",
            "It: 4100, Loss: 1.045e-02, Loss_bcs: 1.740e-05, Loss_res: 1.043e-02 ,Time: 0.15\n"
          ]
        },
        {
          "ename": "KeyboardInterrupt",
          "evalue": "",
          "output_type": "error",
          "traceback": [
            "\u001b[0;31m---------------------------------------------------------------------------\u001b[0m",
            "\u001b[0;31mKeyboardInterrupt\u001b[0m                         Traceback (most recent call last)",
            "\u001b[0;32m/tmp/ipykernel_1488904/1550305585.py\u001b[0m in \u001b[0;36m<module>\u001b[0;34m\u001b[0m\n\u001b[1;32m     52\u001b[0m \u001b[0;34m\u001b[0m\u001b[0m\n\u001b[1;32m     53\u001b[0m \u001b[0mprint\u001b[0m\u001b[0;34m(\u001b[0m\u001b[0;34m\"mini_batch method is used\"\u001b[0m\u001b[0;34m)\u001b[0m\u001b[0;34m\u001b[0m\u001b[0;34m\u001b[0m\u001b[0m\n\u001b[0;32m---> 54\u001b[0;31m \u001b[0mmodel\u001b[0m\u001b[0;34m.\u001b[0m\u001b[0mtrainmb\u001b[0m\u001b[0;34m(\u001b[0m\u001b[0mnIter\u001b[0m\u001b[0;34m,\u001b[0m \u001b[0mmbbatch_size\u001b[0m\u001b[0;34m)\u001b[0m\u001b[0;34m\u001b[0m\u001b[0;34m\u001b[0m\u001b[0m\n\u001b[0m\u001b[1;32m     55\u001b[0m \u001b[0melapsed\u001b[0m \u001b[0;34m=\u001b[0m \u001b[0mtime\u001b[0m\u001b[0;34m.\u001b[0m\u001b[0mtime\u001b[0m\u001b[0;34m(\u001b[0m\u001b[0;34m)\u001b[0m \u001b[0;34m-\u001b[0m \u001b[0mstart_time\u001b[0m\u001b[0;34m\u001b[0m\u001b[0;34m\u001b[0m\u001b[0m\n\u001b[1;32m     56\u001b[0m \u001b[0;34m\u001b[0m\u001b[0m\n",
            "\u001b[0;32m~/code/PhD/GradientPathologiesPINNs/src/cases/Poisson/M3.py\u001b[0m in \u001b[0;36mtrainmb\u001b[0;34m(self, nIter, batch_size, log_NTK, log_weights)\u001b[0m\n\u001b[1;32m    236\u001b[0m \u001b[0;34m\u001b[0m\u001b[0m\n\u001b[1;32m    237\u001b[0m             \u001b[0;31m# print(self.lam_bc_tf.shape)\u001b[0m\u001b[0;34m\u001b[0m\u001b[0;34m\u001b[0m\u001b[0;34m\u001b[0m\u001b[0m\n\u001b[0;32m--> 238\u001b[0;31m             \u001b[0m_\u001b[0m\u001b[0;34m,\u001b[0m \u001b[0mbatch_losses\u001b[0m \u001b[0;34m=\u001b[0m \u001b[0mself\u001b[0m\u001b[0;34m.\u001b[0m\u001b[0msess\u001b[0m\u001b[0;34m.\u001b[0m\u001b[0mrun\u001b[0m\u001b[0;34m(\u001b[0m\u001b[0;34m[\u001b[0m\u001b[0mself\u001b[0m\u001b[0;34m.\u001b[0m\u001b[0mtrain_op\u001b[0m\u001b[0;34m,\u001b[0m \u001b[0mself\u001b[0m\u001b[0;34m.\u001b[0m\u001b[0mloss_tensor_list\u001b[0m\u001b[0;34m]\u001b[0m \u001b[0;34m,\u001b[0m\u001b[0mtf_dict\u001b[0m\u001b[0;34m)\u001b[0m\u001b[0;34m\u001b[0m\u001b[0;34m\u001b[0m\u001b[0m\n\u001b[0m\u001b[1;32m    239\u001b[0m             \u001b[0mself\u001b[0m\u001b[0;34m.\u001b[0m\u001b[0massign_batch_losses\u001b[0m\u001b[0;34m(\u001b[0m\u001b[0mbatch_losses\u001b[0m\u001b[0;34m)\u001b[0m\u001b[0;34m\u001b[0m\u001b[0;34m\u001b[0m\u001b[0m\n\u001b[1;32m    240\u001b[0m             \u001b[0;32mfor\u001b[0m \u001b[0mkey\u001b[0m \u001b[0;32min\u001b[0m \u001b[0mself\u001b[0m\u001b[0;34m.\u001b[0m\u001b[0mloss_history\u001b[0m\u001b[0;34m:\u001b[0m\u001b[0;34m\u001b[0m\u001b[0;34m\u001b[0m\u001b[0m\n",
            "\u001b[0;32m~/miniconda3/envs/afrah-pinn/lib/python3.7/site-packages/tensorflow_core/python/client/session.py\u001b[0m in \u001b[0;36mrun\u001b[0;34m(self, fetches, feed_dict, options, run_metadata)\u001b[0m\n\u001b[1;32m    954\u001b[0m     \u001b[0;32mtry\u001b[0m\u001b[0;34m:\u001b[0m\u001b[0;34m\u001b[0m\u001b[0;34m\u001b[0m\u001b[0m\n\u001b[1;32m    955\u001b[0m       result = self._run(None, fetches, feed_dict, options_ptr,\n\u001b[0;32m--> 956\u001b[0;31m                          run_metadata_ptr)\n\u001b[0m\u001b[1;32m    957\u001b[0m       \u001b[0;32mif\u001b[0m \u001b[0mrun_metadata\u001b[0m\u001b[0;34m:\u001b[0m\u001b[0;34m\u001b[0m\u001b[0;34m\u001b[0m\u001b[0m\n\u001b[1;32m    958\u001b[0m         \u001b[0mproto_data\u001b[0m \u001b[0;34m=\u001b[0m \u001b[0mtf_session\u001b[0m\u001b[0;34m.\u001b[0m\u001b[0mTF_GetBuffer\u001b[0m\u001b[0;34m(\u001b[0m\u001b[0mrun_metadata_ptr\u001b[0m\u001b[0;34m)\u001b[0m\u001b[0;34m\u001b[0m\u001b[0;34m\u001b[0m\u001b[0m\n",
            "\u001b[0;32m~/miniconda3/envs/afrah-pinn/lib/python3.7/site-packages/tensorflow_core/python/client/session.py\u001b[0m in \u001b[0;36m_run\u001b[0;34m(self, handle, fetches, feed_dict, options, run_metadata)\u001b[0m\n\u001b[1;32m   1178\u001b[0m     \u001b[0;32mif\u001b[0m \u001b[0mfinal_fetches\u001b[0m \u001b[0;32mor\u001b[0m \u001b[0mfinal_targets\u001b[0m \u001b[0;32mor\u001b[0m \u001b[0;34m(\u001b[0m\u001b[0mhandle\u001b[0m \u001b[0;32mand\u001b[0m \u001b[0mfeed_dict_tensor\u001b[0m\u001b[0;34m)\u001b[0m\u001b[0;34m:\u001b[0m\u001b[0;34m\u001b[0m\u001b[0;34m\u001b[0m\u001b[0m\n\u001b[1;32m   1179\u001b[0m       results = self._do_run(handle, final_targets, final_fetches,\n\u001b[0;32m-> 1180\u001b[0;31m                              feed_dict_tensor, options, run_metadata)\n\u001b[0m\u001b[1;32m   1181\u001b[0m     \u001b[0;32melse\u001b[0m\u001b[0;34m:\u001b[0m\u001b[0;34m\u001b[0m\u001b[0;34m\u001b[0m\u001b[0m\n\u001b[1;32m   1182\u001b[0m       \u001b[0mresults\u001b[0m \u001b[0;34m=\u001b[0m \u001b[0;34m[\u001b[0m\u001b[0;34m]\u001b[0m\u001b[0;34m\u001b[0m\u001b[0;34m\u001b[0m\u001b[0m\n",
            "\u001b[0;32m~/miniconda3/envs/afrah-pinn/lib/python3.7/site-packages/tensorflow_core/python/client/session.py\u001b[0m in \u001b[0;36m_do_run\u001b[0;34m(self, handle, target_list, fetch_list, feed_dict, options, run_metadata)\u001b[0m\n\u001b[1;32m   1357\u001b[0m     \u001b[0;32mif\u001b[0m \u001b[0mhandle\u001b[0m \u001b[0;32mis\u001b[0m \u001b[0;32mNone\u001b[0m\u001b[0;34m:\u001b[0m\u001b[0;34m\u001b[0m\u001b[0;34m\u001b[0m\u001b[0m\n\u001b[1;32m   1358\u001b[0m       return self._do_call(_run_fn, feeds, fetches, targets, options,\n\u001b[0;32m-> 1359\u001b[0;31m                            run_metadata)\n\u001b[0m\u001b[1;32m   1360\u001b[0m     \u001b[0;32melse\u001b[0m\u001b[0;34m:\u001b[0m\u001b[0;34m\u001b[0m\u001b[0;34m\u001b[0m\u001b[0m\n\u001b[1;32m   1361\u001b[0m       \u001b[0;32mreturn\u001b[0m \u001b[0mself\u001b[0m\u001b[0;34m.\u001b[0m\u001b[0m_do_call\u001b[0m\u001b[0;34m(\u001b[0m\u001b[0m_prun_fn\u001b[0m\u001b[0;34m,\u001b[0m \u001b[0mhandle\u001b[0m\u001b[0;34m,\u001b[0m \u001b[0mfeeds\u001b[0m\u001b[0;34m,\u001b[0m \u001b[0mfetches\u001b[0m\u001b[0;34m)\u001b[0m\u001b[0;34m\u001b[0m\u001b[0;34m\u001b[0m\u001b[0m\n",
            "\u001b[0;32m~/miniconda3/envs/afrah-pinn/lib/python3.7/site-packages/tensorflow_core/python/client/session.py\u001b[0m in \u001b[0;36m_do_call\u001b[0;34m(self, fn, *args)\u001b[0m\n\u001b[1;32m   1363\u001b[0m   \u001b[0;32mdef\u001b[0m \u001b[0m_do_call\u001b[0m\u001b[0;34m(\u001b[0m\u001b[0mself\u001b[0m\u001b[0;34m,\u001b[0m \u001b[0mfn\u001b[0m\u001b[0;34m,\u001b[0m \u001b[0;34m*\u001b[0m\u001b[0margs\u001b[0m\u001b[0;34m)\u001b[0m\u001b[0;34m:\u001b[0m\u001b[0;34m\u001b[0m\u001b[0;34m\u001b[0m\u001b[0m\n\u001b[1;32m   1364\u001b[0m     \u001b[0;32mtry\u001b[0m\u001b[0;34m:\u001b[0m\u001b[0;34m\u001b[0m\u001b[0;34m\u001b[0m\u001b[0m\n\u001b[0;32m-> 1365\u001b[0;31m       \u001b[0;32mreturn\u001b[0m \u001b[0mfn\u001b[0m\u001b[0;34m(\u001b[0m\u001b[0;34m*\u001b[0m\u001b[0margs\u001b[0m\u001b[0;34m)\u001b[0m\u001b[0;34m\u001b[0m\u001b[0;34m\u001b[0m\u001b[0m\n\u001b[0m\u001b[1;32m   1366\u001b[0m     \u001b[0;32mexcept\u001b[0m \u001b[0merrors\u001b[0m\u001b[0;34m.\u001b[0m\u001b[0mOpError\u001b[0m \u001b[0;32mas\u001b[0m \u001b[0me\u001b[0m\u001b[0;34m:\u001b[0m\u001b[0;34m\u001b[0m\u001b[0;34m\u001b[0m\u001b[0m\n\u001b[1;32m   1367\u001b[0m       \u001b[0mmessage\u001b[0m \u001b[0;34m=\u001b[0m \u001b[0mcompat\u001b[0m\u001b[0;34m.\u001b[0m\u001b[0mas_text\u001b[0m\u001b[0;34m(\u001b[0m\u001b[0me\u001b[0m\u001b[0;34m.\u001b[0m\u001b[0mmessage\u001b[0m\u001b[0;34m)\u001b[0m\u001b[0;34m\u001b[0m\u001b[0;34m\u001b[0m\u001b[0m\n",
            "\u001b[0;32m~/miniconda3/envs/afrah-pinn/lib/python3.7/site-packages/tensorflow_core/python/client/session.py\u001b[0m in \u001b[0;36m_run_fn\u001b[0;34m(feed_dict, fetch_list, target_list, options, run_metadata)\u001b[0m\n\u001b[1;32m   1348\u001b[0m       \u001b[0mself\u001b[0m\u001b[0;34m.\u001b[0m\u001b[0m_extend_graph\u001b[0m\u001b[0;34m(\u001b[0m\u001b[0;34m)\u001b[0m\u001b[0;34m\u001b[0m\u001b[0;34m\u001b[0m\u001b[0m\n\u001b[1;32m   1349\u001b[0m       return self._call_tf_sessionrun(options, feed_dict, fetch_list,\n\u001b[0;32m-> 1350\u001b[0;31m                                       target_list, run_metadata)\n\u001b[0m\u001b[1;32m   1351\u001b[0m \u001b[0;34m\u001b[0m\u001b[0m\n\u001b[1;32m   1352\u001b[0m     \u001b[0;32mdef\u001b[0m \u001b[0m_prun_fn\u001b[0m\u001b[0;34m(\u001b[0m\u001b[0mhandle\u001b[0m\u001b[0;34m,\u001b[0m \u001b[0mfeed_dict\u001b[0m\u001b[0;34m,\u001b[0m \u001b[0mfetch_list\u001b[0m\u001b[0;34m)\u001b[0m\u001b[0;34m:\u001b[0m\u001b[0;34m\u001b[0m\u001b[0;34m\u001b[0m\u001b[0m\n",
            "\u001b[0;32m~/miniconda3/envs/afrah-pinn/lib/python3.7/site-packages/tensorflow_core/python/client/session.py\u001b[0m in \u001b[0;36m_call_tf_sessionrun\u001b[0;34m(self, options, feed_dict, fetch_list, target_list, run_metadata)\u001b[0m\n\u001b[1;32m   1441\u001b[0m     return tf_session.TF_SessionRun_wrapper(self._session, options, feed_dict,\n\u001b[1;32m   1442\u001b[0m                                             \u001b[0mfetch_list\u001b[0m\u001b[0;34m,\u001b[0m \u001b[0mtarget_list\u001b[0m\u001b[0;34m,\u001b[0m\u001b[0;34m\u001b[0m\u001b[0;34m\u001b[0m\u001b[0m\n\u001b[0;32m-> 1443\u001b[0;31m                                             run_metadata)\n\u001b[0m\u001b[1;32m   1444\u001b[0m \u001b[0;34m\u001b[0m\u001b[0m\n\u001b[1;32m   1445\u001b[0m   \u001b[0;32mdef\u001b[0m \u001b[0m_call_tf_sessionprun\u001b[0m\u001b[0;34m(\u001b[0m\u001b[0mself\u001b[0m\u001b[0;34m,\u001b[0m \u001b[0mhandle\u001b[0m\u001b[0;34m,\u001b[0m \u001b[0mfeed_dict\u001b[0m\u001b[0;34m,\u001b[0m \u001b[0mfetch_list\u001b[0m\u001b[0;34m)\u001b[0m\u001b[0;34m:\u001b[0m\u001b[0;34m\u001b[0m\u001b[0;34m\u001b[0m\u001b[0m\n",
            "\u001b[0;31mKeyboardInterrupt\u001b[0m: "
          ]
        }
      ],
      "source": [
        "# Define computional domain\n",
        "bc1_coords = np.array([[0.0], [0.0]])\n",
        "bc2_coords = np.array([[1.0], [1.0]])\n",
        "dom_coords = np.array([[0.0], [1.0]])\n",
        "\n",
        "# Training data on u(x) -- Dirichlet boundary conditions\n",
        "\n",
        "nn  = 100\n",
        "\n",
        "X_bc1 = dom_coords[0, 0] * np.ones((nn // 2, 1))\n",
        "X_bc2 = dom_coords[1, 0] * np.ones((nn // 2, 1))\n",
        "X_u = np.vstack([X_bc1, X_bc2])\n",
        "Y_u = u(X_u, a)\n",
        "\n",
        "X_r = np.linspace(dom_coords[0, 0], dom_coords[1, 0], nn)[:, None]\n",
        "Y_r = u_xx(X_r, a)\n",
        "\n",
        "nn = 1000\n",
        "X_star = np.linspace(dom_coords[0, 0], dom_coords[1, 0], nn)[:, None]\n",
        "u_star = u(X_star, a)\n",
        "r_star = u_xx(X_star, a)\n",
        "\n",
        "nIter =40001\n",
        "bcbatch_size = 500\n",
        "ubatch_size = 5000\n",
        "mbbatch_size = 128\n",
        "\n",
        "\n",
        "\n",
        "# Define model\n",
        "mode = 'M3'\n",
        "layers = [1, 500,500, 1]\n",
        "\n",
        "\n",
        "\n",
        "iterations = 1\n",
        "methods = [ \"mini_batch\"]\n",
        "\n",
        "result_dict =  dict((mtd, []) for mtd in methods)\n",
        "\n",
        "\n",
        "# Create residual sampler\n",
        "gpu_options = tf.GPUOptions(visible_device_list=\"0\")\n",
        "tf.reset_default_graph()\n",
        "sess = tf.Session(config=tf.ConfigProto(gpu_options=gpu_options,allow_soft_placement=False, log_device_placement=False))\n",
        "# with  as sess:\n",
        "\n",
        "model = M3.Possion_M3(layers, X_u, Y_u, X_r, Y_r , mode , CHECKPOINT_PATH , sess)    \n",
        "\n",
        "# Train model\n",
        "start_time = time.time()\n",
        "\n",
        "print(\"mini_batch method is used\")\n",
        "model.trainmb(nIter, mbbatch_size)\n",
        "elapsed = time.time() - start_time\n",
        "\n",
        "# Predictions\n",
        "u_pred = model.predict_u(X_star)\n",
        "r_pred = model.predict_r(X_star)\n",
        "# Predictions\n",
        "\n",
        "error_u = np.linalg.norm(u_star - u_pred, 2) / np.linalg.norm(u_star, 2)\n",
        "error_r = np.linalg.norm(r_star - r_pred, 2) / np.linalg.norm(r_star, 2)\n",
        "\n",
        "model.print('elapsed: {:.2e}'.format(elapsed))\n",
        "\n",
        "model.print('Relative L2 error_u: {:.2e}'.format(error_u))\n",
        "model.print('Relative L2 error_r: {:.2e}'.format(error_r))\n",
        "\n",
        "\n",
        "model.print('mean value of lambda_bc: {:.2e}'.format(np.average(model.adaptive_constant_bcs_log)))\n",
        "model.print('first value of lambda_bc: {:.2e}'.format(model.adaptive_constant_bcs_log[0]))\n",
        "model.print('Relative L2 error_u: {:.2e}'.format(error_u))\n",
        "model.print('Relative L2 error_v: {:.2e}'.format(error_r))\n",
        "model.print(\"file directory:\" , model.dirname)\n",
        "model.save_NN()\n",
        "model.plot_grad()\n",
        "model.plot_lambda()\n",
        "model.plt_prediction( X_star , u_star , u_pred)\n",
        "# sess.close()  \n",
        "    "
      ]
    },
    {
      "cell_type": "code",
      "execution_count": 5,
      "metadata": {},
      "outputs": [
        {
          "name": "stderr",
          "output_type": "stream",
          "text": [
            "elapsed: 4.55e+02\n",
            "Relative L2 error_u: 3.28e-03\n",
            "Relative L2 error_r: 7.77e-04\n",
            "mean value of lambda_bc: 1.12e+00\n",
            "first value of lambda_bc: 1.12e+00\n",
            "Relative L2 error_u: 3.28e-03\n",
            "Relative L2 error_v: 7.77e-04\n",
            "Save uv NN parameters successfully in %s .../home/vlq26735/code/PhD/GradientPathologiesPINNs/checkpoints/1DPoisson/Feb-27-2024_16-37-53-676244_M3\n",
            "Final loss total loss: 1.008243e-02\n",
            "Final loss loss_res: 1.006646e-02\n",
            "Final loss loss_bcs: 1.597392e-05\n"
          ]
        }
      ],
      "source": [
        "elapsed = time.time() - start_time\n",
        "\n",
        "# Predictions\n",
        "u_pred = model.predict_u(X_star)\n",
        "r_pred = model.predict_r(X_star)\n",
        "# Predictions\n",
        "\n",
        "error_u = np.linalg.norm(u_star - u_pred, 2) / np.linalg.norm(u_star, 2)\n",
        "error_r = np.linalg.norm(r_star - r_pred, 2) / np.linalg.norm(r_star, 2)\n",
        "\n",
        "model.print('elapsed: {:.2e}'.format(elapsed))\n",
        "\n",
        "model.print('Relative L2 error_u: {:.2e}'.format(error_u))\n",
        "model.print('Relative L2 error_r: {:.2e}'.format(error_r))\n",
        "\n",
        "\n",
        "model.print('mean value of lambda_bc: {:.2e}'.format(np.average(model.adaptive_constant_bcs_log)))\n",
        "model.print('first value of lambda_bc: {:.2e}'.format(model.adaptive_constant_bcs_log[0]))\n",
        "model.print('Relative L2 error_u: {:.2e}'.format(error_u))\n",
        "model.print('Relative L2 error_v: {:.2e}'.format(error_r))\n",
        "\n",
        "model.save_NN()\n",
        "model.plot_grad()\n",
        "model.plot_lambda()\n",
        "model.plt_prediction( X_star , u_star , u_pred)"
      ]
    },
    {
      "cell_type": "code",
      "execution_count": null,
      "metadata": {
        "id": "MYbzkhfMjJ8k"
      },
      "outputs": [],
      "source": [
        "Relative L2 error_u: 5.63e-02\n",
        "Relative L2 error_v: 4.55e-02"
      ]
    }
  ],
  "metadata": {
    "accelerator": "GPU",
    "colab": {
      "name": "PINNsNTK_Poisson.ipynb",
      "provenance": []
    },
    "kernelspec": {
      "display_name": "Python 3",
      "name": "python3"
    },
    "language_info": {
      "codemirror_mode": {
        "name": "ipython",
        "version": 3
      },
      "file_extension": ".py",
      "mimetype": "text/x-python",
      "name": "python",
      "nbconvert_exporter": "python",
      "pygments_lexer": "ipython3",
      "version": "3.7.0"
    }
  },
  "nbformat": 4,
  "nbformat_minor": 0
}
